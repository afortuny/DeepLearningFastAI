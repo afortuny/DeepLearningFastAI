{
  "cells": [
    {
      "cell_type": "markdown",
      "metadata": {
        "id": "view-in-github",
        "colab_type": "text"
      },
      "source": [
        "<a href=\"https://colab.research.google.com/github/afortuny/DeepLearningFastAI/blob/main/16_Training_Process.ipynb\" target=\"_parent\"><img src=\"https://colab.research.google.com/assets/colab-badge.svg\" alt=\"Open In Colab\"/></a>"
      ]
    },
    {
      "cell_type": "code",
      "execution_count": null,
      "metadata": {
        "id": "zQFod78-ygRC"
      },
      "outputs": [],
      "source": [
        "#hide\n",
        "! [ -e /content ] && pip install -Uqq fastbook\n",
        "import fastbook\n",
        "fastbook.setup_book()"
      ]
    },
    {
      "cell_type": "code",
      "execution_count": null,
      "metadata": {
        "id": "5biX3fM1_TCr"
      },
      "outputs": [],
      "source": [
        "#hide\n",
        "from fastbook import *"
      ]
    },
    {
      "cell_type": "markdown",
      "metadata": {
        "id": "7GHL9GDX_bpX"
      },
      "source": [
        "# The Training Process"
      ]
    },
    {
      "cell_type": "markdown",
      "metadata": {
        "id": "6xMLtLxW_fBX"
      },
      "source": [
        "The basis of stochastic gradient descent: pass a mini-batch to the model, compare it to our target with the loss function, then compute the gradients of this loss function with regard to each weight before updating the weights with the formula:\n",
        "\n",
        " ***new_weight = weight - lr * weight.grad***\n",
        "\n",
        "\n",
        "PyTorch provides a simple nn.SGD class that does this calculation for each parameter for us. In this chapter we will build some faster optimizers, using a flexible foundation. But that's not all we might want to change in the training process. For any tweak of the training loop, we will need a way to add some code to the basis of SGD. The fastai library has a system of callbacks to do this, and we will teach you all about it.\n",
        "\n",
        "Let's start with standard SGD to get a baseline, then we will introduce the most commonly used optimizers."
      ]
    },
    {
      "cell_type": "markdown",
      "metadata": {
        "id": "pfK9sREfAFFr"
      },
      "source": [
        "# Establishing a Baseline"
      ]
    },
    {
      "cell_type": "markdown",
      "metadata": {
        "id": "plcb6aRsAMW6"
      },
      "source": [
        "First, we'll create a baseline, using plain SGD, and compare it to fastai's default optimizer. We'll start by grabbing ImageWoof with the same get_data"
      ]
    },
    {
      "cell_type": "code",
      "execution_count": null,
      "metadata": {
        "id": "AW4GLMv3AQ0W"
      },
      "outputs": [],
      "source": [
        "def get_data(url, presize, resize):\n",
        "    path = untar_data(url)\n",
        "    return DataBlock(\n",
        "        blocks=(ImageBlock, CategoryBlock), get_items=get_image_files, \n",
        "        splitter=GrandparentSplitter(valid_name='val'),\n",
        "        get_y=parent_label, item_tfms=Resize(presize),\n",
        "        batch_tfms=[*aug_transforms(min_scale=0.5, size=resize),\n",
        "                    Normalize.from_stats(*imagenet_stats)],\n",
        "    ).dataloaders(path, bs=128)"
      ]
    },
    {
      "cell_type": "code",
      "execution_count": null,
      "metadata": {
        "id": "OYEnh9amAQ24"
      },
      "outputs": [],
      "source": [
        "dls = get_data(URLs.IMAGENETTE_160, 160, 128)"
      ]
    },
    {
      "cell_type": "markdown",
      "metadata": {
        "id": "YBLq4-QuAVdy"
      },
      "source": [
        "We'll create a ResNet-34 without pretraining, and pass along any arguments received:"
      ]
    },
    {
      "cell_type": "code",
      "execution_count": null,
      "metadata": {
        "id": "R9RYrXyxAYX3"
      },
      "outputs": [],
      "source": [
        "def get_learner(**kwargs):\n",
        "    return vision_learner(dls, resnet34, pretrained=False,\n",
        "                    metrics=accuracy, **kwargs).to_fp16()"
      ]
    },
    {
      "cell_type": "code",
      "execution_count": null,
      "metadata": {
        "id": "DjuuYU7WAzRW"
      },
      "outputs": [],
      "source": [
        "learn = get_learner(opt_func=SGD)"
      ]
    },
    {
      "cell_type": "code",
      "source": [
        "learn.lr_find()"
      ],
      "metadata": {
        "id": "MJaF7ZEaTJcs"
      },
      "execution_count": null,
      "outputs": []
    },
    {
      "cell_type": "code",
      "execution_count": 49,
      "metadata": {
        "colab": {
          "base_uri": "https://localhost:8080/",
          "height": 1000
        },
        "id": "iLA98yzwBpy-",
        "outputId": "2177f270-9e4b-40f4-c1af-9419af95d1f7"
      },
      "outputs": [
        {
          "data": {
            "text/html": [
              "\n",
              "<style>\n",
              "    /* Turns off some styling */\n",
              "    progress {\n",
              "        /* gets rid of default border in Firefox and Opera. */\n",
              "        border: none;\n",
              "        /* Needs to be in here for Safari polyfill so background images work as expected. */\n",
              "        background-size: auto;\n",
              "    }\n",
              "    progress:not([value]), progress:not([value])::-webkit-progress-bar {\n",
              "        background: repeating-linear-gradient(45deg, #7e7e7e, #7e7e7e 10px, #5c5c5c 10px, #5c5c5c 20px);\n",
              "    }\n",
              "    .progress-bar-interrupted, .progress-bar-interrupted::-webkit-progress-bar {\n",
              "        background: #F44336;\n",
              "    }\n",
              "</style>\n"
            ],
            "text/plain": [
              "<IPython.core.display.HTML object>"
            ]
          },
          "metadata": {},
          "output_type": "display_data"
        },
        {
          "data": {
            "text/html": [
              "\n",
              "    <div>\n",
              "      <progress value='32' class='' max='100' style='width:300px; height:20px; vertical-align: middle;'></progress>\n",
              "      32.00% [32/100 04:48&lt;10:12]\n",
              "    </div>\n",
              "    \n",
              "<table border=\"1\" class=\"dataframe\">\n",
              "  <thead>\n",
              "    <tr style=\"text-align: left;\">\n",
              "      <th>epoch</th>\n",
              "      <th>train_loss</th>\n",
              "      <th>valid_loss</th>\n",
              "      <th>accuracy</th>\n",
              "      <th>time</th>\n",
              "    </tr>\n",
              "  </thead>\n",
              "  <tbody>\n",
              "    <tr>\n",
              "      <td>0</td>\n",
              "      <td>3.698961</td>\n",
              "      <td>3.422382</td>\n",
              "      <td>0.099262</td>\n",
              "      <td>00:09</td>\n",
              "    </tr>\n",
              "    <tr>\n",
              "      <td>1</td>\n",
              "      <td>3.660587</td>\n",
              "      <td>3.324889</td>\n",
              "      <td>0.095444</td>\n",
              "      <td>00:09</td>\n",
              "    </tr>\n",
              "    <tr>\n",
              "      <td>2</td>\n",
              "      <td>3.659592</td>\n",
              "      <td>3.295699</td>\n",
              "      <td>0.094681</td>\n",
              "      <td>00:08</td>\n",
              "    </tr>\n",
              "    <tr>\n",
              "      <td>3</td>\n",
              "      <td>3.645469</td>\n",
              "      <td>3.405234</td>\n",
              "      <td>0.091117</td>\n",
              "      <td>00:09</td>\n",
              "    </tr>\n",
              "    <tr>\n",
              "      <td>4</td>\n",
              "      <td>3.613143</td>\n",
              "      <td>3.370984</td>\n",
              "      <td>0.090354</td>\n",
              "      <td>00:08</td>\n",
              "    </tr>\n",
              "    <tr>\n",
              "      <td>5</td>\n",
              "      <td>3.598566</td>\n",
              "      <td>3.307530</td>\n",
              "      <td>0.100025</td>\n",
              "      <td>00:08</td>\n",
              "    </tr>\n",
              "    <tr>\n",
              "      <td>6</td>\n",
              "      <td>3.566361</td>\n",
              "      <td>3.302493</td>\n",
              "      <td>0.101298</td>\n",
              "      <td>00:08</td>\n",
              "    </tr>\n",
              "    <tr>\n",
              "      <td>7</td>\n",
              "      <td>3.566561</td>\n",
              "      <td>3.123950</td>\n",
              "      <td>0.102571</td>\n",
              "      <td>00:08</td>\n",
              "    </tr>\n",
              "    <tr>\n",
              "      <td>8</td>\n",
              "      <td>3.558650</td>\n",
              "      <td>3.216032</td>\n",
              "      <td>0.097989</td>\n",
              "      <td>00:08</td>\n",
              "    </tr>\n",
              "    <tr>\n",
              "      <td>9</td>\n",
              "      <td>3.562200</td>\n",
              "      <td>3.122907</td>\n",
              "      <td>0.104607</td>\n",
              "      <td>00:08</td>\n",
              "    </tr>\n",
              "    <tr>\n",
              "      <td>10</td>\n",
              "      <td>3.533054</td>\n",
              "      <td>3.132758</td>\n",
              "      <td>0.096208</td>\n",
              "      <td>00:09</td>\n",
              "    </tr>\n",
              "    <tr>\n",
              "      <td>11</td>\n",
              "      <td>3.545253</td>\n",
              "      <td>3.170111</td>\n",
              "      <td>0.097989</td>\n",
              "      <td>00:09</td>\n",
              "    </tr>\n",
              "    <tr>\n",
              "      <td>12</td>\n",
              "      <td>3.497223</td>\n",
              "      <td>3.108251</td>\n",
              "      <td>0.095699</td>\n",
              "      <td>00:08</td>\n",
              "    </tr>\n",
              "    <tr>\n",
              "      <td>13</td>\n",
              "      <td>3.493236</td>\n",
              "      <td>3.025412</td>\n",
              "      <td>0.098753</td>\n",
              "      <td>00:09</td>\n",
              "    </tr>\n",
              "    <tr>\n",
              "      <td>14</td>\n",
              "      <td>3.475673</td>\n",
              "      <td>3.064224</td>\n",
              "      <td>0.093408</td>\n",
              "      <td>00:08</td>\n",
              "    </tr>\n",
              "    <tr>\n",
              "      <td>15</td>\n",
              "      <td>3.524013</td>\n",
              "      <td>3.108974</td>\n",
              "      <td>0.105116</td>\n",
              "      <td>00:09</td>\n",
              "    </tr>\n",
              "    <tr>\n",
              "      <td>16</td>\n",
              "      <td>3.513365</td>\n",
              "      <td>3.039308</td>\n",
              "      <td>0.110461</td>\n",
              "      <td>00:08</td>\n",
              "    </tr>\n",
              "    <tr>\n",
              "      <td>17</td>\n",
              "      <td>3.471138</td>\n",
              "      <td>3.106433</td>\n",
              "      <td>0.099771</td>\n",
              "      <td>00:08</td>\n",
              "    </tr>\n",
              "    <tr>\n",
              "      <td>18</td>\n",
              "      <td>3.431238</td>\n",
              "      <td>3.086642</td>\n",
              "      <td>0.102571</td>\n",
              "      <td>00:08</td>\n",
              "    </tr>\n",
              "    <tr>\n",
              "      <td>19</td>\n",
              "      <td>3.459200</td>\n",
              "      <td>3.091200</td>\n",
              "      <td>0.104607</td>\n",
              "      <td>00:08</td>\n",
              "    </tr>\n",
              "    <tr>\n",
              "      <td>20</td>\n",
              "      <td>3.454039</td>\n",
              "      <td>3.054155</td>\n",
              "      <td>0.106897</td>\n",
              "      <td>00:08</td>\n",
              "    </tr>\n",
              "    <tr>\n",
              "      <td>21</td>\n",
              "      <td>3.435606</td>\n",
              "      <td>3.103056</td>\n",
              "      <td>0.113006</td>\n",
              "      <td>00:09</td>\n",
              "    </tr>\n",
              "    <tr>\n",
              "      <td>22</td>\n",
              "      <td>3.420418</td>\n",
              "      <td>2.955266</td>\n",
              "      <td>0.113515</td>\n",
              "      <td>00:09</td>\n",
              "    </tr>\n",
              "    <tr>\n",
              "      <td>23</td>\n",
              "      <td>3.416322</td>\n",
              "      <td>2.992072</td>\n",
              "      <td>0.106134</td>\n",
              "      <td>00:08</td>\n",
              "    </tr>\n",
              "    <tr>\n",
              "      <td>24</td>\n",
              "      <td>3.394174</td>\n",
              "      <td>3.026527</td>\n",
              "      <td>0.106897</td>\n",
              "      <td>00:08</td>\n",
              "    </tr>\n",
              "    <tr>\n",
              "      <td>25</td>\n",
              "      <td>3.397554</td>\n",
              "      <td>2.908494</td>\n",
              "      <td>0.105116</td>\n",
              "      <td>00:09</td>\n",
              "    </tr>\n",
              "    <tr>\n",
              "      <td>26</td>\n",
              "      <td>3.398437</td>\n",
              "      <td>2.887029</td>\n",
              "      <td>0.104352</td>\n",
              "      <td>00:08</td>\n",
              "    </tr>\n",
              "    <tr>\n",
              "      <td>27</td>\n",
              "      <td>3.389637</td>\n",
              "      <td>2.932474</td>\n",
              "      <td>0.104098</td>\n",
              "      <td>00:09</td>\n",
              "    </tr>\n",
              "    <tr>\n",
              "      <td>28</td>\n",
              "      <td>3.364260</td>\n",
              "      <td>2.946986</td>\n",
              "      <td>0.106134</td>\n",
              "      <td>00:09</td>\n",
              "    </tr>\n",
              "    <tr>\n",
              "      <td>29</td>\n",
              "      <td>3.364518</td>\n",
              "      <td>3.011610</td>\n",
              "      <td>0.114533</td>\n",
              "      <td>00:08</td>\n",
              "    </tr>\n",
              "    <tr>\n",
              "      <td>30</td>\n",
              "      <td>3.349835</td>\n",
              "      <td>2.871853</td>\n",
              "      <td>0.112751</td>\n",
              "      <td>00:09</td>\n",
              "    </tr>\n",
              "    <tr>\n",
              "      <td>31</td>\n",
              "      <td>3.319875</td>\n",
              "      <td>2.868726</td>\n",
              "      <td>0.115297</td>\n",
              "      <td>00:09</td>\n",
              "    </tr>\n",
              "  </tbody>\n",
              "</table><p>\n",
              "\n",
              "    <div>\n",
              "      <progress value='0' class='' max='31' style='width:300px; height:20px; vertical-align: middle;'></progress>\n",
              "      0.00% [0/31 00:00&lt;?]\n",
              "    </div>\n",
              "    "
            ],
            "text/plain": [
              "<IPython.core.display.HTML object>"
            ]
          },
          "metadata": {},
          "output_type": "display_data"
        },
        {
          "output_type": "display_data",
          "data": {
            "text/plain": [
              "<IPython.core.display.HTML object>"
            ],
            "text/html": [
              "\n",
              "    <div>\n",
              "      <progress value='44' class='' max='100' style='width:300px; height:20px; vertical-align: middle;'></progress>\n",
              "      44.00% [44/100 06:36&lt;08:24]\n",
              "    </div>\n",
              "    \n",
              "<table border=\"1\" class=\"dataframe\">\n",
              "  <thead>\n",
              "    <tr style=\"text-align: left;\">\n",
              "      <th>epoch</th>\n",
              "      <th>train_loss</th>\n",
              "      <th>valid_loss</th>\n",
              "      <th>accuracy</th>\n",
              "      <th>time</th>\n",
              "    </tr>\n",
              "  </thead>\n",
              "  <tbody>\n",
              "    <tr>\n",
              "      <td>0</td>\n",
              "      <td>3.698961</td>\n",
              "      <td>3.422382</td>\n",
              "      <td>0.099262</td>\n",
              "      <td>00:09</td>\n",
              "    </tr>\n",
              "    <tr>\n",
              "      <td>1</td>\n",
              "      <td>3.660587</td>\n",
              "      <td>3.324889</td>\n",
              "      <td>0.095444</td>\n",
              "      <td>00:09</td>\n",
              "    </tr>\n",
              "    <tr>\n",
              "      <td>2</td>\n",
              "      <td>3.659592</td>\n",
              "      <td>3.295699</td>\n",
              "      <td>0.094681</td>\n",
              "      <td>00:08</td>\n",
              "    </tr>\n",
              "    <tr>\n",
              "      <td>3</td>\n",
              "      <td>3.645469</td>\n",
              "      <td>3.405234</td>\n",
              "      <td>0.091117</td>\n",
              "      <td>00:09</td>\n",
              "    </tr>\n",
              "    <tr>\n",
              "      <td>4</td>\n",
              "      <td>3.613143</td>\n",
              "      <td>3.370984</td>\n",
              "      <td>0.090354</td>\n",
              "      <td>00:08</td>\n",
              "    </tr>\n",
              "    <tr>\n",
              "      <td>5</td>\n",
              "      <td>3.598566</td>\n",
              "      <td>3.307530</td>\n",
              "      <td>0.100025</td>\n",
              "      <td>00:08</td>\n",
              "    </tr>\n",
              "    <tr>\n",
              "      <td>6</td>\n",
              "      <td>3.566361</td>\n",
              "      <td>3.302493</td>\n",
              "      <td>0.101298</td>\n",
              "      <td>00:08</td>\n",
              "    </tr>\n",
              "    <tr>\n",
              "      <td>7</td>\n",
              "      <td>3.566561</td>\n",
              "      <td>3.123950</td>\n",
              "      <td>0.102571</td>\n",
              "      <td>00:08</td>\n",
              "    </tr>\n",
              "    <tr>\n",
              "      <td>8</td>\n",
              "      <td>3.558650</td>\n",
              "      <td>3.216032</td>\n",
              "      <td>0.097989</td>\n",
              "      <td>00:08</td>\n",
              "    </tr>\n",
              "    <tr>\n",
              "      <td>9</td>\n",
              "      <td>3.562200</td>\n",
              "      <td>3.122907</td>\n",
              "      <td>0.104607</td>\n",
              "      <td>00:08</td>\n",
              "    </tr>\n",
              "    <tr>\n",
              "      <td>10</td>\n",
              "      <td>3.533054</td>\n",
              "      <td>3.132758</td>\n",
              "      <td>0.096208</td>\n",
              "      <td>00:09</td>\n",
              "    </tr>\n",
              "    <tr>\n",
              "      <td>11</td>\n",
              "      <td>3.545253</td>\n",
              "      <td>3.170111</td>\n",
              "      <td>0.097989</td>\n",
              "      <td>00:09</td>\n",
              "    </tr>\n",
              "    <tr>\n",
              "      <td>12</td>\n",
              "      <td>3.497223</td>\n",
              "      <td>3.108251</td>\n",
              "      <td>0.095699</td>\n",
              "      <td>00:08</td>\n",
              "    </tr>\n",
              "    <tr>\n",
              "      <td>13</td>\n",
              "      <td>3.493236</td>\n",
              "      <td>3.025412</td>\n",
              "      <td>0.098753</td>\n",
              "      <td>00:09</td>\n",
              "    </tr>\n",
              "    <tr>\n",
              "      <td>14</td>\n",
              "      <td>3.475673</td>\n",
              "      <td>3.064224</td>\n",
              "      <td>0.093408</td>\n",
              "      <td>00:08</td>\n",
              "    </tr>\n",
              "    <tr>\n",
              "      <td>15</td>\n",
              "      <td>3.524013</td>\n",
              "      <td>3.108974</td>\n",
              "      <td>0.105116</td>\n",
              "      <td>00:09</td>\n",
              "    </tr>\n",
              "    <tr>\n",
              "      <td>16</td>\n",
              "      <td>3.513365</td>\n",
              "      <td>3.039308</td>\n",
              "      <td>0.110461</td>\n",
              "      <td>00:08</td>\n",
              "    </tr>\n",
              "    <tr>\n",
              "      <td>17</td>\n",
              "      <td>3.471138</td>\n",
              "      <td>3.106433</td>\n",
              "      <td>0.099771</td>\n",
              "      <td>00:08</td>\n",
              "    </tr>\n",
              "    <tr>\n",
              "      <td>18</td>\n",
              "      <td>3.431238</td>\n",
              "      <td>3.086642</td>\n",
              "      <td>0.102571</td>\n",
              "      <td>00:08</td>\n",
              "    </tr>\n",
              "    <tr>\n",
              "      <td>19</td>\n",
              "      <td>3.459200</td>\n",
              "      <td>3.091200</td>\n",
              "      <td>0.104607</td>\n",
              "      <td>00:08</td>\n",
              "    </tr>\n",
              "    <tr>\n",
              "      <td>20</td>\n",
              "      <td>3.454039</td>\n",
              "      <td>3.054155</td>\n",
              "      <td>0.106897</td>\n",
              "      <td>00:08</td>\n",
              "    </tr>\n",
              "    <tr>\n",
              "      <td>21</td>\n",
              "      <td>3.435606</td>\n",
              "      <td>3.103056</td>\n",
              "      <td>0.113006</td>\n",
              "      <td>00:09</td>\n",
              "    </tr>\n",
              "    <tr>\n",
              "      <td>22</td>\n",
              "      <td>3.420418</td>\n",
              "      <td>2.955266</td>\n",
              "      <td>0.113515</td>\n",
              "      <td>00:09</td>\n",
              "    </tr>\n",
              "    <tr>\n",
              "      <td>23</td>\n",
              "      <td>3.416322</td>\n",
              "      <td>2.992072</td>\n",
              "      <td>0.106134</td>\n",
              "      <td>00:08</td>\n",
              "    </tr>\n",
              "    <tr>\n",
              "      <td>24</td>\n",
              "      <td>3.394174</td>\n",
              "      <td>3.026527</td>\n",
              "      <td>0.106897</td>\n",
              "      <td>00:08</td>\n",
              "    </tr>\n",
              "    <tr>\n",
              "      <td>25</td>\n",
              "      <td>3.397554</td>\n",
              "      <td>2.908494</td>\n",
              "      <td>0.105116</td>\n",
              "      <td>00:09</td>\n",
              "    </tr>\n",
              "    <tr>\n",
              "      <td>26</td>\n",
              "      <td>3.398437</td>\n",
              "      <td>2.887029</td>\n",
              "      <td>0.104352</td>\n",
              "      <td>00:08</td>\n",
              "    </tr>\n",
              "    <tr>\n",
              "      <td>27</td>\n",
              "      <td>3.389637</td>\n",
              "      <td>2.932474</td>\n",
              "      <td>0.104098</td>\n",
              "      <td>00:09</td>\n",
              "    </tr>\n",
              "    <tr>\n",
              "      <td>28</td>\n",
              "      <td>3.364260</td>\n",
              "      <td>2.946986</td>\n",
              "      <td>0.106134</td>\n",
              "      <td>00:09</td>\n",
              "    </tr>\n",
              "    <tr>\n",
              "      <td>29</td>\n",
              "      <td>3.364518</td>\n",
              "      <td>3.011610</td>\n",
              "      <td>0.114533</td>\n",
              "      <td>00:08</td>\n",
              "    </tr>\n",
              "    <tr>\n",
              "      <td>30</td>\n",
              "      <td>3.349835</td>\n",
              "      <td>2.871853</td>\n",
              "      <td>0.112751</td>\n",
              "      <td>00:09</td>\n",
              "    </tr>\n",
              "    <tr>\n",
              "      <td>31</td>\n",
              "      <td>3.319875</td>\n",
              "      <td>2.868726</td>\n",
              "      <td>0.115297</td>\n",
              "      <td>00:09</td>\n",
              "    </tr>\n",
              "    <tr>\n",
              "      <td>32</td>\n",
              "      <td>3.352396</td>\n",
              "      <td>2.879641</td>\n",
              "      <td>0.109697</td>\n",
              "      <td>00:09</td>\n",
              "    </tr>\n",
              "    <tr>\n",
              "      <td>33</td>\n",
              "      <td>3.333061</td>\n",
              "      <td>2.864378</td>\n",
              "      <td>0.111479</td>\n",
              "      <td>00:08</td>\n",
              "    </tr>\n",
              "    <tr>\n",
              "      <td>34</td>\n",
              "      <td>3.320440</td>\n",
              "      <td>2.851100</td>\n",
              "      <td>0.116824</td>\n",
              "      <td>00:09</td>\n",
              "    </tr>\n",
              "    <tr>\n",
              "      <td>35</td>\n",
              "      <td>3.289983</td>\n",
              "      <td>2.785680</td>\n",
              "      <td>0.123950</td>\n",
              "      <td>00:08</td>\n",
              "    </tr>\n",
              "    <tr>\n",
              "      <td>36</td>\n",
              "      <td>3.287149</td>\n",
              "      <td>2.828914</td>\n",
              "      <td>0.117333</td>\n",
              "      <td>00:09</td>\n",
              "    </tr>\n",
              "    <tr>\n",
              "      <td>37</td>\n",
              "      <td>3.313246</td>\n",
              "      <td>2.766370</td>\n",
              "      <td>0.112751</td>\n",
              "      <td>00:09</td>\n",
              "    </tr>\n",
              "    <tr>\n",
              "      <td>38</td>\n",
              "      <td>3.309934</td>\n",
              "      <td>2.805262</td>\n",
              "      <td>0.109188</td>\n",
              "      <td>00:08</td>\n",
              "    </tr>\n",
              "    <tr>\n",
              "      <td>39</td>\n",
              "      <td>3.306544</td>\n",
              "      <td>2.804902</td>\n",
              "      <td>0.112751</td>\n",
              "      <td>00:08</td>\n",
              "    </tr>\n",
              "    <tr>\n",
              "      <td>40</td>\n",
              "      <td>3.262573</td>\n",
              "      <td>2.837874</td>\n",
              "      <td>0.115297</td>\n",
              "      <td>00:09</td>\n",
              "    </tr>\n",
              "    <tr>\n",
              "      <td>41</td>\n",
              "      <td>3.294353</td>\n",
              "      <td>2.859952</td>\n",
              "      <td>0.115297</td>\n",
              "      <td>00:08</td>\n",
              "    </tr>\n",
              "    <tr>\n",
              "      <td>42</td>\n",
              "      <td>3.290308</td>\n",
              "      <td>2.778034</td>\n",
              "      <td>0.112751</td>\n",
              "      <td>00:09</td>\n",
              "    </tr>\n",
              "    <tr>\n",
              "      <td>43</td>\n",
              "      <td>3.257250</td>\n",
              "      <td>2.795147</td>\n",
              "      <td>0.119623</td>\n",
              "      <td>00:08</td>\n",
              "    </tr>\n",
              "  </tbody>\n",
              "</table><p>\n",
              "\n",
              "    <div>\n",
              "      <progress value='19' class='' max='70' style='width:300px; height:20px; vertical-align: middle;'></progress>\n",
              "      27.14% [19/70 00:02&lt;00:07 3.2505]\n",
              "    </div>\n",
              "    "
            ]
          },
          "metadata": {}
        },
        {
          "output_type": "error",
          "ename": "KeyboardInterrupt",
          "evalue": "ignored",
          "traceback": [
            "\u001b[0;31m---------------------------------------------------------------------------\u001b[0m",
            "\u001b[0;31mKeyboardInterrupt\u001b[0m                         Traceback (most recent call last)",
            "\u001b[0;32m<ipython-input-49-b14613890867>\u001b[0m in \u001b[0;36m<module>\u001b[0;34m\u001b[0m\n\u001b[0;32m----> 1\u001b[0;31m \u001b[0mlearn\u001b[0m\u001b[0;34m.\u001b[0m\u001b[0mfit\u001b[0m\u001b[0;34m(\u001b[0m\u001b[0;36m100\u001b[0m\u001b[0;34m,\u001b[0m \u001b[0;36m0.007\u001b[0m\u001b[0;34m)\u001b[0m\u001b[0;34m\u001b[0m\u001b[0;34m\u001b[0m\u001b[0m\n\u001b[0m",
            "\u001b[0;32m/usr/local/lib/python3.7/dist-packages/fastai/learner.py\u001b[0m in \u001b[0;36mfit\u001b[0;34m(self, n_epoch, lr, wd, cbs, reset_opt, start_epoch)\u001b[0m\n\u001b[1;32m    254\u001b[0m             \u001b[0mself\u001b[0m\u001b[0;34m.\u001b[0m\u001b[0mopt\u001b[0m\u001b[0;34m.\u001b[0m\u001b[0mset_hypers\u001b[0m\u001b[0;34m(\u001b[0m\u001b[0mlr\u001b[0m\u001b[0;34m=\u001b[0m\u001b[0mself\u001b[0m\u001b[0;34m.\u001b[0m\u001b[0mlr\u001b[0m \u001b[0;32mif\u001b[0m \u001b[0mlr\u001b[0m \u001b[0;32mis\u001b[0m \u001b[0;32mNone\u001b[0m \u001b[0;32melse\u001b[0m \u001b[0mlr\u001b[0m\u001b[0;34m)\u001b[0m\u001b[0;34m\u001b[0m\u001b[0;34m\u001b[0m\u001b[0m\n\u001b[1;32m    255\u001b[0m             \u001b[0mself\u001b[0m\u001b[0;34m.\u001b[0m\u001b[0mn_epoch\u001b[0m \u001b[0;34m=\u001b[0m \u001b[0mn_epoch\u001b[0m\u001b[0;34m\u001b[0m\u001b[0;34m\u001b[0m\u001b[0m\n\u001b[0;32m--> 256\u001b[0;31m             \u001b[0mself\u001b[0m\u001b[0;34m.\u001b[0m\u001b[0m_with_events\u001b[0m\u001b[0;34m(\u001b[0m\u001b[0mself\u001b[0m\u001b[0;34m.\u001b[0m\u001b[0m_do_fit\u001b[0m\u001b[0;34m,\u001b[0m \u001b[0;34m'fit'\u001b[0m\u001b[0;34m,\u001b[0m \u001b[0mCancelFitException\u001b[0m\u001b[0;34m,\u001b[0m \u001b[0mself\u001b[0m\u001b[0;34m.\u001b[0m\u001b[0m_end_cleanup\u001b[0m\u001b[0;34m)\u001b[0m\u001b[0;34m\u001b[0m\u001b[0;34m\u001b[0m\u001b[0m\n\u001b[0m\u001b[1;32m    257\u001b[0m \u001b[0;34m\u001b[0m\u001b[0m\n\u001b[1;32m    258\u001b[0m     \u001b[0;32mdef\u001b[0m \u001b[0m_end_cleanup\u001b[0m\u001b[0;34m(\u001b[0m\u001b[0mself\u001b[0m\u001b[0;34m)\u001b[0m\u001b[0;34m:\u001b[0m \u001b[0mself\u001b[0m\u001b[0;34m.\u001b[0m\u001b[0mdl\u001b[0m\u001b[0;34m,\u001b[0m\u001b[0mself\u001b[0m\u001b[0;34m.\u001b[0m\u001b[0mxb\u001b[0m\u001b[0;34m,\u001b[0m\u001b[0mself\u001b[0m\u001b[0;34m.\u001b[0m\u001b[0myb\u001b[0m\u001b[0;34m,\u001b[0m\u001b[0mself\u001b[0m\u001b[0;34m.\u001b[0m\u001b[0mpred\u001b[0m\u001b[0;34m,\u001b[0m\u001b[0mself\u001b[0m\u001b[0;34m.\u001b[0m\u001b[0mloss\u001b[0m \u001b[0;34m=\u001b[0m \u001b[0;32mNone\u001b[0m\u001b[0;34m,\u001b[0m\u001b[0;34m(\u001b[0m\u001b[0;32mNone\u001b[0m\u001b[0;34m,\u001b[0m\u001b[0;34m)\u001b[0m\u001b[0;34m,\u001b[0m\u001b[0;34m(\u001b[0m\u001b[0;32mNone\u001b[0m\u001b[0;34m,\u001b[0m\u001b[0;34m)\u001b[0m\u001b[0;34m,\u001b[0m\u001b[0;32mNone\u001b[0m\u001b[0;34m,\u001b[0m\u001b[0;32mNone\u001b[0m\u001b[0;34m\u001b[0m\u001b[0;34m\u001b[0m\u001b[0m\n",
            "\u001b[0;32m/usr/local/lib/python3.7/dist-packages/fastai/learner.py\u001b[0m in \u001b[0;36m_with_events\u001b[0;34m(self, f, event_type, ex, final)\u001b[0m\n\u001b[1;32m    191\u001b[0m \u001b[0;34m\u001b[0m\u001b[0m\n\u001b[1;32m    192\u001b[0m     \u001b[0;32mdef\u001b[0m \u001b[0m_with_events\u001b[0m\u001b[0;34m(\u001b[0m\u001b[0mself\u001b[0m\u001b[0;34m,\u001b[0m \u001b[0mf\u001b[0m\u001b[0;34m,\u001b[0m \u001b[0mevent_type\u001b[0m\u001b[0;34m,\u001b[0m \u001b[0mex\u001b[0m\u001b[0;34m,\u001b[0m \u001b[0mfinal\u001b[0m\u001b[0;34m=\u001b[0m\u001b[0mnoop\u001b[0m\u001b[0;34m)\u001b[0m\u001b[0;34m:\u001b[0m\u001b[0;34m\u001b[0m\u001b[0;34m\u001b[0m\u001b[0m\n\u001b[0;32m--> 193\u001b[0;31m         \u001b[0;32mtry\u001b[0m\u001b[0;34m:\u001b[0m \u001b[0mself\u001b[0m\u001b[0;34m(\u001b[0m\u001b[0;34mf'before_{event_type}'\u001b[0m\u001b[0;34m)\u001b[0m\u001b[0;34m;\u001b[0m  \u001b[0mf\u001b[0m\u001b[0;34m(\u001b[0m\u001b[0;34m)\u001b[0m\u001b[0;34m\u001b[0m\u001b[0;34m\u001b[0m\u001b[0m\n\u001b[0m\u001b[1;32m    194\u001b[0m         \u001b[0;32mexcept\u001b[0m \u001b[0mex\u001b[0m\u001b[0;34m:\u001b[0m \u001b[0mself\u001b[0m\u001b[0;34m(\u001b[0m\u001b[0;34mf'after_cancel_{event_type}'\u001b[0m\u001b[0;34m)\u001b[0m\u001b[0;34m\u001b[0m\u001b[0;34m\u001b[0m\u001b[0m\n\u001b[1;32m    195\u001b[0m         \u001b[0mself\u001b[0m\u001b[0;34m(\u001b[0m\u001b[0;34mf'after_{event_type}'\u001b[0m\u001b[0;34m)\u001b[0m\u001b[0;34m;\u001b[0m  \u001b[0mfinal\u001b[0m\u001b[0;34m(\u001b[0m\u001b[0;34m)\u001b[0m\u001b[0;34m\u001b[0m\u001b[0;34m\u001b[0m\u001b[0m\n",
            "\u001b[0;32m/usr/local/lib/python3.7/dist-packages/fastai/learner.py\u001b[0m in \u001b[0;36m_do_fit\u001b[0;34m(self)\u001b[0m\n\u001b[1;32m    243\u001b[0m         \u001b[0;32mfor\u001b[0m \u001b[0mepoch\u001b[0m \u001b[0;32min\u001b[0m \u001b[0mrange\u001b[0m\u001b[0;34m(\u001b[0m\u001b[0mself\u001b[0m\u001b[0;34m.\u001b[0m\u001b[0mn_epoch\u001b[0m\u001b[0;34m)\u001b[0m\u001b[0;34m:\u001b[0m\u001b[0;34m\u001b[0m\u001b[0;34m\u001b[0m\u001b[0m\n\u001b[1;32m    244\u001b[0m             \u001b[0mself\u001b[0m\u001b[0;34m.\u001b[0m\u001b[0mepoch\u001b[0m\u001b[0;34m=\u001b[0m\u001b[0mepoch\u001b[0m\u001b[0;34m\u001b[0m\u001b[0;34m\u001b[0m\u001b[0m\n\u001b[0;32m--> 245\u001b[0;31m             \u001b[0mself\u001b[0m\u001b[0;34m.\u001b[0m\u001b[0m_with_events\u001b[0m\u001b[0;34m(\u001b[0m\u001b[0mself\u001b[0m\u001b[0;34m.\u001b[0m\u001b[0m_do_epoch\u001b[0m\u001b[0;34m,\u001b[0m \u001b[0;34m'epoch'\u001b[0m\u001b[0;34m,\u001b[0m \u001b[0mCancelEpochException\u001b[0m\u001b[0;34m)\u001b[0m\u001b[0;34m\u001b[0m\u001b[0;34m\u001b[0m\u001b[0m\n\u001b[0m\u001b[1;32m    246\u001b[0m \u001b[0;34m\u001b[0m\u001b[0m\n\u001b[1;32m    247\u001b[0m     \u001b[0;32mdef\u001b[0m \u001b[0mfit\u001b[0m\u001b[0;34m(\u001b[0m\u001b[0mself\u001b[0m\u001b[0;34m,\u001b[0m \u001b[0mn_epoch\u001b[0m\u001b[0;34m,\u001b[0m \u001b[0mlr\u001b[0m\u001b[0;34m=\u001b[0m\u001b[0;32mNone\u001b[0m\u001b[0;34m,\u001b[0m \u001b[0mwd\u001b[0m\u001b[0;34m=\u001b[0m\u001b[0;32mNone\u001b[0m\u001b[0;34m,\u001b[0m \u001b[0mcbs\u001b[0m\u001b[0;34m=\u001b[0m\u001b[0;32mNone\u001b[0m\u001b[0;34m,\u001b[0m \u001b[0mreset_opt\u001b[0m\u001b[0;34m=\u001b[0m\u001b[0;32mFalse\u001b[0m\u001b[0;34m,\u001b[0m \u001b[0mstart_epoch\u001b[0m\u001b[0;34m=\u001b[0m\u001b[0;36m0\u001b[0m\u001b[0;34m)\u001b[0m\u001b[0;34m:\u001b[0m\u001b[0;34m\u001b[0m\u001b[0;34m\u001b[0m\u001b[0m\n",
            "\u001b[0;32m/usr/local/lib/python3.7/dist-packages/fastai/learner.py\u001b[0m in \u001b[0;36m_with_events\u001b[0;34m(self, f, event_type, ex, final)\u001b[0m\n\u001b[1;32m    191\u001b[0m \u001b[0;34m\u001b[0m\u001b[0m\n\u001b[1;32m    192\u001b[0m     \u001b[0;32mdef\u001b[0m \u001b[0m_with_events\u001b[0m\u001b[0;34m(\u001b[0m\u001b[0mself\u001b[0m\u001b[0;34m,\u001b[0m \u001b[0mf\u001b[0m\u001b[0;34m,\u001b[0m \u001b[0mevent_type\u001b[0m\u001b[0;34m,\u001b[0m \u001b[0mex\u001b[0m\u001b[0;34m,\u001b[0m \u001b[0mfinal\u001b[0m\u001b[0;34m=\u001b[0m\u001b[0mnoop\u001b[0m\u001b[0;34m)\u001b[0m\u001b[0;34m:\u001b[0m\u001b[0;34m\u001b[0m\u001b[0;34m\u001b[0m\u001b[0m\n\u001b[0;32m--> 193\u001b[0;31m         \u001b[0;32mtry\u001b[0m\u001b[0;34m:\u001b[0m \u001b[0mself\u001b[0m\u001b[0;34m(\u001b[0m\u001b[0;34mf'before_{event_type}'\u001b[0m\u001b[0;34m)\u001b[0m\u001b[0;34m;\u001b[0m  \u001b[0mf\u001b[0m\u001b[0;34m(\u001b[0m\u001b[0;34m)\u001b[0m\u001b[0;34m\u001b[0m\u001b[0;34m\u001b[0m\u001b[0m\n\u001b[0m\u001b[1;32m    194\u001b[0m         \u001b[0;32mexcept\u001b[0m \u001b[0mex\u001b[0m\u001b[0;34m:\u001b[0m \u001b[0mself\u001b[0m\u001b[0;34m(\u001b[0m\u001b[0;34mf'after_cancel_{event_type}'\u001b[0m\u001b[0;34m)\u001b[0m\u001b[0;34m\u001b[0m\u001b[0;34m\u001b[0m\u001b[0m\n\u001b[1;32m    195\u001b[0m         \u001b[0mself\u001b[0m\u001b[0;34m(\u001b[0m\u001b[0;34mf'after_{event_type}'\u001b[0m\u001b[0;34m)\u001b[0m\u001b[0;34m;\u001b[0m  \u001b[0mfinal\u001b[0m\u001b[0;34m(\u001b[0m\u001b[0;34m)\u001b[0m\u001b[0;34m\u001b[0m\u001b[0;34m\u001b[0m\u001b[0m\n",
            "\u001b[0;32m/usr/local/lib/python3.7/dist-packages/fastai/learner.py\u001b[0m in \u001b[0;36m_do_epoch\u001b[0;34m(self)\u001b[0m\n\u001b[1;32m    237\u001b[0m \u001b[0;34m\u001b[0m\u001b[0m\n\u001b[1;32m    238\u001b[0m     \u001b[0;32mdef\u001b[0m \u001b[0m_do_epoch\u001b[0m\u001b[0;34m(\u001b[0m\u001b[0mself\u001b[0m\u001b[0;34m)\u001b[0m\u001b[0;34m:\u001b[0m\u001b[0;34m\u001b[0m\u001b[0;34m\u001b[0m\u001b[0m\n\u001b[0;32m--> 239\u001b[0;31m         \u001b[0mself\u001b[0m\u001b[0;34m.\u001b[0m\u001b[0m_do_epoch_train\u001b[0m\u001b[0;34m(\u001b[0m\u001b[0;34m)\u001b[0m\u001b[0;34m\u001b[0m\u001b[0;34m\u001b[0m\u001b[0m\n\u001b[0m\u001b[1;32m    240\u001b[0m         \u001b[0mself\u001b[0m\u001b[0;34m.\u001b[0m\u001b[0m_do_epoch_validate\u001b[0m\u001b[0;34m(\u001b[0m\u001b[0;34m)\u001b[0m\u001b[0;34m\u001b[0m\u001b[0;34m\u001b[0m\u001b[0m\n\u001b[1;32m    241\u001b[0m \u001b[0;34m\u001b[0m\u001b[0m\n",
            "\u001b[0;32m/usr/local/lib/python3.7/dist-packages/fastai/learner.py\u001b[0m in \u001b[0;36m_do_epoch_train\u001b[0;34m(self)\u001b[0m\n\u001b[1;32m    229\u001b[0m     \u001b[0;32mdef\u001b[0m \u001b[0m_do_epoch_train\u001b[0m\u001b[0;34m(\u001b[0m\u001b[0mself\u001b[0m\u001b[0;34m)\u001b[0m\u001b[0;34m:\u001b[0m\u001b[0;34m\u001b[0m\u001b[0;34m\u001b[0m\u001b[0m\n\u001b[1;32m    230\u001b[0m         \u001b[0mself\u001b[0m\u001b[0;34m.\u001b[0m\u001b[0mdl\u001b[0m \u001b[0;34m=\u001b[0m \u001b[0mself\u001b[0m\u001b[0;34m.\u001b[0m\u001b[0mdls\u001b[0m\u001b[0;34m.\u001b[0m\u001b[0mtrain\u001b[0m\u001b[0;34m\u001b[0m\u001b[0;34m\u001b[0m\u001b[0m\n\u001b[0;32m--> 231\u001b[0;31m         \u001b[0mself\u001b[0m\u001b[0;34m.\u001b[0m\u001b[0m_with_events\u001b[0m\u001b[0;34m(\u001b[0m\u001b[0mself\u001b[0m\u001b[0;34m.\u001b[0m\u001b[0mall_batches\u001b[0m\u001b[0;34m,\u001b[0m \u001b[0;34m'train'\u001b[0m\u001b[0;34m,\u001b[0m \u001b[0mCancelTrainException\u001b[0m\u001b[0;34m)\u001b[0m\u001b[0;34m\u001b[0m\u001b[0;34m\u001b[0m\u001b[0m\n\u001b[0m\u001b[1;32m    232\u001b[0m \u001b[0;34m\u001b[0m\u001b[0m\n\u001b[1;32m    233\u001b[0m     \u001b[0;32mdef\u001b[0m \u001b[0m_do_epoch_validate\u001b[0m\u001b[0;34m(\u001b[0m\u001b[0mself\u001b[0m\u001b[0;34m,\u001b[0m \u001b[0mds_idx\u001b[0m\u001b[0;34m=\u001b[0m\u001b[0;36m1\u001b[0m\u001b[0;34m,\u001b[0m \u001b[0mdl\u001b[0m\u001b[0;34m=\u001b[0m\u001b[0;32mNone\u001b[0m\u001b[0;34m)\u001b[0m\u001b[0;34m:\u001b[0m\u001b[0;34m\u001b[0m\u001b[0;34m\u001b[0m\u001b[0m\n",
            "\u001b[0;32m/usr/local/lib/python3.7/dist-packages/fastai/learner.py\u001b[0m in \u001b[0;36m_with_events\u001b[0;34m(self, f, event_type, ex, final)\u001b[0m\n\u001b[1;32m    191\u001b[0m \u001b[0;34m\u001b[0m\u001b[0m\n\u001b[1;32m    192\u001b[0m     \u001b[0;32mdef\u001b[0m \u001b[0m_with_events\u001b[0m\u001b[0;34m(\u001b[0m\u001b[0mself\u001b[0m\u001b[0;34m,\u001b[0m \u001b[0mf\u001b[0m\u001b[0;34m,\u001b[0m \u001b[0mevent_type\u001b[0m\u001b[0;34m,\u001b[0m \u001b[0mex\u001b[0m\u001b[0;34m,\u001b[0m \u001b[0mfinal\u001b[0m\u001b[0;34m=\u001b[0m\u001b[0mnoop\u001b[0m\u001b[0;34m)\u001b[0m\u001b[0;34m:\u001b[0m\u001b[0;34m\u001b[0m\u001b[0;34m\u001b[0m\u001b[0m\n\u001b[0;32m--> 193\u001b[0;31m         \u001b[0;32mtry\u001b[0m\u001b[0;34m:\u001b[0m \u001b[0mself\u001b[0m\u001b[0;34m(\u001b[0m\u001b[0;34mf'before_{event_type}'\u001b[0m\u001b[0;34m)\u001b[0m\u001b[0;34m;\u001b[0m  \u001b[0mf\u001b[0m\u001b[0;34m(\u001b[0m\u001b[0;34m)\u001b[0m\u001b[0;34m\u001b[0m\u001b[0;34m\u001b[0m\u001b[0m\n\u001b[0m\u001b[1;32m    194\u001b[0m         \u001b[0;32mexcept\u001b[0m \u001b[0mex\u001b[0m\u001b[0;34m:\u001b[0m \u001b[0mself\u001b[0m\u001b[0;34m(\u001b[0m\u001b[0;34mf'after_cancel_{event_type}'\u001b[0m\u001b[0;34m)\u001b[0m\u001b[0;34m\u001b[0m\u001b[0;34m\u001b[0m\u001b[0m\n\u001b[1;32m    195\u001b[0m         \u001b[0mself\u001b[0m\u001b[0;34m(\u001b[0m\u001b[0;34mf'after_{event_type}'\u001b[0m\u001b[0;34m)\u001b[0m\u001b[0;34m;\u001b[0m  \u001b[0mfinal\u001b[0m\u001b[0;34m(\u001b[0m\u001b[0;34m)\u001b[0m\u001b[0;34m\u001b[0m\u001b[0;34m\u001b[0m\u001b[0m\n",
            "\u001b[0;32m/usr/local/lib/python3.7/dist-packages/fastai/learner.py\u001b[0m in \u001b[0;36mall_batches\u001b[0;34m(self)\u001b[0m\n\u001b[1;32m    197\u001b[0m     \u001b[0;32mdef\u001b[0m \u001b[0mall_batches\u001b[0m\u001b[0;34m(\u001b[0m\u001b[0mself\u001b[0m\u001b[0;34m)\u001b[0m\u001b[0;34m:\u001b[0m\u001b[0;34m\u001b[0m\u001b[0;34m\u001b[0m\u001b[0m\n\u001b[1;32m    198\u001b[0m         \u001b[0mself\u001b[0m\u001b[0;34m.\u001b[0m\u001b[0mn_iter\u001b[0m \u001b[0;34m=\u001b[0m \u001b[0mlen\u001b[0m\u001b[0;34m(\u001b[0m\u001b[0mself\u001b[0m\u001b[0;34m.\u001b[0m\u001b[0mdl\u001b[0m\u001b[0;34m)\u001b[0m\u001b[0;34m\u001b[0m\u001b[0;34m\u001b[0m\u001b[0m\n\u001b[0;32m--> 199\u001b[0;31m         \u001b[0;32mfor\u001b[0m \u001b[0mo\u001b[0m \u001b[0;32min\u001b[0m \u001b[0menumerate\u001b[0m\u001b[0;34m(\u001b[0m\u001b[0mself\u001b[0m\u001b[0;34m.\u001b[0m\u001b[0mdl\u001b[0m\u001b[0;34m)\u001b[0m\u001b[0;34m:\u001b[0m \u001b[0mself\u001b[0m\u001b[0;34m.\u001b[0m\u001b[0mone_batch\u001b[0m\u001b[0;34m(\u001b[0m\u001b[0;34m*\u001b[0m\u001b[0mo\u001b[0m\u001b[0;34m)\u001b[0m\u001b[0;34m\u001b[0m\u001b[0;34m\u001b[0m\u001b[0m\n\u001b[0m\u001b[1;32m    200\u001b[0m \u001b[0;34m\u001b[0m\u001b[0m\n\u001b[1;32m    201\u001b[0m     \u001b[0;32mdef\u001b[0m \u001b[0m_backward\u001b[0m\u001b[0;34m(\u001b[0m\u001b[0mself\u001b[0m\u001b[0;34m)\u001b[0m\u001b[0;34m:\u001b[0m \u001b[0mself\u001b[0m\u001b[0;34m.\u001b[0m\u001b[0mloss_grad\u001b[0m\u001b[0;34m.\u001b[0m\u001b[0mbackward\u001b[0m\u001b[0;34m(\u001b[0m\u001b[0;34m)\u001b[0m\u001b[0;34m\u001b[0m\u001b[0;34m\u001b[0m\u001b[0m\n",
            "\u001b[0;32m/usr/local/lib/python3.7/dist-packages/fastai/learner.py\u001b[0m in \u001b[0;36mone_batch\u001b[0;34m(self, i, b)\u001b[0m\n\u001b[1;32m    225\u001b[0m         \u001b[0mb\u001b[0m \u001b[0;34m=\u001b[0m \u001b[0mself\u001b[0m\u001b[0;34m.\u001b[0m\u001b[0m_set_device\u001b[0m\u001b[0;34m(\u001b[0m\u001b[0mb\u001b[0m\u001b[0;34m)\u001b[0m\u001b[0;34m\u001b[0m\u001b[0;34m\u001b[0m\u001b[0m\n\u001b[1;32m    226\u001b[0m         \u001b[0mself\u001b[0m\u001b[0;34m.\u001b[0m\u001b[0m_split\u001b[0m\u001b[0;34m(\u001b[0m\u001b[0mb\u001b[0m\u001b[0;34m)\u001b[0m\u001b[0;34m\u001b[0m\u001b[0;34m\u001b[0m\u001b[0m\n\u001b[0;32m--> 227\u001b[0;31m         \u001b[0mself\u001b[0m\u001b[0;34m.\u001b[0m\u001b[0m_with_events\u001b[0m\u001b[0;34m(\u001b[0m\u001b[0mself\u001b[0m\u001b[0;34m.\u001b[0m\u001b[0m_do_one_batch\u001b[0m\u001b[0;34m,\u001b[0m \u001b[0;34m'batch'\u001b[0m\u001b[0;34m,\u001b[0m \u001b[0mCancelBatchException\u001b[0m\u001b[0;34m)\u001b[0m\u001b[0;34m\u001b[0m\u001b[0;34m\u001b[0m\u001b[0m\n\u001b[0m\u001b[1;32m    228\u001b[0m \u001b[0;34m\u001b[0m\u001b[0m\n\u001b[1;32m    229\u001b[0m     \u001b[0;32mdef\u001b[0m \u001b[0m_do_epoch_train\u001b[0m\u001b[0;34m(\u001b[0m\u001b[0mself\u001b[0m\u001b[0;34m)\u001b[0m\u001b[0;34m:\u001b[0m\u001b[0;34m\u001b[0m\u001b[0;34m\u001b[0m\u001b[0m\n",
            "\u001b[0;32m/usr/local/lib/python3.7/dist-packages/fastai/learner.py\u001b[0m in \u001b[0;36m_with_events\u001b[0;34m(self, f, event_type, ex, final)\u001b[0m\n\u001b[1;32m    191\u001b[0m \u001b[0;34m\u001b[0m\u001b[0m\n\u001b[1;32m    192\u001b[0m     \u001b[0;32mdef\u001b[0m \u001b[0m_with_events\u001b[0m\u001b[0;34m(\u001b[0m\u001b[0mself\u001b[0m\u001b[0;34m,\u001b[0m \u001b[0mf\u001b[0m\u001b[0;34m,\u001b[0m \u001b[0mevent_type\u001b[0m\u001b[0;34m,\u001b[0m \u001b[0mex\u001b[0m\u001b[0;34m,\u001b[0m \u001b[0mfinal\u001b[0m\u001b[0;34m=\u001b[0m\u001b[0mnoop\u001b[0m\u001b[0;34m)\u001b[0m\u001b[0;34m:\u001b[0m\u001b[0;34m\u001b[0m\u001b[0;34m\u001b[0m\u001b[0m\n\u001b[0;32m--> 193\u001b[0;31m         \u001b[0;32mtry\u001b[0m\u001b[0;34m:\u001b[0m \u001b[0mself\u001b[0m\u001b[0;34m(\u001b[0m\u001b[0;34mf'before_{event_type}'\u001b[0m\u001b[0;34m)\u001b[0m\u001b[0;34m;\u001b[0m  \u001b[0mf\u001b[0m\u001b[0;34m(\u001b[0m\u001b[0;34m)\u001b[0m\u001b[0;34m\u001b[0m\u001b[0;34m\u001b[0m\u001b[0m\n\u001b[0m\u001b[1;32m    194\u001b[0m         \u001b[0;32mexcept\u001b[0m \u001b[0mex\u001b[0m\u001b[0;34m:\u001b[0m \u001b[0mself\u001b[0m\u001b[0;34m(\u001b[0m\u001b[0;34mf'after_cancel_{event_type}'\u001b[0m\u001b[0;34m)\u001b[0m\u001b[0;34m\u001b[0m\u001b[0;34m\u001b[0m\u001b[0m\n\u001b[1;32m    195\u001b[0m         \u001b[0mself\u001b[0m\u001b[0;34m(\u001b[0m\u001b[0;34mf'after_{event_type}'\u001b[0m\u001b[0;34m)\u001b[0m\u001b[0;34m;\u001b[0m  \u001b[0mfinal\u001b[0m\u001b[0;34m(\u001b[0m\u001b[0;34m)\u001b[0m\u001b[0;34m\u001b[0m\u001b[0;34m\u001b[0m\u001b[0m\n",
            "\u001b[0;32m/usr/local/lib/python3.7/dist-packages/fastai/learner.py\u001b[0m in \u001b[0;36m_do_one_batch\u001b[0;34m(self)\u001b[0m\n\u001b[1;32m    203\u001b[0m \u001b[0;34m\u001b[0m\u001b[0m\n\u001b[1;32m    204\u001b[0m     \u001b[0;32mdef\u001b[0m \u001b[0m_do_one_batch\u001b[0m\u001b[0;34m(\u001b[0m\u001b[0mself\u001b[0m\u001b[0;34m)\u001b[0m\u001b[0;34m:\u001b[0m\u001b[0;34m\u001b[0m\u001b[0;34m\u001b[0m\u001b[0m\n\u001b[0;32m--> 205\u001b[0;31m         \u001b[0mself\u001b[0m\u001b[0;34m.\u001b[0m\u001b[0mpred\u001b[0m \u001b[0;34m=\u001b[0m \u001b[0mself\u001b[0m\u001b[0;34m.\u001b[0m\u001b[0mmodel\u001b[0m\u001b[0;34m(\u001b[0m\u001b[0;34m*\u001b[0m\u001b[0mself\u001b[0m\u001b[0;34m.\u001b[0m\u001b[0mxb\u001b[0m\u001b[0;34m)\u001b[0m\u001b[0;34m\u001b[0m\u001b[0;34m\u001b[0m\u001b[0m\n\u001b[0m\u001b[1;32m    206\u001b[0m         \u001b[0mself\u001b[0m\u001b[0;34m(\u001b[0m\u001b[0;34m'after_pred'\u001b[0m\u001b[0;34m)\u001b[0m\u001b[0;34m\u001b[0m\u001b[0;34m\u001b[0m\u001b[0m\n\u001b[1;32m    207\u001b[0m         \u001b[0;32mif\u001b[0m \u001b[0mlen\u001b[0m\u001b[0;34m(\u001b[0m\u001b[0mself\u001b[0m\u001b[0;34m.\u001b[0m\u001b[0myb\u001b[0m\u001b[0;34m)\u001b[0m\u001b[0;34m:\u001b[0m\u001b[0;34m\u001b[0m\u001b[0;34m\u001b[0m\u001b[0m\n",
            "\u001b[0;32m/usr/local/lib/python3.7/dist-packages/torch/nn/modules/module.py\u001b[0m in \u001b[0;36m_call_impl\u001b[0;34m(self, *input, **kwargs)\u001b[0m\n\u001b[1;32m   1128\u001b[0m         if not (self._backward_hooks or self._forward_hooks or self._forward_pre_hooks or _global_backward_hooks\n\u001b[1;32m   1129\u001b[0m                 or _global_forward_hooks or _global_forward_pre_hooks):\n\u001b[0;32m-> 1130\u001b[0;31m             \u001b[0;32mreturn\u001b[0m \u001b[0mforward_call\u001b[0m\u001b[0;34m(\u001b[0m\u001b[0;34m*\u001b[0m\u001b[0minput\u001b[0m\u001b[0;34m,\u001b[0m \u001b[0;34m**\u001b[0m\u001b[0mkwargs\u001b[0m\u001b[0;34m)\u001b[0m\u001b[0;34m\u001b[0m\u001b[0;34m\u001b[0m\u001b[0m\n\u001b[0m\u001b[1;32m   1131\u001b[0m         \u001b[0;31m# Do not call functions when jit is used\u001b[0m\u001b[0;34m\u001b[0m\u001b[0;34m\u001b[0m\u001b[0;34m\u001b[0m\u001b[0m\n\u001b[1;32m   1132\u001b[0m         \u001b[0mfull_backward_hooks\u001b[0m\u001b[0;34m,\u001b[0m \u001b[0mnon_full_backward_hooks\u001b[0m \u001b[0;34m=\u001b[0m \u001b[0;34m[\u001b[0m\u001b[0;34m]\u001b[0m\u001b[0;34m,\u001b[0m \u001b[0;34m[\u001b[0m\u001b[0;34m]\u001b[0m\u001b[0;34m\u001b[0m\u001b[0;34m\u001b[0m\u001b[0m\n",
            "\u001b[0;32m/usr/local/lib/python3.7/dist-packages/torch/nn/modules/container.py\u001b[0m in \u001b[0;36mforward\u001b[0;34m(self, input)\u001b[0m\n\u001b[1;32m    137\u001b[0m     \u001b[0;32mdef\u001b[0m \u001b[0mforward\u001b[0m\u001b[0;34m(\u001b[0m\u001b[0mself\u001b[0m\u001b[0;34m,\u001b[0m \u001b[0minput\u001b[0m\u001b[0;34m)\u001b[0m\u001b[0;34m:\u001b[0m\u001b[0;34m\u001b[0m\u001b[0;34m\u001b[0m\u001b[0m\n\u001b[1;32m    138\u001b[0m         \u001b[0;32mfor\u001b[0m \u001b[0mmodule\u001b[0m \u001b[0;32min\u001b[0m \u001b[0mself\u001b[0m\u001b[0;34m:\u001b[0m\u001b[0;34m\u001b[0m\u001b[0;34m\u001b[0m\u001b[0m\n\u001b[0;32m--> 139\u001b[0;31m             \u001b[0minput\u001b[0m \u001b[0;34m=\u001b[0m \u001b[0mmodule\u001b[0m\u001b[0;34m(\u001b[0m\u001b[0minput\u001b[0m\u001b[0;34m)\u001b[0m\u001b[0;34m\u001b[0m\u001b[0;34m\u001b[0m\u001b[0m\n\u001b[0m\u001b[1;32m    140\u001b[0m         \u001b[0;32mreturn\u001b[0m \u001b[0minput\u001b[0m\u001b[0;34m\u001b[0m\u001b[0;34m\u001b[0m\u001b[0m\n\u001b[1;32m    141\u001b[0m \u001b[0;34m\u001b[0m\u001b[0m\n",
            "\u001b[0;32m/usr/local/lib/python3.7/dist-packages/torch/nn/modules/module.py\u001b[0m in \u001b[0;36m_call_impl\u001b[0;34m(self, *input, **kwargs)\u001b[0m\n\u001b[1;32m   1128\u001b[0m         if not (self._backward_hooks or self._forward_hooks or self._forward_pre_hooks or _global_backward_hooks\n\u001b[1;32m   1129\u001b[0m                 or _global_forward_hooks or _global_forward_pre_hooks):\n\u001b[0;32m-> 1130\u001b[0;31m             \u001b[0;32mreturn\u001b[0m \u001b[0mforward_call\u001b[0m\u001b[0;34m(\u001b[0m\u001b[0;34m*\u001b[0m\u001b[0minput\u001b[0m\u001b[0;34m,\u001b[0m \u001b[0;34m**\u001b[0m\u001b[0mkwargs\u001b[0m\u001b[0;34m)\u001b[0m\u001b[0;34m\u001b[0m\u001b[0;34m\u001b[0m\u001b[0m\n\u001b[0m\u001b[1;32m   1131\u001b[0m         \u001b[0;31m# Do not call functions when jit is used\u001b[0m\u001b[0;34m\u001b[0m\u001b[0;34m\u001b[0m\u001b[0;34m\u001b[0m\u001b[0m\n\u001b[1;32m   1132\u001b[0m         \u001b[0mfull_backward_hooks\u001b[0m\u001b[0;34m,\u001b[0m \u001b[0mnon_full_backward_hooks\u001b[0m \u001b[0;34m=\u001b[0m \u001b[0;34m[\u001b[0m\u001b[0;34m]\u001b[0m\u001b[0;34m,\u001b[0m \u001b[0;34m[\u001b[0m\u001b[0;34m]\u001b[0m\u001b[0;34m\u001b[0m\u001b[0;34m\u001b[0m\u001b[0m\n",
            "\u001b[0;32m/usr/local/lib/python3.7/dist-packages/torch/nn/modules/container.py\u001b[0m in \u001b[0;36mforward\u001b[0;34m(self, input)\u001b[0m\n\u001b[1;32m    137\u001b[0m     \u001b[0;32mdef\u001b[0m \u001b[0mforward\u001b[0m\u001b[0;34m(\u001b[0m\u001b[0mself\u001b[0m\u001b[0;34m,\u001b[0m \u001b[0minput\u001b[0m\u001b[0;34m)\u001b[0m\u001b[0;34m:\u001b[0m\u001b[0;34m\u001b[0m\u001b[0;34m\u001b[0m\u001b[0m\n\u001b[1;32m    138\u001b[0m         \u001b[0;32mfor\u001b[0m \u001b[0mmodule\u001b[0m \u001b[0;32min\u001b[0m \u001b[0mself\u001b[0m\u001b[0;34m:\u001b[0m\u001b[0;34m\u001b[0m\u001b[0;34m\u001b[0m\u001b[0m\n\u001b[0;32m--> 139\u001b[0;31m             \u001b[0minput\u001b[0m \u001b[0;34m=\u001b[0m \u001b[0mmodule\u001b[0m\u001b[0;34m(\u001b[0m\u001b[0minput\u001b[0m\u001b[0;34m)\u001b[0m\u001b[0;34m\u001b[0m\u001b[0;34m\u001b[0m\u001b[0m\n\u001b[0m\u001b[1;32m    140\u001b[0m         \u001b[0;32mreturn\u001b[0m \u001b[0minput\u001b[0m\u001b[0;34m\u001b[0m\u001b[0;34m\u001b[0m\u001b[0m\n\u001b[1;32m    141\u001b[0m \u001b[0;34m\u001b[0m\u001b[0m\n",
            "\u001b[0;32m/usr/local/lib/python3.7/dist-packages/torch/nn/modules/module.py\u001b[0m in \u001b[0;36m_call_impl\u001b[0;34m(self, *input, **kwargs)\u001b[0m\n\u001b[1;32m   1128\u001b[0m         if not (self._backward_hooks or self._forward_hooks or self._forward_pre_hooks or _global_backward_hooks\n\u001b[1;32m   1129\u001b[0m                 or _global_forward_hooks or _global_forward_pre_hooks):\n\u001b[0;32m-> 1130\u001b[0;31m             \u001b[0;32mreturn\u001b[0m \u001b[0mforward_call\u001b[0m\u001b[0;34m(\u001b[0m\u001b[0;34m*\u001b[0m\u001b[0minput\u001b[0m\u001b[0;34m,\u001b[0m \u001b[0;34m**\u001b[0m\u001b[0mkwargs\u001b[0m\u001b[0;34m)\u001b[0m\u001b[0;34m\u001b[0m\u001b[0;34m\u001b[0m\u001b[0m\n\u001b[0m\u001b[1;32m   1131\u001b[0m         \u001b[0;31m# Do not call functions when jit is used\u001b[0m\u001b[0;34m\u001b[0m\u001b[0;34m\u001b[0m\u001b[0;34m\u001b[0m\u001b[0m\n\u001b[1;32m   1132\u001b[0m         \u001b[0mfull_backward_hooks\u001b[0m\u001b[0;34m,\u001b[0m \u001b[0mnon_full_backward_hooks\u001b[0m \u001b[0;34m=\u001b[0m \u001b[0;34m[\u001b[0m\u001b[0;34m]\u001b[0m\u001b[0;34m,\u001b[0m \u001b[0;34m[\u001b[0m\u001b[0;34m]\u001b[0m\u001b[0;34m\u001b[0m\u001b[0;34m\u001b[0m\u001b[0m\n",
            "\u001b[0;32m/usr/local/lib/python3.7/dist-packages/torch/nn/modules/container.py\u001b[0m in \u001b[0;36mforward\u001b[0;34m(self, input)\u001b[0m\n\u001b[1;32m    137\u001b[0m     \u001b[0;32mdef\u001b[0m \u001b[0mforward\u001b[0m\u001b[0;34m(\u001b[0m\u001b[0mself\u001b[0m\u001b[0;34m,\u001b[0m \u001b[0minput\u001b[0m\u001b[0;34m)\u001b[0m\u001b[0;34m:\u001b[0m\u001b[0;34m\u001b[0m\u001b[0;34m\u001b[0m\u001b[0m\n\u001b[1;32m    138\u001b[0m         \u001b[0;32mfor\u001b[0m \u001b[0mmodule\u001b[0m \u001b[0;32min\u001b[0m \u001b[0mself\u001b[0m\u001b[0;34m:\u001b[0m\u001b[0;34m\u001b[0m\u001b[0;34m\u001b[0m\u001b[0m\n\u001b[0;32m--> 139\u001b[0;31m             \u001b[0minput\u001b[0m \u001b[0;34m=\u001b[0m \u001b[0mmodule\u001b[0m\u001b[0;34m(\u001b[0m\u001b[0minput\u001b[0m\u001b[0;34m)\u001b[0m\u001b[0;34m\u001b[0m\u001b[0;34m\u001b[0m\u001b[0m\n\u001b[0m\u001b[1;32m    140\u001b[0m         \u001b[0;32mreturn\u001b[0m \u001b[0minput\u001b[0m\u001b[0;34m\u001b[0m\u001b[0;34m\u001b[0m\u001b[0m\n\u001b[1;32m    141\u001b[0m \u001b[0;34m\u001b[0m\u001b[0m\n",
            "\u001b[0;32m/usr/local/lib/python3.7/dist-packages/torch/nn/modules/module.py\u001b[0m in \u001b[0;36m_call_impl\u001b[0;34m(self, *input, **kwargs)\u001b[0m\n\u001b[1;32m   1128\u001b[0m         if not (self._backward_hooks or self._forward_hooks or self._forward_pre_hooks or _global_backward_hooks\n\u001b[1;32m   1129\u001b[0m                 or _global_forward_hooks or _global_forward_pre_hooks):\n\u001b[0;32m-> 1130\u001b[0;31m             \u001b[0;32mreturn\u001b[0m \u001b[0mforward_call\u001b[0m\u001b[0;34m(\u001b[0m\u001b[0;34m*\u001b[0m\u001b[0minput\u001b[0m\u001b[0;34m,\u001b[0m \u001b[0;34m**\u001b[0m\u001b[0mkwargs\u001b[0m\u001b[0;34m)\u001b[0m\u001b[0;34m\u001b[0m\u001b[0;34m\u001b[0m\u001b[0m\n\u001b[0m\u001b[1;32m   1131\u001b[0m         \u001b[0;31m# Do not call functions when jit is used\u001b[0m\u001b[0;34m\u001b[0m\u001b[0;34m\u001b[0m\u001b[0;34m\u001b[0m\u001b[0m\n\u001b[1;32m   1132\u001b[0m         \u001b[0mfull_backward_hooks\u001b[0m\u001b[0;34m,\u001b[0m \u001b[0mnon_full_backward_hooks\u001b[0m \u001b[0;34m=\u001b[0m \u001b[0;34m[\u001b[0m\u001b[0;34m]\u001b[0m\u001b[0;34m,\u001b[0m \u001b[0;34m[\u001b[0m\u001b[0;34m]\u001b[0m\u001b[0;34m\u001b[0m\u001b[0;34m\u001b[0m\u001b[0m\n",
            "\u001b[0;32m/usr/local/lib/python3.7/dist-packages/torchvision/models/resnet.py\u001b[0m in \u001b[0;36mforward\u001b[0;34m(self, x)\u001b[0m\n\u001b[1;32m     95\u001b[0m \u001b[0;34m\u001b[0m\u001b[0m\n\u001b[1;32m     96\u001b[0m         \u001b[0mout\u001b[0m \u001b[0;34m=\u001b[0m \u001b[0mself\u001b[0m\u001b[0;34m.\u001b[0m\u001b[0mconv2\u001b[0m\u001b[0;34m(\u001b[0m\u001b[0mout\u001b[0m\u001b[0;34m)\u001b[0m\u001b[0;34m\u001b[0m\u001b[0;34m\u001b[0m\u001b[0m\n\u001b[0;32m---> 97\u001b[0;31m         \u001b[0mout\u001b[0m \u001b[0;34m=\u001b[0m \u001b[0mself\u001b[0m\u001b[0;34m.\u001b[0m\u001b[0mbn2\u001b[0m\u001b[0;34m(\u001b[0m\u001b[0mout\u001b[0m\u001b[0;34m)\u001b[0m\u001b[0;34m\u001b[0m\u001b[0;34m\u001b[0m\u001b[0m\n\u001b[0m\u001b[1;32m     98\u001b[0m \u001b[0;34m\u001b[0m\u001b[0m\n\u001b[1;32m     99\u001b[0m         \u001b[0;32mif\u001b[0m \u001b[0mself\u001b[0m\u001b[0;34m.\u001b[0m\u001b[0mdownsample\u001b[0m \u001b[0;32mis\u001b[0m \u001b[0;32mnot\u001b[0m \u001b[0;32mNone\u001b[0m\u001b[0;34m:\u001b[0m\u001b[0;34m\u001b[0m\u001b[0;34m\u001b[0m\u001b[0m\n",
            "\u001b[0;32m/usr/local/lib/python3.7/dist-packages/torch/nn/modules/module.py\u001b[0m in \u001b[0;36m_call_impl\u001b[0;34m(self, *input, **kwargs)\u001b[0m\n\u001b[1;32m   1128\u001b[0m         if not (self._backward_hooks or self._forward_hooks or self._forward_pre_hooks or _global_backward_hooks\n\u001b[1;32m   1129\u001b[0m                 or _global_forward_hooks or _global_forward_pre_hooks):\n\u001b[0;32m-> 1130\u001b[0;31m             \u001b[0;32mreturn\u001b[0m \u001b[0mforward_call\u001b[0m\u001b[0;34m(\u001b[0m\u001b[0;34m*\u001b[0m\u001b[0minput\u001b[0m\u001b[0;34m,\u001b[0m \u001b[0;34m**\u001b[0m\u001b[0mkwargs\u001b[0m\u001b[0;34m)\u001b[0m\u001b[0;34m\u001b[0m\u001b[0;34m\u001b[0m\u001b[0m\n\u001b[0m\u001b[1;32m   1131\u001b[0m         \u001b[0;31m# Do not call functions when jit is used\u001b[0m\u001b[0;34m\u001b[0m\u001b[0;34m\u001b[0m\u001b[0;34m\u001b[0m\u001b[0m\n\u001b[1;32m   1132\u001b[0m         \u001b[0mfull_backward_hooks\u001b[0m\u001b[0;34m,\u001b[0m \u001b[0mnon_full_backward_hooks\u001b[0m \u001b[0;34m=\u001b[0m \u001b[0;34m[\u001b[0m\u001b[0;34m]\u001b[0m\u001b[0;34m,\u001b[0m \u001b[0;34m[\u001b[0m\u001b[0;34m]\u001b[0m\u001b[0;34m\u001b[0m\u001b[0;34m\u001b[0m\u001b[0m\n",
            "\u001b[0;32m/usr/local/lib/python3.7/dist-packages/torch/nn/modules/batchnorm.py\u001b[0m in \u001b[0;36mforward\u001b[0;34m(self, input)\u001b[0m\n\u001b[1;32m    177\u001b[0m             \u001b[0mbn_training\u001b[0m\u001b[0;34m,\u001b[0m\u001b[0;34m\u001b[0m\u001b[0;34m\u001b[0m\u001b[0m\n\u001b[1;32m    178\u001b[0m             \u001b[0mexponential_average_factor\u001b[0m\u001b[0;34m,\u001b[0m\u001b[0;34m\u001b[0m\u001b[0;34m\u001b[0m\u001b[0m\n\u001b[0;32m--> 179\u001b[0;31m             \u001b[0mself\u001b[0m\u001b[0;34m.\u001b[0m\u001b[0meps\u001b[0m\u001b[0;34m,\u001b[0m\u001b[0;34m\u001b[0m\u001b[0;34m\u001b[0m\u001b[0m\n\u001b[0m\u001b[1;32m    180\u001b[0m         )\n\u001b[1;32m    181\u001b[0m \u001b[0;34m\u001b[0m\u001b[0m\n",
            "\u001b[0;32m/usr/local/lib/python3.7/dist-packages/torch/nn/functional.py\u001b[0m in \u001b[0;36mbatch_norm\u001b[0;34m(input, running_mean, running_var, weight, bias, training, momentum, eps)\u001b[0m\n\u001b[1;32m   2437\u001b[0m \u001b[0;34m\u001b[0m\u001b[0m\n\u001b[1;32m   2438\u001b[0m     return torch.batch_norm(\n\u001b[0;32m-> 2439\u001b[0;31m         \u001b[0minput\u001b[0m\u001b[0;34m,\u001b[0m \u001b[0mweight\u001b[0m\u001b[0;34m,\u001b[0m \u001b[0mbias\u001b[0m\u001b[0;34m,\u001b[0m \u001b[0mrunning_mean\u001b[0m\u001b[0;34m,\u001b[0m \u001b[0mrunning_var\u001b[0m\u001b[0;34m,\u001b[0m \u001b[0mtraining\u001b[0m\u001b[0;34m,\u001b[0m \u001b[0mmomentum\u001b[0m\u001b[0;34m,\u001b[0m \u001b[0meps\u001b[0m\u001b[0;34m,\u001b[0m \u001b[0mtorch\u001b[0m\u001b[0;34m.\u001b[0m\u001b[0mbackends\u001b[0m\u001b[0;34m.\u001b[0m\u001b[0mcudnn\u001b[0m\u001b[0;34m.\u001b[0m\u001b[0menabled\u001b[0m\u001b[0;34m\u001b[0m\u001b[0;34m\u001b[0m\u001b[0m\n\u001b[0m\u001b[1;32m   2440\u001b[0m     )\n\u001b[1;32m   2441\u001b[0m \u001b[0;34m\u001b[0m\u001b[0m\n",
            "\u001b[0;31mKeyboardInterrupt\u001b[0m: "
          ]
        }
      ],
      "source": [
        "learn.fit(100, 0.007)"
      ]
    },
    {
      "cell_type": "markdown",
      "metadata": {
        "id": "-_lnwmwABx54"
      },
      "source": [
        "Clearly, plain SGD isn't training as fast as we'd like. So let's learn some tricks to get accelerated training!"
      ]
    },
    {
      "cell_type": "markdown",
      "metadata": {
        "id": "GY8dw_0qB2z_"
      },
      "source": [
        "# A Generic Optimizer"
      ]
    },
    {
      "cell_type": "markdown",
      "metadata": {
        "id": "xSl8MSojB3_T"
      },
      "source": [
        "To build up our accelerated SGD tricks, we'll need to start with a nice flexible optimizer foundation. No library prior to fastai provided such a foundation, but during fastai's development we realized that all the optimizer improvements we'd seen in the academic literature could be handled using optimizer callbacks. These are small pieces of code that we can compose, mix and match in an optimizer to build the optimizer step. They are called by fastai's lightweight Optimizer class. These are the definitions in Optimizer of the two key methods that we've been using in this book:"
      ]
    },
    {
      "cell_type": "code",
      "execution_count": null,
      "metadata": {
        "id": "y3lMZEhyECqw"
      },
      "outputs": [],
      "source": [
        "def zero_grad(self):\n",
        "    for p,*_ in self.all_params():\n",
        "        p.grad.detach_()\n",
        "        p.grad.zero_()\n",
        "\n",
        "def step(self):\n",
        "    for p,pg,state,hyper in self.all_params():\n",
        "        for cb in self.cbs:\n",
        "            state = _update(state, cb(p, **{**state, **hyper}))\n",
        "        self.state[p] = state"
      ]
    },
    {
      "cell_type": "markdown",
      "metadata": {
        "id": "UbtXrNHuED-i"
      },
      "source": [
        "As we saw when training an MNIST model from scratch, zero_grad just loops through the parameters of the model and sets the gradients to zero. It also calls detach_, which removes any history of gradient computation, since it won't be needed after zero_grad.\n",
        "\n",
        "The more interesting method is step, which loops through the callbacks (cbs) and calls them to update the parameters (the _update function just calls state.update if there's anything returned by cb). As you can see, Optimizer doesn't actually do any SGD steps itself. Let's see how we can add SGD to Optimizer.\n",
        "\n",
        "Here's an optimizer callback that does a single SGD step, by multiplying -lr by the gradients and adding that to the parameter (when Tensor.add_ in PyTorch is passed two parameters, they are multiplied together before the addition):"
      ]
    },
    {
      "cell_type": "code",
      "execution_count": null,
      "metadata": {
        "id": "uU_0cR54EdM4"
      },
      "outputs": [],
      "source": [
        "def sgd_cb(p, lr, **kwargs): p.data.add_(-lr, p.grad.data)"
      ]
    },
    {
      "cell_type": "markdown",
      "metadata": {
        "id": "p87vrMk8EsOr"
      },
      "source": [
        "We can pass this to Optimizer using the cbs parameter; we'll need to use partial since Learner will call this function to create our optimizer later:"
      ]
    },
    {
      "cell_type": "code",
      "execution_count": null,
      "metadata": {
        "id": "8zULe11SFLqe"
      },
      "outputs": [],
      "source": [
        "opt_func = partial(Optimizer, cbs=[sgd_cb])"
      ]
    },
    {
      "cell_type": "code",
      "execution_count": null,
      "metadata": {
        "id": "tbbJQ1RQFRns"
      },
      "outputs": [],
      "source": [
        "learn = get_learner(opt_func=opt_func)\n",
        "learn.fit(100, 0.007)"
      ]
    },
    {
      "cell_type": "markdown",
      "metadata": {
        "id": "mWBC86otFYrq"
      },
      "source": [
        "It's working! So that's how we create SGD from scratch in fastai. Now let's see what \"momentum\" is."
      ]
    },
    {
      "cell_type": "markdown",
      "metadata": {
        "id": "u-IOu6p9FZ1p"
      },
      "source": [
        "# Momentum"
      ]
    },
    {
      "cell_type": "markdown",
      "metadata": {
        "id": "XeoOhC3zFekA"
      },
      "source": [
        "SGD can be thought of as standing at the top of a mountain and working your way down by taking a step in the direction of the steepest slope at each point in time. But what if we have a ball rolling down the mountain? It won't, at each given point, exactly follow the direction of the gradient, as it will have momentum. A ball with more momentum (for instance, a heavier ball) will skip over little bumps and holes, and be more likely to get to the bottom of a bumpy mountain. A ping pong ball, on the other hand, will get stuck in every little crevice.\n",
        "\n",
        "So how can we bring this idea over to SGD? We can use a moving average, instead of only the current gradient, to make our step:\n",
        "\n",
        "\n",
        "```\n",
        "weight.avg = beta * weight.avg + (1-beta) * weight.grad\n",
        "new_weight = weight - lr * weight.avg\n",
        "```\n",
        "Here beta is some number we choose which defines how much momentum to use. If beta is 0, then the first equation becomes weight.avg = weight.grad, so we end up with plain SGD. But if it's a number close to 1, then the main direction chosen is an average of the previous steps. \n",
        "\n",
        "Note that we are writing weight.avg to highlight the fact that we need to store the moving averages for each parameter of the model (they all have their own independent moving averages).\n"
      ]
    },
    {
      "cell_type": "markdown",
      "metadata": {
        "id": "IKlv9YGcGnvo"
      },
      "source": [
        "**Momentum** works particularly well if the loss function has narrow canyons we need to navigate: vanilla SGD would send us bouncing from one side to the other, while SGD with momentum will average those to roll smoothly down the side. The parameter beta determines the strength of the momentum we are using: with a small beta we stay closer to the actual gradient values, whereas with a high beta we will mostly go in the direction of the average of the gradients and it will take a while before any change in the gradients makes that trend move.\n",
        "\n",
        "With a large beta, we might miss that the gradients have changed directions and roll over a small local minima. This is a desired side effect: intuitively, when we show a new input to our model, it will look like something in the training set but won't be exactly like it. That means it will correspond to a point in the loss function that is close to the minimum we ended up with at the end of training, but not exactly at that minimum. So, we would rather end up training in a wide minimum, where nearby points have approximately the same loss (or if you prefer, a point where the loss is as flat as possible)."
      ]
    },
    {
      "cell_type": "markdown",
      "metadata": {
        "id": "-8zHmC5RG_0T"
      },
      "source": [
        "In SGD with momentum, a value of beta that is often used is 0.9.\n",
        "\n",
        "fit_one_cycle by default starts with a beta of 0.95, gradually adjusts it to 0.85, and then gradually moves it back to 0.95 at the end of training. Let's see how our training goes with momentum added to plain SGD.\n",
        "\n",
        "In order to add momentum to our optimizer, we'll first need to keep track of the moving average gradient, which we can do with another callback. When an optimizer callback returns a dict, it is used to update the state of the optimizer and is passed back to the optimizer on the next step. So this callback will keep track of the gradient averages in a parameter called grad_avg:"
      ]
    },
    {
      "cell_type": "code",
      "execution_count": null,
      "metadata": {
        "id": "6gL1K0MPHB0q"
      },
      "outputs": [],
      "source": [
        "def average_grad(p, mom, grad_avg=None, **kwargs):\n",
        "    if grad_avg is None: grad_avg = torch.zeros_like(p.grad.data)\n",
        "    return {'grad_avg': grad_avg*mom + p.grad.data}"
      ]
    },
    {
      "cell_type": "markdown",
      "metadata": {
        "id": "gCBuNU9KHJWw"
      },
      "source": [
        "To use it, we just have to replace p.grad.data with grad_avg in our step function:"
      ]
    },
    {
      "cell_type": "code",
      "execution_count": null,
      "metadata": {
        "id": "JRDGJWZ1HSs4"
      },
      "outputs": [],
      "source": [
        "def momentum_step(p, lr, grad_avg, **kwargs): p.data.add_(-lr, grad_avg)"
      ]
    },
    {
      "cell_type": "code",
      "execution_count": null,
      "metadata": {
        "id": "8KGdLbpRHeKv"
      },
      "outputs": [],
      "source": [
        "opt_func = partial(Optimizer, cbs=[average_grad,momentum_step], mom=0.9)"
      ]
    },
    {
      "cell_type": "markdown",
      "metadata": {
        "id": "PVFCEHc8Hkd4"
      },
      "source": [
        "Learner will automatically schedule mom and lr, so fit_one_cycle will even work with our custom Optimizer:"
      ]
    },
    {
      "cell_type": "code",
      "execution_count": null,
      "metadata": {
        "id": "Vf7UPMohHlja"
      },
      "outputs": [],
      "source": [
        "learn = get_learner(opt_func=opt_func)\n",
        "learn.fit(100, 0.007)"
      ]
    },
    {
      "cell_type": "markdown",
      "metadata": {
        "id": "xio0O4vsKaFf"
      },
      "source": [
        "# RMSProp"
      ]
    },
    {
      "cell_type": "markdown",
      "metadata": {
        "id": "XkEZrWt_Ka90"
      },
      "source": [
        "The main difference from SGD is that it uses an adaptive learning rate: instead of using the same learning rate for every parameter, each parameter gets its own specific learning rate controlled by a global learning rate. That way we can speed up training by giving a higher learning rate to the weights that need to change a lot while the ones that are good enough get a lower learning rate."
      ]
    },
    {
      "cell_type": "markdown",
      "metadata": {
        "id": "wLCNv1vRKicO"
      },
      "source": [
        "How do we decide which parameters should have a high learning rate and which should not? We can look at the gradients to get an idea. If a parameter's gradients have been close to zero for a while, that parameter will need a higher learning rate because the loss is flat. On the other hand, if the gradients are all over the place, we should probably be careful and pick a low learning rate to avoid divergence. We can't just average the gradients to see if they're changing a lot, because the average of a large positive and a large negative number is close to zero. Instead, we can use the usual trick of either taking the absolute value or the squared values (and then taking the square root after the mean)."
      ]
    },
    {
      "cell_type": "markdown",
      "metadata": {
        "id": "w2oUVOO8Ky-f"
      },
      "source": [
        "Once again, to determine the general tendency behind the noise, we will use a moving average—specifically the moving average of the gradients squared. Then we will update the corresponding weight by using the current gradient (for the direction) divided by the square root of this moving average (that way if it's low, the effective learning rate will be higher, and if it's high, the effective learning rate will be lower):"
      ]
    },
    {
      "cell_type": "markdown",
      "metadata": {
        "id": "ddtoamIhLDc6"
      },
      "source": [
        "\n",
        "\n",
        "```\n",
        "w.square_avg = alpha * w.square_avg + (1-alpha) * (w.grad ** 2)\n",
        "new_w = w - lr * w.grad / math.sqrt(w.square_avg + eps)\n",
        "```\n",
        "\n"
      ]
    },
    {
      "cell_type": "markdown",
      "metadata": {
        "id": "FkCiSz3tLKew"
      },
      "source": [
        "The eps (epsilon) is added for numerical stability (usually set at 1e-8), and the default value for alpha is usually 0.99.\n",
        "\n",
        "We can add this to Optimizer by doing much the same thing we did for avg_grad, but with an extra **2"
      ]
    },
    {
      "cell_type": "code",
      "execution_count": null,
      "metadata": {
        "id": "iYxucqu7K9QM"
      },
      "outputs": [],
      "source": [
        "def average_sqr_grad(p, sqr_mom, sqr_avg=None, **kwargs):\n",
        "    if sqr_avg is None: sqr_avg = torch.zeros_like(p.grad.data)\n",
        "    return {'sqr_avg': sqr_mom*sqr_avg + (1-sqr_mom)*p.grad.data**2}"
      ]
    },
    {
      "cell_type": "markdown",
      "metadata": {
        "id": "3HIPiMOELOqa"
      },
      "source": [
        "And we can define our step function and optimizer as before:"
      ]
    },
    {
      "cell_type": "code",
      "execution_count": null,
      "metadata": {
        "id": "VfXsjLD4LdRr"
      },
      "outputs": [],
      "source": [
        "def rms_prop_step(p, lr, sqr_avg, eps, grad_avg=None, **kwargs):\n",
        "    denom = sqr_avg.sqrt().add_(eps)\n",
        "    p.data.addcdiv_(-lr, p.grad, denom)\n",
        "\n",
        "opt_func = partial(Optimizer, cbs=[average_sqr_grad,rms_prop_step],\n",
        "                   sqr_mom=0.99, eps=1e-7)"
      ]
    },
    {
      "cell_type": "code",
      "execution_count": null,
      "metadata": {
        "id": "orW26Lk5L98R"
      },
      "outputs": [],
      "source": [
        "learn = get_learner(opt_func=opt_func)\n",
        "learn.fit(100, 0.007)"
      ]
    },
    {
      "cell_type": "code",
      "source": [
        "learn.recorder.plot_loss()"
      ],
      "metadata": {
        "id": "sXrlHj5nVR02"
      },
      "execution_count": null,
      "outputs": []
    },
    {
      "cell_type": "markdown",
      "metadata": {
        "id": "sLR1MBTULcLz"
      },
      "source": [
        "We just have to bring these ideas together, and we have Adam, fastai's default optimizer."
      ]
    },
    {
      "cell_type": "markdown",
      "metadata": {
        "id": "tduTyU8EK-dc"
      },
      "source": [
        "# Adam"
      ]
    },
    {
      "cell_type": "markdown",
      "metadata": {
        "id": "8s1MLh7cP_BO"
      },
      "source": [
        "Adam mixes the ideas of SGD with momentum and RMSProp together: it uses the moving average of the gradients as a direction and divides by the square root of the moving average of the gradients squared to give an adaptive learning rate to each parameter."
      ]
    },
    {
      "cell_type": "markdown",
      "source": [
        "There is one other difference in how Adam calculates moving averages. It takes the unbiased moving average, which is:"
      ],
      "metadata": {
        "id": "6FcuJ67rVw9j"
      }
    },
    {
      "cell_type": "markdown",
      "source": [
        "\n",
        "```\n",
        "w.avg = beta * w.avg + (1-beta) * w.grad\n",
        "unbias_avg = w.avg / (1 - (beta**(i+1)))\n",
        "\n",
        "```\n",
        "\n",
        "\n",
        "if we are the i-th iteration (starting at 0 like Python does). This divisor of 1 - (beta**(i+1)) makes sure the unbiased average looks more like the gradients at the beginning (since beta < 1, the denominator is very quickly close to 1)."
      ],
      "metadata": {
        "id": "3bGZisYkV99x"
      }
    },
    {
      "cell_type": "markdown",
      "source": [
        "Putting everything together, our update step looks like:"
      ],
      "metadata": {
        "id": "sKdXXvLDWFOs"
      }
    },
    {
      "cell_type": "markdown",
      "source": [
        "\n",
        "\n",
        "```\n",
        "w.avg = beta1 * w.avg + (1-beta1) * w.grad\n",
        "unbias_avg = w.avg / (1 - (beta1**(i+1)))\n",
        "w.sqr_avg = beta2 * w.sqr_avg + (1-beta2) * (w.grad ** 2)\n",
        "new_w = w - lr * unbias_avg / sqrt(w.sqr_avg + eps)\n",
        "```\n",
        "\n"
      ],
      "metadata": {
        "id": "A3UI7BtbWLxs"
      }
    },
    {
      "cell_type": "markdown",
      "source": [
        "Like for RMSProp, eps is usually set to 1e-8, and the default for (beta1,beta2) suggested by the literature is (0.9,0.999).\n",
        "\n",
        "In fastai, Adam is the default optimizer we use since it allows faster training, but we've found that beta2=0.99 is better suited to the type of schedule we are using. beta1 is the momentum parameter, which we specify with the argument moms in our call to fit_one_cycle. As for eps, fastai uses a default of 1e-5. eps is not just useful for numerical stability. A higher eps limits the maximum value of the adjusted learning rate. To take an extreme example, if eps is 1, then the adjusted learning will never be higher than the base learning rate.\n",
        "\n",
        "One thing that changes when we go from SGD to Adam is the way we apply weight decay, and it can have important consequences."
      ],
      "metadata": {
        "id": "Fo10hLbFWPwb"
      }
    },
    {
      "cell_type": "code",
      "source": [
        "opta = partial(Adam)\n",
        "learn = get_learner(opt_func=opta)\n",
        "learn.fit(100, 0.007)"
      ],
      "metadata": {
        "id": "YAe7dvklKxk9"
      },
      "execution_count": null,
      "outputs": []
    },
    {
      "cell_type": "markdown",
      "source": [
        "# Decoupled Weight Decay"
      ],
      "metadata": {
        "id": "TEsqYp-TXAci"
      }
    },
    {
      "cell_type": "markdown",
      "source": [
        "Weight decay,is equivalent to (in the case of vanilla SGD) updating the parameters with:\n",
        "\n",
        "\n",
        "```\n",
        "new_weight = weight - lr*weight.grad - lr*wd*weight\n",
        "```\n",
        "\n",
        "The last part of this formula explains the name of this technique: each weight is decayed by a factor lr * wd.\n",
        "\n",
        "The other name of weight decay is L2 regularization, which consists in adding the sum of all squared weights to the loss (multiplied by the weight decay)"
      ],
      "metadata": {
        "id": "z6ZTAVkXXDoB"
      }
    },
    {
      "cell_type": "markdown",
      "source": [
        "This can be directly expressed on the gradients with:\n",
        "\n",
        "```\n",
        "weight.grad += wd*weight\n",
        "```"
      ],
      "metadata": {
        "id": "2S8trnlQXYM3"
      }
    },
    {
      "cell_type": "markdown",
      "source": [
        "For SGD, those two formulas are equivalent. However, this equivalence only holds for standard SGD, because we have seen that with momentum, RMSProp or in Adam, the update has some additional formulas around the gradient.\n",
        "\n",
        "Most libraries use the second formulation, but it was pointed out in \"Decoupled Weight Decay Regularization\" by Ilya Loshchilov and Frank Hutter, that the first one is the only correct approach with the Adam optimizer or momentum, which is why fastai makes it its default."
      ],
      "metadata": {
        "id": "7fvvahT4Xe3f"
      }
    },
    {
      "cell_type": "markdown",
      "source": [
        "# Radam"
      ],
      "metadata": {
        "id": "ZBpRvbZ8JV0n"
      }
    },
    {
      "cell_type": "markdown",
      "source": [
        "A [paper](https://arxiv.org/pdf/1908.03265.pdf) by Liu, Jian, He et al introduces RAdam, or “Rectified Adam”. It’s a new variation of the classic Adam optimizer that provides an automated, dynamic adjustment to the adaptive learning rate based on their detailed study into the effects of variance and momentum during training. RAdam holds the promise of immediately improving every AI architecture compared to vanilla Adam."
      ],
      "metadata": {
        "id": "LBWDEtRwNlWb"
      }
    },
    {
      "cell_type": "markdown",
      "source": [
        "Let’s delve into RAdam and understand what it does internally, and why it holds the promise of delivering improved convergence, better training stability (much less sensitive to chosen learning rates) and better accuracy and generalization for nearly all AI applications."
      ],
      "metadata": {
        "id": "Ocsg_EbcP-N-"
      }
    },
    {
      "cell_type": "markdown",
      "source": [
        "The authors note that while everyone is working towards the goal of having fast and stable optimization algorithms, adaptive learning rate optimizers including Adam, RMSProp, etc. all suffer from a risk of converging into poor local optima — if a warm-up method is not implemented. Thus, nearly everyone uses some form of warmup (FastAI has a built in warmup in it’s Fit_One_Cycle)…but why is a warmup needed?"
      ],
      "metadata": {
        "id": "QtFit1WWQFT2"
      }
    },
    {
      "cell_type": "markdown",
      "source": [
        "With the current limited understanding of the underlying reason or even best practices to the warmup heuristic in the AI community, the authors sought to uncover the underpinnings for this issue. They find that the root issue is that adaptive learning rate optimizers have too large of a variance, especially in the early stages of training, and make excessive jumps based on limited training data…and thus can settle into poor local optima."
      ],
      "metadata": {
        "id": "Zm1M27JNQNB4"
      }
    },
    {
      "cell_type": "markdown",
      "source": [
        "Hence, warmup (an initial period of training with a much lower learning rate) is a requirement for adaptive optimizers to offset excessive variance when the optimizer has only worked with limited training data."
      ],
      "metadata": {
        "id": "SpOpnjPFQTa5"
      }
    },
    {
      "cell_type": "markdown",
      "source": [
        "In short, vanilla Adam and other adaptive learning rate optimizers make bad decisions based on too little data early on in training. Thus, without some form of warmup, they are likely to initially fall into bad local optima making the training curve longer and harder due to a bad start.\n",
        "\n",
        "The authors then tested running Adam with no warmup, but avoiding any use of momentum for the first 2000 iterations (adam-2k). They found that similar results as Adam plus warmup were achieved, thus verifying that warm-up functions as a ‘variance reduction’ during initial training and avoids Adam jumping into bad optima at the start when it does not have enough data to work with."
      ],
      "metadata": {
        "id": "BsqWHaoCQXmb"
      }
    },
    {
      "cell_type": "markdown",
      "source": [
        "Given that warm-up serves as a variance reducer, but the degree of warmup required is unknown and varies dataset to dataset, the authors then moved into determining a mathematical algorithm to serve as a dynamic variance reducer. They thus built a rectifier term, that would allow the adaptive momentum to slowly but steadily be allowed to work up to full expression as a function of the underlying variance."
      ],
      "metadata": {
        "id": "0287XJDGQen8"
      }
    },
    {
      "cell_type": "code",
      "source": [
        "optar = partial(RAdam)\n",
        "learn = get_learner(opt_func=optar)\n",
        "learn.fit(100, 0.007)"
      ],
      "metadata": {
        "id": "7WGQcGB_JXdY"
      },
      "execution_count": null,
      "outputs": []
    },
    {
      "cell_type": "markdown",
      "source": [
        "# Callbacks"
      ],
      "metadata": {
        "id": "7xBz6vNEZu0R"
      }
    },
    {
      "cell_type": "markdown",
      "source": [
        "Sometimes you need to change how things work a little bit. In fact, we have already seen examples of this: Mixup, fp16 training, resetting the model after each epoch for training RNNs, and so forth. How do we go about making these kinds of tweaks to the training process?\n",
        "\n",
        "We've seen the basic training loop, which, with the help of the Optimizer class, looks like this for a single epoch:"
      ],
      "metadata": {
        "id": "NoTasYe4Zws2"
      }
    },
    {
      "cell_type": "markdown",
      "source": [
        "\n",
        "\n",
        "```\n",
        "for xb,yb in dl:\n",
        "    loss = loss_func(model(xb), yb)\n",
        "    loss.backward()\n",
        "    opt.step()\n",
        "    opt.zero_grad()\n",
        "```\n",
        "\n"
      ],
      "metadata": {
        "id": "lZGOA5TBZ4m8"
      }
    },
    {
      "cell_type": "markdown",
      "source": [
        "![Capture.JPG](data:image/jpeg;base64,/9j/4AAQSkZJRgABAQEAkACQAAD/4REKRXhpZgAATU0AKgAAAAgABAE7AAIAAAAVAAAISodpAAQAAAABAAAIYJydAAEAAAAqAAAQ2OocAAcAAAgMAAAAPgAAAAAc6gAAAAgAAAAAAAAAAAAAAAAAAAAAAAAAAAAAAAAAAAAAAAAAAAAAAAAAAAAAAAAAAAAAAAAAAAAAAAAAAAAAAAAAAAAAAAAAAAAAAAAAAAAAAAAAAAAAAAAAAAAAAAAAAAAAAAAAAAAAAAAAAAAAAAAAAAAAAAAAAAAAAAAAAAAAAAAAAAAAAAAAAAAAAAAAAAAAAAAAAAAAAAAAAAAAAAAAAAAAAAAAAAAAAAAAAAAAAAAAAAAAAAAAAAAAAAAAAAAAAAAAAAAAAAAAAAAAAAAAAAAAAAAAAAAAAAAAAAAAAAAAAAAAAAAAAAAAAAAAAAAAAAAAAAAAAAAAAAAAAAAAAAAAAAAAAAAAAAAAAAAAAAAAAAAAAAAAAAAAAAAAAAAAAAAAAAAAAAAAAAAAAAAAAAAAAAAAAAAAAAAAAAAAAAAAAAAAAAAAAAAAAAAAAAAAAAAAAAAAAAAAAAAAAAAAAAAAAAAAAAAAAAAAAAAAAAAAAAAAAAAAAAAAAAAAAAAAAAAAAAAAAAAAAAAAAAAAAAAAAAAAAAAAAAAAAAAAAAAAAAAAAAAAAAAAAAAAAAAAAAAAAAAAAAAAAAAAAAAAAAAAAAAAAAAAAAAAAAAAAAAAAAAAAAAAAAAAAAAAAAAAAAAAAAAAAAAAAAAAAAAAAAAAAAAAAAAAAAAAAAAAAAAAAAAAAAAAAAAAAAAAAAAAAAAAAAAAAAAAAAAAAAAAAAAAAAAAAAAAAAAAAAAAAAAAAAAAAAAAAAAAAAAAAAAAAAAAAAAAAAAAAAAAAAAAAAAAAAAAAAAAAAAAAAAAAAAAAAAAAAAAAAAAAAAAAAAAAAAAAAAAAAAAAAAAAAAAAAAAAAAAAAAAAAAAAAAAAAAAAAAAAAAAAAAAAAAAAAAAAAAAAAAAAAAAAAAAAAAAAAAAAAAAAAAAAAAAAAAAAAAAAAAAAAAAAAAAAAAAAAAAAAAAAAAAAAAAAAAAAAAAAAAAAAAAAAAAAAAAAAAAAAAAAAAAAAAAAAAAAAAAAAAAAAAAAAAAAAAAAAAAAAAAAAAAAAAAAAAAAAAAAAAAAAAAAAAAAAAAAAAAAAAAAAAAAAAAAAAAAAAAAAAAAAAAAAAAAAAAAAAAAAAAAAAAAAAAAAAAAAAAAAAAAAAAAAAAAAAAAAAAAAAAAAAAAAAAAAAAAAAAAAAAAAAAAAAAAAAAAAAAAAAAAAAAAAAAAAAAAAAAAAAAAAAAAAAAAAAAAAAAAAAAAAAAAAAAAAAAAAAAAAAAAAAAAAAAAAAAAAAAAAAAAAAAAAAAAAAAAAAAAAAAAAAAAAAAAAAAAAAAAAAAAAAAAAAAAAAAAAAAAAAAAAAAAAAAAAAAAAAAAAAAAAAAAAAAAAAAAAAAAAAAAAAAAAAAAAAAAAAAAAAAAAAAAAAAAAAAAAAAAAAAAAAAAAAAAAAAAAAAAAAAAAAAAAAAAAAAAAAAAAAAAAAAAAAAAAAAAAAAAAAAAAAAAAAAAAAAAAAAAAAAAAAAAAAAAAAAAAAAAAAAAAAAAAAAAAAAAAAAAAAAAAAAAAAAAAAAAAAAAAAAAAAAAAAAAAAAAAAAAAAAAAAAAAAAAAAAAAAAAAAAAAAAAAAAAAAAAAAAAAAAAAAAAAAAAAAAAAAAAAAAAAAAAAAAAAAAAAAAAAAAAAAAAAAAAAAAAAAAAAAAAAAAAAAAAAAAAAAAAAAAAAAAAAAAAAAAAAAAAAAAAAAAAAAAAAAAAAAAAAAAAAAAAAAAAAAAAAAAAAAAAAAAAAAAAAAAAAAAAAAAAAAAAAAAAAAAAAAAAAAAAAAAAAAAAAAAAAAAAAAAAAAAAAAAAAAAAAAAAAAAAAAAAAAAAAAAAAAAAAAAAAAAAAAAAAAAAAAAAAAAAAAAAAAAAAAAAAAAAAAAAAAAAAAAAAAAAAAAAAAAAAAAAAAAAAAAAAAAAAAAAAAAAAAAAAAAAAAAAAAAAAAAAAAAAAAAAAAAAAAAAAAAAAAAAAAAAAAAAAAAAAAAAAAAAAAAAAAAAAAAAAAAAAAAAAAAAAAAAAAAAAAAAAAAAAAAAAAAAAAAAAAAAAAAAAAAAAAAAAAAAAAAAAAAAAAAAAAAAAAAAAAAAAAAAAAAAAAAAAAAAAAAAAAAAAAAAAAAAAAAAAAAAAAAAAAAAAAAAAAAAAAAAAAAAAAAAAAAAAAAAAAAAAAAAAAAAAAAAAAAAAAAAAAAAAAAAAAAAAAAAAAAAAAAAAAAAAAAAAAAAAAAAAAAAAAAAAAAAAAAAAAAAAAAAAAAAAAAAAAAAAAAAAAAAAAAAAAAAAAAAAAAAAAAAAAAAAAAAAAAAAAAAAAAAAAAAAAAAAAAAAAAAAAAAAAAAAAAAAAAAAAAAAAAAAAAAAAAAAAAAAAAAAAAAAAAAAAAAAAAAAAAAAAAAAAAAAAAAAAAAAAAAAAAAAAAAAAAAAAAAAAAAAAAAAAAAAAAAAAAAAAAAAAAAAAAAAAAAAAAAAAAAAAAAAAAAAAAAAAAAAAAAAAAAAAAAAAAAAAAAAAAAAAAAAAAAAAAAAAAAAAAAAAAAAAAAAAAAAAAAAAAAAAAAAAAAAAAAAAAAAAAAAAAAAAAAAAAAAAAAAAAAAAAAAAAAAAAAAAAAAAAAAAAAAAAAAAAAAAAAAAAAAAAAAAAAAAAAAAAAAAAAAAAAAAAAAAAAAAAAAAAAAAAAAAAAAAAAAAAAAAAAAAAAAAAAAAAAAAAAAAAAAAAAAAAAAAAAEZvcnR1bnkgU2ljYXJ0LCBBbGFuAAAABZADAAIAAAAUAAAQrpAEAAIAAAAUAAAQwpKRAAIAAAADMzgAAJKSAAIAAAADMzgAAOocAAcAAAgMAAAIogAAAAAc6gAAAAgAAAAAAAAAAAAAAAAAAAAAAAAAAAAAAAAAAAAAAAAAAAAAAAAAAAAAAAAAAAAAAAAAAAAAAAAAAAAAAAAAAAAAAAAAAAAAAAAAAAAAAAAAAAAAAAAAAAAAAAAAAAAAAAAAAAAAAAAAAAAAAAAAAAAAAAAAAAAAAAAAAAAAAAAAAAAAAAAAAAAAAAAAAAAAAAAAAAAAAAAAAAAAAAAAAAAAAAAAAAAAAAAAAAAAAAAAAAAAAAAAAAAAAAAAAAAAAAAAAAAAAAAAAAAAAAAAAAAAAAAAAAAAAAAAAAAAAAAAAAAAAAAAAAAAAAAAAAAAAAAAAAAAAAAAAAAAAAAAAAAAAAAAAAAAAAAAAAAAAAAAAAAAAAAAAAAAAAAAAAAAAAAAAAAAAAAAAAAAAAAAAAAAAAAAAAAAAAAAAAAAAAAAAAAAAAAAAAAAAAAAAAAAAAAAAAAAAAAAAAAAAAAAAAAAAAAAAAAAAAAAAAAAAAAAAAAAAAAAAAAAAAAAAAAAAAAAAAAAAAAAAAAAAAAAAAAAAAAAAAAAAAAAAAAAAAAAAAAAAAAAAAAAAAAAAAAAAAAAAAAAAAAAAAAAAAAAAAAAAAAAAAAAAAAAAAAAAAAAAAAAAAAAAAAAAAAAAAAAAAAAAAAAAAAAAAAAAAAAAAAAAAAAAAAAAAAAAAAAAAAAAAAAAAAAAAAAAAAAAAAAAAAAAAAAAAAAAAAAAAAAAAAAAAAAAAAAAAAAAAAAAAAAAAAAAAAAAAAAAAAAAAAAAAAAAAAAAAAAAAAAAAAAAAAAAAAAAAAAAAAAAAAAAAAAAAAAAAAAAAAAAAAAAAAAAAAAAAAAAAAAAAAAAAAAAAAAAAAAAAAAAAAAAAAAAAAAAAAAAAAAAAAAAAAAAAAAAAAAAAAAAAAAAAAAAAAAAAAAAAAAAAAAAAAAAAAAAAAAAAAAAAAAAAAAAAAAAAAAAAAAAAAAAAAAAAAAAAAAAAAAAAAAAAAAAAAAAAAAAAAAAAAAAAAAAAAAAAAAAAAAAAAAAAAAAAAAAAAAAAAAAAAAAAAAAAAAAAAAAAAAAAAAAAAAAAAAAAAAAAAAAAAAAAAAAAAAAAAAAAAAAAAAAAAAAAAAAAAAAAAAAAAAAAAAAAAAAAAAAAAAAAAAAAAAAAAAAAAAAAAAAAAAAAAAAAAAAAAAAAAAAAAAAAAAAAAAAAAAAAAAAAAAAAAAAAAAAAAAAAAAAAAAAAAAAAAAAAAAAAAAAAAAAAAAAAAAAAAAAAAAAAAAAAAAAAAAAAAAAAAAAAAAAAAAAAAAAAAAAAAAAAAAAAAAAAAAAAAAAAAAAAAAAAAAAAAAAAAAAAAAAAAAAAAAAAAAAAAAAAAAAAAAAAAAAAAAAAAAAAAAAAAAAAAAAAAAAAAAAAAAAAAAAAAAAAAAAAAAAAAAAAAAAAAAAAAAAAAAAAAAAAAAAAAAAAAAAAAAAAAAAAAAAAAAAAAAAAAAAAAAAAAAAAAAAAAAAAAAAAAAAAAAAAAAAAAAAAAAAAAAAAAAAAAAAAAAAAAAAAAAAAAAAAAAAAAAAAAAAAAAAAAAAAAAAAAAAAAAAAAAAAAAAAAAAAAAAAAAAAAAAAAAAAAAAAAAAAAAAAAAAAAAAAAAAAAAAAAAAAAAAAAAAAAAAAAAAAAAAAAAAAAAAAAAAAAAAAAAAAAAAAAAAAAAAAAAAAAAAAAAAAAAAAAAAAAAAAAAAAAAAAAAAAAAAAAAAAAAAAAAAAAAAAAAAAAAAAAAAAAAAAAAAAAAAAAAAAAAAAAAAAAAAAAAAAAAAAAAAAAAAAAAAAAAAAAAAAAAAAAAAAAAAAAAAAAAAAAAAAAAAAAAAAAAAAAAAAAAAAAAAAAAAAAAAAAAAAAAAAAAAAAAAAAAAAAAAAAAAAAAAAAAAAAAAAAAAAAAAAAAAAAAAAAAAAAAAAAAAAAAAAAAAAAAAAAAAAAAAAAAAAAAAAAAAAAAAAAAAAAAAAAAAAAAAAAAAAAAAAAAAAAAAAAAAAAAAAAAAAAAAAAAAAAAAAAAAAAAAAAAAAAAAAAAAAAAAAAAAAAAAAAAAAAAAAAAAAAAAAAAAAAAAAAAAAAAAAAAAAAAAAAAAAAAAAAAAAAAAAAAAAAAAAAAAAAAAAAAAAAAAAAAAAAAAAAAAAAAAAAAAAAAAAAAAAAAAAAAAAAAAAAAAAAAAAAAAAAAAAAAAAAAAAAAAAAAAAAAAAAAAAAAAAAAAAAAAAAAAAAAAAAAAAAAAAAAAAAAAAAAAAAAAAAAAAAAAAAAAAAAAAAAAAAAAAAAAAAAAAAAAAAAAAAAAAAAAAAAAAAAAAAAAAAAAAAAAAAAAAAAAAAAAAAAAAAAAAAAAAAAAAAAAAAAAAAAAAAAAAAAAAAAAAAAAAAAAAAAAAAAAAAAAAAAAAAAAAAAAAAAAAAAAAAAAAAAAAAAAAAAAAAAAAAAAAAAAAAAAAAAAAAAAAAAAAAAAAAAAAAAAAAAAAAAAAAAAAAAAAAAAAAAAAAAAAAAAAAAAAAAAAAAAAAAAAAAAAAAAAAAAAAAAAAAAAAAAAAAAAAAAAAAAAAAAAAAAAAAAAAAAAAAAAAAAAAAAAAAAAAAAAAAAAAAAAAAAAAAAAAAAAAAAAAAAAAAAAAAAAAAAAAAAAAAAAAAAAAAAAAAAAAAAAAAAAAAAAAAAAAAAAAAAAAAAAAAAAAAAAAAAAAAAAAAAAAAAAAAAAAAAAAAAAAAAAAAAAAAADIwMjI6MTA6MDMgMTc6MTI6NDEAMjAyMjoxMDowMyAxNzoxMjo0MQAAAEYAbwByAHQAdQBuAHkAIABTAGkAYwBhAHIAdAAsACAAQQBsAGEAbgAAAP/hCydodHRwOi8vbnMuYWRvYmUuY29tL3hhcC8xLjAvADw/eHBhY2tldCBiZWdpbj0n77u/JyBpZD0nVzVNME1wQ2VoaUh6cmVTek5UY3prYzlkJz8+DQo8eDp4bXBtZXRhIHhtbG5zOng9ImFkb2JlOm5zOm1ldGEvIj48cmRmOlJERiB4bWxuczpyZGY9Imh0dHA6Ly93d3cudzMub3JnLzE5OTkvMDIvMjItcmRmLXN5bnRheC1ucyMiPjxyZGY6RGVzY3JpcHRpb24gcmRmOmFib3V0PSJ1dWlkOmZhZjViZGQ1LWJhM2QtMTFkYS1hZDMxLWQzM2Q3NTE4MmYxYiIgeG1sbnM6ZGM9Imh0dHA6Ly9wdXJsLm9yZy9kYy9lbGVtZW50cy8xLjEvIi8+PHJkZjpEZXNjcmlwdGlvbiByZGY6YWJvdXQ9InV1aWQ6ZmFmNWJkZDUtYmEzZC0xMWRhLWFkMzEtZDMzZDc1MTgyZjFiIiB4bWxuczp4bXA9Imh0dHA6Ly9ucy5hZG9iZS5jb20veGFwLzEuMC8iPjx4bXA6Q3JlYXRlRGF0ZT4yMDIyLTEwLTAzVDE3OjEyOjQxLjM3NTwveG1wOkNyZWF0ZURhdGU+PC9yZGY6RGVzY3JpcHRpb24+PHJkZjpEZXNjcmlwdGlvbiByZGY6YWJvdXQ9InV1aWQ6ZmFmNWJkZDUtYmEzZC0xMWRhLWFkMzEtZDMzZDc1MTgyZjFiIiB4bWxuczpkYz0iaHR0cDovL3B1cmwub3JnL2RjL2VsZW1lbnRzLzEuMS8iPjxkYzpjcmVhdG9yPjxyZGY6U2VxIHhtbG5zOnJkZj0iaHR0cDovL3d3dy53My5vcmcvMTk5OS8wMi8yMi1yZGYtc3ludGF4LW5zIyI+PHJkZjpsaT5Gb3J0dW55IFNpY2FydCwgQWxhbjwvcmRmOmxpPjwvcmRmOlNlcT4NCgkJCTwvZGM6Y3JlYXRvcj48L3JkZjpEZXNjcmlwdGlvbj48L3JkZjpSREY+PC94OnhtcG1ldGE+DQogICAgICAgICAgICAgICAgICAgICAgICAgICAgICAgICAgICAgICAgICAgICAgICAgICAgICAgICAgICAgICAgICAgICAgICAgICAgICAgICAgICAgICAgICAgICAgICAgICAgCiAgICAgICAgICAgICAgICAgICAgICAgICAgICAgICAgICAgICAgICAgICAgICAgICAgICAgICAgICAgICAgICAgICAgICAgICAgICAgICAgICAgICAgICAgICAgICAgICAgICAKICAgICAgICAgICAgICAgICAgICAgICAgICAgICAgICAgICAgICAgICAgICAgICAgICAgICAgICAgICAgICAgICAgICAgICAgICAgICAgICAgICAgICAgICAgICAgICAgICAgIAogICAgICAgICAgICAgICAgICAgICAgICAgICAgICAgICAgICAgICAgICAgICAgICAgICAgICAgICAgICAgICAgICAgICAgICAgICAgICAgICAgICAgICAgICAgICAgICAgICAgCiAgICAgICAgICAgICAgICAgICAgICAgICAgICAgICAgICAgICAgICAgICAgICAgICAgICAgICAgICAgICAgICAgICAgICAgICAgICAgICAgICAgICAgICAgICAgICAgICAgICAKICAgICAgICAgICAgICAgICAgICAgICAgICAgICAgICAgICAgICAgICAgICAgICAgICAgICAgICAgICAgICAgICAgICAgICAgICAgICAgICAgICAgICAgICAgICAgICAgICAgIAogICAgICAgICAgICAgICAgICAgICAgICAgICAgICAgICAgICAgICAgICAgICAgICAgICAgICAgICAgICAgICAgICAgICAgICAgICAgICAgICAgICAgICAgICAgICAgICAgICAgCiAgICAgICAgICAgICAgICAgICAgICAgICAgICAgICAgICAgICAgICAgICAgICAgICAgICAgICAgICAgICAgICAgICAgICAgICAgICAgICAgICAgICAgICAgICAgICAgICAgICAKICAgICAgICAgICAgICAgICAgICAgICAgICAgICAgICAgICAgICAgICAgICAgICAgICAgICAgICAgICAgICAgICAgICAgICAgICAgICAgICAgICAgICAgICAgICAgICAgICAgIAogICAgICAgICAgICAgICAgICAgICAgICAgICAgICAgICAgICAgICAgICAgICAgICAgICAgICAgICAgICAgICAgICAgICAgICAgICAgICAgICAgICAgICAgICAgICAgICAgICAgCiAgICAgICAgICAgICAgICAgICAgICAgICAgICAgICAgICAgICAgICAgICAgICAgICAgICAgICAgICAgICAgICAgICAgICAgICAgICAgICAgICAgICAgICAgICAgICAgICAgICAKICAgICAgICAgICAgICAgICAgICAgICAgICAgICAgICAgICAgICAgICAgICAgICAgICAgICAgICAgICAgICAgICAgICAgICAgICAgICAgICAgICAgICAgICAgICAgICAgICAgIAogICAgICAgICAgICAgICAgICAgICAgICAgICAgICAgICAgICAgICAgICAgICAgICAgICAgICAgICAgICAgICAgICAgICAgICAgICAgICAgICAgICAgICAgICAgICAgICAgICAgCiAgICAgICAgICAgICAgICAgICAgICAgICAgICAgICAgICAgICAgICAgICAgICAgICAgICAgICAgICAgICAgICAgICAgICAgICAgICAgICAgICAgICAgICAgICAgICAgICAgICAKICAgICAgICAgICAgICAgICAgICAgICAgICAgICAgICAgICAgICAgICAgICAgICAgICAgICAgICAgICAgICAgICAgICAgICAgICAgICAgICAgICAgICAgICAgICAgICAgICAgIAogICAgICAgICAgICAgICAgICAgICAgICAgICAgICAgICAgICAgICAgICAgICAgICAgICAgICAgICAgICAgICAgICAgICAgICAgICAgICAgICAgICAgICAgICAgICAgICAgICAgCiAgICAgICAgICAgICAgICAgICAgICAgICAgICAgICAgICAgICAgICAgICAgICAgICAgICAgICAgICAgICAgICAgICAgICAgICAgICAgICAgICAgICAgICAgICAgICAgICAgICAKICAgICAgICAgICAgICAgICAgICAgICAgICAgICAgICAgICAgICAgICAgICAgICAgICAgICAgICAgICAgICAgICAgICAgICAgICAgICAgICAgICAgICAgICAgICAgICAgICAgIAogICAgICAgICAgICAgICAgICAgICAgICAgICAgICAgICAgICAgICAgICAgICAgICAgICAgICAgICAgICAgICAgICAgICAgICAgICAgICAgICAgICAgICAgICAgICAgICAgICAgCiAgICAgICAgICAgICAgICAgICAgICAgICAgICAgICAgICAgICAgICAgICAgICAgICAgICAgICAgICAgICAgICAgICAgICAgICAgICAgICAgICAgICAgICAgICAgICAgICAgICAKICAgICAgICAgICAgICAgICAgICAgICAgICAgIDw/eHBhY2tldCBlbmQ9J3cnPz7/2wBDAAcFBQYFBAcGBQYIBwcIChELCgkJChUPEAwRGBUaGRgVGBcbHichGx0lHRcYIi4iJSgpKywrGiAvMy8qMicqKyr/2wBDAQcICAoJChQLCxQqHBgcKioqKioqKioqKioqKioqKioqKioqKioqKioqKioqKioqKioqKioqKioqKioqKioqKir/wAARCAHAAckDASIAAhEBAxEB/8QAHwAAAQUBAQEBAQEAAAAAAAAAAAECAwQFBgcICQoL/8QAtRAAAgEDAwIEAwUFBAQAAAF9AQIDAAQRBRIhMUEGE1FhByJxFDKBkaEII0KxwRVS0fAkM2JyggkKFhcYGRolJicoKSo0NTY3ODk6Q0RFRkdISUpTVFVWV1hZWmNkZWZnaGlqc3R1dnd4eXqDhIWGh4iJipKTlJWWl5iZmqKjpKWmp6ipqrKztLW2t7i5usLDxMXGx8jJytLT1NXW19jZ2uHi4+Tl5ufo6erx8vP09fb3+Pn6/8QAHwEAAwEBAQEBAQEBAQAAAAAAAAECAwQFBgcICQoL/8QAtREAAgECBAQDBAcFBAQAAQJ3AAECAxEEBSExBhJBUQdhcRMiMoEIFEKRobHBCSMzUvAVYnLRChYkNOEl8RcYGRomJygpKjU2Nzg5OkNERUZHSElKU1RVVldYWVpjZGVmZ2hpanN0dXZ3eHl6goOEhYaHiImKkpOUlZaXmJmaoqOkpaanqKmqsrO0tba3uLm6wsPExcbHyMnK0tPU1dbX2Nna4uPk5ebn6Onq8vP09fb3+Pn6/9oADAMBAAIRAxEAPwD6RooooAKKKKACiiigAooooAKKKKACiiigAooooAKKKKACiiigAooooAKKKKACiiigAooooAKKKKACiiigAooooAKKKKACiiigAooooAKKKKACiiigAooooAKKKKACiiigAooooAKKKKACiiigAooooAKKKKACiiigAooooAKKKKACiiigAooooAKKKKACiiigAooooAKzdR8QaZpTbL67jjf+5nJ/IVF4o1Y6N4fnuo/9bwkf+8a8WmmkuJnmncvI5yzE8k1pCHNqRKVj1/8A4TnQP+f3/wAcP+FH/Cc6B/z+/wDjh/wrx2itPZojnZ7F/wAJzoH/AD+/+OH/AAo/4TnQP+f3/wAcP+FeO0UezQc7PYv+E50D/n9/8cP+FH/Cc6B/z+/+OH/CvHaKPZoOdnsX/Cc6B/z+/wDjh/wo/wCE50D/AJ/f/HD/AIV47RR7NBzs9i/4TnQP+f3/AMcP+FH/AAnOgf8AP7/44f8ACvHaKPZoOdnsX/Cc6B/z+/8Ajh/wo/4TnQP+f3/xw/4V47RR7NBzs9i/4TnQP+f3/wAcP+FH/Cc6B/z+/wDjh/wrx2ij2aDnZ7F/wnOgf8/v/jh/wo/4TnQP+f3/AMcP+FeO0UezQc7PYv8AhOdA/wCf3/xw/wCFH/Cc6B/z+/8Ajh/wrx2ij2aDnZ7F/wAJzoH/AD+/+OH/AApV8caAzAC9Az6oa8coo9mg52e+2t3BewCa0lSWNujIcipq8b8Ia7No+tQpvJtp3CSJ254Br2SspR5WaRldBRRRUFBRRRQAUUUUAFFFFABRRRQAUUUUAFFFFABRRRQAUUUUAFFFFABRRRQAUUUUAFFFFABRRRQAUUUUAFFFFABRRRQByfxH/wCRW/7br/WvKK9X+I//ACK3/bdf615RXRT+ExnuFFFa48K66ygjS7gg8j5a0ukQZFFaF5oGq2FuZ72xmhiUgF3XgZrPo3AKKKkSCWSGSZI2aOLG9gOFzwM0AR0UUqKzuqICzMcADuaYCUVJPBLazNDcRtHIv3kYYIqOkAUUUUwCiirWm6fNqmoR2drt82TO3ccDgEn9BSAq0UEYOKKYBRRRQAUUUUAT2P8AyEbb/rqv8xXva/dH0rwSx/5CNt/11X+Yr3tfuj6VhV6GtMWiiisTQKKKKACiiigAooooAKKKKACiiigAooooAKKKKACiiigAooooAKKKKACiiigAooooAKKKKACiiigAooooAKKKKAOT+I//ACK3/bdf615RXq/xH/5Fb/tuv9a8orop/CYz3Cui8DSO3jCzBdiMScE/9M2rna3/AAQ6x+L7NpGCqBJkscD7jVctmStyvaWZ1bxQLCWZ0Sa4ZSw5xye1N1Oy02w/0WO5mnvI5dk7KmI1xkELnkkHv0qzoDqvju3dmAX7Ux3E8d6ZH9kk8dN9uKm1a+beSeCN56+1LqPoWrHRtH1mVrTTJ7uO6KFojcINkhA6cdKzrC0ebw7qtytzLGkHk7oVPyy7mwN306iu40p9ZtfEv/E0NtbWBZhFkIoYY42Y56VyGlOo8Ia8pYBm+z4BPJ/eUk2NodHo+mW2iWOpaleTD7UHxBEgLEqxHU9uKTUNEis77S5bC4lNrqBVoZGG10O4A9O4yKZq7q3hfQFVgWWOfcAen7w1qX8sZ03wiA6koTu5+786daNRaEbeGWv/ABlqGmT6hLI8MJkFxN8zOQq43e3P6VWh0jRr+G6i068na6toWlDSoAkoUZbA6iuitp4h8TNYkMqbGtCA24YPyp3rlPDDqmoXJdgoNlOBk452Gld2HoGn6TZ/2S2qavPJHbmTyoo4QC8rY569APWpL/RtPTw+NW027lljafyvLkTBQ4zg+/09atW1lJr3hG2tdO2Pd2U7l4MgMytj5hnr0qS906fTPh+0F3tEp1AsyKwJT5AMHHQ8dPenfUVtDC0fTH1fU47RHEYbLPI3RFAyT+VdN4Zh0JfFFuNOurozR79vmxjbL8jA4x09eayPCF7Faa06XDLGl1bvb+YxwELDg/mMfjWr4b8O32keJoLnUhHbwx7wrvIMSEow+X160S6hE5ywXTWkm/tRrngjy1t1Bz1zknp2q5qOk6dBBZX9pczPY3EhjkDoBJGRjPHQ8GtLw7HO3h+9bRY4ZNVFwAQwBcRY/hB465pPEr3R8NWMepSwvdrcSb1i25UbVwDt70X1C2g7xJDo40/TSJ7oSCwXyB5K4cZbBbng/nWRYRaC9vGL6W+WZv8AWNGilU/qa09Y0u61HQ9KvrFBNBb2ISZlYfuypJOfzq+I9UXStObw6lstl9nUzy7UOJMfPvLe9K+g7anKa1ph0jVpbPzBKqbWVwMblIBH6GqNb3jSRZfFEzK6ODHF8yHg/IvSsGrWxL3J7H/kI23/AF1X+Yr3tfuj6V4JY/8AIRtv+uq/zFe9r90fSsqvQ0pi0UUViaBRRRQAUUUUAFFFFABRRRQAUUUUAFFFFABRRRQAUUUUAFFFFABRRRQAUUUUAFFFFABRRRQAUUUUAFFFFABRRRQByfxH/wCRW/7br/WvKK9Y+IwJ8K/SZP615PXRT+ExnuFFFFakBRRRQAUUUUAFFFFABRRRQBp6dZaVc25a/wBWNlKG+6bdpAR9Vqxq99pyaTBpOkGSaKKUzSXEi7fMcjHA7DA71iUVNtR3CiiiqEFFFFABRRRQAUUUUAT2P/IRtv8Arqv8xXva/dH0rwWwGdStgOpmT+Yr3pfuj6VhV6GtMWiiisTQKKKKACiiigAooooAKKKKACiiigAooooAKKKKACiiigAooooAKKKKACiiigAooooAKKKKACiiigAooooAKKKKAKmq6dFqumTWc/3ZVxn0PY147qvhnU9JuWjmtndAflkQZVhXttBAPUZq4zcSZRTPAfslx/zwl/74NH2S4/54S/8AfBr3zy0/ur+VHlp/dX8qv2vkT7M8D+yXH/PCX/vg0fZLj/nhL/3wa988tP7q/lR5af3V/Kj2vkHszwP7Jcf88Jf++DR9kuP+eEv/AHwa988tP7q/lR5af3V/Kj2vkHszwP7Jcf8APCX/AL4NH2S4/wCeEv8A3wa988tP7q/lR5af3V/Kj2vkHszwP7Jcf88Jf++DR9luP+eEv/fBr3zy0/ur+VY2sKBeLgAfux29zSlWsr2KhR5na5459luP+eEv/fBo+yXH/PCX/vg17npyKdPiyoPB7e9WfLT+6v5U1VutiXTs7XPA/slx/wA8Jf8Avg0fZLj/AJ4S/wDfBr3zy0/ur+VHlp/dX8qPa+QezPA/slx/zwl/74NH2S4/54S/98GvfPLT+6v5UeWn91fyo9r5B7M8D+yXH/PCX/vg0fZLj/nhL/3wa988tP7q/lR5af3V/Kj2vkHszwP7Jcf88Jf++DSrZ3LMAtvKSe2w1735af3V/KjYv91fyo9r5B7M858F+Drn7dHqOpxGKOI7oo2HLH1I9K9IoorOUnJ3LSsFFFFSMKKKKACiiigAooooAKKKKACiiigAooooAKKKKACiiigAooooAKKKKACiiigAooooAKKKKACiiigAooooAKKKKACiiigAooooAKKKKACiiigAooooAKxdZ/4/E/65j+ZrarF1n/j8T/rmP5monsa0viNHTv8AkHxfQ/zqzVbTv+QfF9D/ADqzVLYiXxMKKKKZIUUUUAFFFFABRRRQAUUUUAFFFFABRRRQAUUUUAFFFFABRRRQAUUUUAFFFFABRRRQAUUUUAFFFFABRRRQAUUUUAFFFFABRRRQAUUUUAFFFFABRRRQAUUUUAFFFFABRRRQAUUUUAFFFFAEN0ZRbs1ucOvPTOa5+e4kuZA8pyQMcDFdNXP6hb/Z7pgB8rfMtZVLm9Fq9iWwubl5I7eJgEHX5egrbrP0m38uAysPmfp9K0KqF7akVGnLQKKKKszCiiigAooooAKKKKACiiigAooooAKKKKACiiigAooooAKKKKACiiigAooooAKKKKACiiigAooooAKKKKACiiigAooooAKKKKACiiigAooooAKKKKACsnWPE+kaFgaleJHIRkRL8zn8B/WqPjfxJ/wjmhGSDH2u4PlwA9j3b8B+pFeHTzy3Nw81xI0ksh3M7HJJrxMxzT6rL2dNXl+R7GAy36yvaTdo/mexn4peHgf+Xs/9sR/jSf8AC0/D3/T3/wB+R/jXjNFeN/beK8vuPY/sfDef3ns3/C0/D3/T3/35H+NH/C0/D3/T3/35H+NeM0Uf23ivL7g/sfDef3ns3/C0/D3/AE9/9+R/jR/wtPw9/wBPf/fkf414zRR/beK8vuD+x8N5/eezf8LT8Pf9Pf8A35H+NH/C0/D3/T3/AN+R/jXjNFH9t4ry+4P7Hw3n957N/wALT8Pf9Pf/AH5H+NV7v4keHLtFDfawVbOfJHTv3ryGil/bWKfb7hrJ8MndX+89mHxR8OqoCi7AHAAhH+NH/C0/D3/T3/35H+NeM0Uf23ivL7hf2PhvP7z2b/hafh7/AKe/+/I/xo/4Wn4e/wCnv/vyP8a8Zop/23ivL7g/sfDef3ns3/C0/D3/AE9/9+R/jR/wtPw9/wBPf/fkf414zRR/beK8vuD+x8N5/eezf8LT8Pf9Pf8A35H+NH/C0/D3/T3/AN+R/jXjNFH9t4ry+4P7Hw3n957N/wALT8Pf9Pf/AH5H+NT2vxK8OXMoRriWDP8AFNEQPzGa8SooWd4pPW33f8ETybDNaX+8+loZoriFZYJFljcZV0OQR7Gn14l4E8Vy6Fq0VrcSE2Fw+11J4jJ6MPx6+1e219NgcZHF0+ZaNbo+dxmElhanK9U9mFFFFdxxBRRRQAUUUUAFFFFABRRRQAUUUUAFFFFABRRRQAUUUUAFFFFABRRRQAUUUUAFFFFABRRRQAUUUUAFFFFABRRRQB5V8XZWOqafFn5BCzAe5bH9K87r0H4u/wDIcsP+vc/+hGvPq+BzP/fJ/wBdD7jLf90h/XUKKKK849AKKKKACiiigAooooAKKKKACiiigAooooAKKKKACiiigAooooAUHawI6g19HaZI0uk2kjnLPAjE+pKivnCvo3SP+QJY/wDXvH/6CK+lyD4qny/U+dzz4YfMuUUUV9UfMhRRRQAUUUUAFFFFABRRRQAUUUUAFFFFABRRRQAUUUUAFFFFABRRRQAUUUUAFFFFABRRRQAUUUUAFFFFABRRRQB5P8Xf+Q5Yf9e5/wDQjXn1eg/F3/kOWH/Xuf8A0I159XwOZ/75P+uh9zl3+6Q/rqFFFFecd4UUUUAdVrHgK+0fQV1V7mKaIhSyIDlQ3euVr3G5uIZJNM0a8/1Gqae8Z/3lVcH64Jrxe/sZtO1KeyuB+9hkMZwOuD1H1r1cxwtOg06W2z9d/wAmeZgMVOsmqm+69NvzRs+F/B154oWd7aaOCOAgFpAeSewxWHeWzWd9PbOwZoZGjJHQkHH9K9Z0GL+wW8PaFGVFxPvvLwZ55QgDr6kD3215pqNrNe+K7y2tkMkst5IqKO5LmlicLClRhZe9ez9bJ2/EeHxMqtad37trr72r/gZdFdtP4Q0DR2S38Qa+0V6wBaKCPcI8+prK8S+FX0KKC8trpL3Trr/U3Cdz1wR9K5qmDrU4uTW2+qbXqjohi6U5KKe+2js/Q56tzwho0GveIo7G7Z1jZGYlDzwKseHfCY1awm1PUrxbDTIDh5mGSx9B+YFdV4L0fQYvEsVzomtG6eNGDwTJsYgjqvrXRhMHOdSEppWb2bWq9NzDFYuMac1Fu6XRPR+p53qlsllrF5axElIJ3jUnqQGI/pVWtnUbGfUvGl7Z2ib5pr2RVH/AzW4/hLw5Y3AsNU8R+Xf/AHXEceY429Cf/wBX4VgsNOpKTjZJO2rS+Wpu8RCnGKlq2r6Jv8jiq6bxj4dtfD50/wCxvI32mDzH3nOD7Vm+IdBuPDurPZXJDjAeOQDh1PQ11HxP+9ov/Xp/hVwo8tGtzr3o2+WpnOtzVqXI/dlf8jg6KKK4DuCiiigAr6N0j/kCWP8A17x/+givnKvo3SP+QJY/9e8f/oIr6XIfjqfI+ezz4IfMuUUUV9UfMBRRRQAUUUUAFFFFABRRRQAUUUUAFFFFABRRRQAUUUUAFFFFABRRRQAUUUUAFFFFABRRRQAUUUUAFFFFABRRRQB5P8Xf+Q5Yf9e5/wDQjXn1eg/F3/kOWH/Xuf8A0I159XwOZ/75P+uh9zl3+6Q/rqFFFFecd4UUUUAejfEO6lsl8M3Vu22WGEuh9CNhq7c6HD4h8WaPr0KAWN1B9ouTnhGQDIP4kD8/SuT8X+JrbxDb6XHaxSRmziKPvxySF6f9807SvGUmneDL3RsOZZSRBIDgIrfeHr6170sVQliJ87vHRr1il+eqPEjhq0cPDkVpap+jb/LRm14f1htc+LTXmSYyHSIeiAYH+P1Jql4VWNvizJ5oUgXNwV3evzYrD8JazDoHiGK/uUeSNFYFU68iqrarJD4ik1WxPlv9paaPcOmWJwfzrmjio8sJzd2puT/A6JYaXNOEdE4JL8RfELyyeJtSa4JMv2qQNk5xhiMV1FmWf4M3guWbal9iHPp8p49slqS817whr8y3ut2F5bXpA837Kw2yEeuf/wBdZviXxVHqljb6VpNr9i0u2OVjz8zn1NP93RdSpzp8yaVt9e/YX7yqqdPkas03207dy9rvmJ8LPD6xriF5pGkIHV8tt/TdUHw0/wCR2g/65P8Aypnh/wAU2VvosmieIbNrvTnfepQ/PEfUf/rrR0vxJ4V8N6hHPo1heTO2RJNckbkXnhQOPTmtKcqUq1Ou5pJct099NCJxqRpVKPI23ezW2pY8GpE3xW1RpRlka4aL13b8cfgWqlcXvgE3Upm07WDJvO47l655/jrAj16Wy8WS61YDaxuHlVX7qxPB/A4roLzVvBGszNd39hf2d1Id0v2Ugqzdzzx+Qop1oSpOCcbpt+8t0+wTozjUU2pWaS917W7lDxp4g0zXjp/9lQXMQtYTCxuAASvG3oTnv+danxP+9ov/AF6f4VyuuS6TLep/YNvNBbqmG859zO2Tz7cYH4Vp+L/Edt4hOn/ZYpI/ssHltvxyfasZ11KFbnau+XbZ27GsaLjOjyJ2XNv0uc1RRRXlnpBRRRQAV9G6R/yBLH/r3j/9BFfOVfQeh3ytp9rA/wArLAgU+vyivpMhfvz+R8/nabhC3ma1FFFfVny4UUUUAFFFFABRRRQAUUUUAFFFFABRRRQAUUUUAFFFFABRRRQAUUUUAFFFFABRRRQAUUUUAFFFFABRRTJo/NjK7mQ9mU4IoAfRXPSXVxFKyLcs4U4znrVmwv53u0SWQsrcYIFRzq9jV0mlc8/+Lv8AyHLD/r3P/oRrz6vQfi7/AMhyw/69z/6Ea8+r4TM/98n/AF0PtMu/3SH9dQooorzjvCiiigAooooAKKKKACiiigAooooAKKKKACiiigAooooAKKKKACva7U4s7Yjg+Sn/AKCK8Ur2yBGSxtdwxugjI9xtFfQZJ8U/l+p4mbbQ+f6G9p1956+VKf3g6H+9V+uWVijBlOCDkGugsbsXUOejrwwr6uEr6M+YqQtqizRRRWhiFFFFABRRRQAUUUUAFFFFABRRRQAUUUUAFFFFABRRRQAUUUUAFFFFABRRRQAUUUUAFFFFABVDVLvyYfKQ/O4/IVdkkWKNnc4VRk1zc8zTzNI3Un8qicrI1pRu7sjqSIPGyzhTtVhz2oghaeZY0HJP5V0SW8aW4h2gpjBB71nGNzec1HQ83+LlizLp+ooCYxmFiOg7j8+fyrzKvo3UdLttT0qTT7tN0EibSO4x0P1FeOa/8P8AWNHuHNvA17a5yksIyQP9odQa+ZzfA1PauvBXT38j3cqxtP2SozdmtvM5WirR0y/BwbK4/wC/Tf4Uf2Zf/wDPlcf9+m/wrwOSXY93nj3KtFWv7Mv/APnyuP8Av03+FH9mX/8Az5XH/fpv8KOSXYOePcq0Va/sy/8A+fK4/wC/Tf4Uf2Zf/wDPlcf9+m/wo5Jdg549yrRVr+zL/wD58rj/AL9N/hR/Zl//AM+Vx/36b/Cjkl2Dnj3KtFWv7Mv/APnyuP8Av03+FH9mX/8Az5XH/fpv8KOSXYOePcq0Va/sy/8A+fK4/wC/Tf4Uf2Zf/wDPlcf9+m/wo5Jdg549yrRVr+zL/wD58rj/AL9N/hR/Zl//AM+Vx/36b/Cjkl2Dnj3KtFWv7Mv/APnyuP8Av03+FH9mX/8Az5XH/fpv8KOSXYOePcq0Va/sy/8A+fK4/wC/Tf4Uf2Zf/wDPlcf9+m/wo5Jdg549yrRVr+zL/wD58rj/AL9N/hU9roGrXsojttOuXY/9MyP501Tm3ZJidSCV2ypaW8l5eQ20KlpJpFRVHck4r6GbT1OmxW3eGNVVvoMVyfgfwEdDkXUdV2te4PlxqciLPv3NdzX2GU4KeHpuVRWcunkfJ5pjI1qijTekevmcu6NG5RxhlOCKktbhracSL07j1FaWq2m9PPjHzL973FY9em04s44tTidQjrJGrocqwyKdWTpF1ybdz7r/AIVrVvF3VzklHldgooopkhRRRQAUUUUAFFFFABRRRQAUUUUAFFFFABRRRQAUUUUAFFZ+o61a6b8shLydo16//WrGbxfJu+S0QD3cn+lcFbMMNQlyzlr950U8NVqK8VodTRXK/wDCXzf8+sf/AH0aP+Evm/59Y/8Avo1h/a+D/m/Bmn1Kv2Oqorlf+Evm/wCfWP8A76NH/CXzf8+sf/fRo/tfB/zfgw+pV+x1VFcr/wAJfN/z6x/99Gj/AIS+b/n1j/76NH9r4P8Am/Bh9Sr9jW1i4wFgXv8AM1ZNU5dd86VpJLYFm6/OaZ/bC/8APqP+/hrKWa4Vu/N+DOmGFqxVrHU6TbeXD5zD5n6ewrQrlB4umVQBaRgDgfMaX/hL5v8An1j/AO+jWizbBpW5vwZhLB15O9jqqK5X/hL5v+fWP/vo0f8ACXzf8+sf/fRp/wBr4P8Am/Bk/Uq/Y6qiuV/4S+b/AJ9Y/wDvo0f8JfN/z6x/99Gj+18H/N+DD6lX7HVUVyv/AAl83/PrH/30aP8AhL5v+fWP/vo0f2vg/wCb8GH1Kv2Oqorlf+Evm/59Y/8Avo0f8JfN/wA+sf8A30aP7Xwf834MPqVfsdVRXLL4vl3fPaIR7OR/StnTtatdS+WMlJccxt1/D1rejmGGry5YS1+4zqYarTV5LQ0KKKK7znCiimySJDG0krBEUZLE8CjYB1Fcze+NLeJyllA0+P42baPwql/wnFx/z5x/99mvOlmWFi7c35mipyZ2dFcZ/wAJxcf8+cf/AH2aP+E4uP8Anzj/AO+zU/2phf5vwY/ZSOzorjP+E4uP+fOP/vs0f8Jxcf8APnH/AN9mj+1ML/N+DD2Ujs6K4z/hOLj/AJ84/wDvs0f8Jxcf8+cf/fZo/tTC/wA34MPZSOzorjP+E4uP+fOP/vs0f8Jxcf8APnH/AN9mj+1ML/N+DD2UjsyAQQeQa529tzbXLJ/CeV+lZ3/CcXH/AD5x/wDfZqG58WvdBfNso/l6EOamWZ4Vr4vwZdOMos0Y3MciuvBU5FdLDKJoVkXowzXA/wDCQj/nzX/v4f8ACrVv4wlto9kdom3OeXNTHM8MvtfgyqkXJaHb0Vxn/CcXH/PnH/32aP8AhOLj/nzj/wC+zWn9qYX+b8GZeykdnRXGf8Jxcf8APnH/AN9mj/hOLj/nzj/77NH9qYX+b8GHspHZ0Vxn/CcXH/PnH/32aP8AhOLj/nzj/wC+zR/amF/m/Bh7KR2dFctaeNonkC3lsYwf40bdj8K6WC4iuoFmgcPGw4YV1UcVRr/w5XIlFx3JKKKK6SQooooAKKKKACiiigAqtqN39h0+WfqVHyj1ParNZHif/kCN/vrXPiqjp0JzjukzWjFSqRi+5xksrzStJKxZ2OST3ptFFfnTbbuz6fYKKKKQwooooAKKKKACiiigAooooAKKKKACiiigAooooAKKKKACnRyPDIskTFXU5BHam0U02ndCPQtNu/t2nw3GMFx8w9CODVqsXwqc6Oc9pW/kK2q/RMJUdWhCct2kfMVoqFSUV3CuO8Z6kzXCafE2FUB5Mdyeg/Ln8a7GvO/FP/Iy3X/AP/QBXFm1SUMNZdXYKSvIyKKKK+QOsKKKKACiiigAooooAKKKKACiiigAooooAKKKKACiiigAooooAK6DwlqT22pC0ZiYZ+ACejetc/V3RuNatP8ArqK6cLUlTrxlHuTJXiz06iiivvDhCiiigAooooAKKKKACsfxP/yBW/31rYrH8T/8gVv99a48d/utT0Zvh/40fU4uiiivz0+mCiiigAooooAKKfBC9xcRwx/ekYKK2p4NG0t/IuYpLudR85DFQD+BrppYeVSLndJLqzKdVQdrXfkYVFaF82lSW+6wjlil3D5GORiorLTpb6Kd4mUCBdzZ79f8Kl0Jc/JBqT8hqouXmlp6lSiiisDQKKKKACiiigAooooAKKKKACiiigDsvCv/ACBz/wBdW/kK2qxfCv8AyBz/ANdW/kK2q/Qcv/3Wn6HzWJ/jS9QrzvxT/wAjLdf8A/8AQBXoled+Kf8AkZbr/gH/AKAK4s5/3dev6Mmj8RkUUUV8odQUUUUAFFFFABRWz4a0y31S8ljuwxVU3Da2Oc1jVrKlKMI1Hs7/AICvrYKKKKyGFFFFABRRRQAUUUUAFFFFABRRRQAVd0f/AJDVp/11FUqu6P8A8hq0/wCuorWj/Ej6oT2PTqKKK/QDgCiiigAooooAKKKKACsfxP8A8gVv99a2Kx/E/wDyBW/31rjx3+61PRm+H/jR9Ti6KKK/PT6YKKKKACiiigCexufsd9DcYyI2yR6ity90uDV52u9OvIy8nJjc4Oa5wKWOFBJ9AKX5lPGQa7KOIUKbp1I80W79tfJmE6blLni7Ms3um3WnsBcxbQejA5B/Gt/Q7u2exu/LsljMcQ8wh8+bwfbj/wCvVZGnfwhcG8JI3jyS/XqOmfx/WmeHebPUgOSYRgfg1ejhoqjioez2lFvW11o/8vmjlqt1KMubdO2nyM+8uba7Ma2lits2ecPu3fpWjcGw0QLbtard3O0GRnPC+1Y1q4ivIXccLIpOfrXSazq97YXpEcMLQMoZHZCc/jmscPKMqc603aV0r8qdvlovmXVTUo047a9f1M7UrW2uNLj1Kxi8kFtksfUA+v8An1p9jBYpoJvLyAyMkxUBTjdwMA+1V7zXbu9s2t5UiWNiM7EI6HPrUyKzeD32qTi5ycDpwKpSpSrSnTV/dfTS662BxmoKMtNe/T1JrO403VZfsktilsz8Ruhzg1iXMDW1zJBJ96Nip96u6FBJNrEGxSQjbmPoBUWsTLcaxcyJ90vgH1xxn9K560va4ZVZr3r22tdW8uxpBclVwjtYp0UUV5x1BRRRQAUUUUAdl4V/5A5/66t/IVtVi+Ff+QOf+urfyFbVfoOX/wC60/Q+axP8aXqFed+Kf+Rluv8AgH/oAr0SvO/FP/Iy3X/AP/QBXFnP+7r1/Rk0fiMiiiivlDqCiiigAooooA6XwT/yEbj/AK5f1rmq6XwT/wAhG4/65f1rm9p9D+Vd9b/daXrL9CF8TFijaaZI0GWdgqj1Jro7xtM0ApafYlvLoKDK8h4GewrD09xBqlrLJwqTIxPsGFaHii1kg1uWRgTHNh0bsRSov2dCVSK1ul3sgesrFm5s7LV9Hlv9Ng+zTW/MsIOQR7UzSLS1g0S41S6t/tTI+xIs8DpyfzqTQ4zaeH9Tu58pHJH5aZ/iPI/mazNN1i70oMLchonOWjcZU10OVOMoVais2n067J2J11SJL3U7K8tGRNMjt5sjbJG3Tnnir8FvZ6T4fgv57MXk1weAx+VB2qS4W11jw7cX7WaWk8B4dBgP/jWbp2v3mnQeQFSa36iOVcgfSjmjTqc1Rp3WjSXfdoN1ZEWo39pewp5FgtrKrfMyNkMPpWfXRazBa3WhQapDai0leTYyKMBuvOPwrna48VGUanvNO6T00Li1YKKKK5SgooooAKu6P/yGrT/rqKpVd0f/AJDVp/11Fa0f4kfVCex6dRRRX6AcAUUUUAFFFFABRRRQAVj+J/8AkCt/vrWxWP4n/wCQK3++tceO/wB1qejN8P8Axo+pxdFFFfnp9MFFFFABRRRQBJBPJbXCTQna6HIOK0/+EkuTy9taO395o+f51kUVvTxFWkrQlZGc6UJu8kW77VLrUMfaH+VeiKMAUyxvp9PuPOtyA2MEEZBFV6Kl1qjn7RyfN3H7OKjy20Lt/qcmoKgkhhj2kn90mM/XmpbbXry2gEJEc8Y4CyrnFZtFWsTWU3UUtWT7Km48rWhevtWmvoVieKGJFbdiJMc/5NaFldy2XhYywEBvtODkZBGBxWDVkX0g002WF8syb8981tRxUozlUnJ3aaTInRTioxWly3N4hu5IWjjSGAN94xJgmsuiiuerWqVXebuawpxh8KsFFFFYlhRRRQAUUUUAdl4V/wCQOf8Arq38hW1WL4V/5A5/66t/IVtV+g5f/utP0PmsT/Gl6hXnfin/AJGW6/4B/wCgCvRK878U/wDIy3X/AAD/ANAFcWc/7uvX9GTR+IyKKKK+UOoKKKKACiiigC5puqXGlTNJa7dzLtO4Z4q9/wAJVff887b/AL9CsWiuiGIrU48sZNIlxT3LmoanPqTI1wsalAQPLXbVu18SXttbLbusNzGv3ROm7FZFFJYirGTmpasfKrWL+o6zd6mFW4ZVjX7scYwop9hrtxYW32dYbeaMEkLNHuwTWbRR7erz8/NqHKrWNLUNdvNRhEMnlxQg58uJdqmpbbxHc21tHAbe1mWMYUyxZIH51kUU/rNbm5+bUXKrWLuo6vdaoy/aWUIn3Y0GFH4VSoorKc5TlzSd2NJLYKKKKgYUUUUAFXdH/wCQ1af9dRVKruj/APIatP8ArqK1o/xI+qE9j06iiiv0A4AooooAKKKKACiiigArH8T/APIFb/fWtiqWr2jXmlzRIMvjKj1IrmxcHPDzjHdpmtGSjVi33OAooIIJB4Ior86PqAooooAKKKKACiiigAooooAKKKKACiiigAooooAKKKKACiiigAoooAJIA5JoA7Lwr/yBz/11b+Qraqjo9obLSoYnGHxuf6nn/wCtV6v0TBwdPDwjLdJHzFeSlVk13CvO/FP/ACMt1/wD/wBAFeiVw/jKxaHU1u1BMc6gE+jDj+WP1rizeLlhrro/8xUX7xzlFFFfInWFFFFABRRRQAUUUUAFFFFABRRRQAUUUUAFFFFABRRRQAUUUUAFXdH/AOQ1af8AXUVSrZ8LWTXetRvj93B87H+VdGGi51oxXdEydkz0KiiivvThCiiigAooooAKKKKACiiigDE1Xw5HeyGe2YRSn7wxw1YreGNRDYCI3uHrtaK8uvlWGrS52rPyOynjKtNcq1OJ/wCEa1L/AJ5J/wB9ij/hGtS/55J/32K7aiuf+xMN3f3/APANP7Qq+RxP/CNal/zyT/vsUf8ACNal/wA8k/77FdtRR/YmG7v7/wDgB/aFXyOJ/wCEa1L/AJ5J/wB9imSeH7+Fd0qoozjJcV3NQ3cXn2sidyOPrQ8kw3d/f/wBrH1b62OH/si5/vRf9/BUsXh++mUtEsbAHGQ4q/0q/pM/l3JjPSQfrWayfDN6t/f/AMA2liqqV1YxP+Ea1L/nkn/fYo/4RrUv+eSf99iu2orT+xMN3f3/APAMP7Qq+RxP/CNal/zyT/vsUf8ACNal/wA8k/77FdtRR/YmG7v7/wDgB/aFXyOJ/wCEa1L/AJ5J/wB9ij/hGtS/55J/32K7aij+xMN3f3/8AP7Qq+RxP/CNal/zyT/vsUf8I1qX/PJP++xXbUUf2Jhu7+//AIAf2hV8jif+Ea1L/nkn/fYo/wCEa1L/AJ5J/wB9iu2oo/sTDd39/wDwA/tCr5HFL4Y1Etgoi+5etrSvDkdlIJ7lhLKPugD5V9/etuit6GVYajLnSu/MzqYyrNcr0CiiivVOMKgvLOG+tmguU3o35j3FT0UpRUlZ7AcTeeC7qNybKVJU7BztIqp/wierf88U/wC/gr0GivKllGGk7q6+Zr7WR59/wierf88U/wC/go/4RPVv+eKf9/BXoNFT/Y+H7v8Ar5D9tI8+/wCET1b/AJ4p/wB/BR/wierf88U/7+CvQaKP7Hw/d/18g9tI8+/4RPVv+eKf9/BR/wAInq3/ADxT/v4K9Boo/sfD93/XyD20jz7/AIRPVv8Anin/AH8FH/CJ6t/zxT/v4K9Boo/sfD93/XyD20jz7/hE9W/54p/38FH/AAierf8APFP+/gr0Go7iYQW7yH+Ece5pf2Ph+7/r5B7WTPPG8P3yMVbygQcEeYKQeH71mAXyiScAeYK32YsxZuSTk1c0uHzLwMRwgz+NZrKqDdtf6+R0NtK5zf8Awierf88U/wC/go/4RPVv+eKf9/BXoNFa/wBj4fu/6+Rz+2keff8ACJ6t/wA8U/7+Cj/hE9W/54p/38Feg0Uf2Ph+7/r5B7aR59/wierf88U/7+Cj/hE9W/54p/38Feg0Uf2Ph+7/AK+Qe2kcNa+DL6Rx9qeOFO+DuNdfp2nQaZaiC2XA6sx6sfU1aorrw+Co4d3gte5EpuW4UUUV2kBRRRQAUUUUAFFFFABRRRQAUUUUAFFFFABRRRQAUUUUAYGo2/kXbYHyv8wqqrFGDLwQcit7Urb7RakqPnTke9YFc8lZnZTlzROltphcW6yL3HI9DUtYulXXlTeU5+V+nsa2q2i7o5px5XYjnnitbd57h1jijUszseAK8z1v4n3Uk7xaJEsUQOBNIu5m98dBWh8VNUkhsbXTYnKicmSUDuB0H0z/ACFeX1xYitJS5YjjHqzoz4+8TZ/5CZH/AGxj/wDiaP8AhPvE3/QTP/fmP/4mucork9pPuy7I6P8A4T7xN/0Ez/35j/8AiaP+E+8Tf9BM/wDfmP8A+JrnKKPaT7sLI6P/AIT7xN/0Ez/35j/+Jo/4T7xN/wBBM/8AfmP/AOJrnKKPaT7sLI6P/hPvE3/QTP8A35j/APiaP+E+8Tf9BM/9+Y//AImucoo9pPuwsjo/+E+8Tf8AQTP/AH5j/wDiaP8AhPvE3/QTP/fmP/4mucoo9pPuwsjo/wDhPvE3/QTP/fmP/wCJo/4T7xN/0Ez/AN+Y/wD4mucoo9pPuwsjo/8AhPvE3/QTP/fmP/4mj/hPvE3/AEEz/wB+Y/8A4mucoo9pPuwsjo/+E+8Tf9BM/wDfmP8A+Jo/4T7xN/0Ez/35j/8Aia5yij2k+7CyOj/4T7xN/wBBM/8AfmP/AOJo/wCE+8Tf9BM/9+Y//ia5yij2k+7CyOj/AOE+8Tf9BM/9+Y//AImprb4i+IoJA0t0lwvdZIlAP5AVy1FHtZ92Fke2eFfGNr4kjaJl+z3iDLRE5DD1Wukr560u/m0vVLe8tm2yQuG+o7j6EcV9BQyrPBHKn3ZFDD6EZr0cPVdRWe6MpKw+snWLjLLAp6ctWjcTrbwNI3boPU1zjuZJGduSxya1m9LGlKN3cbW7pcHk2gZh80nP4dqyrK3NzcquPlHLfSuiAwMDpSprqXWl0CiiitTmCiiigAooooAKKKKACiiigAooooAKKKKACiiigAooooAKKKKACiiigAooooAKKKKACsHUrX7PcblHyPyPY+lb1RXMC3MDRt36H0NTKN0XCXKzmulb2n3YuYdrH94vX396xJY2hlaNxhlPNLDM0EyyIeR+tYxfKzpnFTRyXxX/AOQ1Y/8AXuf/AEI1wVdx8T51udUsJE6G3OR6Hca4evPr/wARmS0QUUUViMKKKKACiiigAooooAKKKsXNjd2axtd2s0CyjMZljKhx6jPXqKYFeiiikAUUUUAFFFFABRRRQAUUUUAFfQulHGi2RP8Az7x/+givnqvcVvsaLZ28R5+zx7z/AMBHFduFdmyXFydkLqN39pm2of3adPf3qnRWhpdn5snnSD5FPGe5rp1kzfSES/p1r9nt8sPnfk+3tVuiit0rKxxt3d2FFFFMQUUUUAFFFFABRRRQAUUUUAFFFFABRRRQAUUUUAFFFFABRRRQAUUUUAFFFFABRRRQAUUUUAUtRsvtMe+P/WKOPcelYRBBIPBFdVWdqOn+bmaAfP8AxKO9ZzjfVG9OpbRnl/xB/wCPyw/64t/6Ea5Cuv8AiDxeWOf+eLf+hGuQryqvxsp7k1pay3t5FbW67pZWCKPUmu4vX0TwMqWkdlHqmrbQ0sk/3IyRnp/T9ax/h7Gsnjaz3gHarsM+oU4rG1iaW41y+lnBWR7hyyk9DuPFOL5Icy3I3djoV+IFw7FbzSdOnhbgx+Tt49jXJAF2woJJPAFddY+B7W/WAQ+JNOM0ygiFXBcEjOMZzms/TtPOl/ECzsZHEhgv40LAYDYYU5RqO3MCt0MWO2nmlMcMMkjjqqoSR+FEdvPNIUhhkkcdVVSSPwruvE/iq50DXr2x0KGG1Jk8yacoHeR2APfgAZ6Vh+HdY8Qwm4g0CEyyzv5kjpAHYH+QFJwipctwu7XMKe0uLbH2mCWHPTzEK5/Ooa9V0Ztb1sXOk+MdPkaGWEtHO0IXaR7jjPcVyHgXTLe/1qW4v08y2sYGuHXGQxHQH9T+FN0tVbqFzA+xXXkef9mm8rGfM8s7cfWu0+I3/IM8O/8AXs3/AKClUbj4j6296zwNDHa5+W2MKldvoTjP61pfE2Xz7TQpdoTzIXbavQZCHFUlFU5cr7BrdHK6rfwXenafDDpa2bwRBXmBz9oOB83Qeme/Ws2KKSeQJDG0jnoqKST+Fdp41AHhHwvgAZtR/wCgJWrBp2q+HPC9kvhzTvO1C8TzLi6CBjH0woz9fpwfWk6bcnfoF9Dzea3mt223EMkTejqVP600IzKWCkqvUgcCvTXtdY1/wjqMXiex2Xdqvm21wyKhY4ORx9OfrWX4C+zr4f1+S8gW4hih8xom/iCgtj9KPY+8l3Dm0OLWyung85baZosZ8wRnb+dRJG8jYjRnPXCjNdppfxA1ebXbWKTyRZySrGbZIlCqCccHGeKra7ey+FfHmoPoyxw7gBtKBlAYKxwD05qXCNuZMLspeJvDi6NcWaWYuJhParM5Zc7WJORwPasFEaRwiKzMTgKBkmvSfGHi7VdIutPSyeICazSV90Qb5iTn+VUfh9FnTNYu7GOObV0TECvjjjPGfU/yq5U4upyxBN2ucTNZXVuoa4tpolPQvGVH61BXU6z4j8UmznsNdR1jmGCJrYJjn+EgD0965asZJJ6DQV7Fb/8AHpB/1xT/ANBFeO17Rp1s91DbqnTyUy3p8orfD6tlxdndk1naNdTADhB95vSugRFjQIgwoGAKbBAlvEI4xwOp9akr0oxsjGc+ZhRRRVGYUUUUAFFFFABRRRQAUUUUAFFFFABRRRQAUUUUAFFFFABRRRQAUUUUAFFFFABRRRQAUUUUAFFFFABRRRQB5X8VlC61ZbRjMBJ/76NcHXe/Ff8A5DVj/wBe5/8AQjXBV5Ff+IzaOxoaHqbaPrdtfJk+S+WA7r0I/Kuo8Q+FW1q6fWfC5W8t7o+ZJEjDdG55PHv1rh6sWd/d6fN5tjcy28ndonKk/lURkrcsthtdTqPCPhzWLbxVZT3GnzxRRSZd2XAAwaZcf8lbH/YTT/0MVkyeK9elQo+rXeD1xKR/KsxJ5o7gTpK6zK28SBiGDdc56596rniklHvcVmbvjz/kdtQ/3l/9AFdBoK6g3w2l/wCEbIF99qPn+X/rCnt79PwzXBT3E11O011NJNK33pJGLMfqTU1jqV7pkxl0+6ltnIwTG5GR7+tCqJTcu4W0PSfBNv4ljvnk1uaZbUxMFinflm45Armfh9exxatdafcS+VFqFu0IOB9/t+hb86wZNd1WW8+1PqV0Zwu0SCZgwX0BB4HtVEEg5HBqnVStboFjfl8Ea9HqBtRYSP8ANgSDGwj1z6VvfEtPKstBjLKxSB1JU5BICCuUPiTWmtTbNqt2YiNpUzHkemeuKpTXdzcRRRT3EsscIxEjuSEHoAenTtU88FFqPULO+p2PjX/kUPC//XoP/QErU1CTVPEXhfTb7w3cyebbx+Vc28MmCDgf4frXnc97dXMMUVzczTRwjbEkkhYRj0APToOlOstRvNOlMlhdTW7nqYnK5+uOtV7Vcz7MOXQ3Z7fxgtnPLdfb0t41JlMjkADv3rR8E/8AIp+J/wDrzf8A9AauavPEOr38JivNSuZYj1RpDtP1HeqkF7dW0MsVtczQxzLtkSOQqHHTBA6ipU0pXVwtoTaP/wAhyw/6+Y//AEIVr/ED/kd77/gH/oC1zqO0civGxR1IKspwQfUU+4uZ7udprqaSeVvvSSOWY/Umo5vc5R9TuvGeiahqy6ReaZbNdQ/YkjLRc4Iyf61y+naPrheWfS7e48y3kMcjQnDIw6jiobPxBq+n24gstRuIYh0RZDgfT0plprOpWEsktnfXELyndIVkPzn1PqauUoSlzais0jvbV9WbwVrH/CXg+SIT9mNwBv34OMd+uK80q7f6xqOqbf7QvZ7gL90SOSB+FUqVSala3QaVgr6D0dFTRrPaMboEJ9/lFfPlfQuk/wDIFsv+veP/ANBFdOE3ZEy3RRRXoGYUUUUAFFFFABRRRQAUUUUAFFFFABRRRQAUUUUAFFFFABRRRQAUUUUAFFFFABRRRQAUUUUAFFFFABRRRQAUUUUAeWfFf/kNWP8A17n/ANCNcFXffFdT/a9g+PlMBGffdXA15Ff+IzaOwUUUVgUFFFFABRRRQAUUUUAFFFFABRRRQAUUUUAFFFFABRRRQAUUUUAFfQuk/wDIFsv+veP/ANBFfPQ5r6G0tSukWasMEQICP+Aiu7B7szmWqKKK9AzCiiigAooooAKKKKACiiigAooooAKKKKACiiigAooooAKKKKACiiigAooooAKKKKACiiigAooooAKKKKACiiigDlfH/h6TXNEWS0XddWhLoo/jU/eH14B/CvGiCrEMCCOCD2r6Prnda8D6NrUrTSxNbztyZYCFJPuOhrkr4dzfNHcuMrHiNFeon4T2WeNTuMf9c1pP+FT2f/QTn/79iuX6tV7F8yPL6K9Q/wCFT2f/AEE5/wDv2KP+FT2f/QTn/wC/Yo+rVewcyPL6K9Q/4VPZ/wDQTn/79ij/AIVPZ/8AQTn/AO/Yo+rVewcyPL6K9Q/4VPZ/9BOf/v2KP+FT2f8A0E5/+/Yo+rVewcyPL6K9Q/4VPZ/9BOf/AL9ij/hU9n/0E5/+/Yo+rVewcyPL6K9Q/wCFT2f/AEE5/wDv2KP+FT2f/QTn/wC/Yo+rVewcyPL6K9Q/4VPZ/wDQTn/79ij/AIVPZ/8AQTn/AO/Yo+rVewcyPL6K9Q/4VPZ/9BOf/v2KP+FT2f8A0E5/+/Yo+rVewcyPL6K9Q/4VPZ/9BOf/AL9ij/hU9n/0E5/+/Yo+rVewcyPL6K9Q/wCFT2f/AEE5/wDv2KntfhXpUUoa5u7mdR/BwoP9aPq1TsHMjh/CPh2bX9ajTaRawsHnk7ADt9TXuIGBgdKrWGnWml2q29hAkMS/wqOvufWrNd9Gl7ONupnJ3CiiitiQooooAKKKKACiiigAooooAKKKKACiiigAooooAKKKKACiiigAooooAKKKKACiiigAooooAKKKKACiiigAooooAKKKKACiiigAooooAKKKKACiiigAooooAKKKKACiiigAooooAKKKKACiiigAooooAKKKKACiiigAooooAKKKKACiiigAooooAKKKKACiiigAooooA//Z)"
      ],
      "metadata": {
        "id": "MDwJPWE-aCkl"
      }
    },
    {
      "cell_type": "markdown",
      "source": [
        "The usual way for deep learning practitioners to customize the training loop is to make a copy of an existing training loop, and then insert the code necessary for their particular changes into it. This is how nearly all code that you find online will look. But it has some very serious problems.\n",
        "\n",
        "It's not very likely that some particular tweaked training loop is going to meet your particular needs. There are hundreds of changes that can be made to a training loop, which means there are billions and billions of possible permutations. You can't just copy one tweak from a training loop here, another from a training loop there, and expect them all to work together. Each will be based on different assumptions about the environment that it's working in, use different naming conventions, and expect the data to be in different formats.\n",
        "\n",
        "We need a way to allow users to insert their own code at any part of the training loop, but in a consistent and well-defined way. Computer scientists have already come up with an elegant solution: the callback. A callback is a piece of code that you write, and inject into another piece of code at some predefined point. In fact, callbacks have been used with deep learning training loops for years. The problem is that in previous libraries it was only possible to inject code in a small subset of places where this may have been required, and, more importantly, callbacks were not able to do all the things they needed to do.\n",
        "\n",
        "In order to be just as flexible as manually copying and pasting a training loop and directly inserting code into it, a callback must be able to read every possible piece of information available in the training loop, modify all of it as needed, and fully control when a batch, epoch, or even the whole training loop should be terminated. fastai is the first library to provide all of this functionality. It modifies the training loop so it looks like:"
      ],
      "metadata": {
        "id": "6fwF97RwaD4v"
      }
    },
    {
      "cell_type": "markdown",
      "source": [
        "![Capture.JPG](data:image/jpeg;base64,/9j/4AAQSkZJRgABAQEAkACQAAD/4REKRXhpZgAATU0AKgAAAAgABAE7AAIAAAAVAAAISodpAAQAAAABAAAIYJydAAEAAAAqAAAQ2OocAAcAAAgMAAAAPgAAAAAc6gAAAAgAAAAAAAAAAAAAAAAAAAAAAAAAAAAAAAAAAAAAAAAAAAAAAAAAAAAAAAAAAAAAAAAAAAAAAAAAAAAAAAAAAAAAAAAAAAAAAAAAAAAAAAAAAAAAAAAAAAAAAAAAAAAAAAAAAAAAAAAAAAAAAAAAAAAAAAAAAAAAAAAAAAAAAAAAAAAAAAAAAAAAAAAAAAAAAAAAAAAAAAAAAAAAAAAAAAAAAAAAAAAAAAAAAAAAAAAAAAAAAAAAAAAAAAAAAAAAAAAAAAAAAAAAAAAAAAAAAAAAAAAAAAAAAAAAAAAAAAAAAAAAAAAAAAAAAAAAAAAAAAAAAAAAAAAAAAAAAAAAAAAAAAAAAAAAAAAAAAAAAAAAAAAAAAAAAAAAAAAAAAAAAAAAAAAAAAAAAAAAAAAAAAAAAAAAAAAAAAAAAAAAAAAAAAAAAAAAAAAAAAAAAAAAAAAAAAAAAAAAAAAAAAAAAAAAAAAAAAAAAAAAAAAAAAAAAAAAAAAAAAAAAAAAAAAAAAAAAAAAAAAAAAAAAAAAAAAAAAAAAAAAAAAAAAAAAAAAAAAAAAAAAAAAAAAAAAAAAAAAAAAAAAAAAAAAAAAAAAAAAAAAAAAAAAAAAAAAAAAAAAAAAAAAAAAAAAAAAAAAAAAAAAAAAAAAAAAAAAAAAAAAAAAAAAAAAAAAAAAAAAAAAAAAAAAAAAAAAAAAAAAAAAAAAAAAAAAAAAAAAAAAAAAAAAAAAAAAAAAAAAAAAAAAAAAAAAAAAAAAAAAAAAAAAAAAAAAAAAAAAAAAAAAAAAAAAAAAAAAAAAAAAAAAAAAAAAAAAAAAAAAAAAAAAAAAAAAAAAAAAAAAAAAAAAAAAAAAAAAAAAAAAAAAAAAAAAAAAAAAAAAAAAAAAAAAAAAAAAAAAAAAAAAAAAAAAAAAAAAAAAAAAAAAAAAAAAAAAAAAAAAAAAAAAAAAAAAAAAAAAAAAAAAAAAAAAAAAAAAAAAAAAAAAAAAAAAAAAAAAAAAAAAAAAAAAAAAAAAAAAAAAAAAAAAAAAAAAAAAAAAAAAAAAAAAAAAAAAAAAAAAAAAAAAAAAAAAAAAAAAAAAAAAAAAAAAAAAAAAAAAAAAAAAAAAAAAAAAAAAAAAAAAAAAAAAAAAAAAAAAAAAAAAAAAAAAAAAAAAAAAAAAAAAAAAAAAAAAAAAAAAAAAAAAAAAAAAAAAAAAAAAAAAAAAAAAAAAAAAAAAAAAAAAAAAAAAAAAAAAAAAAAAAAAAAAAAAAAAAAAAAAAAAAAAAAAAAAAAAAAAAAAAAAAAAAAAAAAAAAAAAAAAAAAAAAAAAAAAAAAAAAAAAAAAAAAAAAAAAAAAAAAAAAAAAAAAAAAAAAAAAAAAAAAAAAAAAAAAAAAAAAAAAAAAAAAAAAAAAAAAAAAAAAAAAAAAAAAAAAAAAAAAAAAAAAAAAAAAAAAAAAAAAAAAAAAAAAAAAAAAAAAAAAAAAAAAAAAAAAAAAAAAAAAAAAAAAAAAAAAAAAAAAAAAAAAAAAAAAAAAAAAAAAAAAAAAAAAAAAAAAAAAAAAAAAAAAAAAAAAAAAAAAAAAAAAAAAAAAAAAAAAAAAAAAAAAAAAAAAAAAAAAAAAAAAAAAAAAAAAAAAAAAAAAAAAAAAAAAAAAAAAAAAAAAAAAAAAAAAAAAAAAAAAAAAAAAAAAAAAAAAAAAAAAAAAAAAAAAAAAAAAAAAAAAAAAAAAAAAAAAAAAAAAAAAAAAAAAAAAAAAAAAAAAAAAAAAAAAAAAAAAAAAAAAAAAAAAAAAAAAAAAAAAAAAAAAAAAAAAAAAAAAAAAAAAAAAAAAAAAAAAAAAAAAAAAAAAAAAAAAAAAAAAAAAAAAAAAAAAAAAAAAAAAAAAAAAAAAAAAAAAAAAAAAAAAAAAAAAAAAAAAAAAAAAAAAAAAAAAAAAAAAAAAAAAAAAAAAAAAAAAAAAAAAAAAAAAAAAAAAAAAAAAAAAAAAAAAAAAAAAAAAAAAAAAAAAAAAAAAAAAAAAAAAAAAAAAAAAAAAAAAAAAAAAAAAAAAAAAAAAAAAAAAAAAAAAAAAAAAAAAAAAAAAAAAAAAAAAAAAAAAAAAAAAAAAAAAAAAAAAAAAAAAAAAAAAAAAAAAAAAAAAAAAAAAAAAAAAAAAAAAAAAAAAAAAAAAAAAAAAAAAAAAAAAAAAAAAAAAAAAAAAAAAAAAAAAAAAAAAAAAAAAAAAAAAAAAAAAAAAAAAAAAAAAAAAAAAAAAAAAAAAAAAAAAAAAAAAAAAAAAAAAAAAAAAAAAAAAAAAAAAAAAAAAAAAAAAAAAAAAAAAAAAAAAAAAAAAAAAAAAAAAAAAAAAAAAAAAAAAAAAAAAAAAAAAAAAAAAAAAAAAAAAAAAAAAAAAAAAAAAAAAAAAAAAAAAAAAAAAAAAAAAAAAAAAAAAAAAAAAAAAAAAAAAAAAAAAAAAAAAAAAAAAAAAAAAAAAAAAAAAAAAAAAAAAAAAAAAAAAAAAAAAAAAAAAAAAAAAAAAAAAAAAAAAAAAAAAAAAAAAAAAAAAAAAAAAAAAAAAAAAAAAAAAAAAAAAAAAAAAAAAAAAAAAAAAAAAAAAAAAAAAAAAAAAAAAAAAAAAAAAAAAAAAAAAAAAAAAAAAAAAAAAAAAAAAAAAAAAAAAAAAAAAAAAAAAAAAAAAAAAAAAAAAAAAAAAAAAAAAAAAAAAAAAAAAAAAAAAAAAAAAAAAAAAAAAAAAAAAAAAAAAAAAAAAAAAAEZvcnR1bnkgU2ljYXJ0LCBBbGFuAAAABZADAAIAAAAUAAAQrpAEAAIAAAAUAAAQwpKRAAIAAAADMjUAAJKSAAIAAAADMjUAAOocAAcAAAgMAAAIogAAAAAc6gAAAAgAAAAAAAAAAAAAAAAAAAAAAAAAAAAAAAAAAAAAAAAAAAAAAAAAAAAAAAAAAAAAAAAAAAAAAAAAAAAAAAAAAAAAAAAAAAAAAAAAAAAAAAAAAAAAAAAAAAAAAAAAAAAAAAAAAAAAAAAAAAAAAAAAAAAAAAAAAAAAAAAAAAAAAAAAAAAAAAAAAAAAAAAAAAAAAAAAAAAAAAAAAAAAAAAAAAAAAAAAAAAAAAAAAAAAAAAAAAAAAAAAAAAAAAAAAAAAAAAAAAAAAAAAAAAAAAAAAAAAAAAAAAAAAAAAAAAAAAAAAAAAAAAAAAAAAAAAAAAAAAAAAAAAAAAAAAAAAAAAAAAAAAAAAAAAAAAAAAAAAAAAAAAAAAAAAAAAAAAAAAAAAAAAAAAAAAAAAAAAAAAAAAAAAAAAAAAAAAAAAAAAAAAAAAAAAAAAAAAAAAAAAAAAAAAAAAAAAAAAAAAAAAAAAAAAAAAAAAAAAAAAAAAAAAAAAAAAAAAAAAAAAAAAAAAAAAAAAAAAAAAAAAAAAAAAAAAAAAAAAAAAAAAAAAAAAAAAAAAAAAAAAAAAAAAAAAAAAAAAAAAAAAAAAAAAAAAAAAAAAAAAAAAAAAAAAAAAAAAAAAAAAAAAAAAAAAAAAAAAAAAAAAAAAAAAAAAAAAAAAAAAAAAAAAAAAAAAAAAAAAAAAAAAAAAAAAAAAAAAAAAAAAAAAAAAAAAAAAAAAAAAAAAAAAAAAAAAAAAAAAAAAAAAAAAAAAAAAAAAAAAAAAAAAAAAAAAAAAAAAAAAAAAAAAAAAAAAAAAAAAAAAAAAAAAAAAAAAAAAAAAAAAAAAAAAAAAAAAAAAAAAAAAAAAAAAAAAAAAAAAAAAAAAAAAAAAAAAAAAAAAAAAAAAAAAAAAAAAAAAAAAAAAAAAAAAAAAAAAAAAAAAAAAAAAAAAAAAAAAAAAAAAAAAAAAAAAAAAAAAAAAAAAAAAAAAAAAAAAAAAAAAAAAAAAAAAAAAAAAAAAAAAAAAAAAAAAAAAAAAAAAAAAAAAAAAAAAAAAAAAAAAAAAAAAAAAAAAAAAAAAAAAAAAAAAAAAAAAAAAAAAAAAAAAAAAAAAAAAAAAAAAAAAAAAAAAAAAAAAAAAAAAAAAAAAAAAAAAAAAAAAAAAAAAAAAAAAAAAAAAAAAAAAAAAAAAAAAAAAAAAAAAAAAAAAAAAAAAAAAAAAAAAAAAAAAAAAAAAAAAAAAAAAAAAAAAAAAAAAAAAAAAAAAAAAAAAAAAAAAAAAAAAAAAAAAAAAAAAAAAAAAAAAAAAAAAAAAAAAAAAAAAAAAAAAAAAAAAAAAAAAAAAAAAAAAAAAAAAAAAAAAAAAAAAAAAAAAAAAAAAAAAAAAAAAAAAAAAAAAAAAAAAAAAAAAAAAAAAAAAAAAAAAAAAAAAAAAAAAAAAAAAAAAAAAAAAAAAAAAAAAAAAAAAAAAAAAAAAAAAAAAAAAAAAAAAAAAAAAAAAAAAAAAAAAAAAAAAAAAAAAAAAAAAAAAAAAAAAAAAAAAAAAAAAAAAAAAAAAAAAAAAAAAAAAAAAAAAAAAAAAAAAAAAAAAAAAAAAAAAAAAAAAAAAAAAAAAAAAAAAAAAAAAAAAAAAAAAAAAAAAAAAAAAAAAAAAAAAAAAAAAAAAAAAAAAAAAAAAAAAAAAAAAAAAAAAAAAAAAAAAAAAAAAAAAAAAAAAAAAAAAAAAAAAAAAAAAAAAAAAAAAAAAAAAAAAAAAAAAAAAAAAAAAAAAAAAAAAAAAAAAAAAAAAAAAAAAAAAAAAAAAAAAAAAAAAAAAAAAAAAAAAAAAAAAAAAAAAAAAAAAAAAAAAAAAAAAAAAAAAAAAAAAAAAAAAAAAAAAAAAAAAAAAAAAAAAAAAAAAAAAAAAAAAAAAAAAAAAAAAAAAAAAAAAAAAAAAAAAAAAAAAAAAAAAAAAAAAAAAAAAAAAAAAAAAAAAAAAAAAAAAAAAAAAAAAAAAAAAAAAAAAAAAAAAAAAAAAAAAAAAAAAAAAAAAAAAAAAAAAAAAAAAAAAAAAAAAAAAAAAAAAAAAAAAAAAAAAAAAAAAAAAAAAAAAAAAAAAAAAAAAAAAAAAAAAAAAAAAAAAAAAAAAAAAAAAAAAAAAAAAAAAAAAAAAAAAAAAAAAAAAAAAAAAAAAAAAAAAAAAAAAAAAAAAAAAAAAAAAAAAAAAAAAAAAAAAAAAAAAAAAAAAAAAAAAAAAAAAAAAAAAAAAAAAAAAAAAAAAAAAAAAAAAAAAAAAAAAAAAAAAAAAAAAAAAAAAAAAAAAAAAAAAAAAAAAAAAAAAAAAAAAAAAAAAAAAAAAAAAAAAAAAAAAAAAAAAAAAAAAAAAAAAAAAAAAAAAAAAAAAAAAAAAAAAAAAAAAAAAAAAAAAAAAAAAAAAAAAAAAAAAAAAAAAAAAAAAAAAAAAAAAAAAAAAAAAAAAAAAAAAAAAAAAAAAAAAAAAAAAAAAAAAAAAAAAAAAAAAAAAAAAAAAAAAAAAAAAAAAAAAAAAAAAAAAAAAAAAAAAAAAAAAAAAAAAAAAAAAAAAAAAAAAAAAAAAAAAAAAAAAAAAAAAAAAAAAAAAAAAAAAAAAAAAAAAAAAAAAAAAAAAAAAAAAAAAAAAAAAAAAAAAAAAAAAAAAAAAAAAAAAAAAAAAAAAAAAAAAAAAAAAAAAAAAAAAAAAAAAAAAAAAAAAAAAAAAAAAAAAAAAAAAAAAAAAAAAAAAAAAAAAAAAAAAAAAAAAADIwMjI6MTA6MDMgMTc6MTQ6NTEAMjAyMjoxMDowMyAxNzoxNDo1MQAAAEYAbwByAHQAdQBuAHkAIABTAGkAYwBhAHIAdAAsACAAQQBsAGEAbgAAAP/hCydodHRwOi8vbnMuYWRvYmUuY29tL3hhcC8xLjAvADw/eHBhY2tldCBiZWdpbj0n77u/JyBpZD0nVzVNME1wQ2VoaUh6cmVTek5UY3prYzlkJz8+DQo8eDp4bXBtZXRhIHhtbG5zOng9ImFkb2JlOm5zOm1ldGEvIj48cmRmOlJERiB4bWxuczpyZGY9Imh0dHA6Ly93d3cudzMub3JnLzE5OTkvMDIvMjItcmRmLXN5bnRheC1ucyMiPjxyZGY6RGVzY3JpcHRpb24gcmRmOmFib3V0PSJ1dWlkOmZhZjViZGQ1LWJhM2QtMTFkYS1hZDMxLWQzM2Q3NTE4MmYxYiIgeG1sbnM6ZGM9Imh0dHA6Ly9wdXJsLm9yZy9kYy9lbGVtZW50cy8xLjEvIi8+PHJkZjpEZXNjcmlwdGlvbiByZGY6YWJvdXQ9InV1aWQ6ZmFmNWJkZDUtYmEzZC0xMWRhLWFkMzEtZDMzZDc1MTgyZjFiIiB4bWxuczp4bXA9Imh0dHA6Ly9ucy5hZG9iZS5jb20veGFwLzEuMC8iPjx4bXA6Q3JlYXRlRGF0ZT4yMDIyLTEwLTAzVDE3OjE0OjUxLjI0ODwveG1wOkNyZWF0ZURhdGU+PC9yZGY6RGVzY3JpcHRpb24+PHJkZjpEZXNjcmlwdGlvbiByZGY6YWJvdXQ9InV1aWQ6ZmFmNWJkZDUtYmEzZC0xMWRhLWFkMzEtZDMzZDc1MTgyZjFiIiB4bWxuczpkYz0iaHR0cDovL3B1cmwub3JnL2RjL2VsZW1lbnRzLzEuMS8iPjxkYzpjcmVhdG9yPjxyZGY6U2VxIHhtbG5zOnJkZj0iaHR0cDovL3d3dy53My5vcmcvMTk5OS8wMi8yMi1yZGYtc3ludGF4LW5zIyI+PHJkZjpsaT5Gb3J0dW55IFNpY2FydCwgQWxhbjwvcmRmOmxpPjwvcmRmOlNlcT4NCgkJCTwvZGM6Y3JlYXRvcj48L3JkZjpEZXNjcmlwdGlvbj48L3JkZjpSREY+PC94OnhtcG1ldGE+DQogICAgICAgICAgICAgICAgICAgICAgICAgICAgICAgICAgICAgICAgICAgICAgICAgICAgICAgICAgICAgICAgICAgICAgICAgICAgICAgICAgICAgICAgICAgICAgICAgICAgCiAgICAgICAgICAgICAgICAgICAgICAgICAgICAgICAgICAgICAgICAgICAgICAgICAgICAgICAgICAgICAgICAgICAgICAgICAgICAgICAgICAgICAgICAgICAgICAgICAgICAKICAgICAgICAgICAgICAgICAgICAgICAgICAgICAgICAgICAgICAgICAgICAgICAgICAgICAgICAgICAgICAgICAgICAgICAgICAgICAgICAgICAgICAgICAgICAgICAgICAgIAogICAgICAgICAgICAgICAgICAgICAgICAgICAgICAgICAgICAgICAgICAgICAgICAgICAgICAgICAgICAgICAgICAgICAgICAgICAgICAgICAgICAgICAgICAgICAgICAgICAgCiAgICAgICAgICAgICAgICAgICAgICAgICAgICAgICAgICAgICAgICAgICAgICAgICAgICAgICAgICAgICAgICAgICAgICAgICAgICAgICAgICAgICAgICAgICAgICAgICAgICAKICAgICAgICAgICAgICAgICAgICAgICAgICAgICAgICAgICAgICAgICAgICAgICAgICAgICAgICAgICAgICAgICAgICAgICAgICAgICAgICAgICAgICAgICAgICAgICAgICAgIAogICAgICAgICAgICAgICAgICAgICAgICAgICAgICAgICAgICAgICAgICAgICAgICAgICAgICAgICAgICAgICAgICAgICAgICAgICAgICAgICAgICAgICAgICAgICAgICAgICAgCiAgICAgICAgICAgICAgICAgICAgICAgICAgICAgICAgICAgICAgICAgICAgICAgICAgICAgICAgICAgICAgICAgICAgICAgICAgICAgICAgICAgICAgICAgICAgICAgICAgICAKICAgICAgICAgICAgICAgICAgICAgICAgICAgICAgICAgICAgICAgICAgICAgICAgICAgICAgICAgICAgICAgICAgICAgICAgICAgICAgICAgICAgICAgICAgICAgICAgICAgIAogICAgICAgICAgICAgICAgICAgICAgICAgICAgICAgICAgICAgICAgICAgICAgICAgICAgICAgICAgICAgICAgICAgICAgICAgICAgICAgICAgICAgICAgICAgICAgICAgICAgCiAgICAgICAgICAgICAgICAgICAgICAgICAgICAgICAgICAgICAgICAgICAgICAgICAgICAgICAgICAgICAgICAgICAgICAgICAgICAgICAgICAgICAgICAgICAgICAgICAgICAKICAgICAgICAgICAgICAgICAgICAgICAgICAgICAgICAgICAgICAgICAgICAgICAgICAgICAgICAgICAgICAgICAgICAgICAgICAgICAgICAgICAgICAgICAgICAgICAgICAgIAogICAgICAgICAgICAgICAgICAgICAgICAgICAgICAgICAgICAgICAgICAgICAgICAgICAgICAgICAgICAgICAgICAgICAgICAgICAgICAgICAgICAgICAgICAgICAgICAgICAgCiAgICAgICAgICAgICAgICAgICAgICAgICAgICAgICAgICAgICAgICAgICAgICAgICAgICAgICAgICAgICAgICAgICAgICAgICAgICAgICAgICAgICAgICAgICAgICAgICAgICAKICAgICAgICAgICAgICAgICAgICAgICAgICAgICAgICAgICAgICAgICAgICAgICAgICAgICAgICAgICAgICAgICAgICAgICAgICAgICAgICAgICAgICAgICAgICAgICAgICAgIAogICAgICAgICAgICAgICAgICAgICAgICAgICAgICAgICAgICAgICAgICAgICAgICAgICAgICAgICAgICAgICAgICAgICAgICAgICAgICAgICAgICAgICAgICAgICAgICAgICAgCiAgICAgICAgICAgICAgICAgICAgICAgICAgICAgICAgICAgICAgICAgICAgICAgICAgICAgICAgICAgICAgICAgICAgICAgICAgICAgICAgICAgICAgICAgICAgICAgICAgICAKICAgICAgICAgICAgICAgICAgICAgICAgICAgICAgICAgICAgICAgICAgICAgICAgICAgICAgICAgICAgICAgICAgICAgICAgICAgICAgICAgICAgICAgICAgICAgICAgICAgIAogICAgICAgICAgICAgICAgICAgICAgICAgICAgICAgICAgICAgICAgICAgICAgICAgICAgICAgICAgICAgICAgICAgICAgICAgICAgICAgICAgICAgICAgICAgICAgICAgICAgCiAgICAgICAgICAgICAgICAgICAgICAgICAgICAgICAgICAgICAgICAgICAgICAgICAgICAgICAgICAgICAgICAgICAgICAgICAgICAgICAgICAgICAgICAgICAgICAgICAgICAKICAgICAgICAgICAgICAgICAgICAgICAgICAgIDw/eHBhY2tldCBlbmQ9J3cnPz7/2wBDAAcFBQYFBAcGBQYIBwcIChELCgkJChUPEAwRGBUaGRgVGBcbHichGx0lHRcYIi4iJSgpKywrGiAvMy8qMicqKyr/2wBDAQcICAoJChQLCxQqHBgcKioqKioqKioqKioqKioqKioqKioqKioqKioqKioqKioqKioqKioqKioqKioqKioqKir/wAARCAHmAvUDASIAAhEBAxEB/8QAHwAAAQUBAQEBAQEAAAAAAAAAAAECAwQFBgcICQoL/8QAtRAAAgEDAwIEAwUFBAQAAAF9AQIDAAQRBRIhMUEGE1FhByJxFDKBkaEII0KxwRVS0fAkM2JyggkKFhcYGRolJicoKSo0NTY3ODk6Q0RFRkdISUpTVFVWV1hZWmNkZWZnaGlqc3R1dnd4eXqDhIWGh4iJipKTlJWWl5iZmqKjpKWmp6ipqrKztLW2t7i5usLDxMXGx8jJytLT1NXW19jZ2uHi4+Tl5ufo6erx8vP09fb3+Pn6/8QAHwEAAwEBAQEBAQEBAQAAAAAAAAECAwQFBgcICQoL/8QAtREAAgECBAQDBAcFBAQAAQJ3AAECAxEEBSExBhJBUQdhcRMiMoEIFEKRobHBCSMzUvAVYnLRChYkNOEl8RcYGRomJygpKjU2Nzg5OkNERUZHSElKU1RVVldYWVpjZGVmZ2hpanN0dXZ3eHl6goOEhYaHiImKkpOUlZaXmJmaoqOkpaanqKmqsrO0tba3uLm6wsPExcbHyMnK0tPU1dbX2Nna4uPk5ebn6Onq8vP09fb3+Pn6/9oADAMBAAIRAxEAPwD6RooooAKKKKACiiigAooooAKKKKACiiigAooooAKKKKACiiigAooooAKKKKACiiigAooooAKKKKACiiigAooooAKKKKACiiigAooooAKKKKACiiigAooooAKKKKACiiigAooooAKKKKACiiigAooooAKKKKACiiigAooooAKKKKACiiigAooooAKKKKACiiigAooooAKKKKACiiigAooooAKKKKACiiigAooooAKKKKACiiigAooooAKKKKACiiigAooooAKKKKACiiigAooooAKKKKACiiigAooooAKKKKACiiigAooooAKKKKACiiigAooooAKKKKACiiigAooooAKKKKACiiigApCQOpA+tU9X1KPSNLmvJeRGvA9T2FeO6n4j1PVLkyz3UijJ2ojEBRVxg5Eykke2+Yn99fzo8xP76/nXgv2+7/5+p/8Av4aPt93/AM/U/wD38NX7LzJ9oe9eYn99fzo8xP76/nXgv2+7/wCfqf8A7+Gj7fd/8/U//fw0ey8w9oe9eYn99fzo8xP76/nXgv2+7/5+p/8Av4aPt93/AM/U/wD38NHsvMPaHvXmJ/fX86PMT++v514L9vu/+fqf/v4aPt93/wA/U/8A38NHsvMPaHvXmJ/fX86PMT++v514L9vu/wDn6n/7+Gj7fd/8/U//AH8NHsvMPaHvXmJ/fX86PMT++v514L9vu/8An6n/AO/ho+33f/P1P/38NHsvMPaHvXmJ/fX86PMT++v514L9vu/+fqf/AL+Gj7fd/wDP1P8A9/DR7LzD2h715if31/OjzE/vr+deC/b7v/n6n/7+Gj7fd/8AP1P/AN/DR7LzD2h715if31/OjzE/vr+deC/b7v8A5+p/+/ho+33f/P1P/wB/DR7LzD2h715if31/OnAgjIOa8D+33f8Az9T/APfw1qaJ4q1HSLtWE7ywk/PG7Egil7JhzntFFRWtyl5aRXERykihhUtZGgUUUUAFFFFABRRRQAUUUUAFFFFABRRRQAUUUUAFFFFABRRRQAUUUUAFFFFABRRRQAUUUUAFFFFABRRRQAUUUUAFFFFABRRRQAUUUUAFFFFABRRRQAUUUUAFFFFABRRRQAUUUUAFFFFABRRRQAUUUUAFFFFABRRRQAUUUUAFFFFABRRRQAUUUUAFFFFABRRRQBy3xDP/ABScn/XVP515LXrXxD/5FOT/AK6p/OvJa6KfwmM9worR07RjqMDSjULC22tt23VwI2PHUA9ua0JvB1zb7PtGqaTF5iB033YXcp6EZHI96u6JsznqKfNF5NxJFvR9jFd8bZVsHGQe4plMQUUqIZJFRerEAZq1qmmzaRqUtjdFDLFjcUORyAev0NAFSiirtnpVxfafe3kJjEdkqtIGbBO7OMevSgClRRRTAKKKKACiitGy0r7Zo+o3/nbPsIjOzZnfvYjrnjGPekBnUUUUwCipJ4JrWZobmJ4ZV+8kilWH1BqOkAUUUUwPavCRz4T0/P8AzyFbNY3hH/kU9P8A+uQrZrjludC2CiiikMKKKKACiiigAooooAKKKKACiiigAooooAKKKKACiiigAooooAKKKKACiiigAooooAKKKKACiiigAooooAKKKKACiiigAooooAKKKKACiiigAooooAKKKKACiiigAooooAKKKKACiiigAooooAKKKKACiiigAooooAKKKKACiiigAooooAKKKKACiiigDlviH/yKcn/XVP515LXrXxD/AORTk/66p/OvJa6KfwmM9wrofF/39G/7BUP82rnq3fFNxDcPpP2eaOXy9MhR9jBtrAtkHHQ+1W90T0Jo9J0S10DT9S1S4vN90JB9ntwuWKuRkEjAAGOuSSeOlUbBNFczfbI9SkO8+Utvs4T/AGiR1+gqbVZ4ZPC2hRRyo8kSz+YisCUzJkZHbIrY0O9R/CiWWlarbaTfrMWuHuHEfnL2w2D04GPap1sPqZWt6Ha2cOn3unSzPZ32QFnAEkbKcEHHH/6qujwtZt4+l0MSzi2VMhyw358sN6Y6n0qx4rvop9J0iJtVg1G4hmkE0sZHqMcDtjjPfGasrqNl/wALXmu/tlv9mKYE/mrsP7kD72cdeKV3Ydlcy9P0fw9q98dMsLi/+1sjeXPIEETsoz93GQDgnrms/StHhvdG1i6naRZbFEaNVIwSSQc8e1SeC7iG18XWU11NHDEvmbnkYKo/dsOSasaPdW8Wg+JI5Z4keZEESs4Bk+Zug7/hTd0LQE0fRrbwzp+q6nNeFroyKYYNvJViAQT0GBz161BrGi2kWn6df6PJPJBfFkEU+N6uDjGRwak1S5gk8DaHBHNG00TzGSNXBZMucZHUU65voY/COhCKWN57e4ld4g43L82RkdRmjUNB1/pWgaJcCx1Sa/nvUUGZrUII0JGQAG5PB9v6VT8UaRb6Jqy2tpJJJGYUfdJjJJ+grW1mx07xBqMmr2ut2dtFMoaWG5YrJGQoBAXHzdO1V/H+3/hJECtuAtoxn8DQnqhtaFLRtHtbjTbrVNWmkisrdgm2EDzJHPYZ4rWtl0r/AIQzXn0hroZEAkjudpK/PwQV4IOT+VUNGmsb/wAP3GiX10tnI1wLm3nk+5uxtIY9uP8APrdFnZaN4V1i2OsWV3dXSQkR28m4AK/Zu55PHbFD3BGPpseiPaj7fFqcs+Tv+zbAqjt1yT+lWtU0fTdG1aH7S91caddW4nhaIqsmD0ByMfp3rbsr0XPh7ToNE1y00hoBi6jncRs7/wB4cfN9KzPHF7Dez6a0N7HesloqySxkfM2eSQOhPXFF22FtCTxydL/t6+Cpef2huTLFl8r7q9sZ6e/Wqun2fhy7aCGUasjyAK04CeWG+mCcZ96s+Krazvr6fXLXVLKaGXY32YSfvuiqRt/WtubUGm1CO807xRZWWlIqbLXIDooABXy8c96V7JB1OE1WwfS9VuLKRg7QOV3AY3DsfyqpWv4rniuPFV9LbyJLG0mVdGDKeB0IrIrRbEPc9q8I/wDIp6f/ANchWzWN4R/5FPT/APrkK2a5JbnQtgooopDCiiigAooooAKKKKACiiigAooooAKKKKACiiigAooooAKKKKACiiigAooooAKKKKACiiigAooooAKKKKACiiigAooooAKKKKAOY8beLo/C2nIY1El3PkRITwPUmvJZ/HviSeYv/ackeT91AABW78XnZvEtspOQsHA9Oa4Cg1ilY3v+E38Sf9Bef9P8KP8AhN/En/QXn/T/AArBooHZG9/wm/iT/oLz/p/hR/wm/iT/AKC8/wCn+FYNFAWRvf8ACb+JP+gvP+n+FH/Cb+JP+gvP+n+FYNFAWRvf8Jv4k/6C8/6f4Uf8Jv4k/wCgvP8Ap/hWDRQFkb3/AAm/iT/oLz/p/hR/wm/iT/oLz/p/hWDRQFkb3/Cb+JP+gvP+n+FH/Cb+JP8AoLz/AKf4Vg0UBZG9/wAJv4k/6C8/6f4Uf8Jv4k/6C8/6f4Vg0UBZG9/wm/iT/oLz/p/hR/wm/iT/AKC8/wCn+FYNFAWRvf8ACb+JP+gvP+n+FH/Cb+JP+gvP+n+FYNFAWRvDxv4kB/5C0/6f4V2vgf4jXV5qEema6yyGU7Yp8YOfQ15ZVrSyRq9mRwfPT/0IUA0j6ZopsZzGpPoKdQYhRRRQAUUUUAFFFFABRRRQAUUUUAct8Q/+RTk/66p/OvJa9f8AHlvJceE5/KGfLZXP0BryCuin8JjPcKKKK1ICiiigAooooAKKKKACiiigDoYrjwlHtmNpqkkqgHyGkTyyfTPXFZms6pJrOrTX0yLGZCMIvRQBgD8hVGipsO4UUUVQgooooAKKKKACiigAk4AyTQB7V4R/5FPT/wDrkK2ay/DVu9r4asYpRh1iGRWpXG9zoWwUUUUhhRRRQAUUUUAFFFFABRRRQA2SRIYmkkYKiAliewrxrxL8TtTvL549GkNraocKwHzP716d4vdo/B+qOhKsLZsEfSvnWguKN7/hN/En/QXn/T/Cj/hN/En/AEF5/wBP8KwaKC7I3v8AhN/En/QXn/T/AAo/4TfxJ/0F5/0/wrBooCyN7/hN/En/AEF5/wBP8KP+E38Sf9Bef9P8KwaKAsje/wCE38Sf9Bef9P8ACj/hN/En/QXn/T/CsGigLI3v+E38Sf8AQXn/AE/wo/4TfxJ/0F5/0/wrBooCyN7/AITfxJ/0F5/0/wAKP+E38Sf9Bef9P8KwaKAsje/4TfxJ/wBBef8AT/Cj/hN/En/QXn/T/CsGigLI3v8AhN/En/QXn/T/AAo/4TfxJ/0F5/0/wrBooCyN7/hN/En/AEF5/wBP8KP+E38Sf9Bef9P8KwaKAsje/wCE38Sf9Bef9P8ACrWn/ETxFY3KyPem5TPzRzAEEVy9FAWR9IeHtct/EOjxX9twG4dD1Vu4rTrzv4OuzaFfKTkLcDA9PlFeiUGT0YUUUUCCiiigDxn4uf8AIzwf9cB/OuCrvfi5/wAjPB/1wH864Kg2jsFFFFAwrR03w9q+sRtJpmnz3EanBdE+XPpnpmk0HT01bxBY2ErMqXE6o7L1AJ5x+FbHjDxFeXGr3OmWkrWmm2cht4bWE7UwhxkgdckZ5oEYWpaVfaRciDU7WS2lZdwWQYyOmf0NVKsrLJfXVvHe3biMFYhLKS4iTPp6DJOBXSW/g/TNUWaLQPEcd9exxmRbZ7R4fMA6hWJ5NAGFa6Nc3eh32qxNGLexZFlDE7jvOBgY/rS3OiXNroNlq0jRG3vWdY1VjuBU4ORj29a29E/5Jl4m/wCutt/6Mp+tf8kt8N/9d7j/ANDNAXMDXNFudA1I2N60bShFfMRJGCMjqBWfXpXjfRtHvPFHmap4hj0+WSGMLCLZpSBt6sQQFrjNW8PyaLr0en39zEIpNjrdJlkMbfxjuR1/KgEzIorrIPB+m6ok0fh/xFHqF7FGZBbPaPD5gHUKxPJrO0Lw3/a9pc313fRafp9qQstxKC3zHoqqOpoC5lWdq99fQWkJUSTyLGpY4ALHAz+dP1Kwl0vU7ixuCplt5DG5Q5BI9K3Law0uy8T6IdJ1gamJLyPf/ozQmPDrjgk5zk/lV/VPDkmr+MtcurmdbDTbe5kM97KuVU54UDjcx9B/hQFzi6K6HSvDVrqFvfX9xqws9LtJBGLmSAs8hPTCA/1rP1ix0+xmiGlaqupRuuWcQNEUOehBoC5nUUUUDCrOmf8AIWtP+u6f+hCq1WdM/wCQtaf9d0/9CFAH0xH/AKpP90U6mx/6pP8AdFOoMAooooAKKKKACiiigAooooAKKKKAGyRrLGySKGVhgg9xXC6p8NYp7hpNNuhArHPluuQPpXeUU1JrYTSe55r/AMKwvP8AoIQ/98Gj/hWF5/0EIf8Avg16VRV+0kTyI81/4Vhef9BCH/vg0f8ACsLz/oIQ/wDfBr0qij2kg5Eea/8ACsLz/oIQ/wDfBo/4Vhef9BCH/vg16VRR7SQciPNf+FYXn/QQh/74NH/CsLz/AKCEP/fBr0qij2kg5EeZyfDO7jjZ21CHCgk4Q/41S/4QeT/n+X/v0f8AGvVLr/jzm/65t/KuarOdaa2N6dGElqc//wAKwvP+ghD/AN8Gj/hWF5/0EIf++DXpVFae0kYciPNf+FYXn/QQh/74NH/CsLz/AKCEP/fBr0qij2kg5Eea/wDCsLz/AKCEP/fBo/4Vhef9BCH/AL4NelUUe0kHIjzX/hWF5/0EIf8Avg0f8KwvP+ghD/3wa9Koo9pIORHmv/CsLz/oIQ/98GtbRPh3b2NylxqE/wBpdDlUAwufU12lFJzkx8qADAwOBRRRUFBRRRQAUUUUAFFFFABRRRQAUUUUAYnjL/kS9V/69m/lXzvX0R4y/wCRL1X/AK9m/lXzvQaQ2CiiigsKfBBNczpDbRPNK5wqRqWZj6ACmV2mnSyeGPh4NYscLqGp3BgSfb80MS5ztPYkr/nFAjFufB/iC0tJLm40m5SGNS7sV+6B1JrFq02p37ySyNe3BedSkrGVsyKeCDzyPar+k6Xo13ZmXVdfXTpd5VYhaPKSPUkEAUAZVtA11dRW8eA8rhFJ6ZJxWwvhO/fxcfDgkt/tmSN24+Xwm/rjPT2qxdeHpNA8SaQRcx3dpdyRy29zGMCRdw7dj04966mD/k4Bv99//SY0CucHaaJc3ul6lfxNEItN2ecGY7jvJA28c8j2rOrufCFtFd+F/FsFzdJaRN9n3zyAkIA7noOT06etZl34TtH0W41Hw/rUeqpaANcRfZ2ikRT/ABBSTkep46UDuczRW1pOlaLd2fm6p4gXT5S5UQi0eU49SQQBTta8LXOl6nZ2ttKl9HfqrWc0XAmDHA4PQ8j86AuYdXzpFwPDw1ndH9mNz9m25O7ft3ZxjGMe9bl14T0fTZWtdU8UQwX8Y/eQR2jyKjYztLg/0pY4Jbn4VwQ28bSyya3tREGSx8k8AUBc5Oit/U/DC6bNZ2Bv0m1e4dUks40ysBbGA0mcZ5HAH/17OpeGNF0wXMEviiN9Qt1bdbrZuVLgfcD5xnPHSgLnL0UUUDCiiigD134Of8gTUP8Ar4H/AKCK9Grzn4Of8gTUP+vgf+givRqDGW4UUUUCCiiigDxn4uf8jPB/1wH864Ku9+Ln/Izwf9cB/OuCoNo7BRRRQMuaPqB0nWrO/VN/2aZZNmcbgDyK6vVfCE3iPUZ9W8JzQahbXbmZofNVJYGY5KsrEY5zj/OeIooEdXpfhkaP4w0y18XpFBBMSzI0ykdDtDEHgFsV3nh6x1q18Q79S0TRdOtSHWKS2RBI3ynAQg5PAyc9ga8YooE1c6zRP+SZeJv+utt/6Mp+tf8AJLfDf/Xe4/8AQzXIUUDsemeNvB2ra74kN5pSQzw+TGkh89VMTBejAnI4wfoapznRLvx/omn6jdQ3FnYWMdpNLu/dPIoYgZ/u5IFef0UCse0eHLLWrXXi+qaJounWzK6xPbJGsjHBwFIOTwCTnsK4nw9ar4g8C3eg2lxFHqKXwu4opWC+cuwKQCe4wTXG0UBY6a38Nan4f8TaL/a0KQNLexbUEqu3DjkhScCun1y6i8VahqHhm4mW0vbS8lksGyFjnJJ+Rh/e5OG9/wA/MqKB2Ow8Lad4qgS/h0ezgnXeIruzuvLOSOmVcj160zx3Z2VpJp3l21rZ6lJCTf29o+6NGyAMDopPPH8+p5KigLahRRRQMKs6Z/yFrT/run/oQqtVnTP+Qtaf9d0/9CFAH0xH/qk/3RTqbH/qk/3RTqDAKKKKACiiigAooooAKKKKACiiigAooooAKKKKACiiigAooooAKZMZBCxhALgZAPen0UAYUmqzyRsjLHhgQcA/41Sq5qdv5F0WUfJJyPY96p1zSvfU7o2tdGgmrXTuFVIyWOAMH/Gtlc7RuxnHOKyNIt90hnYcLwv1rYraF7XZzVLJ2QUUUVZkFFFFABRRRQAUUUUAFFFFABRRRQAUUUUAFFFFABRRRQAUUUUAYnjL/kS9V/69m/lXzvX0R4y/5EvVf+vZv5V870GkNgooooLCuw0aW28Q+D/+EcuL2CyvLW4NxaSXB2xyAg5Qt2OSTXH0UCOmuPh74jtbeW4uLONIIkLtKbiPbgDP97NdBommPP4Q09/CulaZqd67P9va8VHeI5+XAYjAxn/Oa85ooCzPSfGO4XvhASrbJIp2ulrjy0YSKCq49DkfhUkH/JwDf77/APpMa8yooFY7nwfYS6n4Z8V2Vu0azTm3WPzHChm3uQMnucYHvUlhpN14L0DW5/EHl2819ZtaW9sJVZ3LcbsAngVwVFA7Ho+jaZJP4R05/CmlaZqd25f7e14iPJE2eBhiMDr+lS+KL6PTdd8I3d4LdEt0BmFoMxoVcBgoHYEEY9q8zooFY7bXfAur3usXuo6b9nu9PuJXnW6W4RVCsd3OT2zj8Ks+Hdcfw54Dtr9YlmVNZKuhAyVMJBwex9x/ImuAooHY6bWtAkt7601PRrprqx1CUNb3TvhopCfuyN2YE9T9fWutbT9RuLa9l+IWm6fHbC2Yi/QxrcNIANu0qeTx0x6fSvLKKAsFFFFAwooooA9d+Dn/ACBNQ/6+B/6CK9Grzn4Of8gTUP8Ar4H/AKCK9GoMZbhRRRQIKKKKAPHvi/byJr1pOQfLeHAOO4PSvPa+jPEfhyz8S6YbS8G1hzHKByh9RXmdz8IdXSYi2u7aWPsTlTQaRkrHn9Fd3/wqTXf+e1r/AN9n/Cj/AIVJrv8Az2tf++z/AIUFcyOEoru/+FSa7/z2tf8Avs/4Uf8ACpNd/wCe1r/32f8ACgOZHCUV3f8AwqTXf+e1r/32f8KP+FSa7/z2tf8Avs/4UBzI4Siu7/4VJrv/AD2tf++z/hR/wqTXf+e1r/32f8KA5kcJRXd/8Kk13/nta/8AfZ/wo/4VJrv/AD2tf++z/hQHMjhKK7v/AIVJrv8Az2tf++z/AIUf8Kk13/nta/8AfZ/woDmRwlFd3/wqTXf+e1r/AN9n/Cj/AIVJrv8Az2tf++z/AIUBzI4Siu7/AOFSa7/z2tf++z/hR/wqTXf+e1r/AN9n/CgOZHCUV3f/AAqTXf8Anta/99n/AAo/4VJrv/Pa1/77P+FAcyOEq7o0Lz65ZRRKXdp0woHJ5FdePhJrhIzPageu4/4V2HhT4fWnhiRtR1GdJ7iNSQ54SIdzz/OgTkjtkG2NQewxS1k/8JV4e/6D2mf+Bkf+NH/CV+Hv+g9pn/gZH/jTszI1qKgtL211C3E9hcw3MJJAkhkDqT9RU9IAooooAKKKKACiiigAooooAKKKqX+qWGmRh9RvIbZT081wufoO9KUlFXbsOMXJ2SLdFYB8deGgf+QtD/3y3+FJ/wAJ14a/6C0P/fLf4Vh9aofzr70bfVq/8j+5nQUVz/8AwnXhr/oLQ/8AfLf4Uf8ACdeGv+gtD/3y3+FH1qh/OvvQ/q1f+R/czoKK5/8A4Trw1/0Fof8Avlv8KP8AhOvDX/QWh/75b/Cj61Q/nX3oPq1f+R/czoKK5/8A4Trw1/0Fof8Avlv8KP8AhOvDX/QWh/75b/Cj61Q/nX3oPq1f+R/czXv7f7TasoHzLyv1rn1Uu4VRkscAVZ/4Trw1/wBBaH/vlv8ACqUXizwzHqLz/wBrQ7cZUbW6nr2/zms5Yig38a+9GtOjXimnB/czqbeEW9uka/wjk+pqSuf/AOE68Nf9BaH/AL5b/Cj/AITrw1/0Fof++W/wrT61h/5196Mvq1d/Yf3M6Ciuf/4Trw1/0Fof++W/wo/4Trw1/wBBaH/vlv8ACj61Q/nX3oPq1f8Akf3M6Ciuf/4Trw1/0Fof++W/wo/4Trw1/wBBaH/vlv8ACj61Q/nX3oPq1f8Akf3M6Ciuf/4Trw1/0Fof++W/wo/4Trw1/wBBaH/vlv8ACj61Q/nX3oPq1f8Akf3M6CisFfHHht2wNXgz7gj+YrZtru3vYRNZzxzxno8ThgfxFXCtTqaQkn6MznSqQ1nFr1RLRRRWpmFFFFABRRRQAUUUUAFFFNkcRRtI+dqgk4BJx9ByaAHUVz6eO/DD9NYgH+8GH8xUy+MfDj9NbsR/vTqP507MV0SeKbd7rwpqUMf3nt3A/KvnIggkHgjrX07a3drqFqJ7K4iuYHyBJE4dT2PI4rzzxJ8KVvr2S70W4SDzDuaGQHbn2NI0i7HktFd3/wAKk13/AJ7Wv/fZ/wAKP+FSa7/z2tf++z/hQXzI4Siu7/4VJrv/AD2tf++z/hR/wqTXf+e1r/32f8KA5kcJRXd/8Kk13/nta/8AfZ/wo/4VJrv/AD2tf++z/hQHMjhKK7v/AIVJrv8Az2tf++z/AIUf8Kk13/nta/8AfZ/woDmRwlFd3/wqTXf+e1r/AN9n/Cj/AIVJrv8Az2tf++z/AIUBzI4Siu7/AOFSa7/z2tf++z/hR/wqTXf+e1r/AN9n/CgOZHCUV3f/AAqTXf8Anta/99n/AAo/4VJrv/Pa1/77P+FAcyOEoru/+FSa7/z2tf8Avs/4Uf8ACpNd/wCe1r/32f8ACgOZHCUV3f8AwqTXf+e1r/32f8KP+FSa7/z2tf8Avs/4UBzI4Siu7/4VJrv/AD2tf++z/hVzTvhBetcKdTvYUiB5WLJY0C5kbfwgt3j8O3crDCS3GVPrgAGvQaradp9tpenxWdlGI4YlwqirNBm9WFFFFAgooooAKKKKACiiigAooooAKKKKACiiigAooooAKKKKACiiigAooooAKKKKACqOuf8AIvaj/wBesv8A6AavVR1v/kX9R/69Zf8A0A0AeDxf6lP90VLD9n+2QfbvM+x+YPtHk/f2d8f56dKILO8fSf7QS1kaxiIje4A+VW/w7E9AcCm12bnNse86WbI6Vbf2T5f2Lyx5Plfd29sVarxrwr4qn8NXWx902nStmWEcmM/309/Ud/rXsFrdQX1rHc2kqzQyruR0OQwrllFxZvGVyWiiipKCiiigAooooAKKKKAOe8aeJf8AhGtDM0QVrqY+XAp7HHLH2H+FeHXl7c6hdvc3szzzSHLO5yTXf/F9ib7TF7COQj8SP8K85r4rOMROeJdNvSJ9jlNCEMOqiWsgooorxT1wooooAKKKKACiiigAooooAKKKKACiiigAooooAKKKKACtHRddv9AvlutOmKHI3ofuyD0Yd6zqKqM5QkpRdmiZRjOPLJXR9GaNqkOtaPbahbAhJ0ztPVT0I/AgirtcT8KZXk8IyqxyI7t1X2G1T/Mmu2r9EwtV1qEKj3aPgcTSVKtKC2TCiiiuk5wooooAKKKKACmyyxwxNLM6xxoCzOxwFHqTTLm5hs7aS4upUhhjXc8jnAUepNeSeLfF83iSU21rvh0tDkIeGuCP4mHYei/ifQVGLkyXKxm+I7zTtQ8SXN3osTR2snLE8CV88uB/CD+vXis6irEWnX9xpk2pW9nJJYwNtlmHQepA7gdyOn5106JGO7PUfhsMeBbQ/wB6Wc/+RWrqq5n4dps8B6d/tea35yuf6101cstzdbBRRRSGFFFFABRRRQAUUUUAFFFFABRRRQAUUUUAFFFFABRRRQAUUUUAFFFFABRRRQAUUUUAFFFFABRRRQAUUUUAFFFFABRRRQAUUUUAFFFFABRRRQAUUUUAFFFFABUdzAl1ay28udkqFGwecEYNSUUAQQWNrbWC2UNvGlqqeWIQo27fTFeVeMfBz+HpGvdPUvpbHkdTbE9j/s+h7dDXrlNkjSWNo5VDowIZWGQR6GqjJxYmk0fP1bvhXxVP4autjhptOlbMsI5MZ/vp7+o7/WrfjHwc/h+Rr3T1Z9LY/MOptiex/wBn0PbvXL10aTRjrFnv1rdwX1pHc2cqzQSruSRDkMKlrxnwr4qn8NXe1w02nStmWEclD/fT39R3+tewWl3BfWkdzZyrNBKu5HQ5DCueUXFmsZXJqKKKkoKKKKACiiigDyv4vf8AIS03/rk/8xXnVei/F7/kJab/ANcn/mK86r4LNP8AfJ/L8kfcZb/ukP66sKKKK809AKKKKACiitr/AIRa/PhX/hIFaFrPdgqGO8fNtzjGOvvVwpznflV7K/yInUjC3M7X0+Zi0UqqzuERSzMcAAZJNbHiDwvf+GjbDUWhLXCllETE7cYyDkD1pxpzlFzS0W4OpGMlFvV7GNRRRWZYUVpeHtI/t7XrbTfP8jzyw8zZu24Ut0yPT1qlcw/Z7qWHdu8tymcYzg4q+SXJz9Nv6+8jnjzcnXcioorVvdE+x+G9M1b7Rv8At7SjytmPL2Nt655z9BRGEpJtdNX+X6jlOMWk+un6/oZVFFFQUFFFFABRRRQB7B8Jf+RTuf8Ar9f/ANASu5rhvhL/AMinc/8AX6//AKAldzX6Bl3+6U/Q+FzD/ep+oUUUV3nCFFFFABVe/v7XTLGS8v5lggiGXdzwP8T7VHqmqWejafJeahMIoU792PYAdyfSvHvEfiO78S3wlnzFaRn9xbZ4X/ab1b+Xb1Nxi5EylYm8U+KrnxNdbcNBp0bZityeXPZ39/QdvrWHSE4GTwK6zwh4KfXdl/qqtHpucpGeGuf8E/U/TrvpBGWsmQeEvB03iRxdXm+HS1P3hw1wfRfRfVvwHqPWoLWC2tUtreFI4EXYsarhQPTFPjjSKNY4kVEQYVVGAB6AU6ueUnJmySRBZWUGnWaWtnGI4Y87EHRQSTge3NT0UVIwooooAKKKKACiiigAooooAKKKKACiiigAooooAKKKKACiiigAooooAKKKKACiiigAooooAKKKKACiiigAooooAKKKKACiiigAooooAKKKKACiiigAooooAKKKKACiiigAooooAbJGksbRyqro4KsrDIIPY15N4x8HPoEjX2nKz6Y5+Zeptj6f7noe3Q163TZI0ljaOVVdHBVlYZBB7EVUZOLE1c+fq3fCvimfwzdlWDTadK2ZoRyUP99Pf1Hf61c8Y+Dn0CRr7TlZ9Mc/Mo5Nsff/AGPft0rlq6NJox1iz320u4L+0iurOVZoJVDI6ngipq8Z8LeKbjwzdlWDTafK2ZoRyUP99Pf1Hf6132peOdOt7rTbXTpEvZr+WIAo3yxxswG5vQ88DrWEoNOxqpJo6iiiioKCiiigDyv4vf8AIS03/rk/8xXnVei/F7/kJab/ANcn/mK86r4LNP8AfJ/L8kfcZb/ukP66sKKKK809AKKKKACvTPD9/DbeFfD9neMRaakbq0m4z95sKfzwM+5rzOul1O8gbwDoUENxGbiGadnjVxvTLZBI6iu/BVfZOc/L/wBuRxYyn7VQh5/oyx4a0X7B4uu5NTjY2+hh55jtxuKfcA7ZJwRnrirPjBrjVtN8MsN0txepIwDHJLO4OPzOBS+JvE1pqHhWA2uBf6oUOoYfkeUNoyB0yeR7Cq+satBb6d4SntJop5rCPe8auCVYMpAbHTpXXJ0oUp0YvTR/fJfkvxuckfazqQqyWuq+5P8AN/hYL3S/Cmi6gumalPqNzcphbme32rHGx7AEZOP8+lQt4Lf/AITBNHju1a2kj+0LdbePJxndj8MelXtV0jR/EWrSaxbeIrK1t7lg80Ny22WI4+YBf4unt1oXxXpsXjKF4hN/ZEVkNND4y5ixjdj6/jgfhRKnR5v3iSjzK1nuvPXbzHGpV5f3bblZ3utn/n5FvwgPC/8Awmdomk/2kLiNn8qScoUl+RgcgDI45FYmmaBFq2pateXzypYWLs0wgXdJISx2oo6ZOOta/hrR9J0LxFa6rP4m06W3RsRKj/vG3KV+df4MZ5z+OKp+HddgtrjWdNk1B9PF/KGgvojkRuGOM4/hOevpVKMXGEayS1lordlbr3JbkpTlSbekdXfu79OxBe+H9NuvDl1qWjxahay2LKZob0D5kY4BUgCjW/8Akm/hn/fuf/RhqXXTqEGk3H2vxlb6ijkKltBcNKZRkfeHReOefTFVNXu7eXwB4et4543nhe48yJXBZMyZGR1GaxqckVNJWfL5fzLs30/zNYc0uRt3XN5/yvul/WhzVFFFeSeoFFFFABRRRQB7B8Jf+RTuf+v1/wD0BK7muF+Ep/4pS5Hf7a//AKBHXdV+gZd/ulP0Phcw/wB6n6hRRRXecIVn61rdloOntd6hJtUcIg5aRuyqO5rh9P8AiI+mahq9rq6SXMcd3P8AZGjGW4kbEZ9vQ9hx6VyGr6tea7qRvdRfL8iKNfuQr/dX+p71pGm29SHJJEuu67eeItR+1Xx2RoT5FuDlYR/Vj3NZrMFUliAB1JoZgikscAV33g7wIZGi1TX4sAYe3s3HT0Zx6+i9u/PA2bUUZpOTKvg/wK2peXqWuxFbP70No45m9Gcf3fRe/fjg+oABQABgDgAdqKK55SbepskkFFFFSMKKKKACiiigAooooAKKKKACiiigAooooAKKKKACiiigAooooAKKKKACiiigAooooAKKKKACiiigAooooAKKKKACiiigAooooAKKKKACiiigAooooAKKKKACiiigAooooAKKKKACiiigAooooAa6LLGySKHRgQysMgj0NeT+MfBzaBI19pyl9MY/MvU2x/8AiPft0r1qsLxZqGo2ektFo2mSX91cAoMJuSMdywPX2Heqi2noTJJo8Zqzo6KniDTNqhc30JOB1PmCpovC+vRRKg0S+IUYyUH+NXdK8Oa6uuac8uj3cccd3E7u6gBVDgk9fSuhyVjJJ3PZ6KKK5TcKKx7+SW0mAiuXIbnaTnbVcaldAj97n6gVDmk7M1VJtXRxfxe/5CWm/wDXJ/5ivOq9E+LpDahphHQwuR+Yrzuvhc0/3yfy/JH2eW/7pD+urCiiivNPQCiiigAooooAKKKKACiiigAooooAKKKKACiiigAooooAKKKKAPTfh5K8PhcvGdrC+k5/4BHXodlerdx+kg+8v9a868Af8im//X7J/wCgR100cjRSB4zhh0Nfd5fK2Gh6HxuOgpV5+p1FFQWl0t1DuXhh95fSp69Tc8ppp2Z4Bdtu1K9b+9dzH/yI1RE4x1JJwABkk9gB613E/wAL9SaeV4dTtSJJGcB4mGMknsfeqsnww10jC3ensPXfIpH/AI7XSpxsc/KzZ8G+BfszxarrsYNwPmgtW5EP+03q3t2+vTvayvDsOsW2kpb+IJYJ7mP5RNCxPmL2LZA5/nWrXPJtvU2SsgooopDCiiigAooooAKKKKACiiigAooooAKKKKACiiigAooooAKKKKACiiigAooooAKKKKACiiigAooooAKKKKACiiigAooooAKKKKACiiigAooooAKKKKACiiigAooooAKKKKACiiigAooooAKKKKACiiigAooooAKKKKACobu5W1gLtyeij1NTE461z1/dG6uCQfkXhf8AGplKyNKceZkEkjSyF3OWY5Jp0VvLOrGJCwUZOKSKJppVjQZZjXRW8C20Cxp26n1NZRjzHROfItDy34oxu8Oj3ODs8t4yfQgivPa+hPEOg2/iHRZbCf5Nx3xyAfcfs2O/X9TXiuteEtX0K4ZLu0d4v4Z4lLIw9cjp9Dg18rm+DqRrOsleL/A+hyrF05UlSbs0YtFBGOtFeCe2FFFFABRRRQAUUUUAFFFFABRRRQAUUUUAFFFFABRRRQAUUqqzthFLH0AzXUeG/AWqa5cI9zDJZ2QPzyyrtLD0UHkn36VtSo1K0uWmrsyq1qdGPNN2R3Hw203Pgc+d0ubl5UPpwF/mprSnge3mMcg5Hf1966CztIbCzitbVBHDCgRFHYCo7+0F1Cdo/eL90+vtX31Gh7KjGn1SPiKmI9pWlPo2YtrctazB15HQj1FdFHIssauhyrDIrlyMHB4NaOk3eyTyHPyt932NawlZ2Jqwuro2aKKK2OUKKKKACiiigAooooAKKKKACiiigAooooAKKKKACiiigAooooAKKKKACiiigAooooAKKKKACiiigAooooAKKKKACiiigAooooAKKKKACiiigAooooAKKKKACiiigAooooAKKKKACiiigAooooAKKKKACiorm5htITLcyLGg7msOfxdArYt7Z5B6swX/ABrlr4uhh/4srG1OjUqfAjoaK5n/AITH/px/8jf/AGNH/CY/9OP/AJG/+xrm/tbBfz/g/wDI1+p1/wCX8UdNRXM/8Jj/ANOP/kb/AOxo/wCEx/6cf/I3/wBjR/a2C/n/AAf+QfU6/wDL+KOmormf+Ex/6cf/ACN/9jR/wmP/AE4/+Rv/ALGj+1sF/P8Ag/8AIPqdf+X8Ua+q3PlW/lL96Tj6CsSoLjxBFcy+ZJaSZxgATjA/8dqMaxbgg/Y5D7Gcf/E1lLNMI38f4P8AyOiGGqxVuX8jpNJtfLi85x8zjj2FaNcwPGGBgWGB/wBdv/saX/hMf+nH/wAjf/Y1os1wSVuf8H/kYywmIk78v4o6aiuZ/wCEx/6cf/I3/wBjR/wmP/Tj/wCRv/saf9rYL+f8H/kT9Tr/AMv4o6aiuZ/4TH/px/8AI3/2NH/CY/8ATj/5G/8AsaP7WwX8/wCD/wAg+p1/5fxR01Fcz/wmP/Tj/wCRv/saP+Ex/wCnH/yN/wDY0f2tgv5/wf8AkH1Ov/L+KOmormf+Ex/6cf8AyN/9jR/wmP8A04/+Rv8A7Gj+1sF/P+D/AMg+p1/5fxR01Fc9D4ugZsT2zxj1Vg3+FbltdQ3kIltpBIh7jtXTQxdDEaUpXMqlGpT+NEtFFFdRiFFFUtR1a00uMNdyYJ+6i8s34VM5xhHmk7IaTexdorlZfHMQc+TYu69i0gU/lg1H/wAJ1/1Dv/I//wBjXA8zwi+3+D/yL9nPsddRXI/8J1/1Dv8AyP8A/Y0f8J1/1Dv/ACP/APY0f2nhP5/wf+Qezn2Ouorkf+E6/wCod/5H/wDsaP8AhOv+od/5H/8AsaP7Twn8/wCD/wAg9nPsddRXI/8ACdf9Q7/yP/8AY0f8J1/1Dv8AyP8A/Y0f2nhP5/wf+Qezn2Ouorkf+E6/6h3/AJH/APsaP+E6/wCod/5H/wDsaP7Twn8/4P8AyD2c+xrata7JPPQfKxw3sazQSCCDgjoagm8arPE0cmnfKw/57/8A2NU/+Eht/wDnxl/8CB/8RWUswwl9J/g/8johzJWaO2s7j7Taq/8AF0b61PXFWvi5LTd5dg5DdQ1wP/ian/4Tr/qHf+R//sa0WZ4S2s/wf+RhKnK+iOuorkf+E6/6h3/kf/7Gj/hOv+od/wCR/wD7Gn/aeE/n/B/5C9nPsddRXI/8J1/1Dv8AyP8A/Y0f8J1/1Dv/ACP/APY0f2nhP5/wf+Qezn2Ouorkf+E6/wCod/5H/wDsavWXjGwuHCXCPbMT1blfz/8ArVUMxws3ZT/NfmJ05LodBRSKwZQykFSMgg9aWu8gKKKKACiiigAooooAKKKKACiiigAooooAKKKKACiiigAooooAKKKKACiiigAooooAKKKKACiiigAooooAKKKKACiiigAooooAKKKKACiiigAooooAKKKKACiiigAooooA4XXr973U5F3fuoWKIPp1NZtPn/4+JP8AfP8AOmV+b16kqtWU5btn1NOKhBRQUUUViaBRRRQAUUUUAFFFFABRRRQAUUUUAFFFFABRRRQAUUUUAFaOh372WpR/NiKVgjg9Oe/4VnUqffX61rRqSpVFOO6InFTi4s9Looor9JPlSO4mW2tpZn+7GhY/gM15fe3kt/eSXFw2Xc5+g9K9H1n/AJAd7/1wf+VeY183nU5c0IdNzoordhRRRXzx0BRRRQAUUUUAFFFFABRRRQAUUUUAFFFFABRRRQAUUUUAFFFFAHX+DNSd/M0+UkhV3x57DPI/XP511lcF4O/5D3/bJv6V3tfY5VOU8MubpoclVWkFFFFeoZBRRRQAUUUUAFFFFABRRRQAUUUUAFFFFABRRRQAUUUUAFFFFABRRRQAUUUUAFFFFABRRRQAUUUUAFFFFABRRRQAUUUUAFFFFABRRRQAUUUUAFFFFABRRRQAUUUUAebT/wDHxJ/vH+dMp8//AB8Sf7x/nTK/M5fEz6xbBRRRUjCiiigAooooAKK2Lu207SmW3uIpLq42gyYk2KuewqlJHa3N/DHYiWJJCqkSYO0k449RXTUw8qb5W1zduv8Al+JjGqpK6WncqUVNeW/2S8lg3b/LYruxjNQ1hKLjJxe6NU01dBRRRUjCiiigAooooAKKKKAClX7w+tJSr94fWmtxHpdFFFfpp8mUtZ/5Ad7/ANcH/lXmNenaz/yA73/rg/8AKvMa+Yzr+JH0OmjswooorwTcKKKKACiiigAoqW0jWW9gjflXkVT9Cas61axWWsXFvbgiNCAoJz2BrT2b5Ofpewr62KNFFFZjCiiigAooooAKKKKACiiigAooooA3vB3/ACHv+2Tf0rva4Lwd/wAh7/tk39K72vrso/3b5s5KvxBRRRXrmQUUUUAFFFFABRRRQAUUUUAFFFFABRRRQAUUUUAFFFFABRRRQAUUUUAFFFFABRRRQAUUUUAFFFFABRRRQAUUUUAFFFFABRRRQAUUUUAFFFFABRRRQAUUUUAFFFFAHm0//HxJ/vH+dMp8/wDx8Sf7x/nTK/M5fEz6xbBRRRUjCiiigAooooA1/wC2be7CDVbJZ2VdvmoxVsf1qUQnStVs30+Z/IvAhG4DO0kZB/Sqw1HTuGbSELgdRMwH5VXutSnu7xJ22oYseWqjAQDpivVeIilzSmpSurNJp+d3ZX09TjVNt2SsvPb9S5q93cXWqyWcsxMKz4VcD5e39a07mZrO88i1vrS3t4sDyGB59c8d6xb/AFGC9UuLJYbliC0qyHk/SpW1i3uQG1DTkuJgADIJChbHritY4mCnN8+rd0/e2100V/0IdKTjFcu3TT7+36lyyFsPEN4bTZJAYHYDGVOQCRj0zUel6lcajerZXxWaCZSCpUDbgE5GPpTNDlV9WuJUiSNfIciMcgdOKh/tiGGN/sNhHbTSLtaUOWwD1wD0qo1lGMZuVlzSbSvqtNP+HE6bbcbXdlr2/ryMsjBIooorwzvCiiigYUUUUAFKv3h9aSlX7w+tNbiPS6KKK/TT5Mpaz/yA73/rg/8AKvMa9O1n/kB3v/XB/wCVeY18xnX8SPodNHZhRRRXgm4UUUUAFFFFAFiw/wCQlbf9dk/mKueJf+Riu/8AeH/oIrPt5fIuYpcbvLcNjOM4Oa2LnWtMvLh57jRd8rnLN9rYZ/IV2U3CVFwckndPW/Z9kyXe9yPQEjQXt9JGkrWkO6NHGRuPQ/hVvSdUudYvvsGpFZ4J1YfMgGwgEgjH0rMg1UWWpPc2FusMTrsMDsXUrjkEnnrzVk67Bbxyf2XpsdnLKpVpfMLkA+melb0a0IKK57JN3Wvvf0tNbEtN9CbR7yOLSHhtbyKxvTLkySp99MdN2DjmnLLJZ+KIpPEDI+EysoUFSOdrYHXms2yvbGCDZeaYt0wbIfzmQ/Q460+XV1udSS4u7OOWFIxGsG4gKo6c0RrxVOF5aq2mtvmtvuDl1Ze1VtTn0t5Xv4b60Djc0QGUPbPAIrn61LrV4nsHs7CyWzhkIMn7wuWxyOTWXXNipxnNOLvp5/hfWxUVZBRRRXKUFFFFABRRRQBveDv+Q9/2yb+ld7XBeDv+Q9/2yb+ld7X12Uf7t82clX4gooor1zIKKKKACiiigAooooAKKKKACiiigAooooAKKKKACiiigAooooAKKKKACiiigAooooAKKKKACiiigAooooAKKKKACiiigAooooAKKKKACiiigAooooAKKKKACiiigDzaf/j4k/3j/OmU+f8A4+JP94/zplfmcviZ9YtgoooqRhRRRQAUUUUAFFFFABRRRQBLb3U1q7PA+xmUqTgHg/WoqKKrmbVr6Csr3CiiipGFFFFABRRRQAUq/eH1pKVfvD601uI9Looor9NPkylrP/IDvf8Arg/8q8xr07Wf+QHe/wDXB/5V5jXzGdfxI+h00dmFFFFeCbhRRRQAUUUUAFFFFABRRRQAUUUUAFFFFABRRRQAUUUUAFFFFAG94O/5D3/bJv6V3tcF4O/5D3/bJv6V3tfXZR/u3zZyVfiCiiivXMgooooAKKKKACiiigAooooAKKKKACiiigAooooAKKKKACiiigAooooAKKKKACiiigAooooAKKKKACiiigAooooAKKKKACiiigAooooAKKKKACiiigAooooAKKKKAPPtUtmtNTniYYG8lfcHkVUrvdU0iDVIx5hKSr92QDp7H1Fc1P4X1CJv3SpMPVXA/nivisZldenUbpxvF9j3qGLpyilJ2Zj0Vp/8I7qv/Pr/AORF/wAaP+Ed1X/n1/8AIi/41wfU8T/z7l9zOn29L+ZfeZlFaf8Awjuq/wDPr/5EX/Gj/hHdV/59f/Ii/wCNH1PE/wDPuX3MPb0v5l95mUVp/wDCO6r/AM+v/kRf8aa3h/U0Us9uFUdSZUH9aPqeJ/59y+5h7el/MvvM6irv9j3v9yL/AL/p/jUiaDqMgzHArjplZUP9aPqmJ/59y+5j9tT/AJl95nUVp/8ACO6r/wA+v/kRf8aP+Ed1X/n1/wDIi/40fU8T/wA+5fcxe3pfzL7zMorT/wCEd1X/AJ9f/Ii/40f8I7qv/Pr/AORF/wAaPqeJ/wCfcvuYe3pfzL7zMorT/wCEd1X/AJ9f/Ii/40f8I7qv/Pr/AORF/wAaPqeJ/wCfcvuYe3pfzL7zMorT/wCEd1X/AJ9f/Ii/40f8I7qv/Pr/AORF/wAaPqeJ/wCfcvuYe3pfzL7zMorT/wCEd1X/AJ9f/Ii/40f8I7qv/Pr/AORF/wAaPqeJ/wCfcvuYe3pfzL7zMqzptqbzUYYQCQzjdjsO9X4PC+oyt+9VIR6s4P8ALNdJpWjwaXGdh8yVvvSEfoPQV3YPK69WonUjaPW5z18XThFqLuzQooor7Y8AgvoDdafcQL1kjZRn1Iryx0aORkcFWU4IPY161WDrfhiHU5DcW7iG4P3sj5X+vp9a8fM8HPEJTp7o2pzUdGcFRW1L4S1aNyEgSUf3kkUA/nimf8ItrP8Az5/+RU/xr5x4TEJ/A/uZ0c8e5kUVr/8ACLaz/wA+f/kVP8aP+EW1n/nz/wDIqf40vquI/wCfb+5hzR7mRRWv/wAItrP/AD5/+RU/xo/4RbWf+fP/AMip/jR9VxH/AD7f3MOaPcyKK1/+EW1n/nz/APIqf40f8ItrP/Pn/wCRU/xo+q4j/n2/uYc0e5kUVr/8ItrP/Pn/AORU/wAaP+EW1n/nz/8AIqf40fVcR/z7f3MOaPcyKK1/+EW1n/nz/wDIqf40x/DmqRY8y3VM9N0yD/2aj6riP5H9zDmj3MuitH+wNQ/55Rf+BEf/AMVUv/CLax/z5/8AkVP8aPquI/kf3MfMu5k0Vr/8ItrP/Pn/AORU/wAaP+EW1n/nz/8AIqf40fVcR/z7f3MXNHuZFFa//CLaz/z5/wDkVP8AGj/hFtZ/58//ACKn+NH1XEf8+39zDmj3Miitf/hFtZ/58/8AyKn+NXbLwXdyuDeyJAmeVU7m/wAKuGCxM3ZQf3W/MTnFdR3gq0d9Qmusfu402Z9WOP6Cu1qCzs4LC1W3tk2xr+ZPqanr67B4f6vRVN79TlnLmdwooorrICiiigAooooAKKKKACiiigAooooAKKKKACiiigAooooAKKKKACiiigAooooAKKKKACiiigAooooAKKKKACiiigAooooAKKKKACiiigAooooAKKKKACiiigAooooAKKKKACiiigAooooAKZLGJYXjPRgRT6KAOWdSjsrdVODWhpE+ydomPD9PrSavb7JxMv3X6+xqgrFGDKcEHINc/wAMjt0nE6mioracXFusi9xyPQ1LXQcWwUVW1HULbStPlvL19kMS5Y9z7D3NeU6z8SdXvpnXTmFjb9FCgFyPdj/TFZVK0ae41Fs9forwU+KdeJz/AGvef9/mpP8AhKNd/wCgxe/9/wBv8a5/rcexXIz3uivBP+Eo13/oMXv/AH/b/Gj/AISjXf8AoMXv/f8Ab/Gj63HsHIz3uivBP+Eo13/oMXv/AH/b/Gj/AISjXf8AoMXv/f8Ab/Gj63HsHIz3uivBP+Eo13/oMXv/AH/b/Gj/AISjXf8AoMXv/f8Ab/Gj63HsHIz3uivBP+Eo13/oMXv/AH/b/Gj/AISjXf8AoMXv/f8Ab/Gj63HsHIz3uivBP+Eo13/oMXv/AH/b/Gj/AISjXf8AoMXv/f8Ab/Gj63HsHIz3uivBP+Eo13/oMXv/AH/b/Gj/AISjXf8AoMXv/f8Ab/Gj63HsHIz3uivBP+Eo13/oMXv/AH/b/Gj/AISjXf8AoMXv/f8Ab/Gj63HsHIz3uivBP+Eo13/oMXv/AH/b/Gj/AISjXf8AoMXv/f8Ab/Gj63HsHIz3uivBk8V68jBhq94T7ykj8jXU+HviZdR3CQeINs0LHH2hEwye5A4I+nP1q44qDdnoHIz1CikR1kjV42DKwyrA5BHrS11EBXO38/2i7Zh90fKv0rW1K5+z22F+/JwPb1NYNZVH0OijH7RPZw+fdImMjOW+ldHWdpFvsiMzDl+F+laNVBWRFWV5WCiiirMgooooAKKKKACiiigAooooAKKKKACiiigAooooAKKKKACiiigAooooAKKKKACiiigAooooAKKKKACiiigAooooAKKKKACiiigAooooAKKKKACiiigAooooAKKKKACiiigAooooAKKKKACiiigAooooAKKKKACiiqupWdpf6bPbakiPayIRIHOAB657Y657UAWqK+fLi2tIL64isJjcWschWG4I2mRfX+me/Wo5C0cLskkqlVJGJGHb61r7PzM+c+grqAXNu0Z6nofQ1zbqUcqwwQcEVu6RkaJY7iSfs8eSe/yiq+rWmR9ojHI4cD+dc0431OqlOzsytpt39nm8tz+7c/kfWt2uVra0y981BDKfnUfKT3FKEuhVWH2kcT8WL2VU0+yVsRNulcepGAP5mvNa9B+LP/IR07/rk/8AMV59Xm4j+KyY7BRRRWBQUUUUAFFFFABRRRQAUUUUAFFFFABRRRQAUUUUAFFFFABRRRQB7L8OL573wfGkhJNtK0IJPYYYfo2PwrqncIhZzhQMk1xXwr/5Fa5/6/W/9ASt3U73zWMER+RT8x9TXr05WpJszUeaVird3Bubhn/h6KPQU22ga5uFjXv1PoKire060+zQ7nH7x+vt7UormZ0SkoR0LaqEUKowAMAUtY/i6eW28HarNbyvFLHauySRsVZTjqCOlePf2tqv/QY1P/wOl/8Aiq64w5jhlKx7zRXg6alq81xDBFrGoB5pFjVpNQlVVJOMsd3Ar2bQdJfRtLS2mvbm+m+9JPcSs5ZvbJOB6D+vNEo8oKVzSoooqCgooooAKKKKACiiigAooooAKKKKACiiigAooooAKKKKACiiigAooooAKKKKACiiigAooooAKKKKACiiigAooooAKKKKACiiigAooooAKKKKACiiigAooooAKKKKACiiigAooooAKKKKACiiigAooqG8vLfT7OS6vZlhgiXc7ueAKAHzzxW0Dz3EixRRqWd3OAo9Sa8k8X+MZfEUjWdiWi0tTz2a5PqfRfQfifSoPFXiy48S3HlR7oNMjbMcJ4MpHRn/AKL2+vTBreELasylLogqC5Y/Y5G2OEZXCSFTtcgcgHuRkZrqvCXg+bxJILm63w6WpwXBw05HZfRfVvwHqPStU8NaZqvh/wDsea3WO1VQIhGMGIgcFfQj/GnKok7CUW0X7BdmnWy/3YlH6CpyAwIIyD1FNjTy41QfwgCnVzmxgX9mbWXKj9233T6e1VVYqwZTgg5BFdNLEs0TRyDKt1rAu7R7STDcqfut61hKNtUdVOfMrM4v4mTtcTaXI4+YxODj/eFcLXa/ETrpf/XOT/0KuKrzq38Rk7BRRRWIBRViws31DUbeziIDzyLGpPQEnGa6nUvEMXhq+k03wvbQQm2zFJeyRh5ZHH3uSOBnt04q4xTV29BXOOorT1jX77XTC2pNHJJCCBIsSqzA+uOv/wBc1Zj8Iaw9v9oMCRweSkwlkkVVKsMjBJ5Pt2/Gjlu/d1C/cw6K2NP8L6lqdpHc24gWOVisfmzohcg4OATnrVK/0u803UGsby3aO4BA2dd2emMdc+1Llklew7laON5pVjiRnkdgqqoyWJ6ADuaWaGS3maKeN4pEOGR1IKn0IPSur0bwbrVrrenXE9vGuyeKZ4vOXzFTeMkrnNOuH1JPHmu/2QsbSss4kEnTy/4se9X7N2uxXOPoq/pWi32syyJYQ7xEu6R2YKiD3Y8Cn6toGoaKImvoQI5hmOSNw6N+IqOWVr20HczaK6AeCNb27ngiijKqyySToqtu6YJPWobXw1e/8JF/Zl5HHDLEVaRZZQgZMjoc85z2p+zl2FdGLRXSeLPDZ0jUbqW1EEdksgWONbgM6gjupJb86YngfXWjQm3iSR03rC86LIR/uk03Tle1gujnqKKKzGFFFFAHpfgC5eHwhOkfBkvXyfQBI/8AGtuue8C/8is3/X7J/wCgR119hYG5bzJOIgf++q9KndxSNItRjcl0uy3MJ5R8o+4D39616QAKoCjAAwAO1LXXFWRyyk5O5ieNP+RI1j/r0k/lXiwYZ25GcZxXuXiKwm1Tw3f2Ntt864gaNNxwASMc1zy/DXSx4d+xsc6gfn+34+YSY9P7nbb6e/NbQkooylFs8uIDKQwyDwQa7vwT42Ns0Wka3LmI4S2unP3fRHP8j+BrjdQ0+70nUJLHUY/LuI+ePuuvZlPcH/6xqswDKQwyCMEHvWrSkjJNxZ9CUV5r4J8bG1aLSdblzCSEtrpz930Rz6eh/A16VXM007M3TuFFFFIYUUUUAFFFFABRRRQAUUUUAFFFFABRRRQAUUUUAFFFFABRRRQAUUUUAFFFFABRRRQAUUUUAFFFFABRRRQAUUUUAFFFFABRRRQAUUUUAFFFFABRRRQAUUUUAFFFFABRRRQAUUUUAFFFUdX1iz0PT3vNRl8uNeFA5Z27Ko7k0ASajqNrpNhJeX8ywwRjJY9/QAdyewrx7xL4mu/E16HlDQ2UTZgts/8Aj7+rfy7etQ6/4gvPEl/9ovP3cMZPkWwOVjHqfVvU/lWYzBVLMQAOST2rohC2rMZSvogJwMmur8IeC317ZfamrR6ZnKJ0a5/wT37/AEqx4P8AAzap5epa3GyWeQ0NswwZ/RnHZfQd+/HX1BVCqFUAADAAHSlOfRDjHqxIoo4YkihRY40AVUUYCgdABTqKKwNQooooAKZNCk8ZSQZU0+igDyr4nQfZrnTYs7sRyYP/AAIVwleg/Fn/AJCOnf8AXJ/5ivPq8iv/ABGbp3VwooorAZf0K8j0/X7G7nz5UM6O5A6KDzWv4i0y/wBJ8Rz6pBB9otJZTcw3Hl+ZEyscjPUd8c1zNaem+I9X0iMx6dfywxk52cMo+gOQK0jJWsxG3q1w2ofD+C+ubW3inOo+WHhgWPKeWT2HPNVfGMsjNosZdii6VAVXPAJBycVmanr+qayqrqd7JOqHKqcBQfXA4zVa7vrm+aI3cpkMMSwx5AG1F6DiqlNO4kjqG0XSNI0fS57+yvdTuNSRXAhfYiA87RgEluenf2rc1EwJ488KmdJY0+yRgLOf3in5toY+ucZ964jTvE+s6Tam30+/khhznZgMAfbIOPwqrf6re6o8T6hcNO0SbEZsZC9evf8AGq9pFLRdgszctLLVf+Fiwi6gna6F8skpCn7vmctn+7jPPTFa1l/yUbX/APrhc/yrnB4w8QLaC2Gqz+WBgcjd/wB9Yz+tU01m/j1Ce+S4IubhWWWTaPmDdeMYpKcVt3uFmdVoZt3+HM8Y06fUSL7NxBBKUYDb8rHAJK8dPX6Vl6lrNvP4VXT7DSJ7W1+0iUTSTmRQ20jaCVGM/XsaxtP1S90q48/TrmS3kxglD1HoR0P41PqniDVdZRE1O9knRDlUOAoPrgYGaXtE42C2pt/EJ2Oq6chYlV0+Ihc8DJbP8qPELtJrPhyWVizvYWrO7HJY55JNc5f6ld6nNHLfTGZ44xEpIAwo6Dj6026v7m9MH2qUyfZ4lhi4A2ovQcUSqJtvuFja8ZRXEXjm+ZI3DmVXj+Xr0wR681swRWPjjW5ob/TrzT9UZBvniYtGCq/xqw+UYA781zN14m1m9sUtLq/lkhjIKg4yCOh3Yzn8akuPF2vXVmbWfU5mhYbSBgEj0JAyfz5p88eZvowszHZdrsuQcHGR0NJRRWBQUUUUAeo/DWzW68NSFz8iXsmR6/JHXfKoVQFGAOgFcV8K/wDkVrn/AK/W/wDQErtq9igv3aMpN3sFFFFbEBRRRQBj+JPDdp4k0/yLj93PHloJ1HzRt/UHuO/5V45qGn3ek6hJY6jH5dxHzxyrr2ZT3B/+tXvdY/iTw3aeJNP8i4/dzR/NBcKPmjb+oPcd60hPlIlG54mQGUhgCD1B713XgrxsbVo9J1uYmE/Lb3Tn7nojn09D+BrjtR0670jUJLHUYvKnTnjlXXsynuD/APWNViAykMMg9Qa2aUkZJuLPoSivNfBPjY2jRaTrcpMJIW2unP3PRHPp6H8DXpVczTTszdO4UUUUhhRRRQAUUUUAFFFFABRRRQAUUUUAFFFFABRRRQAUUUUAFFFFABRRRQAUUUUAFFFFABRRRQAUUUUAFFFFABRRRQAUUUUAFFFFABRRRQAUUUUAFFFFABRRRQAUUUUAFQ3kxt7GeYHBjjZwfoM1NWd4hk8nwvqkn9yzmb8kNAHP2HxH0ufw0dQvP3V3GAr2anLs5HG31Bx17d+led6zrN7r+om81F+mRDCp+SFfQep9T3+nFZsaAIhwNwUDNPZgo5zycAAZJPoK6YwS1MHJsGYIpZjgDvXe+DfAhmMWqa/FhBh4LNx+TOP1C/n6Cz4N8CeQ0Wq69GDOMPBaMMiE9mb1b0Hb69O+qJz6IuMerCiiisTQKKKKACiiigAooooA8w+LP/IR07/rk/8AMV59XoPxZ/5CGnf9cn/mK8+ryMR/FZtHYKKKKwKCiiigAooooAKKKKACiiigAooooAKKKKACiiigAooooAKKKKAPWvhX/wAitc/9frf+gJXbVxXwrBHhW4z3vGx/3wldrXsUf4aMZbhRRRWxIUUUUAFFFFAGP4k8N2niTT/IuP3c6cwXCjLRN/UHuO/5GvHdR0670jUJLHUYvLnj5BH3ZF7Mp7g/p0Ne9VkeI/Dlp4k0/wAi5/dzR5MFwo+aJv6g9x3/ACrSE+UiUbniRAZSGGQeoNdz4J8bG0aLSdblzASEtrlz9z0Rz6eh/A1yGo6dd6RqMljqMflzx85H3ZF7Mp7g/p0NVSAykMMgjBBrZpSRkm4s9q1HxNZ2Ou2OjqfNvLtwCq9IlwTub644FbVeH+FF2+MtJOWYm55ZmJJ+Ru5r3CsJR5dDaLuFFFFQUFFFFABRRRQAUUUUAFFFFABRRRQAUUUUAFFFFABRRRQAUUUUAFFFFABRRRQAUUUUAFFQXl7b6faPc3sqwwxjLOx4FcZc/FnQoZikMVzMB1ZVAH86B2bO6orz/wD4W9o//PndfkKP+FvaP/z53X5CgOVnoFFef/8AC3tH/wCfO6/IUf8AC3tH/wCfO6/IUBys9Aorz/8A4W9o/wDz53X5Cj/hb2j/APPndfkKA5WegUV5/wD8Le0f/nzuvyFH/C3tH/587r8hQHKz0CivP/8Ahb2j/wDPndfkKP8Ahb2j/wDPndfkKA5WegUV5/8A8Le0f/nzuvyFH/C3tH/587r8hQHKz0CivP8A/hb2j/8APndfkKP+FvaP/wA+d1+QoDlZ6BRXn/8Awt7R/wDnzuvyFH/C3tH/AOfO6/IUBys9Aorz/wD4W9o//PndfkKP+FvaP/z53X5CgOVnoFZ3iC0mv/DWpWlqu6e4tZIo1JxlmUgcn61yI+L2jZ5tLoD6D/Gun0HxRpfiONm02fc6fejcbWX8KAaZ5gPA3iZVA/slmwP4biL+rU+z8OeKNJ1S21CHQpJJbZ96o7xOrdiOGOOO/avZKK09ozPkRBY3LXllHPJby2zsuWhlGGQ9wfX6ip6KKzLCiiigAooooAKKKKACiiigDjviNoEuraPHd2iF57Mlig6sh+9j3GAfzryCvpCuY1nwBo2sTNOEe0nY5Z4CAGPup4/LFcdfDub5olxlbRni1Fenn4TWmeNUmx/1yH+NH/CprX/oKTf9+h/jXL9Wq9i+ZHmFFen/APCprX/oKTf9+h/jR/wqa1/6Ck3/AH6H+NH1ar2DmR5hRXp//CprX/oKTf8Afof40f8ACprX/oKTf9+h/jR9Wq9g5keYUV6f/wAKmtf+gpN/36H+NH/CprX/AKCk3/fof40fVqvYOZHmFFen/wDCprX/AKCk3/fof40f8Kmtf+gpN/36H+NH1ar2DmR5hRXp/wDwqa1/6Ck3/fof40f8Kmtf+gpN/wB+h/jR9Wq9g5keYUV6f/wqa1/6Ck3/AH6H+NH/AAqa1/6Ck3/fof40fVqvYOZHmFFen/8ACprX/oKTf9+h/jR/wqa1/wCgpN/36H+NH1ar2DmR5hRXp/8Awqa1/wCgpN/36H+NH/CprX/oKTf9+h/jR9Wq9g5keYU+GGS4mSKBGkkdgqooyWJ7V6avwnsw3z6nOR6CMCul0PwjpPh9vMsoS8+MGeU7m/DsPwFXHCzb10Fzof4W0c6F4dtrKTBmALykf3jyfy6fhWxRRXpRSirIyCiiimAUUUUAFFFFABRRRQB5/wDFDVdJWxi06YLJqed8LBsG3HdifQ9Nvf8ADNecfaIf+e0f/fQr36XTbGeQyTWVvI7dWeJST+OKZ/ZGm/8AQPtf+/C/4VpGfKrESjdnjPhSWN/GWkBJFY/aegbP8LV7lVaPTbGGQSRWVvG68hliUEfjisXXvHWi+H5zBdTNJOOsUQ3EfX0pSlzMqMbaHR0V5/8A8Le0f/nzuvyFH/C3tH/587r8hUFcrPQKK8//AOFvaP8A8+d1+Qo/4W9o/wDz53X5CgOVnoFFef8A/C3tH/587r8hR/wt7R/+fO6/IUBys9Aorz//AIW9o/8Az53X5Cj/AIW9o/8Az53X5CgOVnoFFef/APC3tH/587r8hR/wt7R/+fO6/IUBys9Aorz/AP4W9o//AD53X5Cj/hb2j/8APndfkKA5WegUV5//AMLe0f8A587r8hR/wt7R/wDnzuvyFAcrPQKK8/8A+FvaP/z53X5Cj/hb2j/8+d1+QoDlZ6BRXn//AAt7R/8AnzuvyFH/AAt7R/8AnzuvyFAcrPQKK8//AOFvaP8A8+d1+Qq5p3xR0G+uFhlM1qzHAaVfl/MUBZnaUUisroGQhlYZBHcUtAgooooAKKKKAPJ/i/qcxvrPTUYrCEMjgH7xzxXmld78XP8AkZ4P+uA/nXBUGsdgooooKCiiigAooooAKKKKACiiigAooooAKKKKACiiigAooooAK1fDOpT6X4is7i2bDeaqkdmBOMGsqrOmf8ha0/67p/6EKAPplTuUEdxmlpsf+qT/AHRTqDAKKKKACiiigAooooAKKKKACiiigAooooAKKKKACiiigAooooAKKKKACiiigAooooAKKKKACiiigAooooAKKKKACiiigAooooAKKKKACiiigAooooAKKKKAKGu3zaboF7eJ96GFmH1xXzdNNJcTvNM5eRyWZickmvoXxl/yJeq/9ezfyr53oNIBRRRQWFFFFABRRRQAUUUUAFFFFABRRRQAUUUUAFFFFABRRRQAUUUUAe1/CrU5r/ww8M7lzay+WpPpjOK7ivOfg5/yBNQ/6+B/6CK9GoMZbhRRRQIKKKKAPGfi5/yM8H/XAfzrgq734uf8jPB/1wH864Kg2jsFFFFAyaztJr69htLVN807iNF9STgV12o3GgeEpZNMtNLg1fUIgFuLu8yY1fuqoOw+uc/SsHwrcxWfi3TLi5cJElyhd26KM9T7VJ4vsbjT/F2pR3UbIZLh5UJHDozEgj1//XQLqV9Vv4tZvYHstLhspCixtFag7ZHyeQvbOQMc0y40HV7SAz3elXsES9ZJLd1UfiRUnh3S7rWfEFpZWM3kTu+5ZskeXt+bcMc5GOK9C8IS6dJ4ils4fE19qvmwyJJBcwt5Uwxyckn+X86BN2OW0T/kmXib/rrbf+jKfrX/ACS3w3/13uP/AEM0zRP+SZeJv+utt/6Mp+tf8kt8N/8AXe4/9DNAFv4g6PqeoeLpZLDTrq6jWCIFoYGcA7emQK4jyJvtHkeU/nbtnl7Tu3ZxjHXPtXdfEXWtUs/FqxWt/cwRx28bRrHKVAJHJwOvNO1zS7zxB410FIJBa6headBcTzgbSjjcS+B0ICjA47dKAT0OPudC1ezgM93pd7BEvWSW3dVH4kVVtbS5vZhDZ28txKRkJEhZvyFeoeEJNNm16ezi8S32rCWCRJLe5hbyphjk8k/yrnNHuLnTPhhqF/pbNDdSagsE08Y+ZItgI56j5jjPvQFzI0rTL/TfFGkDUbK4tDJeRbPPiZN2HXOMjnqKk8U2095481SC0gknme6fbHEhZjz2AqHR9QvL3xLo63t3PcLHeRbBLIW25dc4z0zgflXc+ISNPtNav/Cyl9Ra7kTUp8/vraPJxsHZT/eHP5fKB1POIdK1C5upLW3sLmW4j+/EkLM6fUAZFMvNPvNOkWPULSe1dhlVnjKEj1wa6Hwz4gs7LRtR02/ubyya7dJFvLMAuCM5VuQcfT1NQeK9OurQWFy+sPq9jdRs1pO7NkAEblKsTtwT/npQPqc7RRRQMKs6Z/yFrT/run/oQqtVnTP+Qtaf9d0/9CFAH0xH/qk/3RTqbH/qk/3RTqDAKKKKACiiigAooooAKKKKACiiigAooooAKKKKACiiigAooooAKKKKACiiigAooooAKKKKACiiigAooooAKKKKACiiigAooooAKKKKACiiigAooooAKKKKAMTxl/yJeq/9ezfyr53r6I8Zf8iXqv8A17N/Kvneg0hsFFFFBYV02g6Pp0Ohz+IPESSyWccnk29shKm4kxnG7soHce/piuZrspgdQ+EVoLRWdtOvn+0hRyoYEhj7cgZoEyjd+KdOuoLmAeF9NhjkjKwvEGWSJscNu/iwecYFY9no+p6hEZbDTru6jBwXhgZwD6ZAqnXZWGm/2V4Zs77VfEd7psV67vbWtorNkDALHDAA9P0/ADY57T7ae08R2UN1DJBKtzHujkUqw+YdQa7yD/k4Bv8Aff8A9JjUHi7yZb/whcxTm7aREBunTa8wDrgt37n86ng/5OAb/ff/ANJjQTuYvhuGS48HeL4oI3lkf7MFRFJLHzG4AFcve6TqOnKrahYXVqrnCmeFkBPtkV1fha6uLLwj4vns5XhmUW+2RDhly7g4Pbgml8L393qvhnxJZ6rcS3VpFYNOnnSFtko5XBPIyR074oGcraaNqeoQmWw067uYwcF4YGcA+mQKrT281rO0N1DJDKpwySKVYfUGuusdO/snw3Y3mreI77TY70tJbWtorNwCMscMAOo/T8NvxBBaX/ibwaZZBfR3McavPLHtNwoYY3A+ueh9TQFzgotA1ie2FxBpV9JCw3CRLdypHrnGK2X/AOSSJ/2Gf/aJpnirX9bXxZqCtf3duIp3jjjjlZAiA4UAA+mPr1rd8K2+k3Xgezh15ylq2tHHOFZvJOAx7KfX/wDXQBwj2F5FZpdy2s6W0hwkzRkIx9A3Q1YbQNYS2Ny+k3ywBd5lNs4ULjOc4xitXxHqmqw+LozrduI/sMymKyHESIpBCqOmCB1xzW9dMPGN3qEvh3xFqK3UkTSf2ddZRWT+JAynbjBxg/j3NAXPPKKKKCgooooA9d+Dn/IE1D/r4H/oIr0avOfg5/yBNQ/6+B/6CK9GoMZbhRRRQIKKKKAPGfi5/wAjPB/1wH864Ku9+Ln/ACM9v/1wH864Kg2jsFFFFAwrpLHxzqlrYrZXcNnqlvGAsceoQCXYPQHIPp1z0Fc3RQI27vxXfT6ra39rDaadLaDEK2UAjVfXjnPpzWrF8StTt5vNtNM0i3dmLStDalTNkEfMd2e+eMcgfSuPooCyNC11q4tNCvtKjSIwXzRtIzA7hsORg5x+hpbrXLm70Cx0iRIhb2TO0bKDvJY5OTnHf0FZ1FAHXyfEjU7iTzLvTtJuXUjymmtdxhwMfKc59+c8n8Kw28R6s2vDWjeOb9TkS4HHGMY6YxxjpWZRQFkdhF8SdTtpvNs9M0i2dmLSmG1KmbII+Y7s9TnjHIH0rF0LxLqHh6ST7C0bwzDEtvMm+OT6j/CsmigLI3L3xVc3l7ZXCWGnWYspRLHFaW/loWBByecnp60yHxTqNt4km1qAxx3Fw7NLGFJjcHqpUnlfxrGooCxu6f4qk083CppOlTwTyeb5FxbeYkZ/2cnIHtk1V1vX73X7mOW+MarEuyKGFAiRr6AVmUUBYKKKKBhVnTP+Qtaf9d0/9CFVqs6Z/wAha0/67p/6EKAPpiP/AFSf7op1Nj/1Sf7op1BgFFFFABRRRQAUUUUAFFFFABRRRQAUUUUAFFFFABRRRQAUUUUAFFFFABRRRQAUUUUAFFFFABRRRQAUUUUAFFFFABRRRQAUUUUAFFFFABRRRQAUUUUAFFFFAGJ4y/5EvVf+vZv5V8719EeMv+RM1X/r2b+VfO9BpDYKKKKCwq/pGt6hoV0bjS7hoHZdrcAqw9CDwaoUUAdPc+Orm4gmQaNosUsyFGuIrLEnIxnOetQaV4yvtM0+OxktbHULaFt8Md9b+Z5JzkleQR1rn6KBWRuar4u1HWbiwnvVt99gxaLZGVBywYAjPQYAGMcfnSr4tv08YHxGIrf7ZknZtby+U2dM56e/WsKigLI29C8V3/h5LxbGO3YXjIZRNHvBCknbjPQ7iD+mKfqvjC/1TTjp8dvZafZsdzwWMHlLIeoLcnNYNFAWR0GleMr7TNPjsZLSw1C3hbdAl9b+Z5Jzk7TkEdar614o1HXpLSS9MaSWgIieFdhGWyOh7cAYx0rHooCx1L/EDUpoR9rsdLurlVKreT2gaZeMZBzjP4VitrNw3h4aMUi+zi6+1bsHfv27cZzjGPaqFFAWNifxPe3VlYQXMcEsmnsDb3LpmRVHIQ84ZeOhBq9c+Or+W0ngtNP0vTjcKUmlsrUJJIp6gnJ61zNFAWQUUUUDCiiigD134Of8gTUP+vgf+givRq85+Dn/ACBNQ/6+B/6CK9GoMZbhRRRQIKKKKAOB+J3hW41i1i1HT4/MntlKvGOrL7eteOSRvExWVGRh1DDBr6hqvJp9nK5eW1hdj1JjBJoKUrHzJRX0z/Zdh/z5wf8AfsUf2XYf8+cH/fsUFc58zUV9M/2XYf8APnB/37FH9l2H/PnB/wB+xQHOfM1FfTP9l2H/AD5wf9+xR/Zdh/z5wf8AfsUBznzNRX0z/Zdh/wA+cH/fsUf2XYf8+cH/AH7FAc58zUV9M/2XYf8APnB/37FH9l2H/PnB/wB+xQHOfM1FfTP9l2H/AD5wf9+xR/Zdh/z5wf8AfsUBznzNRX0z/Zdh/wA+cH/fsUf2XYf8+cH/AH7FAc58zUV9M/2XYf8APnB/37FH9l2H/PnB/wB+xQHOfM1FfTP9l2H/AD5wf9+xR/Zdh/z5wf8AfsUBznzN1rsPAnhC81jWYLqeFo7KBw7uwxvx0Ar2n+y7D/nzg/79irCIsahY1CqOgUYAoE5DulFFFBAUUUUAFFFFABRRRQAUUUUAFFFFABRRRQAUUUUAFFFFABRRRQAUUUUAFFFFABRRRQAUUUUAFFFFABRRRQAUUUUAFFFFABRRRQAUUUUAFFFFABRRRQAUUUUAQX1ol/YT2sv3JkKHjPUV89eIPDd/4f1KS3uoX8sH93KASrD619GUyWCKdNk8aSL6OuRQUnY+X6K+mf7LsP8Anzg/79ij+y7D/nzg/wC/YoK5z5mor6Z/suw/584P+/Yo/suw/wCfOD/v2KA5z5mor6Z/suw/584P+/Yo/suw/wCfOD/v2KA5z5mor6Z/suw/584P+/Yo/suw/wCfOD/v2KA5z5mor6Z/suw/584P+/Yo/suw/wCfOD/v2KA5z5mor6Z/suw/584P+/Yo/suw/wCfOD/v2KA5z5mor6Z/suw/584P+/Yo/suw/wCfOD/v2KA5z5mor6Z/suw/584P+/Yo/suw/wCfOD/v2KA5z5mor6Z/suw/584P+/Yo/suw/wCfOD/v2KA5z5mqe0srm+nWG0geaRjgBFzX0l/Zdh/z5wf9+xUkNnbW7boLeKM+qoAaA5zC8D+HX8OeHUt7jBuZW8yXHYnoPwFdHRRQZhRRRQAUUUUAFFFFABRRRQAUUUUAFFFFABRRRQAUUUUAFFFFABRRRQAUUUUAFFFFABRRRQAUUUUAFFFFABRRRQAUUUUAFFFFABRRRQAUUUUAFFFFABRRRQAUUUUAFFFFABRRRQAUUUUAFFFFABRRRQAUUUUAFFFFABRRRQAUUUUAFFFFABRRRQAUUUUAFFFFABRRRQAUUUUAFFFFABRRRQAUUUUAFFFFABRRRQAUUUUAFFFFABRRRQAUUUUAFFFFABRRRQAUUUUAFFFFABRRRQAUUUUAFFFFABRRRQAUUUUAFFFFABRRRQAUUUUAFFFFABRRRQAUUUUAFFFFABRRRQAUUUUAFFFFABRRRQAUUUUAFFFFABRRRQAUUUUAFFFFABRRRQAUUUUAFFFFABRRRQAUUUUAFFFFABRRRQAUUUUAFFFFABRRRQAUUUUAFFFFABRRRQAUUUUAFFFFABRRRQAUUUUAFFFFABRRRQAUUUUAFFFFABRRRQAUUUUAFFFFABRRRQB//9k=)"
      ],
      "metadata": {
        "id": "khhE1Vlcac9n"
      }
    },
    {
      "cell_type": "markdown",
      "source": [
        "The real effectiveness of this approach has been borne out over the last couple of years—it has turned out that, by using the fastai callback system, we were able to implement every single new paper we tried and fulfilled every user request for modifying the training loop.\n",
        "\n",
        "![Capture.JPG](data:image/jpeg;base64,/9j/4AAQSkZJRgABAQEAkACQAAD/4REKRXhpZgAATU0AKgAAAAgABAE7AAIAAAAVAAAISodpAAQAAAABAAAIYJydAAEAAAAqAAAQ2OocAAcAAAgMAAAAPgAAAAAc6gAAAAgAAAAAAAAAAAAAAAAAAAAAAAAAAAAAAAAAAAAAAAAAAAAAAAAAAAAAAAAAAAAAAAAAAAAAAAAAAAAAAAAAAAAAAAAAAAAAAAAAAAAAAAAAAAAAAAAAAAAAAAAAAAAAAAAAAAAAAAAAAAAAAAAAAAAAAAAAAAAAAAAAAAAAAAAAAAAAAAAAAAAAAAAAAAAAAAAAAAAAAAAAAAAAAAAAAAAAAAAAAAAAAAAAAAAAAAAAAAAAAAAAAAAAAAAAAAAAAAAAAAAAAAAAAAAAAAAAAAAAAAAAAAAAAAAAAAAAAAAAAAAAAAAAAAAAAAAAAAAAAAAAAAAAAAAAAAAAAAAAAAAAAAAAAAAAAAAAAAAAAAAAAAAAAAAAAAAAAAAAAAAAAAAAAAAAAAAAAAAAAAAAAAAAAAAAAAAAAAAAAAAAAAAAAAAAAAAAAAAAAAAAAAAAAAAAAAAAAAAAAAAAAAAAAAAAAAAAAAAAAAAAAAAAAAAAAAAAAAAAAAAAAAAAAAAAAAAAAAAAAAAAAAAAAAAAAAAAAAAAAAAAAAAAAAAAAAAAAAAAAAAAAAAAAAAAAAAAAAAAAAAAAAAAAAAAAAAAAAAAAAAAAAAAAAAAAAAAAAAAAAAAAAAAAAAAAAAAAAAAAAAAAAAAAAAAAAAAAAAAAAAAAAAAAAAAAAAAAAAAAAAAAAAAAAAAAAAAAAAAAAAAAAAAAAAAAAAAAAAAAAAAAAAAAAAAAAAAAAAAAAAAAAAAAAAAAAAAAAAAAAAAAAAAAAAAAAAAAAAAAAAAAAAAAAAAAAAAAAAAAAAAAAAAAAAAAAAAAAAAAAAAAAAAAAAAAAAAAAAAAAAAAAAAAAAAAAAAAAAAAAAAAAAAAAAAAAAAAAAAAAAAAAAAAAAAAAAAAAAAAAAAAAAAAAAAAAAAAAAAAAAAAAAAAAAAAAAAAAAAAAAAAAAAAAAAAAAAAAAAAAAAAAAAAAAAAAAAAAAAAAAAAAAAAAAAAAAAAAAAAAAAAAAAAAAAAAAAAAAAAAAAAAAAAAAAAAAAAAAAAAAAAAAAAAAAAAAAAAAAAAAAAAAAAAAAAAAAAAAAAAAAAAAAAAAAAAAAAAAAAAAAAAAAAAAAAAAAAAAAAAAAAAAAAAAAAAAAAAAAAAAAAAAAAAAAAAAAAAAAAAAAAAAAAAAAAAAAAAAAAAAAAAAAAAAAAAAAAAAAAAAAAAAAAAAAAAAAAAAAAAAAAAAAAAAAAAAAAAAAAAAAAAAAAAAAAAAAAAAAAAAAAAAAAAAAAAAAAAAAAAAAAAAAAAAAAAAAAAAAAAAAAAAAAAAAAAAAAAAAAAAAAAAAAAAAAAAAAAAAAAAAAAAAAAAAAAAAAAAAAAAAAAAAAAAAAAAAAAAAAAAAAAAAAAAAAAAAAAAAAAAAAAAAAAAAAAAAAAAAAAAAAAAAAAAAAAAAAAAAAAAAAAAAAAAAAAAAAAAAAAAAAAAAAAAAAAAAAAAAAAAAAAAAAAAAAAAAAAAAAAAAAAAAAAAAAAAAAAAAAAAAAAAAAAAAAAAAAAAAAAAAAAAAAAAAAAAAAAAAAAAAAAAAAAAAAAAAAAAAAAAAAAAAAAAAAAAAAAAAAAAAAAAAAAAAAAAAAAAAAAAAAAAAAAAAAAAAAAAAAAAAAAAAAAAAAAAAAAAAAAAAAAAAAAAAAAAAAAAAAAAAAAAAAAAAAAAAAAAAAAAAAAAAAAAAAAAAAAAAAAAAAAAAAAAAAAAAAAAAAAAAAAAAAAAAAAAAAAAAAAAAAAAAAAAAAAAAAAAAAAAAAAAAAAAAAAAAAAAAAAAAAAAAAAAAAAAAAAAAAAAAAAAAAAAAAAAAAAAAAAAAAAAAAAAAAAAAAAAAAAAAAAAAAAAAAAAAAAAAAAAAAAAAAAAAAAAAAAAAAAAAAAAAAAAAAAAAAAAAAAAAAAAAAAAAAAAAAAAAAAAAAAAAAAAAAAAAAAAAAAAAAAAAAAAAAAAAAAAAAAAAAAAAAAAAAAAAAAAAAAAAAAAAAAAAAAAAAAAAAAAAAAAAAAAAAAAAAAAAAAAAAAAAAAAAAAAAAAAAAAAAAAAAAAAAAAAAAAAAAAAAAAAAAAAAAAAAAAAAAAAAAAAAAAAAAAAAAAAAAAAAAAAAAAAAAAAAAAAAAAAAAAAAAAAAAAAAAAAAAAAAAAAAAAAAAAAAAAAAAAAAAAAAAAAAAAAAAAAAAAAAAAAAAAAAAAAAAAAAAAAAAAAAAAAAAAAAAAAAAAAAAAAAAAAAAAAAAAAAAAAAAAAAAAAAAAAAAAAAAAAAAAAAAAAAAAAAAAAAAAAAAAAAAAAAAAAAAAAAAAAAAAAAAAAAAAAAAAAAAAAAAAAAAAAAAAAAAAAAAAAAAAAAAAAAAAAAAAAAAAAAAAAAAAAAAAAAAAAAAAAAAAAAAAAAAAAAAAAAAAAAAAAAAAAAAAAAAAAAAAAAAAAAAAAAAAAAAAAAAAAAAAAAAAAAAAAAAAAAAAAAAAAAAAAAAAAAAAAAAAAAAAAAAAAAAAAAAAAAAAAAAAAAAAAAAAAAAAAAAAAAAAAAAAAAAAAAAAAAAAAAAAAAAAAAAAAAAAAAAAAAAAAAAAAAAAAAAAAAAAAAAAAAAAAAAAAAAAAAAAAAAAAAAAAAAAAAAAAAAAAAAAAAAAAAAAAAAAAAAAAAAAAAAAAAAAAAAAAAAAAAAAAAAAAAAAAAAAAAAAAAAAAAAAAAAAAAAAAAAAAAAAAAAAAAAAAAAAAAAEZvcnR1bnkgU2ljYXJ0LCBBbGFuAAAABZADAAIAAAAUAAAQrpAEAAIAAAAUAAAQwpKRAAIAAAADMDIAAJKSAAIAAAADMDIAAOocAAcAAAgMAAAIogAAAAAc6gAAAAgAAAAAAAAAAAAAAAAAAAAAAAAAAAAAAAAAAAAAAAAAAAAAAAAAAAAAAAAAAAAAAAAAAAAAAAAAAAAAAAAAAAAAAAAAAAAAAAAAAAAAAAAAAAAAAAAAAAAAAAAAAAAAAAAAAAAAAAAAAAAAAAAAAAAAAAAAAAAAAAAAAAAAAAAAAAAAAAAAAAAAAAAAAAAAAAAAAAAAAAAAAAAAAAAAAAAAAAAAAAAAAAAAAAAAAAAAAAAAAAAAAAAAAAAAAAAAAAAAAAAAAAAAAAAAAAAAAAAAAAAAAAAAAAAAAAAAAAAAAAAAAAAAAAAAAAAAAAAAAAAAAAAAAAAAAAAAAAAAAAAAAAAAAAAAAAAAAAAAAAAAAAAAAAAAAAAAAAAAAAAAAAAAAAAAAAAAAAAAAAAAAAAAAAAAAAAAAAAAAAAAAAAAAAAAAAAAAAAAAAAAAAAAAAAAAAAAAAAAAAAAAAAAAAAAAAAAAAAAAAAAAAAAAAAAAAAAAAAAAAAAAAAAAAAAAAAAAAAAAAAAAAAAAAAAAAAAAAAAAAAAAAAAAAAAAAAAAAAAAAAAAAAAAAAAAAAAAAAAAAAAAAAAAAAAAAAAAAAAAAAAAAAAAAAAAAAAAAAAAAAAAAAAAAAAAAAAAAAAAAAAAAAAAAAAAAAAAAAAAAAAAAAAAAAAAAAAAAAAAAAAAAAAAAAAAAAAAAAAAAAAAAAAAAAAAAAAAAAAAAAAAAAAAAAAAAAAAAAAAAAAAAAAAAAAAAAAAAAAAAAAAAAAAAAAAAAAAAAAAAAAAAAAAAAAAAAAAAAAAAAAAAAAAAAAAAAAAAAAAAAAAAAAAAAAAAAAAAAAAAAAAAAAAAAAAAAAAAAAAAAAAAAAAAAAAAAAAAAAAAAAAAAAAAAAAAAAAAAAAAAAAAAAAAAAAAAAAAAAAAAAAAAAAAAAAAAAAAAAAAAAAAAAAAAAAAAAAAAAAAAAAAAAAAAAAAAAAAAAAAAAAAAAAAAAAAAAAAAAAAAAAAAAAAAAAAAAAAAAAAAAAAAAAAAAAAAAAAAAAAAAAAAAAAAAAAAAAAAAAAAAAAAAAAAAAAAAAAAAAAAAAAAAAAAAAAAAAAAAAAAAAAAAAAAAAAAAAAAAAAAAAAAAAAAAAAAAAAAAAAAAAAAAAAAAAAAAAAAAAAAAAAAAAAAAAAAAAAAAAAAAAAAAAAAAAAAAAAAAAAAAAAAAAAAAAAAAAAAAAAAAAAAAAAAAAAAAAAAAAAAAAAAAAAAAAAAAAAAAAAAAAAAAAAAAAAAAAAAAAAAAAAAAAAAAAAAAAAAAAAAAAAAAAAAAAAAAAAAAAAAAAAAAAAAAAAAAAAAAAAAAAAAAAAAAAAAAAAAAAAAAAAAAAAAAAAAAAAAAAAAAAAAAAAAAAAAAAAAAAAAAAAAAAAAAAAAAAAAAAAAAAAAAAAAAAAAAAAAAAAAAAAAAAAAAAAAAAAAAAAAAAAAAAAAAAAAAAAAAAAAAAAAAAAAAAAAAAAAAAAAAAAAAAAAAAAAAAAAAAAAAAAAAAAAAAAAAAAAAAAAAAAAAAAAAAAAAAAAAAAAAAAAAAAAAAAAAAAAAAAAAAAAAAAAAAAAAAAAAAAAAAAAAAAAAAAAAAAAAAAAAAAAAAAAAAAAAAAAAAAAAAAAAAAAAAAAAAAAAAAAAAAAAAAAAAAAAAAAAAAAAAAAAAAAAAAAAAAAAAAAAAAAAAAAAAAAAAAAAAAAAAAAAAAAAAAAAAAAAAAAAAAAAAAAAAAAAAAAAAAAAAAAAAAAAAAAAAAAAAAAAAAAAAAAAAAAAAAAAAAAAAAAAAAAAAAAAAAAAAAAAAAAAAAAAAAAAAAAAAAAAAAAAAAAAAAAAAAAAAAAAAAAAAAAAAAAAAAAAAAAAAAAAAAAAAAAAAAAAAAAAAAAAAAAAAAAAAAAAAAAAAAAAAAAAAAAAAAAAAAAAAAAAAAAAAAAAAAAAAAAAAAAAAAAAAAAAAAAAAAAAAAAAAAAAAAAAAAAAAAAAAAAAAAAAAAAAAAAAAAAAAAAAAAAAAAAAAAAAAAAAAAAAAAAAAAAAAAAAAAAAAAAAAAAAAAAAAAAAAAAAAAAAAAAAAAAAAAAAAAAAAAAAAAAAAAAAAAAAAAAAAAAAAAAAAAAAAAAAAAAAAAAAAAAAAAAAAAAAAAAAAAAAAAAAAAAAAAAAAAAAAAAAAAAAAAAAAAAAAAAAAAAAAAAAAAAAAAAAAAAAAAAAAAAAAAAAAAAAAAAAAAAAAAAAAAAAAAAAAAAAAAAAAAAAAAAAAAAAAAAAAAAAAAAAAAAAAAAAAAAAAAAAAAAAAAAAAAAAAAAAAAAAAAAAAAAAAAAAAAAAAAAAAAAAAAAAAAAAAAAAAAAAAAAAAAAAAAAAAAAAAAAAAAAAAAAAAAAAAAAAAAAAAAAAAAAAAAAAAAAAAAAAAAAAAAAAAAAAAAAAAAAAAAAAAAAAAAAAAAAAAAAAAAAAAAAAAAAAAAAAAAAAAAAAAAAAAAAAAAAAAAAAAAAAAAAAAAAAAAAAAAAAAAAAAAAAAAAAAAAAAAAAAAAAAAAAAAAAAAAAAAAAAAAAAAAAAAAAAAAAAAAAAAAAAAAAAAAAAAAAAAAAAAAAAAAAAAAAAAAAAAAAAAAAAAAAAAAAAAAAAAAAAAAAAAAAAAAAAAAAAAAAAAAAAAAAAAAAAAAAAAAAAAAAAAAAAAAAAAAAAAAAAAAAAAAAAAAAAAAAAAAAAAAAAAAAAAAAADIwMjI6MTA6MDMgMTc6MTU6NDIAMjAyMjoxMDowMyAxNzoxNTo0MgAAAEYAbwByAHQAdQBuAHkAIABTAGkAYwBhAHIAdAAsACAAQQBsAGEAbgAAAP/hCydodHRwOi8vbnMuYWRvYmUuY29tL3hhcC8xLjAvADw/eHBhY2tldCBiZWdpbj0n77u/JyBpZD0nVzVNME1wQ2VoaUh6cmVTek5UY3prYzlkJz8+DQo8eDp4bXBtZXRhIHhtbG5zOng9ImFkb2JlOm5zOm1ldGEvIj48cmRmOlJERiB4bWxuczpyZGY9Imh0dHA6Ly93d3cudzMub3JnLzE5OTkvMDIvMjItcmRmLXN5bnRheC1ucyMiPjxyZGY6RGVzY3JpcHRpb24gcmRmOmFib3V0PSJ1dWlkOmZhZjViZGQ1LWJhM2QtMTFkYS1hZDMxLWQzM2Q3NTE4MmYxYiIgeG1sbnM6ZGM9Imh0dHA6Ly9wdXJsLm9yZy9kYy9lbGVtZW50cy8xLjEvIi8+PHJkZjpEZXNjcmlwdGlvbiByZGY6YWJvdXQ9InV1aWQ6ZmFmNWJkZDUtYmEzZC0xMWRhLWFkMzEtZDMzZDc1MTgyZjFiIiB4bWxuczp4bXA9Imh0dHA6Ly9ucy5hZG9iZS5jb20veGFwLzEuMC8iPjx4bXA6Q3JlYXRlRGF0ZT4yMDIyLTEwLTAzVDE3OjE1OjQyLjAyMTwveG1wOkNyZWF0ZURhdGU+PC9yZGY6RGVzY3JpcHRpb24+PHJkZjpEZXNjcmlwdGlvbiByZGY6YWJvdXQ9InV1aWQ6ZmFmNWJkZDUtYmEzZC0xMWRhLWFkMzEtZDMzZDc1MTgyZjFiIiB4bWxuczpkYz0iaHR0cDovL3B1cmwub3JnL2RjL2VsZW1lbnRzLzEuMS8iPjxkYzpjcmVhdG9yPjxyZGY6U2VxIHhtbG5zOnJkZj0iaHR0cDovL3d3dy53My5vcmcvMTk5OS8wMi8yMi1yZGYtc3ludGF4LW5zIyI+PHJkZjpsaT5Gb3J0dW55IFNpY2FydCwgQWxhbjwvcmRmOmxpPjwvcmRmOlNlcT4NCgkJCTwvZGM6Y3JlYXRvcj48L3JkZjpEZXNjcmlwdGlvbj48L3JkZjpSREY+PC94OnhtcG1ldGE+DQogICAgICAgICAgICAgICAgICAgICAgICAgICAgICAgICAgICAgICAgICAgICAgICAgICAgICAgICAgICAgICAgICAgICAgICAgICAgICAgICAgICAgICAgICAgICAgICAgICAgCiAgICAgICAgICAgICAgICAgICAgICAgICAgICAgICAgICAgICAgICAgICAgICAgICAgICAgICAgICAgICAgICAgICAgICAgICAgICAgICAgICAgICAgICAgICAgICAgICAgICAKICAgICAgICAgICAgICAgICAgICAgICAgICAgICAgICAgICAgICAgICAgICAgICAgICAgICAgICAgICAgICAgICAgICAgICAgICAgICAgICAgICAgICAgICAgICAgICAgICAgIAogICAgICAgICAgICAgICAgICAgICAgICAgICAgICAgICAgICAgICAgICAgICAgICAgICAgICAgICAgICAgICAgICAgICAgICAgICAgICAgICAgICAgICAgICAgICAgICAgICAgCiAgICAgICAgICAgICAgICAgICAgICAgICAgICAgICAgICAgICAgICAgICAgICAgICAgICAgICAgICAgICAgICAgICAgICAgICAgICAgICAgICAgICAgICAgICAgICAgICAgICAKICAgICAgICAgICAgICAgICAgICAgICAgICAgICAgICAgICAgICAgICAgICAgICAgICAgICAgICAgICAgICAgICAgICAgICAgICAgICAgICAgICAgICAgICAgICAgICAgICAgIAogICAgICAgICAgICAgICAgICAgICAgICAgICAgICAgICAgICAgICAgICAgICAgICAgICAgICAgICAgICAgICAgICAgICAgICAgICAgICAgICAgICAgICAgICAgICAgICAgICAgCiAgICAgICAgICAgICAgICAgICAgICAgICAgICAgICAgICAgICAgICAgICAgICAgICAgICAgICAgICAgICAgICAgICAgICAgICAgICAgICAgICAgICAgICAgICAgICAgICAgICAKICAgICAgICAgICAgICAgICAgICAgICAgICAgICAgICAgICAgICAgICAgICAgICAgICAgICAgICAgICAgICAgICAgICAgICAgICAgICAgICAgICAgICAgICAgICAgICAgICAgIAogICAgICAgICAgICAgICAgICAgICAgICAgICAgICAgICAgICAgICAgICAgICAgICAgICAgICAgICAgICAgICAgICAgICAgICAgICAgICAgICAgICAgICAgICAgICAgICAgICAgCiAgICAgICAgICAgICAgICAgICAgICAgICAgICAgICAgICAgICAgICAgICAgICAgICAgICAgICAgICAgICAgICAgICAgICAgICAgICAgICAgICAgICAgICAgICAgICAgICAgICAKICAgICAgICAgICAgICAgICAgICAgICAgICAgICAgICAgICAgICAgICAgICAgICAgICAgICAgICAgICAgICAgICAgICAgICAgICAgICAgICAgICAgICAgICAgICAgICAgICAgIAogICAgICAgICAgICAgICAgICAgICAgICAgICAgICAgICAgICAgICAgICAgICAgICAgICAgICAgICAgICAgICAgICAgICAgICAgICAgICAgICAgICAgICAgICAgICAgICAgICAgCiAgICAgICAgICAgICAgICAgICAgICAgICAgICAgICAgICAgICAgICAgICAgICAgICAgICAgICAgICAgICAgICAgICAgICAgICAgICAgICAgICAgICAgICAgICAgICAgICAgICAKICAgICAgICAgICAgICAgICAgICAgICAgICAgICAgICAgICAgICAgICAgICAgICAgICAgICAgICAgICAgICAgICAgICAgICAgICAgICAgICAgICAgICAgICAgICAgICAgICAgIAogICAgICAgICAgICAgICAgICAgICAgICAgICAgICAgICAgICAgICAgICAgICAgICAgICAgICAgICAgICAgICAgICAgICAgICAgICAgICAgICAgICAgICAgICAgICAgICAgICAgCiAgICAgICAgICAgICAgICAgICAgICAgICAgICAgICAgICAgICAgICAgICAgICAgICAgICAgICAgICAgICAgICAgICAgICAgICAgICAgICAgICAgICAgICAgICAgICAgICAgICAKICAgICAgICAgICAgICAgICAgICAgICAgICAgICAgICAgICAgICAgICAgICAgICAgICAgICAgICAgICAgICAgICAgICAgICAgICAgICAgICAgICAgICAgICAgICAgICAgICAgIAogICAgICAgICAgICAgICAgICAgICAgICAgICAgICAgICAgICAgICAgICAgICAgICAgICAgICAgICAgICAgICAgICAgICAgICAgICAgICAgICAgICAgICAgICAgICAgICAgICAgCiAgICAgICAgICAgICAgICAgICAgICAgICAgICAgICAgICAgICAgICAgICAgICAgICAgICAgICAgICAgICAgICAgICAgICAgICAgICAgICAgICAgICAgICAgICAgICAgICAgICAKICAgICAgICAgICAgICAgICAgICAgICAgICAgIDw/eHBhY2tldCBlbmQ9J3cnPz7/2wBDAAcFBQYFBAcGBQYIBwcIChELCgkJChUPEAwRGBUaGRgVGBcbHichGx0lHRcYIi4iJSgpKywrGiAvMy8qMicqKyr/2wBDAQcICAoJChQLCxQqHBgcKioqKioqKioqKioqKioqKioqKioqKioqKioqKioqKioqKioqKioqKioqKioqKioqKir/wAARCAG7Aq8DASIAAhEBAxEB/8QAHwAAAQUBAQEBAQEAAAAAAAAAAAECAwQFBgcICQoL/8QAtRAAAgEDAwIEAwUFBAQAAAF9AQIDAAQRBRIhMUEGE1FhByJxFDKBkaEII0KxwRVS0fAkM2JyggkKFhcYGRolJicoKSo0NTY3ODk6Q0RFRkdISUpTVFVWV1hZWmNkZWZnaGlqc3R1dnd4eXqDhIWGh4iJipKTlJWWl5iZmqKjpKWmp6ipqrKztLW2t7i5usLDxMXGx8jJytLT1NXW19jZ2uHi4+Tl5ufo6erx8vP09fb3+Pn6/8QAHwEAAwEBAQEBAQEBAQAAAAAAAAECAwQFBgcICQoL/8QAtREAAgECBAQDBAcFBAQAAQJ3AAECAxEEBSExBhJBUQdhcRMiMoEIFEKRobHBCSMzUvAVYnLRChYkNOEl8RcYGRomJygpKjU2Nzg5OkNERUZHSElKU1RVVldYWVpjZGVmZ2hpanN0dXZ3eHl6goOEhYaHiImKkpOUlZaXmJmaoqOkpaanqKmqsrO0tba3uLm6wsPExcbHyMnK0tPU1dbX2Nna4uPk5ebn6Onq8vP09fb3+Pn6/9oADAMBAAIRAxEAPwD6RoorI1/xLYeG4oZNR8zbMxVfLXdyKidSNOLlN2RcISqS5Yq7NeiuN/4Wl4e9br/v1/8AXo/4Wl4e9br/AL9f/Xrl+v4X/n4vvOn6jif5GdlRXG/8LS8Pet1/36/+vR/wtLw963X/AH6/+vR9fwv/AD8X3h9RxP8AIzsqK43/AIWl4e9br/v1/wDXo/4Wl4e9br/v1/8AXo+v4X/n4vvD6jif5GdlRXG/8LS8Pet1/wB+v/r0f8LS8Pet1/36/wDr0fX8L/z8X3h9RxP8jOyorjf+FpeHvW6/79f/AF6P+FpeHvW6/wC/X/16Pr+F/wCfi+8PqOJ/kZ2VFcb/AMLS8Pet1/36/wDr0f8AC0vD3rdf9+v/AK9H1/C/8/F94fUcT/IzsqK43/haXh71uv8Av1/9ej/haXh71uv+/X/16Pr+F/5+L7w+o4n+RnZUVxv/AAtLw963X/fr/wCvR/wtLw963X/fr/69H1/C/wDPxfeH1HE/yM7KiuN/4Wl4e9br/v1/9ej/AIWl4e9br/v1/wDXo+v4X/n4vvD6jif5GdlRXO6J440nX9RFlYef5pQv88eBgV0VdNOrTqx5qbujnqUp0pcs1ZhRVa/vodOtDcXG7y1IB2jJ5rK/4THS/wDpt/3xUVMTRpPlnJJkqLexvUVg/wDCY6X/ANNv++KP+Ex0v/pt/wB8Vn9dw386HyS7G9RWD/wmOl/9Nv8Avij/AITHS/8Apt/3xR9dw386Dkl2N6isH/hMdL/6bf8AfFH/AAmOl/8ATb/vij67hv50HJLsb1FYP/CY6X/02/74o/4THS/+m3/fFH13DfzoOSXY3qKwf+Ex0v8A6bf98Uf8Jjpf/Tb/AL4o+u4b+dByS7G9RWD/AMJjpf8A02/74o/4THS/+m3/AHxR9dw386Dkl2N6isH/AITHS/8Apt/3xR/wmOl/9Nv++KPruG/nQckuxvUVg/8ACY6X/wBNv++KP+Ex0v8A6bf98UfXcN/Og5JdjeorB/4THS/+m3/fFPh8WabPcRwx+bukYKuU7k4oWMw7dlNByS7G3RRUc8y29vJNJnZGhdsegGa6yCSiuP8A+Fm6B/08/wDfr/69H/CzdA/6ef8Av1/9esvbU+4+VnYUVx//AAs3QP8Ap5/79f8A16P+Fm6B/wBPP/fr/wCvR7an3DlZ2FFcf/ws3QP+nn/v1/8AXo/4WboH/Tz/AN+v/r0e2p9w5WdhRXH/APCzdA/6ef8Av1/9ej/hZugf9PP/AH6/+vR7an3DlZ2FFcf/AMLN0D/p5/79f/Xo/wCFm6B/08/9+v8A69HtqfcOVnYUVx//AAs3QP8Ap5/79f8A16P+Fm6B/wBPP/fr/wCvR7an3DlZ2FFcf/ws3QP+nn/v1/8AXo/4WboH/Tz/AN+v/r0e2p9w5WdhRXH/APCzdA/6ef8Av1/9ej/hZugf9PP/AH6/+vR7an3DlZ2FFcf/AMLN0D/p5/79f/Xo/wCFm6B/08/9+v8A69HtqfcOVnYUVx//AAs3QP8Ap5/79f8A166mxvItQsILu3z5U6B03DBwRmqjOMvhYWaJ6KKyrjxFY21w8Mnmb422nC1NWtToq9SVioU5Tdoq5q0Vjf8ACU6f/wBNf++KP+Ep0/8A6a/98Vz/AF/C/wDPxfeafVq38rNmisb/AISnT/8Apr/3xR/wlOn/APTX/vij6/hf+fi+8Pq1b+VmzRWN/wAJTp//AE1/74o/4SnT/wDpr/3xR9fwv/PxfeH1at/KzZorG/4SnT/+mv8A3xR/wlOn/wDTX/vij6/hf+fi+8Pq1b+VmzRWN/wlOn/9Nf8Avij/AISnT/8Apr/3xR9fwv8Az8X3h9Wrfys2aKxv+Ep0/wD6a/8AfFH/AAlOn/8ATX/vij6/hf8An4vvD6tW/lZs0Vjf8JTp/wD01/74o/4SnT/+mv8A3xR9fwv/AD8X3h9Wrfys2aKxv+Ep0/8A6a/98Uf8JTp//TX/AL4o+v4X/n4vvD6tW/lZs0Vjf8JTp/8A01/74o/4SnT/APpr/wB8UfX8L/z8X3h9Wrfys2aKrWN9DqFuZrfdsDFfmGOas11wnGcVKLumYyi4uzCvOfi9/wAg/Tf+ur/yFejV5z8Xv+Qfpv8A11f+Qrz80/3Ofy/NHflv+9w/roeWUUUV8EfcBRRRQAUUUUAFFFFABRRRQAUUUUAFFFFABRRRQAUUUUAdj8Lv+R0X/r3k/pXtFeL/AAu/5HRf+veT+le0V9pkn+6/N/ofH5z/ALz8kYni7/kXpf8AfX+def16B4u/5F6X/fX+def152cf7wvRfqcNH4QooorxjYKKKKACiiigAooooAKKKKACiiigAooooAKKKKACrWmf8haz/wCu6f8AoQqrVrTP+QtZ/wDXdP8A0IVpT+OPqJ7HqNVNW/5At7/17yf+gmrdVNW/5At7/wBe8n/oJr9AexwHz1RRRXhHQFFFFABRRRQAUUUUAFFFFABRRRQAUUUUAFFFFABRRRQAV714W/5FLS/+vWP/ANBFeC1714W/5FLS/wDr1j/9BFduE+JkT2NavP8AWP8AkM3X/XQ16BXn+sf8hm6/66GuDPf4MPX9Dty7+I/Qp0UUV8ie2FFFFABRRRQAUUUUAFFFFABRRRQAUUUUAFFFFABRRRQB2XhT/kDt/wBdW/kK2qxfCn/IHb/rq38hW1X6Dl/+60/Q+axP8aXqFec/F7/kH6b/ANdX/kK9Grzn4vf8g/Tf+ur/AMhWWaf7nP5fmjoy3/e4f10PLKKKK+CPuAooooAKKKKACiiigAooooAKKKKACiiigAooooAKKKKAOx+F3/I6L/17yf0r2ivF/hd/yOi/9e8n9K9or7TJP91+b/Q+Pzn/AHn5IxPF3/IvS/76/wA68/r0Dxd/yL0v++v868/rzs4/3hei/U4aPwhRRRXjGwUUUUAao0CX7PBLLe2cInQOiySEEg/hVK9sJ7CUJcKPmG5WU5Vh6g10V1pY1Oz0iMXUML/ZgAr5y3TpVSWOHUL7TtGt3dktyyvK64JOctgHkdK9SrhYpWirbW13btpb5mSkzAorrRp6zyyWk+nWtva4KxzpIhkUjoSc5P0rLt1t9N0WK+kt47m4uHZY1lGVRR1OO5rGWDlB6vTXv0/4dWK57mNRWtYRxapqUs88EccUMJleKEbQ23t7ZNT2s1vrUklo1hBA/ls0LwLtIIGcH16d6zjh+a1pb7eY+YwqK14mtrLR7W5azjnneSRQZDleMdR3609WhsNLiv3tIJp7x32rIuUjUHsv1oWH7y6XfktP8w5ijPYeTpVreb8/aCw24+7g4qnW7q8qT+HtNkjhWFWaQ7E6A7ucVhVOIhGE0o9l+SCLbQUUUVzlBVrTP+QtZ/8AXdP/AEIVVq1pn/IWs/8Arun/AKEK0p/HH1E9j1Gqmrf8gW9/695P/QTVuqmrf8gW9/695P8A0E1+gPY4D56ooorwjoCiiigAooooAKKKKACiiigAooooAKKKKACiiigAooooAK968Lf8ilpf/XrH/wCgivBa968Lf8ilpf8A16x/+giu3CfEyJ7GtXn+sf8AIZuv+uhr0CvP9Y/5DN1/10NcGe/wYev6Hbl38R+hTooor5E9sKKKKACrlxpc9tYQ3jlGilxjaTkfWqddLuE1ta2Ln5bm0G3J6OCSK7cLRhVUlLe2nr0OetUlBq3zMGys5b+6WCDaGbux4FOaxdLm4geSNWgBLEscNg9Bx1rR01fsFoJXGJ7mZYUB6hQRu/woeCOfWtV81A2yOR1z2II5rWOFj7KN/ib/AAs7flf5kOs+d9jForUsbKLVLYRxhYriE5duzp6/UVJa21tqGqOsMOLe3jJC7sGQj1PbJrGOEnLlafxbfr93U0daKvfp/X4mPRW7dWpl02d7m0trV4gGjaFl+bnkEA8/WoZmg0q3t0FrDPLNGJJGlXdgHsPTpVSwjg7ydla+z722Eq6lstSje2n2NoRv3ebEJOnTOeP0qtWprzK09oUXYptUwuc45NZdY4iEYVXGOxdKTlBNhRRRXOahRRRQB2XhT/kDt/11b+QrarF8Kf8AIHb/AK6t/IVtV+g5f/utP0PmsT/Gl6hXnPxe/wCQfpv/AF1f+Qr0avOfi9/yD9N/66v/ACFZZp/uc/l+aOjLf97h/XQ8sooor4I+4CiiigArovC2k2d5b6lqGoxNcxafCJBboxXzCemSOcVztXtK1a/0e6NzpszRPja3yhlYehB4NbUJQhUUpq6Ma0ZyptQdmW7/AFfTLyxkih0K3tJjjy5oZX+XkZyCcHjIq3Yabp2maFDrGuwPdG6dltLRX2BwvBdiOcZ7VpJPbeKvDeq3V9pttaXdjEJUu7dCgc5+6R0JNVNdjbUfBmhXtoC8dpG9tOqjPltnIz6ZHNd7ha9XSXu3WluttV5HGp3tT1jrZ636X0fmZt/q+m3lk8UOhW9pLkFJopXJX2IJwa1Y7fRtN8FaZqV5o63091NIjs1xImArHHCnHSnaYNM1XwzqxbR7eCextA6To7FmbOMkE4qLVAT8MtCwCf8ASZ+n+8aIxaUqjs/dutF/MltYUpJtU1de9Z6v+Vve5BLp2k61pd1d6HFNZ3Vonmy2kj71aPOCyt147g1ZtbbSLDwLbare6Sl9cTXbQkvcSJgAE/wn2qLw7aTabpeq6teo0Nu1o9vEXGPNdxgAZ6461pWd9aWHw1sJL/T47+JtQYGORiNvB5GO9VSjF+/JJPlfTTdWdrfoTUlJe5FtrmXXXZ6X/wCCZWp6Zpt34XGu6RBJZBLjyJbd5C45GQVJ5/A1zVdd41upJIbNdPEMehzL5trHBHtG7o2//bHSuRrjxajGrZLbfs/NeR14VydO7/4K8n5hRRRXIdQUUUUAdj8Lv+R0X/r3k/pXtFeL/C7/AJHRf+veT+le0V9pkn+6/N/ofH5z/vPyRieLv+Rel/31/nXn9egeLv8AkXpf99f515/XnZx/vC9F+pw0fhCiiivGNgooooA0dQ1JbmDT1gDo9rEELH1GORUk2rI19bahDGUu0wZhj5XPr+I61lUV0PEVG279vw2J5Ualw+jzySTKbuNny3lhVIB+uen4UW1/ayaWLDUVkCRuXikiAJUnqMHrWXRR7eSldJa7+YcppW17a6fqG+2Es1u8ZjlWT5SwPXoaljvNNsBLLp4uJJ3QohlAAjB6ng8msigAk4HJojiJR2S8vL0DlRbmu1k0u2tgDvid2J7Hdj/CrNve2c2mJZ6kJl8li0UkQBIB6gg1mMrIxV1KsOoIxSVKrSjK/lb+vuHZGlqF/bT6da2lpHIq27NguQSwPOfzzWbRRU1KjqS5n/VgSsFFFFZjCrWmf8haz/67p/6EKq1a0z/kLWf/AF3T/wBCFaU/jj6iex6jVTVv+QLe/wDXvJ/6Cat1U1b/AJAt7/17yf8AoJr9AexwHz1RRRXhHQFdjrHh6wTwdZ3thbmO7S2huLht7HzFfIJwTxggdB3rjq9BfUY7C48OR3fNneaUttcA9Nr8Z/A4P0zW1NJp3JZg+DdGtdU1OSTVE32UCjeu4rudjtRcjnqaqazpJj1/VINNt2+z2bsSFJPloD1JPNdI9qPDU2jaHuBubnUI7m5I/uiTbGPyBOPXNIVL694yRBljbS4A6nDA1fIuXl6/8AV9bnFw2dxPbT3EMLPFbgGVwOEz0zW/c6T9vfw7bWsHzXFoDIY1GSPMbLH1wP5U3Q/k8G+Imf5VYQKpPc7m4qW6YpceFCrFf9Hj5Bx/y2apjFJev+Y+pW1vw1caJrRQ2ss1kJ1jjduPNzztyPXmszWIhBq9xGtk1iFbi3Zixj4HGTzW74jeQ/EeVGZtovIyFJ4H3aXxOunN441X+1HuEXeuzyFBOdo65olFa27gmY+g6T/bGp+Q8nlQRo008v8AcjXqf5D8avyazoMEnl2fh6OaFePMuJ3Lv78HA/CrXhlrSS+1fTtPd8X1i0ds0wAZn4O3j15/KsnSZobG+NvqOlR3TSSKmJyymPnB6YpLRKwF/wAKWOnav4juVurPdaiCWVIPMYbcYwMgg1PpEOheI73+zk0p9OnkRjFNDcO4BCk/MGzxxWzpVpbaZ8TtUt7SBUt4rR9sWTjGxSRXNN4seC3ki0fTbPTWlUq80KlpMHqAxPFXZRXvd2LcZ/ZtsvgiS+MYN2uoGDzAx+5sBxjOOpPNHhHTrXVNZeC+i82MW8jhdxX5gODwas2yG4+Gt0kOXeDUBJIqjJVSgAJ9sg0eCA8Oo3t6V/c29lMzseAPl4FSkuaI+jOZooorAoK968Lf8ilpf/XrH/6CK8Fr3rwt/wAilpf/AF6x/wDoIrtwnxMiexrV5/rH/IZuv+uhr0CvP9Y/5DN1/wBdDXBnv8GHr+h25d/EfoU6KKK+RPbCiinrDK65SN2HqFJppN7CvYZV651ASCyMG5XtowuT6g5qkyMhw6lT6EYpKuNSUE0upLipNNmlfaqLzUYJwhSOMg7B65yf1oGpRDUL6fa225jdVHcZIPP5Vm0Vs8VVcnJvVu/6EexglYvx6j9ks0istySFg8sh/iI6D6VImpW8WoNPHCfLnjKzxdueuKzACxAUEk9AKCCDg8GksTVVrdNvl/WvcHSgy3cLpwiY2z3Bf+FXUAD8c1Ya8sry2gF8JkmhTYGjAIde2c9KzVUu2FBY+gFJSVdptqKs+nQfs092XNTvIryWFoEZFjhEeGOehP8AjVOiis6k5VJOUt2XGKirIKKKKzKCiiigDsvCn/IHb/rq38hW1WL4U/5A7f8AXVv5Ctqv0HL/APdafofNYn+NL1CvOfi9/wAg/Tf+ur/yFejV5z8Xv+Qfpv8A11f+QrLNP9zn8vzR0Zb/AL3D+uh5ZRRRXwR9wFFFFABV7TdZvtIZzYTCPzMbg0auDj2YEVRoqoylB3i7MmUYyVpK6NPUPEeqapbC3vLnMIOfLjjWNSfUhQM1DpusX+kSM+nXLwlhhgMFW+oPB/GqVFU6tRy53J373JVKmo8qirdjZuvFus3dnLazXSCGYYkWOCOPcPQlVBpln4n1fT7FLO1u9lvGSUQxo2CTk9RWTRVe3rX5uZ39WT7Clbl5Vb0Lmoatf6rIH1G7luCOm9uB9B0FNfUbt9Mj095ibWOQyLHgYDHvnr3qrRUOc2229y1CKSSWxaGo3Y01tP8AOJtWfzPLIBAb1HcfhVWiipcm9ykktgooopDCiiigDsfhd/yOi/8AXvJ/SvaK8X+F3/I6L/17yf0r2ivtMk/3X5v9D4/Of95+SMTxd/yL0v8Avr/OvP69A8Xf8i9L/vr/ADrz+vOzj/eF6L9Tho/CFFFFeMbBU1lb/a76C3LbRLIqbsZxk4qGrelOsesWbyMERZkLMxwAMjmtKaTmk9riexoR6LZy3zael65u/mA/d/Jkc4z17U2HR7S5eW2trt3u40LYKYRiOoBqSxuIU8aGd5o1h86Q+YWAXBB703RLiGLxDNJLKiRlZMMzAA56c16MY0ZNJxWsmuu2nmZ6lS006JrE3t9K8UG/YgRcs7d8e1ST6bbW09vI9y5s7hSySLHlsjqCM1e028ln0JLSynhiuoZCdku394p54z3qhqz3waBNRljcrkqkZU7c4znH0rOUKUaSko30WvS/W7v+g7tst6zaWUmvPDDM6zSTqjJ5QCqDgcHNVrzT7XT7o263bvdJKANqYVRn19cVd1C2zryams0LWkk8bBxIOmR1HbpVDVpY5PEs0scivGZQQ6sCCOO9XXjFOUnFXctPTXXcI30JbjSpJvEFzbzXRYQr5ktxJ12gDn9QKqyW1lK8cVhPM8ryBcSIFGD361sS3ltJ4g1SFriNYbyIIs2QVDYGOfTrWTPpFzZvGZJYFLSBUIlH5/T3qa1OKu4Ruru/lrp/w4J9x99Z6daNNCtzO1xESvMQClh171mV005nGl3X9uvbSHy8QEFTIX7YI6j61zNYYqChJWVr9Ovz1ZUXdBRRRXIUFWtM/wCQtZ/9d0/9CFVataZ/yFrP/run/oQrSn8cfUT2PUaqat/yBb3/AK95P/QTVuqmrf8AIFvf+veT/wBBNfoD2OA+eqKKK8I6AqzdahdXsdulzKXW2jEcQwBsUdBxVaincC1Lqd5NqCX0s7PcxlCshxkFcbfywKki1nUINWbU4rllvGYs0oA5J65HSqNFPmYGlqHiDU9Ut1gvLndCrbhGkaxqT6kKBk1UnvLi4SBZpCy26eXFxjauScfmTUFFDk3uBqXfiPVL6OJLu5EnlOrqxiTduHQlsZP4mqV5eXGoXkl1eSGWaQ5dyAM8Y7VBRQ5N7sByO0civGxVlOQwOCDW0vjHXFC5vFcr0eS3jdv++ipNYdFCk1swNBdd1JNSm1BbpvtU6lZJSASwIwR09hWfRRSbb3Auadq19pMzS6fcNCzDa2ACGHoQeDVi+8SarqNqba5uh5BOWjjiSMMffaBn8ay6KfNJK1wsFFFFSAV714W/5FLS/wDr1j/9BFeC1714W/5FLS/+vWP/ANBFduE+JkT2NavP9Y/5DN1/10NegV5/rH/IZuv+uhrgz3+DD1/Q7cu/iP0KdFFFfInthW7F9s/4Rm3+wCYv57bvKBJx+FYVajXXl+G7eOGfbKJ2LKr4bGPSu3CSUedt/Z/VHPWTfKl3JtQMo0OIakc3fm5jDffCY71XvtOtrGWSA3DyzgjYqpx+NZzMztudix9Sc1patcRnX3niZZEV1YFTkHGO9aSqQqxc2tVyrXe1nd+bJUJQain3f5DxpVstytnNdMt0eCAmUVj2zVe203d9oe7k8mG3O12AyS2cYArWuZb2e4Nxp11A0DncCSgKexzVG1db2zu7SadEuJJvNVmOFc9xmuipRoqfKo97dnpprd3/AAM41JuN2+1/Lv0K0cUDahbpYzygs4G5lAKnPUc1KmnI8l5LdTsIrd9rMq5ZiTimw2j6fqdqblo1HmAnDg4Ge/pU8P2x9Ru5NOmjwZDkF1wwz1weorGnCO04a32Xp2uXKT+y+m/z7kNpBFLq0EVhcypuB/eFcMpwfemW9ikizzXUxjghbaWC5LH0ArS822j16ycvAkiofPaMgJuwe/SqtuUvLK5shKiSmfzYyzYD9sZq/Y017rs3eWnTZWW/9bE88t/JfmyvcWMP2L7XZTNLGrbXV1wynt+FTSadZWrRi7u3BkRXASPO0Ed6JYxp2kzW8siNPcOuURgdgHrj61Fq8iS3EJjdXAgQEqc4OOlZzjTpxcnFc2mmum/n2sVFyk7J6a6/cQX1obG9kt2bdsPDeoqvV/W5El1aV4nV1IGGU5B4qhXHXjGNWUY7Js3ptuCb3CiiisTQ7Lwp/wAgdv8Arq38hW1WL4U/5A7f9dW/kK2q/Qcv/wB1p+h81if40vUK85+L3/IP03/rq/8AIV6NXnPxe/5B+m/9dX/kKyzT/c5/L80dGW/73D+uh5ZRRRXwR9wFFFFABRRRQAUUUUAFFFFABRRRQAUUUUAFFFFABRRRQB2Pwu/5HRf+veT+le0V4v8AC7/kdF/695P6V7RX2mSf7r83+h8fnP8AvPyRieLv+Rel/wB9f515/XoHi7/kXpf99f515/XnZx/vC9F+pw0fhCiiivGNgooooAKKKKACiiigAooooAKKKKACiiigAooooAKtaZ/yFrP/AK7p/wChCqtWtM/5C1n/ANd0/wDQhWlP44+onseo1U1b/kC3v/XvJ/6Cat1U1b/kC3v/AF7yf+gmv0B7HAfPVFFFeEdAUUUUAFFFFABRRRQAUUUUAFFFFABRRRQAUUUUAFFFFABXvXhb/kUtL/69Y/8A0EV4LXvXhb/kUtL/AOvWP/0EV24T4mRPY1q8/wBY/wCQzdf9dDXoFef6x/yGbr/roa4M9/gw9f0O3Lv4j9CnRRRXyJ7YUUUUAFFFFABRRRQAUUUUAFFFFABRRRQAUUUUAFFFFAHZeFP+QO3/AF1b+QrarF8Kf8gdv+urfyFbVfoOX/7rT9D5rE/xpeoV5z8Xv+Qfpv8A11f+Qr0aq93p9nfqq39pBchDlRNEH2/TIq8XQeIoSpJ2uPC1lQrRqNXsfN1FfQ//AAjmh/8AQG0//wABU/wo/wCEc0P/AKA2n/8AgKn+FfO/2DU/nR7/APblP+RnzxRX0P8A8I5of/QG0/8A8BU/wo/4RzQ/+gNp/wD4Cp/hR/YNT+dB/blP+RnzxRX0P/wjmh/9AbT/APwFT/Cj/hHND/6A2n/+Aqf4Uf2DU/nQf25T/kZ88UV9D/8ACOaH/wBAbT//AAFT/Cj/AIRzQ/8AoDaf/wCAqf4Uf2DU/nQf25T/AJGfPFFfQ/8Awjmh/wDQG0//AMBU/wAKP+Ec0P8A6A2n/wDgKn+FH9g1P50H9uU/5GfPFFfQ/wDwjmh/9AbT/wDwFT/Cj/hHND/6A2n/APgKn+FH9g1P50H9uU/5GfPFFfQ//COaH/0BtP8A/AVP8KP+Ec0P/oDaf/4Cp/hR/YNT+dB/blP+RnzxRX0P/wAI5of/AEBtP/8AAVP8KP8AhHND/wCgNp//AICp/hR/YNT+dB/blP8AkZ88UV9D/wDCOaH/ANAbT/8AwFT/AAo/4RzQ/wDoDaf/AOAqf4Uf2DU/nQf25T/kZ5T8Lv8AkdF/695P6V7RVO10fTLKbzrLTrS3lxjfFAqNj0yBVyvdwGFlhaPs5O+tzxcdiViqvtEraGJ4u/5F6X/fX+def16xLDFcRmOeNJUPVXUEfkar/wBlaf8A8+Fr/wB+V/wrlx2XSxNXnUraHPCooqx5fRXqH9laf/z4Wv8A35X/AAo/srT/APnwtf8Avyv+FcX9i1P50X7Zdjy+ivUP7K0//nwtf+/K/wCFH9laf/z4Wv8A35X/AAo/sWp/Og9sux5fRXqH9laf/wA+Fr/35X/Cj+ytP/58LX/vyv8AhR/YtT+dB7Zdjy+ivUP7K0//AJ8LX/vyv+FH9laf/wA+Fr/35X/Cj+xan86D2y7Hl9Feof2Vp/8Az4Wv/flf8KP7K0//AJ8LX/vyv+FH9i1P50Htl2PL6K9Q/srT/wDnwtf+/K/4Uf2Vp/8Az4Wv/flf8KP7FqfzoPbLseX0V6h/ZWn/APPha/8Aflf8KP7K0/8A58LX/vyv+FH9i1P50Htl2PL6K9Q/srT/APnwtf8Avyv+FH9laf8A8+Fr/wB+V/wo/sWp/Og9sux5fVrTP+QtZ/8AXdP/AEIV6N/ZWn/8+Fr/AN+V/wAKVdMsEcMllbqynIIiUEH8qqOTVIyT50DrLsWqqat/yBb3/r3k/wDQTVukdFkRkdQysMFSMgj0r6N6o5j5wor3/wD4R7Rf+gRYf+Ayf4Uf8I9ov/QIsP8AwFT/AArz/qku5pzngFFe/wD/AAj2i/8AQIsP/AVP8KP+Ee0X/oEWH/gKn+FH1SXcOc8Aor3/AP4R7Rf+gRYf+Aqf4Uf8I9ov/QIsP/AVP8KPqku4c54BRXv/APwj2i/9Aiw/8BU/wo/4R7Rf+gRYf+Aqf4UfVJdw5zwCivf/APhHtF/6BFh/4Cp/hR/wj2i/9Aiw/wDAVP8ACj6pLuHOeAUV7/8A8I9ov/QIsP8AwFT/AAo/4R7Rf+gRYf8AgKn+FH1SXcOc8Aor3/8A4R7Rf+gRYf8AgKn+FH/CPaL/ANAiw/8AAVP8KPqku4c54BRXv/8Awj2i/wDQIsP/AAFT/Cj/AIR7Rf8AoEWH/gKn+FH1SXcOc8Aor3//AIR7Rf8AoEWH/gKn+FH/AAj2i/8AQIsP/AVP8KPqku4c54BXvXhb/kUtL/69Y/8A0EVL/wAI9ov/AECLD/wFT/Cr8UUcESxQxrHGgwqIMBR6AVvRoum22xSlcdXn+sf8hm6/66GvQKgewtJHLyWsLMxyWaMEmufMMHLFwUYu1mb4auqMm2rnnVFeh/2dY/8APnb/APfpf8KP7Osf+fO3/wC/S/4V439g1P50d/8AaMf5TzyivQ/7Osf+fO3/AO/S/wCFH9nWP/Pnb/8Afpf8KP7BqfzoP7Rj/KeeUV6H/Z1j/wA+dv8A9+l/wo/s6x/587f/AL9L/hR/YNT+dB/aMf5TzyivQ/7Osf8Anzt/+/S/4Uf2dY/8+dv/AN+l/wAKP7BqfzoP7Rj/ACnnlFeh/wBnWP8Az52//fpf8KP7Osf+fO3/AO/S/wCFH9g1P50H9ox/lPPKK9D/ALOsf+fO3/79L/hR/Z1j/wA+dv8A9+l/wo/sGp/Og/tGP8p55RXof9nWP/Pnb/8Afpf8KP7Osf8Anzt/+/S/4Uf2DU/nQf2jH+U88or0P+zrH/nzt/8Av0v+FH9nWP8Az52//fpf8KP7BqfzoP7Rj/KeeUV6H/Z1j/z52/8A36X/AAo/s6x/587f/v0v+FH9g1P50H9ox/lM7wp/yB2/66t/IVtUyKGKBNkEaRrnOEUAfpT6+jw1J0aMab6I8qrPnm5dwoorz74salfadY6c2n3txaM8rhjBKybuB1wa6CFqeg0V84f8JRr/AP0HNS/8C5P8aP8AhKNf/wCg5qX/AIFyf40Fch9H0V84f8JRr/8A0HNS/wDAuT/Gj/hKNf8A+g5qX/gXJ/jQHIfR9FfOH/CUa/8A9BzUv/AuT/Gj/hKNf/6Dmpf+Bcn+NAch9H0V84f8JRr/AP0HNS/8C5P8aP8AhKNf/wCg5qX/AIFyf40ByH0fRXzh/wAJRr//AEHNS/8AAuT/ABo/4SjX/wDoOal/4Fyf40ByH0fRXzh/wlGv/wDQc1L/AMC5P8aP+Eo1/wD6Dmpf+Bcn+NAch9H0V84f8JRr/wD0HNS/8C5P8aP+Eo1//oOal/4Fyf40ByH0fRXzh/wlGv8A/Qc1L/wLk/xo/wCEo1//AKDmpf8AgXJ/jQHIfR9FfOH/AAlGv/8AQc1L/wAC5P8AGj/hKNf/AOg5qX/gXJ/jQHIfR9FePfDTW9Vv/GCw32p3lzF5Dny5rhnXPHOCa9hoJasFFcx8Q7u5svB881ncS28okQCSJyrD5vUV5B/wkuu/9BrUf/At/wDGvJxmaQwlT2cot6XPTwmWzxVP2kZW1sfQ1FfPP/CS67/0GtR/8C3/AMaP+El13/oNaj/4Fv8A41x/29S/kZ2f2HU/nR9DUV88/wDCS67/ANBrUf8AwLf/ABo/4SXXf+g1qP8A4Fv/AI0f29S/kYf2HU/nR9DUV88/8JLrv/Qa1H/wLf8Axo/4SXXf+g1qP/gW/wDjR/b1L+Rh/YdT+dH0NRXzz/wkuu/9BrUf/At/8aP+El13/oNaj/4Fv/jR/b1L+Rh/YdT+dH0NRXzz/wAJLrv/AEGtR/8AAt/8aP8AhJdd/wCg1qP/AIFv/jR/b1L+Rh/YdT+dH0NRXzz/AMJLrv8A0GtR/wDAt/8AGj/hJdd/6DWo/wDgW/8AjR/b1L+Rh/YdT+dH0NRXzz/wkuu/9BrUf/At/wDGj/hJdd/6DWo/+Bb/AONH9vUv5GH9h1P50fQ1FfPP/CS67/0GtR/8C3/xo/4SXXf+g1qP/gW/+NH9vUv5GH9h1P50fQ1FfPP/AAkuu/8AQa1H/wAC3/xq/ofiHWpvEOnRy6vfvG91ErK1y5DAuMgjNOOeU5SUeR6kyyWpGLfOj3eiiobxitjOykhhGxBB6cV9A3ZXPBJqK8v/ALW1H/oIXX/f5v8AGj+1tR/6CF1/3+b/ABrwv7ap/wAjN/YvueoUV5f/AGtqP/QQuv8Av83+NH9raj/0ELr/AL/N/jR/bVP+Rh7F9z1CivL/AO1tR/6CF1/3+b/Gj+1tR/6CF1/3+b/Gj+2qf8jD2L7nqFFeX/2tqP8A0ELr/v8AN/jR/a2o/wDQQuv+/wA3+NH9tU/5GHsX3PUKK8v/ALW1H/oIXX/f5v8AGj+1tR/6CF1/3+b/ABo/tqn/ACMPYvueoUV5f/a2o/8AQQuv+/zf40f2tqP/AEELr/v83+NH9tU/5GHsX3PUKK8v/tbUf+ghdf8Af5v8aP7W1H/oIXX/AH+b/Gj+2qf8jD2L7nqFFeX/ANraj/0ELr/v83+NH9raj/0ELr/v83+NH9tU/wCRh7F9z1CivL/7W1H/AKCF1/3+b/Gj+1tR/wCghdf9/m/xo/tqn/Iw9i+56hRXl/8Aa2o/9BC6/wC/zf416JpDvLo1o8jM7tCpZmOSTiu3CY+OKk4xVrETpuKLlFFeLeJ9d1e38U6jFBql7FGk7BUS4cBRnoADXZVqqmrshK57TRXgP/CR63/0GdQ/8Cn/AMaP+Ej1v/oM6h/4FP8A41z/AFuPYvkZ79RXgP8Awket/wDQZ1D/AMCn/wAaP+Ej1v8A6DOof+BT/wCNH1uPYORnv1FeA/8ACR63/wBBnUP/AAKf/Gj/AISPW/8AoM6h/wCBT/40fW49g5Ge/UV4D/wket/9BnUP/Ap/8aP+Ej1v/oM6h/4FP/jR9bj2DkZ79RXgP/CR63/0GdQ/8Cn/AMaP+Ej1v/oM6h/4FP8A40fW49g5Ge/UV4D/AMJHrf8A0GdQ/wDAp/8AGj/hI9b/AOgzqH/gU/8AjR9bj2DkZ79RXgP/AAket/8AQZ1D/wACn/xo/wCEj1v/AKDOof8AgU/+NH1uPYORnv1FeA/8JHrf/QZ1D/wKf/Gj/hI9b/6DOof+BT/40fW49g5Ge/UV4D/wket/9BnUP/Ap/wDGj/hI9b/6DOof+BT/AONH1uPYORnv1Fcn8Oby5vvDDy3txNcSfaXXfM5c4wvGTXWV1wlzRUiHowrzX4yf8g7TP+ur/wAhXpVea/GT/kHaZ/11f+QqgjueTUUUUGwUUUUAFFFFABRRRQAUUUUAFFFFABRRRQAUUUUAFFFFAHafCn/kd1/695P6V7fXiHwp/wCR3X/r3k/pXt9BlLc5L4mf8iPcf9dY/wD0KvE69s+Jn/Ij3H/XWP8A9CrxOvjM8/3pei/U+tyb/dn6v9Aooorwz2QooooAKKKKACiiigAopwjdkZlRiq/eIHAptABRRRQAUUUUAFFFFABWj4f/AORm0z/r8i/9DFZ1aPh//kZtM/6/Iv8A0MVpS/iR9UZ1f4cvQ+iKgvv+Qfcf9cm/kanqC+/5B9x/1yb+Rr9In8LPzxbnldFFFfnp3hRRRQAUUUUAFFFFABRRRQAUUUUAFFFFABRRRQAUUUUAFem6L/yA7L/riv8AKvMq9N0X/kB2X/XFf5V72S/xZehhW2Rerwfxb/yN+p/9fDfzr3ivB/Fv/I36n/18N/OvbxfwoxhuY9FFFeaahRRRQAUUUUAFFFFABRRRQAUUUUAFFFFABRRRQAUUUUAevfC//kUn/wCvp/8A0Fa7KuN+F/8AyKT/APX0/wD6CtdlXs0f4aMJbhXmvxk/5B2mf9dX/kK9KrzX4yf8g7TP+ur/AMhWoR3PJqKKKDYKKKKACiiigAoq7pWj3+tXf2fTLdppMZbBACj1JPArR1Hwje6bYz3T3enzrbkCZLe6V3jycDK/U0CMGipLa3lu7qK2tkMk0zhI0H8TE4AqXUdOutJv5LK/i8q4iOGTIOO/UcUDK1FX5NE1CLRYtWe2P2GV9iygg8+46jp3qKw0y71NpxZReYbeFp5PmA2ovU8/WgCrRRRQAUUUUAFFFFAHafCn/kd1/wCveT+le314h8Kf+R3X/r3k/pXt9BlLc5L4mf8AIj3H/XWP/wBCrxOvbPiZ/wAiPcf9dY//AEKvE6+Mzz/el6L9T63Jv92fq/0CiiivDPZAc9K7G9ubXwXFBZWVpbXOqvEstzczoJPJLDIVB0HBB59a48HDA+hrrfE2n3Gq3cXiHRUe8triOPf5SbzBIihSrDt0B545rtw91CUofEreqWt2vwOSvZzjGfwu/wA3pZP8TF1TX7vWbeGO+jty8RJE0cKo7Z7HbgY/CrV14RvrG1lnvrizt1SMPGJJtrT5UNhB1PXH147VsalPeX3w2+16rCq3P9ohEf7OsRKbAR90DIyTzVDx383iG3BPH2KAc9vlrarSSi6lRuT0tfTe++/Yxp1G5KnBKK189rbbdyC08IT38Uf2TVNLluJE3JbLdDzGOM7cetUNO0O81LUZbOJUieAMZ3mbakIXqWPau5tdN0/SvF2n6dZeHXuzG0Mn9pedJg5IPmAD5cA/hxiqQhe8l8ZWFku68lkV0jVctIiu24D35HHetZYOCtfe7TSvrZXtqvlpcyji5u9trJq9urt0fz1sR22jvpXgbxATd2d3HL5G2S1mEgBDNkH0PI/Oucv7C7+w6Qxt4MXMREAt1O+TDkZf1bJx9MVtaTp93Z/D/wAQS3dtJCkxgEZkXbu2s2cA/Uc1es5Y4LjwRJOyogV8sxwB+8NOVKNSMU1y+6vxnb9QVSUJSad/ef4QMO48F38EE5F1YzXNvH5k1nFcBpkA65X271X0zwrf6ppv9oQvbRWokKSSzShBHgZyc9vpXRT350PW5j/wh2y8HmDzfPmcOCCGYZyGBBPNZsrf8WqjxwDq3Qf9c2rOVCgpPyT016Wtul8y41qzivNrXTre+zfyKFz4WubW6s45LyxNveBvKvBOPI4zkF+x4rT8ZeF7XSZ2msLmxjhWKMm2FyWlZiBlgpySOc/SqF0SfAOm5OQL6cD2+VKveP7Wc65HcrC5gazhYShcrjAHX68fiKmUKSozaj/K/S6ZSnUdWCcv5l62aOSooorzD0QrR8P/APIzaZ/1+Rf+his6tHw//wAjNpn/AF+Rf+hitKX8SPqjOr/Dl6H0RUF9/wAg+4/65N/I1PUF9/yD7j/rk38jX6RP4Wfni3PK6KKK/PTvCiiigAooooAKKKKACiiigAooq19hb+yft28bfO8rbjnOM5/SqjFyvYCrRRRUgFFFFABRRRQAV6bov/IDsv8Ariv8q8yr03Rf+QHZf9cV/lXvZL/Fl6GFbZF6vB/Fv/I36n/18N/OveK8H8W/8jfqf/Xw3869vF/CjGG5j0UUV5pqFFFFABRRSgFmCqCSTgAd6AEoroV8FaptUTyWdtO4yltPcqsrD/drMfR75La7uGhHl2cvlTsHU7Gzj1557jircJLdCuijRV2y0m91G3uZrOEyR2qb5juA2j8evTtTLDTrnUpnis4/MaONpGywUKo6kk1NmMq0Vb03S7zWLz7Lp0Jmm2ltoIHA75NVnRo5GRwVZSQQexos7XAbRRRSAKKKKACiiigD174X/wDIpP8A9fT/APoK12Vcb8L/APkUn/6+n/8AQVrsq9mj/DRhLcK81+Mn/IO0z/rq/wDIV6VXmvxk/wCQdpn/AF1f+QrUI7nk1FFFBsFFFFABRRRQB1l3K+mfDXTEs3aM6nNLJcspwWCMVC59OM496z7bwnd3elSX1teafKsVu1xJCl0DKiAZOUHINTaXqum3WgnRNeMsUUchltbqFdxhY9QV7qa0NOOieH7PV3TXI757uyltoY4oHByy4BOeB+tBJF4CsZhdXusw2kl02nQFoYo4y5eZhhBgc+9WPF2nXt34Z0vXL60nt7xAbW8E8bIzEfcfB9R3+npWZLr8Vl4RstM0aaaK4aVp72VCUJboqgjqAKNI8QhrDU9P124nnt7y3xGzsXMcq8oee2etAa7nR2mqW+n+BtBh1JTJp941xBcqOylhhh7qefzqroejS6Frmu2sjiWM6RM8My/dlQ7cMKwtS1e1uvBukabEX+0WkkrSgrxhiMYNamgeLrW38PXWn6urtNHbSQ2UyLkhXHKN7ZAIoCxxtFFFBQUUUUAFFFFAHafCn/kd1/695P6V7fXiHwp/5Hdf+veT+le30GUtzkviZ/yI9x/11j/9CrxOvbPiZ/yI9x/11j/9CrxOvjM8/wB6Xov1Prcm/wB2fq/0CiiivDPZCrNnqF5p8m+xupbdvWNyM1WpQCzAKCSTgAd6abTuhNJqzLd7q+oalj7fez3AHQSOSBVaSWSZt00jSMBjLNk49KtPpd5aXMC6hZXFusrgDzomTcM9sitDVLHTLLxNq9pL50UEHmrbLEc/OPuA5zxnrWzhUknKT621MVOnG0Yr7jP/ALZ1L7GlqL+4ECHKxiQ4FQRXdxDdC5inkScHPmBiGz9abBbzXUyw20Mk0rnCpGpZmPsBSTQS28zQ3ETxSqcMjqVYH0INQ5Tau2zRRgnZJFi71S/vnZry8nmLABt8hOQKrtLI6IryMyoMKCchfp6VLHYXctrJcxWs728Zw8qxkoh9z0FLZrZtHc/bWlVlhJg8vGDJkYDe2M/pQ+eT9579xe7Fe6tuxY/t/VvsZtf7SufIIwY/NOMelUfOk8nyfMbyt27ZuO3Prj1p1va3F3OsNpBJPK33Y4kLMfoBTJI3hkaOVGR0JVlYYKkdiKJSnJXbY1GCdkkBkcxiMuxRTkLngH1xVptW1BtO+wNeTNacfuS5K8HI4/ConsrqO1juntplt5DhJjGQjn0B6GoKV5x8rjtGXmFFFFQUFaPh/wD5GbTP+vyL/wBDFZ1aPh//AJGbTP8Ar8i/9DFaUv4kfVGdX+HL0PoioL7/AJB9x/1yb+RqeoL7/kH3H/XJv5Gv0ifws/PFueV0UUV+eneFFFFABT4RG0yid2SMn5mVckD6UynRhWlUSMUQkBmAzgeuO9Nbgat5b2B0JbmxikVhcmIvK+Sw256DgdaWOCx0/S4Li9tzdTXWSieYVVFHfjuafv0n+yPsP2+b/X+dv+z/AOzjGN1RrNZahpcFvdT/AGW4tsqkhQlXU84OORXpNR5rrlvbTa1+vlt3M9RsENpqEF8ILbyZkUSwgOThR94c9fX86iS1hTQ2uJlLTzyiO3AJ4x94+/UCnWBS016AWkn2ld4UkLjcDwRj05p+vzRrqItbQkQ2Y8tB6MDyfzrO0fZOpJK6uvv69tr/AID1vYmu003SJRaTWJu51UGWRpSgyRnAA7Uw/N4QO0db0YH/AAE0+9fTtXlF4139kmZQJo3QtyBjKkfSqv22JdB+xoWMouhKDjjbtIq5yipStbls7Wt/w/3iWxqjSILR4reXSbm8LAGW4UsApI/hA4OKwb+2FnqE9uDuEblQT3rXubyDU2W4TU5LKUqokibdtyBjII+lYk+DcSbZWlG44kYYLe9TinTtaCVuj02+Wv3hG/UjooorzzQKKKKACvTdF/5Adl/1xX+VeZV6bov/ACA7L/riv8q97Jf4svQwrbIvV4P4t/5G/U/+vhv517xXg/i3/kb9T/6+G/nXt4v4UYw3MeiiivNNQooooAKs6bdLY6pbXTx+YsMquU9cHNVqkgWJ7hFuJDHEWw7qu4qPXHemtwOt1LR7TxPq1xfaJrFvJNcvvFpckxyAn+EZ4P4VV8MJIl/qegXkZRryB4ijD7sqZZf5H9KbZ2Gg2F9Feya/50ULLIsUVuwkYg5xzwPrk1Rm115vFx1pVMZNwJQoOcAHp+Vb3Sak9yTovDMw0nStPilwo1a8eOXPeMKU/Lc2f+A1QtIm0Lw7rk7fLPLL/Z8eRyOcv+g/UVX8U65a6hqls2jK0drap+7DLjDFixP5mpfFuv2WsC0j04PHHlpbjcuMytjJ9+lNySVk9gLXh+01HTvCs+p6ZaXEt3dzLFCYYi5WNTljx0yRj86peNtNa01pbwQvDFqEYnCOpUox+8pB9D/Oma74hM0trbaJcXEFlaW6xJtcpvPVmIHv/Ko5dajv/CZsdRllkvLefzLeRvmyjD5lJ+vNJuPLyhruYVFFFc5QUUUUAFFFFAHr3wv/AORSf/r6f/0Fa7KuN+F//IpP/wBfT/8AoK12VezR/howluFea/GT/kHaZ/11f+Qr0qvNfjJ/yDtM/wCur/yFahHc8mooooNgooooAKKKKACiiigAooooAKKKKACiiigAooooAKKKKAO0+FP/ACO6/wDXvJ/Svb68Q+FP/I7r/wBe8n9K9voMpbnJfEz/AJEe4/66x/8AoVeJ17Z8TP8AkR7j/rrH/wChV4nXxmef70vRfqfW5N/uz9X+gUUUV4Z7IV1Xg3/RrLW9TgiEl3ZWm6AnnyyTgtz6DmuVq/o+s3WiXpuLMqdylJI5BlJFPVSPSujD1I06qlL+vP5bmGIg6lNxj/Xl8xx1a/1C6gW+vJrhfPDgSOWwSeo9K7Cy/wCSj+I/+uF1/KuTvdaiuxH5Ok2NmyOH3wK4Jx25Y8VJF4mu4tcvtUWKEzXqSJIpB2gP1xzXTSrQpyXNK+qd/kznq0ZTj7sbaNfijSt9Ru9O+GqNZTNA8mpujOnDY8peAeo/CrwuJtV0Hw9qWogveR6qLdJ2+9JHkHn1weP/ANdVLLUF0/4cxNJZ214j6m4MdwpI/wBWvIwQR+dUI9am1bXtIjaGG2t7a4RYbeBcImXGTzk5OB1Nbe0UVFOW6St81qY+zcnJpbNu/wB+hvar4h1W3+JZt4LuQQLdrEIAfkKsRkEdDnPWoZ7W3svEXi+3s1CwpYybVXouXjJH5mneJPEzaZ4wvjBpentcwy4S6eMlxwMHrgkeuK5W31i5gkv5Dtlk1CJopnfr8zBiR75FOvXjGpKMpX95/LRq39dhUaMpQjJK3ur56p3/AK7nTalqt5pngLw8NPna3adJhI8fDMBJwM9ccnir93bxat4k8ISagVd7u0jadnH+tI5wfr0/GuLvdYnvtJsNPlSNYrEOI2UHc245OeasS67qF/NpSwIFn0+NYrbyVJZsHjjnJ+lR9ai3Z6q0NPS1/wBS/qskrrR3lr63t+hv+HvEeq3/AMQII7m7d4ZpyrQHmMAZIAXtg4x9BXH33/IQuP8Arq38zXoXh+81KfxIl7qXh22sFQNJdX72zxkAKST8xwCSOoHevO7p1kvJnQ5VpGIPtmoxV/Yx5pN6ve/l3Kw1vaysraLb59iKiiivNPRCtHw//wAjNpn/AF+Rf+his6tHw/8A8jNpn/X5F/6GK0pfxI+qM6v8OXofRFQX3/IPuP8Ark38jU9QX3/IPuP+uTfyNfpE/hZ+eLc8rooor89O8KKKKACiiigAooooAns7t7G6S4iVWdM7dwyAfWoCSzEscknJJ70UVXM7cvQAoooqQCiiigAooooAKKKKACvTdF/5Adl/1xX+VeZV6bov/IDsv+uK/wAq97Jf4svQwrbIvV4P4t/5G/U/+vhv517xXg/i3/kb9T/6+G/nXt4v4UYw3MeiiivNNQooooAKKKKACiiigAooooAKKKKACiiigAooooAKKKKAPXvhf/yKT/8AX0//AKCtdlXG/C//AJFJ/wDr6f8A9BWuyr2aP8NGEtwrzX4yf8g7TP8Arq/8hXpVea/GT/kHaZ/11f8AkK1CO55NRRRQbBRRRQAUUUUAFFFFABRRRQAUUUUAFFFFABRRRQAUUUUAdp8Kf+R3X/r3k/pXt9eIfCn/AJHdf+veT+le30GUtzkviZ/yI9x/11j/APQq8Tr2z4mf8iPcf9dY/wD0KvE6+Mzz/el6L9T63Jv92fq/0CiiivDPZCiiigAooooAk8+Y24gMr+SG3iPcdobGM46Zx3piO0civGxV1OVZTgg+tJRTuxWQ+aaW4maW4keWRjlndixP1JplFFG49gp0cjxSLJEzI6nKspwQfUGm0UgLlzrGp3kJhu9Ru54j1SWdmU/gTVOiiqlKUneTuKMVFWSCiiipGFaPh/8A5GbTP+vyL/0MVnVo+H/+Rm0z/r8i/wDQxWlL+JH1RnV/hy9D6IqC+/5B9x/1yb+RqeoL7/kH3H/XJv5Gv0ifws/PFueV0UUV+eneFFFFABRRRQAUUUUAFFFFABRRRQAUUUUAFFFFABRRRQAV6bov/IDsv+uK/wAq8yr03Rf+QHZf9cV/lXvZL/Fl6GFbZF6vB/Fv/I36n/18N/OveK8H8W/8jfqf/Xw3869vF/CjGG5j0UUV5pqFFFFABRRRQAUUUUAFFFFABRRRQAUUUUAFFFFABRRRQB698L/+RSf/AK+n/wDQVrsq434X/wDIpP8A9fT/APoK12VezR/howluFcj4/wDCd94qtbOLT5beNoHZm89mGcjtgGuuorUWx4z/AMKf1/8A5/NN/wC/sn/xFH/Cn9f/AOfzTf8Av7J/8RXs1FBXMzxn/hT+v/8AP5pv/f2T/wCIo/4U/r//AD+ab/39k/8AiK9mooDmZ4z/AMKf1/8A5/NN/wC/sn/xFH/Cn9f/AOfzTf8Av7J/8RXs1FAczPGf+FP6/wD8/mm/9/ZP/iKP+FP6/wD8/mm/9/ZP/iK9mooDmZ4z/wAKf1//AJ/NN/7+yf8AxFH/AAp/X/8An803/v7J/wDEV7NRQHMzxn/hT+v/APP5pv8A39k/+Io/4U/r/wDz+ab/AN/ZP/iK9mooDmZ4z/wp/X/+fzTf+/sn/wARR/wp/X/+fzTf+/sn/wARXs1FAczPGf8AhT+v/wDP5pv/AH9k/wDiKP8AhT+v/wDP5pv/AH9k/wDiK9mooDmZ4z/wp/X/APn803/v7J/8RR/wp/X/APn803/v7J/8RXs1FAczPOvBPw+1Xw34iF/fXFnJEImTELsWyceqivRaKKBN3MPxhotz4g8OS2Fm8SSu6sGlJC8HPYGvO/8AhUuu/wDP3p3/AH8f/wCIr2CivPxOX0MTPnqXud2Hx9bDw5Kex4//AMKl13/n707/AL+P/wDEUf8ACpdd/wCfvTv+/j//ABFewUVzf2LhOz+86P7XxXdfceP/APCpdd/5+9O/7+P/APEUf8Kl13/n707/AL+P/wDEV7BRR/YuE7P7w/tfFd19x4//AMKl13/n707/AL+P/wDEUf8ACpdd/wCfvTv+/j//ABFewUUf2LhOz+8P7XxXdfceP/8ACpdd/wCfvTv+/j//ABFH/Cpdd/5+9O/7+P8A/EV7BRR/YuE7P7w/tfFd19x4/wD8Kl13/n707/v4/wD8RR/wqXXf+fvTv+/j/wDxFewUUf2LhOz+8P7XxXdfceP/APCpdd/5+9O/7+P/APEUf8Kl13/n707/AL+P/wDEV7BRR/YuE7P7w/tfFd19x4//AMKl13/n707/AL+P/wDEUf8ACpdd/wCfvTv+/j//ABFewUUf2LhOz+8P7XxXdfceP/8ACpdd/wCfvTv+/j//ABFH/Cpdd/5+9O/7+P8A/EV7BRR/YuE7P7w/tfFd19x4/wD8Kl13/n707/v4/wD8RVvS/hfrVlrFndS3VgY4J0kYLI+SFYE4+TrxXqtFVHJ8LFppP7yZZtiZKza+4KjuYzNayxrgM6FRn3FSUV6zV1Y8o4b/AIQnUf8Anta/99t/8TR/whOo/wDPa1/77b/4mu5ory/7JwvZ/ea+1kcN/wAITqP/AD2tf++2/wDiaP8AhCdR/wCe1r/323/xNdzRR/ZOF7P7w9rI4b/hCdR/57Wv/fbf/E0f8ITqP/Pa1/77b/4mu5oo/snC9n94e1kcN/whOo/89rX/AL7b/wCJo/4QnUf+e1r/AN9t/wDE13NFH9k4Xs/vD2sjhv8AhCdR/wCe1r/323/xNH/CE6j/AM9rX/vtv/ia7mij+ycL2f3h7WRw3/CE6j/z2tf++2/+Jo/4QnUf+e1r/wB9t/8AE13NFH9k4Xs/vD2sjhv+EJ1H/nta/wDfbf8AxNH/AAhOo/8APa1/77b/AOJruaKP7JwvZ/eHtZHDf8ITqP8Az2tf++2/+Jo/4QnUf+e1r/323/xNdzRR/ZOF7P7w9rI4b/hCdR/57Wv/AH23/wATR/whOo/89rX/AL7b/wCJruaKP7JwvZ/eHtZHDf8ACE6j/wA9rX/vtv8A4muw0+3e0023t5CpeKMKxXpkCrNFdOHwVLDScqfUmU3LcK801z4c6vqeu3l7BcWSxzyl1Du4IB9cLXpdFdFSnGorSJTaPJf+FV63/wA/Wn/9/H/+Io/4VXrf/P1p/wD38f8A+Ir1qisvqtMrnZ5L/wAKr1v/AJ+tP/7+P/8AEUf8Kr1v/n60/wD7+P8A/EV61RR9Vphzs8l/4VXrf/P1p/8A38f/AOIo/wCFV63/AM/Wn/8Afx//AIivWqKPqtMOdnkv/Cq9b/5+tP8A+/j/APxFH/Cq9b/5+tP/AO/j/wDxFetUUfVaYc7PJf8AhVet/wDP1p//AH8f/wCIo/4VXrf/AD9af/38f/4ivWqKPqtMOdnkv/Cq9b/5+tP/AO/j/wDxFH/Cq9b/AOfrT/8Av4//AMRXrVFH1WmHOzyX/hVet/8AP1p//fx//iKP+FV63/z9af8A9/H/APiK9aoo+q0w52eS/wDCq9b/AOfrT/8Av4//AMRR/wAKr1v/AJ+tP/7+P/8AEV61RR9Vphzs8l/4VXrf/P1p/wD38f8A+Io/4VXrf/P1p/8A38f/AOIr1qij6rTDnZgeDdCufD2htZ3rwvIZmkzCSRggDuB6Vv0UVvGKirIjcKpajqkGmIjXCyMHJA2AH+tXa5zxf/x723+8f5Vy46tKhh5VIbr/ADN8PBVKqjLYn/4Syw/553H/AHyP8aP+EssP+edx/wB8j/GuPor5b+2cX5fcev8AUaJ2H/CWWH/PO4/75H+NH/CWWH/PO4/75H+NcfRR/bOL8vuD6jROw/4Syw/553H/AHyP8aP+EssP+edx/wB8j/GuPoo/tnF+X3B9RonYf8JZYf8APO4/75H+NH/CWWH/ADzuP++R/jXH0Uf2zi/L7g+o0TsP+EssP+edx/3yP8aP+EssP+edx/3yP8a4+ij+2cX5fcH1Gidh/wAJZYf887j/AL5H+NH/AAllh/zzuP8Avkf41x9FH9s4vy+4PqNE7D/hLLD/AJ53H/fI/wAaP+EssP8Anncf98j/ABrj6KP7Zxfl9wfUaJ2H/CWWH/PO4/75H+NH/CWWH/PO4/75H+NcfRR/bOL8vuD6jROw/wCEssP+edx/3yP8aP8AhLLD/nncf98j/GuPoo/tnF+X3B9Ronc2GvWuo3XkQJKHwTl1AH86064vwv8A8hof9c2rtK+jy3E1MTQ56m9zy8VSjSqcsTO17XLbw9pL6hfLK8KMqkRKC2ScdyK5X/hb3h//AJ9tQ/79J/8AF1b+KP8AyIlx/wBdY/8A0KvDK9IwjFNHtH/C3vD/APz7ah/36T/4uj/hb3h//n21D/v0n/xdeL0UFcqPaP8Ahb3h/wD59tQ/79J/8XR/wt7w/wD8+2of9+k/+LrxeigOVHtH/C3vD/8Az7ah/wB+k/8Ai6P+FveH/wDn21D/AL9J/wDF14vRQHKj2j/hb3h//n21D/v0n/xdH/C3vD//AD7ah/36T/4uvF6KA5Ue0f8AC3vD/wDz7ah/36T/AOLo/wCFveH/APn21D/v0n/xdeL0UByo9o/4W94f/wCfbUP+/Sf/ABdH/C3vD/8Az7ah/wB+k/8Ai68XooDlR7R/wt7w/wD8+2of9+k/+Lo/4W94f/59tQ/79J/8XXi9FAcqPaP+FveH/wDn21D/AL9J/wDF0f8AC3vD/wDz7ah/36T/AOLrxeigOVHtH/C3vD//AD7ah/36T/4uprL4qaFfX9vaQ298JLiVYkLRIACxwM/N714jWj4d/wCRo0r/AK/If/QxQLlR9JVHcTrbWss8gJSJC7AdcAZqSqer/wDIEvv+veT/ANBNTJ2i2iYq8kjlP+FsaD/z73//AH6T/wCKo/4WxoP/AD73/wD36T/4qvHaK+L/ALaxfl9x9f8A2PhfP7z2L/hbGg/8+9//AN+k/wDiqP8AhbGg/wDPvf8A/fpP/iq8doo/trF+X3B/Y+F8/vPYv+FsaD/z73//AH6T/wCKo/4WxoP/AD73/wD36T/4qvHaKP7axfl9wf2PhfP7z2L/AIWxoP8Az73/AP36T/4qj/hbGg/8+9//AN+k/wDiq8doo/trF+X3B/Y+F8/vPYv+FsaD/wA+9/8A9+k/+Ko/4WxoP/Pvf/8AfpP/AIqvHaKP7axfl9wf2PhfP7z2L/hbGg/8+9//AN+k/wDiqP8AhbGg/wDPvf8A/fpP/iq8doo/trF+X3B/Y+F8/vPYv+FsaD/z73//AH6T/wCKo/4WxoP/AD73/wD36T/4qvHaKP7axfl9wf2PhfP7z2L/AIWxoP8Az73/AP36T/4qj/hbGg/8+9//AN+k/wDiq8doo/trF+X3B/Y+F8/vPYv+FsaD/wA+9/8A9+k/+Ko/4WxoP/Pvf/8AfpP/AIqvHaKP7axfl9wf2PhfP7z2L/hbGg/8+9//AN+k/wDiq6/T72LUtOt72AMIriMSIHGCARnmvm6voLwn/wAifpX/AF6R/wDoIr18rx9bFVJRqW0R5WZYGjhoRlT6s16w7rxZYWd3Lbyx3BeNirFVGM/nW5Xmeu/8h68/66muzMsTUw1OMqfVnkU4qT1Or/4TTTf+eVz/AN8L/jR/wmmm/wDPK5/74X/GuForw/7WxPl9xt7KJ3X/AAmmm/8APK5/74X/ABo/4TTTf+eVz/3wv+NcLRR/a2J8vuD2UTuv+E003/nlc/8AfC/40f8ACaab/wA8rn/vhf8AGuFoo/tbE+X3B7KJ3X/Caab/AM8rn/vhf8aP+E003/nlc/8AfC/41wtFH9rYny+4PZRO6/4TTTf+eVz/AN8L/jR/wmmm/wDPK5/74X/GuFoo/tbE+X3B7KJ3X/Caab/zyuf++F/xo/4TTTf+eVz/AN8L/jXC0Uf2tifL7g9lE7r/AITTTf8Anlc/98L/AI0f8Jppv/PK5/74X/GuFoo/tbE+X3B7KJ3X/Caab/zyuf8Avhf8aP8AhNNN/wCeVz/3wv8AjXC0Uf2tifL7g9lE7r/hNNN/55XP/fC/40f8Jppv/PK5/wC+F/xrhaKP7WxPl9weyieoabqUOq2puLZXVAxXDgA5H0PvVuuf8Gf8gNv+uzfyFdBX0+GqSq0Yzlu0c0laVgrnPF//AB723+8f5V0dc54v/wCPe2/3j/KuXNP9zn8vzR0YT+PE5aiiivgz6MKKKKACiiigAooooAKKKKACiiigAooooAKKKKACiiigDY8L/wDIaH/XNq7SuL8L/wDIaH/XNq7SvtMk/wB1+b/Q8HH/AMb5HH/FH/kRLj/rrH/6FXhle5/FH/kRLj/rrH/6FXhle0ckdgooooLCitXQ9An1trh1mitra1TzJ7iY4WMdunJNPvtGsbexkuLPXrO8ePGYUR0Y5OONwGaBGPRRRQMKKKKACiitDUtLGn2WmziUyfbbczFduNnzsuPf7tAGfRRRQAUUVbstLvNRhupbOEypaRmWY7gNijvyefwoAqUUUUAFaPh3/kaNK/6/If8A0MVnVo+Hf+Ro0r/r8h/9DFAH0lVPV/8AkCX3/XvJ/wCgmrlU9X/5Al9/17yf+gmoqfAzOn8aPnKiiivzM/RQooooAKKKKACiiigAooooAKKKKACiiigAooooAKKKKACvoLwn/wAifpX/AF6R/wDoIr59r6C8J/8AIn6V/wBekf8A6CK+iyH+NP0/U8DO/wCFH1NevM9d/wCQ9ef9dTXpleZ67/yHrz/rqa9DOv4UfX9D52juUKKKK+XOkKKKKACiiprS3a7u4rdCFaRgoJ7VSTk7ICGitOXSbaGV4pNUt1dGKsNj8Ede1ZrDDEA5APUd6qdOUPi/NCTuJRRSqNzAepxUDEoq1qVmNP1CS2D+Zsx82MZyAf61Vpyi4ScXug3CiiipAKKKKACiiigDu/Bn/IDb/rs38hXQVz/gz/kBt/12b+QroK+5wP8Au0PQ4p/EwrnPF/8Ax723+8f5V0dc54v/AOPe2/3j/Ksc0/3Ofy/NG+E/jxOWooor4M+jCiiigAoorW0WxtbyG4N0DlSqowJGCxwP1xW1GjKtNQjuZ1JqnHmZk0VKLeQ3n2bH7zfsx75xWnq+n2tmlqbZCxcsr/N94g4qoYecoSn0jv8AkKVSKko9zHoq1PaS+fcGO3aNYjlk3bigqFbeV4HmVD5SEBm7A+lZypyTtb+kWpJq5HRUslrNFc/Z5IysuQNp9TTlsbp5nhSFmkj+8o5Io9nO9rMOaO9yCirNzp13ZqGuYGjUnAJ5FVqUoSg7SVmEZKSumFFFFQUFFFFAGx4X/wCQ0P8Arm1dpXF+F/8AkND/AK5tXaV9pkn+6/N/oeDj/wCN8jj/AIo/8iJcf9dY/wD0KvDK9z+KP/IiXH/XWP8A9CrwyvaOSOwUUUUFnQ+G9csLPT9Q0nWoZnsL8JueAgPGynIIz1/+tTr7w1Zvo9xqnh/VBfW9sR50MkRjliBOASOcj3FUNJbQvLlTXY77dkGOSzdRj1BDCtG61zSLHQbrTPDltdg3xUXFzeOpbaDkKoXjr3/yAnqa/hyy1uLTbIjStJNpMTtS8VFlugTkkEnPTgY7AcGkn8P6ePFev+H4IVEjQmWxJ+8jhQ+wE+oyKpXGv+HtTt9Pn1az1A31lbpB5dvIixSBCSMkjIznnFUdU8TfaPG/9v2CPEVkjkVH6/KoBBwehwR9DQGoq2EFl4F+2XEaPdalc+XbbgNyRp95h9SQPwHrXZPptvo2qwaXGmgPpsW1Ls3U6CeUkDcxycqR2AriPFWuw65qkb2EL29lBGI4Im6rySScEjJJP4AVfu9Y8Na6yXmt22ow6gVAnazZNkpAxuw3QmgNTD121trHXry2sJlmto5SInRtwK9Rz39M10t9rraRoHh9bexsppWsyxmuIvMO3zW+UA8Afr7iuPn8n7TJ9l3iHefL8zG7bnjOOM4rpV1fw3f6Rp1prNrqKTWUPlia1dPnyzHGG+vWgbNFND0vVfFWizwwpb2eoWpupbYHCqyBtygk8AlevpVyW1t7/StSh1f/AIR6BUgL2L2VxGHjcYwvBywI9f68c/P4vH/CSWl7aWYSxsYfs0Fq7ZJh2lSGPqQTz71DfP4Rkgnewj1eKdgTFG7RmNG7A8ZwPzoFqb2hW08nhKzbwxZ6de34d2vo5wry/eIUBW6Ltx0qXwhqDQ2PipbjSrOOWK3kleNomHPOYiM/cGOnXrzXOaLdeGrJLa6vl1Vr6Ft5WB0WNiGyMH7wGMZ/GrGmeK4Ita1mfUraQ2usJIkywMN8e4k5Ung4z3/+tQFjn7+7F9eyXC20FqHx+5t1KouABwCSe2evU1XqzqH2L7dJ/ZXn/ZePL+0Y39BnOOOufwqtQUFaPh3/AJGjSv8Ar8h/9DFZ1aPh3/kaNK/6/If/AEMUAfSVU9X/AOQJff8AXvJ/6CauVT1f/kCX3/XvJ/6Caip8DM6fxo+cqKKt6bcWVtd79SsTfQ7SPKExi59cgGvzWKTdm7H6JJtK6VypRXaN/wAIyvhhNX/4R2T57o2/k/2g/GFBznHv0xWHHpNz4hv538OaTKkCgfuhLv8AL47ucZyQTXRPDONlFqTfRXv+RzwxCldyTil1dv8AMx6Kty6XewaoNNmtnS8LrGIWGCWPQfjkVe/4RLXvsb3X9l3HkoCWYgZAHXjrWSo1JXtF6eRq6tONryWvmY1FaGl6DqeteZ/ZdnJcCPG8rgAZ9zTZ9G1G21RdNmtJFvGIAhAyxz06UvZVOVS5XZj9pDmcbq6KNFa2o+GNa0m1+06hp8sMOQpc4IB98HimWXhzV9QWFrKwlmWZWaNlAwQpwee3Jp+xq83Lyu/axPtqfLzcyt6mZRXVw+Hr3VPB9kumWBmuVu5xKyKAQAEwCfrmue1DTLzSbs22o2728wAO1x1B7j1qqlCdNKTWjtr01FTrQm3FPXXT0KtFbQ8H+IDZfaxpU/k7N+cDOOvTOf0qnpmjahrMzxaZatcPGNzBSBgfjUujVTScXd7aDVam02pKy8yjRV7UtF1HR5ki1O0kt3kGU3DhvoRxU0vhrWIbW4uZtPlSG2OJXYABen59R0o9lUu1yvTfQftadk+Za+Zl0Vuab4V1q7jgvYtMmktSwbdgcrnrjqRTvG0EVv4y1CK3jWKNXG1EXAHyjtVuhONL2klbVfjf/IhV4Sqezi77/hb/ADMGvoLwn/yJ+lf9ekf/AKCK+fa+gvCf/In6V/16R/8AoIr2sh/jT9P1PHzv+FH1NevM9d/5D15/11NemV5nrv8AyHrz/rqa9DOv4UfX9D52juUKKKK+XOkKKKKACr2i/wDIbtP+uoqjVjT7hbTUILhwWWNwxA6mtaTUakW+6E9jR1K3006jds1/KJPNclPs+QDk8Z3frUWjxXjedJaQwMqgb5bgDan4njmpLifQrm5lndNQDSOXIDJjJOfSmW19YCzuLG5juPszTeZE0ZG8Y4APbpXY/Z+15rpb7N/rexGti3rFmFXT55reKKaZysiwn5GwRgj8DUeszRWuoTafaWsMUe9Sz7cseh4PYfSoLvUrR7azt7SGWNLaQt87Algcc/Xiq+p3qXury3casqOwIDdeAP8ACnWqwtLkert+WvTuEU+psXMMN34mvbOZV3zRKInPVXCAj86zIbZLfRbm5uYwZJH8mIMOhHLH+lNvL03uui6tFZWZ02A9cgAfzFWvE14J9QFvGqoluMEL0Lnlj+f8qdSdOSnU7N287/5a/gCT0Ri0UUV5hoFFFFABRRRQB3fgz/kBt/12b+QroK5/wZ/yA2/67N/IV0Ffc4H/AHaHocU/iYVzni//AI97b/eP8q6Ouc8X/wDHvbf7x/lWOaf7nP5fmjfCfx4nLUUUV8GfRhRRRQAVp2LFdD1BlOCDGQf+BCsypEnkjgkhRsRyY3j1wcitqNRU5Nvs196aM6keZW81+ZvnyR/xPOOYeF/6bfd/+v8ArVW7JbS9JLHJJYk/8CrJ8+X7P5G8+Vu3be2fWnNdTPFFGz5SH7g9O9dksZGUWrbr8bpt/gYRoNNO+35WdvzNeQzjxZMLYA5chw33duOc+2Ki1rCwwLZ4+wcmMr3bvn3rPa+uGaZjId04xIcfeFMW4lW3aAOfKY7ivbPrSnioSjOKv7zb/Hb07/8AA1caMk4vtb+v8jW1MFvFiY5zJGR+lSu5F9rTRsQdh5U+4rPTWbyOJEDqSg2o5QFlHsak0q5aGO+lEu2UxZBJ5J3D863jiKc6j5W/ebfpo/PXfyM3TlGOvRJfihdOLnR9REn+p2KRn+/njFZdWrnUri6iETlVjBzsjUKCfXAqrXn1pxkoxjrZfq2dNOLTbfUKKKK5zUKKKKANjwv/AMhof9c2rtK4vwv/AMhof9c2rtK+0yT/AHX5v9Dwcf8Axvkcf8Uf+REuP+usf/oVeGV7n8Uf+REuP+usf/oVeGV7RyR2CiiigsKKKKACit3w7oNvrNpqU93dm1SyjWUvt3Dbuw3Hc4zgeuK0o/D3hy/0qbVLDUL+G0snAu0uYlMhB+7s28ZJ45PHX6grnIUV0mr6Fpf/AAjcWt6BcXUlv9oNvNHdqodGwCD8vGMEfnVmbQfDmjSQ2XiG91BdQdFaYW0amODcMgHPJIB5xQFzkqt2GmXOpfaPsiBvs0JnkycYQEAn9RW1H4OkHimfTLm6UW1tEbmW6QZHkAZ3AepBHHqa2fD8Xh8W2uPodxfmUaXKrxXkajcpZfmBU9iMYPr7UBc4Gp7Gzm1G+hs7VQ007hEBOMk1tWOj6RbaLDqXiO4u0W7dhbQWaqXKrwXO7jGeK0rLQ00X4gaEbWdrizu5Iri2lZdrFGPAI9RQFzjXQxyMjdVJBpKlu/8Aj9n/AOujfzqKgYUUUUAFaPh3/kaNK/6/If8A0MVnVo+Hf+Ro0r/r8h/9DFAH0lVPV/8AkCX3/XvJ/wCgmrlU9X/5Al9/17yf+gmoqfAzOn8aPnKiiivzM/RTpZP+SYwf9hR//RYrTiGjx/DnTP7R/tDypLiVpTYsmPMyQA+7vtAxXHm/uTpq2BkP2ZZDKI8fxEYz+VXNK8Rajo8MsFpIrW83+sgmQPG3/ATxXoU8RBS1WnLbucNTDzcdHrzX7HQPrOnat4m8Lx6bHdZs54oWkutu91Eileh7c/nS6Fd3E/xaDyzSOzXMqEluqhWwPpwOK5u61u8utRt70+TDNbbfJ8iJUVNp3DAHHWobfU7u11QajBMUug5fzMDqc5P6mn9bXtFJ9JJ9trC+qvkcV1i133NnSdY0waJPomtJdJbyXP2hZ7VhuDYC4KnqOM1qadpj6HrOrRafO1xN/ZRmtJCu18NtPA7MFJrnNM8Q3ukwtFbpbSKZPMHnwLIVbGMgkcdBUR17UzrH9qG8k+25/wBbnnpjH09qIYinGMXLVrytZa+evloE8PNyko6J+e708tPM2PBryudXjmLNZGwlM4ZjtBx8p9M56fjUusXM0Xw60CGOV0ilecyIpwGwwxn161l6h4q1TUbN7WSSKGCRt0iW8SxiQ+rY6ms+bULq4sbezmlLQWxYxJj7u7r/ACqXiIRpunFt6Wv6tP7tBqhOVRVJWWt7fJr79Tau2lHw604KXEZvptwBOCdq4z+v61q2ZMmk+EzqxB/09hGZTz5G5cZz2znHtXOad4l1PS7UWttMptsljBJGHRicZyCOegqDU9YvtXvBc305eRRhMcBB6ADpTWIpxXMrt2St00t/l2E6E5PldrXbv11v/mbCXGqn4jhiZftxvdpXJGRu+7/u4/DFWrjSNJl1TX9QvZrhNPtLry1jtACzFmOOTxjg1nf8JrrfklftEfmlPLNz5S+dt9N+M4qlpevX+kNMbSRWS4GJY5UDpJ9QetV7ajezu023qttPXXzF7Gta6smklo/P008jpteezl+H2lHTmu3t0vXWM3e3eBjkccYzVTx7O0vjRobqaT7NGsQ2g52KVUtgViah4g1PVIVivbkyRK+9I9oCocY4A6DHaqt/f3Op3jXV7KZZmABYjGcDA/QVNfFRnFxj15fwTHRw0oSUpf3vxaOl8VSXSfEPZGZE8qWNLYISNqcbQuO30qn48/5HfUv+ug/9BFQx+L9Yiso7Zbhf3K7IpjGpljX0V+orLvb241G8kuryQyzSHLuR1pV69OcZKN/ed/TfTfzKo0ZwlFytoreu3+RBX0F4T/5E/Sv+vSP/ANBFfPtfQXhP/kT9K/69I/8A0EV6eQ/xp+n6nm53/Cj6mvXmeu/8h68/66mvTK8z13/kPXn/AF1NehnX8KPr+h87R3KFFFFfLnSFFFaen6fbyafPfXzzCGNwgWEAsSfr2rSnTlUdkJuxmUV0GgLpp8QJ5DXBH/LISKvJwc5qmtha32pLBYSyhMM0rzKBsA6nitvq0nBSTTu7W+4XNqZdFbC6fpl6JYtNuLj7QillEyjbIB1xjp+NR2+n2Q0tL6+nlVWkZPLiUFmxjpnpS+rzvpa3e+gcyMuitK7063VLa4sZZHtp32fvAAyN3Bx9atTabpFtftZT3dyZd20OqDYuegPc/hR9Wnfp0699g5kZVo88E4ubdCzQ/NnZuC+5qF3aSRnc5Zjkn1NatvpskZ1SGSZ42toiWCHh8Hofalj02wi0q1vr64mAm3Dy4lBYkNjjPbiq9hUcbbbvX1sHMjIorUutHH260i0+RpI7xA0RkGCPXP0qzBpekXOoLYxXdz527aXKLsYjrjvSWFqOXLp2339A5kYVFOlXZM6DkKxFNrmehQUUUUgO78Gf8gNv+uzfyFdBXP8Agz/kBt/12b+QroK+5wP+7Q9Din8TCuc8X/8AHvbf7x/lXR1zni//AI97b/eP8qxzT/c5/L80b4T+PE5aiiivgz6MKKKKACiiigAooooAKKKKACiiigAooooAKKKKACiiigDY8L/8hof9c2rtK4vwv/yGh/1zau0r7TJP91+b/Q8HH/xvkcf8Uf8AkRLj/rrH/wChV4ZXufxR/wCREuP+usf/AKFXhle0ckdgooooLCiiigDovDl7b23h/wAQxTzJHJPaqsSseXO7oKdpN7bQ+BNetZZkWeeSAxxk8uAxziubooFY6aG/tk+GMtn56C6OqeaIs/MV2KM49MitDXNKh8U6qNasNTsYoLpVa4Wefa1u2PmG08kccYriaKAsd3HrWlT+Lb+1+0+XYXGnjTo7tieNqqFc47Er+tR6RpkPhu31d9S1WwMtxYSQwRQTeYXyQc5HT7vAPPPtXEUUBY9B0fWtRufCNjaeH9ahsLyy3pLbTuqCZSxYMrMMZ5xjNZy6nqC+PNIl8SanDcm3lRmlR1ZY1zkglRj+dcfRQFiS5YNdyspyC7EH15qOiigYUUUUAFaPh3/kaNK/6/If/QxWdWj4d/5GjSv+vyH/ANDFAH0lVPV/+QJff9e8n/oJq5VPV/8AkCX3/XvJ/wCgmoqfAzOn8aPnKiiivzM/RQooooAKKKKACiiigAooooAKKKKACiiigAooooAKKKKACvoLwn/yJ+lf9ekf/oIr59r6C8J/8ifpX/XpH/6CK+iyH+NP0/U8DO/4UfU168z13/kPXn/XU16ZXmeu/wDIevP+upr0M6/hR9f0PnaO5Qooor5c6QrV0f7fGHk067ihywV0eQLkepB6jmsqitKc+SXN+TsJq6Oi+2WcPiq1nDRBVUCaSMYQvjkiq9oi6VqzJdzRGK5jeMyROG2g9+KxaK6PrTbvbW9/6+4nlN2wtV0e4a9ubu3ZY0bylik3GRiMDjsOe9JHam88MwKksUbi4cqsjbd3A4B6ZrDq296H0mKz2EGOVpN2euR0pwrw5XG1lZ6ebt/kDiy/ceVa2ljYJMk0qz+bKYzlVJwMZ71Z1DTFl8QTXD3dukAk3SEvhkx229c1z0T+XMj4ztYHFT6hdC+1Ca5C7BI27aTnFP28HB8y6qy9Ew5Xc1U1CCa51qYuEE8TCMN/F6VUvJ4n8PabCjqZIzJvUHlcscVmUVnLEykmmt7/AIu4+VG+mowW11osxcMsEW2XbyVySP61NpWl+T4ihuEu7d4fMLRlZMs+QeMdc1zkRQSqZlLJn5gpwSK1oL/TNOcz6fFcyXIB2GfaFTPfjrXRRrxlJSqWsmn+X37EuPYy7j/j6l/3z/Oo6CSzEnkk5NFec3d3NAooopAd34M/5Abf9dm/kK6Cuf8ABn/IDb/rs38hXQV9zgf92h6HFP4mFc54v/497b/eP8q6Ouc8X/8AHvbf7x/lWOaf7nP5fmjfCfx4nLUUUV8GfRhRRRQAUUUUAFFFFABRRRQAUUUUAFFFFABRRRQAUUUUAbHhf/kND/rm1dpXF+F/+Q0P+ubV2lfaZJ/uvzf6Hg4/+N8jj/ij/wAiJcf9dY//AEKvDK9z+KP/ACIlx/11j/8AQq8Mr2jkjsFFFFBYUUUUAFFFFABRRRQAUUUUAFFFFABRRRQAUUUUAFaPh3/kaNK/6/If/QxWdWj4d/5GjSv+vyH/ANDFAH0lVPV/+QJff9e8n/oJq5VPV/8AkCX3/XvJ/wCgmoqfAzOn8aPnKiiivzM/RQooooAKKKKACiiigAooooAKKKKACiiigAooooAKKKKACvoLwn/yJ+lf9ekf/oIr59r6C8J/8ifpX/XpH/6CK+iyH+NP0/U8DO/4UfU168z13/kPXn/XU16ZXmeu/wDIevP+upr0M6/hR9f0PnaO5Qooor5c6QooooAKKKKACiiigAooooAKKKKACiiigAooooAKKKKAO78Gf8gNv+uzfyFdBXP+DP8AkBt/12b+QroK+5wP+7Q9Din8TCmvEkmPMRXx03DNOorraT3IIvstv/zwj/74FH2W3/54R/8AfAqWip5I9iuZ9yL7Lb/88I/++BR9lt/+eEf/AHwKloo5I9g5n3Ivstv/AM8I/wDvgUfZbf8A54R/98CpaKOSPYOZ9yL7Lb/88I/++BR9lt/+eEf/AHwKloo5I9g5n3Ivstv/AM8I/wDvgUfZbf8A54R/98CpaKOSPYOZ9yL7Lb/88I/++BR9lt/+eEf/AHwKloo5I9g5n3Ivstv/AM8I/wDvgUfZbf8A54R/98CpaKOSPYOZ9yL7Lb/88I/++BR9lt/+eEf/AHwKloo5I9g5n3Ivstv/AM8I/wDvgUfZbf8A54R/98CpaKOSPYOZ9xiQRRtujiRT6hQKfRRVJJbCu2MmhiuIzHPGsiHqrrkVX/srT/8Anxtv+/S/4VbopiKn9laf/wA+Nt/36X/Cj+ytP/58bb/v0v8AhVuigCp/ZWn/APPjbf8Afpf8KP7K0/8A58bb/v0v+FW6KAKn9laf/wA+Nt/36X/Cj+ytP/58bb/v0v8AhVuigCp/ZWn/APPjbf8Afpf8KP7K0/8A58bb/v0v+FW6KAKn9laf/wA+Nt/36X/Cj+ytP/58bb/v0v8AhVuigCp/ZWn/APPjbf8Afpf8KP7K0/8A58bb/v0v+FW6KAKn9laf/wA+Nt/36X/Cj+ytP/58bb/v0v8AhVuigCp/ZWn/APPjbf8Afpf8KP7K0/8A58bb/v0v+FW6KAKn9laf/wA+Nt/36X/ClXTLBHDJZW6spyCIgCDVqigApGUMpVgCCMEHvS0UAVf7LsP+fK3/AO/S/wCFH9l2H/Plb/8Afpf8KtUVHJHsVzy7lX+y7D/nyt/+/S/4Uf2XYf8APlb/APfpf8KtUUckewc8u5V/suw/58rf/v0v+FH9l2H/AD5W/wD36X/CrVFHJHsHPLuVf7LsP+fK3/79L/hR/Zdh/wA+Vv8A9+l/wq1RRyR7Bzy7lX+y7D/nyt/+/S/4Uf2XYf8APlb/APfpf8KtUUckewc8u5V/suw/58rf/v0v+FH9l2H/AD5W/wD36X/CrVFHJHsHPLuVf7LsP+fK3/79L/hR/Zdh/wA+Vv8A9+l/wq1RRyR7Bzy7lX+y7D/nyt/+/S/4Uf2XYf8APlb/APfpf8KtUUckewc8u5V/suw/58rf/v0v+FH9l2H/AD5W/wD36X/CrVFHJHsHPLuVf7LsP+fK3/79L/hVlEWNAkahVUYCqMAClopqKWyE5N7sKia1t3Ys0EZJ6koOaloptJ7iIfsdt/z7xf8AfAo+x23/AD7xf98CpqKXJHsO7Ifsdt/z7xf98Cj7Hbf8+8X/AHwKmoo5I9guyH7Hbf8APvF/3wKPsdt/z7xf98CpqKOSPYLsh+x23/PvF/3wKPsdt/z7xf8AfAqaijkj2C7Ifsdt/wA+8X/fAo+x23/PvF/3wKmoo5I9guyH7Hbf8+8X/fAo+x23/PvF/wB8CpqKOSPYLsh+x23/AD7xf98Cj7Hbf8+8X/fAqaijkj2C7Ifsdt/z7xf98Cj7Hbf8+8X/AHwKmoo5I9guyH7Hbf8APvF/3wKPsdt/z7xf98CpqKOSPYLsakaRLtjRUHXCjFOooqthBXCfFC8ubSysDazyQlpGyY2K54HpXd1578WP+PHTv+uj/wAhWNf+Gyo7nn/9tan/ANBC5/7+tR/bWp/9BC5/7+tVGivJ5n3Ni9/bWp/9BC5/7+tR/bWp/wDQQuf+/rVRoo5n3Avf21qf/QQuf+/rUf21qf8A0ELn/v61UaKOZ9wL39tan/0ELn/v61H9tan/ANBC5/7+tVGijmfcC9/bWp/9BC5/7+tR/bWp/wDQQuf+/rVRoo5n3Avf21qf/QQuf+/rUf21qf8A0ELn/v61UaKOZ9wL39tan/0ELn/v61H9tan/ANBC5/7+tVGijmfcC9/bWp/9BC5/7+tR/bWp/wDQQuf+/rVRoo5n3Avf21qf/QQuf+/rUf21qf8A0ELn/v61UaKOZ9wO4+HWpXt14sWO5u5pU8hzteQkdq9Yrx34Z/8AI4L/ANcH/pXsVelhXemZT3MvxFI8WjO0bMjbl5U471x3266/5+Jf++zXX+Jv+QHJ/vL/ADria+Zzqco4lJPov1PZwEU6Wq6k/wBuuv8An4l/77NH266/5+Jf++zUFFeL7Sfdnfyx7E/266/5+Jf++zR9uuv+fiX/AL7NQUUe0n3YcsexP9uuv+fiX/vs0fbrr/n4l/77NQUUe0n3YcsexP8Abrr/AJ+Jf++zR9uuv+fiX/vs1BRR7Sfdhyx7E/266/5+Jf8Avs0fbrr/AJ+Jf++zUFFHtJ92HLHsT/brr/n4l/77NH266/5+Jf8Avs1BRR7Sfdhyx7E/266/5+Jf++zR9uuv+fiX/vs1BRR7Sfdhyx7E/wBuuv8An4l/77NH266/5+Jf++zUFFHtJ92HLHsT/brr/n4l/wC+zU9heXLajbK1xIQZVBBY88iqNWNP/wCQna/9dk/mK0pVJ+0jq90ROMeV6HolVNWZk0W+ZCVZbeQgjqDtNW6paz/yAr//AK9pP/QTX6MfLnzx/b2rf9BK6/7/ADf40f29q3/QSuv+/wA3+NUKKDcv/wBvat/0Err/AL/N/jR/b2rf9BK6/wC/zf41QooAv/29q3/QSuv+/wA3+NH9vat/0Err/v8AN/jVCigC/wD29q3/AEErr/v83+NH9vat/wBBK6/7/N/jVCigC/8A29q3/QSuv+/zf40f29q3/QSuv+/zf41QooAv/wBvat/0Err/AL/N/jR/b2rf9BK6/wC/zf41QooAv/29q3/QSuv+/wA3+NH9vat/0Err/v8AN/jVCigC/wD29q3/AEErr/v83+NH9vat/wBBK6/7/N/jVCigC/8A29q3/QSuv+/zf40f29q3/QSuv+/zf41QooAv/wBvat/0Err/AL/N/jXv3hWV5vCOlSSuzu9rGWZjkk7RzXzlX0V4Q/5EzSP+vSP/ANBFBEjZrwzxXq+ow+LdTjhvrhEW4YKqykADNe514B4w/wCRy1X/AK+W/nXgZ5KUaMbPr+h7GSxUqsrrp+pU/tzVf+gjdf8Af1qP7c1X/oI3X/f1qoUV8n7Wp/Mz6n2cOyL/APbmq/8AQRuv+/rUf25qv/QRuv8Av61UKKPa1P5mHs4dkX/7c1X/AKCN1/39aj+3NV/6CN1/39aqFFHtan8zD2cOyL/9uar/ANBG6/7+tR/bmq/9BG6/7+tVCij2tT+Zh7OHZF/+3NV/6CN1/wB/Wo/tzVf+gjdf9/WqhRR7Wp/Mw9nDsi//AG5qv/QRuv8Av61H9uar/wBBG6/7+tVCij2tT+Zh7OHZF/8AtzVf+gjdf9/Wo/tzVf8AoI3X/f1qoUUe1qfzMPZw7Iv/ANuar/0Ebr/v61H9uar/ANBG6/7+tVCij2tT+Zh7OHZF/wDtzVf+gjdf9/Wo/tzVf+gjdf8Af1qoUUe1qfzMPZw7I9p+GV1Pd+FHkupnmf7S43OxJxha7CuK+FX/ACJ7/wDX0/8A6CtdrX32AbeFg32PhscksTNLuFee/Fj/AI8dO/66P/IV6FXnvxY/48dO/wCuj/yFbYj+EzljueY0UUV5BsFFFW9LsH1TVbayjOGnkCZ9Pemld2AqUV1Go+IxpV3LY+HLeG2toW8vzjGHklIPLFj/ACrLMl34n1uCNvJW5nxECqBAT6nHf3qnFLRPURl0Vq3+hPpwRbm9tPPaTY8CuWaP3bAwPzzVg+FpJLOefT9Rsr826F5IoHbeFHU4IGfwo5JBdGFT2hkSJZGjZY3ztYqcNj0NaWnaDLfWL3s1zb2Vor+WJrhiAzdcAAEmtvxFaGy8H6BAJYZ9ssxWSNtyNlhimoNpthc4+it2+0TULrxXcWDJbpcg7pPKwkUYAyT7ACor7w7La6a1/bXlrfW8bhJXtmJ8snpkEDr60uSWoXMeityLwvObO2u7u+s7OC5TdE88hG7npgAn+lWdM8MGLxhBpuqS2+wMjnL/ACzoTxtI65pqnILo5qitXX9Lj02/lWG6t5kMrhY4XJMYB4B4rKqGmnZjCiiikB13wz/5HBf+uD/0r2KvHfhn/wAjgv8A1wf+lexV6mF/hmU9zJ8Tf8gOT/eX+dcTXbeJv+QHJ/vL/OuJr5fO/wDel6L9T2sv/g/MKKKK8M9AKKKKACiitDQkSTWYEkVXU7shhkH5TWlKn7SpGC6uxE5csXLsZ9FOl4mfH941at9Nea2+0SSxwQ52h5SRuPtiiNOU5csUDkoq7KdFW5tNniuYoRtk87/Vuhyr/Q0t1p4tVfN1A8iHDRoTkH8qp0KiTbWwvaRdrPcp0VffSmhjBuLmGKQpvETE7sflVCpnTnT0krDjJS2CiiisywooooAKsaf/AMhO1/67J/MVXqxp/wDyE7X/AK7J/MVrS/iR9URP4WeiVS1n/kBX/wD17Sf+gmrtUtZ/5AV//wBe0n/oJr9JPlT5pooooNwooooAKKKKACiiigAooooAKKKKACiiigAooooAKKKKACvorwh/yJmkf9ekf/oIr51r6K8If8iZpH/XpH/6CKCJmzXgHjD/AJHLVf8Ar5b+de/14B4w/wCRy1X/AK+W/nXz2ffwYev6HtZJ/Gl6fqYtFFFfIn1QUUUUAFFFFABRRRQAUUUUAFFFFABRRRQAUUUUAFFFFAHsnwq/5E9/+vp//QVrta4r4Vf8ie//AF9P/wCgrXa1+g5f/utP0PhMf/vU/UK89+LH/Hjp3/XR/wCQr0KvPfix/wAeOnf9dH/kK3xH8JnJHc8xoooryDYK0dAv10vxBZXkv3IpQW+nes6imnZ3A6e60TVtI1hr/RYWurZmZre4gTzVKt7c84OK6G8Ev/CUeEHuo/LuHiVphsCndxnIrgLXUr6xBFleXFsG6+TKyZ/I0yW7ubifz57iWWX/AJ6O5Lfma2VRJaE2Na1s7fUPHAtb2Ty4Jbtlc5xnk8fj0/Guu0WB4tR1Jf8AhHY9OijtpkWf5wzcdOTg568CvNtxLZyc5zmrE+o3tyVNzeXExQbVMkrNtHoMmlCoo62Bo6Oe1n1fwDpa6ZG05spZVuIoxuZSxyGx16VJr1pPY+D/AA9b3UZjlWWXch6jLA81ytteXVlIZLO5mt3IwWikKkj6imPNJJ/rJHfkn5mJ5PU0udW89h2PRXkX/hPfEFssUU09xbFIYpSQsh+UleCDyBWDe32pWej31r/wjkWnQT7VnkWKQdDxyzEdT+tcuZHaTezsXzncTz+dWbnVNQvIRFd31zPGDkJLMzAfgTVOpe4rGr4k/wCQXoH/AF4D/wBData6dY/HPh15GCqLW1yT9K4tnZgAzEhRgZPQUM7OQXYsQMDJzgVPtNb+n4DsafiHT7uy1q8a6t5IlkuJCjOpAb5s8Hv1FZVWLi/u7tI0u7qedYxhFlkLBB7Z6VXqJWb0GFFFFSB13wz/AORwX/rg/wDSvYq8d+Gf/I4L/wBcH/pXsVephf4ZlPcyfE3/ACA5P95f51xNdt4m/wCQHJ/vL/OuJr5fO/8Ael6L9T2sv/g/MKKKK8M9AKKKKACtLw//AMhy3/4F/wCgms2gMVOVJB9RWtGp7OpGfZpkTjzRce5el0q/MrkWsuNx/hqzcwyXui2LWkZk8gMkiqMlSSOce9Zfny/89X/76NEU0sDboJHjb1RiD+lbxq0o3STtLfXzT008jNwm7O6ujXm8+0tNNgRP9NR2kC9SoPQY9/6Us8C3enXV3d2f2OZCCrDIEhJ5GDWN5j+Z5m9t+c7s859c06W5nuMefNJLjpvcnH51p9ai001payWnayfr6E+xeln/AFe5uQxy6jJ5eq2JXbHg3OCpXA4J7GufPBOORUrXdy8XlvcStH/cLkj8qirGvWjVSste73f3F04OFwooorlNgooooAKsaf8A8hO1/wCuyfzFV6saf/yE7X/rsn8xWtL+JH1RE/hZ6JVLWf8AkBX/AP17Sf8AoJq7VLWf+QFf/wDXtJ/6Ca/ST5U+aaKKKDcKKKKACrs+j31tpNvqc8DJaXDFYpD/ABEe34VFp9lNqWpW9lbLuluJFjUe5P8AKvSrm1udXl1bw2lncLZ29qiae7RMFMkWecnj5iTz9PSgTdjy2r9lo899pN/qETxrFYBDIrE7m3kgY49qv+HNLs54dR1LVld7TTY1ZoUba0rsSFXPYcHJrcsrvTbzwN4jfTdOawcCASJ5xkVhubaRnkHrn8KAbOForqtCtreexhM3hS5vYckTXUUj7jz1UAY4Hb2q5beEtNXx7qej3bzNZ2tu8yspw4woYfXGfxoC5xNFdppVl4c1+z1DbYT2A06IXAlSbzHlQH5gQQACfbpn2qo9to+s+GNTvdPsH0+500xsAJjIsqM23nPfvxQFzB1HTLvSbhYL6Ly3eNZFGc5U9DTr/R77Tba0nvYTHHeJ5kJJ+8vH5dRXRX0DeIfDfh24jXdPHJ/ZkmBjOCCnP+6fzzWj4tuF1rR79Ict/ZGoJDFjn90UCdf95M/8CoFc4qbTLqDS7fUJUC29yzLE24ZYqcHjrVSun8bS/Z7jT9FT/V6XapGwyOZGG5zx9QPwrmKBoKKKKBhX0V4Q/wCRM0j/AK9I/wD0EV8619FeEP8AkTNI/wCvSP8A9BFBEzZrwDxh/wAjlqv/AF8t/Ovf68A8Yf8AI5ar/wBfLfzr57Pv4MPX9D2sk/jS9P1MWiiivkT6oKKKKAFVdzBRgZOMk4qzqOnXWlXjWt9F5cqgHGc5B5BBqrXa6TbWvjHSbeC9uBBeaVjzJG/5aWo6/iv9a6KFJVrwXxdP1OetVdK0n8PX9DlZ9NurbT7e9nj2Q3JIiJIy+Opx6e9VK7BWtvFOuXd3cq8WjaVbkxwpwRGvCqPQnqfxqG3ttH8R2N+mn6e+nXtpCbiILMZFlQHkHI681rLDJv3H6edt7fpczWIaXvr18r7X/U5WitrUdLtrbwro9/EG8+7MvmktwdrkDA7cVqW/hywlvvDETLJt1KPdcfP1Oe3pWccNOUuVeX42t+Zo8RBK78/wvf8AI5Giust7HQ9Q8TW2h29vJBGs7JJdyS/PLgH5QOi5IwOvWqniKO3tQ1uvh6XTZFkwkzysdyj2IwfwpywzjBz5lZadd/uFHEJzULO716bfeZF9ptzprQrdx7DPCJo+c5QkgH9DVWul8aNum0f20qH/ANCeuarOvBU6jii6M3OmpMKKKKxNgooooA9k+FX/ACJ7/wDX0/8A6CtdrXFfCr/kT3/6+n/9BWu1r9By/wD3Wn6HwmP/AN6n6hXnvxY/48dO/wCuj/yFehV578WP+PHTv+uj/wAhW+I/hM5I7nmSqXYKgLMTgADJJq3c6RqNnD511ZTxR/33jIFLpFlcajrFra2b+XPJIAj5xsPXOfbGa7fSBZi41OxXxBc6gxtZllgmjbY5Cn5gSTyCOtebCHMat2OCtbO5vZfLs4JJ3xkrGpOKJrK5t7r7PPbyRzHGI2Uhj+FdGbmfTPh9aPpztEby5kFzNGcN8oG1c+nX8qTwrcTSS6pqEkj3F5Z2DNbtIxYocgZGfQH9aORXSC5g3Ol39kqNd2c0KucKXQjJ9KrvDLHN5TxOsucbCpDZ+lXYdRvLq+gF3eTzJ56uRJKWGc9eT15PNbviEFvii4UZJuYcAd/lWlypq6A5cW05Z1EEhKEKw2H5TnGD6c1NNpV/byRxz2c6PL9xWjOW+ldnBdS2cvjO4tm2ypJlGxnafMPI96paZq+oDwJqs5u5WniuI1ildizxh8htpPIz7Vfs49X/AEhXZy11Y3VjIEvLeSBmGQJFIzUTxSRSbJI2R+PlZcHnpXTT3E198OYpbyV55IdSaON5GJKrsU4z9Sai8WAnxcgAyTFb49/kWplBJXXkO5BoGmxXB1ZL+3Je3sZJEV8qUcYwcfjWbaaXfXyF7O0mnVTgtGhIFdnN/wAjd4t/68pf/ZayNOslsdEtr3UddudOjuZGNvDbhmJxgFzggDtVuC29RXMfTdIuNR1iPT9kkbs4Vz5ZJj9yKkm0o6drn2XUIbloFnaMtHHhpQDjKg9a6+/uZIvHWhTWl3I32u3g82ZMx/aAe7D364NY7X13dfEWOK6uppo4dSZY0kkLBBv6AHp0H5UOEVp5hc52S3MuoSQWcMzZkKxxsvz4zwCB3pbvT7ywZRe20sBb7vmIRmuvikexi8X6jZHbex3JjV1+9GjSncR6VS0m5m1TwjrcOpzPNFbRpNA8rbjHJuxgE+vTHvU+zW3ULnPQaZfXThLeznkYqHAWMnK+v0qCSJ4ZGjmRkdThlYYIrsPE+p3tnoXh2G0uZIEaxR28pipYjGMkelUvHWG1q1mIHmTWMMkjd2bBGT+QpSgknboNMsfDP/kcF/64P/SvYq8d+Gf/ACOC/wDXB/6V7FXfhf4ZnPcyfE3/ACA5P95f51xNdt4m/wCQHJ/vL/OuJr5fO/8Ael6L9T2sv/g/MKKKK8M9AFUswVQST0AHWpTa3Ah80wyCP+9tOKn0j/kMWv8A11FW7G+u5deRWld1kk2MhOV2/T6V10aMJpOTert+X+ZhOcot26K5lRRSTOEiRnY9lGaWWGSGTZKjI3owwa2rQQW+lXchmeAtceWXjXJCgZA9v/rVXvry3ntbWKOaSeWJ/wDWSLg7T2rSWFhGnzOWu/Tvb18yVWbnZLQoLZ3LqzLBIQv3jtPFMihlnfbDG0jYzhRmtya9uf8AhLFjEzhFnCBAeMZGeKqx2xe8v5TcNbQQuQ7JnJyxwMD6U5YWHNaDbs2nstuoKtK15dkzNlglgbbNG0Z9GGK1r3Skk1xLS1Qxxsq5IBYLkdadqDRyeHomjuWudtxtDuuGUbSdtW5pZI/F0CxyMquEDANgNx39a6IYanH3ZapuHbrfqjKVWb1Wjs/wsYQtTDerHcxzeXvwdq/Mw9s1CsTyy+XEjM2eFA5rTtbiafxHAJppJAs5Ch2Jxz2qe2McNnfyvK8Je48syRrlgOTj2rCOHhU2dld/grmjqyjvvoYssMkD7Zo2RvRhinmyuVh80wSBMZ3bTjFX7y8tXs7eNJpbiSGTO6RcHb6ZqxdN/aS3NzZahICIy72z5XCjqBjgil9WptyUZX7K67a+tvIftZJK6t95hUUUV550hVjT/wDkJ2v/AF2T+YqvVjT/APkJ2v8A12T+YrWl/Ej6oifws9EqlrP/ACAr/wD69pP/AEE1dqlrP/ICv/8Ar2k/9BNfpJ8qfNNFFFBuFFFFAG/4U1Sz0Sa91Kdx9sit2WyTaTmRuN2cYGAfWo7Lxhr1pfwXDatfTLFIHMUty7K4B5BBPQ1iUUCsdr/a2gvrOuWQuGj0vWArrcCIkwSAlhlepGWIqIT6HovhjWNOtdWN/dXyxlWSBljG1jwCe/JPpXH0UBY7h9W0++0vSpU8Q3OlfYbYQyWkCPvLDqyEEDLepp58TaUfH+r6n9ob7Jc2bxRP5bZZiigDGMjkGuEooCx0HhjVbTTbPW47yUo13YtDCNpO5yRxx0/GotI1G1tPDevWk8m2a8jhWFdpO4rJk89uPWsSigLHXeCfEGnaRDeR6xkopW5tlCFv3yggfz71F4N1yxsdXuzrzH7JdoGk+Utl1cOvA9xXLUUBYtapevqWrXV7ISWnlZ+fc1VoooGFFFFABX0V4Q/5EzSP+vSP/wBBFfOtfRXhD/kTNI/69I//AEEUETNmvAPGH/I5ar/18t/Ovf68A8Yf8jlqv/Xy386+ez7+DD1/Q9rJP40vT9TFooor5E+qCiiigArc8L6la6bNqLXknliewlhj+UnLtjA4+lYdFaU6jpzU10IqQVSLizb8M6rbWE93a6kXFlfwGCVkGSnOQ2O+PT3rRt5tH8M2V9JY6n/aV9dQtbxCOIosasRlmz346VydFawxEoRSsrrZ9rmU8PGcm7uz3Xex1FtPpms+FrPTb/URp1xYSOUZ4i6yI5z26EGrZ8QaZD4p0IQTO2n6Sixm4ZDl/VtvXGa4yirWLkkrJX01722IeFi27t2107X3NHFrf+IZPOvPslvLK7C4MZbb1I4HPJwPbNb2q6pbQeE5NLbWn1meWZHjJRtsCr1wW559K5Cis4V3BSSWr669fnY0lQUnFt6L06fK5e1UWazQCwu5bpPIXe0oI2PzlRnsKo0UVjKXM7msVyqwUUUVJQUUUUAeyfCr/kT3/wCvp/8A0Fa7WuK+FX/Inv8A9fT/APoK12tfoOX/AO60/Q+Ex/8AvU/UK89+LH/Hjp3/AF0f+Qr0KvPfix/x46d/10f+QrfEfwmckdzziyvJ9PvYru0fZNCwZG9DW43jO7V5XtLCwtnnVlmaKDBk3DByc575+tc5RXlKUo7M1sa2leIbnS7WW08qC7tJjua3uU3Ln1HoaVfEVxBq8d/p9vbWTxps8uCPCMvcMO+ayKKfPK24WRq6nraajAI00yxszvDmS3i2sTgjGfTnp7Cr6eNLwGOaSysZb2JAiXjw5kGOAfqPWuboo55XvcLIvwazdwWt9ACrrfgCZnGWODnIP1psOqXEGkXGnIE8i4dXckfNlemDVKilzMZdGqTjRDpeE+zmfz84+bdtA6+mBWrB4xuo4rfz7Gxuri1ULDcTQ5dQOnPfFc7RTU5LZisjRh1y9hub6csskt9G0czOM5DdcelWbLxLPaaallPZ2d7FCxaH7TFvMZPXHt7Vi0UKcl1CyNS+8Q3+oahbXs7RrPbKqxsiBRwcjjpU174llvNSt79bKzguoZPNZ4o8ea3HLc89P1NYtFHPLuFkatn4hvbLVbm+i8tmuyxnidN0cgY5IIPbNP1HxFPfaf8AYYLa2sbQtveK2Tb5jerHvWPRRzyta4WRe1DV7jU7ezhuAgWzhEMe0Y+UevvSapqtxq08Ut0EDRQrCuwY+Ven481SopczYzrvhn/yOC/9cH/pXsVeO/DP/kcF/wCuD/0r2KvSwv8ADMp7mT4m/wCQHJ/vL/OuJrtvE3/IDk/3l/nXE18vnf8AvS9F+p7WX/wfmFFFFeGegXNI/wCQxa/9dRViXWZkkl8qGCOY5UzLHhiP8aywSDkHB9RRXTDETp0+SDtrcylSjKXNItWeoS2e8KqSRyffjkXKtSXN4J9my2hh2HP7tcE/U1WorP20+TkvoVyR5ua2pYa9lbUftp2+b5gk6cZFSQalLBNO5RJFuDmSNxlTzmqdFCrVE7p+YOEWrWLl1qct1ai3McUcSvvVY0xjjFJLqVxNfpdkqsqYwVHHFVKKbr1ZO7l2/Db7hKnBbIvSao73cdylvDFLG28lFxuPvTLbUpraWVlCOkxzJG65VvwqpRT+sVebmvqHs4WtYs3F4s+zZawQhTn5F+99amfVnMEkUFvBb+aNrtGmCR6VQoo9vUTbT3D2cNNAooorA0CrGn/8hO1/67J/MVXqxp//ACE7X/rsn8xWtL+JH1RE/hZ6JVLWf+QFf/8AXtJ/6Cau1S1n/kBX/wD17Sf+gmv0k+VPmmiiig3CiiigAooooAKKKKACiiigAooooAKKKKACiiigAooooAK+ivCH/ImaR/16R/8AoIr51r6K8If8iZpH/XpH/wCgigiZs14B4w/5HLVf+vlv517/AF4B4w/5HLVf+vlv5189n38GHr+h7WSfxpen6mLRRRXyJ9UFFFFABRRRQAUUUUAFFFFABRRRQAUUUUAFFFFABRRRQB7J8Kv+RPf/AK+n/wDQVrta4r4Vf8ie/wD19P8A+grXa1+g5f8A7rT9D4TH/wC9T9Qrz34sf8eOnf8AXR/5CvQq5rxl4Xn8TW9rHb3EcBhdmJcE5yPaumtFyptI446M8Uorvv8AhVF//wBBK2/74aj/AIVRf/8AQStv++GrzfYVOxrzI4Giu+/4VRf/APQStv8AvhqP+FUX/wD0Erb/AL4aj2FTsHMjgaK77/hVF/8A9BK2/wC+Go/4VRf/APQStv8AvhqPYVOwcyOBorvv+FUX/wD0Erb/AL4aj/hVF/8A9BK2/wC+Go9hU7BzI4Giu+/4VRf/APQStv8AvhqP+FUX/wD0Erb/AL4aj2FTsHMjgaK77/hVF/8A9BK2/wC+Go/4VRf/APQStv8AvhqPYVOwcyOBorvv+FUX/wD0Erb/AL4aj/hVF/8A9BK2/wC+Go9hU7BzI4Giu+/4VRf/APQStv8AvhqP+FUX/wD0Erb/AL4aj2FTsHMjgaK77/hVF/8A9BK2/wC+Go/4VRf/APQStv8AvhqPYVOwcyM/4Z/8jgv/AFwf+lexVxHhTwJdeHtcF9PeQzKI2TaikHn6129d+HjKELSM5O7MnxN/yA5P95f51xNd/q1i2o6e1ujhCxByfY1g/wDCIXH/AD8xfka+fzXB4iviFKnG6t/merg69OnTtJ21Oeorof8AhELj/n5i/I0f8Ihcf8/MX5GvK/szGfyfkdn1uh/Mc9RXQ/8ACIXH/PzF+Ro/4RC4/wCfmL8jR/ZmM/k/IPrdD+Y56iuh/wCEQuP+fmL8jR/wiFx/z8xfkaP7Mxn8n5B9bofzHPUV0P8AwiFx/wA/MX5Gj/hELj/n5i/I0f2ZjP5PyD63Q/mOeorof+EQuP8An5i/I0f8Ihcf8/MX5Gj+zMZ/J+QfW6H8xz1FdD/wiFx/z8xfkaP+EQuP+fmL8jR/ZmM/k/IPrdD+Y56iuh/4RC4/5+YvyNH/AAiFx/z8xfkaP7Mxn8n5B9bofzHPUV0P/CIXH/PzF+Ro/wCEQuP+fmL8jR/ZmM/k/IPrdD+Y56rGn/8AITtf+uyfzFbP/CIXH/PzF+RqS28KzwXcMpuIyI3ViADzg5q6eW4tTTcOvkTLFUXFrmOnqlrP/ICv/wDr2k/9BNXagvrc3en3NupCmaJowT2yCK+6Pnj5jor0b/hTmo/9BS1/74aj/hTmo/8AQUtf++GoNeZHnNFejf8ACnNR/wCgpa/98NR/wpzUf+gpa/8AfDUBzI85or0b/hTmo/8AQUtf++Go/wCFOaj/ANBS1/74agOZHnNFejf8Kc1H/oKWv/fDUf8ACnNR/wCgpa/98NQHMjzmivRv+FOaj/0FLX/vhqP+FOaj/wBBS1/74agOZHnNFejf8Kc1H/oKWv8A3w1H/CnNR/6Clr/3w1AcyPOaK9G/4U5qP/QUtf8AvhqP+FOaj/0FLX/vhqA5kec0V6N/wpzUf+gpa/8AfDUf8Kc1H/oKWv8A3w1AcyPOaK9G/wCFOaj/ANBS1/74aj/hTmo/9BS1/wC+GoDmR5zX0V4Q/wCRM0j/AK9I/wD0EV53/wAKc1H/AKClr/3w1en6JYPpehWVhI6u9tCsZZehIGM0EyaZerwDxh/yOWq/9fLfzr3+vN9b+GN7quuXl9HqFvGlxKXCsrZGa8XN8PVr0oxpK7TPUyqvToVJOo7aHl1Fehf8Ki1D/oJ23/fDUf8ACotQ/wCgnbf98NXzf9mYz+T8j6H+0sJ/P+Z57RXoX/CotQ/6Cdt/3w1H/CotQ/6Cdt/3w1H9mYz+T8g/tLCfz/mee0V6F/wqLUP+gnbf98NR/wAKi1D/AKCdt/3w1H9mYz+T8g/tLCfz/mee0V6F/wAKi1D/AKCdt/3w1H/CotQ/6Cdt/wB8NR/ZmM/k/IP7Swn8/wCZ57RXoX/CotQ/6Cdt/wB8NR/wqLUP+gnbf98NR/ZmM/k/IP7Swn8/5nntFehf8Ki1D/oJ23/fDUf8Ki1D/oJ23/fDUf2ZjP5PyD+0sJ/P+Z57RXoX/CotQ/6Cdt/3w1H/AAqLUP8AoJ23/fDUf2ZjP5PyD+0sJ/P+Z57RXoX/AAqLUP8AoJ23/fDUf8Ki1D/oJ23/AHw1H9mYz+T8g/tLCfz/AJnntFehf8Ki1D/oJ23/AHw1H/CotQ/6Cdt/3w1H9mYz+T8g/tLCfz/mdF8Kv+RPf/r6f/0Fa7WsHwf4fl8NaI1jcTJMxmaTcgIGCAMc/St6vs8HCVPDwhJWaR8jjJxqYicovRsKKKK6zlCiiigAooooAKKKKACiiigAooooAKKKKACiiigAooooAKKKKACiiigAooooAKKKKACiiigAooooAKKKKACiiigAooooAKKKKACiiigAooooAKKKKACiiigAooooAKKKKACiiigAooooAKKKKACiiigAooooAKKKKACiiigAooooAKKKKACiiigAooooAKKKKACiiigAooooAKKKKACiiigAooooAKKKKAP/2Q==)"
      ],
      "metadata": {
        "id": "EEOmUWuaaifu"
      }
    },
    {
      "cell_type": "markdown",
      "source": [
        "The reason that this is important is because it means that whatever idea we have in our head, we can implement it. We need never dig into the source code of PyTorch or fastai and hack together some one-off system to try out our ideas. And when we do implement our own callbacks to develop our own ideas, we know that they will work together with all of the other functionality provided by fastai–so we will get progress bars, mixed-precision training, hyperparameter annealing, and so forth.\n",
        "\n",
        "Another advantage is that it makes it easy to gradually remove or add functionality and perform ablation studies. You just need to adjust the list of callbacks you pass along to your fit function."
      ],
      "metadata": {
        "id": "oLR5noGPavtm"
      }
    },
    {
      "cell_type": "markdown",
      "source": [
        "As an example, here is the fastai source code that is run for each batch of the training loop:\n",
        "\n",
        "\n",
        "\n",
        "```\n",
        "try:\n",
        "    self._split(b);                                  self('before_batch')\n",
        "    self.pred = self.model(*self.xb);                self('after_pred')\n",
        "    self.loss = self.loss_func(self.pred, *self.yb); self('after_loss')\n",
        "    if not self.training: return\n",
        "    self.loss.backward();                            self('after_backward')\n",
        "    self.opt.step();                                 self('after_step')\n",
        "    self.opt.zero_grad()\n",
        "except CancelBatchException:                         self('after_cancel_batch')\n",
        "finally:                                             self('after_batch')\n",
        "```\n",
        "\n"
      ],
      "metadata": {
        "id": "jdz0CrzHbJNL"
      }
    },
    {
      "cell_type": "markdown",
      "source": [
        "The calls of the form self('...') are where the callbacks are called. As you see, this happens after every step. The callback will receive the entire state of training, and can also modify it. For instance, the input data and target labels are in self.xb and self.yb, respectively; a callback can modify these to alter the data the training loop sees. It can also modify self.loss, or even the gradients."
      ],
      "metadata": {
        "id": "r04n2becbOeK"
      }
    },
    {
      "cell_type": "markdown",
      "source": [
        "Here's the fastai source for the callback that adds RNN regularization "
      ],
      "metadata": {
        "id": "y85umRUzbR0v"
      }
    },
    {
      "cell_type": "code",
      "source": [
        "class RNNRegularizer(Callback):\n",
        "    def __init__(self, alpha=0., beta=0.): self.alpha,self.beta = alpha,beta\n",
        "\n",
        "    def after_pred(self):\n",
        "        self.raw_out,self.out = self.pred[1],self.pred[2]\n",
        "        self.learn.pred = self.pred[0]\n",
        "\n",
        "    def after_loss(self):\n",
        "        if not self.training: return\n",
        "        if self.alpha != 0.:\n",
        "            self.learn.loss += self.alpha * self.out[-1].float().pow(2).mean()\n",
        "        if self.beta != 0.:\n",
        "            h = self.raw_out[-1]\n",
        "            if len(h)>1:\n",
        "                self.learn.loss += self.beta * (h[:,1:] - h[:,:-1]\n",
        "                                               ).float().pow(2).mean()"
      ],
      "metadata": {
        "id": "MlOVZEXrbZve"
      },
      "execution_count": null,
      "outputs": []
    },
    {
      "cell_type": "markdown",
      "source": [
        "notice how we can access attributes of the training loop by directly checking self.model or self.pred. That's because a Callback will always try to get an attribute it doesn't have inside the Learner associated with it. These are shortcuts for self.learn.model or self.learn.pred. Note that they work for reading attributes, but not for writing them, which is why when RNNRegularizer changes the loss or the predictions you see self.learn.loss = or self.learn.pred =."
      ],
      "metadata": {
        "id": "mIYnPe5Jbn9u"
      }
    },
    {
      "cell_type": "markdown",
      "source": [
        "# Conclusion"
      ],
      "metadata": {
        "id": "s4culJ_hb597"
      }
    },
    {
      "cell_type": "markdown",
      "source": [
        "In this chapter we took a close look at the training loop, exploring different variants of SGD and why they can be more powerful. At the time of writing, developing new optimizers is a very active area of research, so by the time you read this chapter there may be an addendum on the book's website that presents new variants. Be sure to check out how our general optimizer framework can help you implement new optimizers very quickly.\n",
        "\n",
        "We also examined the powerful callback system that allows you to customize every bit of the training loop by enabling you to inspect and modify any parameter you like between each step."
      ],
      "metadata": {
        "id": "WYj8FGb3b8PN"
      }
    }
  ],
  "metadata": {
    "accelerator": "GPU",
    "colab": {
      "provenance": [],
      "machine_shape": "hm",
      "authorship_tag": "ABX9TyNs8g3veFFucQwUXEEznqQ2",
      "include_colab_link": true
    },
    "gpuClass": "premium",
    "kernelspec": {
      "display_name": "Python 3",
      "name": "python3"
    },
    "language_info": {
      "name": "python"
    }
  },
  "nbformat": 4,
  "nbformat_minor": 0
}