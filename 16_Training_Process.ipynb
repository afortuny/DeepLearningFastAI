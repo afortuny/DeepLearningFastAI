{
  "nbformat": 4,
  "nbformat_minor": 0,
  "metadata": {
    "colab": {
      "provenance": [],
      "authorship_tag": "ABX9TyPXKpP1Pe2Z6hm1OmF3BXHn",
      "include_colab_link": true
    },
    "kernelspec": {
      "name": "python3",
      "display_name": "Python 3"
    },
    "language_info": {
      "name": "python"
    }
  },
  "cells": [
    {
      "cell_type": "markdown",
      "metadata": {
        "id": "view-in-github",
        "colab_type": "text"
      },
      "source": [
        "<a href=\"https://colab.research.google.com/github/afortuny/DeepLearningFastAI/blob/main/16_Training_Process.ipynb\" target=\"_parent\"><img src=\"https://colab.research.google.com/assets/colab-badge.svg\" alt=\"Open In Colab\"/></a>"
      ]
    },
    {
      "cell_type": "code",
      "execution_count": 1,
      "metadata": {
        "id": "zQFod78-ygRC",
        "colab": {
          "base_uri": "https://localhost:8080/"
        },
        "outputId": "ba986980-d468-4d13-ed73-216488f88103"
      },
      "outputs": [
        {
          "output_type": "stream",
          "name": "stdout",
          "text": [
            "\u001b[K     |████████████████████████████████| 719 kB 5.1 MB/s \n",
            "\u001b[K     |████████████████████████████████| 431 kB 55.5 MB/s \n",
            "\u001b[K     |████████████████████████████████| 1.3 MB 42.4 MB/s \n",
            "\u001b[K     |████████████████████████████████| 4.9 MB 21.3 MB/s \n",
            "\u001b[K     |████████████████████████████████| 212 kB 60.6 MB/s \n",
            "\u001b[K     |████████████████████████████████| 115 kB 49.4 MB/s \n",
            "\u001b[K     |████████████████████████████████| 163 kB 70.1 MB/s \n",
            "\u001b[K     |████████████████████████████████| 127 kB 67.5 MB/s \n",
            "\u001b[K     |████████████████████████████████| 6.6 MB 51.2 MB/s \n",
            "\u001b[?25hMounted at /content/gdrive\n"
          ]
        }
      ],
      "source": [
        "#hide\n",
        "! [ -e /content ] && pip install -Uqq fastbook\n",
        "import fastbook\n",
        "fastbook.setup_book()"
      ]
    },
    {
      "cell_type": "code",
      "source": [
        "#hide\n",
        "from fastbook import *"
      ],
      "metadata": {
        "id": "5biX3fM1_TCr"
      },
      "execution_count": 2,
      "outputs": []
    }
  ]
}