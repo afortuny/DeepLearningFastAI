{
  "nbformat": 4,
  "nbformat_minor": 0,
  "metadata": {
    "colab": {
      "provenance": [],
      "authorship_tag": "ABX9TyNofzBgbWZtvY1CGotF27R4",
      "include_colab_link": true
    },
    "kernelspec": {
      "name": "python3",
      "display_name": "Python 3"
    },
    "language_info": {
      "name": "python"
    },
    "accelerator": "GPU"
  },
  "cells": [
    {
      "cell_type": "markdown",
      "metadata": {
        "id": "view-in-github",
        "colab_type": "text"
      },
      "source": [
        "<a href=\"https://colab.research.google.com/github/afortuny/DeepLearningFastAI/blob/main/14_2_Resnet_Deep_Dive.ipynb\" target=\"_parent\"><img src=\"https://colab.research.google.com/assets/colab-badge.svg\" alt=\"Open In Colab\"/></a>"
      ]
    },
    {
      "cell_type": "code",
      "execution_count": 2,
      "metadata": {
        "id": "U0rDKnEGDqoV",
        "colab": {
          "base_uri": "https://localhost:8080/"
        },
        "outputId": "ebf8a9a3-3aa5-4c99-d723-f45d36c3cf2f"
      },
      "outputs": [
        {
          "output_type": "stream",
          "name": "stdout",
          "text": [
            "Mounted at /content/gdrive\n"
          ]
        }
      ],
      "source": [
        "#hide\n",
        "! [ -e /content ] && pip install -Uqq fastbook\n",
        "import fastbook\n",
        "fastbook.setup_book()"
      ]
    },
    {
      "cell_type": "code",
      "source": [
        "#hide\n",
        "from fastbook import *"
      ],
      "metadata": {
        "id": "eanMo0j378Oq"
      },
      "execution_count": null,
      "outputs": []
    },
    {
      "cell_type": "markdown",
      "source": [
        "# ResNets"
      ],
      "metadata": {
        "id": "U4dgBedyEXyF"
      }
    },
    {
      "cell_type": "markdown",
      "source": [
        "In this chapter, we will build on top of the CNNs introduced in the previous chapter and explain to you the ResNet (residual network) architecture. It was introduced in 2015 by Kaiming He et al. in the article \"Deep Residual Learning for Image Recognition\" and is by far the most used model architecture nowadays. More recent developments in image models almost always use the same trick of residual connections, and most of the time, they are just a tweak of the original ResNet.\n",
        "\n",
        "We will first show you the basic ResNet as it was first designed, then explain to you what modern tweaks make it more performant. But first, we will need a problem a little bit more difficult than the MNIST dataset, since we are already close to 100% accuracy with a regular CNN on it."
      ],
      "metadata": {
        "id": "gjqxZbHSEaJe"
      }
    },
    {
      "cell_type": "markdown",
      "source": [
        "#Going Back to Imagenette"
      ],
      "metadata": {
        "id": "hS_cR_cjEod9"
      }
    },
    {
      "cell_type": "markdown",
      "source": [
        "It's going to be tough to judge any improvements we make to our models when we are already at an accuracy that is as high as we saw on MNIST in the previous chapter, so we will tackle a tougher image classification problem by going back to Imagenette. We'll stick with small images to keep things reasonably fast.\n",
        "\n",
        "Let's grab the data—we'll use the already-resized 160 px version to make things faster still, and will random crop to 128 px:"
      ],
      "metadata": {
        "id": "USw96PV9EqSS"
      }
    },
    {
      "cell_type": "code",
      "source": [
        "def get_data(url, presize, resize):\n",
        "    path = untar_data(url)\n",
        "    return DataBlock(\n",
        "        blocks=(ImageBlock, CategoryBlock), get_items=get_image_files, \n",
        "        splitter=GrandparentSplitter(valid_name='val'),\n",
        "        get_y=parent_label, item_tfms=Resize(presize),\n",
        "        batch_tfms=[*aug_transforms(min_scale=0.5, size=resize),\n",
        "                    Normalize.from_stats(*imagenet_stats)],\n",
        "    ).dataloaders(path, bs=128)"
      ],
      "metadata": {
        "id": "BfXLEWKoExf4"
      },
      "execution_count": null,
      "outputs": []
    },
    {
      "cell_type": "code",
      "source": [
        "dls = get_data(URLs.IMAGENETTE_160, 160, 128)"
      ],
      "metadata": {
        "id": "IcGpIf7UE0tC"
      },
      "execution_count": null,
      "outputs": []
    },
    {
      "cell_type": "code",
      "source": [
        "dls.show_batch(max_n=4)"
      ],
      "metadata": {
        "id": "MQn9tocjE5bt"
      },
      "execution_count": null,
      "outputs": []
    },
    {
      "cell_type": "markdown",
      "source": [
        "When we looked at MNIST we were dealing with 28×28-pixel images. For Imagenette we are going to be training with 128×128-pixel images. Later, we would like to be able to use larger images as well—at least as big as 224×224 pixels, the ImageNet standard. Do you recall how we managed to get a single vector of activations for each image out of the MNIST convolutional neural network?\n",
        "\n",
        "The approach we used was to ensure that there were enough stride-2 convolutions such that the final layer would have a grid size of 1. Then we just flattened out the unit axes that we ended up with, to get a vector for each image (so, a matrix of activations for a mini-batch). We could do the same thing for Imagenette, but that would cause two problems:\n",
        "\n",
        "We'd need lots of stride-2 layers to make our grid 1×1 at the end—perhaps more than we would otherwise choose.\n",
        "The model would not work on images of any size other than the size we originally trained on.\n",
        "One approach to dealing with the first of these issues would be to flatten the final convolutional layer in a way that handles a grid size other than 1×1. That is, we could simply flatten a matrix into a vector as we have done before, by laying out each row after the previous row. In fact, this is the approach that convolutional neural networks up until 2013 nearly always took. The most famous example is the 2013 ImageNet winner VGG, still sometimes used today. But there was another problem with this architecture: not only did it not work with images other than those of the same size used in the training set, but it required a lot of memory, because flattening out the convolutional layer resulted in many activations being fed into the final layers. Therefore, the weight matrices of the final layers were enormous.\n",
        "\n",
        "This problem was solved through the creation of fully convolutional networks. The trick in fully convolutional networks is to take the average of activations across a convolutional grid. In other words, we can simply use this function:"
      ],
      "metadata": {
        "id": "gign8Fh93c7m"
      }
    },
    {
      "cell_type": "code",
      "source": [
        "def avg_pool(x): return x.mean((2,3))"
      ],
      "metadata": {
        "id": "LG-Ap6KX39E6"
      },
      "execution_count": null,
      "outputs": []
    },
    {
      "cell_type": "markdown",
      "source": [
        "As you see, it is taking the mean over the x- and y-axes. This function will always convert a grid of activations into a single activation per image. PyTorch provides a slightly more versatile module called nn.AdaptiveAvgPool2d, which averages a grid of activations into whatever sized destination you require (although we nearly always use a size of 1).\n",
        "\n",
        "A fully convolutional network, therefore, has a number of convolutional layers, some of which will be stride 2, at the end of which is an adaptive average pooling layer, a flatten layer to remove the unit axes, and finally a linear layer. Here is our first fully convolutional network:"
      ],
      "metadata": {
        "id": "1CA-dvow4HqY"
      }
    },
    {
      "cell_type": "code",
      "source": [
        "def block(ni, nf): return ConvLayer(ni, nf, stride=2)\n",
        "def get_model():\n",
        "    return nn.Sequential(\n",
        "        block(3, 16),\n",
        "        block(16, 32),\n",
        "        block(32, 64),\n",
        "        block(64, 128),\n",
        "        block(128, 256),\n",
        "        nn.AdaptiveAvgPool2d(1),\n",
        "        Flatten(),\n",
        "        nn.Linear(256, dls.c))"
      ],
      "metadata": {
        "id": "see7Lqiv4RAF"
      },
      "execution_count": null,
      "outputs": []
    },
    {
      "cell_type": "markdown",
      "source": [
        "We're going to be replacing the implementation of block in the network with other variants in a moment, which is why we're not calling it conv any more. We're also saving some time by taking advantage of fastai's ConvLayer, which that already provides the functionality of conv from the last chapter (plus a lot more!)."
      ],
      "metadata": {
        "id": "xW6Uz12C4aCa"
      }
    },
    {
      "cell_type": "markdown",
      "source": [
        "!!! REMEMBER : Fully convolutional networks are only really a good choice for objects that don't have a single correct orientation or size (e.g., like most natural photos)."
      ],
      "metadata": {
        "id": "SR5_KPWb45Sh"
      }
    },
    {
      "cell_type": "markdown",
      "source": [
        "Once we are done with our convolutional layers, we will get activations of size bs x ch x h x w (batch size, a certain number of channels, height, and width). We want to convert this to a tensor of size bs x ch, so we take the average over the last two dimensions and flatten the trailing 1×1 dimension like we did in our previous model.\n",
        "\n",
        "This is different from regular pooling in the sense that those layers will generally take the average (for average pooling) or the maximum (for max pooling) of a window of a given size. For instance, max pooling layers of size 2, which were very popular in older CNNs, reduce the size of our image by half on each dimension by taking the maximum of each 2×2 window (with a stride of 2).\n",
        "\n",
        "As before, we can define a Learner with our custom model and then train it on the data we grabbed earlier:"
      ],
      "metadata": {
        "id": "kV_n-qMQ5Gw6"
      }
    },
    {
      "cell_type": "code",
      "source": [
        "def get_learner(m):\n",
        "    return Learner(dls, m, loss_func=nn.CrossEntropyLoss(), metrics=accuracy\n",
        "                  ).to_fp16()\n",
        "\n",
        "learn = get_learner(get_model())"
      ],
      "metadata": {
        "id": "Wvahh5Ke4bTn"
      },
      "execution_count": null,
      "outputs": []
    },
    {
      "cell_type": "code",
      "source": [
        "learn.lr_find()"
      ],
      "metadata": {
        "id": "cTon3HbE8LxR"
      },
      "execution_count": null,
      "outputs": []
    },
    {
      "cell_type": "code",
      "source": [
        "learn.fit_one_cycle(5, 3e-3)"
      ],
      "metadata": {
        "id": "49MRfbmq8NzC"
      },
      "execution_count": null,
      "outputs": []
    },
    {
      "cell_type": "markdown",
      "source": [
        "That's a pretty good start, considering we have to pick the correct one of 10 categories, and we're training from scratch for just 5 epochs! We can do way better than this using a deeper mode, but just stacking new layers won't really improve our results (you can try and see for yourself!). To work around this problem, ResNets introduce the idea of skip connections. We'll explore those and other aspects of ResNets in the next section."
      ],
      "metadata": {
        "id": "zZHQ1W0d8WNm"
      }
    },
    {
      "cell_type": "markdown",
      "source": [
        "# Building a Modern CNN: ResNet"
      ],
      "metadata": {
        "id": "EoJMzpNI8ian"
      }
    },
    {
      "cell_type": "markdown",
      "source": [
        "We now have all the pieces we need to build the models we have been using in our computer vision tasks since the beginning of this book: ResNets. We'll introduce the main idea behind them and show how it improves accuracy on Imagenette compared to our previous model, before building a version with all the recent tweaks."
      ],
      "metadata": {
        "id": "M9niO69K8jsS"
      }
    },
    {
      "cell_type": "markdown",
      "source": [
        "# Skip Connections"
      ],
      "metadata": {
        "id": "ma6_IUfW8vsS"
      }
    },
    {
      "cell_type": "markdown",
      "source": [
        "In 2015, the authors of the ResNet paper noticed something that they found curious. Even after using batchnorm, they saw that a network using more layers was doing less well than a network using fewer layers—and there were no other differences between the models. Most interestingly, the difference was observed not only in the validation set, but also in the training set; so, it wasn't just a generalization issue, but a training issue. As the paper explains:"
      ],
      "metadata": {
        "id": "j2ejCWh78zBy"
      }
    },
    {
      "cell_type": "markdown",
      "source": [
        "*Unexpectedly, such degradation is not caused by overfitting, and adding more layers to a suitably deep model leads to higher training error, as [previously reported] and thoroughly verified by our experiments.*"
      ],
      "metadata": {
        "id": "Mrt61VH49CE3"
      }
    },
    {
      "cell_type": "markdown",
      "source": [
        "As the authors mention here, they are not the first people to have noticed this curious fact. But they were the first to make a very important leap:"
      ],
      "metadata": {
        "id": "Yw8pAXBj9QO8"
      }
    },
    {
      "cell_type": "markdown",
      "source": [
        "*Let us consider a shallower architecture and its deeper counterpart that adds more layers onto it. There exists a solution by construction to the deeper model: the added layers are identity mapping, and the other layers are copied from the learned shallower model*"
      ],
      "metadata": {
        "id": "X9SBbNGH9Q8S"
      }
    },
    {
      "cell_type": "markdown",
      "source": [
        "In other words, they suggest to tart with a 20-layer neural network that is trained well, and add another 36 layers that do nothing at all (for instance, they could be linear layers with a single weight equal to 1, and bias equal to 0). The result will be a 56-layer network that does exactly the same thing as the 20-layer network, proving that there are always deep networks that should be at least as good as any shallow network. But for some reason, SGD does not seem able to find them."
      ],
      "metadata": {
        "id": "ovfzRAxg9Z77"
      }
    },
    {
      "cell_type": "markdown",
      "source": [
        "Actually, there is another way to create those extra 36 layers, which is much more interesting. What if we replaced every occurrence of conv(x) with x + conv(x), where conv is the function from the previous chapter that adds a second convolution, then a batchnorm layer, then a ReLU. Furthermore, recall that batchnorm does gamma*y + beta. What if we initialized gamma to zero for every one of those final batchnorm layers? Then our conv(x) for those extra 36 layers will always be equal to zero, which means x+conv(x) will always be equal to x."
      ],
      "metadata": {
        "id": "xlzmQvJf9nip"
      }
    },
    {
      "cell_type": "markdown",
      "source": [
        "What has that gained us? The key thing is that those 36 extra layers, as they stand, are an identity mapping, but they have parameters, which means they are trainable. So, we can start with our best 20-layer model, add these 36 extra layers which initially do nothing at all, and then fine-tune the whole 56-layer model. Those extra 36 layers can then learn the parameters that make them most useful.The ResNet paper actually proposed a variant of this, which is to instead \"skip over\" every second convolution, so effectively we get x+conv2(conv1(x)) as follows:"
      ],
      "metadata": {
        "id": "4ivurgas91Qy"
      }
    },
    {
      "cell_type": "markdown",
      "source": [
        "![Capture.JPG](data:image/jpeg;base64,/9j/4AAQSkZJRgABAQEAkACQAAD/4REKRXhpZgAATU0AKgAAAAgABAE7AAIAAAAVAAAISodpAAQAAAABAAAIYJydAAEAAAAqAAAQ2OocAAcAAAgMAAAAPgAAAAAc6gAAAAgAAAAAAAAAAAAAAAAAAAAAAAAAAAAAAAAAAAAAAAAAAAAAAAAAAAAAAAAAAAAAAAAAAAAAAAAAAAAAAAAAAAAAAAAAAAAAAAAAAAAAAAAAAAAAAAAAAAAAAAAAAAAAAAAAAAAAAAAAAAAAAAAAAAAAAAAAAAAAAAAAAAAAAAAAAAAAAAAAAAAAAAAAAAAAAAAAAAAAAAAAAAAAAAAAAAAAAAAAAAAAAAAAAAAAAAAAAAAAAAAAAAAAAAAAAAAAAAAAAAAAAAAAAAAAAAAAAAAAAAAAAAAAAAAAAAAAAAAAAAAAAAAAAAAAAAAAAAAAAAAAAAAAAAAAAAAAAAAAAAAAAAAAAAAAAAAAAAAAAAAAAAAAAAAAAAAAAAAAAAAAAAAAAAAAAAAAAAAAAAAAAAAAAAAAAAAAAAAAAAAAAAAAAAAAAAAAAAAAAAAAAAAAAAAAAAAAAAAAAAAAAAAAAAAAAAAAAAAAAAAAAAAAAAAAAAAAAAAAAAAAAAAAAAAAAAAAAAAAAAAAAAAAAAAAAAAAAAAAAAAAAAAAAAAAAAAAAAAAAAAAAAAAAAAAAAAAAAAAAAAAAAAAAAAAAAAAAAAAAAAAAAAAAAAAAAAAAAAAAAAAAAAAAAAAAAAAAAAAAAAAAAAAAAAAAAAAAAAAAAAAAAAAAAAAAAAAAAAAAAAAAAAAAAAAAAAAAAAAAAAAAAAAAAAAAAAAAAAAAAAAAAAAAAAAAAAAAAAAAAAAAAAAAAAAAAAAAAAAAAAAAAAAAAAAAAAAAAAAAAAAAAAAAAAAAAAAAAAAAAAAAAAAAAAAAAAAAAAAAAAAAAAAAAAAAAAAAAAAAAAAAAAAAAAAAAAAAAAAAAAAAAAAAAAAAAAAAAAAAAAAAAAAAAAAAAAAAAAAAAAAAAAAAAAAAAAAAAAAAAAAAAAAAAAAAAAAAAAAAAAAAAAAAAAAAAAAAAAAAAAAAAAAAAAAAAAAAAAAAAAAAAAAAAAAAAAAAAAAAAAAAAAAAAAAAAAAAAAAAAAAAAAAAAAAAAAAAAAAAAAAAAAAAAAAAAAAAAAAAAAAAAAAAAAAAAAAAAAAAAAAAAAAAAAAAAAAAAAAAAAAAAAAAAAAAAAAAAAAAAAAAAAAAAAAAAAAAAAAAAAAAAAAAAAAAAAAAAAAAAAAAAAAAAAAAAAAAAAAAAAAAAAAAAAAAAAAAAAAAAAAAAAAAAAAAAAAAAAAAAAAAAAAAAAAAAAAAAAAAAAAAAAAAAAAAAAAAAAAAAAAAAAAAAAAAAAAAAAAAAAAAAAAAAAAAAAAAAAAAAAAAAAAAAAAAAAAAAAAAAAAAAAAAAAAAAAAAAAAAAAAAAAAAAAAAAAAAAAAAAAAAAAAAAAAAAAAAAAAAAAAAAAAAAAAAAAAAAAAAAAAAAAAAAAAAAAAAAAAAAAAAAAAAAAAAAAAAAAAAAAAAAAAAAAAAAAAAAAAAAAAAAAAAAAAAAAAAAAAAAAAAAAAAAAAAAAAAAAAAAAAAAAAAAAAAAAAAAAAAAAAAAAAAAAAAAAAAAAAAAAAAAAAAAAAAAAAAAAAAAAAAAAAAAAAAAAAAAAAAAAAAAAAAAAAAAAAAAAAAAAAAAAAAAAAAAAAAAAAAAAAAAAAAAAAAAAAAAAAAAAAAAAAAAAAAAAAAAAAAAAAAAAAAAAAAAAAAAAAAAAAAAAAAAAAAAAAAAAAAAAAAAAAAAAAAAAAAAAAAAAAAAAAAAAAAAAAAAAAAAAAAAAAAAAAAAAAAAAAAAAAAAAAAAAAAAAAAAAAAAAAAAAAAAAAAAAAAAAAAAAAAAAAAAAAAAAAAAAAAAAAAAAAAAAAAAAAAAAAAAAAAAAAAAAAAAAAAAAAAAAAAAAAAAAAAAAAAAAAAAAAAAAAAAAAAAAAAAAAAAAAAAAAAAAAAAAAAAAAAAAAAAAAAAAAAAAAAAAAAAAAAAAAAAAAAAAAAAAAAAAAAAAAAAAAAAAAAAAAAAAAAAAAAAAAAAAAAAAAAAAAAAAAAAAAAAAAAAAAAAAAAAAAAAAAAAAAAAAAAAAAAAAAAAAAAAAAAAAAAAAAAAAAAAAAAAAAAAAAAAAAAAAAAAAAAAAAAAAAAAAAAAAAAAAAAAAAAAAAAAAAAAAAAAAAAAAAAAAAAAAAAAAAAAAAAAAAAAAAAAAAAAAAAAAAAAAAAAAAAAAAAAAAAAAAAAAAAAAAAAAAAAAAAAAAAAAAAAAAAAAAAAAAAAAAAAAAAAAAAAAAAAAAAAAAAAAAAAAAAAAAAAAAAAAAAAAAAAAAAAAAAAAAAAAAAAAAAAAAAAAAAAAAAAAAAAAAAAAAAAAAAAAAAAAAAAAAAAAAAAAAAAAAAAAAAAAAAAAAAAAAAAAAAAAAAAAAAAAAAAAAAAAAAAAAAAAAAAAAAAAAAAAAAAAAAAAAAAAAAAAAAAAAAAAAAAAAAAAAAAAAAAAAAAAAAAAAAAAAAAAAAAAAAAAAAAAAAAAAAAAAAAAAAAAAAAAAAAAAAAAAAAAAAAAAAAAAAAAAAAAAAAAAAAAAAAAAAAAAAAAAAAAAAAAAAAAAAAAAAAAAAAAAAAAAAAAAAAAAAAAAAAAAAAAAAAAAAAAAAAAAAAAAAAAAAAAAAAAAAAAAAAAAAAAAAAAAAAAAAAAAAAAAAAAAAAAAAAAAAAAAAAAAAAAAAAAAAAAAAAAAAAAAAAAAAAAAAAAAAAAAAAAAAAAAAAAAAAAAAAAAAAAAAAAAAAAAAAAAAEZvcnR1bnkgU2ljYXJ0LCBBbGFuAAAABZADAAIAAAAUAAAQrpAEAAIAAAAUAAAQwpKRAAIAAAADNzcAAJKSAAIAAAADNzcAAOocAAcAAAgMAAAIogAAAAAc6gAAAAgAAAAAAAAAAAAAAAAAAAAAAAAAAAAAAAAAAAAAAAAAAAAAAAAAAAAAAAAAAAAAAAAAAAAAAAAAAAAAAAAAAAAAAAAAAAAAAAAAAAAAAAAAAAAAAAAAAAAAAAAAAAAAAAAAAAAAAAAAAAAAAAAAAAAAAAAAAAAAAAAAAAAAAAAAAAAAAAAAAAAAAAAAAAAAAAAAAAAAAAAAAAAAAAAAAAAAAAAAAAAAAAAAAAAAAAAAAAAAAAAAAAAAAAAAAAAAAAAAAAAAAAAAAAAAAAAAAAAAAAAAAAAAAAAAAAAAAAAAAAAAAAAAAAAAAAAAAAAAAAAAAAAAAAAAAAAAAAAAAAAAAAAAAAAAAAAAAAAAAAAAAAAAAAAAAAAAAAAAAAAAAAAAAAAAAAAAAAAAAAAAAAAAAAAAAAAAAAAAAAAAAAAAAAAAAAAAAAAAAAAAAAAAAAAAAAAAAAAAAAAAAAAAAAAAAAAAAAAAAAAAAAAAAAAAAAAAAAAAAAAAAAAAAAAAAAAAAAAAAAAAAAAAAAAAAAAAAAAAAAAAAAAAAAAAAAAAAAAAAAAAAAAAAAAAAAAAAAAAAAAAAAAAAAAAAAAAAAAAAAAAAAAAAAAAAAAAAAAAAAAAAAAAAAAAAAAAAAAAAAAAAAAAAAAAAAAAAAAAAAAAAAAAAAAAAAAAAAAAAAAAAAAAAAAAAAAAAAAAAAAAAAAAAAAAAAAAAAAAAAAAAAAAAAAAAAAAAAAAAAAAAAAAAAAAAAAAAAAAAAAAAAAAAAAAAAAAAAAAAAAAAAAAAAAAAAAAAAAAAAAAAAAAAAAAAAAAAAAAAAAAAAAAAAAAAAAAAAAAAAAAAAAAAAAAAAAAAAAAAAAAAAAAAAAAAAAAAAAAAAAAAAAAAAAAAAAAAAAAAAAAAAAAAAAAAAAAAAAAAAAAAAAAAAAAAAAAAAAAAAAAAAAAAAAAAAAAAAAAAAAAAAAAAAAAAAAAAAAAAAAAAAAAAAAAAAAAAAAAAAAAAAAAAAAAAAAAAAAAAAAAAAAAAAAAAAAAAAAAAAAAAAAAAAAAAAAAAAAAAAAAAAAAAAAAAAAAAAAAAAAAAAAAAAAAAAAAAAAAAAAAAAAAAAAAAAAAAAAAAAAAAAAAAAAAAAAAAAAAAAAAAAAAAAAAAAAAAAAAAAAAAAAAAAAAAAAAAAAAAAAAAAAAAAAAAAAAAAAAAAAAAAAAAAAAAAAAAAAAAAAAAAAAAAAAAAAAAAAAAAAAAAAAAAAAAAAAAAAAAAAAAAAAAAAAAAAAAAAAAAAAAAAAAAAAAAAAAAAAAAAAAAAAAAAAAAAAAAAAAAAAAAAAAAAAAAAAAAAAAAAAAAAAAAAAAAAAAAAAAAAAAAAAAAAAAAAAAAAAAAAAAAAAAAAAAAAAAAAAAAAAAAAAAAAAAAAAAAAAAAAAAAAAAAAAAAAAAAAAAAAAAAAAAAAAAAAAAAAAAAAAAAAAAAAAAAAAAAAAAAAAAAAAAAAAAAAAAAAAAAAAAAAAAAAAAAAAAAAAAAAAAAAAAAAAAAAAAAAAAAAAAAAAAAAAAAAAAAAAAAAAAAAAAAAAAAAAAAAAAAAAAAAAAAAAAAAAAAAAAAAAAAAAAAAAAAAAAAAAAAAAAAAAAAAAAAAAAAAAAAAAAAAAAAAAAAAAAAAAAAAAAAAAAAAAAAAAAAAAAAAAAAAAAAAAAAAAAAAAAAAAAAAAAAAAAAAAAAAAAAAAAAAAAAAAAAAAAAAAAAAAAAAAAAAAAAAAAAAAAAAAAAAAAAAAAAAAAAAAAAAAAAAAAAAAAAAAAAAAAAAAAAAAAAAAAAAAAAAAAAAAAAAAAAAAAAAAAAAAAAAAAAAAAAAAAAAAAAAAAAAAAAAAAAAAAAAAAAAAAAAAAAAAAAAAAAAAAAAAAAAAAAAAAAAAAAAAAAAAAAAAAAAAAAAAAAAAAAAAAAAAAAAAAAAAAAAAAAAAAAAAAAAAAAAAAAAAAAAAAAAAAAAAAAAAAAAAAAAAAAAAAAAAAAAAAAAAAAAAAAAAAAAAAAAAAAAAAAAAAAAAAAAAAAAAAAAAAAAAAAAAAAAAAAAAAAAAAAAAAAAAAAAAAAAAAAAAAAAAAAAAAAAAAAAAAAAAAAAAAAAAAAAAAAAAAAAAAAAAAAAAAAAAAAAAAAAAAAAAAAAAAAAAAAAAAAAAAAAAAAAAAAAAAAAAAAAAAAAAAAAAAAAAAAAAAAAAAAAAAAAAAAAAAAAAAAAAAAAAAAAAAAAAAAAAAAAAAAAAAAAAAAAAAAAAAAAAAAAAAAAAAAAAAAAAAAAAAAAAAAAAAAAAAAAAAAAAAAAAAAAAAAAAAAAAAAAAAAAAAAAAAAAAAAAAAAAAAAAAAAAAAAAAAAAAAAAAAAAAAAAAAAAAAAAAAAAAAAAAAAAAAAAAAAAAAAAAAAAAAAAAAAAAAAAAAAAAAAAAAAAAAAAAAAAAAAAAAAAAAAAAAAAAAAAAAAAAAAAAAAAAAAAAAAAAAAAAAAAAAAAAAAAAAAAAAAAAAAAAAAAAAAAAAAAAAAAAAAAAAAAAAAAAAAAAAAAAAAAAAAAAAAAAAAAAAAAAAAAAAAAAAAAAAAAAAAAAAAAAAAAAAAAAAAAAAAAAAAAAAAAAAAAAAAAAAAAAAAAAAAAAAAAAAAAAAAAAAAAAAAAAAAAAAAAAAAAAAAAAAAAAAAAAAAAAAAAAAAAAAAAAAAAAAAAAAAAAAAAAAAAAAAAAAAAAAAAAAAAAADIwMjI6MDk6MTkgMTU6Mzg6MzAAMjAyMjowOToxOSAxNTozODozMAAAAEYAbwByAHQAdQBuAHkAIABTAGkAYwBhAHIAdAAsACAAQQBsAGEAbgAAAP/hCydodHRwOi8vbnMuYWRvYmUuY29tL3hhcC8xLjAvADw/eHBhY2tldCBiZWdpbj0n77u/JyBpZD0nVzVNME1wQ2VoaUh6cmVTek5UY3prYzlkJz8+DQo8eDp4bXBtZXRhIHhtbG5zOng9ImFkb2JlOm5zOm1ldGEvIj48cmRmOlJERiB4bWxuczpyZGY9Imh0dHA6Ly93d3cudzMub3JnLzE5OTkvMDIvMjItcmRmLXN5bnRheC1ucyMiPjxyZGY6RGVzY3JpcHRpb24gcmRmOmFib3V0PSJ1dWlkOmZhZjViZGQ1LWJhM2QtMTFkYS1hZDMxLWQzM2Q3NTE4MmYxYiIgeG1sbnM6ZGM9Imh0dHA6Ly9wdXJsLm9yZy9kYy9lbGVtZW50cy8xLjEvIi8+PHJkZjpEZXNjcmlwdGlvbiByZGY6YWJvdXQ9InV1aWQ6ZmFmNWJkZDUtYmEzZC0xMWRhLWFkMzEtZDMzZDc1MTgyZjFiIiB4bWxuczp4bXA9Imh0dHA6Ly9ucy5hZG9iZS5jb20veGFwLzEuMC8iPjx4bXA6Q3JlYXRlRGF0ZT4yMDIyLTA5LTE5VDE1OjM4OjMwLjc3NDwveG1wOkNyZWF0ZURhdGU+PC9yZGY6RGVzY3JpcHRpb24+PHJkZjpEZXNjcmlwdGlvbiByZGY6YWJvdXQ9InV1aWQ6ZmFmNWJkZDUtYmEzZC0xMWRhLWFkMzEtZDMzZDc1MTgyZjFiIiB4bWxuczpkYz0iaHR0cDovL3B1cmwub3JnL2RjL2VsZW1lbnRzLzEuMS8iPjxkYzpjcmVhdG9yPjxyZGY6U2VxIHhtbG5zOnJkZj0iaHR0cDovL3d3dy53My5vcmcvMTk5OS8wMi8yMi1yZGYtc3ludGF4LW5zIyI+PHJkZjpsaT5Gb3J0dW55IFNpY2FydCwgQWxhbjwvcmRmOmxpPjwvcmRmOlNlcT4NCgkJCTwvZGM6Y3JlYXRvcj48L3JkZjpEZXNjcmlwdGlvbj48L3JkZjpSREY+PC94OnhtcG1ldGE+DQogICAgICAgICAgICAgICAgICAgICAgICAgICAgICAgICAgICAgICAgICAgICAgICAgICAgICAgICAgICAgICAgICAgICAgICAgICAgICAgICAgICAgICAgICAgICAgICAgICAgCiAgICAgICAgICAgICAgICAgICAgICAgICAgICAgICAgICAgICAgICAgICAgICAgICAgICAgICAgICAgICAgICAgICAgICAgICAgICAgICAgICAgICAgICAgICAgICAgICAgICAKICAgICAgICAgICAgICAgICAgICAgICAgICAgICAgICAgICAgICAgICAgICAgICAgICAgICAgICAgICAgICAgICAgICAgICAgICAgICAgICAgICAgICAgICAgICAgICAgICAgIAogICAgICAgICAgICAgICAgICAgICAgICAgICAgICAgICAgICAgICAgICAgICAgICAgICAgICAgICAgICAgICAgICAgICAgICAgICAgICAgICAgICAgICAgICAgICAgICAgICAgCiAgICAgICAgICAgICAgICAgICAgICAgICAgICAgICAgICAgICAgICAgICAgICAgICAgICAgICAgICAgICAgICAgICAgICAgICAgICAgICAgICAgICAgICAgICAgICAgICAgICAKICAgICAgICAgICAgICAgICAgICAgICAgICAgICAgICAgICAgICAgICAgICAgICAgICAgICAgICAgICAgICAgICAgICAgICAgICAgICAgICAgICAgICAgICAgICAgICAgICAgIAogICAgICAgICAgICAgICAgICAgICAgICAgICAgICAgICAgICAgICAgICAgICAgICAgICAgICAgICAgICAgICAgICAgICAgICAgICAgICAgICAgICAgICAgICAgICAgICAgICAgCiAgICAgICAgICAgICAgICAgICAgICAgICAgICAgICAgICAgICAgICAgICAgICAgICAgICAgICAgICAgICAgICAgICAgICAgICAgICAgICAgICAgICAgICAgICAgICAgICAgICAKICAgICAgICAgICAgICAgICAgICAgICAgICAgICAgICAgICAgICAgICAgICAgICAgICAgICAgICAgICAgICAgICAgICAgICAgICAgICAgICAgICAgICAgICAgICAgICAgICAgIAogICAgICAgICAgICAgICAgICAgICAgICAgICAgICAgICAgICAgICAgICAgICAgICAgICAgICAgICAgICAgICAgICAgICAgICAgICAgICAgICAgICAgICAgICAgICAgICAgICAgCiAgICAgICAgICAgICAgICAgICAgICAgICAgICAgICAgICAgICAgICAgICAgICAgICAgICAgICAgICAgICAgICAgICAgICAgICAgICAgICAgICAgICAgICAgICAgICAgICAgICAKICAgICAgICAgICAgICAgICAgICAgICAgICAgICAgICAgICAgICAgICAgICAgICAgICAgICAgICAgICAgICAgICAgICAgICAgICAgICAgICAgICAgICAgICAgICAgICAgICAgIAogICAgICAgICAgICAgICAgICAgICAgICAgICAgICAgICAgICAgICAgICAgICAgICAgICAgICAgICAgICAgICAgICAgICAgICAgICAgICAgICAgICAgICAgICAgICAgICAgICAgCiAgICAgICAgICAgICAgICAgICAgICAgICAgICAgICAgICAgICAgICAgICAgICAgICAgICAgICAgICAgICAgICAgICAgICAgICAgICAgICAgICAgICAgICAgICAgICAgICAgICAKICAgICAgICAgICAgICAgICAgICAgICAgICAgICAgICAgICAgICAgICAgICAgICAgICAgICAgICAgICAgICAgICAgICAgICAgICAgICAgICAgICAgICAgICAgICAgICAgICAgIAogICAgICAgICAgICAgICAgICAgICAgICAgICAgICAgICAgICAgICAgICAgICAgICAgICAgICAgICAgICAgICAgICAgICAgICAgICAgICAgICAgICAgICAgICAgICAgICAgICAgCiAgICAgICAgICAgICAgICAgICAgICAgICAgICAgICAgICAgICAgICAgICAgICAgICAgICAgICAgICAgICAgICAgICAgICAgICAgICAgICAgICAgICAgICAgICAgICAgICAgICAKICAgICAgICAgICAgICAgICAgICAgICAgICAgICAgICAgICAgICAgICAgICAgICAgICAgICAgICAgICAgICAgICAgICAgICAgICAgICAgICAgICAgICAgICAgICAgICAgICAgIAogICAgICAgICAgICAgICAgICAgICAgICAgICAgICAgICAgICAgICAgICAgICAgICAgICAgICAgICAgICAgICAgICAgICAgICAgICAgICAgICAgICAgICAgICAgICAgICAgICAgCiAgICAgICAgICAgICAgICAgICAgICAgICAgICAgICAgICAgICAgICAgICAgICAgICAgICAgICAgICAgICAgICAgICAgICAgICAgICAgICAgICAgICAgICAgICAgICAgICAgICAKICAgICAgICAgICAgICAgICAgICAgICAgICAgIDw/eHBhY2tldCBlbmQ9J3cnPz7/2wBDAAcFBQYFBAcGBQYIBwcIChELCgkJChUPEAwRGBUaGRgVGBcbHichGx0lHRcYIi4iJSgpKywrGiAvMy8qMicqKyr/2wBDAQcICAoJChQLCxQqHBgcKioqKioqKioqKioqKioqKioqKioqKioqKioqKioqKioqKioqKioqKioqKioqKioqKir/wAARCADoAXYDASIAAhEBAxEB/8QAHwAAAQUBAQEBAQEAAAAAAAAAAAECAwQFBgcICQoL/8QAtRAAAgEDAwIEAwUFBAQAAAF9AQIDAAQRBRIhMUEGE1FhByJxFDKBkaEII0KxwRVS0fAkM2JyggkKFhcYGRolJicoKSo0NTY3ODk6Q0RFRkdISUpTVFVWV1hZWmNkZWZnaGlqc3R1dnd4eXqDhIWGh4iJipKTlJWWl5iZmqKjpKWmp6ipqrKztLW2t7i5usLDxMXGx8jJytLT1NXW19jZ2uHi4+Tl5ufo6erx8vP09fb3+Pn6/8QAHwEAAwEBAQEBAQEBAQAAAAAAAAECAwQFBgcICQoL/8QAtREAAgECBAQDBAcFBAQAAQJ3AAECAxEEBSExBhJBUQdhcRMiMoEIFEKRobHBCSMzUvAVYnLRChYkNOEl8RcYGRomJygpKjU2Nzg5OkNERUZHSElKU1RVVldYWVpjZGVmZ2hpanN0dXZ3eHl6goOEhYaHiImKkpOUlZaXmJmaoqOkpaanqKmqsrO0tba3uLm6wsPExcbHyMnK0tPU1dbX2Nna4uPk5ebn6Onq8vP09fb3+Pn6/9oADAMBAAIRAxEAPwD6RooooAKKKKACiiigAooooAKKKKACiiigAooooAKKKKACiiigAooooAKKKKACiiigAooooAKKKKACiiigAooooAKKKKACiiigAooooAKKKKACiiigAooooAKKKKACiiigAooooAKKKKACiiigAooooAKKKKACiiigAooooAKKKKACiiigAooooAKKKKACiiigAooooAKKKKACiiigAooooAKKKKACiiigAooooAKKKKACiiigAooooAKKKKACiiigAooooAKKKKACiiigAooooAKKKKACiiigAooooAKKKKAOf8Y2OvXWhzS+FtbbS7+GNmjDRRPFKeuH3oSOhwQRjPOa5nwF4l1Lx9MNRj1e40+1sI44LnTlFu7zTgZZ2PlkqjdBtIzyRtxXW+I/Dv8AwkloLSbVb+ytj/rYbTygJhkHDb0Y44xgEAgkHNUZfAtn/wAJj/wklhqN/p140KQSxWnkiKZF6B1aM59M5yO2KI6PX+v67fMJar+v6/qx09cd8W3eP4ReJXjZkYWD4ZTgiuxrjPi+M/B7xN1/48XPB+lAHYQnMKE/3R/Kn1w8Xwu01oUP9veKRlR0164/+Kpw+F2nqoA8ReLBjuNeuP8A4qgDtqK4n/hWaL/qPGPi+L/uMM//AKGGo/4QDVYebP4heJ0Pbz2tph+RhoA7aiuJ/wCEd8f2vNr48tbvHRL/AEVOfq0Tp/Kk+1fE7T/mn03w1rSD+C1uZrOQ/wDfYdf1oA7eiuI/4WHf6fx4j8EeINPA+9NaxJexKPUmFi2P+A1saF468L+JH8vRdbs7ifODbmTZMPrG2GH4igDfooooAKKKKACiiigAooooAKKKKACiiigAooooAKKKKACiiigAooooAKKKKACiiigAooooAKKKKACiiigAooooAKK4zxnrniO18U+HdC8LSabBLqq3Uks9/C8oQQqhAUKy9d9M+w/E7/oOeGP/AAWT/wDx6gDtqK4n7D8Tv+g54Y/8Fk//AMeo+w/E7/oOeGP/AAWT/wDx6gDtqK4n7D8Tv+g54Y/8Fk//AMeo+w/E7/oOeGP/AAWT/wDx6gDtq8j/AGhfE+p+HvAsttFpkd3pmrxPZS3AkKvaykZUnghgQDxxyvXmum+w/E7/AKDnhj/wWT//AB6snxR4M8e+L/Dd3omtax4aktLpQH2abOGUgghlPncEEA0Ab/w28T6n4y8HQ67qemR6ZHdMTaW6yGRjEOA7MQOpBxwOMHvXW1wdno3xHsLGCzs9X8LQ29vGsUUa6XPhFUYAH77sBU32H4nf9Bzwx/4LJ/8A49QB21FcT9h+J3/Qc8Mf+Cyf/wCPUfYfid/0HPDH/gsn/wDj1AHbUVxP2H4nf9Bzwx/4LJ//AI9R9h+J3/Qc8Mf+Cyf/AOPUAdtWNrvhHw94mTbr2jWV+cYDzQguv0f7w/A1hfYfid/0HPDH/gsn/wDj1XfAGvarruj6gde+ym9sNUubB3tI2SOTyn2hgrEkZ+tAGd/whXiDw583gXxLILdemla3uurfH91Jc+bGPxYe1T6b8Q4oNRi0jxrYP4b1SQ7YvPcPa3R/6ZT8KT/sthueldnVXUtLsdZ0+Wx1azhvLSYYkhnQOrfgaALVFecuur/CxfMja41nwah+eNyZLrSU9VPWWEeh+ZR6gV6BaXdvf2cN3ZTRz286CSKWNtyupGQQR1FAE1FFFABRRRQAUUUUAFFFFABRRRQAUUUUAFFFFABRRRQAUUUUAFFFFABRRRQAUUUUAFFFFABRRRQBxPiT/ksHgj/r31L/ANAhrtq4nxJ/yWDwR/176l/6BDXbUAMllSCF5ZW2xxqWZvQDkmqMPiHSbiXT4oNQgd9ThM9mobmdAASy+owQa0CAykMMgjBBrxQ+AvF2nie+06xWW88OziHw+huEHn2zSSF8knC/JKq4OP8AV0r6/wBf12+Vx20/r+v6R6fd+NvDdjZxXV1rFukUzyJGQSS5jJV8ADJCkEE9BTv+EigbWYIo7vT20+XT2vRP9o+cqGUbwMbfLwclt3pxXB3HgbVNA1LRbixh1W8tbfRhp840i5himWUPvZyJSoZXJOcHOQKq+JPDcug+GJ7iKwktdMtfCd1ZlbudZGjlkkUhGKE5PXkfKPWh6K/r+Cf52X3gtXb0/Fr8rv7jrtU+JWinw7rNz4c1G2vr/TrCS8WFlbBCrkE9MqfUHntVq3+Ifhy40e8vIdVtrh7C2FxcxwtkqPb1G7jIyM968/trbUNRs/EOjX0N1deI9S8OmO1JuLZ4jCmVVMx4CsWk6twexGK7S58M3sniC2kgtUit18NXGnM4ZQElZ4iiYHOMK3IGOKJ3Sdv6+L/JL1CFpNX/AK+H/N2N3wx4msPFnh+DVtKctFKilkYcxsVBKn3Ge1YujfEPTT4O0vVvE95a2FxfI7iJA2CFYgkLycDjJ6DNX/Asd/b+CNOsNV0yfTrqxto7V45pI33lECl1KMw2k5xnB9hXF2mieMtM8MaFpSWl+tqlnOlzDps9ssonMhKb3kOPL2k52ZOex6U6mjfL/W5MNUuY9Itdd0u9naG0v4JnW3S6IRwf3L52vnoVODz7Vn3XjrwxZW9pPda1axxXkXnwsWPzR/8APT2X/aOB715lrHh3WtD8JeDLa2C2usXtn/wjt5H5gLCOVdxYEZBMexjx6mtrWvBt9YeKryWysNYu9IvNNgso4tHuoImiEQZfLdZWXKENkEHjnIolo3bvb8/0t94159v8v+D9x3M/i7QLbWIdJm1W3W/nKCK3DZZ9/wB0gDsfXp09a2a4zwl4Zm0bxXqN0bEwWjaZYWlq8kiu+IkcMhIOeMrk9CeldnTYgrifhl/x6eJv+xm1D/0bXbVxPwy/49PE3/Yzah/6NpDO2ooooACAykMMg8EHvXncMY+GPiuG1jJTwjrc2yFCfk0y8Y5Cj+7FJ2HRW9Aa9ErO8QaHaeJfDt9o2pJutr2Fon9Vz0Ye4OCPcCgDRorlfh5rV5qnhprPWTnWNHnbTtQP9+SPGJB7OhV8/wC1XVUAFFFFABRRRQAUUUUAFFFFABRRRQAUUUUAFFFFABRRRQAUUUUAFFVNSuL22td2m2IvZy2BG0wiUe7Mc4H0BPPSuU0nxh4n1r7f9h8LWJFjdPaSM2sEB3TG7b+45GTjPHINAHbUVg6breo6jeW9ncaemn3ccInv4TMJvIDEhEDLgFm2k57Ae4reoAKKp6rPdWunyXNlGszw/vGhI5kUdVX0bHT3qazu4b+xgu7RxJBPGskbj+JSMg0ATUUUUAee+PNTg0L4ieDtX1CO6+w28V/HLLb2sk+xnSIKCI1J5we3arn/AAtzwj/z8an/AOCW8/8AjVdtRQBxP/C3PCP/AD8an/4Jbz/41R/wtzwj/wA/Gp/+CW8/+NV21FAHE/8AC3PCP/Pxqf8A4Jbz/wCNU2X4seDZonimk1GSNwVZH0S8IYHqCPK5ruKKAPO9N+IPw70YSDSLSawEhy4tfD1zFv8ArthGatzfGPwZbQvNcXuoRRIMs8mj3aqo9STFxXc1xnxe/wCSP+Jv+vB6AGf8Ld8Inpcan/4Jbz/41R/wtzwj/wA/Gp/+CW8/+NV2cP8AqI/90fyrGsfGnhrU7yW0sNbsp54YWnlRJQfLjU4LN6AH1oAwJfij4Jnnhnm+3SS25JhkfQrstGSMEqfK4yOOKl/4W54R/wCfjU//AAS3n/xqtez8Z6FrVrfHw/q1nfz2sLSskUm4gYOGx3XPcce9Q+D/ABUmteF/D1xqk9vFqer2IuVgT5d5CguVBJ4G4fnRv/Xe/wDkH9fl/mZ3/C3PCP8Az8an/wCCW8/+NUf8Lc8I/wDPxqf/AIJbz/41XW2eo2moG4FlcRzm2maCbYc+XIuCVPuMj86s0AcT/wALc8I/8/Gp/wDglvP/AI1TPhVIbnRNbvVinjgvdevrmAzwtEzxvJlW2sAQCPUV3NFABRRRQAUUUUAcPGP7C+NkqD5bbxNpnm4/6ebUhT+cUi/98V3FcR8QP9D13wXq6f6y31xLUn/YuI3iI/Mp+VdvQAUUUUAFFFFABRRRQAUUUUAFFFFABRRRQAUUUUAFFFFABRRRQBm+ItYj0Dw7e6nKNwt4iyoOrv0VR7liB+Nc54M8L+I9B0qxhutctTGWNxdW40/52dyXceZ5nXcx529ulaf/AAg+jnxDPq7/AGqSS4lSeS3e4YwGVB8r+XnGR+XA4roqFpr/AF/X/AB9jmfCxMniDxXJJ/rP7TWP6KLeLaP1J/GuF8b3OoeA/EzXemarf3mnX9o0d3a3F5cz/wBmKWC/al+YkLk+oOc7SO3osdnJpviy4u4o2e11REEpQE+VMgwGOOzLgZ7FB60lv4O0a2TUlSG5f+1I/LvGmvp5WlXBGMs5I4JHGKVtF6fpb8Srq7/rz/Am8N6ba6dokC2WoXepRyor/a7u8e4abIHzAsxwD1wuB7VQ+HxP/CGW6fwRT3Ecf+4s7hf0AqS10O08H+H5LPwtaXGX+S3t3uZZo42OcH52bYoyScY/E4rT0TS49F0O006Fi620QQuernux9ycn8apu7bIWiSL1FFFIYUUUUAFFFFABRRRQAVxnxe/5I/4m/wCvB67OvHv2jbXX4vAb6noN/PHZoPs2qWi4ZJYHOA+CDghsDIwcN14oA9eh/wCPeP8A3R/KvJbLwpqcv7Ouo6RY6fJa6pdG4kaBo/LklP2hjghh1ZAAM9QR2rq/hZa6/H4Ds7zxffz3mrX4+0yiXAEKsPkjCgALhcEjHUn0rsqTV0NOzR5ZoVlBq2rjUDfeKLy+s9Lnt0i1HR1s44g4XMRKwRh2yBgAsODVHS4L7w5pvw21a/0nUng0/TJrS8jt7OSWa3eSNNu6NQW6oR04OK9hoqr9V/W/+bJt/X3f5HFfDNLw2viK6v8ATbvTjea7PcxQ3cexzGyR7Tj8O3fI7V2tFFLol2svuHu2wooooAKKKKACiiigDifiz+78Ew3Y+/Z6tp86exF3EP6121cT8XefhvcqPvNfWAX3P2yGu2oAKKKKACiuW8dah4q0fR31PwtFY3a26hp7Se2d5WQH5mRlkUEgfwkc4PPaofC3iTU/F902raVNZp4bO1YfNtH+0TMB8/PmYUBuMlTnB4xgkWoPQ6+iiigAooooAKKKKACiiigAooooAKKKKACiiigAooooAKKKKACiiigAooooA8+8eWB1r4heD9Hnv9QtrK5iv5J47K7ktzKUSLbkoQTjJ/Orf/CqtD/6CXiL/wAHt1/8XR4k/wCSweCP+vfUv/QIa7agDif+FVaH/wBBLxF/4Pbr/wCLo/4VVof/AEEvEX/g9uv/AIuuzndoreSSOMyOqllQHG4gdK4+x+JmlX2oeG7RIZkfX7Z50LYxblQTsf3JVx9UNHW39f1oHS4z/hVWh/8AQS8Rf+D26/8Ai6P+FVaH/wBBLxF/4Pbr/wCLqA/FK3ngsv7O0x57i8hkukiluooAIFkKK5ZyBl8ZVR264pU+IGmT3VtrKT6gLBtBm1JoAE2BUdQ2VxnzByOG29frS/r8/wDJh5f10/zJv+FVaH/0EvEX/g9uv/i6ZP8ACPw9dW7wXN7r00MilXjk1u5ZWB6ggvyKzdf8eandeHfElkdIudGu7XQn1CK5W7R2VWDBCNnIbKn6Yq9D481H+z7m2k8P3dtqMekHUbQXE0Z+0ouFYnDHawLKSp7H1obsm30/4P8AkxpXat1/4H+aJ/8AhVWh/wDQS8Rf+D26/wDi6P8AhVWh/wDQS8Rf+D26/wDi61vBWs6jr/g2w1PV7IWdxcW6SELIrCQFAd4x90Ek8HkVznhrxTq9n8NNHv20+fWZZIpHnuJr2OLG12wC0jZLEdBjtyRTl7rafQmPvK6Lv/CqtD/6CXiL/wAHt1/8XR/wqrQ/+gl4i/8AB7df/F1Z0/4iaXfbZHimtraTRxrEU0uAHi53rj+8vGf94VnXXxSihii8nR5pJ1sI9Qu4JLqKJreNwSqDcRvkIBO0fnyKHpv/AFv/AJMa1/r0/wA0WP8AhVWh/wDQS8Rf+D26/wDi6P8AhVWh/wDQS8Rf+D26/wDi6sWPjz+1/EkWmaJo11eQtbW13Le+YiRxQzKSrEMck4H3Rz1rrqLAcT/wqrQ/+gl4i/8AB7df/F0nws82PRNas5bu6uo7HXb21ge6naV1jSTCruYknA9a7euJ+GX/AB6eJv8AsZtQ/wDRtAHbUUUUAFFFFAHE/FP954f0i073ev6dEB6/6QjH9FNdtXE+PP8ATPFPgfSl+9LrJvGH+zBBIx/8eZf0rtqACiiigDB8R6JqWuiK1h1SC000spu7c2jO9woOWTzBIu1WHBwM++DiszRfA914b8WX+oaFqlva6RfyLJLpH2IlEYAbmRhINrH/AHce3FdjRQtNUD1VgooooAKKKKACiiigAooooAKKKKACiiigAooooAKKKKACiiigAooooAKKKKAOJ8Sf8lg8Ef8AXvqX/oENdtXF+M9J8Qy+LPDmveGbKzv20tLuOa3urowbhMqAEMFbpsPam/218Rv+hO0f/wAHjf8AxmgDtq80ufg+JLTW0tdce3nvbtLjT5hb5/s9RI8hRRu+YFpZPThvatX+2viN/wBCdo//AIPG/wDjNH9tfEb/AKE7R/8AweN/8ZpWTHdjdS+HKG+0280SXT4pbHT107ydS0/7XDJEpyp2h1KsDnkHnOKq+K/Bl+dBvLywdbm9j0CfTVtbK3EAkaRlYsg3EL0Py859auf218Rv+hO0f/weN/8AGaP7a+I3/QnaP/4PG/8AjND1X3/je/5sUdPw/C3+SOW8M+F7y6stZ8PWds9tpepaW0U2o3OimyljnPyqoUsDIoUscYAGBg8130/hRbnWIb2S7OyPSJtLaMR8sJGjO/OeMeX0x368Vlf218Rv+hO0f/weN/8AGaztf8a+O/Dfh+91jUfB2lfZbKIyy+XrTM20eg8nmnK0t/63/wA7BG8dv62/yR1vhPRr/QPDVtpOo38F99kjWCGWG2MP7pVCruBdstxyRgewrkz8K5Us9Hhh1SznOm2s1qRf6aLiMiR93mIhcBJB0ydwx2q+uufEZlDDwdo+CMj/AInjf/GaX+2viN/0J2j/APg8b/4zRL3ndgtFZGF4j+Hkp0HwV4etJLi4azmFndXkUO1Ws9hMwfqFDbVAGeuK39a8BSXfiibW9Jm0tJLq3jguIdT0z7WnyZ2umHQqcHBGSDx6U3+2viN/0J2j/wDg8b/4zR/bXxG/6E7R/wDweN/8Zoeur73D+v6/robOj+GzpXiDUNUNykhvbW2g8pIfLVPJDDI5PB3dO2O9btcT/bXxG/6E7R//AAeN/wDGaP7a+I3/AEJ2j/8Ag8b/AOM0AdtXE/DL/j08Tf8AYzah/wCjaP7a+I3/AEJ2j/8Ag8b/AOM1b+H2i6rouj6ideit4LzUNVub9obeUyLGJX3BdxAyR64oA6uiiigAoorN8Q69ZeGfD95rGpvstrSMuwHVz2VfVicAD1IoA5lT/bXxwYr80HhzSNjH+7cXTg4/79xD/voV2N+4j065cs6hYmJaMgMMA8jPeub+Hui3umeH5r/W0C6zrVw2oXy/88nfG2L6IgVfwPrXSX0DXOn3ECEBpYmRSegJBFRO/K7FQtzK5xGneO0tvDHhiHS7HVNe1LV7Lz4IJZYhMY1UFpJZCVQfeA9yaz/C3juS20TXNQ1O31O4ubjxJLZWOmykGcOVTbCNzbVA+Y9doGTUlj4H8R+H7bwne6O2m3WpaPpjabd29xO8cUqNtO5HCEghkB5XkelVLn4X6xqHh25TVX0i81I+IG1lIZEc2swZFUxOCCQPvDOD0B9q0lbnbX9e8tvlr/ViY/Ak/wCtH+pu3XxNt9M0nVp9Z0e9sr3SHtxc2O5JHKTOFR0ZSQwOT75BGKs2Pjm5vNQv9Mm8N6hZanBZfbra1nkhzdRZ28MHKq27AIYjGawp/h/eXvhDUtPs/Dvhzw7c3c9q6rp8rMHWKZXbzHES9gcAA9etdXJoF0/xHTXt8X2QaQ9iVyfM3mZXzjGMYB79e1TK9rev5afiC/r7zjNJ8caprHwx0vWPEVtqGnPPe2sa3VhNCv2kvNt4GW2p0DAgEjpV6x8feIB4m8XW934cuJrHRcNH5U0O5FEO/B+bLF+owOMgHFV7LwJ4kX4fWXhe6OmKul6hbTW1xHO58+KOfzGLKU+VtuAACQT3FdDpug6xpfxE1rUI0sZ9H1rypJWeZlmheOLy9oTaVYHAOdwxzVPW9vO33Rt+obPXy/N/8AtReNbC6uvDsFjHJcnX4WuIShGIolQMXb2yyr9TXR15X8JtANv4g8QXvni4sNMuZdJ0k4/1cIlaSQD1wzBM/wDTOvVKNGk111+/b8BaptPpp/n+IUUUUhhRRRQAUUUUAFFFFABRRRQAUUUUAFFFFABRRRQAUUUUAFFFFABRRRQAUUUUAFecfGzxLpGmfDvWdI1C9S3vr/T5DaxSAjzyCAQpxgkccZzyPWvR68Z+P8nhrxJ4Vl0Iagk3iOzcXFpa2sT3Eqt0ZXEasUDKf4sDO00AeneG/EukeJ9Pe40C9S+ggfyXmiB2bwASAxGGwCOmetbFcJ8KLzwra+D7Lw54Z1OG4n06EC5hZGin8w8u7ROA4BYnkjuBXd0AFFFFABRRRQAUUUUAFFVNS1bTtGs2utXvraxt16y3MqxqPxJrkG+ItxrrGH4e6Hca6en9oz5trFD6+YwzJj0RT9aAOu1bWNP0HS5tS1i8is7OBd0k0rYA/wAT6AcmuL0uxv8A4ga7a+IddtZLLQLCTzdI0ydNslxIOBdTKemP4E6jO49quaZ4DlutTg1rx1qP9u6nA3mW9uE2WVk3rFF3Yf33y30rtKACiiigAooooAKKKKACiiigBFVUGEUKM5wBiloooAKKKKACiiigAooooAKKKKACiiigAooooAK4zUvGHiGx17TtLj8MW7y6kZPs4k1TawVF3MXCxMF7Dgnk12def/ZNV8TfELUNX0bUoLG30iP+zIXmtPPEkhIeYgb1xg7Fzz0NLr/X9b2H0Ng+JNdshO2t+HobWMKi20lvqIn8+Z2CrFgopHJ64wBXSWwmFtGLpkebaN5jXC574B7Vy2tJdR6n4PttRuVupDqLmaVIvLV3W3lK/Lk457ZPSoviTo8l34ZuNQsdcvdGvbNA8UsN5NHFJg/6t0RgDuJxkDdkjHpTbsgSu7f1/Wh2VZumak9xeXmn3gVbyzKltgwskbZKOB2zggj1U+1cb8PL8+Lb691rVrm9tdVtpFgm0UXk6R2ZVcZaIsAxbk5Ix07gk70pKfFS2EfSXR5fN/4DMm3/ANCanbVLv/lcm+jfb/Ox01QrdwNfSWayA3EcaysmDwrEgH8SrflUeoT3lvArafZLeSFsFGmEeB65INcrBqOu/wDCb3zDQYzIdPtwU+3LwPMmwc7fr+VLqN7X/rc7Siq9jNcz2qvfWotZiTmISiTH4gCvLfHtxqPgTxHHrGj6jfX9rdW0i3emXF5cTLaqet0o3HCqSMjj0XHZN2Y0rnrVFYfhLTrSx8P272OqXmrJcRrJ9surySczcfeG9iFB9Bityqas7Ep3VzlviLrF9o/hB10d/K1PUbiHTrOUjiKWeQRh/wDgO4n6gVyviHxH4V+E3gnVNL8P6np8Ov21sZRFcyB7i5mYbt8nOXZs559fSuw8eeH7nxH4RuLTTZFi1KB47uwkc4C3ETh48+xK4Psa5rUdZ0f4l+B9X0E3Fto3iCa2a3ubK/ws1pJ3yOrLnoy5BBB9qQyLxPqHhzxrod1rPg3WbGbxLoEBvbW5tJQZI9oJMb45MbgFSDxzWX4j/aR8J6No9tLpyyarqVxbpKbSBsJAzKDtkkPAIzghQSCOcVu+MfEVpfWM/gzwVLb3mv6nEbaT7KVZbGIja80zDhcKTgHkkjAq14h+DngzxNottYahpgSS0t0t4L23OydFRQq5b+LAHRgRQA63+MHgYWULXvirSxcGNTKsUpZQ+OQOvGad/wALg8DH/Vay8/8A1wsbiX/0GM111jaCzsoIWYSPHGqNLtALkDBbj161YoA4n/hauizf8g7S/EWon0ttDuf5sgFH/Cfaxc8aX8PfEcx7G7FvaqfxeXP6V21FAHEf2n8StQ/49PDug6OvrqGpPcN/3zEgH/j340f8Ip4x1X/kP+OZbWNvvW+h2SW4HsJJPMf+VdvRQByWm/DHwtYXgvbiwbVr8f8AL7q0zXkufUGQkL/wECutACqAowBwAO1FFABRRRQAUUUUAFFFFABRRRQAUUUUAFFFFABRRRQAUUUUAFFFFABRRRQAUUUUAFFFFAGR4g8NWXiSO0F7LdQSWc4ngltZ2idGAx1Hsau6bptppGnx2WnxeVBHkgZJJJOSSTySSSSTySatUUAZPiPTJdQsIZLMA3ljcJdW4JwGZeq57blLLntupl3oOmeIZbHUb+G88y3ZJoY2uZoRG6nIJjVgpYHuQfyrZoo2Aw/+EO0UeJ5PESW88eqShRJPHeTKHC4wrIH2kcDgjFLpdnJca/e63cxtF5ka2trG4wyxKSSxHYszE49FX6Vt0ULQNwqnHpyx65PqQkJaa3jgKY4ARnbOf+B/pVyigPIKxrbwnpFrc39xHHctNqMXk3Ly308hdOeBuc7cZOMYxnitmigDI8PeFtJ8K2ZtNChmt7Y9IXupZUXkn5VdiF6nOMZ71r0UUbgFeffGrRNL1D4W67e32nWtxd2lk729xJCrSRH1ViMj8K9Brx39o288R6X4Fa50edW0m5U2ep27xBtqv9yQN1HPynnHK8UAeo6Joml6FpqW2i6da2EBAYx20KxqT6kAcn3qpY+NPDWp3ktpYa3ZTzwwtPKiSg+XGpwWb0APrWT8LLzxHqvgO01fxfOr3moDz4oY4hGsEJHyLgckkfNkkn5sdq5Sy8KanL+zrqOkWOnyWuqXRuJGgaPy5JT9oY4IYdWQADPUEdqTdlcaV7I76z8Z6FrVrfHw/q1nfz2sLSskUm4gYOGx3XPcce9Q+D/FSa14X8PXGqT28Wp6vYi5WBPl3kKC5UEngbh+dcjoVlBq2rjUDfeKLy+s9Lnt0i1HR1s44g4XMRKwRh2yBgAsODVHS4L7w5pvw21a/wBJ1J4NP0ya0vI7ezklmt3kjTbujUFuqEdODiqVk3fy/wDbvzsid7fP/wBt/wCCesWeo2moG4FlcRzm2maCbYc+XIuCVPuMj86s1xXwzS8Nr4iur/TbvTjea7PcxQ3cexzGyR7Tj8O3fI7V2tLovRfkN7sKKKKACiiigAooooAKKKKACiiigAooooAKKKKACiiigAooooAKKKKACiiigAopGJCkgZIHQd647R/iGdevtVtNM8M6vLLpN0bS6zJbKBIOcDM3I96OtgOyorA07xPcalNYovh/UrdLiSeKd5/LH2Rojj59rnO4j5Suc1v0AFFFFABRRRQAUVxPiD4m2vh6SSe50LWJ9Ht5fJudWghQwRMG2k4LbyoPBYLjI4zXaRSJNEksTB0dQysOhB6Ghaq4bOw6iud8beMrbwNoY1bULC8vLbzVib7J5ZZCxAXIdl4JPaok8c2sPiKx0TWtNv8AR7zUQ32M3YiaO4KjJVXjdwGA7Niha7A9Dp6KKKACiqA1Cc+IDp39m3H2cW3nfb8r5Rbdjy+ud2OemMVR8UeKYPCsOny3VncXCX19FZK0O3EbyNtUtkg4+gNHbz/4YO5u0UUUAFU9X0mx17R7nS9Wt1ubO6jMcsTdGH9PXNZ3ifxVD4X/ALM+02VzcJqN9FYpJCU2xvIcAtlgcdegNamo3v8AZ2m3F55EtwIIzIYodu9gBk43ED8yKV0lcdruxYRFjRUjUKqjCqowAPSlrL8M67D4n8MafrdrFJDDfQiZI5MblB7HHGa1Kppp2ZKaaugooopDCiqmqXkun6Tc3dtZTX8sMZdLaDG+Uj+FckDNT28jTW0UrxNCzoGMb43ISOhxxkUASUUUUAFFFFABRQTgHjPsKw/C3iiDxTb6hLb2lxafYL+WxkjuNu7fHjcflJGMn1o62A3KKKoajqE9ldWEUGm3F4t1P5UkkJXbbLtJ3vkjjjHGetAF+isLSfFUOreKtZ0JbK5t7jSFhaV5im2QSBipXax4wvfB56Ua94pg0DV9FsLizuJTrF19limj27I32lvmyc9FPQGjt5h38jdoqhpuoT3018lxptxZLa3Bhjecri4UAHzFwT8pzjnHSr9ABRRVPVtRXSNHu9ReCW4S1haZoodu9lUZONxA6DuaTaSuxpNuyLlFZ3h/WIvEPhzT9Yt43iiv7dLhEkxuUMoIBx35qnofiqHXNe1vSUsrm1n0aSOOYzlMOXXcCu1jxjHXnnpVNNOzJTTV0btFFFIYUVheHvFUPiLUdZs4rO4tJdIuhazCcp8zFQ2RtYjGCO9btABRRRQAV4/4BstZu/FXxD/sbV4dP/4njg+ZZib5tgwfvD8q9fYblIOcEY4OKxNC8HaJ4bvr680e3nhn1CQy3TPeTSiVz/EQ7kZ98Urau/a34r/IHt8/0f8AmcnevrOk+NPhzYXeqXTPNBPFfxLKfLneO3zuYfxfNk81leIn8TajceLrG3m1eHWobuE6I1jJKIBCQmFYp+7B++W8znBB6Yr0bUfC+larrdhq99DM99pxY2si3UqCIsMN8qsFORwcg15yvhS7u/EGpz6t4b8R2+pXN7JKLzR9ZEFrImcRt/rlIO0Lu+QnOeDwKd7vXz/Nf16XDZaeX6m3am7t/jK+jSajfS2beGhK8Ul3IQZfP2lxzw2OMjBrj7TV9aufhZ4LuRr2pR3N14jFnPOLgl5YjcSLhmOSeFA5r0tvA2m6j/Zd5rvn3Oq2NqLdryK6kiaVeNyuUK71JGcMMH05NNHw38LLpdnpqWE0dnY3X2y2ijvZ0Ec2c7xhxzkk+nJo2av0f/t1/wAtBdHb+vdt+epzUkd9D45Pgqz1C8ureHTDfK17q00U0rSTMCRKg3sEAAAzgbuc4GOw8GWuq6f4ZhsPEGqRarqFqzRS3UZJLDOVDE9WCkAnv1pviHwPoPii4s7jV7WRrqyyLe5guZIZkB6jejBsH0JrX07TrTSrCOy0+FYLeIYVASe+SSTySTySeSaForP+tf8ALQb3/rt/TOe8YWI8R6XN4SsdqLeKFvZFHFtbk5b/AIGwBCj3J6CultkhjtY47Xb5MahE2nIAHGP0rk734UeENR1G5vruyvXubqQyTONWu13se+BKAOwwOgGK2rXwro9lq1pqVramK5s7L7BARK+1Icg7ducHoOSM+9C21/r+v835A99P6/r/ACOL+P2f+FT3G0gH7ba4JGf+Wy1nW5udU+NlpYfESeOO70tWufDyWkRitrwMMM53MzGRcfd3YHXnv6J4l8KaP4v05bDxDbSXVqriTykuZYgWByCdjLnB9aj1jwdoev2tjBq1pJcDT5RNay/aZVmicdGEqsHz+PPFEdHfzv8Agl96sEtV8v1f4M4q5l17xrrXi3TdMv8A7BPpdytraOmoTQNbfulYSGNBiQMxb7xwQMcVF4n1jWtHkjvtYmu9R0NtMjhur/Q7llbTrgbt9wYlILo2Qc84C9Oeev1L4deGdW1savd2Mv27y1iklhu5ojOg6LJtYeYP97Oe9Xbvwjo9485kglRLmBbaeKG4kjjkiUEBCisFxgkcDocdKS0S/rp+v9bD6/1/X9eZx2oeILuw+KE89pf3N5p48KSajHa+YfKd1kGGC+pA69ea57W1bVPhr4H8QXWo3d3e3+sadcTs1y5iLPJkqI87FCngYAIx9c+pDwjoq+Ik1xbWQX8dt9kVxcyhBDnPl+Xu2bc9sVkr8K/CKQrAunzi1S4F1Fafbp/JhlBzuSPftQ5OflAqo6NeTT+6Tf5W+4l3afmv/bUvzv8Aec7Le3v9sfFK2/tG+EVjaQzWgF3IPs7G2ZyUO7K/MM4HFO0nUJ9V03wlbz6xf3V7P4fFxLYQztEZCVQfaZZwwYAHIx8xJYkA4rrNR8AeHdV1a41G8s5TcXUAt7ny7qWNLhAMASIrBXwDwWBx+AqP/hXHhgTadKljNG+m25tbcx3ky4hznymw/wA6f7LZFRbS3p+Ca/Vf1Yp73X9bf5M88m1W91v4QfD2/wBUna4u5dfshJK5yzlZnXJPc4A5r17Wv+QBqH/XtJ/6Cawo/hr4Xi0ez0tLK5FlY3X2u2hF/cARSg5BGH4APQdB6V0V5ZQ32ny2Vz5hglQxuElZGKng/MpDD65p1PejJLq3+KS/QIvlmpdrfg2/1PHfCGr30ugfD/wzasqQ3mhyXLA3clsZnQqAgkjBbgFmwMZ49MHoWj1TQfDdvpXiDxVLJdPrKJbpZu0txPEx3LaGRirbsZzISDtGTW9c/DPwrd6Dp+kSafILXTG3WRW7mEtsf9iXfvA9s4qxd+AfDl9ottpc9jILe1uBdQulzKsyzD/lp5obeW9y2auTvJvz/W/5af8ADkRVopeX6W/4P/DI8z1zXNctvA3xBSHU72zl0jVIVtGS7aSSFHERKeYfmI+c9+M4BwK3fF+mXug3PhlLDxHrmdW1+KO5aS+LfI0bblUYwFyoOMYBJxXSTfC/wncQ6jDNYXBi1Mo13GL+4VZmTGGIDjLfKCT1JHOa1dS8J6Rq66cNRhuJv7MmE9oftkymOQcBiQ4LH/ez1qVpb5fha/32KfX5/jt9x5td3mp6Xp/xR0y01nU/K0aCO5sZZbt5ZoWe3LlRI5Lbdw6Z4q/qVxqF1rPw1thq+o28WqWsovBBcsnn4tg2WPrknnr3BBwa7C48A+HbqTWJJ7S4ZtbUJqH+nzjz1AwAQH4GOOMccVL/AMIToRuNHnNvcGTRVKWDG9n/AHII2kff+bjj5s8cUR8/L8E7g/Lz/Gx53DqniKz8C+NbXSb28vJNH1w28Ek9wZLhbXMbOqyOclgrOASc+nOK6fwxYai/jzU72G71n/hHzawm2h1CSYYnO7zAFl+fAG088AnjvUHi7wTBaaDdReHtDuNQj1PUo7rVoE1CQTSqDuLxGSQBXyqdCvA45xU3g7w3LY6ot5ZweItNsjGyy2us6n9p83PTanmSbcf3sg9sHOQR21/rRL7v1CXl/Wt/68jrNC0k6HpEVgdQvtR8tmP2m/m82VssTgtgZxnA9gK5bxXcGfxRLY22p3kk8ekSS/2bazNbrDluLh5VYHttC4bucdTXU6FoWn+G9Ii0zSIWhtImZkRpGkILMWPLEnqT3qjqngrQdY15NYv7SRr1YPszPHcSRiWLOdjqrAOuezAipkm9v60/r/hyotJ6/wBa/wBf8MV/hzql3rXw10DUdSlM11cWMbyyHq7Y5J9zXmVlo91L4P8AH2tafr2p6Ze6brmo3Ft9mujHCGTDfOg4cHGDuz7Yr2Dw/wCH9O8L6NFpWjRSRWcOfLjkmeXaPQFySB7dBVEeBtAE14wtZRFfTm5urYXUvkTSkglmi3bTnAyMYPcVc/em5LS6fy1T/QmOkUnrZr8mv1OG8Naxqerax4p/tC8vIw3h+wvBALmRRbzSQuzlOcp8w7Y6VXtdY1d/Bfwsvm1e+M1/fW8V4fPP+kqyOx3nq3Kjqa9C1LwPoGra0dWvbSQ3bQC3laK5kiWaMdFkRWCuBnowNRf8K98NCw0qyWynW20eQS2EaX06iBx0Iw/PU9c9aE1e/mvuTb/Jia0+T/FJfmjidQ1ufw34w+KWsWcYkuLLS7KWJSMjcInwT7A80mu2CJffDO//ALQvL2W51ON5ZZrp5FlZrd23hSSq98bQBg49K9Bh8H6JBq2paktpI9zqkYivTLcyyJOgBAUozFcAEjgd6zLb4X+FbT7GsdlctHYTedZxyahcOls2D/q1LkKOTwOPyFKOjV/L8Hr945a3t1v+KSOQbUtUXwx8U86vftJpdzN9jmNwQ8AW3VwFI6DJ6CrGkzX+meM/ALDV9Sul17TJjfRXV00kbskKOrBD8qkEnlQM9812Q8A+HRa6xb/ZLgxa2xbUFN/OfPJGCc7+MjjjHHFSDwVoaXmk3aW05uNFiMWns17ORCpGCMb8NkAD5s8CiOmr7L8E0/0CWu3n+LTR57c/8JRrC38EdzrMGv2/iIIjW0sq2pst68ZH7oAREk5+fcPU16T4mj8rwPq8e5n2adMu5zljiM8k9zXmml+D76d5jeeH/Eul63LPJLNdWGtiKx8x3Lb1AmJ289PLJ9Qa9bFqJdMFpfkXIeHypiy4EuRhsj35qXG9Ll/ra36fiUpWqc39b3PFtPtdT8N+Avh/4h0bWdTknuHsLS4sJbkvbzQyqFKrF91So6MBngk561PrWv3vhi9+K+q6YdlzDNp6pJt3eVuiVS+P9kMT+Fem6Z4N0XSBZraQTNHY/wDHnHPdSzJbcY+RXYhcAkA9QCQOKIPBmg295qtytk0kmsALfie4llS4AG0Ao7FenHAHFXJ3ba63/G2n4P7yIq1r9Lfqcr4gmu/CfiTwjcaJf393b6ndGyu7W4unuFnQxlxKN5O1l25yuAQaPCnn+MfBek+KH8R3ljeyXX2m4aO4PkhRIQbcxE7AuMLnGcjOSa67TfCekaVNbS2sErvZxmK1NxcyTfZ0IAITex28DHHOOOnFUbH4c+FtN16XV7HTPJuZZfPdFnk8ky/3/K3bA3vt47ULf+tP6/4GwdDzex1kW3xO8T6NqEt1p2m6prqRtqVvK0ZEwgjKQb1IKb+fm74wME5HtkMSwQrEhcqowC7l2/Ekkn8a5uf4c+F7q11W3udPlmi1eVZr1ZL2dvNdcYbl/lIwOVx0q/D4V0qDVLDUUina70+3e2t5ZbqWQrG2Mg7mO7p1bJpL4Un0t+C/r5ee7esm15/n/X9bbFFFFABRRRQAUUUUAFFFFABRRRQAUUUUAFFFFABRRRQAUUUUAFFFFABRRRQAUUUUAFFFFABRRRQAUUUUAFFFFABRRRQAUUUUAFFFFABRRRQAUUUUAFFFFABRRRQAUUUUAFFFFAH/2Q==)"
      ],
      "metadata": {
        "id": "q1T_t8tu-OtA"
      }
    },
    {
      "cell_type": "markdown",
      "source": [
        "That arrow on the right is just the x part of x+conv2(conv1(x)), and is known as the identity branch or skip connection. The path on the left is the conv2(conv1(x)) part. You can think of the identity path as providing a direct route from the input to the output.\n",
        "\n",
        "In a ResNet, we don't actually proceed by first training a smaller number of layers, and then adding new layers on the end and fine-tuning. Instead, we use ResNet blocks throughout the CNN, initialized from scratch in the usual way, and trained with SGD in the usual way. We rely on the skip connections to make the network easier to train with SGD."
      ],
      "metadata": {
        "id": "HobcC7K9-UBO"
      }
    },
    {
      "cell_type": "markdown",
      "source": [
        "There's another (largely equivalent) way to think of these ResNet blocks. This is how the paper describes it:\n",
        "\n",
        "\n",
        "\n",
        "---\n",
        "\n",
        "\n",
        "***Instead of hoping each few stacked layers directly fit a desired underlying mapping, we explicitly let these layers fit a residual mapping. Formally, denoting the desired underlying mapping as H(x), we let the stacked nonlinear layers fit another mapping of F(x) := H(x)−x. The original mapping is recast into F(x)+x. We hypothesize that it is easier to optimize the residual mapping than to optimize the original, unreferenced mapping. To the extreme, if an identity mapping were optimal, it would be easier to push the residual to zero than to fit an identity mapping by a stack of nonlinear layers.***\n",
        "\n",
        "---\n",
        "\n",
        "In ther words... If the outcome of a given layer is x, when using a ResNet block that returns y = x+block(x) we're not asking the block to predict y, we are asking it to predict the difference between y and x. So the job of those blocks isn't to predict certain features, but to minimize the error between x and the desired y. A ResNet is, therefore, good at learning about slight differences between doing nothing and passing though a block of two convolutional layers (with trainable weights). This is how these models got their name: they're predicting residuals (reminder: \"residual\" is prediction minus target)."
      ],
      "metadata": {
        "id": "jvp0OVa8_nNo"
      }
    },
    {
      "cell_type": "markdown",
      "source": [
        "One key concept that both of these two ways of thinking about ResNets share is the idea of ease of learning. This is an important theme. Recall the universal approximation theorem, which states that a sufficiently large network can learn anything. This is still true, but there turns out to be a very important difference between what a network can learn in principle, and what it is easy for it to learn with realistic data and training regimes. Many of the advances in neural networks over the last decade have been like the ResNet block: the result of realizing how to make something that was always possible actually feasible.\n",
        "\n",
        "note: True Identity Path: The original paper didn't actually do the trick of using zero for the initial value of gamma in the last batchnorm layer of each block; that came a couple of years later. So, the original version of ResNet didn't quite begin training with a truly identity path through the ResNet blocks, but nonetheless having the ability to \"navigate through\" the skip connections did indeed make it train better. Adding the batchnorm gamma init trick made the models train at even higher learning rates.\n",
        "\n",
        "Here's the definition of a simple ResNet block (where norm_type=NormType.BatchZero causes fastai to init the gamma weights of the last batchnorm layer to zero):"
      ],
      "metadata": {
        "id": "OZ7QtI5tAie2"
      }
    },
    {
      "cell_type": "code",
      "source": [
        "class ResBlock(Module):\n",
        "    def __init__(self, ni, nf):\n",
        "        self.convs = nn.Sequential(\n",
        "            ConvLayer(ni,nf),\n",
        "            ConvLayer(nf,nf, norm_type=NormType.BatchZero))\n",
        "        \n",
        "    def forward(self, x): return x + self.convs(x)"
      ],
      "metadata": {
        "id": "yKbN2Ea3CoE3"
      },
      "execution_count": null,
      "outputs": []
    },
    {
      "cell_type": "markdown",
      "source": [
        "There are two problems with this, however: it can't handle a stride other than 1, and it requires that ni==nf. Stop for a moment to think carefully about why this is.\n",
        "\n",
        "The issue is that with a stride of, say, 2 on one of the convolutions, the grid size of the output activations will be half the size on each axis of the input. So then we can't add that back to x in forward because x and the output activations have different dimensions. The same basic issue occurs if ni!=nf: the shapes of the input and output connections won't allow us to add them together.\n",
        "\n",
        "To fix this, we need a way to change the shape of x to match the result of self.convs. Halving the grid size can be done using an average pooling layer with a stride of 2: that is, a layer that takes 2×2 patches from the input and replaces them with their average.\n",
        "\n",
        "Changing the number of channels can be done by using a convolution. We want this skip connection to be as close to an identity map as possible, however, which means making this convolution as simple as possible. The simplest possible convolution is one where the kernel size is 1. That means that the kernel is size ni*nf*1*1, so it's only doing a dot product over the channels of each input pixel—it's not combining across pixels at all. This kind of 1x1 convolution is very widely used in modern CNNs, so take a moment to think about how it works."
      ],
      "metadata": {
        "id": "rO2LB7q_C5me"
      }
    },
    {
      "cell_type": "code",
      "source": [
        "def _conv_block(ni,nf,stride):\n",
        "    return nn.Sequential(\n",
        "        ConvLayer(ni, nf, stride=stride),\n",
        "        ConvLayer(nf, nf, act_cls=None, norm_type=NormType.BatchZero))"
      ],
      "metadata": {
        "id": "G2tuP10sDU7p"
      },
      "execution_count": null,
      "outputs": []
    },
    {
      "cell_type": "code",
      "source": [
        "class ResBlock(Module):\n",
        "    def __init__(self, ni, nf, stride=1):\n",
        "        self.convs = _conv_block(ni,nf,stride)\n",
        "        self.idconv = noop if ni==nf else ConvLayer(ni, nf, 1, act_cls=None)\n",
        "        self.pool = noop if stride==1 else nn.AvgPool2d(2, ceil_mode=True)\n",
        "\n",
        "    def forward(self, x):\n",
        "        return F.relu(self.convs(x) + self.idconv(self.pool(x)))"
      ],
      "metadata": {
        "id": "YkIJqBWnDVA_"
      },
      "execution_count": null,
      "outputs": []
    },
    {
      "cell_type": "markdown",
      "source": [
        "Note that we're using the noop function here, which simply returns its input unchanged (noop is a computer science term that stands for \"no operation\"). In this case, idconv does nothing at all if ni==nf, and pool does nothing if stride==1, which is what we wanted in our skip connection.\n",
        "\n",
        "Also, you'll see that we've removed the ReLU (act_cls=None) from the final convolution in convs and from idconv, and moved it to after we add the skip connection. The thinking behind this is that the whole ResNet block is like a layer, and you want your activation to be after your layer.\n",
        "\n",
        "Let's replace our block with ResBlock, and try it out:"
      ],
      "metadata": {
        "id": "sIwVVIqyDcJ-"
      }
    },
    {
      "cell_type": "code",
      "source": [
        "def block(ni,nf): return ResBlock(ni, nf, stride=2)\n",
        "learn = get_learner(get_model())"
      ],
      "metadata": {
        "id": "XnHzY9BqDt2F"
      },
      "execution_count": null,
      "outputs": []
    },
    {
      "cell_type": "code",
      "source": [
        "learn.fit_one_cycle(5, 3e-3)"
      ],
      "metadata": {
        "id": "80atbC4JDwEb"
      },
      "execution_count": null,
      "outputs": []
    },
    {
      "cell_type": "markdown",
      "source": [
        "It's not much better. But the whole point of this was to allow us to train deeper models, and we're not really taking advantage of that yet. To create a model that's, say, twice as deep, all we need to do is replace our block with two ResBlocks in a row:"
      ],
      "metadata": {
        "id": "iZ1Im-cZDzPV"
      }
    },
    {
      "cell_type": "code",
      "source": [
        "def block(ni, nf):\n",
        "    return nn.Sequential(ResBlock(ni, nf, stride=2), ResBlock(nf, nf))"
      ],
      "metadata": {
        "id": "4ArtH0EEEDgV"
      },
      "execution_count": null,
      "outputs": []
    },
    {
      "cell_type": "code",
      "source": [
        "learn = get_learner(get_model())\n",
        "learn.fit_one_cycle(5, 3e-3)"
      ],
      "metadata": {
        "id": "9_EYHRg6EF7z"
      },
      "execution_count": null,
      "outputs": []
    },
    {
      "cell_type": "markdown",
      "source": [
        "Now we're making good progress!\n",
        "\n",
        "The authors of the ResNet paper went on to win the 2015 ImageNet challenge. At the time, this was by far the most important annual event in computer vision. We have already seen another ImageNet winner: the 2013 winners, Zeiler and Fergus. It is interesting to note that in both cases the starting points for the breakthroughs were experimental observations: observations about what layers actually learn, in the case of Zeiler and Fergus, and observations about which kinds of networks can be trained, in the case of the ResNet authors. This ability to design and analyze thoughtful experiments, or even just to see an unexpected result, say \"Hmmm, that's interesting,\" and then, most importantly, set about figuring out what on earth is going on, with great tenacity, is at the heart of many scientific discoveries. Deep learning is not like pure mathematics. It is a heavily experimental field, so it's important to be a strong practitioner, not just a theoretician.\n",
        "\n",
        "Since the ResNet was introduced, it's been widely studied and applied to many domains. One of the most interesting papers, published in 2018, is Hao Li et al.'s \"Visualizing the Loss Landscape of Neural Nets\". It shows that using skip connections helps smooth the loss function, which makes training easier as it avoids falling into a very sharp area. <> shows a stunning picture from the paper, illustrating the difference between the bumpy terrain that SGD has to navigate to optimize a regular CNN (left) versus the smooth surface of a ResNet (right)."
      ],
      "metadata": {
        "id": "flRoE0AHEG-c"
      }
    },
    {
      "cell_type": "markdown",
      "source": [
        "![Capture.JPG](data:image/jpeg;base64,/9j/4AAQSkZJRgABAQEAkACQAAD/4REKRXhpZgAATU0AKgAAAAgABAE7AAIAAAAVAAAISodpAAQAAAABAAAIYJydAAEAAAAqAAAQ2OocAAcAAAgMAAAAPgAAAAAc6gAAAAgAAAAAAAAAAAAAAAAAAAAAAAAAAAAAAAAAAAAAAAAAAAAAAAAAAAAAAAAAAAAAAAAAAAAAAAAAAAAAAAAAAAAAAAAAAAAAAAAAAAAAAAAAAAAAAAAAAAAAAAAAAAAAAAAAAAAAAAAAAAAAAAAAAAAAAAAAAAAAAAAAAAAAAAAAAAAAAAAAAAAAAAAAAAAAAAAAAAAAAAAAAAAAAAAAAAAAAAAAAAAAAAAAAAAAAAAAAAAAAAAAAAAAAAAAAAAAAAAAAAAAAAAAAAAAAAAAAAAAAAAAAAAAAAAAAAAAAAAAAAAAAAAAAAAAAAAAAAAAAAAAAAAAAAAAAAAAAAAAAAAAAAAAAAAAAAAAAAAAAAAAAAAAAAAAAAAAAAAAAAAAAAAAAAAAAAAAAAAAAAAAAAAAAAAAAAAAAAAAAAAAAAAAAAAAAAAAAAAAAAAAAAAAAAAAAAAAAAAAAAAAAAAAAAAAAAAAAAAAAAAAAAAAAAAAAAAAAAAAAAAAAAAAAAAAAAAAAAAAAAAAAAAAAAAAAAAAAAAAAAAAAAAAAAAAAAAAAAAAAAAAAAAAAAAAAAAAAAAAAAAAAAAAAAAAAAAAAAAAAAAAAAAAAAAAAAAAAAAAAAAAAAAAAAAAAAAAAAAAAAAAAAAAAAAAAAAAAAAAAAAAAAAAAAAAAAAAAAAAAAAAAAAAAAAAAAAAAAAAAAAAAAAAAAAAAAAAAAAAAAAAAAAAAAAAAAAAAAAAAAAAAAAAAAAAAAAAAAAAAAAAAAAAAAAAAAAAAAAAAAAAAAAAAAAAAAAAAAAAAAAAAAAAAAAAAAAAAAAAAAAAAAAAAAAAAAAAAAAAAAAAAAAAAAAAAAAAAAAAAAAAAAAAAAAAAAAAAAAAAAAAAAAAAAAAAAAAAAAAAAAAAAAAAAAAAAAAAAAAAAAAAAAAAAAAAAAAAAAAAAAAAAAAAAAAAAAAAAAAAAAAAAAAAAAAAAAAAAAAAAAAAAAAAAAAAAAAAAAAAAAAAAAAAAAAAAAAAAAAAAAAAAAAAAAAAAAAAAAAAAAAAAAAAAAAAAAAAAAAAAAAAAAAAAAAAAAAAAAAAAAAAAAAAAAAAAAAAAAAAAAAAAAAAAAAAAAAAAAAAAAAAAAAAAAAAAAAAAAAAAAAAAAAAAAAAAAAAAAAAAAAAAAAAAAAAAAAAAAAAAAAAAAAAAAAAAAAAAAAAAAAAAAAAAAAAAAAAAAAAAAAAAAAAAAAAAAAAAAAAAAAAAAAAAAAAAAAAAAAAAAAAAAAAAAAAAAAAAAAAAAAAAAAAAAAAAAAAAAAAAAAAAAAAAAAAAAAAAAAAAAAAAAAAAAAAAAAAAAAAAAAAAAAAAAAAAAAAAAAAAAAAAAAAAAAAAAAAAAAAAAAAAAAAAAAAAAAAAAAAAAAAAAAAAAAAAAAAAAAAAAAAAAAAAAAAAAAAAAAAAAAAAAAAAAAAAAAAAAAAAAAAAAAAAAAAAAAAAAAAAAAAAAAAAAAAAAAAAAAAAAAAAAAAAAAAAAAAAAAAAAAAAAAAAAAAAAAAAAAAAAAAAAAAAAAAAAAAAAAAAAAAAAAAAAAAAAAAAAAAAAAAAAAAAAAAAAAAAAAAAAAAAAAAAAAAAAAAAAAAAAAAAAAAAAAAAAAAAAAAAAAAAAAAAAAAAAAAAAAAAAAAAAAAAAAAAAAAAAAAAAAAAAAAAAAAAAAAAAAAAAAAAAAAAAAAAAAAAAAAAAAAAAAAAAAAAAAAAAAAAAAAAAAAAAAAAAAAAAAAAAAAAAAAAAAAAAAAAAAAAAAAAAAAAAAAAAAAAAAAAAAAAAAAAAAAAAAAAAAAAAAAAAAAAAAAAAAAAAAAAAAAAAAAAAAAAAAAAAAAAAAAAAAAAAAAAAAAAAAAAAAAAAAAAAAAAAAAAAAAAAAAAAAAAAAAAAAAAAAAAAAAAAAAAAAAAAAAAAAAAAAAAAAAAAAAAAAAAAAAAAAAAAAAAAAAAAAAAAAAAAAAAAAAAAAAAAAAAAAAAAAAAAAAAAAAAAAAAAAAAAAAAAAAAAAAAAAAAAAAAAAAAAAAAAAAAAAAAAAAAAAAAAAAAAAAAAAAAAAAAAAAAAAAAAAAAAAAAAAAAAAAAAAAAAAAAAAAAAAAAAAAAAAAAAAAAAAAAAAAAAAAAAAAAAAAAAAAAAAAAAAAAAAAAAAAAAAAAAAAAAAAAAAAAAAAAAAAAAAAAAAAAAAAAAAAAAAAAAAAAAAAAAAAAAAAAAAAAAAAAAAAAAAAAAAAAAAAAAAAAAAAAAAAAAAAAAAAAAAAAAAAAAAAAAAAAAAAAAAAAAAAAAAAAAAAAAAAAAAAAAAAAAAAAAAAAAAAAAAAAAAAAAAAAAAAAAAAAAAAAAAAAAAAAAAAAAAAAAAAAAAAAAAAAAAAAAAAAAAAAAAAAAAAAAAAAAAAAAAAAAAAAAAAAAAAAAAAAAAAAAAAAAAAAAAAAAAAAAAAAAAAAAAAAAAAAAAAAAAAAAAAAAAAAAAAAAAAAAAAAAAAAAAAAAAAAAAAAAAAAAAAAAAAAAAAAAAAAAAAAAAAAAAAAAAAAAAAAAAAAAAAAAAAAAAAAAAAAAAAAAAAAAAAAAAAAAAAAAAAAAAAAAAAAAAAAAAAAAAAAAAAAAAAAAAAAAAAAAAAAAAAAAAAAAAAAAAAAAAAAAAAAAAAAAAAAAAAAAAAAAAAAAAAAAAAAAAAAAAAAAAAAAAAAAAAAAAAAAAAAAAAAAAAAAAAAAAAAAAAEZvcnR1bnkgU2ljYXJ0LCBBbGFuAAAABZADAAIAAAAUAAAQrpAEAAIAAAAUAAAQwpKRAAIAAAADMzYAAJKSAAIAAAADMzYAAOocAAcAAAgMAAAIogAAAAAc6gAAAAgAAAAAAAAAAAAAAAAAAAAAAAAAAAAAAAAAAAAAAAAAAAAAAAAAAAAAAAAAAAAAAAAAAAAAAAAAAAAAAAAAAAAAAAAAAAAAAAAAAAAAAAAAAAAAAAAAAAAAAAAAAAAAAAAAAAAAAAAAAAAAAAAAAAAAAAAAAAAAAAAAAAAAAAAAAAAAAAAAAAAAAAAAAAAAAAAAAAAAAAAAAAAAAAAAAAAAAAAAAAAAAAAAAAAAAAAAAAAAAAAAAAAAAAAAAAAAAAAAAAAAAAAAAAAAAAAAAAAAAAAAAAAAAAAAAAAAAAAAAAAAAAAAAAAAAAAAAAAAAAAAAAAAAAAAAAAAAAAAAAAAAAAAAAAAAAAAAAAAAAAAAAAAAAAAAAAAAAAAAAAAAAAAAAAAAAAAAAAAAAAAAAAAAAAAAAAAAAAAAAAAAAAAAAAAAAAAAAAAAAAAAAAAAAAAAAAAAAAAAAAAAAAAAAAAAAAAAAAAAAAAAAAAAAAAAAAAAAAAAAAAAAAAAAAAAAAAAAAAAAAAAAAAAAAAAAAAAAAAAAAAAAAAAAAAAAAAAAAAAAAAAAAAAAAAAAAAAAAAAAAAAAAAAAAAAAAAAAAAAAAAAAAAAAAAAAAAAAAAAAAAAAAAAAAAAAAAAAAAAAAAAAAAAAAAAAAAAAAAAAAAAAAAAAAAAAAAAAAAAAAAAAAAAAAAAAAAAAAAAAAAAAAAAAAAAAAAAAAAAAAAAAAAAAAAAAAAAAAAAAAAAAAAAAAAAAAAAAAAAAAAAAAAAAAAAAAAAAAAAAAAAAAAAAAAAAAAAAAAAAAAAAAAAAAAAAAAAAAAAAAAAAAAAAAAAAAAAAAAAAAAAAAAAAAAAAAAAAAAAAAAAAAAAAAAAAAAAAAAAAAAAAAAAAAAAAAAAAAAAAAAAAAAAAAAAAAAAAAAAAAAAAAAAAAAAAAAAAAAAAAAAAAAAAAAAAAAAAAAAAAAAAAAAAAAAAAAAAAAAAAAAAAAAAAAAAAAAAAAAAAAAAAAAAAAAAAAAAAAAAAAAAAAAAAAAAAAAAAAAAAAAAAAAAAAAAAAAAAAAAAAAAAAAAAAAAAAAAAAAAAAAAAAAAAAAAAAAAAAAAAAAAAAAAAAAAAAAAAAAAAAAAAAAAAAAAAAAAAAAAAAAAAAAAAAAAAAAAAAAAAAAAAAAAAAAAAAAAAAAAAAAAAAAAAAAAAAAAAAAAAAAAAAAAAAAAAAAAAAAAAAAAAAAAAAAAAAAAAAAAAAAAAAAAAAAAAAAAAAAAAAAAAAAAAAAAAAAAAAAAAAAAAAAAAAAAAAAAAAAAAAAAAAAAAAAAAAAAAAAAAAAAAAAAAAAAAAAAAAAAAAAAAAAAAAAAAAAAAAAAAAAAAAAAAAAAAAAAAAAAAAAAAAAAAAAAAAAAAAAAAAAAAAAAAAAAAAAAAAAAAAAAAAAAAAAAAAAAAAAAAAAAAAAAAAAAAAAAAAAAAAAAAAAAAAAAAAAAAAAAAAAAAAAAAAAAAAAAAAAAAAAAAAAAAAAAAAAAAAAAAAAAAAAAAAAAAAAAAAAAAAAAAAAAAAAAAAAAAAAAAAAAAAAAAAAAAAAAAAAAAAAAAAAAAAAAAAAAAAAAAAAAAAAAAAAAAAAAAAAAAAAAAAAAAAAAAAAAAAAAAAAAAAAAAAAAAAAAAAAAAAAAAAAAAAAAAAAAAAAAAAAAAAAAAAAAAAAAAAAAAAAAAAAAAAAAAAAAAAAAAAAAAAAAAAAAAAAAAAAAAAAAAAAAAAAAAAAAAAAAAAAAAAAAAAAAAAAAAAAAAAAAAAAAAAAAAAAAAAAAAAAAAAAAAAAAAAAAAAAAAAAAAAAAAAAAAAAAAAAAAAAAAAAAAAAAAAAAAAAAAAAAAAAAAAAAAAAAAAAAAAAAAAAAAAAAAAAAAAAAAAAAAAAAAAAAAAAAAAAAAAAAAAAAAAAAAAAAAAAAAAAAAAAAAAAAAAAAAAAAAAAAAAAAAAAAAAAAAAAAAAAAAAAAAAAAAAAAAAAAAAAAAAAAAAAAAAAAAAAAAAAAAAAAAAAAAAAAAAAAAAAAAAAAAAAAAAAAAAAAAAAAAAAAAAAAAAAAAAAAAAAAAAAAAAAAAAAAAAAAAAAAAAAAAAAAAAAAAAAAAAAAAAAAAAAAAAAAAAAAAAAAAAAAAAAAAAAAAAAAAAAAAAAAAAAAAAAAAAAAAAAAAAAAAAAAAAAAAAAAAAAAAAAAAAAAAAAAAAAAAAAAAAAAAAAAAAAAAAAAAAAAAAAAAAAAAAAAAAAAAAAAAAAAAAAAAAAAAAAAAAAAAAAAAAAAAAAAAAAAAAAAAAAAAAAAAAAAAAAAAAAAAAAAAAAAAAAAAAAAAAAAAAAAAAAAAAAAAAAAAAAAAAAAAAAAAAAAAAAAAAAAAAAAAAAAAAAAAAAAAAAAAAAAAAAAAAAAAAAAAAAAAAAAAAAAAAAAAAAAAAAAAAAAAAAAAAAAAAAAAAAAAAAAAAAAAAAAAAAAAAAAAAAAAAAAAAAAAAAAAAAAAAAAAAAAAAAAAAAAAAAAAAAAAAAAAAAAAAAAAAAAAAAAAAAAAAAAAAAAAAAAAAAAAAAAAAAAAAAAAAAAAAAAAAAAAAAAAAAAAAAAAAAAAAAAAAAAAAAAAAAAAAAAAAAAAAAAAAAAAAAAAAAAAAAAAAAAAAAAAAAAAAAAAAAAAAAAAAAAAAAAAAAAAAAAAAAAAAAAAAAAAAAAAAAAAAAAAAAAAAAAAAAAAAAAAAAAAAADIwMjI6MDk6MTkgMTY6MDY6MTMAMjAyMjowOToxOSAxNjowNjoxMwAAAEYAbwByAHQAdQBuAHkAIABTAGkAYwBhAHIAdAAsACAAQQBsAGEAbgAAAP/hCydodHRwOi8vbnMuYWRvYmUuY29tL3hhcC8xLjAvADw/eHBhY2tldCBiZWdpbj0n77u/JyBpZD0nVzVNME1wQ2VoaUh6cmVTek5UY3prYzlkJz8+DQo8eDp4bXBtZXRhIHhtbG5zOng9ImFkb2JlOm5zOm1ldGEvIj48cmRmOlJERiB4bWxuczpyZGY9Imh0dHA6Ly93d3cudzMub3JnLzE5OTkvMDIvMjItcmRmLXN5bnRheC1ucyMiPjxyZGY6RGVzY3JpcHRpb24gcmRmOmFib3V0PSJ1dWlkOmZhZjViZGQ1LWJhM2QtMTFkYS1hZDMxLWQzM2Q3NTE4MmYxYiIgeG1sbnM6ZGM9Imh0dHA6Ly9wdXJsLm9yZy9kYy9lbGVtZW50cy8xLjEvIi8+PHJkZjpEZXNjcmlwdGlvbiByZGY6YWJvdXQ9InV1aWQ6ZmFmNWJkZDUtYmEzZC0xMWRhLWFkMzEtZDMzZDc1MTgyZjFiIiB4bWxuczp4bXA9Imh0dHA6Ly9ucy5hZG9iZS5jb20veGFwLzEuMC8iPjx4bXA6Q3JlYXRlRGF0ZT4yMDIyLTA5LTE5VDE2OjA2OjEzLjM2MDwveG1wOkNyZWF0ZURhdGU+PC9yZGY6RGVzY3JpcHRpb24+PHJkZjpEZXNjcmlwdGlvbiByZGY6YWJvdXQ9InV1aWQ6ZmFmNWJkZDUtYmEzZC0xMWRhLWFkMzEtZDMzZDc1MTgyZjFiIiB4bWxuczpkYz0iaHR0cDovL3B1cmwub3JnL2RjL2VsZW1lbnRzLzEuMS8iPjxkYzpjcmVhdG9yPjxyZGY6U2VxIHhtbG5zOnJkZj0iaHR0cDovL3d3dy53My5vcmcvMTk5OS8wMi8yMi1yZGYtc3ludGF4LW5zIyI+PHJkZjpsaT5Gb3J0dW55IFNpY2FydCwgQWxhbjwvcmRmOmxpPjwvcmRmOlNlcT4NCgkJCTwvZGM6Y3JlYXRvcj48L3JkZjpEZXNjcmlwdGlvbj48L3JkZjpSREY+PC94OnhtcG1ldGE+DQogICAgICAgICAgICAgICAgICAgICAgICAgICAgICAgICAgICAgICAgICAgICAgICAgICAgICAgICAgICAgICAgICAgICAgICAgICAgICAgICAgICAgICAgICAgICAgICAgICAgCiAgICAgICAgICAgICAgICAgICAgICAgICAgICAgICAgICAgICAgICAgICAgICAgICAgICAgICAgICAgICAgICAgICAgICAgICAgICAgICAgICAgICAgICAgICAgICAgICAgICAKICAgICAgICAgICAgICAgICAgICAgICAgICAgICAgICAgICAgICAgICAgICAgICAgICAgICAgICAgICAgICAgICAgICAgICAgICAgICAgICAgICAgICAgICAgICAgICAgICAgIAogICAgICAgICAgICAgICAgICAgICAgICAgICAgICAgICAgICAgICAgICAgICAgICAgICAgICAgICAgICAgICAgICAgICAgICAgICAgICAgICAgICAgICAgICAgICAgICAgICAgCiAgICAgICAgICAgICAgICAgICAgICAgICAgICAgICAgICAgICAgICAgICAgICAgICAgICAgICAgICAgICAgICAgICAgICAgICAgICAgICAgICAgICAgICAgICAgICAgICAgICAKICAgICAgICAgICAgICAgICAgICAgICAgICAgICAgICAgICAgICAgICAgICAgICAgICAgICAgICAgICAgICAgICAgICAgICAgICAgICAgICAgICAgICAgICAgICAgICAgICAgIAogICAgICAgICAgICAgICAgICAgICAgICAgICAgICAgICAgICAgICAgICAgICAgICAgICAgICAgICAgICAgICAgICAgICAgICAgICAgICAgICAgICAgICAgICAgICAgICAgICAgCiAgICAgICAgICAgICAgICAgICAgICAgICAgICAgICAgICAgICAgICAgICAgICAgICAgICAgICAgICAgICAgICAgICAgICAgICAgICAgICAgICAgICAgICAgICAgICAgICAgICAKICAgICAgICAgICAgICAgICAgICAgICAgICAgICAgICAgICAgICAgICAgICAgICAgICAgICAgICAgICAgICAgICAgICAgICAgICAgICAgICAgICAgICAgICAgICAgICAgICAgIAogICAgICAgICAgICAgICAgICAgICAgICAgICAgICAgICAgICAgICAgICAgICAgICAgICAgICAgICAgICAgICAgICAgICAgICAgICAgICAgICAgICAgICAgICAgICAgICAgICAgCiAgICAgICAgICAgICAgICAgICAgICAgICAgICAgICAgICAgICAgICAgICAgICAgICAgICAgICAgICAgICAgICAgICAgICAgICAgICAgICAgICAgICAgICAgICAgICAgICAgICAKICAgICAgICAgICAgICAgICAgICAgICAgICAgICAgICAgICAgICAgICAgICAgICAgICAgICAgICAgICAgICAgICAgICAgICAgICAgICAgICAgICAgICAgICAgICAgICAgICAgIAogICAgICAgICAgICAgICAgICAgICAgICAgICAgICAgICAgICAgICAgICAgICAgICAgICAgICAgICAgICAgICAgICAgICAgICAgICAgICAgICAgICAgICAgICAgICAgICAgICAgCiAgICAgICAgICAgICAgICAgICAgICAgICAgICAgICAgICAgICAgICAgICAgICAgICAgICAgICAgICAgICAgICAgICAgICAgICAgICAgICAgICAgICAgICAgICAgICAgICAgICAKICAgICAgICAgICAgICAgICAgICAgICAgICAgICAgICAgICAgICAgICAgICAgICAgICAgICAgICAgICAgICAgICAgICAgICAgICAgICAgICAgICAgICAgICAgICAgICAgICAgIAogICAgICAgICAgICAgICAgICAgICAgICAgICAgICAgICAgICAgICAgICAgICAgICAgICAgICAgICAgICAgICAgICAgICAgICAgICAgICAgICAgICAgICAgICAgICAgICAgICAgCiAgICAgICAgICAgICAgICAgICAgICAgICAgICAgICAgICAgICAgICAgICAgICAgICAgICAgICAgICAgICAgICAgICAgICAgICAgICAgICAgICAgICAgICAgICAgICAgICAgICAKICAgICAgICAgICAgICAgICAgICAgICAgICAgICAgICAgICAgICAgICAgICAgICAgICAgICAgICAgICAgICAgICAgICAgICAgICAgICAgICAgICAgICAgICAgICAgICAgICAgIAogICAgICAgICAgICAgICAgICAgICAgICAgICAgICAgICAgICAgICAgICAgICAgICAgICAgICAgICAgICAgICAgICAgICAgICAgICAgICAgICAgICAgICAgICAgICAgICAgICAgCiAgICAgICAgICAgICAgICAgICAgICAgICAgICAgICAgICAgICAgICAgICAgICAgICAgICAgICAgICAgICAgICAgICAgICAgICAgICAgICAgICAgICAgICAgICAgICAgICAgICAKICAgICAgICAgICAgICAgICAgICAgICAgICAgIDw/eHBhY2tldCBlbmQ9J3cnPz7/2wBDAAcFBQYFBAcGBQYIBwcIChELCgkJChUPEAwRGBUaGRgVGBcbHichGx0lHRcYIi4iJSgpKywrGiAvMy8qMicqKyr/2wBDAQcICAoJChQLCxQqHBgcKioqKioqKioqKioqKioqKioqKioqKioqKioqKioqKioqKioqKioqKioqKioqKioqKir/wAARCAFwAxkDASIAAhEBAxEB/8QAHwAAAQUBAQEBAQEAAAAAAAAAAAECAwQFBgcICQoL/8QAtRAAAgEDAwIEAwUFBAQAAAF9AQIDAAQRBRIhMUEGE1FhByJxFDKBkaEII0KxwRVS0fAkM2JyggkKFhcYGRolJicoKSo0NTY3ODk6Q0RFRkdISUpTVFVWV1hZWmNkZWZnaGlqc3R1dnd4eXqDhIWGh4iJipKTlJWWl5iZmqKjpKWmp6ipqrKztLW2t7i5usLDxMXGx8jJytLT1NXW19jZ2uHi4+Tl5ufo6erx8vP09fb3+Pn6/8QAHwEAAwEBAQEBAQEBAQAAAAAAAAECAwQFBgcICQoL/8QAtREAAgECBAQDBAcFBAQAAQJ3AAECAxEEBSExBhJBUQdhcRMiMoEIFEKRobHBCSMzUvAVYnLRChYkNOEl8RcYGRomJygpKjU2Nzg5OkNERUZHSElKU1RVVldYWVpjZGVmZ2hpanN0dXZ3eHl6goOEhYaHiImKkpOUlZaXmJmaoqOkpaanqKmqsrO0tba3uLm6wsPExcbHyMnK0tPU1dbX2Nna4uPk5ebn6Onq8vP09fb3+Pn6/9oADAMBAAIRAxEAPwD6RooooAKKKKACiiigAooooAKKKKACiiigAooooAKKKKACiiigAooooAKKKKACiiigAooooAKKKKACiiigAooooAKKRmCqWYgADJJPSkiljniWWF1kjcZV0OQw9QaAHVU1PVLLRtMn1DVLhLa1gXdJK54A/qfbvVsnAyeBXzH8WvHk3jDWn0/TZSdGsJPk29J3HBkPqOoHtz3qJzUFc7MHhZYmpyrbqfQnhnxTpXi7SzqGiTmWFZDE4ZCrIw7EH6itivn/AOA2rmx8Xaho7E+XfRGRR/tpz/6CW/IV9AUQlzRuLGUFh6zhHboFFFFWcgUUUUAFFFFABRRRQAUUUUAFFFFABRRRQAUUUUAFFFFABRRRQAUUUUAFFFFABRRRQAUUUUAFFFFABRRRQAUUUUAFFFFABRRRQAUUUUAFFFFABRRRQAUUUUAFFFFABRRRQAUUUUAFFFFABRRRQAUUUUAFFFFABRRRQAUUUUAFFFFABRRRQAUUUUAFFFFABRRRQAUUUUAFFFFABRRRQAUUUUAFFFFABRRRQAUUUUAFFFFABRRRQAUUUUAeT/HLxPJZ6fY+HLOXy5dQJluGDYxCpwFPszfoprl/hL8Ql8P3kui63ORpszF4ZW5ED9/+An9D9TWB4x1M+J/iJrmqLiS1s2+ywZPBWP5cj6tub8a5q1jJux654rzqlVqo2uh9bhcHCWDVOa+LU9X+KnxUivNOl0TwtMzRygrdXijAZcconfnufy6143ZRD7O4PfvW3rGnmG3EqqwDDnIxzWeI/KtSMYJYY/KspVXU1Z10MPTwvuwNn4eX39m/EvRbjdgPdCJv+Bgp/wCzV9W18ZwzPZ6hbXMf34ZFlX6ggj+VfZMEyXFvHNEcpIgdT6gjIrtw70sfPZor1FIJpo7eB5p3WOONSzuxwFAGSTVLQtZtvEGiW2qWG77PcAsm4YOASOfyrgfjh4kbS/C0GkWz7Z9Uch8HkQpgt+ZKj6Zq18ELw3Hw7W3Zsm0upIwPQHD/AM3Na8/v8pw+x/ce18z0SiiitDmCiiigAooooAKKKKACiiigAooooAKKKKACiiigAooooAKKKKACiiigAooooAKKKKACiiigAooooAKKKKACiiigAooooAKKKKACiiigAooooAKKKKACiiigAooooAKKKKACiiigAooooAKKKKACiiigAooooAKKKKACiiigAooooAKKbJIkMTSTOscaAszMcBR6k151rHxj0y3u3ttDtm1BkODOW2R/hxlv0qJTjBXkzajQqVnamrno9FeOS/GPWg/7vTrEL/tBz/7NTrH443CSbdU0aN1/v20pUj8Gzn86y+sU+52PLMSle34nsNFcfofxP8Na3KsIuXsp3OFju12ZPswJX9a7CtoyjJXTOGpSnSdpqwUUUVRmFFFFABRRRQAUUUUAFFFFABRRRQAUUUUAFFFFABRRRQAV578UfiPb+FNFu7LTpPN1eSIhQp4t8jhifX0H4103jHxCnhfwtd6kdrSqAkCH+ORuFH9T7A18ua1LPqDB7mRpZ7qbfI7HJY5yTXPWq8lkj0MHhlVvOWy/M0/Clgz+HLmMnBk2ZJPfOf6ms/y9s4PvWvo++PTLlFbHKED15xWbKp80gdj1ry73kz7DSNNLsS3UbSQ7FOQDmob6DZbQjHOOau2uNylxkUatFzGV5BHFEWZzfU52Vf3yj0FfU/w61H+1Ph7pE5OWSAQt9UJT/wBlr5dnXF0PQgGvX/hz43svDXw+1Nb6QNNaytLbwZ+aXKj5R+I59M13UZKL1PAxsHUj7q1ucl8WNXGt/E+9jRt0OmxpaL/vDLN/48xH4V3HwGucWutWZP3XilA+oYH/ANBFeM2rzXLXOpXrb5byeSZ3P8TE5J/MmvT/AIG3WzxRewscC4tSQPUqw/oTRGd6txVKdsK49ke60UUV3HhhRRRQAUUUUAFFFFABRRRQAUUUUAFFFFABRRRQAUUUUAFFFFABRRRQAUUUUAFFFFABRRRQAUUUUAFFFFABRRRQAUUUUAFFFFABRRRQAUUUUAFFFFABRRRQAUUUUAFFFFABRRRQAUUUUAFFFFABRRRQAUUUUAFFFFABRRRQAUjusaM8jBVUZZicAD1pa82+MviZtM0CLRrSTbcahnzdp5WEdf8Avo8fQNUzkoxuzWlTdWagupwvxH+Ik3ie9fTdLkaPSYWxlTg3JH8R/wBn0H4n25HTxtkqpFHzV6Bcc15M5OTuz66jCNKCjE0CoZT06VmvGBIavq3y4/lUJTLVmdHOUzFg16n8M/iA9vJFoOuzboGwlpcOeUPZCfT0Pbp06eaSLSBcjBqoVHTldGGIpQxEHCZ9WUV5l8OPiAt1FHouuzKs8YC29w5x5g6BWP8Ae9D3+vX02vXhNTjdHyNajOjPlkFFFFWYhRRVPU9XsNGtvP1O6jt4+288t7AdSfpSbSV2NJt2RcorkB8TNBZiFW8Pp+5+99Oa5jXPiLqlxfSQ6cr6bCiZj3Rq0kjZH3s5AGOwrCWJpRV73O2ngMRN25bep6tRXmel/FZooI49ZsvMcHDTwsBkeu31/GvQtO1Oz1ayS70+dZ4W6MvY+hHY+1XTqwqfCzGthqtD40WqKKK1OcKKKKACiiigAooooA8V+OWtNNrWlaFE/wAsUbXcyjuSdqfkA3515i6BtQQdo0z+J/8A1VteM9ROtfFjXJwcpbzfZk9hGAp/UE/jWNCd8ssn99zj6Dgfyry67vNn0uAjy00jcjMaaFtRcSvJlmz2A6frWSy4lOa1YVR7NAmd/OR1zWfcLsnUkcE4rkjuevVfujol+Q1Pf7TbW2f7vJpIl/dH61Fc5ZAOwH581UdzCcvdMi9j23keOcoP54qZphFayDqW+UD9T/Sn3sRN3AuOTlf1qJozO9lGSD5k5Of9kmt90jhbtJ2G3cZgt7a2XjIGf61v+A9Y/sbxtpkwOEM6xP8A7r/Kf0bP4Vm6pGv9qHacpCvX1qlYlknSVfvodwPvnNEXomEtW499D6+orndc8c6H4a0i0vtZujGLtA8MaIWeTgHgD6jk8c1t2F7b6lp9vfWUgkt7iNZYnH8SsMg16t0z5pxkldonooopkhRRRQAUUUUAFFFFABRRRQAUUUUAFFFFABRRRQAUUUUAFFFFABRRRQAUUUUAFFFFABRRRQAUUUUAFFFFABRRRQAUUUUAFFFFABRRRQAUUUUAFFFFABRRRQAUUUUAFFFFABRRRQAUUUUAFFFFABRRRQAUUV5X428S6z4b8cSf2ddsIZoY3MEg3IeMdD06dsVnUqKmrs3oUXWlyx3PVKK8rh+JWt3FuP3Fmjf3ljb+rVnz/ErxFY3QdpIJ06mJ4gBj6jBrH61TOr+zq9r6HslfNHj7WG17xrfXQbdCjmGH02LwMfU5P417fN4tgvPh3da/ZfIwtmwhPMcvTaf+BEfhXzq4zNU4iV4pI0wFNxm291oEUfymrkKfLS20WUrWisg0QOO3avPbPdRmhDmneXirjW5RsEVDJwcdPrQO5ScZPShU9qmKZPFT29uXzSDmKW3ZIG7dDXcaB8QNa0aNIJHW9tl4Ec5O5R6Buv55rlGt/nKke1XraBXUK5w3Qk0KcoaxZM6cKq5Zq57R4c8baZ4iIhjY215jm3lPJ/3T3/n7Vs6nqVrpGmzX+oSiK3gXc7H+X1J4rwWS1NpKk0UpjaMhlkU4IPUEGm+KfF2qeJrO3sbqQG3turKMec/95voP61208XePvbnj1suSmuR6HWXHxS1LVJ5Bo8cdnCPuB03yMPU54/D+dcrf3dzqF411qVzJczn+KQ5x7AdAPYVi6cSrLjr2rUnfdIS3U8muKpOc3qz2KFKlTj7kUmWIL5Ug8sKN4OVb8v8ACommMt6BLySDn/P4VTVsSfjSyPm63dv/AK1QomkqhDcZEpUdM8Vv+DfE03hvWEkZmNnMQtxH6j+8PcVzspzKTU6gFVbtWsbxd0ctS1SLjLZn0kjrJGrxsGRgCrDoRTq4X4aeIlvdL/si5f8A0m0H7vcfvx//AFv5Yruq9iElON0fMVIOnJxYUUUVZmFFFFABUV1cJaWc1zKcRwxtIx9ABk1LXI/FPVP7I+F+uXAOGktjAv1kIT+TGk9hpXdj5q0q5e4S/wBSm5lmkeQn1Zjn+ZrRtINsSL6CqOkw7dFto+80gJ+g5/wrfihwQK8iq9T6nCr3EWYysdntHBNUL2PeuF+8nI5q/Mu3aOnFUpD82axR2SlpYnj/AOPNX9arsuSM96mEyx7FcZV+AfQ1J5B3HA6HNUu5zzl0M64XMlrIwyA7ZHtjP9KdYWvn39uBjbDFu5qa4+SKM4+7MRz9CP61LpKfvLkjqsagfjn/AAFafZOe/vlC8XEUsh6tyapW7LHamV+Bmrupt/ocijqwrJdg7JAD8sSl29yeB/n3rS2hmpPnF8Qa5qHiC5tjeyl0tYUtrdOyIowPx4yTX0X8H9Uhv/hzY28cqvNYlreVQeVwxK5/4CRXzU67Mv8A3Rx9a6j4T+JW8M+NLeWaRhaXzi3nXdgYJwrH6MR+GfWtqU7S1McRR56dl01Pqaiiiu48MKKKKACiiigAooooAKKKKACiiigAooooAKKKKACiiigAooooAKKKKACiiigAooooAKKKKACiiigAooooAKKKKACiiigAooooAKKKKACiiigAooooAKKKKACiiigAooooAKKKKACiiigAooooAKKKKACvKPiva58Q2M2Pv2238mP+Ner1578UbffJpco7GRT/AOO1zYn+EzuwDtiEcHB+7jAArP1FS8hrYjt3kKpHGzMegAzVC+jCyEZyfavJW59G3oUV166sPDV3oacwX1xG7En7u3k4HvtX8qxNuZj6VevnBmjjIGd28HHPCkdfxNV9vzhQMsx4rpbdtThjZSbRpWFqZCqryWOBXVN4fuobQOzY46dKqeG7BhMsrxuyoMkqOldFrF8GhURS/r0rkb1PQV1Y5eaB4RtYD39aybiIFycH8625Q9zKTlj6Z5qCW1KnEiY9Dtpp2CWpkxwMcfKcfStWztwFA4pqRjO1uMe9XANkZMfQVe5lexTmtcTk/wCTSm1by946ZwcVaklXywTjd0rSgurI2Jjltyr7eHB6cVm0zRSRz+qRlbALFKHyMkAY5rKgtvLQo/3iO9b17C8kAkjwAD07njrWU6lo9y/eXrVxvYzk0ncpWx8q8UejYrSu2Bl4PYVks2LrcPXNXGk3Y5J+tW4kRqDgMtmlK/NzSxcmpWFKwnIqMmSamiGYGX05p+zLU+BNsvPcYqkZyZY0+7n028hvrRtk0TBlP6EfQ17Z4b8Q2/iLTBcRDZMnyzRZ5Q/4HtXiIi/dlR2NavhzVrnQdRS7t8svSWPPDr6V0Uqns35HFXpKrHTdHuNFcL4n+Idpb6GDo8jNdz4GSpHkjuTnv24+tYsHim9ureJ472cMEAfEh5bArqniIw21OGnhZz30PVKK8/034jWlhb/ZtXaaeaNuZEAOFPrkjnP8xXb2GoWuqWa3NjKJYm4BHY+hHatIVIzWhjUpTpvUs141+0TrPl+HLHRom+a4m86QD+6MhR+JJ/75r1TW9btdC09rq7bnpHGD80h9BXzR8Q9Rutd1y3nvG3STzZCjooHQD2FKpNL3SqVNv3itYw7ZLWLtFBu/Fj/9at23jzICay7JQ19cEdFYIPwA/rW7aRFjxXkVNz6WhpErXf8ArOO3FUpE6VqzW5YnHXrVN4jvxSiXNmdej/ROOqkHNadtIzQhhnbMgBwe3Gaq3CbonTHVTU9g+NHRR1OR+taW0OZy94r6hGSqKMYaUsD9atWJEFrcMv8AEMdO1V7g5WLd2lHPtmrEy+To7TgEL3/pV20sYuXvXMLV38u2TJ+8ST7CsW3Yiya5f70rce/pWv4oVbbQfMc/v3AUD+7/AJFYs04McUa/chjHT1IrRaozvaQ+6l3WaIvVjVZxtlWNf4cCp7ZSYWmfovT602ziM9xuPrStY35rn134U1I6v4R0q/Y5ee1jZyf720Bv1zWvXF/Ca58/4dWSZyYJJIv/AB8n+RrtK9GLvFM8CrHlm15hRRRVGYUUUUAFFFFABRRRQAUUUUAFFFFABRRRQAUUUUAFFFFABRRRQAUUUUAFFFFABRRRQAUUUUAFFFFABRRRQAUUUUAFFFFABRRRQAUUUUAFFFFABRRRQAUUUUAFFFFABRRRQAUUUUAFFFFABRRRQAVy/jm0E9hbSsuVhkLHj2/+tXUVz3jaUxeHWKnG6QLyM9QawxCvSZ04V2rxZwrXEluRdzQBF2FIlHT0zg1zFwDKxYc1qahevNjzT7DntWbG4AbIH4148VY+jlJGDqCfvrZx/wA9mT81z/SprKL94ZSOc4U1J5azt5cv3Ul8wc99pH9aupEBjZ0rWT0sY01rc2rXUJl0sW6HaM5ODjNU5N7Nk5qSJSsYxViRozCBj5u/FYWOrmKsMrRt0yadcXBmYbxQ2AKiPNNITkNdeBg/SoppyEwOT6U85FCpvGGYgd+M1cVYxlK5mzTSHG49+ladlKJbfDdRx+GBWbdR7JQMH2yKuaaCHcEceWcVbWhnGepozxsEX5jgjGPaqUdlidt4Ox1OcfhWzKFZAp6lRUbxCLYQd2V5AFRsaN3Rx1zbNFcYIxT1zW/rNqjMrRrnaOSOnasdoWz0rVaowbsx1umTVgx7qSCPAHrVxYjgY61LKvoVUt3kb5e3rViOzkbaw2gZ4JPFO1aVY0t7OAbSxy57sf8ACtFWA02CKQbUBLg/XH+FGotOpRlgeCTbIuDgHFXLKJVtWLoDuBFZctyXnZhwuSce1bFlOFSOKTgOwXP41droyukzB1eF/JxycHj6c81FpOsHToXZznAO0Z6k4FdNr/2ZNJlnj5eJdioVwDnI/ma5HXLHyvMlgAMQcjIOe64/nVxtJWZlJuL5kVXvvtU0cY+/K2WPrya9S8Ia3BoV81reTBLWW18wkno6jOB7kE/kK8c0HM/iJV6iJVAHua9G8RWu1hcKB8u1sDsMDIpt+zmrCS9pTaZHrOtz+ItTkvJsrGPlhiz9xf8AH1rg9Zi8/wAU2UX/ADzUv+uK7iC0xDleVbkH2rkbpM6/qFz/AA20JAPphSTTvdtk2SSSIdHPmRvMf+WkjMPxaurs4AtuGJwTziuX0yMRW0CDjCDP5V00bySRHYwCqOcVzzV2ejSlaKIruRImwpyTVGNQ27d68VLNyxLHJqJsrjj5fWkojlMq3KbXpmnAmF4/7r/zq5OBLDz96oNPTDzHsTz/AE/rWsVoc05e8R3abnCRgnJGB6muisdNRIYxqCh0VQQgPVvWubmuCl7GV+6sgU+/r+ldJJcZjiYDAdQSPQmpnfRIdO2rZ558RZlGrpDENsWA236//qrngcwxjqZGz+FbHxAkEniBkA4RUUkepG7/ANmrO0u3+06rGn8MQGf510xVoI5W71GaF/F9l0yOPHzEZb60/TofLtN56npRrDebdRwjtyatsnlwLGOwAqOh0xep7f8ABC48zwheQk5Md6x/Aov+Br0mvJPgRNm11uH+7JC4/EMP6V63XdS+BHkYn+LIKKKK0OcKKKKACiiigAooooAKKKKACiiigAooooAKKKKACiiigAooooAKKKKACiiigAooooAKKKKACiiigAooooAKKKKACiiigAooooAKKKKACiiigAooooAKKKKACiiigAooooAKKKKACiiigAooooAK5H4h6jBb6PHZOsjTXDbkKgYG0jOfzrrq4H4moR/Z0q9P3in/AMd/+vWGIbVJ2OrCRUq0UzgpLaeYZB/AmovslyqkBN30NXIptuAf1qfzdrAnGK8jmZ9A4RMOLT3WQbiN3fJxk1pxWEkYzJGQvTNa0clrNaEP8swOQeu4ccY/OmByvAJHGMA+opOTYkktiARb1OPx9qhlQheR9KuYCjdH2HKgE4HqT9TUZIdiD0PeqtcTlYzjTelWGhwxzTDHTSIciEjJqSFOTnipY4uM1MqJuHFMm5n6lDgxyYzxjP51JY/JJuP93mup1TSrafQ4Psrq0sakyD+tcwMQSBT34p7oi+tzTs4VvdzmQJtH8Vad14bm+yrPbyeauCW+XoB3rMsGeISbANrDBz+FXbTUJre68tpG8p+HXPUVNi3J9DGvUJYBhkYx6DrWe9vjHy/rXW6rpgCDayvkZ3KcgH0rAmAEIyoVwcEA9KuJE31KCqUbgfnVhGIcdqYTU9ou6UO65VeTV8pnzFa+jEurKy5IWMDn1PWrGoTMcJ02jGBVNrrbfBzjLNnFXHtGm+fzF3HsaWi3Gm3sZRUnP5VYvLv/AEfTYoHBlki3SbTyuCV/Ug1LNYTw8PG3PQ44NWdK0BpLpnxl2P4KKbkkiVGTkV/EEN4PCTvb5cNIm/nldpB4/P8ASm3KxjwzZgAvvtsOMdHRjj8wMV1GoItr4eNs4G55SQfXAINZdoqSWG2aPOwk7s9aiMmkXKKbZl+GtNitLYefbxrdHDbwo3fifyrbunR7cpK3BqtDExkO377/AKCtFLVEXJ5I7mlJ3dyoxtGxn280lrbmNY2lUD92DwR7VzeoWb2Ph3VLibmWRSGPqXOD/OuxCYkLnoK5bx1c+VoMESji6u0Q/QfN/wCy1pFtuxjJJK5iwyAsMdO1aMNwVYBmbaeqrWRCcIDV6AZYGqcSozL0j+YRjgUrnEQOM7Tkj27/AKUkSluvalPXHaosW5aELg+SwXnHIqBWMSTMnJbbtHue/wCHWtSG3LMOOg5zTLuzjgs3kQ8oM4I6Va7GMrvUyI4gY0J7MSPzrf0yIXVu0UhPUAH0GKwbY+YQB92NAPqa29NfZAzf7WKJrQdOWp53420+XT/EtxBclmZrjerEYypUY/Lp+FS+GrfbbTXbDmRiB9BWn8RojcXemyJy8m9OvJxtx/6FToYo7GySIfdjXn8uT+da3vBGaVpsyVTz9YcnnacfpVyUE03To8s0jA7nJOAOua1YrF5mwVCjHX0rOUkjoppvY7z4GP5er6tCf+WkCP8A98sR/wCzV7PXiPwylTSvGiB3Ajuomgyf7xII/UAfjXt1deHkpQ0PNxkHGrr1Ciiiug4wooooAKKKKACiiigAooooAKKKKACiiigAooooAKKKKACiiigAooooAKKKKACiiigAooooAKKKKACiiigAooooAKKKKACiiigAooooAKKztT8Q6Roqk6pqNtakDO2SQbj9F6n8q4LXPjbpNmrJodnNfy9BJJ+6j+vPzH8hUSqQjuzpo4WvW/hxb/L7z06ivl/xL8RvE/iQNHc3zWts3/LvaZjUj0JzlvxJr6C8Eaqda8D6TfM26R7dVkPq6/K36qainWjN2R0YrL6mFpqc3ub1FFFbHnBRRRQAUUUUAFFFFABRRRQAUUUUAFcb8SY86PaS4yVn2/mp/wAK7KuZ8fQ+b4YJ/wCecyN/Mf1rKsr02b4d2qxZ5cPl64/OpFOflIpuzC81JGAfwryLHvcxd08xJL+9hSX/AHiePyqaaGJ7lzZI+wYzweKoq3ltkGpQ5eMsRkDFPluTz2J2QxPiRenYiomhMgJj3NtUs2F4Uf5xUhkeWQHqCOMD3qRYgud27B52g4BPbP40rWByvsVQu5cHrnvUbpWt9iuPswubsfuyeHZ+WJPYVHJbBykcTo7Nzw3T65qjPmM6BQJQPU05oSlztHbFIJB5n3SGRuauxxTXEikJuYqCAo5P+cVdiHIl0+dItTkguCAkow2RwPesvxBZLZakRC26Pqp/E1LeoyXYb+LPzfpUN5MJLeRW5I6H6Cmo6kuRPY3ca2eWyW6cCqcl55moEDgEjFUY5iseCxA9BSKS98pTNXyE+0OoS6MY/wBcWGQNm7g/Ws68tWLPKi/I2C/HQ/5/lVSS5/dld3Oc4FS2l+Gj8mQDBBHP0pcttQ576EAgycnIqW4u47C2dXGWZMKuOtWlLQW7mKBriZScJnGfc1zN0t2WaS8jk80k5LKRzVpXM27FRXae8d26jj6VtwyFlwT0rG09Ml2P3iST/KtAS+TgH1qZR1NISsjetZ2FsRJ8yDoD6/5FbekTztuit1hXcudzLz24zWHaQm4t4lTgEb2Oa0Jpms0WNRtkB6g54rBxN+bQqai8k915bHO04pWURwrCnX+L61L9neGGKRubi5J8pO4Xu59uwq1bWwtla6nTckIyA3Rm7UWFzX1K8UXk7UHMr9fb2q/PaPb4WQYOOar6TMr6k95dZZYsuR6nt+tWLu/NwrTPgelJoakZ124VWzwijLe/tXnvjW5+1PpeTgrK7YHQjA/lXbX8wksCI2yzHLYNcXquianqH2CW2tJZPLEgYbcbeRg8+vP5VvSSTuznqttWRVhH7tfpWjajLCq5sbi0IW5heL/eFWIX2t8v4Vq1fYzUrbmhIuE4pm0gAmnxuHAywJ9M07O59o61FjTmLtldbVKMMo3UdwcHH86hv8fYZ8nqAFH41GilWz0x2qLUTixLbvkDEknsMZpqOpEp6FWwtx9nO0e/61agykJHqSau+HEjlsx58ZzICeO2QcU29TypTGMBIyefxo6jTsjldbg+1+IrMucpbQlz9WbAH/jtaVrp8c5LTrvB/hPSoRGbm+kn6oWwvuBx/n61qW4JfA4ArGpJ7I66EFvIlhsoY+IbWMemABilktmJ5GPbGKuwnYpJ61HdSjaWPBrlu7nfZJGcHks7qOWM7WjYMpHYg8Gvf9Nvo9S0y3vISCk8YcYOcZHI/A8V873ErvlmOFHQV3Xwn1947+fR7mVjHMvmW6seFYcsB9Rz+Fd2Fnyys+p5mOp88OZdD1eiiivTPDCiiigAooooAK+YpvHHifw74t1YaZq04h+3TfuJT5kePMPAVs4/DFfTtfKXia32eMNYT+7fzj/yI1cuJk4pNH0GSQhOVSM1dWW56Ho/x4u1Cprujxy+sto5Q/8AfLZ/mK7TTvi54TvwvmXktk5/huYSP1XI/WvnlYfapVhrlWKmj1auU4SeqVvT/gn1LZ+I9E1DH2LVrKcn+FLhSfyzmtEEMMqQR6ivk5YqtW89zbf8e9xLD/1zcr/KtFjO6OCWRx+zP8P+CfVFFfNMHiTxBB/qta1BR6faXx+Wa0IfHfiqHGzWZzj++Fb+YNV9ch1RzyySr0kvxPoaivCoPif4qixvu4ph6SW6/wBAK1bX4v6whH2vT7OYf7G5D/M1axdJmEsnxMdrP5/5nsFFecW3xhtHA+2aTPH6+VKH/mBWgvxY0BlyYb5T6GJf/iq0WIpP7RzSy/FR3gzt6K86vvjFp0Sn7BptzM3/AE2ZYx+m6uH134neItVVo4rgafAeNlqNrY936/lipliqa2dzWlleIm9VZeZ7NrXivRPDyE6tqEML4yIgd0h/4COa8/1b45WkRKaNpUs//TS5cIP++RnP5ivHriYszM7FmY5LE5JNUnlz0rmliZy20PYo5TQh8fvP7j0i5+NviWVz5EVhbr2Cwsx/Vqq/8Lm8V/8APxa/+A4rzwkmkOaz9pU7noLA4a38NfcemQ/G7xLH/rItPl/3oWH8mFadv8d9QXH2nSLWT18uRk/nmvHvmow1P2tRdSZZdhpfYR7nD8d7Zv8AX6G6/wC5dBv5qKux/HDRmx5mmXq+u0of6ivABvqRd/qar29TuYPKcN/L+LPoNfjX4eJGbLUh/wBs4/8A4uph8ZfDZ/5Yah/35T/4uvntC/rUyM9L6zUI/snDdn957+PjF4bJ/wBTqA/7Yr/8VUo+Lnhk/wDP5/34/wDr14Csh71IJaX1qqL+ycL5/ee+r8WfDLHBe6X3MH/16k/4Wp4X/wCfif8A78NXgIuAKPtSjrT+tVSf7Jwvd/f/AMA9+PxU8MAcT3B9hAaib4teHFHyrev7CEf1NeEfbEpReR+tL61VD+ycL3f3ntc3xi0Zf9RYX0h/2gij/wBCNZtz8ZzyLTRfo0tx/QL/AFrygXUZ7iniZD3FQ8TWfU1jlmDX2b/NndXnxc8RT5FtHZ2o7FIizf8AjxI/Suc1Hxf4j1MEXmsXRU9Ujfy1P4LgVlhlPSl2g1lKrUluzsp4bD0/hgvuKbxlmJYkk8kmomh9q0DGKaYqi51XMt4OOle2/BDUfN8OX2muctaziRf91x/ip/OvIjD1GK7P4T6j/ZvjVLdjiO+iaE5/vD5l/lj8a6MPPlqI8/MqftcNJdtfuPeKKKK9g+ICiiigAooooAKKKKACiiigAooooAK8u1rxlf3sd5p89tbtF5pCMuVYANxnqD0r1GvFtSQLq14B0E7j/wAeNcOMnKMVbqerltKFSUuZbWK+9X6/IfQ0MpT7xOOwxRtGOajJlQYifA/usMivPjU7nqVKHWJOi5q7bxBY8sMg8VnwXYGFmjKt6g9avq6yRARSDPdScEVqmjklGS3RPAhiYFeV24+nNOzHHIVdgvGc9adDHPDamRomMecbscZ+tY0dyZtRYPnBfA/OrtdGalZm0zs0a7VKqehbjP0qeyiljjk8zThcOoOWAJA9OlQXUyzIm0qPKXYAKojUJbeGXy5GDMezEZpKLCUjRNiwVFlKxzSHlXXBUe+akntLjS40uGuY3YjanltggYrDjnlurgSuSSDljnrVu8n3Qj0H6VXK0yOZNFgi0aFpdzGQYwpHX3rnZ3LSN2zVhbrawyeh71UaQSMxHBBII9DW0YmMpkBOF4qGGci96+1THms9WxdH61pymXMaMrlWwv51We48vcc9KvpZPOu8nanr61Uv9PieMpbSMJQPuvj5jx0/z2pabFXe5Y0PUpBeRjeSXfJ56nIrppbmG4lKSoC5PzKO3WvOdPuXt7+PdlWVuh7EV2FnKsd24lYZKliT+PNROCLhUdjJjhEV5IqDgtim6jEVkHYVrxwWrK0xlYPuyF28HPv2qh4pWM6cr2TFhjbITgEH6f1pLVjeiNPSLwLYqsbrvBDAlc9Occ1pqodlkaF5m6lAOD9T2FcNY3ZSNeenSuttNUlbSisczKpO0qGxkf5FRKDTNIzujZ07UEtNQNxcKs9w5G44+VAOiqPQVV1zUzdsEQBIwchR61nQSZeop33zfjUqOo3JE/nGG1Vc/wCsOf6VS13UTaadtj/1j8KPc1Hdzg6jHEh4RRn61Qmb+0ddSM8pDyfrVcpPN0J9Kla08rf8x6sT3Nda127wIUI24zlRjtXNXFv5UnHStbT3ZrHyjyA2R+QrOSvqbRlbQZIyTKyXCB0bqGFYl9oiKDLp5b3iY5/I10clv5hwODTk07I5anF8pM1zbnDxkKMPw3oalRiGGDz2NdPc+Ho72YusbAR48yReM84qpqum2MMJWxRlKDJ3NnJ71uppnO4yRSWUyJ845HeoNXj36dDb4IE0mSccbQOf5gUlrudwoyQe1M1CcmfaTxGu0D09a05TLmNTTrlYrSTaoAU9awLm+Oo3TxRH9yG+dv759PpUd1e/ZtOkYHEj/In1P/1uaqaaRFEp7dB9KzmrI3pPmeprqAIwqCp4n2kVXt3G4A96uLEAwxzXG0ejFk/nbVHfNVbuXCls1oCIMmNtZmpwGJe/rUK1zVt2Mu4nGOelSaTqL6fq1veRkh4JA4x7dqpyoWPtUMkwt+nJHb37Vsl2MubufU0MqzwRzRnKSKGU+oIzT6434W6pdap4Jja9l82S3laENjooAIH4A4rsq9aL5kmfPTjyScQoooqiAooooAK+W/Ef7zxZq7n+K+mP/kQ19SV8s6w/meItRf8AvXUp/wDHzXDjNkfQ5H8c35IqqlSrHQlWEWvMZ9NzDFjqQR1Iq1Iq0rk8xEI6eI6mC04JU3FzEIj9qUJU20UhwKBcxHtxTHOKJJVUdaozXWcheapIhzHzSgZrOnnycLT2V5D81At60VkCi5FIqzHmk8mr/k+1Hk0+Y3jFIoeVR5NXvK9qPK9qOY0uij5PtR5PtV7yvajyvajmHzIpiH2p4iq0Ij6U4Re1K5LkV1iqVYvap1i9qmWKlcV7lUQ0hiq75VIYvalcnQzzGaaYqvmOmmOncVkUfJpPKFXfK9qPKo5h8qKXlelKEI6GrflUeXRcXIiurOvepUnYdead5dHl0XJ5OxKlz61KJVPeqvl0bCOlKyJs0XMqf/11LaXEljfQXdu22WCRZEPuDkVnguPWnCZh1otbYTd1Zn1FpeoRarpVtfWxzHcRhx7Z6j8DxVqvH/hZ41jtJf7B1OTZDM+bWRjwrnqn0PUe/wBa9gr26VRVI3PiMVh3h6rg9unoFFFFanKFFFFABRRRQAUUUUAFFFFABXj+sRBNcvh6XEn/AKEa9gryPxCyxeIL8Mf+W7n9c1wY74UetljtOXoZrdDUBJzUvnofXH0ppCtypzXmo9mTGgZGGGakRGBBjbBHZuaVY81OkNUYsUXN0kRTB2E5IRjj64qvHbgyq8b4YHO1hV0Kqj5jSNufiODPuxxVqTRjKEXuJJIQzYXGTwCRVMxbtwkO3njmrQiuFODIij0Iz/Wke2RskMWb1HA/KtIzaMJUkye1t9sQUEfNVia0Qx+UzKCU79zmqVtIyEJnDqeCe9WI0mlvA0jAYGBmt7po5nFxZzdyxjmKNwy9qrxMPtEgJ5KBv5iux17wzcXNvDe74FlfkEcbh6HtXMSaNqFtNvNuzJtIJXnv6da3g0zmmmiBCCTisy4fypif9qr6sY3IYYPfNWIbC2lPnSHzPn4Vun1NatWMU7sittQnESxjdtbGOP5U6dZklV3RkPbNbssbyLGgb5eOAaI5Ga5W3eNXVjjDDPWsje5zl5pQvmWaz+W4AG8McBz7e9V5Rc/2kqypJGHITnocYPXoeBXQ6haLFMws1ZVB6ZJOa55bppfEuj2szN5XmnIHOOAP60+gr6m7NbTxR7irBCBzWfcHfZzoeQUNdZqw+1TOYYPLjzhVA6D/ABrnZrUruyOMVEVcuTOXDmM49Dj9a6TSJS9jXNXi+XM+OgJ/ma6LRE26WGPcCrlHQiMtTUhbBpqEG4G7kZ5pkbYzSLKIklkbsjdvUYqOUrmMdrvfqNzMTwuafoeSz3DdXbrWP5p+wyOOsr7R+Jrfgj+zWka+golEcZGldSAoCa3dAt4biEGSXbxx/n8a5K5nzbir2hap5VwsZ5RiARntn/61ZSg7G0Z6nSTQGK4YZyNx5B681btUzMFwSCOcDPFUr27RpWCfdXgGohq7wxkQ/KxBG7uARis1FluRoanqEdlai1s2ADL+9OOSfSuVuJwT65pt1cs7sSxP1qhLJkc1vGBhKYWUcj3UnkKx8ticjsOoqneQsJmz1JrV0S78u/kgfOyaPcMdmHH8jU2vww2lrc3RPEUZfH8h/KulHK3qefahcG51TyEPyQ/L9W71otthkVM8LhVH5/4ViaapN7mQ7mLEk+9akcqyaqGc5SIZI9zx/n61hPudVN20NAuyTIG+X5dx+la0FykYw3JFYtxceZISO4xTo5z69f8A69czjc7IzsdEt76DtTLuRbuM9jWfDMNvzf561acDZlTWTjZnQp3RiXI8hTnrxgeprJbJnGeqjJ9ya1dU4kFZ1uPOkdm45yfpW0VpcwlLWx7X8F3/AOKTvE7rek/mif4V6JXmvwbfbp2pRdP3iOPxBH9BXpVd9J3gjyq6tUYUUUVqYBRRRQAV8o3T+ZqFxJ13Ss35k19WSNsjZv7oJr5OU5Yn1NcGM+yfRZIv4j9P1JkNWFaq6VMtecfQMsK1SK1QA04GpIZZElKZQO9VTJimFyaLCuyy9wBVeS4Zvu00LnrUixinohWbK5R3PzU5bcCrQSpAlK5pGKRTEIpfJq55dL5VK5pco+TSeVV/yvak8n2ouHMUDDSeVV/yfak8n2p3FzFDyaPJq95NHk07kcxTEVPWI+lWxDT1hpXFzFZYvapFi9qtLEad5RpD5ioY/ammOrpjphjoDmKRjppjq6Y/ammOgfMUzFSeXVsx0nl0XHzFTy6Ty6t+XSGPincrmKvl0nl1aKU3ZRcdyt5dIUqyVppWi4rlcp7U0p7fpVgimkU7iK+zB4r3j4aeKn8QaGbW9kL31lhXZjzIn8LfXsf/AK9eG4FbPhLXX8N+JLa+BPk52TqP4oz1/Lr9RW9Cr7OfkcGOwqxFFpbrY+jaKbHIksayRsGRwGVgcgg96dXtHxQUUUUAFFFFABRRRQAUUUUAFeR6tatdeJtRYrnFxJ/6Ea9crzTVpvI13UAo+9M3864Mb8CPUy3+JL0OfMQqCSJPTHuDV5lyTVeeI7civNR7MiBCV48w/lUyygfedjVB3IbFSQtk81rynM5GnFKnZcmpvNY8AYqisjD7tO81/WnykOZb2R5yxJNMeQ9EHHtVNpGJ60CdlGAatRMnMsmIvy3WrME5iYCYbh/erN85mOcmr1mDIfnPFWk0ZSaZ0cH2Q26TqrTMvVWf5R6frUNts/tAfbZ0jQncFPcen6VmvAygm0cqT1UHGaS0uUhkIuItz4xiUnP1rRamMrovanp2hXrM9wTHlRt2DJJ781jy6BYR2qtFNLGCcgZz+fFXzJFcZ3sflBACKBk57/nUt1JaCwTbFc7yP4yoX/E1qrpGLtc5KaG6srlBC5lVm+8OD+NbyR7YY55iDIB/D2rFmlY3WMYAPArXEUk9ohEqqPQmqd2TGyKJvmW4dR0IOQPx/wAa4rVZTa+JLWYDAjcsOPQqR/Kuzm0ydG3gZUr97PFcl4ogPmwyqPmCsG/AVUErinK6PSdKvE1PS4JUIMrD5kAPoCT/ADqjehfty28Khnk65OAvvXM6BqM8VvFHHuZmJCqvXsDXULG9pFNPOB9onG0eqL6fjUOPK9Bp3Wpzup6BbvLiG4KsT8xK8d+n51pNBDZ6fFbwEkIoBY/xe9JOuQM02Y/KB7Vok3uQ2kRocKfpVPU5fJ0W5fPJG0VZBxGayPEUm3S44wTmWQAj2q+UjmM+3iLyabb4zvYuR7CumvY/LXHoKy9DhEviuJGGVtrbJHuf/wBVbupxNuyRgN0qGtS09DIlG+DHtVGKZoLkHPQ/41pmPC1mXcZWbI/z1osVzHXwXaXUIAIDkcj3zVaYlM5rK0m6eKTCkDPUkZ9a17v52Q5GJOAR61ny2ZbndFCRtxqGRTipHwikuQoB71knWfOb9xwgPB9en/1602M9ZF+3Jh1C2fHG/afoRVvxNDNqVu1lbH77L5jEHAUHP8wBWC2pTMMGRsYx+n/16lt9anhckSHHv/wI/wBaiU5W0RpGlG92yW28B3MdvJcQXQlnVGYRlMAng4zmuasy65DghixLBhyDhSQfpXpWn67FKqrMvGQCV6gZ7fgK5vxVpqxXS30AAjnUsxB/iyBz7kfyrGMpN2kdEoxSvEwmfBH+fSnxyfL1/wA8VC5+YUwHH+fpWnKZqRfS6IwOorRtLzzMK3+elYiA1btH2yDnoazlE1jOxLqq/Lmsy2ZUtpXbhQMH8K1NSbfbA4xxXOictZ+WOkkrZ+g5pxWgSlqetfCK+kXWzbs3Elu24DoSDmvY68I+E0zf8Jrbrnho5B/46x/pXu9dFHSJyYl3mn5BRRRW5zBRRRQBW1KTytKu5OmyB2/JTXymjV9QeKJfI8I6vL/csZj/AOOGvlpWrz8Zuj6XJV7k36FtWqZWqorVIHrgse6y0Gpd9Vw9KGzSsQTbs04VEpqRaQWJFqVajWpVFIZItSKKaq1Kq1IXFC08JTlWpVT2pBzEPl0vlVYCUuygnmKvk0eTVvZ6UeX6UyHIqeT7UeV7Vb2UbKZDmVhFThFVkR04RigXOVxFTvLqwIx7UbBQHOVTHTTHVsp6CmFKA5yoY6aY6tlOabs60D5yoY+OlIU5qyU4ppTigpTKxTmm7assvNRleaC1IrleKYwqdhULUD5iM0w05jUTNTHzCE00mkLU0mmVcXNFJmkoGez/AAp8S/2hpDaPdPm4shmLJ5aL/wCsePoRXoNfNGh6vPoWtW2o2p+eF8lezr3U/UV9HadfwappsF9aNuhnQOh+vY+46V62Fq88eV7o+TzTC+yq+0jtL8yzRRRXWeSFFFFABRRRQAUUUUARxXEM+/yJY5PLYo+xgdrDqDjofavJ9bvo38Q3+0ggXDj8jiuAtde1bStWub/Sr2W2muHZpCpyHySeQeD1qKLVJt5MzNuJyWJzk15daqqsUj36GFlhpN3ud0sqt3pxwwrlYNSlwCrBqvRawy48xTXJynVzF66tt3K9fWoISquFlG09j61NDqUM38WDUzRRzL2I9q0TtuYySew9YMjKNxUn2RuoNV445rc5iPmL/dJ5qwl7GTtb5G9GGKtGEiN7ZwT8tMFnKx4U1eWcDlTkVahkWQcMK1RgynDYlR+8H4Vct7UyTKiDBJxVgRZ71OqiPpimTctDTGtmTz/lVujYqnd28bEowDjsatG+kkULI+4AYFQEgnNCRLZmNp7xkvbTMp7q3INWLQ6akZF+LhZsEIwxsB9z1qwwFMeBZFIIGDWqbMZJEV7oNvHZ/bRcRyFuFVCSc8deOK5x5Jlc7Sfb2FdLHCYUKR4IPZqils45SqunljPzMOeK1RlsZ4ldtIjSSQ53Ehc9q57WLGS5jRFBLliAcdQa9Bt/D8GplPLZreKMYaSRhz9F/wDr1l69Zw2N59ntXWRRgBh+tNaCepBoGhw6Tpv2gsJJWYgMR0HtUd7KZJCSa15HCaTDEQBsyc+ucVgTSZkP+NJK7uNuysQXDYxUUzfKp9qjuZfmpjvmJa6IxMGxSf3ZrD1xvN1CwgzkZLEf5+tbDn5PxrAu387xWoPSGIfhWjjoTc2/CSiXWNWuCMlSsSnHTA/+vW/qWWutg5CACsnwJGTotzdHpNcNJn6EgVNLeM92zZOwNx71i0aJl6GxjlOHOD7Cq2oaD5jfuPTv9Kt2l1gjFdDbT2d1bLFOPLcHG7HB68/yrPVFHnP2WS2uNrKVPoewya24cXljt58xQNvHAxzXTanpC3Cp/q5VjACsgwSOvPqeetc3JaPaQyEN8oHr146VVrivY5rxhd/Zba2hU7WmBkYA8gA8frn8q5q0kbyUye3b6mn+JLh7rVrhmP8Aq18tR6YA/q1RW6kRD6f40NFRZZEjbhz/AJ4pd5K/h/So/wCKpAueP8/54qGjRSLVrePCxBbjnH610Mc6app8tlOTuI+Rs4CsM4rlMEE56/8A7Rq9azGOQc/dOP51EomkZlGRWR2VxhlJBHpyaiXr+NaesxBb0yIPllUMfYnNZanrV2uiL2Zcj+6KfF/rKZEeKljX95moaLUie9fNi7f3VP8AKuVgYt5aDooDfiR/9auovhjSbhv9g/yrlrUZlX3x+lEVoNy1PSPhT/yP1j/uyD/yG9fQFfP/AMLCE8eWJPTEn/otq9I0zx5/bfxHbR9PKmwgikBkHPnOAp3A+g5A9evpWkGkjKonJ38juKKKz9Y1MabaxhAr3VzIILWJj9+Q9PwABY+wNbHPuaFFR28bw20ccsrTOqgNIwwWPc4HSpKAOf8AHknleAdab1tHX8xj+tfMa19KfEltnw51c9P3Sj83UV82gYrzsX8aPqslX7mT8/0Q9aeKYKeK4j2rDhUi0wGnLSJsTKKmUVElTJUgSKKnUVGtTIKkkkUVOi1GgqdBSJbHotTKtNQVMooM3IAlKEz0qQL604LnpwKdjJzIdnpRt7CptueB0pCvYVSRk5kW38qUKDUm3tSheKrlM3UGBBThGKlCU4R0cpPtCHYPWgqBU+ygqKOUPaFYj0FNK1YIqMrmjlD2hAVppX5qmYccUhXkUWKUyDb1phTirBXmmEdaVjRTK7LxUT9M1O3eqztwaVi1IikOKryGpHfg1WZ6LGikNY1CxpxNRmmaIQmkopccUGqDrSgUAUtIoK9O+EviXyp5NBun+STMlsSejfxL+PX8D615ljNT2lzLZXcVzbOY5oXDow7EHIrSnUdOakjDE0FXpOmz6eorM8O61F4g0G21GHAMi4kQfwOOGH5/pitOvcTTV0fDSi4ScZboKKKKZIUUUUAFFFFAHy1s+Y/WlMINWJ49l3Kg6K7D9aVVrwNj7Z2aKyI0bZU4q9BOTw4pBHmnLFg1VznlDsWlSOQdOamjM8BzFISPRqrxLiraZouYuCZet9TU4W4XY3r2rQVYp152uD61i7Qw5FOj8yFswuV9u1UmYygzVbT1/gLJ9DTfsEwOUnYe4qODVmTAuE/4EvNadveQSj5HU1qmzmlFdStHbXY6Xcg/L/CnS2t5IvzXcjfjj+VaKlD0xTwB2qk2ZuKMX7FOnJaR/wDtpUqXFxBwYpCPzrXC0pUAVabM3FGYuoyO2DER9eKlUXU5/duIx6jmp3jGckUqjb8ynirRk0Tw2Z8vDPJI3ru/wpYtKv7q5EVnLsyMkydAP61C2oJAp3yeXkYJpbTWjbIf7OWSaVyMsVwuPqavUzZBJDfgEPfHaD02gVFBZu8oed8qvP1/GrW6aVjJeOMnnavSqt5e7V2R8CqV2S7IZqN5n5E6CsaWXA5p8shJJNZ9zL15reMTGTIpZctTw+YetUHk+ap4nzHXTGJk2WGboK5eW4C6pqtx/wA802j64ro2fBB9Oa5OxT7ZcTRnkXF3hj/sg5P6CrkrImLPRdDhex8H2logxLJGC31xUM8DRjG3GK0rK4jfaxB2KMLgdqlupIJOgzXOamZbKxxt6ita3YBf3rhMe9UVVz8sS7B/eNTRRRjhiWqGUakFwY8+S5+YYOD1ps0KS7jIoO4c8VUSS3jYYVkI6lWIqaa6hi24uMMeNrAN+PH41AzgfEXhee3aaZFMyNyZAM4+4OfxBNZa2ckbKoRtgIGce+P8fyr1aJhPCDG6fN1UjGae2mQzQh3GJEySDgbvQj8+n1p8wzyZLaR2Uqjcgdv9z/E1ah09nYbwUwuc468f/XNdbrHlWaibylRWPBIHJ9v0qppsS6hHPuXII+Ukcj0ArOdRRRtTpym9DCu7AdY+SSenfrToLK4+wy3FvHG8gYhg55UYPODx6VpzwmB9se4LGvznHO7P9M0aVH/xLp3Y489wFHsB/wDXrOU+xpGGupm2cDTatLbT+XN5asXxyAckfn3q3qvh+zm3PozjzFHzW4yd2PQmjTYZLe1vkOcyT5Y9N3H/ANeiC6ks7oSRMyMucEHBHBpa3uh6WszFSNlj5HtV21gL5IGTnArotWttPvreW/tmS34O9SeDgct/WsQ31vYeGJrxxid0YKn91ucc/lWikmjPlcS4mmR6l4fhiZlhedGcSjJyD93I+lJa+DdJsYI2mdroqrGRg+0jHpj15q7bBobeCA4ASFQv0xxSX92NP0l9o3TXHC56ADua5ry7nXaK6GNLBNY3Ak0ZJUDbl+VtzINjZGfcZFXPAd/b+HPF0N7qEm2Fd8b7eTzHkH6HFYLXF4loYxNJh2DMMnkhSAfyJ/OscmR3SKNsO5JBJx0HH9a01Wpno9LH1bpniHSNZtJLnTNRt7mKEAyskgPl8Z+b049a4DwjrEnj74oX2uJu/sjRIjb2AI4aR+Gk+pUH6ArXjWlz6tJdHQPDU0vm6sFglWNsB1PUH0A7n0z2zX014R8M2vhHwza6TZ4byxullAwZZD95j/noAK6IycznnFU15s26KKK1Oc5L4otj4b6p7+UB/wB/Ur51xX0J8WGC/Du9B/ikiA/77B/pXz2a8zF/xPkfW5N/uz9f0QZpQ1MzQDXIeuSg1IpquDUqmgRZQ1MhqshqdTUsTLSGrCGqaNVhGqTNltKsJ0qrG3NWEPFIykyynap1quh4FWE61SRhKRKoGfWpAu7rxTFPoKkAz97pVqJzSmNI4wOnrQVxwKf0GF/OlxjHrVqJhKoR7aXbxT9uKXbgVaiZOoIEp4SgA8U8Z9arlI9oN2UFQOtPwfWkK0coe0IWFREdanbrURHJpco/aERHy8UhHGTT+xpp+5zUuJopjXGCKhkOGqSQ/IPpVad+M1PKaqZFK2GqnLJhqfPJkZqjLLupWNYyCR+ahY5pC2etJUs6oaiGmmnUmKk6YoQClApaXFI1QYoxS4pQKChKMU7FGKQHdfC3xH/ZmtnS7l8W18cJk8LL2/Pp9cV7PXzAjNG6ujFWU5BB5Br6C8H6+viPw5Bdkj7Qv7u4UdnHU/jwfxr08HUuuRnzWb4blkq0eu5u0UUV3nghRRRQAUUUUAfNmox7NXvEHRZ3H/jxqNVq1qgzrl9/18Sf+hGo0WvAlufaRfuoVVqVUoRamRKRLERKsxpSKlTItBmxyx5pfKqVBUoSmQ0VDGRTfKBOeh9RxV7y6aYatM55RIY57qH/AFcm8ejCrcWtOnE8B+qnNQbCtOCg9RWqkc8oGlDrNtLxvwfQ8VbW6jfkEGsB7RJOqioxazxcwSMvseRWiaMJRZ0vmK1ROC33RisVL27h/wBbFvHqtXrXVYZGAY7W9G4rVGEky3FYRl/MkG4+9SzyrGuEwKDcKU+U1n3MpOa0SuZN2Gz3R9aoSOSac7c1A7VvGJg2RTPtFZVxJVu6l4NZU8nJrojEybI2f5qswP8AIapKjyH5ASOma17bSptgDyIhI6NnitOeEH7zFySlsivLJtjdj0Ck1F4S8NXLWqXN4vlbyWCN15Oea3bXSokmAlk3t/eCkqK1zbRRKN95Ix7KgxWNTEQm7QZpGjOKvJAlnKqhUBP0qaLSXc5cHP1quLpoc4uGXH991z+WK0rK8vvJJL4Vh1AINZcyHZiix8gENNtUjkbQ2Bg/41VMe795Any4yTjp/nIqVEkAYI6MG5Ocmrds0asHlKSRk/Minbn0qk0KzObvJSrEDtWVLKULOWzI3APvXQ3uky3FyWi2hWb5VznvWZf6ZFp89u0s4kkVt5UcAYH8uf8AOaJNJDjdsYk17b3USow3zAhYuvBGM+1dh9llks0mvJnM/ChScF+wx+X0rB8OrAWlvrw/vm+WIP2HrTvFGsrJK1rDOJflAklj6IuPur6ntXHJts7IxSRzGs3EmqaxsgyyAlYxnOR6/Suo0rT/ALFAIx+Puaq6HpBjb7XcrseT7qnqi9h9a6OaIQo0iyRlAPlG7k1lJ3djeCsrnHaxmO8eNG+WQEt/vDNWJdNaxtY42OCAT16VBd7nlYnqMnnvxVm6u1m0tI1y020jAH5VcVoZyepWAZ28sjBIrMvYSJyhOCc8jsK3EQ/ZXC4WbAVSy9Pf8KhutCF7o8we4YXBjKrLgAZI9Ku6RnZs8+1nWnmsWtYmxG0joNvHCkfzFSeILknR4I88TzKQP1P/AKDXPSQTHW2s4lMjozKFHOW6VseLIzBbacB0jQqfqBWlrNEXvFnoFnOL21s54/mZ7dC312j+uRVTUJRe6r9lA5h+Uj06cVJ4QiCQ20UjfL5e7J7d/wCtYxup7fxFLc26F3e4VwCMjAPOfaseU25hNTK21jLIeGYYFcg9xIPm3cZyoPY9K3fFerpPqT2UUZVIXJc+pz0x2xWj8N/BEvjHxIpnjYaZasHuZCOG54jB9T/LNVFX0C6Wp6X8FfA66VpP/CR6jHm+vk/0cMOYoT3+rdfpj1Neq0iIsaKiKFVRgADAApa6krKxxyk5O7CiiimScN8Xm2+AZB/euIx+pP8ASvAiK95+MT7fA6D+9eRj/wAdY/0rworXl4r+IfX5Ov8AZvmyHFJipMUmK5T2BoqRTTcUooJsTKanU1WU1MhqSGWFNSq1QKakU0jNospJg1ZikqgGqRJMGgxkjWjkytWUbpWRFPxirsc2VFWkcczSRuetSrg9T+tVI5PmqwjDvW0YnDOVibcFB28+9KBwCaYHABwM0oywBraMDklUJOrUn8qUn5sCg46VqoGLqDgemRTww9KjHSnir5DP2gpb0FMbOOaeeKid+OO1HIHtBrnDD2qM/epWPTP1pjH5hUuBaqDc9fzpmfkOfWjd859xUJkwzD2zWbiaxmI7/uz7GqM03ykelPlm2kjPWsu5uME4NZuJ0RkJLN1FVi2TTC5Y0orGR3UotjqWm5pN1ZM9CKsOJoFNzS5pG6HClpoanA0ixwpaTNOFIYc0uKKKAE4rrfh34k/sLxEsFw+2zvcRyZ6K38LfmcfQ1yLGm5qoScJKSMa1ONWm6ctmfUVFcd8OfFI17Qxa3T5vrMBHyeZE/hb+h9/rXY170JKcVJHxFalKjNwlugoooqjIKKKKAPnfXdO1HSdbnTVrVoHlkZ1PVXBOcq3eoYiCK+hdQ02z1W0a11G2juIW6o4z+I9D7ivOdb+FUsLNP4cuN69fstw2CP8Adf8Ax/OvMq4WS1jqe9h8whJctTR/gcSi1Oi1FdW15pdx5Gp2strJ6SLjP0PQ/hT45lPeuJprRnpKSkrosKtSqtRI4NTqwpEskQVMtRKalWmQyQCl20gpwqjNiGPNMMXpUwNLkVSMpEIGKkFLgUhGK0Ri0OwpqGW3jkHKg085pjMRWkWYSRXxNb/6piy/3WNKtys2QflbuDT2l9aqzKr8rwexHaumEjjqRFl4qnLLjNOa6cOICu+Rvu47+59Ktx6Src3Dl2IyVHAFazxFOnuKlhalbVbGBcy1RA82XbnA712X9j2TLh4QfxNS/wBm6Xp9qsix5kbPy+lZvHxt7q1N1lsr+9LQ5m1iw4cQuQn3F28Z9TVxHukDYLIrHLEg5P41sK277kYUVNtyPnUY9q4JVpSep6EMNCC0KtldiNQrRjn+LOc1pF45AGwAw6MDzVNtPifmPKH/AGTioJrOaNcxyZ+o5qU9blSi7WZpoto8ytOuJFPDMcj9a2Ha3jtUaPIcnHP8VcjHcSw4FxGSD3BzWto98t3N/Z0+4swJg+uOldlKpzOzPNrUeVc0STDyX24HHqcYqvctGl0wjY5I+bJyM/40++uYrK6e1D7rlXZXH8IAxjoeTRaW9lLMv2gMisCWYHJJ61u6iic0abkrk9lqaaazsgUuUIUlAxyR154rJjtBJcNd3Q3SN0B5wK3J4IUth5EJOQSGIxkCs4OJGO47VTGaxlOUjohTjDUv2ttDMmZ5o40Xsep9sVBc3tmu2OO3BZTy+c5H07VUuL6PYfLLDnjiqscElxlwaz5O5rzlqS8UqGVBnPTJx+VQSXbynk/hU6QRy7be3PnTt3X7qH3NSLpMe4iVmRVBLsT6DoKpWRLbZjyDdIpPIJx+dTaHPNY+IbiWLAjgtBtOA3zsevPQ4BH0p5QCRjDnjpk0zT7K7jN7JIjATOrYyPuqMD+p/GtNLGLvcuSbzbtPJyzEnJ6mq/nNcW4idlihQ/M5NWU827/dlvLiA67az9VnjRRa2yDbu692b/JosVcwYdDsbTXpb+xSaS7lYtGxb7n0AHX3pfE3g6XVdIWPT9019ABI442n1Uen19a6eKzSw01CCrTy9cdQKntJWhtpFjyGk+UkHt3qOZ3ui+VWszA0LFvY28N4rROi4cn+HCf44rN0iS5l/tC/QYSNpCsY5Krt4/PrW1qttNFazm0jy8ikKzdFyMGuct7yXw/o8sMblbydNvXlOxP5E4q91chLWxW8P+Frvx541a3tgY4VO66uQOEXufqegH/16+ltE0Sw8PaTDp2lQCG3iHA7se7E9yfWud+GPhb/AIRjwjGJ49l7enz7jI5XI+VPwH6k12NdMI2RzVJXdgoooqzMKKKKAPOfjVNs8JWSZ5e9U8eyP/jXigOfWvWPjtc7LPRbfP35JXI+gUf+zV5Ej8V5WJ1qM+xypWwq87/mSkU0ilz7UE1ynq3G0AUpxSDpTAcDT1bFRCnA0iGWFapQ1VVapQ1IhlgNTgagDU4NSM2icPjvU0c5UVUDU4NVJnPOnc2YLkNt5q/FLkmuZSUr0NaNpehmAY4JropyT0PJxFKUdTcWQY6U7zCVwOBVOKb5fWpfPwvArvhG5485FzcFwaTd1qurlmUmlMnzYFdUaZzuRMGOKeHPrVYSD1p/mDHUVp7MnmJi3rUbvgYqNphjioWkzmk6YcxK0mRTZH+Ye5xULSYX8KinlwAR2rOUC1IkeTEo9DVSabbJmm3E21s+hrPvroLnJrnnFLc3ptt2Ql5c7c81ms5kbJ6U13MjZY0A1wVKi6Ht4fDS3kSDil3VFuo3Vgz1IQsSbqM1HmlzUm6Q/NLmmZpc0i0SA0oNMBpwOaRRIKcDTBTqAHZpC2KQ0xjQIUtTd2aaTRTEanh/XLjw/rUGoWnLRnDpniRT1U/WvorTNRt9W0yC+sn3wToGU+nsfcHivmKu/wDhf4u/srUv7Hv5MWl237pmPEcn+B6fXHvXXha3LLlezPJzPCe1h7SO6/I9oooor1T5YKKKKACiiigCG7s7a/t2gvbeO4ibqkihh+tcbq3wv0253SaRPJYSf3D88Z/A8j8/wruKKiVOM/iRpTqzpv3XY8T1Twhr2iZee2+0QL/y2tyXUD3HUfiKy4rk19AVga14M0nWt0jw/Z7k/wDLaEYJPuOh/nXHUwnWB6NLH9KiPKY581ZjlBq/q/grVdHLSIn2u3H/AC1hHIHuvUfqKx4zXFKDi7NHoRqRmrxdzRRgalXBqkhIqxHJ60gbLGzNIYvSnowNSgA0yWUmV1qMysK0xEGppt0zyKq5m0Zvn+oNPWQNVxoYh2FQPAmflq0zGSGeUr/4Vl6nNb2xMajM2Mk54Ue9Xbif7LGSRljwq+prkNYvEtVb7RJvnk5YDqa1TeyMuVbs2dC2z3TSsC2TkknnHat6e5ihBLkLntXlo8T38GY7Blt1zyQMk/nVKfU769mLXN3LIenLnH5Uvq0pO7Zr9bhCNkj1J9UU/wCr/M0xC90wMkgIHQV5Q13OCFjuJB64c1e07X9RsJN0Vw0g7pL8wNarAzavFmf9oQvaSPWxCsUYLHJ9Kja4CnArlrTx/aOqre2ssTdyhDD+hrUt9c0rUmAtLlC/9xsq35HrXNLD1YfFE6o4mlP4ZG3buJXCr1PrUuzLfMRVOIfZ43uGkCqi5BDdfapdOs9RntTPHYXDwHlX8tsEe3FZcrexfOluT3NiJbRnQA4rmbhpIiJImKyRncjDqDXTwzna0ecZ4II6Vz16BGZFYdCcfSrp3TM6tmjIsLiRr5jIxZmOWYnr1r0LSbIXwgVvlRU3MwHQDrXm0T7ZHMf8JP5V1+h+LJUtjZMAgYbC754Gc4Hp1NdzV1c82/K7G9L5llelMZGCF3dlOf8AGsW+cLujjx8zZJH+frVaXxQjXxG1nDEtvY8n/PFJptwbnzJJI1kMh43dF57VNrDvcjCNI4GDsHU44FPhM+tXkNlpybEAw7E4GM5yT/Sti3EbW5xtU9MYzmrcSwhYozGodclti4zmk5DsX7fQINN09JftILkhVCc5NQarAkdqY7dXL8+YzjBFVNRvxFAscXykH5cH7g/xJ/lVeC+mexdTNJhm6Fs5qeXqPmsZ3lfvVChvvAcVoxG4W4WUAjcfl3r97b/9cGooy0XmEKXfGQBn5T1rOLzPNGd2DH6np/nNUSat9BcGZbbYVnmfCrjGQPSsDS7J7/UZLh+IomKRk/xHua11s7nUNSM95eyMyRtHGdxCoCcnb7ngZ9qus1lZRqIQAY9qpCvQ8ckntzQ30QJPdlSWykkvliTaoIADMcBR6k0sl1ZWsWQPNEYG4jgH1+am3Ut1qPLbRHn7sS4H4nvWJqds7NHvyI8gAMcAnsAO/wBKnRmlmRav4pdLBltoI4lJ2hidxY+351d+HPgibXtWTWtXVms4ZN43/wDLeQHge4Hf8q0tK+E9/ql9Dda9OtrZqAywRHMp9jxheO/J+les2lpBYWcVrZxLDBCoVEUcKK6IU+rOedToiaiiiug5gooooAKKKKAPE/jvOTrWkQ54S3d8fVgP/Za8vQ16H8cZN3jazj/uWC/q7152teTX/iM+2y+NsLAnDcUuaiFLmuc7h5OaKbmgZoGPBpRTBTxQIcDTwaYBTwKRLQ8GnA00CnAUibDgaXdSYoxQS4jg1KHpmP8AOKQ0zOULl6DUpIRg/MPfrWhFqUEgwW2n0NYBOKaWNdNPETh5nl18up1NVozrVuMhdvtzT9+M1yCXMsR/duy/Q1OusXa9XD/7y16VPH0/tKx5FTKay+FpnTeZxSh+K5v+3rgdY0P4Gg+IJgOIU/M10rG4fv8Agczy3Ffy/idIZMCoWl7Vzr69dOMBI1/An+tV31O7frLtH+yMVEsdQW12aQyrEveyOmaYLHljgDk5qhdapAqACTe2Oi881z7yPIcyOzf7xzTM1x1Mc38KPQpZPb45fcaNxqkk3Ea7BjqeTVMuWOWOT71Fuo3VwTqSn8TPWo4SnSXuol3Uu6od9JvrM61GxPuo31Bvo3UFpE++lDVBupwakVYmDU4GoQ1PDUiiYGpBUINSKaQEop2aYKdmkAE0w04mm4oJG07pSdqQmmMUmo2fHOcUM1QO9NCZ7p8NPHS69ZrpWpSY1K3X5WY/69B3/wB4d/z9a7+vkmG8ns7qO5tZWhmiYMkiHBUjuK96+H3xItvFMCWGoskGrovK9FnA/iX39R+XHT08PW5lyy3PmMwwLpt1aa06+X/AO8ooorsPGCiiigAooooAKKKKACsHWfCGm6sWlCfZrk8+bEPvH3HQ/wA63qKmUVJWZUZyg7xZ5RqnhvUdFYtPH5kHaaPlfx9PxqgoBr2YgMCGGQeoNc1q3gyzvN0thi0m64A+Rvw7fhXFUwrWsD0aeMT0qHCIcGrUbZpuoafd6VN5V9CUJ+63VW+hqFJcd65eVrRnXzJq6LwbFRSyhRyaiM3pWFr2v2mkKv2lmaRxlYkGWI9fpVRi2yJTsak1zzwazr7WrbTIjLeTrGOy5+ZvoK5C98eF4mWys2SQjAeRgQv4CsfSdF1rxbq5hsIJr66b5nOeFHux4UV0xpPqck6vY1NS8YXN7IWtk8kEYVmOSo9vSsiG1vdUvBBZwzXl1JkiONS7t3PA5r0Cy+BviOcKbu6sLUE8gyM7D8AMfrXqvgzwDpfgu2f7JuuLyUAS3UgG4j0Ufwr7fmTXTGmkc0qrZ8w/Zpo5vIaKQXAbYYip3bvTHXPtXsPgf4LRvZi98YiQO53JYxybdo/2yOc+wPH6D11tMsHvRePZW7XQ6TmJS4/4FjNWa0sZN3PLfix4Cs5PBkd7odlHbyaQpPlwoBuhP3vrj72f971rwRDX2XJGksbRyqHRwVZSMgg9RXyb4y8Pt4V8Y32lHPlRvvgY/wAUbcr+nH1Brqou+hhUXUySagkcjkcEdKeW4qvK3FdiiYnsvwMV/EUmqnWv9MhsBCIFlGQGbfkn1xtHXPWvcQMDA4FePfs6wY8NaxdY/wBZerHn/dQH/wBnr2GvNqRjGbsjqUpSSuzN1LQNP1TLTwhJscTR/Kw/x/GvMfFfhy90ubzJU3wE4WZR8p9M+hr2Corm2hu7Z4LmNZIpBhlYcEVzzpRlr1N6daUNOh83W48nVCj/AHT1rXn0worzQncmCTnt1PX6kVu+K/BEui6gt3DmWwZgBJ3jyfut/Q1z/inUXgsI7OwhkNxcHyolAO5iepA6k9h+FZK6djR2lqYb6xpdozrLJNLMTj9ygIUfN3JHPIrrtG1awnsVewbMYXaytwyn3rpPCnwb0O00m0m8Q2zXeold8ymVhGpPIXAPOOnvzW34r8GWc3h4toVhBbXVmC8SW8YTzB/Ehx1yOnvj3rSVNtXIjUSdjiHkHkyGAksxG0de9U7DVru9uJoY5dkcPLt3LZ6ZpmkM05Lwtn5d6N/L9cU/QxZaZpNxe6tN5FuZMNLtJy3cADk81lbQ0vqakY+3kid9si9R6+4pfOg8oPCx2rMyL2yBVaK8ttV0+e70+YKjIVhRG+cE9M+nqauW9pb6f4cgSZv3iD+IZye1Q+xS7kiXUYutjSYiQcqgyWJ/womuYTK32UBBn7zrgn8aXSPCOsXeZjZ+TE5ypnbaSPp1/St6H4fyzcX14kSd1gBYn8TjH5Gmqcm9gc4rqcbc6tMlwttbt5szHnPIjHcn39qRbLVr258jSrSS9nOCQW2qo9WY8Af4cV6Vp/gbRNOOVgeZv70r5z+AwK3La0t7KLyrSCOFM5KxqACfX61qqN3qZutZaHB6b8PdVuI0bXtYFqOM2+lrt/AyNkn8AK6fS/B+h6Rci5tLEPdDpcXDtNIPozkkfhituitlGMdkYSnKW7CiiiqJCiiigAooooAKKKKAPnb4z3Qk+I0kef8AU20SH8i3/s1cOr1e+JOrjUPibrkqtkJcmEf9swE/9lrn47mvKqxvJs+7wqcKEIvsjXDU4Gs5Ln/OamW4H+TWNjo5kXRS1WWYf5NSLKKmw7omAp4FQhxUgcGkO5KKeKiVhUgYetIkkAp4FRqw9RTw3FSA7FFJuo3D1oEH500/jSlhTC1MkD/nmmH/ADzSlqaWpisIRTSP84oLUwtTFyoU4ppNNL0wvTFyoeWppaojJTTJTsPlRKWppeoTJTTJTsOxPvpN9Qb6kignnP7iGST/AHEJosO1h2+jfVqLQNam/wBTpF/J/uWzn+lWk8H+JZPu+H9TP/bnIP6VXK+xPPBbtGXu96UNWv8A8IV4o/6F7U//AAFf/ClHgrxR/wBC/qX/AICv/hRyS7B7Sl/MvvMkGnA1rf8ACF+JxyfD+pf+Ar/4VG3hjX4xmTQ9SUeptJB/Slyy7FKpTf2l95QDVIpqSTTL+D/XWVzH/vwsP6VCMg4IwfeoaLTT2JlNSKahU1IpqQJwaeDUSning1Ih1IaM00mgQE0xjQTUbGmIa7VAxrYsvDWuaoR9g0m8mVujLCQv/fR4rqNM+DXiK9IbUJLbT0PUO/mOPwXj9a2jTnLZHPUxNGn8ckjziRqdp9rqN5qEaaNBczXasGT7MrF1I6EY5H1r3rR/gx4dsGWTUnn1OQckSNsj/wC+V5/Mmu6sNNsdLtxBptpBaRD+CGMIP0rrhhpfaZ5dbNqa0pq5ieB5vE0ugIvjC1jgu0wEdZAWkX1cDgH8efQV0lFFdyVlY+enLnk5Wt6BRRRTICiiigAooooAKKKKACiiigCG7s7e/tmgu4lljbqCP1Hoa861/wAMXGjyGaDdNZk8PjlPZv8AGvS6QgMpDAEHgg96znTU1qa06soPQ8S1HUotLsHurk4VR8o7sewFcBYaNrvjjWnawtJLmSRvnfGI4h2y3QAD8a+mrjw1od4ym70exnK/d8y2RsfmKvW9rBZwiG0gjgiXokSBVH4CohS5dy51ubY8c0/4AsVRtV10Bv4o7eDIHsGY/wBK9P8ADPhbS/CWl/YtIhKqTuklc5eVvVj/AJArZorayRg22FFFFMQUUUUAFeP/AB98PedpVl4hgX57Vvs85HdGOVP4Nkf8Cr2CszxHo0XiDw3f6VPjbdQsgJ/hbHyn8Dg/hVwlyyTFJXVj4/35Wq8z8GpJo5rWeW3uVKSwuY3U9VYHBH51Vmbg161tDkPpT4BW/k/DQy4/4+L6WT8gq/8Astem1w/wbtvs3wl0UY5kSSQ++6Vz/Iiu4ryams2dcdgoooqBkV1awX1pLa3cSzQSqVeNxkMDWBongPQdBvvttrbyT3YGEnupTK0Y9Fz0/DmukooAKKKKAPJvFPhPXNH1q5n8N6a2oWN8SwjilCNbuTlhz/CTyPTpUGk/CrWdcmhm8Z3a2tnDzHp9q2SPXJHA+vJPqK9goqeVXuVzO1jIi8LaJb2K2lrpsFvEn3fJQK2fUkck/Wn2vh3TLS4WdLffKpyryMW2n2zwK1KKfKr3FzO1gooopiCiiigAooooAKKKKACiiigAooooAKKKKAPPNf8Agl4Q124luUguNPupmLvLazH5mJySVbI/LFcTf/s63sWTpHiCGb0S6gMeP+BKW/lXvNFQ6cXujup5hiaaspffqfMt38FPG1pnyrO2vAO8Fyo/9D21kz/Dvxla583w7fHH/POPzP8A0HNfWFFZPDxZ1xziut0mfIEvh3xBbf8AHxompRY/v2kg/pVV4bqD/XW00f8AvxkV9k0detQ8Mu5qs5l1h+J8aLcVKtz7n86+v5rG0uP9fawy/wC/GD/OqE3hTw9c/wDHxoWmye7WkZP8qh4XzNFnMesPxPlRbn3qVbnPevpWf4b+ELjPmaBaL/1zBT/0Eis2f4PeDps+XYTQf9c7l/6k1DwsjVZvRe6f9fM8AW4qQXH0r2ub4G+HH5gvdSiPp5qMP1T+tUZPgTYn/Ua5cp/vwq38iKh4WZqs0w76/geSifPpS+dXqL/Ag/8ALPxF/wB9Wf8A9nSf8KKm/wChhX/wDP8A8XU/VqnYv+0sL/N+D/yPLvNpPMr1ZPgX/wA9fEJ/4Daf/Z1bh+Bumj/j41i7f/cjVf55o+rVOwnmeFX2vwZ44ZKYZPevd7f4MeGIf9a99cf9dJgP/QVFa9r8NPCNpgpo0UhHeZ3kz+DEirWFn1MZZtQWybPm1paiacDqwH419ZWmh6Tp+PsOmWdsR3igVf5CvnX4yeGv+Ed8cPd26bbPVQZ0wOFk/wCWi/nhv+BV00sCpOzkclTOml7sPxOSa5X+9UZuAemTVIyUm+uxZdTW9zilnWIeySLZuM9BTWmNVQ/NS2sFxqN/BZWUZlubiRY4kHVmJwBW0cHRXQ5pZni5fb/I9A+E3gseL9eludTjL6TYj96uSBLIR8qZHp1P4ete6W/gTwra48rw/p5x3eAP/wChZqTwf4Zt/CXhe00m2wzRrumkA/1kh+8359PYAVt1zyjC/uoX1ivJe9Nv5spwaPplrj7Np1pDjp5cCr/IVcAAGAMCiigybb3CiiigQUUUUAFFFFABUctvDOMTwxyD0dQf51JRQGxlz+GNBuv+PjRrBz6m2TP54rLuPhv4Tuc7tIjQ+sUjpj8jXUUVDhF7o2jXqx+GTXzOEn+EPhuXPlNewf7kwP8A6EDVJ/gxpZ/1WqXi+m5VP9BXpFFQ6FN9DdY7Er7bPNk+DGnD/WardN/uoo/xq3D8HvD8ePOub+Y+hkUD9FrvqKPYUl0B4/Ev7bOVtvhp4UtsH+zBKw7yyu2fwzj9K27PQtJ07BsdNtLcjo0cKqfzxV+irUIx2RzyrVZ/FJv5hRRRVmQUUUUAFFFFABRRRQAUUUUAFFFFABRRRQAUUUUAFFFFABRRRQAUUUUAFFFFABRRRQAUUUUAfL3xo0D+wviLcTxKVt9TQXSccbjw4/76Gf8AgVecTv8AKa+k/j/4fOp+B4dVhTdLpc29iByIn+Vv12H8DXzPta4mjhj5eRgij1JOK9WhLmpnNJWkfZvgG1+xfDvw/ARgrp8Jb6lAT+proKitbdbSzht4/uQxrGv0AxUteW3d3OkKKKKQBRRRQAUUUUAFFFFABRRRQAUUUUAFFFFABRRRQAUUUUAFFFFABRRRQAUUUUAFFFFABRRRQAUUUUAFFFFABRRRQAUUUUAFFFFABRRRQAUUUUAFcX8VvCp8VeBLqK3j33tn/pNtgcllByv4rkfXFdpRTi3F3Qmrqx8PCXIo83ivRPjZ4CPhXXv7a02LGlai5JVRxBN1K+wPJH4jtXlvncV60Wpxujmaadi55te1/APwYbi4l8WahH8kZaGxDDq3R5Pw+6Pq3pXl3gHwbfePPE0enWm6O2jw93c44hj/APij0A/oDX19pemWujaTbabp0QitbWMRxIOwH8z71z4iaiuVGkI63LdFFFcBsFFFFABRRRQAUUUUAFFFFABRRRQAUUUUAFFFFABRRRQAUUUUAFFFFABRRRQAUUUUAFFFFABRRRQAUUUUAFFFFABRRRQAUUUUAFFFFABRRRQAUUUUAFFFFABRRRQBV1TToNX0m7067XdBdwvDIP8AZYYP86+TvCfg2+i+Nmn+HL+IiWyvxJNkYDRx/Pu+jKBj/eFfXdVRplgNUbUhZW4vmj8s3XlL5hT+7uxnHtW1Oq4JruS43LVFFFYlBRRRQAUUUUAFFFFABRRRQAUUUUAFFFFABRRRQAUUUUAFFFFABRRRQAUUUUAFFFFABRRRQAUUUUAFFFFABRRRQAUUUUAFFFFABRRRQAUUUUAFFFFABRRRQBT1bSLDXdMm07V7WO7tJhh4pBkHuPoc9xXkF5+zVo82uia01q7ttMblrXYHkB9FkPb6qT9a9roq41JQ+FiaT3MPwp4P0bwXpJ0/QLXyY2bfI7MWeVsYyzHr/IVuUUVLbbuxhRRRSAKKKKACiiigAooooAKKKKACiiigAooooAKKKKACiiigAooooAKKKKACiiigAooooAKKKKACiiigAooooAKKKKACiiigArIl1oy+KF0SxCNNFCLm7dwSIo2JCKAP4mKtj0Ck+gOvXGaNbTWPxd8TNcA7dRsrSe1Y9GWMOjqPoSpP++PWjqHR/wBdTpIdd0q5v/sVvqNrJdHcBEsoLErwwA7le4HTvUGj6yb2/v8AS7sImoacyecEGFkRxlJFB5AOCMdipHPU+XaVPez634Nun0HU9Njs9UvFubKLTJVhs/MSQL823L7iQS4JXJ/hrtNKtpJ/jFr+oRZ+zQaba2bt2abc8hH1Csv/AH0KF0/rpf8A4HzB6X/rrb/gnT3+radpXkf2nfW9n9okEUPnyhPMc9FXPU+wqFfEeist8V1ayI084vCJ1/0b/f5+X8azfH+gzeIfBl5bWPy6hBturF+63ER3pj6kY+hNcZpmjeI7rxVFe3lk8Nl4tt0n1WAjAsjCRtQ+7xkIffd6ULV2/r+tH+HcHor/ANf1t+J20niW1s9Q1ae81nTH06xtEnaCE7riAclmkwx4PG0YB69axLr4iwnUvCdzZ3Vkmia0kz3Ms/DwbIfMGX3bV6gEEH61napYXl34+8ai30+8K3nhxLaCY2sixyygS5RXI2k/MvfvVDTkmurn4XFtI1PZpsEkd0ZdNmUW7/Zgg3ZT5fnGAT9R60R1X9d5f5IJaP7/AMl/mz0uDxFo1zpCapb6rZyWEjbUuVnUxs2cbQ2cZzxjrmm/8JLoY08Xx1exFr5vkecbhQgkzjYTnhs8Y615Ppen6ta69Bq39lagdOsfFl9cT27WcqsYpo9kc6IVy6gk/dBIyTU/ivw9qd9B421fS9Pu3s72bTpIbZYGElw0Dq0sixkbj8uAOMtt4zxQtbN9bfLb/P8ArUHo2v63a/4J6ZqfizQ9JtdSnu9Stx/ZcPnXcSOGkiXnGVHIzjj1q5pOq2utaTb6hYSLJBcRh1IYHGRnBx3FeXavDe6/rHjq40/StS8nUvDMcFm81lJF58iibKgMoIb5hwcE+mK9E8JXH2nwhpbeRcQlLWNGjuYHhcEIAQVYAjn2oWzv5fm/8kD3Vv60X+bJJ9cs5ormHTNRs3vo4pHRCwf7nBO0EEgHAODweKyvBvjGLWvCGhX2tXVnbalqtt5wt1fZvPfYpJJA49a5Xw9b6po+orBYx3t3oE9ncyi2vbGQXOkucHylfbmRWY4C4J4BGQKofChtZ8KW2lWWvaVqc9tqFighuTp0vmae6cNbyAJlUP3lbGMls560R1/D9f6/4dBLT8f0PQtO8S2UenTXOr+INGljN68EM1tMEj6/JGSWOZACAcd+1aOk+INH15Zm0TVLPUBA+yU2s6ybG9DtJxXjWqRPb/DvWhf6fdwJJ41S4SO4s5EMsT3SEMqso3AjPTNd/o+nNefFi/8AEdlbTW9g2lRWbvLA0P2mYSFshWAJ2rgbsd8DoaI6pP8Ar4U/zdglo3/X2mv+CdRqOt6XpAB1TULazypb9/KE+UdW57Duegpt7r2k6aiPf6naW6yJ5imWZVynduv3eRz0riry7m0X4ja8mu6FqOp6ZrdrBHaz2lk1zGAqsrwOFB25LE84HzHJp2mW0/h74g6rPqOlTppWoaXaxWQtrdp0tvKDBrchAdv3sjsecUun9ef9f0rv+vy/r+mdhd+JdD0/yvt2sWFv50Zmi825Rd6AZ3DJ5X36U3/hKNA+wWt6da08Wt4cW0xuUCzHuFOefw6V5h4a8O6lomrfD2DUtOu2WyXUZH22zypZrLzEjOoIUgYGM8Yqraafenw9ocEujaniHxtJdtE2mzfJAZZGEhGzhcMDnpzVbtL+t0v1v8hPRX/rZv8AT8T12y8QaPqOmyahYarZ3FlExSS4inVo0I6gsDgGnWuvaTe2M15a6naS21uxWaZZlKxEdQxz8p+teSatY6uNQ8UXdnpGqzW0XiW0vpIIIJYnurdIlV2hOBvIYZ+U87av6vYRnS28QeEvD2szJ/alne6jHdCf7RfpESCFimO4lRtPQbsDGcUlqk/T5Xtr6av7gejt6/rp67fedxqnj3w5pWm/bZdTglj+1R2hELhisjkABh/Dwc8445q1aaut34mmtrfVtMnthaJKtpC264UluXYhsbCCuOOveuG8YmLXfDJ1rRfDt/Ex1TT7i5kfT3jubhIpRk+Vt8xgi98euMgUuuWOo638QdcOk2t9bG+8Jm0tryW0ljjE5kchS5UAHDA9cj60rtK9u/8A6Tf8WPR/h/6Vb8EegW3iHRry7+y2mq2c0+0uI451LMo4JAzyB3I6VBD4v8OXN5BaW+vabLcXDMkMUd0jNIwJBCgHk5B/I1wqWN3rWk+Aba10y8sL/RbqGS8Mts8Yto44ikqbiMNuOAApOQc9BWHDp97H4LtEXRtTW4HjX7YyDTZg4h+0lvNI2Z27D19OKuy5ref6pX/H8Cb+7f8ArZu34fiew/2xpv8AaAsft9v9qL7BD5g3Ftu7bj1284645q7Xmlva6pp/jxLnQ1uptPvtVkN/pl9aOFtmwwN3DMQMKQBxkg7iBzXpdStYpjfxWCiiigAooooAKKKKACiiigAooooAKKKKACiiigAooooAKKKKACiiigAooooAKKKKAEd1jjZ3YKqjLEngCuC1vx1qFt4V0/xFpy2kdhf6lbQRC5jYs1vJIE83O4BSQdw4OBjPt12v2c2o+G9SsrZts1zaSxRnOMMyED9TXnGpWc+p/A/wtHBYTXDWc+nG6t44TI6CGRRKCgBJ27WyAD0oW+veP4vX+vMHt8n+Wn9eR6BaeILHX9OuZvCmqafqUkDbT5UwkQMP4WKn5c+v44PSp9C1m21/RbfUrPcI5gQUb70bqSrIfcMCD9K5nR9LM/xV1PxNZwSWunS6XFayNLE0X2mYOW37WAJCpgbiO+B0NSfC61lh8J3FxICsV/qd3eW4P/PKSZih+hHzfjQv6++347g/1/S/4bHQz+INHtby4tLnVLOK4tYfPnhedQ0Uf99hnIX3PFKmv6RLb2s0WqWbRXis1tIJ1KzBRklTn5gAM8dq5Pxzo+qx+KNI1vw7befcXMcmkXoxkLDKMpKw7iNxn6MRUXw/0PUtFNxYaxHK1l4dMtnpkrKWaeJyHD4A5KpsTjuGFJarX+v60/HsD0f9f13/AA7monjjT9K0XSZte1jT7ybUro2sVxp/+odtzcgljgKByc9RVXT/AIgW0HirxDp3iXU9MsrexuYIbKR38kyiSIPzuY5I3AZGB+dcVpVjqFp4C8FyTaTqSf2b4lee6h+wS+bFGzz4fy9u4r868gHrVrWbK5uoPisyaNqLyajbxLZ/8S6Um4ItguE+X5sP6Z9aL2Tfa/8A7b/mx2vJL+t2j2EsqqWYgKBkkngCuQ8aeNF0vwLq+r+Gb3T7q70+BZ/Lk/eqVJwCQrA4POD0OO9aaAS/D8LdWlxOG0zbLbbGSV/3eCm0jcGPIxjOa8u1rT/EEHgLxLoUSX+u2DaXEmnXTabIt4p38WzgLl9o53YGM89aclaTj2/4P9f1qQd1Fvr/AMD+v609am12wSOa3Op2UF9FbiZ0mlA8oEcM4yCFz9OnWqlp4p0u10XT5dc8QaP59xb+Z50U6xxT4GWeMMxOzgnOTXLeGb3UdMstZ0HXNO1C5m8p7i31VdOlIvo3U4VyE4lX7pXjgDA7VzWmf8Suz+EaatZXUElolxHLBLZyeZG4t/7m3dwe+Pen3+X43/IiN+VX8/wt+Z7Fperafrdgl7o99b31q5IWa3lEiEjqMiorzXtJ065W3v8AUrW2mYqAksyqcscL1PGTwPU9K53wFpEtjqnijUhbyWllqup+fawSRmNsCNVaQocFdzAnBAOMHvWJp8z2ms+JfD3ibwzf6n/aWptd2swsjLbXUTBNgaTG1Cm0D5iMYGKS1aXlf8tPx/Aro/X/AD1/rud7e+INH0248jUNUs7aX5cpNOqldxwucnjJ4GetQ6j4q0DSZpYtU1vT7SSFBJIk1yisinoSCcgGuFWyvLG38f6TrOl3d4+rzyz2TxWzypdRyQhEj3AYUqVxhiMDB6c1W0bRtQ0nxdbx6vZ3l09p4NjspbtbOSSN5wxLIrhSGOOwOTU3dr+V/wAG7fJq3zHbW39bpfje/wAj0S68U6BYqhvNb0+ASQ/aE8y6QbouPnHPK8jnpyKm/t3Sf7Ki1P8AtK1NjMAYrkTKUkB6bT0PTtXlPgqxvbfVPh619pGpR/2foVzDcNNp8wEEhKBVYlflJCtj/wCvVDQ7bUtI0rwte6lo+u/2ZaXGpQ3UNpb3Ec9sZZt0UvloA5XaMcA4DVbVnb1/BtfiStr+n5XPZRrmlNpkWorqVq1lNgRXCzKUkJ6BSDgnjoKzL7x34dsX0oPqdvKurTNDbSRSBkJVSWJbOABjH14riXtl8K6r4e1nRvDer/8ACPRS3nnW6xyz3EUkwUi4MTZcAkOMdQGJwM4q5rtukepeD9X0zQLy0sItZmuLiOGycyjzYXHmvEoLLuY85GRkZx0At1/XX+v62fR+j/J/1/WvZ6bqyz6jrAl1bTLi2tHXals3z2q7fmEx3EZyCRwOKnt/EWjXYnNtqtlL9nQSTbZ1/doejnnhT69K8t17RtZ1iX4kRaTp14st5LYzW4ltniS8WJE8xFdgFbO0rwefpW/q0MuveNNG13TLK9ggsNLu1vWltJI2cSKoSDaVBdgwJwAcY9xUNtRv5fpf89BpXdv63OvsfFWganfJZ6drVhd3MkXnJDDco7Mn94AHkcjn3qzb6xpt3eG1tb+3luAGPlJICxCnDEDuASAfQ8GvJ/Den3lpY/CqNtI1GF7ATreA6fKv2fdCy/vPl+XLEdevWtvwZaappXiaztrEXVxoFxDPKINRtGjn0hyQ3liQgb0ZjwDzgAgkCtGrSt6k30v6HpVFFFSMKKKKACiiigAooooAKKKKACiiigAooooAKKKKACiiigAooooAKKKKACiiigAqC4soLmWCWZMyQPvicEhlPfkdj3HQ1PRQAdags7K3sLfybSPYm4seSSzE5LEnkknueanooAKKKKACiiigAooooAKKKKACiiigDF8UeGbfxXpsVleXd1bRRXEdyDbFAxeNgy53K3GQDWyilUVWYuQMFmxk+/HFLRQAUUUUAFFFFABRRRQAUUUUAFFFFABRRRQAUUUUAFFFFABRRRQAUUUUAFFFFABRRRQAUUUUAFFFFABRRRQAUUUUAFFFFABRRRQAVBBZQWs08tumxp23yAE4LeuOgJ7kde9T0UAQ3dpDfWr210peGQYdNxG4ehx2PcdxxUqqqIFRQqqMAAYAFLRQAUUUUAFFFFABRRRQAViav4Xg1jxBpOry3t3BPpLO9ukJj2Euu1twZCTxxwRW3RQAUUUUAFFFFABRRRQAUUUUAFFFFABRRRQAUUUUAFFFFABRRRQAUUUUAFFFFABRRRQAUUUUAf/Z)"
      ],
      "metadata": {
        "id": "wfMnwVYCDRdJ"
      }
    },
    {
      "cell_type": "markdown",
      "source": [
        "Our first model is already good, but further research has discovered more tricks we can apply to make it better. We'll look at those next."
      ],
      "metadata": {
        "id": "wk0PF3T0Em5Y"
      }
    },
    {
      "cell_type": "markdown",
      "source": [
        "#A State-of-the-Art ResNet"
      ],
      "metadata": {
        "id": "Jgt-ovGsSxR5"
      }
    },
    {
      "cell_type": "markdown",
      "source": [
        "In \"Bag of Tricks for Image Classification with Convolutional Neural Networks\", Tong He et al. study different variations of the ResNet architecture that come at almost no additional cost in terms of number of parameters or computation. By using a tweaked ResNet-50 architecture and Mixup they achieved 94.6% top-5 accuracy on ImageNet, in comparison to 92.2% with a regular ResNet-50 without Mixup. This result is better than that achieved by regular ResNet models that are twice as deep (and twice as slow, and much more likely to overfit)."
      ],
      "metadata": {
        "id": "Ho2CnMPpS1Vh"
      }
    },
    {
      "cell_type": "markdown",
      "source": [
        "We'll use this tweaked version as we scale up to the full ResNet, because it's substantially better. It differs a little bit from our previous implementation, in that instead of just starting with ResNet blocks, it begins with a few convolutional layers followed by a max pooling layer. This is what the first layers, called the stem of the network, look like:"
      ],
      "metadata": {
        "id": "LKyDvv2xS91K"
      }
    },
    {
      "cell_type": "code",
      "source": [
        "def _resnet_stem(*sizes):\n",
        "    return [\n",
        "        ConvLayer(sizes[i], sizes[i+1], 3, stride = 2 if i==0 else 1)\n",
        "            for i in range(len(sizes)-1)\n",
        "    ] + [nn.MaxPool2d(kernel_size=3, stride=2, padding=1)]"
      ],
      "metadata": {
        "id": "PkkmJF6MTAIg"
      },
      "execution_count": null,
      "outputs": []
    },
    {
      "cell_type": "code",
      "source": [
        "#hide_output\n",
        "_resnet_stem(3,32,32,64)"
      ],
      "metadata": {
        "id": "-UrNyXtfTIq1"
      },
      "execution_count": null,
      "outputs": []
    },
    {
      "cell_type": "markdown",
      "source": [
        "The reason that we have a stem of plain convolutional layers, instead of ResNet blocks, is based on a very important insight about all deep convolutional neural networks: the vast majority of the computation occurs in the early layers. Therefore, we should keep the early layers as fast and simple as possible.\n",
        "\n",
        "To see why so much computation occurs in the early layers, consider the very first convolution on a 128-pixel input image. If it is a stride-1 convolution, then it will apply the kernel to every one of the 128×128 pixels. That's a lot of work! In the later layers, however, the grid size could be as small as 4×4 or even 2×2, so there are far fewer kernel applications to do.\n",
        "\n",
        "On the other hand, the first-layer convolution only has 3 input features and 32 output features. Since it is a 3×3 kernel, this is 3×32×3×3 = 864 parameters in the weights. But the last convolution will have 256 input features and 512 output features, resulting in 1,179,648 weights! So the first layers contain the vast majority of the computation, but the last layers contain the vast majority of the parameters.\n",
        "\n",
        "A ResNet block takes more computation than a plain convolutional block, since (in the stride-2 case) a ResNet block has three convolutions and a pooling layer. That's why we want to have plain convolutions to start off our ResNet.\n",
        "\n",
        "We're now ready to show the implementation of a modern ResNet, with the \"bag of tricks.\" It uses four groups of ResNet blocks, with 64, 128, 256, then 512 filters. Each group starts with a stride-2 block, except for the first one, since it's just after a MaxPooling layer:"
      ],
      "metadata": {
        "id": "Cn3n-4-sTWEV"
      }
    },
    {
      "cell_type": "code",
      "source": [
        "class ResNet(nn.Sequential):\n",
        "    def __init__(self, n_out, layers, expansion=1):\n",
        "        stem = _resnet_stem(3,32,32,64)\n",
        "        self.block_szs = [64, 64, 128, 256, 512]\n",
        "        for i in range(1,5): self.block_szs[i] *= expansion\n",
        "        blocks = [self._make_layer(*o) for o in enumerate(layers)]\n",
        "        super().__init__(*stem, *blocks,\n",
        "                         nn.AdaptiveAvgPool2d(1), Flatten(),\n",
        "                         nn.Linear(self.block_szs[-1], n_out))\n",
        "    \n",
        "    def _make_layer(self, idx, n_layers):\n",
        "        stride = 1 if idx==0 else 2\n",
        "        ch_in,ch_out = self.block_szs[idx:idx+2]\n",
        "        return nn.Sequential(*[\n",
        "            ResBlock(ch_in if i==0 else ch_out, ch_out, stride if i==0 else 1)\n",
        "            for i in range(n_layers)\n",
        "        ])"
      ],
      "metadata": {
        "id": "6njORJz5T0zj"
      },
      "execution_count": null,
      "outputs": []
    },
    {
      "cell_type": "markdown",
      "source": [
        "The _make_layer function is just there to create a series of n_layers blocks. The first one is going from ch_in to ch_out with the indicated stride and all the others are blocks of stride 1 with ch_out to ch_out tensors. Once the blocks are defined, our model is purely sequential, which is why we define it as a subclass of nn.Sequential. (Ignore the expansion parameter for now; we'll discuss it in the next section. For now, it'll be 1, so it doesn't do anything.)\n",
        "\n",
        "The various versions of the models (ResNet-18, -34, -50, etc.) just change the number of blocks in each of those groups. This is the definition of a ResNet-18:"
      ],
      "metadata": {
        "id": "CAeM1w26T9JZ"
      }
    },
    {
      "cell_type": "code",
      "source": [
        "rn = ResNet(dls.c, [2,2,2,2])"
      ],
      "metadata": {
        "id": "JBUJCrQsURYZ"
      },
      "execution_count": null,
      "outputs": []
    },
    {
      "cell_type": "code",
      "source": [
        "learn = get_learner(rn)\n",
        "learn.fit_one_cycle(5, 3e-3)"
      ],
      "metadata": {
        "id": "vJYxeZBGUUNA"
      },
      "execution_count": null,
      "outputs": []
    },
    {
      "cell_type": "markdown",
      "source": [
        "Even though we have more channels (and our model is therefore even more accurate), our training is just as fast as before, thanks to our optimized stem.\n",
        "\n",
        "To make our model deeper without taking too much compute or memory, we can use another kind of layer introduced by the ResNet paper for ResNets with a depth of 50 or more: the bottleneck layer."
      ],
      "metadata": {
        "id": "9nqodoJHUa9-"
      }
    },
    {
      "cell_type": "markdown",
      "source": [
        "# Bottleneck Layers"
      ],
      "metadata": {
        "id": "OlPZ3LWrUcOp"
      }
    },
    {
      "cell_type": "markdown",
      "source": [
        "Instead of stacking two convolutions with a kernel size of 3, bottleneck layers use three different convolutions: two 1×1 (at the beginning and the end) and one 3×3, as shown on the right:"
      ],
      "metadata": {
        "id": "6jUzZRm_UeE0"
      }
    },
    {
      "cell_type": "markdown",
      "source": [
        "![Capture.JPG](data:image/jpeg;base64,/9j/4AAQSkZJRgABAQEAkACQAAD/4REKRXhpZgAATU0AKgAAAAgABAE7AAIAAAAVAAAISodpAAQAAAABAAAIYJydAAEAAAAqAAAQ2OocAAcAAAgMAAAAPgAAAAAc6gAAAAgAAAAAAAAAAAAAAAAAAAAAAAAAAAAAAAAAAAAAAAAAAAAAAAAAAAAAAAAAAAAAAAAAAAAAAAAAAAAAAAAAAAAAAAAAAAAAAAAAAAAAAAAAAAAAAAAAAAAAAAAAAAAAAAAAAAAAAAAAAAAAAAAAAAAAAAAAAAAAAAAAAAAAAAAAAAAAAAAAAAAAAAAAAAAAAAAAAAAAAAAAAAAAAAAAAAAAAAAAAAAAAAAAAAAAAAAAAAAAAAAAAAAAAAAAAAAAAAAAAAAAAAAAAAAAAAAAAAAAAAAAAAAAAAAAAAAAAAAAAAAAAAAAAAAAAAAAAAAAAAAAAAAAAAAAAAAAAAAAAAAAAAAAAAAAAAAAAAAAAAAAAAAAAAAAAAAAAAAAAAAAAAAAAAAAAAAAAAAAAAAAAAAAAAAAAAAAAAAAAAAAAAAAAAAAAAAAAAAAAAAAAAAAAAAAAAAAAAAAAAAAAAAAAAAAAAAAAAAAAAAAAAAAAAAAAAAAAAAAAAAAAAAAAAAAAAAAAAAAAAAAAAAAAAAAAAAAAAAAAAAAAAAAAAAAAAAAAAAAAAAAAAAAAAAAAAAAAAAAAAAAAAAAAAAAAAAAAAAAAAAAAAAAAAAAAAAAAAAAAAAAAAAAAAAAAAAAAAAAAAAAAAAAAAAAAAAAAAAAAAAAAAAAAAAAAAAAAAAAAAAAAAAAAAAAAAAAAAAAAAAAAAAAAAAAAAAAAAAAAAAAAAAAAAAAAAAAAAAAAAAAAAAAAAAAAAAAAAAAAAAAAAAAAAAAAAAAAAAAAAAAAAAAAAAAAAAAAAAAAAAAAAAAAAAAAAAAAAAAAAAAAAAAAAAAAAAAAAAAAAAAAAAAAAAAAAAAAAAAAAAAAAAAAAAAAAAAAAAAAAAAAAAAAAAAAAAAAAAAAAAAAAAAAAAAAAAAAAAAAAAAAAAAAAAAAAAAAAAAAAAAAAAAAAAAAAAAAAAAAAAAAAAAAAAAAAAAAAAAAAAAAAAAAAAAAAAAAAAAAAAAAAAAAAAAAAAAAAAAAAAAAAAAAAAAAAAAAAAAAAAAAAAAAAAAAAAAAAAAAAAAAAAAAAAAAAAAAAAAAAAAAAAAAAAAAAAAAAAAAAAAAAAAAAAAAAAAAAAAAAAAAAAAAAAAAAAAAAAAAAAAAAAAAAAAAAAAAAAAAAAAAAAAAAAAAAAAAAAAAAAAAAAAAAAAAAAAAAAAAAAAAAAAAAAAAAAAAAAAAAAAAAAAAAAAAAAAAAAAAAAAAAAAAAAAAAAAAAAAAAAAAAAAAAAAAAAAAAAAAAAAAAAAAAAAAAAAAAAAAAAAAAAAAAAAAAAAAAAAAAAAAAAAAAAAAAAAAAAAAAAAAAAAAAAAAAAAAAAAAAAAAAAAAAAAAAAAAAAAAAAAAAAAAAAAAAAAAAAAAAAAAAAAAAAAAAAAAAAAAAAAAAAAAAAAAAAAAAAAAAAAAAAAAAAAAAAAAAAAAAAAAAAAAAAAAAAAAAAAAAAAAAAAAAAAAAAAAAAAAAAAAAAAAAAAAAAAAAAAAAAAAAAAAAAAAAAAAAAAAAAAAAAAAAAAAAAAAAAAAAAAAAAAAAAAAAAAAAAAAAAAAAAAAAAAAAAAAAAAAAAAAAAAAAAAAAAAAAAAAAAAAAAAAAAAAAAAAAAAAAAAAAAAAAAAAAAAAAAAAAAAAAAAAAAAAAAAAAAAAAAAAAAAAAAAAAAAAAAAAAAAAAAAAAAAAAAAAAAAAAAAAAAAAAAAAAAAAAAAAAAAAAAAAAAAAAAAAAAAAAAAAAAAAAAAAAAAAAAAAAAAAAAAAAAAAAAAAAAAAAAAAAAAAAAAAAAAAAAAAAAAAAAAAAAAAAAAAAAAAAAAAAAAAAAAAAAAAAAAAAAAAAAAAAAAAAAAAAAAAAAAAAAAAAAAAAAAAAAAAAAAAAAAAAAAAAAAAAAAAAAAAAAAAAAAAAAAAAAAAAAAAAAAAAAAAAAAAAAAAAAAAAAAAAAAAAAAAAAAAAAAAAAAAAAAAAAAAAAAAAAAAAAAAAAAAAAAAAAAAAAAAAAAAAAAAAAAAAAAAAAAAAAAAAAAAAAAAAAAAAAAAAAAAAAAAAAAAAAAAAAAAAAAAAAAAAAAAAAAAAAAAAAAAAAAAAAAAAAAAAAAAAAAAAAAAAAAAAAAAAAAAAAAAAAAAAAAAAAAAAAAAAAAAAAAAAAAAAAAAAAAAAAAAAAAAAAAAAAAAAAAAAAAAAAAAAAAAAAAAAAAAAAAAAAAAAAAAAAAAAAAAAAAAAAAAAAAAAAAAAAAAAAAAAAAAAAAAAAAAAAAAAAAAAAAAAAAAAAAAAAAAAAAAAAAAAAAAAAAAAAAAAAAAAAAAAAAAAAAAAAAAAAAAAAAAAAAAAAAAAAAAAAAAAAAAAAAAAAAAAAAAAAAAAAAAAAAAAAAAAAAAAAAAAAAAAAAAAAAAAAAAAAAAAAAAAAAAAAAAAAAAAAAAAAAAAAAAAAAAAAAAAAAAAAAAAAAAAAAAAAAAAAAAAAAAAAAAAAAAAAAAAAAAAAAAAAAAAAAAAAAAAAAAAAAAAAAAAAAAAAAAAAAAAAAAAAAAAAAAAAAAAAAAAAAAAAAAAAAAAAAAAAAAAAAAAAAAAAAAAAAAAAAAAAAAAAAAAAAAAAAAAAAAAAAAAAAAAAAAAAAAAAAAAAAAAAAAAAAAAAAAAAAAAAAAAAAAAAAAAAAAAAAAAAAAAAAAAAAAAAAAAAAAAAAAAAAAAAAAAAAAAAAAAAAAAAAAAAAAEZvcnR1bnkgU2ljYXJ0LCBBbGFuAAAABZADAAIAAAAUAAAQrpAEAAIAAAAUAAAQwpKRAAIAAAADNjcAAJKSAAIAAAADNjcAAOocAAcAAAgMAAAIogAAAAAc6gAAAAgAAAAAAAAAAAAAAAAAAAAAAAAAAAAAAAAAAAAAAAAAAAAAAAAAAAAAAAAAAAAAAAAAAAAAAAAAAAAAAAAAAAAAAAAAAAAAAAAAAAAAAAAAAAAAAAAAAAAAAAAAAAAAAAAAAAAAAAAAAAAAAAAAAAAAAAAAAAAAAAAAAAAAAAAAAAAAAAAAAAAAAAAAAAAAAAAAAAAAAAAAAAAAAAAAAAAAAAAAAAAAAAAAAAAAAAAAAAAAAAAAAAAAAAAAAAAAAAAAAAAAAAAAAAAAAAAAAAAAAAAAAAAAAAAAAAAAAAAAAAAAAAAAAAAAAAAAAAAAAAAAAAAAAAAAAAAAAAAAAAAAAAAAAAAAAAAAAAAAAAAAAAAAAAAAAAAAAAAAAAAAAAAAAAAAAAAAAAAAAAAAAAAAAAAAAAAAAAAAAAAAAAAAAAAAAAAAAAAAAAAAAAAAAAAAAAAAAAAAAAAAAAAAAAAAAAAAAAAAAAAAAAAAAAAAAAAAAAAAAAAAAAAAAAAAAAAAAAAAAAAAAAAAAAAAAAAAAAAAAAAAAAAAAAAAAAAAAAAAAAAAAAAAAAAAAAAAAAAAAAAAAAAAAAAAAAAAAAAAAAAAAAAAAAAAAAAAAAAAAAAAAAAAAAAAAAAAAAAAAAAAAAAAAAAAAAAAAAAAAAAAAAAAAAAAAAAAAAAAAAAAAAAAAAAAAAAAAAAAAAAAAAAAAAAAAAAAAAAAAAAAAAAAAAAAAAAAAAAAAAAAAAAAAAAAAAAAAAAAAAAAAAAAAAAAAAAAAAAAAAAAAAAAAAAAAAAAAAAAAAAAAAAAAAAAAAAAAAAAAAAAAAAAAAAAAAAAAAAAAAAAAAAAAAAAAAAAAAAAAAAAAAAAAAAAAAAAAAAAAAAAAAAAAAAAAAAAAAAAAAAAAAAAAAAAAAAAAAAAAAAAAAAAAAAAAAAAAAAAAAAAAAAAAAAAAAAAAAAAAAAAAAAAAAAAAAAAAAAAAAAAAAAAAAAAAAAAAAAAAAAAAAAAAAAAAAAAAAAAAAAAAAAAAAAAAAAAAAAAAAAAAAAAAAAAAAAAAAAAAAAAAAAAAAAAAAAAAAAAAAAAAAAAAAAAAAAAAAAAAAAAAAAAAAAAAAAAAAAAAAAAAAAAAAAAAAAAAAAAAAAAAAAAAAAAAAAAAAAAAAAAAAAAAAAAAAAAAAAAAAAAAAAAAAAAAAAAAAAAAAAAAAAAAAAAAAAAAAAAAAAAAAAAAAAAAAAAAAAAAAAAAAAAAAAAAAAAAAAAAAAAAAAAAAAAAAAAAAAAAAAAAAAAAAAAAAAAAAAAAAAAAAAAAAAAAAAAAAAAAAAAAAAAAAAAAAAAAAAAAAAAAAAAAAAAAAAAAAAAAAAAAAAAAAAAAAAAAAAAAAAAAAAAAAAAAAAAAAAAAAAAAAAAAAAAAAAAAAAAAAAAAAAAAAAAAAAAAAAAAAAAAAAAAAAAAAAAAAAAAAAAAAAAAAAAAAAAAAAAAAAAAAAAAAAAAAAAAAAAAAAAAAAAAAAAAAAAAAAAAAAAAAAAAAAAAAAAAAAAAAAAAAAAAAAAAAAAAAAAAAAAAAAAAAAAAAAAAAAAAAAAAAAAAAAAAAAAAAAAAAAAAAAAAAAAAAAAAAAAAAAAAAAAAAAAAAAAAAAAAAAAAAAAAAAAAAAAAAAAAAAAAAAAAAAAAAAAAAAAAAAAAAAAAAAAAAAAAAAAAAAAAAAAAAAAAAAAAAAAAAAAAAAAAAAAAAAAAAAAAAAAAAAAAAAAAAAAAAAAAAAAAAAAAAAAAAAAAAAAAAAAAAAAAAAAAAAAAAAAAAAAAAAAAAAAAAAAAAAAAAAAAAAAAAAAAAAAAAAAAAAAAAAAAAAAAAAAAAAAAAAAAAAAAAAAAAAAAAAAAAAAAAAAAAAAAAAAAAAAAAAAAAAAAAAAAAAAAAAAAAAAAAAAAAAAAAAAAAAAAAAAAAAAAAAAAAAAAAAAAAAAAAAAAAAAAAAAAAAAAAAAAAAAAAAAAAAAAAAAAAAAAAAAAAAAAAAAAAAAAAAAAAAAAAAAAAAAAAAAAAAAAAAAAAAAAAAAAAAAAAAAAAAAAAAAAAAAAAAAAAAAAAAAAAAAAAAAAAAAAAAAAAAAAAAAAAAAAAAAAAAAAAAAAAAAAAAAAAAAAAAAAAAAAAAAAAAAAAAAAAAAAAAAAAAAAAAAAAAAAAAAAAAAAAAAAAAAAAAAAAAAAAAAAAAAAAAAAAAAAAAAAAAAAAAAAAAAAAAAAAAAAAAAAAAAAAAAAAAAAAAAAAAAAAAAAAAAAAAAAAAAAAAAAAAAAAAAAAAAAAAAAAAAAAAAAAAAAAAAAAAAAAAAAAAAAAAAAAAAAAAAAAAAAAAAAAAAAAAAAAAAAAAAAAAAAAAAAAAAAAAAAAAAAAAAAAAAAAAAAAAAAAAAAAAAAAAAAAAAAAAAAAAAAAAAAAAAAAAAAAAAAAAAAAAAAAAAAAAAAAAAAAAAAAAAAAAAAAAAAAAAAAAAAAAAAAAAAAAAAAAAAAAAAAAAAAAAAAAAAAAAAAAAAAAAAAAAAAAAAAAAAAAAAAAAAAAAAAAAAAAAAAAAAAAAAAAAAAAAAAAAAAAAAAAAAAAAAAAAAAAAAAAAAAAAAAAAAAAAAAAAAAAAAAAAAAAAAAAAAAAAAAAAAAAAAAAAAAAAAAAAAAAAAAAAAAAAAAAAAAAAAAAAAAAAAAAAAAAAAAAAAAAAAAAAAAAAAAAAAAAAAAAAAAAAAAAAAAAAADIwMjI6MDk6MTkgMTc6MTY6MzAAMjAyMjowOToxOSAxNzoxNjozMAAAAEYAbwByAHQAdQBuAHkAIABTAGkAYwBhAHIAdAAsACAAQQBsAGEAbgAAAP/hCydodHRwOi8vbnMuYWRvYmUuY29tL3hhcC8xLjAvADw/eHBhY2tldCBiZWdpbj0n77u/JyBpZD0nVzVNME1wQ2VoaUh6cmVTek5UY3prYzlkJz8+DQo8eDp4bXBtZXRhIHhtbG5zOng9ImFkb2JlOm5zOm1ldGEvIj48cmRmOlJERiB4bWxuczpyZGY9Imh0dHA6Ly93d3cudzMub3JnLzE5OTkvMDIvMjItcmRmLXN5bnRheC1ucyMiPjxyZGY6RGVzY3JpcHRpb24gcmRmOmFib3V0PSJ1dWlkOmZhZjViZGQ1LWJhM2QtMTFkYS1hZDMxLWQzM2Q3NTE4MmYxYiIgeG1sbnM6ZGM9Imh0dHA6Ly9wdXJsLm9yZy9kYy9lbGVtZW50cy8xLjEvIi8+PHJkZjpEZXNjcmlwdGlvbiByZGY6YWJvdXQ9InV1aWQ6ZmFmNWJkZDUtYmEzZC0xMWRhLWFkMzEtZDMzZDc1MTgyZjFiIiB4bWxuczp4bXA9Imh0dHA6Ly9ucy5hZG9iZS5jb20veGFwLzEuMC8iPjx4bXA6Q3JlYXRlRGF0ZT4yMDIyLTA5LTE5VDE3OjE2OjMwLjY3MDwveG1wOkNyZWF0ZURhdGU+PC9yZGY6RGVzY3JpcHRpb24+PHJkZjpEZXNjcmlwdGlvbiByZGY6YWJvdXQ9InV1aWQ6ZmFmNWJkZDUtYmEzZC0xMWRhLWFkMzEtZDMzZDc1MTgyZjFiIiB4bWxuczpkYz0iaHR0cDovL3B1cmwub3JnL2RjL2VsZW1lbnRzLzEuMS8iPjxkYzpjcmVhdG9yPjxyZGY6U2VxIHhtbG5zOnJkZj0iaHR0cDovL3d3dy53My5vcmcvMTk5OS8wMi8yMi1yZGYtc3ludGF4LW5zIyI+PHJkZjpsaT5Gb3J0dW55IFNpY2FydCwgQWxhbjwvcmRmOmxpPjwvcmRmOlNlcT4NCgkJCTwvZGM6Y3JlYXRvcj48L3JkZjpEZXNjcmlwdGlvbj48L3JkZjpSREY+PC94OnhtcG1ldGE+DQogICAgICAgICAgICAgICAgICAgICAgICAgICAgICAgICAgICAgICAgICAgICAgICAgICAgICAgICAgICAgICAgICAgICAgICAgICAgICAgICAgICAgICAgICAgICAgICAgICAgCiAgICAgICAgICAgICAgICAgICAgICAgICAgICAgICAgICAgICAgICAgICAgICAgICAgICAgICAgICAgICAgICAgICAgICAgICAgICAgICAgICAgICAgICAgICAgICAgICAgICAKICAgICAgICAgICAgICAgICAgICAgICAgICAgICAgICAgICAgICAgICAgICAgICAgICAgICAgICAgICAgICAgICAgICAgICAgICAgICAgICAgICAgICAgICAgICAgICAgICAgIAogICAgICAgICAgICAgICAgICAgICAgICAgICAgICAgICAgICAgICAgICAgICAgICAgICAgICAgICAgICAgICAgICAgICAgICAgICAgICAgICAgICAgICAgICAgICAgICAgICAgCiAgICAgICAgICAgICAgICAgICAgICAgICAgICAgICAgICAgICAgICAgICAgICAgICAgICAgICAgICAgICAgICAgICAgICAgICAgICAgICAgICAgICAgICAgICAgICAgICAgICAKICAgICAgICAgICAgICAgICAgICAgICAgICAgICAgICAgICAgICAgICAgICAgICAgICAgICAgICAgICAgICAgICAgICAgICAgICAgICAgICAgICAgICAgICAgICAgICAgICAgIAogICAgICAgICAgICAgICAgICAgICAgICAgICAgICAgICAgICAgICAgICAgICAgICAgICAgICAgICAgICAgICAgICAgICAgICAgICAgICAgICAgICAgICAgICAgICAgICAgICAgCiAgICAgICAgICAgICAgICAgICAgICAgICAgICAgICAgICAgICAgICAgICAgICAgICAgICAgICAgICAgICAgICAgICAgICAgICAgICAgICAgICAgICAgICAgICAgICAgICAgICAKICAgICAgICAgICAgICAgICAgICAgICAgICAgICAgICAgICAgICAgICAgICAgICAgICAgICAgICAgICAgICAgICAgICAgICAgICAgICAgICAgICAgICAgICAgICAgICAgICAgIAogICAgICAgICAgICAgICAgICAgICAgICAgICAgICAgICAgICAgICAgICAgICAgICAgICAgICAgICAgICAgICAgICAgICAgICAgICAgICAgICAgICAgICAgICAgICAgICAgICAgCiAgICAgICAgICAgICAgICAgICAgICAgICAgICAgICAgICAgICAgICAgICAgICAgICAgICAgICAgICAgICAgICAgICAgICAgICAgICAgICAgICAgICAgICAgICAgICAgICAgICAKICAgICAgICAgICAgICAgICAgICAgICAgICAgICAgICAgICAgICAgICAgICAgICAgICAgICAgICAgICAgICAgICAgICAgICAgICAgICAgICAgICAgICAgICAgICAgICAgICAgIAogICAgICAgICAgICAgICAgICAgICAgICAgICAgICAgICAgICAgICAgICAgICAgICAgICAgICAgICAgICAgICAgICAgICAgICAgICAgICAgICAgICAgICAgICAgICAgICAgICAgCiAgICAgICAgICAgICAgICAgICAgICAgICAgICAgICAgICAgICAgICAgICAgICAgICAgICAgICAgICAgICAgICAgICAgICAgICAgICAgICAgICAgICAgICAgICAgICAgICAgICAKICAgICAgICAgICAgICAgICAgICAgICAgICAgICAgICAgICAgICAgICAgICAgICAgICAgICAgICAgICAgICAgICAgICAgICAgICAgICAgICAgICAgICAgICAgICAgICAgICAgIAogICAgICAgICAgICAgICAgICAgICAgICAgICAgICAgICAgICAgICAgICAgICAgICAgICAgICAgICAgICAgICAgICAgICAgICAgICAgICAgICAgICAgICAgICAgICAgICAgICAgCiAgICAgICAgICAgICAgICAgICAgICAgICAgICAgICAgICAgICAgICAgICAgICAgICAgICAgICAgICAgICAgICAgICAgICAgICAgICAgICAgICAgICAgICAgICAgICAgICAgICAKICAgICAgICAgICAgICAgICAgICAgICAgICAgICAgICAgICAgICAgICAgICAgICAgICAgICAgICAgICAgICAgICAgICAgICAgICAgICAgICAgICAgICAgICAgICAgICAgICAgIAogICAgICAgICAgICAgICAgICAgICAgICAgICAgICAgICAgICAgICAgICAgICAgICAgICAgICAgICAgICAgICAgICAgICAgICAgICAgICAgICAgICAgICAgICAgICAgICAgICAgCiAgICAgICAgICAgICAgICAgICAgICAgICAgICAgICAgICAgICAgICAgICAgICAgICAgICAgICAgICAgICAgICAgICAgICAgICAgICAgICAgICAgICAgICAgICAgICAgICAgICAKICAgICAgICAgICAgICAgICAgICAgICAgICAgIDw/eHBhY2tldCBlbmQ9J3cnPz7/2wBDAAcFBQYFBAcGBQYIBwcIChELCgkJChUPEAwRGBUaGRgVGBcbHichGx0lHRcYIi4iJSgpKywrGiAvMy8qMicqKyr/2wBDAQcICAoJChQLCxQqHBgcKioqKioqKioqKioqKioqKioqKioqKioqKioqKioqKioqKioqKioqKioqKioqKioqKir/wAARCAEVAukDASIAAhEBAxEB/8QAHwAAAQUBAQEBAQEAAAAAAAAAAAECAwQFBgcICQoL/8QAtRAAAgEDAwIEAwUFBAQAAAF9AQIDAAQRBRIhMUEGE1FhByJxFDKBkaEII0KxwRVS0fAkM2JyggkKFhcYGRolJicoKSo0NTY3ODk6Q0RFRkdISUpTVFVWV1hZWmNkZWZnaGlqc3R1dnd4eXqDhIWGh4iJipKTlJWWl5iZmqKjpKWmp6ipqrKztLW2t7i5usLDxMXGx8jJytLT1NXW19jZ2uHi4+Tl5ufo6erx8vP09fb3+Pn6/8QAHwEAAwEBAQEBAQEBAQAAAAAAAAECAwQFBgcICQoL/8QAtREAAgECBAQDBAcFBAQAAQJ3AAECAxEEBSExBhJBUQdhcRMiMoEIFEKRobHBCSMzUvAVYnLRChYkNOEl8RcYGRomJygpKjU2Nzg5OkNERUZHSElKU1RVVldYWVpjZGVmZ2hpanN0dXZ3eHl6goOEhYaHiImKkpOUlZaXmJmaoqOkpaanqKmqsrO0tba3uLm6wsPExcbHyMnK0tPU1dbX2Nna4uPk5ebn6Onq8vP09fb3+Pn6/9oADAMBAAIRAxEAPwD6RooooAKKKKACiiigAooooAKKKKACiiigAooooAKKKxPE/im18MWkDzQy3VzdSiG2tYBl5nPYf40AbdFZOh6rqGpQytqmjzaUyH5VlkV949cqaxfD/wAR9O8SeNdQ8PWFtP8A6HEZBdtjy5QG2nb365/KjrYOlzsKKCQBk8CuZ1bxhFY+JtD0q1EV0uqTPE8iSA+VtXPagOlzpqKKKACiiigAooooAKKKKACiiigAooooAKKKKACiiigAooooAKKKKACiiigAooooAKKKKACiiigAooooAKKKKACiiigAooooAKKKKACiiigAooooAKKKKACiiigAooooAKKK4XWfiU+gzCfU/DmoQaR9oFu2oNtCqScBtuc7c96Otg6XO6ork9Y8bzWPioaDpmhXeq3P2NbxmhkRQqMxUfeI5yKt6r4ui0Pw5BqWq2U8FxcMI4rFSHleQnAQY4JoA6GisbQdX1LVPN/tPQ7jStoBTzZFffn/AHTxWvLLHDGZJnWNF5LOcAfjQA6iubsfFi3/AI+vPD0Mcbw29jHdrcI+7fuYjH6V0lHQAooooAKKKKACiiigAooooAKKKKACiiigAooooAKKKKACiiigAooooAKKKKACiiigAooooAKKKKACiiigCle6xY6deWVreTCOa+kMcC4++wGcflV2uE8d/wDI7+Cf+wg//os13dABXl/xOgZ/H3gx59Rk020M08bXUZA2OyfLyeBnkZr1CqmpaVYaxaG11S0hu4Cc+XMgYZ9eaAPJH1fxOW8U6D4dvbjxBFD5SQ3JdWeLf/rFDdCQP51D4UuLjTvi/FYWXh27swmhpAqTMvyYcnzGwehP417Bpmkafo1r9n0qzhtIc5KQoFBPrxUgsLQaib8W8f2sx+UZto3FM5259M0dQPOviBe+L7X4aa7LqQsoMRIFksGfcqFwHJz0+UmsKfTPCun/ABN8C/8ACMSQGRw5kWCXduXy+GYZ6+9ezzQx3ELwzxrJG4KsjDIYehFZVh4S8P6XKkun6PZ28kbb0eOEAqcYyDQtHcT1VjYooooGFFFFABRRRQAUUUUAFFFFABRRRQAUUUUAFFFFABRRRQAUUUUAFFFFABRRRQAUUUUAFFFFABRRRQAUUUUAFFFFABRRRQAUUUUAFFFFABRRRQAUUUUAFFFFAFHWNYstB0x9Q1SbybaNlVnIzgswUfqRV7rXCfGb/kl99/13tv8A0eld0v3F+lAC15X4n1mw+IHiJPDUF9bQ6Lptykup3Mkyr5zociFMnnnqa9UrBfwL4WkleSTQNPZ3YszG3XLE9zxR1DoYfiTRNFutfl1iPxRJo+ow2K27GC6RcRgl1JU9RzmvPb3V9U8R+G/BGp63qD2qLq8kL6jGoXco3KknPAz617Hf+EPD2qTxzaho9ncSRqEVpIQSFHQfQVdudH06803+zrqygls8BRA0YKADpxQB55oWqa7B421rQtE1ca7bwWkc0U16+9YpSeULr7c4qv47l1Sa68I2PjM2sGnXerMt79mdhEwEZMauT2LV6TpeiaZokDQ6RYwWcbHLLCgXJ96k1LS7HWLJrTVLSK7t2OTHKgYE+vNHYDzHwTaaLZfHPxFD4ceI2w0yEukMm9EfecgenbgetesVnab4f0jR336Xp1taNs8stDGFJXOcce5JrRo6JB1bCiiigAooooAKKKKACiiigAooooAKKKKACiiigAooooAKKKKACiiigAooooAKKKKACiiigAooooAKKKKAPNvik2pr4k8HHQ0t3vft7+UtyxEZOw9SOavfaPil/wA+Phr/AL/y/wCFHjv/AJHfwT/2EH/9Fmu7oA4P7T8U8n/iX+GiP+viXn9KX7X8Uh10vw4fpdSj/wBlru6KAOE/tD4np97QtBk/3b5x/NaP7c+JCff8H6ZL/uarj+aV3dFAHCHxX49j/wBb8Pgw9YdWib+YFJ/wnniWL/j6+HmsD18mWKT+TV3lFAHBD4oPF/x++DvEkHqfsW/H5GnL8X/DKcXyanYt6XOnyrj8duK7uggEYIyD2NAHJW/xS8F3JAXxBaIT2lbZ/Oty08Q6NfqGstUs51PeOZT/AFp1zoOkXoIu9Ls5gevmQKf6Vh3Xww8F3bFpPDtmjn+OFTGR/wB84oA6lXVxlGDD1BzTq4ST4T6VEd2katrWlsOgt75io/4C2RTR4R8a6ad2keNTdAdI9StVYH6lcGgDvaK4L+2fiNpR/wBP8PWGrRr1ewuNjH6K1Oj+K+l2ziPxDpup6LJ0P2m2YoP+BLkUAd3RWbpfiLR9biEmlalbXSn/AJ5yAn8utaVABRRRQAUUUUAFFFFABRRRQAUUUUAFFFFABRRRQAUUUUAFFFFABRRRQAUUUUAFFFFABRRRQAUUUUAFFFFABRRRQAUUUUAFFFFAHA/GzzB8KdR8kKZPOt9obpnzkxmnLcfFLaMWPhrp/wA95f8ACl+M3/JL77/rvbf+j0rul+4v0oA4Q3PxTz/x4eGiP+viX/Cl+1/FIf8AMM8OH/t5l/wru6KAOE+3/FBfvaL4ff2W9kH/ALLR/bXxKj+/4T0qX/c1PH81ru6KAOEPij4gR/6zwBFJ7w6vGf5gUn/Cc+Koh/pPw71P38m5hk/9mrvKKAOC/wCFm3UP/H74J8SQeuLUP/I04fF3QYjjULLWbH/rvpsox+IBru6KAOOg+K/gqfH/ABPYIie0wMZ/UVt2XivQNRGbHWbGf/cnU/1q3c6Tp15n7XYW0+f+ekKt/MViXvw38Hagc3PhzTy395IQh/NcUAdHHNFKMxSK49VYGn1w0nwl8PpzplxqmmN2NpfOuPwJIqMeB/FGn86P45vGA+7HfwJKv0JGDQB3tFcEbv4maX/rtP0jWkH8UErQMfwNKPigunnb4o8OatpDDq5g82P67lzxQB3lFYmj+MvD2vL/AMSrV7Wdv7nmBWH4HmtvOelABRRRQAUUUUAFFFFABRRRQAUUUUAFFFZ+u67p/hvRptU1eYw2kABdwhYjJwOByaANCiuCHxo8HEZE+of+Cyf/AOIo/wCFz+D/APnvqP8A4LJ//iKAO9orgv8Ahc/g/wD576j/AOCyf/4ij/hc/g//AJ76j/4LJ/8A4igDvaK4L/hc/g//AJ76j/4LJ/8A4ij/AIXP4P8A+e+o/wDgsn/+IoA72iuC/wCFz+D/APnvqP8A4LJ//iKP+Fz+D/8AnvqP/gsn/wDiKAO9orgv+Fz+D/8AnvqP/gsn/wDiKP8Ahc/g/wD576j/AOCyf/4igDkfiD8T/DVp4+0CC9uJrabR792u0kiOVUpgEeoOa9c0XV4Nd0e31O0SRILlN8YlXaxXscV85/E4+DfG3j7RNat5r5IVcJqI/s2cFo15B+5ye1etQfGHwXb28cMMmoLHGoVVGmT8AdP4KAPQaK4L/hc/g/8A576j/wCCyf8A+Io/4XP4P/576j/4LJ//AIigDvaK4L/hc/g//nvqP/gsn/8AiKP+Fz+D/wDnvqP/AILJ/wD4igDvaK4L/hc/g/8A576j/wCCyf8A+Io/4XP4P/576j/4LJ//AIigDvaK4L/hc/g//nvqP/gsn/8AiKP+Fz+D/wDnvqP/AILJ/wD4igDvaK4L/hc/g/8A576j/wCCyf8A+IrX8NfELw94s1Cax0a5me5hj8x45raSI7c4z8wGaAOmooooAKZLDHMhSaNZFPUMoINPooA5PVvhl4W1aUztpy2lz2ns2MLj8VrNPhnxt4f58NeJF1O3XpZ6wm449BIvIrvqKAOBh+Jp0qUW/jrRbvQX6fatvm2re+9en4121lf2mpWiXWn3MVzBIMrLE4ZT+IqWaCK4iaK4jSWNhgq65B/CuHvvhnFZXT6h4G1Gbw5fE7jFD81rMfR4jx+IxQB3dFcDZfEG90S+j0v4j6cukTyNsg1OBi9lcH/fPMZPo3513qOsiK8bBlYZDKcgigBaKKKACiiigAooooAKKKKACiiigAooooAKKKKACiiigAooooAKKKKACiimTzR21vJPM22ONS7t6ADJoAfRXAJ8a/BcqB4rq+kRhlWTTZyCPUHZTv8Ahc/g/wD576j/AOCyf/4igDvaK4L/AIXP4P8A+e+o/wDgsn/+Io/4XP4P/wCe+o/+Cyf/AOIoA72iuC/4XP4P/wCe+o/+Cyf/AOIo/wCFz+D/APnvqP8A4LJ//iKAO9orgv8Ahc/g/wD576j/AOCyf/4ij/hc/g//AJ76j/4LJ/8A4igDvaK4L/hc/g//AJ76j/4LJ/8A4ij/AIXP4P8A+e+o/wDgsn/+IoA5745+OdG03w7deHL+SWC/mNvPDujOyVBMpJBHptP5V6D4T8W6Z4y0t9Q0MyyWaSGNZnjKiQjrtz1FeJ/G3W/CfxF8MWy6ZLfDVbGcNAzabOA0bEB1J2emG/4D7123hj4j+BPC3hiw0Wwm1DybOERhv7Lny57sfk6k5NAHqdFcF/wufwf/AM99R/8ABZP/APEUf8Ln8H/899R/8Fk//wARQB3tFcF/wufwf/z31H/wWT//ABFH/C5/B/8Az31H/wAFk/8A8RQB3tFcF/wufwf/AM99R/8ABZP/APEUf8Ln8H/899R/8Fk//wARQB3tFcF/wufwf/z31H/wWT//ABFH/C5/B/8Az31H/wAFk/8A8RQB3tFcF/wufwf/AM99R/8ABZP/APEVc0f4qeFdc1u10mxurkXl2WECT2csQcqpYgFlA6AmgDsaKKKACkZVdcOAw9CM0tFAHOaz4B8M66S1/pFuZe00S+W49wVwawj4E8Q6Ed3g7xTcJEvSy1IefF9AfvD869AooA4EePda8PsI/HHhyeCMddR00GeD6lfvL+tdbo3iDSfEVkLvRNQgvYT1aFwdvsR1H41oFQykMAQeoNcdrXwz0fULw6lo0k2gav1F9pzeWWP+2v3XH1FAHZUV54PF3iTwUwh8fWS3umg7V13TkJVR6zRdU+oyK7qw1Cz1WxjvNNuYrq2lXcksTBlYfUUAWaKKKACiiigAooooAK4j4vf8k3vP+u0P/oxa7euI+L3/ACTe8/67Q/8AoxaAOytP+PKD/rmv8qlqK0/48oP+ua/yqWgAooooAKKKKACiqupy3kOmTyaZAk92qfuo5G2qze5rhY/FvijRfHGj6J4ot9Pmh1gOInsi26FlGcEHqPejrYOlz0Sis5PEGkyWd5dJqEBgsWZbl9/EJXqG9KytZvPE948D+El077FJB5purpmO4noAo9u9AHTUVyfw88W3Pi/w/Nc6hbJb3drdSWswjbKMyHBKn0rrKACivP7PxT4m8WahqD+EotPt9LsbhrZLm93MbmROG2gdFB4zXReIvEZ8MeE21G/RXuwiosEZ/wBZMeAq/jS6XDrY3qK4z4Y+LdT8YeHbm71u1htbu3u5Ld44iSBtrs6pqwBRRRSAKKKKACuCh/5L1cf9gVf/AEZXe1wUP/Jerj/sCr/6MoA72iiigAooooAKKKKACiiigCvfWFpqdlJaahbxXNvKu14pUDKw9wa8+l0TXPhq7XfhMS6r4cBLT6PI5aW2HdoGPUd9h/CvSaKAMzw/4h03xNpMeoaRcLNC/UdGQ91YdQR6Vp1594k8NX3hvV5PFnguPMp+bUdMXhLte7AdnHr3rrvD2v2PibRYNT0yTfFKOVP3kbupHYg0AadFFFABRRRQAUUUUAFFFFABRRRQAUUUUAFFFFABRRRQAUUUUAFUNe/5F3Uf+vaT/wBBNX6oa9/yLuo/9e0n/oJoAxPhh/yS3w7/ANeEf8q6quV+GH/JLfDv/XhH/KuqoAKKKKACiiigArhLX4mpe/EOy8N2+kXS292sxS/nGxXMY52qeSM8Zru6818TSJ/wvrwb8y8Wd5nnp8ooXxJf1sJ/Cz0YXELTtCsqGVRlkDDIHrisnXvE1vouli7hgm1GR38qKCzXezv6ccD6mvM/jFc3OheIrPVPCcj/ANuT2skV1DEu7NsBzIR6r2r0DwRb6XZeAtPGjzCa1eDzBMTzIxGWY++c0vstldbC+APFp8b+D7fXDZmyM0kqGAvuK7HK9fwrpa84+A7L/wAKnsxuGRdXWRn/AKbvXocFzBdReZazRzR5I3xsGGR1GRVyVnoI5XWvGl1B4l/4R/w3pJ1bUkiE0+6YRRQKem5ueT6Yrd02/vH0UXevWiaZMgZpo/OEioB33DtjmvLNN0S51b4seMoX8QXmksGikVLcqpdNvDZPYVnf8JD4l8Q/D+HS5re81W3k1OW0vb61Qb5LaNv5t93P1qFsHU7vwL8Sk8beIdW0+LTJLSGyRJYJ5G/4+I3JCvjHAOMj2Nd1XjXgTWlf44a9BBot9ZxS2FpCsckQX7OqKcbueAe1ey1XRCW7CiiikMKKKKACuB8c/wDJTPh3/wBf93/6SvXfVwPjn/kpnw7/AOv+7/8ASV6AO+ooooAKKKKACiiigAooooAa6LJGySKHRhgqwyCK4HUvBOoeGb6TWfh06W7Md9zo8hxb3PqVH8De44r0CigDnvCfjGx8VWsgiV7S/tzsu7GfiWBvQj0966GuO8Y+C5NSuY9e8NTLp/iK0GYpwMLcL/zykHdT+lXfBni2PxRp0q3EBstVs38m+snPzQyD+anqDQB0lFFFABRRRQAVxHxe/wCSb3n/AF2h/wDRi129cR8Xv+Sb3n/XaH/0YtAHZWn/AB5Qf9c1/lUtRWn/AB5Qf9c1/lUtABRRRQAUUUUAVNUvLSw02afUbpbO3C4ed32BM8Zz2rx6/jsfDvxR8OXvh3XG1661KU280M9wLloosZLq3JWvaLi2gvLd4LuFJoZBh45FDKw9CDWZpXhPw/odw9xo+jWNlM/3pIIFVj+IFC3uD2seH+PvIb4haleack7eFIbm1TxOID8kkgb07gfLvr1XxOPDmuQR6ZceJzpRW3Eix2t8IC0TDCnGeRxxXSx6NpkVncWkdhbrbXJZp4hENspb7xYd81Tv/B/hzVLeCHUdDsLmO3QJCslup8tR0A44HtS+zYfW5w/wg1iKy8K61BcTwf2Ro968UGoBQizRjksSOCc9T3r0u3uYb6yS4s5VlhmTdHIhyGB6EVi6/wCE7fVvCreH7F00yykKrIlvEADHnJUAYxnpmtqztIbCyhtLVBHDCgRFHYAYFN67i2Pnrw1pPh+3+GWvS6zrFxY63pdxdqU+2tG0MgdmTamec5Hbmuos4vGusf8ACK6tqmhDVLez05J/La6WJmuWH33BB6Lg/U16Xd+EvD1/qi6le6LYz3qnIuJLdS+exzitjGBgdKA6nlPwPvNQns9djutN+zw/2pO/m+eG+ctymMdvWvVqr2en2mnpItjbRW6yOZHESBdzHqTjvVimAUUUUgCiiigArgof+S9XH/YFX/0ZXe1wUP8AyXq4/wCwKv8A6MoA72iiigAooooAKKKKACiiigAooooAK831eE/DnxeuvWYK+HtWlEepQr922mJwswHYE8GvSKqatpdrrWkXWm6hEJba6jMciHuCP50AWlYOoZTkEZBHelrh/hpqV1HZX/hbWJTLqXh+b7O0jHmeAjMUnPqvH1BruKACiiigAooooAKKKKACiiigAooooAKKKKACiiigAooooAKoa9/yLuo/9e0n/oJq/SMqupVwGVhggjgigDgPhv4p0C2+GmgQ3Ot6fFLHYxq6PdIrKcdCCeK6f/hMPDX/AEMGmf8AgXH/AI1V/wCFe+D/APoWdK/8BE/wo/4V74P/AOhZ0r/wET/CgC1/wmHhr/oYNM/8C4/8aP8AhMPDX/QwaZ/4Fx/41V/4V74P/wChZ0r/AMBE/wAKP+Fe+D/+hZ0r/wABE/woAtf8Jh4a/wChg0z/AMC4/wDGj/hMPDX/AEMGmf8AgXH/AI1V/wCFe+D/APoWdK/8BE/wo/4V74P/AOhZ0r/wET/CgC1/wmHhr/oYNM/8C4/8a4y58L/Cy81I39xqFg9yWZhJ/anILHJx83FdT/wr3wf/ANCzpX/gIn+FH/CvfB//AELOlf8AgIn+FHmBStrjwJa6nJqEeq6WbqSBbZpHvUY+WOi8npVN7L4dtoI0Yarp6WCzGZYk1ELtY5zghunPStn/AIV74P8A+hZ0r/wET/Cj/hXvg/8A6FnSv/ARP8KAOc0vT/AfhSzu38I6ppdreSW7xxCTUQYwx5GRuPfFXvBNz4W8H+ErPR4/EmmzPEC80pu0/eSMcsevqawPi14L8M6d8Oby5sNB0+3nWa3Akit1VgDMgPIHoa7Nfh74P2j/AIpnSun/AD6J/hQBka9afDrxJfLeapqemtcqnl+dFfrGzL/dJVuRWvpeueDdF06Kw0vV9JtraEYSNLqMAfrWZq2h/DTQnCazp2gWTlN4WeGNSVzjODUOoad8LNKjgfUbPw7bLcJ5kRkijG9f7w9vegDUt9T8FWuvXmswaxpa317Gkc8v21PnVPujGe2a0P8AhMPDX/QwaZ/4Fx/41w+taL4YtvGvhPT9O8PaJJYawbgyuLNG3Kke5Sp+tb48N/Do2N1eDSdCNtZuyXEvkx7YmXqGOOCKANn/AITDw1/0MGmf+Bcf+NH/AAmHhr/oYNM/8C4/8apQ+A/BVzAk0HhzSJIpFDI62qEMD0I4p/8Awr3wf/0LOlf+Aif4UAWv+Ew8Nf8AQwaZ/wCBcf8AjR/wmHhr/oYNM/8AAuP/ABqr/wAK98H/APQs6V/4CJ/hR/wr3wf/ANCzpX/gIn+FAFr/AITDw1/0MGmf+Bcf+NcZ4p1rS9V+J/w+TTNRtbxo767LiCZXKj7M/XBrqf8AhXvg/wD6FnSv/ARP8Ks2Hg3w3pV6l5puhafa3Medk0NuqsuRg4IHoaANqiiigAooooAKKKKACiiigAooooAK4Lx1o91o+oxeNvDkRN9ZLtv7dP8Al8tv4gfVl6iu9pGVXUq4DKwwQe4oAqaRqtrrej2upafIJLa6jEkbD0NXK898JE+EPHWo+EpWIsLzN9pYPRQT+8jH0POPevQqACiiigArivi3FLL8N77yIpJmR4nKRqWYgOCcAV2tFAHAW/xd8Nx20SNFqmVQA/8AEvl9PpUn/C4PDX/PLVP/AAXy/wCFd3RQBwn/AAuDw1/zy1T/AMF8v+FH/C4PDX/PLVP/AAXy/wCFd3RQBwn/AAuDw1/zy1T/AMF8v+FH/C4PDX/PLVP/AAXy/wCFd3RQBwn/AAuDw1/zy1T/AMF8v+FH/C4PDX/PLVP/AAXy/wCFd3RQBwn/AAuDw1/zy1T/AMF8v+FH/C4PDX/PLVP/AAXy/wCFd3RQB5/L8afCkEsUcv8AaSPKdqKbCQFj7cVL/wALg8Nf88tU/wDBfL/hR47/AOR38E/9hB//AEWa7ugDhP8AhcHhr/nlqn/gvl/wo/4XB4a/55ap/wCC+X/CtC7+IujWviqfw6kd5c6lbsglit4C+xXAIcn05FMvfiVodleXMbLeS29nL5NzeQwFoYX7gt7d/SgCl/wuDw1/zy1T/wAF8v8AhR/wuDw1/wA8tU/8F8v+FR2/iOWL4p62Jrt30q20eK6WNTlRySWA9xW9L420eHRNJ1V3l+zavcRW9qdnJeT7uR26U7B1MX/hcHhr/nlqn/gvl/wo/wCFweGv+eWqf+C+X/Cu7opAcJ/wuDw1/wA8tU/8F8v+FH/C4PDX/PLVP/BfL/hXd0UAcJ/wuDw1/wA8tU/8F8v+FZnhfWoPE/xiu9U023u1s00pYTJPbtH82/OPmFenUUAFFFFABRRRQAUUUUAFFFFABRRRQAUUUUAcB4oB8O/FTw5r8eBb6tnRrwdPmbLwt9dwK/jXf1xnxb0+S++F2syW2RdWEQv7d1+8kkJEgI9/lP510+kX6aroljqMXKXdvHOuPRlDD+dAFyiiigAooooAKKKKACiiigAooooAKKKKACiiigAooooAKKKKACiiigAooooAKKKKACiiigAooooA4T4zH/i199/13tv/AEeld0h+UfQV4J+0vo2twaXba7ot5crZyOlvf2yMdhIbMb4+ox+VemfC/RNT0XwNZ/8ACQXc91qt0onunnfcysw4X2wP60AZPiDS7fUPjpoDXlotxHDp0zrvTcqtuGD6Zrm9Qim034seI21PVbbSILuGEWsl3Y+dHLEFwUUkgDB6ivaDGhkDlFLgYDY5FNmtoLgAXEMcoXpvQNj86APIdN0aPR9b+GlnYXsmpWsDX5S6aMrlWQkDHYDOB7Csm81i10nwP490G8Eq6nc6hcPDbCNi0ivgqw45HvXu3lR5Q+WuU+6dv3fp6UxrWB5TI8EbORgsUBOPTND1d/66f5AtDO8Kgr4Q0kMCCLOIEHt8orWoACgBRgDoBRTbu7iSsrBRRRSGFFFFABRRRQAUUUUAFFFFABRRRQAUUUUAFFFFAHCfFK2ez0zT/E9qP9J0O6WY47xE7XH5Gu2trhLq1iuIjlJUDqfUEZqvrWnx6rod7YTKGS4geMg+4rnPhZqD3/w9sFnOZrPdayE9cxsV/pQB2FFFFABRRRQAUUUUAFFFFABRRRQAUUUUAFFFFAHCeO/+R38E/wDYQf8A9Fmu7rhPHf8AyO/gn/sIP/6LNd3QBxHhnSLu2+KnjbULm0kjt7wWQtp2XAkCxMG2nvg4zXCWHhd9KXV9D8RaV4qu1ub6aWM6ZK5trmORtwzhgFPODmvcqKAPMovDF9/wmmuLbWM0NnP4fjtLeSX7u8AjYW9RxmuaMXiDUfDHg3w+vhbVIJdF1W1kvZ5YwI1WNsEqc/MOc5HQCvcqKd9b/wBb3D+vwsFFFFIAooooAKKKKACiiigAooooAKKKKACiiigAooooAKKKKAIru3ju7Oa2nUPFNG0bqe4IwRXHfB65kuPhPoqTNue1je1J9o5GQfoortq4P4QnZ4U1K2HS11y/hA9AJ2P9aAO8ooooAKKKKACiiigAooooAKKKKACiiigAooooAKKKKACqerTyW2i3s8LbZI4HdT6EKSKuVQ17/kXdR/69pP8A0E0AedeEfC/iDxF4P0vWLnx3rcUt7bLM6RmPapIzgfLWz/wr7W/+h/1784//AImtH4Yf8kt8O/8AXhH/ACrqqAOE/wCFfa3/AND/AK9+cf8A8TR/wr7W/wDof9e/OP8A+Jru6KAOE/4V9rf/AEP+vfnH/wDE0f8ACvtb/wCh/wBe/OP/AOJru6KAOE/4V9rf/Q/69+cf/wATUX/CEambjyP+Fjaz52M+X5kW7H025r0AjII9a+fvHun+DrG8stJ8L2L6f4kXUUxq84eMowf5y87/AH888ZOc8UdUg6XPRv8AhX2t/wDQ/wCvfnH/APE02TwFq8SF5fiFriKOSzNEAP8Ax2n+JfiH/wAIX4gig8Q26JpFxal7e/RiS8yjmMjpk9qivpNO8R+B7HWfiHo7CAOZUsUEkq4b7u9F+8cdiCBmgCGf4b3ur2Jin8e6xeWzkNgmJ1Yg5H8PqBVr/hX2tf8AQ/69+cf/AMTXPfBr+z5fFHi268NqLHQpJolttMZtrROFId/L6xhj0FeuUAcDL4E1aCMvP8RNbjQdWd4gB+JWlTwDrEiB4/iFrjqejK0RB/8AHa5DWNU03X/itrMHiXR9Q1200dEitdPt7Vp4lJGWkZRxntzXUw+MvDujfDVb3wRaIqyym2sNPWMxk3LNjYVPTB5PsDR0uHWxMvgLV3ZlT4ha4zL94BoiR9flp3/Cvtb/AOh/1784/wD4muW+FWgyeHPix4psrq4a5u3sLSe7mZs+ZM+5nP0yePavZKfQVzhP+Ffa3/0P+vfnH/8AE0f8K+1v/of9e/OP/wCJru6KQzhP+Ffa3/0P+vfnH/8AE0f8K+1v/of9e/OP/wCJru6KAOE/4V9rf/Q/69+cf/xNZNxZ674S+InhG1fxVqWqWuq3NxDcQXewrhIGcYwB3Ar1GuB8c/8AJTPh3/1/3f8A6SvQB31FFFABRRRQAUUUUAFFFFABRRRQAUUUUAFcH8Nl+x6p4t0wcLbau7xr6K4DfzJrvK4Pwr+6+LHjGEdG+zyY+qY/pQB3lFFFABRRWdr+u2PhrRZ9U1V2S1gA3lFLHk4GAOtAGjRXBj4v+HiARY64Qeh/sqX/AApf+FveH/8Anx1z/wAFUv8AhQB3dFcJ/wALe8P/APPjrn/gql/wo/4W94f/AOfHXP8AwVS/4UAd3RXCf8Le8P8A/Pjrn/gql/wo/wCFveH/APnx1z/wVS/4UAd3RXCf8Le8P/8APjrn/gql/wAKP+FveH/+fHXP/BVL/hQB3dFcJ/wt7w//AM+Ouf8Agql/wo/4W94f/wCfHXP/AAVS/wCFAHG/EH4o+HbPx/oMF/JPbTaNfO10kkRyFKEAj1Br1/RdWi1zR7bUraOSOG5TfGJV2ttPQkdq+dvibH4d8beO9D1qCx1lIo3CagDpUuXjXkduT2r1iH4s+HLeBIYtP1xUjUKqjSpeAPwoA7+iuE/4W94f/wCfHXP/AAVS/wCFH/C3vD//AD465/4Kpf8ACgDu6K4T/hb3h/8A58dc/wDBVL/hR/wt7w//AM+Ouf8Agql/woA7uiuE/wCFveH/APnx1z/wVS/4Uf8AC3vD/wDz465/4Kpf8KAO7orhP+FveH/+fHXP/BVL/hR/wt7w/wD8+Ouf+CqX/CgDu6K4T/hb3h//AJ8dc/8ABVL/AIVqeG/iBovinU5tP04XkV1DGJWiu7ZoTtzjI3daAOnooooAKKKKACiiigAooooAKKKKACiiigArgfhJ/wAgjxG3ZvEuoEf9/a76uD+Dvz+B57oci61W9nB9czv/AIUAd5RRRQAUUUUAFFFFABRRRQAUUUUAFFFFABRRRQAUUUUAFUNe/wCRd1H/AK9pP/QTV+q+oWxvdNubUNtM0TRhvTIxQBzvww/5Jb4d/wCvCP8AlXVV5roOifEjw9oFlpFpcaFJBZwrDGzo+4gdM81obPif/wA9fD//AHxJ/jQB3VFcLs+J/wDz18P/APfEn+NGz4n/APPXw/8A98Sf40Ad1RXC7Pif/wA9fD//AHxJ/jRs+J//AD18P/8AfEn+NAHcSb/Lby8b8HbnpmvL/Ftj438beHn8OXnh2ys/PZRNfm6DoihslkHXPFbGz4n/APPXw/8A98Sf40bPif8A89fD/wD3xJ/jQBm+Kvh5qHjO8tdJ1KXytD02zH2eRX+ea524DkdgMVqafc+OdJ8LadHNpFrqN5bhorlRchC6jhXU9OR1FN2fE/8A56+H/wDviT/GjZ8T/wDnr4f/AO+JP8aAKXhvRNVtfG+u+O/E1vBpMc1isC2kcgfCJ8xkcjjPFdL4E13UfEvhG11bVrNbOW6LOkS5/wBXn5Tz6jmuM8X638RPDnhi41HUU0G5tlZI3iCOdwdwnc9PmrZji+JqRqsb+HlQABVCSAAfnQBWuNH8S+F/Hmr6x4e02LVbLWERniM4jaKVRjPPUYqtoPwit5NEtz4lnnj1Jbya+zYzlBFJJ1AOOcDjNamz4n/89fD/AP3xJ/jRs+J//PXw/wD98Sf40A9TN8MfDSfQ/itqmuPeX0lg1vCts8t3vaVgCGDjuBnivTK86udS+IVpqFpY3N74cjubwsLeIrJmTaMtj6Crez4n/wDPXw//AN8Sf40dLB1O6orhdnxP/wCevh//AL4k/wAaNnxP/wCevh//AL4k/wAaAO6orhdnxP8A+evh/wD74k/xo2fE/wD56+H/APviT/GgDuq4Hxz/AMlM+Hf/AF/3f/pK9SbPif8A89fD/wD3xJ/jVVPDPjLV/Gnh/VfEtzpa22jTTTBLRW3OXiZMc/XNAHolFFFABRRRQAUUUUAFFFFABRRRQAUUUUAFcH4c5+Mniw+lvaj/AMdNd5XB+EP33xN8ZzjkLLBDn3Cf/XoA7yiiigAriPi9/wAk3vP+u0P/AKMWu3riPi9/yTe8/wCu0P8A6MWgDsLRV+xQfKP9Wvb2qbav90flUdp/x5Qf9c1/lUtACbV/uj8qNq/3R+VLRQAm1f7o/Kjav90flS0UAJtX+6Pyo2r/AHR+VVtTkvYtNnfS4Y57wJ+5jlfarN7nsK4SLxZ4s0Tx1o+ieKY9LuYdYV/LewDq0DKM/MGJyPfijd2Dpc9E2r/dH5UbV/uj8qzI/Euiy2V9dpqVubfT2ZLuTzBiEr1DemKzNZu/FF99nl8HvpS2MkHnfa73e+/PICquOMc5JoA6bav90flRtX+6PyrlPh14su/F3h6a51O2it7y1upLWbySTG7IcblJ7GusoATav90flRtX+6Pyrz+z8UeKfFt/qEvhIaXZ6VZXD20dxfq7tdSIcMVCkYUHIzzXReJPEbeF/CbahfJHJe7FRIIicSzngKvfBP6UdLh1sb21f7o/Kjav90flXGfDDxZq3i7w5c3Wv21vbXtveSW7x2+do2/Umu0ptWATav8AdH5UbV/uj8qWikAm1f7o/Kjav90flS0UAJtX+6Pyrg4AB8erjAx/xJV/9GV3tcFD/wAl6uP+wKv/AKMoA72iiigAooooAKKKKACiiigAooooAKKKKAIrudLWymuJjtjijZ2PoAMmuP8Ag9bPbfCTQfNGHnga4P8A20dnH6MKsfFS+OnfCfxLcK21jp0san0LrsH6tW34csRpfhbSrADAtbOGHH+6gH9KANKiiigAooooAKKKKACiiigAooooAKKKKACiiigAooooAKKKKACiiigAooooAKKKKACiiigAooooA4T4zf8AJL77/rvbf+j0rul+4v0rx748ePNM0jQZ/DeoxXEV1deRPby+XmOVVlUsAR3GDxXoXgzxfZeNdE/tXSYbhLLeY4pJk2+bjqQPTPFAGF4t8ReJ4/H2meGvDDWMIvbWSaS4u4i/lbT1ABGfpWRqnj/Vf+Eov9Cg1rS9Kk0qFBLcXVq8n2qZlzgKG+VR9Sa7S68MfafHlj4j+07fslq9v5O37245zms688G6na+LLzXvC2rQ2Uuooi3dvdW/mxuVGA4wQQcUugHJQeIpvFXib4aavd2ptLic3wliIIAZUKkjPOCRkexFbUfjvVW8C+LNYKW/2nR7y4gtxsO0qmMbhnk81uT+Erm91zw3quoakJ7nRvOMjCHYJzIu3pn5cVz2o/C7U7iHXNO0/wAR/ZNH1mZriaD7MGkV2+8A+funHpmh7v8ArsCO60O9k1HQLC9nCiW4t0kcKMDJUE4q/VTSrH+zNHtLHf5n2aFYt+MbtoxmrdU7X0Er21CiiikMKKKKACiiigAooooAKKKKACiiigAooooAKKKKACuD+Gh+03vivUB9251mUKfZAF/pXb3cwtrKedjgRRs5P0Ga434RwMnw/t7p87r6eW5Oe+9yRQB29FFFABXEfF7/AJJvef8AXaH/ANGLXb1xHxe/5Jvef9dof/Ri0Adlaf8AHlB/1zX+VS1Faf8AHlB/1zX+VS0AFFFFABRRRQBT1W9s7DTJp9SuRa2wXDzFsbAeM57V49dR6doHxQ8O3fhXWn1u41CUwXEM0wuDFDjJdW/hr2me3huoHhuYklicYZHXIYe4rO0zwxoejTtPpWlWlpK33niiCk/jQt7g9rHh3jwQzfEHUdR02OZ/Ctvc2qeJRCfkmkDdQO4X5d1eo+KW8L67DFp174jbTStuJY1trvyd0bDg+44rqU0jT4rOe1jsoFt7gsZowg2yFupI75qpe+FNA1GCGG+0iznjt1CRLJEDsUdAPal9mw+tzhfhFrMdj4T1mO6nj/sbSbx47a/2bRNEOSxI6nPfvXpVtdQ6hYx3NnKssMybo5F6MD0NY+veFLfV/DDaDasun2UhVZEgQDMYOSo9M1tWtrFZWcVtbIEhhQIijsAMCm9dxbHzz4d0rw5afDXXTrmqXNlr2mXF0uwXjRtFIHZo9iAjOcjsc11VnZ+N9V/4RXVdS0iPUobHTkl8qS4EbG5YY3sD3C4/EmvTLrwvod7qS393pNpNdqQRM8QLZ+tauMDA6UdA6nlXwPutSmstdS809YIf7UnfzBKG+ctyuPb1r1WoLSxtbBHWyt44FkcyOI1xuY9Sfep6YBRRRSAKKKKACuCh/wCS9XH/AGBV/wDRld7XBQ/8l6uP+wKv/oygDvaKKKACiiigAooooAKKKKACiiigAooooA4L4pldRi8O+GiN41nWIFnj/vQRHzZPwwg/Ou9rz/S2/wCEo+Ml/qijdY+HLY6fAx5DXEhDSkfRQq/jXoFABRRRQAUUUUAFFFFABRRRQAUUUUAFFFFABRRRQAUUUUAFR3E6WtrLcTHEcSF2PsBk1JVDXv8AkXdR/wCvaT/0E0AcZbfGLSby2juLTRNemgkXckiWDFWHqDUv/C2bD/oXvEP/AILmrT+GH/JLfDv/AF4R/wAq6qgDgv8AhbNh/wBC94h/8FzUf8LZsP8AoXvEP/guau9ooA4L/hbNh/0L3iH/AMFzUf8AC2bD/oXvEP8A4LmrvaKAOC/4WzYf9C94h/8ABc1H/C2bD/oXvEP/AILmp3xJ+IN/4L02abS9DmvzbxrLPcSfJBErNtHPVmz2Fdi+pWtvBbPe3MNubgqsYlkC72I+6M9T7UAcZ/wtmw/6F7xD/wCC5qP+Fs2H/QveIf8AwXNXZXGqWdtJLC06PcRxGY20bBpSo7hOprkPCnj/AFDxF441LRL3RW0yG1to7iHzm/eurE4LAcDp0oWodDzn4x39h8R/C9vb2mga9HqNpOrwSPp7AbSQHU/hz9QK7Hw9490bw34dsdHsPDniFYLOFYl/4lzc4HJPuTzXp9YviS+120tYV8M6ZDf3Mr7WNxN5ccQx9445P0FAHOf8LZsP+he8Q/8Aguaj/hbNh/0L3iH/AMFzU7wr481HUdU1vRfEWmw2eraRF5zC3kLxSoQSCCeR0qp4V8W+O/E1tY6lHoejx6VdOCX+1P5ix7sE4xjOKALP/C2bD/oXvEP/AILmo/4WzYf9C94h/wDBc1X/ABN4uvrLxFZ+G/DVhFf6xcwm5fz3KxW8ION7kc8ngAVtaDLrctm//CR29pDcq5C/ZHZkZfXnkGgDlv8AhbNh/wBC94h/8FzUf8LZsP8AoXvEP/guau9ooA4L/hbNh/0L3iH/AMFzUf8AC2bD/oXvEP8A4LmrvaKAOC/4WzYf9C94h/8ABc1WNL+KOk6l4gsdHfTtVsrm/Z1tzd2hjVyqliMn2Brta4Hxz/yUz4d/9f8Ad/8ApK9AHfUUUUAFFFFABRRRQAUUUUAFFFFABRRRQBynxL1M6X8PdTkiYiaeP7PCB1LudoA/Otjw1pw0jwvptgF2/Z7ZEI9CBzXJeLHPiP4iaH4bg+eCyb+0b/uAF4jU/U/yr0CgAooooAK4v4tQzT/Di+FtBLO6vE/lwoXYgOCcAcniu0ooA8/t/i74ejtokaz1zcqAH/iUz+n+7Un/AAt/w7/z565/4KZ//ia7yigDg/8Ahb/h3/nz1z/wUz//ABNH/C3/AA7/AM+euf8Agpn/APia7yigDg/+Fv8Ah3/nz1z/AMFM/wD8TR/wt/w7/wA+euf+Cmf/AOJrvKKAOD/4W/4d/wCfPXP/AAUz/wDxNH/C3/Dv/Pnrn/gpn/8Aia7yigDg/wDhb/h3/nz1z/wUz/8AxNH/AAt/w7/z565/4KZ//ia7yigDz6b41eFoJYo5oNZR5m2xq2lzAsfQcc1L/wALf8O/8+euf+Cmf/4ml8d/8jv4J/7CD/8Aos13dAHB/wDC3/Dv/Pnrn/gpn/8AiaP+Fv8Ah3/nz1z/AMFM/wD8TXeUUAcH/wALf8O/8+euf+Cmf/4mj/hb/h3/AJ89c/8ABTP/APE13lFAHB/8Lf8ADv8Az565/wCCmf8A+Jo/4W/4d/589c/8FM//AMTXeUUAcH/wt/w7/wA+euf+Cmf/AOJo/wCFv+Hf+fPXP/BTP/8AE13lFAHB/wDC3/Dv/Pnrn/gpn/8AiazvC+sx+J/jBd6tp9nfxWaaUsJkurR4cvvzgbgM16bRQAUUUUAFFFFABRRRQAUUUUAFFFFABXLePPFEnh/R0t9MTz9a1Fvs+n246mQ/xn/ZXqT7Vc8U+LNP8Kad594WlnkOy3tYuZJ3PRVFYvhDwzfz6tJ4s8XBW1i4Tbb2/VbGI9EH+0e5oA2vBvhqPwn4XttMRzNMoMlxO33ppWOXc/Umt2iigAooooAKKKKACiiigAooooAKKKKACiiigAooooAKKKKACqGvf8i7qP8A17Sf+gmr9UNdBPh7UAOT9mk/9BNAGJ8MP+SW+Hf+vCP+VdVXmnw78eeF7D4c6Fa3mt2cM8NlGkkbyYKkDkGul/4WP4P/AOhhsf8Av6KAOmormf8AhY/g/wD6GGx/7+ij/hY/g/8A6GGx/wC/ooA6aiuZ/wCFj+D/APoYbH/v6KP+Fj+D/wDoYbH/AL+igDD+OM0S/CDXI2kUOUjwpbk/vV7VN8SDo1z8K7l9Tm+WOJDbvCQZFnGNmz/a3YqvrmofCvxLdrc69caRfTKmxXmfJC5zj9aS0v8A4VWNrDbWlxpMUEFwLqONZPlWUDAfGeuKVtLB1uZvwZlnuJ9Zn8Vlx4sVkS8WYAFIQo2bf9nufermj3UB/aC19hNHhtLtgDuHJyeK05fE/wAOptUl1GTU9MN5NAbeSbzMF4/7p9RWNBbfBq2ukuYF0RJ42DpIH5BByD1qr63Do0ekpf2kl/JYpcwtdxoJHgDguqnoSOoFZPi/xbYeDtEa+vsySu3l21un355D0VRXJ6Jr3g/TfFWs+Ir/AMT6dNe6kyRIVkwsMCDCJ9epJ9ava9r3w08UQxReIL7Sr9IW3RrM+dp9RS6D6jfAugfZLfVdb8SXNu2r61mS8WOQbbaPGBGD7DqfWuV8X6Nb/Dnw9Z6r4J8Raktwl3FHBp0l+Z4LoO/KCM5A4J5GK6DSrj4S6HJM+kvotq08ZilKN99D1U57VFpv/CodI1JL/T20eG5jOY5PMLeWfVQSQv4Yp9UyehlahpEeq/tAXkGranf6al1ocMkAtLo25m2uQy7xzwTnAIrf+Ft/fSX3iXS5dRuNU07Tb4RWV3cyeY5BXLKX/iweM1Lr2ufDPxOsI12/0u8MBJid5cMmeuGBBH51b0rxh8P9D09LHSNV0yztY/uxROAB7/X3pLRf13uN6/15WOzormf+Fj+D/wDoYbH/AL+ij/hY/g//AKGGx/7+igDpqK5n/hY/g/8A6GGx/wC/oo/4WP4P/wChhsf+/ooA6auB8c/8lM+Hf/X/AHf/AKSvWx/wsfwf/wBDDY/9/RXJeIPE2jeIPih4ATRdRgvWhvbppBC27YDbOATQB6nRRRQAUUUUAFFFFABRRRQAUUUUAFZXiTxBZ+GNBudU1B8Rwr8qjrIx+6oHck8VPrOtafoGlzahq1yltbQrlnc9fYep9q4jRtMv/H2vQeJfEdu9ro9o2/StMlGC57TyD19B2oA0/h5oV5aWV1ruurjWNak8+dD/AMsU/gi/AfrXZUUUAFFFFABRRRQAUUUUAFFFFABRRRQAUUUUAFFFFAHAeN54ZfGvgtopUcLqMgYqwOD5ZrvIpY5o98LrIh6MpyK+aPjR8NdUm+KulTaC062+uTBW8tziKUfePtlea+i9E0mDQ9DtNMtBiK2iWMc9cDrQBfooooAKKKKACiiigAooooAKKKKACiiigAooooAKKKKACis7WPEOj+H7Y3Gtala2MY7zyhc/QdT+Fci3xKudbPleAvD15rBJx9suVNtar77mGW/AUAd67pFGzyMqIoyzMcACuG1T4iNf3r6T4CtP7a1AHbJcqcW1ufVn6E+wqFfAWteJZFm+IGttcQ5z/ZVhmK3Hsx+8/wCNdtpul2Oj2SWml2kNrboMLHEgUCgDmvDXgUWGonXPEl2dX12Qc3Dj5IB/djX+Ee/WuwoooAKKKKACiiigAooooAKKKKACiiigAooooAKKKKACiiigAooooAKCAQQRkHqDRRQBmHwzoRPOj2H/AIDJ/hSf8IzoX/QGsP8AwGT/AArUooAy/wDhGdC/6A1h/wCAyf4Uf8IzoX/QGsP/AAGT/CtSigDL/wCEZ0L/AKA1h/4DJ/hR/wAIzoX/AEBrD/wGT/CtSigDL/4RnQv+gNYf+Ayf4Uf8IzoX/QGsP/AZP8K1KKAMv/hGdC/6A1h/4DJ/hR/wjOhf9Aaw/wDAZP8ACtSigDzH4vaPocHw61D7JYWMdxHPbZ8uJAygzJ6DIyK7aHQPDsuVj0vTXZMBwsCHaffivHP2mPBV1faXZ+JtH83zYXW2u442P7xGb922O+GOPxHpXpvwx8Jt4O8B2On3TNJfSL515Izbi0rdRn26fhQBtf8ACM6F/wBAaw/8Bk/wo/4RnQv+gNYf+Ayf4VqUUAZf/CM6F/0BrD/wGT/Cj/hGdC/6A1h/4DJ/hWpRQBl/8IzoX/QGsP8AwGT/AAo/4RnQv+gNYf8AgMn+FalFAGX/AMIzoX/QGsP/AAGT/Cj/AIRnQv8AoDWH/gMn+FalFAGX/wAIzoX/AEBrD/wGT/CpbbQ9Ks7hZ7TTbSCVfuyRwKrD8QKv0UAFFFFABRRRQAUUUUAFFV77UbLTLdp9Ru4LWFRkyTyBFH4muLn+Kun30rW3gzTr3xLcg43WkRW3U/7UzYX8s0Ad5XIa/wDEPT9Nu/7M0eJ9a1huFs7T5th9XboorNPhvxl4sw3irV10Wxbrp2ksdzD0eU8/liur0HwxpHhmz+z6NZR26/xMBlnPqWPJNAHM6V4Kv9b1OHXPiBMl3cxHdbabH/x72vvj+Jvc13gGBgcCiigAooooAKKKKACiiigAooooAKKKKACiiigAooooAK8+1HXNc8Z+ILrQvB11/ZunWL+VqOsbA7b+8UIPG4d27V1/iO+fTPC2q38IzJa2U0yD3VCR/KuY8CmDwv8AB3SbsQT3RezS7nECb5JZJAHZsdzlqAKM/wAJPBMc1uuu3GoX9/cMVjuL3VJTLI+MnbhgAfoKbeaJ4h+HUR1LwzqF7rejQ/NdaRfymaVE7tDIfmyB/Cc5rn/F/wAQba88WeFJ10bV4xa3ruVktGDP8hGFHc16R4d8XQeJJ5oYtM1C08tck3duY1bPYZ60Aamj6taa7o9tqemyiW2uoxJGw9D/AFq7Xgp+JkfwqsvEulxaTdX8drrMy2flr+6hVwH2luwBY8e9S/DL41anr8Op6jr2n313umVIINPtS8cKgdz6nNAHutFcL/ws+M/d8Ma+f+3M0n/Cyrhv9T4O15/+3cD+ZoA7uiuE/wCFhay3+q8A66/1VB/M0n/Cb+K5P9R8P9QH/Xa4jX+tAHeUVwR8T+P5f9T4Ihj95tQUfyo/tL4nTfc0LRrcf9NLwtj8hQB3tFcJ9l+KFx11Hw/Zg9lgkkI/lTT4T8c3X/H545EA7i0sVH6kmgDvaikuYIRmWaNB/tMBXDj4aXdx/wAhXxr4guh3WKZYQf8AvkVMnwi8Jsc31vd6ge5vLySTP4ZoA19Q8d+FtLJF9r9hEw6r56lvyFYj/FzQpnKaJZ6trUg7WNhIy/8AfRAH61vaf4I8L6UB/Z+gafBt6Fbdc/mRmtxEWNQqKFUdABgCgDgz4n8e6qP+JL4Mi0+M9J9YvQp/79pk/rSf8Ij421oH/hJfGps4W62uh2whx/21bLfyrvqKAOR0f4XeE9HuRdDTft97nJu9Ska5lJ9cvnB+mK61VVFCooUDoAMYpaKACiiigAooooAKKKKACiiigAooooAKKKKACiiigAooooAKKKKACiiigAooooAKKKKACiiigAooooAKKKKACiiigArivFXijVZdcTwt4MWJtXkTzLm7mG6KxjP8TDux7LXanivP/hmVlsfEHiCdWkurzUZzIQMttjJVVH4DpQBBd/Czw2LNr3x1q2oaxKSvm3N9fvHEGJAAVFIVRkjAp8/w+1LwtGb34d6zeQvH8x0rULhri2nHdRuyyE+oNc38U/iBban4AvLNNG1eBmmgPmTWjKoxMp6/hXd6L4+t9Y1KGxj0fVrdpOBJPaFEHHc0AaHhHxTB4r0X7XHE1tcwuYbq1k+9BKOqn/Gt2vH/ABF4sj+G/wAStcuo7C5vLe90+O6e3tU3YlBK7j6AjvXNeBvj1q/inxpdPf6dcDTbeA+VZWEJkfcT95z9M/nQB9C0Vwv/AAtCI/c8M6+3/bmaT/hZcrf6rwhr7/8Abtj+tAHd0Vwn/Cw9Wb/U+A9ef/gCj+ZpP+E68USHEHw+1Qe8s0a/1oA7yiuC/wCEq8eS/wCp8Cqg9Zr9B/Kj+1viZN/q/Dmkwf8AXW+Jx+QoA72iuEEXxRueTceHrIehSSUj+VIfDXxAus/avGdtbA9rSwH/ALMaAO8pjzRxjMkiqP8AabFcL/wrjVbk/wDEz8d65Mp6rAUh/UDNSJ8I/DbEHUJdT1Fu5u7+Rs/gCKAOgv8Axf4d0vP9oa3Y25HZ7hQfyzXPz/F7wsJDFpsl5q03aPT7OSbP4gY/WtWw+HnhDTCDZeHdPRh/E0AdvzbJroIYIbaMR28SRIOiooUD8BQBww8a+LtVGPD/AIEuo1bpPq1yluo99oyxpBoHxF1k/wDE58VWWjQHrBo9puf/AL+SZx+ArvqKAOIsPhL4YguheatFda9eA5M+r3DXHPsp+UflXZwQQ20KxW0SQxqMKkahQPwFSUUAFFFFABRRRQAUUUUAFFFFABRRRQAUUUUAFFFFABRRRQAUUUUAQ3dtHe2U9rOu6KeNo3B7qwwf51wvwz1Q6VbP4G1l/L1TRcxQb+PtNtn93IvrxwfTFegVgeJ/BumeKo4nvBJb3tuc217bPsmhPqrD+R4oAq+KdCvdV8TeGb20VTDp120s5JwQpQjj8a1PEfiGx8L6HPqepyhI4l+VP4pG7Ko7kmvPNZ/4T/w1rGjaRbeLbe9i1SdoI57vT1MsWFzklSAx/AV0elfDsf2rFq3i3V7jxDqEJ3QmdQkMB9UjHAPucmgBPh94ckj8I3E/iK1je81u5kv7uCVQwUyfdTB9FAFa/hrwXo3hG4vn0C3+yRXziSSBT8gYZ5A7da36KACiqcerWEusS6XHco19DGJZIB95UPQ1coAKKKKACiiigAooooAKKKKACiiigAooooAKKKKACiiigAooooAKKKKACiiigAooooAKKKKACiiigAooooAKKKKACiiigAooooAKKKKACiiigAooooAKKKKACiiigArzrw/djwX4+1Lw7qRENjq05vNLmbhSzffiz655x716LWX4g8O6Z4n0trDWLYTwk7lOcMjdmVhyD7igDK+I+hXviXwPdaZpiq1xJLCyhmwMLKrHn6A10V1dwafYyXN7MkMEKbnkc4CgV5b4qtfGPw68MT6joviw39lC8caW2p2qyugdwgxICCcbu/pW2vw7v9buI5vHXiOfWIUIZbCGIW9tn/aUct+JoAb4FifxJ4g1nxhdwFba+C2tisi/et0/ix/tGtzTvAWgaP4qk1/SLNbK8miMUwh+VJASDyvTORXQwwx28KRQIscaAKqqMAD0p9ABRVO51axs9Rs7C6uUjur0sLeJusm0ZbH0FXKACiiigAooooAKKKKACiiigAooooAKKKKACiiigAooooAKKKKACiiigAooooAKKKKACiiigAooooAKKKKACiiigAooooA4Tx3/AMjv4J/7CD/+izXd14f8RPip4fsPiBoVvqP2m2n0a+d7lGiJ+UoQCvrmvYdE1VNc0W21KGGSGK5QOiSjDbT0yO1AHFJr/i7WPidruh6TPp1ppmjm2d5poWeRxIm4oAGHXDfN244rnLr4r6tc/wBp6lpt/p8MFjdPBDpUlq7y3Ko2CfMBwpPOBg16RpHhhdL8X6/rguDIdZ+z5i248vykK9e+c1jWXgnWtCur2Pw1r8dpp15ctcm3mthI0TOcttORwTR2GYFvq8g+JPiDV4I/LlHhyG4RJB904LAGtC78datB4G8H6sgt/tOs6ja21zlDtCSZ3bRng8Vv/wDCFpJ4n1LVrm7aUahpy2Mke3HAzls++a5uL4Vak1to1je+JGm07RLyK5tIFtwpOxsgOc88cU9Lr5fmLz/rY9MooopAFFFFABRRRQAUUUUAFFFFABRRRQAUUUUAFFFFABRRRQAUUUUAFFFFABRRRQAUUUUAFFFFABRRRQAUUUUAFFFFABRRRQAUUUUAFFFFABRRRQAUUUUAFFFFABRRRQBwnxm/5Jfff9d7b/0eld0v3F+leQfHfx1pek+H5/DmorPDd3Jgnt38vKSqsqlsH1GDxXoPg7xdYeNNGOp6PHMLLeY45ZU2+ZjqQPSgDA8W+IfE8fxA0vw34YexhW9tZJpZ7qMv5W09QARn6Vjav8QdWXxRfaFBrGm6XJpUKCa4uLN5ftMzLnAUMNi/iTXcXXhgXPjux8R/aCptLV7fydv3txznNZt74M1G38VXmu+GNXSwm1BEW7hng81HKjAYcjBxSA5K38Qz+KfE3w01e7tTa3E5vhLEQQAyoVJGexIyPY1sR+OdWbwH4t1ci3+06ReXENt8h2lUxt3DPJ5rem8JXF7rXhzVNQ1Lz7nRvOLsIgonMi7enbFc/qXwuv7mHW9PsPELWmkaxM1xNbiAM6u3UBs9Dih7v+uwI7nQryXUfD9heXG3zbi3SR9owMlQTir9VNKsf7M0e0sQ/mC2hWLdjG7aMZq3VO19BK9tQooopDCiiigAooooAKKKKACiiigAooooAKKKKACiiigAooooAKKKKACiiigAooooAKKKKACiiigAooooAKKKKAPK/iR8H7fxt440LWl2okEgW+HeSMcj9eK9SijSGFIolCoihVA7AU6igAooooAKKKKACiiigAooooAKKKKACiiigAooooAKKKKACiiigAooooAKKKKACiiigAooooAKKKKACiiigAooooAKKKKACiiigAooooAKKKKACiiigAooooAKKKKACiiigAooooAKKKKAPO/jL8N/+Fi+FYILTamo2k6vBI390kBwfbHP1ArsvD2h2nhrw7ZaPp67bezhWNffHUn3J5rSooAKKKKACiiigAooooAKKKKACiiigAooooAKKKKACiiigAooooAKKKKACiiigAooooAKKKKACiiigAooooAKKKKACiiigAooooAKKKKACiiigAooooAKKKKACiiigAooooAKKKKACiiigAooooAKKKKACiiigAooooAKKKKACiiigAooooAKKKKACiiigAooooAKKKKACiiigAooooAKKKKACiiigAooooAKKKKACiiigAooooAKKKKACiiigAooooAKKKKACiiigAooooAKKKKACiiigAooooAKKKKACiiigAooooAKKKKACiiigAooooA//9k=)"
      ],
      "metadata": {
        "id": "JAiSQ3FyUpP0"
      }
    },
    {
      "cell_type": "markdown",
      "source": [
        "Why is that useful? 1×1 convolutions are much faster, so even if this seems to be a more complex design, this block executes faster than the first ResNet block we saw. This then lets us use more filters: as we see in the illustration, the number of filters in and out is 4 times higher (256 instead of 64) diminish then restore the number of channels (hence the name bottleneck). The overall impact is that we can use more filters in the same amount of time."
      ],
      "metadata": {
        "id": "BNL3lU1UUqxm"
      }
    },
    {
      "cell_type": "markdown",
      "source": [
        "Let's try replacing our ResBlock with this bottleneck design:"
      ],
      "metadata": {
        "id": "LYb-khYGU5ma"
      }
    },
    {
      "cell_type": "code",
      "source": [
        "def _conv_block(ni,nf,stride):\n",
        "    return nn.Sequential(\n",
        "        ConvLayer(ni, nf//4, 1),\n",
        "        ConvLayer(nf//4, nf//4, stride=stride), \n",
        "        ConvLayer(nf//4, nf, 1, act_cls=None, norm_type=NormType.BatchZero))"
      ],
      "metadata": {
        "id": "ynko-Z4qU6em"
      },
      "execution_count": null,
      "outputs": []
    },
    {
      "cell_type": "markdown",
      "source": [
        "We'll use this to create a ResNet-50 with group sizes of (3,4,6,3). We now need to pass 4 in to the expansion parameter of ResNet, since we need to start with four times less channels and we'll end with four times more channels.\n",
        "\n",
        "Deeper networks like this don't generally show improvements when training for only 5 epochs, so we'll bump it up to 20 epochs this time to make the most of our bigger model. And to really get great results, let's use bigger images too:"
      ],
      "metadata": {
        "id": "9lpUeAe7VAaW"
      }
    },
    {
      "cell_type": "code",
      "source": [
        "dls = get_data(URLs.IMAGENETTE_320, presize=320, resize=224)"
      ],
      "metadata": {
        "id": "OYSfxPhTVBIK"
      },
      "execution_count": null,
      "outputs": []
    },
    {
      "cell_type": "markdown",
      "source": [],
      "metadata": {
        "id": "U4Oa1lgVVDI9"
      }
    },
    {
      "cell_type": "markdown",
      "source": [
        "We don't have to do anything to account for the larger 224-pixel images; thanks to our fully convolutional network, it just works. This is also why we were able to do progressive resizing earlier in the book—the models we used were fully convolutional, so we were even able to fine-tune models trained with different sizes. We can now train our model and see the effects:"
      ],
      "metadata": {
        "id": "1t44ZTgVVGfO"
      }
    },
    {
      "cell_type": "code",
      "source": [
        "rn = ResNet(dls.c, [3,4,6,3], 4)"
      ],
      "metadata": {
        "id": "H9296Ln1VJX7"
      },
      "execution_count": null,
      "outputs": []
    },
    {
      "cell_type": "code",
      "source": [
        "learn = get_learner(rn)\n",
        "learn.fit_one_cycle(20, 3e-3)"
      ],
      "metadata": {
        "id": "0Le36UOrVLJ1"
      },
      "execution_count": null,
      "outputs": []
    },
    {
      "cell_type": "markdown",
      "source": [
        "We're getting a great result now! Try adding Mixup, and then training this for a hundred epochs while you go get lunch. You'll have yourself a very accurate image classifier, trained from scratch.\n",
        "\n",
        "The bottleneck design we've shown here is typically only used in ResNet-50, -101, and -152 models. ResNet-18 and -34 models usually use the non-bottleneck design seen in the previous section. However, we've noticed that the bottleneck layer generally works better even for the shallower networks. This just goes to show that the little details in papers tend to stick around for years, even if they're actually not quite the best design! Questioning assumptions and \"stuff everyone knows\" is always a good idea, because this is still a new field, and there are lots of details that aren't always done well."
      ],
      "metadata": {
        "id": "B1S-Dhh0VORW"
      }
    }
  ]
}