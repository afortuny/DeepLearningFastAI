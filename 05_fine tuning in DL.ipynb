{
  "cells": [
    {
      "cell_type": "markdown",
      "metadata": {
        "id": "view-in-github",
        "colab_type": "text"
      },
      "source": [
        "<a href=\"https://colab.research.google.com/github/afortuny/DeepLearningFastAI/blob/main/05_fine%20tuning%20in%20DL.ipynb\" target=\"_parent\"><img src=\"https://colab.research.google.com/assets/colab-badge.svg\" alt=\"Open In Colab\"/></a>"
      ]
    },
    {
      "cell_type": "code",
      "execution_count": 1,
      "metadata": {
        "id": "JSf-mFop1GBg",
        "outputId": "97b97e3a-a3cd-4573-d79c-664ec45428b1",
        "colab": {
          "base_uri": "https://localhost:8080/"
        }
      },
      "outputs": [
        {
          "output_type": "stream",
          "name": "stdout",
          "text": [
            "\u001b[?25l\r\u001b[K     |▌                               | 10 kB 33.3 MB/s eta 0:00:01\r\u001b[K     |█                               | 20 kB 37.4 MB/s eta 0:00:01\r\u001b[K     |█▍                              | 30 kB 39.4 MB/s eta 0:00:01\r\u001b[K     |█▉                              | 40 kB 43.5 MB/s eta 0:00:01\r\u001b[K     |██▎                             | 51 kB 35.3 MB/s eta 0:00:01\r\u001b[K     |██▊                             | 61 kB 39.3 MB/s eta 0:00:01\r\u001b[K     |███▏                            | 71 kB 27.3 MB/s eta 0:00:01\r\u001b[K     |███▋                            | 81 kB 28.2 MB/s eta 0:00:01\r\u001b[K     |████                            | 92 kB 30.4 MB/s eta 0:00:01\r\u001b[K     |████▌                           | 102 kB 28.9 MB/s eta 0:00:01\r\u001b[K     |█████                           | 112 kB 28.9 MB/s eta 0:00:01\r\u001b[K     |█████▌                          | 122 kB 28.9 MB/s eta 0:00:01\r\u001b[K     |██████                          | 133 kB 28.9 MB/s eta 0:00:01\r\u001b[K     |██████▍                         | 143 kB 28.9 MB/s eta 0:00:01\r\u001b[K     |██████▉                         | 153 kB 28.9 MB/s eta 0:00:01\r\u001b[K     |███████▎                        | 163 kB 28.9 MB/s eta 0:00:01\r\u001b[K     |███████▊                        | 174 kB 28.9 MB/s eta 0:00:01\r\u001b[K     |████████▏                       | 184 kB 28.9 MB/s eta 0:00:01\r\u001b[K     |████████▋                       | 194 kB 28.9 MB/s eta 0:00:01\r\u001b[K     |█████████                       | 204 kB 28.9 MB/s eta 0:00:01\r\u001b[K     |█████████▋                      | 215 kB 28.9 MB/s eta 0:00:01\r\u001b[K     |██████████                      | 225 kB 28.9 MB/s eta 0:00:01\r\u001b[K     |██████████▌                     | 235 kB 28.9 MB/s eta 0:00:01\r\u001b[K     |███████████                     | 245 kB 28.9 MB/s eta 0:00:01\r\u001b[K     |███████████▍                    | 256 kB 28.9 MB/s eta 0:00:01\r\u001b[K     |███████████▉                    | 266 kB 28.9 MB/s eta 0:00:01\r\u001b[K     |████████████▎                   | 276 kB 28.9 MB/s eta 0:00:01\r\u001b[K     |████████████▊                   | 286 kB 28.9 MB/s eta 0:00:01\r\u001b[K     |█████████████▏                  | 296 kB 28.9 MB/s eta 0:00:01\r\u001b[K     |█████████████▋                  | 307 kB 28.9 MB/s eta 0:00:01\r\u001b[K     |██████████████▏                 | 317 kB 28.9 MB/s eta 0:00:01\r\u001b[K     |██████████████▋                 | 327 kB 28.9 MB/s eta 0:00:01\r\u001b[K     |███████████████                 | 337 kB 28.9 MB/s eta 0:00:01\r\u001b[K     |███████████████▌                | 348 kB 28.9 MB/s eta 0:00:01\r\u001b[K     |████████████████                | 358 kB 28.9 MB/s eta 0:00:01\r\u001b[K     |████████████████▍               | 368 kB 28.9 MB/s eta 0:00:01\r\u001b[K     |████████████████▉               | 378 kB 28.9 MB/s eta 0:00:01\r\u001b[K     |█████████████████▎              | 389 kB 28.9 MB/s eta 0:00:01\r\u001b[K     |█████████████████▊              | 399 kB 28.9 MB/s eta 0:00:01\r\u001b[K     |██████████████████▏             | 409 kB 28.9 MB/s eta 0:00:01\r\u001b[K     |██████████████████▋             | 419 kB 28.9 MB/s eta 0:00:01\r\u001b[K     |███████████████████▏            | 430 kB 28.9 MB/s eta 0:00:01\r\u001b[K     |███████████████████▋            | 440 kB 28.9 MB/s eta 0:00:01\r\u001b[K     |████████████████████            | 450 kB 28.9 MB/s eta 0:00:01\r\u001b[K     |████████████████████▌           | 460 kB 28.9 MB/s eta 0:00:01\r\u001b[K     |█████████████████████           | 471 kB 28.9 MB/s eta 0:00:01\r\u001b[K     |█████████████████████▍          | 481 kB 28.9 MB/s eta 0:00:01\r\u001b[K     |█████████████████████▉          | 491 kB 28.9 MB/s eta 0:00:01\r\u001b[K     |██████████████████████▎         | 501 kB 28.9 MB/s eta 0:00:01\r\u001b[K     |██████████████████████▊         | 512 kB 28.9 MB/s eta 0:00:01\r\u001b[K     |███████████████████████▏        | 522 kB 28.9 MB/s eta 0:00:01\r\u001b[K     |███████████████████████▊        | 532 kB 28.9 MB/s eta 0:00:01\r\u001b[K     |████████████████████████▏       | 542 kB 28.9 MB/s eta 0:00:01\r\u001b[K     |████████████████████████▋       | 552 kB 28.9 MB/s eta 0:00:01\r\u001b[K     |█████████████████████████       | 563 kB 28.9 MB/s eta 0:00:01\r\u001b[K     |█████████████████████████▌      | 573 kB 28.9 MB/s eta 0:00:01\r\u001b[K     |██████████████████████████      | 583 kB 28.9 MB/s eta 0:00:01\r\u001b[K     |██████████████████████████▍     | 593 kB 28.9 MB/s eta 0:00:01\r\u001b[K     |██████████████████████████▉     | 604 kB 28.9 MB/s eta 0:00:01\r\u001b[K     |███████████████████████████▎    | 614 kB 28.9 MB/s eta 0:00:01\r\u001b[K     |███████████████████████████▊    | 624 kB 28.9 MB/s eta 0:00:01\r\u001b[K     |████████████████████████████▎   | 634 kB 28.9 MB/s eta 0:00:01\r\u001b[K     |████████████████████████████▊   | 645 kB 28.9 MB/s eta 0:00:01\r\u001b[K     |█████████████████████████████▏  | 655 kB 28.9 MB/s eta 0:00:01\r\u001b[K     |█████████████████████████████▋  | 665 kB 28.9 MB/s eta 0:00:01\r\u001b[K     |██████████████████████████████  | 675 kB 28.9 MB/s eta 0:00:01\r\u001b[K     |██████████████████████████████▌ | 686 kB 28.9 MB/s eta 0:00:01\r\u001b[K     |███████████████████████████████ | 696 kB 28.9 MB/s eta 0:00:01\r\u001b[K     |███████████████████████████████▍| 706 kB 28.9 MB/s eta 0:00:01\r\u001b[K     |███████████████████████████████▉| 716 kB 28.9 MB/s eta 0:00:01\r\u001b[K     |████████████████████████████████| 719 kB 28.9 MB/s \n",
            "\u001b[K     |████████████████████████████████| 197 kB 72.8 MB/s \n",
            "\u001b[K     |████████████████████████████████| 1.2 MB 54.5 MB/s \n",
            "\u001b[K     |████████████████████████████████| 60 kB 7.6 MB/s \n",
            "\u001b[?25hMounted at /content/gdrive\n"
          ]
        }
      ],
      "source": [
        "#hide\n",
        "! [ -e /content ] && pip install -Uqq fastbook\n",
        "import fastbook\n",
        "fastbook.setup_book()"
      ]
    },
    {
      "cell_type": "code",
      "execution_count": 2,
      "metadata": {
        "id": "TLZwTNLi1GBk"
      },
      "outputs": [],
      "source": [
        "#hide\n",
        "from fastbook import *"
      ]
    },
    {
      "cell_type": "raw",
      "metadata": {
        "id": "kCyUHJFI1GBl"
      },
      "source": [
        "[[chapter_pet_breeds]]"
      ]
    },
    {
      "cell_type": "markdown",
      "metadata": {
        "id": "m_nNVRKV1GBl"
      },
      "source": [
        "# Image Classification"
      ]
    },
    {
      "cell_type": "markdown",
      "metadata": {
        "id": "yWFJvNvk1GBn"
      },
      "source": [
        "Now that you understand what deep learning is, what it's for, and how to create and deploy a model, it's time for us to go deeper! In an ideal world deep learning practitioners wouldn't have to know every detail of how things work under the hood… But as yet, we don't live in an ideal world. The truth is, to make your model really work, and work reliably, there are a lot of details you have to get right, and a lot of details that you have to check. This process requires being able to look inside your neural network as it trains, and as it makes predictions, find possible problems, and know how to fix them.\n",
        "\n",
        "So, from here on in the book we are going to do a deep dive into the mechanics of deep learning. What is the architecture of a computer vision model, an NLP model, a tabular model, and so on? How do you create an architecture that matches the needs of your particular domain? How do you get the best possible results from the training process? How do you make things faster? What do you have to change as your datasets change?\n",
        "\n",
        "We will start by repeating the same basic applications that we looked at in the first chapter, but we are going to do two things:\n",
        "\n",
        "- Make them better.\n",
        "- Apply them to a wider variety of types of data.\n",
        "\n",
        "In order to do these two things, we will have to learn all of the pieces of the deep learning puzzle. This includes different types of layers, regularization methods, optimizers, how to put layers together into architectures, labeling techniques, and much more. We are not just going to dump all of these things on you, though; we will introduce them progressively as needed, to solve actual problems related to the projects we are working on."
      ]
    },
    {
      "cell_type": "markdown",
      "metadata": {
        "id": "zNXTXzDD1GBn"
      },
      "source": [
        "## From Dogs and Cats to Pet Breeds"
      ]
    },
    {
      "cell_type": "markdown",
      "metadata": {
        "id": "7Q1z4A9k1GBo"
      },
      "source": [
        "In our very first model we learned how to classify dogs versus cats. Just a few years ago this was considered a very challenging task—but today, it's far too easy! We will not be able to show you the nuances of training models with this problem, because we get a nearly perfect result without worrying about any of the details. But it turns out that the same dataset also allows us to work on a much more challenging problem: figuring out what breed of pet is shown in each image.\n",
        "\n",
        "In <<chapter_intro>> we presented the applications as already-solved problems. But this is not how things work in real life. We start with some dataset that we know nothing about. We then have to figure out how it is put together, how to extract the data we need from it, and what that data looks like. For the rest of this book we will be showing you how to solve these problems in practice, including all of the intermediate steps necessary to understand the data that you are working with and test your modeling as you go.\n",
        "\n",
        "We already downloaded the Pet dataset, and we can get a path to this dataset using the same code as in <<chapter_intro>>:"
      ]
    },
    {
      "cell_type": "code",
      "execution_count": 3,
      "metadata": {
        "id": "-HpBsuGd1GBp",
        "outputId": "8b153552-cd3b-49e8-8977-5cda4a375be4",
        "colab": {
          "base_uri": "https://localhost:8080/",
          "height": 37
        }
      },
      "outputs": [
        {
          "output_type": "display_data",
          "data": {
            "text/plain": [
              "<IPython.core.display.HTML object>"
            ],
            "text/html": [
              "\n",
              "<style>\n",
              "    /* Turns off some styling */\n",
              "    progress {\n",
              "        /* gets rid of default border in Firefox and Opera. */\n",
              "        border: none;\n",
              "        /* Needs to be in here for Safari polyfill so background images work as expected. */\n",
              "        background-size: auto;\n",
              "    }\n",
              "    .progress-bar-interrupted, .progress-bar-interrupted::-webkit-progress-bar {\n",
              "        background: #F44336;\n",
              "    }\n",
              "</style>\n"
            ]
          },
          "metadata": {}
        },
        {
          "output_type": "display_data",
          "data": {
            "text/plain": [
              "<IPython.core.display.HTML object>"
            ],
            "text/html": [
              "\n",
              "    <div>\n",
              "      <progress value='811712512' class='' max='811706944' style='width:300px; height:20px; vertical-align: middle;'></progress>\n",
              "      100.00% [811712512/811706944 01:00<00:00]\n",
              "    </div>\n",
              "    "
            ]
          },
          "metadata": {}
        }
      ],
      "source": [
        "from fastai.vision.all import *\n",
        "path = untar_data(URLs.PETS)"
      ]
    },
    {
      "cell_type": "markdown",
      "metadata": {
        "id": "-RyYvBxv1GBp"
      },
      "source": [
        "Now if we are going to understand how to extract the breed of each pet from each image we're going to need to understand how this data is laid out. Such details of data layout are a vital piece of the deep learning puzzle. Data is usually provided in one of these two ways:\n",
        "\n",
        "- Individual files representing items of data, such as text documents or images, possibly organized into folders or with filenames representing information about those items\n",
        "- A table of data, such as in CSV format, where each row is an item which may include filenames providing a connection between the data in the table and data in other formats, such as text documents and images\n",
        "\n",
        "There are exceptions to these rules—particularly in domains such as genomics, where there can be binary database formats or even network streams—but overall the vast majority of the datasets you'll work with will use some combination of these two formats.\n",
        "\n",
        "To see what is in our dataset we can use the `ls` method:"
      ]
    },
    {
      "cell_type": "code",
      "execution_count": 4,
      "metadata": {
        "id": "Iv9XXkqF1GBq"
      },
      "outputs": [],
      "source": [
        "#hide\n",
        "Path.BASE_PATH = path"
      ]
    },
    {
      "cell_type": "code",
      "execution_count": 5,
      "metadata": {
        "id": "_Qpw190V1GBr",
        "outputId": "48111334-2e72-49e3-e4e8-0422869ba993",
        "colab": {
          "base_uri": "https://localhost:8080/"
        }
      },
      "outputs": [
        {
          "output_type": "execute_result",
          "data": {
            "text/plain": [
              "(#2) [Path('images'),Path('annotations')]"
            ]
          },
          "metadata": {},
          "execution_count": 5
        }
      ],
      "source": [
        "path.ls()"
      ]
    },
    {
      "cell_type": "markdown",
      "metadata": {
        "id": "uJaoXRew1GBs"
      },
      "source": [
        "We can see that this dataset provides us with *images* and *annotations* directories. The [website](https://www.robots.ox.ac.uk/~vgg/data/pets/) for the dataset tells us that the *annotations* directory contains information about where the pets are rather than what they are. In this chapter, we will be doing classification, not localization, which is to say that we care about what the pets are, not where they are. Therefore, we will ignore the *annotations* directory for now. So, let's have a look inside the *images* directory:"
      ]
    },
    {
      "cell_type": "code",
      "execution_count": 6,
      "metadata": {
        "id": "BFZ6pC4G1GBs",
        "outputId": "38158d27-06b1-47e1-9fbf-0303e91fecb3",
        "colab": {
          "base_uri": "https://localhost:8080/"
        }
      },
      "outputs": [
        {
          "output_type": "execute_result",
          "data": {
            "text/plain": [
              "(#7393) [Path('images/saint_bernard_64.jpg'),Path('images/Ragdoll_149.jpg'),Path('images/english_setter_115.jpg'),Path('images/beagle_194.jpg'),Path('images/keeshond_113.jpg'),Path('images/Sphynx_139.jpg'),Path('images/Bombay_123.jpg'),Path('images/shiba_inu_189.jpg'),Path('images/english_setter_67.jpg'),Path('images/Birman_48.jpg')...]"
            ]
          },
          "metadata": {},
          "execution_count": 6
        }
      ],
      "source": [
        "(path/\"images\").ls()"
      ]
    },
    {
      "cell_type": "markdown",
      "metadata": {
        "id": "AkqD9RHZ1GBt"
      },
      "source": [
        "Most functions and methods in fastai that return a collection use a class called `L`. `L` can be thought of as an enhanced version of the ordinary Python `list` type, with added conveniences for common operations. For instance, when we display an object of this class in a notebook it appears in the format shown there. The first thing that is shown is the number of items in the collection, prefixed with a `#`. You'll also see in the preceding output that the list is suffixed with an ellipsis. This means that only the first few items are displayed—which is a good thing, because we would not want more than 7,000 filenames on our screen!\n",
        "\n",
        "By examining these filenames, we can see how they appear to be structured. Each filename contains the pet breed, and then an underscore (`_`), a number, and finally the file extension. We need to create a piece of code that extracts the breed from a single `Path`. Jupyter notebooks make this easy, because we can gradually build up something that works, and then use it for the entire dataset. We do have to be careful to not make too many assumptions at this point. For instance, if you look carefully you may notice that some of the pet breeds contain multiple words, so we cannot simply break at the first `_` character that we find. To allow us to test our code, let's pick out one of these filenames:"
      ]
    },
    {
      "cell_type": "code",
      "execution_count": 7,
      "metadata": {
        "id": "YiS9eKrE1GBt"
      },
      "outputs": [],
      "source": [
        "fname = (path/\"images\").ls()[0]"
      ]
    },
    {
      "cell_type": "markdown",
      "metadata": {
        "id": "4BeABv2m1GBt"
      },
      "source": [
        "The most powerful and flexible way to extract information from strings like this is to use a *regular expression*, also known as a *regex*. A regular expression is a special string, written in the regular expression language, which specifies a general rule for deciding if another string passes a test (i.e., \"matches\" the regular expression), and also possibly for plucking a particular part or parts out of that other string. \n",
        "\n",
        "In this case, we need a regular expression that extracts the pet breed from the filename.\n",
        "\n",
        "We do not have the space to give you a complete regular expression tutorial here, but there are many excellent ones online and we know that many of you will already be familiar with this wonderful tool. If you're not, that is totally fine—this is a great opportunity for you to rectify that! We find that regular expressions are one of the most useful tools in our programming toolkit, and many of our students tell us that this is one of the things they are most excited to learn about. So head over to Google and search for \"regular expressions tutorial\" now, and then come back here after you've had a good look around. The [book's website](https://book.fast.ai/) also provides a list of our favorites.\n",
        "\n",
        "> a: Not only are regular expressions dead handy, but they also have interesting roots. They are \"regular\" because they were originally examples of a \"regular\" language, the lowest rung within the Chomsky hierarchy, a grammar classification developed by linguist Noam Chomsky, who also wrote _Syntactic Structures_, the pioneering work searching for the formal grammar underlying human language. This is one of the charms of computing: it may be that the hammer you reach for every day in fact came from a spaceship.\n",
        "\n",
        "When you are writing a regular expression, the best way to start is just to try it against one example at first. Let's use the `findall` method to try a regular expression against the filename of the `fname` object:"
      ]
    },
    {
      "cell_type": "code",
      "execution_count": 8,
      "metadata": {
        "id": "0C4Fd_1T1GBu",
        "outputId": "d2c699ce-9a59-4ac8-e6a8-accc788cc9b1",
        "colab": {
          "base_uri": "https://localhost:8080/"
        }
      },
      "outputs": [
        {
          "output_type": "execute_result",
          "data": {
            "text/plain": [
              "['saint_bernard']"
            ]
          },
          "metadata": {},
          "execution_count": 8
        }
      ],
      "source": [
        "re.findall(r'(.+)_\\d+.jpg$', fname.name)"
      ]
    },
    {
      "cell_type": "markdown",
      "metadata": {
        "id": "UxgTRnmX1GBu"
      },
      "source": [
        "This regular expression plucks out all the characters leading up to the last underscore character, as long as the subsequence characters are numerical digits and then the JPEG file extension.\n",
        "\n",
        "Now that we confirmed the regular expression works for the example, let's use it to label the whole dataset. fastai comes with many classes to help with labeling. For labeling with regular expressions, we can use the `RegexLabeller` class. In this example we use the data block API we saw in <<chapter_production>> (in fact, we nearly always use the data block API—it's so much more flexible than the simple factory methods we saw in <<chapter_intro>>):"
      ]
    },
    {
      "cell_type": "code",
      "execution_count": 9,
      "metadata": {
        "id": "fbsnoash1GBu"
      },
      "outputs": [],
      "source": [
        "pets = DataBlock(blocks = (ImageBlock, CategoryBlock),\n",
        "                 get_items=get_image_files, \n",
        "                 splitter=RandomSplitter(seed=42),\n",
        "                 get_y=using_attr(RegexLabeller(r'(.+)_\\d+.jpg$'), 'name'),\n",
        "                 item_tfms=Resize(460),\n",
        "                 batch_tfms=aug_transforms(size=224, min_scale=0.75))\n",
        "dls = pets.dataloaders(path/\"images\")"
      ]
    },
    {
      "cell_type": "markdown",
      "metadata": {
        "id": "W8fNmtRv1GBu"
      },
      "source": [
        "One important piece of this `DataBlock` call that we haven't seen before is in these two lines:\n",
        "\n",
        "```python\n",
        "item_tfms=Resize(460),\n",
        "batch_tfms=aug_transforms(size=224, min_scale=0.75)\n",
        "```\n",
        "\n",
        "These lines implement a fastai data augmentation strategy which we call *presizing*. Presizing is a particular way to do image augmentation that is designed to minimize data destruction while maintaining good performance."
      ]
    },
    {
      "cell_type": "markdown",
      "metadata": {
        "id": "uK6NZjiM1GBv"
      },
      "source": [
        "## Presizing"
      ]
    },
    {
      "cell_type": "markdown",
      "metadata": {
        "id": "bc4Ao3ub1GBv"
      },
      "source": [
        "We need our images to have the same dimensions, so that they can collate into tensors to be passed to the GPU. We also want to minimize the number of distinct augmentation computations we perform. The performance requirement suggests that we should, where possible, compose our augmentation transforms into fewer transforms (to reduce the number of computations and the number of lossy operations) and transform the images into uniform sizes (for more efficient processing on the GPU).\n",
        "\n",
        "The challenge is that, if performed after resizing down to the augmented size, various common data augmentation transforms might introduce spurious empty zones, degrade data, or both. For instance, rotating an image by 45 degrees fills corner regions of the new bounds with emptiness, which will not teach the model anything. Many rotation and zooming operations will require interpolating to create pixels. These interpolated pixels are derived from the original image data but are still of lower quality.\n",
        "\n",
        "To work around these challenges, presizing adopts two strategies that are shown in <<presizing>>:\n",
        "\n",
        "1. Resize images to relatively \"large\" dimensions—that is, dimensions significantly larger than the target training dimensions. \n",
        "1. Compose all of the common augmentation operations (including a resize to the final target size) into one, and perform the combined operation on the GPU only once at the end of processing, rather than performing the operations individually and interpolating multiple times.\n",
        "\n",
        "The first step, the resize, creates images large enough that they have spare margin to allow further augmentation transforms on their inner regions without creating empty zones. This transformation works by resizing to a square, using a large crop size. On the training set, the crop area is chosen randomly, and the size of the crop is selected to cover the entire width or height of the image, whichever is smaller.\n",
        "\n",
        "In the second step, the GPU is used for all data augmentation, and all of the potentially destructive operations are done together, with a single interpolation at the end."
      ]
    },
    {
      "cell_type": "markdown",
      "metadata": {
        "id": "DgxptTMi1GBv"
      },
      "source": [
        "<img alt=\"Presizing on the training set\" width=\"600\" caption=\"Presizing on the training set\" id=\"presizing\" src=\"https://github.com/fastai/fastbook/blob/master/images/att_00060.png?raw=1\">"
      ]
    },
    {
      "cell_type": "markdown",
      "metadata": {
        "id": "xx1cEAQD1GBv"
      },
      "source": [
        "This picture shows the two steps:\n",
        "\n",
        "1. *Crop full width or height*: This is in `item_tfms`, so it's applied to each individual image before it is copied to the GPU. It's used to ensure all images are the same size. On the training set, the crop area is chosen randomly. On the validation set, the center square of the image is always chosen.\n",
        "2. *Random crop and augment*: This is in `batch_tfms`, so it's applied to a batch all at once on the GPU, which means it's fast. On the validation set, only the resize to the final size needed for the model is done here. On the training set, the random crop and any other augmentations are done first.\n",
        "\n",
        "To implement this process in fastai you use `Resize` as an item transform with a large size, and `RandomResizedCrop` as a batch transform with a smaller size. `RandomResizedCrop` will be added for you if you include the `min_scale` parameter in your `aug_transforms` function, as was done in the `DataBlock` call in the previous section. Alternatively, you can use `pad` or `squish` instead of `crop` (the default) for the initial `Resize`.\n",
        "\n",
        "<<interpolations>> shows the difference between an image that has been zoomed, interpolated, rotated, and then interpolated again (which is the approach used by all other deep learning libraries), shown here on the right, and an image that has been zoomed and rotated as one operation and then interpolated just once on the left (the fastai approach), shown here on the left."
      ]
    },
    {
      "cell_type": "code",
      "source": [
        "Path.cwd()"
      ],
      "metadata": {
        "id": "ILRXB_PkGXrh",
        "outputId": "1e0f24c7-e4a7-4fc7-ad90-edca45fdcf05",
        "colab": {
          "base_uri": "https://localhost:8080/"
        }
      },
      "execution_count": 11,
      "outputs": [
        {
          "output_type": "execute_result",
          "data": {
            "text/plain": [
              "Path('/content')"
            ]
          },
          "metadata": {},
          "execution_count": 11
        }
      ]
    },
    {
      "cell_type": "code",
      "execution_count": 12,
      "metadata": {
        "hide_input": false,
        "id": "LbbzeHKH1GBw",
        "outputId": "a022c4d7-8075-4f37-d1c4-c5ea6e733a59",
        "colab": {
          "base_uri": "https://localhost:8080/",
          "height": 183
        }
      },
      "outputs": [
        {
          "output_type": "display_data",
          "data": {
            "text/plain": [
              "<Figure size 432x216 with 2 Axes>"
            ],
            "image/png": "[encoded data removed]"
          },
          "metadata": {
            "needs_background": "light"
          }
        }
      ],
      "source": [
        "#hide_input\n",
        "#id interpolations\n",
        "#caption A comparison of fastai's data augmentation strategy (left) and the traditional approach (right).\n",
        "dblock1 = DataBlock(blocks=(ImageBlock(), CategoryBlock()),\n",
        "                   get_y=parent_label,\n",
        "                   item_tfms=Resize(460))\n",
        "# Place an image in the 'images/grizzly.jpg' subfolder where this notebook is located before running this\n",
        "dls1 = dblock1.dataloaders([(Path.cwd()/'images'/'grizzly.jpg')]*100, bs=8)\n",
        "dls1.train.get_idxs = lambda: Inf.ones\n",
        "x,y = dls1.valid.one_batch()\n",
        "_,axs = subplots(1, 2)\n",
        "\n",
        "x1 = TensorImage(x.clone())\n",
        "x1 = x1.affine_coord(sz=224)\n",
        "x1 = x1.rotate(draw=30, p=1.)\n",
        "x1 = x1.zoom(draw=1.2, p=1.)\n",
        "x1 = x1.warp(draw_x=-0.2, draw_y=0.2, p=1.)\n",
        "\n",
        "tfms = setup_aug_tfms([Rotate(draw=30, p=1, size=224), Zoom(draw=1.2, p=1., size=224),\n",
        "                       Warp(draw_x=-0.2, draw_y=0.2, p=1., size=224)])\n",
        "x = Pipeline(tfms)(x)\n",
        "#x.affine_coord(coord_tfm=coord_tfm, sz=size, mode=mode, pad_mode=pad_mode)\n",
        "TensorImage(x[0]).show(ctx=axs[0])\n",
        "TensorImage(x1[0]).show(ctx=axs[1]);"
      ]
    },
    {
      "cell_type": "markdown",
      "metadata": {
        "id": "jEZQYbqy1GBw"
      },
      "source": [
        "You can see that the image on the right is less well defined and has reflection padding artifacts in the bottom-left corner; also, the grass at the top left has disappeared entirely. We find that in practice using presizing significantly improves the accuracy of models, and often results in speedups too.\n",
        "\n",
        "The fastai library also provides simple ways to check your data looks right before training a model, which is an extremely important step. We'll look at those next."
      ]
    },
    {
      "cell_type": "markdown",
      "metadata": {
        "id": "BHueTG7i1GBw"
      },
      "source": [
        "### Checking and Debugging a DataBlock"
      ]
    },
    {
      "cell_type": "markdown",
      "metadata": {
        "id": "E-PHrVvf1GBw"
      },
      "source": [
        "We can never just assume that our code is working perfectly. Writing a `DataBlock` is just like writing a blueprint. You will get an error message if you have a syntax error somewhere in your code, but you have no guarantee that your template is going to work on your data source as you intend. So, before training a model you should always check your data. You can do this using the `show_batch` method:"
      ]
    },
    {
      "cell_type": "code",
      "execution_count": 13,
      "metadata": {
        "id": "eT0YbU071GBw",
        "outputId": "e6971e19-218f-40d0-bd76-5fb479618dd9",
        "colab": {
          "base_uri": "https://localhost:8080/",
          "height": 195
        }
      },
      "outputs": [
        {
          "output_type": "display_data",
          "data": {
            "text/plain": [
              "<Figure size 648x216 with 3 Axes>"
            ],
            "image/png": "[encoded data removed]"
          },
          "metadata": {
            "needs_background": "light"
          }
        }
      ],
      "source": [
        "dls.show_batch(nrows=1, ncols=3)"
      ]
    },
    {
      "cell_type": "markdown",
      "metadata": {
        "id": "zyJyVg871GBx"
      },
      "source": [
        "Take a look at each image, and check that each one seems to have the correct label for that breed of pet. Often, data scientists work with data with which they are not as familiar as domain experts may be: for instance, I actually don't know what a lot of these pet breeds are. Since I am not an expert on pet breeds, I would use Google images at this point to search for a few of these breeds, and make sure the images look similar to what I see in this output.\n",
        "\n",
        "If you made a mistake while building your `DataBlock`, it is very likely you won't see it before this step. To debug this, we encourage you to use the `summary` method. It will attempt to create a batch from the source you give it, with a lot of details. Also, if it fails, you will see exactly at which point the error happens, and the library will try to give you some help. For instance, one common mistake is to forget to use a `Resize` transform, so you end up with pictures of different sizes and are not able to batch them. Here is what the summary would look like in that case (note that the exact text may have changed since the time of writing, but it will give you an idea):"
      ]
    },
    {
      "cell_type": "code",
      "execution_count": 14,
      "metadata": {
        "id": "bjJYMzHE1GBx",
        "outputId": "b90def2a-dcdd-4082-d68b-c5bde7f9d5d1",
        "colab": {
          "base_uri": "https://localhost:8080/",
          "height": 1000
        }
      },
      "outputs": [
        {
          "output_type": "stream",
          "name": "stdout",
          "text": [
            "Setting-up type transforms pipelines\n",
            "Collecting items from /root/.fastai/data/oxford-iiit-pet/images\n",
            "Found 7390 items\n",
            "2 datasets of sizes 5912,1478\n",
            "Setting up Pipeline: PILBase.create\n",
            "Setting up Pipeline: partial -> Categorize -- {'vocab': None, 'sort': True, 'add_na': False}\n",
            "\n",
            "Building one sample\n",
            "  Pipeline: PILBase.create\n",
            "    starting from\n",
            "      /root/.fastai/data/oxford-iiit-pet/images/saint_bernard_183.jpg\n",
            "    applying PILBase.create gives\n",
            "      PILImage mode=RGB size=500x333\n",
            "  Pipeline: partial -> Categorize -- {'vocab': None, 'sort': True, 'add_na': False}\n",
            "    starting from\n",
            "      /root/.fastai/data/oxford-iiit-pet/images/saint_bernard_183.jpg\n",
            "    applying partial gives\n",
            "      saint_bernard\n",
            "    applying Categorize -- {'vocab': None, 'sort': True, 'add_na': False} gives\n",
            "      TensorCategory(30)\n",
            "\n",
            "Final sample: (PILImage mode=RGB size=500x333, TensorCategory(30))\n",
            "\n",
            "\n",
            "Collecting items from /root/.fastai/data/oxford-iiit-pet/images\n",
            "Found 7390 items\n",
            "2 datasets of sizes 5912,1478\n",
            "Setting up Pipeline: PILBase.create\n",
            "Setting up Pipeline: partial -> Categorize -- {'vocab': None, 'sort': True, 'add_na': False}\n",
            "Setting up after_item: Pipeline: ToTensor\n",
            "Setting up before_batch: Pipeline: \n",
            "Setting up after_batch: Pipeline: IntToFloatTensor -- {'div': 255.0, 'div_mask': 1}\n",
            "\n",
            "Building one batch\n",
            "Applying item_tfms to the first sample:\n",
            "  Pipeline: ToTensor\n",
            "    starting from\n",
            "      (PILImage mode=RGB size=500x333, TensorCategory(30))\n",
            "    applying ToTensor gives\n",
            "      (TensorImage of size 3x333x500, TensorCategory(30))\n",
            "\n",
            "Adding the next 3 samples\n",
            "\n",
            "No before_batch transform to apply\n",
            "\n",
            "Collating items in a batch\n",
            "Error! It's not possible to collate your items in a batch\n",
            "Could not collate the 0-th members of your tuples because got the following shapes\n",
            "torch.Size([3, 333, 500]),torch.Size([3, 500, 375]),torch.Size([3, 375, 500]),torch.Size([3, 225, 300])\n"
          ]
        },
        {
          "output_type": "error",
          "ename": "RuntimeError",
          "evalue": "ignored",
          "traceback": [
            "\u001b[0;31m---------------------------------------------------------------------------\u001b[0m",
            "\u001b[0;31mRuntimeError\u001b[0m                              Traceback (most recent call last)",
            "\u001b[0;32m<ipython-input-14-8c0a3d421ca2>\u001b[0m in \u001b[0;36m<module>\u001b[0;34m()\u001b[0m\n\u001b[1;32m      4\u001b[0m                  \u001b[0msplitter\u001b[0m\u001b[0;34m=\u001b[0m\u001b[0mRandomSplitter\u001b[0m\u001b[0;34m(\u001b[0m\u001b[0mseed\u001b[0m\u001b[0;34m=\u001b[0m\u001b[0;36m42\u001b[0m\u001b[0;34m)\u001b[0m\u001b[0;34m,\u001b[0m\u001b[0;34m\u001b[0m\u001b[0;34m\u001b[0m\u001b[0m\n\u001b[1;32m      5\u001b[0m                  get_y=using_attr(RegexLabeller(r'(.+)_\\d+.jpg$'), 'name'))\n\u001b[0;32m----> 6\u001b[0;31m \u001b[0mpets1\u001b[0m\u001b[0;34m.\u001b[0m\u001b[0msummary\u001b[0m\u001b[0;34m(\u001b[0m\u001b[0mpath\u001b[0m\u001b[0;34m/\u001b[0m\u001b[0;34m\"images\"\u001b[0m\u001b[0;34m)\u001b[0m\u001b[0;34m\u001b[0m\u001b[0;34m\u001b[0m\u001b[0m\n\u001b[0m",
            "\u001b[0;32m/usr/local/lib/python3.7/dist-packages/fastai/data/block.py\u001b[0m in \u001b[0;36msummary\u001b[0;34m(self, source, bs, show_batch, **kwargs)\u001b[0m\n\u001b[1;32m    188\u001b[0m         \u001b[0mwhy\u001b[0m \u001b[0;34m=\u001b[0m \u001b[0m_find_fail_collate\u001b[0m\u001b[0;34m(\u001b[0m\u001b[0ms\u001b[0m\u001b[0;34m)\u001b[0m\u001b[0;34m\u001b[0m\u001b[0;34m\u001b[0m\u001b[0m\n\u001b[1;32m    189\u001b[0m         \u001b[0mprint\u001b[0m\u001b[0;34m(\u001b[0m\u001b[0;34m\"Make sure all parts of your samples are tensors of the same size\"\u001b[0m \u001b[0;32mif\u001b[0m \u001b[0mwhy\u001b[0m \u001b[0;32mis\u001b[0m \u001b[0;32mNone\u001b[0m \u001b[0;32melse\u001b[0m \u001b[0mwhy\u001b[0m\u001b[0;34m)\u001b[0m\u001b[0;34m\u001b[0m\u001b[0;34m\u001b[0m\u001b[0m\n\u001b[0;32m--> 190\u001b[0;31m         \u001b[0;32mraise\u001b[0m \u001b[0me\u001b[0m\u001b[0;34m\u001b[0m\u001b[0;34m\u001b[0m\u001b[0m\n\u001b[0m\u001b[1;32m    191\u001b[0m \u001b[0;34m\u001b[0m\u001b[0m\n\u001b[1;32m    192\u001b[0m     \u001b[0;32mif\u001b[0m \u001b[0mlen\u001b[0m\u001b[0;34m(\u001b[0m\u001b[0;34m[\u001b[0m\u001b[0mf\u001b[0m \u001b[0;32mfor\u001b[0m \u001b[0mf\u001b[0m \u001b[0;32min\u001b[0m \u001b[0mdls\u001b[0m\u001b[0;34m.\u001b[0m\u001b[0mtrain\u001b[0m\u001b[0;34m.\u001b[0m\u001b[0mafter_batch\u001b[0m\u001b[0;34m.\u001b[0m\u001b[0mfs\u001b[0m \u001b[0;32mif\u001b[0m \u001b[0mf\u001b[0m\u001b[0;34m.\u001b[0m\u001b[0mname\u001b[0m \u001b[0;34m!=\u001b[0m \u001b[0;34m'noop'\u001b[0m\u001b[0;34m]\u001b[0m\u001b[0;34m)\u001b[0m\u001b[0;34m!=\u001b[0m\u001b[0;36m0\u001b[0m\u001b[0;34m:\u001b[0m\u001b[0;34m\u001b[0m\u001b[0;34m\u001b[0m\u001b[0m\n",
            "\u001b[0;32m/usr/local/lib/python3.7/dist-packages/fastai/data/block.py\u001b[0m in \u001b[0;36msummary\u001b[0;34m(self, source, bs, show_batch, **kwargs)\u001b[0m\n\u001b[1;32m    182\u001b[0m     \u001b[0mprint\u001b[0m\u001b[0;34m(\u001b[0m\u001b[0;34m\"\\nCollating items in a batch\"\u001b[0m\u001b[0;34m)\u001b[0m\u001b[0;34m\u001b[0m\u001b[0;34m\u001b[0m\u001b[0m\n\u001b[1;32m    183\u001b[0m     \u001b[0;32mtry\u001b[0m\u001b[0;34m:\u001b[0m\u001b[0;34m\u001b[0m\u001b[0;34m\u001b[0m\u001b[0m\n\u001b[0;32m--> 184\u001b[0;31m         \u001b[0mb\u001b[0m \u001b[0;34m=\u001b[0m \u001b[0mdls\u001b[0m\u001b[0;34m.\u001b[0m\u001b[0mtrain\u001b[0m\u001b[0;34m.\u001b[0m\u001b[0mcreate_batch\u001b[0m\u001b[0;34m(\u001b[0m\u001b[0ms\u001b[0m\u001b[0;34m)\u001b[0m\u001b[0;34m\u001b[0m\u001b[0;34m\u001b[0m\u001b[0m\n\u001b[0m\u001b[1;32m    185\u001b[0m         \u001b[0mb\u001b[0m \u001b[0;34m=\u001b[0m \u001b[0mretain_types\u001b[0m\u001b[0;34m(\u001b[0m\u001b[0mb\u001b[0m\u001b[0;34m,\u001b[0m \u001b[0ms\u001b[0m\u001b[0;34m[\u001b[0m\u001b[0;36m0\u001b[0m\u001b[0;34m]\u001b[0m \u001b[0;32mif\u001b[0m \u001b[0mis_listy\u001b[0m\u001b[0;34m(\u001b[0m\u001b[0ms\u001b[0m\u001b[0;34m)\u001b[0m \u001b[0;32melse\u001b[0m \u001b[0ms\u001b[0m\u001b[0;34m)\u001b[0m\u001b[0;34m\u001b[0m\u001b[0;34m\u001b[0m\u001b[0m\n\u001b[1;32m    186\u001b[0m     \u001b[0;32mexcept\u001b[0m \u001b[0mException\u001b[0m \u001b[0;32mas\u001b[0m \u001b[0me\u001b[0m\u001b[0;34m:\u001b[0m\u001b[0;34m\u001b[0m\u001b[0;34m\u001b[0m\u001b[0m\n",
            "\u001b[0;32m/usr/local/lib/python3.7/dist-packages/fastai/data/load.py\u001b[0m in \u001b[0;36mcreate_batch\u001b[0;34m(self, b)\u001b[0m\n\u001b[1;32m    162\u001b[0m         \u001b[0;32mtry\u001b[0m\u001b[0;34m:\u001b[0m \u001b[0;32mreturn\u001b[0m \u001b[0;34m(\u001b[0m\u001b[0mfa_collate\u001b[0m\u001b[0;34m,\u001b[0m\u001b[0mfa_convert\u001b[0m\u001b[0;34m)\u001b[0m\u001b[0;34m[\u001b[0m\u001b[0mself\u001b[0m\u001b[0;34m.\u001b[0m\u001b[0mprebatched\u001b[0m\u001b[0;34m]\u001b[0m\u001b[0;34m(\u001b[0m\u001b[0mb\u001b[0m\u001b[0;34m)\u001b[0m\u001b[0;34m\u001b[0m\u001b[0;34m\u001b[0m\u001b[0m\n\u001b[1;32m    163\u001b[0m         \u001b[0;32mexcept\u001b[0m \u001b[0mException\u001b[0m \u001b[0;32mas\u001b[0m \u001b[0me\u001b[0m\u001b[0;34m:\u001b[0m\u001b[0;34m\u001b[0m\u001b[0;34m\u001b[0m\u001b[0m\n\u001b[0;32m--> 164\u001b[0;31m             \u001b[0;32mif\u001b[0m \u001b[0;32mnot\u001b[0m \u001b[0mself\u001b[0m\u001b[0;34m.\u001b[0m\u001b[0mprebatched\u001b[0m\u001b[0;34m:\u001b[0m \u001b[0mcollate_error\u001b[0m\u001b[0;34m(\u001b[0m\u001b[0me\u001b[0m\u001b[0;34m,\u001b[0m\u001b[0mb\u001b[0m\u001b[0;34m)\u001b[0m\u001b[0;34m\u001b[0m\u001b[0;34m\u001b[0m\u001b[0m\n\u001b[0m\u001b[1;32m    165\u001b[0m             \u001b[0;32mraise\u001b[0m\u001b[0;34m\u001b[0m\u001b[0;34m\u001b[0m\u001b[0m\n\u001b[1;32m    166\u001b[0m     \u001b[0;32mdef\u001b[0m \u001b[0mdo_batch\u001b[0m\u001b[0;34m(\u001b[0m\u001b[0mself\u001b[0m\u001b[0;34m,\u001b[0m \u001b[0mb\u001b[0m\u001b[0;34m)\u001b[0m\u001b[0;34m:\u001b[0m \u001b[0;32mreturn\u001b[0m \u001b[0mself\u001b[0m\u001b[0;34m.\u001b[0m\u001b[0mretain\u001b[0m\u001b[0;34m(\u001b[0m\u001b[0mself\u001b[0m\u001b[0;34m.\u001b[0m\u001b[0mcreate_batch\u001b[0m\u001b[0;34m(\u001b[0m\u001b[0mself\u001b[0m\u001b[0;34m.\u001b[0m\u001b[0mbefore_batch\u001b[0m\u001b[0;34m(\u001b[0m\u001b[0mb\u001b[0m\u001b[0;34m)\u001b[0m\u001b[0;34m)\u001b[0m\u001b[0;34m,\u001b[0m \u001b[0mb\u001b[0m\u001b[0;34m)\u001b[0m\u001b[0;34m\u001b[0m\u001b[0;34m\u001b[0m\u001b[0m\n",
            "\u001b[0;32m/usr/local/lib/python3.7/dist-packages/fastai/data/load.py\u001b[0m in \u001b[0;36mcreate_batch\u001b[0;34m(self, b)\u001b[0m\n\u001b[1;32m    160\u001b[0m         \u001b[0;32melse\u001b[0m\u001b[0;34m:\u001b[0m \u001b[0;32mraise\u001b[0m \u001b[0mIndexError\u001b[0m\u001b[0;34m(\u001b[0m\u001b[0;34m\"Cannot index an iterable dataset numerically - must use `None`.\"\u001b[0m\u001b[0;34m)\u001b[0m\u001b[0;34m\u001b[0m\u001b[0;34m\u001b[0m\u001b[0m\n\u001b[1;32m    161\u001b[0m     \u001b[0;32mdef\u001b[0m \u001b[0mcreate_batch\u001b[0m\u001b[0;34m(\u001b[0m\u001b[0mself\u001b[0m\u001b[0;34m,\u001b[0m \u001b[0mb\u001b[0m\u001b[0;34m)\u001b[0m\u001b[0;34m:\u001b[0m\u001b[0;34m\u001b[0m\u001b[0;34m\u001b[0m\u001b[0m\n\u001b[0;32m--> 162\u001b[0;31m         \u001b[0;32mtry\u001b[0m\u001b[0;34m:\u001b[0m \u001b[0;32mreturn\u001b[0m \u001b[0;34m(\u001b[0m\u001b[0mfa_collate\u001b[0m\u001b[0;34m,\u001b[0m\u001b[0mfa_convert\u001b[0m\u001b[0;34m)\u001b[0m\u001b[0;34m[\u001b[0m\u001b[0mself\u001b[0m\u001b[0;34m.\u001b[0m\u001b[0mprebatched\u001b[0m\u001b[0;34m]\u001b[0m\u001b[0;34m(\u001b[0m\u001b[0mb\u001b[0m\u001b[0;34m)\u001b[0m\u001b[0;34m\u001b[0m\u001b[0;34m\u001b[0m\u001b[0m\n\u001b[0m\u001b[1;32m    163\u001b[0m         \u001b[0;32mexcept\u001b[0m \u001b[0mException\u001b[0m \u001b[0;32mas\u001b[0m \u001b[0me\u001b[0m\u001b[0;34m:\u001b[0m\u001b[0;34m\u001b[0m\u001b[0;34m\u001b[0m\u001b[0m\n\u001b[1;32m    164\u001b[0m             \u001b[0;32mif\u001b[0m \u001b[0;32mnot\u001b[0m \u001b[0mself\u001b[0m\u001b[0;34m.\u001b[0m\u001b[0mprebatched\u001b[0m\u001b[0;34m:\u001b[0m \u001b[0mcollate_error\u001b[0m\u001b[0;34m(\u001b[0m\u001b[0me\u001b[0m\u001b[0;34m,\u001b[0m\u001b[0mb\u001b[0m\u001b[0;34m)\u001b[0m\u001b[0;34m\u001b[0m\u001b[0;34m\u001b[0m\u001b[0m\n",
            "\u001b[0;32m/usr/local/lib/python3.7/dist-packages/fastai/data/load.py\u001b[0m in \u001b[0;36mfa_collate\u001b[0;34m(t)\u001b[0m\n\u001b[1;32m     48\u001b[0m     \u001b[0mb\u001b[0m \u001b[0;34m=\u001b[0m \u001b[0mt\u001b[0m\u001b[0;34m[\u001b[0m\u001b[0;36m0\u001b[0m\u001b[0;34m]\u001b[0m\u001b[0;34m\u001b[0m\u001b[0;34m\u001b[0m\u001b[0m\n\u001b[1;32m     49\u001b[0m     return (default_collate(t) if isinstance(b, _collate_types)\n\u001b[0;32m---> 50\u001b[0;31m             \u001b[0;32melse\u001b[0m \u001b[0mtype\u001b[0m\u001b[0;34m(\u001b[0m\u001b[0mt\u001b[0m\u001b[0;34m[\u001b[0m\u001b[0;36m0\u001b[0m\u001b[0;34m]\u001b[0m\u001b[0;34m)\u001b[0m\u001b[0;34m(\u001b[0m\u001b[0;34m[\u001b[0m\u001b[0mfa_collate\u001b[0m\u001b[0;34m(\u001b[0m\u001b[0ms\u001b[0m\u001b[0;34m)\u001b[0m \u001b[0;32mfor\u001b[0m \u001b[0ms\u001b[0m \u001b[0;32min\u001b[0m \u001b[0mzip\u001b[0m\u001b[0;34m(\u001b[0m\u001b[0;34m*\u001b[0m\u001b[0mt\u001b[0m\u001b[0;34m)\u001b[0m\u001b[0;34m]\u001b[0m\u001b[0;34m)\u001b[0m \u001b[0;32mif\u001b[0m \u001b[0misinstance\u001b[0m\u001b[0;34m(\u001b[0m\u001b[0mb\u001b[0m\u001b[0;34m,\u001b[0m \u001b[0mSequence\u001b[0m\u001b[0;34m)\u001b[0m\u001b[0;34m\u001b[0m\u001b[0;34m\u001b[0m\u001b[0m\n\u001b[0m\u001b[1;32m     51\u001b[0m             else default_collate(t))\n\u001b[1;32m     52\u001b[0m \u001b[0;34m\u001b[0m\u001b[0m\n",
            "\u001b[0;32m/usr/local/lib/python3.7/dist-packages/fastai/data/load.py\u001b[0m in \u001b[0;36m<listcomp>\u001b[0;34m(.0)\u001b[0m\n\u001b[1;32m     48\u001b[0m     \u001b[0mb\u001b[0m \u001b[0;34m=\u001b[0m \u001b[0mt\u001b[0m\u001b[0;34m[\u001b[0m\u001b[0;36m0\u001b[0m\u001b[0;34m]\u001b[0m\u001b[0;34m\u001b[0m\u001b[0;34m\u001b[0m\u001b[0m\n\u001b[1;32m     49\u001b[0m     return (default_collate(t) if isinstance(b, _collate_types)\n\u001b[0;32m---> 50\u001b[0;31m             \u001b[0;32melse\u001b[0m \u001b[0mtype\u001b[0m\u001b[0;34m(\u001b[0m\u001b[0mt\u001b[0m\u001b[0;34m[\u001b[0m\u001b[0;36m0\u001b[0m\u001b[0;34m]\u001b[0m\u001b[0;34m)\u001b[0m\u001b[0;34m(\u001b[0m\u001b[0;34m[\u001b[0m\u001b[0mfa_collate\u001b[0m\u001b[0;34m(\u001b[0m\u001b[0ms\u001b[0m\u001b[0;34m)\u001b[0m \u001b[0;32mfor\u001b[0m \u001b[0ms\u001b[0m \u001b[0;32min\u001b[0m \u001b[0mzip\u001b[0m\u001b[0;34m(\u001b[0m\u001b[0;34m*\u001b[0m\u001b[0mt\u001b[0m\u001b[0;34m)\u001b[0m\u001b[0;34m]\u001b[0m\u001b[0;34m)\u001b[0m \u001b[0;32mif\u001b[0m \u001b[0misinstance\u001b[0m\u001b[0;34m(\u001b[0m\u001b[0mb\u001b[0m\u001b[0;34m,\u001b[0m \u001b[0mSequence\u001b[0m\u001b[0;34m)\u001b[0m\u001b[0;34m\u001b[0m\u001b[0;34m\u001b[0m\u001b[0m\n\u001b[0m\u001b[1;32m     51\u001b[0m             else default_collate(t))\n\u001b[1;32m     52\u001b[0m \u001b[0;34m\u001b[0m\u001b[0m\n",
            "\u001b[0;32m/usr/local/lib/python3.7/dist-packages/fastai/data/load.py\u001b[0m in \u001b[0;36mfa_collate\u001b[0;34m(t)\u001b[0m\n\u001b[1;32m     47\u001b[0m     \u001b[0;34m\"A replacement for PyTorch `default_collate` which maintains types and handles `Sequence`s\"\u001b[0m\u001b[0;34m\u001b[0m\u001b[0;34m\u001b[0m\u001b[0m\n\u001b[1;32m     48\u001b[0m     \u001b[0mb\u001b[0m \u001b[0;34m=\u001b[0m \u001b[0mt\u001b[0m\u001b[0;34m[\u001b[0m\u001b[0;36m0\u001b[0m\u001b[0;34m]\u001b[0m\u001b[0;34m\u001b[0m\u001b[0;34m\u001b[0m\u001b[0m\n\u001b[0;32m---> 49\u001b[0;31m     return (default_collate(t) if isinstance(b, _collate_types)\n\u001b[0m\u001b[1;32m     50\u001b[0m             \u001b[0;32melse\u001b[0m \u001b[0mtype\u001b[0m\u001b[0;34m(\u001b[0m\u001b[0mt\u001b[0m\u001b[0;34m[\u001b[0m\u001b[0;36m0\u001b[0m\u001b[0;34m]\u001b[0m\u001b[0;34m)\u001b[0m\u001b[0;34m(\u001b[0m\u001b[0;34m[\u001b[0m\u001b[0mfa_collate\u001b[0m\u001b[0;34m(\u001b[0m\u001b[0ms\u001b[0m\u001b[0;34m)\u001b[0m \u001b[0;32mfor\u001b[0m \u001b[0ms\u001b[0m \u001b[0;32min\u001b[0m \u001b[0mzip\u001b[0m\u001b[0;34m(\u001b[0m\u001b[0;34m*\u001b[0m\u001b[0mt\u001b[0m\u001b[0;34m)\u001b[0m\u001b[0;34m]\u001b[0m\u001b[0;34m)\u001b[0m \u001b[0;32mif\u001b[0m \u001b[0misinstance\u001b[0m\u001b[0;34m(\u001b[0m\u001b[0mb\u001b[0m\u001b[0;34m,\u001b[0m \u001b[0mSequence\u001b[0m\u001b[0;34m)\u001b[0m\u001b[0;34m\u001b[0m\u001b[0;34m\u001b[0m\u001b[0m\n\u001b[1;32m     51\u001b[0m             else default_collate(t))\n",
            "\u001b[0;32m/usr/local/lib/python3.7/dist-packages/torch/utils/data/_utils/collate.py\u001b[0m in \u001b[0;36mdefault_collate\u001b[0;34m(batch)\u001b[0m\n\u001b[1;32m    136\u001b[0m             \u001b[0mstorage\u001b[0m \u001b[0;34m=\u001b[0m \u001b[0melem\u001b[0m\u001b[0;34m.\u001b[0m\u001b[0mstorage\u001b[0m\u001b[0;34m(\u001b[0m\u001b[0;34m)\u001b[0m\u001b[0;34m.\u001b[0m\u001b[0m_new_shared\u001b[0m\u001b[0;34m(\u001b[0m\u001b[0mnumel\u001b[0m\u001b[0;34m)\u001b[0m\u001b[0;34m\u001b[0m\u001b[0;34m\u001b[0m\u001b[0m\n\u001b[1;32m    137\u001b[0m             \u001b[0mout\u001b[0m \u001b[0;34m=\u001b[0m \u001b[0melem\u001b[0m\u001b[0;34m.\u001b[0m\u001b[0mnew\u001b[0m\u001b[0;34m(\u001b[0m\u001b[0mstorage\u001b[0m\u001b[0;34m)\u001b[0m\u001b[0;34m.\u001b[0m\u001b[0mresize_\u001b[0m\u001b[0;34m(\u001b[0m\u001b[0mlen\u001b[0m\u001b[0;34m(\u001b[0m\u001b[0mbatch\u001b[0m\u001b[0;34m)\u001b[0m\u001b[0;34m,\u001b[0m \u001b[0;34m*\u001b[0m\u001b[0mlist\u001b[0m\u001b[0;34m(\u001b[0m\u001b[0melem\u001b[0m\u001b[0;34m.\u001b[0m\u001b[0msize\u001b[0m\u001b[0;34m(\u001b[0m\u001b[0;34m)\u001b[0m\u001b[0;34m)\u001b[0m\u001b[0;34m)\u001b[0m\u001b[0;34m\u001b[0m\u001b[0;34m\u001b[0m\u001b[0m\n\u001b[0;32m--> 138\u001b[0;31m         \u001b[0;32mreturn\u001b[0m \u001b[0mtorch\u001b[0m\u001b[0;34m.\u001b[0m\u001b[0mstack\u001b[0m\u001b[0;34m(\u001b[0m\u001b[0mbatch\u001b[0m\u001b[0;34m,\u001b[0m \u001b[0;36m0\u001b[0m\u001b[0;34m,\u001b[0m \u001b[0mout\u001b[0m\u001b[0;34m=\u001b[0m\u001b[0mout\u001b[0m\u001b[0;34m)\u001b[0m\u001b[0;34m\u001b[0m\u001b[0;34m\u001b[0m\u001b[0m\n\u001b[0m\u001b[1;32m    139\u001b[0m     \u001b[0;32melif\u001b[0m \u001b[0melem_type\u001b[0m\u001b[0;34m.\u001b[0m\u001b[0m__module__\u001b[0m \u001b[0;34m==\u001b[0m \u001b[0;34m'numpy'\u001b[0m \u001b[0;32mand\u001b[0m \u001b[0melem_type\u001b[0m\u001b[0;34m.\u001b[0m\u001b[0m__name__\u001b[0m \u001b[0;34m!=\u001b[0m \u001b[0;34m'str_'\u001b[0m\u001b[0;31m \u001b[0m\u001b[0;31m\\\u001b[0m\u001b[0;34m\u001b[0m\u001b[0;34m\u001b[0m\u001b[0m\n\u001b[1;32m    140\u001b[0m             \u001b[0;32mand\u001b[0m \u001b[0melem_type\u001b[0m\u001b[0;34m.\u001b[0m\u001b[0m__name__\u001b[0m \u001b[0;34m!=\u001b[0m \u001b[0;34m'string_'\u001b[0m\u001b[0;34m:\u001b[0m\u001b[0;34m\u001b[0m\u001b[0;34m\u001b[0m\u001b[0m\n",
            "\u001b[0;32m/usr/local/lib/python3.7/dist-packages/fastai/torch_core.py\u001b[0m in \u001b[0;36m__torch_function__\u001b[0;34m(self, func, types, args, kwargs)\u001b[0m\n\u001b[1;32m    339\u001b[0m         \u001b[0mconvert\u001b[0m\u001b[0;34m=\u001b[0m\u001b[0;32mFalse\u001b[0m\u001b[0;34m\u001b[0m\u001b[0;34m\u001b[0m\u001b[0m\n\u001b[1;32m    340\u001b[0m         \u001b[0;32mif\u001b[0m \u001b[0m_torch_handled\u001b[0m\u001b[0;34m(\u001b[0m\u001b[0margs\u001b[0m\u001b[0;34m,\u001b[0m \u001b[0mself\u001b[0m\u001b[0;34m.\u001b[0m\u001b[0m_opt\u001b[0m\u001b[0;34m,\u001b[0m \u001b[0mfunc\u001b[0m\u001b[0;34m)\u001b[0m\u001b[0;34m:\u001b[0m \u001b[0mconvert\u001b[0m\u001b[0;34m,\u001b[0m\u001b[0mtypes\u001b[0m \u001b[0;34m=\u001b[0m \u001b[0mtype\u001b[0m\u001b[0;34m(\u001b[0m\u001b[0mself\u001b[0m\u001b[0;34m)\u001b[0m\u001b[0;34m,\u001b[0m\u001b[0;34m(\u001b[0m\u001b[0mtorch\u001b[0m\u001b[0;34m.\u001b[0m\u001b[0mTensor\u001b[0m\u001b[0;34m,\u001b[0m\u001b[0;34m)\u001b[0m\u001b[0;34m\u001b[0m\u001b[0;34m\u001b[0m\u001b[0m\n\u001b[0;32m--> 341\u001b[0;31m         \u001b[0mres\u001b[0m \u001b[0;34m=\u001b[0m \u001b[0msuper\u001b[0m\u001b[0;34m(\u001b[0m\u001b[0;34m)\u001b[0m\u001b[0;34m.\u001b[0m\u001b[0m__torch_function__\u001b[0m\u001b[0;34m(\u001b[0m\u001b[0mfunc\u001b[0m\u001b[0;34m,\u001b[0m \u001b[0mtypes\u001b[0m\u001b[0;34m,\u001b[0m \u001b[0margs\u001b[0m\u001b[0;34m=\u001b[0m\u001b[0margs\u001b[0m\u001b[0;34m,\u001b[0m \u001b[0mkwargs\u001b[0m\u001b[0;34m=\u001b[0m\u001b[0mkwargs\u001b[0m\u001b[0;34m)\u001b[0m\u001b[0;34m\u001b[0m\u001b[0;34m\u001b[0m\u001b[0m\n\u001b[0m\u001b[1;32m    342\u001b[0m         \u001b[0;32mif\u001b[0m \u001b[0mconvert\u001b[0m\u001b[0;34m:\u001b[0m \u001b[0mres\u001b[0m \u001b[0;34m=\u001b[0m \u001b[0mconvert\u001b[0m\u001b[0;34m(\u001b[0m\u001b[0mres\u001b[0m\u001b[0;34m)\u001b[0m\u001b[0;34m\u001b[0m\u001b[0;34m\u001b[0m\u001b[0m\n\u001b[1;32m    343\u001b[0m         \u001b[0;32mif\u001b[0m \u001b[0misinstance\u001b[0m\u001b[0;34m(\u001b[0m\u001b[0mres\u001b[0m\u001b[0;34m,\u001b[0m \u001b[0mTensorBase\u001b[0m\u001b[0;34m)\u001b[0m\u001b[0;34m:\u001b[0m \u001b[0mres\u001b[0m\u001b[0;34m.\u001b[0m\u001b[0mset_meta\u001b[0m\u001b[0;34m(\u001b[0m\u001b[0mself\u001b[0m\u001b[0;34m,\u001b[0m \u001b[0mas_copy\u001b[0m\u001b[0;34m=\u001b[0m\u001b[0;32mTrue\u001b[0m\u001b[0;34m)\u001b[0m\u001b[0;34m\u001b[0m\u001b[0;34m\u001b[0m\u001b[0m\n",
            "\u001b[0;32m/usr/local/lib/python3.7/dist-packages/torch/_tensor.py\u001b[0m in \u001b[0;36m__torch_function__\u001b[0;34m(cls, func, types, args, kwargs)\u001b[0m\n\u001b[1;32m   1140\u001b[0m \u001b[0;34m\u001b[0m\u001b[0m\n\u001b[1;32m   1141\u001b[0m         \u001b[0;32mwith\u001b[0m \u001b[0m_C\u001b[0m\u001b[0;34m.\u001b[0m\u001b[0mDisableTorchFunction\u001b[0m\u001b[0;34m(\u001b[0m\u001b[0;34m)\u001b[0m\u001b[0;34m:\u001b[0m\u001b[0;34m\u001b[0m\u001b[0;34m\u001b[0m\u001b[0m\n\u001b[0;32m-> 1142\u001b[0;31m             \u001b[0mret\u001b[0m \u001b[0;34m=\u001b[0m \u001b[0mfunc\u001b[0m\u001b[0;34m(\u001b[0m\u001b[0;34m*\u001b[0m\u001b[0margs\u001b[0m\u001b[0;34m,\u001b[0m \u001b[0;34m**\u001b[0m\u001b[0mkwargs\u001b[0m\u001b[0;34m)\u001b[0m\u001b[0;34m\u001b[0m\u001b[0;34m\u001b[0m\u001b[0m\n\u001b[0m\u001b[1;32m   1143\u001b[0m             \u001b[0;32mif\u001b[0m \u001b[0mfunc\u001b[0m \u001b[0;32min\u001b[0m \u001b[0mget_default_nowrap_functions\u001b[0m\u001b[0;34m(\u001b[0m\u001b[0;34m)\u001b[0m\u001b[0;34m:\u001b[0m\u001b[0;34m\u001b[0m\u001b[0;34m\u001b[0m\u001b[0m\n\u001b[1;32m   1144\u001b[0m                 \u001b[0;32mreturn\u001b[0m \u001b[0mret\u001b[0m\u001b[0;34m\u001b[0m\u001b[0;34m\u001b[0m\u001b[0m\n",
            "\u001b[0;31mRuntimeError\u001b[0m: Error when trying to collate the data into batches with fa_collate, at least two tensors in the batch are not the same size.\n\nMismatch found on axis 0 of the batch and is of type `TensorImage`:\n\tItem at index 0 has shape: torch.Size([3, 333, 500])\n\tItem at index 1 has shape: torch.Size([3, 500, 375])\n\nPlease include a transform in `after_item` that ensures all data of type TensorImage is the same size"
          ]
        }
      ],
      "source": [
        "#hide_output\n",
        "pets1 = DataBlock(blocks = (ImageBlock, CategoryBlock),\n",
        "                 get_items=get_image_files, \n",
        "                 splitter=RandomSplitter(seed=42),\n",
        "                 get_y=using_attr(RegexLabeller(r'(.+)_\\d+.jpg$'), 'name'))\n",
        "pets1.summary(path/\"images\")"
      ]
    },
    {
      "cell_type": "markdown",
      "metadata": {
        "id": "lH2mvh4t1GBx"
      },
      "source": [
        "```\n",
        "Setting-up type transforms pipelines\n",
        "Collecting items from /home/sgugger/.fastai/data/oxford-iiit-pet/images\n",
        "Found 7390 items\n",
        "2 datasets of sizes 5912,1478\n",
        "Setting up Pipeline: PILBase.create\n",
        "Setting up Pipeline: partial -> Categorize\n",
        "\n",
        "Building one sample\n",
        "  Pipeline: PILBase.create\n",
        "    starting from\n",
        "      /home/sgugger/.fastai/data/oxford-iiit-pet/images/american_bulldog_83.jpg\n",
        "    applying PILBase.create gives\n",
        "      PILImage mode=RGB size=375x500\n",
        "  Pipeline: partial -> Categorize\n",
        "    starting from\n",
        "      /home/sgugger/.fastai/data/oxford-iiit-pet/images/american_bulldog_83.jpg\n",
        "    applying partial gives\n",
        "      american_bulldog\n",
        "    applying Categorize gives\n",
        "      TensorCategory(12)\n",
        "\n",
        "Final sample: (PILImage mode=RGB size=375x500, TensorCategory(12))\n",
        "\n",
        "Setting up after_item: Pipeline: ToTensor\n",
        "Setting up before_batch: Pipeline: \n",
        "Setting up after_batch: Pipeline: IntToFloatTensor\n",
        "\n",
        "Building one batch\n",
        "Applying item_tfms to the first sample:\n",
        "  Pipeline: ToTensor\n",
        "    starting from\n",
        "      (PILImage mode=RGB size=375x500, TensorCategory(12))\n",
        "    applying ToTensor gives\n",
        "      (TensorImage of size 3x500x375, TensorCategory(12))\n",
        "\n",
        "Adding the next 3 samples\n",
        "\n",
        "No before_batch transform to apply\n",
        "\n",
        "Collating items in a batch\n",
        "Error! It's not possible to collate your items in a batch\n",
        "Could not collate the 0-th members of your tuples because got the following \n",
        "shapes:\n",
        "torch.Size([3, 500, 375]),torch.Size([3, 375, 500]),torch.Size([3, 333, 500]),\n",
        "torch.Size([3, 375, 500])\n",
        "```"
      ]
    },
    {
      "cell_type": "markdown",
      "metadata": {
        "id": "DrVFQOpn1GBx"
      },
      "source": [
        "You can see exactly how we gathered the data and split it, how we went from a filename to a *sample* (the tuple (image, category)), then what item transforms were applied and how it failed to collate those samples in a batch (because of the different shapes). \n",
        "\n",
        "Once you think your data looks right, we generally recommend the next step should be using it to train a simple model. We often see people put off the training of an actual model for far too long. As a result, they don't actually find out what their baseline results look like. Perhaps your problem doesn't need lots of fancy domain-specific engineering. Or perhaps the data doesn't seem to train the model at all. These are things that you want to know as soon as possible. For this initial test, we'll use the same simple model that we used in <<chapter_intro>>:"
      ]
    },
    {
      "cell_type": "code",
      "execution_count": 15,
      "metadata": {
        "id": "KBRs1Iqi1GBy",
        "outputId": "71deb6b5-843c-4f85-d6a6-680276616c1a",
        "colab": {
          "base_uri": "https://localhost:8080/",
          "height": 245,
          "referenced_widgets": [
            "1994910edf9a432da98676aa1544e5f0",
            "535a73702b614346ba681c57ea563916",
            "279af8aa1ca24f36bfa792c2a266a9b5",
            "1ee885b84cdd4b839d3ecf7edc9a110a",
            "5100102acd4a400db526217b1a24e40a",
            "d7902cf4a8b74fa9b53da23d592d9685",
            "473e644a87d247ca84914d76cf51fa3e",
            "1fde7888c8434844b37815ef5adeacd7",
            "6b072f5f5ff24f99b76d07a88f29ff04",
            "2e7d41d13da446c7bf71210a4254be9c",
            "456bc4895a9e4eb2b9e259421e472067"
          ]
        }
      },
      "outputs": [
        {
          "output_type": "stream",
          "name": "stderr",
          "text": [
            "Downloading: \"https://download.pytorch.org/models/resnet34-b627a593.pth\" to /root/.cache/torch/hub/checkpoints/resnet34-b627a593.pth\n"
          ]
        },
        {
          "output_type": "display_data",
          "data": {
            "text/plain": [
              "  0%|          | 0.00/83.3M [00:00<?, ?B/s]"
            ],
            "application/vnd.jupyter.widget-view+json": {
              "version_major": 2,
              "version_minor": 0,
              "model_id": "1994910edf9a432da98676aa1544e5f0"
            }
          },
          "metadata": {}
        },
        {
          "output_type": "display_data",
          "data": {
            "text/plain": [
              "<IPython.core.display.HTML object>"
            ],
            "text/html": [
              "\n",
              "<style>\n",
              "    /* Turns off some styling */\n",
              "    progress {\n",
              "        /* gets rid of default border in Firefox and Opera. */\n",
              "        border: none;\n",
              "        /* Needs to be in here for Safari polyfill so background images work as expected. */\n",
              "        background-size: auto;\n",
              "    }\n",
              "    .progress-bar-interrupted, .progress-bar-interrupted::-webkit-progress-bar {\n",
              "        background: #F44336;\n",
              "    }\n",
              "</style>\n"
            ]
          },
          "metadata": {}
        },
        {
          "output_type": "display_data",
          "data": {
            "text/plain": [
              "<IPython.core.display.HTML object>"
            ],
            "text/html": [
              "<table border=\"1\" class=\"dataframe\">\n",
              "  <thead>\n",
              "    <tr style=\"text-align: left;\">\n",
              "      <th>epoch</th>\n",
              "      <th>train_loss</th>\n",
              "      <th>valid_loss</th>\n",
              "      <th>error_rate</th>\n",
              "      <th>time</th>\n",
              "    </tr>\n",
              "  </thead>\n",
              "  <tbody>\n",
              "    <tr>\n",
              "      <td>0</td>\n",
              "      <td>1.526556</td>\n",
              "      <td>0.298207</td>\n",
              "      <td>0.104195</td>\n",
              "      <td>01:11</td>\n",
              "    </tr>\n",
              "  </tbody>\n",
              "</table>"
            ]
          },
          "metadata": {}
        },
        {
          "output_type": "display_data",
          "data": {
            "text/plain": [
              "<IPython.core.display.HTML object>"
            ],
            "text/html": [
              "\n",
              "<style>\n",
              "    /* Turns off some styling */\n",
              "    progress {\n",
              "        /* gets rid of default border in Firefox and Opera. */\n",
              "        border: none;\n",
              "        /* Needs to be in here for Safari polyfill so background images work as expected. */\n",
              "        background-size: auto;\n",
              "    }\n",
              "    .progress-bar-interrupted, .progress-bar-interrupted::-webkit-progress-bar {\n",
              "        background: #F44336;\n",
              "    }\n",
              "</style>\n"
            ]
          },
          "metadata": {}
        },
        {
          "output_type": "display_data",
          "data": {
            "text/plain": [
              "<IPython.core.display.HTML object>"
            ],
            "text/html": [
              "<table border=\"1\" class=\"dataframe\">\n",
              "  <thead>\n",
              "    <tr style=\"text-align: left;\">\n",
              "      <th>epoch</th>\n",
              "      <th>train_loss</th>\n",
              "      <th>valid_loss</th>\n",
              "      <th>error_rate</th>\n",
              "      <th>time</th>\n",
              "    </tr>\n",
              "  </thead>\n",
              "  <tbody>\n",
              "    <tr>\n",
              "      <td>0</td>\n",
              "      <td>0.510710</td>\n",
              "      <td>0.333136</td>\n",
              "      <td>0.110284</td>\n",
              "      <td>01:17</td>\n",
              "    </tr>\n",
              "    <tr>\n",
              "      <td>1</td>\n",
              "      <td>0.328492</td>\n",
              "      <td>0.214092</td>\n",
              "      <td>0.072395</td>\n",
              "      <td>01:17</td>\n",
              "    </tr>\n",
              "  </tbody>\n",
              "</table>"
            ]
          },
          "metadata": {}
        }
      ],
      "source": [
        "learn = vision_learner(dls, resnet34, metrics=error_rate)\n",
        "learn.fine_tune(2)"
      ]
    },
    {
      "cell_type": "markdown",
      "metadata": {
        "id": "9kB4oEBI1GBy"
      },
      "source": [
        "As we've briefly discussed before, the table shown when we fit a model shows us the results after each epoch of training. Remember, an epoch is one complete pass through all of the images in the data. The columns shown are the average loss over the items of the training set, the loss on the validation set, and any metrics that we requested—in this case, the error rate.\n",
        "\n",
        "Remember that *loss* is whatever function we've decided to use to optimize the parameters of our model. But we haven't actually told fastai what loss function we want to use. So what is it doing? fastai will generally try to select an appropriate loss function based on what kind of data and model you are using. In this case we have image data and a categorical outcome, so fastai will default to using *cross-entropy loss*."
      ]
    },
    {
      "cell_type": "markdown",
      "metadata": {
        "id": "bCrFbJ4p1GBy"
      },
      "source": [
        "## Cross-Entropy Loss"
      ]
    },
    {
      "cell_type": "markdown",
      "metadata": {
        "id": "ZuCey3Kg1GBy"
      },
      "source": [
        "*Cross-entropy loss* is a loss function that is similar to the one we used in the previous chapter, but (as we'll see) has two benefits:\n",
        "\n",
        "- It works even when our dependent variable has more than two categories.\n",
        "- It results in faster and more reliable training.\n",
        "\n",
        "In order to understand how cross-entropy loss works for dependent variables with more than two categories, we first have to understand what the actual data and activations that are seen by the loss function look like."
      ]
    },
    {
      "cell_type": "markdown",
      "metadata": {
        "id": "uddZ0b8d1GBz"
      },
      "source": [
        "### Viewing Activations and Labels"
      ]
    },
    {
      "cell_type": "markdown",
      "metadata": {
        "id": "JE2xKzeK1GBz"
      },
      "source": [
        "Let's take a look at the activations of our model. To actually get a batch of real data from our `DataLoaders`, we can use the `one_batch` method:"
      ]
    },
    {
      "cell_type": "code",
      "execution_count": 16,
      "metadata": {
        "id": "3ITtLITL1GBz"
      },
      "outputs": [],
      "source": [
        "x,y = dls.one_batch()"
      ]
    },
    {
      "cell_type": "markdown",
      "metadata": {
        "id": "vlawsCkL1GBz"
      },
      "source": [
        "As you see, this returns the dependent and independent variables, as a mini-batch. Let's see what is actually contained in our dependent variable:"
      ]
    },
    {
      "cell_type": "code",
      "execution_count": 17,
      "metadata": {
        "id": "O3zS4vBH1GBz",
        "outputId": "eaacef0f-93cd-45d4-cf6e-75a39f8fa55c",
        "colab": {
          "base_uri": "https://localhost:8080/"
        }
      },
      "outputs": [
        {
          "output_type": "execute_result",
          "data": {
            "text/plain": [
              "TensorCategory([ 6, 24, 18,  3, 14, 14, 28, 19,  7, 18, 35, 29, 28,  3, 16, 28, 31, 29,  8, 15, 30,  7,  0, 32, 35, 17, 16, 35, 13, 31,  6,  0, 18, 36, 11, 22, 30, 16, 20, 21, 30, 17, 17,  6, 26, 32, 17, 33,\n",
              "        27, 31,  9,  3, 29, 34,  9, 24,  8,  2, 30, 35,  8,  1, 10, 10], device='cuda:0')"
            ]
          },
          "metadata": {},
          "execution_count": 17
        }
      ],
      "source": [
        "y"
      ]
    },
    {
      "cell_type": "markdown",
      "metadata": {
        "id": "SywnGqD51GBz"
      },
      "source": [
        "Our batch size is 64, so we have 64 rows in this tensor. Each row is a single integer between 0 and 36, representing our 37 possible pet breeds. We can view the predictions (that is, the activations of the final layer of our neural network) using `Learner.get_preds`. This function either takes a dataset index (0 for train and 1 for valid) or an iterator of batches. Thus, we can pass it a simple list with our batch to get our predictions. It returns predictions and targets by default, but since we already have the targets, we can effectively ignore them by assigning to the special variable `_`:"
      ]
    },
    {
      "cell_type": "code",
      "execution_count": 19,
      "metadata": {
        "id": "-2ObDjmS1GBz",
        "outputId": "f62ee523-5556-4586-d681-b53abb86f6eb",
        "colab": {
          "base_uri": "https://localhost:8080/",
          "height": 89
        }
      },
      "outputs": [
        {
          "output_type": "display_data",
          "data": {
            "text/plain": [
              "<IPython.core.display.HTML object>"
            ],
            "text/html": [
              "\n",
              "<style>\n",
              "    /* Turns off some styling */\n",
              "    progress {\n",
              "        /* gets rid of default border in Firefox and Opera. */\n",
              "        border: none;\n",
              "        /* Needs to be in here for Safari polyfill so background images work as expected. */\n",
              "        background-size: auto;\n",
              "    }\n",
              "    .progress-bar-interrupted, .progress-bar-interrupted::-webkit-progress-bar {\n",
              "        background: #F44336;\n",
              "    }\n",
              "</style>\n"
            ]
          },
          "metadata": {}
        },
        {
          "output_type": "display_data",
          "data": {
            "text/plain": [
              "<IPython.core.display.HTML object>"
            ],
            "text/html": [
              ""
            ]
          },
          "metadata": {}
        },
        {
          "output_type": "execute_result",
          "data": {
            "text/plain": [
              "TensorBase([3.3102e-06, 3.6942e-03, 8.1387e-07, 3.9563e-06, 2.0202e-06, 1.1490e-04, 9.9613e-01, 1.4309e-06, 6.9423e-07, 6.6892e-07, 3.0132e-07, 4.5145e-07, 2.0087e-07, 1.4266e-06, 7.8021e-08, 2.4446e-07,\n",
              "        2.3944e-08, 2.7919e-08, 1.9159e-05, 3.4906e-06, 2.1266e-07, 1.0490e-06, 6.3696e-07, 1.2245e-06, 2.2017e-07, 1.3218e-06, 1.7005e-08, 2.4281e-06, 3.2319e-07, 3.9031e-07, 2.6159e-07, 2.1388e-08,\n",
              "        5.1213e-06, 4.8502e-07, 1.3171e-07, 2.1878e-07, 5.1812e-06])"
            ]
          },
          "metadata": {},
          "execution_count": 19
        }
      ],
      "source": [
        "preds,_ = learn.get_preds(dl=[(x,y)])\n",
        "preds[0]"
      ]
    },
    {
      "cell_type": "markdown",
      "metadata": {
        "id": "PMSete3-1GB0"
      },
      "source": [
        "The actual predictions are 37 probabilities between 0 and 1, which add up to 1 in total:"
      ]
    },
    {
      "cell_type": "code",
      "execution_count": 20,
      "metadata": {
        "id": "YzIbwmWR1GB0",
        "outputId": "b7681d44-4580-4a87-b9ab-7b2cadc00a60",
        "colab": {
          "base_uri": "https://localhost:8080/"
        }
      },
      "outputs": [
        {
          "output_type": "execute_result",
          "data": {
            "text/plain": [
              "(37, TensorBase(1.))"
            ]
          },
          "metadata": {},
          "execution_count": 20
        }
      ],
      "source": [
        "len(preds[0]),preds[0].sum()"
      ]
    },
    {
      "cell_type": "markdown",
      "metadata": {
        "id": "Ad4O7-ov1GB0"
      },
      "source": [
        "To transform the activations of our model into predictions like this, we used something called the *softmax* activation function."
      ]
    },
    {
      "cell_type": "markdown",
      "metadata": {
        "id": "nS9-XynZ1GB0"
      },
      "source": [
        "### Softmax"
      ]
    },
    {
      "cell_type": "markdown",
      "metadata": {
        "id": "RKv-qekS1GB0"
      },
      "source": [
        "In our classification model, we use the softmax activation function in the final layer to ensure that the activations are all between 0 and 1, and that they sum to 1.\n",
        "\n",
        "Softmax is similar to the sigmoid function, which we saw earlier. As a reminder sigmoid looks like this:"
      ]
    },
    {
      "cell_type": "code",
      "execution_count": 21,
      "metadata": {
        "id": "EBEiuo0C1GB0",
        "outputId": "0227e486-e122-4dae-ea77-4fdc749f3baa",
        "colab": {
          "base_uri": "https://localhost:8080/",
          "height": 265
        }
      },
      "outputs": [
        {
          "output_type": "display_data",
          "data": {
            "text/plain": [
              "<Figure size 432x288 with 1 Axes>"
            ],
            "image/png": "[encoded data removed]"
          },
          "metadata": {
            "needs_background": "light"
          }
        }
      ],
      "source": [
        "plot_function(torch.sigmoid, min=-4,max=4)"
      ]
    },
    {
      "cell_type": "markdown",
      "metadata": {
        "id": "N-Qaf9PU1GB1"
      },
      "source": [
        "We can apply this function to a single column of activations from a neural network, and get back a column of numbers between 0 and 1, so it's a very useful activation function for our final layer.\n",
        "\n",
        "Now think about what happens if we want to have more categories in our target (such as our 37 pet breeds). That means we'll need more activations than just a single column: we need an activation *per category*. We can create, for instance, a neural net that predicts 3s and 7s that returns two activations, one for each class—this will be a good first step toward creating the more general approach. Let's just use some random numbers with a standard deviation of 2 (so we multiply `randn` by 2) for this example, assuming we have 6 images and 2 possible categories (where the first column represents 3s and the second is 7s):"
      ]
    },
    {
      "cell_type": "code",
      "execution_count": 22,
      "metadata": {
        "id": "4MulhS7C1GB1"
      },
      "outputs": [],
      "source": [
        "#hide\n",
        "torch.random.manual_seed(42);"
      ]
    },
    {
      "cell_type": "code",
      "execution_count": 23,
      "metadata": {
        "id": "i6d6XDYK1GB1",
        "outputId": "013bb26f-3d58-4fca-9266-5c3f6ac75d1e",
        "colab": {
          "base_uri": "https://localhost:8080/"
        }
      },
      "outputs": [
        {
          "output_type": "execute_result",
          "data": {
            "text/plain": [
              "tensor([[ 0.6734,  0.2576],\n",
              "        [ 0.4689,  0.4607],\n",
              "        [-2.2457, -0.3727],\n",
              "        [ 4.4164, -1.2760],\n",
              "        [ 0.9233,  0.5347],\n",
              "        [ 1.0698,  1.6187]])"
            ]
          },
          "metadata": {},
          "execution_count": 23
        }
      ],
      "source": [
        "acts = torch.randn((6,2))*2\n",
        "acts"
      ]
    },
    {
      "cell_type": "markdown",
      "metadata": {
        "id": "4BTToL7Z1GB1"
      },
      "source": [
        "We can't just take the sigmoid of this directly, since we don't get rows that add to 1 (i.e., we want the probability of being a 3 plus the probability of being a 7 to add up to 1):"
      ]
    },
    {
      "cell_type": "code",
      "execution_count": 24,
      "metadata": {
        "id": "HOLyq00E1GB1",
        "outputId": "ae3069a5-1e2a-4c35-9107-3b6d8068a4a3",
        "colab": {
          "base_uri": "https://localhost:8080/"
        }
      },
      "outputs": [
        {
          "output_type": "execute_result",
          "data": {
            "text/plain": [
              "tensor([[0.6623, 0.5641],\n",
              "        [0.6151, 0.6132],\n",
              "        [0.0957, 0.4079],\n",
              "        [0.9881, 0.2182],\n",
              "        [0.7157, 0.6306],\n",
              "        [0.7446, 0.8346]])"
            ]
          },
          "metadata": {},
          "execution_count": 24
        }
      ],
      "source": [
        "acts.sigmoid()"
      ]
    },
    {
      "cell_type": "markdown",
      "metadata": {
        "id": "tFwKCb2Q1GB2"
      },
      "source": [
        "In <<chapter_mnist_basics>>, our neural net created a single activation per image, which we passed through the `sigmoid` function. That single activation represented the model's confidence that the input was a 3. Binary problems are a special case of classification problems, because the target can be treated as a single boolean value, as we did in `mnist_loss`. But binary problems can also be thought of in the context of the more general group of classifiers with any number of categories: in this case, we happen to have two categories. As we saw in the bear classifier, our neural net will return one activation per category.\n",
        "\n",
        "So in the binary case, what do those activations really indicate? A single pair of activations simply indicates the *relative* confidence of the input being a 3 versus being a 7. The overall values, whether they are both high, or both low, don't matter—all that matters is which is higher, and by how much.\n",
        "\n",
        "We would expect that since this is just another way of representing the same problem, that we would be able to use `sigmoid` directly on the two-activation version of our neural net. And indeed we can! We can just take the *difference* between the neural net activations, because that reflects how much more sure we are of the input being a 3 than a 7, and then take the sigmoid of that:"
      ]
    },
    {
      "cell_type": "code",
      "execution_count": 25,
      "metadata": {
        "id": "207Gs2h61GB2",
        "outputId": "0f5f1860-1ed8-401d-ec48-bc0d3236ce5d",
        "colab": {
          "base_uri": "https://localhost:8080/"
        }
      },
      "outputs": [
        {
          "output_type": "execute_result",
          "data": {
            "text/plain": [
              "tensor([0.6025, 0.5021, 0.1332, 0.9966, 0.5959, 0.3661])"
            ]
          },
          "metadata": {},
          "execution_count": 25
        }
      ],
      "source": [
        "(acts[:,0]-acts[:,1]).sigmoid()"
      ]
    },
    {
      "cell_type": "markdown",
      "metadata": {
        "id": "ivi3VBy31GB2"
      },
      "source": [
        "The second column (the probability of it being a 7) will then just be that value subtracted from 1. Now, we need a way to do all this that also works for more than two columns. It turns out that this function, called `softmax`, is exactly that:\n",
        "\n",
        "``` python\n",
        "def softmax(x): return exp(x) / exp(x).sum(dim=1, keepdim=True)\n",
        "```"
      ]
    },
    {
      "cell_type": "markdown",
      "metadata": {
        "id": "RYJuARzK1GB2"
      },
      "source": [
        "> jargon: Exponential function (exp): Literally defined as `e**x`, where `e` is a special number approximately equal to 2.718. It is the inverse of the natural logarithm function. Note that `exp` is always positive, and it increases _very_ rapidly!"
      ]
    },
    {
      "cell_type": "markdown",
      "metadata": {
        "id": "V_w8dtcw1GB2"
      },
      "source": [
        "Let's check that `softmax` returns the same values as `sigmoid` for the first column, and those values subtracted from 1 for the second column:"
      ]
    },
    {
      "cell_type": "code",
      "execution_count": 26,
      "metadata": {
        "id": "Z5_ZXXys1GB3",
        "outputId": "df5316c7-bb32-460c-af65-1075ea46fb0f",
        "colab": {
          "base_uri": "https://localhost:8080/"
        }
      },
      "outputs": [
        {
          "output_type": "execute_result",
          "data": {
            "text/plain": [
              "tensor([[0.6025, 0.3975],\n",
              "        [0.5021, 0.4979],\n",
              "        [0.1332, 0.8668],\n",
              "        [0.9966, 0.0034],\n",
              "        [0.5959, 0.4041],\n",
              "        [0.3661, 0.6339]])"
            ]
          },
          "metadata": {},
          "execution_count": 26
        }
      ],
      "source": [
        "sm_acts = torch.softmax(acts, dim=1)\n",
        "sm_acts"
      ]
    },
    {
      "cell_type": "markdown",
      "metadata": {
        "id": "npNFoghP1GB3"
      },
      "source": [
        "`softmax` is the multi-category equivalent of `sigmoid`—we have to use it any time we have more than two categories and the probabilities of the categories must add to 1, and we often use it even when there are just two categories, just to make things a bit more consistent. We could create other functions that have the properties that all activations are between 0 and 1, and sum to 1; however, no other function has the same relationship to the sigmoid function, which we've seen is smooth and symmetric. Also, we'll see shortly that the softmax function works well hand-in-hand with the loss function we will look at in the next section.\n",
        "\n",
        "If we have three output activations, such as in our bear classifier, calculating softmax for a single bear image would then look like something like <<bear_softmax>>."
      ]
    },
    {
      "cell_type": "markdown",
      "metadata": {
        "id": "jQoojKAP1GB3"
      },
      "source": [
        "<img alt=\"Bear softmax example\" width=\"280\" id=\"bear_softmax\" caption=\"Example of softmax on the bear classifier\" src=\"https://github.com/fastai/fastbook/blob/master/images/att_00062.png?raw=1\">"
      ]
    },
    {
      "cell_type": "markdown",
      "metadata": {
        "id": "kSJXjZzJ1GB3"
      },
      "source": [
        "What does this function do in practice? Taking the exponential ensures all our numbers are positive, and then dividing by the sum ensures we are going to have a bunch of numbers that add up to 1. The exponential also has a nice property: if one of the numbers in our activations `x` is slightly bigger than the others, the exponential will amplify this (since it grows, well... exponentially), which means that in the softmax, that number will be closer to 1. \n",
        "\n",
        "Intuitively, the softmax function *really* wants to pick one class among the others, so it's ideal for training a classifier when we know each picture has a definite label. (Note that it may be less ideal during inference, as you might want your model to sometimes tell you it doesn't recognize any of the classes that it has seen during training, and not pick a class because it has a slightly bigger activation score. In this case, it might be better to train a model using multiple binary output columns, each using a sigmoid activation.)\n",
        "\n",
        "Softmax is the first part of the cross-entropy loss—the second part is log likelihood. "
      ]
    },
    {
      "cell_type": "markdown",
      "metadata": {
        "id": "vRAo0siw1GB3"
      },
      "source": [
        "### Log Likelihood"
      ]
    },
    {
      "cell_type": "markdown",
      "metadata": {
        "id": "ITp4c1ft1GB3"
      },
      "source": [
        "When we calculated the loss for our MNIST example in the last chapter we used:\n",
        "\n",
        "```python\n",
        "def mnist_loss(inputs, targets):\n",
        "    inputs = inputs.sigmoid()\n",
        "    return torch.where(targets==1, 1-inputs, inputs).mean()\n",
        "```\n",
        "\n",
        "Just as we moved from sigmoid to softmax, we need to extend the loss function to work with more than just binary classification—it needs to be able to classify any number of categories (in this case, we have 37 categories). Our activations, after softmax, are between 0 and 1, and sum to 1 for each row in the batch of predictions. Our targets are integers between 0 and 36.  Furthermore, cross-entropy loss generalizes our binary classification loss and allows for more than one correct label per example (which is called multi-label classificaiton, which we will discuss in Chapter 6).\n",
        "\n",
        "In the binary case, we used `torch.where` to select between `inputs` and `1-inputs`. When we treat a binary classification as a general classification problem with two categories, it actually becomes even easier, because (as we saw in the previous section) we now have two columns, containing the equivalent of `inputs` and `1-inputs`. Since there is only one correct label per example, all we need to do is select the appropriate column (as opposed to multiplying multiple probabilities). Let's try to implement this in PyTorch. For our synthetic 3s and 7s example, let's say these are our labels:"
      ]
    },
    {
      "cell_type": "code",
      "execution_count": 27,
      "metadata": {
        "id": "beagbxgI1GB3"
      },
      "outputs": [],
      "source": [
        "targ = tensor([0,1,0,1,1,0])"
      ]
    },
    {
      "cell_type": "markdown",
      "metadata": {
        "id": "9D0H9xfb1GB3"
      },
      "source": [
        "and these are the softmax activations:"
      ]
    },
    {
      "cell_type": "code",
      "execution_count": 28,
      "metadata": {
        "id": "-ElR80OX1GB4",
        "outputId": "e1e0565f-ae66-422c-b345-bd6ca70e536a",
        "colab": {
          "base_uri": "https://localhost:8080/"
        }
      },
      "outputs": [
        {
          "output_type": "execute_result",
          "data": {
            "text/plain": [
              "tensor([[0.6025, 0.3975],\n",
              "        [0.5021, 0.4979],\n",
              "        [0.1332, 0.8668],\n",
              "        [0.9966, 0.0034],\n",
              "        [0.5959, 0.4041],\n",
              "        [0.3661, 0.6339]])"
            ]
          },
          "metadata": {},
          "execution_count": 28
        }
      ],
      "source": [
        "sm_acts"
      ]
    },
    {
      "cell_type": "markdown",
      "metadata": {
        "id": "0Za-pXEX1GB4"
      },
      "source": [
        "Then for each item of `targ` we can use that to select the appropriate column of `sm_acts` using tensor indexing, like so:"
      ]
    },
    {
      "cell_type": "code",
      "execution_count": 29,
      "metadata": {
        "id": "9KM-WLwY1GB4",
        "outputId": "11747b2d-fd69-44ba-aa99-d8393bf04a8f",
        "colab": {
          "base_uri": "https://localhost:8080/"
        }
      },
      "outputs": [
        {
          "output_type": "execute_result",
          "data": {
            "text/plain": [
              "tensor([0.6025, 0.4979, 0.1332, 0.0034, 0.4041, 0.3661])"
            ]
          },
          "metadata": {},
          "execution_count": 29
        }
      ],
      "source": [
        "idx = range(6)\n",
        "sm_acts[idx, targ]"
      ]
    },
    {
      "cell_type": "markdown",
      "metadata": {
        "id": "8DUT6xwB1GB4"
      },
      "source": [
        "To see exactly what's happening here, let's put all the columns together in a table. Here, the first two columns are our activations, then we have the targets and the row index.  We explain the last column, `result` below:"
      ]
    },
    {
      "cell_type": "code",
      "execution_count": 30,
      "metadata": {
        "id": "idRRMTDO1GB4",
        "outputId": "8ba8069f-d7a9-4238-b382-b72a032c3eab",
        "colab": {
          "base_uri": "https://localhost:8080/",
          "height": 169
        }
      },
      "outputs": [
        {
          "output_type": "display_data",
          "data": {
            "text/plain": [
              "<IPython.core.display.HTML object>"
            ],
            "text/html": [
              "\n",
              "<table >\n",
              "  <thead>\n",
              "    <tr>\n",
              "      <th class=\"col_heading level0 col0\" >3</th>\n",
              "      <th class=\"col_heading level0 col1\" >7</th>\n",
              "      <th class=\"col_heading level0 col2\" >targ</th>\n",
              "      <th class=\"col_heading level0 col3\" >idx</th>\n",
              "      <th class=\"col_heading level0 col4\" >result</th>\n",
              "    </tr>\n",
              "  </thead>\n",
              "  <tbody>\n",
              "    <tr>\n",
              "      <td id=\"T_d0b27_row0_col0\" class=\"data row0 col0\" >0.602469</td>\n",
              "      <td id=\"T_d0b27_row0_col1\" class=\"data row0 col1\" >0.397531</td>\n",
              "      <td id=\"T_d0b27_row0_col2\" class=\"data row0 col2\" >0</td>\n",
              "      <td id=\"T_d0b27_row0_col3\" class=\"data row0 col3\" >0</td>\n",
              "      <td id=\"T_d0b27_row0_col4\" class=\"data row0 col4\" >0.602469</td>\n",
              "    </tr>\n",
              "    <tr>\n",
              "      <td id=\"T_d0b27_row1_col0\" class=\"data row1 col0\" >0.502065</td>\n",
              "      <td id=\"T_d0b27_row1_col1\" class=\"data row1 col1\" >0.497935</td>\n",
              "      <td id=\"T_d0b27_row1_col2\" class=\"data row1 col2\" >1</td>\n",
              "      <td id=\"T_d0b27_row1_col3\" class=\"data row1 col3\" >1</td>\n",
              "      <td id=\"T_d0b27_row1_col4\" class=\"data row1 col4\" >0.497935</td>\n",
              "    </tr>\n",
              "    <tr>\n",
              "      <td id=\"T_d0b27_row2_col0\" class=\"data row2 col0\" >0.133188</td>\n",
              "      <td id=\"T_d0b27_row2_col1\" class=\"data row2 col1\" >0.866811</td>\n",
              "      <td id=\"T_d0b27_row2_col2\" class=\"data row2 col2\" >0</td>\n",
              "      <td id=\"T_d0b27_row2_col3\" class=\"data row2 col3\" >2</td>\n",
              "      <td id=\"T_d0b27_row2_col4\" class=\"data row2 col4\" >0.133188</td>\n",
              "    </tr>\n",
              "    <tr>\n",
              "      <td id=\"T_d0b27_row3_col0\" class=\"data row3 col0\" >0.996640</td>\n",
              "      <td id=\"T_d0b27_row3_col1\" class=\"data row3 col1\" >0.003360</td>\n",
              "      <td id=\"T_d0b27_row3_col2\" class=\"data row3 col2\" >1</td>\n",
              "      <td id=\"T_d0b27_row3_col3\" class=\"data row3 col3\" >3</td>\n",
              "      <td id=\"T_d0b27_row3_col4\" class=\"data row3 col4\" >0.003360</td>\n",
              "    </tr>\n",
              "    <tr>\n",
              "      <td id=\"T_d0b27_row4_col0\" class=\"data row4 col0\" >0.595949</td>\n",
              "      <td id=\"T_d0b27_row4_col1\" class=\"data row4 col1\" >0.404051</td>\n",
              "      <td id=\"T_d0b27_row4_col2\" class=\"data row4 col2\" >1</td>\n",
              "      <td id=\"T_d0b27_row4_col3\" class=\"data row4 col3\" >4</td>\n",
              "      <td id=\"T_d0b27_row4_col4\" class=\"data row4 col4\" >0.404051</td>\n",
              "    </tr>\n",
              "    <tr>\n",
              "      <td id=\"T_d0b27_row5_col0\" class=\"data row5 col0\" >0.366118</td>\n",
              "      <td id=\"T_d0b27_row5_col1\" class=\"data row5 col1\" >0.633882</td>\n",
              "      <td id=\"T_d0b27_row5_col2\" class=\"data row5 col2\" >0</td>\n",
              "      <td id=\"T_d0b27_row5_col3\" class=\"data row5 col3\" >5</td>\n",
              "      <td id=\"T_d0b27_row5_col4\" class=\"data row5 col4\" >0.366118</td>\n",
              "    </tr>\n",
              "  </tbody>\n",
              "</table>\n"
            ]
          },
          "metadata": {}
        }
      ],
      "source": [
        "#hide_input\n",
        "from IPython.display import HTML\n",
        "df = pd.DataFrame(sm_acts, columns=[\"3\",\"7\"])\n",
        "df['targ'] = targ\n",
        "df['idx'] = idx\n",
        "df['result'] = sm_acts[range(6), targ]\n",
        "t = df.style.hide_index()\n",
        "#To have html code compatible with our script\n",
        "html = t._repr_html_().split('</style>')[1]\n",
        "html = re.sub(r'<table id=\"([^\"]+)\"\\s*>', r'<table >', html)\n",
        "display(HTML(html))"
      ]
    },
    {
      "cell_type": "markdown",
      "metadata": {
        "id": "onVrPYMq1GB4"
      },
      "source": [
        "Looking at this table, you can see that the `result` column can be calculated by taking the `targ` and `idx` columns as indices into the two-column matrix containing the `3` and `7` columns. That's what `sm_acts[idx, targ]` is actually doing.  The really interesting thing here is that this actually works just as well with more than two columns. To see this, consider what would happen if we added an activation column for every digit (0 through 9), and then `targ` contained a number from 0 to 9."
      ]
    },
    {
      "cell_type": "markdown",
      "metadata": {
        "id": "FWuKKi6-1GB4"
      },
      "source": [
        "PyTorch provides a function that does exactly the same thing as `sm_acts[range(n), targ]` (except it takes the negative, because when applying the log afterward, we will have negative numbers), called `nll_loss` (*NLL* stands for *negative log likelihood*):"
      ]
    },
    {
      "cell_type": "code",
      "execution_count": 31,
      "metadata": {
        "id": "u4WF5IAD1GB5",
        "outputId": "43995f3c-d125-45ea-a012-19dfedbf37ce",
        "colab": {
          "base_uri": "https://localhost:8080/"
        }
      },
      "outputs": [
        {
          "output_type": "execute_result",
          "data": {
            "text/plain": [
              "tensor([-0.6025, -0.4979, -0.1332, -0.0034, -0.4041, -0.3661])"
            ]
          },
          "metadata": {},
          "execution_count": 31
        }
      ],
      "source": [
        "-sm_acts[idx, targ]"
      ]
    },
    {
      "cell_type": "code",
      "execution_count": 32,
      "metadata": {
        "id": "wKIDUIO11GB5",
        "outputId": "417aecb6-df70-42cb-e5ec-d9c43365936b",
        "colab": {
          "base_uri": "https://localhost:8080/"
        }
      },
      "outputs": [
        {
          "output_type": "execute_result",
          "data": {
            "text/plain": [
              "tensor([-0.6025, -0.4979, -0.1332, -0.0034, -0.4041, -0.3661])"
            ]
          },
          "metadata": {},
          "execution_count": 32
        }
      ],
      "source": [
        "F.nll_loss(sm_acts, targ, reduction='none')"
      ]
    },
    {
      "cell_type": "markdown",
      "metadata": {
        "id": "chJZhdnJ1GB5"
      },
      "source": [
        "Despite its name, this PyTorch function does not take the log. We'll see why in the next section, but first, let's see why taking the logarithm can be useful."
      ]
    },
    {
      "cell_type": "markdown",
      "metadata": {
        "id": "_Niwz_A_1GB5"
      },
      "source": [
        "> warning: Confusing Name, Beware: The nll in `nll_loss` stands for \"negative log likelihood,\" but it doesn't actually take the log at all! It assumes you have _already_ taken the log. PyTorch has a function called `log_softmax` that combines `log` and `softmax` in a fast and accurate way. `nll_loss` is designed to be used after `log_softmax`."
      ]
    },
    {
      "cell_type": "markdown",
      "metadata": {
        "id": "NvbIXdDF1GB5"
      },
      "source": [
        "#### Taking the Log\n",
        "\n",
        "Recall that cross entropy loss may involve the multiplication of many numbers.  Multiplying lots of negative numbers together can cause problems like [numerical underflow](https://en.wikipedia.org/wiki/Arithmetic_underflow) in computers.  Therefore, we want to transform these probabilities to larger values so we can perform mathematical operations on them.  There is a mathematical function that does exactly this: the *logarithm* (available as `torch.log`). It is not defined for numbers less than 0, and looks like this between 0 and 1:"
      ]
    },
    {
      "cell_type": "code",
      "execution_count": 33,
      "metadata": {
        "id": "qK1lGioA1GB5",
        "outputId": "60e2cb87-d43f-4488-d7f1-151b01f065ae",
        "colab": {
          "base_uri": "https://localhost:8080/",
          "height": 279
        }
      },
      "outputs": [
        {
          "output_type": "display_data",
          "data": {
            "text/plain": [
              "<Figure size 432x288 with 1 Axes>"
            ],
            "image/png": "[encoded data removed]"
          },
          "metadata": {
            "needs_background": "light"
          }
        }
      ],
      "source": [
        "plot_function(torch.log, min=0,max=1, ty='log(x)', tx='x')"
      ]
    },
    {
      "cell_type": "markdown",
      "metadata": {
        "id": "4gE6eABs1GB5"
      },
      "source": [
        "Additionally, we want to ensure our model is able to detect differences between small numbers.  For example, consider the probabilities of .01 and .001.  Indeed, those numbers are very close together—but in another sense, 0.01 is 10 times more confident than 0.001.  By taking the log of our probabilities, we prevent these important differences from being ignored."
      ]
    },
    {
      "cell_type": "markdown",
      "metadata": {
        "id": "0lub8Z2x1GB6"
      },
      "source": [
        "Does \"logarithm\" ring a bell? The logarithm function has this identity:\n",
        "\n",
        "```\n",
        "y = b**a\n",
        "a = log(y,b)\n",
        "```\n",
        "\n",
        "In this case, we're assuming that `log(y,b)` returns *log y base b*. However, PyTorch actually doesn't define `log` this way: `log` in Python uses the special number `e` (2.718...) as the base.\n",
        "\n",
        "Perhaps a logarithm is something that you have not thought about for the last 20 years or so. But it's a mathematical idea that is going to be really critical for many things in deep learning, so now would be a great time to refresh your memory. The key thing to know about logarithms is this relationship:\n",
        "\n",
        "    log(a*b) = log(a)+log(b)\n",
        "\n",
        "When we see it in that format, it looks a bit boring; but think about what this really means. It means that logarithms increase linearly when the underlying signal increases exponentially or multiplicatively. This is used, for instance, in the Richter scale of earthquake severity, and the dB scale of noise levels. It's also often used on financial charts, where we want to show compound growth rates more clearly. Computer scientists love using logarithms, because it means that multiplication, which can create really really large and really really small numbers, can be replaced by addition, which is much less likely to result in scales that are difficult for our computers to handle.\n",
        "\n",
        "Observe that the log of a number approaches negative infinity as the number approaches zero.  In our case, since the result relfects the predicted probability of the correct label, we want our loss function to return a small value when the prediction is \"good\" (closer to 1) and a large value when the prediction is \"bad\" (closer to 0).  We can achieve this by taking the negative of the log:"
      ]
    },
    {
      "cell_type": "code",
      "execution_count": 34,
      "metadata": {
        "id": "GGGyO-W71GB6",
        "outputId": "e5af4684-cf9c-4424-80df-6eff1c25d72a",
        "colab": {
          "base_uri": "https://localhost:8080/",
          "height": 295
        }
      },
      "outputs": [
        {
          "output_type": "display_data",
          "data": {
            "text/plain": [
              "<Figure size 432x288 with 1 Axes>"
            ],
            "image/png": "[encoded data removed]"
          },
          "metadata": {
            "needs_background": "light"
          }
        }
      ],
      "source": [
        "plot_function(lambda x: -1*torch.log(x), min=0,max=1, tx='x', ty='- log(x)', title = 'Log Loss when true label = 1')"
      ]
    },
    {
      "cell_type": "markdown",
      "metadata": {
        "id": "1O3bNq6c1GB6"
      },
      "source": [
        "> s: It's not just computer scientists that love logs! Until computers came along, engineers and scientists used a special ruler called a \"slide rule\" that did multiplication by adding logarithms. Logarithms are widely used in physics, for multiplying very big or very small numbers, and many other fields."
      ]
    },
    {
      "cell_type": "markdown",
      "metadata": {
        "id": "Zkg1tE8s1GB6"
      },
      "source": [
        "Let's go ahead and update our previous table with an additional column, `loss` to reflect this loss function:"
      ]
    },
    {
      "cell_type": "code",
      "execution_count": 35,
      "metadata": {
        "id": "89PUHRkQ1GB7",
        "outputId": "27585034-34b9-40c0-9c75-bf73a493af85",
        "colab": {
          "base_uri": "https://localhost:8080/",
          "height": 169
        }
      },
      "outputs": [
        {
          "output_type": "display_data",
          "data": {
            "text/plain": [
              "<IPython.core.display.HTML object>"
            ],
            "text/html": [
              "\n",
              "<table >\n",
              "  <thead>\n",
              "    <tr>\n",
              "      <th class=\"col_heading level0 col0\" >3</th>\n",
              "      <th class=\"col_heading level0 col1\" >7</th>\n",
              "      <th class=\"col_heading level0 col2\" >targ</th>\n",
              "      <th class=\"col_heading level0 col3\" >idx</th>\n",
              "      <th class=\"col_heading level0 col4\" >result</th>\n",
              "      <th class=\"col_heading level0 col5\" >loss</th>\n",
              "    </tr>\n",
              "  </thead>\n",
              "  <tbody>\n",
              "    <tr>\n",
              "      <td id=\"T_9c03b_row0_col0\" class=\"data row0 col0\" >0.602469</td>\n",
              "      <td id=\"T_9c03b_row0_col1\" class=\"data row0 col1\" >0.397531</td>\n",
              "      <td id=\"T_9c03b_row0_col2\" class=\"data row0 col2\" >0</td>\n",
              "      <td id=\"T_9c03b_row0_col3\" class=\"data row0 col3\" >0</td>\n",
              "      <td id=\"T_9c03b_row0_col4\" class=\"data row0 col4\" >0.602469</td>\n",
              "      <td id=\"T_9c03b_row0_col5\" class=\"data row0 col5\" >0.506720</td>\n",
              "    </tr>\n",
              "    <tr>\n",
              "      <td id=\"T_9c03b_row1_col0\" class=\"data row1 col0\" >0.502065</td>\n",
              "      <td id=\"T_9c03b_row1_col1\" class=\"data row1 col1\" >0.497935</td>\n",
              "      <td id=\"T_9c03b_row1_col2\" class=\"data row1 col2\" >1</td>\n",
              "      <td id=\"T_9c03b_row1_col3\" class=\"data row1 col3\" >1</td>\n",
              "      <td id=\"T_9c03b_row1_col4\" class=\"data row1 col4\" >0.497935</td>\n",
              "      <td id=\"T_9c03b_row1_col5\" class=\"data row1 col5\" >0.697285</td>\n",
              "    </tr>\n",
              "    <tr>\n",
              "      <td id=\"T_9c03b_row2_col0\" class=\"data row2 col0\" >0.133188</td>\n",
              "      <td id=\"T_9c03b_row2_col1\" class=\"data row2 col1\" >0.866811</td>\n",
              "      <td id=\"T_9c03b_row2_col2\" class=\"data row2 col2\" >0</td>\n",
              "      <td id=\"T_9c03b_row2_col3\" class=\"data row2 col3\" >2</td>\n",
              "      <td id=\"T_9c03b_row2_col4\" class=\"data row2 col4\" >0.133188</td>\n",
              "      <td id=\"T_9c03b_row2_col5\" class=\"data row2 col5\" >2.015990</td>\n",
              "    </tr>\n",
              "    <tr>\n",
              "      <td id=\"T_9c03b_row3_col0\" class=\"data row3 col0\" >0.996640</td>\n",
              "      <td id=\"T_9c03b_row3_col1\" class=\"data row3 col1\" >0.003360</td>\n",
              "      <td id=\"T_9c03b_row3_col2\" class=\"data row3 col2\" >1</td>\n",
              "      <td id=\"T_9c03b_row3_col3\" class=\"data row3 col3\" >3</td>\n",
              "      <td id=\"T_9c03b_row3_col4\" class=\"data row3 col4\" >0.003360</td>\n",
              "      <td id=\"T_9c03b_row3_col5\" class=\"data row3 col5\" >5.695763</td>\n",
              "    </tr>\n",
              "    <tr>\n",
              "      <td id=\"T_9c03b_row4_col0\" class=\"data row4 col0\" >0.595949</td>\n",
              "      <td id=\"T_9c03b_row4_col1\" class=\"data row4 col1\" >0.404051</td>\n",
              "      <td id=\"T_9c03b_row4_col2\" class=\"data row4 col2\" >1</td>\n",
              "      <td id=\"T_9c03b_row4_col3\" class=\"data row4 col3\" >4</td>\n",
              "      <td id=\"T_9c03b_row4_col4\" class=\"data row4 col4\" >0.404051</td>\n",
              "      <td id=\"T_9c03b_row4_col5\" class=\"data row4 col5\" >0.906213</td>\n",
              "    </tr>\n",
              "    <tr>\n",
              "      <td id=\"T_9c03b_row5_col0\" class=\"data row5 col0\" >0.366118</td>\n",
              "      <td id=\"T_9c03b_row5_col1\" class=\"data row5 col1\" >0.633882</td>\n",
              "      <td id=\"T_9c03b_row5_col2\" class=\"data row5 col2\" >0</td>\n",
              "      <td id=\"T_9c03b_row5_col3\" class=\"data row5 col3\" >5</td>\n",
              "      <td id=\"T_9c03b_row5_col4\" class=\"data row5 col4\" >0.366118</td>\n",
              "      <td id=\"T_9c03b_row5_col5\" class=\"data row5 col5\" >1.004798</td>\n",
              "    </tr>\n",
              "  </tbody>\n",
              "</table>\n"
            ]
          },
          "metadata": {}
        }
      ],
      "source": [
        "#hide_input\n",
        "from IPython.display import HTML\n",
        "df['loss'] = -torch.log(tensor(df['result']))\n",
        "t = df.style.hide_index()\n",
        "#To have html code compatible with our script\n",
        "html = t._repr_html_().split('</style>')[1]\n",
        "html = re.sub(r'<table id=\"([^\"]+)\"\\s*>', r'<table >', html)\n",
        "display(HTML(html))"
      ]
    },
    {
      "cell_type": "markdown",
      "metadata": {
        "id": "qU-EsbEZ1GB7"
      },
      "source": [
        "Notice how the loss is very large in the third and fourth rows where the predictions are confident and wrong, or in other words have high probabilities on the wrong class.  One benefit of using the log to calculate the loss is that our loss function penalizes predictions that are both confident and wrong.  This kind of penalty works well in practice to aid in more effective model training.  \n",
        "\n",
        "> s: There are other loss functions such as [focal loss](https://arxiv.org/pdf/1708.02002.pdf) that allow you control this penalty with a parameter.  We do not discuss that loss function in this book."
      ]
    },
    {
      "cell_type": "markdown",
      "metadata": {
        "id": "zSXxXY3r1GB7"
      },
      "source": [
        "We're calculating the loss from the column containing the correct label. Because there is only one \"right\" answer per example, we don't need to consider the other columns, because by the definition of softmax, they add up to 1 minus the activation corresponding to the correct label. As long as the activation columns sum to 1 (as they will, if we use softmax), then we'll have a loss function that shows how well we're predicting each digit.  Therefore, making the activation for the correct label as high as possible must mean we're also decreasing the activations of the remaining columns.  "
      ]
    },
    {
      "cell_type": "markdown",
      "metadata": {
        "id": "yhx3Jwh-1GB7"
      },
      "source": [
        "### Negative Log Likelihood"
      ]
    },
    {
      "cell_type": "markdown",
      "metadata": {
        "id": "-IMU8-5B1GB8"
      },
      "source": [
        "Taking the mean of the negative log of our probabilities (taking the mean of the `loss` column of our table) gives us the *negative log likelihood* loss, which is another name for cross-entropy loss. Recall that PyTorch's `nll_loss` assumes that you already took the log of the softmax, so it doesn't actually do the logarithm for you."
      ]
    },
    {
      "cell_type": "markdown",
      "metadata": {
        "id": "3whkCRVB1GB8"
      },
      "source": [
        "When we first take the softmax, and then the log likelihood of that, that combination is called *cross-entropy loss*. In PyTorch, this is available as `nn.CrossEntropyLoss` (which, in practice, actually does `log_softmax` and then `nll_loss`):"
      ]
    },
    {
      "cell_type": "code",
      "execution_count": 36,
      "metadata": {
        "id": "rMELXRa41GB8"
      },
      "outputs": [],
      "source": [
        "loss_func = nn.CrossEntropyLoss()"
      ]
    },
    {
      "cell_type": "markdown",
      "metadata": {
        "id": "0xsusCwK1GB8"
      },
      "source": [
        "As you see, this is a class. Instantiating it gives you an object which behaves like a function:"
      ]
    },
    {
      "cell_type": "code",
      "execution_count": 37,
      "metadata": {
        "id": "Tu-3Dges1GB8",
        "outputId": "da5cdb38-c330-44a0-f33a-76e544c6c4ca",
        "colab": {
          "base_uri": "https://localhost:8080/"
        }
      },
      "outputs": [
        {
          "output_type": "execute_result",
          "data": {
            "text/plain": [
              "tensor(1.8045)"
            ]
          },
          "metadata": {},
          "execution_count": 37
        }
      ],
      "source": [
        "loss_func(acts, targ)"
      ]
    },
    {
      "cell_type": "markdown",
      "metadata": {
        "id": "LPQN5Yq81GB8"
      },
      "source": [
        "All PyTorch loss functions are provided in two forms, the class just shown above, and also a plain functional form, available in the `F` namespace:"
      ]
    },
    {
      "cell_type": "code",
      "execution_count": 38,
      "metadata": {
        "id": "36Cbh-LM1GB8",
        "outputId": "485ed9ad-1b94-4850-f674-03dc4b575990",
        "colab": {
          "base_uri": "https://localhost:8080/"
        }
      },
      "outputs": [
        {
          "output_type": "execute_result",
          "data": {
            "text/plain": [
              "tensor(1.8045)"
            ]
          },
          "metadata": {},
          "execution_count": 38
        }
      ],
      "source": [
        "F.cross_entropy(acts, targ)"
      ]
    },
    {
      "cell_type": "markdown",
      "metadata": {
        "id": "PfvUDkNT1GB9"
      },
      "source": [
        "Either one works fine and can be used in any situation. We've noticed that most people tend to use the class version, and that's more often used in PyTorch's official docs and examples, so we'll tend to use that too.\n",
        "\n",
        "By default PyTorch loss functions take the mean of the loss of all items. You can use `reduction='none'` to disable that:"
      ]
    },
    {
      "cell_type": "code",
      "execution_count": 39,
      "metadata": {
        "id": "xiqpn6yO1GB9",
        "outputId": "95cd7ffd-b0f1-4f1d-d725-2ef402f5ba8d",
        "colab": {
          "base_uri": "https://localhost:8080/"
        }
      },
      "outputs": [
        {
          "output_type": "execute_result",
          "data": {
            "text/plain": [
              "tensor([0.5067, 0.6973, 2.0160, 5.6958, 0.9062, 1.0048])"
            ]
          },
          "metadata": {},
          "execution_count": 39
        }
      ],
      "source": [
        "nn.CrossEntropyLoss(reduction='none')(acts, targ)"
      ]
    },
    {
      "cell_type": "markdown",
      "metadata": {
        "id": "5iaKuHOU1GB9"
      },
      "source": [
        "You will notice these values match the `loss` column in our table exactly."
      ]
    },
    {
      "cell_type": "markdown",
      "metadata": {
        "id": "TUiXgfnz1GB9"
      },
      "source": [
        "> s: An interesting feature about cross-entropy loss appears when we consider its gradient. The gradient of `cross_entropy(a,b)` is just `softmax(a)-b`. Since `softmax(a)` is just the final activation of the model, that means that the gradient is proportional to the difference between the prediction and the target. This is the same as mean squared error in regression (assuming there's no final activation function such as that added by `y_range`), since the gradient of `(a-b)**2` is `2*(a-b)`. Because the gradient is linear, that means we won't see sudden jumps or exponential increases in gradients, which should lead to smoother training of models."
      ]
    },
    {
      "cell_type": "markdown",
      "metadata": {
        "id": "Oo-ghtVD1GB9"
      },
      "source": [
        "We have now seen all the pieces hidden behind our loss function. But while this puts a number on how well (or badly) our model is doing, it does nothing to help us know if it's actually any good. Let's now see some ways to interpret our model's predictions."
      ]
    },
    {
      "cell_type": "markdown",
      "metadata": {
        "id": "1ADLK1Z01GB9"
      },
      "source": [
        "## Model Interpretation"
      ]
    },
    {
      "cell_type": "markdown",
      "metadata": {
        "id": "23eO52om1GB-"
      },
      "source": [
        "It's very hard to interpret loss functions directly, because they are designed to be things computers can differentiate and optimize, not things that people can understand. That's why we have metrics. These are not used in the optimization process, but just to help us poor humans understand what's going on. In this case, our accuracy is looking pretty good already! So where are we making mistakes?\n",
        "\n",
        "We saw in <<chapter_intro>> that we can use a confusion matrix to see where our model is doing well, and where it's doing badly:"
      ]
    },
    {
      "cell_type": "code",
      "execution_count": 40,
      "metadata": {
        "id": "EGG4Fcmo1GB-",
        "outputId": "270bb318-b6a1-4916-c8c4-3bc4ce4439f7",
        "colab": {
          "base_uri": "https://localhost:8080/",
          "height": 719
        }
      },
      "outputs": [
        {
          "output_type": "display_data",
          "data": {
            "text/plain": [
              "<IPython.core.display.HTML object>"
            ],
            "text/html": [
              "\n",
              "<style>\n",
              "    /* Turns off some styling */\n",
              "    progress {\n",
              "        /* gets rid of default border in Firefox and Opera. */\n",
              "        border: none;\n",
              "        /* Needs to be in here for Safari polyfill so background images work as expected. */\n",
              "        background-size: auto;\n",
              "    }\n",
              "    .progress-bar-interrupted, .progress-bar-interrupted::-webkit-progress-bar {\n",
              "        background: #F44336;\n",
              "    }\n",
              "</style>\n"
            ]
          },
          "metadata": {}
        },
        {
          "output_type": "display_data",
          "data": {
            "text/plain": [
              "<IPython.core.display.HTML object>"
            ],
            "text/html": [
              ""
            ]
          },
          "metadata": {}
        },
        {
          "output_type": "display_data",
          "data": {
            "text/plain": [
              "<IPython.core.display.HTML object>"
            ],
            "text/html": [
              "\n",
              "<style>\n",
              "    /* Turns off some styling */\n",
              "    progress {\n",
              "        /* gets rid of default border in Firefox and Opera. */\n",
              "        border: none;\n",
              "        /* Needs to be in here for Safari polyfill so background images work as expected. */\n",
              "        background-size: auto;\n",
              "    }\n",
              "    .progress-bar-interrupted, .progress-bar-interrupted::-webkit-progress-bar {\n",
              "        background: #F44336;\n",
              "    }\n",
              "</style>\n"
            ]
          },
          "metadata": {}
        },
        {
          "output_type": "display_data",
          "data": {
            "text/plain": [
              "<IPython.core.display.HTML object>"
            ],
            "text/html": [
              ""
            ]
          },
          "metadata": {}
        },
        {
          "output_type": "display_data",
          "data": {
            "text/plain": [
              "<Figure size 720x720 with 1 Axes>"
            ],
            "image/png": "[encoded data removed]"
          },
          "metadata": {
            "needs_background": "light"
          }
        }
      ],
      "source": [
        "#width 600\n",
        "interp = ClassificationInterpretation.from_learner(learn)\n",
        "interp.plot_confusion_matrix(figsize=(12,12), dpi=60)"
      ]
    },
    {
      "cell_type": "markdown",
      "metadata": {
        "id": "eqbDU-Q61GB-"
      },
      "source": [
        "Oh dear—in this case, a confusion matrix is very hard to read. We have 37 different breeds of pet, which means we have 37×37 entries in this giant matrix! Instead, we can use the `most_confused` method, which just shows us the cells of the confusion matrix with the most incorrect predictions (here, with at least 5 or more):"
      ]
    },
    {
      "cell_type": "code",
      "execution_count": 41,
      "metadata": {
        "id": "cKKWjR6R1GB-",
        "outputId": "50f95037-5cab-465b-87f1-46a68feb72c2",
        "colab": {
          "base_uri": "https://localhost:8080/",
          "height": 69
        }
      },
      "outputs": [
        {
          "output_type": "display_data",
          "data": {
            "text/plain": [
              "<IPython.core.display.HTML object>"
            ],
            "text/html": [
              "\n",
              "<style>\n",
              "    /* Turns off some styling */\n",
              "    progress {\n",
              "        /* gets rid of default border in Firefox and Opera. */\n",
              "        border: none;\n",
              "        /* Needs to be in here for Safari polyfill so background images work as expected. */\n",
              "        background-size: auto;\n",
              "    }\n",
              "    .progress-bar-interrupted, .progress-bar-interrupted::-webkit-progress-bar {\n",
              "        background: #F44336;\n",
              "    }\n",
              "</style>\n"
            ]
          },
          "metadata": {}
        },
        {
          "output_type": "display_data",
          "data": {
            "text/plain": [
              "<IPython.core.display.HTML object>"
            ],
            "text/html": [
              ""
            ]
          },
          "metadata": {}
        },
        {
          "output_type": "execute_result",
          "data": {
            "text/plain": [
              "[('British_Shorthair', 'Russian_Blue', 7),\n",
              " ('Ragdoll', 'Birman', 7),\n",
              " ('staffordshire_bull_terrier', 'american_pit_bull_terrier', 7)]"
            ]
          },
          "metadata": {},
          "execution_count": 41
        }
      ],
      "source": [
        "interp.most_confused(min_val=5)"
      ]
    },
    {
      "cell_type": "markdown",
      "metadata": {
        "id": "eiphLd_g1GB-"
      },
      "source": [
        "Since we are not pet breed experts, it is hard for us to know whether these category errors reflect actual difficulties in recognizing breeds. So again, we turn to Google. A little bit of Googling tells us that the most common category errors shown here are actually breed differences that even expert breeders sometimes disagree about. So this gives us some comfort that we are on the right track.\n",
        "\n",
        "We seem to have a good baseline. What can we do now to make it even better?"
      ]
    },
    {
      "cell_type": "markdown",
      "metadata": {
        "id": "2YD3Jtob1GB-"
      },
      "source": [
        "## Improving Our Model"
      ]
    },
    {
      "cell_type": "markdown",
      "metadata": {
        "id": "5pkzGyF71GB-"
      },
      "source": [
        "We will now look at a range of techniques to improve the training of our model and make it better. While doing so, we will explain a little bit more about transfer learning and how to fine-tune our pretrained model as best as possible, without breaking the pretrained weights.\n",
        "\n",
        "The first thing we need to set when training a model is the learning rate. We saw in the previous chapter that it needs to be just right to train as efficiently as possible, so how do we pick a good one? fastai provides a tool for this."
      ]
    },
    {
      "cell_type": "markdown",
      "metadata": {
        "id": "CBxW9a4y1GB-"
      },
      "source": [
        "### The Learning Rate Finder"
      ]
    },
    {
      "cell_type": "markdown",
      "metadata": {
        "id": "0x066wbv1GB_"
      },
      "source": [
        "One of the most important things we can do when training a model is to make sure that we have the right learning rate. If our learning rate is too low, it can take many, many epochs to train our model. Not only does this waste time, but it also means that we may have problems with overfitting, because every time we do a complete pass through the data, we give our model a chance to memorize it.\n",
        "\n",
        "So let's just make our learning rate really high, right? Sure, let's try that and see what happens:"
      ]
    },
    {
      "cell_type": "code",
      "execution_count": 42,
      "metadata": {
        "id": "GeZ39SVu1GB_",
        "outputId": "f7246907-4cec-4c58-e5fd-9875dc9fd365",
        "colab": {
          "base_uri": "https://localhost:8080/",
          "height": 144
        }
      },
      "outputs": [
        {
          "output_type": "display_data",
          "data": {
            "text/plain": [
              "<IPython.core.display.HTML object>"
            ],
            "text/html": [
              "\n",
              "<style>\n",
              "    /* Turns off some styling */\n",
              "    progress {\n",
              "        /* gets rid of default border in Firefox and Opera. */\n",
              "        border: none;\n",
              "        /* Needs to be in here for Safari polyfill so background images work as expected. */\n",
              "        background-size: auto;\n",
              "    }\n",
              "    .progress-bar-interrupted, .progress-bar-interrupted::-webkit-progress-bar {\n",
              "        background: #F44336;\n",
              "    }\n",
              "</style>\n"
            ]
          },
          "metadata": {}
        },
        {
          "output_type": "display_data",
          "data": {
            "text/plain": [
              "<IPython.core.display.HTML object>"
            ],
            "text/html": [
              "<table border=\"1\" class=\"dataframe\">\n",
              "  <thead>\n",
              "    <tr style=\"text-align: left;\">\n",
              "      <th>epoch</th>\n",
              "      <th>train_loss</th>\n",
              "      <th>valid_loss</th>\n",
              "      <th>error_rate</th>\n",
              "      <th>time</th>\n",
              "    </tr>\n",
              "  </thead>\n",
              "  <tbody>\n",
              "    <tr>\n",
              "      <td>0</td>\n",
              "      <td>2.578226</td>\n",
              "      <td>3.983787</td>\n",
              "      <td>0.464141</td>\n",
              "      <td>01:11</td>\n",
              "    </tr>\n",
              "  </tbody>\n",
              "</table>"
            ]
          },
          "metadata": {}
        },
        {
          "output_type": "display_data",
          "data": {
            "text/plain": [
              "<IPython.core.display.HTML object>"
            ],
            "text/html": [
              "\n",
              "<style>\n",
              "    /* Turns off some styling */\n",
              "    progress {\n",
              "        /* gets rid of default border in Firefox and Opera. */\n",
              "        border: none;\n",
              "        /* Needs to be in here for Safari polyfill so background images work as expected. */\n",
              "        background-size: auto;\n",
              "    }\n",
              "    .progress-bar-interrupted, .progress-bar-interrupted::-webkit-progress-bar {\n",
              "        background: #F44336;\n",
              "    }\n",
              "</style>\n"
            ]
          },
          "metadata": {}
        },
        {
          "output_type": "display_data",
          "data": {
            "text/plain": [
              "<IPython.core.display.HTML object>"
            ],
            "text/html": [
              "<table border=\"1\" class=\"dataframe\">\n",
              "  <thead>\n",
              "    <tr style=\"text-align: left;\">\n",
              "      <th>epoch</th>\n",
              "      <th>train_loss</th>\n",
              "      <th>valid_loss</th>\n",
              "      <th>error_rate</th>\n",
              "      <th>time</th>\n",
              "    </tr>\n",
              "  </thead>\n",
              "  <tbody>\n",
              "    <tr>\n",
              "      <td>0</td>\n",
              "      <td>3.272305</td>\n",
              "      <td>2.100904</td>\n",
              "      <td>0.612990</td>\n",
              "      <td>01:17</td>\n",
              "    </tr>\n",
              "  </tbody>\n",
              "</table>"
            ]
          },
          "metadata": {}
        }
      ],
      "source": [
        "learn = vision_learner(dls, resnet34, metrics=error_rate)\n",
        "learn.fine_tune(1, base_lr=0.1)"
      ]
    },
    {
      "cell_type": "markdown",
      "metadata": {
        "id": "_qxv28qf1GB_"
      },
      "source": [
        "That doesn't look good. Here's what happened. The optimizer stepped in the correct direction, but it stepped so far that it totally overshot the minimum loss. Repeating that multiple times makes it get further and further away, not closer and closer!\n",
        "\n",
        "What do we do to find the perfect learning rate—not too high, and not too low? In 2015 the researcher Leslie Smith came up with a brilliant idea, called the *learning rate finder*. His idea was to start with a very, very small learning rate, something so small that we would never expect it to be too big to handle. We use that for one mini-batch, find what the losses are afterwards, and then increase the learning rate by some percentage (e.g., doubling it each time). Then we do another mini-batch, track the loss, and double the learning rate again. We keep doing this until the loss gets worse, instead of better. This is the point where we know we have gone too far. We then select a learning rate a bit lower than this point. Our advice is to pick either:\n",
        "\n",
        "- One order of magnitude less than where the minimum loss was achieved (i.e., the minimum divided by 10)\n",
        "- The last point where the loss was clearly decreasing \n",
        "\n",
        "The learning rate finder computes those points on the curve to help you. Both these rules usually give around the same value. In the first chapter, we didn't specify a learning rate, using the default value from the fastai library (which is 1e-3):"
      ]
    },
    {
      "cell_type": "code",
      "execution_count": 43,
      "metadata": {
        "id": "dKKkpoa61GB_",
        "outputId": "0b1e0543-3499-4ef7-bd47-c03f4b2d6b5a",
        "colab": {
          "base_uri": "https://localhost:8080/",
          "height": 283
        }
      },
      "outputs": [
        {
          "output_type": "display_data",
          "data": {
            "text/plain": [
              "<IPython.core.display.HTML object>"
            ],
            "text/html": [
              "\n",
              "<style>\n",
              "    /* Turns off some styling */\n",
              "    progress {\n",
              "        /* gets rid of default border in Firefox and Opera. */\n",
              "        border: none;\n",
              "        /* Needs to be in here for Safari polyfill so background images work as expected. */\n",
              "        background-size: auto;\n",
              "    }\n",
              "    .progress-bar-interrupted, .progress-bar-interrupted::-webkit-progress-bar {\n",
              "        background: #F44336;\n",
              "    }\n",
              "</style>\n"
            ]
          },
          "metadata": {}
        },
        {
          "output_type": "display_data",
          "data": {
            "text/plain": [
              "<IPython.core.display.HTML object>"
            ],
            "text/html": [
              ""
            ]
          },
          "metadata": {}
        },
        {
          "output_type": "display_data",
          "data": {
            "text/plain": [
              "<Figure size 432x288 with 1 Axes>"
            ],
            "image/png": "[encoded data removed]"
          },
          "metadata": {
            "needs_background": "light"
          }
        }
      ],
      "source": [
        "learn = vision_learner(dls, resnet34, metrics=error_rate)\n",
        "lr_min,lr_steep = learn.lr_find(suggest_funcs=(minimum, steep))"
      ]
    },
    {
      "cell_type": "code",
      "execution_count": 44,
      "metadata": {
        "id": "Up3S9nxs1GB_",
        "outputId": "6488b54b-1d7e-462a-ea2c-25c2f4f0163f",
        "colab": {
          "base_uri": "https://localhost:8080/"
        }
      },
      "outputs": [
        {
          "output_type": "stream",
          "name": "stdout",
          "text": [
            "Minimum/10: 1.20e-02, steepest point: 4.37e-03\n"
          ]
        }
      ],
      "source": [
        "print(f\"Minimum/10: {lr_min:.2e}, steepest point: {lr_steep:.2e}\")"
      ]
    },
    {
      "cell_type": "markdown",
      "metadata": {
        "id": "4dLQuUah1GB_"
      },
      "source": [
        "We can see on this plot that in the range 1e-6 to 1e-3, nothing really happens and the model doesn't train. Then the loss starts to decrease until it reaches a minimum, and then increases again. We don't want a learning rate greater than 1e-1 as it will give a training that diverges like the one before (you can try for yourself), but 1e-1 is already too high: at this stage we've left the period where the loss was decreasing steadily.\n",
        "\n",
        "In this learning rate plot it appears that a learning rate around 3e-3 would be appropriate, so let's choose that:"
      ]
    },
    {
      "cell_type": "code",
      "execution_count": 45,
      "metadata": {
        "id": "wDPiUfvG1GCC",
        "outputId": "9a3a8ba6-813b-4121-9455-2b91d156481b",
        "colab": {
          "base_uri": "https://localhost:8080/",
          "height": 176
        }
      },
      "outputs": [
        {
          "output_type": "display_data",
          "data": {
            "text/plain": [
              "<IPython.core.display.HTML object>"
            ],
            "text/html": [
              "\n",
              "<style>\n",
              "    /* Turns off some styling */\n",
              "    progress {\n",
              "        /* gets rid of default border in Firefox and Opera. */\n",
              "        border: none;\n",
              "        /* Needs to be in here for Safari polyfill so background images work as expected. */\n",
              "        background-size: auto;\n",
              "    }\n",
              "    .progress-bar-interrupted, .progress-bar-interrupted::-webkit-progress-bar {\n",
              "        background: #F44336;\n",
              "    }\n",
              "</style>\n"
            ]
          },
          "metadata": {}
        },
        {
          "output_type": "display_data",
          "data": {
            "text/plain": [
              "<IPython.core.display.HTML object>"
            ],
            "text/html": [
              "<table border=\"1\" class=\"dataframe\">\n",
              "  <thead>\n",
              "    <tr style=\"text-align: left;\">\n",
              "      <th>epoch</th>\n",
              "      <th>train_loss</th>\n",
              "      <th>valid_loss</th>\n",
              "      <th>error_rate</th>\n",
              "      <th>time</th>\n",
              "    </tr>\n",
              "  </thead>\n",
              "  <tbody>\n",
              "    <tr>\n",
              "      <td>0</td>\n",
              "      <td>1.310418</td>\n",
              "      <td>0.310610</td>\n",
              "      <td>0.100812</td>\n",
              "      <td>01:10</td>\n",
              "    </tr>\n",
              "  </tbody>\n",
              "</table>"
            ]
          },
          "metadata": {}
        },
        {
          "output_type": "display_data",
          "data": {
            "text/plain": [
              "<IPython.core.display.HTML object>"
            ],
            "text/html": [
              "\n",
              "<style>\n",
              "    /* Turns off some styling */\n",
              "    progress {\n",
              "        /* gets rid of default border in Firefox and Opera. */\n",
              "        border: none;\n",
              "        /* Needs to be in here for Safari polyfill so background images work as expected. */\n",
              "        background-size: auto;\n",
              "    }\n",
              "    .progress-bar-interrupted, .progress-bar-interrupted::-webkit-progress-bar {\n",
              "        background: #F44336;\n",
              "    }\n",
              "</style>\n"
            ]
          },
          "metadata": {}
        },
        {
          "output_type": "display_data",
          "data": {
            "text/plain": [
              "<IPython.core.display.HTML object>"
            ],
            "text/html": [
              "<table border=\"1\" class=\"dataframe\">\n",
              "  <thead>\n",
              "    <tr style=\"text-align: left;\">\n",
              "      <th>epoch</th>\n",
              "      <th>train_loss</th>\n",
              "      <th>valid_loss</th>\n",
              "      <th>error_rate</th>\n",
              "      <th>time</th>\n",
              "    </tr>\n",
              "  </thead>\n",
              "  <tbody>\n",
              "    <tr>\n",
              "      <td>0</td>\n",
              "      <td>0.549612</td>\n",
              "      <td>0.347843</td>\n",
              "      <td>0.108254</td>\n",
              "      <td>01:17</td>\n",
              "    </tr>\n",
              "    <tr>\n",
              "      <td>1</td>\n",
              "      <td>0.336510</td>\n",
              "      <td>0.245712</td>\n",
              "      <td>0.080514</td>\n",
              "      <td>01:17</td>\n",
              "    </tr>\n",
              "  </tbody>\n",
              "</table>"
            ]
          },
          "metadata": {}
        }
      ],
      "source": [
        "learn = vision_learner(dls, resnet34, metrics=error_rate)\n",
        "learn.fine_tune(2, base_lr=3e-3)"
      ]
    },
    {
      "cell_type": "markdown",
      "metadata": {
        "id": "ggsc-xkY1GCC"
      },
      "source": [
        "> Note: Logarithmic Scale: The learning rate finder plot has a logarithmic scale, which is why the middle point between 1e-3 and 1e-2 is between 3e-3 and 4e-3. This is because we care mostly about the order of magnitude of the learning rate."
      ]
    },
    {
      "cell_type": "markdown",
      "metadata": {
        "id": "Yyg77eTj1GCD"
      },
      "source": [
        "It's interesting that the learning rate finder was only discovered in 2015, while neural networks have been under development since the 1950s. Throughout that time finding a good learning rate has been, perhaps, the most important and challenging issue for practitioners. The solution does not require any advanced maths, giant computing resources, huge datasets, or anything else that would make it inaccessible to any curious researcher. Furthermore, Leslie Smith, was not part of some exclusive Silicon Valley lab, but was working as a naval researcher. All of this is to say: breakthrough work in deep learning absolutely does not require access to vast resources, elite teams, or advanced mathematical ideas. There is lots of work still to be done that requires just a bit of common sense, creativity, and tenacity."
      ]
    },
    {
      "cell_type": "markdown",
      "metadata": {
        "id": "-wsQkP-D1GCD"
      },
      "source": [
        "Now that we have a good learning rate to train our model, let's look at how we can fine-tune the weights of a pretrained model."
      ]
    },
    {
      "cell_type": "markdown",
      "metadata": {
        "id": "hEuGA9C-1GCD"
      },
      "source": [
        "### Unfreezing and Transfer Learning"
      ]
    },
    {
      "cell_type": "markdown",
      "metadata": {
        "id": "EeECVSQc1GCD"
      },
      "source": [
        "We discussed briefly in <<chapter_intro>> how transfer learning works. We saw that the basic idea is that a pretrained model, trained potentially on millions of data points (such as ImageNet), is fine-tuned for some other task. But what does this really mean?\n",
        "\n",
        "We now know that a convolutional neural network consists of many linear layers with a nonlinear activation function between each pair, followed by one or more final linear layers with an activation function such as softmax at the very end. The final linear layer uses a matrix with enough columns such that the output size is the same as the number of classes in our model (assuming that we are doing classification).\n",
        "\n",
        "This final linear layer is unlikely to be of any use for us when we are fine-tuning in a transfer learning setting, because it is specifically designed to classify the categories in the original pretraining dataset. So when we do transfer learning we remove it, throw it away, and replace it with a new linear layer with the correct number of outputs for our desired task (in this case, there would be 37 activations).\n",
        "\n",
        "This newly added linear layer will have entirely random weights. Therefore, our model prior to fine-tuning has entirely random outputs. But that does not mean that it is an entirely random model! All of the layers prior to the last one have been carefully trained to be good at image classification tasks in general. As we saw in the images from the [Zeiler and Fergus paper](https://arxiv.org/pdf/1311.2901.pdf) in <<chapter_intro>> (see <<img_layer1>> through <<img_layer4>>), the first few layers encode very general concepts, such as finding gradients and edges, and later layers encode concepts that are still very useful for us, such as finding eyeballs and fur.\n",
        "\n",
        "We want to train a model in such a way that we allow it to remember all of these generally useful ideas from the pretrained model, use them to solve our particular task (classify pet breeds), and only adjust them as required for the specifics of our particular task.\n",
        "\n",
        "Our challenge when fine-tuning is to replace the random weights in our added linear layers with weights that correctly achieve our desired task (classifying pet breeds) without breaking the carefully pretrained weights and the other layers. There is actually a very simple trick to allow this to happen: tell the optimizer to only update the weights in those randomly added final layers. Don't change the weights in the rest of the neural network at all. This is called *freezing* those pretrained layers."
      ]
    },
    {
      "cell_type": "markdown",
      "metadata": {
        "id": "pwewMrER1GCD"
      },
      "source": [
        "When we create a model from a pretrained network fastai automatically freezes all of the pretrained layers for us. When we call the `fine_tune` method fastai does two things:\n",
        "\n",
        "- Trains the randomly added layers for one epoch, with all other layers frozen\n",
        "- Unfreezes all of the layers, and trains them all for the number of epochs requested\n",
        "\n",
        "Although this is a reasonable default approach, it is likely that for your particular dataset you may get better results by doing things slightly differently. The `fine_tune` method has a number of parameters you can use to change its behavior, but it might be easiest for you to just call the underlying methods directly if you want to get some custom behavior. Remember that you can see the source code for the method by using the following syntax:\n",
        "\n",
        "    learn.fine_tune??\n",
        "\n",
        "So let's try doing this manually ourselves. First of all we will train the randomly added layers for three epochs, using `fit_one_cycle`. As mentioned in <<chapter_intro>>, `fit_one_cycle` is the suggested way to train models without using `fine_tune`. We'll see why later in the book; in short, what `fit_one_cycle` does is to start training at a low learning rate, gradually increase it for the first section of training, and then gradually decrease it again for the last section of training."
      ]
    },
    {
      "cell_type": "code",
      "execution_count": 46,
      "metadata": {
        "id": "YDZVD6HX1GCD"
      },
      "outputs": [],
      "source": [
        "learn.fine_tune??"
      ]
    },
    {
      "cell_type": "code",
      "execution_count": 47,
      "metadata": {
        "id": "8cqrK0nn1GCD",
        "outputId": "5631b599-3572-4b8d-a85a-3fa59a891b0d",
        "colab": {
          "base_uri": "https://localhost:8080/",
          "height": 143
        }
      },
      "outputs": [
        {
          "output_type": "display_data",
          "data": {
            "text/plain": [
              "<IPython.core.display.HTML object>"
            ],
            "text/html": [
              "\n",
              "<style>\n",
              "    /* Turns off some styling */\n",
              "    progress {\n",
              "        /* gets rid of default border in Firefox and Opera. */\n",
              "        border: none;\n",
              "        /* Needs to be in here for Safari polyfill so background images work as expected. */\n",
              "        background-size: auto;\n",
              "    }\n",
              "    .progress-bar-interrupted, .progress-bar-interrupted::-webkit-progress-bar {\n",
              "        background: #F44336;\n",
              "    }\n",
              "</style>\n"
            ]
          },
          "metadata": {}
        },
        {
          "output_type": "display_data",
          "data": {
            "text/plain": [
              "<IPython.core.display.HTML object>"
            ],
            "text/html": [
              "<table border=\"1\" class=\"dataframe\">\n",
              "  <thead>\n",
              "    <tr style=\"text-align: left;\">\n",
              "      <th>epoch</th>\n",
              "      <th>train_loss</th>\n",
              "      <th>valid_loss</th>\n",
              "      <th>error_rate</th>\n",
              "      <th>time</th>\n",
              "    </tr>\n",
              "  </thead>\n",
              "  <tbody>\n",
              "    <tr>\n",
              "      <td>0</td>\n",
              "      <td>1.099668</td>\n",
              "      <td>0.402679</td>\n",
              "      <td>0.141407</td>\n",
              "      <td>01:11</td>\n",
              "    </tr>\n",
              "    <tr>\n",
              "      <td>1</td>\n",
              "      <td>0.516529</td>\n",
              "      <td>0.275704</td>\n",
              "      <td>0.086604</td>\n",
              "      <td>01:11</td>\n",
              "    </tr>\n",
              "    <tr>\n",
              "      <td>2</td>\n",
              "      <td>0.329595</td>\n",
              "      <td>0.231460</td>\n",
              "      <td>0.075101</td>\n",
              "      <td>01:12</td>\n",
              "    </tr>\n",
              "  </tbody>\n",
              "</table>"
            ]
          },
          "metadata": {}
        }
      ],
      "source": [
        "learn = vision_learner(dls, resnet34, metrics=error_rate)\n",
        "learn.fit_one_cycle(3, 3e-3)"
      ]
    },
    {
      "cell_type": "markdown",
      "metadata": {
        "id": "PQiYOxi61GCE"
      },
      "source": [
        "Then we'll unfreeze the model:"
      ]
    },
    {
      "cell_type": "code",
      "execution_count": 48,
      "metadata": {
        "id": "U4Tcw5401GCE"
      },
      "outputs": [],
      "source": [
        "learn.unfreeze()"
      ]
    },
    {
      "cell_type": "markdown",
      "metadata": {
        "id": "-YO4MhWz1GCE"
      },
      "source": [
        "and run `lr_find` again, because having more layers to train, and weights that have already been trained for three epochs, means our previously found learning rate isn't appropriate any more:"
      ]
    },
    {
      "cell_type": "code",
      "execution_count": 49,
      "metadata": {
        "id": "ZiMmJxox1GCE",
        "outputId": "8d4c994d-3716-417d-cd25-5e29af25fef7",
        "colab": {
          "base_uri": "https://localhost:8080/",
          "height": 300
        }
      },
      "outputs": [
        {
          "output_type": "display_data",
          "data": {
            "text/plain": [
              "<IPython.core.display.HTML object>"
            ],
            "text/html": [
              "\n",
              "<style>\n",
              "    /* Turns off some styling */\n",
              "    progress {\n",
              "        /* gets rid of default border in Firefox and Opera. */\n",
              "        border: none;\n",
              "        /* Needs to be in here for Safari polyfill so background images work as expected. */\n",
              "        background-size: auto;\n",
              "    }\n",
              "    .progress-bar-interrupted, .progress-bar-interrupted::-webkit-progress-bar {\n",
              "        background: #F44336;\n",
              "    }\n",
              "</style>\n"
            ]
          },
          "metadata": {}
        },
        {
          "output_type": "display_data",
          "data": {
            "text/plain": [
              "<IPython.core.display.HTML object>"
            ],
            "text/html": [
              ""
            ]
          },
          "metadata": {}
        },
        {
          "output_type": "execute_result",
          "data": {
            "text/plain": [
              "SuggestedLRs(valley=3.981071586167673e-06)"
            ]
          },
          "metadata": {},
          "execution_count": 49
        },
        {
          "output_type": "display_data",
          "data": {
            "text/plain": [
              "<Figure size 432x288 with 1 Axes>"
            ],
            "image/png": "[encoded data removed]"
          },
          "metadata": {
            "needs_background": "light"
          }
        }
      ],
      "source": [
        "learn.lr_find()"
      ]
    },
    {
      "cell_type": "markdown",
      "metadata": {
        "id": "ZSwg1DRX1GCE"
      },
      "source": [
        "Note that the graph is a little different from when we had random weights: we don't have that sharp descent that indicates the model is training. That's because our model has been trained already. Here we have a somewhat flat area before a sharp increase, and we should take a point well before that sharp increase—for instance, 1e-5. The point with the maximum gradient isn't what we look for here and should be ignored.\n",
        "\n",
        "Let's train at a suitable learning rate:"
      ]
    },
    {
      "cell_type": "code",
      "execution_count": 50,
      "metadata": {
        "id": "TwV3ETfx1GCE",
        "outputId": "ecfdae53-14a9-4aaf-8abe-7e605679fd0a",
        "colab": {
          "base_uri": "https://localhost:8080/",
          "height": 238
        }
      },
      "outputs": [
        {
          "output_type": "display_data",
          "data": {
            "text/plain": [
              "<IPython.core.display.HTML object>"
            ],
            "text/html": [
              "\n",
              "<style>\n",
              "    /* Turns off some styling */\n",
              "    progress {\n",
              "        /* gets rid of default border in Firefox and Opera. */\n",
              "        border: none;\n",
              "        /* Needs to be in here for Safari polyfill so background images work as expected. */\n",
              "        background-size: auto;\n",
              "    }\n",
              "    .progress-bar-interrupted, .progress-bar-interrupted::-webkit-progress-bar {\n",
              "        background: #F44336;\n",
              "    }\n",
              "</style>\n"
            ]
          },
          "metadata": {}
        },
        {
          "output_type": "display_data",
          "data": {
            "text/plain": [
              "<IPython.core.display.HTML object>"
            ],
            "text/html": [
              "<table border=\"1\" class=\"dataframe\">\n",
              "  <thead>\n",
              "    <tr style=\"text-align: left;\">\n",
              "      <th>epoch</th>\n",
              "      <th>train_loss</th>\n",
              "      <th>valid_loss</th>\n",
              "      <th>error_rate</th>\n",
              "      <th>time</th>\n",
              "    </tr>\n",
              "  </thead>\n",
              "  <tbody>\n",
              "    <tr>\n",
              "      <td>0</td>\n",
              "      <td>0.276418</td>\n",
              "      <td>0.216629</td>\n",
              "      <td>0.066982</td>\n",
              "      <td>01:17</td>\n",
              "    </tr>\n",
              "    <tr>\n",
              "      <td>1</td>\n",
              "      <td>0.241527</td>\n",
              "      <td>0.205010</td>\n",
              "      <td>0.068336</td>\n",
              "      <td>01:17</td>\n",
              "    </tr>\n",
              "    <tr>\n",
              "      <td>2</td>\n",
              "      <td>0.228700</td>\n",
              "      <td>0.196258</td>\n",
              "      <td>0.068336</td>\n",
              "      <td>01:17</td>\n",
              "    </tr>\n",
              "    <tr>\n",
              "      <td>3</td>\n",
              "      <td>0.198957</td>\n",
              "      <td>0.194634</td>\n",
              "      <td>0.067659</td>\n",
              "      <td>01:18</td>\n",
              "    </tr>\n",
              "    <tr>\n",
              "      <td>4</td>\n",
              "      <td>0.186956</td>\n",
              "      <td>0.189133</td>\n",
              "      <td>0.064276</td>\n",
              "      <td>01:17</td>\n",
              "    </tr>\n",
              "    <tr>\n",
              "      <td>5</td>\n",
              "      <td>0.185152</td>\n",
              "      <td>0.187782</td>\n",
              "      <td>0.063599</td>\n",
              "      <td>01:17</td>\n",
              "    </tr>\n",
              "  </tbody>\n",
              "</table>"
            ]
          },
          "metadata": {}
        }
      ],
      "source": [
        "learn.fit_one_cycle(6, lr_max=1e-5)"
      ]
    },
    {
      "cell_type": "markdown",
      "metadata": {
        "id": "2eJDGSwh1GCF"
      },
      "source": [
        "This has improved our model a bit, but there's more we can do. The deepest layers of our pretrained model might not need as high a learning rate as the last ones, so we should probably use different learning rates for those—this is known as using *discriminative learning rates*."
      ]
    },
    {
      "cell_type": "markdown",
      "metadata": {
        "id": "kY_QqjXz1GCF"
      },
      "source": [
        "### Discriminative Learning Rates"
      ]
    },
    {
      "cell_type": "markdown",
      "metadata": {
        "id": "gs0A5C621GCF"
      },
      "source": [
        "Even after we unfreeze, we still care a lot about the quality of those pretrained weights. We would not expect that the best learning rate for those pretrained parameters would be as high as for the randomly added parameters, even after we have tuned those randomly added parameters for a few epochs. Remember, the pretrained weights have been trained for hundreds of epochs, on millions of images.\n",
        "\n",
        "In addition, do you remember the images we saw in <<chapter_intro>>, showing what each layer learns? The first layer learns very simple foundations, like edge and gradient detectors; these are likely to be just as useful for nearly any task. The later layers learn much more complex concepts, like \"eye\" and \"sunset,\" which might not be useful in your task at all (maybe you're classifying car models, for instance). So it makes sense to let the later layers fine-tune more quickly than earlier layers.\n",
        "\n",
        "Therefore, fastai's default approach is to use discriminative learning rates. This was originally developed in the ULMFiT approach to NLP transfer learning that we will introduce in <<chapter_nlp>>. Like many good ideas in deep learning, it is extremely simple: use a lower learning rate for the early layers of the neural network, and a higher learning rate for the later layers (and especially the randomly added layers). The idea is based on insights developed by [Jason Yosinski](https://arxiv.org/abs/1411.1792), who showed in 2014 that with transfer learning different layers of a neural network should train at different speeds, as seen in <<yosinski>>."
      ]
    },
    {
      "cell_type": "markdown",
      "metadata": {
        "id": "AMjmQqS01GCF"
      },
      "source": [
        "<img alt=\"Impact of different layers and training methods on transfer learning (Yosinski)\" width=\"680\" caption=\"Impact of different layers and training methods on transfer learning (courtesy of Jason Yosinski et al.)\" id=\"yosinski\" src=\"https://github.com/fastai/fastbook/blob/master/images/att_00039.png?raw=1\">"
      ]
    },
    {
      "cell_type": "markdown",
      "metadata": {
        "id": "0fI0qia_1GCF"
      },
      "source": [
        "fastai lets you pass a Python `slice` object anywhere that a learning rate is expected. The first value passed will be the learning rate in the earliest layer of the neural network, and the second value will be the learning rate in the final layer. The layers in between will have learning rates that are multiplicatively equidistant throughout that range. Let's use this approach to replicate the previous training, but this time we'll only set the *lowest* layer of our net to a learning rate of 1e-6; the other layers will scale up to 1e-4. Let's train for a while and see what happens:"
      ]
    },
    {
      "cell_type": "code",
      "execution_count": 51,
      "metadata": {
        "id": "oS8QfT-i1GCF",
        "outputId": "11768dc0-0795-4213-b202-90db8737980d",
        "colab": {
          "base_uri": "https://localhost:8080/",
          "height": 552
        }
      },
      "outputs": [
        {
          "output_type": "display_data",
          "data": {
            "text/plain": [
              "<IPython.core.display.HTML object>"
            ],
            "text/html": [
              "\n",
              "<style>\n",
              "    /* Turns off some styling */\n",
              "    progress {\n",
              "        /* gets rid of default border in Firefox and Opera. */\n",
              "        border: none;\n",
              "        /* Needs to be in here for Safari polyfill so background images work as expected. */\n",
              "        background-size: auto;\n",
              "    }\n",
              "    .progress-bar-interrupted, .progress-bar-interrupted::-webkit-progress-bar {\n",
              "        background: #F44336;\n",
              "    }\n",
              "</style>\n"
            ]
          },
          "metadata": {}
        },
        {
          "output_type": "display_data",
          "data": {
            "text/plain": [
              "<IPython.core.display.HTML object>"
            ],
            "text/html": [
              "<table border=\"1\" class=\"dataframe\">\n",
              "  <thead>\n",
              "    <tr style=\"text-align: left;\">\n",
              "      <th>epoch</th>\n",
              "      <th>train_loss</th>\n",
              "      <th>valid_loss</th>\n",
              "      <th>error_rate</th>\n",
              "      <th>time</th>\n",
              "    </tr>\n",
              "  </thead>\n",
              "  <tbody>\n",
              "    <tr>\n",
              "      <td>0</td>\n",
              "      <td>1.139552</td>\n",
              "      <td>0.356823</td>\n",
              "      <td>0.116373</td>\n",
              "      <td>01:11</td>\n",
              "    </tr>\n",
              "    <tr>\n",
              "      <td>1</td>\n",
              "      <td>0.518011</td>\n",
              "      <td>0.232662</td>\n",
              "      <td>0.075101</td>\n",
              "      <td>01:11</td>\n",
              "    </tr>\n",
              "    <tr>\n",
              "      <td>2</td>\n",
              "      <td>0.321491</td>\n",
              "      <td>0.212771</td>\n",
              "      <td>0.072395</td>\n",
              "      <td>01:11</td>\n",
              "    </tr>\n",
              "  </tbody>\n",
              "</table>"
            ]
          },
          "metadata": {}
        },
        {
          "output_type": "display_data",
          "data": {
            "text/plain": [
              "<IPython.core.display.HTML object>"
            ],
            "text/html": [
              "\n",
              "<style>\n",
              "    /* Turns off some styling */\n",
              "    progress {\n",
              "        /* gets rid of default border in Firefox and Opera. */\n",
              "        border: none;\n",
              "        /* Needs to be in here for Safari polyfill so background images work as expected. */\n",
              "        background-size: auto;\n",
              "    }\n",
              "    .progress-bar-interrupted, .progress-bar-interrupted::-webkit-progress-bar {\n",
              "        background: #F44336;\n",
              "    }\n",
              "</style>\n"
            ]
          },
          "metadata": {}
        },
        {
          "output_type": "display_data",
          "data": {
            "text/plain": [
              "<IPython.core.display.HTML object>"
            ],
            "text/html": [
              "<table border=\"1\" class=\"dataframe\">\n",
              "  <thead>\n",
              "    <tr style=\"text-align: left;\">\n",
              "      <th>epoch</th>\n",
              "      <th>train_loss</th>\n",
              "      <th>valid_loss</th>\n",
              "      <th>error_rate</th>\n",
              "      <th>time</th>\n",
              "    </tr>\n",
              "  </thead>\n",
              "  <tbody>\n",
              "    <tr>\n",
              "      <td>0</td>\n",
              "      <td>0.269791</td>\n",
              "      <td>0.206806</td>\n",
              "      <td>0.073072</td>\n",
              "      <td>01:17</td>\n",
              "    </tr>\n",
              "    <tr>\n",
              "      <td>1</td>\n",
              "      <td>0.252056</td>\n",
              "      <td>0.205828</td>\n",
              "      <td>0.066982</td>\n",
              "      <td>01:18</td>\n",
              "    </tr>\n",
              "    <tr>\n",
              "      <td>2</td>\n",
              "      <td>0.239680</td>\n",
              "      <td>0.197820</td>\n",
              "      <td>0.066306</td>\n",
              "      <td>01:17</td>\n",
              "    </tr>\n",
              "    <tr>\n",
              "      <td>3</td>\n",
              "      <td>0.230061</td>\n",
              "      <td>0.189180</td>\n",
              "      <td>0.063599</td>\n",
              "      <td>01:17</td>\n",
              "    </tr>\n",
              "    <tr>\n",
              "      <td>4</td>\n",
              "      <td>0.183092</td>\n",
              "      <td>0.190910</td>\n",
              "      <td>0.068336</td>\n",
              "      <td>01:17</td>\n",
              "    </tr>\n",
              "    <tr>\n",
              "      <td>5</td>\n",
              "      <td>0.171482</td>\n",
              "      <td>0.182385</td>\n",
              "      <td>0.063599</td>\n",
              "      <td>01:17</td>\n",
              "    </tr>\n",
              "    <tr>\n",
              "      <td>6</td>\n",
              "      <td>0.144475</td>\n",
              "      <td>0.184016</td>\n",
              "      <td>0.061570</td>\n",
              "      <td>01:17</td>\n",
              "    </tr>\n",
              "    <tr>\n",
              "      <td>7</td>\n",
              "      <td>0.145186</td>\n",
              "      <td>0.180252</td>\n",
              "      <td>0.059540</td>\n",
              "      <td>01:17</td>\n",
              "    </tr>\n",
              "    <tr>\n",
              "      <td>8</td>\n",
              "      <td>0.140774</td>\n",
              "      <td>0.175400</td>\n",
              "      <td>0.060217</td>\n",
              "      <td>01:17</td>\n",
              "    </tr>\n",
              "    <tr>\n",
              "      <td>9</td>\n",
              "      <td>0.136363</td>\n",
              "      <td>0.177657</td>\n",
              "      <td>0.060217</td>\n",
              "      <td>01:17</td>\n",
              "    </tr>\n",
              "    <tr>\n",
              "      <td>10</td>\n",
              "      <td>0.129301</td>\n",
              "      <td>0.180185</td>\n",
              "      <td>0.059540</td>\n",
              "      <td>01:17</td>\n",
              "    </tr>\n",
              "    <tr>\n",
              "      <td>11</td>\n",
              "      <td>0.123956</td>\n",
              "      <td>0.177949</td>\n",
              "      <td>0.060893</td>\n",
              "      <td>01:17</td>\n",
              "    </tr>\n",
              "  </tbody>\n",
              "</table>"
            ]
          },
          "metadata": {}
        }
      ],
      "source": [
        "learn = vision_learner(dls, resnet34, metrics=error_rate)\n",
        "learn.fit_one_cycle(3, 3e-3)\n",
        "learn.unfreeze()\n",
        "learn.fit_one_cycle(12, lr_max=slice(1e-6,1e-4))"
      ]
    },
    {
      "cell_type": "markdown",
      "metadata": {
        "id": "P-C8g5V-1GCF"
      },
      "source": [
        "Now the fine-tuning is working great!\n",
        "\n",
        "fastai can show us a graph of the training and validation loss:"
      ]
    },
    {
      "cell_type": "code",
      "execution_count": 52,
      "metadata": {
        "id": "wtxmFVam1GCG",
        "outputId": "4b764480-819d-4772-b81f-7fda87673d5c",
        "colab": {
          "base_uri": "https://localhost:8080/",
          "height": 265
        }
      },
      "outputs": [
        {
          "output_type": "display_data",
          "data": {
            "text/plain": [
              "<Figure size 432x288 with 1 Axes>"
            ],
            "image/png": "[encoded data removed]"
          },
          "metadata": {
            "needs_background": "light"
          }
        }
      ],
      "source": [
        "learn.recorder.plot_loss()"
      ]
    },
    {
      "cell_type": "markdown",
      "metadata": {
        "id": "zoLJFCXh1GCG"
      },
      "source": [
        "As you can see, the training loss keeps getting better and better. But notice that eventually the validation loss improvement slows, and sometimes even gets worse! This is the point at which the model is starting to over fit. In particular, the model is becoming overconfident of its predictions. But this does *not* mean that it is getting less accurate, necessarily. Take a look at the table of training results per epoch, and you will often see that the accuracy continues improving, even as the validation loss gets worse. In the end what matters is your accuracy, or more generally your chosen metrics, not the loss. The loss is just the function we've given the computer to help us to optimize."
      ]
    },
    {
      "cell_type": "markdown",
      "metadata": {
        "id": "mDRZqxbO1GCG"
      },
      "source": [
        "Another decision you have to make when training the model is for how long to train for. We'll consider that next."
      ]
    },
    {
      "cell_type": "markdown",
      "metadata": {
        "id": "L_Cn3Ex61GCG"
      },
      "source": [
        "### Selecting the Number of Epochs"
      ]
    },
    {
      "cell_type": "markdown",
      "metadata": {
        "id": "6Lhqgvcl1GCG"
      },
      "source": [
        "Often you will find that you are limited by time, rather than generalization and accuracy, when choosing how many epochs to train for. So your first approach to training should be to simply pick a number of epochs that will train in the amount of time that you are happy to wait for. Then look at the training and validation loss plots, as shown above, and in particular your metrics, and if you see that they are still getting better even in your final epochs, then you know that you have not trained for too long.\n",
        "\n",
        "On the other hand, you may well see that the metrics you have chosen are really getting worse at the end of training. Remember, it's not just that we're looking for the validation loss to get worse, but the actual metrics. Your validation loss will first get worse during training because the model gets overconfident, and only later will get worse because it is incorrectly memorizing the data. We only care in practice about the latter issue. Remember, our loss function is just something that we use to allow our optimizer to have something it can differentiate and optimize; it's not actually the thing we care about in practice.\n",
        "\n",
        "Before the days of 1cycle training it was very common to save the model at the end of each epoch, and then select whichever model had the best accuracy out of all of the models saved in each epoch. This is known as *early stopping*. However, this is very unlikely to give you the best answer, because those epochs in the middle occur before the learning rate has had a chance to reach the small values, where it can really find the best result. Therefore, if you find that you have overfit, what you should actually do is retrain your model from scratch, and this time select a total number of epochs based on where your previous best results were found.\n",
        "\n",
        "If you have the time to train for more epochs, you may want to instead use that time to train more parameters—that is, use a deeper architecture."
      ]
    },
    {
      "cell_type": "markdown",
      "metadata": {
        "id": "7Fc07I0I1GCG"
      },
      "source": [
        "### Deeper Architectures"
      ]
    },
    {
      "cell_type": "markdown",
      "metadata": {
        "id": "HcByktjC1GCG"
      },
      "source": [
        "In general, a model with more parameters can model your data more accurately. (There are lots and lots of caveats to this generalization, and it depends on the specifics of the architectures you are using, but it is a reasonable rule of thumb for now.) For most of the architectures that we will be seeing in this book, you can create larger versions of them by simply adding more layers. However, since we want to use pretrained models, we need to make sure that we choose a number of layers that have already been pretrained for us.\n",
        "\n",
        "This is why, in practice, architectures tend to come in a small number of variants. For instance, the ResNet architecture that we are using in this chapter comes in variants with 18, 34, 50, 101, and 152 layer, pretrained on ImageNet. A larger (more layers and parameters; sometimes described as the \"capacity\" of a model) version of a ResNet will always be able to give us a better training loss, but it can suffer more from overfitting, because it has more parameters to overfit with.\n",
        "\n",
        "In general, a bigger model has the ability to better capture the real underlying relationships in your data, and also to capture and memorize the specific details of your individual images.\n",
        "\n",
        "However, using a deeper model is going to require more GPU RAM, so you may need to lower the size of your batches to avoid an *out-of-memory error*. This happens when you try to fit too much inside your GPU and looks like:\n",
        "\n",
        "```\n",
        "Cuda runtime error: out of memory\n",
        "```\n",
        "\n",
        "You may have to restart your notebook when this happens. The way to solve it is to use a smaller batch size, which means passing smaller groups of images at any given time through your model. You can pass the batch size you want to the call creating your `DataLoaders` with `bs=`.\n",
        "\n",
        "The other downside of deeper architectures is that they take quite a bit longer to train. One technique that can speed things up a lot is *mixed-precision training*. This refers to using less-precise numbers (*half-precision floating point*, also called *fp16*) where possible during training. As we are writing these words in early 2020, nearly all current NVIDIA GPUs support a special feature called *tensor cores* that can dramatically speed up neural network training, by 2-3x. They also require a lot less GPU memory. To enable this feature in fastai, just add `to_fp16()` after your `Learner` creation (you also need to import the module).\n",
        "\n",
        "You can't really know ahead of time what the best architecture for your particular problem is—you need to try training some. So let's try a ResNet-50 now with mixed precision:"
      ]
    },
    {
      "cell_type": "code",
      "execution_count": 53,
      "metadata": {
        "id": "ht6XM5Az1GCH",
        "outputId": "e8bccfdf-3aad-45cd-9f8a-a87f395ab438",
        "colab": {
          "base_uri": "https://localhost:8080/",
          "height": 433,
          "referenced_widgets": [
            "2cfc6bff5d1e4a2bb5e0185fcfaf132b",
            "b7c5252762ab4f8eb393f69627c33246",
            "3c50e12863704e439c8fc0d3b6b93c5b",
            "ace58bc31dd849f3b608a8363a1eb767",
            "50d72102b3924b42be8c9f40106c14f3",
            "96e144a1bfcb4db39b14338be8afea90",
            "252bb68f89f04836bec908d1af018dae",
            "aa8f1e7513554701ac062e302be3f0a4",
            "21a15b9b15714c17abf582ae28a14129",
            "f572d2d75ef8407c88eeba69371b0b9c",
            "8952840be258413dbc402cff10c395a3"
          ]
        }
      },
      "outputs": [
        {
          "output_type": "stream",
          "name": "stderr",
          "text": [
            "Downloading: \"https://download.pytorch.org/models/resnet50-0676ba61.pth\" to /root/.cache/torch/hub/checkpoints/resnet50-0676ba61.pth\n"
          ]
        },
        {
          "output_type": "display_data",
          "data": {
            "text/plain": [
              "  0%|          | 0.00/97.8M [00:00<?, ?B/s]"
            ],
            "application/vnd.jupyter.widget-view+json": {
              "version_major": 2,
              "version_minor": 0,
              "model_id": "2cfc6bff5d1e4a2bb5e0185fcfaf132b"
            }
          },
          "metadata": {}
        },
        {
          "output_type": "display_data",
          "data": {
            "text/plain": [
              "<IPython.core.display.HTML object>"
            ],
            "text/html": [
              "\n",
              "<style>\n",
              "    /* Turns off some styling */\n",
              "    progress {\n",
              "        /* gets rid of default border in Firefox and Opera. */\n",
              "        border: none;\n",
              "        /* Needs to be in here for Safari polyfill so background images work as expected. */\n",
              "        background-size: auto;\n",
              "    }\n",
              "    .progress-bar-interrupted, .progress-bar-interrupted::-webkit-progress-bar {\n",
              "        background: #F44336;\n",
              "    }\n",
              "</style>\n"
            ]
          },
          "metadata": {}
        },
        {
          "output_type": "display_data",
          "data": {
            "text/plain": [
              "<IPython.core.display.HTML object>"
            ],
            "text/html": [
              "<table border=\"1\" class=\"dataframe\">\n",
              "  <thead>\n",
              "    <tr style=\"text-align: left;\">\n",
              "      <th>epoch</th>\n",
              "      <th>train_loss</th>\n",
              "      <th>valid_loss</th>\n",
              "      <th>error_rate</th>\n",
              "      <th>time</th>\n",
              "    </tr>\n",
              "  </thead>\n",
              "  <tbody>\n",
              "    <tr>\n",
              "      <td>0</td>\n",
              "      <td>1.257044</td>\n",
              "      <td>0.308914</td>\n",
              "      <td>0.098782</td>\n",
              "      <td>01:08</td>\n",
              "    </tr>\n",
              "    <tr>\n",
              "      <td>1</td>\n",
              "      <td>0.567858</td>\n",
              "      <td>0.270524</td>\n",
              "      <td>0.084574</td>\n",
              "      <td>01:07</td>\n",
              "    </tr>\n",
              "    <tr>\n",
              "      <td>2</td>\n",
              "      <td>0.390963</td>\n",
              "      <td>0.308153</td>\n",
              "      <td>0.091340</td>\n",
              "      <td>01:08</td>\n",
              "    </tr>\n",
              "  </tbody>\n",
              "</table>"
            ]
          },
          "metadata": {}
        },
        {
          "output_type": "display_data",
          "data": {
            "text/plain": [
              "<IPython.core.display.HTML object>"
            ],
            "text/html": [
              "\n",
              "<style>\n",
              "    /* Turns off some styling */\n",
              "    progress {\n",
              "        /* gets rid of default border in Firefox and Opera. */\n",
              "        border: none;\n",
              "        /* Needs to be in here for Safari polyfill so background images work as expected. */\n",
              "        background-size: auto;\n",
              "    }\n",
              "    .progress-bar-interrupted, .progress-bar-interrupted::-webkit-progress-bar {\n",
              "        background: #F44336;\n",
              "    }\n",
              "</style>\n"
            ]
          },
          "metadata": {}
        },
        {
          "output_type": "display_data",
          "data": {
            "text/plain": [
              "<IPython.core.display.HTML object>"
            ],
            "text/html": [
              "<table border=\"1\" class=\"dataframe\">\n",
              "  <thead>\n",
              "    <tr style=\"text-align: left;\">\n",
              "      <th>epoch</th>\n",
              "      <th>train_loss</th>\n",
              "      <th>valid_loss</th>\n",
              "      <th>error_rate</th>\n",
              "      <th>time</th>\n",
              "    </tr>\n",
              "  </thead>\n",
              "  <tbody>\n",
              "    <tr>\n",
              "      <td>0</td>\n",
              "      <td>0.263241</td>\n",
              "      <td>0.248943</td>\n",
              "      <td>0.083897</td>\n",
              "      <td>01:09</td>\n",
              "    </tr>\n",
              "    <tr>\n",
              "      <td>1</td>\n",
              "      <td>0.292677</td>\n",
              "      <td>0.348071</td>\n",
              "      <td>0.102165</td>\n",
              "      <td>01:10</td>\n",
              "    </tr>\n",
              "    <tr>\n",
              "      <td>2</td>\n",
              "      <td>0.244915</td>\n",
              "      <td>0.261407</td>\n",
              "      <td>0.072395</td>\n",
              "      <td>01:10</td>\n",
              "    </tr>\n",
              "    <tr>\n",
              "      <td>3</td>\n",
              "      <td>0.149409</td>\n",
              "      <td>0.217658</td>\n",
              "      <td>0.066982</td>\n",
              "      <td>01:09</td>\n",
              "    </tr>\n",
              "    <tr>\n",
              "      <td>4</td>\n",
              "      <td>0.093003</td>\n",
              "      <td>0.195285</td>\n",
              "      <td>0.056834</td>\n",
              "      <td>01:09</td>\n",
              "    </tr>\n",
              "    <tr>\n",
              "      <td>5</td>\n",
              "      <td>0.056398</td>\n",
              "      <td>0.189815</td>\n",
              "      <td>0.056157</td>\n",
              "      <td>01:10</td>\n",
              "    </tr>\n",
              "  </tbody>\n",
              "</table>"
            ]
          },
          "metadata": {}
        }
      ],
      "source": [
        "from fastai.callback.fp16 import *\n",
        "learn = vision_learner(dls, resnet50, metrics=error_rate).to_fp16()\n",
        "learn.fine_tune(6, freeze_epochs=3)"
      ]
    },
    {
      "cell_type": "markdown",
      "metadata": {
        "id": "Sh-GZ5M71GCH"
      },
      "source": [
        "You'll see here we've gone back to using `fine_tune`, since it's so handy! We can pass `freeze_epochs` to tell fastai how many epochs to train for while frozen. It will automatically change learning rates appropriately for most datasets.\n",
        "\n",
        "In this case, we're not seeing a clear win from the deeper model. This is useful to remember—bigger models aren't necessarily better models for your particular case! Make sure you try small models before you start scaling up."
      ]
    },
    {
      "cell_type": "markdown",
      "metadata": {
        "id": "ssOhMyPD1GCH"
      },
      "source": [
        "## Conclusion"
      ]
    },
    {
      "cell_type": "markdown",
      "metadata": {
        "id": "NOIDAzyY1GCH"
      },
      "source": [
        "In this chapter you learned some important practical tips, both for getting your image data ready for modeling (presizing, data block summary) and for fitting the model (learning rate finder, unfreezing, discriminative learning rates, setting the number of epochs, and using deeper architectures). Using these tools will help you to build more accurate image models, more quickly.\n",
        "\n",
        "We also discussed cross-entropy loss. This part of the book is worth spending plenty of time on. You aren't likely to need to actually implement cross-entropy loss from scratch yourself in practice, but it's really important you understand the inputs to and output from that function, because it (or a variant of it, as we'll see in the next chapter) is used in nearly every classification model. So when you want to debug a model, or put a model in production, or improve the accuracy of a model, you're going to need to be able to look at its activations and loss, and understand what's going on, and why. You can't do that properly if you don't understand your loss function.\n",
        "\n",
        "If cross-entropy loss hasn't \"clicked\" for you just yet, don't worry—you'll get there! First, go back to the last chapter and make sure you really understand `mnist_loss`. Then work gradually through the cells of the notebook for this chapter, where we step through each piece of cross-entropy loss. Make sure you understand what each calculation is doing, and why. Try creating some small tensors yourself and pass them into the functions, to see what they return.\n",
        "\n",
        "Remember: the choices made in the implementation of cross-entropy loss are not the only possible choices that could have been made. Just like when we looked at regression we could choose between mean squared error and mean absolute difference (L1). If you have other ideas for possible functions that you think might work, feel free to give them a try in this chapter's notebook! (Fair warning though: you'll probably find that the model will be slower to train, and less accurate. That's because the gradient of cross-entropy loss is proportional to the difference between the activation and the target, so SGD always gets a nicely scaled step for the weights.)"
      ]
    },
    {
      "cell_type": "markdown",
      "metadata": {
        "id": "0ug3lrKY1GCH"
      },
      "source": [
        "## Questionnaire"
      ]
    },
    {
      "cell_type": "markdown",
      "metadata": {
        "id": "2OxbNfLV1GCH"
      },
      "source": [
        "1. Why do we first resize to a large size on the CPU, and then to a smaller size on the GPU?\n",
        "1. If you are not familiar with regular expressions, find a regular expression tutorial, and some problem sets, and complete them. Have a look on the book's website for suggestions.\n",
        "1. What are the two ways in which data is most commonly provided, for most deep learning datasets?\n",
        "1. Look up the documentation for `L` and try using a few of the new methods that it adds.\n",
        "1. Look up the documentation for the Python `pathlib` module and try using a few methods of the `Path` class.\n",
        "1. Give two examples of ways that image transformations can degrade the quality of the data.\n",
        "1. What method does fastai provide to view the data in a `DataLoaders`?\n",
        "1. What method does fastai provide to help you debug a `DataBlock`?\n",
        "1. Should you hold off on training a model until you have thoroughly cleaned your data?\n",
        "1. What are the two pieces that are combined into cross-entropy loss in PyTorch?\n",
        "1. What are the two properties of activations that softmax ensures? Why is this important?\n",
        "1. When might you want your activations to not have these two properties?\n",
        "1. Calculate the `exp` and `softmax` columns of <<bear_softmax>> yourself (i.e., in a spreadsheet, with a calculator, or in a notebook).\n",
        "1. Why can't we use `torch.where` to create a loss function for datasets where our label can have more than two categories?\n",
        "1. What is the value of log(-2)? Why?\n",
        "1. What are two good rules of thumb for picking a learning rate from the learning rate finder?\n",
        "1. What two steps does the `fine_tune` method do?\n",
        "1. In Jupyter Notebook, how do you get the source code for a method or function?\n",
        "1. What are discriminative learning rates?\n",
        "1. How is a Python `slice` object interpreted when passed as a learning rate to fastai?\n",
        "1. Why is early stopping a poor choice when using 1cycle training?\n",
        "1. What is the difference between `resnet50` and `resnet101`?\n",
        "1. What does `to_fp16` do?"
      ]
    },
    {
      "cell_type": "markdown",
      "metadata": {
        "id": "GuF6tIlh1GCH"
      },
      "source": [
        "### Further Research"
      ]
    },
    {
      "cell_type": "markdown",
      "metadata": {
        "id": "o1BUoov-1GCI"
      },
      "source": [
        "1. Find the paper by Leslie Smith that introduced the learning rate finder, and read it.\n",
        "1. See if you can improve the accuracy of the classifier in this chapter. What's the best accuracy you can achieve? Look on the forums and the book's website to see what other students have achieved with this dataset, and how they did it."
      ]
    },
    {
      "cell_type": "code",
      "execution_count": null,
      "metadata": {
        "id": "RBXheHDp1GCI"
      },
      "outputs": [],
      "source": [
        ""
      ]
    }
  ],
  "metadata": {
    "jupytext": {
      "split_at_heading": true
    },
    "kernelspec": {
      "display_name": "Python 3 (ipykernel)",
      "language": "python",
      "name": "python3"
    },
    "colab": {
      "name": "05_pet_breeds.ipynb",
      "provenance": [],
      "include_colab_link": true
    },
    "accelerator": "GPU",
    "widgets": {
      "application/vnd.jupyter.widget-state+json": {
        "1994910edf9a432da98676aa1544e5f0": {
          "model_module": "@jupyter-widgets/controls",
          "model_name": "HBoxModel",
          "model_module_version": "1.5.0",
          "state": {
            "_dom_classes": [],
            "_model_module": "@jupyter-widgets/controls",
            "_model_module_version": "1.5.0",
            "_model_name": "HBoxModel",
            "_view_count": null,
            "_view_module": "@jupyter-widgets/controls",
            "_view_module_version": "1.5.0",
            "_view_name": "HBoxView",
            "box_style": "",
            "children": [
              "IPY_MODEL_535a73702b614346ba681c57ea563916",
              "IPY_MODEL_279af8aa1ca24f36bfa792c2a266a9b5",
              "IPY_MODEL_1ee885b84cdd4b839d3ecf7edc9a110a"
            ],
            "layout": "IPY_MODEL_5100102acd4a400db526217b1a24e40a"
          }
        },
        "535a73702b614346ba681c57ea563916": {
          "model_module": "@jupyter-widgets/controls",
          "model_name": "HTMLModel",
          "model_module_version": "1.5.0",
          "state": {
            "_dom_classes": [],
            "_model_module": "@jupyter-widgets/controls",
            "_model_module_version": "1.5.0",
            "_model_name": "HTMLModel",
            "_view_count": null,
            "_view_module": "@jupyter-widgets/controls",
            "_view_module_version": "1.5.0",
            "_view_name": "HTMLView",
            "description": "",
            "description_tooltip": null,
            "layout": "IPY_MODEL_d7902cf4a8b74fa9b53da23d592d9685",
            "placeholder": "​",
            "style": "IPY_MODEL_473e644a87d247ca84914d76cf51fa3e",
            "value": "100%"
          }
        },
        "279af8aa1ca24f36bfa792c2a266a9b5": {
          "model_module": "@jupyter-widgets/controls",
          "model_name": "FloatProgressModel",
          "model_module_version": "1.5.0",
          "state": {
            "_dom_classes": [],
            "_model_module": "@jupyter-widgets/controls",
            "_model_module_version": "1.5.0",
            "_model_name": "FloatProgressModel",
            "_view_count": null,
            "_view_module": "@jupyter-widgets/controls",
            "_view_module_version": "1.5.0",
            "_view_name": "ProgressView",
            "bar_style": "success",
            "description": "",
            "description_tooltip": null,
            "layout": "IPY_MODEL_1fde7888c8434844b37815ef5adeacd7",
            "max": 87319819,
            "min": 0,
            "orientation": "horizontal",
            "style": "IPY_MODEL_6b072f5f5ff24f99b76d07a88f29ff04",
            "value": 87319819
          }
        },
        "1ee885b84cdd4b839d3ecf7edc9a110a": {
          "model_module": "@jupyter-widgets/controls",
          "model_name": "HTMLModel",
          "model_module_version": "1.5.0",
          "state": {
            "_dom_classes": [],
            "_model_module": "@jupyter-widgets/controls",
            "_model_module_version": "1.5.0",
            "_model_name": "HTMLModel",
            "_view_count": null,
            "_view_module": "@jupyter-widgets/controls",
            "_view_module_version": "1.5.0",
            "_view_name": "HTMLView",
            "description": "",
            "description_tooltip": null,
            "layout": "IPY_MODEL_2e7d41d13da446c7bf71210a4254be9c",
            "placeholder": "​",
            "style": "IPY_MODEL_456bc4895a9e4eb2b9e259421e472067",
            "value": " 83.3M/83.3M [00:00&lt;00:00, 226MB/s]"
          }
        },
        "5100102acd4a400db526217b1a24e40a": {
          "model_module": "@jupyter-widgets/base",
          "model_name": "LayoutModel",
          "model_module_version": "1.2.0",
          "state": {
            "_model_module": "@jupyter-widgets/base",
            "_model_module_version": "1.2.0",
            "_model_name": "LayoutModel",
            "_view_count": null,
            "_view_module": "@jupyter-widgets/base",
            "_view_module_version": "1.2.0",
            "_view_name": "LayoutView",
            "align_content": null,
            "align_items": null,
            "align_self": null,
            "border": null,
            "bottom": null,
            "display": null,
            "flex": null,
            "flex_flow": null,
            "grid_area": null,
            "grid_auto_columns": null,
            "grid_auto_flow": null,
            "grid_auto_rows": null,
            "grid_column": null,
            "grid_gap": null,
            "grid_row": null,
            "grid_template_areas": null,
            "grid_template_columns": null,
            "grid_template_rows": null,
            "height": null,
            "justify_content": null,
            "justify_items": null,
            "left": null,
            "margin": null,
            "max_height": null,
            "max_width": null,
            "min_height": null,
            "min_width": null,
            "object_fit": null,
            "object_position": null,
            "order": null,
            "overflow": null,
            "overflow_x": null,
            "overflow_y": null,
            "padding": null,
            "right": null,
            "top": null,
            "visibility": null,
            "width": null
          }
        },
        "d7902cf4a8b74fa9b53da23d592d9685": {
          "model_module": "@jupyter-widgets/base",
          "model_name": "LayoutModel",
          "model_module_version": "1.2.0",
          "state": {
            "_model_module": "@jupyter-widgets/base",
            "_model_module_version": "1.2.0",
            "_model_name": "LayoutModel",
            "_view_count": null,
            "_view_module": "@jupyter-widgets/base",
            "_view_module_version": "1.2.0",
            "_view_name": "LayoutView",
            "align_content": null,
            "align_items": null,
            "align_self": null,
            "border": null,
            "bottom": null,
            "display": null,
            "flex": null,
            "flex_flow": null,
            "grid_area": null,
            "grid_auto_columns": null,
            "grid_auto_flow": null,
            "grid_auto_rows": null,
            "grid_column": null,
            "grid_gap": null,
            "grid_row": null,
            "grid_template_areas": null,
            "grid_template_columns": null,
            "grid_template_rows": null,
            "height": null,
            "justify_content": null,
            "justify_items": null,
            "left": null,
            "margin": null,
            "max_height": null,
            "max_width": null,
            "min_height": null,
            "min_width": null,
            "object_fit": null,
            "object_position": null,
            "order": null,
            "overflow": null,
            "overflow_x": null,
            "overflow_y": null,
            "padding": null,
            "right": null,
            "top": null,
            "visibility": null,
            "width": null
          }
        },
        "473e644a87d247ca84914d76cf51fa3e": {
          "model_module": "@jupyter-widgets/controls",
          "model_name": "DescriptionStyleModel",
          "model_module_version": "1.5.0",
          "state": {
            "_model_module": "@jupyter-widgets/controls",
            "_model_module_version": "1.5.0",
            "_model_name": "DescriptionStyleModel",
            "_view_count": null,
            "_view_module": "@jupyter-widgets/base",
            "_view_module_version": "1.2.0",
            "_view_name": "StyleView",
            "description_width": ""
          }
        },
        "1fde7888c8434844b37815ef5adeacd7": {
          "model_module": "@jupyter-widgets/base",
          "model_name": "LayoutModel",
          "model_module_version": "1.2.0",
          "state": {
            "_model_module": "@jupyter-widgets/base",
            "_model_module_version": "1.2.0",
            "_model_name": "LayoutModel",
            "_view_count": null,
            "_view_module": "@jupyter-widgets/base",
            "_view_module_version": "1.2.0",
            "_view_name": "LayoutView",
            "align_content": null,
            "align_items": null,
            "align_self": null,
            "border": null,
            "bottom": null,
            "display": null,
            "flex": null,
            "flex_flow": null,
            "grid_area": null,
            "grid_auto_columns": null,
            "grid_auto_flow": null,
            "grid_auto_rows": null,
            "grid_column": null,
            "grid_gap": null,
            "grid_row": null,
            "grid_template_areas": null,
            "grid_template_columns": null,
            "grid_template_rows": null,
            "height": null,
            "justify_content": null,
            "justify_items": null,
            "left": null,
            "margin": null,
            "max_height": null,
            "max_width": null,
            "min_height": null,
            "min_width": null,
            "object_fit": null,
            "object_position": null,
            "order": null,
            "overflow": null,
            "overflow_x": null,
            "overflow_y": null,
            "padding": null,
            "right": null,
            "top": null,
            "visibility": null,
            "width": null
          }
        },
        "6b072f5f5ff24f99b76d07a88f29ff04": {
          "model_module": "@jupyter-widgets/controls",
          "model_name": "ProgressStyleModel",
          "model_module_version": "1.5.0",
          "state": {
            "_model_module": "@jupyter-widgets/controls",
            "_model_module_version": "1.5.0",
            "_model_name": "ProgressStyleModel",
            "_view_count": null,
            "_view_module": "@jupyter-widgets/base",
            "_view_module_version": "1.2.0",
            "_view_name": "StyleView",
            "bar_color": null,
            "description_width": ""
          }
        },
        "2e7d41d13da446c7bf71210a4254be9c": {
          "model_module": "@jupyter-widgets/base",
          "model_name": "LayoutModel",
          "model_module_version": "1.2.0",
          "state": {
            "_model_module": "@jupyter-widgets/base",
            "_model_module_version": "1.2.0",
            "_model_name": "LayoutModel",
            "_view_count": null,
            "_view_module": "@jupyter-widgets/base",
            "_view_module_version": "1.2.0",
            "_view_name": "LayoutView",
            "align_content": null,
            "align_items": null,
            "align_self": null,
            "border": null,
            "bottom": null,
            "display": null,
            "flex": null,
            "flex_flow": null,
            "grid_area": null,
            "grid_auto_columns": null,
            "grid_auto_flow": null,
            "grid_auto_rows": null,
            "grid_column": null,
            "grid_gap": null,
            "grid_row": null,
            "grid_template_areas": null,
            "grid_template_columns": null,
            "grid_template_rows": null,
            "height": null,
            "justify_content": null,
            "justify_items": null,
            "left": null,
            "margin": null,
            "max_height": null,
            "max_width": null,
            "min_height": null,
            "min_width": null,
            "object_fit": null,
            "object_position": null,
            "order": null,
            "overflow": null,
            "overflow_x": null,
            "overflow_y": null,
            "padding": null,
            "right": null,
            "top": null,
            "visibility": null,
            "width": null
          }
        },
        "456bc4895a9e4eb2b9e259421e472067": {
          "model_module": "@jupyter-widgets/controls",
          "model_name": "DescriptionStyleModel",
          "model_module_version": "1.5.0",
          "state": {
            "_model_module": "@jupyter-widgets/controls",
            "_model_module_version": "1.5.0",
            "_model_name": "DescriptionStyleModel",
            "_view_count": null,
            "_view_module": "@jupyter-widgets/base",
            "_view_module_version": "1.2.0",
            "_view_name": "StyleView",
            "description_width": ""
          }
        },
        "2cfc6bff5d1e4a2bb5e0185fcfaf132b": {
          "model_module": "@jupyter-widgets/controls",
          "model_name": "HBoxModel",
          "model_module_version": "1.5.0",
          "state": {
            "_dom_classes": [],
            "_model_module": "@jupyter-widgets/controls",
            "_model_module_version": "1.5.0",
            "_model_name": "HBoxModel",
            "_view_count": null,
            "_view_module": "@jupyter-widgets/controls",
            "_view_module_version": "1.5.0",
            "_view_name": "HBoxView",
            "box_style": "",
            "children": [
              "IPY_MODEL_b7c5252762ab4f8eb393f69627c33246",
              "IPY_MODEL_3c50e12863704e439c8fc0d3b6b93c5b",
              "IPY_MODEL_ace58bc31dd849f3b608a8363a1eb767"
            ],
            "layout": "IPY_MODEL_50d72102b3924b42be8c9f40106c14f3"
          }
        },
        "b7c5252762ab4f8eb393f69627c33246": {
          "model_module": "@jupyter-widgets/controls",
          "model_name": "HTMLModel",
          "model_module_version": "1.5.0",
          "state": {
            "_dom_classes": [],
            "_model_module": "@jupyter-widgets/controls",
            "_model_module_version": "1.5.0",
            "_model_name": "HTMLModel",
            "_view_count": null,
            "_view_module": "@jupyter-widgets/controls",
            "_view_module_version": "1.5.0",
            "_view_name": "HTMLView",
            "description": "",
            "description_tooltip": null,
            "layout": "IPY_MODEL_96e144a1bfcb4db39b14338be8afea90",
            "placeholder": "​",
            "style": "IPY_MODEL_252bb68f89f04836bec908d1af018dae",
            "value": "100%"
          }
        },
        "3c50e12863704e439c8fc0d3b6b93c5b": {
          "model_module": "@jupyter-widgets/controls",
          "model_name": "FloatProgressModel",
          "model_module_version": "1.5.0",
          "state": {
            "_dom_classes": [],
            "_model_module": "@jupyter-widgets/controls",
            "_model_module_version": "1.5.0",
            "_model_name": "FloatProgressModel",
            "_view_count": null,
            "_view_module": "@jupyter-widgets/controls",
            "_view_module_version": "1.5.0",
            "_view_name": "ProgressView",
            "bar_style": "success",
            "description": "",
            "description_tooltip": null,
            "layout": "IPY_MODEL_aa8f1e7513554701ac062e302be3f0a4",
            "max": 102530333,
            "min": 0,
            "orientation": "horizontal",
            "style": "IPY_MODEL_21a15b9b15714c17abf582ae28a14129",
            "value": 102530333
          }
        },
        "ace58bc31dd849f3b608a8363a1eb767": {
          "model_module": "@jupyter-widgets/controls",
          "model_name": "HTMLModel",
          "model_module_version": "1.5.0",
          "state": {
            "_dom_classes": [],
            "_model_module": "@jupyter-widgets/controls",
            "_model_module_version": "1.5.0",
            "_model_name": "HTMLModel",
            "_view_count": null,
            "_view_module": "@jupyter-widgets/controls",
            "_view_module_version": "1.5.0",
            "_view_name": "HTMLView",
            "description": "",
            "description_tooltip": null,
            "layout": "IPY_MODEL_f572d2d75ef8407c88eeba69371b0b9c",
            "placeholder": "​",
            "style": "IPY_MODEL_8952840be258413dbc402cff10c395a3",
            "value": " 97.8M/97.8M [00:00&lt;00:00, 223MB/s]"
          }
        },
        "50d72102b3924b42be8c9f40106c14f3": {
          "model_module": "@jupyter-widgets/base",
          "model_name": "LayoutModel",
          "model_module_version": "1.2.0",
          "state": {
            "_model_module": "@jupyter-widgets/base",
            "_model_module_version": "1.2.0",
            "_model_name": "LayoutModel",
            "_view_count": null,
            "_view_module": "@jupyter-widgets/base",
            "_view_module_version": "1.2.0",
            "_view_name": "LayoutView",
            "align_content": null,
            "align_items": null,
            "align_self": null,
            "border": null,
            "bottom": null,
            "display": null,
            "flex": null,
            "flex_flow": null,
            "grid_area": null,
            "grid_auto_columns": null,
            "grid_auto_flow": null,
            "grid_auto_rows": null,
            "grid_column": null,
            "grid_gap": null,
            "grid_row": null,
            "grid_template_areas": null,
            "grid_template_columns": null,
            "grid_template_rows": null,
            "height": null,
            "justify_content": null,
            "justify_items": null,
            "left": null,
            "margin": null,
            "max_height": null,
            "max_width": null,
            "min_height": null,
            "min_width": null,
            "object_fit": null,
            "object_position": null,
            "order": null,
            "overflow": null,
            "overflow_x": null,
            "overflow_y": null,
            "padding": null,
            "right": null,
            "top": null,
            "visibility": null,
            "width": null
          }
        },
        "96e144a1bfcb4db39b14338be8afea90": {
          "model_module": "@jupyter-widgets/base",
          "model_name": "LayoutModel",
          "model_module_version": "1.2.0",
          "state": {
            "_model_module": "@jupyter-widgets/base",
            "_model_module_version": "1.2.0",
            "_model_name": "LayoutModel",
            "_view_count": null,
            "_view_module": "@jupyter-widgets/base",
            "_view_module_version": "1.2.0",
            "_view_name": "LayoutView",
            "align_content": null,
            "align_items": null,
            "align_self": null,
            "border": null,
            "bottom": null,
            "display": null,
            "flex": null,
            "flex_flow": null,
            "grid_area": null,
            "grid_auto_columns": null,
            "grid_auto_flow": null,
            "grid_auto_rows": null,
            "grid_column": null,
            "grid_gap": null,
            "grid_row": null,
            "grid_template_areas": null,
            "grid_template_columns": null,
            "grid_template_rows": null,
            "height": null,
            "justify_content": null,
            "justify_items": null,
            "left": null,
            "margin": null,
            "max_height": null,
            "max_width": null,
            "min_height": null,
            "min_width": null,
            "object_fit": null,
            "object_position": null,
            "order": null,
            "overflow": null,
            "overflow_x": null,
            "overflow_y": null,
            "padding": null,
            "right": null,
            "top": null,
            "visibility": null,
            "width": null
          }
        },
        "252bb68f89f04836bec908d1af018dae": {
          "model_module": "@jupyter-widgets/controls",
          "model_name": "DescriptionStyleModel",
          "model_module_version": "1.5.0",
          "state": {
            "_model_module": "@jupyter-widgets/controls",
            "_model_module_version": "1.5.0",
            "_model_name": "DescriptionStyleModel",
            "_view_count": null,
            "_view_module": "@jupyter-widgets/base",
            "_view_module_version": "1.2.0",
            "_view_name": "StyleView",
            "description_width": ""
          }
        },
        "aa8f1e7513554701ac062e302be3f0a4": {
          "model_module": "@jupyter-widgets/base",
          "model_name": "LayoutModel",
          "model_module_version": "1.2.0",
          "state": {
            "_model_module": "@jupyter-widgets/base",
            "_model_module_version": "1.2.0",
            "_model_name": "LayoutModel",
            "_view_count": null,
            "_view_module": "@jupyter-widgets/base",
            "_view_module_version": "1.2.0",
            "_view_name": "LayoutView",
            "align_content": null,
            "align_items": null,
            "align_self": null,
            "border": null,
            "bottom": null,
            "display": null,
            "flex": null,
            "flex_flow": null,
            "grid_area": null,
            "grid_auto_columns": null,
            "grid_auto_flow": null,
            "grid_auto_rows": null,
            "grid_column": null,
            "grid_gap": null,
            "grid_row": null,
            "grid_template_areas": null,
            "grid_template_columns": null,
            "grid_template_rows": null,
            "height": null,
            "justify_content": null,
            "justify_items": null,
            "left": null,
            "margin": null,
            "max_height": null,
            "max_width": null,
            "min_height": null,
            "min_width": null,
            "object_fit": null,
            "object_position": null,
            "order": null,
            "overflow": null,
            "overflow_x": null,
            "overflow_y": null,
            "padding": null,
            "right": null,
            "top": null,
            "visibility": null,
            "width": null
          }
        },
        "21a15b9b15714c17abf582ae28a14129": {
          "model_module": "@jupyter-widgets/controls",
          "model_name": "ProgressStyleModel",
          "model_module_version": "1.5.0",
          "state": {
            "_model_module": "@jupyter-widgets/controls",
            "_model_module_version": "1.5.0",
            "_model_name": "ProgressStyleModel",
            "_view_count": null,
            "_view_module": "@jupyter-widgets/base",
            "_view_module_version": "1.2.0",
            "_view_name": "StyleView",
            "bar_color": null,
            "description_width": ""
          }
        },
        "f572d2d75ef8407c88eeba69371b0b9c": {
          "model_module": "@jupyter-widgets/base",
          "model_name": "LayoutModel",
          "model_module_version": "1.2.0",
          "state": {
            "_model_module": "@jupyter-widgets/base",
            "_model_module_version": "1.2.0",
            "_model_name": "LayoutModel",
            "_view_count": null,
            "_view_module": "@jupyter-widgets/base",
            "_view_module_version": "1.2.0",
            "_view_name": "LayoutView",
            "align_content": null,
            "align_items": null,
            "align_self": null,
            "border": null,
            "bottom": null,
            "display": null,
            "flex": null,
            "flex_flow": null,
            "grid_area": null,
            "grid_auto_columns": null,
            "grid_auto_flow": null,
            "grid_auto_rows": null,
            "grid_column": null,
            "grid_gap": null,
            "grid_row": null,
            "grid_template_areas": null,
            "grid_template_columns": null,
            "grid_template_rows": null,
            "height": null,
            "justify_content": null,
            "justify_items": null,
            "left": null,
            "margin": null,
            "max_height": null,
            "max_width": null,
            "min_height": null,
            "min_width": null,
            "object_fit": null,
            "object_position": null,
            "order": null,
            "overflow": null,
            "overflow_x": null,
            "overflow_y": null,
            "padding": null,
            "right": null,
            "top": null,
            "visibility": null,
            "width": null
          }
        },
        "8952840be258413dbc402cff10c395a3": {
          "model_module": "@jupyter-widgets/controls",
          "model_name": "DescriptionStyleModel",
          "model_module_version": "1.5.0",
          "state": {
            "_model_module": "@jupyter-widgets/controls",
            "_model_module_version": "1.5.0",
            "_model_name": "DescriptionStyleModel",
            "_view_count": null,
            "_view_module": "@jupyter-widgets/base",
            "_view_module_version": "1.2.0",
            "_view_name": "StyleView",
            "description_width": ""
          }
        }
      }
    }
  },
  "nbformat": 4,
  "nbformat_minor": 0
}