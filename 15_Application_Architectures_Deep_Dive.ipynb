{
  "nbformat": 4,
  "nbformat_minor": 0,
  "metadata": {
    "colab": {
      "provenance": [],
      "authorship_tag": "ABX9TyMInIkX3GHBPXEQWluj5bVG",
      "include_colab_link": true
    },
    "kernelspec": {
      "name": "python3",
      "display_name": "Python 3"
    },
    "language_info": {
      "name": "python"
    },
    "widgets": {
      "application/vnd.jupyter.widget-state+json": {
        "68012915ad1d47e0bf4bcd497bc56feb": {
          "model_module": "@jupyter-widgets/controls",
          "model_name": "HBoxModel",
          "model_module_version": "1.5.0",
          "state": {
            "_dom_classes": [],
            "_model_module": "@jupyter-widgets/controls",
            "_model_module_version": "1.5.0",
            "_model_name": "HBoxModel",
            "_view_count": null,
            "_view_module": "@jupyter-widgets/controls",
            "_view_module_version": "1.5.0",
            "_view_name": "HBoxView",
            "box_style": "",
            "children": [
              "IPY_MODEL_4036380ca42e490694a1cf90059b8800",
              "IPY_MODEL_1eb2e80bc7ee4e359a86884c8510ca50",
              "IPY_MODEL_d80f8f624a1846acb72373146d459ccb"
            ],
            "layout": "IPY_MODEL_e39f123dd7294413bab2c7a23e74a5c7"
          }
        },
        "4036380ca42e490694a1cf90059b8800": {
          "model_module": "@jupyter-widgets/controls",
          "model_name": "HTMLModel",
          "model_module_version": "1.5.0",
          "state": {
            "_dom_classes": [],
            "_model_module": "@jupyter-widgets/controls",
            "_model_module_version": "1.5.0",
            "_model_name": "HTMLModel",
            "_view_count": null,
            "_view_module": "@jupyter-widgets/controls",
            "_view_module_version": "1.5.0",
            "_view_name": "HTMLView",
            "description": "",
            "description_tooltip": null,
            "layout": "IPY_MODEL_239d194b58ed4c91bc474eb3c7cd4aaa",
            "placeholder": "​",
            "style": "IPY_MODEL_a3654cbd2a0f4781ad215dacb2affa0f",
            "value": "100%"
          }
        },
        "1eb2e80bc7ee4e359a86884c8510ca50": {
          "model_module": "@jupyter-widgets/controls",
          "model_name": "FloatProgressModel",
          "model_module_version": "1.5.0",
          "state": {
            "_dom_classes": [],
            "_model_module": "@jupyter-widgets/controls",
            "_model_module_version": "1.5.0",
            "_model_name": "FloatProgressModel",
            "_view_count": null,
            "_view_module": "@jupyter-widgets/controls",
            "_view_module_version": "1.5.0",
            "_view_name": "ProgressView",
            "bar_style": "success",
            "description": "",
            "description_tooltip": null,
            "layout": "IPY_MODEL_6de6fb86d42446918433c858bf1648bc",
            "max": 87319819,
            "min": 0,
            "orientation": "horizontal",
            "style": "IPY_MODEL_b5465276d0d144639441c52907b7ac6c",
            "value": 87319819
          }
        },
        "d80f8f624a1846acb72373146d459ccb": {
          "model_module": "@jupyter-widgets/controls",
          "model_name": "HTMLModel",
          "model_module_version": "1.5.0",
          "state": {
            "_dom_classes": [],
            "_model_module": "@jupyter-widgets/controls",
            "_model_module_version": "1.5.0",
            "_model_name": "HTMLModel",
            "_view_count": null,
            "_view_module": "@jupyter-widgets/controls",
            "_view_module_version": "1.5.0",
            "_view_name": "HTMLView",
            "description": "",
            "description_tooltip": null,
            "layout": "IPY_MODEL_ebbab3d060644e0c809119b4a969c5df",
            "placeholder": "​",
            "style": "IPY_MODEL_c9c5eced2e274aafa93ac8da38e208d1",
            "value": " 83.3M/83.3M [00:01&lt;00:00, 122MB/s]"
          }
        },
        "e39f123dd7294413bab2c7a23e74a5c7": {
          "model_module": "@jupyter-widgets/base",
          "model_name": "LayoutModel",
          "model_module_version": "1.2.0",
          "state": {
            "_model_module": "@jupyter-widgets/base",
            "_model_module_version": "1.2.0",
            "_model_name": "LayoutModel",
            "_view_count": null,
            "_view_module": "@jupyter-widgets/base",
            "_view_module_version": "1.2.0",
            "_view_name": "LayoutView",
            "align_content": null,
            "align_items": null,
            "align_self": null,
            "border": null,
            "bottom": null,
            "display": null,
            "flex": null,
            "flex_flow": null,
            "grid_area": null,
            "grid_auto_columns": null,
            "grid_auto_flow": null,
            "grid_auto_rows": null,
            "grid_column": null,
            "grid_gap": null,
            "grid_row": null,
            "grid_template_areas": null,
            "grid_template_columns": null,
            "grid_template_rows": null,
            "height": null,
            "justify_content": null,
            "justify_items": null,
            "left": null,
            "margin": null,
            "max_height": null,
            "max_width": null,
            "min_height": null,
            "min_width": null,
            "object_fit": null,
            "object_position": null,
            "order": null,
            "overflow": null,
            "overflow_x": null,
            "overflow_y": null,
            "padding": null,
            "right": null,
            "top": null,
            "visibility": null,
            "width": null
          }
        },
        "239d194b58ed4c91bc474eb3c7cd4aaa": {
          "model_module": "@jupyter-widgets/base",
          "model_name": "LayoutModel",
          "model_module_version": "1.2.0",
          "state": {
            "_model_module": "@jupyter-widgets/base",
            "_model_module_version": "1.2.0",
            "_model_name": "LayoutModel",
            "_view_count": null,
            "_view_module": "@jupyter-widgets/base",
            "_view_module_version": "1.2.0",
            "_view_name": "LayoutView",
            "align_content": null,
            "align_items": null,
            "align_self": null,
            "border": null,
            "bottom": null,
            "display": null,
            "flex": null,
            "flex_flow": null,
            "grid_area": null,
            "grid_auto_columns": null,
            "grid_auto_flow": null,
            "grid_auto_rows": null,
            "grid_column": null,
            "grid_gap": null,
            "grid_row": null,
            "grid_template_areas": null,
            "grid_template_columns": null,
            "grid_template_rows": null,
            "height": null,
            "justify_content": null,
            "justify_items": null,
            "left": null,
            "margin": null,
            "max_height": null,
            "max_width": null,
            "min_height": null,
            "min_width": null,
            "object_fit": null,
            "object_position": null,
            "order": null,
            "overflow": null,
            "overflow_x": null,
            "overflow_y": null,
            "padding": null,
            "right": null,
            "top": null,
            "visibility": null,
            "width": null
          }
        },
        "a3654cbd2a0f4781ad215dacb2affa0f": {
          "model_module": "@jupyter-widgets/controls",
          "model_name": "DescriptionStyleModel",
          "model_module_version": "1.5.0",
          "state": {
            "_model_module": "@jupyter-widgets/controls",
            "_model_module_version": "1.5.0",
            "_model_name": "DescriptionStyleModel",
            "_view_count": null,
            "_view_module": "@jupyter-widgets/base",
            "_view_module_version": "1.2.0",
            "_view_name": "StyleView",
            "description_width": ""
          }
        },
        "6de6fb86d42446918433c858bf1648bc": {
          "model_module": "@jupyter-widgets/base",
          "model_name": "LayoutModel",
          "model_module_version": "1.2.0",
          "state": {
            "_model_module": "@jupyter-widgets/base",
            "_model_module_version": "1.2.0",
            "_model_name": "LayoutModel",
            "_view_count": null,
            "_view_module": "@jupyter-widgets/base",
            "_view_module_version": "1.2.0",
            "_view_name": "LayoutView",
            "align_content": null,
            "align_items": null,
            "align_self": null,
            "border": null,
            "bottom": null,
            "display": null,
            "flex": null,
            "flex_flow": null,
            "grid_area": null,
            "grid_auto_columns": null,
            "grid_auto_flow": null,
            "grid_auto_rows": null,
            "grid_column": null,
            "grid_gap": null,
            "grid_row": null,
            "grid_template_areas": null,
            "grid_template_columns": null,
            "grid_template_rows": null,
            "height": null,
            "justify_content": null,
            "justify_items": null,
            "left": null,
            "margin": null,
            "max_height": null,
            "max_width": null,
            "min_height": null,
            "min_width": null,
            "object_fit": null,
            "object_position": null,
            "order": null,
            "overflow": null,
            "overflow_x": null,
            "overflow_y": null,
            "padding": null,
            "right": null,
            "top": null,
            "visibility": null,
            "width": null
          }
        },
        "b5465276d0d144639441c52907b7ac6c": {
          "model_module": "@jupyter-widgets/controls",
          "model_name": "ProgressStyleModel",
          "model_module_version": "1.5.0",
          "state": {
            "_model_module": "@jupyter-widgets/controls",
            "_model_module_version": "1.5.0",
            "_model_name": "ProgressStyleModel",
            "_view_count": null,
            "_view_module": "@jupyter-widgets/base",
            "_view_module_version": "1.2.0",
            "_view_name": "StyleView",
            "bar_color": null,
            "description_width": ""
          }
        },
        "ebbab3d060644e0c809119b4a969c5df": {
          "model_module": "@jupyter-widgets/base",
          "model_name": "LayoutModel",
          "model_module_version": "1.2.0",
          "state": {
            "_model_module": "@jupyter-widgets/base",
            "_model_module_version": "1.2.0",
            "_model_name": "LayoutModel",
            "_view_count": null,
            "_view_module": "@jupyter-widgets/base",
            "_view_module_version": "1.2.0",
            "_view_name": "LayoutView",
            "align_content": null,
            "align_items": null,
            "align_self": null,
            "border": null,
            "bottom": null,
            "display": null,
            "flex": null,
            "flex_flow": null,
            "grid_area": null,
            "grid_auto_columns": null,
            "grid_auto_flow": null,
            "grid_auto_rows": null,
            "grid_column": null,
            "grid_gap": null,
            "grid_row": null,
            "grid_template_areas": null,
            "grid_template_columns": null,
            "grid_template_rows": null,
            "height": null,
            "justify_content": null,
            "justify_items": null,
            "left": null,
            "margin": null,
            "max_height": null,
            "max_width": null,
            "min_height": null,
            "min_width": null,
            "object_fit": null,
            "object_position": null,
            "order": null,
            "overflow": null,
            "overflow_x": null,
            "overflow_y": null,
            "padding": null,
            "right": null,
            "top": null,
            "visibility": null,
            "width": null
          }
        },
        "c9c5eced2e274aafa93ac8da38e208d1": {
          "model_module": "@jupyter-widgets/controls",
          "model_name": "DescriptionStyleModel",
          "model_module_version": "1.5.0",
          "state": {
            "_model_module": "@jupyter-widgets/controls",
            "_model_module_version": "1.5.0",
            "_model_name": "DescriptionStyleModel",
            "_view_count": null,
            "_view_module": "@jupyter-widgets/base",
            "_view_module_version": "1.2.0",
            "_view_name": "StyleView",
            "description_width": ""
          }
        }
      }
    }
  },
  "cells": [
    {
      "cell_type": "markdown",
      "metadata": {
        "id": "view-in-github",
        "colab_type": "text"
      },
      "source": [
        "<a href=\"https://colab.research.google.com/github/afortuny/DeepLearningFastAI/blob/main/15_Application_Architectures_Deep_Dive.ipynb\" target=\"_parent\"><img src=\"https://colab.research.google.com/assets/colab-badge.svg\" alt=\"Open In Colab\"/></a>"
      ]
    },
    {
      "cell_type": "markdown",
      "source": [
        "# Application Architectures Deep Dive"
      ],
      "metadata": {
        "id": "oCF3z8WhpE8n"
      }
    },
    {
      "cell_type": "markdown",
      "source": [
        "In this chapter, we're going to fill in all the missing details on how fastai's application models work and show you how to build the models they use."
      ],
      "metadata": {
        "id": "97Z5RbS2qoDN"
      }
    },
    {
      "cell_type": "code",
      "source": [
        "! [ -e /content ] && pip install -Uqq fastbook\n",
        "import fastbook\n",
        "fastbook.setup_book()"
      ],
      "metadata": {
        "colab": {
          "base_uri": "https://localhost:8080/"
        },
        "id": "sZcG5roqqA-g",
        "outputId": "60afb431-ca7d-4098-e53e-2eea09404147"
      },
      "execution_count": 1,
      "outputs": [
        {
          "output_type": "stream",
          "name": "stdout",
          "text": [
            "\u001b[K     |████████████████████████████████| 719 kB 4.9 MB/s \n",
            "\u001b[K     |████████████████████████████████| 4.9 MB 43.9 MB/s \n",
            "\u001b[K     |████████████████████████████████| 1.3 MB 12.8 MB/s \n",
            "\u001b[K     |████████████████████████████████| 431 kB 58.2 MB/s \n",
            "\u001b[K     |████████████████████████████████| 163 kB 54.6 MB/s \n",
            "\u001b[K     |████████████████████████████████| 115 kB 56.6 MB/s \n",
            "\u001b[K     |████████████████████████████████| 212 kB 48.6 MB/s \n",
            "\u001b[K     |████████████████████████████████| 127 kB 66.7 MB/s \n",
            "\u001b[K     |████████████████████████████████| 6.6 MB 19.7 MB/s \n",
            "\u001b[?25hMounted at /content/gdrive\n"
          ]
        }
      ]
    },
    {
      "cell_type": "code",
      "source": [
        "#hide\n",
        "from fastbook import *"
      ],
      "metadata": {
        "id": "5RkLqQOOqDCl"
      },
      "execution_count": 2,
      "outputs": []
    },
    {
      "cell_type": "markdown",
      "source": [
        "# Computer Vision"
      ],
      "metadata": {
        "id": "a6qLAEr0qKwX"
      }
    },
    {
      "cell_type": "markdown",
      "source": [
        "For computer vision application we use the functions vision_learner and unet_learner to build our models, depending on the task. In this section we'll explore how to build the Learner objects we used in Parts 1 and 2 of this book."
      ],
      "metadata": {
        "id": "Nb91GF-0qreW"
      }
    },
    {
      "cell_type": "markdown",
      "source": [
        "### vision_learner"
      ],
      "metadata": {
        "id": "pdRCeLLfqxk6"
      }
    },
    {
      "cell_type": "markdown",
      "source": [
        "Let's take a look at what happens when we use the vision_learner function. We begin by passing this function an architecture to use for the body of the network. Most of the time we use a ResNet, pretrained weights are downloaded as required and loaded into the ResNet."
      ],
      "metadata": {
        "id": "78AOBkIRqzMs"
      }
    },
    {
      "cell_type": "markdown",
      "source": [
        "Then, for transfer learning, the network needs to be cut. This refers to slicing off the final layer, which is only responsible for ImageNet-specific categorization. In fact, we do not slice off only this layer, but everything from the adaptive average pooling layer onwards. The reason for this will become clear in just a moment. Since different architectures might use different types of pooling layers, or even completely different kinds of heads, we don't just search for the adaptive pooling layer to decide where to cut the pretrained model. Instead, we have a dictionary of information that is used for each model to determine where its body ends, and its head starts. We call this model_meta—here it is for resnet-50:"
      ],
      "metadata": {
        "id": "vSHmsihJrJ4f"
      }
    },
    {
      "cell_type": "code",
      "source": [
        "model_meta[resnet50]"
      ],
      "metadata": {
        "colab": {
          "base_uri": "https://localhost:8080/"
        },
        "id": "ACczN8tcrMI2",
        "outputId": "3506cd79-90ed-41cb-9f22-429d07e5df00"
      },
      "execution_count": 3,
      "outputs": [
        {
          "output_type": "execute_result",
          "data": {
            "text/plain": [
              "{'cut': -2,\n",
              " 'split': <function fastai.vision.learner._resnet_split(m)>,\n",
              " 'stats': ([0.485, 0.456, 0.406], [0.229, 0.224, 0.225])}"
            ]
          },
          "metadata": {},
          "execution_count": 3
        }
      ]
    },
    {
      "cell_type": "markdown",
      "source": [
        "If we take all of the layers prior to the cut point of -2, we get the part of the model that fastai will keep for transfer learning. Now, we put on our new head. This is created using the function create_head:"
      ],
      "metadata": {
        "id": "Vd4ta0LPrTip"
      }
    },
    {
      "cell_type": "code",
      "source": [
        "create_head(20,2)"
      ],
      "metadata": {
        "colab": {
          "base_uri": "https://localhost:8080/"
        },
        "id": "2vSlB7UbrYSO",
        "outputId": "f71681c4-f982-4393-c9ba-05abf5efe4eb"
      },
      "execution_count": 4,
      "outputs": [
        {
          "output_type": "execute_result",
          "data": {
            "text/plain": [
              "Sequential(\n",
              "  (0): AdaptiveConcatPool2d(\n",
              "    (ap): AdaptiveAvgPool2d(output_size=1)\n",
              "    (mp): AdaptiveMaxPool2d(output_size=1)\n",
              "  )\n",
              "  (1): fastai.layers.Flatten(full=False)\n",
              "  (2): BatchNorm1d(40, eps=1e-05, momentum=0.1, affine=True, track_running_stats=True)\n",
              "  (3): Dropout(p=0.25, inplace=False)\n",
              "  (4): Linear(in_features=40, out_features=512, bias=False)\n",
              "  (5): ReLU(inplace=True)\n",
              "  (6): BatchNorm1d(512, eps=1e-05, momentum=0.1, affine=True, track_running_stats=True)\n",
              "  (7): Dropout(p=0.5, inplace=False)\n",
              "  (8): Linear(in_features=512, out_features=2, bias=False)\n",
              ")"
            ]
          },
          "metadata": {},
          "execution_count": 4
        }
      ]
    },
    {
      "cell_type": "markdown",
      "source": [
        "With this function you can choose how many additional linear layers are added to the end, how much dropout to use after each one, and what kind of pooling to use. By default, fastai will apply both average pooling, and max pooling, and will concatenate the two together (this is the AdaptiveConcatPool2d layer). This is not a particularly common approach, but it was developed independently at fastai and other research labs in recent years, and tends to provide some small improvement over using just average pooling."
      ],
      "metadata": {
        "id": "MWDq_PKlriYp"
      }
    },
    {
      "cell_type": "markdown",
      "source": [
        "***fastai*** is a bit different from most libraries in that by default it adds two linear layers, rather than one, in the CNN head. The reason for this is that transfer learning can still be useful even, as we have seen, when transferring the pretrained model to very different domains. However, just using a single linear layer is unlikely to be enough in these cases; we have found that using two linear layers can allow transfer learning to be used more quickly and easily, in more situations."
      ],
      "metadata": {
        "id": "AuR6cRrkrtYy"
      }
    },
    {
      "cell_type": "markdown",
      "source": [
        "Let's now take a look at what unet_learner do for segmentation problems"
      ],
      "metadata": {
        "id": "6cz1Rwm6r8Cv"
      }
    },
    {
      "cell_type": "markdown",
      "source": [
        "# unet_learner"
      ],
      "metadata": {
        "id": "iV-Rwntyr-fI"
      }
    },
    {
      "cell_type": "markdown",
      "source": [
        "One of the most interesting architectures in deep learning is the one that we used for segmentation. Segmentation is a challenging task, because the output required is really an image, or a pixel grid, containing the predicted label for every pixel. There are other tasks that share a similar basic design, such as increasing the resolution of an image (super-resolution), adding color to a black-and-white image (colorization), or converting a photo into a synthetic painting (style transfer). In each case, we are starting with an image and converting it to some other image of the same dimensions or aspect ratio, but with the pixels altered in some way. We refer to these as generative vision models."
      ],
      "metadata": {
        "id": "xrY-1-ErsHSS"
      }
    },
    {
      "cell_type": "markdown",
      "source": [
        "Naturally, we do this with a neural network! So we need some kind of layer that can increase the grid size in a CNN. One very simple approach to this is to replace every pixel in the 7×7 grid with four pixels in a 2×2 square. Each of those four pixels will have the same value—this is known as nearest neighbor interpolation. PyTorch provides a layer that does this for us, so one option is to create a head that contains stride-1 convolutional layers (along with batchnorm and ReLU layers as usual) interspersed with 2×2 nearest neighbor interpolation layers.Another approach is to replace the nearest neighbor and convolution combination with a transposed convolution, otherwise known as a stride half convolution. This is identical to a regular convolution, but first zero padding is inserted between all the pixels in the input. See the [arithmetic convolution paper](https://arxiv.org/abs/1603.07285) for a visual inspection.The result of this is to increase the size of the input. You can try this out now by using fastai's ConvLayer class; pass the parameter transpose=True to create a transposed convolution, instead of a regular one, in your custom head."
      ],
      "metadata": {
        "id": "6KoJXfYxsm7c"
      }
    },
    {
      "cell_type": "markdown",
      "source": [
        "Neither of these approaches, however, works really well. The problem is that our 7×7 grid simply doesn't have enough information to create a 224×224-pixel output. It's asking an awful lot of the activations of each of those grid cells to have enough information to fully regenerate every pixel in the output. The solution to this problem is to use skip connections, like in a ResNet, but skipping from the activations in the body of the ResNet all the way over to the activations of the transposed convolution on the opposite side of the architecture. This approach, was developed by Olaf Ronneberger, Philipp Fischer, and Thomas Brox in the 2015 paper \"U-Net: Convolutional Networks for Biomedical Image Segmentation\". Although the paper focused on medical applications, the U-Net has revolutionized all kinds of generative vision models."
      ],
      "metadata": {
        "id": "4xBfJQepty9Q"
      }
    },
    {
      "cell_type": "markdown",
      "source": [
        "With this architecture, the input to the transposed convolutions is not just the lower-resolution grid in the preceding layer, but also the higher-resolution grid in the ResNet head. This allows the U-Net to use all of the information of the original image, as it is needed. One challenge with U-Nets is that the exact architecture depends on the image size. fastai has a unique DynamicUnet class that autogenerates an architecture of the right size based on the data provided."
      ],
      "metadata": {
        "id": "_5rzJ9l1wk-Z"
      }
    },
    {
      "cell_type": "markdown",
      "source": [
        "We will show now how it can be use for a driving segmentation data set"
      ],
      "metadata": {
        "id": "g7mHEPZVxAAc"
      }
    },
    {
      "cell_type": "code",
      "source": [
        "path = untar_data(URLs.CAMVID_TINY)\n",
        "dls = SegmentationDataLoaders.from_label_func(\n",
        "    path, bs=8, fnames = get_image_files(path/\"images\"),\n",
        "    label_func = lambda o: path/'labels'/f'{o.stem}_P{o.suffix}',\n",
        "    codes = np.loadtxt(path/'codes.txt', dtype=str)\n",
        ")\n",
        "\n",
        "learn = unet_learner(dls, resnet34)\n",
        "learn.fine_tune(8)"
      ],
      "metadata": {
        "colab": {
          "base_uri": "https://localhost:8080/",
          "height": 444,
          "referenced_widgets": [
            "68012915ad1d47e0bf4bcd497bc56feb",
            "4036380ca42e490694a1cf90059b8800",
            "1eb2e80bc7ee4e359a86884c8510ca50",
            "d80f8f624a1846acb72373146d459ccb",
            "e39f123dd7294413bab2c7a23e74a5c7",
            "239d194b58ed4c91bc474eb3c7cd4aaa",
            "a3654cbd2a0f4781ad215dacb2affa0f",
            "6de6fb86d42446918433c858bf1648bc",
            "b5465276d0d144639441c52907b7ac6c",
            "ebbab3d060644e0c809119b4a969c5df",
            "c9c5eced2e274aafa93ac8da38e208d1"
          ]
        },
        "id": "gW5s8Ml-w0Z0",
        "outputId": "04cfd238-4f1e-4afe-cb7e-262d46a38b06"
      },
      "execution_count": null,
      "outputs": [
        {
          "output_type": "display_data",
          "data": {
            "text/plain": [
              "<IPython.core.display.HTML object>"
            ],
            "text/html": [
              "\n",
              "<style>\n",
              "    /* Turns off some styling */\n",
              "    progress {\n",
              "        /* gets rid of default border in Firefox and Opera. */\n",
              "        border: none;\n",
              "        /* Needs to be in here for Safari polyfill so background images work as expected. */\n",
              "        background-size: auto;\n",
              "    }\n",
              "    progress:not([value]), progress:not([value])::-webkit-progress-bar {\n",
              "        background: repeating-linear-gradient(45deg, #7e7e7e, #7e7e7e 10px, #5c5c5c 10px, #5c5c5c 20px);\n",
              "    }\n",
              "    .progress-bar-interrupted, .progress-bar-interrupted::-webkit-progress-bar {\n",
              "        background: #F44336;\n",
              "    }\n",
              "</style>\n"
            ]
          },
          "metadata": {}
        },
        {
          "output_type": "display_data",
          "data": {
            "text/plain": [
              "<IPython.core.display.HTML object>"
            ],
            "text/html": [
              "\n",
              "    <div>\n",
              "      <progress value='2318336' class='' max='2314212' style='width:300px; height:20px; vertical-align: middle;'></progress>\n",
              "      100.18% [2318336/2314212 00:00&lt;00:00]\n",
              "    </div>\n",
              "    "
            ]
          },
          "metadata": {}
        },
        {
          "output_type": "stream",
          "name": "stderr",
          "text": [
            "/usr/local/lib/python3.7/dist-packages/torchvision/models/_utils.py:209: UserWarning: The parameter 'pretrained' is deprecated since 0.13 and will be removed in 0.15, please use 'weights' instead.\n",
            "  f\"The parameter '{pretrained_param}' is deprecated since 0.13 and will be removed in 0.15, \"\n",
            "/usr/local/lib/python3.7/dist-packages/torchvision/models/_utils.py:223: UserWarning: Arguments other than a weight enum or `None` for 'weights' are deprecated since 0.13 and will be removed in 0.15. The current behavior is equivalent to passing `weights=ResNet34_Weights.IMAGENET1K_V1`. You can also use `weights=ResNet34_Weights.DEFAULT` to get the most up-to-date weights.\n",
            "  warnings.warn(msg)\n",
            "Downloading: \"https://download.pytorch.org/models/resnet34-b627a593.pth\" to /root/.cache/torch/hub/checkpoints/resnet34-b627a593.pth\n"
          ]
        },
        {
          "output_type": "display_data",
          "data": {
            "text/plain": [
              "  0%|          | 0.00/83.3M [00:00<?, ?B/s]"
            ],
            "application/vnd.jupyter.widget-view+json": {
              "version_major": 2,
              "version_minor": 0,
              "model_id": "68012915ad1d47e0bf4bcd497bc56feb"
            }
          },
          "metadata": {}
        },
        {
          "output_type": "display_data",
          "data": {
            "text/plain": [
              "<IPython.core.display.HTML object>"
            ],
            "text/html": [
              "\n",
              "<style>\n",
              "    /* Turns off some styling */\n",
              "    progress {\n",
              "        /* gets rid of default border in Firefox and Opera. */\n",
              "        border: none;\n",
              "        /* Needs to be in here for Safari polyfill so background images work as expected. */\n",
              "        background-size: auto;\n",
              "    }\n",
              "    progress:not([value]), progress:not([value])::-webkit-progress-bar {\n",
              "        background: repeating-linear-gradient(45deg, #7e7e7e, #7e7e7e 10px, #5c5c5c 10px, #5c5c5c 20px);\n",
              "    }\n",
              "    .progress-bar-interrupted, .progress-bar-interrupted::-webkit-progress-bar {\n",
              "        background: #F44336;\n",
              "    }\n",
              "</style>\n"
            ]
          },
          "metadata": {}
        },
        {
          "output_type": "display_data",
          "data": {
            "text/plain": [
              "<IPython.core.display.HTML object>"
            ],
            "text/html": [
              "<table border=\"1\" class=\"dataframe\">\n",
              "  <thead>\n",
              "    <tr style=\"text-align: left;\">\n",
              "      <th>epoch</th>\n",
              "      <th>train_loss</th>\n",
              "      <th>valid_loss</th>\n",
              "      <th>time</th>\n",
              "    </tr>\n",
              "  </thead>\n",
              "  <tbody>\n",
              "    <tr>\n",
              "      <td>0</td>\n",
              "      <td>2.912031</td>\n",
              "      <td>2.309602</td>\n",
              "      <td>01:16</td>\n",
              "    </tr>\n",
              "  </tbody>\n",
              "</table>"
            ]
          },
          "metadata": {}
        },
        {
          "output_type": "display_data",
          "data": {
            "text/plain": [
              "<IPython.core.display.HTML object>"
            ],
            "text/html": [
              "\n",
              "<style>\n",
              "    /* Turns off some styling */\n",
              "    progress {\n",
              "        /* gets rid of default border in Firefox and Opera. */\n",
              "        border: none;\n",
              "        /* Needs to be in here for Safari polyfill so background images work as expected. */\n",
              "        background-size: auto;\n",
              "    }\n",
              "    progress:not([value]), progress:not([value])::-webkit-progress-bar {\n",
              "        background: repeating-linear-gradient(45deg, #7e7e7e, #7e7e7e 10px, #5c5c5c 10px, #5c5c5c 20px);\n",
              "    }\n",
              "    .progress-bar-interrupted, .progress-bar-interrupted::-webkit-progress-bar {\n",
              "        background: #F44336;\n",
              "    }\n",
              "</style>\n"
            ]
          },
          "metadata": {}
        },
        {
          "output_type": "display_data",
          "data": {
            "text/plain": [
              "<IPython.core.display.HTML object>"
            ],
            "text/html": [
              "\n",
              "    <div>\n",
              "      <progress value='4' class='' max='8' style='width:300px; height:20px; vertical-align: middle;'></progress>\n",
              "      50.00% [4/8 05:03&lt;05:03]\n",
              "    </div>\n",
              "    \n",
              "<table border=\"1\" class=\"dataframe\">\n",
              "  <thead>\n",
              "    <tr style=\"text-align: left;\">\n",
              "      <th>epoch</th>\n",
              "      <th>train_loss</th>\n",
              "      <th>valid_loss</th>\n",
              "      <th>time</th>\n",
              "    </tr>\n",
              "  </thead>\n",
              "  <tbody>\n",
              "    <tr>\n",
              "      <td>0</td>\n",
              "      <td>1.800495</td>\n",
              "      <td>1.583928</td>\n",
              "      <td>01:16</td>\n",
              "    </tr>\n",
              "    <tr>\n",
              "      <td>1</td>\n",
              "      <td>1.571422</td>\n",
              "      <td>1.470469</td>\n",
              "      <td>01:15</td>\n",
              "    </tr>\n",
              "    <tr>\n",
              "      <td>2</td>\n",
              "      <td>1.414757</td>\n",
              "      <td>1.303472</td>\n",
              "      <td>01:16</td>\n",
              "    </tr>\n",
              "    <tr>\n",
              "      <td>3</td>\n",
              "      <td>1.303311</td>\n",
              "      <td>1.124085</td>\n",
              "      <td>01:14</td>\n",
              "    </tr>\n",
              "  </tbody>\n",
              "</table><p>\n",
              "\n",
              "    <div>\n",
              "      <progress value='8' class='' max='10' style='width:300px; height:20px; vertical-align: middle;'></progress>\n",
              "      80.00% [8/10 00:55&lt;00:13 1.2259]\n",
              "    </div>\n",
              "    "
            ]
          },
          "metadata": {}
        }
      ]
    },
    {
      "cell_type": "code",
      "source": [
        "learn.show_results(max_n=6, figsize=(7,8))"
      ],
      "metadata": {
        "id": "6NXDBvxEw21F"
      },
      "execution_count": null,
      "outputs": []
    },
    {
      "cell_type": "markdown",
      "source": [
        "We can visualize how well it achieved its task, by asking the model to color-code each pixel of an image. As you can see, it nearly perfectly classifies every pixel in every object. For instance, notice that all of the cars are overlaid with the same color and all of the trees are overlaid with the same color (in each pair of images, the lefthand image is the ground truth label and the right is the prediction from the model):"
      ],
      "metadata": {
        "id": "e1Q1tUMnw-BU"
      }
    },
    {
      "cell_type": "markdown",
      "source": [
        "# NLP and Tabular"
      ],
      "metadata": {
        "id": "A1xCGdEcxxsN"
      }
    },
    {
      "cell_type": "markdown",
      "source": [
        "Note that as part of implementing what was showed during the course, the NLP and Tabular notebooks I edited show how it can be use on you own dataset:\n",
        "\n",
        "\n",
        "\n",
        "*   [NLP notebook](https://github.com/afortuny/DeepLearningFastAI/blob/main/11_nlp.ipynb)\n",
        "*   [Tabular Notebook](https://github.com/afortuny/DeepLearningFastAI/blob/main/10_tabular.ipynb)\n",
        "\n",
        "Even more generic problems have been implemented on my end, with siamese networks for [whale detection](https://github.com/afortuny/DeepLearningFastAI/blob/main/12_midlevel_data_API.ipynb) and [categorical embeddings for pump failure prediction.](https://github.com/afortuny/DeepLearningFastAI/blob/main/Failing%20Water%20Pupm%20Detection%20with%20Tabular%20Learner.ipynb)\n",
        "\n",
        "\n"
      ],
      "metadata": {
        "id": "pPmNU4_Qx1S6"
      }
    },
    {
      "cell_type": "markdown",
      "source": [
        "# Moving forward"
      ],
      "metadata": {
        "id": "mJ-Fhcl_yqod"
      }
    },
    {
      "cell_type": "markdown",
      "source": [
        "As you can see, the details of deep learning architectures need not scare you now. You can look inside the code of fastai and PyTorch and see just what is going on. More importantly, try to understand why it's going on. Take a look at the papers that are being referenced in the code, and try to see how the code matches up to the algorithms that are described.\n",
        "\n",
        "Now that we have investigated all of the pieces of a model and the data that is passed into it, we can consider what this means for practical deep learning. If you have unlimited data, unlimited memory, and unlimited time, then the advice is easy: train a huge model on all of your data for a really long time. But the reason that deep learning is not straightforward is because your data, memory, and time are typically limited. If you are running out of memory or time, then the solution is to train a smaller model. If you are not able to train for long enough to overfit, then you are not taking advantage of the capacity of your model.\n",
        "\n",
        "So, step one is to get to the point where you can overfit. Then the question is how to reduce that overfitting. "
      ],
      "metadata": {
        "id": "9FaVJqH9z04X"
      }
    },
    {
      "cell_type": "markdown",
      "source": [
        "![Capture.JPG](data:image/jpeg;base64,/9j/4AAQSkZJRgABAQEAkACQAAD/4REKRXhpZgAATU0AKgAAAAgABAE7AAIAAAAVAAAISodpAAQAAAABAAAIYJydAAEAAAAqAAAQ2OocAAcAAAgMAAAAPgAAAAAc6gAAAAgAAAAAAAAAAAAAAAAAAAAAAAAAAAAAAAAAAAAAAAAAAAAAAAAAAAAAAAAAAAAAAAAAAAAAAAAAAAAAAAAAAAAAAAAAAAAAAAAAAAAAAAAAAAAAAAAAAAAAAAAAAAAAAAAAAAAAAAAAAAAAAAAAAAAAAAAAAAAAAAAAAAAAAAAAAAAAAAAAAAAAAAAAAAAAAAAAAAAAAAAAAAAAAAAAAAAAAAAAAAAAAAAAAAAAAAAAAAAAAAAAAAAAAAAAAAAAAAAAAAAAAAAAAAAAAAAAAAAAAAAAAAAAAAAAAAAAAAAAAAAAAAAAAAAAAAAAAAAAAAAAAAAAAAAAAAAAAAAAAAAAAAAAAAAAAAAAAAAAAAAAAAAAAAAAAAAAAAAAAAAAAAAAAAAAAAAAAAAAAAAAAAAAAAAAAAAAAAAAAAAAAAAAAAAAAAAAAAAAAAAAAAAAAAAAAAAAAAAAAAAAAAAAAAAAAAAAAAAAAAAAAAAAAAAAAAAAAAAAAAAAAAAAAAAAAAAAAAAAAAAAAAAAAAAAAAAAAAAAAAAAAAAAAAAAAAAAAAAAAAAAAAAAAAAAAAAAAAAAAAAAAAAAAAAAAAAAAAAAAAAAAAAAAAAAAAAAAAAAAAAAAAAAAAAAAAAAAAAAAAAAAAAAAAAAAAAAAAAAAAAAAAAAAAAAAAAAAAAAAAAAAAAAAAAAAAAAAAAAAAAAAAAAAAAAAAAAAAAAAAAAAAAAAAAAAAAAAAAAAAAAAAAAAAAAAAAAAAAAAAAAAAAAAAAAAAAAAAAAAAAAAAAAAAAAAAAAAAAAAAAAAAAAAAAAAAAAAAAAAAAAAAAAAAAAAAAAAAAAAAAAAAAAAAAAAAAAAAAAAAAAAAAAAAAAAAAAAAAAAAAAAAAAAAAAAAAAAAAAAAAAAAAAAAAAAAAAAAAAAAAAAAAAAAAAAAAAAAAAAAAAAAAAAAAAAAAAAAAAAAAAAAAAAAAAAAAAAAAAAAAAAAAAAAAAAAAAAAAAAAAAAAAAAAAAAAAAAAAAAAAAAAAAAAAAAAAAAAAAAAAAAAAAAAAAAAAAAAAAAAAAAAAAAAAAAAAAAAAAAAAAAAAAAAAAAAAAAAAAAAAAAAAAAAAAAAAAAAAAAAAAAAAAAAAAAAAAAAAAAAAAAAAAAAAAAAAAAAAAAAAAAAAAAAAAAAAAAAAAAAAAAAAAAAAAAAAAAAAAAAAAAAAAAAAAAAAAAAAAAAAAAAAAAAAAAAAAAAAAAAAAAAAAAAAAAAAAAAAAAAAAAAAAAAAAAAAAAAAAAAAAAAAAAAAAAAAAAAAAAAAAAAAAAAAAAAAAAAAAAAAAAAAAAAAAAAAAAAAAAAAAAAAAAAAAAAAAAAAAAAAAAAAAAAAAAAAAAAAAAAAAAAAAAAAAAAAAAAAAAAAAAAAAAAAAAAAAAAAAAAAAAAAAAAAAAAAAAAAAAAAAAAAAAAAAAAAAAAAAAAAAAAAAAAAAAAAAAAAAAAAAAAAAAAAAAAAAAAAAAAAAAAAAAAAAAAAAAAAAAAAAAAAAAAAAAAAAAAAAAAAAAAAAAAAAAAAAAAAAAAAAAAAAAAAAAAAAAAAAAAAAAAAAAAAAAAAAAAAAAAAAAAAAAAAAAAAAAAAAAAAAAAAAAAAAAAAAAAAAAAAAAAAAAAAAAAAAAAAAAAAAAAAAAAAAAAAAAAAAAAAAAAAAAAAAAAAAAAAAAAAAAAAAAAAAAAAAAAAAAAAAAAAAAAAAAAAAAAAAAAAAAAAAAAAAAAAAAAAAAAAAAAAAAAAAAAAAAAAAAAAAAAAAAAAAAAAAAAAAAAAAAAAAAAAAAAAAAAAAAAAAAAAAAAAAAAAAAAAAAAAAAAAAAAAAAAAAAAAAAAAAAAAAAAAAAAAAAAAAAAAAAAAAAAAAAAAAAAAAAAAAAAAAAAAAAAAAAAAAAAAAAAAAAAAAAAAAAAAAAAAAAAAAAAAAAAAAAAAAAAAAAAAAAAAAAAAAAAAAAAAAAAAAAAAAAAAAAAAAAAAAAAAAAAAAAAAAAAAAAAAAAAAAAAAAAAAAAAAAAAAAAAAAAAAAAAAAAAAAAAAAAAAAAAAAAAAAAAAAAAAAAAAAAAAAAAAAAAAAAAAAAAAAAAAAAAAAAAAAAAAAAAAAAAAAAAAAAAAAAAAAAAAAAAAAAAAAAAAAAAAAAAAAAAAAAAAAAAAAAAAAAAAAAAAAAAAAAAAAAAAAAAAAAAAAAAAAAAAAAAAAAAAAAAAAAAAAAAAAAAAAAAAAAAAAAAAAAAAAAAAAAAAAAAAAAAAAAAAAAAAAAAAAAAAAAAAAAAAAAAAAAAAAAAAAAAAAAAAAAAAAAAAAAAAAAAAAAAAAAAAAAAAAAAAAAAAAAAAAAAAAAAAAAAAAAAAAAAAAAAAAAAAAAAAAAAAAAAAAAAAAAAAAAAAAAAAAAAAAAAAAAAAAAAAAAAAAAAAAAAAAAAAAAAAAAAAAAAAAAAAAAAAAAAAAAAAAAAAAAAAAAAAAAAAAAAAAAAAAAAAAAAAAAAAAAAAAAAAAAAAAAAAAAAAAAAAAAAAAAAAAAAAAAAAAAAAAAAAAAAAAAAAAAAAAAAAAAAAAAAAAAAAAAAAAAAAAAAAAAAAAAAAAAAAAAAAAAAAAAAAAAAAAAAAAAAAAAAAAAAAAAAAAAAAAAAAAAAAAAAAAAAAAAAAAAAAAAAAAAAAAAAAAAAAAAAAAAAAAAAAAAAAAAAAAAAAAAAAAAAAAAAAAAAAAAAAAAAAAAEZvcnR1bnkgU2ljYXJ0LCBBbGFuAAAABZADAAIAAAAUAAAQrpAEAAIAAAAUAAAQwpKRAAIAAAADMDQAAJKSAAIAAAADMDQAAOocAAcAAAgMAAAIogAAAAAc6gAAAAgAAAAAAAAAAAAAAAAAAAAAAAAAAAAAAAAAAAAAAAAAAAAAAAAAAAAAAAAAAAAAAAAAAAAAAAAAAAAAAAAAAAAAAAAAAAAAAAAAAAAAAAAAAAAAAAAAAAAAAAAAAAAAAAAAAAAAAAAAAAAAAAAAAAAAAAAAAAAAAAAAAAAAAAAAAAAAAAAAAAAAAAAAAAAAAAAAAAAAAAAAAAAAAAAAAAAAAAAAAAAAAAAAAAAAAAAAAAAAAAAAAAAAAAAAAAAAAAAAAAAAAAAAAAAAAAAAAAAAAAAAAAAAAAAAAAAAAAAAAAAAAAAAAAAAAAAAAAAAAAAAAAAAAAAAAAAAAAAAAAAAAAAAAAAAAAAAAAAAAAAAAAAAAAAAAAAAAAAAAAAAAAAAAAAAAAAAAAAAAAAAAAAAAAAAAAAAAAAAAAAAAAAAAAAAAAAAAAAAAAAAAAAAAAAAAAAAAAAAAAAAAAAAAAAAAAAAAAAAAAAAAAAAAAAAAAAAAAAAAAAAAAAAAAAAAAAAAAAAAAAAAAAAAAAAAAAAAAAAAAAAAAAAAAAAAAAAAAAAAAAAAAAAAAAAAAAAAAAAAAAAAAAAAAAAAAAAAAAAAAAAAAAAAAAAAAAAAAAAAAAAAAAAAAAAAAAAAAAAAAAAAAAAAAAAAAAAAAAAAAAAAAAAAAAAAAAAAAAAAAAAAAAAAAAAAAAAAAAAAAAAAAAAAAAAAAAAAAAAAAAAAAAAAAAAAAAAAAAAAAAAAAAAAAAAAAAAAAAAAAAAAAAAAAAAAAAAAAAAAAAAAAAAAAAAAAAAAAAAAAAAAAAAAAAAAAAAAAAAAAAAAAAAAAAAAAAAAAAAAAAAAAAAAAAAAAAAAAAAAAAAAAAAAAAAAAAAAAAAAAAAAAAAAAAAAAAAAAAAAAAAAAAAAAAAAAAAAAAAAAAAAAAAAAAAAAAAAAAAAAAAAAAAAAAAAAAAAAAAAAAAAAAAAAAAAAAAAAAAAAAAAAAAAAAAAAAAAAAAAAAAAAAAAAAAAAAAAAAAAAAAAAAAAAAAAAAAAAAAAAAAAAAAAAAAAAAAAAAAAAAAAAAAAAAAAAAAAAAAAAAAAAAAAAAAAAAAAAAAAAAAAAAAAAAAAAAAAAAAAAAAAAAAAAAAAAAAAAAAAAAAAAAAAAAAAAAAAAAAAAAAAAAAAAAAAAAAAAAAAAAAAAAAAAAAAAAAAAAAAAAAAAAAAAAAAAAAAAAAAAAAAAAAAAAAAAAAAAAAAAAAAAAAAAAAAAAAAAAAAAAAAAAAAAAAAAAAAAAAAAAAAAAAAAAAAAAAAAAAAAAAAAAAAAAAAAAAAAAAAAAAAAAAAAAAAAAAAAAAAAAAAAAAAAAAAAAAAAAAAAAAAAAAAAAAAAAAAAAAAAAAAAAAAAAAAAAAAAAAAAAAAAAAAAAAAAAAAAAAAAAAAAAAAAAAAAAAAAAAAAAAAAAAAAAAAAAAAAAAAAAAAAAAAAAAAAAAAAAAAAAAAAAAAAAAAAAAAAAAAAAAAAAAAAAAAAAAAAAAAAAAAAAAAAAAAAAAAAAAAAAAAAAAAAAAAAAAAAAAAAAAAAAAAAAAAAAAAAAAAAAAAAAAAAAAAAAAAAAAAAAAAAAAAAAAAAAAAAAAAAAAAAAAAAAAAAAAAAAAAAAAAAAAAAAAAAAAAAAAAAAAAAAAAAAAAAAAAAAAAAAAAAAAAAAAAAAAAAAAAAAAAAAAAAAAAAAAAAAAAAAAAAAAAAAAAAAAAAAAAAAAAAAAAAAAAAAAAAAAAAAAAAAAAAAAAAAAAAAAAAAAAAAAAAAAAAAAAAAAAAAAAAAAAAAAAAAAAAAAAAAAAAAAAAAAAAAAAAAAAAAAAAAAAAAAAAAAAAAAAAAAAAAAAAAAAAAAAAAAAAAAAAAAAAAAAAAAAAAAAAAAAAAAAAAAAAAAAAAAAAAAAAAAAAAAAAAAAAAAAAAAAAAAAAAAAAAAAAAAAAAAAAAAAAAAAAAAAAAAAAAAAAAAAAAAAAAAAAAAAAAAAAAAAAAAAAAAAAAAAAAAAAAAAAAAAAAAAAAAAAAAAAAAAAAAAAAAAAAAAAAAAAAAAAAAAAAAAAAAAAAAAAAAAAAAAAAAAAAAAAAAAAAAAAAAAAAAAAAAAAAAAAAAAAAAAAAAAAAAAAAAAAAAAAAAAAAAAAAAAAAAAAAAAAAAAAAAAAAAAAAAAAAAAAAAAAAAAAAAAAAAAAAAAAAAAAAAAAAAAAAAAAAAAAAAAAAAAAAAAAAAAAAAAAAAAAAAAAAAAAAAAAAAAAAAAAAAAAAAAAAAAAAAAAAAAAAAAAAAAAAAAAAAAAAAAAAAAAAAAAAAAAAAAAAAAAAAAAAAAAAAAAAAAAAAAAAAAAAAAAAAAAAAAAAAAAAAAAAAAAAAAAAAAAAAAAAAAAAAAAAAAAAAAAAAAAAAAAAAAAAAAAAAAAAAAAAAAAAAAAAAAAAAAAAAAAAAAAAAAAAAAAAAAAAAAAAAAAAAAAAAAAAAAAAAAAAAAAAAAAAAAAAAAAAAAAAAAAAAAAAAAAAAAAAAAAAAAAAAAAAAAAAAAAAAAAAAAAAAAAAAAAAAAAAAAAAAAAAAAAAAAAAAAAAAAAAAAAAAAAAAAAAAAAAAAAAAAAAAAAAAAAAAAAAAAAAAAAAAAAAAAAAAAAAAAAAAAAAAAAAAAAAAAAAAAAAAAAAAAAAAAAAAAAAAAAAAAAAAAAAAAAAAAAAAAAAAAAAAAAAAAAAAAAAAAAAAAAAAADIwMjI6MDk6MzAgMjE6MTE6MzMAMjAyMjowOTozMCAyMToxMTozMwAAAEYAbwByAHQAdQBuAHkAIABTAGkAYwBhAHIAdAAsACAAQQBsAGEAbgAAAP/hCydodHRwOi8vbnMuYWRvYmUuY29tL3hhcC8xLjAvADw/eHBhY2tldCBiZWdpbj0n77u/JyBpZD0nVzVNME1wQ2VoaUh6cmVTek5UY3prYzlkJz8+DQo8eDp4bXBtZXRhIHhtbG5zOng9ImFkb2JlOm5zOm1ldGEvIj48cmRmOlJERiB4bWxuczpyZGY9Imh0dHA6Ly93d3cudzMub3JnLzE5OTkvMDIvMjItcmRmLXN5bnRheC1ucyMiPjxyZGY6RGVzY3JpcHRpb24gcmRmOmFib3V0PSJ1dWlkOmZhZjViZGQ1LWJhM2QtMTFkYS1hZDMxLWQzM2Q3NTE4MmYxYiIgeG1sbnM6ZGM9Imh0dHA6Ly9wdXJsLm9yZy9kYy9lbGVtZW50cy8xLjEvIi8+PHJkZjpEZXNjcmlwdGlvbiByZGY6YWJvdXQ9InV1aWQ6ZmFmNWJkZDUtYmEzZC0xMWRhLWFkMzEtZDMzZDc1MTgyZjFiIiB4bWxuczp4bXA9Imh0dHA6Ly9ucy5hZG9iZS5jb20veGFwLzEuMC8iPjx4bXA6Q3JlYXRlRGF0ZT4yMDIyLTA5LTMwVDIxOjExOjMzLjA0MTwveG1wOkNyZWF0ZURhdGU+PC9yZGY6RGVzY3JpcHRpb24+PHJkZjpEZXNjcmlwdGlvbiByZGY6YWJvdXQ9InV1aWQ6ZmFmNWJkZDUtYmEzZC0xMWRhLWFkMzEtZDMzZDc1MTgyZjFiIiB4bWxuczpkYz0iaHR0cDovL3B1cmwub3JnL2RjL2VsZW1lbnRzLzEuMS8iPjxkYzpjcmVhdG9yPjxyZGY6U2VxIHhtbG5zOnJkZj0iaHR0cDovL3d3dy53My5vcmcvMTk5OS8wMi8yMi1yZGYtc3ludGF4LW5zIyI+PHJkZjpsaT5Gb3J0dW55IFNpY2FydCwgQWxhbjwvcmRmOmxpPjwvcmRmOlNlcT4NCgkJCTwvZGM6Y3JlYXRvcj48L3JkZjpEZXNjcmlwdGlvbj48L3JkZjpSREY+PC94OnhtcG1ldGE+DQogICAgICAgICAgICAgICAgICAgICAgICAgICAgICAgICAgICAgICAgICAgICAgICAgICAgICAgICAgICAgICAgICAgICAgICAgICAgICAgICAgICAgICAgICAgICAgICAgICAgCiAgICAgICAgICAgICAgICAgICAgICAgICAgICAgICAgICAgICAgICAgICAgICAgICAgICAgICAgICAgICAgICAgICAgICAgICAgICAgICAgICAgICAgICAgICAgICAgICAgICAKICAgICAgICAgICAgICAgICAgICAgICAgICAgICAgICAgICAgICAgICAgICAgICAgICAgICAgICAgICAgICAgICAgICAgICAgICAgICAgICAgICAgICAgICAgICAgICAgICAgIAogICAgICAgICAgICAgICAgICAgICAgICAgICAgICAgICAgICAgICAgICAgICAgICAgICAgICAgICAgICAgICAgICAgICAgICAgICAgICAgICAgICAgICAgICAgICAgICAgICAgCiAgICAgICAgICAgICAgICAgICAgICAgICAgICAgICAgICAgICAgICAgICAgICAgICAgICAgICAgICAgICAgICAgICAgICAgICAgICAgICAgICAgICAgICAgICAgICAgICAgICAKICAgICAgICAgICAgICAgICAgICAgICAgICAgICAgICAgICAgICAgICAgICAgICAgICAgICAgICAgICAgICAgICAgICAgICAgICAgICAgICAgICAgICAgICAgICAgICAgICAgIAogICAgICAgICAgICAgICAgICAgICAgICAgICAgICAgICAgICAgICAgICAgICAgICAgICAgICAgICAgICAgICAgICAgICAgICAgICAgICAgICAgICAgICAgICAgICAgICAgICAgCiAgICAgICAgICAgICAgICAgICAgICAgICAgICAgICAgICAgICAgICAgICAgICAgICAgICAgICAgICAgICAgICAgICAgICAgICAgICAgICAgICAgICAgICAgICAgICAgICAgICAKICAgICAgICAgICAgICAgICAgICAgICAgICAgICAgICAgICAgICAgICAgICAgICAgICAgICAgICAgICAgICAgICAgICAgICAgICAgICAgICAgICAgICAgICAgICAgICAgICAgIAogICAgICAgICAgICAgICAgICAgICAgICAgICAgICAgICAgICAgICAgICAgICAgICAgICAgICAgICAgICAgICAgICAgICAgICAgICAgICAgICAgICAgICAgICAgICAgICAgICAgCiAgICAgICAgICAgICAgICAgICAgICAgICAgICAgICAgICAgICAgICAgICAgICAgICAgICAgICAgICAgICAgICAgICAgICAgICAgICAgICAgICAgICAgICAgICAgICAgICAgICAKICAgICAgICAgICAgICAgICAgICAgICAgICAgICAgICAgICAgICAgICAgICAgICAgICAgICAgICAgICAgICAgICAgICAgICAgICAgICAgICAgICAgICAgICAgICAgICAgICAgIAogICAgICAgICAgICAgICAgICAgICAgICAgICAgICAgICAgICAgICAgICAgICAgICAgICAgICAgICAgICAgICAgICAgICAgICAgICAgICAgICAgICAgICAgICAgICAgICAgICAgCiAgICAgICAgICAgICAgICAgICAgICAgICAgICAgICAgICAgICAgICAgICAgICAgICAgICAgICAgICAgICAgICAgICAgICAgICAgICAgICAgICAgICAgICAgICAgICAgICAgICAKICAgICAgICAgICAgICAgICAgICAgICAgICAgICAgICAgICAgICAgICAgICAgICAgICAgICAgICAgICAgICAgICAgICAgICAgICAgICAgICAgICAgICAgICAgICAgICAgICAgIAogICAgICAgICAgICAgICAgICAgICAgICAgICAgICAgICAgICAgICAgICAgICAgICAgICAgICAgICAgICAgICAgICAgICAgICAgICAgICAgICAgICAgICAgICAgICAgICAgICAgCiAgICAgICAgICAgICAgICAgICAgICAgICAgICAgICAgICAgICAgICAgICAgICAgICAgICAgICAgICAgICAgICAgICAgICAgICAgICAgICAgICAgICAgICAgICAgICAgICAgICAKICAgICAgICAgICAgICAgICAgICAgICAgICAgICAgICAgICAgICAgICAgICAgICAgICAgICAgICAgICAgICAgICAgICAgICAgICAgICAgICAgICAgICAgICAgICAgICAgICAgIAogICAgICAgICAgICAgICAgICAgICAgICAgICAgICAgICAgICAgICAgICAgICAgICAgICAgICAgICAgICAgICAgICAgICAgICAgICAgICAgICAgICAgICAgICAgICAgICAgICAgCiAgICAgICAgICAgICAgICAgICAgICAgICAgICAgICAgICAgICAgICAgICAgICAgICAgICAgICAgICAgICAgICAgICAgICAgICAgICAgICAgICAgICAgICAgICAgICAgICAgICAKICAgICAgICAgICAgICAgICAgICAgICAgICAgIDw/eHBhY2tldCBlbmQ9J3cnPz7/2wBDAAcFBQYFBAcGBQYIBwcIChELCgkJChUPEAwRGBUaGRgVGBcbHichGx0lHRcYIi4iJSgpKywrGiAvMy8qMicqKyr/2wBDAQcICAoJChQLCxQqHBgcKioqKioqKioqKioqKioqKioqKioqKioqKioqKioqKioqKioqKioqKioqKioqKioqKir/wAARCAHqAjADASIAAhEBAxEB/8QAHwAAAQUBAQEBAQEAAAAAAAAAAAECAwQFBgcICQoL/8QAtRAAAgEDAwIEAwUFBAQAAAF9AQIDAAQRBRIhMUEGE1FhByJxFDKBkaEII0KxwRVS0fAkM2JyggkKFhcYGRolJicoKSo0NTY3ODk6Q0RFRkdISUpTVFVWV1hZWmNkZWZnaGlqc3R1dnd4eXqDhIWGh4iJipKTlJWWl5iZmqKjpKWmp6ipqrKztLW2t7i5usLDxMXGx8jJytLT1NXW19jZ2uHi4+Tl5ufo6erx8vP09fb3+Pn6/8QAHwEAAwEBAQEBAQEBAQAAAAAAAAECAwQFBgcICQoL/8QAtREAAgECBAQDBAcFBAQAAQJ3AAECAxEEBSExBhJBUQdhcRMiMoEIFEKRobHBCSMzUvAVYnLRChYkNOEl8RcYGRomJygpKjU2Nzg5OkNERUZHSElKU1RVVldYWVpjZGVmZ2hpanN0dXZ3eHl6goOEhYaHiImKkpOUlZaXmJmaoqOkpaanqKmqsrO0tba3uLm6wsPExcbHyMnK0tPU1dbX2Nna4uPk5ebn6Onq8vP09fb3+Pn6/9oADAMBAAIRAxEAPwD6RoopCQoyxwB3NAC0VUbVtPViGvbcEdQZBSf2vp3/AD/W/wD38FR7SHcvkn2LlFU/7X07/n+t/wDv4KP7X07/AJ/rf/v4KPaQ7oPZz7Fyiqf9r6d/z/W//fwUf2vp3/P9b/8AfwUe0h3Qezn2LlFU/wC19O/5/rf/AL+Cj+19O/5/rf8A7+Cj2kO6D2c+xcoqn/a+nf8AP9b/APfwUf2vp3/P9b/9/BR7SHdB7OfYuUVT/tfTv+f63/7+Cj+19O/5/rf/AL+Cj2kO6D2c+xcoqn/a+nf8/wBb/wDfwUf2vp3/AD/W/wD38FHtId0Hs59i5RVP+19O/wCf63/7+Cj+19O/5/rf/v4KPaQ7oPZz7Fyiqf8Aa+nf8/1v/wB/BR/a+nf8/wBb/wDfwUe0h3Qezn2LlFU/7X07/n+t/wDv4KP7X07/AJ/rf/v4KPaQ7oPZz7Fyiqf9r6d/z/W//fwUf2vp3/P9b/8AfwUe0h3Qezn2LlFU/wC19O/5/rf/AL+Cj+19O/5/rf8A7+Cj2kO6D2c+xcoqn/a+nf8AP9b/APfwUf2vp3/P9b/9/BR7SHdB7OfYuUVT/tfTv+f63/7+Cj+19O/5/rf/AL+Cj2kO6D2c+xcoqn/a+nf8/wBb/wDfwUf2vp3/AD/W/wD38FHtId0Hs59i5RVP+19O/wCf63/7+Cj+19O/5/rf/v4KPaQ7oPZz7Fyiqf8Aa+nf8/1v/wB/BR/a+nf8/wBb/wDfwUe0h3Qezn2LlFU/7X07/n+t/wDv4KP7X07/AJ/rf/v4KPaQ7oPZz7Fyiqf9r6d/z/W//fwUf2vp3/P9b/8AfwUe0h3Qezn2LlFU/wC19O/5/rf/AL+Cj+19O/5/rf8A7+Cj2kO6D2c+xcoqn/a+nf8AP9b/APfwUf2vp3/P9b/9/BR7SHdB7OfYuUVT/tfTv+f63/7+Cj+19O/5/rf/AL+Cj2kO6D2c+xcoqn/a+nf8/wBb/wDfwUf2vp3/AD/W/wD38FHtId0Hs59i5RVP+19O/wCf63/7+Cj+19O/5/rf/v4KPaQ7oPZz7Fyiqf8Aa+nf8/1v/wB/BU0F3b3Ofs88cuOuxgaanF6JicJLVomoooqiQooooAKKKKACiiigAooooAKKKKACiiigAooooAKKKKACvMvipr11BcwaRbSNFG0Xmy7TgvkkAfTg16bXjnxW/wCRui/69E/9CavIzicoYR8r3aPVymEZ4pcy2ucTRRRXw59mFFFFABRRRQAUUUUAFFFFABRRRQAUUUUAFFFFABRRRQAUUUUAFFFFABRRRQAUUUUAFFFFABRRRQAUUUUAFFFFABRRRQAUUUUAFFFFABRRRQAUUUUAFFFFABRRRQAVb0zU7rSb6O6spWjkQ54PUehqpRVRk4u63FKKkrPY+kNNu/t+l211jHnRq5HoSKs1l+Gf+RY0/wD64LWpX6TSk5U4t9j87qJRm0u4UUUVoQFFFFABRRRQAUUUUAFFFFABRRRQAUUUUAFFFFABXjnxW/5G6L/r0T/0Jq9jrxz4rf8AI3Rf9eif+hNXjZ1/unzR6+T/AO9fJnE0UV2p8ArJ4KTWra7eSdoBMYNgxjvg18hRoVK1+RXsrn1dWvTo253a7scVRRXY+EfAo8R6ZNe3V09tGH2RbVB3kDJ6/h+tFChUrz5KauwrVoUIc9R2Rx1FSTx+TcSRg5COVz64NR1i9DbcKKKKQBRRRQAUUUUAFFb/AIIsLbUvF1pa30KzQOH3I3Q4QkfqKy9WiSDWr2GFQscdxIqqOwDEAVs6TVJVejdv6+8yVVOq6fVK5UooqSCF7m4jgi5eRwi5PcnArJa6GuxHRV7V9JutE1F7K/VVmQAkK2RyMjmqNOUXGTjJWaJjJSSlHZhRRRUlBRRRQAUUUUAFFFFABRRRQAUUUUAFFFFABRRRQAUUUUAFFFFABRRRQAUUUUAFFFFABRRRQAUUUUAFFFFAH0L4Z/5FjT/+uC1qVl+Gf+RY0/8A64LWpX6VR/hR9Efnlb+JL1YUUUVqZBRRRQAUUUUAFFFFABRRRQAUUUUAFFFFABRRRQAV458Vv+Rui/69E/8AQmr2OvHPit/yN0X/AF6J/wChNXjZ1/unzR6+T/718mcTXq9rqq6VovhIzYNvcxtBKD02sB/WvKK7fxWcfD/wwR/zzb+Qr5vA1HSjUnHol/6Uj6DG01UlTg+rf5MwvEGhS6d4rm0yBS5eUCAD+IN93+dek6fLHp/ibTfDVqQY9PsneYj+KRl6/qT/AMCqppElnrGn6d4pvmUyaTBIlx6syj5f5k/iKwPAV9LqXj64vbg5lnildvbPavRoxhQrRcP+XjVv8O/56fI4K0pV6UlP7Cd/8W35a/MyvD+gJr/ia5juHMdrAzyzMP7oPStM+IPCIvPsg8PA2WdpuPMO/wD3sU7wPNHJrWs6c7hJLyKRIj6tnpXLnQdUGpfYPsU3n7tu3Yfzz6e9cKcqVGMqUU2276X+R2tRq1ZRqSaSStrb5mn4m8OxaJ4gt4rdjLZXW2SEn+6T0rf1+Dwt4U1aRTprXs8qKyW5ciOEYHfOSSQT+NVfHEiQ6pommhg8tnCiykdjnpVT4mf8jg3/AFwj/lW1VQoKrKEVdNdL2uncypudZ0lOTs0/K9mrDtD0vTDp174k1i2ZrRZitvZxk/MxOcZ9BkCr1rb6L4usLuC10j+y76CMyxMjEq4HY5qz4d1C+X4bONDjinu7S4JlheMOSh7gf56Vlr408TnzEisoVO0h9llggd8+lWnRpwgpLSSu/dTu35+XlsQ1WqTm47p2XvWtby8zjSCrEHgg4NdZ4Y0fTYtDuvEOvxtNbQOI4YFOPNf/ACf0Ncm7F3Zm6scmu5s7eTWvhO9pYAyXFjd+a8S/eZee3/Av0rz8HFOpJ2u0m0vP+tTvxcmoJXsm0m/I0fB+s6Fqfii2S30UafdqXMMkUhKsNpyGz7Zrj5p7K28Z3sup2zXVut1KWiU43HccVrfDrTb3/hMrac2sqxQh/MdkIC5Uj+Zq34X0+1vvHesvdQrO1u80sUTdHbea7V7TEUqaaSbk+mmy6dTifs6FWo020orr5vqO0rUfDmuX6abdeHFshcHZHNHISVPbNZ2mRab4e8ZT2Gp2RvitykcD7yPLO773B+n5VuaD4l13UvEUdu+jQCHzcNi22+UPrXP+IWCfEyVmOAt8pJ/4EKqo4qnGqtWpWvypfhsxU1J1JUnonG9uZv8AHdG/4/1LQ4tXvbW60czX7QAJdeYRtJT5TjPbiuW0PVtI0+wdbvRBqN4zkhnchVXA44981p/EmzuW8YzSrBI0bxIVYISCAvP8jWhayHw78P7HUNIsIrq5vHbzp3j37ME4GPwoq888XUbslG/2U9L9ur8wp8kMLTSu3K3Vrp36IrX1ho3iDwnd6rpdgdOu7HHmxBiVYH61w1epR6hqOpfDvWp9TsI7U+UAjJF5fmD1xXltcmPjFOEl1Xa3V9DqwMpNTi+j736LqFFFFeaegFFFFABRRRQAUUUUAFFFFABRRRQAUUUUAFFFFABRRRQAUUUUAFFFFABRRRQAUUUUAFFFFABRRRQB9C+Gf+RY0/8A64LWpWX4Z/5FjT/+uC1qV+lUf4UfRH55W/iS9WFFFFamQUUUUAFFFFABRRRQAUUUUAFFFFABRRRQAUUUUAFeOfFb/kbov+vRP/Qmr2OvHPit/wAjdF/16J/6E1eNnX+6fNHr5P8A718mcTV261e9vdPtrK5m3wWoxCmPu1Sor4tSkk0nufXuKbTa2LUOpXdvp89jFMy21wQZIx0YjpTtN1S70i7+06fL5Uu0ruxng1Topqck009thOEWmmt9yVbmWO6+0RyMsobcHU4IPrXQ/wDCwvEfk7Pti527d/lLu/76xmuZoq6derTvySav2ZM6NOpbnimSyXU0t0bmWRnmLbi7HJJqbUtTu9XvDdX8vmzFQu7GOB0qpRWfPKzV9y+WN72Lul6xfaNdfaNNuGhkxg46Ee471r3Pj3X7q3khkukVZBtYpCqkj6gVzdFaQxFWEeWMml6mcqFKcuaUU36BV7StYvtFuvtGm3DQydDjow9CO9UaKzjKUXzRdmaSipK0ldHQ3HjrX7lome8CeW+8COMKCffHWsq21a9tNUOo207R3TOXLr3JOTVOitJV6s3eUm36kRo0oq0YpfI6K58d+ILpVD3uzawb91GEyR6461iXt7PqF7Jd3T75pG3M3TJqCiipWq1Pjk36hCjTp/BFI6H/AITnXjp5s3u1kiKGPLxqzYIx94jNVtI8Vavolu0Fhc7YWOTG6B1B9gax6Kr6zWupc7uvMn6vRs48qs/I2bvxZrN8lwlzes6XC7HTAxj0A7VjUUVlOpOo7zdzSFOEFaKsFFFFQWFFFFABRRRQAUUUUAFFFFABRRRQAUUUUAFFFFABRRRQAUUUUAFFFFABRRRQAUVa023S71S2t5c7JJArYPOCa7n/AIQjSf8Ap4/7+D/CuzD4OriE3DoctbFU6DSmeeUV6H/whOk/9PH/AH8H+FH/AAhOk/8ATx/38H+FdP8AZWI8vvMP7RoeZ55RXY+IPC+n6Zost1bed5iFQNz5HJA9K46uKvh54efJPc66NaNaPNE+hfDP/Isaf/1wWtSsvwz/AMixp/8A1wWtSv0Kj/Cj6I+CrfxJerCiiitTIKKKKACiiigAooooAKKKKACiiigAooooAKKKKACvHPit/wAjdF/16J/6E1ex15X8WNKuP7SttURC0BiELsB90gkjP1zXkZxFywjt0aPWymSjilfqmedUUUV8OfZBRRRQAUUUUAFFFFABRRRQAUUUUAFFFFABRRRQAUUUUAFFFFABRRRQAUUUUAFFFFABRRRQAUUUUAFFFFABRRRQAUUUUAFFFFABRRRQAUUUUAFFFFAF/Q/+Q9Zf9dl/nXq1eU6H/wAh6y/67L/OvVq+kyj+HL1PCzP44+gUUUV7R5Rh+MP+RZuP95P/AEIV5tXpPjD/AJFm4/3k/wDQhXnlpaTX11Hb20bSSyNtVVFfMZqm8Qkuy/Nnv5c0qDb7/wCR7/4Z/wCRY0//AK4LWpVTSbQ2OkWtq/LRRKp+uKt19pSTjTin2R8dUac213CiiitDMKKKKACiiigAooooAKKKKACiiigAooooAKKKKACmTQx3ETRTxrIjDBVhkGn0UbhsYx8H+HicnSLUn/rnSf8ACHeHf+gPaf8AfutqisPq9H+Rfcjb29b+Z/ezF/4Q7w7/ANAe0/790f8ACHeHf+gPaf8Afutqobm7t7OLzLqZIk9WPWk6FCKu4r7kHt638z+9mX/wh3h3/oD2n/fuj/hDvDv/AEB7T/v3T/8AhKdH/wCfz/yE/wDhR/wlOjf8/n/kJ/8ACsObA94fgV7XEfzP72M/4Q7w7/0B7T/v3R/wh3h3/oD2n/fun/8ACU6N/wA/n/kJ/wDCj/hKdG/5/P8AyE/+FHNge8PwD2uI/mf3sZ/wh3h3/oD2n/fuj/hDvDv/AEB7T/v3T/8AhKdG/wCfz/yE/wDhR/wlOjf8/n/kJ/8ACjmwPeH4B7XEfzP72M/4Q7w7/wBAe0/790f8Id4d/wCgPaf9+6f/AMJTo3/P5/5Cf/Cj/hKdG/5/P/IT/wCFHNge8PwD2uI/mf3sZ/wh3h3/AKA9p/37o/4Q7w7/ANAe0/790/8A4SnRv+fz/wAhP/hR/wAJTo3/AD+f+Qn/AMKObA94fgHtcR/M/vYz/hDvDv8A0B7T/v3R/wAId4d/6A9p/wB+6f8A8JTo3/P5/wCQn/wo/wCEp0b/AJ/P/IT/AOFHNge8PwD2uI/mf3sZ/wAId4d/6A9p/wB+6P8AhDvDv/QHtP8Av3T/APhKdG/5/P8AyE/+FH/CU6N/z+f+Qn/wo5sD3h+Ae1xH8z+9jP8AhDvDv/QHtP8Av3R/wh3h3/oD2n/fun/8JTo3/P5/5Cf/AAo/4SnRv+fz/wAhP/hRzYHvD8A9riP5n97Gf8Id4d/6A9p/37o/4Q7w7/0B7T/v3T/+Ep0b/n8/8hP/AIUf8JTo3/P5/wCQn/wo5sD3h+Ae1xH8z+9jP+EO8O/9Ae0/790f8Id4d/6A9p/37p//AAlOjf8AP5/5Cf8Awo/4SnRv+fz/AMhP/hRzYHvD8A9riP5n97Gf8Id4d/6A9p/37o/4Q7w7/wBAe0/790//AISnRv8An8/8hP8A4Uf8JTo3/P5/5Cf/AAo5sD3h+Ae1xH8z+9jP+EO8O/8AQHtP+/dH/CHeHf8AoD2n/fun/wDCU6N/z+f+Qn/wo/4SnRv+fz/yE/8AhRzYHvD8A9riP5n97Gf8Id4d/wCgPaf9+6P+EO8O/wDQHtP+/dP/AOEp0b/n8/8AIT/4Uf8ACU6N/wA/n/kJ/wDCjmwPeH4B7XEfzP72M/4Q7w7/ANAe0/790f8ACHeHf+gPaf8Afun/APCU6N/z+f8AkJ/8KP8AhKdG/wCfz/yE/wDhRzYHvD8A9riP5n97Gf8ACHeHf+gPaf8Afuj/AIQ7w7/0B7T/AL90/wD4SnRv+fz/AMhP/hR/wlOjf8/n/kJ/8KObA94fgHtcR/M/vYz/AIQ7w7/0B7T/AL90f8Id4d/6A9p/37p//CU6N/z+f+Qn/wAKP+Ep0b/n8/8AIT/4Uc2B7w/APa4j+Z/exn/CHeHf+gPaf9+6P+EO8O/9Ae0/790//hKdG/5/P/IT/wCFH/CU6N/z+f8AkJ/8KObA94fgHtcR/M/vYz/hDvDv/QHtP+/dH/CHeHf+gPaf9+6f/wAJTo3/AD+f+Qn/AMKP+Ep0b/n8/wDIT/4Uc2B7w/APa4j+Z/exn/CHeHf+gPaf9+6P+EO8O/8AQHtP+/dP/wCEp0b/AJ/P/IT/AOFH/CU6N/z+f+Qn/wAKObA94fgHtcR/M/vYz/hDvDv/AEB7T/v3R/wh3h3/AKA9p/37p/8AwlOjf8/n/kJ/8KqXmvaRON8V8VkHby3wf0pOeB7w/AaqV29ZP8SaTwroVtG00GlW0ckY3KypyD61T8pP7opVuhIgKyllYep5pPMX1/StUqaXuJI2Tn9p3Dyk/uijyk/uijzF9f0o8xfX9Keg7skg06zv5hb3lvHNC3VHGQcc1q2OhaXpkhewsILdz/EiAGscSqDkNg+1NbUbeGRVursxA98MT+QpN0oe/K3rp+ZEudqylodTRWNH4l0WKMKt5wPWN/8ACnf8JTo3/P5/5Cf/AAqvrWH/AJ196OTll2Neisj/AISnRv8An8/8hP8A4VftL+1voy9pOkoHXaeR9R2q4V6U3aEk35NCcWt0WKKKK2EFFFFABRRRQAUUUUAFFFFABRRRQAUUUUAFFFFABRRRQAV554ou5LnXZkdjshOxF9OOf1r0OvNdf/5GC8/66GvEzmTVCKXc2o/EZ1FFFfKnUFFFFABRRRQAUUUUAFFFFABRRRQAUUUUAFFFFABRRRQAUUUUAFFFFABRRRQAUUUUAFFFFABRRRQAUUUUAFFFFABRRRQAUUUUAFFFFAFuxv3tGwctGeq+lb8UqTRh4zlTXK1YtLx7STK8qeq+teng8a6XuT+H8gOkoqOC4juYw8ZyO49Kp3+pCAGOE5k7n+7Xu1K9OEPaN6ASX2oLartX5pT0Hp9awZJGlkLyEsx6k0jMWYsxJJ6k0lfNYnFTxEtduwBRRRXIAVoaHdSWmsW7xMRucKw9Qe1Z9WdO/wCQlb/9dF/nWtGTjUi13E9j1Kiiiv0A4AooooAKKKKACiiigAooooAKKKKACiiigAooooAKKKKACvNdf/5GC8/66GvSq811/wD5GC8/66GvDzr+DH1/Q3o7mdRTolDzIp6MwBrotQ03Q9MuhBcte7iobKbSK+ep0JVIuSaSXc3craHN0VvNodlfRO+h3hmkQZMEowx+nSsJlKsVYEEHBB7VNWjOlbm2fVaoaaYlFFAGWA9ayGFFXNS0yXTJI0mZGMiBxt9Kp1U4ShLlktRJ3CiiioGFFFFABRRRQAUUUUAFFFFABRRRQAUUUUAFFFFABRRV3UdMl0xohMyN5qbxtzwKtQk4uSWiFcpUUUVAwoq3punS6neC3gZVbaWy3TiqrqUdlPVTircJKKlbRiv0Eoq3fPYusH2CKSMhMS7z1b1HJqpRKPK7XuMKKKKgAooooAKKKKACiiigAooooAkinkhz5TlcjBxUZOTk8miiq5m1YAoooqQCiiigAqzp3/ISt/8Arov86rVZ07/kJW//AF0X+daU/jXqJ7HqVFFFfoJwBRRRQAUUUUAFFFFABRRRQAUUUUAFFFFABRRRQAUUUUAFea6//wAjBef9dDXpVea6/wD8jBef9dDXh51/Bj6/ob0dylb/APHzF/vj+dbXjD/kMr/1yWsW3/4+Yv8AfH866XxPpd7eaoslrbSSp5YG5RxXjUYylhpqKvqv1Nm7SRg6VO9vq1tJEcN5ij6gnBq94gWK18USt5ayJvWRo843ZAJH41Y0zRWsJlv9YIt4YTuCMfmcjpxUemzRat4vWa7UFZHLKp6cD5R+gq405KlGlLRykrX+64rq90TQ60r3AE2iWv2djjCw8gfWo71LbQvETqtrHcQsoKxychc/UVda+8QtrDxRxsqK+NmwbQueufpVHxaceIAT/wA80PFdFZtUXO7bUlZuKXclb2NTxDqsFrJFHJptvOZIch3Ayuew4rntN1BbNZQunw3Ur/dMi7gn4Vq+JrS4uZLOW3iaSMwgBlGeadpfnWnhaS40yMNdmUrIduWVfb9Kdb2tTFO7skm9l26dwVlEIvI1vTbpLjT4rW5gjMiSRJtB/D/9dcvXa6XcarPpt2dTz5fkMYy6gMa4quXGpctOXVp7qzKhu0aOmX62ccirp8N1Kx4aVd20fStdRBrWk3fnafHaXNtH5ivEm0N+H4Uaa01r4Va40qMNctIRIwXLKKuWE+qT6NfnVAdvkN5ZYAMeDmuvD02oqEndNN2srff3Ik+qMfSreGTw3qkskUbSIBsdlBK/Q9qqaDEk2uWyTIsiM3KsMg/hWh4eH2rSdUsYz++kjDIv97Gf/rUzw9pl2mtRyywtHHASXZxgCueFNzdBxV11+9lN25hsGmRXvia4hYCO3iZmcKMYUdhT5deshcGFdJtTaD5fu/OR65/z9am0e7ik8SXqFwFug6KxrKl0PUI7w24tpGbPBA4I9c025wp81FXvJ30v6ING7MueKbaC1vbZLWJY0MAOFAGeTyfU1oa5cWGjagVtdOgknkQMfMQbEHThfXiqnjEFdRtgeotwD+ZpvjL/AJDo/wCuK/zNaVn7J1nFapx6bbiWtrlyY6XJpcWsy2Kq4OzyE4Rm96ZYz2uvW11bT2FvBIiF45IU24xVeX/kR4v+u5pvhT/j8uv+uDVSqN14QsrSSvotboLe62RaFp8Mv2i8vUMkNqM+WP427CtGyu4NVujZXmkQwRzZCSRx7WQ445qPw5PI1lf2lpKIrpjviPr7fpUP23xN55h3XHmDt5Y/wqaTjSpQaTae9knfXZ/IHdtkOiWSL4n+yXSLKqGRSGXIOAecGp21eys7z7Na6XbvCj7WaZQztz69qj8OSSy+KVe4JaVg+8n12msqf/kJSf8AXY/zrBVHSoJ09LyfTW2hVry1NjUxa6Nrwljs45oZI9whkHygn861dd1a3s2tvN023ud8QYeYB8o9BxWP4s/5CMP/AFxWrXiS1nu47Ca2iaVDCFyozzXU5zp+2jT6NdERZO1zH0u+WyMv+gxXcjgbTIu4J+FbVqYNcs7iG506K2uIozIksSbAabowltfDd1cafEHvRLtY7csq8dP1q/o1xq09tcHU8+V5TbGdQCTRhabSjCTumtrK3zfcJPdoo+EL2P7Stp9ki8zazefgbsenSs3VtVgvEaGLToLZlkyZIwMn9Kl8JMF15NxxuRgPc1n39jc208pnhdFDkbiOOa5ZVajwcUtrtbehVlzml4htYo100W8KI0kAzsUDcffHWrN9LZ+HVjs4LOC5utoaWWZdwB9BTPEUnlNpMnXbAp/lR4ksJry6TUbJDNBMgOUGcGt6icZVJU17y5fkraiWtriXUVprGiS39rbJbXFuf3iRjCsPWjTYrCPw013e2yzNHN8oAALHsCfSnW8EmkeGrx7wGOS6wkaHr9cVDF/yJEv/AF8CjaXPJLm5G3p16aB0t5lzSrm11+WexuNOtocxlo3hTBXp3/GuVrf8Gf8AIcb/AK4t/MVgHrXHiJOdCnOW+v6Fx0k0FFFFcJYUUUUAFFFFABRRRQAUUUUAFFFFABVnTv8AkJW//XRf51Wqzp3/ACErf/rov860p/GvUT2PUqKKK/QTgCiiigAooooAKKKKACiiigAooooAKKKKACiiigAooooAK811/wD5GC8/66GvSq811/8A5GC8/wCuhrw86/gx9f0N6O5nAlWBHBByDV/+3NT/AOf2X86oUV8zGpOHwux0WTJJrma5bdPK8h/2jmmKxRgykgjkEdqSipbbd2MvSa1qM0ZjkvJWU9Rmqs9xLcyB55DIwAUE+lR0Vcqk5fE2xWSLkOsahbwiKG7kRB0UGo7a/urNma1neIt12nrVeij2tTT3noFkW31W+kkZ3upGZk2Ek9R6VUoopSnKXxO47WLFrf3VkSbSd4t3XaetPfVL6VnaS6kYuu1snqPSqlFNVJpcqbsKyHwzSW8qyQOyOvRlPSrU2s6jPGY5ryVkPUE9apUURqTirRbSCyJrW3nurgR2ql5eoCnBrZt18RXTi2L3Kp91i3AA+tYcU0kEgkhdkcdGU4Iqy+sajIhV72dlIwQXPNbUalOC95y+TE02X/FdzHPqypE2/wAmMRsw7nr/AFrJubqe7l8y5kaR8Y3N6VFnPWiorVpVZyk+o0rKxKbqc2otzK3kg5Cds0QXU1qzNbyNGWGCV7ioqKy5pXvcY6OV4pRJG5VwchgeRV469qhGDey4+tZ9FVGpOHwtoVkyWG5mt5/OhkZJOfmHXmoy7M5cnLE5J96Sipu7WGS3FzNdOGuJGkYDALelT2+r39rCIre6kRB0UHpVOiqVSafMm7isixb391aSNJbTvGzfeKnrUj6tfySeY91IWxtyT2qnRQqk0rKTsFkOSRopFeNirKcgg9Ks3OqXt5CIrq5eVAc7WPeqlFJTkk0nowsiWe6nuQgnlaQRrtXPYelS22p3tmhS1uZI1PZTxVWihVJqXMnqFkTXN5cXkm+6meVumWNILqYWptxI3kk7inbNRUUc8m73HYltrqe0l8y2kaN8Y3L6VFRRU3drAFFFFIAooooAKKKKACiiigAoq7pNvFc3vlzLuXaTjOK3P7Hsf+eP/jxrto4OpWjzRaIc0nY5aiup/sex/wCeP/jxo/sex/54/wDjxrb+za3df18he0Ry1WdO/wCQlb/9dF/nVzWrOC08j7Om3duzyT0x/jVPTv8AkJW//XRf51yum6VZQlumir3Vz1KiiivvDhCiiigAooooAKKKKACiiigAooooAKKKKACiiigAooooAK811/8A5GC8/wCuhr0quF8VaTPDqcl3GjPDNzkDO045Brxs4hKVBOK2ZtRaUjnqKMUYr5Q6gooxRigAooxRigAooxRigAooxRigAooxRigAooxRigAooxRigAooxRigAooxRigAooxRigAooxRigAooxRigAooxRigAooxRigAooxRigAooxRigAooxRigAooxRigAooxRigAooxRigAooxRigDS0H/AJCX/ADXS1zWhf8AIS/4Aa6WvoMu/gfM56nxBRRRXokGJ4j6W3/Av6Vmad/yErf/AK6L/OtPxH0tv+Bf0pnh3SZ73UopCjLDEwZnIwPpXgV4SqY3liuq/JG8XaB6FRRRX2RxhRRRQAUUUUAFFFFABRRRQAUUUUAFFFFABRRRQAUUUUAFBAIIIyD1BoooAh+x23/PvF/3wKPsdt/z7xf98CpqKnkj2HdkP2O2/wCfeL/vgUfY7b/n3i/74FTVh614v0fQpTDeXBacAEwxLuYZ9ew/OpkoRV3YNTW+x23/AD7xf98Cj7Hbf8+8X/fArk/+Fo6D/wA8r3/v0v8A8VR/wtHQf+eV7/36X/4qo56PkO0jrPsdt/z7xf8AfAo+x23/AD7xf98CuT/4WjoP/PK9/wC/S/8AxVH/AAtHQf8Anle/9+l/+Ko56PkFpHWfY7b/AJ94v++BR9jtv+feL/vgVyf/AAtHQf8Anle/9+l/+Ko/4WjoP/PK9/79L/8AFUc9HyC0jrPsdt/z7xf98Cj7Hbf8+8X/AHwK5P8A4WjoP/PK9/79L/8AFUf8LR0H/nle/wDfpf8A4qjno+QWkdZ9jtv+feL/AL4FH2O2/wCfeL/vgVyf/C0dB/55Xv8A36X/AOKo/wCFo6D/AM8r3/v0v/xVHPR8gtI6z7Hbf8+8X/fAo+x23/PvF/3wK5P/AIWjoP8Azyvf+/S//FUf8LR0H/nle/8Afpf/AIqjno+QWkdZ9jtv+feL/vgUfY7b/n3i/wC+BXJ/8LR0H/nle/8Afpf/AIqj/haOg/8APK9/79L/APFUc9HyC0jrPsdt/wA+8X/fAo+x23/PvF/3wK5P/haOg/8APK9/79L/APFUf8LR0H/nle/9+l/+Ko56PkFpHWfY7b/n3i/74FH2O2/594v++BXJ/wDC0dB/55Xv/fpf/iqP+Fo6D/zyvf8Av0v/AMVRz0fILSOs+x23/PvF/wB8Cj7Hbf8APvF/3wK5P/haOg/88r3/AL9L/wDFUf8AC0dB/wCeV7/36X/4qjno+QWkdZ9jtv8An3i/74FH2O2/594v++BXJ/8AC0dB/wCeV7/36X/4qj/haOg/88r3/v0v/wAVRz0fILSOs+x23/PvF/3wKPsdt/z7xf8AfArk/wDhaOg/88r3/v0v/wAVR/wtHQf+eV7/AN+l/wDiqOej5BaR1n2O2/594v8AvgUfY7b/AJ94v++BXJ/8LR0H/nle/wDfpf8A4qj/AIWjoP8Azyvf+/S//FUc9HyC0jrPsdt/z7xf98Cj7Hbf8+8X/fArk/8AhaOg/wDPK9/79L/8VR/wtHQf+eV7/wB+l/8AiqOej5BaR1n2O2/594v++BR9jtv+feL/AL4Fcn/wtHQf+eV7/wB+l/8AiqP+Fo6D/wA8r3/v0v8A8VRz0fILSOs+x23/AD7xf98Cj7Hbf8+8X/fArk/+Fo6D/wA8r3/v0v8A8VR/wtHQf+eV7/36X/4qjno+QWkdZ9jtv+feL/vgUfY7b/n3i/74Fcn/AMLR0H/nle/9+l/+Ko/4WjoP/PK9/wC/S/8AxVHPR8gtI6z7Hbf8+8X/AHwKPsdt/wA+8X/fArk/+Fo6D/zyvf8Av0v/AMVR/wALR0H/AJ5Xv/fpf/iqOej5BaR1n2O2/wCfeL/vgUfY7b/n3i/74Fcn/wALR0H/AJ5Xv/fpf/iqP+Fo6D/zyvf+/S//ABVHPR8gtI6z7Hbf8+8X/fAo+x23/PvD/wB8CuT/AOFo6D/zyvf+/S//ABVV5PiHoVxMvl/a4ixwS8Y2j3ODUupSW1gszrLy3gjg3RwxqcjlVAqjgelRC6jdQysWVhkEHIIpftCe/wCVRJpvQZJgelGB6VH9oT3/ACo+0J7/AJUtBl+xhilMnmxo+MY3KDjrWgqqihVAUDoAKwBcKOm6sefxxothfNDcNcSmPr5Khhn0zkVcakY7is2dxRXGf8LQ0H/nle/9+l/+Kpf+Fo6D/wA8r3/v0v8A8VWvtqfcnlZ2VFcaPihoJYDy7we5iX/4qul0vV7HWbX7RptwsyA4OOCp9CDyKqNSEnZMLNF2iiirEFFFFABRRRQAUUUUAFFFFABRRRQAUUUUAFFFFABRRRQBHcymG1llAyUQsB9BXzxczyXN1LPO5eSRyzMepJNfQd//AMg25/65N/I188N94/WuDGdDSAlWLTT7y/kKWNrNcMBkiKMsR+VWtA0pta1y2sVOBI3zn0Ucn9K6TXvF8mlzNpHhcLZWlsSjSIoLSMOCcn+fWuSMVbmlsW30RzU/h/WLaFpbjS7yKNRlneBgAPc4rOrU/wCEl1k2s1u+ozyRTjEiyNvyPxzj8KpWVncaheR2tnE0s0hwqik7N+6HqQUV1s3w61aO0Mkc1rNOoy1tHJlx6j04rnbHTbrUdRWxto83DEqEY7eR9aHCUXZoLoqUV1Nh4A1W7jLTyW9nyQqzyYLduAKwtU0q70e+a0v4/LlXnrkEeoNDhJK7QXRTorpNH8Ealq1mLppILOF/9W1w23f9BWZrOh3uhXYgvkA3Dcjqcq49QaHCSV2gujOordtPB+sXhtzHAoiuI/MWVnG1VzjJPalPhK8OvvpUM9vLJGgd5RJhAD7mj2cuwXRg1e0fSp9b1SKwtXjSWXO1pCQowCewPpW9efDvVbe1aa1mtr7YMskD5YD6HrVfwBx43sc/7f8A6AapU2ppSW4X00MY6ZdnVJdPgha4uInZCsKlslTgkd8cVWdGjdkdSrKcEEcg10MCapJ47vF0Jtl79om2Elem45+9x0qhaaLqGsajcxReW1xGxMvmSKnOeevHWk49guZdFdKngHXZW2xxW7nrhblD/Ws2x0C91DWJdNh8tZoS3mFpAFUA4Jz360uSS6BdGZV7SNKn1rU47G1aNJZM4MhIX9Aa37v4d6pBbNLa3FrelRlkgkywH41W8Bgr40tAwwQWBB7cVSptSSktwvpoYN1bPZ3ctvIVLxMVYr0JFQ12954C1K/1C7uGntbcySs0cUsmGYE8cdvxrk9S0y70i+e0v4jFKvY9x6g9xSlTlHVoE7ljWtBudCa2W7khc3MQlTyiTgH1yBzWZXZ/EX/XaP8A9eK1Q0jwPqWq2a3TSQWcLjMbXD7d/wBBVSpvncYoSel2c3RWjrOh3uhXYgv4wCw3I6nKuPUGs6smmnZlBRRRSAKKKKACiiigAooooAKKKKACiiigAooooA6Lw54ok0t1trxmksz07mP3Ht7V6FDNHcQpNA6yRuMqyng143W1oHiKfRpgjZktWPzx+nuK2hUtoxNHptBIAJJwB1JqvBf2tzZ/a4plMOMlyen1riPEnip78taaexS26M44Mn/1q2lJRVySz4l8W+ZustJk+TpJOP4vZfb3rjqKK5ZScndlhRRRUgFdb8NruWDxfFAjER3Ebq69jhSw/UVyVdN8PP8AkeLL/dk/9FtWtL+IvUUtj2qiiivZMAooooAKKKKACiiigAooooAKKKKACiiigAooooAKKKKAK9//AMg25/65N/I188N94/Wvoe//AOQbc/8AXJv5GvnhvvH615+M3RpA6j4duq+LY0Y4MkTqp99prC1CJrXWriO5U7o523A9+ahtbqWyu4rm3cpLEwZWHYiuwl1bwz4n2ya5HNp1+QA9xAMq/uR/9aueNpQ5b6lbO5peHm8LeIZZbWHQBDJHCXLu2c4/GqXw7ht0m1q7llFu1vBtWbGfKB3ZbHttFT6Xd+EvC00t1Zapc3sksZj2CPpnvyBXN+GvEK6JqszzxedZXQMdxF3Knv8ArW3MouLduou50mmaf4Z0zV4tQi8Vs0scm9sr9/nkE+9VNNltZ/iz52nuslvJMWRl6HK5P65qJ9M8Dyo1wmsXkIb5hb+Xll9un9aydF1Ow0jxbHeoJjZROSvGX249M9aTlZpaWuBB4iu7i58R3kk8rO6zMFJP3QDxium8cRLc+INCjmPyzW8Sux9C+DXHalcJd6pc3EWdksrMuRzgmtjxZr1trN3YS2Hmr9mtljYuuDuBJ45rNSVpXGdf4s03Qb/VRHqXiA2bW8aotqFyIxgH9axvFdxpLeErGxsdWXUJ7SX5WI+bYQePw4/KibUfDPitYJtcmm07UEQLLLGuVlxwOx/lWBr1toVqEj0O7nu3zl5JFwuPQdP5VrUkrNq2okje8U3dxD4L0KCKZ0jkiO9VON31rD8OaBPrks+24W1tYU3TzMeAvp71Lr2t2upaFpVnbiQS2kZWTcuBn25qXwlrdjp8d7p+rBxaXybWkjGSh9azbjKorvT/AIA9Ujp/Cul6PpviS3bR/ES3LuGWS3K48wbSePoefwrD8LqE+KW1BhVuZwAOww1WtOvPCHhjWIrq0uLvUZB0kCgCIEEHA4ye341jaNrdrYeODq04k+zGaV8KuWw27HGfer5orl23Ea3hb/kqlx/13uP5tXKakpfWrtVBLNcOAB3O41saJr1pp/jiXVpxIbZ5ZXAVcthiccZ96NA1XR7TxLcalqqTOm9ngVEBwSTyQT6VnpJJX6sZosyeCdBMS4/tu+j+c97eM9vrWJ4c0K51+6uBHcC3giTdcTueAvv65x+laN9N4V1G+lu7q/1h5ZW3MTEn+NHhzW9J0q91Oxm899L1CPyvMYASKORkgf7x6VXuuST2Dob3hnStF07xBbSaP4jW4kYlXgK48wY6Vk+H1CfFJwowPtEnH4mprC68IeGtVhu7W5u9SkXo20BY/ftk1kaXrtpZ+N31aUSG3MruAq/Ng9OM1TlFcq03EZ+vTSt4ivJGkcusxwxY5GDxXR+NJDeeGfDt/Pg3MsLK7d2AC/4n86JF8Gavcy6jc3l3ZOzbntdudx74OO/1FY/irxAmt3kSWkRhsbVPLt4z1x6n61DtGMtdxm941iWfWPD8Un3HtY1b6E1reK9L0G+1RY9R8QfYzbxqiWwTiMYrkfFOv22r3Gmy2HmKbW3WNi64+YenNas2o+GfFawz65PNp1+iBZZY1ysmPwP8q05otyWnQVnoJ4sudJPhexsrHVF1Ca1cgOR822uIrZ1230G1CR6Hd3F2+7LySLhcY6Dp/Ksaueo7yKWwUUUVmMKKKKACiiigAooooAKKKKACiiigAooooAKKKKAJVuZkt3gSVhE5yyA8GoqKKACiiigAooooAK6b4ef8jxZf7sn/AKLauZrpvh5/yPFl/uyf+i2rSl/EXqJ7HtVFFFe0YBRRRQAUUUUAFFFFABRRRQAUUUUAFFFFABRRRQAUUUUAV7//AJBtz/1yb+Rr54b7x+tfQ9//AMg25/65N/I188N94/WvPxm6NICUUUVwmgUUUUAFFFFABRXQatodrY+E9K1OFpTPeFhIGYFRj0GK5+qlFxdmAUVpadp1peaffz3N+ltLbIGhhYDM5OeBz7D86q2lhd33mfY7eSfy13P5a52j1NHKwK9FFFSAUUUUAFFFWLqwurHy/tlvJD5q703rjcPUUwK9FFFIAooooAKKKKACiiigAooooAKKKKACiiigAooooAKKKKACiiigAooooAKKKKACiiigAooooAKKKKACiiigArpvh5/yPFl/uyf+i2rma6b4ef8AI8WX+7J/6LatKX8Reonse1UUUV7RgFFFFABRRRQAUUUUAFFFFABRRRQAUUUUAFFFFABRRRQBXv8A/kG3P/XJv5GvnhvvH619D3//ACDbn/rk38jXzw33j9a8/Gbo0gWdOWzbUIRqTulru/eGMZbHtXUWNp4M1S++xQ/b7aSQ7YpZHBUn6YrN8GaNb61rhjvcmCGNpWQHBfHatrStf0efxDDBb+GYEDSBYmXPmKc9TWNNKybtqUzn10L7P4wTR7wll88Rsy8ZHqK2tT0Xwv4furmDUbi5up9xMcEBx5a9gzeuMUurf8lZT/r5Ssjxr/yOOof9dabSgnp1Dct6H4c086Gdb8RXDw2RcpFHF96Q9P5j9DVPVT4afTS2kLeRXQfGyYhgy+uRWxrkTXXwz0Oe1G6G3Zlm2/wtk8n8f51xVTO0UopdAWp6PLaaZceANDl1q6aC2h3MUQZaQnsKyjoWg6x4evbzQDcw3Fku+SOdg2V//UDR4i/5J14e/wB56XwL/wAgfxL/ANeJ/wDQXrV2clFrp+gulzO8O6Jaapoeu3dz5nmWEAki2tgZIc8+v3RXU+AV0L+z7kwPcG7NqftYI+ULn+GsfwX/AMip4r/69F/9Bkpfh1zJq4HJNm2B+IpU7Jx03uD6mRrUGgyyW0XhlrmSR22uJh3PTFa1zo/hnQfJtNbluri+IBmFu2Fiz/Ouf8NvHH4lsHn/ANWJlzmuq8V6xBp3iO5ivPDtjMzNuWaQNmQevWojZxc3YfWxgeKNBh0ee3n0+Yz2F4nmQOeuPQ/mK0/+Ee0TQtLhm8TTTyXdzGJI7W3OCo9zWbq/icaxa2Vo9hBbW9o+VWHPQ4yOfpWn8S4pG8QQXi5e2uLZDE4HHfj+v40e770orsGuxQK+E21W1ZXvUsWjbz1bl0btg967DxWnhYrp39sSXa/6MPs/lDqnbPvXlldn8QQfL0Q44+xKM/lThP3JOyBrUz7HRLK68Hatqp8zzrWULD83GCV6j8aqeFdMg1jxNaWF3u8mXfu2HB4Qn+Yrb8Pgz/DfxBBGN0gdXIHoCpz+hql8PY3k8b2TIpIjEjOR/CNjDP5kD8aSinKHn/mHcdonh201Lxle6VMXEELTKhDYPykgZP4VHqln4b02wktYp7i81JeDIhxErf1rW8KMH+I+pMpyGa4II78muMuCBqEpYZXzTkfjSlaMNF3DqdNDoWjaRo0N54led57pd8NtAcMF9Sah1/QdOTRYda8PzSSWbv5ciS/ejauh8XanBY/YJZdEtL6CS2Xy5psnHH3eDXNX3i0XOgz6VbaVa2cEzhz5OeCCOeT7Yq5qEbxEr7luHQ9E0rw3aaj4gNzLNfDdDDAduFHqfxBrG1waL5kLaC1xsZT5qT9VPse9aWmeMBDpcOmaxp0Oo2cJ+QPwyj0BpfFuj6fZ2en6lpUbwRXyFjC5ztPt7VMrOHu/8EfXU5eiiiucoKKKKACiiigAooooAKKKKACiiigAooooAKKKKACiiigAooooAekMkufLjd8ddqk0/wCyXH/PCX/vg11fgf8A49bv/fX+RrqcV0woc0b3JcrM8r+yXH/PCX/vg0fZLj/nhL/3wa9UxRir+rruLmPJ3R422yKyn0YYrpPh5/yPFl/uyf8AotqreL/+Q83/AFzX+VWfh5/yPFl/uyf+i2rGK5aqXmN7HtVFFFewYhRRRQAUUUUAFFFFABRRRQAUUUUAFFFFABRRRQAUUUUAV7//AJBtz/1yb+Rr54b7x+tfRzoskbI4yrAgj1FeH+IvCeo6HfSgwSS2u7Mc6LkEds+h9q4cXFtJo0gzN0nVrrRdQS8sXCyJxgjIYdwa3pPH18GeS0sLCzmkYNJNDEQzY9STXMfZ5v8AnlJ/3yaPs83/ADyk/wC+TXFGcoqyZdkaNx4gubnxENZeOITiQPsAO3I/HP61W1XUZdW1Oa+uFRJJm3MqA4H0zVf7PN/zyk/75NH2eb/nlJ/3yaTlJ7hoa+g+KtQ0BJIrby5reU5eCZdyE+vtT9T8Uyajpr2Uem2NnFI4dzbxFSx/OsX7PN/zyk/75NH2eb/nlJ/3yarnlawWRoXuvXF9ollpkscSw2ZJRlB3HPrzRpGvXGj2t9BbxxOt9F5UhkByowRxg9eaz/s83/PKT/vk0fZ5v+eUn/fJpc0r3DQ0NL1640nTtRs4I4nj1CMRyFwcqAGHGD/tGmaHrl3oGoC7sSpbbtZHGVdfQ1S+zzf88pP++TR9nm/55Sf98mjmkreQaGrrPiJtYVB9gs7RlfzC9shUsffmr8fjq9bT0tNRsrLUUj4DXURZsdu9c39nm/55Sf8AfJo+zzf88pP++TT553uFkaOua9LrkkJktre2WFdqJboVH86vad41v7HSxp09va39qowiXSFto9OCOPrWB9nm/wCeUn/fJo+zzf8APKT/AL5NHPJO4WRpa3r8utLAjWltax24ISO3TaOfxrQtPHF5BpkFldWNlfR2/wDq2uYyxX071zv2eb/nlJ/3yaPs83/PKT/vk0c807hZGjo/iG90PUXu7LZ+8yJImGUcehFar+Pb1LaeLT7CxsHn+/LbxEMc9Tyetcz9nm/55Sf98mj7PN/zyk/75NCnNKyYWRd0TWrjQtQN3bJHI5QpiQEjB+hFUJHMkrOeCzEnHvTvs83/ADyk/wC+TR9nm/55Sf8AfJqbu1hm9pfjO/03TTYSQ297a4wsdyhYKPQc9Kh1bxNJqumpYrp9lZwpIJMW0ZUkgEevvWP9nm/55Sf98mj7PN/zyk/75NVzzta4rI6K18aTQWdrBLpWnXJtUCRyTQksABgd6zdc8QXviC7Wa+KgIMRxxjCoPas/7PN/zyk/75NH2eb/AJ5Sf98mhzk1ZhZEdFSfZ5v+eUn/AHyaPs83/PKT/vk1AyOipPs83/PKT/vk0fZ5v+eUn/fJoAjoqT7PN/zyk/75NH2eb/nlJ/3yaAI6Kk+zzf8APKT/AL5NH2eb/nlJ/wB8mgCOipPs83/PKT/vk0fZ5v8AnlJ/3yaAI6Kk+zzf88pP++TR9nm/55Sf98mgCOipPs83/PKT/vk0fZ5v+eUn/fJoAjoqT7PN/wA8pP8Avk0fZ5v+eUn/AHyaAI6Kk+zzf88pP++TR9nm/wCeUn/fJoAjoqT7PN/zyk/75NH2eb/nlJ/3yaAOu8D/APHrd/76/wAjXUVzPgmN0tbvejL869Rjsa6fB9K9Cl8CMnuJRS4PpRg+laiOB8X/APIeb/rmv8qs/Dz/AJHiy/3ZP/RbVF4sglk14+XG7ZRQMKT2rp/h34UvLXUP7W1GFoAiFYY3GGYngnHpjP51xxi5VtO5o37p6RRRRXqGIUUUUAFFFFABRRRQAUUUUAFFFFABRRRQAUUUUAFFFFABRRRQAUUUUAFFBOOtYt34ns7eUpGrTEHBK8CsK2IpUFepKxpCnOo7QVzaornv+Eug/wCfaT/voUf8JdB/z7Sf99CuX+08H/P+Zt9Ur/ynQ0Vz3/CXQf8APtJ/30KP+Eug/wCfaT/voUf2ng/5/wAw+qV/5ToaK57/AIS6D/n2k/76FH/CXQf8+0n/AH0KP7Twf8/5h9Ur/wAp0NFc9/wl0H/PtJ/30KP+Eug/59pP++hR/aeD/n/MPqlf+U6Giue/4S6D/n2k/wC+hR/wl0H/AD7Sf99Cj+08H/P+YfVK/wDKdDRXPf8ACXQf8+0n/fQo/wCEug/59pP++hR/aeD/AJ/zD6pX/lOhornv+Eug/wCfaT/voUf8JdB/z7Sf99Cj+08H/P8AmH1Sv/KdDRXPf8JdB/z7Sf8AfQo/4S6D/n2k/wC+hR/aeD/n/MPqlf8AlOhornv+Eug/59pP++hR/wAJdB/z7Sf99Cj+08H/AD/mH1Sv/KdDRXPf8JdB/wA+0n/fQo/4S6D/AJ9pP++hR/aeD/n/ADD6pX/lOhornv8AhLoP+faT/voUf8JdB/z7Sf8AfQo/tPB/z/mH1Sv/ACnQ0Vz3/CXQf8+0n/fQo/4S6D/n2k/76FH9p4P+f8w+qV/5ToaK57/hLoP+faT/AL6FH/CXQf8APtJ/30KP7Twf8/5h9Ur/AMp0NFc9/wAJdB/z7Sf99Cj/AIS6D/n2k/76FH9p4P8An/MPqlf+U6Giue/4S6D/AJ9pP++hR/wl0H/PtJ/30KP7Twf8/wCYfVK/8p0NFc9/wl0H/PtJ/wB9Cj/hLoP+faT/AL6FH9p4P+f8w+qV/wCU6Giue/4S6D/n2k/76FH/AAl0H/PtJ/30KP7Twf8AP+YfVK/8p0NFc9/wl0H/AD7Sf99Cj/hLoP8An2k/76FH9p4P+f8AMPqlf+U6Giue/wCEug/59pP++hR/wl0H/PtJ/wB9Cj+08H/P+YfVK/8AKdCTgE+npVQ6nbA4LMD/ALtZP/CXQf8APtJ/30Kp3Wu2ty4Zbd427nI5o/tPCdJr8Q+qVv5TS1G5juZIzESQoOciqVRrMrKCvIPQ0vmD0rr54vW5z8rQ+imeYPSjzB6UcyCzNawvoLe1CSMQ2SelXI9QglkCRlix/wBmualuUhTc/Hp71La+I7W1jwtq5Y9W3DmsKmNoUXy1JWNYUKk1eKOpornv+Eug/wCfaT/voUf8JdB/z7Sf99Cs/wC08H/P+Zf1Sv8AynQ0VgR+LbZnAkgkRfXOa27e4iuoVlgcOjdCK6KOKoV3anK5lUo1KfxqxJRRRXSZBRRRQAUUUUAFFFFABRRRQAUUUUAFFFFABRRRQAUUUUAUdakaLRrlkODsxn6nFcDXea9/yA7n/dH8xXB18hnrft4ry/Vnt5d/DfqFFFFeAekFFFFABRRRQAUUUUAFFFFABRRRQAUUUUAFFFFABRRRQAUUUUAFFFFABRRRQAUUUUAFFFFABRRRQAUUUUAFFFFABRRRQAUUUUAFFFFAE9tdNA2Dyh6itRHWRQyHINYlSwXDwNleVPUetevgcwdD3KmsfyOHEYVVPejubFRzzpAmWPPYetRSX0awhkO5j0Ws2SRpXLOcmvUxmYwpRtSd2/wOOhhZTd56IWaZ5n3OfoPSmUUV8tKUpy5pO7PYSUVZBRRRUlBXUeEJGMV1GT8qlSB9c/4Vy9dN4O/5fP8AgH/s1eplLaxkPn+TOPG/wJfL8zpqKKK+6PngooooAKKKKACiiigAooooAKKKKACiiigAooooAKKKKAM/Xv8AkB3P+6P5iuDrvNe/5Adz/uj+Yrg6+Qz3/eI+n6s9vL/4b9Qorb8NRxvNcmWNZNsWQGGe9INegchZtNg2Hrt6150cND2Uak525r20fQ6nVlzuMY3sYtFamt2EVpJFLbZEU67gp7VSgsbq6UtbwO4HcCsKmHqQqOla7XYuNSMoc/Qgop0kbxOUkUqw6gjFPgtZ7pitvE0hHXaKyUZN8qWpd0ldkVFSyWtxE7LJC6leWyvSmCN2QuqMVXqwHAocZJ2aC6Y2nwwyTybIUZ2xnCimojyNtjVmb0UZNa3hsFdZAIwQjAg9uK1w9L2tWMHs3YipPkg5LoZBBBIPBHWippI3lvJEjUsxc4AGe9Pl028hj3y20ir64qPZzd3FNpFc0Va7K1FKiM7BUUsx6ADJNSx2dxLE8kcLlIxlmxwKlRlLZDbS3IaKtzXDvpkEJtgioSRLt5fr3qEWlwQCLeUg9CENXKGto6/ISlproRUU+SCaIZlidB6spFTQ6deXCb4beRl9QKSpzk+VJ3G5RSu2VqKfJDJFJ5ciMr/3SOa0/wCyf+JF9p8qX7R5m3bg9PpV06FSpzcq2VyZVIxtfqZNFWrJ5bS+Vvs3muv/ACzdTz+FV5SXmYldpJ+7jpUOKUb9Sr62G0VZGm3rQ+aLaTZ67arEENgg5zjFKUJR+JWBST2YUVNHZ3M0nlxwSM46jb0ps1vLbPsnjaNvRhQ4TS5mtA5le1yOiiioKCiiigAooooAKKKKACiiigAooooAKKKKACiiigAooooAKKKKACiiigArpvB3/L5/wD/2auZrpvB3/L5/wD/2avUyn/fYfP8AJnHjP4Evl+Z01FFFfdHzwUUUUAFFFFABRRRQAUUUUAFFFFABRRRQAUUUUAFFFFAGfr3/ACA7n/dH8xXB13mvf8gO5/3R/MVwdfIZ7/vEfT9We3l/8N+pveFgDNdhjhfK5PpzT4NH0t4XuY7qW4ji5dUXn8qg8OzRxNd+bIqbosDccZqhpt++n3YlXlDw6/3hWVOtRhRpKrFNe98tS5QnKpNwdtvmWb69/tfUIIo12QqQiL3xW3e2WqB0i0x0gt41AUK2CfrWFqEcNrfx3VlIrxOQ6qDyp9DWhd6eusyi7065j3OAZInbBU1rSc26il707rZ2uvLy8iJpLka0j5q+vmJ4itpf7PtLi6VRcAmOQr/F6fy/Wm6hcyaRY2trZN5ZePzJHXqSazdQ0+TT/LWaaOR2zlUbO3GOv51qywR6/ZW7280aXUKbHjc4z71LlOpUqqC5all1189dNWO0YxhzO8bv08hdPvZ7zRL/AO0v5jImAx61WsP+RV1D/fH9Ku2th9g0fUEknjkkKfMsZzt+tUdGlhmsLrTppRE02CjN0J9K0fOpU41H7zjJa93exPutScNrr9CLw3/yHIfo38qtaP8A8jRP/vSf1qWw0z+xbk3uoXEQVFOxUbJY1T0O4T+3GmmdUDBySxx1rKjF0fY06mj5r/LQuo1U55R1VrfmVbb7V/ar/YATMWYDHaugsbbW4btDdyedAxw6l84FZuiXEKahdI8ixNMrKkhPQ5qez0t9O1COe/voUUNkAOSXq8HHlUZq711s7JevqTXd24u23a7ZBYxrF4wEaDCrK4A/A1Bqeq3LXM9vG/lQKzJ5acAjpzU1vNGPGBlMiiPzWO/PHQ96zL5g2oXDKQQZGII781y1ajhQlGDt7727WRtCKlUTkvso077/AJFPT/8Aro382qPTrzU7y4S3huZFUDk54VRTryWNvDFjGsil1c5XPI5arsVokGj+TZ3lqk0wzLI8uCB6Dit1GU6ycXooxvZ2votP62Mm1GDTWrb/AD3KOu6n9rkW2iYtFDxuPVz61PZ2+uz2sZglaKJVAQFtuR9KoXOlmzi81rq1mAI+SOTJP6Vr6jZPrAhubG6iEKxgFXfGw0qcatSpOpUvzaaJ20/yQ5OEYxjG1u7X9bjNcSddHtJ7xQt2khUsO455/QU46jd/8Iv9o89vN83G/POKg1VoI/D9vbRXSXDxzHcVPsf05pdPjXUfD72McsaTrJuCucZFbucniJRg9XDv1t36szUV7NOS0Uu3T/Ir6HPJceII5JnLuQck/SpdMt45dduZZhuWDc+31NM02D+zPEEcd1JGNoyWDcDj1pthfxWetzNMcwSlkYjngnrXPRaiqardJu9/Rb/M1mm3Lk/lRFJr+oNdGVZ2UZ4QfdHtirOtRxySWV9EoU3KguB68UreG2aQyRXcBtSciQt0FQ6veQTXVtb2p3QWoCB/73TJ/SlNVoUZ/WXu1a7633XlYIunKcfZdL3LviDU7i1vhBbP5Q2BmZeCx+tQ30rXnheC4uDulWUruPUiq/iOWObVd0Tq6+WoypyKe8sZ8JRxb18wTE7c8457VdWtKdavGUtLO3bdEwpqNOm0tbox6KKK8M9EKKKKACiiigAooooAKKKKACiiigAooooAKKKKACiiigAooooAKKKKACum8Hf8vn/AP/Zq5mum8Hf8vn/AP/Zq9TKf99h8/wAmceM/gS+X5nTUUUV90fPBRRRQAUUUUAFFFFABRRRQAUUUUAFFFFABRRRQAUUUUAZ+vf8AIDuf90fzFcHXea9/yA7n/dH8xXB18hnv+8R9P1Z7eX/w36hRRRXgHpBRRRQAVqW2htd26Sw3UHzDlWbBU1l0VtSlTi/fjdetiJqTXuuxuzG30jSZrRJ1nuJ+G2dFFYVFFVWre1asrJaJE06fJfW7YUUUVzmoUUUUAFFFFABRRRQAUUUUAFFFFABRRRQAUUUUAFFFFABRRRQAUUUUAFFFFABRRRQAUUUUAFFFFABRRRQAUUUUAFFFFAChWPQE/hRsb+6fyroNJAOmx5A6n+dXNo9B+VezTyzngp8267HFLE8smrHJ7G/un8qNjf3T+VdZtHoPypdo9B+VX/ZP9/8AD/gi+t+RyNdN4O/5fP8AgH/s1c7c/wDH1J/vGui8Hf8AL5/wD/2asMrVsdFev5MrGO+Hb9PzOmooor7k+eCiiigAooooAKKKKACiiigAooooAKKKKACiiigAooooAz9e/wCQHc/7o/mK4OvR7q3W6tZIH+664PtXEXWh39tKVFu8q54aNdwP5V8vneHqzqRqRV1ax6+AqQUXFvUz6Ks/2Zf/APPlcf8Afpv8KP7Mv/8AnyuP+/Tf4V897Gr/ACv7j0/aQ7lairP9mX//AD5XH/fpv8KP7Mv/APnyuP8Av03+FHsav8r+4PaQ7lairP8AZl//AM+Vx/36b/Cj+zL/AP58rj/v03+FHsav8r+4PaQ7lairP9mX/wDz5XH/AH6b/Cj+zL//AJ8rj/v03+FHsav8r+4PaQ7lairP9mX/APz5XH/fpv8ACj+zL/8A58rj/v03+FHsav8AK/uD2kO5Woqz/Zl//wA+Vx/36b/Cj+zL/wD58rj/AL9N/hR7Gr/K/uD2kO5Woqz/AGZf/wDPlcf9+m/wo/sy/wD+fK4/79N/hR7Gr/K/uD2kO5Woqz/Zl/8A8+Vx/wB+m/wo/sy//wCfK4/79N/hR7Gr/K/uD2kO5Woqz/Zl/wD8+Vx/36b/AAo/sy//AOfK4/79N/hR7Gr/ACv7g9pDuVqKs/2Zf/8APlcf9+m/wo/sy/8A+fK4/wC/Tf4Uexq/yv7g9pDuVqKs/wBmX/8Az5XH/fpv8KP7Mv8A/nyuP+/Tf4Uexq/yv7g9pDuVqKs/2Zf/APPlcf8Afpv8KP7Mv/8AnyuP+/Tf4Uexq/yv7g9pDuVqKs/2Zf8A/Plcf9+m/wAKP7Mv/wDnyuP+/Tf4Uexq/wAr+4PaQ7lairP9mX//AD5XH/fpv8KP7Mv/APnyuP8Av03+FHsav8r+4PaQ7lairP8AZl//AM+Vx/36b/Cj+zL/AP58rj/v03+FHsav8r+4PaQ7lairP9mX/wDz5XH/AH6b/Cj+zL//AJ8rj/v03+FHsav8r+4PaQ7lairP9mX/APz5XH/fpv8ACj+zL/8A58rj/v03+FHsav8AK/uD2kO5Woqz/Zl//wA+Vx/36b/Cj+zL/wD58rj/AL9N/hR7Gr/K/uD2kO5Woqz/AGZf/wDPlcf9+m/wo/sy/wD+fK4/79N/hR7Gr/K/uD2kO5Woqz/Zl/8A8+Vx/wB+m/wo/sy//wCfK4/79N/hR7Gr/K/uD2kO5Woqz/Zl/wD8+Vx/36b/AAo/sy//AOfK4/79N/hR7Gr/ACv7g9pDuVqKs/2Zf/8APlcf9+m/wo/sy/8A+fK4/wC/Tf4Uexq/yv7g9pDubOk/8g2P6n+dXKrabDLDYoksbo4JyrKQRzVrafQ/lX1mHTVGCfZHk1GnNiUtG0+h/KjafQ/lW9mQcpc/8fUn+8a6Lwf/AMvn/AP/AGasiTS76a6fy7SYhmOCUIB/E8V1Wh6WdMs2EpBmkOXx29BXi5Zh6v1z2jjor/qdeLqw9hy31djTooor7A8MKKKKACiiigAooooAKKKKACiiigAooooAKKKKACiiigAooooAKKKKACiq99fW+m2Ut3eSCOGJdzMa87u/jFbpOy2emvJGDwzvgn8KBpNnplFeW/8AC5D/ANAof9/KP+FyH/oFD/v5QPlZ6lRXlv8AwuQ/9Aof9/KP+FyH/oFD/v5QHKz1KivLf+FyH/oFD/v5R/wuQ/8AQKH/AH8oDlZ6lRXlv/C5D/0Ch/38o/4XIf8AoFD/AL+UBys9Sory3/hch/6BQ/7+Uf8AC5D/ANAof9/KA5WepUV5b/wuQ/8AQKH/AH8o/wCFyH/oFD/v5QHKz1KivLf+FyH/AKBQ/wC/lH/C5D/0Ch/38oDlZ6lRXlv/AAuQ/wDQKH/fyj/hch/6BQ/7+UBys9Sory3/AIXIf+gUP+/lH/C5D/0Ch/38oDlZ6lRXlv8AwuQ/9Aof9/KP+FyH/oFD/v5QHKz1KivLf+FyH/oFD/v5R/wuQ/8AQKH/AH8oDlZ6lRXlv/C5D/0Ch/38o/4XIf8AoFD/AL+UBys9Sory3/hch/6BQ/7+Uf8AC5D/ANAof9/KA5WepUV5b/wuQ/8AQKH/AH8o/wCFyH/oFD/v5QHKz1KivLf+FyH/AKBQ/wC/lH/C5D/0Ch/38oDlZ6lRXlv/AAuQ/wDQKH/fyj/hch/6BQ/7+UBys9Sory3/AIXIf+gUP+/lH/C5D/0Ch/38oDlZ6lRXlv8AwuQ/9Aof9/KP+FyH/oFD/v5QHKz1KivLf+FyH/oFD/v5R/wuQ/8AQKH/AH8oDlZ6izBVJPQegqH7ZD/eP5GvNP8Ahch/6BI/7+VLp3xOtNQ1BYbq0+xq/AffkZ9/Sok5JXRUYp7ndTuJJmZehqOq4uwygqAQeQQetH2r/Zrkbu7nQlZWLFFV/tX+zR9q/wBmkM147qJY1BJyB6VJHMkpOzJx7VxXiHxhaaBCPMXzbhvuwqecep9KxE+MIjUKukgD/rpXVBye+xhKKWx6pRXlv/C5D/0Ch/38o/4XIf8AoFD/AL+VqZ8rPUqK81svjDayXCrfae8UZOC6Nu2/hXotrdQ3trHc2sgkilUMjL0IoE00S0UUUCCiiigAooooAKKKKACiiigAooooAKKKKACiiigAooooA4T4tSunhWJFYhZJxuHrivF69l+Lv/Is2/8A13H8q8aoNY7G/oXg3UvEGnS3tlJbRwQyeW7Ty7MHAPp7irz/AA113yGkt2s7raOVgnDH+VaXh8kfBvxARx/pI/8Aadc/4Rt9XuPEFo2lLcErKN0iA7VHfJ6dKA1MOaGS3meKdGjkQ4ZWGCDTK7TxzZjWPiO9npKq80uyNtvTf3z+lTnwt4Qs7xNM1HX7j+0Puu8SDykf0Jwf5/lQO5wlFamvaDcaFrkmmykSuCPLdB/rAehFdLP4R8O6BBDF4q1e4j1CVQ5gtEDeUD68GgLmPP4cgi8Cwa6JpDNLOYjGQNoHr61z1ekeJbOzsfhbbRabere2xu90cwGCQexHY1y+reHItO8J6Vq6Tu8l8WDRkDC49KBJnP0V0Hhrw5Frmn6vcSzvEdPtvOUKB85wxwfypvhbwvL4juJ2edbSytV33Nw/RB6D34P5UDuYNFdbfaX4KFrcjTtbvWuo0JjMsX7uVsdB8oI/HFVfDfheHVLOfU9XvPsGl25w8uMs7eij1oC5zlFdnceE9E1LRbq98J6nPcy2a75re5UBtvqMAVxlAXCit7QrHw5NZTXHiHU7i3dX2x29tHlmGOuSCP5dK1NQ8IaTc+Hp9X8K6lNdx2ozPDOuHUfgBQFzjaK6jwz4QHiLRr27F2ts9tIoJkICBcZJJ9qg1rS9BiNta+Hb+41G9kkCPlNqEngbeB3oC5z1X9D09NV16ysJXZEuJljZl6gE11Nx4T8NaBHHB4n1m4GoMoZ4LNAfLB9SQf6fSqGkW2n2vxH0yPR7xry0+1RFJWUqevQjAoC5keIdMj0bxBd6fC7SJbvtDP1PANZtek+KNE8MxeJryfxFrM0c9xKGWC0XcY1wBliQfyrl/F3hhPDt1btZ3P2qyuo/MhlPXHoaATKOsaI2kQ2cjXUM/wBqi8wCM52ex96oyWtxFBHNLBKkUn3JGQhX+h710uq+GbDSZ9FN5fypbX8QkmkK58oewA5rsdd03wzL4N0SG91uWGyjDfZpxAxMvrkbePyoFc8koroNJ8Mrruv3Frp12PsEGXe7kXAEY74OOa27fwp4U1iWWx0HXLl9QUHyxOgEcpHpwKB3OEorT0rw/e6try6TAoWfcVct0QDqTXS3GgeCLC5Nlea/ePdJ8sksMQMSt6fdJ/ImgLnF29tPdS+XawyTSYzsjQsfyFMZSjFWBVgcEEcg16R8NrHRI9cMsWqPJfqZUSAREK8eMb84x05xmue8V2Hh63eeXSdXlu7xp28yFoWULyc8kDvQF9Tl6K6DxZ4ci8OzWKQzvMLm3ExLgDBPaltvDcM/gO614zuJYJxEIgBtIJHP60Bc56iuv0jwXb6j4Xg1m51JbOHz2S4aQcIg7gdSScDHvVC50TTtR8QW2m+E7i4uxLw0lwu3B7kcDjFAXOforux4X8HR3w0ufxBcHUM7DIiDyQ/p0/r+NcnrekT6FrE+n3RBeI8MOjA9D+VAXKFFFFAwooooA7Dwp4zfTiljqbF7TOFkPJi/xFelRyJLGskTK6MMqynIIrwWuk8LeLptDkFvc7prJjymeY/df8KxnTvqilI9YrmvFHi2HRIzb2pWW9Yfd7R+5/wqj4k8dQW9t5GiyLNNIuTMOkYP9f5V5xJI8sjSSsXdjksTkk1EKd9WNy7D7q6mvLl57mRpJHOWZjUVFFdJAUUUUAFe4fCuZ5PBMauxIjmdVz2Gc/1rw+vbfhR/yJn/AG3egmWx21FFFBkFFFFABRRRQAUUUUAFFFFABRRRQAUUUUAFFFFABRRRQBwPxd/5Fm3/AOu4/lXjVey/F3/kWbf/AK7j+VeNUGsdj0nwbqVzpHws1q+sWCTw3QKErkDIjHT8au6b4q1Pxh4TurO0vTaa3bjePKwv2hPQeh+ntXC2PieSx8I3+hLbK6XkgkMxbBX7vGP+A/rWbpuo3GlajDe2blJoW3KfX2oCx03w3+Xx7F9qBMmyTh+u/Hv3qe/1nwlFqNwl14TlMyyMHLXsgJOevWsDUfEL3fiEaxY262FxuDkRtkFvX8a3pvHOk6kVm1nw1b3F0MbpVcruPqcUAE3iW18SfEDQ7r7KbaGGSKEozbskPkH9RWd8QkmTx5qX2gHLOpUnuu0Y/SsvWdUi1PUzdWlnHYRgAJFCeFx3z610g8e2t/aQL4j0ODUbiBQqzlipYD1xQGxJeDHwbs8/8/ho8SZk+F3hxkGVR3DH0NZmueNZta0X+zGsYbeBJvMiEXARccLj+tGgeMP7M0uTStSsY9R0923CKQ4KH2NAWZp/D8FfD/ilyML9hIz2ztenaCjTfCDX47UZuBcq0gX73ljYfy4b9az9V8apPor6TommRaZaSnMuxizP7ZrN8NeJrzwzevLaqssUy7ZoJPuyD/OfzoCzMavSbC50y1+FNrJqOmNqNuLlvMRJTHtb1JFYt54s0OW3n+x+GLeG5mQr5hckLnuB0qh4b8WT6BHNbSW8d7Yz/wCstpehPqKAeptWPjPw5pIuG0rw5JbSzxNEzfambgj0JNcMx3MT0yc11l14q0I2s6WHhi3hmmUr5jOW25GMgGuSoGjtdJ0bQtL8FxeIfENvNfm7laKC3jcoBgkZJBB/hNbmi3uhXfhXXzoOmz2DC1Pmq8pdT6YyTXLaH4xjsNDbRtX02PUrHeXjR2wUJ64P5/matS+PwmnXenafo9taWdxEYwiE7gf7xPegmzJvDP8AyTLxL9U/pWH4KaFfGmlm54Tzx19cHH64pmm+I5NO8OajpK26ut9jdIWwUx7d6x0dopFeNirqQVYHkEd6CrG743jnj8baoLoHcbhmXP8AcPK/pio/B3/I6aR/19x/zrcbx7Z6lbxDxHoNvf3EQCicMVLD3xWNN4ji/wCEptdXstOhtY7VkKW0ZwDtOeT70C1tYd45/wCR41T/AK7f+yitzxuB/wAIb4ZOOfIIz+Arkta1NtZ1q51B4hE1w+4oDkDjHX8Ku6z4lk1jR9NsHtliWwQqrhsl/wDCgOxvfET/AJBvh3/rxH9KPFX/ACTXwv8AR6wNf8Rya9b6fFJbrCLKHygVbO/39q09K8aQQeH49G1vSo9StoGLQlmKleScfqaAszT+H0ltH4X8RNc2huwI1LwoxVnTByMjmqtj4q8KabfRXdl4WkiuIW3I/wBsc4P0JxWLp/iebR/EM2o6VAkMMpINqeVKf3TWy/jHw+8puD4TtjcHnPmHbn6dP0oCxoeCL9dX8Za5d26eTPdW8jwJn5lJPQH8q88lRkmdZAVZWIIPUGr1nrVzp2uDU7DbBKrllVR8oB/hx6V08/jjRr2b7XfeF7aW86s4cgMfUigNiD4X/wDI6R/9cZP/AEE1zOqf8hi8/wCu7/8AoRq3puvz6V4l/ti0ijR/NZ/KA+UBs5Ue2DitHxD4k0rWbaT7LocVndyuHknVyc+vHvQPqafxO5udGYdDYLg0tmfL+Ct9vBHmXqhfflf8DVOw8bwHR4dO8QaTFqcVvxC7MVZR6Zqp4j8Xya3YwadaWkdhp8B3LBGc5PqTQKz2NOf/AJIva/8AYRP8jTPhcYx4sbeu5/s8mxe5OOg/CsV/ETv4Pj0H7OoSO4M/nbuSeeMfjWfp9/caXfxXllIY5om3KaAtodZPrvhGC+k83wnKJkkO4m9kzuB+vrWN4t8QR+JNYF7DbNbqI1TYzbunvW3N430bUJBcar4Yt5rrq0iOV3H1OK5bWNQj1PU5LmC0js42ACwxfdUAYoBFGiiigoKKKKACiiigAooooAKKKKACiiigAr234Uf8iZ/23evEq9t+FH/Imf8Abd6CZbHbUUUUGQUUUUAFFFFABRRRQAUUUUAFFFFABRRRQAUUUUAFFFFAHA/F3/kWbf8A67j+VeNV7L8Xf+RZt/8AruP5V41Qax2CiiigoKKKKACiiigAooooAKKKKACiu00S1gk+GGuTvCjSpKoVyvK9Ohri6BBRRRQMKKK1NOl0ZNIv01KCeS+ZR9keM/Kh77uR/I0AZdFbGgeHZtfS+aCZIvscBmbcCdw54H5Vj0AFFFFABRRRQAUUUUAFFFFABRRRQAUUUUAFFFFABRRRQAUUUUAFFFFABRRRQAUUUUAFFFFABRRRQAUUUUAFe2/Cj/kTP+2714lXtvwo/wCRM/7bvQTLY7aiiigyCiiigAooooAKKKKACiiigAooooAKKKKACiiigAooooA4H4u/8izb/wDXcfyrxqvZfi7/AMizb/8AXcfyrxqg1jsdv4dsdM0Pwg/ijWLNb6WSbybK3k+4TzyR+Dfl61Q1fxqda0yW0utF06JmIMU0Ee1o+ffOfTtWzp1o3in4UppmnEPfaZcmXyc/M6kseP8Avs/lXIzeHNYt7aW4uNPniihH7x3TAWgNDq7CPTvB3hK11a7sIb/U78kwLOuUiUd8VZ0q+sPiDDc6Zf6XaWepLEZLa4tU2ZI7H/8AXUWo2Eviv4f6VNpC+fcaeDHPAv3gPXFN8C6JdaFeT6/rUL2lpawtt8z5S7HsBQIr+A9M024s/EX9t2qzRWsAckIC6AbidpPQ8Vc0PxhY6rrFvos/h7T4tNuXECKseXTPAJbuenaq/gqXz9G8Yyn+OyZvzWSua8Jf8jlpH/X5F/6EKB9zqNS1zT/BGqzaTouj2twYX/f3F6u93zzgYxgAEf4VT8fafYrHpmr6dbLaDUId8kKDChvUYrN8e/8AI9ap/wBdB/6CK2PG/wDyKfhr/r3NAdjR1vUNM8KWWlT2WhWM1/cWit5s0YKKPXaMZY+tV52sPG/g3UdRXT7ex1bSwJJGt12rInJ6fQHrnp15qTxtoepalpGiXNhaSXEcdmqv5YyVP0qPSbGfwp8P9dutXQwS6nGLaCB+GPDDOP8AgRP4UC6FbQf+SUa9/wBdU/pS+FtLt9M8MSeIrnTf7TuWk8q1tym5Qe7EUmg/8ko17/rqn9K0/Dl/ql38Oxb+GLny9Rs5iZIlClnQ+mRQA6DPjPSb+21fQYtPvLeEzW9zBAYwcfwnP+Nc/wCEhper2tx4d1SC3huJ8mzvvLAdJP7pbqQfT6j0q1Jq/wAQnhnEr3gjRGMpaBAFXHOTt9KoeENFiuJZdc1hjHpmnnzHboZXHIUfjQHQ0LTRIPB2i3Op+JLOGe/lZoLKznUOuRwZCD1Hp/8AXFQ+F7O1vPBnie6ubWCWeKINHI0S5jJB+7x8v4Voapcp8R9Hlu7ePydX0/cRbhs+bCTnj3H+e1VfB4I8BeKwRgiEZH4GgOhrfDvW4ZNJ1G3GlWSNZ2RZ5VjG6468Oe4rm18Vafea9ps1xoGl2ttDLiZIrddsitwSwxzjqKv/AAyXzpNatUIM09kVjXP3jzXI3+kX+mY/tC0ltwzFVLrjJHXFA7K5p+NNFGi+Kri3gQLbykTW4A42NyAPocj8K0PGFnZ6Fouk6LHbQi/Efn3c+weZluiFuuBk/kK6fw/b2vizRdF1S+kRZNCkZLosfvxqu5c/kv8A49XnWv6tJrevXeoSZ/fSEqD/AAr0A/KgEZ1FFFBQUUUUAFFFFABRRRQAUUUUAFFFFABRRRQAUUUUAFFFFABRRRQAUUUUAFFFFABRRRQAUUUUAFe2/Cj/AJEz/tu9eJV7b8KP+RM/7bvQTLY7aiiigyCiiigAooooAKKKKACiiigAooooAKKKKACiiigAooooA4H4uj/imLf/AK7j+VeNV9G+JdBh8R6HLYTNsLfMj4+6w6GvHbr4aeJ7edkisRcKDxJHKoB/Mg0GkWrHN2V9dadcCexnkglHRkbBq9f+J9a1S2Nvf6lPPEeqMeD+VaH/AArvxV/0CX/7+x//ABVH/Cu/FX/QJf8A7+x//FUFXRi6fqt9pUxl066kt3PUo2M1NqXiDVtXVV1K/muFXortx+Van/Cu/FX/AECX/wC/sf8A8VR/wrvxV/0CX/7+x/8AxVAXRg299dWkc0dtO8STrslVTgOPQ/majhmkt5kmgcpJGwZWU8gjvXRf8K78Vf8AQJf/AL+x/wDxVH/Cu/FX/QJf/v7H/wDFUBdHPXFxNd3Dz3MjSyucs7HJNPnvrq6hiiuJ3kjhGI1Y5Cj2re/4V34q/wCgS/8A39j/APiqP+Fd+Kv+gS//AH9j/wDiqAuje8Y6xqGkQ6DJpl3LbM1goOw9efSuI1HV7/VphLqV3LcuBgF2zj8K35/A3jG5CC40+aQRrtTdOh2j0HzVD/wrvxV/0CX/AO/sf/xVAlZGDHfXUVnJaxzusEpy8YPDfWlsr+6064E9jcSQSD+JGxW7/wAK78Vf9Al/+/sf/wAVR/wrvxV/0CX/AO/sf/xVA7opXfi3Xr63aC61S4kiYYZS2Mj8Kz2v7prFbIzv9mVtwiz8ufXFbv8AwrvxV/0CX/7+x/8AxVH/AArvxV/0CX/7+x//ABVAaGBaXlxYziazmeGQAjchwcU9NRvI47iOO4kVLn/XKDw/1rc/4V34q/6BL/8Af2P/AOKo/wCFd+Kv+gS//f2P/wCKoC6MC0vLixuVuLOZ4ZU+66HBFWtT13U9ZEY1S9kuRFnZv/hz1/lWr/wrvxV/0CX/AO/sf/xVH/Cu/FX/AECX/wC/sf8A8VQF0abE+GfhcI8lbzXpMkd1hH+P/s1cPXVz+BvGV0IxcafNKI12oGnQ7R6D5qh/4V34q/6BL/8Af2P/AOKoErHNUV0v/Cu/FX/QJf8A7+x//FUf8K78Vf8AQJf/AL+x/wDxVA7o5qiul/4V34q/6BL/APf2P/4qj/hXfir/AKBL/wDf2P8A+KoC6Oaorpf+Fd+Kv+gS/wD39j/+Ko/4V34q/wCgS/8A39j/APiqAujmqK6X/hXfir/oEv8A9/Y//iqP+Fd+Kv8AoEv/AN/Y/wD4qgLo5qiul/4V34q/6BL/APf2P/4qj/hXfir/AKBL/wDf2P8A+KoC6Oaorpf+Fd+Kv+gS/wD39j/+Ko/4V34q/wCgS/8A39j/APiqAujmqK6X/hXfir/oEv8A9/Y//iqP+Fd+Kv8AoEv/AN/Y/wD4qgLo5qiul/4V34q/6BL/APf2P/4qj/hXfir/AKBL/wDf2P8A+KoC6Oaorpf+Fd+Kv+gS/wD39j/+Ko/4V34q/wCgS/8A39j/APiqAujmqK6X/hXfir/oEv8A9/Y//iqP+Fd+Kv8AoEv/AN/Y/wD4qgLo5qiul/4V34q/6BL/APf2P/4qj/hXfir/AKBL/wDf2P8A+KoC6Oaorpf+Fd+Kv+gS/wD39j/+Ko/4V34q/wCgS/8A39j/APiqAujmqK6X/hXfir/oEv8A9/Y//iqP+Fd+Kv8AoEv/AN/Y/wD4qgLo5qiul/4V34q/6BL/APf2P/4qj/hXfir/AKBL/wDf2P8A+KoC6Oar234UD/ijB/13evP7P4Z+Jbm4WOezW1QnmSSRSAPoCa9l0DRodA0WDT7c7liHLH+JjyT+dBMmrGjRRRQZhRRRQAUUUUAFFFFABRRRQAUUUUAFFFFABRRRQAUUUUAFFFFABRRRQAUUUUAFFFFABRRRQAUUUUAFFFFABRRRQAUUUUAFFFFABRRRQAUUUUAFFFFABRRRQAUUUUAFFFFABRRRQAUUUUAFFFFABRRRQAUUUUAFFFFABRRRQAUUUUAFFFFABRRRQAUUUUAf/9k=)"
      ],
      "metadata": {
        "id": "KDN6nxmbz8Kh"
      }
    },
    {
      "cell_type": "markdown",
      "source": [
        "Many practitioners, when faced with an overfitting model, start at exactly the wrong end of this diagram. Their starting point is to use a smaller model, or more regularization. Using a smaller model should be absolutely the last step you take, unless training your model is taking up too much time or memory. Reducing the size of your model reduces the ability of your model to learn subtle relationships in your data.\n",
        "\n",
        "Instead, your first step should be to seek to create more data. That could involve adding more labels to data that you already have, finding additional tasks that your model could be asked to solve (or, to think of it another way, identifying different kinds of labels that you could model), or creating additional synthetic data by using more or different data augmentation techniques. Thanks to the development of Mixup and similar approaches, effective data augmentation is now available for nearly all kinds of data.\n",
        "\n",
        "Once you've got as much data as you think you can reasonably get hold of, and are using it as effectively as possible by taking advantage of all the labels that you can find and doing all the augmentation that makes sense, if you are still overfitting you should think about using more generalizable architectures. For instance, adding batch normalization may improve generalization.\n",
        "\n",
        "If you are still overfitting after doing the best you can at using your data and tuning your architecture, then you can take a look at regularization. Generally speaking, adding dropout to the last layer or two will do a good job of regularizing your model. However, as we learned from the story of the development of AWD-LSTM, it is often the case that adding dropout of different types throughout your model can help even more. Generally speaking, a larger model with more regularization is more flexible, and can therefore be more accurate than a smaller model with less regularization.\n",
        "\n",
        "Only after considering all of these options would we recommend that you try using a smaller version of your architecture."
      ],
      "metadata": {
        "id": "_9WFJUGe0BTV"
      }
    }
  ]
}