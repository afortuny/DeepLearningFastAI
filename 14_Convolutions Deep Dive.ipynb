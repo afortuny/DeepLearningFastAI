{
  "nbformat": 4,
  "nbformat_minor": 0,
  "metadata": {
    "colab": {
      "provenance": [],
      "authorship_tag": "ABX9TyP7p0Mjao9dMnGqM3crWw80",
      "include_colab_link": true
    },
    "kernelspec": {
      "name": "python3",
      "display_name": "Python 3"
    },
    "language_info": {
      "name": "python"
    }
  },
  "cells": [
    {
      "cell_type": "markdown",
      "metadata": {
        "id": "view-in-github",
        "colab_type": "text"
      },
      "source": [
        "<a href=\"https://colab.research.google.com/github/afortuny/DeepLearningFastAI/blob/main/14_Convolutions%20Deep%20Dive.ipynb\" target=\"_parent\"><img src=\"https://colab.research.google.com/assets/colab-badge.svg\" alt=\"Open In Colab\"/></a>"
      ]
    },
    {
      "cell_type": "code",
      "execution_count": null,
      "metadata": {
        "id": "pGbQ9PX0PIQr"
      },
      "outputs": [],
      "source": [
        "#hide\n",
        "! [ -e /content ] && pip install -Uqq fastbook\n",
        "import fastbook\n",
        "fastbook.setup_book()"
      ]
    },
    {
      "cell_type": "code",
      "source": [
        "#hide\n",
        "from fastai.vision.all import *\n",
        "from fastbook import *\n",
        "\n",
        "matplotlib.rc('image', cmap='Greys')"
      ],
      "metadata": {
        "id": "k6Y6cZ9wPb2M"
      },
      "execution_count": 2,
      "outputs": []
    },
    {
      "cell_type": "markdown",
      "source": [
        "## Kernels and Convolutions"
      ],
      "metadata": {
        "id": "4_pEtSmtqFm8"
      }
    },
    {
      "cell_type": "markdown",
      "source": [
        "In this notebook we will dig into what convolutions are and building a CNN from scratch. We will then study a range of techniques to improve training stability and learn all the tweaks the library usually applies for us to get great results"
      ],
      "metadata": {
        "id": "hJ4EScmxPieK"
      }
    },
    {
      "cell_type": "markdown",
      "source": [
        "One of the first features that image models try to get is edges on an image. It turns out that finding the edges in an image is a very common task in computer vision, and is surprisingly straightforward. To do it, we use something called a convolution. A convolution requires nothing more than multiplication, and addition—two operations that are responsible for the vast majority of work that we will see in every single deep learning model. A convolution applies a kernel (little matrix) across an image. "
      ],
      "metadata": {
        "id": "_DpCERzpP4JS"
      }
    },
    {
      "cell_type": "code",
      "source": [
        "top_edge = tensor([[-1,-1,-1],\n",
        "                   [ 0, 0, 0],\n",
        "                   [ 1, 1, 1]]).float()"
      ],
      "metadata": {
        "id": "q1TV-OagRnWb"
      },
      "execution_count": 3,
      "outputs": []
    },
    {
      "cell_type": "code",
      "source": [
        "path = untar_data(URLs.MNIST_SAMPLE)"
      ],
      "metadata": {
        "colab": {
          "base_uri": "https://localhost:8080/",
          "height": 37
        },
        "id": "LkRDA6ZkRpel",
        "outputId": "1b5273a3-c36b-4147-d8de-0e80bf4afe0b"
      },
      "execution_count": 4,
      "outputs": [
        {
          "output_type": "display_data",
          "data": {
            "text/plain": [
              "<IPython.core.display.HTML object>"
            ],
            "text/html": [
              "\n",
              "<style>\n",
              "    /* Turns off some styling */\n",
              "    progress {\n",
              "        /* gets rid of default border in Firefox and Opera. */\n",
              "        border: none;\n",
              "        /* Needs to be in here for Safari polyfill so background images work as expected. */\n",
              "        background-size: auto;\n",
              "    }\n",
              "    progress:not([value]), progress:not([value])::-webkit-progress-bar {\n",
              "        background: repeating-linear-gradient(45deg, #7e7e7e, #7e7e7e 10px, #5c5c5c 10px, #5c5c5c 20px);\n",
              "    }\n",
              "    .progress-bar-interrupted, .progress-bar-interrupted::-webkit-progress-bar {\n",
              "        background: #F44336;\n",
              "    }\n",
              "</style>\n"
            ]
          },
          "metadata": {}
        },
        {
          "output_type": "display_data",
          "data": {
            "text/plain": [
              "<IPython.core.display.HTML object>"
            ],
            "text/html": [
              "\n",
              "    <div>\n",
              "      <progress value='3219456' class='' max='3214948' style='width:300px; height:20px; vertical-align: middle;'></progress>\n",
              "      100.14% [3219456/3214948 00:00&lt;00:00]\n",
              "    </div>\n",
              "    "
            ]
          },
          "metadata": {}
        }
      ]
    },
    {
      "cell_type": "code",
      "source": [
        "#hide\n",
        "Path.BASE_PATH = path"
      ],
      "metadata": {
        "id": "z_PlpegBRsLN"
      },
      "execution_count": 5,
      "outputs": []
    },
    {
      "cell_type": "code",
      "source": [
        "im3 = Image.open(path/'train'/'3'/'12.png')\n",
        "show_image(im3);"
      ],
      "metadata": {
        "colab": {
          "base_uri": "https://localhost:8080/",
          "height": 85
        },
        "id": "3zAnxkGNRujf",
        "outputId": "49d46377-c966-474b-c385-483501912460"
      },
      "execution_count": 6,
      "outputs": [
        {
          "output_type": "display_data",
          "data": {
            "text/plain": [
              "<Figure size 72x72 with 1 Axes>"
            ],
            "image/png": "[encoded data removed]"
          },
          "metadata": {
            "needs_background": "light"
          }
        }
      ]
    },
    {
      "cell_type": "code",
      "source": [
        "im3_t = tensor(im3)"
      ],
      "metadata": {
        "id": "EBQ0AmjMohnY"
      },
      "execution_count": 9,
      "outputs": []
    },
    {
      "cell_type": "markdown",
      "source": [
        "Let's create a function to apply the top edge kernel over a part of the image and sum the results of it"
      ],
      "metadata": {
        "id": "eOWXHiPXoCv-"
      }
    },
    {
      "cell_type": "code",
      "source": [
        "def apply_kernel(row, col, kernel):\n",
        "    return (im3_t[row-1:row+2,col-1:col+2] * kernel).sum()"
      ],
      "metadata": {
        "id": "QKhfiXbroLhP"
      },
      "execution_count": 7,
      "outputs": []
    },
    {
      "cell_type": "code",
      "source": [
        "#hide_output\n",
        "df = pd.DataFrame(im3_t[:10,:20])\n",
        "df.style.set_properties(**{'font-size':'6pt'}).background_gradient('Greys')"
      ],
      "metadata": {
        "id": "C3kdUVfyonX3",
        "outputId": "cd5d3f8c-20a6-4b9e-9a23-6f3126c2f363",
        "colab": {
          "base_uri": "https://localhost:8080/",
          "height": 363
        }
      },
      "execution_count": 11,
      "outputs": [
        {
          "output_type": "execute_result",
          "data": {
            "text/plain": [
              "<pandas.io.formats.style.Styler at 0x7f62d9238950>"
            ],
            "text/html": [
              "<style type=\"text/css\">\n",
              "#T_b1438_row0_col0, #T_b1438_row0_col1, #T_b1438_row0_col2, #T_b1438_row0_col3, #T_b1438_row0_col4, #T_b1438_row0_col5, #T_b1438_row0_col6, #T_b1438_row0_col7, #T_b1438_row0_col8, #T_b1438_row0_col9, #T_b1438_row0_col10, #T_b1438_row0_col11, #T_b1438_row0_col12, #T_b1438_row0_col13, #T_b1438_row0_col14, #T_b1438_row0_col15, #T_b1438_row0_col16, #T_b1438_row0_col17, #T_b1438_row0_col18, #T_b1438_row0_col19, #T_b1438_row1_col0, #T_b1438_row1_col1, #T_b1438_row1_col2, #T_b1438_row1_col3, #T_b1438_row1_col4, #T_b1438_row1_col5, #T_b1438_row1_col6, #T_b1438_row1_col7, #T_b1438_row1_col8, #T_b1438_row1_col9, #T_b1438_row1_col10, #T_b1438_row1_col11, #T_b1438_row1_col12, #T_b1438_row1_col13, #T_b1438_row1_col14, #T_b1438_row1_col15, #T_b1438_row1_col16, #T_b1438_row1_col17, #T_b1438_row1_col18, #T_b1438_row1_col19, #T_b1438_row2_col0, #T_b1438_row2_col1, #T_b1438_row2_col2, #T_b1438_row2_col3, #T_b1438_row2_col4, #T_b1438_row2_col5, #T_b1438_row2_col6, #T_b1438_row2_col7, #T_b1438_row2_col8, #T_b1438_row2_col9, #T_b1438_row2_col10, #T_b1438_row2_col11, #T_b1438_row2_col12, #T_b1438_row2_col13, #T_b1438_row2_col14, #T_b1438_row2_col15, #T_b1438_row2_col16, #T_b1438_row2_col17, #T_b1438_row2_col18, #T_b1438_row2_col19, #T_b1438_row3_col0, #T_b1438_row3_col1, #T_b1438_row3_col2, #T_b1438_row3_col3, #T_b1438_row3_col4, #T_b1438_row3_col5, #T_b1438_row3_col6, #T_b1438_row3_col7, #T_b1438_row3_col8, #T_b1438_row3_col9, #T_b1438_row3_col10, #T_b1438_row3_col11, #T_b1438_row3_col12, #T_b1438_row3_col13, #T_b1438_row3_col14, #T_b1438_row3_col15, #T_b1438_row3_col16, #T_b1438_row3_col17, #T_b1438_row3_col18, #T_b1438_row3_col19, #T_b1438_row4_col0, #T_b1438_row4_col1, #T_b1438_row4_col2, #T_b1438_row4_col3, #T_b1438_row4_col4, #T_b1438_row4_col5, #T_b1438_row4_col6, #T_b1438_row4_col7, #T_b1438_row4_col8, #T_b1438_row4_col9, #T_b1438_row4_col10, #T_b1438_row4_col11, #T_b1438_row4_col12, #T_b1438_row4_col13, #T_b1438_row4_col14, #T_b1438_row4_col15, #T_b1438_row4_col16, #T_b1438_row4_col17, #T_b1438_row4_col18, #T_b1438_row4_col19, #T_b1438_row5_col0, #T_b1438_row5_col1, #T_b1438_row5_col2, #T_b1438_row5_col16, #T_b1438_row5_col17, #T_b1438_row5_col18, #T_b1438_row5_col19, #T_b1438_row6_col0, #T_b1438_row6_col1, #T_b1438_row6_col2, #T_b1438_row6_col19, #T_b1438_row7_col0, #T_b1438_row7_col1, #T_b1438_row7_col2, #T_b1438_row7_col19, #T_b1438_row8_col0, #T_b1438_row8_col1, #T_b1438_row8_col2, #T_b1438_row8_col8, #T_b1438_row8_col9, #T_b1438_row8_col10, #T_b1438_row8_col11, #T_b1438_row8_col12, #T_b1438_row8_col13, #T_b1438_row8_col19, #T_b1438_row9_col0, #T_b1438_row9_col1, #T_b1438_row9_col2, #T_b1438_row9_col3, #T_b1438_row9_col4, #T_b1438_row9_col5, #T_b1438_row9_col6, #T_b1438_row9_col7, #T_b1438_row9_col8, #T_b1438_row9_col9, #T_b1438_row9_col10, #T_b1438_row9_col11, #T_b1438_row9_col12, #T_b1438_row9_col13, #T_b1438_row9_col19 {\n",
              "  font-size: 6pt;\n",
              "  background-color: #ffffff;\n",
              "  color: #000000;\n",
              "}\n",
              "#T_b1438_row5_col3, #T_b1438_row8_col14 {\n",
              "  font-size: 6pt;\n",
              "  background-color: #f9f9f9;\n",
              "  color: #000000;\n",
              "}\n",
              "#T_b1438_row5_col4 {\n",
              "  font-size: 6pt;\n",
              "  background-color: #b9b9b9;\n",
              "  color: #000000;\n",
              "}\n",
              "#T_b1438_row5_col5 {\n",
              "  font-size: 6pt;\n",
              "  background-color: #c1c1c1;\n",
              "  color: #000000;\n",
              "}\n",
              "#T_b1438_row5_col6 {\n",
              "  font-size: 6pt;\n",
              "  background-color: #858585;\n",
              "  color: #f1f1f1;\n",
              "}\n",
              "#T_b1438_row5_col7, #T_b1438_row5_col10, #T_b1438_row5_col11, #T_b1438_row5_col12, #T_b1438_row5_col13 {\n",
              "  font-size: 6pt;\n",
              "  background-color: #777777;\n",
              "  color: #f1f1f1;\n",
              "}\n",
              "#T_b1438_row5_col8 {\n",
              "  font-size: 6pt;\n",
              "  background-color: #090909;\n",
              "  color: #f1f1f1;\n",
              "}\n",
              "#T_b1438_row5_col9 {\n",
              "  font-size: 6pt;\n",
              "  background-color: #5b5b5b;\n",
              "  color: #f1f1f1;\n",
              "}\n",
              "#T_b1438_row5_col14 {\n",
              "  font-size: 6pt;\n",
              "  background-color: #919191;\n",
              "  color: #f1f1f1;\n",
              "}\n",
              "#T_b1438_row5_col15 {\n",
              "  font-size: 6pt;\n",
              "  background-color: #e1e1e1;\n",
              "  color: #000000;\n",
              "}\n",
              "#T_b1438_row6_col3 {\n",
              "  font-size: 6pt;\n",
              "  background-color: #727272;\n",
              "  color: #f1f1f1;\n",
              "}\n",
              "#T_b1438_row6_col4, #T_b1438_row6_col5, #T_b1438_row6_col6, #T_b1438_row6_col7, #T_b1438_row6_col8, #T_b1438_row6_col9, #T_b1438_row6_col10, #T_b1438_row6_col11, #T_b1438_row6_col12, #T_b1438_row6_col13, #T_b1438_row6_col14, #T_b1438_row7_col3, #T_b1438_row7_col4, #T_b1438_row7_col5, #T_b1438_row7_col6, #T_b1438_row7_col15, #T_b1438_row7_col16, #T_b1438_row7_col17, #T_b1438_row8_col16, #T_b1438_row8_col17, #T_b1438_row8_col18, #T_b1438_row9_col15, #T_b1438_row9_col16 {\n",
              "  font-size: 6pt;\n",
              "  background-color: #000000;\n",
              "  color: #f1f1f1;\n",
              "}\n",
              "#T_b1438_row6_col15 {\n",
              "  font-size: 6pt;\n",
              "  background-color: #020202;\n",
              "  color: #f1f1f1;\n",
              "}\n",
              "#T_b1438_row6_col16 {\n",
              "  font-size: 6pt;\n",
              "  background-color: #363636;\n",
              "  color: #f1f1f1;\n",
              "}\n",
              "#T_b1438_row6_col17 {\n",
              "  font-size: 6pt;\n",
              "  background-color: #9d9d9d;\n",
              "  color: #f1f1f1;\n",
              "}\n",
              "#T_b1438_row6_col18 {\n",
              "  font-size: 6pt;\n",
              "  background-color: #dfdfdf;\n",
              "  color: #000000;\n",
              "}\n",
              "#T_b1438_row7_col7 {\n",
              "  font-size: 6pt;\n",
              "  background-color: #161616;\n",
              "  color: #f1f1f1;\n",
              "}\n",
              "#T_b1438_row7_col8, #T_b1438_row7_col9, #T_b1438_row7_col10, #T_b1438_row7_col11, #T_b1438_row7_col13 {\n",
              "  font-size: 6pt;\n",
              "  background-color: #535353;\n",
              "  color: #f1f1f1;\n",
              "}\n",
              "#T_b1438_row7_col12 {\n",
              "  font-size: 6pt;\n",
              "  background-color: #7c7c7c;\n",
              "  color: #f1f1f1;\n",
              "}\n",
              "#T_b1438_row7_col14 {\n",
              "  font-size: 6pt;\n",
              "  background-color: #3d3d3d;\n",
              "  color: #f1f1f1;\n",
              "}\n",
              "#T_b1438_row7_col18 {\n",
              "  font-size: 6pt;\n",
              "  background-color: #999999;\n",
              "  color: #f1f1f1;\n",
              "}\n",
              "#T_b1438_row8_col3 {\n",
              "  font-size: 6pt;\n",
              "  background-color: #eaeaea;\n",
              "  color: #000000;\n",
              "}\n",
              "#T_b1438_row8_col4 {\n",
              "  font-size: 6pt;\n",
              "  background-color: #d0d0d0;\n",
              "  color: #000000;\n",
              "}\n",
              "#T_b1438_row8_col5, #T_b1438_row8_col6 {\n",
              "  font-size: 6pt;\n",
              "  background-color: #eeeeee;\n",
              "  color: #000000;\n",
              "}\n",
              "#T_b1438_row8_col7 {\n",
              "  font-size: 6pt;\n",
              "  background-color: #f3f3f3;\n",
              "  color: #000000;\n",
              "}\n",
              "#T_b1438_row8_col15 {\n",
              "  font-size: 6pt;\n",
              "  background-color: #232323;\n",
              "  color: #f1f1f1;\n",
              "}\n",
              "#T_b1438_row9_col14 {\n",
              "  font-size: 6pt;\n",
              "  background-color: #c2c2c2;\n",
              "  color: #000000;\n",
              "}\n",
              "#T_b1438_row9_col17 {\n",
              "  font-size: 6pt;\n",
              "  background-color: #080808;\n",
              "  color: #f1f1f1;\n",
              "}\n",
              "#T_b1438_row9_col18 {\n",
              "  font-size: 6pt;\n",
              "  background-color: #c4c4c4;\n",
              "  color: #000000;\n",
              "}\n",
              "</style>\n",
              "<table id=\"T_b1438_\" class=\"dataframe\">\n",
              "  <thead>\n",
              "    <tr>\n",
              "      <th class=\"blank level0\" >&nbsp;</th>\n",
              "      <th class=\"col_heading level0 col0\" >0</th>\n",
              "      <th class=\"col_heading level0 col1\" >1</th>\n",
              "      <th class=\"col_heading level0 col2\" >2</th>\n",
              "      <th class=\"col_heading level0 col3\" >3</th>\n",
              "      <th class=\"col_heading level0 col4\" >4</th>\n",
              "      <th class=\"col_heading level0 col5\" >5</th>\n",
              "      <th class=\"col_heading level0 col6\" >6</th>\n",
              "      <th class=\"col_heading level0 col7\" >7</th>\n",
              "      <th class=\"col_heading level0 col8\" >8</th>\n",
              "      <th class=\"col_heading level0 col9\" >9</th>\n",
              "      <th class=\"col_heading level0 col10\" >10</th>\n",
              "      <th class=\"col_heading level0 col11\" >11</th>\n",
              "      <th class=\"col_heading level0 col12\" >12</th>\n",
              "      <th class=\"col_heading level0 col13\" >13</th>\n",
              "      <th class=\"col_heading level0 col14\" >14</th>\n",
              "      <th class=\"col_heading level0 col15\" >15</th>\n",
              "      <th class=\"col_heading level0 col16\" >16</th>\n",
              "      <th class=\"col_heading level0 col17\" >17</th>\n",
              "      <th class=\"col_heading level0 col18\" >18</th>\n",
              "      <th class=\"col_heading level0 col19\" >19</th>\n",
              "    </tr>\n",
              "  </thead>\n",
              "  <tbody>\n",
              "    <tr>\n",
              "      <th id=\"T_b1438_level0_row0\" class=\"row_heading level0 row0\" >0</th>\n",
              "      <td id=\"T_b1438_row0_col0\" class=\"data row0 col0\" >0</td>\n",
              "      <td id=\"T_b1438_row0_col1\" class=\"data row0 col1\" >0</td>\n",
              "      <td id=\"T_b1438_row0_col2\" class=\"data row0 col2\" >0</td>\n",
              "      <td id=\"T_b1438_row0_col3\" class=\"data row0 col3\" >0</td>\n",
              "      <td id=\"T_b1438_row0_col4\" class=\"data row0 col4\" >0</td>\n",
              "      <td id=\"T_b1438_row0_col5\" class=\"data row0 col5\" >0</td>\n",
              "      <td id=\"T_b1438_row0_col6\" class=\"data row0 col6\" >0</td>\n",
              "      <td id=\"T_b1438_row0_col7\" class=\"data row0 col7\" >0</td>\n",
              "      <td id=\"T_b1438_row0_col8\" class=\"data row0 col8\" >0</td>\n",
              "      <td id=\"T_b1438_row0_col9\" class=\"data row0 col9\" >0</td>\n",
              "      <td id=\"T_b1438_row0_col10\" class=\"data row0 col10\" >0</td>\n",
              "      <td id=\"T_b1438_row0_col11\" class=\"data row0 col11\" >0</td>\n",
              "      <td id=\"T_b1438_row0_col12\" class=\"data row0 col12\" >0</td>\n",
              "      <td id=\"T_b1438_row0_col13\" class=\"data row0 col13\" >0</td>\n",
              "      <td id=\"T_b1438_row0_col14\" class=\"data row0 col14\" >0</td>\n",
              "      <td id=\"T_b1438_row0_col15\" class=\"data row0 col15\" >0</td>\n",
              "      <td id=\"T_b1438_row0_col16\" class=\"data row0 col16\" >0</td>\n",
              "      <td id=\"T_b1438_row0_col17\" class=\"data row0 col17\" >0</td>\n",
              "      <td id=\"T_b1438_row0_col18\" class=\"data row0 col18\" >0</td>\n",
              "      <td id=\"T_b1438_row0_col19\" class=\"data row0 col19\" >0</td>\n",
              "    </tr>\n",
              "    <tr>\n",
              "      <th id=\"T_b1438_level0_row1\" class=\"row_heading level0 row1\" >1</th>\n",
              "      <td id=\"T_b1438_row1_col0\" class=\"data row1 col0\" >0</td>\n",
              "      <td id=\"T_b1438_row1_col1\" class=\"data row1 col1\" >0</td>\n",
              "      <td id=\"T_b1438_row1_col2\" class=\"data row1 col2\" >0</td>\n",
              "      <td id=\"T_b1438_row1_col3\" class=\"data row1 col3\" >0</td>\n",
              "      <td id=\"T_b1438_row1_col4\" class=\"data row1 col4\" >0</td>\n",
              "      <td id=\"T_b1438_row1_col5\" class=\"data row1 col5\" >0</td>\n",
              "      <td id=\"T_b1438_row1_col6\" class=\"data row1 col6\" >0</td>\n",
              "      <td id=\"T_b1438_row1_col7\" class=\"data row1 col7\" >0</td>\n",
              "      <td id=\"T_b1438_row1_col8\" class=\"data row1 col8\" >0</td>\n",
              "      <td id=\"T_b1438_row1_col9\" class=\"data row1 col9\" >0</td>\n",
              "      <td id=\"T_b1438_row1_col10\" class=\"data row1 col10\" >0</td>\n",
              "      <td id=\"T_b1438_row1_col11\" class=\"data row1 col11\" >0</td>\n",
              "      <td id=\"T_b1438_row1_col12\" class=\"data row1 col12\" >0</td>\n",
              "      <td id=\"T_b1438_row1_col13\" class=\"data row1 col13\" >0</td>\n",
              "      <td id=\"T_b1438_row1_col14\" class=\"data row1 col14\" >0</td>\n",
              "      <td id=\"T_b1438_row1_col15\" class=\"data row1 col15\" >0</td>\n",
              "      <td id=\"T_b1438_row1_col16\" class=\"data row1 col16\" >0</td>\n",
              "      <td id=\"T_b1438_row1_col17\" class=\"data row1 col17\" >0</td>\n",
              "      <td id=\"T_b1438_row1_col18\" class=\"data row1 col18\" >0</td>\n",
              "      <td id=\"T_b1438_row1_col19\" class=\"data row1 col19\" >0</td>\n",
              "    </tr>\n",
              "    <tr>\n",
              "      <th id=\"T_b1438_level0_row2\" class=\"row_heading level0 row2\" >2</th>\n",
              "      <td id=\"T_b1438_row2_col0\" class=\"data row2 col0\" >0</td>\n",
              "      <td id=\"T_b1438_row2_col1\" class=\"data row2 col1\" >0</td>\n",
              "      <td id=\"T_b1438_row2_col2\" class=\"data row2 col2\" >0</td>\n",
              "      <td id=\"T_b1438_row2_col3\" class=\"data row2 col3\" >0</td>\n",
              "      <td id=\"T_b1438_row2_col4\" class=\"data row2 col4\" >0</td>\n",
              "      <td id=\"T_b1438_row2_col5\" class=\"data row2 col5\" >0</td>\n",
              "      <td id=\"T_b1438_row2_col6\" class=\"data row2 col6\" >0</td>\n",
              "      <td id=\"T_b1438_row2_col7\" class=\"data row2 col7\" >0</td>\n",
              "      <td id=\"T_b1438_row2_col8\" class=\"data row2 col8\" >0</td>\n",
              "      <td id=\"T_b1438_row2_col9\" class=\"data row2 col9\" >0</td>\n",
              "      <td id=\"T_b1438_row2_col10\" class=\"data row2 col10\" >0</td>\n",
              "      <td id=\"T_b1438_row2_col11\" class=\"data row2 col11\" >0</td>\n",
              "      <td id=\"T_b1438_row2_col12\" class=\"data row2 col12\" >0</td>\n",
              "      <td id=\"T_b1438_row2_col13\" class=\"data row2 col13\" >0</td>\n",
              "      <td id=\"T_b1438_row2_col14\" class=\"data row2 col14\" >0</td>\n",
              "      <td id=\"T_b1438_row2_col15\" class=\"data row2 col15\" >0</td>\n",
              "      <td id=\"T_b1438_row2_col16\" class=\"data row2 col16\" >0</td>\n",
              "      <td id=\"T_b1438_row2_col17\" class=\"data row2 col17\" >0</td>\n",
              "      <td id=\"T_b1438_row2_col18\" class=\"data row2 col18\" >0</td>\n",
              "      <td id=\"T_b1438_row2_col19\" class=\"data row2 col19\" >0</td>\n",
              "    </tr>\n",
              "    <tr>\n",
              "      <th id=\"T_b1438_level0_row3\" class=\"row_heading level0 row3\" >3</th>\n",
              "      <td id=\"T_b1438_row3_col0\" class=\"data row3 col0\" >0</td>\n",
              "      <td id=\"T_b1438_row3_col1\" class=\"data row3 col1\" >0</td>\n",
              "      <td id=\"T_b1438_row3_col2\" class=\"data row3 col2\" >0</td>\n",
              "      <td id=\"T_b1438_row3_col3\" class=\"data row3 col3\" >0</td>\n",
              "      <td id=\"T_b1438_row3_col4\" class=\"data row3 col4\" >0</td>\n",
              "      <td id=\"T_b1438_row3_col5\" class=\"data row3 col5\" >0</td>\n",
              "      <td id=\"T_b1438_row3_col6\" class=\"data row3 col6\" >0</td>\n",
              "      <td id=\"T_b1438_row3_col7\" class=\"data row3 col7\" >0</td>\n",
              "      <td id=\"T_b1438_row3_col8\" class=\"data row3 col8\" >0</td>\n",
              "      <td id=\"T_b1438_row3_col9\" class=\"data row3 col9\" >0</td>\n",
              "      <td id=\"T_b1438_row3_col10\" class=\"data row3 col10\" >0</td>\n",
              "      <td id=\"T_b1438_row3_col11\" class=\"data row3 col11\" >0</td>\n",
              "      <td id=\"T_b1438_row3_col12\" class=\"data row3 col12\" >0</td>\n",
              "      <td id=\"T_b1438_row3_col13\" class=\"data row3 col13\" >0</td>\n",
              "      <td id=\"T_b1438_row3_col14\" class=\"data row3 col14\" >0</td>\n",
              "      <td id=\"T_b1438_row3_col15\" class=\"data row3 col15\" >0</td>\n",
              "      <td id=\"T_b1438_row3_col16\" class=\"data row3 col16\" >0</td>\n",
              "      <td id=\"T_b1438_row3_col17\" class=\"data row3 col17\" >0</td>\n",
              "      <td id=\"T_b1438_row3_col18\" class=\"data row3 col18\" >0</td>\n",
              "      <td id=\"T_b1438_row3_col19\" class=\"data row3 col19\" >0</td>\n",
              "    </tr>\n",
              "    <tr>\n",
              "      <th id=\"T_b1438_level0_row4\" class=\"row_heading level0 row4\" >4</th>\n",
              "      <td id=\"T_b1438_row4_col0\" class=\"data row4 col0\" >0</td>\n",
              "      <td id=\"T_b1438_row4_col1\" class=\"data row4 col1\" >0</td>\n",
              "      <td id=\"T_b1438_row4_col2\" class=\"data row4 col2\" >0</td>\n",
              "      <td id=\"T_b1438_row4_col3\" class=\"data row4 col3\" >0</td>\n",
              "      <td id=\"T_b1438_row4_col4\" class=\"data row4 col4\" >0</td>\n",
              "      <td id=\"T_b1438_row4_col5\" class=\"data row4 col5\" >0</td>\n",
              "      <td id=\"T_b1438_row4_col6\" class=\"data row4 col6\" >0</td>\n",
              "      <td id=\"T_b1438_row4_col7\" class=\"data row4 col7\" >0</td>\n",
              "      <td id=\"T_b1438_row4_col8\" class=\"data row4 col8\" >0</td>\n",
              "      <td id=\"T_b1438_row4_col9\" class=\"data row4 col9\" >0</td>\n",
              "      <td id=\"T_b1438_row4_col10\" class=\"data row4 col10\" >0</td>\n",
              "      <td id=\"T_b1438_row4_col11\" class=\"data row4 col11\" >0</td>\n",
              "      <td id=\"T_b1438_row4_col12\" class=\"data row4 col12\" >0</td>\n",
              "      <td id=\"T_b1438_row4_col13\" class=\"data row4 col13\" >0</td>\n",
              "      <td id=\"T_b1438_row4_col14\" class=\"data row4 col14\" >0</td>\n",
              "      <td id=\"T_b1438_row4_col15\" class=\"data row4 col15\" >0</td>\n",
              "      <td id=\"T_b1438_row4_col16\" class=\"data row4 col16\" >0</td>\n",
              "      <td id=\"T_b1438_row4_col17\" class=\"data row4 col17\" >0</td>\n",
              "      <td id=\"T_b1438_row4_col18\" class=\"data row4 col18\" >0</td>\n",
              "      <td id=\"T_b1438_row4_col19\" class=\"data row4 col19\" >0</td>\n",
              "    </tr>\n",
              "    <tr>\n",
              "      <th id=\"T_b1438_level0_row5\" class=\"row_heading level0 row5\" >5</th>\n",
              "      <td id=\"T_b1438_row5_col0\" class=\"data row5 col0\" >0</td>\n",
              "      <td id=\"T_b1438_row5_col1\" class=\"data row5 col1\" >0</td>\n",
              "      <td id=\"T_b1438_row5_col2\" class=\"data row5 col2\" >0</td>\n",
              "      <td id=\"T_b1438_row5_col3\" class=\"data row5 col3\" >12</td>\n",
              "      <td id=\"T_b1438_row5_col4\" class=\"data row5 col4\" >99</td>\n",
              "      <td id=\"T_b1438_row5_col5\" class=\"data row5 col5\" >91</td>\n",
              "      <td id=\"T_b1438_row5_col6\" class=\"data row5 col6\" >142</td>\n",
              "      <td id=\"T_b1438_row5_col7\" class=\"data row5 col7\" >155</td>\n",
              "      <td id=\"T_b1438_row5_col8\" class=\"data row5 col8\" >246</td>\n",
              "      <td id=\"T_b1438_row5_col9\" class=\"data row5 col9\" >182</td>\n",
              "      <td id=\"T_b1438_row5_col10\" class=\"data row5 col10\" >155</td>\n",
              "      <td id=\"T_b1438_row5_col11\" class=\"data row5 col11\" >155</td>\n",
              "      <td id=\"T_b1438_row5_col12\" class=\"data row5 col12\" >155</td>\n",
              "      <td id=\"T_b1438_row5_col13\" class=\"data row5 col13\" >155</td>\n",
              "      <td id=\"T_b1438_row5_col14\" class=\"data row5 col14\" >131</td>\n",
              "      <td id=\"T_b1438_row5_col15\" class=\"data row5 col15\" >52</td>\n",
              "      <td id=\"T_b1438_row5_col16\" class=\"data row5 col16\" >0</td>\n",
              "      <td id=\"T_b1438_row5_col17\" class=\"data row5 col17\" >0</td>\n",
              "      <td id=\"T_b1438_row5_col18\" class=\"data row5 col18\" >0</td>\n",
              "      <td id=\"T_b1438_row5_col19\" class=\"data row5 col19\" >0</td>\n",
              "    </tr>\n",
              "    <tr>\n",
              "      <th id=\"T_b1438_level0_row6\" class=\"row_heading level0 row6\" >6</th>\n",
              "      <td id=\"T_b1438_row6_col0\" class=\"data row6 col0\" >0</td>\n",
              "      <td id=\"T_b1438_row6_col1\" class=\"data row6 col1\" >0</td>\n",
              "      <td id=\"T_b1438_row6_col2\" class=\"data row6 col2\" >0</td>\n",
              "      <td id=\"T_b1438_row6_col3\" class=\"data row6 col3\" >138</td>\n",
              "      <td id=\"T_b1438_row6_col4\" class=\"data row6 col4\" >254</td>\n",
              "      <td id=\"T_b1438_row6_col5\" class=\"data row6 col5\" >254</td>\n",
              "      <td id=\"T_b1438_row6_col6\" class=\"data row6 col6\" >254</td>\n",
              "      <td id=\"T_b1438_row6_col7\" class=\"data row6 col7\" >254</td>\n",
              "      <td id=\"T_b1438_row6_col8\" class=\"data row6 col8\" >254</td>\n",
              "      <td id=\"T_b1438_row6_col9\" class=\"data row6 col9\" >254</td>\n",
              "      <td id=\"T_b1438_row6_col10\" class=\"data row6 col10\" >254</td>\n",
              "      <td id=\"T_b1438_row6_col11\" class=\"data row6 col11\" >254</td>\n",
              "      <td id=\"T_b1438_row6_col12\" class=\"data row6 col12\" >254</td>\n",
              "      <td id=\"T_b1438_row6_col13\" class=\"data row6 col13\" >254</td>\n",
              "      <td id=\"T_b1438_row6_col14\" class=\"data row6 col14\" >254</td>\n",
              "      <td id=\"T_b1438_row6_col15\" class=\"data row6 col15\" >252</td>\n",
              "      <td id=\"T_b1438_row6_col16\" class=\"data row6 col16\" >210</td>\n",
              "      <td id=\"T_b1438_row6_col17\" class=\"data row6 col17\" >122</td>\n",
              "      <td id=\"T_b1438_row6_col18\" class=\"data row6 col18\" >33</td>\n",
              "      <td id=\"T_b1438_row6_col19\" class=\"data row6 col19\" >0</td>\n",
              "    </tr>\n",
              "    <tr>\n",
              "      <th id=\"T_b1438_level0_row7\" class=\"row_heading level0 row7\" >7</th>\n",
              "      <td id=\"T_b1438_row7_col0\" class=\"data row7 col0\" >0</td>\n",
              "      <td id=\"T_b1438_row7_col1\" class=\"data row7 col1\" >0</td>\n",
              "      <td id=\"T_b1438_row7_col2\" class=\"data row7 col2\" >0</td>\n",
              "      <td id=\"T_b1438_row7_col3\" class=\"data row7 col3\" >220</td>\n",
              "      <td id=\"T_b1438_row7_col4\" class=\"data row7 col4\" >254</td>\n",
              "      <td id=\"T_b1438_row7_col5\" class=\"data row7 col5\" >254</td>\n",
              "      <td id=\"T_b1438_row7_col6\" class=\"data row7 col6\" >254</td>\n",
              "      <td id=\"T_b1438_row7_col7\" class=\"data row7 col7\" >235</td>\n",
              "      <td id=\"T_b1438_row7_col8\" class=\"data row7 col8\" >189</td>\n",
              "      <td id=\"T_b1438_row7_col9\" class=\"data row7 col9\" >189</td>\n",
              "      <td id=\"T_b1438_row7_col10\" class=\"data row7 col10\" >189</td>\n",
              "      <td id=\"T_b1438_row7_col11\" class=\"data row7 col11\" >189</td>\n",
              "      <td id=\"T_b1438_row7_col12\" class=\"data row7 col12\" >150</td>\n",
              "      <td id=\"T_b1438_row7_col13\" class=\"data row7 col13\" >189</td>\n",
              "      <td id=\"T_b1438_row7_col14\" class=\"data row7 col14\" >205</td>\n",
              "      <td id=\"T_b1438_row7_col15\" class=\"data row7 col15\" >254</td>\n",
              "      <td id=\"T_b1438_row7_col16\" class=\"data row7 col16\" >254</td>\n",
              "      <td id=\"T_b1438_row7_col17\" class=\"data row7 col17\" >254</td>\n",
              "      <td id=\"T_b1438_row7_col18\" class=\"data row7 col18\" >75</td>\n",
              "      <td id=\"T_b1438_row7_col19\" class=\"data row7 col19\" >0</td>\n",
              "    </tr>\n",
              "    <tr>\n",
              "      <th id=\"T_b1438_level0_row8\" class=\"row_heading level0 row8\" >8</th>\n",
              "      <td id=\"T_b1438_row8_col0\" class=\"data row8 col0\" >0</td>\n",
              "      <td id=\"T_b1438_row8_col1\" class=\"data row8 col1\" >0</td>\n",
              "      <td id=\"T_b1438_row8_col2\" class=\"data row8 col2\" >0</td>\n",
              "      <td id=\"T_b1438_row8_col3\" class=\"data row8 col3\" >35</td>\n",
              "      <td id=\"T_b1438_row8_col4\" class=\"data row8 col4\" >74</td>\n",
              "      <td id=\"T_b1438_row8_col5\" class=\"data row8 col5\" >35</td>\n",
              "      <td id=\"T_b1438_row8_col6\" class=\"data row8 col6\" >35</td>\n",
              "      <td id=\"T_b1438_row8_col7\" class=\"data row8 col7\" >25</td>\n",
              "      <td id=\"T_b1438_row8_col8\" class=\"data row8 col8\" >0</td>\n",
              "      <td id=\"T_b1438_row8_col9\" class=\"data row8 col9\" >0</td>\n",
              "      <td id=\"T_b1438_row8_col10\" class=\"data row8 col10\" >0</td>\n",
              "      <td id=\"T_b1438_row8_col11\" class=\"data row8 col11\" >0</td>\n",
              "      <td id=\"T_b1438_row8_col12\" class=\"data row8 col12\" >0</td>\n",
              "      <td id=\"T_b1438_row8_col13\" class=\"data row8 col13\" >0</td>\n",
              "      <td id=\"T_b1438_row8_col14\" class=\"data row8 col14\" >13</td>\n",
              "      <td id=\"T_b1438_row8_col15\" class=\"data row8 col15\" >224</td>\n",
              "      <td id=\"T_b1438_row8_col16\" class=\"data row8 col16\" >254</td>\n",
              "      <td id=\"T_b1438_row8_col17\" class=\"data row8 col17\" >254</td>\n",
              "      <td id=\"T_b1438_row8_col18\" class=\"data row8 col18\" >153</td>\n",
              "      <td id=\"T_b1438_row8_col19\" class=\"data row8 col19\" >0</td>\n",
              "    </tr>\n",
              "    <tr>\n",
              "      <th id=\"T_b1438_level0_row9\" class=\"row_heading level0 row9\" >9</th>\n",
              "      <td id=\"T_b1438_row9_col0\" class=\"data row9 col0\" >0</td>\n",
              "      <td id=\"T_b1438_row9_col1\" class=\"data row9 col1\" >0</td>\n",
              "      <td id=\"T_b1438_row9_col2\" class=\"data row9 col2\" >0</td>\n",
              "      <td id=\"T_b1438_row9_col3\" class=\"data row9 col3\" >0</td>\n",
              "      <td id=\"T_b1438_row9_col4\" class=\"data row9 col4\" >0</td>\n",
              "      <td id=\"T_b1438_row9_col5\" class=\"data row9 col5\" >0</td>\n",
              "      <td id=\"T_b1438_row9_col6\" class=\"data row9 col6\" >0</td>\n",
              "      <td id=\"T_b1438_row9_col7\" class=\"data row9 col7\" >0</td>\n",
              "      <td id=\"T_b1438_row9_col8\" class=\"data row9 col8\" >0</td>\n",
              "      <td id=\"T_b1438_row9_col9\" class=\"data row9 col9\" >0</td>\n",
              "      <td id=\"T_b1438_row9_col10\" class=\"data row9 col10\" >0</td>\n",
              "      <td id=\"T_b1438_row9_col11\" class=\"data row9 col11\" >0</td>\n",
              "      <td id=\"T_b1438_row9_col12\" class=\"data row9 col12\" >0</td>\n",
              "      <td id=\"T_b1438_row9_col13\" class=\"data row9 col13\" >0</td>\n",
              "      <td id=\"T_b1438_row9_col14\" class=\"data row9 col14\" >90</td>\n",
              "      <td id=\"T_b1438_row9_col15\" class=\"data row9 col15\" >254</td>\n",
              "      <td id=\"T_b1438_row9_col16\" class=\"data row9 col16\" >254</td>\n",
              "      <td id=\"T_b1438_row9_col17\" class=\"data row9 col17\" >247</td>\n",
              "      <td id=\"T_b1438_row9_col18\" class=\"data row9 col18\" >53</td>\n",
              "      <td id=\"T_b1438_row9_col19\" class=\"data row9 col19\" >0</td>\n",
              "    </tr>\n",
              "  </tbody>\n",
              "</table>\n"
            ]
          },
          "metadata": {},
          "execution_count": 11
        }
      ]
    },
    {
      "cell_type": "markdown",
      "source": [
        "We can see that the resulting tensor after applying the kernel will provide a high value for 5,7 but a small onefor 9,8."
      ],
      "metadata": {
        "id": "TWQDMs32opTh"
      }
    },
    {
      "cell_type": "code",
      "source": [
        "apply_kernel(5,7,top_edge)"
      ],
      "metadata": {
        "id": "Iaq85IIUoaLR",
        "outputId": "99c6493e-83d2-44e8-fbf0-927658786150",
        "colab": {
          "base_uri": "https://localhost:8080/"
        }
      },
      "execution_count": 10,
      "outputs": [
        {
          "output_type": "execute_result",
          "data": {
            "text/plain": [
              "tensor(762.)"
            ]
          },
          "metadata": {},
          "execution_count": 10
        }
      ]
    },
    {
      "cell_type": "code",
      "source": [
        "apply_kernel(9,8,top_edge)"
      ],
      "metadata": {
        "id": "o3q7FTBcozzA",
        "outputId": "3db3457d-d4d3-4627-daf6-867258952c5e",
        "colab": {
          "base_uri": "https://localhost:8080/"
        }
      },
      "execution_count": 16,
      "outputs": [
        {
          "output_type": "execute_result",
          "data": {
            "text/plain": [
              "tensor(-25.)"
            ]
          },
          "metadata": {},
          "execution_count": 16
        }
      ]
    },
    {
      "cell_type": "markdown",
      "source": [
        "We can apply the kernel over the whole image and visualize the output, where the horizontal edges are remarked:"
      ],
      "metadata": {
        "id": "F_DqCjvjpOww"
      }
    },
    {
      "cell_type": "code",
      "source": [
        "rng = range(1,27)\n",
        "top_edge3 = tensor([[apply_kernel(i,j,top_edge) for j in rng] for i in rng])\n",
        "\n",
        "show_image(top_edge3);"
      ],
      "metadata": {
        "id": "PJVRCQDopVKj",
        "outputId": "6dfc4cc5-9bf1-4b66-efb3-6195c2defac5",
        "colab": {
          "base_uri": "https://localhost:8080/",
          "height": 85
        }
      },
      "execution_count": 17,
      "outputs": [
        {
          "output_type": "display_data",
          "data": {
            "text/plain": [
              "<Figure size 72x72 with 1 Axes>"
            ],
            "image/png": "[encoded data removed]"
          },
          "metadata": {
            "needs_background": "light"
          }
        }
      ]
    },
    {
      "cell_type": "markdown",
      "source": [
        "## Convolutions in Pytorch"
      ],
      "metadata": {
        "id": "_-VyTiUkqP38"
      }
    },
    {
      "cell_type": "markdown",
      "source": [
        "Convolution is such an important and widely used operation that PyTorch has it built in. It's called F.conv2d (recall that F is a fastai import from torch.nn.functional, as recommended by PyTorch). The PyTorch docs tell us that it includes these parameters:\n",
        "\n",
        "\n",
        "*   input:: input tensor of shape (minibatch, in_channels, iH, iW)\n",
        "*   weight:: filters of shape (out_channels, in_channels, kH, kW)\n",
        "\n",
        "\n",
        "Here iH,iW is the height and width of the image (i.e., 28,28), and kH,kW is the height and width of our kernel (3,3). But apparently PyTorch is expecting rank-4 tensors for both these arguments, whereas currently we only have rank-2 tensors (i.e., matrices, or arrays with two axes).\n",
        "\n",
        "The reason for these extra axes is that PyTorch has a few tricks up its sleeve. The first trick is that PyTorch can apply a convolution to multiple images at the same time. That means we can call it on every item in a batch at once!\n",
        "\n",
        "The second trick is that PyTorch can apply multiple kernels at the same time. So let's create the diagonal-edge kernels too, and then stack all four of our edge kernels into a single tensor:"
      ],
      "metadata": {
        "id": "h1_Gu6KQqSxc"
      }
    },
    {
      "cell_type": "code",
      "source": [
        "diag1_edge = tensor([[ 0,-1, 1],\n",
        "                     [-1, 1, 0],\n",
        "                     [ 1, 0, 0]]).float()\n",
        "diag2_edge = tensor([[ 1,-1, 0],\n",
        "                     [ 0, 1,-1],\n",
        "                     [ 0, 0, 1]]).float()\n",
        "left_edge = tensor([[-1,1,0],\n",
        "                    [-1,1,0],\n",
        "                    [-1,1,0]]).float()\n",
        "edge_kernels = torch.stack([left_edge, top_edge, diag1_edge, diag2_edge])\n",
        "edge_kernels.shape"
      ],
      "metadata": {
        "id": "3qmJgiBFqziX",
        "outputId": "8d740d3e-69a5-48b7-f42c-5ad12b23ac07",
        "colab": {
          "base_uri": "https://localhost:8080/"
        }
      },
      "execution_count": 30,
      "outputs": [
        {
          "output_type": "execute_result",
          "data": {
            "text/plain": [
              "torch.Size([4, 3, 3])"
            ]
          },
          "metadata": {},
          "execution_count": 30
        }
      ]
    },
    {
      "cell_type": "code",
      "source": [
        "mnist = DataBlock((ImageBlock(cls=PILImageBW), CategoryBlock), \n",
        "                  get_items=get_image_files, \n",
        "                  splitter=GrandparentSplitter(),\n",
        "                  get_y=parent_label)\n",
        "\n",
        "dls = mnist.dataloaders(path)\n",
        "xb,yb = first(dls.valid)\n",
        "xb.shape"
      ],
      "metadata": {
        "id": "vOwbQ72HrJoG",
        "outputId": "5dbb7f2d-b0bf-4984-c952-8f31f1d0c686",
        "colab": {
          "base_uri": "https://localhost:8080/"
        }
      },
      "execution_count": 20,
      "outputs": [
        {
          "output_type": "execute_result",
          "data": {
            "text/plain": [
              "torch.Size([64, 1, 28, 28])"
            ]
          },
          "metadata": {},
          "execution_count": 20
        }
      ]
    },
    {
      "cell_type": "markdown",
      "source": [
        "One batch contains 64 images, each of 1 channel, with 28×28 pixels. F.conv2d can handle multichannel (i.e., color) images too. A channel is a single basic color in an image—for regular full-color images there are three channels, red, green, and blue. PyTorch represents an image as a rank-3 tensor, with dimensions [channels, rows, columns].\n",
        "\n",
        "We'll see how to handle more than one channel later in this chapter. Kernels passed to F.conv2d need to be rank-4 tensors: [channels_in, features_out, rows, columns]. edge_kernels is currently missing one of these. We need to tell PyTorch that the number of input channels in the kernel is one, which we can do by inserting an axis of size one (this is known as a unit axis) in the first location, where the PyTorch docs show in_channels is expected. To insert a unit axis into a tensor, we use the unsqueeze method:"
      ],
      "metadata": {
        "id": "fFPvfFoPsVEY"
      }
    },
    {
      "cell_type": "code",
      "source": [
        "edge_kernels = edge_kernels.unsqueeze(1)"
      ],
      "metadata": {
        "id": "v7FMVhEGsgup"
      },
      "execution_count": 31,
      "outputs": []
    },
    {
      "cell_type": "code",
      "source": [
        "edge_kernels.shape"
      ],
      "metadata": {
        "id": "NsCD27Gesn4x",
        "outputId": "0ee69b68-e652-4a6b-aa0a-a7c5875a87b7",
        "colab": {
          "base_uri": "https://localhost:8080/"
        }
      },
      "execution_count": 32,
      "outputs": [
        {
          "output_type": "execute_result",
          "data": {
            "text/plain": [
              "torch.Size([4, 1, 3, 3])"
            ]
          },
          "metadata": {},
          "execution_count": 32
        }
      ]
    },
    {
      "cell_type": "code",
      "source": [
        "batch_features = F.conv2d(xb, edge_kernels)\n",
        "batch_features.shape"
      ],
      "metadata": {
        "id": "4nNtBzFisrYc",
        "outputId": "bc95f384-ee48-4281-f3fa-d05191323674",
        "colab": {
          "base_uri": "https://localhost:8080/"
        }
      },
      "execution_count": 33,
      "outputs": [
        {
          "output_type": "execute_result",
          "data": {
            "text/plain": [
              "torch.Size([64, 4, 26, 26])"
            ]
          },
          "metadata": {},
          "execution_count": 33
        }
      ]
    },
    {
      "cell_type": "markdown",
      "source": [
        "The output shape shows we gave 64 images in the mini-batch, 4 kernels, and 26×26 edge maps (we started with 28×28 images, but lost one pixel from each side). We can see we get the same results as when we did this manually:"
      ],
      "metadata": {
        "id": "NCoSOSlCtGQv"
      }
    },
    {
      "cell_type": "code",
      "source": [
        "show_image(batch_features[0,0]);"
      ],
      "metadata": {
        "id": "qwAvO_9ktLcD",
        "outputId": "5d4bdc16-bfe5-4e8c-ce2c-f9d09cc6a5ff",
        "colab": {
          "base_uri": "https://localhost:8080/",
          "height": 85
        }
      },
      "execution_count": 34,
      "outputs": [
        {
          "output_type": "display_data",
          "data": {
            "text/plain": [
              "<Figure size 72x72 with 1 Axes>"
            ],
            "image/png": "[encoded data removed]"
          },
          "metadata": {
            "needs_background": "light"
          }
        }
      ]
    },
    {
      "cell_type": "markdown",
      "source": [
        "It would be nice to not lose those two pixels on each axis. The way we do that is to add padding, which is simply additional pixels added around the outside of our image. Most commonly, pixels of zeros are added."
      ],
      "metadata": {
        "id": "dh003vpLtK1W"
      }
    },
    {
      "cell_type": "markdown",
      "source": [
        "## Padding"
      ],
      "metadata": {
        "id": "9PvxfW-ytbti"
      }
    },
    {
      "cell_type": "markdown",
      "source": [
        "With appropriate padding, we can ensure that the output activation map is the same size as the original image, which can make things a lot simpler when we construct our architecture. For example, 2ith a 5×5 input, 4×4 kernel, and 2 pixels of padding, we end up with a 6×6 activation map.\n",
        "\n",
        "So far, when we have applied the kernel to the grid, we have moved it one pixel over at a time. But we can jump further; for instance, we could move over two pixels after each kernel application. This is known as a stride-2 convolution. The most common kernel size in practice is 3×3, and the most common padding is 1. As you'll see, stride-2 convolutions are useful for decreasing the size of our outputs, and stride-1 convolutions are useful for adding layers without changing the output size.\n",
        "\n",
        "In an image of size h by w, using a padding of 1 and a stride of 2 will give us a result of size (h+1)//2 by (w+1)//2. The general formula for each dimension is:\n",
        "\n",
        "*   (n + 2*pad - ks)//stride + 1\n",
        "   \n",
        "\n",
        "Where pad is the padding, ks, the size of our kernel, and stride is the stride."
      ],
      "metadata": {
        "id": "q1N1qWrltdke"
      }
    },
    {
      "cell_type": "code",
      "source": [
        "(28+2*1-3)/(2+1) #for a 28x28 input with padding of 1, 3x3 kernel size and stride 2 we will go down to 9x9 output"
      ],
      "metadata": {
        "id": "_aQexx1MuVQl",
        "outputId": "1e7aa13f-4d0f-48b0-fde2-6f84b985dc3a",
        "colab": {
          "base_uri": "https://localhost:8080/"
        }
      },
      "execution_count": 35,
      "outputs": [
        {
          "output_type": "execute_result",
          "data": {
            "text/plain": [
              "9.0"
            ]
          },
          "metadata": {},
          "execution_count": 35
        }
      ]
    }
  ]
}