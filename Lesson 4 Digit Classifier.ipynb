{
  "cells": [
    {
      "cell_type": "markdown",
      "metadata": {
        "id": "view-in-github",
        "colab_type": "text"
      },
      "source": [
        "<a href=\"https://colab.research.google.com/github/afortuny/DeepLearningFastAI/blob/main/Lesson%204%20Digit%20Classifier.ipynb\" target=\"_parent\"><img src=\"https://colab.research.google.com/assets/colab-badge.svg\" alt=\"Open In Colab\"/></a>"
      ]
    },
    {
      "cell_type": "markdown",
      "source": [
        "# Understanding Deep Neural Networks with the MNIST data set"
      ],
      "metadata": {
        "id": "CKmm9BqftB1_"
      }
    },
    {
      "cell_type": "markdown",
      "source": [
        "In the following notebook, we will deep dive into the inner workings on stochastic gradient descent, tensors and deep learning using one of the most relevant data sets in the history of deep learning: the hand writing dataset MNIST"
      ],
      "metadata": {
        "id": "Fb0v6qqftPWu"
      }
    },
    {
      "cell_type": "code",
      "execution_count": 2,
      "metadata": {
        "id": "G2ZwVk2YsLKJ",
        "colab": {
          "base_uri": "https://localhost:8080/"
        },
        "outputId": "e970439f-3d04-4095-fdfb-e7d8e691bdda"
      },
      "outputs": [
        {
          "output_type": "stream",
          "name": "stdout",
          "text": [
            "\u001b[K     |████████████████████████████████| 720 kB 5.1 MB/s \n",
            "\u001b[K     |████████████████████████████████| 1.2 MB 64.4 MB/s \n",
            "\u001b[K     |████████████████████████████████| 197 kB 74.2 MB/s \n",
            "\u001b[K     |████████████████████████████████| 60 kB 9.5 MB/s \n",
            "\u001b[?25hMounted at /content/gdrive\n"
          ]
        }
      ],
      "source": [
        "#hide\n",
        "#!pip install -Uqq fastbook #please install fastbook before running the whole code\n",
        "import fastbook\n",
        "fastbook.setup_book()"
      ]
    },
    {
      "cell_type": "code",
      "execution_count": 3,
      "metadata": {
        "id": "_7Z_gt4QsLKO"
      },
      "outputs": [],
      "source": [
        "#hide\n",
        "from fastai.vision.all import *\n",
        "from fastbook import *\n",
        "\n",
        "matplotlib.rc('image', cmap='Greys')"
      ]
    },
    {
      "cell_type": "markdown",
      "metadata": {
        "id": "cO_Z_nktsLKQ"
      },
      "source": [
        "# Under the Hood: Training a Digit Classifier"
      ]
    },
    {
      "cell_type": "markdown",
      "metadata": {
        "id": "22EAwnQ-sLKR"
      },
      "source": [
        "We’ll start by using computer vision to introduce fundamental tools and concepts for deep learning.\n",
        "\n",
        "To be exact, we'll discuss the roles of arrays and tensors and of broadcasting, a powerful technique for using them expressively. We'll explain stochastic gradient descent (SGD), the mechanism for learning by updating weights automatically. We'll discuss the choice of a loss function for our basic classification task, and the role of mini-batches. We'll also describe the math that a basic neural network is actually doing. Finally, we'll put all these pieces together.\n",
        "\n",
        "Let's begin. The first step is to consider how images are represented in a computer."
      ]
    },
    {
      "cell_type": "markdown",
      "metadata": {
        "id": "QPYU2OowsLKS"
      },
      "source": [
        "## Pixels: The Foundations of Computer Vision"
      ]
    },
    {
      "cell_type": "markdown",
      "metadata": {
        "id": "hVCD-Q8vsLKS"
      },
      "source": [
        "In order to understand what happens in a computer vision model, we first have to understand how computers handle images. We'll use one of the most famous datasets in computer vision, [MNIST](https://en.wikipedia.org/wiki/MNIST_database), for our experiments. MNIST contains images of handwritten digits, collected by the National Institute of Standards and Technology and collated into a machine learning dataset by Yann Lecun and his colleagues. Lecun used MNIST in 1998 in [Lenet-5](http://yann.lecun.com/exdb/lenet/), the first computer system to demonstrate practically useful recognition of handwritten digit sequences. This was one of the most important breakthroughs in the history of AI."
      ]
    },
    {
      "cell_type": "markdown",
      "metadata": {
        "id": "UOy5CdcDsLKW"
      },
      "source": [
        "The following notebook shows to create a baseline model for two digits, in this case 2 and 7 (as they could be hard to distinguish), but at the end we will classify all digits using deep learning."
      ]
    },
    {
      "cell_type": "code",
      "execution_count": 204,
      "metadata": {
        "id": "Rk4WJB9SsLKX"
      },
      "outputs": [],
      "source": [
        "path = untar_data(URLs.MNIST)"
      ]
    },
    {
      "cell_type": "code",
      "execution_count": null,
      "metadata": {
        "id": "wANiR-fjsLKX"
      },
      "outputs": [],
      "source": [
        "#hide\n",
        "#Path.BASE_PATH = path"
      ]
    },
    {
      "cell_type": "markdown",
      "metadata": {
        "id": "PCdI13FlsLKX"
      },
      "source": [
        "We can see what's in this directory by using `ls`, which returns an object of a special fastai class called `L`, which has all the same functionality of Python's built-in `list`, plus a lot more. One of its handy features is that, when printed, it displays the count of items, before listing the items themselves (if there are more than 10 items, it just shows the first few):"
      ]
    },
    {
      "cell_type": "code",
      "execution_count": 5,
      "metadata": {
        "colab": {
          "base_uri": "https://localhost:8080/"
        },
        "id": "NLIWGTklsLKX",
        "outputId": "4d926b92-4371-497a-f707-4ea515d88aaa"
      },
      "outputs": [
        {
          "output_type": "execute_result",
          "data": {
            "text/plain": [
              "(#2) [Path('/root/.fastai/data/mnist_png/training'),Path('/root/.fastai/data/mnist_png/testing')]"
            ]
          },
          "metadata": {},
          "execution_count": 5
        }
      ],
      "source": [
        "path.ls()"
      ]
    },
    {
      "cell_type": "markdown",
      "metadata": {
        "id": "l9fPM3lasLKY"
      },
      "source": [
        "The MNIST dataset follows a common layout for machine learning datasets: separate folders for the training set and the validation set (and/or test set). Let's see what's inside the training set:"
      ]
    },
    {
      "cell_type": "code",
      "execution_count": 6,
      "metadata": {
        "colab": {
          "base_uri": "https://localhost:8080/"
        },
        "id": "nnkOS-aXsLKZ",
        "outputId": "4e27b48e-6f22-4c39-f084-be1dbd534885"
      },
      "outputs": [
        {
          "output_type": "execute_result",
          "data": {
            "text/plain": [
              "(#10) [Path('/root/.fastai/data/mnist_png/training/3'),Path('/root/.fastai/data/mnist_png/training/7'),Path('/root/.fastai/data/mnist_png/training/2'),Path('/root/.fastai/data/mnist_png/training/5'),Path('/root/.fastai/data/mnist_png/training/0'),Path('/root/.fastai/data/mnist_png/training/9'),Path('/root/.fastai/data/mnist_png/training/6'),Path('/root/.fastai/data/mnist_png/training/4'),Path('/root/.fastai/data/mnist_png/training/1'),Path('/root/.fastai/data/mnist_png/training/8')]"
            ]
          },
          "metadata": {},
          "execution_count": 6
        }
      ],
      "source": [
        "(path/'training').ls()"
      ]
    },
    {
      "cell_type": "markdown",
      "metadata": {
        "id": "73IQ5IrFsLKZ"
      },
      "source": [
        "There's a folder for each number. In machine learning parlance, we say that \"2\" and \"7\" are the *labels* (or targets) in this dataset. Let's take a look in one of these folders (using `sorted` to ensure we all get the same order of files):"
      ]
    },
    {
      "cell_type": "code",
      "execution_count": 7,
      "metadata": {
        "colab": {
          "base_uri": "https://localhost:8080/"
        },
        "id": "AdKt9Ym5sLKZ",
        "outputId": "25825c99-4acb-4cc3-c15f-fff423ef80a9"
      },
      "outputs": [
        {
          "output_type": "execute_result",
          "data": {
            "text/plain": [
              "(#5958) [Path('/root/.fastai/data/mnist_png/training/2/10009.png'),Path('/root/.fastai/data/mnist_png/training/2/10016.png'),Path('/root/.fastai/data/mnist_png/training/2/10024.png'),Path('/root/.fastai/data/mnist_png/training/2/10029.png'),Path('/root/.fastai/data/mnist_png/training/2/10072.png'),Path('/root/.fastai/data/mnist_png/training/2/10073.png'),Path('/root/.fastai/data/mnist_png/training/2/10075.png'),Path('/root/.fastai/data/mnist_png/training/2/10078.png'),Path('/root/.fastai/data/mnist_png/training/2/10081.png'),Path('/root/.fastai/data/mnist_png/training/2/10082.png')...]"
            ]
          },
          "metadata": {},
          "execution_count": 7
        }
      ],
      "source": [
        "twos = (path/'training'/'2').ls().sorted()\n",
        "sevens = (path/'training'/'7').ls().sorted()\n",
        "twos"
      ]
    },
    {
      "cell_type": "markdown",
      "metadata": {
        "id": "v2hnOCybsLKZ"
      },
      "source": [
        "As we might expect, it's full of image files. Let’s take a look at one now. Here’s an image of a handwritten number 2, taken from the famous MNIST dataset of handwritten numbers:"
      ]
    },
    {
      "cell_type": "code",
      "execution_count": 8,
      "metadata": {
        "colab": {
          "base_uri": "https://localhost:8080/",
          "height": 45
        },
        "id": "ldDFxmeWsLKa",
        "outputId": "43ac121c-d311-482c-948d-4efab456a6dc"
      },
      "outputs": [
        {
          "output_type": "execute_result",
          "data": {
            "text/plain": [
              "<PIL.PngImagePlugin.PngImageFile image mode=L size=28x28 at 0x7FB443BC1C90>"
            ],
            "image/png": "[encoded data removed]"
          },
          "metadata": {},
          "execution_count": 8
        }
      ],
      "source": [
        "im2_path = twos[1]\n",
        "im2 = Image.open(im2_path)\n",
        "im2"
      ]
    },
    {
      "cell_type": "markdown",
      "metadata": {
        "id": "Vo5YQTbOsLKa"
      },
      "source": [
        "Here we are using the `Image` class from the *Python Imaging Library* (PIL), which is the most widely used Python package for opening, manipulating, and viewing images. Jupyter knows about PIL images, so it displays the image for us automatically.\n",
        "\n",
        "In a computer, everything is represented as a number. To view the numbers that make up this image, we have to convert it to *PyTorch tensor*. For instance, here's what a section of the image looks like"
      ]
    },
    {
      "cell_type": "markdown",
      "metadata": {
        "id": "ab6q76sOsLKb"
      },
      "source": [
        "The `4:10` indicates we requested the rows from index 4 (included) to 10 (not included) and the same for the columns. "
      ]
    },
    {
      "cell_type": "code",
      "execution_count": 9,
      "metadata": {
        "colab": {
          "base_uri": "https://localhost:8080/"
        },
        "id": "Dex7wArgsLKb",
        "outputId": "5588f02a-9edb-40c1-9865-1a7d0050fe5f"
      },
      "outputs": [
        {
          "output_type": "execute_result",
          "data": {
            "text/plain": [
              "tensor([[  0,   0,   0,   0,  14, 209],\n",
              "        [  0,   0,   0,   0,  25, 228],\n",
              "        [  0,   0,   0,   0,  11,  41],\n",
              "        [  0,   0,   0,   0,   0,   0],\n",
              "        [  0,   0,   0,   0,   0,   0],\n",
              "        [  0,   0,   0,   0,   0,   0]], dtype=torch.uint8)"
            ]
          },
          "metadata": {},
          "execution_count": 9
        }
      ],
      "source": [
        "tensor(im2)[4:10,4:10]"
      ]
    },
    {
      "cell_type": "markdown",
      "metadata": {
        "id": "e1y0OTJLsLKb"
      },
      "source": [
        "We can slice the array to pick just the part with the top of the digit in it, and then use a Pandas DataFrame to color-code the values using a gradient, which shows us clearly how the image is created from the pixel values:"
      ]
    },
    {
      "cell_type": "code",
      "execution_count": 10,
      "metadata": {
        "colab": {
          "base_uri": "https://localhost:8080/",
          "height": 928
        },
        "id": "G8wMBsZosLKb",
        "outputId": "f60aa9aa-6783-470c-f378-44d5c3f4dcdd"
      },
      "outputs": [
        {
          "output_type": "execute_result",
          "data": {
            "text/plain": [
              "<pandas.io.formats.style.Styler at 0x7fb443b78410>"
            ],
            "text/html": [
              "<style type=\"text/css\">\n",
              "#T_a581e_row0_col0, #T_a581e_row0_col1, #T_a581e_row0_col2, #T_a581e_row0_col3, #T_a581e_row0_col4, #T_a581e_row0_col5, #T_a581e_row0_col6, #T_a581e_row0_col7, #T_a581e_row0_col8, #T_a581e_row0_col9, #T_a581e_row0_col10, #T_a581e_row0_col11, #T_a581e_row0_col12, #T_a581e_row0_col13, #T_a581e_row0_col14, #T_a581e_row0_col15, #T_a581e_row0_col16, #T_a581e_row0_col17, #T_a581e_row0_col18, #T_a581e_row0_col19, #T_a581e_row0_col20, #T_a581e_row0_col21, #T_a581e_row0_col22, #T_a581e_row0_col23, #T_a581e_row0_col24, #T_a581e_row0_col25, #T_a581e_row0_col26, #T_a581e_row0_col27, #T_a581e_row1_col0, #T_a581e_row1_col1, #T_a581e_row1_col2, #T_a581e_row1_col3, #T_a581e_row1_col4, #T_a581e_row1_col5, #T_a581e_row1_col6, #T_a581e_row1_col7, #T_a581e_row1_col8, #T_a581e_row1_col9, #T_a581e_row1_col10, #T_a581e_row1_col11, #T_a581e_row1_col12, #T_a581e_row1_col13, #T_a581e_row1_col14, #T_a581e_row1_col15, #T_a581e_row1_col16, #T_a581e_row1_col17, #T_a581e_row1_col18, #T_a581e_row1_col19, #T_a581e_row1_col20, #T_a581e_row1_col21, #T_a581e_row1_col22, #T_a581e_row1_col23, #T_a581e_row1_col24, #T_a581e_row1_col25, #T_a581e_row1_col26, #T_a581e_row1_col27, #T_a581e_row2_col0, #T_a581e_row2_col1, #T_a581e_row2_col2, #T_a581e_row2_col3, #T_a581e_row2_col4, #T_a581e_row2_col5, #T_a581e_row2_col6, #T_a581e_row2_col7, #T_a581e_row2_col8, #T_a581e_row2_col9, #T_a581e_row2_col10, #T_a581e_row2_col11, #T_a581e_row2_col12, #T_a581e_row2_col13, #T_a581e_row2_col14, #T_a581e_row2_col15, #T_a581e_row2_col16, #T_a581e_row2_col17, #T_a581e_row2_col18, #T_a581e_row2_col19, #T_a581e_row2_col20, #T_a581e_row2_col21, #T_a581e_row2_col22, #T_a581e_row2_col23, #T_a581e_row2_col24, #T_a581e_row2_col25, #T_a581e_row2_col26, #T_a581e_row2_col27, #T_a581e_row3_col0, #T_a581e_row3_col1, #T_a581e_row3_col2, #T_a581e_row3_col3, #T_a581e_row3_col4, #T_a581e_row3_col5, #T_a581e_row3_col6, #T_a581e_row3_col7, #T_a581e_row3_col8, #T_a581e_row3_col17, #T_a581e_row3_col18, #T_a581e_row3_col19, #T_a581e_row3_col20, #T_a581e_row3_col21, #T_a581e_row3_col22, #T_a581e_row3_col23, #T_a581e_row3_col24, #T_a581e_row3_col25, #T_a581e_row3_col26, #T_a581e_row3_col27, #T_a581e_row4_col0, #T_a581e_row4_col1, #T_a581e_row4_col2, #T_a581e_row4_col3, #T_a581e_row4_col4, #T_a581e_row4_col5, #T_a581e_row4_col6, #T_a581e_row4_col7, #T_a581e_row4_col18, #T_a581e_row4_col19, #T_a581e_row4_col20, #T_a581e_row4_col21, #T_a581e_row4_col22, #T_a581e_row4_col23, #T_a581e_row4_col24, #T_a581e_row4_col25, #T_a581e_row4_col26, #T_a581e_row4_col27, #T_a581e_row5_col0, #T_a581e_row5_col1, #T_a581e_row5_col2, #T_a581e_row5_col3, #T_a581e_row5_col4, #T_a581e_row5_col5, #T_a581e_row5_col6, #T_a581e_row5_col7, #T_a581e_row5_col11, #T_a581e_row5_col12, #T_a581e_row5_col13, #T_a581e_row5_col19, #T_a581e_row5_col20, #T_a581e_row5_col21, #T_a581e_row5_col22, #T_a581e_row5_col23, #T_a581e_row5_col24, #T_a581e_row5_col25, #T_a581e_row5_col26, #T_a581e_row5_col27, #T_a581e_row6_col0, #T_a581e_row6_col1, #T_a581e_row6_col2, #T_a581e_row6_col3, #T_a581e_row6_col4, #T_a581e_row6_col5, #T_a581e_row6_col6, #T_a581e_row6_col7, #T_a581e_row6_col10, #T_a581e_row6_col11, #T_a581e_row6_col12, #T_a581e_row6_col13, #T_a581e_row6_col14, #T_a581e_row6_col20, #T_a581e_row6_col21, #T_a581e_row6_col22, #T_a581e_row6_col23, #T_a581e_row6_col24, #T_a581e_row6_col25, #T_a581e_row6_col26, #T_a581e_row6_col27, #T_a581e_row7_col0, #T_a581e_row7_col1, #T_a581e_row7_col2, #T_a581e_row7_col3, #T_a581e_row7_col4, #T_a581e_row7_col5, #T_a581e_row7_col6, #T_a581e_row7_col7, #T_a581e_row7_col8, #T_a581e_row7_col9, #T_a581e_row7_col10, #T_a581e_row7_col11, #T_a581e_row7_col12, #T_a581e_row7_col13, #T_a581e_row7_col14, #T_a581e_row7_col15, #T_a581e_row7_col20, #T_a581e_row7_col21, #T_a581e_row7_col22, #T_a581e_row7_col23, #T_a581e_row7_col24, #T_a581e_row7_col25, #T_a581e_row7_col26, #T_a581e_row7_col27, #T_a581e_row8_col0, #T_a581e_row8_col1, #T_a581e_row8_col2, #T_a581e_row8_col3, #T_a581e_row8_col4, #T_a581e_row8_col5, #T_a581e_row8_col6, #T_a581e_row8_col7, #T_a581e_row8_col8, #T_a581e_row8_col9, #T_a581e_row8_col10, #T_a581e_row8_col11, #T_a581e_row8_col12, #T_a581e_row8_col13, #T_a581e_row8_col14, #T_a581e_row8_col15, #T_a581e_row8_col20, #T_a581e_row8_col21, #T_a581e_row8_col22, #T_a581e_row8_col23, #T_a581e_row8_col24, #T_a581e_row8_col25, #T_a581e_row8_col26, #T_a581e_row8_col27, #T_a581e_row9_col0, #T_a581e_row9_col1, #T_a581e_row9_col2, #T_a581e_row9_col3, #T_a581e_row9_col4, #T_a581e_row9_col5, #T_a581e_row9_col6, #T_a581e_row9_col7, #T_a581e_row9_col8, #T_a581e_row9_col9, #T_a581e_row9_col10, #T_a581e_row9_col11, #T_a581e_row9_col12, #T_a581e_row9_col13, #T_a581e_row9_col14, #T_a581e_row9_col15, #T_a581e_row9_col16, #T_a581e_row9_col21, #T_a581e_row9_col22, #T_a581e_row9_col23, #T_a581e_row9_col24, #T_a581e_row9_col25, #T_a581e_row9_col26, #T_a581e_row9_col27, #T_a581e_row10_col0, #T_a581e_row10_col1, #T_a581e_row10_col2, #T_a581e_row10_col3, #T_a581e_row10_col4, #T_a581e_row10_col5, #T_a581e_row10_col6, #T_a581e_row10_col7, #T_a581e_row10_col8, #T_a581e_row10_col9, #T_a581e_row10_col10, #T_a581e_row10_col11, #T_a581e_row10_col12, #T_a581e_row10_col13, #T_a581e_row10_col14, #T_a581e_row10_col15, #T_a581e_row10_col16, #T_a581e_row10_col21, #T_a581e_row10_col22, #T_a581e_row10_col23, #T_a581e_row10_col24, #T_a581e_row10_col25, #T_a581e_row10_col26, #T_a581e_row10_col27, #T_a581e_row11_col0, #T_a581e_row11_col1, #T_a581e_row11_col2, #T_a581e_row11_col3, #T_a581e_row11_col4, #T_a581e_row11_col5, #T_a581e_row11_col6, #T_a581e_row11_col7, #T_a581e_row11_col8, #T_a581e_row11_col9, #T_a581e_row11_col10, #T_a581e_row11_col11, #T_a581e_row11_col12, #T_a581e_row11_col13, #T_a581e_row11_col14, #T_a581e_row11_col15, #T_a581e_row11_col16, #T_a581e_row11_col21, #T_a581e_row11_col22, #T_a581e_row11_col23, #T_a581e_row11_col24, #T_a581e_row11_col25, #T_a581e_row11_col26, #T_a581e_row11_col27, #T_a581e_row12_col0, #T_a581e_row12_col1, #T_a581e_row12_col2, #T_a581e_row12_col3, #T_a581e_row12_col4, #T_a581e_row12_col5, #T_a581e_row12_col6, #T_a581e_row12_col7, #T_a581e_row12_col8, #T_a581e_row12_col9, #T_a581e_row12_col10, #T_a581e_row12_col11, #T_a581e_row12_col12, #T_a581e_row12_col13, #T_a581e_row12_col14, #T_a581e_row12_col15, #T_a581e_row12_col16, #T_a581e_row12_col21, #T_a581e_row12_col22, #T_a581e_row12_col23, #T_a581e_row12_col24, #T_a581e_row12_col25, #T_a581e_row12_col26, #T_a581e_row12_col27, #T_a581e_row13_col0, #T_a581e_row13_col1, #T_a581e_row13_col2, #T_a581e_row13_col3, #T_a581e_row13_col4, #T_a581e_row13_col5, #T_a581e_row13_col6, #T_a581e_row13_col7, #T_a581e_row13_col8, #T_a581e_row13_col9, #T_a581e_row13_col10, #T_a581e_row13_col11, #T_a581e_row13_col12, #T_a581e_row13_col13, #T_a581e_row13_col14, #T_a581e_row13_col15, #T_a581e_row13_col16, #T_a581e_row13_col21, #T_a581e_row13_col22, #T_a581e_row13_col23, #T_a581e_row13_col24, #T_a581e_row13_col25, #T_a581e_row13_col26, #T_a581e_row13_col27, #T_a581e_row14_col0, #T_a581e_row14_col1, #T_a581e_row14_col2, #T_a581e_row14_col3, #T_a581e_row14_col4, #T_a581e_row14_col5, #T_a581e_row14_col6, #T_a581e_row14_col7, #T_a581e_row14_col8, #T_a581e_row14_col9, #T_a581e_row14_col10, #T_a581e_row14_col11, #T_a581e_row14_col12, #T_a581e_row14_col13, #T_a581e_row14_col14, #T_a581e_row14_col15, #T_a581e_row14_col20, #T_a581e_row14_col21, #T_a581e_row14_col22, #T_a581e_row14_col23, #T_a581e_row14_col24, #T_a581e_row14_col25, #T_a581e_row14_col26, #T_a581e_row14_col27, #T_a581e_row15_col0, #T_a581e_row15_col1, #T_a581e_row15_col2, #T_a581e_row15_col3, #T_a581e_row15_col4, #T_a581e_row15_col5, #T_a581e_row15_col6, #T_a581e_row15_col7, #T_a581e_row15_col8, #T_a581e_row15_col9, #T_a581e_row15_col20, #T_a581e_row15_col21, #T_a581e_row15_col22, #T_a581e_row15_col23, #T_a581e_row15_col24, #T_a581e_row15_col25, #T_a581e_row15_col26, #T_a581e_row15_col27, #T_a581e_row16_col0, #T_a581e_row16_col1, #T_a581e_row16_col2, #T_a581e_row16_col3, #T_a581e_row16_col4, #T_a581e_row16_col5, #T_a581e_row16_col6, #T_a581e_row16_col7, #T_a581e_row16_col8, #T_a581e_row16_col20, #T_a581e_row16_col21, #T_a581e_row16_col22, #T_a581e_row16_col23, #T_a581e_row16_col24, #T_a581e_row16_col25, #T_a581e_row16_col26, #T_a581e_row16_col27, #T_a581e_row17_col0, #T_a581e_row17_col1, #T_a581e_row17_col2, #T_a581e_row17_col3, #T_a581e_row17_col4, #T_a581e_row17_col5, #T_a581e_row17_col6, #T_a581e_row17_col7, #T_a581e_row17_col20, #T_a581e_row17_col21, #T_a581e_row17_col22, #T_a581e_row17_col23, #T_a581e_row17_col24, #T_a581e_row17_col25, #T_a581e_row17_col26, #T_a581e_row17_col27, #T_a581e_row18_col0, #T_a581e_row18_col1, #T_a581e_row18_col2, #T_a581e_row18_col3, #T_a581e_row18_col4, #T_a581e_row18_col5, #T_a581e_row18_col6, #T_a581e_row18_col7, #T_a581e_row18_col12, #T_a581e_row18_col21, #T_a581e_row18_col22, #T_a581e_row18_col23, #T_a581e_row18_col24, #T_a581e_row18_col25, #T_a581e_row18_col26, #T_a581e_row18_col27, #T_a581e_row19_col0, #T_a581e_row19_col1, #T_a581e_row19_col2, #T_a581e_row19_col3, #T_a581e_row19_col4, #T_a581e_row19_col5, #T_a581e_row19_col6, #T_a581e_row19_col7, #T_a581e_row19_col11, #T_a581e_row19_col22, #T_a581e_row19_col23, #T_a581e_row19_col24, #T_a581e_row19_col25, #T_a581e_row19_col26, #T_a581e_row19_col27, #T_a581e_row20_col0, #T_a581e_row20_col1, #T_a581e_row20_col2, #T_a581e_row20_col3, #T_a581e_row20_col4, #T_a581e_row20_col5, #T_a581e_row20_col6, #T_a581e_row20_col7, #T_a581e_row20_col17, #T_a581e_row20_col18, #T_a581e_row20_col19, #T_a581e_row20_col22, #T_a581e_row20_col23, #T_a581e_row20_col24, #T_a581e_row20_col25, #T_a581e_row20_col26, #T_a581e_row20_col27, #T_a581e_row21_col0, #T_a581e_row21_col1, #T_a581e_row21_col2, #T_a581e_row21_col3, #T_a581e_row21_col4, #T_a581e_row21_col5, #T_a581e_row21_col6, #T_a581e_row21_col7, #T_a581e_row21_col16, #T_a581e_row21_col17, #T_a581e_row21_col18, #T_a581e_row21_col19, #T_a581e_row21_col20, #T_a581e_row21_col21, #T_a581e_row21_col22, #T_a581e_row21_col23, #T_a581e_row21_col24, #T_a581e_row21_col25, #T_a581e_row21_col26, #T_a581e_row21_col27, #T_a581e_row22_col0, #T_a581e_row22_col1, #T_a581e_row22_col2, #T_a581e_row22_col3, #T_a581e_row22_col4, #T_a581e_row22_col5, #T_a581e_row22_col6, #T_a581e_row22_col7, #T_a581e_row22_col14, #T_a581e_row22_col15, #T_a581e_row22_col16, #T_a581e_row22_col17, #T_a581e_row22_col18, #T_a581e_row22_col19, #T_a581e_row22_col20, #T_a581e_row22_col21, #T_a581e_row22_col22, #T_a581e_row22_col23, #T_a581e_row22_col24, #T_a581e_row22_col25, #T_a581e_row22_col26, #T_a581e_row22_col27, #T_a581e_row23_col0, #T_a581e_row23_col1, #T_a581e_row23_col2, #T_a581e_row23_col3, #T_a581e_row23_col4, #T_a581e_row23_col5, #T_a581e_row23_col6, #T_a581e_row23_col7, #T_a581e_row23_col8, #T_a581e_row23_col9, #T_a581e_row23_col10, #T_a581e_row23_col11, #T_a581e_row23_col12, #T_a581e_row23_col13, #T_a581e_row23_col14, #T_a581e_row23_col15, #T_a581e_row23_col16, #T_a581e_row23_col17, #T_a581e_row23_col18, #T_a581e_row23_col19, #T_a581e_row23_col20, #T_a581e_row23_col21, #T_a581e_row23_col22, #T_a581e_row23_col23, #T_a581e_row23_col24, #T_a581e_row23_col25, #T_a581e_row23_col26, #T_a581e_row23_col27, #T_a581e_row24_col0, #T_a581e_row24_col1, #T_a581e_row24_col2, #T_a581e_row24_col3, #T_a581e_row24_col4, #T_a581e_row24_col5, #T_a581e_row24_col6, #T_a581e_row24_col7, #T_a581e_row24_col8, #T_a581e_row24_col9, #T_a581e_row24_col10, #T_a581e_row24_col11, #T_a581e_row24_col12, #T_a581e_row24_col13, #T_a581e_row24_col14, #T_a581e_row24_col15, #T_a581e_row24_col16, #T_a581e_row24_col17, #T_a581e_row24_col18, #T_a581e_row24_col19, #T_a581e_row24_col20, #T_a581e_row24_col21, #T_a581e_row24_col22, #T_a581e_row24_col23, #T_a581e_row24_col24, #T_a581e_row24_col25, #T_a581e_row24_col26, #T_a581e_row24_col27, #T_a581e_row25_col0, #T_a581e_row25_col1, #T_a581e_row25_col2, #T_a581e_row25_col3, #T_a581e_row25_col4, #T_a581e_row25_col5, #T_a581e_row25_col6, #T_a581e_row25_col7, #T_a581e_row25_col8, #T_a581e_row25_col9, #T_a581e_row25_col10, #T_a581e_row25_col11, #T_a581e_row25_col12, #T_a581e_row25_col13, #T_a581e_row25_col14, #T_a581e_row25_col15, #T_a581e_row25_col16, #T_a581e_row25_col17, #T_a581e_row25_col18, #T_a581e_row25_col19, #T_a581e_row25_col20, #T_a581e_row25_col21, #T_a581e_row25_col22, #T_a581e_row25_col23, #T_a581e_row25_col24, #T_a581e_row25_col25, #T_a581e_row25_col26, #T_a581e_row25_col27, #T_a581e_row26_col0, #T_a581e_row26_col1, #T_a581e_row26_col2, #T_a581e_row26_col3, #T_a581e_row26_col4, #T_a581e_row26_col5, #T_a581e_row26_col6, #T_a581e_row26_col7, #T_a581e_row26_col8, #T_a581e_row26_col9, #T_a581e_row26_col10, #T_a581e_row26_col11, #T_a581e_row26_col12, #T_a581e_row26_col13, #T_a581e_row26_col14, #T_a581e_row26_col15, #T_a581e_row26_col16, #T_a581e_row26_col17, #T_a581e_row26_col18, #T_a581e_row26_col19, #T_a581e_row26_col20, #T_a581e_row26_col21, #T_a581e_row26_col22, #T_a581e_row26_col23, #T_a581e_row26_col24, #T_a581e_row26_col25, #T_a581e_row26_col26, #T_a581e_row26_col27, #T_a581e_row27_col0, #T_a581e_row27_col1, #T_a581e_row27_col2, #T_a581e_row27_col3, #T_a581e_row27_col4, #T_a581e_row27_col5, #T_a581e_row27_col6, #T_a581e_row27_col7, #T_a581e_row27_col8, #T_a581e_row27_col9, #T_a581e_row27_col10, #T_a581e_row27_col11, #T_a581e_row27_col12, #T_a581e_row27_col13, #T_a581e_row27_col14, #T_a581e_row27_col15, #T_a581e_row27_col16, #T_a581e_row27_col17, #T_a581e_row27_col18, #T_a581e_row27_col19, #T_a581e_row27_col20, #T_a581e_row27_col21, #T_a581e_row27_col22, #T_a581e_row27_col23, #T_a581e_row27_col24, #T_a581e_row27_col25, #T_a581e_row27_col26, #T_a581e_row27_col27 {\n",
              "  font-size: 6pt;\n",
              "  background-color: #ffffff;\n",
              "  color: #000000;\n",
              "}\n",
              "#T_a581e_row3_col9 {\n",
              "  font-size: 6pt;\n",
              "  background-color: #cacaca;\n",
              "  color: #000000;\n",
              "}\n",
              "#T_a581e_row3_col10 {\n",
              "  font-size: 6pt;\n",
              "  background-color: #929292;\n",
              "  color: #f1f1f1;\n",
              "}\n",
              "#T_a581e_row3_col11, #T_a581e_row17_col14 {\n",
              "  font-size: 6pt;\n",
              "  background-color: #7b7b7b;\n",
              "  color: #f1f1f1;\n",
              "}\n",
              "#T_a581e_row3_col12, #T_a581e_row3_col13 {\n",
              "  font-size: 6pt;\n",
              "  background-color: #4d4d4d;\n",
              "  color: #f1f1f1;\n",
              "}\n",
              "#T_a581e_row3_col14 {\n",
              "  font-size: 6pt;\n",
              "  background-color: #222222;\n",
              "  color: #f1f1f1;\n",
              "}\n",
              "#T_a581e_row3_col15 {\n",
              "  font-size: 6pt;\n",
              "  background-color: #bababa;\n",
              "  color: #000000;\n",
              "}\n",
              "#T_a581e_row3_col16, #T_a581e_row20_col16, #T_a581e_row22_col13 {\n",
              "  font-size: 6pt;\n",
              "  background-color: #fdfdfd;\n",
              "  color: #000000;\n",
              "}\n",
              "#T_a581e_row4_col8, #T_a581e_row5_col18, #T_a581e_row14_col16, #T_a581e_row16_col19, #T_a581e_row18_col13, #T_a581e_row19_col17, #T_a581e_row20_col21 {\n",
              "  font-size: 6pt;\n",
              "  background-color: #f4f4f4;\n",
              "  color: #000000;\n",
              "}\n",
              "#T_a581e_row4_col9 {\n",
              "  font-size: 6pt;\n",
              "  background-color: #383838;\n",
              "  color: #f1f1f1;\n",
              "}\n",
              "#T_a581e_row4_col10 {\n",
              "  font-size: 6pt;\n",
              "  background-color: #020202;\n",
              "  color: #f1f1f1;\n",
              "}\n",
              "#T_a581e_row4_col11 {\n",
              "  font-size: 6pt;\n",
              "  background-color: #0f0f0f;\n",
              "  color: #f1f1f1;\n",
              "}\n",
              "#T_a581e_row4_col12, #T_a581e_row4_col13 {\n",
              "  font-size: 6pt;\n",
              "  background-color: #0e0e0e;\n",
              "  color: #f1f1f1;\n",
              "}\n",
              "#T_a581e_row4_col14 {\n",
              "  font-size: 6pt;\n",
              "  background-color: #030303;\n",
              "  color: #f1f1f1;\n",
              "}\n",
              "#T_a581e_row4_col15, #T_a581e_row5_col16, #T_a581e_row6_col17, #T_a581e_row7_col17, #T_a581e_row7_col18, #T_a581e_row8_col18, #T_a581e_row9_col18, #T_a581e_row10_col18, #T_a581e_row10_col19, #T_a581e_row11_col18, #T_a581e_row11_col19, #T_a581e_row12_col18, #T_a581e_row12_col19, #T_a581e_row13_col18, #T_a581e_row14_col18, #T_a581e_row15_col17, #T_a581e_row15_col18, #T_a581e_row16_col12, #T_a581e_row16_col13, #T_a581e_row16_col14, #T_a581e_row16_col15, #T_a581e_row16_col17, #T_a581e_row17_col15, #T_a581e_row17_col16, #T_a581e_row17_col17, #T_a581e_row18_col9, #T_a581e_row18_col15, #T_a581e_row18_col16, #T_a581e_row18_col17, #T_a581e_row18_col18, #T_a581e_row19_col8, #T_a581e_row19_col9, #T_a581e_row19_col14, #T_a581e_row19_col15, #T_a581e_row19_col20, #T_a581e_row19_col21, #T_a581e_row20_col8, #T_a581e_row20_col9, #T_a581e_row20_col13, #T_a581e_row20_col14, #T_a581e_row21_col9, #T_a581e_row21_col12, #T_a581e_row22_col10, #T_a581e_row22_col11 {\n",
              "  font-size: 6pt;\n",
              "  background-color: #000000;\n",
              "  color: #f1f1f1;\n",
              "}\n",
              "#T_a581e_row4_col16 {\n",
              "  font-size: 6pt;\n",
              "  background-color: #5a5a5a;\n",
              "  color: #f1f1f1;\n",
              "}\n",
              "#T_a581e_row4_col17, #T_a581e_row20_col20 {\n",
              "  font-size: 6pt;\n",
              "  background-color: #fbfbfb;\n",
              "  color: #000000;\n",
              "}\n",
              "#T_a581e_row5_col8, #T_a581e_row6_col9, #T_a581e_row10_col20, #T_a581e_row11_col20, #T_a581e_row12_col20 {\n",
              "  font-size: 6pt;\n",
              "  background-color: #e9e9e9;\n",
              "  color: #000000;\n",
              "}\n",
              "#T_a581e_row5_col9, #T_a581e_row21_col13 {\n",
              "  font-size: 6pt;\n",
              "  background-color: #1e1e1e;\n",
              "  color: #f1f1f1;\n",
              "}\n",
              "#T_a581e_row5_col10 {\n",
              "  font-size: 6pt;\n",
              "  background-color: #bebebe;\n",
              "  color: #000000;\n",
              "}\n",
              "#T_a581e_row5_col14, #T_a581e_row7_col19, #T_a581e_row20_col11 {\n",
              "  font-size: 6pt;\n",
              "  background-color: #a8a8a8;\n",
              "  color: #f1f1f1;\n",
              "}\n",
              "#T_a581e_row5_col15 {\n",
              "  font-size: 6pt;\n",
              "  background-color: #050505;\n",
              "  color: #f1f1f1;\n",
              "}\n",
              "#T_a581e_row5_col17 {\n",
              "  font-size: 6pt;\n",
              "  background-color: #292929;\n",
              "  color: #f1f1f1;\n",
              "}\n",
              "#T_a581e_row6_col8, #T_a581e_row17_col8 {\n",
              "  font-size: 6pt;\n",
              "  background-color: #f7f7f7;\n",
              "  color: #000000;\n",
              "}\n",
              "#T_a581e_row6_col15 {\n",
              "  font-size: 6pt;\n",
              "  background-color: #cbcbcb;\n",
              "  color: #000000;\n",
              "}\n",
              "#T_a581e_row6_col16, #T_a581e_row20_col12 {\n",
              "  font-size: 6pt;\n",
              "  background-color: #363636;\n",
              "  color: #f1f1f1;\n",
              "}\n",
              "#T_a581e_row6_col18 {\n",
              "  font-size: 6pt;\n",
              "  background-color: #6a6a6a;\n",
              "  color: #f1f1f1;\n",
              "}\n",
              "#T_a581e_row6_col19, #T_a581e_row22_col8 {\n",
              "  font-size: 6pt;\n",
              "  background-color: #f5f5f5;\n",
              "  color: #000000;\n",
              "}\n",
              "#T_a581e_row7_col16 {\n",
              "  font-size: 6pt;\n",
              "  background-color: #cfcfcf;\n",
              "  color: #000000;\n",
              "}\n",
              "#T_a581e_row8_col16, #T_a581e_row9_col20 {\n",
              "  font-size: 6pt;\n",
              "  background-color: #f2f2f2;\n",
              "  color: #000000;\n",
              "}\n",
              "#T_a581e_row8_col17, #T_a581e_row9_col19 {\n",
              "  font-size: 6pt;\n",
              "  background-color: #242424;\n",
              "  color: #f1f1f1;\n",
              "}\n",
              "#T_a581e_row8_col19, #T_a581e_row14_col19 {\n",
              "  font-size: 6pt;\n",
              "  background-color: #707070;\n",
              "  color: #f1f1f1;\n",
              "}\n",
              "#T_a581e_row9_col17 {\n",
              "  font-size: 6pt;\n",
              "  background-color: #9a9a9a;\n",
              "  color: #f1f1f1;\n",
              "}\n",
              "#T_a581e_row10_col17, #T_a581e_row11_col17, #T_a581e_row12_col17, #T_a581e_row15_col11, #T_a581e_row15_col12, #T_a581e_row15_col13, #T_a581e_row15_col14, #T_a581e_row15_col15 {\n",
              "  font-size: 6pt;\n",
              "  background-color: #c9c9c9;\n",
              "  color: #000000;\n",
              "}\n",
              "#T_a581e_row13_col17 {\n",
              "  font-size: 6pt;\n",
              "  background-color: #a5a5a5;\n",
              "  color: #f1f1f1;\n",
              "}\n",
              "#T_a581e_row13_col19 {\n",
              "  font-size: 6pt;\n",
              "  background-color: #1d1d1d;\n",
              "  color: #f1f1f1;\n",
              "}\n",
              "#T_a581e_row13_col20 {\n",
              "  font-size: 6pt;\n",
              "  background-color: #f0f0f0;\n",
              "  color: #000000;\n",
              "}\n",
              "#T_a581e_row14_col17, #T_a581e_row18_col10 {\n",
              "  font-size: 6pt;\n",
              "  background-color: #282828;\n",
              "  color: #f1f1f1;\n",
              "}\n",
              "#T_a581e_row15_col10 {\n",
              "  font-size: 6pt;\n",
              "  background-color: #f9f9f9;\n",
              "  color: #000000;\n",
              "}\n",
              "#T_a581e_row15_col16 {\n",
              "  font-size: 6pt;\n",
              "  background-color: #bfbfbf;\n",
              "  color: #000000;\n",
              "}\n",
              "#T_a581e_row15_col19 {\n",
              "  font-size: 6pt;\n",
              "  background-color: #9d9d9d;\n",
              "  color: #f1f1f1;\n",
              "}\n",
              "#T_a581e_row16_col9 {\n",
              "  font-size: 6pt;\n",
              "  background-color: #e0e0e0;\n",
              "  color: #000000;\n",
              "}\n",
              "#T_a581e_row16_col10 {\n",
              "  font-size: 6pt;\n",
              "  background-color: #656565;\n",
              "  color: #f1f1f1;\n",
              "}\n",
              "#T_a581e_row16_col11, #T_a581e_row17_col10, #T_a581e_row21_col10, #T_a581e_row21_col11 {\n",
              "  font-size: 6pt;\n",
              "  background-color: #010101;\n",
              "  color: #f1f1f1;\n",
              "}\n",
              "#T_a581e_row16_col16 {\n",
              "  font-size: 6pt;\n",
              "  background-color: #171717;\n",
              "  color: #f1f1f1;\n",
              "}\n",
              "#T_a581e_row16_col18 {\n",
              "  font-size: 6pt;\n",
              "  background-color: #232323;\n",
              "  color: #f1f1f1;\n",
              "}\n",
              "#T_a581e_row17_col9 {\n",
              "  font-size: 6pt;\n",
              "  background-color: #505050;\n",
              "  color: #f1f1f1;\n",
              "}\n",
              "#T_a581e_row17_col11, #T_a581e_row18_col20 {\n",
              "  font-size: 6pt;\n",
              "  background-color: #515151;\n",
              "  color: #f1f1f1;\n",
              "}\n",
              "#T_a581e_row17_col12 {\n",
              "  font-size: 6pt;\n",
              "  background-color: #cecece;\n",
              "  color: #000000;\n",
              "}\n",
              "#T_a581e_row17_col13 {\n",
              "  font-size: 6pt;\n",
              "  background-color: #ececec;\n",
              "  color: #000000;\n",
              "}\n",
              "#T_a581e_row17_col18 {\n",
              "  font-size: 6pt;\n",
              "  background-color: #464646;\n",
              "  color: #f1f1f1;\n",
              "}\n",
              "#T_a581e_row17_col19 {\n",
              "  font-size: 6pt;\n",
              "  background-color: #dcdcdc;\n",
              "  color: #000000;\n",
              "}\n",
              "#T_a581e_row18_col8 {\n",
              "  font-size: 6pt;\n",
              "  background-color: #1c1c1c;\n",
              "  color: #f1f1f1;\n",
              "}\n",
              "#T_a581e_row18_col11 {\n",
              "  font-size: 6pt;\n",
              "  background-color: #fafafa;\n",
              "  color: #000000;\n",
              "}\n",
              "#T_a581e_row18_col14 {\n",
              "  font-size: 6pt;\n",
              "  background-color: #8a8a8a;\n",
              "  color: #f1f1f1;\n",
              "}\n",
              "#T_a581e_row18_col19 {\n",
              "  font-size: 6pt;\n",
              "  background-color: #0d0d0d;\n",
              "  color: #f1f1f1;\n",
              "}\n",
              "#T_a581e_row19_col10 {\n",
              "  font-size: 6pt;\n",
              "  background-color: #b2b2b2;\n",
              "  color: #000000;\n",
              "}\n",
              "#T_a581e_row19_col12 {\n",
              "  font-size: 6pt;\n",
              "  background-color: #d1d1d1;\n",
              "  color: #000000;\n",
              "}\n",
              "#T_a581e_row19_col13 {\n",
              "  font-size: 6pt;\n",
              "  background-color: #888888;\n",
              "  color: #f1f1f1;\n",
              "}\n",
              "#T_a581e_row19_col16 {\n",
              "  font-size: 6pt;\n",
              "  background-color: #8e8e8e;\n",
              "  color: #f1f1f1;\n",
              "}\n",
              "#T_a581e_row19_col18 {\n",
              "  font-size: 6pt;\n",
              "  background-color: #949494;\n",
              "  color: #f1f1f1;\n",
              "}\n",
              "#T_a581e_row19_col19 {\n",
              "  font-size: 6pt;\n",
              "  background-color: #7e7e7e;\n",
              "  color: #f1f1f1;\n",
              "}\n",
              "#T_a581e_row20_col10 {\n",
              "  font-size: 6pt;\n",
              "  background-color: #6e6e6e;\n",
              "  color: #f1f1f1;\n",
              "}\n",
              "#T_a581e_row20_col15 {\n",
              "  font-size: 6pt;\n",
              "  background-color: #8d8d8d;\n",
              "  color: #f1f1f1;\n",
              "}\n",
              "#T_a581e_row21_col8 {\n",
              "  font-size: 6pt;\n",
              "  background-color: #757575;\n",
              "  color: #f1f1f1;\n",
              "}\n",
              "#T_a581e_row21_col14 {\n",
              "  font-size: 6pt;\n",
              "  background-color: #e7e7e7;\n",
              "  color: #000000;\n",
              "}\n",
              "#T_a581e_row21_col15 {\n",
              "  font-size: 6pt;\n",
              "  background-color: #fefefe;\n",
              "  color: #000000;\n",
              "}\n",
              "#T_a581e_row22_col9 {\n",
              "  font-size: 6pt;\n",
              "  background-color: #3c3c3c;\n",
              "  color: #f1f1f1;\n",
              "}\n",
              "#T_a581e_row22_col12 {\n",
              "  font-size: 6pt;\n",
              "  background-color: #838383;\n",
              "  color: #f1f1f1;\n",
              "}\n",
              "</style>\n",
              "<table id=\"T_a581e_\" class=\"dataframe\">\n",
              "  <thead>\n",
              "    <tr>\n",
              "      <th class=\"blank level0\" >&nbsp;</th>\n",
              "      <th class=\"col_heading level0 col0\" >0</th>\n",
              "      <th class=\"col_heading level0 col1\" >1</th>\n",
              "      <th class=\"col_heading level0 col2\" >2</th>\n",
              "      <th class=\"col_heading level0 col3\" >3</th>\n",
              "      <th class=\"col_heading level0 col4\" >4</th>\n",
              "      <th class=\"col_heading level0 col5\" >5</th>\n",
              "      <th class=\"col_heading level0 col6\" >6</th>\n",
              "      <th class=\"col_heading level0 col7\" >7</th>\n",
              "      <th class=\"col_heading level0 col8\" >8</th>\n",
              "      <th class=\"col_heading level0 col9\" >9</th>\n",
              "      <th class=\"col_heading level0 col10\" >10</th>\n",
              "      <th class=\"col_heading level0 col11\" >11</th>\n",
              "      <th class=\"col_heading level0 col12\" >12</th>\n",
              "      <th class=\"col_heading level0 col13\" >13</th>\n",
              "      <th class=\"col_heading level0 col14\" >14</th>\n",
              "      <th class=\"col_heading level0 col15\" >15</th>\n",
              "      <th class=\"col_heading level0 col16\" >16</th>\n",
              "      <th class=\"col_heading level0 col17\" >17</th>\n",
              "      <th class=\"col_heading level0 col18\" >18</th>\n",
              "      <th class=\"col_heading level0 col19\" >19</th>\n",
              "      <th class=\"col_heading level0 col20\" >20</th>\n",
              "      <th class=\"col_heading level0 col21\" >21</th>\n",
              "      <th class=\"col_heading level0 col22\" >22</th>\n",
              "      <th class=\"col_heading level0 col23\" >23</th>\n",
              "      <th class=\"col_heading level0 col24\" >24</th>\n",
              "      <th class=\"col_heading level0 col25\" >25</th>\n",
              "      <th class=\"col_heading level0 col26\" >26</th>\n",
              "      <th class=\"col_heading level0 col27\" >27</th>\n",
              "    </tr>\n",
              "  </thead>\n",
              "  <tbody>\n",
              "    <tr>\n",
              "      <th id=\"T_a581e_level0_row0\" class=\"row_heading level0 row0\" >0</th>\n",
              "      <td id=\"T_a581e_row0_col0\" class=\"data row0 col0\" >0</td>\n",
              "      <td id=\"T_a581e_row0_col1\" class=\"data row0 col1\" >0</td>\n",
              "      <td id=\"T_a581e_row0_col2\" class=\"data row0 col2\" >0</td>\n",
              "      <td id=\"T_a581e_row0_col3\" class=\"data row0 col3\" >0</td>\n",
              "      <td id=\"T_a581e_row0_col4\" class=\"data row0 col4\" >0</td>\n",
              "      <td id=\"T_a581e_row0_col5\" class=\"data row0 col5\" >0</td>\n",
              "      <td id=\"T_a581e_row0_col6\" class=\"data row0 col6\" >0</td>\n",
              "      <td id=\"T_a581e_row0_col7\" class=\"data row0 col7\" >0</td>\n",
              "      <td id=\"T_a581e_row0_col8\" class=\"data row0 col8\" >0</td>\n",
              "      <td id=\"T_a581e_row0_col9\" class=\"data row0 col9\" >0</td>\n",
              "      <td id=\"T_a581e_row0_col10\" class=\"data row0 col10\" >0</td>\n",
              "      <td id=\"T_a581e_row0_col11\" class=\"data row0 col11\" >0</td>\n",
              "      <td id=\"T_a581e_row0_col12\" class=\"data row0 col12\" >0</td>\n",
              "      <td id=\"T_a581e_row0_col13\" class=\"data row0 col13\" >0</td>\n",
              "      <td id=\"T_a581e_row0_col14\" class=\"data row0 col14\" >0</td>\n",
              "      <td id=\"T_a581e_row0_col15\" class=\"data row0 col15\" >0</td>\n",
              "      <td id=\"T_a581e_row0_col16\" class=\"data row0 col16\" >0</td>\n",
              "      <td id=\"T_a581e_row0_col17\" class=\"data row0 col17\" >0</td>\n",
              "      <td id=\"T_a581e_row0_col18\" class=\"data row0 col18\" >0</td>\n",
              "      <td id=\"T_a581e_row0_col19\" class=\"data row0 col19\" >0</td>\n",
              "      <td id=\"T_a581e_row0_col20\" class=\"data row0 col20\" >0</td>\n",
              "      <td id=\"T_a581e_row0_col21\" class=\"data row0 col21\" >0</td>\n",
              "      <td id=\"T_a581e_row0_col22\" class=\"data row0 col22\" >0</td>\n",
              "      <td id=\"T_a581e_row0_col23\" class=\"data row0 col23\" >0</td>\n",
              "      <td id=\"T_a581e_row0_col24\" class=\"data row0 col24\" >0</td>\n",
              "      <td id=\"T_a581e_row0_col25\" class=\"data row0 col25\" >0</td>\n",
              "      <td id=\"T_a581e_row0_col26\" class=\"data row0 col26\" >0</td>\n",
              "      <td id=\"T_a581e_row0_col27\" class=\"data row0 col27\" >0</td>\n",
              "    </tr>\n",
              "    <tr>\n",
              "      <th id=\"T_a581e_level0_row1\" class=\"row_heading level0 row1\" >1</th>\n",
              "      <td id=\"T_a581e_row1_col0\" class=\"data row1 col0\" >0</td>\n",
              "      <td id=\"T_a581e_row1_col1\" class=\"data row1 col1\" >0</td>\n",
              "      <td id=\"T_a581e_row1_col2\" class=\"data row1 col2\" >0</td>\n",
              "      <td id=\"T_a581e_row1_col3\" class=\"data row1 col3\" >0</td>\n",
              "      <td id=\"T_a581e_row1_col4\" class=\"data row1 col4\" >0</td>\n",
              "      <td id=\"T_a581e_row1_col5\" class=\"data row1 col5\" >0</td>\n",
              "      <td id=\"T_a581e_row1_col6\" class=\"data row1 col6\" >0</td>\n",
              "      <td id=\"T_a581e_row1_col7\" class=\"data row1 col7\" >0</td>\n",
              "      <td id=\"T_a581e_row1_col8\" class=\"data row1 col8\" >0</td>\n",
              "      <td id=\"T_a581e_row1_col9\" class=\"data row1 col9\" >0</td>\n",
              "      <td id=\"T_a581e_row1_col10\" class=\"data row1 col10\" >0</td>\n",
              "      <td id=\"T_a581e_row1_col11\" class=\"data row1 col11\" >0</td>\n",
              "      <td id=\"T_a581e_row1_col12\" class=\"data row1 col12\" >0</td>\n",
              "      <td id=\"T_a581e_row1_col13\" class=\"data row1 col13\" >0</td>\n",
              "      <td id=\"T_a581e_row1_col14\" class=\"data row1 col14\" >0</td>\n",
              "      <td id=\"T_a581e_row1_col15\" class=\"data row1 col15\" >0</td>\n",
              "      <td id=\"T_a581e_row1_col16\" class=\"data row1 col16\" >0</td>\n",
              "      <td id=\"T_a581e_row1_col17\" class=\"data row1 col17\" >0</td>\n",
              "      <td id=\"T_a581e_row1_col18\" class=\"data row1 col18\" >0</td>\n",
              "      <td id=\"T_a581e_row1_col19\" class=\"data row1 col19\" >0</td>\n",
              "      <td id=\"T_a581e_row1_col20\" class=\"data row1 col20\" >0</td>\n",
              "      <td id=\"T_a581e_row1_col21\" class=\"data row1 col21\" >0</td>\n",
              "      <td id=\"T_a581e_row1_col22\" class=\"data row1 col22\" >0</td>\n",
              "      <td id=\"T_a581e_row1_col23\" class=\"data row1 col23\" >0</td>\n",
              "      <td id=\"T_a581e_row1_col24\" class=\"data row1 col24\" >0</td>\n",
              "      <td id=\"T_a581e_row1_col25\" class=\"data row1 col25\" >0</td>\n",
              "      <td id=\"T_a581e_row1_col26\" class=\"data row1 col26\" >0</td>\n",
              "      <td id=\"T_a581e_row1_col27\" class=\"data row1 col27\" >0</td>\n",
              "    </tr>\n",
              "    <tr>\n",
              "      <th id=\"T_a581e_level0_row2\" class=\"row_heading level0 row2\" >2</th>\n",
              "      <td id=\"T_a581e_row2_col0\" class=\"data row2 col0\" >0</td>\n",
              "      <td id=\"T_a581e_row2_col1\" class=\"data row2 col1\" >0</td>\n",
              "      <td id=\"T_a581e_row2_col2\" class=\"data row2 col2\" >0</td>\n",
              "      <td id=\"T_a581e_row2_col3\" class=\"data row2 col3\" >0</td>\n",
              "      <td id=\"T_a581e_row2_col4\" class=\"data row2 col4\" >0</td>\n",
              "      <td id=\"T_a581e_row2_col5\" class=\"data row2 col5\" >0</td>\n",
              "      <td id=\"T_a581e_row2_col6\" class=\"data row2 col6\" >0</td>\n",
              "      <td id=\"T_a581e_row2_col7\" class=\"data row2 col7\" >0</td>\n",
              "      <td id=\"T_a581e_row2_col8\" class=\"data row2 col8\" >0</td>\n",
              "      <td id=\"T_a581e_row2_col9\" class=\"data row2 col9\" >0</td>\n",
              "      <td id=\"T_a581e_row2_col10\" class=\"data row2 col10\" >0</td>\n",
              "      <td id=\"T_a581e_row2_col11\" class=\"data row2 col11\" >0</td>\n",
              "      <td id=\"T_a581e_row2_col12\" class=\"data row2 col12\" >0</td>\n",
              "      <td id=\"T_a581e_row2_col13\" class=\"data row2 col13\" >0</td>\n",
              "      <td id=\"T_a581e_row2_col14\" class=\"data row2 col14\" >0</td>\n",
              "      <td id=\"T_a581e_row2_col15\" class=\"data row2 col15\" >0</td>\n",
              "      <td id=\"T_a581e_row2_col16\" class=\"data row2 col16\" >0</td>\n",
              "      <td id=\"T_a581e_row2_col17\" class=\"data row2 col17\" >0</td>\n",
              "      <td id=\"T_a581e_row2_col18\" class=\"data row2 col18\" >0</td>\n",
              "      <td id=\"T_a581e_row2_col19\" class=\"data row2 col19\" >0</td>\n",
              "      <td id=\"T_a581e_row2_col20\" class=\"data row2 col20\" >0</td>\n",
              "      <td id=\"T_a581e_row2_col21\" class=\"data row2 col21\" >0</td>\n",
              "      <td id=\"T_a581e_row2_col22\" class=\"data row2 col22\" >0</td>\n",
              "      <td id=\"T_a581e_row2_col23\" class=\"data row2 col23\" >0</td>\n",
              "      <td id=\"T_a581e_row2_col24\" class=\"data row2 col24\" >0</td>\n",
              "      <td id=\"T_a581e_row2_col25\" class=\"data row2 col25\" >0</td>\n",
              "      <td id=\"T_a581e_row2_col26\" class=\"data row2 col26\" >0</td>\n",
              "      <td id=\"T_a581e_row2_col27\" class=\"data row2 col27\" >0</td>\n",
              "    </tr>\n",
              "    <tr>\n",
              "      <th id=\"T_a581e_level0_row3\" class=\"row_heading level0 row3\" >3</th>\n",
              "      <td id=\"T_a581e_row3_col0\" class=\"data row3 col0\" >0</td>\n",
              "      <td id=\"T_a581e_row3_col1\" class=\"data row3 col1\" >0</td>\n",
              "      <td id=\"T_a581e_row3_col2\" class=\"data row3 col2\" >0</td>\n",
              "      <td id=\"T_a581e_row3_col3\" class=\"data row3 col3\" >0</td>\n",
              "      <td id=\"T_a581e_row3_col4\" class=\"data row3 col4\" >0</td>\n",
              "      <td id=\"T_a581e_row3_col5\" class=\"data row3 col5\" >0</td>\n",
              "      <td id=\"T_a581e_row3_col6\" class=\"data row3 col6\" >0</td>\n",
              "      <td id=\"T_a581e_row3_col7\" class=\"data row3 col7\" >0</td>\n",
              "      <td id=\"T_a581e_row3_col8\" class=\"data row3 col8\" >0</td>\n",
              "      <td id=\"T_a581e_row3_col9\" class=\"data row3 col9\" >81</td>\n",
              "      <td id=\"T_a581e_row3_col10\" class=\"data row3 col10\" >131</td>\n",
              "      <td id=\"T_a581e_row3_col11\" class=\"data row3 col11\" >152</td>\n",
              "      <td id=\"T_a581e_row3_col12\" class=\"data row3 col12\" >194</td>\n",
              "      <td id=\"T_a581e_row3_col13\" class=\"data row3 col13\" >194</td>\n",
              "      <td id=\"T_a581e_row3_col14\" class=\"data row3 col14\" >225</td>\n",
              "      <td id=\"T_a581e_row3_col15\" class=\"data row3 col15\" >98</td>\n",
              "      <td id=\"T_a581e_row3_col16\" class=\"data row3 col16\" >5</td>\n",
              "      <td id=\"T_a581e_row3_col17\" class=\"data row3 col17\" >0</td>\n",
              "      <td id=\"T_a581e_row3_col18\" class=\"data row3 col18\" >0</td>\n",
              "      <td id=\"T_a581e_row3_col19\" class=\"data row3 col19\" >0</td>\n",
              "      <td id=\"T_a581e_row3_col20\" class=\"data row3 col20\" >0</td>\n",
              "      <td id=\"T_a581e_row3_col21\" class=\"data row3 col21\" >0</td>\n",
              "      <td id=\"T_a581e_row3_col22\" class=\"data row3 col22\" >0</td>\n",
              "      <td id=\"T_a581e_row3_col23\" class=\"data row3 col23\" >0</td>\n",
              "      <td id=\"T_a581e_row3_col24\" class=\"data row3 col24\" >0</td>\n",
              "      <td id=\"T_a581e_row3_col25\" class=\"data row3 col25\" >0</td>\n",
              "      <td id=\"T_a581e_row3_col26\" class=\"data row3 col26\" >0</td>\n",
              "      <td id=\"T_a581e_row3_col27\" class=\"data row3 col27\" >0</td>\n",
              "    </tr>\n",
              "    <tr>\n",
              "      <th id=\"T_a581e_level0_row4\" class=\"row_heading level0 row4\" >4</th>\n",
              "      <td id=\"T_a581e_row4_col0\" class=\"data row4 col0\" >0</td>\n",
              "      <td id=\"T_a581e_row4_col1\" class=\"data row4 col1\" >0</td>\n",
              "      <td id=\"T_a581e_row4_col2\" class=\"data row4 col2\" >0</td>\n",
              "      <td id=\"T_a581e_row4_col3\" class=\"data row4 col3\" >0</td>\n",
              "      <td id=\"T_a581e_row4_col4\" class=\"data row4 col4\" >0</td>\n",
              "      <td id=\"T_a581e_row4_col5\" class=\"data row4 col5\" >0</td>\n",
              "      <td id=\"T_a581e_row4_col6\" class=\"data row4 col6\" >0</td>\n",
              "      <td id=\"T_a581e_row4_col7\" class=\"data row4 col7\" >0</td>\n",
              "      <td id=\"T_a581e_row4_col8\" class=\"data row4 col8\" >14</td>\n",
              "      <td id=\"T_a581e_row4_col9\" class=\"data row4 col9\" >209</td>\n",
              "      <td id=\"T_a581e_row4_col10\" class=\"data row4 col10\" >253</td>\n",
              "      <td id=\"T_a581e_row4_col11\" class=\"data row4 col11\" >242</td>\n",
              "      <td id=\"T_a581e_row4_col12\" class=\"data row4 col12\" >242</td>\n",
              "      <td id=\"T_a581e_row4_col13\" class=\"data row4 col13\" >242</td>\n",
              "      <td id=\"T_a581e_row4_col14\" class=\"data row4 col14\" >251</td>\n",
              "      <td id=\"T_a581e_row4_col15\" class=\"data row4 col15\" >254</td>\n",
              "      <td id=\"T_a581e_row4_col16\" class=\"data row4 col16\" >183</td>\n",
              "      <td id=\"T_a581e_row4_col17\" class=\"data row4 col17\" >9</td>\n",
              "      <td id=\"T_a581e_row4_col18\" class=\"data row4 col18\" >0</td>\n",
              "      <td id=\"T_a581e_row4_col19\" class=\"data row4 col19\" >0</td>\n",
              "      <td id=\"T_a581e_row4_col20\" class=\"data row4 col20\" >0</td>\n",
              "      <td id=\"T_a581e_row4_col21\" class=\"data row4 col21\" >0</td>\n",
              "      <td id=\"T_a581e_row4_col22\" class=\"data row4 col22\" >0</td>\n",
              "      <td id=\"T_a581e_row4_col23\" class=\"data row4 col23\" >0</td>\n",
              "      <td id=\"T_a581e_row4_col24\" class=\"data row4 col24\" >0</td>\n",
              "      <td id=\"T_a581e_row4_col25\" class=\"data row4 col25\" >0</td>\n",
              "      <td id=\"T_a581e_row4_col26\" class=\"data row4 col26\" >0</td>\n",
              "      <td id=\"T_a581e_row4_col27\" class=\"data row4 col27\" >0</td>\n",
              "    </tr>\n",
              "    <tr>\n",
              "      <th id=\"T_a581e_level0_row5\" class=\"row_heading level0 row5\" >5</th>\n",
              "      <td id=\"T_a581e_row5_col0\" class=\"data row5 col0\" >0</td>\n",
              "      <td id=\"T_a581e_row5_col1\" class=\"data row5 col1\" >0</td>\n",
              "      <td id=\"T_a581e_row5_col2\" class=\"data row5 col2\" >0</td>\n",
              "      <td id=\"T_a581e_row5_col3\" class=\"data row5 col3\" >0</td>\n",
              "      <td id=\"T_a581e_row5_col4\" class=\"data row5 col4\" >0</td>\n",
              "      <td id=\"T_a581e_row5_col5\" class=\"data row5 col5\" >0</td>\n",
              "      <td id=\"T_a581e_row5_col6\" class=\"data row5 col6\" >0</td>\n",
              "      <td id=\"T_a581e_row5_col7\" class=\"data row5 col7\" >0</td>\n",
              "      <td id=\"T_a581e_row5_col8\" class=\"data row5 col8\" >25</td>\n",
              "      <td id=\"T_a581e_row5_col9\" class=\"data row5 col9\" >228</td>\n",
              "      <td id=\"T_a581e_row5_col10\" class=\"data row5 col10\" >95</td>\n",
              "      <td id=\"T_a581e_row5_col11\" class=\"data row5 col11\" >0</td>\n",
              "      <td id=\"T_a581e_row5_col12\" class=\"data row5 col12\" >0</td>\n",
              "      <td id=\"T_a581e_row5_col13\" class=\"data row5 col13\" >0</td>\n",
              "      <td id=\"T_a581e_row5_col14\" class=\"data row5 col14\" >113</td>\n",
              "      <td id=\"T_a581e_row5_col15\" class=\"data row5 col15\" >250</td>\n",
              "      <td id=\"T_a581e_row5_col16\" class=\"data row5 col16\" >254</td>\n",
              "      <td id=\"T_a581e_row5_col17\" class=\"data row5 col17\" >219</td>\n",
              "      <td id=\"T_a581e_row5_col18\" class=\"data row5 col18\" >24</td>\n",
              "      <td id=\"T_a581e_row5_col19\" class=\"data row5 col19\" >0</td>\n",
              "      <td id=\"T_a581e_row5_col20\" class=\"data row5 col20\" >0</td>\n",
              "      <td id=\"T_a581e_row5_col21\" class=\"data row5 col21\" >0</td>\n",
              "      <td id=\"T_a581e_row5_col22\" class=\"data row5 col22\" >0</td>\n",
              "      <td id=\"T_a581e_row5_col23\" class=\"data row5 col23\" >0</td>\n",
              "      <td id=\"T_a581e_row5_col24\" class=\"data row5 col24\" >0</td>\n",
              "      <td id=\"T_a581e_row5_col25\" class=\"data row5 col25\" >0</td>\n",
              "      <td id=\"T_a581e_row5_col26\" class=\"data row5 col26\" >0</td>\n",
              "      <td id=\"T_a581e_row5_col27\" class=\"data row5 col27\" >0</td>\n",
              "    </tr>\n",
              "    <tr>\n",
              "      <th id=\"T_a581e_level0_row6\" class=\"row_heading level0 row6\" >6</th>\n",
              "      <td id=\"T_a581e_row6_col0\" class=\"data row6 col0\" >0</td>\n",
              "      <td id=\"T_a581e_row6_col1\" class=\"data row6 col1\" >0</td>\n",
              "      <td id=\"T_a581e_row6_col2\" class=\"data row6 col2\" >0</td>\n",
              "      <td id=\"T_a581e_row6_col3\" class=\"data row6 col3\" >0</td>\n",
              "      <td id=\"T_a581e_row6_col4\" class=\"data row6 col4\" >0</td>\n",
              "      <td id=\"T_a581e_row6_col5\" class=\"data row6 col5\" >0</td>\n",
              "      <td id=\"T_a581e_row6_col6\" class=\"data row6 col6\" >0</td>\n",
              "      <td id=\"T_a581e_row6_col7\" class=\"data row6 col7\" >0</td>\n",
              "      <td id=\"T_a581e_row6_col8\" class=\"data row6 col8\" >11</td>\n",
              "      <td id=\"T_a581e_row6_col9\" class=\"data row6 col9\" >41</td>\n",
              "      <td id=\"T_a581e_row6_col10\" class=\"data row6 col10\" >0</td>\n",
              "      <td id=\"T_a581e_row6_col11\" class=\"data row6 col11\" >0</td>\n",
              "      <td id=\"T_a581e_row6_col12\" class=\"data row6 col12\" >0</td>\n",
              "      <td id=\"T_a581e_row6_col13\" class=\"data row6 col13\" >0</td>\n",
              "      <td id=\"T_a581e_row6_col14\" class=\"data row6 col14\" >0</td>\n",
              "      <td id=\"T_a581e_row6_col15\" class=\"data row6 col15\" >80</td>\n",
              "      <td id=\"T_a581e_row6_col16\" class=\"data row6 col16\" >210</td>\n",
              "      <td id=\"T_a581e_row6_col17\" class=\"data row6 col17\" >254</td>\n",
              "      <td id=\"T_a581e_row6_col18\" class=\"data row6 col18\" >167</td>\n",
              "      <td id=\"T_a581e_row6_col19\" class=\"data row6 col19\" >22</td>\n",
              "      <td id=\"T_a581e_row6_col20\" class=\"data row6 col20\" >0</td>\n",
              "      <td id=\"T_a581e_row6_col21\" class=\"data row6 col21\" >0</td>\n",
              "      <td id=\"T_a581e_row6_col22\" class=\"data row6 col22\" >0</td>\n",
              "      <td id=\"T_a581e_row6_col23\" class=\"data row6 col23\" >0</td>\n",
              "      <td id=\"T_a581e_row6_col24\" class=\"data row6 col24\" >0</td>\n",
              "      <td id=\"T_a581e_row6_col25\" class=\"data row6 col25\" >0</td>\n",
              "      <td id=\"T_a581e_row6_col26\" class=\"data row6 col26\" >0</td>\n",
              "      <td id=\"T_a581e_row6_col27\" class=\"data row6 col27\" >0</td>\n",
              "    </tr>\n",
              "    <tr>\n",
              "      <th id=\"T_a581e_level0_row7\" class=\"row_heading level0 row7\" >7</th>\n",
              "      <td id=\"T_a581e_row7_col0\" class=\"data row7 col0\" >0</td>\n",
              "      <td id=\"T_a581e_row7_col1\" class=\"data row7 col1\" >0</td>\n",
              "      <td id=\"T_a581e_row7_col2\" class=\"data row7 col2\" >0</td>\n",
              "      <td id=\"T_a581e_row7_col3\" class=\"data row7 col3\" >0</td>\n",
              "      <td id=\"T_a581e_row7_col4\" class=\"data row7 col4\" >0</td>\n",
              "      <td id=\"T_a581e_row7_col5\" class=\"data row7 col5\" >0</td>\n",
              "      <td id=\"T_a581e_row7_col6\" class=\"data row7 col6\" >0</td>\n",
              "      <td id=\"T_a581e_row7_col7\" class=\"data row7 col7\" >0</td>\n",
              "      <td id=\"T_a581e_row7_col8\" class=\"data row7 col8\" >0</td>\n",
              "      <td id=\"T_a581e_row7_col9\" class=\"data row7 col9\" >0</td>\n",
              "      <td id=\"T_a581e_row7_col10\" class=\"data row7 col10\" >0</td>\n",
              "      <td id=\"T_a581e_row7_col11\" class=\"data row7 col11\" >0</td>\n",
              "      <td id=\"T_a581e_row7_col12\" class=\"data row7 col12\" >0</td>\n",
              "      <td id=\"T_a581e_row7_col13\" class=\"data row7 col13\" >0</td>\n",
              "      <td id=\"T_a581e_row7_col14\" class=\"data row7 col14\" >0</td>\n",
              "      <td id=\"T_a581e_row7_col15\" class=\"data row7 col15\" >0</td>\n",
              "      <td id=\"T_a581e_row7_col16\" class=\"data row7 col16\" >75</td>\n",
              "      <td id=\"T_a581e_row7_col17\" class=\"data row7 col17\" >254</td>\n",
              "      <td id=\"T_a581e_row7_col18\" class=\"data row7 col18\" >254</td>\n",
              "      <td id=\"T_a581e_row7_col19\" class=\"data row7 col19\" >113</td>\n",
              "      <td id=\"T_a581e_row7_col20\" class=\"data row7 col20\" >0</td>\n",
              "      <td id=\"T_a581e_row7_col21\" class=\"data row7 col21\" >0</td>\n",
              "      <td id=\"T_a581e_row7_col22\" class=\"data row7 col22\" >0</td>\n",
              "      <td id=\"T_a581e_row7_col23\" class=\"data row7 col23\" >0</td>\n",
              "      <td id=\"T_a581e_row7_col24\" class=\"data row7 col24\" >0</td>\n",
              "      <td id=\"T_a581e_row7_col25\" class=\"data row7 col25\" >0</td>\n",
              "      <td id=\"T_a581e_row7_col26\" class=\"data row7 col26\" >0</td>\n",
              "      <td id=\"T_a581e_row7_col27\" class=\"data row7 col27\" >0</td>\n",
              "    </tr>\n",
              "    <tr>\n",
              "      <th id=\"T_a581e_level0_row8\" class=\"row_heading level0 row8\" >8</th>\n",
              "      <td id=\"T_a581e_row8_col0\" class=\"data row8 col0\" >0</td>\n",
              "      <td id=\"T_a581e_row8_col1\" class=\"data row8 col1\" >0</td>\n",
              "      <td id=\"T_a581e_row8_col2\" class=\"data row8 col2\" >0</td>\n",
              "      <td id=\"T_a581e_row8_col3\" class=\"data row8 col3\" >0</td>\n",
              "      <td id=\"T_a581e_row8_col4\" class=\"data row8 col4\" >0</td>\n",
              "      <td id=\"T_a581e_row8_col5\" class=\"data row8 col5\" >0</td>\n",
              "      <td id=\"T_a581e_row8_col6\" class=\"data row8 col6\" >0</td>\n",
              "      <td id=\"T_a581e_row8_col7\" class=\"data row8 col7\" >0</td>\n",
              "      <td id=\"T_a581e_row8_col8\" class=\"data row8 col8\" >0</td>\n",
              "      <td id=\"T_a581e_row8_col9\" class=\"data row8 col9\" >0</td>\n",
              "      <td id=\"T_a581e_row8_col10\" class=\"data row8 col10\" >0</td>\n",
              "      <td id=\"T_a581e_row8_col11\" class=\"data row8 col11\" >0</td>\n",
              "      <td id=\"T_a581e_row8_col12\" class=\"data row8 col12\" >0</td>\n",
              "      <td id=\"T_a581e_row8_col13\" class=\"data row8 col13\" >0</td>\n",
              "      <td id=\"T_a581e_row8_col14\" class=\"data row8 col14\" >0</td>\n",
              "      <td id=\"T_a581e_row8_col15\" class=\"data row8 col15\" >0</td>\n",
              "      <td id=\"T_a581e_row8_col16\" class=\"data row8 col16\" >28</td>\n",
              "      <td id=\"T_a581e_row8_col17\" class=\"data row8 col17\" >223</td>\n",
              "      <td id=\"T_a581e_row8_col18\" class=\"data row8 col18\" >254</td>\n",
              "      <td id=\"T_a581e_row8_col19\" class=\"data row8 col19\" >161</td>\n",
              "      <td id=\"T_a581e_row8_col20\" class=\"data row8 col20\" >0</td>\n",
              "      <td id=\"T_a581e_row8_col21\" class=\"data row8 col21\" >0</td>\n",
              "      <td id=\"T_a581e_row8_col22\" class=\"data row8 col22\" >0</td>\n",
              "      <td id=\"T_a581e_row8_col23\" class=\"data row8 col23\" >0</td>\n",
              "      <td id=\"T_a581e_row8_col24\" class=\"data row8 col24\" >0</td>\n",
              "      <td id=\"T_a581e_row8_col25\" class=\"data row8 col25\" >0</td>\n",
              "      <td id=\"T_a581e_row8_col26\" class=\"data row8 col26\" >0</td>\n",
              "      <td id=\"T_a581e_row8_col27\" class=\"data row8 col27\" >0</td>\n",
              "    </tr>\n",
              "    <tr>\n",
              "      <th id=\"T_a581e_level0_row9\" class=\"row_heading level0 row9\" >9</th>\n",
              "      <td id=\"T_a581e_row9_col0\" class=\"data row9 col0\" >0</td>\n",
              "      <td id=\"T_a581e_row9_col1\" class=\"data row9 col1\" >0</td>\n",
              "      <td id=\"T_a581e_row9_col2\" class=\"data row9 col2\" >0</td>\n",
              "      <td id=\"T_a581e_row9_col3\" class=\"data row9 col3\" >0</td>\n",
              "      <td id=\"T_a581e_row9_col4\" class=\"data row9 col4\" >0</td>\n",
              "      <td id=\"T_a581e_row9_col5\" class=\"data row9 col5\" >0</td>\n",
              "      <td id=\"T_a581e_row9_col6\" class=\"data row9 col6\" >0</td>\n",
              "      <td id=\"T_a581e_row9_col7\" class=\"data row9 col7\" >0</td>\n",
              "      <td id=\"T_a581e_row9_col8\" class=\"data row9 col8\" >0</td>\n",
              "      <td id=\"T_a581e_row9_col9\" class=\"data row9 col9\" >0</td>\n",
              "      <td id=\"T_a581e_row9_col10\" class=\"data row9 col10\" >0</td>\n",
              "      <td id=\"T_a581e_row9_col11\" class=\"data row9 col11\" >0</td>\n",
              "      <td id=\"T_a581e_row9_col12\" class=\"data row9 col12\" >0</td>\n",
              "      <td id=\"T_a581e_row9_col13\" class=\"data row9 col13\" >0</td>\n",
              "      <td id=\"T_a581e_row9_col14\" class=\"data row9 col14\" >0</td>\n",
              "      <td id=\"T_a581e_row9_col15\" class=\"data row9 col15\" >0</td>\n",
              "      <td id=\"T_a581e_row9_col16\" class=\"data row9 col16\" >0</td>\n",
              "      <td id=\"T_a581e_row9_col17\" class=\"data row9 col17\" >124</td>\n",
              "      <td id=\"T_a581e_row9_col18\" class=\"data row9 col18\" >254</td>\n",
              "      <td id=\"T_a581e_row9_col19\" class=\"data row9 col19\" >223</td>\n",
              "      <td id=\"T_a581e_row9_col20\" class=\"data row9 col20\" >20</td>\n",
              "      <td id=\"T_a581e_row9_col21\" class=\"data row9 col21\" >0</td>\n",
              "      <td id=\"T_a581e_row9_col22\" class=\"data row9 col22\" >0</td>\n",
              "      <td id=\"T_a581e_row9_col23\" class=\"data row9 col23\" >0</td>\n",
              "      <td id=\"T_a581e_row9_col24\" class=\"data row9 col24\" >0</td>\n",
              "      <td id=\"T_a581e_row9_col25\" class=\"data row9 col25\" >0</td>\n",
              "      <td id=\"T_a581e_row9_col26\" class=\"data row9 col26\" >0</td>\n",
              "      <td id=\"T_a581e_row9_col27\" class=\"data row9 col27\" >0</td>\n",
              "    </tr>\n",
              "    <tr>\n",
              "      <th id=\"T_a581e_level0_row10\" class=\"row_heading level0 row10\" >10</th>\n",
              "      <td id=\"T_a581e_row10_col0\" class=\"data row10 col0\" >0</td>\n",
              "      <td id=\"T_a581e_row10_col1\" class=\"data row10 col1\" >0</td>\n",
              "      <td id=\"T_a581e_row10_col2\" class=\"data row10 col2\" >0</td>\n",
              "      <td id=\"T_a581e_row10_col3\" class=\"data row10 col3\" >0</td>\n",
              "      <td id=\"T_a581e_row10_col4\" class=\"data row10 col4\" >0</td>\n",
              "      <td id=\"T_a581e_row10_col5\" class=\"data row10 col5\" >0</td>\n",
              "      <td id=\"T_a581e_row10_col6\" class=\"data row10 col6\" >0</td>\n",
              "      <td id=\"T_a581e_row10_col7\" class=\"data row10 col7\" >0</td>\n",
              "      <td id=\"T_a581e_row10_col8\" class=\"data row10 col8\" >0</td>\n",
              "      <td id=\"T_a581e_row10_col9\" class=\"data row10 col9\" >0</td>\n",
              "      <td id=\"T_a581e_row10_col10\" class=\"data row10 col10\" >0</td>\n",
              "      <td id=\"T_a581e_row10_col11\" class=\"data row10 col11\" >0</td>\n",
              "      <td id=\"T_a581e_row10_col12\" class=\"data row10 col12\" >0</td>\n",
              "      <td id=\"T_a581e_row10_col13\" class=\"data row10 col13\" >0</td>\n",
              "      <td id=\"T_a581e_row10_col14\" class=\"data row10 col14\" >0</td>\n",
              "      <td id=\"T_a581e_row10_col15\" class=\"data row10 col15\" >0</td>\n",
              "      <td id=\"T_a581e_row10_col16\" class=\"data row10 col16\" >0</td>\n",
              "      <td id=\"T_a581e_row10_col17\" class=\"data row10 col17\" >82</td>\n",
              "      <td id=\"T_a581e_row10_col18\" class=\"data row10 col18\" >254</td>\n",
              "      <td id=\"T_a581e_row10_col19\" class=\"data row10 col19\" >254</td>\n",
              "      <td id=\"T_a581e_row10_col20\" class=\"data row10 col20\" >30</td>\n",
              "      <td id=\"T_a581e_row10_col21\" class=\"data row10 col21\" >0</td>\n",
              "      <td id=\"T_a581e_row10_col22\" class=\"data row10 col22\" >0</td>\n",
              "      <td id=\"T_a581e_row10_col23\" class=\"data row10 col23\" >0</td>\n",
              "      <td id=\"T_a581e_row10_col24\" class=\"data row10 col24\" >0</td>\n",
              "      <td id=\"T_a581e_row10_col25\" class=\"data row10 col25\" >0</td>\n",
              "      <td id=\"T_a581e_row10_col26\" class=\"data row10 col26\" >0</td>\n",
              "      <td id=\"T_a581e_row10_col27\" class=\"data row10 col27\" >0</td>\n",
              "    </tr>\n",
              "    <tr>\n",
              "      <th id=\"T_a581e_level0_row11\" class=\"row_heading level0 row11\" >11</th>\n",
              "      <td id=\"T_a581e_row11_col0\" class=\"data row11 col0\" >0</td>\n",
              "      <td id=\"T_a581e_row11_col1\" class=\"data row11 col1\" >0</td>\n",
              "      <td id=\"T_a581e_row11_col2\" class=\"data row11 col2\" >0</td>\n",
              "      <td id=\"T_a581e_row11_col3\" class=\"data row11 col3\" >0</td>\n",
              "      <td id=\"T_a581e_row11_col4\" class=\"data row11 col4\" >0</td>\n",
              "      <td id=\"T_a581e_row11_col5\" class=\"data row11 col5\" >0</td>\n",
              "      <td id=\"T_a581e_row11_col6\" class=\"data row11 col6\" >0</td>\n",
              "      <td id=\"T_a581e_row11_col7\" class=\"data row11 col7\" >0</td>\n",
              "      <td id=\"T_a581e_row11_col8\" class=\"data row11 col8\" >0</td>\n",
              "      <td id=\"T_a581e_row11_col9\" class=\"data row11 col9\" >0</td>\n",
              "      <td id=\"T_a581e_row11_col10\" class=\"data row11 col10\" >0</td>\n",
              "      <td id=\"T_a581e_row11_col11\" class=\"data row11 col11\" >0</td>\n",
              "      <td id=\"T_a581e_row11_col12\" class=\"data row11 col12\" >0</td>\n",
              "      <td id=\"T_a581e_row11_col13\" class=\"data row11 col13\" >0</td>\n",
              "      <td id=\"T_a581e_row11_col14\" class=\"data row11 col14\" >0</td>\n",
              "      <td id=\"T_a581e_row11_col15\" class=\"data row11 col15\" >0</td>\n",
              "      <td id=\"T_a581e_row11_col16\" class=\"data row11 col16\" >0</td>\n",
              "      <td id=\"T_a581e_row11_col17\" class=\"data row11 col17\" >82</td>\n",
              "      <td id=\"T_a581e_row11_col18\" class=\"data row11 col18\" >254</td>\n",
              "      <td id=\"T_a581e_row11_col19\" class=\"data row11 col19\" >254</td>\n",
              "      <td id=\"T_a581e_row11_col20\" class=\"data row11 col20\" >30</td>\n",
              "      <td id=\"T_a581e_row11_col21\" class=\"data row11 col21\" >0</td>\n",
              "      <td id=\"T_a581e_row11_col22\" class=\"data row11 col22\" >0</td>\n",
              "      <td id=\"T_a581e_row11_col23\" class=\"data row11 col23\" >0</td>\n",
              "      <td id=\"T_a581e_row11_col24\" class=\"data row11 col24\" >0</td>\n",
              "      <td id=\"T_a581e_row11_col25\" class=\"data row11 col25\" >0</td>\n",
              "      <td id=\"T_a581e_row11_col26\" class=\"data row11 col26\" >0</td>\n",
              "      <td id=\"T_a581e_row11_col27\" class=\"data row11 col27\" >0</td>\n",
              "    </tr>\n",
              "    <tr>\n",
              "      <th id=\"T_a581e_level0_row12\" class=\"row_heading level0 row12\" >12</th>\n",
              "      <td id=\"T_a581e_row12_col0\" class=\"data row12 col0\" >0</td>\n",
              "      <td id=\"T_a581e_row12_col1\" class=\"data row12 col1\" >0</td>\n",
              "      <td id=\"T_a581e_row12_col2\" class=\"data row12 col2\" >0</td>\n",
              "      <td id=\"T_a581e_row12_col3\" class=\"data row12 col3\" >0</td>\n",
              "      <td id=\"T_a581e_row12_col4\" class=\"data row12 col4\" >0</td>\n",
              "      <td id=\"T_a581e_row12_col5\" class=\"data row12 col5\" >0</td>\n",
              "      <td id=\"T_a581e_row12_col6\" class=\"data row12 col6\" >0</td>\n",
              "      <td id=\"T_a581e_row12_col7\" class=\"data row12 col7\" >0</td>\n",
              "      <td id=\"T_a581e_row12_col8\" class=\"data row12 col8\" >0</td>\n",
              "      <td id=\"T_a581e_row12_col9\" class=\"data row12 col9\" >0</td>\n",
              "      <td id=\"T_a581e_row12_col10\" class=\"data row12 col10\" >0</td>\n",
              "      <td id=\"T_a581e_row12_col11\" class=\"data row12 col11\" >0</td>\n",
              "      <td id=\"T_a581e_row12_col12\" class=\"data row12 col12\" >0</td>\n",
              "      <td id=\"T_a581e_row12_col13\" class=\"data row12 col13\" >0</td>\n",
              "      <td id=\"T_a581e_row12_col14\" class=\"data row12 col14\" >0</td>\n",
              "      <td id=\"T_a581e_row12_col15\" class=\"data row12 col15\" >0</td>\n",
              "      <td id=\"T_a581e_row12_col16\" class=\"data row12 col16\" >0</td>\n",
              "      <td id=\"T_a581e_row12_col17\" class=\"data row12 col17\" >82</td>\n",
              "      <td id=\"T_a581e_row12_col18\" class=\"data row12 col18\" >254</td>\n",
              "      <td id=\"T_a581e_row12_col19\" class=\"data row12 col19\" >254</td>\n",
              "      <td id=\"T_a581e_row12_col20\" class=\"data row12 col20\" >30</td>\n",
              "      <td id=\"T_a581e_row12_col21\" class=\"data row12 col21\" >0</td>\n",
              "      <td id=\"T_a581e_row12_col22\" class=\"data row12 col22\" >0</td>\n",
              "      <td id=\"T_a581e_row12_col23\" class=\"data row12 col23\" >0</td>\n",
              "      <td id=\"T_a581e_row12_col24\" class=\"data row12 col24\" >0</td>\n",
              "      <td id=\"T_a581e_row12_col25\" class=\"data row12 col25\" >0</td>\n",
              "      <td id=\"T_a581e_row12_col26\" class=\"data row12 col26\" >0</td>\n",
              "      <td id=\"T_a581e_row12_col27\" class=\"data row12 col27\" >0</td>\n",
              "    </tr>\n",
              "    <tr>\n",
              "      <th id=\"T_a581e_level0_row13\" class=\"row_heading level0 row13\" >13</th>\n",
              "      <td id=\"T_a581e_row13_col0\" class=\"data row13 col0\" >0</td>\n",
              "      <td id=\"T_a581e_row13_col1\" class=\"data row13 col1\" >0</td>\n",
              "      <td id=\"T_a581e_row13_col2\" class=\"data row13 col2\" >0</td>\n",
              "      <td id=\"T_a581e_row13_col3\" class=\"data row13 col3\" >0</td>\n",
              "      <td id=\"T_a581e_row13_col4\" class=\"data row13 col4\" >0</td>\n",
              "      <td id=\"T_a581e_row13_col5\" class=\"data row13 col5\" >0</td>\n",
              "      <td id=\"T_a581e_row13_col6\" class=\"data row13 col6\" >0</td>\n",
              "      <td id=\"T_a581e_row13_col7\" class=\"data row13 col7\" >0</td>\n",
              "      <td id=\"T_a581e_row13_col8\" class=\"data row13 col8\" >0</td>\n",
              "      <td id=\"T_a581e_row13_col9\" class=\"data row13 col9\" >0</td>\n",
              "      <td id=\"T_a581e_row13_col10\" class=\"data row13 col10\" >0</td>\n",
              "      <td id=\"T_a581e_row13_col11\" class=\"data row13 col11\" >0</td>\n",
              "      <td id=\"T_a581e_row13_col12\" class=\"data row13 col12\" >0</td>\n",
              "      <td id=\"T_a581e_row13_col13\" class=\"data row13 col13\" >0</td>\n",
              "      <td id=\"T_a581e_row13_col14\" class=\"data row13 col14\" >0</td>\n",
              "      <td id=\"T_a581e_row13_col15\" class=\"data row13 col15\" >0</td>\n",
              "      <td id=\"T_a581e_row13_col16\" class=\"data row13 col16\" >0</td>\n",
              "      <td id=\"T_a581e_row13_col17\" class=\"data row13 col17\" >115</td>\n",
              "      <td id=\"T_a581e_row13_col18\" class=\"data row13 col18\" >254</td>\n",
              "      <td id=\"T_a581e_row13_col19\" class=\"data row13 col19\" >229</td>\n",
              "      <td id=\"T_a581e_row13_col20\" class=\"data row13 col20\" >22</td>\n",
              "      <td id=\"T_a581e_row13_col21\" class=\"data row13 col21\" >0</td>\n",
              "      <td id=\"T_a581e_row13_col22\" class=\"data row13 col22\" >0</td>\n",
              "      <td id=\"T_a581e_row13_col23\" class=\"data row13 col23\" >0</td>\n",
              "      <td id=\"T_a581e_row13_col24\" class=\"data row13 col24\" >0</td>\n",
              "      <td id=\"T_a581e_row13_col25\" class=\"data row13 col25\" >0</td>\n",
              "      <td id=\"T_a581e_row13_col26\" class=\"data row13 col26\" >0</td>\n",
              "      <td id=\"T_a581e_row13_col27\" class=\"data row13 col27\" >0</td>\n",
              "    </tr>\n",
              "    <tr>\n",
              "      <th id=\"T_a581e_level0_row14\" class=\"row_heading level0 row14\" >14</th>\n",
              "      <td id=\"T_a581e_row14_col0\" class=\"data row14 col0\" >0</td>\n",
              "      <td id=\"T_a581e_row14_col1\" class=\"data row14 col1\" >0</td>\n",
              "      <td id=\"T_a581e_row14_col2\" class=\"data row14 col2\" >0</td>\n",
              "      <td id=\"T_a581e_row14_col3\" class=\"data row14 col3\" >0</td>\n",
              "      <td id=\"T_a581e_row14_col4\" class=\"data row14 col4\" >0</td>\n",
              "      <td id=\"T_a581e_row14_col5\" class=\"data row14 col5\" >0</td>\n",
              "      <td id=\"T_a581e_row14_col6\" class=\"data row14 col6\" >0</td>\n",
              "      <td id=\"T_a581e_row14_col7\" class=\"data row14 col7\" >0</td>\n",
              "      <td id=\"T_a581e_row14_col8\" class=\"data row14 col8\" >0</td>\n",
              "      <td id=\"T_a581e_row14_col9\" class=\"data row14 col9\" >0</td>\n",
              "      <td id=\"T_a581e_row14_col10\" class=\"data row14 col10\" >0</td>\n",
              "      <td id=\"T_a581e_row14_col11\" class=\"data row14 col11\" >0</td>\n",
              "      <td id=\"T_a581e_row14_col12\" class=\"data row14 col12\" >0</td>\n",
              "      <td id=\"T_a581e_row14_col13\" class=\"data row14 col13\" >0</td>\n",
              "      <td id=\"T_a581e_row14_col14\" class=\"data row14 col14\" >0</td>\n",
              "      <td id=\"T_a581e_row14_col15\" class=\"data row14 col15\" >0</td>\n",
              "      <td id=\"T_a581e_row14_col16\" class=\"data row14 col16\" >23</td>\n",
              "      <td id=\"T_a581e_row14_col17\" class=\"data row14 col17\" >220</td>\n",
              "      <td id=\"T_a581e_row14_col18\" class=\"data row14 col18\" >254</td>\n",
              "      <td id=\"T_a581e_row14_col19\" class=\"data row14 col19\" >161</td>\n",
              "      <td id=\"T_a581e_row14_col20\" class=\"data row14 col20\" >0</td>\n",
              "      <td id=\"T_a581e_row14_col21\" class=\"data row14 col21\" >0</td>\n",
              "      <td id=\"T_a581e_row14_col22\" class=\"data row14 col22\" >0</td>\n",
              "      <td id=\"T_a581e_row14_col23\" class=\"data row14 col23\" >0</td>\n",
              "      <td id=\"T_a581e_row14_col24\" class=\"data row14 col24\" >0</td>\n",
              "      <td id=\"T_a581e_row14_col25\" class=\"data row14 col25\" >0</td>\n",
              "      <td id=\"T_a581e_row14_col26\" class=\"data row14 col26\" >0</td>\n",
              "      <td id=\"T_a581e_row14_col27\" class=\"data row14 col27\" >0</td>\n",
              "    </tr>\n",
              "    <tr>\n",
              "      <th id=\"T_a581e_level0_row15\" class=\"row_heading level0 row15\" >15</th>\n",
              "      <td id=\"T_a581e_row15_col0\" class=\"data row15 col0\" >0</td>\n",
              "      <td id=\"T_a581e_row15_col1\" class=\"data row15 col1\" >0</td>\n",
              "      <td id=\"T_a581e_row15_col2\" class=\"data row15 col2\" >0</td>\n",
              "      <td id=\"T_a581e_row15_col3\" class=\"data row15 col3\" >0</td>\n",
              "      <td id=\"T_a581e_row15_col4\" class=\"data row15 col4\" >0</td>\n",
              "      <td id=\"T_a581e_row15_col5\" class=\"data row15 col5\" >0</td>\n",
              "      <td id=\"T_a581e_row15_col6\" class=\"data row15 col6\" >0</td>\n",
              "      <td id=\"T_a581e_row15_col7\" class=\"data row15 col7\" >0</td>\n",
              "      <td id=\"T_a581e_row15_col8\" class=\"data row15 col8\" >0</td>\n",
              "      <td id=\"T_a581e_row15_col9\" class=\"data row15 col9\" >0</td>\n",
              "      <td id=\"T_a581e_row15_col10\" class=\"data row15 col10\" >12</td>\n",
              "      <td id=\"T_a581e_row15_col11\" class=\"data row15 col11\" >82</td>\n",
              "      <td id=\"T_a581e_row15_col12\" class=\"data row15 col12\" >82</td>\n",
              "      <td id=\"T_a581e_row15_col13\" class=\"data row15 col13\" >82</td>\n",
              "      <td id=\"T_a581e_row15_col14\" class=\"data row15 col14\" >82</td>\n",
              "      <td id=\"T_a581e_row15_col15\" class=\"data row15 col15\" >82</td>\n",
              "      <td id=\"T_a581e_row15_col16\" class=\"data row15 col16\" >93</td>\n",
              "      <td id=\"T_a581e_row15_col17\" class=\"data row15 col17\" >254</td>\n",
              "      <td id=\"T_a581e_row15_col18\" class=\"data row15 col18\" >254</td>\n",
              "      <td id=\"T_a581e_row15_col19\" class=\"data row15 col19\" >122</td>\n",
              "      <td id=\"T_a581e_row15_col20\" class=\"data row15 col20\" >0</td>\n",
              "      <td id=\"T_a581e_row15_col21\" class=\"data row15 col21\" >0</td>\n",
              "      <td id=\"T_a581e_row15_col22\" class=\"data row15 col22\" >0</td>\n",
              "      <td id=\"T_a581e_row15_col23\" class=\"data row15 col23\" >0</td>\n",
              "      <td id=\"T_a581e_row15_col24\" class=\"data row15 col24\" >0</td>\n",
              "      <td id=\"T_a581e_row15_col25\" class=\"data row15 col25\" >0</td>\n",
              "      <td id=\"T_a581e_row15_col26\" class=\"data row15 col26\" >0</td>\n",
              "      <td id=\"T_a581e_row15_col27\" class=\"data row15 col27\" >0</td>\n",
              "    </tr>\n",
              "    <tr>\n",
              "      <th id=\"T_a581e_level0_row16\" class=\"row_heading level0 row16\" >16</th>\n",
              "      <td id=\"T_a581e_row16_col0\" class=\"data row16 col0\" >0</td>\n",
              "      <td id=\"T_a581e_row16_col1\" class=\"data row16 col1\" >0</td>\n",
              "      <td id=\"T_a581e_row16_col2\" class=\"data row16 col2\" >0</td>\n",
              "      <td id=\"T_a581e_row16_col3\" class=\"data row16 col3\" >0</td>\n",
              "      <td id=\"T_a581e_row16_col4\" class=\"data row16 col4\" >0</td>\n",
              "      <td id=\"T_a581e_row16_col5\" class=\"data row16 col5\" >0</td>\n",
              "      <td id=\"T_a581e_row16_col6\" class=\"data row16 col6\" >0</td>\n",
              "      <td id=\"T_a581e_row16_col7\" class=\"data row16 col7\" >0</td>\n",
              "      <td id=\"T_a581e_row16_col8\" class=\"data row16 col8\" >0</td>\n",
              "      <td id=\"T_a581e_row16_col9\" class=\"data row16 col9\" >54</td>\n",
              "      <td id=\"T_a581e_row16_col10\" class=\"data row16 col10\" >173</td>\n",
              "      <td id=\"T_a581e_row16_col11\" class=\"data row16 col11\" >254</td>\n",
              "      <td id=\"T_a581e_row16_col12\" class=\"data row16 col12\" >254</td>\n",
              "      <td id=\"T_a581e_row16_col13\" class=\"data row16 col13\" >254</td>\n",
              "      <td id=\"T_a581e_row16_col14\" class=\"data row16 col14\" >254</td>\n",
              "      <td id=\"T_a581e_row16_col15\" class=\"data row16 col15\" >254</td>\n",
              "      <td id=\"T_a581e_row16_col16\" class=\"data row16 col16\" >234</td>\n",
              "      <td id=\"T_a581e_row16_col17\" class=\"data row16 col17\" >254</td>\n",
              "      <td id=\"T_a581e_row16_col18\" class=\"data row16 col18\" >224</td>\n",
              "      <td id=\"T_a581e_row16_col19\" class=\"data row16 col19\" >24</td>\n",
              "      <td id=\"T_a581e_row16_col20\" class=\"data row16 col20\" >0</td>\n",
              "      <td id=\"T_a581e_row16_col21\" class=\"data row16 col21\" >0</td>\n",
              "      <td id=\"T_a581e_row16_col22\" class=\"data row16 col22\" >0</td>\n",
              "      <td id=\"T_a581e_row16_col23\" class=\"data row16 col23\" >0</td>\n",
              "      <td id=\"T_a581e_row16_col24\" class=\"data row16 col24\" >0</td>\n",
              "      <td id=\"T_a581e_row16_col25\" class=\"data row16 col25\" >0</td>\n",
              "      <td id=\"T_a581e_row16_col26\" class=\"data row16 col26\" >0</td>\n",
              "      <td id=\"T_a581e_row16_col27\" class=\"data row16 col27\" >0</td>\n",
              "    </tr>\n",
              "    <tr>\n",
              "      <th id=\"T_a581e_level0_row17\" class=\"row_heading level0 row17\" >17</th>\n",
              "      <td id=\"T_a581e_row17_col0\" class=\"data row17 col0\" >0</td>\n",
              "      <td id=\"T_a581e_row17_col1\" class=\"data row17 col1\" >0</td>\n",
              "      <td id=\"T_a581e_row17_col2\" class=\"data row17 col2\" >0</td>\n",
              "      <td id=\"T_a581e_row17_col3\" class=\"data row17 col3\" >0</td>\n",
              "      <td id=\"T_a581e_row17_col4\" class=\"data row17 col4\" >0</td>\n",
              "      <td id=\"T_a581e_row17_col5\" class=\"data row17 col5\" >0</td>\n",
              "      <td id=\"T_a581e_row17_col6\" class=\"data row17 col6\" >0</td>\n",
              "      <td id=\"T_a581e_row17_col7\" class=\"data row17 col7\" >0</td>\n",
              "      <td id=\"T_a581e_row17_col8\" class=\"data row17 col8\" >10</td>\n",
              "      <td id=\"T_a581e_row17_col9\" class=\"data row17 col9\" >192</td>\n",
              "      <td id=\"T_a581e_row17_col10\" class=\"data row17 col10\" >254</td>\n",
              "      <td id=\"T_a581e_row17_col11\" class=\"data row17 col11\" >192</td>\n",
              "      <td id=\"T_a581e_row17_col12\" class=\"data row17 col12\" >76</td>\n",
              "      <td id=\"T_a581e_row17_col13\" class=\"data row17 col13\" >37</td>\n",
              "      <td id=\"T_a581e_row17_col14\" class=\"data row17 col14\" >151</td>\n",
              "      <td id=\"T_a581e_row17_col15\" class=\"data row17 col15\" >254</td>\n",
              "      <td id=\"T_a581e_row17_col16\" class=\"data row17 col16\" >254</td>\n",
              "      <td id=\"T_a581e_row17_col17\" class=\"data row17 col17\" >254</td>\n",
              "      <td id=\"T_a581e_row17_col18\" class=\"data row17 col18\" >199</td>\n",
              "      <td id=\"T_a581e_row17_col19\" class=\"data row17 col19\" >60</td>\n",
              "      <td id=\"T_a581e_row17_col20\" class=\"data row17 col20\" >0</td>\n",
              "      <td id=\"T_a581e_row17_col21\" class=\"data row17 col21\" >0</td>\n",
              "      <td id=\"T_a581e_row17_col22\" class=\"data row17 col22\" >0</td>\n",
              "      <td id=\"T_a581e_row17_col23\" class=\"data row17 col23\" >0</td>\n",
              "      <td id=\"T_a581e_row17_col24\" class=\"data row17 col24\" >0</td>\n",
              "      <td id=\"T_a581e_row17_col25\" class=\"data row17 col25\" >0</td>\n",
              "      <td id=\"T_a581e_row17_col26\" class=\"data row17 col26\" >0</td>\n",
              "      <td id=\"T_a581e_row17_col27\" class=\"data row17 col27\" >0</td>\n",
              "    </tr>\n",
              "    <tr>\n",
              "      <th id=\"T_a581e_level0_row18\" class=\"row_heading level0 row18\" >18</th>\n",
              "      <td id=\"T_a581e_row18_col0\" class=\"data row18 col0\" >0</td>\n",
              "      <td id=\"T_a581e_row18_col1\" class=\"data row18 col1\" >0</td>\n",
              "      <td id=\"T_a581e_row18_col2\" class=\"data row18 col2\" >0</td>\n",
              "      <td id=\"T_a581e_row18_col3\" class=\"data row18 col3\" >0</td>\n",
              "      <td id=\"T_a581e_row18_col4\" class=\"data row18 col4\" >0</td>\n",
              "      <td id=\"T_a581e_row18_col5\" class=\"data row18 col5\" >0</td>\n",
              "      <td id=\"T_a581e_row18_col6\" class=\"data row18 col6\" >0</td>\n",
              "      <td id=\"T_a581e_row18_col7\" class=\"data row18 col7\" >0</td>\n",
              "      <td id=\"T_a581e_row18_col8\" class=\"data row18 col8\" >135</td>\n",
              "      <td id=\"T_a581e_row18_col9\" class=\"data row18 col9\" >254</td>\n",
              "      <td id=\"T_a581e_row18_col10\" class=\"data row18 col10\" >221</td>\n",
              "      <td id=\"T_a581e_row18_col11\" class=\"data row18 col11\" >11</td>\n",
              "      <td id=\"T_a581e_row18_col12\" class=\"data row18 col12\" >0</td>\n",
              "      <td id=\"T_a581e_row18_col13\" class=\"data row18 col13\" >23</td>\n",
              "      <td id=\"T_a581e_row18_col14\" class=\"data row18 col14\" >137</td>\n",
              "      <td id=\"T_a581e_row18_col15\" class=\"data row18 col15\" >254</td>\n",
              "      <td id=\"T_a581e_row18_col16\" class=\"data row18 col16\" >254</td>\n",
              "      <td id=\"T_a581e_row18_col17\" class=\"data row18 col17\" >254</td>\n",
              "      <td id=\"T_a581e_row18_col18\" class=\"data row18 col18\" >254</td>\n",
              "      <td id=\"T_a581e_row18_col19\" class=\"data row18 col19\" >243</td>\n",
              "      <td id=\"T_a581e_row18_col20\" class=\"data row18 col20\" >136</td>\n",
              "      <td id=\"T_a581e_row18_col21\" class=\"data row18 col21\" >0</td>\n",
              "      <td id=\"T_a581e_row18_col22\" class=\"data row18 col22\" >0</td>\n",
              "      <td id=\"T_a581e_row18_col23\" class=\"data row18 col23\" >0</td>\n",
              "      <td id=\"T_a581e_row18_col24\" class=\"data row18 col24\" >0</td>\n",
              "      <td id=\"T_a581e_row18_col25\" class=\"data row18 col25\" >0</td>\n",
              "      <td id=\"T_a581e_row18_col26\" class=\"data row18 col26\" >0</td>\n",
              "      <td id=\"T_a581e_row18_col27\" class=\"data row18 col27\" >0</td>\n",
              "    </tr>\n",
              "    <tr>\n",
              "      <th id=\"T_a581e_level0_row19\" class=\"row_heading level0 row19\" >19</th>\n",
              "      <td id=\"T_a581e_row19_col0\" class=\"data row19 col0\" >0</td>\n",
              "      <td id=\"T_a581e_row19_col1\" class=\"data row19 col1\" >0</td>\n",
              "      <td id=\"T_a581e_row19_col2\" class=\"data row19 col2\" >0</td>\n",
              "      <td id=\"T_a581e_row19_col3\" class=\"data row19 col3\" >0</td>\n",
              "      <td id=\"T_a581e_row19_col4\" class=\"data row19 col4\" >0</td>\n",
              "      <td id=\"T_a581e_row19_col5\" class=\"data row19 col5\" >0</td>\n",
              "      <td id=\"T_a581e_row19_col6\" class=\"data row19 col6\" >0</td>\n",
              "      <td id=\"T_a581e_row19_col7\" class=\"data row19 col7\" >0</td>\n",
              "      <td id=\"T_a581e_row19_col8\" class=\"data row19 col8\" >149</td>\n",
              "      <td id=\"T_a581e_row19_col9\" class=\"data row19 col9\" >254</td>\n",
              "      <td id=\"T_a581e_row19_col10\" class=\"data row19 col10\" >105</td>\n",
              "      <td id=\"T_a581e_row19_col11\" class=\"data row19 col11\" >0</td>\n",
              "      <td id=\"T_a581e_row19_col12\" class=\"data row19 col12\" >73</td>\n",
              "      <td id=\"T_a581e_row19_col13\" class=\"data row19 col13\" >139</td>\n",
              "      <td id=\"T_a581e_row19_col14\" class=\"data row19 col14\" >254</td>\n",
              "      <td id=\"T_a581e_row19_col15\" class=\"data row19 col15\" >254</td>\n",
              "      <td id=\"T_a581e_row19_col16\" class=\"data row19 col16\" >134</td>\n",
              "      <td id=\"T_a581e_row19_col17\" class=\"data row19 col17\" >24</td>\n",
              "      <td id=\"T_a581e_row19_col18\" class=\"data row19 col18\" >128</td>\n",
              "      <td id=\"T_a581e_row19_col19\" class=\"data row19 col19\" >148</td>\n",
              "      <td id=\"T_a581e_row19_col20\" class=\"data row19 col20\" >181</td>\n",
              "      <td id=\"T_a581e_row19_col21\" class=\"data row19 col21\" >22</td>\n",
              "      <td id=\"T_a581e_row19_col22\" class=\"data row19 col22\" >0</td>\n",
              "      <td id=\"T_a581e_row19_col23\" class=\"data row19 col23\" >0</td>\n",
              "      <td id=\"T_a581e_row19_col24\" class=\"data row19 col24\" >0</td>\n",
              "      <td id=\"T_a581e_row19_col25\" class=\"data row19 col25\" >0</td>\n",
              "      <td id=\"T_a581e_row19_col26\" class=\"data row19 col26\" >0</td>\n",
              "      <td id=\"T_a581e_row19_col27\" class=\"data row19 col27\" >0</td>\n",
              "    </tr>\n",
              "    <tr>\n",
              "      <th id=\"T_a581e_level0_row20\" class=\"row_heading level0 row20\" >20</th>\n",
              "      <td id=\"T_a581e_row20_col0\" class=\"data row20 col0\" >0</td>\n",
              "      <td id=\"T_a581e_row20_col1\" class=\"data row20 col1\" >0</td>\n",
              "      <td id=\"T_a581e_row20_col2\" class=\"data row20 col2\" >0</td>\n",
              "      <td id=\"T_a581e_row20_col3\" class=\"data row20 col3\" >0</td>\n",
              "      <td id=\"T_a581e_row20_col4\" class=\"data row20 col4\" >0</td>\n",
              "      <td id=\"T_a581e_row20_col5\" class=\"data row20 col5\" >0</td>\n",
              "      <td id=\"T_a581e_row20_col6\" class=\"data row20 col6\" >0</td>\n",
              "      <td id=\"T_a581e_row20_col7\" class=\"data row20 col7\" >0</td>\n",
              "      <td id=\"T_a581e_row20_col8\" class=\"data row20 col8\" >149</td>\n",
              "      <td id=\"T_a581e_row20_col9\" class=\"data row20 col9\" >254</td>\n",
              "      <td id=\"T_a581e_row20_col10\" class=\"data row20 col10\" >164</td>\n",
              "      <td id=\"T_a581e_row20_col11\" class=\"data row20 col11\" >113</td>\n",
              "      <td id=\"T_a581e_row20_col12\" class=\"data row20 col12\" >210</td>\n",
              "      <td id=\"T_a581e_row20_col13\" class=\"data row20 col13\" >254</td>\n",
              "      <td id=\"T_a581e_row20_col14\" class=\"data row20 col14\" >254</td>\n",
              "      <td id=\"T_a581e_row20_col15\" class=\"data row20 col15\" >135</td>\n",
              "      <td id=\"T_a581e_row20_col16\" class=\"data row20 col16\" >4</td>\n",
              "      <td id=\"T_a581e_row20_col17\" class=\"data row20 col17\" >0</td>\n",
              "      <td id=\"T_a581e_row20_col18\" class=\"data row20 col18\" >0</td>\n",
              "      <td id=\"T_a581e_row20_col19\" class=\"data row20 col19\" >0</td>\n",
              "      <td id=\"T_a581e_row20_col20\" class=\"data row20 col20\" >7</td>\n",
              "      <td id=\"T_a581e_row20_col21\" class=\"data row20 col21\" >2</td>\n",
              "      <td id=\"T_a581e_row20_col22\" class=\"data row20 col22\" >0</td>\n",
              "      <td id=\"T_a581e_row20_col23\" class=\"data row20 col23\" >0</td>\n",
              "      <td id=\"T_a581e_row20_col24\" class=\"data row20 col24\" >0</td>\n",
              "      <td id=\"T_a581e_row20_col25\" class=\"data row20 col25\" >0</td>\n",
              "      <td id=\"T_a581e_row20_col26\" class=\"data row20 col26\" >0</td>\n",
              "      <td id=\"T_a581e_row20_col27\" class=\"data row20 col27\" >0</td>\n",
              "    </tr>\n",
              "    <tr>\n",
              "      <th id=\"T_a581e_level0_row21\" class=\"row_heading level0 row21\" >21</th>\n",
              "      <td id=\"T_a581e_row21_col0\" class=\"data row21 col0\" >0</td>\n",
              "      <td id=\"T_a581e_row21_col1\" class=\"data row21 col1\" >0</td>\n",
              "      <td id=\"T_a581e_row21_col2\" class=\"data row21 col2\" >0</td>\n",
              "      <td id=\"T_a581e_row21_col3\" class=\"data row21 col3\" >0</td>\n",
              "      <td id=\"T_a581e_row21_col4\" class=\"data row21 col4\" >0</td>\n",
              "      <td id=\"T_a581e_row21_col5\" class=\"data row21 col5\" >0</td>\n",
              "      <td id=\"T_a581e_row21_col6\" class=\"data row21 col6\" >0</td>\n",
              "      <td id=\"T_a581e_row21_col7\" class=\"data row21 col7\" >0</td>\n",
              "      <td id=\"T_a581e_row21_col8\" class=\"data row21 col8\" >92</td>\n",
              "      <td id=\"T_a581e_row21_col9\" class=\"data row21 col9\" >254</td>\n",
              "      <td id=\"T_a581e_row21_col10\" class=\"data row21 col10\" >254</td>\n",
              "      <td id=\"T_a581e_row21_col11\" class=\"data row21 col11\" >254</td>\n",
              "      <td id=\"T_a581e_row21_col12\" class=\"data row21 col12\" >254</td>\n",
              "      <td id=\"T_a581e_row21_col13\" class=\"data row21 col13\" >228</td>\n",
              "      <td id=\"T_a581e_row21_col14\" class=\"data row21 col14\" >45</td>\n",
              "      <td id=\"T_a581e_row21_col15\" class=\"data row21 col15\" >3</td>\n",
              "      <td id=\"T_a581e_row21_col16\" class=\"data row21 col16\" >0</td>\n",
              "      <td id=\"T_a581e_row21_col17\" class=\"data row21 col17\" >0</td>\n",
              "      <td id=\"T_a581e_row21_col18\" class=\"data row21 col18\" >0</td>\n",
              "      <td id=\"T_a581e_row21_col19\" class=\"data row21 col19\" >0</td>\n",
              "      <td id=\"T_a581e_row21_col20\" class=\"data row21 col20\" >0</td>\n",
              "      <td id=\"T_a581e_row21_col21\" class=\"data row21 col21\" >0</td>\n",
              "      <td id=\"T_a581e_row21_col22\" class=\"data row21 col22\" >0</td>\n",
              "      <td id=\"T_a581e_row21_col23\" class=\"data row21 col23\" >0</td>\n",
              "      <td id=\"T_a581e_row21_col24\" class=\"data row21 col24\" >0</td>\n",
              "      <td id=\"T_a581e_row21_col25\" class=\"data row21 col25\" >0</td>\n",
              "      <td id=\"T_a581e_row21_col26\" class=\"data row21 col26\" >0</td>\n",
              "      <td id=\"T_a581e_row21_col27\" class=\"data row21 col27\" >0</td>\n",
              "    </tr>\n",
              "    <tr>\n",
              "      <th id=\"T_a581e_level0_row22\" class=\"row_heading level0 row22\" >22</th>\n",
              "      <td id=\"T_a581e_row22_col0\" class=\"data row22 col0\" >0</td>\n",
              "      <td id=\"T_a581e_row22_col1\" class=\"data row22 col1\" >0</td>\n",
              "      <td id=\"T_a581e_row22_col2\" class=\"data row22 col2\" >0</td>\n",
              "      <td id=\"T_a581e_row22_col3\" class=\"data row22 col3\" >0</td>\n",
              "      <td id=\"T_a581e_row22_col4\" class=\"data row22 col4\" >0</td>\n",
              "      <td id=\"T_a581e_row22_col5\" class=\"data row22 col5\" >0</td>\n",
              "      <td id=\"T_a581e_row22_col6\" class=\"data row22 col6\" >0</td>\n",
              "      <td id=\"T_a581e_row22_col7\" class=\"data row22 col7\" >0</td>\n",
              "      <td id=\"T_a581e_row22_col8\" class=\"data row22 col8\" >13</td>\n",
              "      <td id=\"T_a581e_row22_col9\" class=\"data row22 col9\" >206</td>\n",
              "      <td id=\"T_a581e_row22_col10\" class=\"data row22 col10\" >255</td>\n",
              "      <td id=\"T_a581e_row22_col11\" class=\"data row22 col11\" >255</td>\n",
              "      <td id=\"T_a581e_row22_col12\" class=\"data row22 col12\" >144</td>\n",
              "      <td id=\"T_a581e_row22_col13\" class=\"data row22 col13\" >4</td>\n",
              "      <td id=\"T_a581e_row22_col14\" class=\"data row22 col14\" >0</td>\n",
              "      <td id=\"T_a581e_row22_col15\" class=\"data row22 col15\" >0</td>\n",
              "      <td id=\"T_a581e_row22_col16\" class=\"data row22 col16\" >0</td>\n",
              "      <td id=\"T_a581e_row22_col17\" class=\"data row22 col17\" >0</td>\n",
              "      <td id=\"T_a581e_row22_col18\" class=\"data row22 col18\" >0</td>\n",
              "      <td id=\"T_a581e_row22_col19\" class=\"data row22 col19\" >0</td>\n",
              "      <td id=\"T_a581e_row22_col20\" class=\"data row22 col20\" >0</td>\n",
              "      <td id=\"T_a581e_row22_col21\" class=\"data row22 col21\" >0</td>\n",
              "      <td id=\"T_a581e_row22_col22\" class=\"data row22 col22\" >0</td>\n",
              "      <td id=\"T_a581e_row22_col23\" class=\"data row22 col23\" >0</td>\n",
              "      <td id=\"T_a581e_row22_col24\" class=\"data row22 col24\" >0</td>\n",
              "      <td id=\"T_a581e_row22_col25\" class=\"data row22 col25\" >0</td>\n",
              "      <td id=\"T_a581e_row22_col26\" class=\"data row22 col26\" >0</td>\n",
              "      <td id=\"T_a581e_row22_col27\" class=\"data row22 col27\" >0</td>\n",
              "    </tr>\n",
              "    <tr>\n",
              "      <th id=\"T_a581e_level0_row23\" class=\"row_heading level0 row23\" >23</th>\n",
              "      <td id=\"T_a581e_row23_col0\" class=\"data row23 col0\" >0</td>\n",
              "      <td id=\"T_a581e_row23_col1\" class=\"data row23 col1\" >0</td>\n",
              "      <td id=\"T_a581e_row23_col2\" class=\"data row23 col2\" >0</td>\n",
              "      <td id=\"T_a581e_row23_col3\" class=\"data row23 col3\" >0</td>\n",
              "      <td id=\"T_a581e_row23_col4\" class=\"data row23 col4\" >0</td>\n",
              "      <td id=\"T_a581e_row23_col5\" class=\"data row23 col5\" >0</td>\n",
              "      <td id=\"T_a581e_row23_col6\" class=\"data row23 col6\" >0</td>\n",
              "      <td id=\"T_a581e_row23_col7\" class=\"data row23 col7\" >0</td>\n",
              "      <td id=\"T_a581e_row23_col8\" class=\"data row23 col8\" >0</td>\n",
              "      <td id=\"T_a581e_row23_col9\" class=\"data row23 col9\" >0</td>\n",
              "      <td id=\"T_a581e_row23_col10\" class=\"data row23 col10\" >0</td>\n",
              "      <td id=\"T_a581e_row23_col11\" class=\"data row23 col11\" >0</td>\n",
              "      <td id=\"T_a581e_row23_col12\" class=\"data row23 col12\" >0</td>\n",
              "      <td id=\"T_a581e_row23_col13\" class=\"data row23 col13\" >0</td>\n",
              "      <td id=\"T_a581e_row23_col14\" class=\"data row23 col14\" >0</td>\n",
              "      <td id=\"T_a581e_row23_col15\" class=\"data row23 col15\" >0</td>\n",
              "      <td id=\"T_a581e_row23_col16\" class=\"data row23 col16\" >0</td>\n",
              "      <td id=\"T_a581e_row23_col17\" class=\"data row23 col17\" >0</td>\n",
              "      <td id=\"T_a581e_row23_col18\" class=\"data row23 col18\" >0</td>\n",
              "      <td id=\"T_a581e_row23_col19\" class=\"data row23 col19\" >0</td>\n",
              "      <td id=\"T_a581e_row23_col20\" class=\"data row23 col20\" >0</td>\n",
              "      <td id=\"T_a581e_row23_col21\" class=\"data row23 col21\" >0</td>\n",
              "      <td id=\"T_a581e_row23_col22\" class=\"data row23 col22\" >0</td>\n",
              "      <td id=\"T_a581e_row23_col23\" class=\"data row23 col23\" >0</td>\n",
              "      <td id=\"T_a581e_row23_col24\" class=\"data row23 col24\" >0</td>\n",
              "      <td id=\"T_a581e_row23_col25\" class=\"data row23 col25\" >0</td>\n",
              "      <td id=\"T_a581e_row23_col26\" class=\"data row23 col26\" >0</td>\n",
              "      <td id=\"T_a581e_row23_col27\" class=\"data row23 col27\" >0</td>\n",
              "    </tr>\n",
              "    <tr>\n",
              "      <th id=\"T_a581e_level0_row24\" class=\"row_heading level0 row24\" >24</th>\n",
              "      <td id=\"T_a581e_row24_col0\" class=\"data row24 col0\" >0</td>\n",
              "      <td id=\"T_a581e_row24_col1\" class=\"data row24 col1\" >0</td>\n",
              "      <td id=\"T_a581e_row24_col2\" class=\"data row24 col2\" >0</td>\n",
              "      <td id=\"T_a581e_row24_col3\" class=\"data row24 col3\" >0</td>\n",
              "      <td id=\"T_a581e_row24_col4\" class=\"data row24 col4\" >0</td>\n",
              "      <td id=\"T_a581e_row24_col5\" class=\"data row24 col5\" >0</td>\n",
              "      <td id=\"T_a581e_row24_col6\" class=\"data row24 col6\" >0</td>\n",
              "      <td id=\"T_a581e_row24_col7\" class=\"data row24 col7\" >0</td>\n",
              "      <td id=\"T_a581e_row24_col8\" class=\"data row24 col8\" >0</td>\n",
              "      <td id=\"T_a581e_row24_col9\" class=\"data row24 col9\" >0</td>\n",
              "      <td id=\"T_a581e_row24_col10\" class=\"data row24 col10\" >0</td>\n",
              "      <td id=\"T_a581e_row24_col11\" class=\"data row24 col11\" >0</td>\n",
              "      <td id=\"T_a581e_row24_col12\" class=\"data row24 col12\" >0</td>\n",
              "      <td id=\"T_a581e_row24_col13\" class=\"data row24 col13\" >0</td>\n",
              "      <td id=\"T_a581e_row24_col14\" class=\"data row24 col14\" >0</td>\n",
              "      <td id=\"T_a581e_row24_col15\" class=\"data row24 col15\" >0</td>\n",
              "      <td id=\"T_a581e_row24_col16\" class=\"data row24 col16\" >0</td>\n",
              "      <td id=\"T_a581e_row24_col17\" class=\"data row24 col17\" >0</td>\n",
              "      <td id=\"T_a581e_row24_col18\" class=\"data row24 col18\" >0</td>\n",
              "      <td id=\"T_a581e_row24_col19\" class=\"data row24 col19\" >0</td>\n",
              "      <td id=\"T_a581e_row24_col20\" class=\"data row24 col20\" >0</td>\n",
              "      <td id=\"T_a581e_row24_col21\" class=\"data row24 col21\" >0</td>\n",
              "      <td id=\"T_a581e_row24_col22\" class=\"data row24 col22\" >0</td>\n",
              "      <td id=\"T_a581e_row24_col23\" class=\"data row24 col23\" >0</td>\n",
              "      <td id=\"T_a581e_row24_col24\" class=\"data row24 col24\" >0</td>\n",
              "      <td id=\"T_a581e_row24_col25\" class=\"data row24 col25\" >0</td>\n",
              "      <td id=\"T_a581e_row24_col26\" class=\"data row24 col26\" >0</td>\n",
              "      <td id=\"T_a581e_row24_col27\" class=\"data row24 col27\" >0</td>\n",
              "    </tr>\n",
              "    <tr>\n",
              "      <th id=\"T_a581e_level0_row25\" class=\"row_heading level0 row25\" >25</th>\n",
              "      <td id=\"T_a581e_row25_col0\" class=\"data row25 col0\" >0</td>\n",
              "      <td id=\"T_a581e_row25_col1\" class=\"data row25 col1\" >0</td>\n",
              "      <td id=\"T_a581e_row25_col2\" class=\"data row25 col2\" >0</td>\n",
              "      <td id=\"T_a581e_row25_col3\" class=\"data row25 col3\" >0</td>\n",
              "      <td id=\"T_a581e_row25_col4\" class=\"data row25 col4\" >0</td>\n",
              "      <td id=\"T_a581e_row25_col5\" class=\"data row25 col5\" >0</td>\n",
              "      <td id=\"T_a581e_row25_col6\" class=\"data row25 col6\" >0</td>\n",
              "      <td id=\"T_a581e_row25_col7\" class=\"data row25 col7\" >0</td>\n",
              "      <td id=\"T_a581e_row25_col8\" class=\"data row25 col8\" >0</td>\n",
              "      <td id=\"T_a581e_row25_col9\" class=\"data row25 col9\" >0</td>\n",
              "      <td id=\"T_a581e_row25_col10\" class=\"data row25 col10\" >0</td>\n",
              "      <td id=\"T_a581e_row25_col11\" class=\"data row25 col11\" >0</td>\n",
              "      <td id=\"T_a581e_row25_col12\" class=\"data row25 col12\" >0</td>\n",
              "      <td id=\"T_a581e_row25_col13\" class=\"data row25 col13\" >0</td>\n",
              "      <td id=\"T_a581e_row25_col14\" class=\"data row25 col14\" >0</td>\n",
              "      <td id=\"T_a581e_row25_col15\" class=\"data row25 col15\" >0</td>\n",
              "      <td id=\"T_a581e_row25_col16\" class=\"data row25 col16\" >0</td>\n",
              "      <td id=\"T_a581e_row25_col17\" class=\"data row25 col17\" >0</td>\n",
              "      <td id=\"T_a581e_row25_col18\" class=\"data row25 col18\" >0</td>\n",
              "      <td id=\"T_a581e_row25_col19\" class=\"data row25 col19\" >0</td>\n",
              "      <td id=\"T_a581e_row25_col20\" class=\"data row25 col20\" >0</td>\n",
              "      <td id=\"T_a581e_row25_col21\" class=\"data row25 col21\" >0</td>\n",
              "      <td id=\"T_a581e_row25_col22\" class=\"data row25 col22\" >0</td>\n",
              "      <td id=\"T_a581e_row25_col23\" class=\"data row25 col23\" >0</td>\n",
              "      <td id=\"T_a581e_row25_col24\" class=\"data row25 col24\" >0</td>\n",
              "      <td id=\"T_a581e_row25_col25\" class=\"data row25 col25\" >0</td>\n",
              "      <td id=\"T_a581e_row25_col26\" class=\"data row25 col26\" >0</td>\n",
              "      <td id=\"T_a581e_row25_col27\" class=\"data row25 col27\" >0</td>\n",
              "    </tr>\n",
              "    <tr>\n",
              "      <th id=\"T_a581e_level0_row26\" class=\"row_heading level0 row26\" >26</th>\n",
              "      <td id=\"T_a581e_row26_col0\" class=\"data row26 col0\" >0</td>\n",
              "      <td id=\"T_a581e_row26_col1\" class=\"data row26 col1\" >0</td>\n",
              "      <td id=\"T_a581e_row26_col2\" class=\"data row26 col2\" >0</td>\n",
              "      <td id=\"T_a581e_row26_col3\" class=\"data row26 col3\" >0</td>\n",
              "      <td id=\"T_a581e_row26_col4\" class=\"data row26 col4\" >0</td>\n",
              "      <td id=\"T_a581e_row26_col5\" class=\"data row26 col5\" >0</td>\n",
              "      <td id=\"T_a581e_row26_col6\" class=\"data row26 col6\" >0</td>\n",
              "      <td id=\"T_a581e_row26_col7\" class=\"data row26 col7\" >0</td>\n",
              "      <td id=\"T_a581e_row26_col8\" class=\"data row26 col8\" >0</td>\n",
              "      <td id=\"T_a581e_row26_col9\" class=\"data row26 col9\" >0</td>\n",
              "      <td id=\"T_a581e_row26_col10\" class=\"data row26 col10\" >0</td>\n",
              "      <td id=\"T_a581e_row26_col11\" class=\"data row26 col11\" >0</td>\n",
              "      <td id=\"T_a581e_row26_col12\" class=\"data row26 col12\" >0</td>\n",
              "      <td id=\"T_a581e_row26_col13\" class=\"data row26 col13\" >0</td>\n",
              "      <td id=\"T_a581e_row26_col14\" class=\"data row26 col14\" >0</td>\n",
              "      <td id=\"T_a581e_row26_col15\" class=\"data row26 col15\" >0</td>\n",
              "      <td id=\"T_a581e_row26_col16\" class=\"data row26 col16\" >0</td>\n",
              "      <td id=\"T_a581e_row26_col17\" class=\"data row26 col17\" >0</td>\n",
              "      <td id=\"T_a581e_row26_col18\" class=\"data row26 col18\" >0</td>\n",
              "      <td id=\"T_a581e_row26_col19\" class=\"data row26 col19\" >0</td>\n",
              "      <td id=\"T_a581e_row26_col20\" class=\"data row26 col20\" >0</td>\n",
              "      <td id=\"T_a581e_row26_col21\" class=\"data row26 col21\" >0</td>\n",
              "      <td id=\"T_a581e_row26_col22\" class=\"data row26 col22\" >0</td>\n",
              "      <td id=\"T_a581e_row26_col23\" class=\"data row26 col23\" >0</td>\n",
              "      <td id=\"T_a581e_row26_col24\" class=\"data row26 col24\" >0</td>\n",
              "      <td id=\"T_a581e_row26_col25\" class=\"data row26 col25\" >0</td>\n",
              "      <td id=\"T_a581e_row26_col26\" class=\"data row26 col26\" >0</td>\n",
              "      <td id=\"T_a581e_row26_col27\" class=\"data row26 col27\" >0</td>\n",
              "    </tr>\n",
              "    <tr>\n",
              "      <th id=\"T_a581e_level0_row27\" class=\"row_heading level0 row27\" >27</th>\n",
              "      <td id=\"T_a581e_row27_col0\" class=\"data row27 col0\" >0</td>\n",
              "      <td id=\"T_a581e_row27_col1\" class=\"data row27 col1\" >0</td>\n",
              "      <td id=\"T_a581e_row27_col2\" class=\"data row27 col2\" >0</td>\n",
              "      <td id=\"T_a581e_row27_col3\" class=\"data row27 col3\" >0</td>\n",
              "      <td id=\"T_a581e_row27_col4\" class=\"data row27 col4\" >0</td>\n",
              "      <td id=\"T_a581e_row27_col5\" class=\"data row27 col5\" >0</td>\n",
              "      <td id=\"T_a581e_row27_col6\" class=\"data row27 col6\" >0</td>\n",
              "      <td id=\"T_a581e_row27_col7\" class=\"data row27 col7\" >0</td>\n",
              "      <td id=\"T_a581e_row27_col8\" class=\"data row27 col8\" >0</td>\n",
              "      <td id=\"T_a581e_row27_col9\" class=\"data row27 col9\" >0</td>\n",
              "      <td id=\"T_a581e_row27_col10\" class=\"data row27 col10\" >0</td>\n",
              "      <td id=\"T_a581e_row27_col11\" class=\"data row27 col11\" >0</td>\n",
              "      <td id=\"T_a581e_row27_col12\" class=\"data row27 col12\" >0</td>\n",
              "      <td id=\"T_a581e_row27_col13\" class=\"data row27 col13\" >0</td>\n",
              "      <td id=\"T_a581e_row27_col14\" class=\"data row27 col14\" >0</td>\n",
              "      <td id=\"T_a581e_row27_col15\" class=\"data row27 col15\" >0</td>\n",
              "      <td id=\"T_a581e_row27_col16\" class=\"data row27 col16\" >0</td>\n",
              "      <td id=\"T_a581e_row27_col17\" class=\"data row27 col17\" >0</td>\n",
              "      <td id=\"T_a581e_row27_col18\" class=\"data row27 col18\" >0</td>\n",
              "      <td id=\"T_a581e_row27_col19\" class=\"data row27 col19\" >0</td>\n",
              "      <td id=\"T_a581e_row27_col20\" class=\"data row27 col20\" >0</td>\n",
              "      <td id=\"T_a581e_row27_col21\" class=\"data row27 col21\" >0</td>\n",
              "      <td id=\"T_a581e_row27_col22\" class=\"data row27 col22\" >0</td>\n",
              "      <td id=\"T_a581e_row27_col23\" class=\"data row27 col23\" >0</td>\n",
              "      <td id=\"T_a581e_row27_col24\" class=\"data row27 col24\" >0</td>\n",
              "      <td id=\"T_a581e_row27_col25\" class=\"data row27 col25\" >0</td>\n",
              "      <td id=\"T_a581e_row27_col26\" class=\"data row27 col26\" >0</td>\n",
              "      <td id=\"T_a581e_row27_col27\" class=\"data row27 col27\" >0</td>\n",
              "    </tr>\n",
              "  </tbody>\n",
              "</table>\n"
            ]
          },
          "metadata": {},
          "execution_count": 10
        }
      ],
      "source": [
        "#hide_output\n",
        "im2_t = tensor(im2)\n",
        "df = pd.DataFrame(im2_t)\n",
        "df.style.set_properties(**{'font-size':'6pt'}).background_gradient('Greys')"
      ]
    },
    {
      "cell_type": "markdown",
      "metadata": {
        "id": "nQvFIfmlsLKc"
      },
      "source": [
        "You can see that the background white pixels are stored as the number 0, black is the number 255, and shades of gray are between the two. The entire image contains 28 pixels across and 28 pixels down, for a total of 784 pixels. (This is much smaller than an image that you would get from a phone camera, which has millions of pixels, but is a convenient size for our initial learning and experiments. We will build up to bigger, full-color images soon.)\n",
        "\n",
        "So, now you've seen what an image looks like to a computer, let's recall our goal: create a model that can recognize 2s and 7s. How might you go about getting a computer to do that?\n",
        "\n"
      ]
    },
    {
      "cell_type": "markdown",
      "source": [
        "# how I would solve it\n",
        "For each number, we could think of the most common way to represented, by taking the mean of multiple samples, for creating one ourselves. Particularly for the cases of 2 an 7, we can consider to calculate the distance between the pixels of each image and the two \"ideal\" numbers, and predict the number based on the distance between one and the other. "
      ],
      "metadata": {
        "id": "dDibdqMuugvr"
      }
    },
    {
      "cell_type": "markdown",
      "metadata": {
        "id": "fpXP6ct1sLKc"
      },
      "source": [
        "## First Try: Pixel Similarity"
      ]
    },
    {
      "cell_type": "markdown",
      "metadata": {
        "id": "a3XUhpQcsLKc"
      },
      "source": [
        "Step one for our simple model is to get the average of pixel values for each of our two groups. In the process of doing this, we will learn a lot of neat Python numeric programming tricks!\n",
        "\n",
        "Let's create a tensor containing all of our 2s stacked together. We already know how to create a tensor containing a single image. To create a tensor containing all the images in a directory, we will first use a Python list comprehension to create a plain list of the single image tensors.\n",
        "\n",
        "We will use Jupyter to do some little checks of our work along the way—in this case, making sure that the number of returned items seems reasonable:"
      ]
    },
    {
      "cell_type": "code",
      "execution_count": 11,
      "metadata": {
        "colab": {
          "base_uri": "https://localhost:8080/"
        },
        "id": "T2ttwnoUsLKd",
        "outputId": "ba1d79dd-6cc2-4190-ab1d-524fed3b64cd"
      },
      "outputs": [
        {
          "output_type": "execute_result",
          "data": {
            "text/plain": [
              "(5958, 6265)"
            ]
          },
          "metadata": {},
          "execution_count": 11
        }
      ],
      "source": [
        "seven_tensors = [tensor(Image.open(o)) for o in sevens]\n",
        "twos_tensors = [tensor(Image.open(o)) for o in twos]\n",
        "len(twos_tensors),len(seven_tensors)"
      ]
    },
    {
      "cell_type": "markdown",
      "metadata": {
        "id": "BohMakV8sLKd"
      },
      "source": [
        "> note: List Comprehensions: List and dictionary comprehensions are a wonderful feature of Python. A list comprehension looks like this: `new_list = [f(o) for o in a_list if o>0]`. This will return every element of `a_list` that is greater than 0, after passing it to the function `f`. There are three parts here: the collection you are iterating over (`a_list`), an optional filter (`if o>0`), and something to do to each element (`f(o)`). It's not only shorter to write but way faster than the alternative ways of creating the same list with a loop."
      ]
    },
    {
      "cell_type": "markdown",
      "metadata": {
        "id": "9dxUdAMtsLKd"
      },
      "source": [
        "We'll also check that one of the images looks okay. Since we now have tensors (which Jupyter by default will print as values), rather than PIL images (which Jupyter by default will display as images), we need to use fastai's `show_image` function to display it:"
      ]
    },
    {
      "cell_type": "code",
      "execution_count": 12,
      "metadata": {
        "colab": {
          "base_uri": "https://localhost:8080/",
          "height": 85
        },
        "id": "W8C8OoMEsLKd",
        "outputId": "504b1f63-3068-43a8-950e-b120071d2055"
      },
      "outputs": [
        {
          "output_type": "display_data",
          "data": {
            "text/plain": [
              "<Figure size 72x72 with 1 Axes>"
            ],
            "image/png": "[encoded data removed]"
          },
          "metadata": {
            "needs_background": "light"
          }
        }
      ],
      "source": [
        "show_image(twos_tensors[0]);"
      ]
    },
    {
      "cell_type": "markdown",
      "metadata": {
        "id": "NoKi9kFfsLKe"
      },
      "source": [
        "For every pixel position, we want to compute the average over all the images of the intensity of that pixel. To do this we first combine all the images in this list into a single three-dimensional tensor. The most common way to describe such a tensor is to call it a *rank-3 tensor*. We often need to stack up individual tensors in a collection into a single tensor. Unsurprisingly, PyTorch comes with a function called `stack` that we can use for this purpose.\n",
        "\n",
        "Some operations in PyTorch, such as taking a mean, require us to *cast* our integer types to float types. Since we'll be needing this later, we'll also cast our stacked tensor to `float` now. Casting in PyTorch is as simple as typing the name of the type you wish to cast to, and treating it as a method.\n",
        "\n",
        "Generally when images are floats, the pixel values are expected to be between 0 and 1, so we will also divide by 255 here:"
      ]
    },
    {
      "cell_type": "code",
      "execution_count": 13,
      "metadata": {
        "colab": {
          "base_uri": "https://localhost:8080/"
        },
        "id": "togEX6jFsLKe",
        "outputId": "81c2ff28-817d-4777-8995-3ed9af0590e4"
      },
      "outputs": [
        {
          "output_type": "execute_result",
          "data": {
            "text/plain": [
              "torch.Size([5958, 28, 28])"
            ]
          },
          "metadata": {},
          "execution_count": 13
        }
      ],
      "source": [
        "stacked_sevens = torch.stack(seven_tensors).float()/255\n",
        "stacked_twos = torch.stack(twos_tensors).float()/255\n",
        "stacked_twos.shape"
      ]
    },
    {
      "cell_type": "markdown",
      "metadata": {
        "id": "lxGKjT4fsLKe"
      },
      "source": [
        "Perhaps the most important attribute of a tensor is its *shape*. This tells you the length of each axis. In this case, we can see that we have 5958 images, each of size 28×28 pixels. There is nothing specifically about this tensor that says that the first axis is the number of images, the second is the height, and the third is the width—the semantics of a tensor are entirely up to us, and how we construct it. As far as PyTorch is concerned, it is just a bunch of numbers in memory.\n",
        "\n",
        "The *length* of a tensor's shape is its rank:"
      ]
    },
    {
      "cell_type": "code",
      "execution_count": 14,
      "metadata": {
        "colab": {
          "base_uri": "https://localhost:8080/"
        },
        "id": "wMUINdsMsLKe",
        "outputId": "41fc374a-c5f0-4ab9-d8ee-7aadfb694f0a"
      },
      "outputs": [
        {
          "output_type": "execute_result",
          "data": {
            "text/plain": [
              "3"
            ]
          },
          "metadata": {},
          "execution_count": 14
        }
      ],
      "source": [
        "len(stacked_twos.shape)"
      ]
    },
    {
      "cell_type": "markdown",
      "metadata": {
        "id": "jaeUheWpsLKf"
      },
      "source": [
        "It is really important for you to commit to memory and practice these bits of tensor jargon: _rank_ is the number of axes or dimensions in a tensor; _shape_ is the size of each axis of a tensor.\n",
        "\n",
        "> A: Watch out because the term \"dimension\" is sometimes used in two ways. Consider that we live in \"three-dimensonal space\" where a physical position can be described by a 3-vector `v`. But according to PyTorch, the attribute `v.ndim` (which sure looks like the \"number of dimensions\" of `v`) equals one, not three! Why? Because `v` is a vector, which is a tensor of rank one, meaning that it has only one _axis_ (even if that axis has a length of three). In other words, sometimes dimension is used for the size of an axis (\"space is three-dimensional\"); other times, it is used for the rank, or the number of axes (\"a matrix has two dimensions\"). When confused, I find it helpful to translate all statements into terms of rank, axis, and length, which are unambiguous terms."
      ]
    },
    {
      "cell_type": "markdown",
      "metadata": {
        "id": "Cj7-7nmfsLKf"
      },
      "source": [
        "We can also get a tensor's rank directly with `ndim`:"
      ]
    },
    {
      "cell_type": "code",
      "execution_count": 15,
      "metadata": {
        "colab": {
          "base_uri": "https://localhost:8080/"
        },
        "id": "gsWdttMpsLKf",
        "outputId": "bc393b30-0e72-4cf2-d6fb-67ac5be1dac0"
      },
      "outputs": [
        {
          "output_type": "execute_result",
          "data": {
            "text/plain": [
              "3"
            ]
          },
          "metadata": {},
          "execution_count": 15
        }
      ],
      "source": [
        "stacked_twos.ndim"
      ]
    },
    {
      "cell_type": "markdown",
      "metadata": {
        "id": "GLFQAZGNsLKf"
      },
      "source": [
        "Finally, we can compute what the ideal 2 looks like. We calculate the mean of all the image tensors by taking the mean along dimension 0 of our stacked, rank-3 tensor. This is the dimension that indexes over all the images.\n",
        "\n",
        "In other words, for every pixel position, this will compute the average of that pixel over all images. The result will be one value for every pixel position, or a single image. Here it is:"
      ]
    },
    {
      "cell_type": "code",
      "execution_count": 16,
      "metadata": {
        "colab": {
          "base_uri": "https://localhost:8080/",
          "height": 85
        },
        "id": "mIphHwCPsLKg",
        "outputId": "cd4d0eba-e756-4934-e37f-d10d68441745"
      },
      "outputs": [
        {
          "output_type": "display_data",
          "data": {
            "text/plain": [
              "<Figure size 72x72 with 1 Axes>"
            ],
            "image/png": "[encoded data removed]"
          },
          "metadata": {
            "needs_background": "light"
          }
        }
      ],
      "source": [
        "mean2 = stacked_twos.mean(0)\n",
        "show_image(mean2);"
      ]
    },
    {
      "cell_type": "markdown",
      "metadata": {
        "id": "L1ZAQb9VsLKg"
      },
      "source": [
        "According to this dataset, this is the ideal number 2! (You may not like it, but this is what peak number 2 performance looks like.) You can see how it's very dark where all the images agree it should be dark, but it becomes wispy and blurry where the images disagree. \n",
        "\n",
        "Let's do the same thing for the 7s, but put all the steps together at once to save some time:"
      ]
    },
    {
      "cell_type": "code",
      "execution_count": 17,
      "metadata": {
        "colab": {
          "base_uri": "https://localhost:8080/",
          "height": 85
        },
        "id": "U4emVslPsLKh",
        "outputId": "de5c16d2-e63a-4acb-c8b7-7655e8fb497a"
      },
      "outputs": [
        {
          "output_type": "display_data",
          "data": {
            "text/plain": [
              "<Figure size 72x72 with 1 Axes>"
            ],
            "image/png": "[encoded data removed]"
          },
          "metadata": {
            "needs_background": "light"
          }
        }
      ],
      "source": [
        "mean7 = stacked_sevens.mean(0)\n",
        "show_image(mean7);"
      ]
    },
    {
      "cell_type": "markdown",
      "metadata": {
        "id": "YUeASwoHsLKh"
      },
      "source": [
        "Let's now pick an arbitrary 2 and measure its *distance* from our \"ideal digits.\"\n",
        "Here's a sample 2:"
      ]
    },
    {
      "cell_type": "code",
      "execution_count": 18,
      "metadata": {
        "colab": {
          "base_uri": "https://localhost:8080/",
          "height": 85
        },
        "id": "hZ4FATu_sLKh",
        "outputId": "024d9513-50b3-4e74-c93b-8352f4ac3d80"
      },
      "outputs": [
        {
          "output_type": "display_data",
          "data": {
            "text/plain": [
              "<Figure size 72x72 with 1 Axes>"
            ],
            "image/png": "[encoded data removed]"
          },
          "metadata": {
            "needs_background": "light"
          }
        }
      ],
      "source": [
        "a_2 = stacked_twos[0]\n",
        "show_image(a_2);"
      ]
    },
    {
      "cell_type": "markdown",
      "metadata": {
        "id": "Dt3twEzJsLKi"
      },
      "source": [
        "How can we determine its distance from our ideal 2? We can't just add up the differences between the pixels of this image and the ideal digit. Some differences will be positive while others will be negative, and these differences will cancel out, resulting in a situation where an image that is too dark in some places and too light in others might be shown as having zero total differences from the ideal. That would be misleading!\n",
        "\n",
        "To avoid this, there are two main ways data scientists measure distance in this context:\n",
        "\n",
        "- Take the mean of the *absolute value* of differences (absolute value is the function that replaces negative values with positive values). This is called the *mean absolute difference* or *L1 norm*\n",
        "- Take the mean of the *square* of differences (which makes everything positive) and then take the *square root* (which undoes the squaring). This is called the *root mean squared error* (RMSE) or *L2 norm*.\n",
        "\n"
      ]
    },
    {
      "cell_type": "markdown",
      "metadata": {
        "id": "hNnpLXz3sLKi"
      },
      "source": [
        "Let's try both of these now:"
      ]
    },
    {
      "cell_type": "code",
      "execution_count": 19,
      "metadata": {
        "colab": {
          "base_uri": "https://localhost:8080/"
        },
        "id": "PRW6nl2AsLKi",
        "outputId": "4c578cdb-500a-485d-cfcc-5d949b567bea"
      },
      "outputs": [
        {
          "output_type": "execute_result",
          "data": {
            "text/plain": [
              "(tensor(0.1350), tensor(0.2338))"
            ]
          },
          "metadata": {},
          "execution_count": 19
        }
      ],
      "source": [
        "dist_2_abs = (a_2 - mean2).abs().mean()\n",
        "dist_2_sqr = ((a_2 - mean2)**2).mean().sqrt()\n",
        "dist_2_abs,dist_2_sqr"
      ]
    },
    {
      "cell_type": "code",
      "execution_count": 20,
      "metadata": {
        "colab": {
          "base_uri": "https://localhost:8080/"
        },
        "id": "E4-plei0sLKi",
        "outputId": "b5b99371-fe22-442e-d08f-7158b2c61cca"
      },
      "outputs": [
        {
          "output_type": "execute_result",
          "data": {
            "text/plain": [
              "(tensor(0.1854), tensor(0.3418))"
            ]
          },
          "metadata": {},
          "execution_count": 20
        }
      ],
      "source": [
        "dist_7_abs = (a_2 - mean7).abs().mean()\n",
        "dist_7_sqr = ((a_2 - mean7)**2).mean().sqrt()\n",
        "dist_7_abs,dist_7_sqr"
      ]
    },
    {
      "cell_type": "markdown",
      "metadata": {
        "id": "MIk4dt03sLKi"
      },
      "source": [
        "In both cases, the distance between our 2 and the \"ideal\" 2 is less than the distance to the ideal 7. So our simple model will give the right prediction in this case."
      ]
    },
    {
      "cell_type": "markdown",
      "metadata": {
        "id": "Lzu2jzWqsLKi"
      },
      "source": [
        "PyTorch already provides both of these as *loss functions*. You'll find these inside `torch.nn.functional`, which the PyTorch team recommends importing as `F` (and is available by default under that name in fastai):"
      ]
    },
    {
      "cell_type": "code",
      "execution_count": 21,
      "metadata": {
        "colab": {
          "base_uri": "https://localhost:8080/"
        },
        "id": "jDymGP61sLKi",
        "outputId": "806c2150-309c-45f1-a294-60f1201cc743"
      },
      "outputs": [
        {
          "output_type": "execute_result",
          "data": {
            "text/plain": [
              "(tensor(0.1854), tensor(0.3418))"
            ]
          },
          "metadata": {},
          "execution_count": 21
        }
      ],
      "source": [
        "F.l1_loss(a_2.float(),mean7), F.mse_loss(a_2,mean7).sqrt()"
      ]
    },
    {
      "cell_type": "markdown",
      "metadata": {
        "id": "-k0E9RZ5sLKj"
      },
      "source": [
        "Here `mse` stands for *mean squared error*, and `l1` refers to the standard mathematical jargon for *mean absolute value* (in math it's called the *L1 norm*)."
      ]
    },
    {
      "cell_type": "markdown",
      "metadata": {
        "id": "zSWfDuYMsLKj"
      },
      "source": [
        "> S: Intuitively, the difference between L1 norm and mean squared error (MSE) is that the latter will penalize bigger mistakes more heavily than the former (and be more lenient with small mistakes)."
      ]
    },
    {
      "cell_type": "markdown",
      "metadata": {
        "id": "Sqw1N-SQsLKj"
      },
      "source": [
        "### PyTorch Tensors"
      ]
    },
    {
      "cell_type": "markdown",
      "metadata": {
        "id": "k1PmJMk8sLKj"
      },
      "source": [
        "[NumPy](https://numpy.org/) is the most widely used library for scientific and numeric programming in Python. It provides very similar functionality and a very similar API to that provided by PyTorch; however, it does not support using the GPU or calculating gradients, which are both critical for deep learning. Therefore,we will generally use PyTorch tensors instead of NumPy arrays, where possible.\n",
        "\n",
        "But what are arrays and tensors, and why should you care?"
      ]
    },
    {
      "cell_type": "markdown",
      "metadata": {
        "id": "C5sdFGhtsLKj"
      },
      "source": [
        "Python is slow compared to many languages. Anything fast in Python, NumPy, or PyTorch is likely to be a wrapper for a compiled object written (and optimized) in another language—specifically C. In fact, **NumPy arrays and PyTorch tensors can finish computations many thousands of times faster than using pure Python.**\n",
        "\n",
        "A NumPy array is a multidimensional table of data, with all items of the same type. Since that can be any type at all, they can even be arrays of arrays, with the innermost arrays potentially being different sizes—this is called a \"jagged array.\" By \"multidimensional table\" we mean, for instance, a list (dimension of one), a table or matrix (dimension of two), a \"table of tables\" or \"cube\" (dimension of three), and so forth. If the items are all of some simple type such as integer or float, then NumPy will store them as a compact C data structure in memory. This is where NumPy shines. NumPy has a wide variety of operators and methods that can run computations on these compact structures at the same speed as optimized C, because they are written in optimized C.\n",
        "\n",
        "A PyTorch tensor is nearly the same thing as a NumPy array, but with an additional restriction that unlocks some additional capabilities. It's the same in that it, too, is a multidimensional table of data, with all items of the same type. However, the restriction is that a tensor cannot use just any old type—it has to use a single basic numeric type for all components. For example, a PyTorch tensor cannot be jagged. It is always a regularly shaped multidimensional rectangular structure.\n",
        "\n",
        "The vast majority of methods and operators supported by NumPy on these structures are also supported by PyTorch, but PyTorch tensors have additional capabilities. One major capability is that these structures can live on the GPU, in which case their computation will be optimized for the GPU and can run much faster (given lots of values to work on). In addition, PyTorch can automatically calculate derivatives of these operations, including combinations of operations. As you'll see, it would be impossible to do deep learning in practice without this capability.\n",
        "\n",
        "Perhaps the most important new coding skill for a Python programmer to learn is how to effectively use the array/tensor APIs. "
      ]
    },
    {
      "cell_type": "markdown",
      "metadata": {
        "id": "StnhuCj7sLKk"
      },
      "source": [
        "To create an array or tensor, pass a list (or list of lists, or list of lists of lists, etc.) to `array()` or `tensor()`:"
      ]
    },
    {
      "cell_type": "code",
      "source": [
        "data = [[1,2,3],[4,5,6],[7,8,9]]"
      ],
      "metadata": {
        "id": "SE2KUcLh-Az2"
      },
      "execution_count": 209,
      "outputs": []
    },
    {
      "cell_type": "code",
      "source": [
        "tensorD = tensor(tensor(data)*2)[1:3,1:3]"
      ],
      "metadata": {
        "id": "fZQFqdwo-A3G"
      },
      "execution_count": 226,
      "outputs": []
    },
    {
      "cell_type": "code",
      "source": [
        "tensorD"
      ],
      "metadata": {
        "id": "wyTmVUQr-fF-",
        "outputId": "74c2e724-4e8b-49c5-914d-b5a8740c4407",
        "colab": {
          "base_uri": "https://localhost:8080/"
        }
      },
      "execution_count": 227,
      "outputs": [
        {
          "output_type": "execute_result",
          "data": {
            "text/plain": [
              "tensor([[10, 12],\n",
              "        [16, 18]])"
            ]
          },
          "metadata": {},
          "execution_count": 227
        }
      ]
    },
    {
      "cell_type": "code",
      "execution_count": 22,
      "metadata": {
        "id": "S4mRvMaesLKk"
      },
      "outputs": [],
      "source": [
        "data = [[1,2,3],[4,5,6]]\n",
        "arr = array (data)\n",
        "tns = tensor(data)"
      ]
    },
    {
      "cell_type": "code",
      "execution_count": 23,
      "metadata": {
        "colab": {
          "base_uri": "https://localhost:8080/"
        },
        "id": "t07IRxYasLKk",
        "outputId": "54694f9f-12bb-4aeb-b1bc-96ce53e0091b"
      },
      "outputs": [
        {
          "output_type": "execute_result",
          "data": {
            "text/plain": [
              "array([[1, 2, 3],\n",
              "       [4, 5, 6]])"
            ]
          },
          "metadata": {},
          "execution_count": 23
        }
      ],
      "source": [
        "arr  # numpy"
      ]
    },
    {
      "cell_type": "code",
      "execution_count": 24,
      "metadata": {
        "colab": {
          "base_uri": "https://localhost:8080/"
        },
        "id": "sFH4j7qlsLKk",
        "outputId": "221a7933-ab75-4a31-d8a0-318066bd0355"
      },
      "outputs": [
        {
          "output_type": "execute_result",
          "data": {
            "text/plain": [
              "tensor([[1, 2, 3],\n",
              "        [4, 5, 6]])"
            ]
          },
          "metadata": {},
          "execution_count": 24
        }
      ],
      "source": [
        "tns  # pytorch"
      ]
    },
    {
      "cell_type": "markdown",
      "metadata": {
        "id": "EzFuUX1XsLKk"
      },
      "source": [
        "All the operations that follow are shown on tensors, but the syntax and results for NumPy arrays is identical.\n",
        "\n",
        "You can select a row (note that, like lists in Python, tensors are 0-indexed so 1 refers to the second row/column):"
      ]
    },
    {
      "cell_type": "code",
      "execution_count": 25,
      "metadata": {
        "colab": {
          "base_uri": "https://localhost:8080/"
        },
        "id": "nFFXa6v1sLKk",
        "outputId": "e385bdf1-7a95-4acb-8faf-3c8aa6bb7865"
      },
      "outputs": [
        {
          "output_type": "execute_result",
          "data": {
            "text/plain": [
              "tensor([4, 5, 6])"
            ]
          },
          "metadata": {},
          "execution_count": 25
        }
      ],
      "source": [
        "tns[1]"
      ]
    },
    {
      "cell_type": "markdown",
      "metadata": {
        "id": "wzrSMDqvsLKl"
      },
      "source": [
        "or a column, by using `:` to indicate *all of the first axis* (we sometimes refer to the dimensions of tensors/arrays as *axes*):"
      ]
    },
    {
      "cell_type": "code",
      "execution_count": 26,
      "metadata": {
        "colab": {
          "base_uri": "https://localhost:8080/"
        },
        "id": "pNVlqUjjsLKl",
        "outputId": "f443676d-2456-48e5-9461-b87f3423b116"
      },
      "outputs": [
        {
          "output_type": "execute_result",
          "data": {
            "text/plain": [
              "tensor([2, 5])"
            ]
          },
          "metadata": {},
          "execution_count": 26
        }
      ],
      "source": [
        "tns[:,1]"
      ]
    },
    {
      "cell_type": "markdown",
      "metadata": {
        "id": "YMAVsMQTsLKl"
      },
      "source": [
        "You can combine these with Python slice syntax (`[start:end]` with `end` being excluded) to select part of a row or column:"
      ]
    },
    {
      "cell_type": "code",
      "execution_count": 27,
      "metadata": {
        "colab": {
          "base_uri": "https://localhost:8080/"
        },
        "id": "pyIQ6ub7sLKl",
        "outputId": "3fe094df-ad6b-4e29-c23d-b6f5f54cce1b"
      },
      "outputs": [
        {
          "output_type": "execute_result",
          "data": {
            "text/plain": [
              "tensor([5, 6])"
            ]
          },
          "metadata": {},
          "execution_count": 27
        }
      ],
      "source": [
        "tns[1,1:3]"
      ]
    },
    {
      "cell_type": "markdown",
      "metadata": {
        "id": "87d-0JUvsLKl"
      },
      "source": [
        "And you can use the standard operators such as `+`, `-`, `*`, `/`:"
      ]
    },
    {
      "cell_type": "code",
      "execution_count": 28,
      "metadata": {
        "colab": {
          "base_uri": "https://localhost:8080/"
        },
        "id": "whEv8-XpsLKl",
        "outputId": "94f287c2-a73d-4fd4-dc99-e01f60c37419"
      },
      "outputs": [
        {
          "output_type": "execute_result",
          "data": {
            "text/plain": [
              "tensor([[2, 3, 4],\n",
              "        [5, 6, 7]])"
            ]
          },
          "metadata": {},
          "execution_count": 28
        }
      ],
      "source": [
        "tns+1"
      ]
    },
    {
      "cell_type": "markdown",
      "metadata": {
        "id": "y9WJceSQsLKl"
      },
      "source": [
        "Tensors have a type:"
      ]
    },
    {
      "cell_type": "code",
      "execution_count": 29,
      "metadata": {
        "colab": {
          "base_uri": "https://localhost:8080/",
          "height": 34
        },
        "id": "yBWXdKqEsLKl",
        "outputId": "2244049d-c504-4fba-f695-3e2c1d57a54f"
      },
      "outputs": [
        {
          "output_type": "execute_result",
          "data": {
            "text/plain": [
              "'torch.LongTensor'"
            ],
            "application/vnd.google.colaboratory.intrinsic+json": {
              "type": "string"
            }
          },
          "metadata": {},
          "execution_count": 29
        }
      ],
      "source": [
        "tns.type()"
      ]
    },
    {
      "cell_type": "markdown",
      "metadata": {
        "id": "l-P5AG-ysLKm"
      },
      "source": [
        "And will automatically change type as needed, for example from `int` to `float`:"
      ]
    },
    {
      "cell_type": "code",
      "execution_count": 30,
      "metadata": {
        "colab": {
          "base_uri": "https://localhost:8080/"
        },
        "id": "lSyXsmHzsLKm",
        "outputId": "c6922c87-4e41-49e8-89c9-4da33fec37fe"
      },
      "outputs": [
        {
          "output_type": "execute_result",
          "data": {
            "text/plain": [
              "tensor([[1.5000, 3.0000, 4.5000],\n",
              "        [6.0000, 7.5000, 9.0000]])"
            ]
          },
          "metadata": {},
          "execution_count": 30
        }
      ],
      "source": [
        "tns*1.5"
      ]
    },
    {
      "cell_type": "markdown",
      "metadata": {
        "id": "cDHg8QbbsLKm"
      },
      "source": [
        "So, is our baseline model any good? To quantify this, we must define a metric."
      ]
    },
    {
      "cell_type": "markdown",
      "metadata": {
        "id": "ZZHeTWDUsLKm"
      },
      "source": [
        "## Computing Metrics Using Broadcasting"
      ]
    },
    {
      "cell_type": "markdown",
      "metadata": {
        "id": "8in6SzhGsLKm"
      },
      "source": [
        "Recall that a metric is a number that is calculated based on the predictions of our model, and the correct labels in our dataset, in order to tell us how good our model is. For instance, we could use either of the functions we saw in the previous section, mean squared error, or mean absolute error, and take the average of them over the whole dataset. However, neither of these are numbers that are very understandable to most people; in practice, we normally use *accuracy* as the metric for classification models.\n",
        "\n",
        "As we've discussed, we want to calculate our metric over a *validation set*. This is so that we don't inadvertently overfit—that is, train a model to work well only on our training data. This is not really a risk with the pixel similarity model we're using here as a first try, since it has no trained components, but we'll use a validation set anyway to follow normal practices and to be ready for our second try later.\n",
        "\n",
        "To get a validation set we need to remove some of the data from training entirely, so it is not seen by the model at all. As it turns out, the creators of the MNIST dataset have already done this for us. Do you remember how there was a whole separate directory called *testing*? That's what this directory is for!\n",
        "\n",
        "So to start with, let's create tensors for our 2s and 7s from that directory. These are the tensors we will use to calculate a metric measuring the quality of our first-try model, which measures distance from an ideal image:"
      ]
    },
    {
      "cell_type": "code",
      "execution_count": 31,
      "metadata": {
        "colab": {
          "base_uri": "https://localhost:8080/"
        },
        "id": "4l5YwXS4sLKm",
        "outputId": "12e8f6b4-7dd8-4449-d872-92634e339c1c"
      },
      "outputs": [
        {
          "output_type": "execute_result",
          "data": {
            "text/plain": [
              "(torch.Size([1032, 28, 28]), torch.Size([1028, 28, 28]))"
            ]
          },
          "metadata": {},
          "execution_count": 31
        }
      ],
      "source": [
        "valid_2_tens = torch.stack([tensor(Image.open(o)) \n",
        "                            for o in (path/'testing'/'2').ls()])\n",
        "valid_2_tens = valid_2_tens.float()/255\n",
        "valid_7_tens = torch.stack([tensor(Image.open(o)) \n",
        "                            for o in (path/'testing'/'7').ls()])\n",
        "valid_7_tens = valid_7_tens.float()/255\n",
        "valid_2_tens.shape,valid_7_tens.shape"
      ]
    },
    {
      "cell_type": "markdown",
      "metadata": {
        "id": "iWkM5ZqwsLKm"
      },
      "source": [
        "It's good to get in the habit of checking shapes as you go. Here we see two tensors, one representing the 2s validation set of 1,032 images of size 28×28, and one representing the 7s validation set of 1,028 images of size 28×28.\n",
        "\n",
        "We ultimately want to write a function, `is_2`, that will decide if an arbitrary image is a 2 or a 7. It will do this by deciding which of our two \"ideal digits\" this arbitrary image is closer to. For that we need to define a notion of distance—that is, a function that calculates the distance between two images.\n",
        "\n",
        "We can write a simple function that calculates the mean absolute error using an expression very similar to the one we wrote in the last section:"
      ]
    },
    {
      "cell_type": "code",
      "execution_count": 32,
      "metadata": {
        "colab": {
          "base_uri": "https://localhost:8080/"
        },
        "id": "SN_AOlUasLKn",
        "outputId": "d7497120-3e4a-4c64-c9a4-1e5889003ed1"
      },
      "outputs": [
        {
          "output_type": "execute_result",
          "data": {
            "text/plain": [
              "tensor(0.1350)"
            ]
          },
          "metadata": {},
          "execution_count": 32
        }
      ],
      "source": [
        "def mnist_distance(a,b): return (a-b).abs().mean((-1,-2))\n",
        "mnist_distance(a_2, mean2)"
      ]
    },
    {
      "cell_type": "markdown",
      "metadata": {
        "id": "aguAn-zSsLKn"
      },
      "source": [
        "This is the same value we previously calculated for the distance between these two images, the ideal 2 `mean2` and the arbitrary sample 2 `a_2`, which are both single-image tensors with a shape of `[28,28]`.\n",
        "\n",
        "But in order to calculate a metric for overall accuracy, we will need to calculate the distance to the ideal 2 for _every_ image in the validation set. How do we do that calculation? We could write a loop over all of the single-image tensors that are stacked within our validation set tensor, `valid_2_tens`, which has a shape of `[1010,28,28]` representing 1,032 images. But there is a better way.\n",
        "\n",
        "Something very interesting happens when we take this exact same distance function, designed for comparing two single images, but pass in as an argument `valid_2_tens`, the tensor that represents the 2s validation set:"
      ]
    },
    {
      "cell_type": "code",
      "execution_count": 33,
      "metadata": {
        "colab": {
          "base_uri": "https://localhost:8080/"
        },
        "id": "xCW0hQ0NsLKn",
        "outputId": "8e9b523a-fb1e-4902-bc54-b3379356a473"
      },
      "outputs": [
        {
          "output_type": "execute_result",
          "data": {
            "text/plain": [
              "(tensor([0.1475, 0.1354, 0.1679,  ..., 0.1749, 0.1530, 0.1532]),\n",
              " torch.Size([1032]))"
            ]
          },
          "metadata": {},
          "execution_count": 33
        }
      ],
      "source": [
        "valid_2_dist = mnist_distance(valid_2_tens, mean2)\n",
        "valid_2_dist, valid_2_dist.shape"
      ]
    },
    {
      "cell_type": "markdown",
      "metadata": {
        "id": "kpCjE3_BsLKn"
      },
      "source": [
        "Instead of complaining about shapes not matching, it returned the distance for every single image as a vector (i.e., a rank-1 tensor) of length 1,032 (the number of 3s in our validation set). How did that happen?\n",
        "\n",
        "Take another look at our function `mnist_distance`, and you'll see we have there the subtraction `(a-b)`. The magic trick is that PyTorch, when it tries to perform a simple subtraction operation between two tensors of different ranks, will use *broadcasting*. That is, it will automatically expand the tensor with the smaller rank to have the same size as the one with the larger rank. Broadcasting is an important capability that makes tensor code much easier to write.\n",
        "\n",
        "After broadcasting so the two argument tensors have the same rank, PyTorch applies its usual logic for two tensors of the same rank: it performs the operation on each corresponding element of the two tensors, and returns the tensor result. For instance:"
      ]
    },
    {
      "cell_type": "code",
      "execution_count": 35,
      "metadata": {
        "colab": {
          "base_uri": "https://localhost:8080/"
        },
        "id": "S0zgaaE2sLKo",
        "outputId": "dc21385c-7a2c-4a07-b88d-6a0c290fae60"
      },
      "outputs": [
        {
          "output_type": "execute_result",
          "data": {
            "text/plain": [
              "tensor([2, 3, 4])"
            ]
          },
          "metadata": {},
          "execution_count": 35
        }
      ],
      "source": [
        "tensor([1,2,3]) + tensor(1)"
      ]
    },
    {
      "cell_type": "markdown",
      "metadata": {
        "id": "hwWXUaPcsLKo"
      },
      "source": [
        "So in this case, PyTorch treats `mean2`, a rank-2 tensor representing a single image, as if it were 1,032 copies of the same image, and then subtracts each of those copies from each 2 in our validation set. What shape would you expect this tensor to have? Try to figure it out yourself before you look at the answer below:"
      ]
    },
    {
      "cell_type": "code",
      "execution_count": 36,
      "metadata": {
        "colab": {
          "base_uri": "https://localhost:8080/"
        },
        "id": "2Yo3NWRbsLKo",
        "outputId": "61f0a04c-0445-4dcb-ded7-03a101650ff2"
      },
      "outputs": [
        {
          "output_type": "execute_result",
          "data": {
            "text/plain": [
              "torch.Size([1032, 28, 28])"
            ]
          },
          "metadata": {},
          "execution_count": 36
        }
      ],
      "source": [
        "(valid_2_tens-mean2).shape"
      ]
    },
    {
      "cell_type": "markdown",
      "metadata": {
        "id": "YDZbj02IsLKo"
      },
      "source": [
        "We are calculating the difference between our \"ideal 2\" and each of the 1,032 2s in the validation set, for each of 28×28 images, resulting in the shape `[1032,28,28]`.\n",
        "\n",
        "There are a couple of important points about how broadcasting is implemented, which make it valuable not just for expressivity but also for performance:\n",
        "\n",
        "- PyTorch doesn't *actually* copy `mean3` 1,032 times. It *pretends* it were a tensor of that shape, but doesn't actually allocate any additional memory\n",
        "- It does the whole calculation in C (or, if you're using a GPU, in CUDA, the equivalent of C on the GPU), tens of thousands of times faster than pure Python (up to millions of times faster on a GPU!).\n",
        "\n",
        "This is true of all broadcasting and elementwise operations and functions done in PyTorch. *It's the most important technique for you to know to create efficient PyTorch code.*\n",
        "\n",
        "Next in `mnist_distance` we see `abs`. You might be able to guess now what this does when applied to a tensor. It applies the method to each individual element in the tensor, and returns a tensor of the results (that is, it applies the method \"elementwise\"). So in this case, we'll get back 1,032 matrices of absolute values.\n",
        "\n",
        "Finally, our function calls `mean((-1,-2))`. The tuple `(-1,-2)` represents a range of axes. In Python, `-1` refers to the last element, and `-2` refers to the second-to-last. So in this case, this tells PyTorch that we want to take the mean ranging over the values indexed by the last two axes of the tensor. The last two axes are the horizontal and vertical dimensions of an image. After taking the mean over the last two axes, we are left with just the first tensor axis, which indexes over our images, which is why our final size was `(1032)`. In other words, for every image, we averaged the intensity of all the pixels in that image.\n",
        "\n",
        "We can use `mnist_distance` to figure out whether an image is a 2 or not by using the following logic: if the distance between the digit in question and the ideal 2 is less than the distance to the ideal 7, then it's a 2. This function will automatically do broadcasting and be applied elementwise, just like all PyTorch functions and operators:"
      ]
    },
    {
      "cell_type": "code",
      "execution_count": 37,
      "metadata": {
        "id": "Je7B73T0sLKp"
      },
      "outputs": [],
      "source": [
        "def is_2(x): return mnist_distance(x,mean2) < mnist_distance(x,mean7)"
      ]
    },
    {
      "cell_type": "markdown",
      "metadata": {
        "id": "xF0o3OMQsLKp"
      },
      "source": [
        "Let's test it on our example case:"
      ]
    },
    {
      "cell_type": "code",
      "execution_count": 39,
      "metadata": {
        "colab": {
          "base_uri": "https://localhost:8080/"
        },
        "id": "aebwTw_MsLKp",
        "outputId": "1bea68b1-382b-4d11-f012-e763c67c02bf"
      },
      "outputs": [
        {
          "output_type": "execute_result",
          "data": {
            "text/plain": [
              "(tensor(True), tensor(1.))"
            ]
          },
          "metadata": {},
          "execution_count": 39
        }
      ],
      "source": [
        "is_2(a_2), is_2(a_2).float()"
      ]
    },
    {
      "cell_type": "markdown",
      "metadata": {
        "id": "nTraKwU0sLKq"
      },
      "source": [
        "Note that when we convert the Boolean response to a float, we get `1.0` for `True` and `0.0` for `False`. Thanks to broadcasting, we can also test it on the full validation set of 2s:"
      ]
    },
    {
      "cell_type": "code",
      "execution_count": 40,
      "metadata": {
        "colab": {
          "base_uri": "https://localhost:8080/"
        },
        "id": "dSISjX2esLKq",
        "outputId": "f4838059-b336-4e21-854d-b52dad9de171"
      },
      "outputs": [
        {
          "output_type": "execute_result",
          "data": {
            "text/plain": [
              "tensor([True, True, True,  ..., True, True, True])"
            ]
          },
          "metadata": {},
          "execution_count": 40
        }
      ],
      "source": [
        "is_2(valid_2_tens)"
      ]
    },
    {
      "cell_type": "markdown",
      "metadata": {
        "id": "5f9P0QHvsLKr"
      },
      "source": [
        "Now we can calculate the accuracy for each of the 2s and 7s by taking the average of that function for all 2s and its inverse for all 7s:"
      ]
    },
    {
      "cell_type": "code",
      "execution_count": 41,
      "metadata": {
        "colab": {
          "base_uri": "https://localhost:8080/"
        },
        "id": "yaEU7h12sLKr",
        "outputId": "e09be893-f2f7-412f-c662-6a31968921f4"
      },
      "outputs": [
        {
          "output_type": "execute_result",
          "data": {
            "text/plain": [
              "(tensor(0.8740), tensor(0.9825), tensor(0.9283))"
            ]
          },
          "metadata": {},
          "execution_count": 41
        }
      ],
      "source": [
        "accuracy_2s =      is_2(valid_2_tens).float() .mean()\n",
        "accuracy_7s = (1 - is_2(valid_7_tens).float()).mean()\n",
        "\n",
        "accuracy_2s,accuracy_7s,(accuracy_2s+accuracy_7s)/2"
      ]
    },
    {
      "cell_type": "markdown",
      "metadata": {
        "id": "ZKyJZ2M3sLKr"
      },
      "source": [
        "This looks like a pretty good start! We're getting over 90% accuracy on both 2s and 7s, and we've seen how to define a metric conveniently using broadcasting.\n",
        "\n",
        "To do better, perhaps it is time to try a system that does some real learning—that is, that can automatically modify itself to improve its performance. In other words, it's time to talk about the training process, and SGD."
      ]
    },
    {
      "cell_type": "markdown",
      "metadata": {
        "id": "9EvQ-FhCsLKr"
      },
      "source": [
        "## Stochastic Gradient Descent (SGD)"
      ]
    },
    {
      "cell_type": "markdown",
      "metadata": {
        "id": "rdADzV-osLKr"
      },
      "source": [
        "\"Suppose we arrange for some automatic means of testing the effectiveness of any current weight assignment in terms of actual performance and provide a mechanism for altering the weight assignment so as to maximize the performance.\" We need not go into the details of such a procedure to see that it could be made entirely automatic and to see that a machine so programmed would \"learn\" from its experience.\n",
        "\n",
        "As we discussed, this is the key to allowing us to have a model that can get better and better—that can learn. But our pixel similarity approach does not really do this. We do not have any kind of weight assignment, or any way of improving based on testing the effectiveness of a weight assignment. In other words, we can't really improve our pixel similarity approach by modifying a set of parameters. In order to take advantage of the power of deep learning, we will first have to represent our task in the way that Arthur Samuel described it.\n",
        "\n",
        "Instead of trying to find the similarity between an image and an \"ideal image,\" we could instead look at each individual pixel and come up with a set of weights for each one, such that the highest weights are associated with those pixels most likely to be black for a particular category. For instance, pixels toward the bottom right are not very likely to be activated for a 7, so they should have a low weight for a 7, but they are likely to be activated for an 8, so they should have a high weight for an 8. This can be represented as a function and set of weight values for each possible category—for instance the probability of being the number 8:\n",
        "\n",
        "```\n",
        "def pr_eight(x,w): return (x*w).sum()\n",
        "```"
      ]
    },
    {
      "cell_type": "markdown",
      "metadata": {
        "id": "8FnnkOY9sLKs"
      },
      "source": [
        "Here we are assuming that `x` is the image, represented as a vector—in other words, with all of the rows stacked up end to end into a single long line. And we are assuming that the weights are a vector `w`. If we have this function, then we just need some way to update the weights to make them a little bit better. With such an approach, we can repeat that step a number of times, making the weights better and better, until they are as good as we can make them.\n",
        "\n",
        "We want to find the specific values for the vector `w` that causes the result of our function to be high for those images that are actually 8s, and low for those images that are not. Searching for the best vector `w` is a way to search for the best function for recognising 8s. (Because we are not yet using a deep neural network, we are limited by what our function can actually do—we are going to fix that constraint later). \n",
        "\n",
        "To be more specific, here are the steps that we are going to require, to turn this function into a machine learning classifier:\n",
        "\n",
        "1. *Initialize* the weights.\n",
        "1. For each image, use these weights to *predict* whether it appears to be a 2 or a 7.\n",
        "1. Based on these predictions, calculate how good the model is (its *loss*).\n",
        "1. Calculate the *gradient*, which measures for each weight, how changing that weight would change the loss\n",
        "1. *Step* (that is, change) all the weights based on that calculation.\n",
        "1. Go back to the step 2, and *repeat* the process.\n",
        "1. Iterate until you decide to *stop* the training process (for instance, because the model is good enough or you don't want to wait any longer)."
      ]
    },
    {
      "cell_type": "markdown",
      "metadata": {
        "id": "7narFPFgsLKs"
      },
      "source": [
        "These seven steps, illustrated in the following diagram, are the key to the training of all deep learning models. That deep learning turns out to rely entirely on these steps is extremely surprising and counterintuitive. It's amazing that this process can solve such complex problems. But, as you'll see, it really does!"
      ]
    },
    {
      "cell_type": "code",
      "execution_count": 42,
      "metadata": {
        "hide_input": true,
        "colab": {
          "base_uri": "https://localhost:8080/",
          "height": 125
        },
        "id": "3Ig0-CK3sLKs",
        "outputId": "511ec882-51ac-477f-9712-d5968a679f48"
      },
      "outputs": [
        {
          "output_type": "execute_result",
          "data": {
            "text/plain": [
              "<graphviz.files.Source at 0x7fb35919e9d0>"
            ],
            "image/svg+xml": "<?xml version=\"1.0\" encoding=\"UTF-8\" standalone=\"no\"?>\n<!DOCTYPE svg PUBLIC \"-//W3C//DTD SVG 1.1//EN\"\n \"http://www.w3.org/Graphics/SVG/1.1/DTD/svg11.dtd\">\n<!-- Generated by graphviz version 2.40.1 (20161225.0304)\n -->\n<!-- Title: G Pages: 1 -->\n<svg width=\"597pt\" height=\"78pt\"\n viewBox=\"0.00 0.00 596.69 78.00\" xmlns=\"http://www.w3.org/2000/svg\" xmlns:xlink=\"http://www.w3.org/1999/xlink\">\n<g id=\"graph0\" class=\"graph\" transform=\"scale(1 1) rotate(0) translate(4 74)\">\n<title>G</title>\n<polygon fill=\"#ffffff\" stroke=\"transparent\" points=\"-4,4 -4,-74 592.6863,-74 592.6863,4 -4,4\"/>\n<!-- init -->\n<g id=\"node1\" class=\"node\">\n<title>init</title>\n<ellipse fill=\"none\" stroke=\"#000000\" cx=\"27\" cy=\"-18\" rx=\"27\" ry=\"18\"/>\n<text text-anchor=\"middle\" x=\"27\" y=\"-14.3\" font-family=\"Times,serif\" font-size=\"14.00\" fill=\"#000000\">init</text>\n</g>\n<!-- predict -->\n<g id=\"node2\" class=\"node\">\n<title>predict</title>\n<ellipse fill=\"none\" stroke=\"#000000\" cx=\"127.3968\" cy=\"-18\" rx=\"36.2938\" ry=\"18\"/>\n<text text-anchor=\"middle\" x=\"127.3968\" y=\"-14.3\" font-family=\"Times,serif\" font-size=\"14.00\" fill=\"#000000\">predict</text>\n</g>\n<!-- init&#45;&gt;predict -->\n<g id=\"edge1\" class=\"edge\">\n<title>init&#45;&gt;predict</title>\n<path fill=\"none\" stroke=\"#000000\" d=\"M54.1688,-18C62.3543,-18 71.5827,-18 80.6596,-18\"/>\n<polygon fill=\"#000000\" stroke=\"#000000\" points=\"80.7795,-21.5001 90.7795,-18 80.7795,-14.5001 80.7795,-21.5001\"/>\n</g>\n<!-- loss -->\n<g id=\"node3\" class=\"node\">\n<title>loss</title>\n<ellipse fill=\"none\" stroke=\"#000000\" cx=\"227.7935\" cy=\"-52\" rx=\"27\" ry=\"18\"/>\n<text text-anchor=\"middle\" x=\"227.7935\" y=\"-48.3\" font-family=\"Times,serif\" font-size=\"14.00\" fill=\"#000000\">loss</text>\n</g>\n<!-- predict&#45;&gt;loss -->\n<g id=\"edge2\" class=\"edge\">\n<title>predict&#45;&gt;loss</title>\n<path fill=\"none\" stroke=\"#000000\" d=\"M157.5191,-28.2011C168.9806,-32.0826 182.1139,-36.5303 193.9014,-40.5222\"/>\n<polygon fill=\"#000000\" stroke=\"#000000\" points=\"192.8259,-43.8532 203.4202,-43.7458 195.0713,-37.2231 192.8259,-43.8532\"/>\n</g>\n<!-- gradient -->\n<g id=\"node4\" class=\"node\">\n<title>gradient</title>\n<ellipse fill=\"none\" stroke=\"#000000\" cx=\"365.7399\" cy=\"-52\" rx=\"40.8928\" ry=\"18\"/>\n<text text-anchor=\"middle\" x=\"365.7399\" y=\"-48.3\" font-family=\"Times,serif\" font-size=\"14.00\" fill=\"#000000\">gradient</text>\n</g>\n<!-- loss&#45;&gt;gradient -->\n<g id=\"edge3\" class=\"edge\">\n<title>loss&#45;&gt;gradient</title>\n<path fill=\"none\" stroke=\"#000000\" d=\"M255.0473,-52C272.0415,-52 294.4481,-52 314.6545,-52\"/>\n<polygon fill=\"#000000\" stroke=\"#000000\" points=\"314.671,-55.5001 324.671,-52 314.671,-48.5001 314.671,-55.5001\"/>\n</g>\n<!-- step -->\n<g id=\"node5\" class=\"node\">\n<title>step</title>\n<ellipse fill=\"none\" stroke=\"#000000\" cx=\"470.6863\" cy=\"-18\" rx=\"27\" ry=\"18\"/>\n<text text-anchor=\"middle\" x=\"470.6863\" y=\"-14.3\" font-family=\"Times,serif\" font-size=\"14.00\" fill=\"#000000\">step</text>\n</g>\n<!-- gradient&#45;&gt;step -->\n<g id=\"edge4\" class=\"edge\">\n<title>gradient&#45;&gt;step</title>\n<path fill=\"none\" stroke=\"#000000\" d=\"M398.9456,-41.2422C410.9558,-37.3512 424.5297,-32.9536 436.6132,-29.0388\"/>\n<polygon fill=\"#000000\" stroke=\"#000000\" points=\"437.9112,-32.2975 446.3457,-25.8857 435.7537,-25.6382 437.9112,-32.2975\"/>\n</g>\n<!-- step&#45;&gt;predict -->\n<g id=\"edge6\" class=\"edge\">\n<title>step&#45;&gt;predict</title>\n<path fill=\"none\" stroke=\"#000000\" d=\"M443.4266,-18C384.9297,-18 246.7861,-18 174.0495,-18\"/>\n<polygon fill=\"#000000\" stroke=\"#000000\" points=\"173.8098,-14.5001 163.8098,-18 173.8097,-21.5001 173.8098,-14.5001\"/>\n<text text-anchor=\"middle\" x=\"289.7935\" y=\"-21.8\" font-family=\"Times,serif\" font-size=\"14.00\" fill=\"#000000\">repeat</text>\n</g>\n<!-- stop -->\n<g id=\"node6\" class=\"node\">\n<title>stop</title>\n<ellipse fill=\"none\" stroke=\"#000000\" cx=\"561.6863\" cy=\"-18\" rx=\"27\" ry=\"18\"/>\n<text text-anchor=\"middle\" x=\"561.6863\" y=\"-14.3\" font-family=\"Times,serif\" font-size=\"14.00\" fill=\"#000000\">stop</text>\n</g>\n<!-- step&#45;&gt;stop -->\n<g id=\"edge5\" class=\"edge\">\n<title>step&#45;&gt;stop</title>\n<path fill=\"none\" stroke=\"#000000\" d=\"M497.9893,-18C506.2676,-18 515.508,-18 524.3268,-18\"/>\n<polygon fill=\"#000000\" stroke=\"#000000\" points=\"524.4026,-21.5001 534.4025,-18 524.4025,-14.5001 524.4026,-21.5001\"/>\n</g>\n</g>\n</svg>\n"
          },
          "metadata": {},
          "execution_count": 42
        }
      ],
      "source": [
        "#id gradient_descent\n",
        "#caption The gradient descent process\n",
        "#alt Graph showing the steps for Gradient Descent\n",
        "gv('''\n",
        "init->predict->loss->gradient->step->stop\n",
        "step->predict[label=repeat]\n",
        "''')"
      ]
    },
    {
      "cell_type": "markdown",
      "metadata": {
        "id": "z7YygguJsLKs"
      },
      "source": [
        "There are many different ways to do each of these seven steps, and we will be learning about them. These are the details that make a big difference for deep learning practitioners, but it turns out that the general approach to each one generally follows some basic principles. Here are a few guidelines:\n",
        "\n",
        "- Initialize:: We initialize the parameters to random values. This may sound surprising. There are certainly other choices we could make, such as initializing them to the percentage of times that pixel is activated for that category—but since we already know that we have a routine to improve these weights, it turns out that just starting with random weights works perfectly well.\n",
        "- Loss:: This is what Samuel referred to when he spoke of *testing the effectiveness of any current weight assignment in terms of actual performance*. We need some function that will return a number that is small if the performance of the model is good (the standard approach is to treat a small loss as good, and a large loss as bad, although this is just a convention).\n",
        "- Step:: A simple way to figure out whether a weight should be increased a bit, or decreased a bit, would be just to try it: increase the weight by a small amount, and see if the loss goes up or down. Once you find the correct direction, you could then change that amount by a bit more, and a bit less, until you find an amount that works well. However, this is slow! As we will see, the magic of calculus allows us to directly figure out in which direction, and by roughly how much, to change each weight, without having to try all these small changes. The way to do this is by calculating *gradients*. This is just a performance optimization, we would get exactly the same results by using the slower manual process as well.\n",
        "- Stop:: Once we've decided how many epochs to train the model for (a few suggestions for this were given in the earlier list), we apply that decision. This is where that decision is applied. For our digit classifier, we would keep training until the accuracy of the model started getting worse, or we ran out of time."
      ]
    },
    {
      "cell_type": "markdown",
      "metadata": {
        "id": "XcDCgnXAsLKs"
      },
      "source": [
        "Before applying these steps to our image classification problem, let's illustrate what they look like in a simpler case. First we will define a very simple function, the quadratic—let's pretend that this is our loss function, and `x` is a weight parameter of the function:"
      ]
    },
    {
      "cell_type": "code",
      "execution_count": 43,
      "metadata": {
        "id": "OBT2NtqjsLKs"
      },
      "outputs": [],
      "source": [
        "def f(x): return x**2"
      ]
    },
    {
      "cell_type": "code",
      "source": [
        "matplotlib.rc('image', cmap='Greys')"
      ],
      "metadata": {
        "id": "OICW-9QKn_zy"
      },
      "execution_count": 46,
      "outputs": []
    },
    {
      "cell_type": "code",
      "source": [
        "def plot_function(f, tx=None, ty=None, title=None, min=-2, max=2, figsize=(6,4)):\n",
        "    x = torch.linspace(min,max,steps=100)\n",
        "    fig,ax = plt.subplots(figsize=figsize)\n",
        "    ax.plot(x,f(x))\n",
        "    if tx is not None: ax.set_xlabel(tx)\n",
        "    if ty is not None: ax.set_ylabel(ty)\n",
        "    if title is not None: ax.set_title(title)"
      ],
      "metadata": {
        "id": "sz_qBPfAo7e-"
      },
      "execution_count": 47,
      "outputs": []
    },
    {
      "cell_type": "markdown",
      "metadata": {
        "id": "lC_YrXzysLKs"
      },
      "source": [
        "Here is a graph of that function:"
      ]
    },
    {
      "cell_type": "code",
      "execution_count": 48,
      "metadata": {
        "colab": {
          "base_uri": "https://localhost:8080/",
          "height": 268
        },
        "id": "YMpLUiUksLKt",
        "outputId": "4fdaec20-152e-4310-8746-0163491520fe"
      },
      "outputs": [
        {
          "output_type": "display_data",
          "data": {
            "text/plain": [
              "<Figure size 432x288 with 1 Axes>"
            ],
            "image/png": "[encoded data removed]"
          },
          "metadata": {
            "needs_background": "light"
          }
        }
      ],
      "source": [
        "plot_function(f)"
      ]
    },
    {
      "cell_type": "markdown",
      "metadata": {
        "id": "zzONU_1BsLKt"
      },
      "source": [
        "The sequence of steps we described earlier starts by picking some random value for a parameter, and calculating the value of the loss:"
      ]
    },
    {
      "cell_type": "code",
      "execution_count": 49,
      "metadata": {
        "colab": {
          "base_uri": "https://localhost:8080/",
          "height": 285
        },
        "id": "GbjcgunAsLKt",
        "outputId": "2484bafe-6c67-491b-be11-ac3419cde732"
      },
      "outputs": [
        {
          "output_type": "display_data",
          "data": {
            "text/plain": [
              "<Figure size 432x288 with 1 Axes>"
            ],
            "image/png": "[encoded data removed]"
          },
          "metadata": {
            "needs_background": "light"
          }
        }
      ],
      "source": [
        "plot_function(f, 'x', 'x**2')\n",
        "plt.scatter(-1.5, f(-1.5), color='red');"
      ]
    },
    {
      "cell_type": "markdown",
      "metadata": {
        "id": "ghkuQdnAsLKt"
      },
      "source": [
        "Now we look to see what would happen if we increased or decreased our parameter by a little bit—the *adjustment*. This is simply the slope at a particular point:"
      ]
    },
    {
      "cell_type": "markdown",
      "metadata": {
        "id": "M4smqQGZsLKt"
      },
      "source": [
        "<img alt=\"A graph showing the squared function with the slope at one point\" width=\"400\" src=\"https://github.com/fastai/fastbook/blob/master/images/grad_illustration.svg?raw=1\"/>"
      ]
    },
    {
      "cell_type": "markdown",
      "metadata": {
        "id": "O6hETzBOsLKt"
      },
      "source": [
        "We can change our weight by a little in the direction of the slope, calculate our loss and adjustment again, and repeat this a few times. Eventually, we will get to the lowest point on our curve:"
      ]
    },
    {
      "cell_type": "markdown",
      "metadata": {
        "id": "mmCxtwwhsLKt"
      },
      "source": [
        "<img alt=\"An illustration of gradient descent\" width=\"400\" src=\"https://github.com/fastai/fastbook/blob/master/images/chapter2_perfect.svg?raw=1\"/>"
      ]
    },
    {
      "cell_type": "markdown",
      "metadata": {
        "id": "lB5zrV8usLKt"
      },
      "source": [
        "This basic idea goes all the way back to Isaac Newton, who pointed out that we can optimize arbitrary functions in this way. Regardless of how complicated our functions become, this basic approach of gradient descent will not significantly change. The only minor changes we will see later in this book are some handy ways we can make it faster, by finding better steps."
      ]
    },
    {
      "cell_type": "markdown",
      "metadata": {
        "id": "2klzJTS4sLKu"
      },
      "source": [
        "### Calculating Gradients"
      ]
    },
    {
      "cell_type": "markdown",
      "metadata": {
        "id": "F_fzO077sLKu"
      },
      "source": [
        "The one magic step is the bit where we calculate the gradients. As we mentioned, we use calculus as a performance optimization; it allows us to more quickly calculate whether our loss will go up or down when we adjust our parameters up or down. In other words, the gradients will tell us how much we have to change each weight to make our model better.\n",
        "\n",
        "The key point about a derivative is this: for any function, such as the quadratic function we saw in the previous section, we can calculate its derivative. The derivative is another function. It calculates the change, rather than the value. For instance, the derivative of the quadratic function at the value 2 tells us how rapidly the function changes at the value 2. More specifically, you may recall that gradient is defined as *rise/run*, that is, the change in the value of the function, divided by the change in the value of the parameter. When we know how our function will change, then we know what we need to do to make it smaller. This is the key to machine learning: having a way to change the parameters of a function to make it smaller. Calculus provides us with a computational shortcut, the derivative, which lets us directly calculate the gradients of our functions."
      ]
    },
    {
      "cell_type": "markdown",
      "metadata": {
        "id": "zDiLJEhgsLKu"
      },
      "source": [
        "One important thing to be aware of is that our function has lots of weights that we need to adjust, so when we calculate the derivative we won't get back one number, but lots of them—a gradient for every weight. But there is nothing mathematically tricky here; you can calculate the derivative with respect to one weight, and treat all the other ones as constant, then repeat that for each other weight. This is how all of the gradients are calculated, for every weight.\n",
        "\n",
        "We mentioned just now that you won't have to calculate any gradients yourself. How can that be? Amazingly enough, PyTorch is able to automatically compute the derivative of nearly any function! What's more, it does it very fast. Most of the time, it will be at least as fast as any derivative function that you can create by hand. Let's see an example.\n",
        "\n",
        "First, let's pick a tensor value which we want gradients at:"
      ]
    },
    {
      "cell_type": "code",
      "execution_count": 50,
      "metadata": {
        "id": "kFSX903usLKu"
      },
      "outputs": [],
      "source": [
        "xt = tensor(3.).requires_grad_()"
      ]
    },
    {
      "cell_type": "markdown",
      "metadata": {
        "id": "fjXC4dAPsLKu"
      },
      "source": [
        "Notice the special method `requires_grad_`? That's the magical incantation we use to tell PyTorch that we want to calculate gradients with respect to that variable at that value. It is essentially tagging the variable, so PyTorch will remember to keep track of how to compute gradients of the other, direct calculations on it that you will ask for.\n",
        "\n",
        "Now we calculate our function with that value. Notice how PyTorch prints not just the value calculated, but also a note that it has a gradient function it'll be using to calculate our gradients when needed:"
      ]
    },
    {
      "cell_type": "code",
      "execution_count": 51,
      "metadata": {
        "colab": {
          "base_uri": "https://localhost:8080/"
        },
        "id": "i6EFfvqRsLKu",
        "outputId": "295dffd4-6b20-4c84-c930-6a719660b8f3"
      },
      "outputs": [
        {
          "output_type": "execute_result",
          "data": {
            "text/plain": [
              "tensor(9., grad_fn=<PowBackward0>)"
            ]
          },
          "metadata": {},
          "execution_count": 51
        }
      ],
      "source": [
        "yt = f(xt)\n",
        "yt"
      ]
    },
    {
      "cell_type": "markdown",
      "metadata": {
        "id": "MBDnt374sLKv"
      },
      "source": [
        "Finally, we tell PyTorch to calculate the gradients for us:"
      ]
    },
    {
      "cell_type": "code",
      "execution_count": 52,
      "metadata": {
        "id": "vyp-D_sIsLKv"
      },
      "outputs": [],
      "source": [
        "yt.backward()"
      ]
    },
    {
      "cell_type": "markdown",
      "metadata": {
        "id": "fWWZYt3nsLKv"
      },
      "source": [
        "The \"backward\" here refers to *backpropagation*, which is the name given to the process of calculating the derivative of each layer. This is called the \"backward pass\" of the network, as opposed to the \"forward pass,\" which is where the activations are calculated. Life would probably be easier if `backward` was just called `calculate_grad`, but deep learning folks really do like to add jargon everywhere they can!"
      ]
    },
    {
      "cell_type": "markdown",
      "metadata": {
        "id": "JOBqF6kjsLKv"
      },
      "source": [
        "We can now view the gradients by checking the `grad` attribute of our tensor:"
      ]
    },
    {
      "cell_type": "code",
      "execution_count": 53,
      "metadata": {
        "colab": {
          "base_uri": "https://localhost:8080/"
        },
        "id": "XjyTz9lksLKv",
        "outputId": "093ba85e-5cd9-4cf6-ffd9-ad8759d1c522"
      },
      "outputs": [
        {
          "output_type": "execute_result",
          "data": {
            "text/plain": [
              "tensor(6.)"
            ]
          },
          "metadata": {},
          "execution_count": 53
        }
      ],
      "source": [
        "xt.grad"
      ]
    },
    {
      "cell_type": "markdown",
      "metadata": {
        "id": "8vEgGSpusLKv"
      },
      "source": [
        "If you remember your high school calculus rules, the derivative of `x**2` is `2*x`, and we have `x=3`, so the gradients should be `2*3=6`, which is what PyTorch calculated for us!\n",
        "\n",
        "Now we'll repeat the preceding steps, but with a vector argument for our function:"
      ]
    },
    {
      "cell_type": "code",
      "execution_count": 54,
      "metadata": {
        "colab": {
          "base_uri": "https://localhost:8080/"
        },
        "id": "1d86EOVSsLKz",
        "outputId": "61aedd65-9f89-4c90-bbbb-a921df36cdb6"
      },
      "outputs": [
        {
          "output_type": "execute_result",
          "data": {
            "text/plain": [
              "tensor([ 3.,  4., 10.], requires_grad=True)"
            ]
          },
          "metadata": {},
          "execution_count": 54
        }
      ],
      "source": [
        "xt = tensor([3.,4.,10.]).requires_grad_()\n",
        "xt"
      ]
    },
    {
      "cell_type": "markdown",
      "metadata": {
        "id": "cw2JGNMlsLKz"
      },
      "source": [
        "And we'll add `sum` to our function so it can take a vector (i.e., a rank-1 tensor), and return a scalar (i.e., a rank-0 tensor):"
      ]
    },
    {
      "cell_type": "code",
      "execution_count": 55,
      "metadata": {
        "colab": {
          "base_uri": "https://localhost:8080/"
        },
        "id": "E1evwt9JsLKz",
        "outputId": "650eaafa-d896-4779-f224-ef4317e44492"
      },
      "outputs": [
        {
          "output_type": "execute_result",
          "data": {
            "text/plain": [
              "tensor(125., grad_fn=<SumBackward0>)"
            ]
          },
          "metadata": {},
          "execution_count": 55
        }
      ],
      "source": [
        "def f(x): return (x**2).sum()\n",
        "\n",
        "yt = f(xt)\n",
        "yt"
      ]
    },
    {
      "cell_type": "markdown",
      "metadata": {
        "id": "j-sDcu1isLKz"
      },
      "source": [
        "Our gradients are `2*xt`, as we'd expect!"
      ]
    },
    {
      "cell_type": "code",
      "execution_count": 56,
      "metadata": {
        "colab": {
          "base_uri": "https://localhost:8080/"
        },
        "id": "QMy-yNeqsLKz",
        "outputId": "9e69c980-9b98-4f56-c9d8-24b255af87ff"
      },
      "outputs": [
        {
          "output_type": "execute_result",
          "data": {
            "text/plain": [
              "tensor([ 6.,  8., 20.])"
            ]
          },
          "metadata": {},
          "execution_count": 56
        }
      ],
      "source": [
        "yt.backward()\n",
        "xt.grad"
      ]
    },
    {
      "cell_type": "markdown",
      "metadata": {
        "id": "t_nmKs4WsLK0"
      },
      "source": [
        "The gradients only tell us the slope of our function, they don't actually tell us exactly how far to adjust the parameters. But it gives us some idea of how far; if the slope is very large, then that may suggest that we have more adjustments to do, whereas if the slope is very small, that may suggest that we are close to the optimal value."
      ]
    },
    {
      "cell_type": "markdown",
      "metadata": {
        "id": "fAqJ6424sLK0"
      },
      "source": [
        "### Stepping With a Learning Rate"
      ]
    },
    {
      "cell_type": "markdown",
      "metadata": {
        "id": "MXlGfBycsLK0"
      },
      "source": [
        "Deciding how to change our parameters based on the values of the gradients is an important part of the deep learning process. Nearly all approaches start with the basic idea of multiplying the gradient by some small number, called the *learning rate* (LR). The learning rate is often a number between 0.001 and 0.1, although it could be anything. Often, people select a learning rate just by trying a few, and finding which results in the best model after training. Once you've picked a learning rate, you can adjust your parameters using this simple function:\n",
        "\n",
        "```\n",
        "w -= gradient(w) * lr\n",
        "```\n",
        "\n",
        "This is known as *stepping* your parameters, using an *optimizer step*. Notice how we _subtract_ the `gradient * lr` from the parameter to update it.  This allows us to adjust the parameter in the direction of the slope by increasing the parameter when the slope is negative and decreasing the parameter when the slope is positive.  We want to adjust our parameters in the direction of the slope because our goal in deep learning is to _minimize_ the loss.\n",
        "\n",
        "If you pick a learning rate that's too low, it can mean having to do a lot of steps."
      ]
    },
    {
      "cell_type": "markdown",
      "metadata": {
        "id": "8qvrL5yLsLK0"
      },
      "source": [
        "<img alt=\"An illustration of gradient descent with a LR too low\" width=\"400\" caption=\"Gradient descent with low LR\" src=\"https://github.com/fastai/fastbook/blob/master/images/chapter2_small.svg?raw=1\" id=\"descent_small\"/>"
      ]
    },
    {
      "cell_type": "markdown",
      "metadata": {
        "id": "O1YPjFWGsLK0"
      },
      "source": [
        "But picking a learning rate that's too high is even worse—it can actually result in the loss getting *worse*, as we see below:"
      ]
    },
    {
      "cell_type": "markdown",
      "metadata": {
        "id": "mqvXIzYXsLK0"
      },
      "source": [
        "<img alt=\"An illustration of gradient descent with a LR too high\" width=\"400\" caption=\"Gradient descent with high LR\" src=\"https://github.com/fastai/fastbook/blob/master/images/chapter2_div.svg?raw=1\" id=\"descent_div\"/>"
      ]
    },
    {
      "cell_type": "markdown",
      "metadata": {
        "id": "b52zmNbisLK0"
      },
      "source": [
        "If the learning rate is too high, it may also \"bounce\" around, rather than actually diverging; <<descent_bouncy>> shows how this has the result of taking many steps to train successfully."
      ]
    },
    {
      "cell_type": "markdown",
      "metadata": {
        "id": "hOGbWXyHsLK0"
      },
      "source": [
        "<img alt=\"An illustation of gradient descent with a bouncy LR\" width=\"400\" caption=\"Gradient descent with bouncy LR\" src=\"https://github.com/fastai/fastbook/blob/master/images/chapter2_bouncy.svg?raw=1\" id=\"descent_bouncy\"/>"
      ]
    },
    {
      "cell_type": "markdown",
      "metadata": {
        "id": "XK2Vg9APsLK1"
      },
      "source": [
        "Now let's apply all of this in an end-to-end example."
      ]
    },
    {
      "cell_type": "markdown",
      "metadata": {
        "id": "4IpI3xCPsLK1"
      },
      "source": [
        "### An End-to-End SGD Example"
      ]
    },
    {
      "cell_type": "markdown",
      "metadata": {
        "id": "TZJ2rFN0sLK1"
      },
      "source": [
        "We've seen how to use gradients to find a minimum. Now it's time to look at an SGD example and see how finding a minimum can be used to train a model to fit data better.\n",
        "\n",
        "Let's start with a simple, synthetic, example model. Imagine you were measuring the speed of a roller coaster as it went over the top of a hump. It would start fast, and then get slower as it went up the hill; it would be slowest at the top, and it would then speed up again as it went downhill. You want to build a model of how the speed changes over time. If you were measuring the speed manually every second for 20 seconds, it might look something like this:"
      ]
    },
    {
      "cell_type": "code",
      "execution_count": 79,
      "metadata": {
        "colab": {
          "base_uri": "https://localhost:8080/"
        },
        "id": "EDLkQPlXsLK1",
        "outputId": "de334a33-a2b4-406d-a3c1-6640fb0e6eb4"
      },
      "outputs": [
        {
          "output_type": "execute_result",
          "data": {
            "text/plain": [
              "tensor([ 0.,  1.,  2.,  3.,  4.,  5.,  6.,  7.,  8.,  9., 10., 11., 12., 13., 14., 15., 16., 17., 18., 19.])"
            ]
          },
          "metadata": {},
          "execution_count": 79
        }
      ],
      "source": [
        "time = torch.arange(0,20).float(); time"
      ]
    },
    {
      "cell_type": "code",
      "execution_count": 80,
      "metadata": {
        "colab": {
          "base_uri": "https://localhost:8080/",
          "height": 268
        },
        "id": "6o7A0YiIsLK1",
        "outputId": "cc291b2f-b28e-4a45-80c8-61668c6a657d"
      },
      "outputs": [
        {
          "output_type": "display_data",
          "data": {
            "text/plain": [
              "<Figure size 432x288 with 1 Axes>"
            ],
            "image/png": "[encoded data removed]"
          },
          "metadata": {
            "needs_background": "light"
          }
        }
      ],
      "source": [
        "speed = torch.randn(20)*3 + 0.75*(time-9.5)**2 + 1\n",
        "plt.scatter(time,speed);"
      ]
    },
    {
      "cell_type": "markdown",
      "metadata": {
        "id": "yfiYWTdUsLK1"
      },
      "source": [
        "We've added a bit of random noise, since measuring things manually isn't precise. This means it's not that easy to answer the question: what was the roller coaster's speed? Using SGD we can try to find a function that matches our observations. We can't consider every possible function, so let's use a guess that it will be quadratic; i.e., a function of the form `a*(time**2)+(b*time)+c`.\n",
        "\n",
        "We want to distinguish clearly between the function's input (the time when we are measuring the coaster's speed) and its parameters (the values that define *which* quadratic we're trying). So, let's collect the parameters in one argument and thus separate the input, `t`, and the parameters, `params`, in the function's signature: "
      ]
    },
    {
      "cell_type": "code",
      "execution_count": 81,
      "metadata": {
        "id": "nSNba_NSsLK1"
      },
      "outputs": [],
      "source": [
        "def f(t, params):\n",
        "    a,b,c = params\n",
        "    return a*(t**2) + (b*t) + c"
      ]
    },
    {
      "cell_type": "markdown",
      "metadata": {
        "id": "-2ihLQXmsLK1"
      },
      "source": [
        "In other words, we've restricted the problem of finding the best imaginable function that fits the data, to finding the best *quadratic* function. This greatly simplifies the problem, since every quadratic function is fully defined by the three parameters `a`, `b`, and `c`. Thus, to find the best quadratic function, we only need to find the best values for `a`, `b`, and `c`.\n",
        "\n",
        "If we can solve this problem for the three parameters of a quadratic function, we'll be able to apply the same approach for other, more complex functions with more parameters—such as a neural net. Let's find the parameters for `f` first, and then we'll come back and do the same thing for the MNIST dataset with a neural net.\n",
        "\n",
        "We need to define first what we mean by \"best.\" We define this precisely by choosing a *loss function*, which will return a value based on a prediction and a target, where lower values of the function correspond to \"better\" predictions. It is important for loss functions to return _lower_ values when predictions are more accurate, as the SGD procedure we defined earlier will try to _minimize_ this loss. For continuous data, it's common to use *mean squared error*:"
      ]
    },
    {
      "cell_type": "code",
      "execution_count": 82,
      "metadata": {
        "id": "CpyNnaG9sLK2"
      },
      "outputs": [],
      "source": [
        "def mse(preds, targets): return ((preds-targets)**2).mean().sqrt()"
      ]
    },
    {
      "cell_type": "markdown",
      "metadata": {
        "id": "HvVSlEO8sLK2"
      },
      "source": [
        "Now, let's work through our 7 step process."
      ]
    },
    {
      "cell_type": "markdown",
      "metadata": {
        "id": "D7nPOr7JsLK2"
      },
      "source": [
        "#### Step 1: Initialize the parameters"
      ]
    },
    {
      "cell_type": "markdown",
      "metadata": {
        "id": "W_iAjlZ-sLK2"
      },
      "source": [
        "First, we initialize the parameters to random values, and tell PyTorch that we want to track their gradients, using `requires_grad_`:"
      ]
    },
    {
      "cell_type": "code",
      "execution_count": 83,
      "metadata": {
        "id": "3KovOKbxsLK2"
      },
      "outputs": [],
      "source": [
        "params = torch.randn(3).requires_grad_()"
      ]
    },
    {
      "cell_type": "markdown",
      "metadata": {
        "id": "2PEu1a_7sLK2"
      },
      "source": [
        "#### Step 2: Calculate the predictions"
      ]
    },
    {
      "cell_type": "markdown",
      "metadata": {
        "id": "Q9fKscBLsLK2"
      },
      "source": [
        "Next, we calculate the predictions:"
      ]
    },
    {
      "cell_type": "code",
      "execution_count": 84,
      "metadata": {
        "id": "tFSLELI6sLK3"
      },
      "outputs": [],
      "source": [
        "preds = f(time, params)"
      ]
    },
    {
      "cell_type": "markdown",
      "metadata": {
        "id": "-qXLks_ysLK3"
      },
      "source": [
        "Let's create a little function to see how close our predictions are to our targets, and take a look:"
      ]
    },
    {
      "cell_type": "code",
      "execution_count": 86,
      "metadata": {
        "id": "aI6pSCY-sLK3"
      },
      "outputs": [],
      "source": [
        "def show_preds(preds, ax=None):\n",
        "    if ax is None: ax=plt.subplots()[1]\n",
        "    ax.scatter(time, speed)\n",
        "    ax.scatter(time, to_np(preds), color='red')\n",
        "    ax.set_ylim(-300,100)"
      ]
    },
    {
      "cell_type": "code",
      "execution_count": 87,
      "metadata": {
        "colab": {
          "base_uri": "https://localhost:8080/",
          "height": 273
        },
        "id": "O2a1kgRosLK3",
        "outputId": "7a2a3675-8969-46fb-8b68-358b063ad914"
      },
      "outputs": [
        {
          "output_type": "display_data",
          "data": {
            "text/plain": [
              "<Figure size 432x288 with 1 Axes>"
            ],
            "image/png": "[encoded data removed]"
          },
          "metadata": {
            "needs_background": "light"
          }
        }
      ],
      "source": [
        "show_preds(preds)"
      ]
    },
    {
      "cell_type": "markdown",
      "metadata": {
        "id": "_w4F9nREsLK3"
      },
      "source": [
        "This doesn't look very close—our random parameters suggest that the roller coaster will end up going backwards, since we have negative speeds!"
      ]
    },
    {
      "cell_type": "markdown",
      "metadata": {
        "id": "_6fBZj7ysLK3"
      },
      "source": [
        "#### Step 3: Calculate the loss"
      ]
    },
    {
      "cell_type": "markdown",
      "metadata": {
        "id": "ghmquPMpsLK3"
      },
      "source": [
        "We calculate the loss as follows:"
      ]
    },
    {
      "cell_type": "code",
      "execution_count": 88,
      "metadata": {
        "colab": {
          "base_uri": "https://localhost:8080/"
        },
        "id": "7K0rGfVosLK3",
        "outputId": "f471064b-aa1c-439a-f193-e8a084fb2930"
      },
      "outputs": [
        {
          "output_type": "execute_result",
          "data": {
            "text/plain": [
              "tensor(144.4233, grad_fn=<SqrtBackward0>)"
            ]
          },
          "metadata": {},
          "execution_count": 88
        }
      ],
      "source": [
        "loss = mse(preds, speed)\n",
        "loss"
      ]
    },
    {
      "cell_type": "markdown",
      "metadata": {
        "id": "5OHK_HHvsLK4"
      },
      "source": [
        "Our goal is now to improve this. To do that, we'll need to know the gradients."
      ]
    },
    {
      "cell_type": "markdown",
      "metadata": {
        "id": "Y3sIaaD7sLK4"
      },
      "source": [
        "#### Step 4: Calculate the gradients"
      ]
    },
    {
      "cell_type": "markdown",
      "metadata": {
        "id": "0MTXZChrsLK4"
      },
      "source": [
        "The next step is to calculate the gradients. In other words, calculate an approximation of how the parameters need to change:"
      ]
    },
    {
      "cell_type": "code",
      "execution_count": 89,
      "metadata": {
        "colab": {
          "base_uri": "https://localhost:8080/"
        },
        "id": "eJA3tcipsLK4",
        "outputId": "7f3dd055-b15d-4822-de60-82eb5c38a1bc"
      },
      "outputs": [
        {
          "output_type": "execute_result",
          "data": {
            "text/plain": [
              "tensor([-165.2907,  -10.5516,   -0.7762])"
            ]
          },
          "metadata": {},
          "execution_count": 89
        }
      ],
      "source": [
        "loss.backward()\n",
        "params.grad"
      ]
    },
    {
      "cell_type": "code",
      "execution_count": 91,
      "metadata": {
        "colab": {
          "base_uri": "https://localhost:8080/"
        },
        "id": "aigqGHnVsLK4",
        "outputId": "765f6ce6-bd4c-4d52-ccb9-9901dd8f7fdd"
      },
      "outputs": [
        {
          "output_type": "execute_result",
          "data": {
            "text/plain": [
              "tensor([-1.6529e-03, -1.0552e-04, -7.7624e-06])"
            ]
          },
          "metadata": {},
          "execution_count": 91
        }
      ],
      "source": [
        "params.grad * 1e-5"
      ]
    },
    {
      "cell_type": "markdown",
      "metadata": {
        "id": "ItwRTTrVsLK4"
      },
      "source": [
        "We can use these gradients to improve our parameters. We'll need to pick a learning rate (we'll discuss how to do that in practice in the next chapter; for now we'll just use 1e-5, or 0.00001):"
      ]
    },
    {
      "cell_type": "code",
      "execution_count": 92,
      "metadata": {
        "colab": {
          "base_uri": "https://localhost:8080/"
        },
        "id": "10D4qERLsLK4",
        "outputId": "0f97c079-20ff-48c8-fc69-6b68b091d8f6"
      },
      "outputs": [
        {
          "output_type": "execute_result",
          "data": {
            "text/plain": [
              "tensor([-0.7409,  0.3618,  1.9199], requires_grad=True)"
            ]
          },
          "metadata": {},
          "execution_count": 92
        }
      ],
      "source": [
        "params"
      ]
    },
    {
      "cell_type": "markdown",
      "metadata": {
        "id": "Lqm-KmM7sLK5"
      },
      "source": [
        "#### Step 5: Step the weights. "
      ]
    },
    {
      "cell_type": "markdown",
      "metadata": {
        "id": "PnIeTFztsLK5"
      },
      "source": [
        "Now we need to update the parameters based on the gradients we just calculated:"
      ]
    },
    {
      "cell_type": "code",
      "execution_count": 93,
      "metadata": {
        "id": "KbHZMdKssLK5"
      },
      "outputs": [],
      "source": [
        "lr = 1e-5\n",
        "params.data -= lr * params.grad.data\n",
        "params.grad = None"
      ]
    },
    {
      "cell_type": "markdown",
      "metadata": {
        "id": "I57crImRsLK5"
      },
      "source": [
        "> a: Understanding this bit depends on remembering recent history. To calculate the gradients we call `backward` on the `loss`. But this `loss` was itself calculated by `mse`, which in turn took `preds` as an input, which was calculated using `f` taking as an input `params`, which was the object on which we originally called `required_grads_`—which is the original call that now allows us to call `backward` on `loss`. This chain of function calls represents the mathematical composition of functions, which enables PyTorch to use calculus's chain rule under the hood to calculate these gradients."
      ]
    },
    {
      "cell_type": "markdown",
      "metadata": {
        "id": "slsIeFmOsLK5"
      },
      "source": [
        "Let's see if the loss has improved:"
      ]
    },
    {
      "cell_type": "code",
      "execution_count": 94,
      "metadata": {
        "colab": {
          "base_uri": "https://localhost:8080/"
        },
        "id": "t1i5kEiisLK5",
        "outputId": "b3902479-0d91-4b33-95c8-2ff132eba12e"
      },
      "outputs": [
        {
          "output_type": "execute_result",
          "data": {
            "text/plain": [
              "tensor(144.1489, grad_fn=<SqrtBackward0>)"
            ]
          },
          "metadata": {},
          "execution_count": 94
        }
      ],
      "source": [
        "preds = f(time,params)\n",
        "mse(preds, speed)"
      ]
    },
    {
      "cell_type": "markdown",
      "metadata": {
        "id": "7yFh7hdwsLK5"
      },
      "source": [
        "And take a look at the plot:"
      ]
    },
    {
      "cell_type": "code",
      "execution_count": 95,
      "metadata": {
        "colab": {
          "base_uri": "https://localhost:8080/",
          "height": 273
        },
        "id": "PVduaJMasLK5",
        "outputId": "3b9dac20-61f8-4627-a84b-8b42c2a61787"
      },
      "outputs": [
        {
          "output_type": "display_data",
          "data": {
            "text/plain": [
              "<Figure size 432x288 with 1 Axes>"
            ],
            "image/png": "[encoded data removed]"
          },
          "metadata": {
            "needs_background": "light"
          }
        }
      ],
      "source": [
        "show_preds(preds)"
      ]
    },
    {
      "cell_type": "markdown",
      "metadata": {
        "id": "ipZs46DWsLK6"
      },
      "source": [
        "We need to repeat this a few times, so we'll create a function to apply one step:"
      ]
    },
    {
      "cell_type": "code",
      "execution_count": 96,
      "metadata": {
        "id": "Qxh2tepvsLK6"
      },
      "outputs": [],
      "source": [
        "def apply_step(params, prn=True):\n",
        "    preds = f(time, params)\n",
        "    loss = mse(preds, speed)\n",
        "    loss.backward()\n",
        "    params.data -= lr * params.grad.data\n",
        "    params.grad = None\n",
        "    if prn: print(loss.item())\n",
        "    return preds"
      ]
    },
    {
      "cell_type": "markdown",
      "metadata": {
        "id": "bO1LeG8OsLK6"
      },
      "source": [
        "#### Step 6: Repeat the process "
      ]
    },
    {
      "cell_type": "markdown",
      "metadata": {
        "id": "B1PBDbtGsLK6"
      },
      "source": [
        "Now we iterate. By looping and performing many improvements, we hope to reach a good result:"
      ]
    },
    {
      "cell_type": "code",
      "execution_count": 97,
      "metadata": {
        "colab": {
          "base_uri": "https://localhost:8080/"
        },
        "id": "VcthTw0TsLK6",
        "outputId": "4fb79ca3-2d93-4128-e112-f4ab46789a9f"
      },
      "outputs": [
        {
          "output_type": "stream",
          "name": "stdout",
          "text": [
            "144.14894104003906\n",
            "143.87464904785156\n",
            "143.60040283203125\n",
            "143.32615661621094\n",
            "143.05198669433594\n",
            "142.77780151367188\n",
            "142.503662109375\n",
            "142.2295684814453\n",
            "141.95550537109375\n",
            "141.6814727783203\n"
          ]
        }
      ],
      "source": [
        "for i in range(10): apply_step(params)"
      ]
    },
    {
      "cell_type": "markdown",
      "metadata": {
        "id": "DUQRJZAxsLK6"
      },
      "source": [
        "The loss is going down, just as we hoped! But looking only at these loss numbers disguises the fact that each iteration represents an entirely different quadratic function being tried, on the way to finding the best possible quadratic function. We can see this process visually if, instead of printing out the loss function, we plot the function at every step. Then we can see how the shape is approaching the best possible quadratic function for our data:"
      ]
    },
    {
      "cell_type": "code",
      "execution_count": 98,
      "metadata": {
        "colab": {
          "base_uri": "https://localhost:8080/",
          "height": 221
        },
        "id": "VqQ6GkvlsLK6",
        "outputId": "30da6b13-5fbf-41c8-a03b-c4d23bddd365"
      },
      "outputs": [
        {
          "output_type": "display_data",
          "data": {
            "text/plain": [
              "<Figure size 864x216 with 4 Axes>"
            ],
            "image/png": "[encoded data removed]"
          },
          "metadata": {
            "needs_background": "light"
          }
        }
      ],
      "source": [
        "_,axs = plt.subplots(1,4,figsize=(12,3))\n",
        "for ax in axs: show_preds(apply_step(params, False), ax)\n",
        "plt.tight_layout()"
      ]
    },
    {
      "cell_type": "markdown",
      "metadata": {
        "id": "_gLL4UmfsLK7"
      },
      "source": [
        "#### Step 7: stop"
      ]
    },
    {
      "cell_type": "markdown",
      "metadata": {
        "id": "kaLKiRmhsLK7"
      },
      "source": [
        "We just decided to stop after 10 epochs arbitrarily. In practice, we would watch the training and validation losses and our metrics to decide when to stop, as we've discussed."
      ]
    },
    {
      "cell_type": "markdown",
      "metadata": {
        "id": "-8lVa7bpsLK7"
      },
      "source": [
        "### Summarizing Gradient Descent"
      ]
    },
    {
      "cell_type": "code",
      "execution_count": 99,
      "metadata": {
        "hide_input": false,
        "id": "_-HKErX2sLK7",
        "outputId": "a16a0138-dd33-4b5e-8be7-7943fbcd5774",
        "colab": {
          "base_uri": "https://localhost:8080/",
          "height": 125
        }
      },
      "outputs": [
        {
          "output_type": "execute_result",
          "data": {
            "text/plain": [
              "<graphviz.files.Source at 0x7fb357f5aad0>"
            ],
            "image/svg+xml": "<?xml version=\"1.0\" encoding=\"UTF-8\" standalone=\"no\"?>\n<!DOCTYPE svg PUBLIC \"-//W3C//DTD SVG 1.1//EN\"\n \"http://www.w3.org/Graphics/SVG/1.1/DTD/svg11.dtd\">\n<!-- Generated by graphviz version 2.40.1 (20161225.0304)\n -->\n<!-- Title: G Pages: 1 -->\n<svg width=\"597pt\" height=\"78pt\"\n viewBox=\"0.00 0.00 596.69 78.00\" xmlns=\"http://www.w3.org/2000/svg\" xmlns:xlink=\"http://www.w3.org/1999/xlink\">\n<g id=\"graph0\" class=\"graph\" transform=\"scale(1 1) rotate(0) translate(4 74)\">\n<title>G</title>\n<polygon fill=\"#ffffff\" stroke=\"transparent\" points=\"-4,4 -4,-74 592.6863,-74 592.6863,4 -4,4\"/>\n<!-- init -->\n<g id=\"node1\" class=\"node\">\n<title>init</title>\n<ellipse fill=\"none\" stroke=\"#000000\" cx=\"27\" cy=\"-18\" rx=\"27\" ry=\"18\"/>\n<text text-anchor=\"middle\" x=\"27\" y=\"-14.3\" font-family=\"Times,serif\" font-size=\"14.00\" fill=\"#000000\">init</text>\n</g>\n<!-- predict -->\n<g id=\"node2\" class=\"node\">\n<title>predict</title>\n<ellipse fill=\"none\" stroke=\"#000000\" cx=\"127.3968\" cy=\"-18\" rx=\"36.2938\" ry=\"18\"/>\n<text text-anchor=\"middle\" x=\"127.3968\" y=\"-14.3\" font-family=\"Times,serif\" font-size=\"14.00\" fill=\"#000000\">predict</text>\n</g>\n<!-- init&#45;&gt;predict -->\n<g id=\"edge1\" class=\"edge\">\n<title>init&#45;&gt;predict</title>\n<path fill=\"none\" stroke=\"#000000\" d=\"M54.1688,-18C62.3543,-18 71.5827,-18 80.6596,-18\"/>\n<polygon fill=\"#000000\" stroke=\"#000000\" points=\"80.7795,-21.5001 90.7795,-18 80.7795,-14.5001 80.7795,-21.5001\"/>\n</g>\n<!-- loss -->\n<g id=\"node3\" class=\"node\">\n<title>loss</title>\n<ellipse fill=\"none\" stroke=\"#000000\" cx=\"227.7935\" cy=\"-52\" rx=\"27\" ry=\"18\"/>\n<text text-anchor=\"middle\" x=\"227.7935\" y=\"-48.3\" font-family=\"Times,serif\" font-size=\"14.00\" fill=\"#000000\">loss</text>\n</g>\n<!-- predict&#45;&gt;loss -->\n<g id=\"edge2\" class=\"edge\">\n<title>predict&#45;&gt;loss</title>\n<path fill=\"none\" stroke=\"#000000\" d=\"M157.5191,-28.2011C168.9806,-32.0826 182.1139,-36.5303 193.9014,-40.5222\"/>\n<polygon fill=\"#000000\" stroke=\"#000000\" points=\"192.8259,-43.8532 203.4202,-43.7458 195.0713,-37.2231 192.8259,-43.8532\"/>\n</g>\n<!-- gradient -->\n<g id=\"node4\" class=\"node\">\n<title>gradient</title>\n<ellipse fill=\"none\" stroke=\"#000000\" cx=\"365.7399\" cy=\"-52\" rx=\"40.8928\" ry=\"18\"/>\n<text text-anchor=\"middle\" x=\"365.7399\" y=\"-48.3\" font-family=\"Times,serif\" font-size=\"14.00\" fill=\"#000000\">gradient</text>\n</g>\n<!-- loss&#45;&gt;gradient -->\n<g id=\"edge3\" class=\"edge\">\n<title>loss&#45;&gt;gradient</title>\n<path fill=\"none\" stroke=\"#000000\" d=\"M255.0473,-52C272.0415,-52 294.4481,-52 314.6545,-52\"/>\n<polygon fill=\"#000000\" stroke=\"#000000\" points=\"314.671,-55.5001 324.671,-52 314.671,-48.5001 314.671,-55.5001\"/>\n</g>\n<!-- step -->\n<g id=\"node5\" class=\"node\">\n<title>step</title>\n<ellipse fill=\"none\" stroke=\"#000000\" cx=\"470.6863\" cy=\"-18\" rx=\"27\" ry=\"18\"/>\n<text text-anchor=\"middle\" x=\"470.6863\" y=\"-14.3\" font-family=\"Times,serif\" font-size=\"14.00\" fill=\"#000000\">step</text>\n</g>\n<!-- gradient&#45;&gt;step -->\n<g id=\"edge4\" class=\"edge\">\n<title>gradient&#45;&gt;step</title>\n<path fill=\"none\" stroke=\"#000000\" d=\"M398.9456,-41.2422C410.9558,-37.3512 424.5297,-32.9536 436.6132,-29.0388\"/>\n<polygon fill=\"#000000\" stroke=\"#000000\" points=\"437.9112,-32.2975 446.3457,-25.8857 435.7537,-25.6382 437.9112,-32.2975\"/>\n</g>\n<!-- step&#45;&gt;predict -->\n<g id=\"edge6\" class=\"edge\">\n<title>step&#45;&gt;predict</title>\n<path fill=\"none\" stroke=\"#000000\" d=\"M443.4266,-18C384.9297,-18 246.7861,-18 174.0495,-18\"/>\n<polygon fill=\"#000000\" stroke=\"#000000\" points=\"173.8098,-14.5001 163.8098,-18 173.8097,-21.5001 173.8098,-14.5001\"/>\n<text text-anchor=\"middle\" x=\"289.7935\" y=\"-21.8\" font-family=\"Times,serif\" font-size=\"14.00\" fill=\"#000000\">repeat</text>\n</g>\n<!-- stop -->\n<g id=\"node6\" class=\"node\">\n<title>stop</title>\n<ellipse fill=\"none\" stroke=\"#000000\" cx=\"561.6863\" cy=\"-18\" rx=\"27\" ry=\"18\"/>\n<text text-anchor=\"middle\" x=\"561.6863\" y=\"-14.3\" font-family=\"Times,serif\" font-size=\"14.00\" fill=\"#000000\">stop</text>\n</g>\n<!-- step&#45;&gt;stop -->\n<g id=\"edge5\" class=\"edge\">\n<title>step&#45;&gt;stop</title>\n<path fill=\"none\" stroke=\"#000000\" d=\"M497.9893,-18C506.2676,-18 515.508,-18 524.3268,-18\"/>\n<polygon fill=\"#000000\" stroke=\"#000000\" points=\"524.4026,-21.5001 534.4025,-18 524.4025,-14.5001 524.4026,-21.5001\"/>\n</g>\n</g>\n</svg>\n"
          },
          "metadata": {},
          "execution_count": 99
        }
      ],
      "source": [
        "#hide_input\n",
        "#id gradient_descent\n",
        "#caption The gradient descent process\n",
        "#alt Graph showing the steps for Gradient Descent\n",
        "gv('''\n",
        "init->predict->loss->gradient->step->stop\n",
        "step->predict[label=repeat]\n",
        "''')"
      ]
    },
    {
      "cell_type": "markdown",
      "metadata": {
        "id": "aiNg-mmUsLK7"
      },
      "source": [
        "To summarize, at the beginning, the weights of our model can be random (training *from scratch*) or come from a pretrained model (*transfer learning*). In the first case, the output we will get from our inputs won't have anything to do with what we want, and even in the second case, it's very likely the pretrained model won't be very good at the specific task we are targeting. So the model will need to *learn* better weights.\n",
        "\n",
        "We begin by comparing the outputs the model gives us with our targets (we have labeled data, so we know what result the model should give) using a *loss function*, which returns a number that we want to make as low as possible by improving our weights. To do this, we take a few data items (such as images) from the training set and feed them to our model. We compare the corresponding targets using our loss function, and the score we get tells us how wrong our predictions were. We then change the weights a little bit to make it slightly better.\n",
        "\n",
        "To find how to change the weights to make the loss a bit better, we use calculus to calculate the *gradients*. (Actually, we let PyTorch do it for us!) Let's consider an analogy. Imagine you are lost in the mountains with your car parked at the lowest point. To find your way back to it, you might wander in a random direction, but that probably wouldn't help much. Since you know your vehicle is at the lowest point, you would be better off going downhill. By always taking a step in the direction of the steepest downward slope, you should eventually arrive at your destination. We use the magnitude of the gradient (i.e., the steepness of the slope) to tell us how big a step to take; specifically, we multiply the gradient by a number we choose called the *learning rate* to decide on the step size. We then *iterate* until we have reached the lowest point, which will be our parking lot, then we can *stop*.\n",
        "\n",
        "All of that we just saw can be transposed directly to the MNIST dataset, except for the loss function. Let's now see how we can define a good training objective. "
      ]
    },
    {
      "cell_type": "markdown",
      "metadata": {
        "id": "Bls9SvCQsLK8"
      },
      "source": [
        "## The MNIST Loss Function"
      ]
    },
    {
      "cell_type": "markdown",
      "metadata": {
        "id": "--sKLmz5sLK8"
      },
      "source": [
        "We already have our independent variables `x`—these are the images themselves. We'll concatenate them all into a single tensor, and also change them from a list of matrices (a rank-3 tensor) to a list of vectors (a rank-2 tensor). We can do this using `view`, which is a PyTorch method that changes the shape of a tensor without changing its contents. `-1` is a special parameter to `view` that means \"make this axis as big as necessary to fit all the data\":"
      ]
    },
    {
      "cell_type": "code",
      "source": [
        "#zeros = (path/'training'/'0').ls().sorted()\n",
        "#ones = (path/'training'/'1').ls().sorted()\n",
        "twos = (path/'training'/'2').ls().sorted()\n",
        "#threes = (path/'training'/'3').ls().sorted()\n",
        "#fours = (path/'training'/'4').ls().sorted()\n",
        "#fives = (path/'training'/'5').ls().sorted()\n",
        "#sixs = (path/'training'/'6').ls().sorted()\n",
        "sevens = (path/'training'/'7').ls().sorted()\n",
        "#eights = (path/'training'/'8').ls().sorted()\n",
        "#nines = (path/'training'/'9').ls().sorted()"
      ],
      "metadata": {
        "id": "iGbaW_vxcuWp"
      },
      "execution_count": 100,
      "outputs": []
    },
    {
      "cell_type": "code",
      "execution_count": 101,
      "metadata": {
        "id": "B5z2LbLidkFT"
      },
      "outputs": [],
      "source": [
        "#zero_tensors = torch.stack([tensor(Image.open(o)) for o in zeros]).float()/255\n",
        "#ones_tensors = torch.stack([tensor(Image.open(o)) for o in ones]).float()/255\n",
        "twos_tensors = torch.stack([tensor(Image.open(o)) for o in twos]).float()/255\n",
        "#threes_tensors = torch.stack([tensor(Image.open(o)) for o in threes]).float()/255\n",
        "#fours_tensors = torch.stack([tensor(Image.open(o)) for o in fours]).float()/255\n",
        "#fives_tensors = torch.stack([tensor(Image.open(o)) for o in fives]).float()/255\n",
        "#six_tensors = torch.stack([tensor(Image.open(o)) for o in sixs]).float()/255\n",
        "seven_tensors = torch.stack([tensor(Image.open(o)) for o in sevens]).float()/255\n",
        "#eight_tensors = torch.stack([tensor(Image.open(o)) for o in eights]).float()/255\n",
        "#nine_tensors = torch.stack([tensor(Image.open(o)) for o in nines]).float()/255\n"
      ]
    },
    {
      "cell_type": "code",
      "source": [
        "#train_x = torch.cat([zero_tensors, ones_tensors,twos_tensors,threes_tensors,fours_tensors,fives_tensors,\n",
        "#                     six_tensors,seven_tensors,eight_tensors,nine_tensors]).view(-1, 28*28)\n",
        "train_x = torch.cat([twos_tensors,seven_tensors]).view(-1, 28*28)"
      ],
      "metadata": {
        "id": "Txprsh5ycuab"
      },
      "execution_count": 102,
      "outputs": []
    },
    {
      "cell_type": "markdown",
      "metadata": {
        "id": "1hzJzyKysLK8"
      },
      "source": [
        "We need a label for each image. We'll use a label corresponding to each number"
      ]
    },
    {
      "cell_type": "code",
      "execution_count": 103,
      "metadata": {
        "colab": {
          "base_uri": "https://localhost:8080/"
        },
        "id": "l1taURrBsLK8",
        "outputId": "f8da8643-d036-4323-834d-c511ca042d98"
      },
      "outputs": [
        {
          "output_type": "execute_result",
          "data": {
            "text/plain": [
              "(torch.Size([12223, 784]), torch.Size([12223, 1]))"
            ]
          },
          "metadata": {},
          "execution_count": 103
        }
      ],
      "source": [
        "#train_y = tensor([0]*len(zeros) + [1]*len(ones)+[2]*len(twos)+[3]*len(threes)+[4]*len(fours)+\n",
        "#                 [5]*len(fives)+[6]*len(sixs)+[7]*len(sevens)+[8]*len(eights)+[9]*len(nines)).unsqueeze(1)\n",
        "\n",
        "train_y = tensor([1]*len(twos)+[0]*len(sevens)).unsqueeze(1)\n",
        "train_x.shape,train_y.shape"
      ]
    },
    {
      "cell_type": "markdown",
      "metadata": {
        "id": "ZN8lR6NzsLK8"
      },
      "source": [
        "A `Dataset` in PyTorch is required to return a tuple of `(x,y)` when indexed. Python provides a `zip` function which, when combined with `list`, provides a simple way to get this functionality:"
      ]
    },
    {
      "cell_type": "code",
      "execution_count": 104,
      "metadata": {
        "colab": {
          "base_uri": "https://localhost:8080/"
        },
        "id": "Bc2nnbYGsLK8",
        "outputId": "9fe6a8d0-374c-4c19-9d99-961e4a5e9f68"
      },
      "outputs": [
        {
          "output_type": "execute_result",
          "data": {
            "text/plain": [
              "(torch.Size([784]), tensor([1]))"
            ]
          },
          "metadata": {},
          "execution_count": 104
        }
      ],
      "source": [
        "dset = list(zip(train_x,train_y))\n",
        "x,y = dset[0]\n",
        "x.shape,y"
      ]
    },
    {
      "cell_type": "code",
      "source": [
        "#zeros = (path/'testing'/'0').ls().sorted()\n",
        "#ones = (path/'testing'/'1').ls().sorted()\n",
        "twos = (path/'testing'/'2').ls().sorted()\n",
        "#threes = (path/'testing'/'3').ls().sorted()\n",
        "#fours = (path/'testing'/'4').ls().sorted()\n",
        "#fives = (path/'testing'/'5').ls().sorted()\n",
        "#sixs = (path/'testing'/'6').ls().sorted()\n",
        "sevens = (path/'testing'/'7').ls().sorted()\n",
        "#eights = (path/'testing'/'8').ls().sorted()\n",
        "#nines = (path/'testing'/'9').ls().sorted()"
      ],
      "metadata": {
        "id": "GicQ5W8NgYg-"
      },
      "execution_count": 105,
      "outputs": []
    },
    {
      "cell_type": "code",
      "source": [
        "#zero_tensors = torch.stack([tensor(Image.open(o)) for o in zeros]).float()/255\n",
        "#ones_tensors = torch.stack([tensor(Image.open(o)) for o in ones]).float()/255\n",
        "twos_tensors = torch.stack([tensor(Image.open(o)) for o in twos]).float()/255\n",
        "#threes_tensors = torch.stack([tensor(Image.open(o)) for o in threes]).float()/255\n",
        "#fours_tensors = torch.stack([tensor(Image.open(o)) for o in fours]).float()/255\n",
        "#fives_tensors = torch.stack([tensor(Image.open(o)) for o in fives]).float()/255\n",
        "#six_tensors = torch.stack([tensor(Image.open(o)) for o in sixs]).float()/255\n",
        "seven_tensors = torch.stack([tensor(Image.open(o)) for o in sevens]).float()/255\n",
        "#eight_tensors = torch.stack([tensor(Image.open(o)) for o in eights]).float()/255\n",
        "#nine_tensors = torch.stack([tensor(Image.open(o)) for o in nines]).float()/255\n"
      ],
      "metadata": {
        "id": "VbZr7_RHgrfF"
      },
      "execution_count": 106,
      "outputs": []
    },
    {
      "cell_type": "code",
      "source": [
        "#valid_x = torch.cat([zero_tensors, ones_tensors,twos_tensors,threes_tensors,fours_tensors,fives_tensors,\n",
        "#                     six_tensors,seven_tensors,eight_tensors,nine_tensors]).view(-1, 28*28)\n",
        "valid_x = torch.cat([twos_tensors,seven_tensors]).view(-1, 28*28)"
      ],
      "metadata": {
        "id": "LOIlVwX7gyk4"
      },
      "execution_count": 107,
      "outputs": []
    },
    {
      "cell_type": "code",
      "source": [
        "#valid_y = tensor([0]*len(zeros) + [1]*len(ones)+[2]*len(twos)+[3]*len(threes)+[4]*len(fours)+\n",
        "#                 [5]*len(fives)+[6]*len(sixs)+[7]*len(sevens)+[8]*len(eights)+[9]*len(nines)).unsqueeze(1)\n",
        "\n",
        "valid_y = tensor([1]*len(twos)+[0]*len(sevens)).unsqueeze(1)\n",
        "valid_x.shape,valid_y.shape"
      ],
      "metadata": {
        "colab": {
          "base_uri": "https://localhost:8080/"
        },
        "id": "t8vW1g9yg8LT",
        "outputId": "143dbcbe-444b-4944-8c59-cf9a0d0345f0"
      },
      "execution_count": 108,
      "outputs": [
        {
          "output_type": "execute_result",
          "data": {
            "text/plain": [
              "(torch.Size([2060, 784]), torch.Size([2060, 1]))"
            ]
          },
          "metadata": {},
          "execution_count": 108
        }
      ]
    },
    {
      "cell_type": "code",
      "execution_count": 109,
      "metadata": {
        "id": "hcK8u-MrsLK9"
      },
      "outputs": [],
      "source": [
        "valid_dset = list(zip(valid_x,valid_y))"
      ]
    },
    {
      "cell_type": "markdown",
      "metadata": {
        "id": "XS6sEjwfsLK9"
      },
      "source": [
        "Now we need an (initially random) weight for every pixel (this is the *initialize* step in our seven-step process):"
      ]
    },
    {
      "cell_type": "code",
      "execution_count": 110,
      "metadata": {
        "id": "jpoPnWUasLK9"
      },
      "outputs": [],
      "source": [
        "def init_params(size, std=1.0): return (torch.randn(size)*std).requires_grad_()"
      ]
    },
    {
      "cell_type": "code",
      "execution_count": 111,
      "metadata": {
        "id": "WJch6xk-sLK9"
      },
      "outputs": [],
      "source": [
        "weights = init_params((28*28,1))"
      ]
    },
    {
      "cell_type": "markdown",
      "metadata": {
        "id": "zfbgaA77sLK9"
      },
      "source": [
        "The function `weights*pixels` won't be flexible enough—it is always equal to 0 when the pixels are equal to 0 (i.e., its *intercept* is 0). You might remember from high school math that the formula for a line is `y=w*x+b`; we still need the `b`. We'll initialize it to a random number too:"
      ]
    },
    {
      "cell_type": "code",
      "execution_count": 112,
      "metadata": {
        "id": "v3P4n54UsLK9"
      },
      "outputs": [],
      "source": [
        "bias = init_params(1)"
      ]
    },
    {
      "cell_type": "markdown",
      "metadata": {
        "id": "ggqQGArFsLK9"
      },
      "source": [
        "In neural networks, the `w` in the equation `y=w*x+b` is called the *weights*, and the `b` is called the *bias*. Together, the weights and bias make up the *parameters*."
      ]
    },
    {
      "cell_type": "markdown",
      "metadata": {
        "id": "xgIHCYE6sLK9"
      },
      "source": [
        "> jargon: Parameters: The _weights_ and _biases_ of a model. The weights are the `w` in the equation `w*x+b`, and the biases are the `b` in that equation."
      ]
    },
    {
      "cell_type": "markdown",
      "metadata": {
        "id": "AFs3mFXZsLK-"
      },
      "source": [
        "We can now calculate a prediction for one image:"
      ]
    },
    {
      "cell_type": "code",
      "execution_count": 113,
      "metadata": {
        "colab": {
          "base_uri": "https://localhost:8080/"
        },
        "id": "Z2IzpBvRsLK-",
        "outputId": "5315931c-2d04-4f2f-bbcb-1e9c4b64749c"
      },
      "outputs": [
        {
          "output_type": "execute_result",
          "data": {
            "text/plain": [
              "tensor([4.9674], grad_fn=<AddBackward0>)"
            ]
          },
          "metadata": {},
          "execution_count": 113
        }
      ],
      "source": [
        "(train_x[0]*weights.T).sum() + bias"
      ]
    },
    {
      "cell_type": "markdown",
      "metadata": {
        "id": "NQaCCxV8sLK-"
      },
      "source": [
        "While we could use a Python `for` loop to calculate the prediction for each image, that would be very slow. Because Python loops don't run on the GPU, and because Python is a slow language for loops in general, we need to represent as much of the computation in a model as possible using higher-level functions.\n",
        "\n",
        "In this case, there's an extremely convenient mathematical operation that calculates `w*x` for every row of a matrix—it's called *matrix multiplication*. <<matmul>> shows what matrix multiplication looks like."
      ]
    },
    {
      "cell_type": "markdown",
      "metadata": {
        "id": "rlOkXaU9sLK-"
      },
      "source": [
        "<img alt=\"Matrix multiplication\" width=\"400\" caption=\"Matrix multiplication\" src=\"https://github.com/fastai/fastbook/blob/master/images/matmul2.svg?raw=1\" id=\"matmul\"/>"
      ]
    },
    {
      "cell_type": "markdown",
      "metadata": {
        "id": "7jpGLjB1sLK-"
      },
      "source": [
        "This image shows two matrices, `A` and `B`, being multiplied together. Each item of the result, which we'll call `AB`, contains each item of its corresponding row of `A` multiplied by each item of its corresponding column of `B`, added together. For instance, row 1, column 2 (the orange dot with a red border) is calculated as $a_{1,1} * b_{1,2} + a_{1,2} * b_{2,2}$. If you need a refresher on matrix multiplication, we suggest you take a look at the [Intro to Matrix Multiplication](https://youtu.be/kT4Mp9EdVqs) on *Khan Academy*, since this is the most important mathematical operation in deep learning.\n",
        "\n",
        "In Python, matrix multiplication is represented with the `@` operator. Let's try it:"
      ]
    },
    {
      "cell_type": "code",
      "execution_count": 114,
      "metadata": {
        "colab": {
          "base_uri": "https://localhost:8080/"
        },
        "id": "jDKqgIzqsLK-",
        "outputId": "277bb228-d308-4fc1-ff1b-12f7bd070ed3"
      },
      "outputs": [
        {
          "output_type": "execute_result",
          "data": {
            "text/plain": [
              "tensor([[4.9674],\n",
              "        [0.3434],\n",
              "        [5.0495],\n",
              "        ...,\n",
              "        [4.7646],\n",
              "        [1.8502],\n",
              "        [3.3399]], grad_fn=<AddBackward0>)"
            ]
          },
          "metadata": {},
          "execution_count": 114
        }
      ],
      "source": [
        "def linear1(xb): return xb@weights + bias\n",
        "preds = linear1(train_x)\n",
        "preds"
      ]
    },
    {
      "cell_type": "markdown",
      "metadata": {
        "id": "78YxF3rHsLK-"
      },
      "source": [
        "The first element is the same as we calculated before, as we'd expect. This equation, `batch@weights + bias`, is one of the two fundamental equations of any neural network (the other one is the *activation function*, which we'll see in a moment)."
      ]
    },
    {
      "cell_type": "markdown",
      "metadata": {
        "id": "U5UY6H1RsLK-"
      },
      "source": [
        "Let's check our accuracy. To decide if an output represents a 0 or a something else, we can just check whether it's greater than 0.5, so our accuracy for each item can be calculated (using broadcasting, so no loops!) with::"
      ]
    },
    {
      "cell_type": "code",
      "source": [
        "((preds>0).float() == train_y).float().mean().item()"
      ],
      "metadata": {
        "colab": {
          "base_uri": "https://localhost:8080/"
        },
        "id": "tSyuTAcSHxcA",
        "outputId": "afa6e711-04aa-4dda-e590-9122c559868a"
      },
      "execution_count": 115,
      "outputs": [
        {
          "output_type": "execute_result",
          "data": {
            "text/plain": [
              "0.4390084147453308"
            ]
          },
          "metadata": {},
          "execution_count": 115
        }
      ]
    },
    {
      "cell_type": "markdown",
      "source": [
        "Let's change slightly the weights to see the change in accuracy"
      ],
      "metadata": {
        "id": "6v-xv4AHK6nu"
      }
    },
    {
      "cell_type": "code",
      "source": [
        "with torch.no_grad(): weights[0] *= 1.0001"
      ],
      "metadata": {
        "id": "Pt4J2nwWKwfu"
      },
      "execution_count": 116,
      "outputs": []
    },
    {
      "cell_type": "code",
      "source": [
        "preds = linear1(train_x)\n",
        "((preds>0.0).float() == train_y).float().mean().item()"
      ],
      "metadata": {
        "colab": {
          "base_uri": "https://localhost:8080/"
        },
        "id": "1UH83vecKzDW",
        "outputId": "27321986-e50f-4f3d-a2bd-256eff6847dd"
      },
      "execution_count": 117,
      "outputs": [
        {
          "output_type": "execute_result",
          "data": {
            "text/plain": [
              "0.4390084147453308"
            ]
          },
          "metadata": {},
          "execution_count": 117
        }
      ]
    },
    {
      "cell_type": "markdown",
      "metadata": {
        "id": "HiADXmPlsLK_"
      },
      "source": [
        "As we've seen, we need gradients in order to improve our model using SGD, and in order to calculate gradients we need some *loss function* that represents how good our model is. That is because the gradients are a measure of how that loss function changes with small tweaks to the weights.\n",
        "\n",
        "So, we need to choose a loss function. The obvious approach would be to use accuracy, which is our metric, as our loss function as well. In this case, we would calculate our prediction for each image, collect these values to calculate an overall accuracy, and then calculate the gradients of each weight with respect to that overall accuracy.\n",
        "\n",
        "Unfortunately, we have a significant technical problem here. The gradient of a function is its *slope*, or its steepness, which can be defined as *rise over run*—that is, how much the value of the function goes up or down, divided by how much we changed the input. We can write this in mathematically as: `(y_new - y_old) / (x_new - x_old)`. This gives us a good approximation of the gradient when `x_new` is very similar to `x_old`, meaning that their difference is very small. But accuracy only changes at all when a prediction changes from a 2 to a 7, or vice versa. The problem is that a small change in weights from `x_old` to `x_new` isn't likely to cause any prediction to change, so `(y_new - y_old)` will almost always be 0. In other words, the gradient is 0 almost everywhere."
      ]
    },
    {
      "cell_type": "markdown",
      "metadata": {
        "id": "ykSgQ_UcsLK_"
      },
      "source": [
        "A very small change in the value of a weight will often not actually change the accuracy at all. This means it is not useful to use accuracy as a loss function—if we do, most of the time our gradients will actually be 0, and the model will not be able to learn from that number.\n",
        "\n",
        "> S: In mathematical terms, accuracy is a function that is constant almost everywhere (except at the threshold, 0.5), so its derivative is nil almost everywhere (and infinity at the threshold). This then gives gradients that are 0 or infinite, which are useless for updating the model.\n",
        "\n",
        "Instead, we need a loss function which, when our weights result in slightly better predictions, gives us a slightly better loss. So what does a \"slightly better prediction\" look like, exactly? Well, in this case, it means that if the correct answer is a 2 the score is a little higher, or if the correct answer is a 7 the score is a little lower.\n",
        "\n",
        "Let's write such a function now. What form does it take?\n",
        "\n",
        "The loss function receives not the images themselves, but the predictions from the model. Let's make one argument, `prds`, of values between 0 and 1, where each value is the prediction that an image is a 2. It is a vector (i.e., a rank-1 tensor), indexed over the images.\n",
        "\n",
        "The purpose of the loss function is to measure the difference between predicted values and the true values — that is, the targets (aka labels). Let's make another argument, `trgts`, with values of 0 or 1 which tells whether an image actually is a 3 or not. It is also a vector (i.e., another rank-1 tensor), indexed over the images.\n",
        "\n",
        "So, for instance, suppose we had three images which we knew were a 2, a 7, and a 3. And suppose our model predicted with high confidence (`0.9`) that the first was a 2, with slight confidence (`0.4`) that the second was a 7, and with fair confidence (`0.2`), but incorrectly, that the last was a 3. This would mean our loss function would receive these values as its inputs:"
      ]
    },
    {
      "cell_type": "code",
      "execution_count": 118,
      "metadata": {
        "id": "LMSNa73SsLK_"
      },
      "outputs": [],
      "source": [
        "trgts  = tensor([1,0,1])\n",
        "prds   = tensor([0.9, 0.4, 0.2])"
      ]
    },
    {
      "cell_type": "markdown",
      "metadata": {
        "id": "gIBRJvGpsLK_"
      },
      "source": [
        "Here's a first try at a loss function that measures the distance between `predictions` and `targets`:"
      ]
    },
    {
      "cell_type": "code",
      "execution_count": 119,
      "metadata": {
        "id": "iu2rFTdGsLLA"
      },
      "outputs": [],
      "source": [
        "def mnist_loss(predictions, targets):\n",
        "    return torch.where(targets==1, 1-predictions, predictions).mean()"
      ]
    },
    {
      "cell_type": "markdown",
      "metadata": {
        "id": "eGj8ny2usLLA"
      },
      "source": [
        "We're using a new function, `torch.where(a,b,c)`. This is the same as running the list comprehension `[b[i] if a[i] else c[i] for i in range(len(a))]`, except it works on tensors, at C/CUDA speed. In plain English, this function will measure how distant each prediction is from 1 if it should be 1, and how distant it is from 0 if it should be 0, and then it will take the mean of all those distances.\n",
        "\n",
        "> note: Read the Docs: It's important to learn about PyTorch functions like this, because looping over tensors in Python performs at Python speed, not C/CUDA speed! Try running `help(torch.where)` now to read the docs for this function, or, better still, look it up on the PyTorch documentation site."
      ]
    },
    {
      "cell_type": "markdown",
      "metadata": {
        "id": "uozYEabqsLLA"
      },
      "source": [
        "Let's try it on our `prds` and `trgts`:"
      ]
    },
    {
      "cell_type": "code",
      "execution_count": 120,
      "metadata": {
        "colab": {
          "base_uri": "https://localhost:8080/"
        },
        "id": "dnvR_K_QsLLA",
        "outputId": "fe46afa8-0a16-4516-fbd3-03a933675da4"
      },
      "outputs": [
        {
          "output_type": "execute_result",
          "data": {
            "text/plain": [
              "tensor([0.1000, 0.4000, 0.8000])"
            ]
          },
          "metadata": {},
          "execution_count": 120
        }
      ],
      "source": [
        "torch.where(trgts==1, 1-prds, prds)"
      ]
    },
    {
      "cell_type": "markdown",
      "metadata": {
        "id": "knKVaC5isLLA"
      },
      "source": [
        "You can see that this function returns a lower number when predictions are more accurate, when accurate predictions are more confident (higher absolute values), and when inaccurate predictions are less confident. In PyTorch, we always assume that a lower value of a loss function is better. Since we need a scalar for the final loss, `mnist_loss` takes the mean of the previous tensor:"
      ]
    },
    {
      "cell_type": "code",
      "execution_count": 121,
      "metadata": {
        "colab": {
          "base_uri": "https://localhost:8080/"
        },
        "id": "V3tEEbd-sLLA",
        "outputId": "ef88d9ee-0354-4ad0-8b69-b3a8e077b520"
      },
      "outputs": [
        {
          "output_type": "execute_result",
          "data": {
            "text/plain": [
              "tensor(0.4333)"
            ]
          },
          "metadata": {},
          "execution_count": 121
        }
      ],
      "source": [
        "mnist_loss(prds,trgts)"
      ]
    },
    {
      "cell_type": "markdown",
      "metadata": {
        "id": "-WLHV0cNsLLA"
      },
      "source": [
        "For instance, if we change our prediction for the one \"false\" target from `0.2` to `0.8` the loss will go down, indicating that this is a better prediction:"
      ]
    },
    {
      "cell_type": "code",
      "execution_count": 122,
      "metadata": {
        "colab": {
          "base_uri": "https://localhost:8080/"
        },
        "id": "gf4Lq2BwsLLA",
        "outputId": "8dd3654d-0f0e-44c6-ba25-4bf264b5f56f"
      },
      "outputs": [
        {
          "output_type": "execute_result",
          "data": {
            "text/plain": [
              "tensor(0.2333)"
            ]
          },
          "metadata": {},
          "execution_count": 122
        }
      ],
      "source": [
        "mnist_loss(tensor([0.9, 0.4, 0.8]),trgts)"
      ]
    },
    {
      "cell_type": "markdown",
      "metadata": {
        "id": "MhwCH5ShsLLD"
      },
      "source": [
        "One problem with `mnist_loss` as currently defined is that it assumes that predictions are always between 0 and 1. We need to ensure, then, that this is actually the case! As it happens, there is a function that does exactly that—let's take a look."
      ]
    },
    {
      "cell_type": "markdown",
      "metadata": {
        "id": "M2DG0pttsLLD"
      },
      "source": [
        "### Sigmoid"
      ]
    },
    {
      "cell_type": "markdown",
      "metadata": {
        "id": "uXBdo2QTsLLD"
      },
      "source": [
        "The `sigmoid` function always outputs a number between 0 and 1. It's defined as follows:"
      ]
    },
    {
      "cell_type": "code",
      "execution_count": 123,
      "metadata": {
        "id": "vgadt5UPsLLE"
      },
      "outputs": [],
      "source": [
        "def sigmoid(x): return 1/(1+torch.exp(-x))"
      ]
    },
    {
      "cell_type": "markdown",
      "metadata": {
        "id": "ZCKQYupCsLLE"
      },
      "source": [
        "Pytorch defines an accelerated version for us, so we don’t really need our own. This is an important function in deep learning, since we often want to ensure values are between 0 and 1. This is what it looks like:"
      ]
    },
    {
      "cell_type": "code",
      "execution_count": 124,
      "metadata": {
        "colab": {
          "base_uri": "https://localhost:8080/",
          "height": 285
        },
        "id": "hG7sW-XasLLE",
        "outputId": "141d81c9-9c07-4bfb-c3c3-e0cf847c5d67"
      },
      "outputs": [
        {
          "output_type": "display_data",
          "data": {
            "text/plain": [
              "<Figure size 432x288 with 1 Axes>"
            ],
            "image/png": "[encoded data removed]"
          },
          "metadata": {
            "needs_background": "light"
          }
        }
      ],
      "source": [
        "plot_function(torch.sigmoid, title='Sigmoid', min=-4, max=4)"
      ]
    },
    {
      "cell_type": "markdown",
      "metadata": {
        "id": "V7lyLdPFsLLE"
      },
      "source": [
        "As you can see, it takes any input value, positive or negative, and smooshes it onto an output value between 0 and 1. It's also a smooth curve that only goes up, which makes it easier for SGD to find meaningful gradients. \n",
        "\n",
        "Let's update `mnist_loss` to first apply `sigmoid` to the inputs:"
      ]
    },
    {
      "cell_type": "code",
      "execution_count": 125,
      "metadata": {
        "id": "aM-8BiZbsLLE"
      },
      "outputs": [],
      "source": [
        "def mnist_loss(predictions, targets):\n",
        "    predictions = predictions.sigmoid()\n",
        "    return torch.where(targets==1, 1-predictions, predictions).mean()"
      ]
    },
    {
      "cell_type": "markdown",
      "metadata": {
        "id": "bDcW9cDasLLE"
      },
      "source": [
        "Now we can be confident our loss function will work, even if the predictions are not between 0 and 1. All that is required is that a higher prediction corresponds to higher confidence an image is a 0.\n",
        "\n",
        "Having defined a loss function, now is a good moment to recapitulate why we did this. After all, we already had a metric, which was overall accuracy. So why did we define a loss?\n",
        "\n",
        "The key difference is that the metric is to drive human understanding and the loss is to drive automated learning. To drive automated learning, the loss must be a function that has a meaningful derivative. It can't have big flat sections and large jumps, but instead must be reasonably smooth. This is why we designed a loss function that would respond to small changes in confidence level. This requirement means that sometimes it does not really reflect exactly what we are trying to achieve, but is rather a compromise between our real goal, and a function that can be optimized using its gradient. The loss function is calculated for each item in our dataset, and then at the end of an epoch the loss values are all averaged and the overall mean is reported for the epoch.\n",
        "\n",
        "Metrics, on the other hand, are the numbers that we really care about. These are the values that are printed at the end of each epoch that tell us how our model is really doing. It is important that we learn to focus on these metrics, rather than the loss, when judging the performance of a model."
      ]
    },
    {
      "cell_type": "markdown",
      "metadata": {
        "id": "3c9uyx90sLLE"
      },
      "source": [
        "### SGD and Mini-Batches"
      ]
    },
    {
      "cell_type": "markdown",
      "metadata": {
        "id": "Z78va5N4sLLE"
      },
      "source": [
        "Now that we have a loss function that is suitable for driving SGD, we can consider some of the details involved in the next phase of the learning process, which is to change or update the weights based on the gradients. This is called an *optimization step*.\n",
        "\n",
        "In order to take an optimization step we need to calculate the loss over one or more data items. How many should we use? We could calculate it for the whole dataset, and take the average, or we could calculate it for a single data item. But neither of these is ideal. Calculating it for the whole dataset would take a very long time. Calculating it for a single item would not use much information, so it would result in a very imprecise and unstable gradient. That is, you'd be going to the trouble of updating the weights, but taking into account only how that would improve the model's performance on that single item.\n",
        "\n",
        "So instead we take a compromise between the two: we calculate the average loss for a few data items at a time. This is called a *mini-batch*. The number of data items in the mini-batch is called the *batch size*. A larger batch size means that you will get a more accurate and stable estimate of your dataset's gradients from the loss function, but it will take longer, and you will process fewer mini-batches per epoch. Choosing a good batch size is one of the decisions you need to make as a deep learning practitioner to train your model quickly and accurately. We will talk about how to make this choice throughout this book.\n",
        "\n",
        "Another good reason for using mini-batches rather than calculating the gradient on individual data items is that, in practice, we nearly always do our training on an accelerator such as a GPU. These accelerators only perform well if they have lots of work to do at a time, so it's helpful if we can give them lots of data items to work on. Using mini-batches is one of the best ways to do this. However, if you give them too much data to work on at once, they run out of memory—making GPUs happy is also tricky!\n",
        "\n",
        "As we saw in our discussion of data augmentations, we get better generalization if we can vary things during training. One simple and effective thing we can vary is what data items we put in each mini-batch. Rather than simply enumerating our dataset in order for every epoch, instead what we normally do is randomly shuffle it on every epoch, before we create mini-batches. PyTorch and fastai provide a class that will do the shuffling and mini-batch collation for you, called `DataLoader`.\n",
        "\n",
        "A `DataLoader` can take any Python collection and turn it into an iterator over many batches, like so:"
      ]
    },
    {
      "cell_type": "code",
      "execution_count": 126,
      "metadata": {
        "colab": {
          "base_uri": "https://localhost:8080/"
        },
        "id": "aGoGgJsmsLLE",
        "outputId": "82e6cfaf-1c41-4dee-9aa8-42dc7b6310de"
      },
      "outputs": [
        {
          "output_type": "execute_result",
          "data": {
            "text/plain": [
              "[tensor([ 3, 12,  8, 10,  2]),\n",
              " tensor([ 9,  4,  7, 14,  5]),\n",
              " tensor([ 1, 13,  0,  6, 11])]"
            ]
          },
          "metadata": {},
          "execution_count": 126
        }
      ],
      "source": [
        "coll = range(15)\n",
        "dl = DataLoader(coll, batch_size=5, shuffle=True)\n",
        "list(dl)"
      ]
    },
    {
      "cell_type": "code",
      "source": [
        "def Dlanload(data, classes):\n",
        "  return print(list(zip(data,classes)))"
      ],
      "metadata": {
        "id": "y53yneF-ENBS"
      },
      "execution_count": 235,
      "outputs": []
    },
    {
      "cell_type": "code",
      "source": [
        "data = [1,2,3,4]\n",
        "classes = ['a','b','c','d']\n",
        "Dlanload(data, classes)"
      ],
      "metadata": {
        "id": "S_zNfMB1EnWR",
        "outputId": "def872c0-988e-439a-c32d-531fcaf32717",
        "colab": {
          "base_uri": "https://localhost:8080/"
        }
      },
      "execution_count": 236,
      "outputs": [
        {
          "output_type": "stream",
          "name": "stdout",
          "text": [
            "[(1, 'a'), (2, 'b'), (3, 'c'), (4, 'd')]\n"
          ]
        }
      ]
    },
    {
      "cell_type": "markdown",
      "metadata": {
        "id": "XlkOZqW2sLLF"
      },
      "source": [
        "For training a model, we don't just want any Python collection, but a collection containing independent and dependent variables (that is, the inputs and targets of the model). A collection that contains tuples of independent and dependent variables is known in PyTorch as a `Dataset`. Here's an example of an extremely simple `Dataset`:"
      ]
    },
    {
      "cell_type": "code",
      "execution_count": 127,
      "metadata": {
        "colab": {
          "base_uri": "https://localhost:8080/"
        },
        "id": "X-3RdA1DsLLF",
        "outputId": "cba9e1b6-f4d2-458d-aa8f-8dea1bbfc1e6"
      },
      "outputs": [
        {
          "output_type": "execute_result",
          "data": {
            "text/plain": [
              "(#26) [(0, 'a'),(1, 'b'),(2, 'c'),(3, 'd'),(4, 'e'),(5, 'f'),(6, 'g'),(7, 'h'),(8, 'i'),(9, 'j')...]"
            ]
          },
          "metadata": {},
          "execution_count": 127
        }
      ],
      "source": [
        "ds = L(enumerate(string.ascii_lowercase))\n",
        "ds"
      ]
    },
    {
      "cell_type": "markdown",
      "metadata": {
        "id": "fp4r24yfsLLF"
      },
      "source": [
        "When we pass a `Dataset` to a `DataLoader` we will get back many batches which are themselves tuples of tensors representing batches of independent and dependent variables:"
      ]
    },
    {
      "cell_type": "code",
      "execution_count": 128,
      "metadata": {
        "colab": {
          "base_uri": "https://localhost:8080/"
        },
        "id": "FqBTjqp6sLLF",
        "outputId": "330f1bde-59fe-48a6-dbbc-269dfae04d6c"
      },
      "outputs": [
        {
          "output_type": "execute_result",
          "data": {
            "text/plain": [
              "[(tensor([17, 18, 10, 22,  8, 14]), ('r', 's', 'k', 'w', 'i', 'o')),\n",
              " (tensor([20, 15,  9, 13, 21, 12]), ('u', 'p', 'j', 'n', 'v', 'm')),\n",
              " (tensor([ 7, 25,  6,  5, 11, 23]), ('h', 'z', 'g', 'f', 'l', 'x')),\n",
              " (tensor([ 1,  3,  0, 24, 19, 16]), ('b', 'd', 'a', 'y', 't', 'q')),\n",
              " (tensor([2, 4]), ('c', 'e'))]"
            ]
          },
          "metadata": {},
          "execution_count": 128
        }
      ],
      "source": [
        "dl = DataLoader(ds, batch_size=6, shuffle=True)\n",
        "list(dl)"
      ]
    },
    {
      "cell_type": "markdown",
      "metadata": {
        "id": "cIHjOzMIsLLF"
      },
      "source": [
        "We are now ready to write our first training loop for a model using SGD!"
      ]
    },
    {
      "cell_type": "markdown",
      "metadata": {
        "id": "Qdz88hh1sLLF"
      },
      "source": [
        "## Putting It All Together"
      ]
    },
    {
      "cell_type": "markdown",
      "metadata": {
        "id": "YLhFxug6sLLF"
      },
      "source": [
        "First, let's re-initialize our parameters:"
      ]
    },
    {
      "cell_type": "code",
      "execution_count": 129,
      "metadata": {
        "id": "yO7VKEh_sLLF"
      },
      "outputs": [],
      "source": [
        "weights = init_params((28*28,1))\n",
        "bias = init_params(1)"
      ]
    },
    {
      "cell_type": "markdown",
      "metadata": {
        "id": "eRVMYiVcsLLG"
      },
      "source": [
        "A `DataLoader` can be created from a `Dataset`:"
      ]
    },
    {
      "cell_type": "code",
      "execution_count": 130,
      "metadata": {
        "colab": {
          "base_uri": "https://localhost:8080/"
        },
        "id": "hAUHL9INsLLG",
        "outputId": "a895a5b2-06b1-4231-cc9a-af761d680ad6"
      },
      "outputs": [
        {
          "output_type": "execute_result",
          "data": {
            "text/plain": [
              "(torch.Size([256, 784]), torch.Size([256, 1]))"
            ]
          },
          "metadata": {},
          "execution_count": 130
        }
      ],
      "source": [
        "dl = DataLoader(dset, batch_size=256)\n",
        "xb,yb = first(dl)\n",
        "xb.shape,yb.shape"
      ]
    },
    {
      "cell_type": "markdown",
      "metadata": {
        "id": "FmYFrvhqsLLG"
      },
      "source": [
        "We'll do the same for the validation set:"
      ]
    },
    {
      "cell_type": "code",
      "execution_count": 131,
      "metadata": {
        "id": "-Efdibb7sLLG"
      },
      "outputs": [],
      "source": [
        "valid_dl = DataLoader(valid_dset, batch_size=256)"
      ]
    },
    {
      "cell_type": "markdown",
      "metadata": {
        "id": "QzM7XJXGsLLG"
      },
      "source": [
        "Let's create a mini-batch of size 4 for testing:"
      ]
    },
    {
      "cell_type": "code",
      "execution_count": 132,
      "metadata": {
        "colab": {
          "base_uri": "https://localhost:8080/"
        },
        "id": "QF8qBbFvsLLG",
        "outputId": "3022fae3-f7ea-4c30-cac1-e4c0604b3a9b"
      },
      "outputs": [
        {
          "output_type": "execute_result",
          "data": {
            "text/plain": [
              "torch.Size([4, 784])"
            ]
          },
          "metadata": {},
          "execution_count": 132
        }
      ],
      "source": [
        "batch = train_x[:4]\n",
        "batch.shape"
      ]
    },
    {
      "cell_type": "code",
      "execution_count": 133,
      "metadata": {
        "colab": {
          "base_uri": "https://localhost:8080/"
        },
        "id": "XgSOxxzrsLLG",
        "outputId": "a0e24bc5-f417-4e52-ed88-904b2cbdff3a"
      },
      "outputs": [
        {
          "output_type": "execute_result",
          "data": {
            "text/plain": [
              "tensor([[ 0.9588],\n",
              "        [10.6090],\n",
              "        [-0.3115],\n",
              "        [-3.5902]], grad_fn=<AddBackward0>)"
            ]
          },
          "metadata": {},
          "execution_count": 133
        }
      ],
      "source": [
        "preds = linear1(batch)\n",
        "preds"
      ]
    },
    {
      "cell_type": "code",
      "execution_count": 134,
      "metadata": {
        "colab": {
          "base_uri": "https://localhost:8080/"
        },
        "id": "RlpJKCUPsLLG",
        "outputId": "af51f098-4732-4ae6-e268-1c31e5e8f5e7"
      },
      "outputs": [
        {
          "output_type": "execute_result",
          "data": {
            "text/plain": [
              "tensor(0.4569, grad_fn=<MeanBackward0>)"
            ]
          },
          "metadata": {},
          "execution_count": 134
        }
      ],
      "source": [
        "loss = mnist_loss(preds, train_y[:4])\n",
        "loss"
      ]
    },
    {
      "cell_type": "markdown",
      "metadata": {
        "id": "IyDkObCHsLLG"
      },
      "source": [
        "Now we can calculate the gradients:"
      ]
    },
    {
      "cell_type": "code",
      "execution_count": 135,
      "metadata": {
        "colab": {
          "base_uri": "https://localhost:8080/"
        },
        "id": "yG6AdtnnsLLH",
        "outputId": "80fe411c-9113-4fba-ed45-08caab411e98"
      },
      "outputs": [
        {
          "output_type": "execute_result",
          "data": {
            "text/plain": [
              "(torch.Size([784, 1]), tensor(-0.0159), tensor([-0.1176]))"
            ]
          },
          "metadata": {},
          "execution_count": 135
        }
      ],
      "source": [
        "loss.backward()\n",
        "weights.grad.shape,weights.grad.mean(),bias.grad"
      ]
    },
    {
      "cell_type": "markdown",
      "metadata": {
        "id": "DoXZkkxxsLLH"
      },
      "source": [
        "Let's put that all in a function:"
      ]
    },
    {
      "cell_type": "code",
      "execution_count": 136,
      "metadata": {
        "id": "wVgqdfgSsLLH"
      },
      "outputs": [],
      "source": [
        "def calc_grad(xb, yb, model):\n",
        "    preds = model(xb)\n",
        "    loss = mnist_loss(preds, yb)\n",
        "    loss.backward()"
      ]
    },
    {
      "cell_type": "markdown",
      "metadata": {
        "id": "aAZ09wycsLLH"
      },
      "source": [
        "and test it:"
      ]
    },
    {
      "cell_type": "code",
      "execution_count": 137,
      "metadata": {
        "colab": {
          "base_uri": "https://localhost:8080/"
        },
        "id": "NcHhJOz3sLLH",
        "outputId": "eb42a3db-4a00-49ec-c55c-645a6612b11c"
      },
      "outputs": [
        {
          "output_type": "execute_result",
          "data": {
            "text/plain": [
              "(tensor(-0.0318), tensor([-0.2353]))"
            ]
          },
          "metadata": {},
          "execution_count": 137
        }
      ],
      "source": [
        "calc_grad(batch, train_y[:4], linear1)\n",
        "weights.grad.mean(),bias.grad"
      ]
    },
    {
      "cell_type": "markdown",
      "metadata": {
        "id": "rPJ8cVxIsLLH"
      },
      "source": [
        "But look what happens if we call it twice:"
      ]
    },
    {
      "cell_type": "code",
      "execution_count": 138,
      "metadata": {
        "colab": {
          "base_uri": "https://localhost:8080/"
        },
        "id": "XeB-bym3sLLH",
        "outputId": "cfd76e5d-cb5b-4e4b-cf12-a874752b7a5d"
      },
      "outputs": [
        {
          "output_type": "execute_result",
          "data": {
            "text/plain": [
              "(tensor(-0.0477), tensor([-0.3529]))"
            ]
          },
          "metadata": {},
          "execution_count": 138
        }
      ],
      "source": [
        "calc_grad(batch, train_y[:4], linear1)\n",
        "weights.grad.mean(),bias.grad"
      ]
    },
    {
      "cell_type": "markdown",
      "metadata": {
        "id": "D2cLxqx7sLLH"
      },
      "source": [
        "The gradients have changed! The reason for this is that `loss.backward` actually *adds* the gradients of `loss` to any gradients that are currently stored. So, we have to set the current gradients to 0 first:"
      ]
    },
    {
      "cell_type": "code",
      "execution_count": 139,
      "metadata": {
        "id": "d-AFlujRsLLH"
      },
      "outputs": [],
      "source": [
        "weights.grad.zero_()\n",
        "bias.grad.zero_();"
      ]
    },
    {
      "cell_type": "markdown",
      "metadata": {
        "id": "yQIVo4JEsLLI"
      },
      "source": [
        "> note: Inplace Operations: Methods in PyTorch whose names end in an underscore modify their objects _in place_. For instance, `bias.zero_()` sets all elements of the tensor `bias` to 0."
      ]
    },
    {
      "cell_type": "markdown",
      "metadata": {
        "id": "LMYaVUkhsLLI"
      },
      "source": [
        "Our only remaining step is to update the weights and biases based on the gradient and learning rate. When we do so, we have to tell PyTorch not to take the gradient of this step too—otherwise things will get very confusing when we try to compute the derivative at the next batch! If we assign to the `data` attribute of a tensor then PyTorch will not take the gradient of that step. Here's our basic training loop for an epoch:"
      ]
    },
    {
      "cell_type": "code",
      "execution_count": 140,
      "metadata": {
        "id": "uThnNLgTsLLI"
      },
      "outputs": [],
      "source": [
        "def train_epoch(model, lr, params):\n",
        "    for xb,yb in dl:\n",
        "        calc_grad(xb, yb, model)\n",
        "        for p in params:\n",
        "            p.data -= p.grad*lr\n",
        "            p.grad.zero_()"
      ]
    },
    {
      "cell_type": "markdown",
      "metadata": {
        "id": "85P2nxbSsLLI"
      },
      "source": [
        "We also want to check how we're doing, by looking at the accuracy of the validation set. To decide if an output represents a 0 or other number, we can just check whether it's greater than 0. So our accuracy for each item can be calculated (using broadcasting, so no loops!) with:"
      ]
    },
    {
      "cell_type": "code",
      "execution_count": 141,
      "metadata": {
        "colab": {
          "base_uri": "https://localhost:8080/"
        },
        "id": "MKOf6PTfsLLJ",
        "outputId": "646ca0ca-8ebb-49bb-8a18-64110b3378c6"
      },
      "outputs": [
        {
          "output_type": "execute_result",
          "data": {
            "text/plain": [
              "tensor([[ True],\n",
              "        [ True],\n",
              "        [False],\n",
              "        [False]])"
            ]
          },
          "metadata": {},
          "execution_count": 141
        }
      ],
      "source": [
        "(preds>0.0).float() == train_y[:4]"
      ]
    },
    {
      "cell_type": "markdown",
      "metadata": {
        "id": "92ANzR3YsLLJ"
      },
      "source": [
        "That gives us this function to calculate our validation accuracy:"
      ]
    },
    {
      "cell_type": "code",
      "execution_count": 142,
      "metadata": {
        "id": "5_Pcu5ZIsLLJ"
      },
      "outputs": [],
      "source": [
        "def batch_accuracy(xb, yb):\n",
        "    preds = xb.sigmoid()\n",
        "    correct = (preds>0.5) == yb\n",
        "    return correct.float().mean()"
      ]
    },
    {
      "cell_type": "markdown",
      "metadata": {
        "id": "hA-DMp7HsLLJ"
      },
      "source": [
        "We can check it works:"
      ]
    },
    {
      "cell_type": "code",
      "execution_count": 143,
      "metadata": {
        "colab": {
          "base_uri": "https://localhost:8080/"
        },
        "id": "FUP1E6OlsLLJ",
        "outputId": "0303739a-fdbb-4793-9ffc-8f6c1023700e"
      },
      "outputs": [
        {
          "output_type": "execute_result",
          "data": {
            "text/plain": [
              "tensor(0.5000)"
            ]
          },
          "metadata": {},
          "execution_count": 143
        }
      ],
      "source": [
        "batch_accuracy(linear1(batch), train_y[:4])"
      ]
    },
    {
      "cell_type": "markdown",
      "metadata": {
        "id": "3g0Hzja0sLLJ"
      },
      "source": [
        "and then put the batches together:"
      ]
    },
    {
      "cell_type": "code",
      "execution_count": 144,
      "metadata": {
        "id": "WCHr3ez8sLLJ"
      },
      "outputs": [],
      "source": [
        "def validate_epoch(model):\n",
        "    accs = [batch_accuracy(model(xb), yb) for xb,yb in valid_dl]\n",
        "    return round(torch.stack(accs).mean().item(), 4)"
      ]
    },
    {
      "cell_type": "code",
      "execution_count": 145,
      "metadata": {
        "colab": {
          "base_uri": "https://localhost:8080/"
        },
        "id": "TDdyG6djsLLJ",
        "outputId": "8e332413-4dcb-4c9a-81e6-82a49e4c7bf2"
      },
      "outputs": [
        {
          "output_type": "execute_result",
          "data": {
            "text/plain": [
              "0.5511"
            ]
          },
          "metadata": {},
          "execution_count": 145
        }
      ],
      "source": [
        "validate_epoch(linear1)"
      ]
    },
    {
      "cell_type": "markdown",
      "metadata": {
        "id": "aboBWI0MsLLJ"
      },
      "source": [
        "That's our starting point. Let's train for one epoch, and see if the accuracy improves:"
      ]
    },
    {
      "cell_type": "code",
      "execution_count": 150,
      "metadata": {
        "colab": {
          "base_uri": "https://localhost:8080/"
        },
        "id": "ickvwiOOsLLK",
        "outputId": "9df52775-4220-4ed2-82d0-9a608d6868fd"
      },
      "outputs": [
        {
          "output_type": "execute_result",
          "data": {
            "text/plain": [
              "0.7461"
            ]
          },
          "metadata": {},
          "execution_count": 150
        }
      ],
      "source": [
        "lr = 1.\n",
        "params = weights,bias\n",
        "train_epoch(linear1, lr, params)\n",
        "validate_epoch(linear1)"
      ]
    },
    {
      "cell_type": "markdown",
      "metadata": {
        "id": "Pz5jZyS-sLLK"
      },
      "source": [
        "Then do a few more:"
      ]
    },
    {
      "cell_type": "code",
      "execution_count": 151,
      "metadata": {
        "colab": {
          "base_uri": "https://localhost:8080/"
        },
        "id": "aOuzJXNQsLLK",
        "outputId": "ad45918e-766e-4054-d37f-4af50c3b49b1"
      },
      "outputs": [
        {
          "output_type": "stream",
          "name": "stdout",
          "text": [
            "0.888 0.9284 0.947 0.9544 0.9575 0.9579 0.9596 0.9601 0.9614 0.9627 0.9635 0.964 0.9657 0.9653 0.9666 0.967 0.9683 0.9688 0.9696 0.9709 "
          ]
        }
      ],
      "source": [
        "for i in range(20):\n",
        "    train_epoch(linear1, lr, params)\n",
        "    print(validate_epoch(linear1), end=' ')"
      ]
    },
    {
      "cell_type": "markdown",
      "metadata": {
        "id": "ntTJHUG6sLLK"
      },
      "source": [
        "Looking good! We're already about at the same accuracy as our \"pixel similarity\" approach, and we've created a general-purpose foundation we can build on. Our next step will be to create an object that will handle the SGD step for us. In PyTorch, it's called an *optimizer*."
      ]
    },
    {
      "cell_type": "markdown",
      "metadata": {
        "id": "Pz4SY4c3sLLK"
      },
      "source": [
        "### Creating an Optimizer"
      ]
    },
    {
      "cell_type": "markdown",
      "metadata": {
        "id": "K3tfL1WwsLLK"
      },
      "source": [
        "Because this is such a general foundation, PyTorch provides some useful classes to make it easier to implement. The first thing we can do is replace our `linear1` function with PyTorch's `nn.Linear` module. A *module* is an object of a class that inherits from the PyTorch `nn.Module` class. Objects of this class behave identically to standard Python functions, in that you can call them using parentheses and they will return the activations of a model.\n",
        "\n",
        "`nn.Linear` does the same thing as our `init_params` and `linear` together. It contains both the *weights* and *biases* in a single class. Here's how we replicate our model from the previous section:"
      ]
    },
    {
      "cell_type": "code",
      "execution_count": 152,
      "metadata": {
        "id": "pkeQi6GssLLK"
      },
      "outputs": [],
      "source": [
        "linear_model = nn.Linear(28*28,1)"
      ]
    },
    {
      "cell_type": "markdown",
      "metadata": {
        "id": "CC5AJrQwsLLK"
      },
      "source": [
        "Every PyTorch module knows what parameters it has that can be trained; they are available through the `parameters` method:"
      ]
    },
    {
      "cell_type": "code",
      "execution_count": 153,
      "metadata": {
        "colab": {
          "base_uri": "https://localhost:8080/"
        },
        "id": "n_FLZEATsLLK",
        "outputId": "fdba2b61-5b42-432c-c655-39278c7ab7a8"
      },
      "outputs": [
        {
          "output_type": "execute_result",
          "data": {
            "text/plain": [
              "(torch.Size([1, 784]), torch.Size([1]))"
            ]
          },
          "metadata": {},
          "execution_count": 153
        }
      ],
      "source": [
        "w,b = linear_model.parameters()\n",
        "w.shape,b.shape"
      ]
    },
    {
      "cell_type": "markdown",
      "metadata": {
        "id": "0sruacC8sLLL"
      },
      "source": [
        "We can use this information to create an optimizer:"
      ]
    },
    {
      "cell_type": "code",
      "execution_count": 154,
      "metadata": {
        "id": "6EGaz2RBsLLL"
      },
      "outputs": [],
      "source": [
        "class BasicOptim:\n",
        "    def __init__(self,params,lr): self.params,self.lr = list(params),lr\n",
        "\n",
        "    def step(self, *args, **kwargs):\n",
        "        for p in self.params: p.data -= p.grad.data * self.lr\n",
        "\n",
        "    def zero_grad(self, *args, **kwargs):\n",
        "        for p in self.params: p.grad = None"
      ]
    },
    {
      "cell_type": "markdown",
      "metadata": {
        "id": "0tpONQUJsLLL"
      },
      "source": [
        "We can create our optimizer by passing in the model's parameters:"
      ]
    },
    {
      "cell_type": "code",
      "execution_count": 161,
      "metadata": {
        "id": "7KdTsYX8sLLL"
      },
      "outputs": [],
      "source": [
        "opt = BasicOptim(linear_model.parameters(), lr)"
      ]
    },
    {
      "cell_type": "markdown",
      "metadata": {
        "id": "jPlN9Pl5sLLL"
      },
      "source": [
        "Our training loop can now be simplified to:"
      ]
    },
    {
      "cell_type": "code",
      "execution_count": 162,
      "metadata": {
        "id": "VmNPZj98sLLL"
      },
      "outputs": [],
      "source": [
        "def train_epoch(model):\n",
        "    for xb,yb in dl:\n",
        "        calc_grad(xb, yb, model)\n",
        "        opt.step()\n",
        "        opt.zero_grad()"
      ]
    },
    {
      "cell_type": "markdown",
      "metadata": {
        "id": "bvE-eGwasLLL"
      },
      "source": [
        "Our validation function doesn't need to change at all:"
      ]
    },
    {
      "cell_type": "code",
      "execution_count": 163,
      "metadata": {
        "colab": {
          "base_uri": "https://localhost:8080/"
        },
        "id": "zh2o8hOxsLLL",
        "outputId": "3160b4f9-b166-4e6b-ca2b-c15551e8ca7b"
      },
      "outputs": [
        {
          "output_type": "execute_result",
          "data": {
            "text/plain": [
              "0.6888"
            ]
          },
          "metadata": {},
          "execution_count": 163
        }
      ],
      "source": [
        "validate_epoch(linear_model)"
      ]
    },
    {
      "cell_type": "markdown",
      "metadata": {
        "id": "gWm5qQItsLLL"
      },
      "source": [
        "Let's put our little training loop in a function, to make things simpler:"
      ]
    },
    {
      "cell_type": "code",
      "execution_count": 164,
      "metadata": {
        "id": "ntlyxuK5sLLM"
      },
      "outputs": [],
      "source": [
        "def train_model(model, epochs):\n",
        "    for i in range(epochs):\n",
        "        train_epoch(model)\n",
        "        print(validate_epoch(model), end=' ')"
      ]
    },
    {
      "cell_type": "markdown",
      "metadata": {
        "id": "ImB7IMGysLLM"
      },
      "source": [
        "The results are the same as in the previous section:"
      ]
    },
    {
      "cell_type": "code",
      "execution_count": 165,
      "metadata": {
        "colab": {
          "base_uri": "https://localhost:8080/"
        },
        "id": "TrM_kwlfsLLM",
        "outputId": "7fed6d96-a789-4db9-c7fb-0ddef6f25a8a"
      },
      "outputs": [
        {
          "output_type": "stream",
          "name": "stdout",
          "text": [
            "0.4479 0.7166 0.8728 0.9145 0.934 0.9444 0.9488 0.9536 0.9579 0.9596 0.9609 0.9648 0.9683 0.9696 0.9709 0.9709 0.9727 0.974 0.9748 0.9757 "
          ]
        }
      ],
      "source": [
        "train_model(linear_model, 20)"
      ]
    },
    {
      "cell_type": "markdown",
      "metadata": {
        "id": "oMfsSSoksLLM"
      },
      "source": [
        "fastai provides the `SGD` class which, by default, does the same thing as our `BasicOptim`:"
      ]
    },
    {
      "cell_type": "code",
      "execution_count": 166,
      "metadata": {
        "colab": {
          "base_uri": "https://localhost:8080/"
        },
        "id": "22TiDhvgsLLM",
        "outputId": "594c9e97-8db7-4c5f-bf7a-deaaeb135c96"
      },
      "outputs": [
        {
          "output_type": "stream",
          "name": "stdout",
          "text": [
            "0.4479 0.7201 0.8676 0.9119 0.9314 0.941 0.9484 0.9518 0.9562 0.9588 0.9601 0.9635 0.9666 0.9679 0.9705 0.9714 0.9727 0.974 0.9744 0.9757 "
          ]
        }
      ],
      "source": [
        "linear_model = nn.Linear(28*28,1)\n",
        "opt = SGD(linear_model.parameters(), lr)\n",
        "train_model(linear_model, 20)"
      ]
    },
    {
      "cell_type": "markdown",
      "metadata": {
        "id": "nrL23eiOsLLM"
      },
      "source": [
        "fastai also provides `Learner.fit`, which we can use instead of `train_model`. To create a `Learner` we first need to create a `DataLoaders`, by passing in our training and validation `DataLoader`s:"
      ]
    },
    {
      "cell_type": "code",
      "execution_count": 167,
      "metadata": {
        "id": "IdA2iADrsLLN"
      },
      "outputs": [],
      "source": [
        "dls = DataLoaders(dl, valid_dl)"
      ]
    },
    {
      "cell_type": "markdown",
      "metadata": {
        "id": "hTEqBCDBsLLN"
      },
      "source": [
        "To create a `Learner` without using an application (such as `cnn_learner`) we need to pass in all the elements that we've created in this chapter: the `DataLoaders`, the model, the optimization function (which will be passed the parameters), the loss function, and optionally any metrics to print:"
      ]
    },
    {
      "cell_type": "code",
      "execution_count": 168,
      "metadata": {
        "id": "MvJrQErKsLLN"
      },
      "outputs": [],
      "source": [
        "learn = Learner(dls, nn.Linear(28*28,1), opt_func=SGD,\n",
        "                loss_func=mnist_loss, metrics=batch_accuracy)"
      ]
    },
    {
      "cell_type": "markdown",
      "metadata": {
        "id": "mGM7bo8vsLLN"
      },
      "source": [
        "Now we can call `fit`:"
      ]
    },
    {
      "cell_type": "code",
      "execution_count": 169,
      "metadata": {
        "colab": {
          "base_uri": "https://localhost:8080/",
          "height": 362
        },
        "id": "NS0PsuaYsLLN",
        "outputId": "2055ac73-7952-4605-cb14-28efdfb7e3a8"
      },
      "outputs": [
        {
          "output_type": "display_data",
          "data": {
            "text/plain": [
              "<IPython.core.display.HTML object>"
            ],
            "text/html": [
              "\n",
              "<style>\n",
              "    /* Turns off some styling */\n",
              "    progress {\n",
              "        /* gets rid of default border in Firefox and Opera. */\n",
              "        border: none;\n",
              "        /* Needs to be in here for Safari polyfill so background images work as expected. */\n",
              "        background-size: auto;\n",
              "    }\n",
              "    .progress-bar-interrupted, .progress-bar-interrupted::-webkit-progress-bar {\n",
              "        background: #F44336;\n",
              "    }\n",
              "</style>\n"
            ]
          },
          "metadata": {}
        },
        {
          "output_type": "display_data",
          "data": {
            "text/plain": [
              "<IPython.core.display.HTML object>"
            ],
            "text/html": [
              "<table border=\"1\" class=\"dataframe\">\n",
              "  <thead>\n",
              "    <tr style=\"text-align: left;\">\n",
              "      <th>epoch</th>\n",
              "      <th>train_loss</th>\n",
              "      <th>valid_loss</th>\n",
              "      <th>batch_accuracy</th>\n",
              "      <th>time</th>\n",
              "    </tr>\n",
              "  </thead>\n",
              "  <tbody>\n",
              "    <tr>\n",
              "      <td>0</td>\n",
              "      <td>0.637728</td>\n",
              "      <td>0.496889</td>\n",
              "      <td>0.500971</td>\n",
              "      <td>00:00</td>\n",
              "    </tr>\n",
              "    <tr>\n",
              "      <td>1</td>\n",
              "      <td>0.342250</td>\n",
              "      <td>0.264433</td>\n",
              "      <td>0.743689</td>\n",
              "      <td>00:00</td>\n",
              "    </tr>\n",
              "    <tr>\n",
              "      <td>2</td>\n",
              "      <td>0.134297</td>\n",
              "      <td>0.162010</td>\n",
              "      <td>0.854854</td>\n",
              "      <td>00:00</td>\n",
              "    </tr>\n",
              "    <tr>\n",
              "      <td>3</td>\n",
              "      <td>0.063929</td>\n",
              "      <td>0.108706</td>\n",
              "      <td>0.905340</td>\n",
              "      <td>00:00</td>\n",
              "    </tr>\n",
              "    <tr>\n",
              "      <td>4</td>\n",
              "      <td>0.037340</td>\n",
              "      <td>0.085444</td>\n",
              "      <td>0.925728</td>\n",
              "      <td>00:00</td>\n",
              "    </tr>\n",
              "    <tr>\n",
              "      <td>5</td>\n",
              "      <td>0.026728</td>\n",
              "      <td>0.072485</td>\n",
              "      <td>0.936893</td>\n",
              "      <td>00:00</td>\n",
              "    </tr>\n",
              "    <tr>\n",
              "      <td>6</td>\n",
              "      <td>0.022194</td>\n",
              "      <td>0.064100</td>\n",
              "      <td>0.942233</td>\n",
              "      <td>00:00</td>\n",
              "    </tr>\n",
              "    <tr>\n",
              "      <td>7</td>\n",
              "      <td>0.020057</td>\n",
              "      <td>0.058168</td>\n",
              "      <td>0.946602</td>\n",
              "      <td>00:00</td>\n",
              "    </tr>\n",
              "    <tr>\n",
              "      <td>8</td>\n",
              "      <td>0.018925</td>\n",
              "      <td>0.053686</td>\n",
              "      <td>0.951456</td>\n",
              "      <td>00:00</td>\n",
              "    </tr>\n",
              "    <tr>\n",
              "      <td>9</td>\n",
              "      <td>0.018244</td>\n",
              "      <td>0.050134</td>\n",
              "      <td>0.954854</td>\n",
              "      <td>00:00</td>\n",
              "    </tr>\n",
              "  </tbody>\n",
              "</table>"
            ]
          },
          "metadata": {}
        }
      ],
      "source": [
        "learn.fit(10, lr=lr)"
      ]
    },
    {
      "cell_type": "markdown",
      "metadata": {
        "id": "Kz1Qx9U3sLLN"
      },
      "source": [
        "As you can see, there's nothing magic about the PyTorch and fastai classes. They are just convenient pre-packaged pieces that make your life a bit easier! (They also provide a lot of extra functionality we'll be using in future chapters.)\n",
        "\n",
        "With these classes, we can now replace our linear model with a neural network."
      ]
    },
    {
      "cell_type": "markdown",
      "metadata": {
        "id": "yLVRbPAgsLLN"
      },
      "source": [
        "## Adding a Nonlinearity"
      ]
    },
    {
      "cell_type": "markdown",
      "metadata": {
        "id": "cbUWav5wsLLN"
      },
      "source": [
        "So far we have a general procedure for optimizing the parameters of a function, and we have tried it out on a very boring function: a simple linear classifier. A linear classifier is very constrained in terms of what it can do. To make it a bit more complex (and able to handle more tasks), we need to add something nonlinear between two linear classifiers—this is what gives us a neural network.\n",
        "\n",
        "Here is the entire definition of a basic neural network:"
      ]
    },
    {
      "cell_type": "code",
      "execution_count": 170,
      "metadata": {
        "id": "7IU3ltIDsLLN"
      },
      "outputs": [],
      "source": [
        "def simple_net(xb): \n",
        "    res = xb@w1 + b1\n",
        "    res = res.max(tensor(0.0))\n",
        "    res = res@w2 + b2\n",
        "    return res"
      ]
    },
    {
      "cell_type": "markdown",
      "metadata": {
        "id": "2Lp_f9DXsLLN"
      },
      "source": [
        "That's it! All we have in `simple_net` is two linear classifiers with a `max` function between them.\n",
        "\n",
        "Here, `w1` and `w2` are weight tensors, and `b1` and `b2` are bias tensors; that is, parameters that are initially randomly initialized, just like we did in the previous section:"
      ]
    },
    {
      "cell_type": "code",
      "execution_count": 171,
      "metadata": {
        "id": "DeX_SZrqsLLO"
      },
      "outputs": [],
      "source": [
        "w1 = init_params((28*28,30))\n",
        "b1 = init_params(30)\n",
        "w2 = init_params((30,1))\n",
        "b2 = init_params(1)"
      ]
    },
    {
      "cell_type": "markdown",
      "metadata": {
        "id": "kN4375SNsLLO"
      },
      "source": [
        "The key point about this is that `w1` has 30 output activations (which means that `w2` must have 30 input activations, so they match). That means that the first layer can construct 30 different features, each representing some different mix of pixels. You can change that `30` to anything you like, to make the model more or less complex.\n",
        "\n",
        "That little function `res.max(tensor(0.0))` is called a *rectified linear unit*, also known as *ReLU*. We think we can all agree that *rectified linear unit* sounds pretty fancy and complicated... But actually, there's nothing more to it than `res.max(tensor(0.0))`—in other words, replace every negative number with a zero. This tiny function is also available in PyTorch as `F.relu`:"
      ]
    },
    {
      "cell_type": "code",
      "execution_count": null,
      "metadata": {
        "colab": {
          "base_uri": "https://localhost:8080/",
          "height": 265
        },
        "id": "bnoe8ugzsLLO",
        "outputId": "3b73885a-f3d3-4b8a-9f72-51b09fc2fbf9"
      },
      "outputs": [
        {
          "output_type": "display_data",
          "data": {
            "text/plain": [
              "<Figure size 432x288 with 1 Axes>"
            ],
            "image/png": "[encoded data removed]"
          },
          "metadata": {
            "needs_background": "light"
          }
        }
      ],
      "source": [
        "plot_function(F.relu)"
      ]
    },
    {
      "cell_type": "markdown",
      "metadata": {
        "id": "oXyp7N7psLLO"
      },
      "source": [
        "> J: There is an enormous amount of jargon in deep learning, including terms like _rectified linear unit_. The vast vast majority of this jargon is no more complicated than can be implemented in a short line of code, as we saw in this example. The reality is that for academics to get their papers published they need to make them sound as impressive and sophisticated as possible. One of the ways that they do that is to introduce jargon. Unfortunately, this has the result that the field ends up becoming far more intimidating and difficult to get into than it should be. You do have to learn the jargon, because otherwise papers and tutorials are not going to mean much to you. But that doesn't mean you have to find the jargon intimidating. Just remember, when you come across a word or phrase that you haven't seen before, it will almost certainly turn out to be referring to a very simple concept."
      ]
    },
    {
      "cell_type": "markdown",
      "metadata": {
        "id": "xk1z5AyjsLLO"
      },
      "source": [
        "The basic idea is that by using more linear layers, we can have our model do more computation, and therefore model more complex functions. But there's no point just putting one linear layer directly after another one, because when we multiply things together and then add them up multiple times, that could be replaced by multiplying different things together and adding them up just once! That is to say, a series of any number of linear layers in a row can be replaced with a single linear layer with a different set of parameters.\n",
        "\n",
        "But if we put a nonlinear function between them, such as `max`, then this is no longer true. Now each linear layer is actually somewhat decoupled from the other ones, and can do its own useful work. The `max` function is particularly interesting, because it operates as a simple `if` statement."
      ]
    },
    {
      "cell_type": "markdown",
      "metadata": {
        "id": "79o2ths_sLLO"
      },
      "source": [
        "> S: Mathematically, we say the composition of two linear functions is another linear function. So, we can stack as many linear classifiers as we want on top of each other, and without nonlinear functions between them, it will just be the same as one linear classifier."
      ]
    },
    {
      "cell_type": "markdown",
      "metadata": {
        "id": "mP4VmFcUsLLO"
      },
      "source": [
        "Amazingly enough, it can be mathematically proven that this little function can solve any computable problem to an arbitrarily high level of accuracy, if you can find the right parameters for `w1` and `w2` and if you make these matrices big enough. For any arbitrarily wiggly function, we can approximate it as a bunch of lines joined together; to make it closer to the wiggly function, we just have to use shorter lines. This is known as the *universal approximation theorem*. The three lines of code that we have here are known as *layers*. The first and third are known as *linear layers*, and the second line of code is known variously as a *nonlinearity*, or *activation function*.\n",
        "\n",
        "Just like in the previous section, we can replace this code with something a bit simpler, by taking advantage of PyTorch:"
      ]
    },
    {
      "cell_type": "code",
      "execution_count": 172,
      "metadata": {
        "id": "taDzv2qtsLLO"
      },
      "outputs": [],
      "source": [
        "simple_net = nn.Sequential(\n",
        "    nn.Linear(28*28,30),\n",
        "    nn.ReLU(),\n",
        "    nn.Linear(30,1)\n",
        ")"
      ]
    },
    {
      "cell_type": "markdown",
      "metadata": {
        "id": "ifBjq20YsLLO"
      },
      "source": [
        "`nn.Sequential` creates a module that will call each of the listed layers or functions in turn.\n",
        "\n",
        "`nn.ReLU` is a PyTorch module that does exactly the same thing as the `F.relu` function. Most functions that can appear in a model also have identical forms that are modules. Generally, it's just a case of replacing `F` with `nn` and changing the capitalization. When using `nn.Sequential`, PyTorch requires us to use the module version. Since modules are classes, we have to instantiate them, which is why you see `nn.ReLU()` in this example. \n",
        "\n",
        "Because `nn.Sequential` is a module, we can get its parameters, which will return a list of all the parameters of all the modules it contains. Let's try it out! As this is a deeper model, we'll use a lower learning rate and a few more epochs."
      ]
    },
    {
      "cell_type": "code",
      "source": [
        "learn = Learner(dls, simple_net, opt_func=SGD,\n",
        "                loss_func=mnist_loss, metrics=batch_accuracy)"
      ],
      "metadata": {
        "id": "oihatC1X3_Ju"
      },
      "execution_count": 199,
      "outputs": []
    },
    {
      "cell_type": "code",
      "execution_count": null,
      "metadata": {
        "id": "CV9zeDQ3sLLP"
      },
      "outputs": [],
      "source": [
        "#hide_output\n",
        "learn.fit(40, 0.1)"
      ]
    },
    {
      "cell_type": "markdown",
      "metadata": {
        "id": "hlq4g1vVsLLP"
      },
      "source": [
        "We're not showing the 40 lines of output here to save room; the training process is recorded in `learn.recorder`, with the table of output stored in the `values` attribute, so we can plot the accuracy over training as:"
      ]
    },
    {
      "cell_type": "code",
      "execution_count": null,
      "metadata": {
        "id": "GXjI7S7DsLLP"
      },
      "outputs": [],
      "source": [
        "plt.plot(L(learn.recorder.values).itemgot(2));"
      ]
    },
    {
      "cell_type": "markdown",
      "metadata": {
        "id": "SMVfh9h5sLLP"
      },
      "source": [
        "And we can view the final accuracy:"
      ]
    },
    {
      "cell_type": "code",
      "execution_count": 201,
      "metadata": {
        "colab": {
          "base_uri": "https://localhost:8080/"
        },
        "id": "M7POucQAsLLP",
        "outputId": "ba31f5f4-415d-4263-d870-6a0395f06705"
      },
      "outputs": [
        {
          "output_type": "execute_result",
          "data": {
            "text/plain": [
              "0.9834951162338257"
            ]
          },
          "metadata": {},
          "execution_count": 201
        }
      ],
      "source": [
        "learn.recorder.values[-1][2]"
      ]
    },
    {
      "cell_type": "markdown",
      "metadata": {
        "id": "TeYhYBytsLLP"
      },
      "source": [
        "At this point we have something that is rather magical:\n",
        "\n",
        "1. A function that can solve any problem to any level of accuracy (the neural network) given the correct set of parameters\n",
        "1. A way to find the best set of parameters for any function (stochastic gradient descent)\n",
        "\n",
        "This is why deep learning can do things which seem rather magical, such fantastic things. Believing that this combination of simple techniques can really solve any problem is one of the biggest steps that we find many students have to take. It seems too good to be true—surely things should be more difficult and complicated than this? Our recommendation: try it out! We just tried it on the MNIST dataset and you have seen the results. And since we are doing everything from scratch ourselves (except for calculating the gradients) you know that there is no special magic hiding behind the scenes."
      ]
    },
    {
      "cell_type": "markdown",
      "metadata": {
        "id": "D5ZY-GOTsLLP"
      },
      "source": [
        "### Going Deeper"
      ]
    },
    {
      "cell_type": "markdown",
      "metadata": {
        "id": "3tPhJ0VusLLP"
      },
      "source": [
        "There is no need to stop at just two linear layers. We can add as many as we want, as long as we add a nonlinearity between each pair of linear layers. As you will learn, however, the deeper the model gets, the harder it is to optimize the parameters in practice. Later in this book you will learn about some simple but brilliantly effective techniques for training deeper models.\n",
        "\n",
        "We already know that a single nonlinearity with two linear layers is enough to approximate any function. So why would we use deeper models? The reason is performance. With a deeper model (that is, one with more layers) we do not need to use as many parameters; it turns out that we can use smaller matrices with more layers, and get better results than we would get with larger matrices, and few layers.\n",
        "\n",
        "That means that we can train the model more quickly, and it will take up less memory. In the 1990s researchers were so focused on the universal approximation theorem that very few were experimenting with more than one nonlinearity. This theoretical but not practical foundation held back the field for years. Some researchers, however, did experiment with deep models, and eventually were able to show that these models could perform much better in practice. Eventually, theoretical results were developed which showed why this happens. Today, it is extremely unusual to find anybody using a neural network with just one nonlinearity.\n",
        "\n",
        "Here what happens when we train an 18-layer model using the same approach we saw in <<chapter_intro>>:"
      ]
    },
    {
      "cell_type": "code",
      "execution_count": 207,
      "metadata": {
        "colab": {
          "base_uri": "https://localhost:8080/",
          "height": 81
        },
        "id": "KCafXaxisLLQ",
        "outputId": "6848de71-6335-4ac9-9382-4fa2b78beac2"
      },
      "outputs": [
        {
          "output_type": "display_data",
          "data": {
            "text/plain": [
              "<IPython.core.display.HTML object>"
            ],
            "text/html": [
              "\n",
              "<style>\n",
              "    /* Turns off some styling */\n",
              "    progress {\n",
              "        /* gets rid of default border in Firefox and Opera. */\n",
              "        border: none;\n",
              "        /* Needs to be in here for Safari polyfill so background images work as expected. */\n",
              "        background-size: auto;\n",
              "    }\n",
              "    .progress-bar-interrupted, .progress-bar-interrupted::-webkit-progress-bar {\n",
              "        background: #F44336;\n",
              "    }\n",
              "</style>\n"
            ]
          },
          "metadata": {}
        },
        {
          "output_type": "display_data",
          "data": {
            "text/plain": [
              "<IPython.core.display.HTML object>"
            ],
            "text/html": [
              "<table border=\"1\" class=\"dataframe\">\n",
              "  <thead>\n",
              "    <tr style=\"text-align: left;\">\n",
              "      <th>epoch</th>\n",
              "      <th>train_loss</th>\n",
              "      <th>valid_loss</th>\n",
              "      <th>accuracy</th>\n",
              "      <th>time</th>\n",
              "    </tr>\n",
              "  </thead>\n",
              "  <tbody>\n",
              "    <tr>\n",
              "      <td>0</td>\n",
              "      <td>0.160735</td>\n",
              "      <td>0.025868</td>\n",
              "      <td>0.994112</td>\n",
              "      <td>00:17</td>\n",
              "    </tr>\n",
              "  </tbody>\n",
              "</table>"
            ]
          },
          "metadata": {}
        }
      ],
      "source": [
        "dls = ImageDataLoaders.from_folder(untar_data(URLs.MNIST_SAMPLE))\n",
        "learn = vision_learner(dls, resnet18, pretrained=False,\n",
        "                    loss_func=F.cross_entropy, metrics=accuracy)\n",
        "learn.fit_one_cycle(1, 0.1)"
      ]
    },
    {
      "cell_type": "markdown",
      "metadata": {
        "id": "y-CU49f2sLLQ"
      },
      "source": [
        "Nearly 100% accuracy! That's a big difference compared to our simple neural net. But as you'll learn in the remainder of this book, there are just a few little tricks you need to use to get such great results from scratch yourself. You already know the key foundational pieces. (Of course, even once you know all the tricks, you'll nearly always want to work with the pre-built classes provided by PyTorch and fastai, because they save you having to think about all the little details yourself.)"
      ]
    },
    {
      "cell_type": "markdown",
      "metadata": {
        "id": "1M1h6Re6sLLQ"
      },
      "source": [
        "## Jargon Recap"
      ]
    },
    {
      "cell_type": "markdown",
      "metadata": {
        "id": "rmSYkgcLsLLQ"
      },
      "source": [
        "Congratulations: you now know how to create and train a deep neural network from scratch! We've gone through quite a few steps to get to this point, but you might be surprised at how simple it really is.\n",
        "\n",
        "Now that we are at this point, it is a good opportunity to define, and review, some jargon and key concepts.\n",
        "\n",
        "A neural network contains a lot of numbers, but they are only of two types: numbers that are calculated, and the parameters that these numbers are calculated from. This gives us the two most important pieces of jargon to learn:\n",
        "\n",
        "- Activations:: Numbers that are calculated (both by linear and nonlinear layers)\n",
        "- Parameters:: Numbers that are randomly initialized, and optimized (that is, the numbers that define the model)\n",
        "\n",
        "We will often talk in this book about activations and parameters. Remember that they have very specific meanings. They are numbers. They are not abstract concepts, but they are actual specific numbers that are in your model. Part of becoming a good deep learning practitioner is getting used to the idea of actually looking at your activations and parameters, and plotting them and testing whether they are behaving correctly.\n",
        "\n",
        "Our activations and parameters are all contained in *tensors*. These are simply regularly shaped arrays—for example, a matrix. Matrices have rows and columns; we call these the *axes* or *dimensions*. The number of dimensions of a tensor is its *rank*. There are some special tensors:\n",
        "\n",
        "- Rank zero: scalar\n",
        "- Rank one: vector\n",
        "- Rank two: matrix\n",
        "\n",
        "A neural network contains a number of layers. Each layer is either *linear* or *nonlinear*. We generally alternate between these two kinds of layers in a neural network. Sometimes people refer to both a linear layer and its subsequent nonlinearity together as a single layer. Yes, this is confusing. Sometimes a nonlinearity is referred to as an *activation function*.\n",
        "\n",
        "<<dljargon1>> summarizes the key concepts related to SGD.\n",
        "\n",
        "```asciidoc\n",
        "[[dljargon1]]\n",
        ".Deep learning vocabulary\n",
        "[options=\"header\"]\n",
        "|=====\n",
        "| Term | Meaning\n",
        "|ReLU | Function that returns 0 for negative numbers and doesn't change positive numbers.\n",
        "|Mini-batch | A small group of inputs and labels gathered together in two arrays. A gradient descent step is updated on this batch (rather than a whole epoch).\n",
        "|Forward pass | Applying the model to some input and computing the predictions.\n",
        "|Loss | A value that represents how well (or badly) our model is doing.\n",
        "|Gradient | The derivative of the loss with respect to some parameter of the model.\n",
        "|Backward pass | Computing the gradients of the loss with respect to all model parameters.\n",
        "|Gradient descent | Taking a step in the directions opposite to the gradients to make the model parameters a little bit better.\n",
        "|Learning rate | The size of the step we take when applying SGD to update the parameters of the model.\n",
        "|=====\n",
        "```"
      ]
    },
    {
      "cell_type": "markdown",
      "metadata": {
        "id": "srLcrxznsLLQ"
      },
      "source": [
        "> note: _Choose Your Own Adventure_ Reminder: Did you choose to skip over chapters 2 & 3, in your excitement to peek under the hood? Well, here's your reminder to head back to chapter 2 now, because you'll be needing to know that stuff very soon!"
      ]
    },
    {
      "cell_type": "markdown",
      "metadata": {
        "id": "wjgWjmlasLLQ"
      },
      "source": [
        "## Questionnaire"
      ]
    },
    {
      "cell_type": "markdown",
      "metadata": {
        "id": "C9_RMcK_sLLQ"
      },
      "source": [
        "1. How is a grayscale image represented on a computer? How about a color image?\n",
        "1. How are the files and folders in the `MNIST_SAMPLE` dataset structured? Why?\n",
        "1. Explain how the \"pixel similarity\" approach to classifying digits works.\n",
        "1. What is a list comprehension? Create one now that selects odd numbers from a list and doubles them.\n",
        "1. What is a \"rank-3 tensor\"?\n",
        "1. What is the difference between tensor rank and shape? How do you get the rank from the shape?\n",
        "1. What are RMSE and L1 norm?\n",
        "1. How can you apply a calculation on thousands of numbers at once, many thousands of times faster than a Python loop?\n",
        "1. Create a 3×3 tensor or array containing the numbers from 1 to 9. Double it. Select the bottom-right four numbers.\n",
        "1. What is broadcasting?\n",
        "1. Are metrics generally calculated using the training set, or the validation set? Why?\n",
        "1. What is SGD?\n",
        "1. Why does SGD use mini-batches?\n",
        "1. What are the seven steps in SGD for machine learning?\n",
        "1. How do we initialize the weights in a model?\n",
        "1. What is \"loss\"?\n",
        "1. Why can't we always use a high learning rate?\n",
        "1. What is a \"gradient\"?\n",
        "1. Do you need to know how to calculate gradients yourself?\n",
        "1. Why can't we use accuracy as a loss function?\n",
        "1. Draw the sigmoid function. What is special about its shape?\n",
        "1. What is the difference between a loss function and a metric?\n",
        "1. What is the function to calculate new weights using a learning rate?\n",
        "1. What does the `DataLoader` class do?\n",
        "1. Write pseudocode showing the basic steps taken in each epoch for SGD.\n",
        "1. Create a function that, if passed two arguments `[1,2,3,4]` and `'abcd'`, returns `[(1, 'a'), (2, 'b'), (3, 'c'), (4, 'd')]`. What is special about that output data structure?\n",
        "1. What does `view` do in PyTorch?\n",
        "1. What are the \"bias\" parameters in a neural network? Why do we need them?\n",
        "1. What does the `@` operator do in Python?\n",
        "1. What does the `backward` method do?\n",
        "1. Why do we have to zero the gradients?\n",
        "1. What information do we have to pass to `Learner`?\n",
        "1. Show Python or pseudocode for the basic steps of a training loop.\n",
        "1. What is \"ReLU\"? Draw a plot of it for values from `-2` to `+2`.\n",
        "1. What is an \"activation function\"?\n",
        "1. What's the difference between `F.relu` and `nn.ReLU`?\n",
        "1. The universal approximation theorem shows that any function can be approximated as closely as needed using just one nonlinearity. So why do we normally use more?"
      ]
    },
    {
      "cell_type": "markdown",
      "metadata": {
        "id": "VacP8tgesLLR"
      },
      "source": [
        "### Further Research"
      ]
    },
    {
      "cell_type": "markdown",
      "metadata": {
        "id": "HHWgMwIgsLLR"
      },
      "source": [
        "1. Create your own implementation of `Learner` from scratch, based on the training loop shown in this chapter.\n",
        "1. Complete all the steps in this chapter using the full MNIST datasets (that is, for all digits, not just 3s and 7s). This is a significant project and will take you quite a bit of time to complete! You'll need to do some of your own research to figure out how to overcome some obstacles you'll meet on the way."
      ]
    },
    {
      "cell_type": "code",
      "execution_count": null,
      "metadata": {
        "id": "8-he9EV3sLLS"
      },
      "outputs": [],
      "source": [
        ""
      ]
    }
  ],
  "metadata": {
    "jupytext": {
      "split_at_heading": true
    },
    "kernelspec": {
      "display_name": "Python 3 (ipykernel)",
      "language": "python",
      "name": "python3"
    },
    "colab": {
      "name": "04_mnist_basics.ipynb",
      "provenance": [],
      "include_colab_link": true
    },
    "accelerator": "GPU"
  },
  "nbformat": 4,
  "nbformat_minor": 0
}