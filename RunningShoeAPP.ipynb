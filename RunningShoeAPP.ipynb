{
  "nbformat": 4,
  "nbformat_minor": 0,
  "metadata": {
    "colab": {
      "name": "RunningShoeAPP.ipynb",
      "provenance": [],
      "authorship_tag": "ABX9TyNGxJ4IVzMb6W7fQO9pzv2t",
      "include_colab_link": true
    },
    "kernelspec": {
      "name": "python3",
      "display_name": "Python 3"
    },
    "language_info": {
      "name": "python"
    },
    "widgets": {
      "application/vnd.jupyter.widget-state+json": {
        "3116ba4f3cd84405a3e8250fd1b4aff2": {
          "model_module": "@jupyter-widgets/controls",
          "model_name": "VBoxModel",
          "model_module_version": "1.5.0",
          "state": {
            "_dom_classes": [],
            "_model_module": "@jupyter-widgets/controls",
            "_model_module_version": "1.5.0",
            "_model_name": "VBoxModel",
            "_view_count": null,
            "_view_module": "@jupyter-widgets/controls",
            "_view_module_version": "1.5.0",
            "_view_name": "VBoxView",
            "box_style": "",
            "children": [
              "IPY_MODEL_ab68d9b8257c4a58817f4c340742a605",
              "IPY_MODEL_aa4f1b7247cb44ed9f72e13893979743",
              "IPY_MODEL_2144b7f8636b486bb19ff97c869d1032",
              "IPY_MODEL_65c673e66f874453b6deaed334951a4f"
            ],
            "layout": "IPY_MODEL_4fd894ce954e44c3bc76d92d6c62ce0b"
          }
        },
        "ab68d9b8257c4a58817f4c340742a605": {
          "model_module": "@jupyter-widgets/controls",
          "model_name": "LabelModel",
          "model_module_version": "1.5.0",
          "state": {
            "_dom_classes": [],
            "_model_module": "@jupyter-widgets/controls",
            "_model_module_version": "1.5.0",
            "_model_name": "LabelModel",
            "_view_count": null,
            "_view_module": "@jupyter-widgets/controls",
            "_view_module_version": "1.5.0",
            "_view_name": "LabelView",
            "description": "",
            "description_tooltip": null,
            "layout": "IPY_MODEL_8f518661dfe8419ebcc4bb4f6564a6ae",
            "placeholder": "​",
            "style": "IPY_MODEL_03531726c67e45af8026a8128aaa1fbe",
            "value": "Upload your running shoe!"
          }
        },
        "aa4f1b7247cb44ed9f72e13893979743": {
          "model_module": "@jupyter-widgets/controls",
          "model_name": "FileUploadModel",
          "model_module_version": "1.5.0",
          "state": {
            "_counter": 2,
            "_dom_classes": [],
            "_model_module": "@jupyter-widgets/controls",
            "_model_module_version": "1.5.0",
            "_model_name": "FileUploadModel",
            "_view_count": null,
            "_view_module": "@jupyter-widgets/controls",
            "_view_module_version": "1.5.0",
            "_view_name": "FileUploadView",
            "accept": "",
            "button_style": "",
            "data": [
              null
            ],
            "description": "Upload",
            "description_tooltip": null,
            "disabled": false,
            "error": "",
            "icon": "upload",
            "layout": "IPY_MODEL_60f927fd48e34d83a841d233e04e3477",
            "metadata": [
              {
                "name": "image.jpg",
                "type": "image/jpeg",
                "size": 146306,
                "lastModified": 1649975007865
              }
            ],
            "multiple": false,
            "style": "IPY_MODEL_4dc899f6d8df40649c784c678fd67bcf"
          }
        },
        "2144b7f8636b486bb19ff97c869d1032": {
          "model_module": "@jupyter-widgets/output",
          "model_name": "OutputModel",
          "model_module_version": "1.0.0",
          "state": {
            "_dom_classes": [],
            "_model_module": "@jupyter-widgets/output",
            "_model_module_version": "1.0.0",
            "_model_name": "OutputModel",
            "_view_count": null,
            "_view_module": "@jupyter-widgets/output",
            "_view_module_version": "1.0.0",
            "_view_name": "OutputView",
            "layout": "IPY_MODEL_f32b478f3b5e4e59bdba44843c5e49f5",
            "msg_id": "",
            "outputs": [
              {
                "output_type": "display_data",
                "data": {
                  "text/plain": "<PIL.Image.Image image mode=RGB size=128x80 at 0x7F7B9E5B77D0>",
                  "image/png": "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\n"
                },
                "metadata": {}
              }
            ]
          }
        },
        "65c673e66f874453b6deaed334951a4f": {
          "model_module": "@jupyter-widgets/controls",
          "model_name": "LabelModel",
          "model_module_version": "1.5.0",
          "state": {
            "_dom_classes": [],
            "_model_module": "@jupyter-widgets/controls",
            "_model_module_version": "1.5.0",
            "_model_name": "LabelModel",
            "_view_count": null,
            "_view_module": "@jupyter-widgets/controls",
            "_view_module_version": "1.5.0",
            "_view_name": "LabelView",
            "description": "",
            "description_tooltip": null,
            "layout": "IPY_MODEL_22dd7406b4f74c66a51abcf45b551607",
            "placeholder": "​",
            "style": "IPY_MODEL_f30ddd54961c45aaa437df8c3292fdee",
            "value": "Prediction: Adidas Adizero Running Shoes; Probability: 0.9992"
          }
        },
        "4fd894ce954e44c3bc76d92d6c62ce0b": {
          "model_module": "@jupyter-widgets/base",
          "model_name": "LayoutModel",
          "model_module_version": "1.2.0",
          "state": {
            "_model_module": "@jupyter-widgets/base",
            "_model_module_version": "1.2.0",
            "_model_name": "LayoutModel",
            "_view_count": null,
            "_view_module": "@jupyter-widgets/base",
            "_view_module_version": "1.2.0",
            "_view_name": "LayoutView",
            "align_content": null,
            "align_items": null,
            "align_self": null,
            "border": null,
            "bottom": null,
            "display": null,
            "flex": null,
            "flex_flow": null,
            "grid_area": null,
            "grid_auto_columns": null,
            "grid_auto_flow": null,
            "grid_auto_rows": null,
            "grid_column": null,
            "grid_gap": null,
            "grid_row": null,
            "grid_template_areas": null,
            "grid_template_columns": null,
            "grid_template_rows": null,
            "height": null,
            "justify_content": null,
            "justify_items": null,
            "left": null,
            "margin": null,
            "max_height": null,
            "max_width": null,
            "min_height": null,
            "min_width": null,
            "object_fit": null,
            "object_position": null,
            "order": null,
            "overflow": null,
            "overflow_x": null,
            "overflow_y": null,
            "padding": null,
            "right": null,
            "top": null,
            "visibility": null,
            "width": null
          }
        },
        "8f518661dfe8419ebcc4bb4f6564a6ae": {
          "model_module": "@jupyter-widgets/base",
          "model_name": "LayoutModel",
          "model_module_version": "1.2.0",
          "state": {
            "_model_module": "@jupyter-widgets/base",
            "_model_module_version": "1.2.0",
            "_model_name": "LayoutModel",
            "_view_count": null,
            "_view_module": "@jupyter-widgets/base",
            "_view_module_version": "1.2.0",
            "_view_name": "LayoutView",
            "align_content": null,
            "align_items": null,
            "align_self": null,
            "border": null,
            "bottom": null,
            "display": null,
            "flex": null,
            "flex_flow": null,
            "grid_area": null,
            "grid_auto_columns": null,
            "grid_auto_flow": null,
            "grid_auto_rows": null,
            "grid_column": null,
            "grid_gap": null,
            "grid_row": null,
            "grid_template_areas": null,
            "grid_template_columns": null,
            "grid_template_rows": null,
            "height": null,
            "justify_content": null,
            "justify_items": null,
            "left": null,
            "margin": null,
            "max_height": null,
            "max_width": null,
            "min_height": null,
            "min_width": null,
            "object_fit": null,
            "object_position": null,
            "order": null,
            "overflow": null,
            "overflow_x": null,
            "overflow_y": null,
            "padding": null,
            "right": null,
            "top": null,
            "visibility": null,
            "width": null
          }
        },
        "03531726c67e45af8026a8128aaa1fbe": {
          "model_module": "@jupyter-widgets/controls",
          "model_name": "DescriptionStyleModel",
          "model_module_version": "1.5.0",
          "state": {
            "_model_module": "@jupyter-widgets/controls",
            "_model_module_version": "1.5.0",
            "_model_name": "DescriptionStyleModel",
            "_view_count": null,
            "_view_module": "@jupyter-widgets/base",
            "_view_module_version": "1.2.0",
            "_view_name": "StyleView",
            "description_width": ""
          }
        },
        "60f927fd48e34d83a841d233e04e3477": {
          "model_module": "@jupyter-widgets/base",
          "model_name": "LayoutModel",
          "model_module_version": "1.2.0",
          "state": {
            "_model_module": "@jupyter-widgets/base",
            "_model_module_version": "1.2.0",
            "_model_name": "LayoutModel",
            "_view_count": null,
            "_view_module": "@jupyter-widgets/base",
            "_view_module_version": "1.2.0",
            "_view_name": "LayoutView",
            "align_content": null,
            "align_items": null,
            "align_self": null,
            "border": null,
            "bottom": null,
            "display": null,
            "flex": null,
            "flex_flow": null,
            "grid_area": null,
            "grid_auto_columns": null,
            "grid_auto_flow": null,
            "grid_auto_rows": null,
            "grid_column": null,
            "grid_gap": null,
            "grid_row": null,
            "grid_template_areas": null,
            "grid_template_columns": null,
            "grid_template_rows": null,
            "height": null,
            "justify_content": null,
            "justify_items": null,
            "left": null,
            "margin": null,
            "max_height": null,
            "max_width": null,
            "min_height": null,
            "min_width": null,
            "object_fit": null,
            "object_position": null,
            "order": null,
            "overflow": null,
            "overflow_x": null,
            "overflow_y": null,
            "padding": null,
            "right": null,
            "top": null,
            "visibility": null,
            "width": null
          }
        },
        "4dc899f6d8df40649c784c678fd67bcf": {
          "model_module": "@jupyter-widgets/controls",
          "model_name": "ButtonStyleModel",
          "model_module_version": "1.5.0",
          "state": {
            "_model_module": "@jupyter-widgets/controls",
            "_model_module_version": "1.5.0",
            "_model_name": "ButtonStyleModel",
            "_view_count": null,
            "_view_module": "@jupyter-widgets/base",
            "_view_module_version": "1.2.0",
            "_view_name": "StyleView",
            "button_color": null,
            "font_weight": ""
          }
        },
        "22dd7406b4f74c66a51abcf45b551607": {
          "model_module": "@jupyter-widgets/base",
          "model_name": "LayoutModel",
          "model_module_version": "1.2.0",
          "state": {
            "_model_module": "@jupyter-widgets/base",
            "_model_module_version": "1.2.0",
            "_model_name": "LayoutModel",
            "_view_count": null,
            "_view_module": "@jupyter-widgets/base",
            "_view_module_version": "1.2.0",
            "_view_name": "LayoutView",
            "align_content": null,
            "align_items": null,
            "align_self": null,
            "border": null,
            "bottom": null,
            "display": null,
            "flex": null,
            "flex_flow": null,
            "grid_area": null,
            "grid_auto_columns": null,
            "grid_auto_flow": null,
            "grid_auto_rows": null,
            "grid_column": null,
            "grid_gap": null,
            "grid_row": null,
            "grid_template_areas": null,
            "grid_template_columns": null,
            "grid_template_rows": null,
            "height": null,
            "justify_content": null,
            "justify_items": null,
            "left": null,
            "margin": null,
            "max_height": null,
            "max_width": null,
            "min_height": null,
            "min_width": null,
            "object_fit": null,
            "object_position": null,
            "order": null,
            "overflow": null,
            "overflow_x": null,
            "overflow_y": null,
            "padding": null,
            "right": null,
            "top": null,
            "visibility": null,
            "width": null
          }
        },
        "f30ddd54961c45aaa437df8c3292fdee": {
          "model_module": "@jupyter-widgets/controls",
          "model_name": "DescriptionStyleModel",
          "model_module_version": "1.5.0",
          "state": {
            "_model_module": "@jupyter-widgets/controls",
            "_model_module_version": "1.5.0",
            "_model_name": "DescriptionStyleModel",
            "_view_count": null,
            "_view_module": "@jupyter-widgets/base",
            "_view_module_version": "1.2.0",
            "_view_name": "StyleView",
            "description_width": ""
          }
        },
        "f32b478f3b5e4e59bdba44843c5e49f5": {
          "model_module": "@jupyter-widgets/base",
          "model_name": "LayoutModel",
          "model_module_version": "1.2.0",
          "state": {
            "_model_module": "@jupyter-widgets/base",
            "_model_module_version": "1.2.0",
            "_model_name": "LayoutModel",
            "_view_count": null,
            "_view_module": "@jupyter-widgets/base",
            "_view_module_version": "1.2.0",
            "_view_name": "LayoutView",
            "align_content": null,
            "align_items": null,
            "align_self": null,
            "border": null,
            "bottom": null,
            "display": null,
            "flex": null,
            "flex_flow": null,
            "grid_area": null,
            "grid_auto_columns": null,
            "grid_auto_flow": null,
            "grid_auto_rows": null,
            "grid_column": null,
            "grid_gap": null,
            "grid_row": null,
            "grid_template_areas": null,
            "grid_template_columns": null,
            "grid_template_rows": null,
            "height": null,
            "justify_content": null,
            "justify_items": null,
            "left": null,
            "margin": null,
            "max_height": null,
            "max_width": null,
            "min_height": null,
            "min_width": null,
            "object_fit": null,
            "object_position": null,
            "order": null,
            "overflow": null,
            "overflow_x": null,
            "overflow_y": null,
            "padding": null,
            "right": null,
            "top": null,
            "visibility": null,
            "width": null
          }
        }
      }
    }
  },
  "cells": [
    {
      "cell_type": "markdown",
      "metadata": {
        "id": "view-in-github",
        "colab_type": "text"
      },
      "source": [
        "<a href=\"https://colab.research.google.com/github/afortuny/DeepLearningFastAI/blob/main/RunningShoeAPP.ipynb\" target=\"_parent\"><img src=\"https://colab.research.google.com/assets/colab-badge.svg\" alt=\"Open In Colab\"/></a>"
      ]
    },
    {
      "cell_type": "code",
      "execution_count": 1,
      "metadata": {
        "id": "Y3YTs711HaHN",
        "colab": {
          "base_uri": "https://localhost:8080/"
        },
        "outputId": "f7f00f5a-748c-4d21-fc61-28f3ba1d0cd9"
      },
      "outputs": [
        {
          "output_type": "stream",
          "name": "stdout",
          "text": [
            "Requirement already satisfied: fastai in /usr/local/lib/python3.7/dist-packages (2.5.6)\n",
            "Requirement already satisfied: pyyaml in /usr/local/lib/python3.7/dist-packages (from fastai) (3.13)\n",
            "Requirement already satisfied: scipy in /usr/local/lib/python3.7/dist-packages (from fastai) (1.4.1)\n",
            "Requirement already satisfied: spacy<4 in /usr/local/lib/python3.7/dist-packages (from fastai) (2.2.4)\n",
            "Requirement already satisfied: pip in /usr/local/lib/python3.7/dist-packages (from fastai) (21.1.3)\n",
            "Requirement already satisfied: matplotlib in /usr/local/lib/python3.7/dist-packages (from fastai) (3.2.2)\n",
            "Requirement already satisfied: pillow>6.0.0 in /usr/local/lib/python3.7/dist-packages (from fastai) (7.1.2)\n",
            "Requirement already satisfied: fastprogress>=0.2.4 in /usr/local/lib/python3.7/dist-packages (from fastai) (1.0.2)\n",
            "Requirement already satisfied: torchvision>=0.8.2 in /usr/local/lib/python3.7/dist-packages (from fastai) (0.11.1+cu111)\n",
            "Requirement already satisfied: pandas in /usr/local/lib/python3.7/dist-packages (from fastai) (1.3.5)\n",
            "Requirement already satisfied: scikit-learn in /usr/local/lib/python3.7/dist-packages (from fastai) (1.0.2)\n",
            "Requirement already satisfied: fastcore<1.5,>=1.3.27 in /usr/local/lib/python3.7/dist-packages (from fastai) (1.4.2)\n",
            "Requirement already satisfied: packaging in /usr/local/lib/python3.7/dist-packages (from fastai) (21.3)\n",
            "Requirement already satisfied: requests in /usr/local/lib/python3.7/dist-packages (from fastai) (2.23.0)\n",
            "Requirement already satisfied: torch<1.12,>=1.7.0 in /usr/local/lib/python3.7/dist-packages (from fastai) (1.10.0+cu111)\n",
            "Requirement already satisfied: fastdownload<2,>=0.0.5 in /usr/local/lib/python3.7/dist-packages (from fastai) (0.0.5)\n",
            "Requirement already satisfied: tqdm<5.0.0,>=4.38.0 in /usr/local/lib/python3.7/dist-packages (from spacy<4->fastai) (4.64.0)\n",
            "Requirement already satisfied: numpy>=1.15.0 in /usr/local/lib/python3.7/dist-packages (from spacy<4->fastai) (1.21.5)\n",
            "Requirement already satisfied: murmurhash<1.1.0,>=0.28.0 in /usr/local/lib/python3.7/dist-packages (from spacy<4->fastai) (1.0.6)\n",
            "Requirement already satisfied: blis<0.5.0,>=0.4.0 in /usr/local/lib/python3.7/dist-packages (from spacy<4->fastai) (0.4.1)\n",
            "Requirement already satisfied: wasabi<1.1.0,>=0.4.0 in /usr/local/lib/python3.7/dist-packages (from spacy<4->fastai) (0.9.1)\n",
            "Requirement already satisfied: catalogue<1.1.0,>=0.0.7 in /usr/local/lib/python3.7/dist-packages (from spacy<4->fastai) (1.0.0)\n",
            "Requirement already satisfied: srsly<1.1.0,>=1.0.2 in /usr/local/lib/python3.7/dist-packages (from spacy<4->fastai) (1.0.5)\n",
            "Requirement already satisfied: preshed<3.1.0,>=3.0.2 in /usr/local/lib/python3.7/dist-packages (from spacy<4->fastai) (3.0.6)\n",
            "Requirement already satisfied: plac<1.2.0,>=0.9.6 in /usr/local/lib/python3.7/dist-packages (from spacy<4->fastai) (1.1.3)\n",
            "Requirement already satisfied: thinc==7.4.0 in /usr/local/lib/python3.7/dist-packages (from spacy<4->fastai) (7.4.0)\n",
            "Requirement already satisfied: cymem<2.1.0,>=2.0.2 in /usr/local/lib/python3.7/dist-packages (from spacy<4->fastai) (2.0.6)\n",
            "Requirement already satisfied: setuptools in /usr/local/lib/python3.7/dist-packages (from spacy<4->fastai) (57.4.0)\n",
            "Requirement already satisfied: importlib-metadata>=0.20 in /usr/local/lib/python3.7/dist-packages (from catalogue<1.1.0,>=0.0.7->spacy<4->fastai) (4.11.3)\n",
            "Requirement already satisfied: typing-extensions>=3.6.4 in /usr/local/lib/python3.7/dist-packages (from importlib-metadata>=0.20->catalogue<1.1.0,>=0.0.7->spacy<4->fastai) (4.1.1)\n",
            "Requirement already satisfied: zipp>=0.5 in /usr/local/lib/python3.7/dist-packages (from importlib-metadata>=0.20->catalogue<1.1.0,>=0.0.7->spacy<4->fastai) (3.8.0)\n",
            "Requirement already satisfied: idna<3,>=2.5 in /usr/local/lib/python3.7/dist-packages (from requests->fastai) (2.10)\n",
            "Requirement already satisfied: chardet<4,>=3.0.2 in /usr/local/lib/python3.7/dist-packages (from requests->fastai) (3.0.4)\n",
            "Requirement already satisfied: certifi>=2017.4.17 in /usr/local/lib/python3.7/dist-packages (from requests->fastai) (2021.10.8)\n",
            "Requirement already satisfied: urllib3!=1.25.0,!=1.25.1,<1.26,>=1.21.1 in /usr/local/lib/python3.7/dist-packages (from requests->fastai) (1.24.3)\n",
            "Requirement already satisfied: kiwisolver>=1.0.1 in /usr/local/lib/python3.7/dist-packages (from matplotlib->fastai) (1.4.2)\n",
            "Requirement already satisfied: python-dateutil>=2.1 in /usr/local/lib/python3.7/dist-packages (from matplotlib->fastai) (2.8.2)\n",
            "Requirement already satisfied: pyparsing!=2.0.4,!=2.1.2,!=2.1.6,>=2.0.1 in /usr/local/lib/python3.7/dist-packages (from matplotlib->fastai) (3.0.8)\n",
            "Requirement already satisfied: cycler>=0.10 in /usr/local/lib/python3.7/dist-packages (from matplotlib->fastai) (0.11.0)\n",
            "Requirement already satisfied: six>=1.5 in /usr/local/lib/python3.7/dist-packages (from python-dateutil>=2.1->matplotlib->fastai) (1.15.0)\n",
            "Requirement already satisfied: pytz>=2017.3 in /usr/local/lib/python3.7/dist-packages (from pandas->fastai) (2018.9)\n",
            "Requirement already satisfied: joblib>=0.11 in /usr/local/lib/python3.7/dist-packages (from scikit-learn->fastai) (1.1.0)\n",
            "Requirement already satisfied: threadpoolctl>=2.0.0 in /usr/local/lib/python3.7/dist-packages (from scikit-learn->fastai) (3.1.0)\n",
            "Requirement already satisfied: voila in /usr/local/lib/python3.7/dist-packages (0.3.5)\n",
            "Requirement already satisfied: websockets>=9.0 in /usr/local/lib/python3.7/dist-packages (from voila) (10.3)\n",
            "Requirement already satisfied: jupyterlab-server<3,>=2.3.0 in /usr/local/lib/python3.7/dist-packages (from voila) (2.12.0)\n",
            "Requirement already satisfied: nbconvert<7,>=6.4.5 in /usr/local/lib/python3.7/dist-packages (from voila) (6.5.0)\n",
            "Requirement already satisfied: jupyter-client<8,>=6.1.3 in /usr/local/lib/python3.7/dist-packages (from voila) (7.2.2)\n",
            "Requirement already satisfied: nbclient<0.6,>=0.4.0 in /usr/local/lib/python3.7/dist-packages (from voila) (0.5.13)\n",
            "Requirement already satisfied: jupyter-server<2.0.0,>=0.3.0 in /usr/local/lib/python3.7/dist-packages (from voila) (1.16.0)\n",
            "Requirement already satisfied: traitlets<6,>=5.0.3 in /usr/local/lib/python3.7/dist-packages (from voila) (5.1.1)\n",
            "Requirement already satisfied: pyzmq>=22.3 in /usr/local/lib/python3.7/dist-packages (from jupyter-client<8,>=6.1.3->voila) (22.3.0)\n",
            "Requirement already satisfied: tornado>=6.0 in /usr/local/lib/python3.7/dist-packages (from jupyter-client<8,>=6.1.3->voila) (6.1)\n",
            "Requirement already satisfied: python-dateutil>=2.8.2 in /usr/local/lib/python3.7/dist-packages (from jupyter-client<8,>=6.1.3->voila) (2.8.2)\n",
            "Requirement already satisfied: jupyter-core>=4.9.2 in /usr/local/lib/python3.7/dist-packages (from jupyter-client<8,>=6.1.3->voila) (4.9.2)\n",
            "Requirement already satisfied: entrypoints in /usr/local/lib/python3.7/dist-packages (from jupyter-client<8,>=6.1.3->voila) (0.4)\n",
            "Requirement already satisfied: nest-asyncio>=1.5.4 in /usr/local/lib/python3.7/dist-packages (from jupyter-client<8,>=6.1.3->voila) (1.5.5)\n",
            "Requirement already satisfied: jinja2 in /usr/local/lib/python3.7/dist-packages (from jupyter-server<2.0.0,>=0.3.0->voila) (3.1.1)\n",
            "Requirement already satisfied: prometheus-client in /usr/local/lib/python3.7/dist-packages (from jupyter-server<2.0.0,>=0.3.0->voila) (0.14.1)\n",
            "Requirement already satisfied: Send2Trash in /usr/local/lib/python3.7/dist-packages (from jupyter-server<2.0.0,>=0.3.0->voila) (1.8.0)\n",
            "Requirement already satisfied: anyio>=3.1.0 in /usr/local/lib/python3.7/dist-packages (from jupyter-server<2.0.0,>=0.3.0->voila) (3.5.0)\n",
            "Requirement already satisfied: packaging in /usr/local/lib/python3.7/dist-packages (from jupyter-server<2.0.0,>=0.3.0->voila) (21.3)\n",
            "Requirement already satisfied: nbformat>=5.2.0 in /usr/local/lib/python3.7/dist-packages (from jupyter-server<2.0.0,>=0.3.0->voila) (5.3.0)\n",
            "Requirement already satisfied: websocket-client in /usr/local/lib/python3.7/dist-packages (from jupyter-server<2.0.0,>=0.3.0->voila) (1.3.2)\n",
            "Requirement already satisfied: argon2-cffi in /usr/local/lib/python3.7/dist-packages (from jupyter-server<2.0.0,>=0.3.0->voila) (21.3.0)\n",
            "Requirement already satisfied: terminado>=0.8.3 in /usr/local/lib/python3.7/dist-packages (from jupyter-server<2.0.0,>=0.3.0->voila) (0.13.3)\n",
            "Requirement already satisfied: sniffio>=1.1 in /usr/local/lib/python3.7/dist-packages (from anyio>=3.1.0->jupyter-server<2.0.0,>=0.3.0->voila) (1.2.0)\n",
            "Requirement already satisfied: idna>=2.8 in /usr/local/lib/python3.7/dist-packages (from anyio>=3.1.0->jupyter-server<2.0.0,>=0.3.0->voila) (2.10)\n",
            "Requirement already satisfied: typing-extensions in /usr/local/lib/python3.7/dist-packages (from anyio>=3.1.0->jupyter-server<2.0.0,>=0.3.0->voila) (4.1.1)\n",
            "Requirement already satisfied: json5 in /usr/local/lib/python3.7/dist-packages (from jupyterlab-server<3,>=2.3.0->voila) (0.9.6)\n",
            "Requirement already satisfied: babel in /usr/local/lib/python3.7/dist-packages (from jupyterlab-server<3,>=2.3.0->voila) (2.9.1)\n",
            "Requirement already satisfied: requests in /usr/local/lib/python3.7/dist-packages (from jupyterlab-server<3,>=2.3.0->voila) (2.23.0)\n",
            "Requirement already satisfied: jsonschema>=3.0.1 in /usr/local/lib/python3.7/dist-packages (from jupyterlab-server<3,>=2.3.0->voila) (4.3.3)\n",
            "Requirement already satisfied: MarkupSafe>=2.0 in /usr/local/lib/python3.7/dist-packages (from jinja2->jupyter-server<2.0.0,>=0.3.0->voila) (2.0.1)\n",
            "Requirement already satisfied: attrs>=17.4.0 in /usr/local/lib/python3.7/dist-packages (from jsonschema>=3.0.1->jupyterlab-server<3,>=2.3.0->voila) (21.4.0)\n",
            "Requirement already satisfied: importlib-metadata in /usr/local/lib/python3.7/dist-packages (from jsonschema>=3.0.1->jupyterlab-server<3,>=2.3.0->voila) (4.11.3)\n",
            "Requirement already satisfied: importlib-resources>=1.4.0 in /usr/local/lib/python3.7/dist-packages (from jsonschema>=3.0.1->jupyterlab-server<3,>=2.3.0->voila) (5.6.0)\n",
            "Requirement already satisfied: pyrsistent!=0.17.0,!=0.17.1,!=0.17.2,>=0.14.0 in /usr/local/lib/python3.7/dist-packages (from jsonschema>=3.0.1->jupyterlab-server<3,>=2.3.0->voila) (0.18.1)\n",
            "Requirement already satisfied: zipp>=3.1.0 in /usr/local/lib/python3.7/dist-packages (from importlib-resources>=1.4.0->jsonschema>=3.0.1->jupyterlab-server<3,>=2.3.0->voila) (3.8.0)\n",
            "Requirement already satisfied: bleach in /usr/local/lib/python3.7/dist-packages (from nbconvert<7,>=6.4.5->voila) (5.0.0)\n",
            "Requirement already satisfied: jupyterlab-pygments in /usr/local/lib/python3.7/dist-packages (from nbconvert<7,>=6.4.5->voila) (0.2.1)\n",
            "Requirement already satisfied: mistune<2,>=0.8.1 in /usr/local/lib/python3.7/dist-packages (from nbconvert<7,>=6.4.5->voila) (0.8.4)\n",
            "Requirement already satisfied: pygments>=2.4.1 in /usr/local/lib/python3.7/dist-packages (from nbconvert<7,>=6.4.5->voila) (2.6.1)\n",
            "Requirement already satisfied: beautifulsoup4 in /usr/local/lib/python3.7/dist-packages (from nbconvert<7,>=6.4.5->voila) (4.6.3)\n",
            "Requirement already satisfied: tinycss2 in /usr/local/lib/python3.7/dist-packages (from nbconvert<7,>=6.4.5->voila) (1.1.1)\n",
            "Requirement already satisfied: defusedxml in /usr/local/lib/python3.7/dist-packages (from nbconvert<7,>=6.4.5->voila) (0.7.1)\n",
            "Requirement already satisfied: pandocfilters>=1.4.1 in /usr/local/lib/python3.7/dist-packages (from nbconvert<7,>=6.4.5->voila) (1.5.0)\n",
            "Requirement already satisfied: fastjsonschema in /usr/local/lib/python3.7/dist-packages (from nbformat>=5.2.0->jupyter-server<2.0.0,>=0.3.0->voila) (2.15.3)\n",
            "Requirement already satisfied: six>=1.5 in /usr/local/lib/python3.7/dist-packages (from python-dateutil>=2.8.2->jupyter-client<8,>=6.1.3->voila) (1.15.0)\n",
            "Requirement already satisfied: ptyprocess in /usr/local/lib/python3.7/dist-packages (from terminado>=0.8.3->jupyter-server<2.0.0,>=0.3.0->voila) (0.7.0)\n",
            "Requirement already satisfied: argon2-cffi-bindings in /usr/local/lib/python3.7/dist-packages (from argon2-cffi->jupyter-server<2.0.0,>=0.3.0->voila) (21.2.0)\n",
            "Requirement already satisfied: cffi>=1.0.1 in /usr/local/lib/python3.7/dist-packages (from argon2-cffi-bindings->argon2-cffi->jupyter-server<2.0.0,>=0.3.0->voila) (1.15.0)\n",
            "Requirement already satisfied: pycparser in /usr/local/lib/python3.7/dist-packages (from cffi>=1.0.1->argon2-cffi-bindings->argon2-cffi->jupyter-server<2.0.0,>=0.3.0->voila) (2.21)\n",
            "Requirement already satisfied: pytz>=2015.7 in /usr/local/lib/python3.7/dist-packages (from babel->jupyterlab-server<3,>=2.3.0->voila) (2018.9)\n",
            "Requirement already satisfied: webencodings in /usr/local/lib/python3.7/dist-packages (from bleach->nbconvert<7,>=6.4.5->voila) (0.5.1)\n",
            "Requirement already satisfied: pyparsing!=3.0.5,>=2.0.2 in /usr/local/lib/python3.7/dist-packages (from packaging->jupyter-server<2.0.0,>=0.3.0->voila) (3.0.8)\n",
            "Requirement already satisfied: urllib3!=1.25.0,!=1.25.1,<1.26,>=1.21.1 in /usr/local/lib/python3.7/dist-packages (from requests->jupyterlab-server<3,>=2.3.0->voila) (1.24.3)\n",
            "Requirement already satisfied: certifi>=2017.4.17 in /usr/local/lib/python3.7/dist-packages (from requests->jupyterlab-server<3,>=2.3.0->voila) (2021.10.8)\n",
            "Requirement already satisfied: chardet<4,>=3.0.2 in /usr/local/lib/python3.7/dist-packages (from requests->jupyterlab-server<3,>=2.3.0->voila) (3.0.4)\n",
            "Enabling: voila\n",
            "- Writing config: /usr/etc/jupyter\n",
            "    - Validating...\n",
            "      voila  \u001b[32mOK\u001b[0m\n",
            "Requirement already satisfied: packaging in /usr/local/lib/python3.7/dist-packages (21.3)\n",
            "Requirement already satisfied: pyparsing!=3.0.5,>=2.0.2 in /usr/local/lib/python3.7/dist-packages (from packaging) (3.0.8)\n",
            "Requirement already satisfied: pillow in /usr/local/lib/python3.7/dist-packages (7.1.2)\n"
          ]
        }
      ],
      "source": [
        "#!pip install fastai\n",
        "#!pip install voila\n",
        "!jupyter serverextension enable --sys-prefix voila\n",
        "#!pip install packaging\n",
        "#!pip install pillow"
      ]
    },
    {
      "cell_type": "code",
      "source": [
        "#!pip install ipywidgets"
      ],
      "metadata": {
        "colab": {
          "base_uri": "https://localhost:8080/"
        },
        "id": "ncpgpjXOT-oq",
        "outputId": "5960afd5-bf45-42a8-aa1d-722bb16b1fd7"
      },
      "execution_count": 2,
      "outputs": [
        {
          "output_type": "stream",
          "name": "stdout",
          "text": [
            "Requirement already satisfied: ipywidgets in /usr/local/lib/python3.7/dist-packages (7.7.0)\n",
            "Requirement already satisfied: ipython>=4.0.0 in /usr/local/lib/python3.7/dist-packages (from ipywidgets) (5.5.0)\n",
            "Requirement already satisfied: jupyterlab-widgets>=1.0.0 in /usr/local/lib/python3.7/dist-packages (from ipywidgets) (1.1.0)\n",
            "Requirement already satisfied: ipython-genutils~=0.2.0 in /usr/local/lib/python3.7/dist-packages (from ipywidgets) (0.2.0)\n",
            "Requirement already satisfied: traitlets>=4.3.1 in /usr/local/lib/python3.7/dist-packages (from ipywidgets) (5.1.1)\n",
            "Requirement already satisfied: nbformat>=4.2.0 in /usr/local/lib/python3.7/dist-packages (from ipywidgets) (5.3.0)\n",
            "Requirement already satisfied: widgetsnbextension~=3.6.0 in /usr/local/lib/python3.7/dist-packages (from ipywidgets) (3.6.0)\n",
            "Requirement already satisfied: ipykernel>=4.5.1 in /usr/local/lib/python3.7/dist-packages (from ipywidgets) (4.10.1)\n",
            "Requirement already satisfied: tornado>=4.0 in /usr/local/lib/python3.7/dist-packages (from ipykernel>=4.5.1->ipywidgets) (6.1)\n",
            "Requirement already satisfied: jupyter-client in /usr/local/lib/python3.7/dist-packages (from ipykernel>=4.5.1->ipywidgets) (7.2.2)\n",
            "Requirement already satisfied: pexpect in /usr/local/lib/python3.7/dist-packages (from ipython>=4.0.0->ipywidgets) (4.8.0)\n",
            "Requirement already satisfied: decorator in /usr/local/lib/python3.7/dist-packages (from ipython>=4.0.0->ipywidgets) (4.4.2)\n",
            "Requirement already satisfied: simplegeneric>0.8 in /usr/local/lib/python3.7/dist-packages (from ipython>=4.0.0->ipywidgets) (0.8.1)\n",
            "Requirement already satisfied: pickleshare in /usr/local/lib/python3.7/dist-packages (from ipython>=4.0.0->ipywidgets) (0.7.5)\n",
            "Requirement already satisfied: setuptools>=18.5 in /usr/local/lib/python3.7/dist-packages (from ipython>=4.0.0->ipywidgets) (57.4.0)\n",
            "Requirement already satisfied: pygments in /usr/local/lib/python3.7/dist-packages (from ipython>=4.0.0->ipywidgets) (2.6.1)\n",
            "Requirement already satisfied: prompt-toolkit<2.0.0,>=1.0.4 in /usr/local/lib/python3.7/dist-packages (from ipython>=4.0.0->ipywidgets) (1.0.18)\n",
            "Requirement already satisfied: jsonschema>=2.6 in /usr/local/lib/python3.7/dist-packages (from nbformat>=4.2.0->ipywidgets) (4.3.3)\n",
            "Requirement already satisfied: fastjsonschema in /usr/local/lib/python3.7/dist-packages (from nbformat>=4.2.0->ipywidgets) (2.15.3)\n",
            "Requirement already satisfied: jupyter-core in /usr/local/lib/python3.7/dist-packages (from nbformat>=4.2.0->ipywidgets) (4.9.2)\n",
            "Requirement already satisfied: typing-extensions in /usr/local/lib/python3.7/dist-packages (from jsonschema>=2.6->nbformat>=4.2.0->ipywidgets) (4.1.1)\n",
            "Requirement already satisfied: pyrsistent!=0.17.0,!=0.17.1,!=0.17.2,>=0.14.0 in /usr/local/lib/python3.7/dist-packages (from jsonschema>=2.6->nbformat>=4.2.0->ipywidgets) (0.18.1)\n",
            "Requirement already satisfied: attrs>=17.4.0 in /usr/local/lib/python3.7/dist-packages (from jsonschema>=2.6->nbformat>=4.2.0->ipywidgets) (21.4.0)\n",
            "Requirement already satisfied: importlib-resources>=1.4.0 in /usr/local/lib/python3.7/dist-packages (from jsonschema>=2.6->nbformat>=4.2.0->ipywidgets) (5.6.0)\n",
            "Requirement already satisfied: importlib-metadata in /usr/local/lib/python3.7/dist-packages (from jsonschema>=2.6->nbformat>=4.2.0->ipywidgets) (4.11.3)\n",
            "Requirement already satisfied: zipp>=3.1.0 in /usr/local/lib/python3.7/dist-packages (from importlib-resources>=1.4.0->jsonschema>=2.6->nbformat>=4.2.0->ipywidgets) (3.8.0)\n",
            "Requirement already satisfied: six>=1.9.0 in /usr/local/lib/python3.7/dist-packages (from prompt-toolkit<2.0.0,>=1.0.4->ipython>=4.0.0->ipywidgets) (1.15.0)\n",
            "Requirement already satisfied: wcwidth in /usr/local/lib/python3.7/dist-packages (from prompt-toolkit<2.0.0,>=1.0.4->ipython>=4.0.0->ipywidgets) (0.2.5)\n",
            "Requirement already satisfied: notebook>=4.4.1 in /usr/local/lib/python3.7/dist-packages (from widgetsnbextension~=3.6.0->ipywidgets) (5.3.1)\n",
            "Requirement already satisfied: nbconvert in /usr/local/lib/python3.7/dist-packages (from notebook>=4.4.1->widgetsnbextension~=3.6.0->ipywidgets) (6.5.0)\n",
            "Requirement already satisfied: jinja2 in /usr/local/lib/python3.7/dist-packages (from notebook>=4.4.1->widgetsnbextension~=3.6.0->ipywidgets) (3.1.1)\n",
            "Requirement already satisfied: Send2Trash in /usr/local/lib/python3.7/dist-packages (from notebook>=4.4.1->widgetsnbextension~=3.6.0->ipywidgets) (1.8.0)\n",
            "Requirement already satisfied: terminado>=0.8.1 in /usr/local/lib/python3.7/dist-packages (from notebook>=4.4.1->widgetsnbextension~=3.6.0->ipywidgets) (0.13.3)\n",
            "Requirement already satisfied: entrypoints in /usr/local/lib/python3.7/dist-packages (from jupyter-client->ipykernel>=4.5.1->ipywidgets) (0.4)\n",
            "Requirement already satisfied: pyzmq>=22.3 in /usr/local/lib/python3.7/dist-packages (from jupyter-client->ipykernel>=4.5.1->ipywidgets) (22.3.0)\n",
            "Requirement already satisfied: nest-asyncio>=1.5.4 in /usr/local/lib/python3.7/dist-packages (from jupyter-client->ipykernel>=4.5.1->ipywidgets) (1.5.5)\n",
            "Requirement already satisfied: python-dateutil>=2.8.2 in /usr/local/lib/python3.7/dist-packages (from jupyter-client->ipykernel>=4.5.1->ipywidgets) (2.8.2)\n",
            "Requirement already satisfied: ptyprocess in /usr/local/lib/python3.7/dist-packages (from terminado>=0.8.1->notebook>=4.4.1->widgetsnbextension~=3.6.0->ipywidgets) (0.7.0)\n",
            "Requirement already satisfied: MarkupSafe>=2.0 in /usr/local/lib/python3.7/dist-packages (from jinja2->notebook>=4.4.1->widgetsnbextension~=3.6.0->ipywidgets) (2.0.1)\n",
            "Requirement already satisfied: pandocfilters>=1.4.1 in /usr/local/lib/python3.7/dist-packages (from nbconvert->notebook>=4.4.1->widgetsnbextension~=3.6.0->ipywidgets) (1.5.0)\n",
            "Requirement already satisfied: beautifulsoup4 in /usr/local/lib/python3.7/dist-packages (from nbconvert->notebook>=4.4.1->widgetsnbextension~=3.6.0->ipywidgets) (4.6.3)\n",
            "Requirement already satisfied: jupyterlab-pygments in /usr/local/lib/python3.7/dist-packages (from nbconvert->notebook>=4.4.1->widgetsnbextension~=3.6.0->ipywidgets) (0.2.1)\n",
            "Requirement already satisfied: tinycss2 in /usr/local/lib/python3.7/dist-packages (from nbconvert->notebook>=4.4.1->widgetsnbextension~=3.6.0->ipywidgets) (1.1.1)\n",
            "Requirement already satisfied: defusedxml in /usr/local/lib/python3.7/dist-packages (from nbconvert->notebook>=4.4.1->widgetsnbextension~=3.6.0->ipywidgets) (0.7.1)\n",
            "Requirement already satisfied: mistune<2,>=0.8.1 in /usr/local/lib/python3.7/dist-packages (from nbconvert->notebook>=4.4.1->widgetsnbextension~=3.6.0->ipywidgets) (0.8.4)\n",
            "Requirement already satisfied: nbclient>=0.5.0 in /usr/local/lib/python3.7/dist-packages (from nbconvert->notebook>=4.4.1->widgetsnbextension~=3.6.0->ipywidgets) (0.5.13)\n",
            "Requirement already satisfied: packaging in /usr/local/lib/python3.7/dist-packages (from nbconvert->notebook>=4.4.1->widgetsnbextension~=3.6.0->ipywidgets) (21.3)\n",
            "Requirement already satisfied: bleach in /usr/local/lib/python3.7/dist-packages (from nbconvert->notebook>=4.4.1->widgetsnbextension~=3.6.0->ipywidgets) (5.0.0)\n",
            "Requirement already satisfied: webencodings in /usr/local/lib/python3.7/dist-packages (from bleach->nbconvert->notebook>=4.4.1->widgetsnbextension~=3.6.0->ipywidgets) (0.5.1)\n",
            "Requirement already satisfied: pyparsing!=3.0.5,>=2.0.2 in /usr/local/lib/python3.7/dist-packages (from packaging->nbconvert->notebook>=4.4.1->widgetsnbextension~=3.6.0->ipywidgets) (3.0.8)\n"
          ]
        }
      ]
    },
    {
      "cell_type": "code",
      "source": [
        "import ipywidgets as widgets\n",
        "from fastai.vision.all import *\n",
        "from fastai.vision.widgets import * "
      ],
      "metadata": {
        "id": "Y39L8SicHhw9"
      },
      "execution_count": 15,
      "outputs": []
    },
    {
      "cell_type": "code",
      "source": [
        "learn_inf = load_learner('export.pkl')\n",
        "btn_upload = widgets.FileUpload()\n",
        "out_pl = widgets.Output()\n",
        "lbl_pred = widgets.Label()\n"
      ],
      "metadata": {
        "id": "V_uzBTZeHlVy"
      },
      "execution_count": 16,
      "outputs": []
    },
    {
      "cell_type": "code",
      "source": [
        "def on_data_change(change):\n",
        "    lbl_pred.value = ''\n",
        "    img = PILImage.create(btn_upload.data[-1])\n",
        "    out_pl.clear_output()\n",
        "    with out_pl: display(img.to_thumb(128,128))\n",
        "    pred,pred_idx,probs = learn_inf.predict(img)\n",
        "    lbl_pred.value = f'Prediction: {pred}; Probability: {probs[pred_idx]:.04f}'\n"
      ],
      "metadata": {
        "id": "1HIo_qq4Hn1e"
      },
      "execution_count": 17,
      "outputs": []
    },
    {
      "cell_type": "code",
      "source": [
        "btn_upload.observe(on_data_change, names=['data'])\n"
      ],
      "metadata": {
        "id": "UiQbdo4wHpj8"
      },
      "execution_count": 18,
      "outputs": []
    },
    {
      "cell_type": "code",
      "source": [
        "display(VBox([widgets.Label('Upload your running shoe!'), btn_upload, out_pl, lbl_pred]))"
      ],
      "metadata": {
        "id": "DumUw2PHHq4m",
        "colab": {
          "base_uri": "https://localhost:8080/",
          "height": 193,
          "referenced_widgets": [
            "3116ba4f3cd84405a3e8250fd1b4aff2",
            "ab68d9b8257c4a58817f4c340742a605",
            "aa4f1b7247cb44ed9f72e13893979743",
            "2144b7f8636b486bb19ff97c869d1032",
            "65c673e66f874453b6deaed334951a4f",
            "4fd894ce954e44c3bc76d92d6c62ce0b",
            "8f518661dfe8419ebcc4bb4f6564a6ae",
            "03531726c67e45af8026a8128aaa1fbe",
            "60f927fd48e34d83a841d233e04e3477",
            "4dc899f6d8df40649c784c678fd67bcf",
            "22dd7406b4f74c66a51abcf45b551607",
            "f30ddd54961c45aaa437df8c3292fdee",
            "f32b478f3b5e4e59bdba44843c5e49f5"
          ]
        },
        "outputId": "f8718849-a19d-4f7f-dabc-622cfba7a735"
      },
      "execution_count": 19,
      "outputs": [
        {
          "output_type": "display_data",
          "data": {
            "text/plain": [
              "VBox(children=(Label(value='Upload your running shoe!'), FileUpload(value={}, description='Upload'), Output(),…"
            ],
            "application/vnd.jupyter.widget-view+json": {
              "version_major": 2,
              "version_minor": 0,
              "model_id": "3116ba4f3cd84405a3e8250fd1b4aff2"
            }
          },
          "metadata": {}
        },
        {
          "output_type": "display_data",
          "data": {
            "text/plain": [
              "<IPython.core.display.HTML object>"
            ],
            "text/html": [
              "\n",
              "<style>\n",
              "    /* Turns off some styling */\n",
              "    progress {\n",
              "        /* gets rid of default border in Firefox and Opera. */\n",
              "        border: none;\n",
              "        /* Needs to be in here for Safari polyfill so background images work as expected. */\n",
              "        background-size: auto;\n",
              "    }\n",
              "    .progress-bar-interrupted, .progress-bar-interrupted::-webkit-progress-bar {\n",
              "        background: #F44336;\n",
              "    }\n",
              "</style>\n"
            ]
          },
          "metadata": {}
        },
        {
          "output_type": "display_data",
          "data": {
            "text/plain": [
              "<IPython.core.display.HTML object>"
            ],
            "text/html": [
              ""
            ]
          },
          "metadata": {}
        },
        {
          "output_type": "display_data",
          "data": {
            "text/plain": [
              "<IPython.core.display.HTML object>"
            ],
            "text/html": [
              "\n",
              "<style>\n",
              "    /* Turns off some styling */\n",
              "    progress {\n",
              "        /* gets rid of default border in Firefox and Opera. */\n",
              "        border: none;\n",
              "        /* Needs to be in here for Safari polyfill so background images work as expected. */\n",
              "        background-size: auto;\n",
              "    }\n",
              "    .progress-bar-interrupted, .progress-bar-interrupted::-webkit-progress-bar {\n",
              "        background: #F44336;\n",
              "    }\n",
              "</style>\n"
            ]
          },
          "metadata": {}
        },
        {
          "output_type": "display_data",
          "data": {
            "text/plain": [
              "<IPython.core.display.HTML object>"
            ],
            "text/html": [
              ""
            ]
          },
          "metadata": {}
        }
      ]
    }
  ]
}