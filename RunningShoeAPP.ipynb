{
  "nbformat": 4,
  "nbformat_minor": 0,
  "metadata": {
    "colab": {
      "name": "RunningShoeAPP.ipynb",
      "provenance": [],
      "authorship_tag": "ABX9TyPbGoFcOPs5YRwSIDPP7Ilx",
      "include_colab_link": true
    },
    "kernelspec": {
      "name": "python3",
      "display_name": "Python 3"
    },
    "language_info": {
      "name": "python"
    },
    "widgets": {
      "application/vnd.jupyter.widget-state+json": {
        "9d3796aeb51a42d6a13f175efe5849f0": {
          "model_module": "@jupyter-widgets/controls",
          "model_name": "VBoxModel",
          "model_module_version": "1.5.0",
          "state": {
            "_dom_classes": [],
            "_model_module": "@jupyter-widgets/controls",
            "_model_module_version": "1.5.0",
            "_model_name": "VBoxModel",
            "_view_count": null,
            "_view_module": "@jupyter-widgets/controls",
            "_view_module_version": "1.5.0",
            "_view_name": "VBoxView",
            "box_style": "",
            "children": [
              "IPY_MODEL_fefe3bcdcc894b8097fbad830c427c14",
              "IPY_MODEL_82d022a410b7415b90b58097d3eaee3c",
              "IPY_MODEL_fb15312013924770941b410fd2a1bb50",
              "IPY_MODEL_09ad87303b48441da26169bfb349dc72"
            ],
            "layout": "IPY_MODEL_1f6c39ae4ae74cd6b0076b469c339d22"
          }
        },
        "fefe3bcdcc894b8097fbad830c427c14": {
          "model_module": "@jupyter-widgets/controls",
          "model_name": "LabelModel",
          "model_module_version": "1.5.0",
          "state": {
            "_dom_classes": [],
            "_model_module": "@jupyter-widgets/controls",
            "_model_module_version": "1.5.0",
            "_model_name": "LabelModel",
            "_view_count": null,
            "_view_module": "@jupyter-widgets/controls",
            "_view_module_version": "1.5.0",
            "_view_name": "LabelView",
            "description": "",
            "description_tooltip": null,
            "layout": "IPY_MODEL_40751ff974b94fc2b675f9865d45ad8d",
            "placeholder": "​",
            "style": "IPY_MODEL_3b08fbbb9c6442dc8b61ba4aa21a8fae",
            "value": "Upload your running shoe!"
          }
        },
        "82d022a410b7415b90b58097d3eaee3c": {
          "model_module": "@jupyter-widgets/controls",
          "model_name": "FileUploadModel",
          "model_module_version": "1.5.0",
          "state": {
            "_counter": 1,
            "_dom_classes": [],
            "_model_module": "@jupyter-widgets/controls",
            "_model_module_version": "1.5.0",
            "_model_name": "FileUploadModel",
            "_view_count": null,
            "_view_module": "@jupyter-widgets/controls",
            "_view_module_version": "1.5.0",
            "_view_name": "FileUploadView",
            "accept": "",
            "button_style": "",
            "data": [
              null
            ],
            "description": "Upload",
            "description_tooltip": null,
            "disabled": false,
            "error": "",
            "icon": "upload",
            "layout": "IPY_MODEL_93110a2e1c5d4a0bbcd6cefa390c8f4b",
            "metadata": [
              {
                "name": "nike-zoom-fly-laufschuh.jpg",
                "type": "image/jpeg",
                "size": 126215,
                "lastModified": 1649975075302
              }
            ],
            "multiple": false,
            "style": "IPY_MODEL_29eaada94d2f474a889c2c0ca3833af5"
          }
        },
        "fb15312013924770941b410fd2a1bb50": {
          "model_module": "@jupyter-widgets/output",
          "model_name": "OutputModel",
          "model_module_version": "1.0.0",
          "state": {
            "_dom_classes": [],
            "_model_module": "@jupyter-widgets/output",
            "_model_module_version": "1.0.0",
            "_model_name": "OutputModel",
            "_view_count": null,
            "_view_module": "@jupyter-widgets/output",
            "_view_module_version": "1.0.0",
            "_view_name": "OutputView",
            "layout": "IPY_MODEL_f2243ceb95c0487ba578e957080ac59b",
            "msg_id": "",
            "outputs": [
              {
                "output_type": "display_data",
                "data": {
                  "text/plain": "<PIL.Image.Image image mode=RGB size=128x128 at 0x7FF1A3D76E90>",
                  "image/png": "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\n"
                },
                "metadata": {}
              }
            ]
          }
        },
        "09ad87303b48441da26169bfb349dc72": {
          "model_module": "@jupyter-widgets/controls",
          "model_name": "LabelModel",
          "model_module_version": "1.5.0",
          "state": {
            "_dom_classes": [],
            "_model_module": "@jupyter-widgets/controls",
            "_model_module_version": "1.5.0",
            "_model_name": "LabelModel",
            "_view_count": null,
            "_view_module": "@jupyter-widgets/controls",
            "_view_module_version": "1.5.0",
            "_view_name": "LabelView",
            "description": "",
            "description_tooltip": null,
            "layout": "IPY_MODEL_2ac035a278994062a0dee892ea346678",
            "placeholder": "​",
            "style": "IPY_MODEL_8391a2234fdf4185998cc1697f58a0d3",
            "value": "Prediction: Nike Zoom Fly 1; Probability: 0.9999"
          }
        },
        "1f6c39ae4ae74cd6b0076b469c339d22": {
          "model_module": "@jupyter-widgets/base",
          "model_name": "LayoutModel",
          "model_module_version": "1.2.0",
          "state": {
            "_model_module": "@jupyter-widgets/base",
            "_model_module_version": "1.2.0",
            "_model_name": "LayoutModel",
            "_view_count": null,
            "_view_module": "@jupyter-widgets/base",
            "_view_module_version": "1.2.0",
            "_view_name": "LayoutView",
            "align_content": null,
            "align_items": null,
            "align_self": null,
            "border": null,
            "bottom": null,
            "display": null,
            "flex": null,
            "flex_flow": null,
            "grid_area": null,
            "grid_auto_columns": null,
            "grid_auto_flow": null,
            "grid_auto_rows": null,
            "grid_column": null,
            "grid_gap": null,
            "grid_row": null,
            "grid_template_areas": null,
            "grid_template_columns": null,
            "grid_template_rows": null,
            "height": null,
            "justify_content": null,
            "justify_items": null,
            "left": null,
            "margin": null,
            "max_height": null,
            "max_width": null,
            "min_height": null,
            "min_width": null,
            "object_fit": null,
            "object_position": null,
            "order": null,
            "overflow": null,
            "overflow_x": null,
            "overflow_y": null,
            "padding": null,
            "right": null,
            "top": null,
            "visibility": null,
            "width": null
          }
        },
        "40751ff974b94fc2b675f9865d45ad8d": {
          "model_module": "@jupyter-widgets/base",
          "model_name": "LayoutModel",
          "model_module_version": "1.2.0",
          "state": {
            "_model_module": "@jupyter-widgets/base",
            "_model_module_version": "1.2.0",
            "_model_name": "LayoutModel",
            "_view_count": null,
            "_view_module": "@jupyter-widgets/base",
            "_view_module_version": "1.2.0",
            "_view_name": "LayoutView",
            "align_content": null,
            "align_items": null,
            "align_self": null,
            "border": null,
            "bottom": null,
            "display": null,
            "flex": null,
            "flex_flow": null,
            "grid_area": null,
            "grid_auto_columns": null,
            "grid_auto_flow": null,
            "grid_auto_rows": null,
            "grid_column": null,
            "grid_gap": null,
            "grid_row": null,
            "grid_template_areas": null,
            "grid_template_columns": null,
            "grid_template_rows": null,
            "height": null,
            "justify_content": null,
            "justify_items": null,
            "left": null,
            "margin": null,
            "max_height": null,
            "max_width": null,
            "min_height": null,
            "min_width": null,
            "object_fit": null,
            "object_position": null,
            "order": null,
            "overflow": null,
            "overflow_x": null,
            "overflow_y": null,
            "padding": null,
            "right": null,
            "top": null,
            "visibility": null,
            "width": null
          }
        },
        "3b08fbbb9c6442dc8b61ba4aa21a8fae": {
          "model_module": "@jupyter-widgets/controls",
          "model_name": "DescriptionStyleModel",
          "model_module_version": "1.5.0",
          "state": {
            "_model_module": "@jupyter-widgets/controls",
            "_model_module_version": "1.5.0",
            "_model_name": "DescriptionStyleModel",
            "_view_count": null,
            "_view_module": "@jupyter-widgets/base",
            "_view_module_version": "1.2.0",
            "_view_name": "StyleView",
            "description_width": ""
          }
        },
        "93110a2e1c5d4a0bbcd6cefa390c8f4b": {
          "model_module": "@jupyter-widgets/base",
          "model_name": "LayoutModel",
          "model_module_version": "1.2.0",
          "state": {
            "_model_module": "@jupyter-widgets/base",
            "_model_module_version": "1.2.0",
            "_model_name": "LayoutModel",
            "_view_count": null,
            "_view_module": "@jupyter-widgets/base",
            "_view_module_version": "1.2.0",
            "_view_name": "LayoutView",
            "align_content": null,
            "align_items": null,
            "align_self": null,
            "border": null,
            "bottom": null,
            "display": null,
            "flex": null,
            "flex_flow": null,
            "grid_area": null,
            "grid_auto_columns": null,
            "grid_auto_flow": null,
            "grid_auto_rows": null,
            "grid_column": null,
            "grid_gap": null,
            "grid_row": null,
            "grid_template_areas": null,
            "grid_template_columns": null,
            "grid_template_rows": null,
            "height": null,
            "justify_content": null,
            "justify_items": null,
            "left": null,
            "margin": null,
            "max_height": null,
            "max_width": null,
            "min_height": null,
            "min_width": null,
            "object_fit": null,
            "object_position": null,
            "order": null,
            "overflow": null,
            "overflow_x": null,
            "overflow_y": null,
            "padding": null,
            "right": null,
            "top": null,
            "visibility": null,
            "width": null
          }
        },
        "29eaada94d2f474a889c2c0ca3833af5": {
          "model_module": "@jupyter-widgets/controls",
          "model_name": "ButtonStyleModel",
          "model_module_version": "1.5.0",
          "state": {
            "_model_module": "@jupyter-widgets/controls",
            "_model_module_version": "1.5.0",
            "_model_name": "ButtonStyleModel",
            "_view_count": null,
            "_view_module": "@jupyter-widgets/base",
            "_view_module_version": "1.2.0",
            "_view_name": "StyleView",
            "button_color": null,
            "font_weight": ""
          }
        },
        "2ac035a278994062a0dee892ea346678": {
          "model_module": "@jupyter-widgets/base",
          "model_name": "LayoutModel",
          "model_module_version": "1.2.0",
          "state": {
            "_model_module": "@jupyter-widgets/base",
            "_model_module_version": "1.2.0",
            "_model_name": "LayoutModel",
            "_view_count": null,
            "_view_module": "@jupyter-widgets/base",
            "_view_module_version": "1.2.0",
            "_view_name": "LayoutView",
            "align_content": null,
            "align_items": null,
            "align_self": null,
            "border": null,
            "bottom": null,
            "display": null,
            "flex": null,
            "flex_flow": null,
            "grid_area": null,
            "grid_auto_columns": null,
            "grid_auto_flow": null,
            "grid_auto_rows": null,
            "grid_column": null,
            "grid_gap": null,
            "grid_row": null,
            "grid_template_areas": null,
            "grid_template_columns": null,
            "grid_template_rows": null,
            "height": null,
            "justify_content": null,
            "justify_items": null,
            "left": null,
            "margin": null,
            "max_height": null,
            "max_width": null,
            "min_height": null,
            "min_width": null,
            "object_fit": null,
            "object_position": null,
            "order": null,
            "overflow": null,
            "overflow_x": null,
            "overflow_y": null,
            "padding": null,
            "right": null,
            "top": null,
            "visibility": null,
            "width": null
          }
        },
        "8391a2234fdf4185998cc1697f58a0d3": {
          "model_module": "@jupyter-widgets/controls",
          "model_name": "DescriptionStyleModel",
          "model_module_version": "1.5.0",
          "state": {
            "_model_module": "@jupyter-widgets/controls",
            "_model_module_version": "1.5.0",
            "_model_name": "DescriptionStyleModel",
            "_view_count": null,
            "_view_module": "@jupyter-widgets/base",
            "_view_module_version": "1.2.0",
            "_view_name": "StyleView",
            "description_width": ""
          }
        },
        "f2243ceb95c0487ba578e957080ac59b": {
          "model_module": "@jupyter-widgets/base",
          "model_name": "LayoutModel",
          "model_module_version": "1.2.0",
          "state": {
            "_model_module": "@jupyter-widgets/base",
            "_model_module_version": "1.2.0",
            "_model_name": "LayoutModel",
            "_view_count": null,
            "_view_module": "@jupyter-widgets/base",
            "_view_module_version": "1.2.0",
            "_view_name": "LayoutView",
            "align_content": null,
            "align_items": null,
            "align_self": null,
            "border": null,
            "bottom": null,
            "display": null,
            "flex": null,
            "flex_flow": null,
            "grid_area": null,
            "grid_auto_columns": null,
            "grid_auto_flow": null,
            "grid_auto_rows": null,
            "grid_column": null,
            "grid_gap": null,
            "grid_row": null,
            "grid_template_areas": null,
            "grid_template_columns": null,
            "grid_template_rows": null,
            "height": null,
            "justify_content": null,
            "justify_items": null,
            "left": null,
            "margin": null,
            "max_height": null,
            "max_width": null,
            "min_height": null,
            "min_width": null,
            "object_fit": null,
            "object_position": null,
            "order": null,
            "overflow": null,
            "overflow_x": null,
            "overflow_y": null,
            "padding": null,
            "right": null,
            "top": null,
            "visibility": null,
            "width": null
          }
        }
      }
    }
  },
  "cells": [
    {
      "cell_type": "markdown",
      "metadata": {
        "id": "view-in-github",
        "colab_type": "text"
      },
      "source": [
        "<a href=\"https://colab.research.google.com/github/afortuny/DeepLearningFastAI/blob/main/RunningShoeAPP.ipynb\" target=\"_parent\"><img src=\"https://colab.research.google.com/assets/colab-badge.svg\" alt=\"Open In Colab\"/></a>"
      ]
    },
    {
      "cell_type": "code",
      "execution_count": 2,
      "metadata": {
        "id": "Y3YTs711HaHN",
        "colab": {
          "base_uri": "https://localhost:8080/"
        },
        "outputId": "615da372-1ced-4978-fca6-1fe600325221"
      },
      "outputs": [
        {
          "output_type": "stream",
          "name": "stdout",
          "text": [
            "Requirement already satisfied: voila in /usr/local/lib/python3.7/dist-packages (0.3.5)\n",
            "Requirement already satisfied: jupyter-client<8,>=6.1.3 in /usr/local/lib/python3.7/dist-packages (from voila) (7.2.2)\n",
            "Requirement already satisfied: jupyter-server<2.0.0,>=0.3.0 in /usr/local/lib/python3.7/dist-packages (from voila) (1.16.0)\n",
            "Requirement already satisfied: websockets>=9.0 in /usr/local/lib/python3.7/dist-packages (from voila) (10.3)\n",
            "Requirement already satisfied: jupyterlab-server<3,>=2.3.0 in /usr/local/lib/python3.7/dist-packages (from voila) (2.12.0)\n",
            "Requirement already satisfied: nbconvert<7,>=6.4.5 in /usr/local/lib/python3.7/dist-packages (from voila) (6.5.0)\n",
            "Requirement already satisfied: traitlets<6,>=5.0.3 in /usr/local/lib/python3.7/dist-packages (from voila) (5.1.1)\n",
            "Requirement already satisfied: nbclient<0.6,>=0.4.0 in /usr/local/lib/python3.7/dist-packages (from voila) (0.5.13)\n",
            "Requirement already satisfied: pyzmq>=22.3 in /usr/local/lib/python3.7/dist-packages (from jupyter-client<8,>=6.1.3->voila) (22.3.0)\n",
            "Requirement already satisfied: jupyter-core>=4.9.2 in /usr/local/lib/python3.7/dist-packages (from jupyter-client<8,>=6.1.3->voila) (4.9.2)\n",
            "Requirement already satisfied: nest-asyncio>=1.5.4 in /usr/local/lib/python3.7/dist-packages (from jupyter-client<8,>=6.1.3->voila) (1.5.5)\n",
            "Requirement already satisfied: python-dateutil>=2.8.2 in /usr/local/lib/python3.7/dist-packages (from jupyter-client<8,>=6.1.3->voila) (2.8.2)\n",
            "Requirement already satisfied: tornado>=6.0 in /usr/local/lib/python3.7/dist-packages (from jupyter-client<8,>=6.1.3->voila) (6.1)\n",
            "Requirement already satisfied: entrypoints in /usr/local/lib/python3.7/dist-packages (from jupyter-client<8,>=6.1.3->voila) (0.4)\n",
            "Requirement already satisfied: jinja2 in /usr/local/lib/python3.7/dist-packages (from jupyter-server<2.0.0,>=0.3.0->voila) (3.1.1)\n",
            "Requirement already satisfied: prometheus-client in /usr/local/lib/python3.7/dist-packages (from jupyter-server<2.0.0,>=0.3.0->voila) (0.14.1)\n",
            "Requirement already satisfied: packaging in /usr/local/lib/python3.7/dist-packages (from jupyter-server<2.0.0,>=0.3.0->voila) (21.3)\n",
            "Requirement already satisfied: websocket-client in /usr/local/lib/python3.7/dist-packages (from jupyter-server<2.0.0,>=0.3.0->voila) (1.3.2)\n",
            "Requirement already satisfied: nbformat>=5.2.0 in /usr/local/lib/python3.7/dist-packages (from jupyter-server<2.0.0,>=0.3.0->voila) (5.3.0)\n",
            "Requirement already satisfied: anyio>=3.1.0 in /usr/local/lib/python3.7/dist-packages (from jupyter-server<2.0.0,>=0.3.0->voila) (3.5.0)\n",
            "Requirement already satisfied: argon2-cffi in /usr/local/lib/python3.7/dist-packages (from jupyter-server<2.0.0,>=0.3.0->voila) (21.3.0)\n",
            "Requirement already satisfied: terminado>=0.8.3 in /usr/local/lib/python3.7/dist-packages (from jupyter-server<2.0.0,>=0.3.0->voila) (0.13.3)\n",
            "Requirement already satisfied: Send2Trash in /usr/local/lib/python3.7/dist-packages (from jupyter-server<2.0.0,>=0.3.0->voila) (1.8.0)\n",
            "Requirement already satisfied: typing-extensions in /usr/local/lib/python3.7/dist-packages (from anyio>=3.1.0->jupyter-server<2.0.0,>=0.3.0->voila) (4.1.1)\n",
            "Requirement already satisfied: sniffio>=1.1 in /usr/local/lib/python3.7/dist-packages (from anyio>=3.1.0->jupyter-server<2.0.0,>=0.3.0->voila) (1.2.0)\n",
            "Requirement already satisfied: idna>=2.8 in /usr/local/lib/python3.7/dist-packages (from anyio>=3.1.0->jupyter-server<2.0.0,>=0.3.0->voila) (2.10)\n",
            "Requirement already satisfied: requests in /usr/local/lib/python3.7/dist-packages (from jupyterlab-server<3,>=2.3.0->voila) (2.23.0)\n",
            "Requirement already satisfied: json5 in /usr/local/lib/python3.7/dist-packages (from jupyterlab-server<3,>=2.3.0->voila) (0.9.6)\n",
            "Requirement already satisfied: babel in /usr/local/lib/python3.7/dist-packages (from jupyterlab-server<3,>=2.3.0->voila) (2.9.1)\n",
            "Requirement already satisfied: jsonschema>=3.0.1 in /usr/local/lib/python3.7/dist-packages (from jupyterlab-server<3,>=2.3.0->voila) (4.3.3)\n",
            "Requirement already satisfied: MarkupSafe>=2.0 in /usr/local/lib/python3.7/dist-packages (from jinja2->jupyter-server<2.0.0,>=0.3.0->voila) (2.0.1)\n",
            "Requirement already satisfied: pyrsistent!=0.17.0,!=0.17.1,!=0.17.2,>=0.14.0 in /usr/local/lib/python3.7/dist-packages (from jsonschema>=3.0.1->jupyterlab-server<3,>=2.3.0->voila) (0.18.1)\n",
            "Requirement already satisfied: attrs>=17.4.0 in /usr/local/lib/python3.7/dist-packages (from jsonschema>=3.0.1->jupyterlab-server<3,>=2.3.0->voila) (21.4.0)\n",
            "Requirement already satisfied: importlib-metadata in /usr/local/lib/python3.7/dist-packages (from jsonschema>=3.0.1->jupyterlab-server<3,>=2.3.0->voila) (4.11.3)\n",
            "Requirement already satisfied: importlib-resources>=1.4.0 in /usr/local/lib/python3.7/dist-packages (from jsonschema>=3.0.1->jupyterlab-server<3,>=2.3.0->voila) (5.6.0)\n",
            "Requirement already satisfied: zipp>=3.1.0 in /usr/local/lib/python3.7/dist-packages (from importlib-resources>=1.4.0->jsonschema>=3.0.1->jupyterlab-server<3,>=2.3.0->voila) (3.8.0)\n",
            "Requirement already satisfied: defusedxml in /usr/local/lib/python3.7/dist-packages (from nbconvert<7,>=6.4.5->voila) (0.7.1)\n",
            "Requirement already satisfied: pandocfilters>=1.4.1 in /usr/local/lib/python3.7/dist-packages (from nbconvert<7,>=6.4.5->voila) (1.5.0)\n",
            "Requirement already satisfied: mistune<2,>=0.8.1 in /usr/local/lib/python3.7/dist-packages (from nbconvert<7,>=6.4.5->voila) (0.8.4)\n",
            "Requirement already satisfied: pygments>=2.4.1 in /usr/local/lib/python3.7/dist-packages (from nbconvert<7,>=6.4.5->voila) (2.6.1)\n",
            "Requirement already satisfied: tinycss2 in /usr/local/lib/python3.7/dist-packages (from nbconvert<7,>=6.4.5->voila) (1.1.1)\n",
            "Requirement already satisfied: bleach in /usr/local/lib/python3.7/dist-packages (from nbconvert<7,>=6.4.5->voila) (5.0.0)\n",
            "Requirement already satisfied: jupyterlab-pygments in /usr/local/lib/python3.7/dist-packages (from nbconvert<7,>=6.4.5->voila) (0.2.1)\n",
            "Requirement already satisfied: beautifulsoup4 in /usr/local/lib/python3.7/dist-packages (from nbconvert<7,>=6.4.5->voila) (4.6.3)\n",
            "Requirement already satisfied: fastjsonschema in /usr/local/lib/python3.7/dist-packages (from nbformat>=5.2.0->jupyter-server<2.0.0,>=0.3.0->voila) (2.15.3)\n",
            "Requirement already satisfied: six>=1.5 in /usr/local/lib/python3.7/dist-packages (from python-dateutil>=2.8.2->jupyter-client<8,>=6.1.3->voila) (1.15.0)\n",
            "Requirement already satisfied: ptyprocess in /usr/local/lib/python3.7/dist-packages (from terminado>=0.8.3->jupyter-server<2.0.0,>=0.3.0->voila) (0.7.0)\n",
            "Requirement already satisfied: argon2-cffi-bindings in /usr/local/lib/python3.7/dist-packages (from argon2-cffi->jupyter-server<2.0.0,>=0.3.0->voila) (21.2.0)\n",
            "Requirement already satisfied: cffi>=1.0.1 in /usr/local/lib/python3.7/dist-packages (from argon2-cffi-bindings->argon2-cffi->jupyter-server<2.0.0,>=0.3.0->voila) (1.15.0)\n",
            "Requirement already satisfied: pycparser in /usr/local/lib/python3.7/dist-packages (from cffi>=1.0.1->argon2-cffi-bindings->argon2-cffi->jupyter-server<2.0.0,>=0.3.0->voila) (2.21)\n",
            "Requirement already satisfied: pytz>=2015.7 in /usr/local/lib/python3.7/dist-packages (from babel->jupyterlab-server<3,>=2.3.0->voila) (2018.9)\n",
            "Requirement already satisfied: webencodings in /usr/local/lib/python3.7/dist-packages (from bleach->nbconvert<7,>=6.4.5->voila) (0.5.1)\n",
            "Requirement already satisfied: pyparsing!=3.0.5,>=2.0.2 in /usr/local/lib/python3.7/dist-packages (from packaging->jupyter-server<2.0.0,>=0.3.0->voila) (3.0.8)\n",
            "Requirement already satisfied: chardet<4,>=3.0.2 in /usr/local/lib/python3.7/dist-packages (from requests->jupyterlab-server<3,>=2.3.0->voila) (3.0.4)\n",
            "Requirement already satisfied: certifi>=2017.4.17 in /usr/local/lib/python3.7/dist-packages (from requests->jupyterlab-server<3,>=2.3.0->voila) (2021.10.8)\n",
            "Requirement already satisfied: urllib3!=1.25.0,!=1.25.1,<1.26,>=1.21.1 in /usr/local/lib/python3.7/dist-packages (from requests->jupyterlab-server<3,>=2.3.0->voila) (1.24.3)\n",
            "Enabling: voila\n",
            "- Writing config: /usr/etc/jupyter\n",
            "    - Validating...\n",
            "      voila  \u001b[32mOK\u001b[0m\n"
          ]
        }
      ],
      "source": [
        "!pip install -Uqq fastbook\n",
        "!pip install voila\n",
        "!jupyter serverextension enable --sys-prefix voila"
      ]
    },
    {
      "cell_type": "code",
      "source": [
        "!pip install ipywidgets"
      ],
      "metadata": {
        "colab": {
          "base_uri": "https://localhost:8080/"
        },
        "id": "ncpgpjXOT-oq",
        "outputId": "bf38feb0-adb5-4768-eaab-3fa47fa0f93e"
      },
      "execution_count": 4,
      "outputs": [
        {
          "output_type": "stream",
          "name": "stdout",
          "text": [
            "Requirement already satisfied: ipywidgets in /usr/local/lib/python3.7/dist-packages (7.7.0)\n",
            "Requirement already satisfied: jupyterlab-widgets>=1.0.0 in /usr/local/lib/python3.7/dist-packages (from ipywidgets) (1.1.0)\n",
            "Requirement already satisfied: ipykernel>=4.5.1 in /usr/local/lib/python3.7/dist-packages (from ipywidgets) (4.10.1)\n",
            "Requirement already satisfied: nbformat>=4.2.0 in /usr/local/lib/python3.7/dist-packages (from ipywidgets) (5.3.0)\n",
            "Requirement already satisfied: widgetsnbextension~=3.6.0 in /usr/local/lib/python3.7/dist-packages (from ipywidgets) (3.6.0)\n",
            "Requirement already satisfied: traitlets>=4.3.1 in /usr/local/lib/python3.7/dist-packages (from ipywidgets) (5.1.1)\n",
            "Requirement already satisfied: ipython>=4.0.0 in /usr/local/lib/python3.7/dist-packages (from ipywidgets) (5.5.0)\n",
            "Requirement already satisfied: ipython-genutils~=0.2.0 in /usr/local/lib/python3.7/dist-packages (from ipywidgets) (0.2.0)\n",
            "Requirement already satisfied: jupyter-client in /usr/local/lib/python3.7/dist-packages (from ipykernel>=4.5.1->ipywidgets) (7.2.2)\n",
            "Requirement already satisfied: tornado>=4.0 in /usr/local/lib/python3.7/dist-packages (from ipykernel>=4.5.1->ipywidgets) (6.1)\n",
            "Requirement already satisfied: pexpect in /usr/local/lib/python3.7/dist-packages (from ipython>=4.0.0->ipywidgets) (4.8.0)\n",
            "Requirement already satisfied: setuptools>=18.5 in /usr/local/lib/python3.7/dist-packages (from ipython>=4.0.0->ipywidgets) (57.4.0)\n",
            "Requirement already satisfied: pygments in /usr/local/lib/python3.7/dist-packages (from ipython>=4.0.0->ipywidgets) (2.6.1)\n",
            "Requirement already satisfied: decorator in /usr/local/lib/python3.7/dist-packages (from ipython>=4.0.0->ipywidgets) (4.4.2)\n",
            "Requirement already satisfied: simplegeneric>0.8 in /usr/local/lib/python3.7/dist-packages (from ipython>=4.0.0->ipywidgets) (0.8.1)\n",
            "Requirement already satisfied: prompt-toolkit<2.0.0,>=1.0.4 in /usr/local/lib/python3.7/dist-packages (from ipython>=4.0.0->ipywidgets) (1.0.18)\n",
            "Requirement already satisfied: pickleshare in /usr/local/lib/python3.7/dist-packages (from ipython>=4.0.0->ipywidgets) (0.7.5)\n",
            "Requirement already satisfied: jsonschema>=2.6 in /usr/local/lib/python3.7/dist-packages (from nbformat>=4.2.0->ipywidgets) (4.3.3)\n",
            "Requirement already satisfied: jupyter-core in /usr/local/lib/python3.7/dist-packages (from nbformat>=4.2.0->ipywidgets) (4.9.2)\n",
            "Requirement already satisfied: fastjsonschema in /usr/local/lib/python3.7/dist-packages (from nbformat>=4.2.0->ipywidgets) (2.15.3)\n",
            "Requirement already satisfied: pyrsistent!=0.17.0,!=0.17.1,!=0.17.2,>=0.14.0 in /usr/local/lib/python3.7/dist-packages (from jsonschema>=2.6->nbformat>=4.2.0->ipywidgets) (0.18.1)\n",
            "Requirement already satisfied: importlib-resources>=1.4.0 in /usr/local/lib/python3.7/dist-packages (from jsonschema>=2.6->nbformat>=4.2.0->ipywidgets) (5.6.0)\n",
            "Requirement already satisfied: attrs>=17.4.0 in /usr/local/lib/python3.7/dist-packages (from jsonschema>=2.6->nbformat>=4.2.0->ipywidgets) (21.4.0)\n",
            "Requirement already satisfied: typing-extensions in /usr/local/lib/python3.7/dist-packages (from jsonschema>=2.6->nbformat>=4.2.0->ipywidgets) (4.1.1)\n",
            "Requirement already satisfied: importlib-metadata in /usr/local/lib/python3.7/dist-packages (from jsonschema>=2.6->nbformat>=4.2.0->ipywidgets) (4.11.3)\n",
            "Requirement already satisfied: zipp>=3.1.0 in /usr/local/lib/python3.7/dist-packages (from importlib-resources>=1.4.0->jsonschema>=2.6->nbformat>=4.2.0->ipywidgets) (3.8.0)\n",
            "Requirement already satisfied: six>=1.9.0 in /usr/local/lib/python3.7/dist-packages (from prompt-toolkit<2.0.0,>=1.0.4->ipython>=4.0.0->ipywidgets) (1.15.0)\n",
            "Requirement already satisfied: wcwidth in /usr/local/lib/python3.7/dist-packages (from prompt-toolkit<2.0.0,>=1.0.4->ipython>=4.0.0->ipywidgets) (0.2.5)\n",
            "Requirement already satisfied: notebook>=4.4.1 in /usr/local/lib/python3.7/dist-packages (from widgetsnbextension~=3.6.0->ipywidgets) (5.3.1)\n",
            "Requirement already satisfied: nbconvert in /usr/local/lib/python3.7/dist-packages (from notebook>=4.4.1->widgetsnbextension~=3.6.0->ipywidgets) (6.5.0)\n",
            "Requirement already satisfied: Send2Trash in /usr/local/lib/python3.7/dist-packages (from notebook>=4.4.1->widgetsnbextension~=3.6.0->ipywidgets) (1.8.0)\n",
            "Requirement already satisfied: terminado>=0.8.1 in /usr/local/lib/python3.7/dist-packages (from notebook>=4.4.1->widgetsnbextension~=3.6.0->ipywidgets) (0.13.3)\n",
            "Requirement already satisfied: jinja2 in /usr/local/lib/python3.7/dist-packages (from notebook>=4.4.1->widgetsnbextension~=3.6.0->ipywidgets) (3.1.1)\n",
            "Requirement already satisfied: python-dateutil>=2.8.2 in /usr/local/lib/python3.7/dist-packages (from jupyter-client->ipykernel>=4.5.1->ipywidgets) (2.8.2)\n",
            "Requirement already satisfied: nest-asyncio>=1.5.4 in /usr/local/lib/python3.7/dist-packages (from jupyter-client->ipykernel>=4.5.1->ipywidgets) (1.5.5)\n",
            "Requirement already satisfied: entrypoints in /usr/local/lib/python3.7/dist-packages (from jupyter-client->ipykernel>=4.5.1->ipywidgets) (0.4)\n",
            "Requirement already satisfied: pyzmq>=22.3 in /usr/local/lib/python3.7/dist-packages (from jupyter-client->ipykernel>=4.5.1->ipywidgets) (22.3.0)\n",
            "Requirement already satisfied: ptyprocess in /usr/local/lib/python3.7/dist-packages (from terminado>=0.8.1->notebook>=4.4.1->widgetsnbextension~=3.6.0->ipywidgets) (0.7.0)\n",
            "Requirement already satisfied: MarkupSafe>=2.0 in /usr/local/lib/python3.7/dist-packages (from jinja2->notebook>=4.4.1->widgetsnbextension~=3.6.0->ipywidgets) (2.0.1)\n",
            "Requirement already satisfied: beautifulsoup4 in /usr/local/lib/python3.7/dist-packages (from nbconvert->notebook>=4.4.1->widgetsnbextension~=3.6.0->ipywidgets) (4.6.3)\n",
            "Requirement already satisfied: pandocfilters>=1.4.1 in /usr/local/lib/python3.7/dist-packages (from nbconvert->notebook>=4.4.1->widgetsnbextension~=3.6.0->ipywidgets) (1.5.0)\n",
            "Requirement already satisfied: tinycss2 in /usr/local/lib/python3.7/dist-packages (from nbconvert->notebook>=4.4.1->widgetsnbextension~=3.6.0->ipywidgets) (1.1.1)\n",
            "Requirement already satisfied: mistune<2,>=0.8.1 in /usr/local/lib/python3.7/dist-packages (from nbconvert->notebook>=4.4.1->widgetsnbextension~=3.6.0->ipywidgets) (0.8.4)\n",
            "Requirement already satisfied: packaging in /usr/local/lib/python3.7/dist-packages (from nbconvert->notebook>=4.4.1->widgetsnbextension~=3.6.0->ipywidgets) (21.3)\n",
            "Requirement already satisfied: defusedxml in /usr/local/lib/python3.7/dist-packages (from nbconvert->notebook>=4.4.1->widgetsnbextension~=3.6.0->ipywidgets) (0.7.1)\n",
            "Requirement already satisfied: jupyterlab-pygments in /usr/local/lib/python3.7/dist-packages (from nbconvert->notebook>=4.4.1->widgetsnbextension~=3.6.0->ipywidgets) (0.2.1)\n",
            "Requirement already satisfied: bleach in /usr/local/lib/python3.7/dist-packages (from nbconvert->notebook>=4.4.1->widgetsnbextension~=3.6.0->ipywidgets) (5.0.0)\n",
            "Requirement already satisfied: nbclient>=0.5.0 in /usr/local/lib/python3.7/dist-packages (from nbconvert->notebook>=4.4.1->widgetsnbextension~=3.6.0->ipywidgets) (0.5.13)\n",
            "Requirement already satisfied: webencodings in /usr/local/lib/python3.7/dist-packages (from bleach->nbconvert->notebook>=4.4.1->widgetsnbextension~=3.6.0->ipywidgets) (0.5.1)\n",
            "Requirement already satisfied: pyparsing!=3.0.5,>=2.0.2 in /usr/local/lib/python3.7/dist-packages (from packaging->nbconvert->notebook>=4.4.1->widgetsnbextension~=3.6.0->ipywidgets) (3.0.8)\n"
          ]
        }
      ]
    },
    {
      "cell_type": "code",
      "source": [
        "import ipywidgets as widgets\n",
        "import fastbook\n",
        "import fastai\n",
        "import voila\n",
        "from fastbook import *\n",
        "from fastai.vision.widgets import * "
      ],
      "metadata": {
        "id": "Y39L8SicHhw9"
      },
      "execution_count": 9,
      "outputs": []
    },
    {
      "cell_type": "code",
      "source": [
        "learn_inf = load_learner('export.pkl')\n",
        "btn_upload = widgets.FileUpload()\n",
        "out_pl = widgets.Output()\n",
        "lbl_pred = widgets.Label()\n"
      ],
      "metadata": {
        "id": "V_uzBTZeHlVy"
      },
      "execution_count": 10,
      "outputs": []
    },
    {
      "cell_type": "code",
      "source": [
        "def on_data_change(change):\n",
        "    lbl_pred.value = ''\n",
        "    img = PILImage.create(btn_upload.data[-1])\n",
        "    out_pl.clear_output()\n",
        "    with out_pl: display(img.to_thumb(128,128))\n",
        "    pred,pred_idx,probs = learn_inf.predict(img)\n",
        "    lbl_pred.value = f'Prediction: {pred}; Probability: {probs[pred_idx]:.04f}'\n"
      ],
      "metadata": {
        "id": "1HIo_qq4Hn1e"
      },
      "execution_count": 11,
      "outputs": []
    },
    {
      "cell_type": "code",
      "source": [
        "btn_upload.observe(on_data_change, names=['data'])\n"
      ],
      "metadata": {
        "id": "UiQbdo4wHpj8"
      },
      "execution_count": 12,
      "outputs": []
    },
    {
      "cell_type": "code",
      "source": [
        "display(VBox([widgets.Label('Upload your running shoe!'), btn_upload, out_pl, lbl_pred]))"
      ],
      "metadata": {
        "id": "DumUw2PHHq4m",
        "colab": {
          "base_uri": "https://localhost:8080/",
          "height": 241,
          "referenced_widgets": [
            "9d3796aeb51a42d6a13f175efe5849f0",
            "fefe3bcdcc894b8097fbad830c427c14",
            "82d022a410b7415b90b58097d3eaee3c",
            "fb15312013924770941b410fd2a1bb50",
            "09ad87303b48441da26169bfb349dc72",
            "1f6c39ae4ae74cd6b0076b469c339d22",
            "40751ff974b94fc2b675f9865d45ad8d",
            "3b08fbbb9c6442dc8b61ba4aa21a8fae",
            "93110a2e1c5d4a0bbcd6cefa390c8f4b",
            "29eaada94d2f474a889c2c0ca3833af5",
            "2ac035a278994062a0dee892ea346678",
            "8391a2234fdf4185998cc1697f58a0d3",
            "f2243ceb95c0487ba578e957080ac59b"
          ]
        },
        "outputId": "922a7ff2-8afa-40a8-8192-2b472d8cabcb"
      },
      "execution_count": 13,
      "outputs": [
        {
          "output_type": "display_data",
          "data": {
            "text/plain": [
              "VBox(children=(Label(value='Upload your running shoe!'), FileUpload(value={}, description='Upload'), Output(),…"
            ],
            "application/vnd.jupyter.widget-view+json": {
              "version_major": 2,
              "version_minor": 0,
              "model_id": "9d3796aeb51a42d6a13f175efe5849f0"
            }
          },
          "metadata": {}
        },
        {
          "output_type": "display_data",
          "data": {
            "text/plain": [
              "<IPython.core.display.HTML object>"
            ],
            "text/html": [
              "\n",
              "<style>\n",
              "    /* Turns off some styling */\n",
              "    progress {\n",
              "        /* gets rid of default border in Firefox and Opera. */\n",
              "        border: none;\n",
              "        /* Needs to be in here for Safari polyfill so background images work as expected. */\n",
              "        background-size: auto;\n",
              "    }\n",
              "    .progress-bar-interrupted, .progress-bar-interrupted::-webkit-progress-bar {\n",
              "        background: #F44336;\n",
              "    }\n",
              "</style>\n"
            ]
          },
          "metadata": {}
        },
        {
          "output_type": "display_data",
          "data": {
            "text/plain": [
              "<IPython.core.display.HTML object>"
            ],
            "text/html": [
              ""
            ]
          },
          "metadata": {}
        }
      ]
    }
  ]
}