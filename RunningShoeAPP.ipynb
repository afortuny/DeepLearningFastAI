{
  "nbformat": 4,
  "nbformat_minor": 0,
  "metadata": {
    "colab": {
      "name": "RunningShoeAPP.ipynb",
      "provenance": [],
      "authorship_tag": "ABX9TyNRbHfOf5rdhLFOMcKz1i2W",
      "include_colab_link": true
    },
    "kernelspec": {
      "name": "python3",
      "display_name": "Python 3"
    },
    "language_info": {
      "name": "python"
    },
    "widgets": {
      "application/vnd.jupyter.widget-state+json": {
        "8833b438bd9b41e9b8d6b409898eb5bc": {
          "model_module": "@jupyter-widgets/controls",
          "model_name": "VBoxModel",
          "model_module_version": "1.5.0",
          "state": {
            "_dom_classes": [],
            "_model_module": "@jupyter-widgets/controls",
            "_model_module_version": "1.5.0",
            "_model_name": "VBoxModel",
            "_view_count": null,
            "_view_module": "@jupyter-widgets/controls",
            "_view_module_version": "1.5.0",
            "_view_name": "VBoxView",
            "box_style": "",
            "children": [
              "IPY_MODEL_c1b3e6cfdd9948c7bf90dd3cdbd315b0",
              "IPY_MODEL_1f31f1863c5f49b6b923bbe0be65256e",
              "IPY_MODEL_8c2cad382e1146de905ff66533ff14f4",
              "IPY_MODEL_a88b7dc7b9994de89cdca6f000a43398"
            ],
            "layout": "IPY_MODEL_f312f94a1845403d9218c02db812a053"
          }
        },
        "c1b3e6cfdd9948c7bf90dd3cdbd315b0": {
          "model_module": "@jupyter-widgets/controls",
          "model_name": "LabelModel",
          "model_module_version": "1.5.0",
          "state": {
            "_dom_classes": [],
            "_model_module": "@jupyter-widgets/controls",
            "_model_module_version": "1.5.0",
            "_model_name": "LabelModel",
            "_view_count": null,
            "_view_module": "@jupyter-widgets/controls",
            "_view_module_version": "1.5.0",
            "_view_name": "LabelView",
            "description": "",
            "description_tooltip": null,
            "layout": "IPY_MODEL_cdc88c8e14fa4d628ef2455fe66b2b31",
            "placeholder": "​",
            "style": "IPY_MODEL_95b19f5cc6d944ea8c0f47edd27b2d4e",
            "value": "Upload your running shoe!"
          }
        },
        "1f31f1863c5f49b6b923bbe0be65256e": {
          "model_module": "@jupyter-widgets/controls",
          "model_name": "FileUploadModel",
          "model_module_version": "1.5.0",
          "state": {
            "_counter": 5,
            "_dom_classes": [],
            "_model_module": "@jupyter-widgets/controls",
            "_model_module_version": "1.5.0",
            "_model_name": "FileUploadModel",
            "_view_count": null,
            "_view_module": "@jupyter-widgets/controls",
            "_view_module_version": "1.5.0",
            "_view_name": "FileUploadView",
            "accept": "",
            "button_style": "",
            "data": [
              null
            ],
            "description": "Upload",
            "description_tooltip": null,
            "disabled": false,
            "error": "",
            "icon": "upload",
            "layout": "IPY_MODEL_f418b30f24d64cbfa4c89f75be1ff42e",
            "metadata": [
              {
                "name": "b928b8a6f83b9624a9bd62420f9f52b7.jpg",
                "type": "image/jpeg",
                "size": 109277,
                "lastModified": 1650639508168
              }
            ],
            "multiple": false,
            "style": "IPY_MODEL_ffc97f285c4b4d27852cffd131c098f4"
          }
        },
        "8c2cad382e1146de905ff66533ff14f4": {
          "model_module": "@jupyter-widgets/output",
          "model_name": "OutputModel",
          "model_module_version": "1.0.0",
          "state": {
            "_dom_classes": [],
            "_model_module": "@jupyter-widgets/output",
            "_model_module_version": "1.0.0",
            "_model_name": "OutputModel",
            "_view_count": null,
            "_view_module": "@jupyter-widgets/output",
            "_view_module_version": "1.0.0",
            "_view_name": "OutputView",
            "layout": "IPY_MODEL_114640091d2340ca948a953ef8af6e3c",
            "msg_id": "",
            "outputs": [
              {
                "output_type": "display_data",
                "data": {
                  "text/plain": "<PIL.Image.Image image mode=RGB size=128x128 at 0x7F4CABC246D0>",
                  "image/png": "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\n"
                },
                "metadata": {}
              }
            ]
          }
        },
        "a88b7dc7b9994de89cdca6f000a43398": {
          "model_module": "@jupyter-widgets/controls",
          "model_name": "LabelModel",
          "model_module_version": "1.5.0",
          "state": {
            "_dom_classes": [],
            "_model_module": "@jupyter-widgets/controls",
            "_model_module_version": "1.5.0",
            "_model_name": "LabelModel",
            "_view_count": null,
            "_view_module": "@jupyter-widgets/controls",
            "_view_module_version": "1.5.0",
            "_view_name": "LabelView",
            "description": "",
            "description_tooltip": null,
            "layout": "IPY_MODEL_d20cb23e90c541caaac89569f2ea1407",
            "placeholder": "​",
            "style": "IPY_MODEL_6821a907d6104837a965e84363ff1291",
            "value": "Prediction: Adidas Adizero Running Shoes; Probability: 0.9981"
          }
        },
        "f312f94a1845403d9218c02db812a053": {
          "model_module": "@jupyter-widgets/base",
          "model_name": "LayoutModel",
          "model_module_version": "1.2.0",
          "state": {
            "_model_module": "@jupyter-widgets/base",
            "_model_module_version": "1.2.0",
            "_model_name": "LayoutModel",
            "_view_count": null,
            "_view_module": "@jupyter-widgets/base",
            "_view_module_version": "1.2.0",
            "_view_name": "LayoutView",
            "align_content": null,
            "align_items": null,
            "align_self": null,
            "border": null,
            "bottom": null,
            "display": null,
            "flex": null,
            "flex_flow": null,
            "grid_area": null,
            "grid_auto_columns": null,
            "grid_auto_flow": null,
            "grid_auto_rows": null,
            "grid_column": null,
            "grid_gap": null,
            "grid_row": null,
            "grid_template_areas": null,
            "grid_template_columns": null,
            "grid_template_rows": null,
            "height": null,
            "justify_content": null,
            "justify_items": null,
            "left": null,
            "margin": null,
            "max_height": null,
            "max_width": null,
            "min_height": null,
            "min_width": null,
            "object_fit": null,
            "object_position": null,
            "order": null,
            "overflow": null,
            "overflow_x": null,
            "overflow_y": null,
            "padding": null,
            "right": null,
            "top": null,
            "visibility": null,
            "width": null
          }
        },
        "cdc88c8e14fa4d628ef2455fe66b2b31": {
          "model_module": "@jupyter-widgets/base",
          "model_name": "LayoutModel",
          "model_module_version": "1.2.0",
          "state": {
            "_model_module": "@jupyter-widgets/base",
            "_model_module_version": "1.2.0",
            "_model_name": "LayoutModel",
            "_view_count": null,
            "_view_module": "@jupyter-widgets/base",
            "_view_module_version": "1.2.0",
            "_view_name": "LayoutView",
            "align_content": null,
            "align_items": null,
            "align_self": null,
            "border": null,
            "bottom": null,
            "display": null,
            "flex": null,
            "flex_flow": null,
            "grid_area": null,
            "grid_auto_columns": null,
            "grid_auto_flow": null,
            "grid_auto_rows": null,
            "grid_column": null,
            "grid_gap": null,
            "grid_row": null,
            "grid_template_areas": null,
            "grid_template_columns": null,
            "grid_template_rows": null,
            "height": null,
            "justify_content": null,
            "justify_items": null,
            "left": null,
            "margin": null,
            "max_height": null,
            "max_width": null,
            "min_height": null,
            "min_width": null,
            "object_fit": null,
            "object_position": null,
            "order": null,
            "overflow": null,
            "overflow_x": null,
            "overflow_y": null,
            "padding": null,
            "right": null,
            "top": null,
            "visibility": null,
            "width": null
          }
        },
        "95b19f5cc6d944ea8c0f47edd27b2d4e": {
          "model_module": "@jupyter-widgets/controls",
          "model_name": "DescriptionStyleModel",
          "model_module_version": "1.5.0",
          "state": {
            "_model_module": "@jupyter-widgets/controls",
            "_model_module_version": "1.5.0",
            "_model_name": "DescriptionStyleModel",
            "_view_count": null,
            "_view_module": "@jupyter-widgets/base",
            "_view_module_version": "1.2.0",
            "_view_name": "StyleView",
            "description_width": ""
          }
        },
        "f418b30f24d64cbfa4c89f75be1ff42e": {
          "model_module": "@jupyter-widgets/base",
          "model_name": "LayoutModel",
          "model_module_version": "1.2.0",
          "state": {
            "_model_module": "@jupyter-widgets/base",
            "_model_module_version": "1.2.0",
            "_model_name": "LayoutModel",
            "_view_count": null,
            "_view_module": "@jupyter-widgets/base",
            "_view_module_version": "1.2.0",
            "_view_name": "LayoutView",
            "align_content": null,
            "align_items": null,
            "align_self": null,
            "border": null,
            "bottom": null,
            "display": null,
            "flex": null,
            "flex_flow": null,
            "grid_area": null,
            "grid_auto_columns": null,
            "grid_auto_flow": null,
            "grid_auto_rows": null,
            "grid_column": null,
            "grid_gap": null,
            "grid_row": null,
            "grid_template_areas": null,
            "grid_template_columns": null,
            "grid_template_rows": null,
            "height": null,
            "justify_content": null,
            "justify_items": null,
            "left": null,
            "margin": null,
            "max_height": null,
            "max_width": null,
            "min_height": null,
            "min_width": null,
            "object_fit": null,
            "object_position": null,
            "order": null,
            "overflow": null,
            "overflow_x": null,
            "overflow_y": null,
            "padding": null,
            "right": null,
            "top": null,
            "visibility": null,
            "width": null
          }
        },
        "ffc97f285c4b4d27852cffd131c098f4": {
          "model_module": "@jupyter-widgets/controls",
          "model_name": "ButtonStyleModel",
          "model_module_version": "1.5.0",
          "state": {
            "_model_module": "@jupyter-widgets/controls",
            "_model_module_version": "1.5.0",
            "_model_name": "ButtonStyleModel",
            "_view_count": null,
            "_view_module": "@jupyter-widgets/base",
            "_view_module_version": "1.2.0",
            "_view_name": "StyleView",
            "button_color": null,
            "font_weight": ""
          }
        },
        "d20cb23e90c541caaac89569f2ea1407": {
          "model_module": "@jupyter-widgets/base",
          "model_name": "LayoutModel",
          "model_module_version": "1.2.0",
          "state": {
            "_model_module": "@jupyter-widgets/base",
            "_model_module_version": "1.2.0",
            "_model_name": "LayoutModel",
            "_view_count": null,
            "_view_module": "@jupyter-widgets/base",
            "_view_module_version": "1.2.0",
            "_view_name": "LayoutView",
            "align_content": null,
            "align_items": null,
            "align_self": null,
            "border": null,
            "bottom": null,
            "display": null,
            "flex": null,
            "flex_flow": null,
            "grid_area": null,
            "grid_auto_columns": null,
            "grid_auto_flow": null,
            "grid_auto_rows": null,
            "grid_column": null,
            "grid_gap": null,
            "grid_row": null,
            "grid_template_areas": null,
            "grid_template_columns": null,
            "grid_template_rows": null,
            "height": null,
            "justify_content": null,
            "justify_items": null,
            "left": null,
            "margin": null,
            "max_height": null,
            "max_width": null,
            "min_height": null,
            "min_width": null,
            "object_fit": null,
            "object_position": null,
            "order": null,
            "overflow": null,
            "overflow_x": null,
            "overflow_y": null,
            "padding": null,
            "right": null,
            "top": null,
            "visibility": null,
            "width": null
          }
        },
        "6821a907d6104837a965e84363ff1291": {
          "model_module": "@jupyter-widgets/controls",
          "model_name": "DescriptionStyleModel",
          "model_module_version": "1.5.0",
          "state": {
            "_model_module": "@jupyter-widgets/controls",
            "_model_module_version": "1.5.0",
            "_model_name": "DescriptionStyleModel",
            "_view_count": null,
            "_view_module": "@jupyter-widgets/base",
            "_view_module_version": "1.2.0",
            "_view_name": "StyleView",
            "description_width": ""
          }
        },
        "114640091d2340ca948a953ef8af6e3c": {
          "model_module": "@jupyter-widgets/base",
          "model_name": "LayoutModel",
          "model_module_version": "1.2.0",
          "state": {
            "_model_module": "@jupyter-widgets/base",
            "_model_module_version": "1.2.0",
            "_model_name": "LayoutModel",
            "_view_count": null,
            "_view_module": "@jupyter-widgets/base",
            "_view_module_version": "1.2.0",
            "_view_name": "LayoutView",
            "align_content": null,
            "align_items": null,
            "align_self": null,
            "border": null,
            "bottom": null,
            "display": null,
            "flex": null,
            "flex_flow": null,
            "grid_area": null,
            "grid_auto_columns": null,
            "grid_auto_flow": null,
            "grid_auto_rows": null,
            "grid_column": null,
            "grid_gap": null,
            "grid_row": null,
            "grid_template_areas": null,
            "grid_template_columns": null,
            "grid_template_rows": null,
            "height": null,
            "justify_content": null,
            "justify_items": null,
            "left": null,
            "margin": null,
            "max_height": null,
            "max_width": null,
            "min_height": null,
            "min_width": null,
            "object_fit": null,
            "object_position": null,
            "order": null,
            "overflow": null,
            "overflow_x": null,
            "overflow_y": null,
            "padding": null,
            "right": null,
            "top": null,
            "visibility": null,
            "width": null
          }
        }
      }
    }
  },
  "cells": [
    {
      "cell_type": "markdown",
      "metadata": {
        "id": "view-in-github",
        "colab_type": "text"
      },
      "source": [
        "<a href=\"https://colab.research.google.com/github/afortuny/DeepLearningFastAI/blob/main/RunningShoeAPP.ipynb\" target=\"_parent\"><img src=\"https://colab.research.google.com/assets/colab-badge.svg\" alt=\"Open In Colab\"/></a>"
      ]
    },
    {
      "cell_type": "markdown",
      "source": [
        "## Which running shoe are you wearing?\n",
        "\n",
        "The following simple app uses computer vision to predict if your show belongs to adidas, nike or puma. Please upload only shoes of those brands."
      ],
      "metadata": {
        "id": "-ptHSE4zaWTF"
      }
    },
    {
      "cell_type": "code",
      "source": [
        "#os.chdir('DeepLearningFastAI/') we will be assuming you are in the folder where the pickle file and brands reside"
      ],
      "metadata": {
        "id": "xfcdjIX-yXKy"
      },
      "execution_count": null,
      "outputs": []
    },
    {
      "cell_type": "code",
      "execution_count": 19,
      "metadata": {
        "id": "Y3YTs711HaHN",
        "colab": {
          "base_uri": "https://localhost:8080/",
          "height": 605
        },
        "outputId": "4323bee5-1caa-49fa-da5e-a4e29341ff35"
      },
      "outputs": [
        {
          "output_type": "execute_result",
          "data": {
            "image/jpeg": "[encoded data removed]",
            "text/plain": [
              "<IPython.core.display.Image object>"
            ]
          },
          "metadata": {},
          "execution_count": 19
        }
      ],
      "source": [
        "from IPython.display import Image\n",
        "Image(filename=\"Brands.JPG\")\n"
      ]
    },
    {
      "cell_type": "code",
      "source": [
        "!pip install -Uqq fastbook\n",
        "import fastbook\n",
        "fastbook.setup_book()\n",
        "import fastai\n",
        "fastai.__version__\n"
      ],
      "metadata": {
        "colab": {
          "base_uri": "https://localhost:8080/",
          "height": 53
        },
        "id": "XfeBq7xOp74O",
        "outputId": "2df9eaff-9c89-455e-a3cf-510ca44861bf"
      },
      "execution_count": 1,
      "outputs": [
        {
          "output_type": "stream",
          "name": "stdout",
          "text": [
            "Mounted at /content/gdrive\n"
          ]
        },
        {
          "output_type": "execute_result",
          "data": {
            "text/plain": [
              "'2.5.6'"
            ],
            "application/vnd.google.colaboratory.intrinsic+json": {
              "type": "string"
            }
          },
          "metadata": {},
          "execution_count": 1
        }
      ]
    },
    {
      "cell_type": "code",
      "source": [
        "import ipywidgets as widgets\n",
        "from fastai.vision.all import *\n",
        "from fastai.vision.widgets import * "
      ],
      "metadata": {
        "id": "Y39L8SicHhw9"
      },
      "execution_count": 2,
      "outputs": []
    },
    {
      "cell_type": "code",
      "source": [
        "learn_inf = load_learner('export.pkl')\n",
        "btn_upload = widgets.FileUpload()\n",
        "out_pl = widgets.Output()\n",
        "lbl_pred = widgets.Label()\n"
      ],
      "metadata": {
        "id": "V_uzBTZeHlVy"
      },
      "execution_count": 14,
      "outputs": []
    },
    {
      "cell_type": "code",
      "source": [
        "def on_data_change(change):\n",
        "    lbl_pred.value = ''\n",
        "    img = PILImage.create(btn_upload.data[-1])\n",
        "    out_pl.clear_output()\n",
        "    with out_pl: display(img.to_thumb(128,128))\n",
        "    pred,pred_idx,probs = learn_inf.predict(img)\n",
        "    lbl_pred.value = f'Prediction: {pred}; Probability: {probs[pred_idx]:.04f}'\n"
      ],
      "metadata": {
        "id": "1HIo_qq4Hn1e"
      },
      "execution_count": 15,
      "outputs": []
    },
    {
      "cell_type": "code",
      "source": [
        "btn_upload.observe(on_data_change, names=['data'])\n"
      ],
      "metadata": {
        "id": "UiQbdo4wHpj8"
      },
      "execution_count": 16,
      "outputs": []
    },
    {
      "cell_type": "code",
      "source": [
        "display(VBox([widgets.Label('Upload your running shoe!'), btn_upload, out_pl, lbl_pred]))"
      ],
      "metadata": {
        "id": "DumUw2PHHq4m",
        "colab": {
          "base_uri": "https://localhost:8080/",
          "height": 241,
          "referenced_widgets": [
            "8833b438bd9b41e9b8d6b409898eb5bc",
            "c1b3e6cfdd9948c7bf90dd3cdbd315b0",
            "1f31f1863c5f49b6b923bbe0be65256e",
            "8c2cad382e1146de905ff66533ff14f4",
            "a88b7dc7b9994de89cdca6f000a43398",
            "f312f94a1845403d9218c02db812a053",
            "cdc88c8e14fa4d628ef2455fe66b2b31",
            "95b19f5cc6d944ea8c0f47edd27b2d4e",
            "f418b30f24d64cbfa4c89f75be1ff42e",
            "ffc97f285c4b4d27852cffd131c098f4",
            "d20cb23e90c541caaac89569f2ea1407",
            "6821a907d6104837a965e84363ff1291",
            "114640091d2340ca948a953ef8af6e3c"
          ]
        },
        "outputId": "6ebd3424-7ae4-4ed6-a550-0cd545e0c08a"
      },
      "execution_count": 17,
      "outputs": [
        {
          "output_type": "display_data",
          "data": {
            "text/plain": [
              "VBox(children=(Label(value='Upload your running shoe!'), FileUpload(value={}, description='Upload'), Output(),…"
            ],
            "application/vnd.jupyter.widget-view+json": {
              "version_major": 2,
              "version_minor": 0,
              "model_id": "8833b438bd9b41e9b8d6b409898eb5bc"
            }
          },
          "metadata": {}
        },
        {
          "output_type": "display_data",
          "data": {
            "text/plain": [
              "<IPython.core.display.HTML object>"
            ],
            "text/html": [
              "\n",
              "<style>\n",
              "    /* Turns off some styling */\n",
              "    progress {\n",
              "        /* gets rid of default border in Firefox and Opera. */\n",
              "        border: none;\n",
              "        /* Needs to be in here for Safari polyfill so background images work as expected. */\n",
              "        background-size: auto;\n",
              "    }\n",
              "    .progress-bar-interrupted, .progress-bar-interrupted::-webkit-progress-bar {\n",
              "        background: #F44336;\n",
              "    }\n",
              "</style>\n"
            ]
          },
          "metadata": {}
        },
        {
          "output_type": "display_data",
          "data": {
            "text/plain": [
              "<IPython.core.display.HTML object>"
            ],
            "text/html": [
              ""
            ]
          },
          "metadata": {}
        },
        {
          "output_type": "display_data",
          "data": {
            "text/plain": [
              "<IPython.core.display.HTML object>"
            ],
            "text/html": [
              "\n",
              "<style>\n",
              "    /* Turns off some styling */\n",
              "    progress {\n",
              "        /* gets rid of default border in Firefox and Opera. */\n",
              "        border: none;\n",
              "        /* Needs to be in here for Safari polyfill so background images work as expected. */\n",
              "        background-size: auto;\n",
              "    }\n",
              "    .progress-bar-interrupted, .progress-bar-interrupted::-webkit-progress-bar {\n",
              "        background: #F44336;\n",
              "    }\n",
              "</style>\n"
            ]
          },
          "metadata": {}
        },
        {
          "output_type": "display_data",
          "data": {
            "text/plain": [
              "<IPython.core.display.HTML object>"
            ],
            "text/html": [
              ""
            ]
          },
          "metadata": {}
        },
        {
          "output_type": "display_data",
          "data": {
            "text/plain": [
              "<IPython.core.display.HTML object>"
            ],
            "text/html": [
              "\n",
              "<style>\n",
              "    /* Turns off some styling */\n",
              "    progress {\n",
              "        /* gets rid of default border in Firefox and Opera. */\n",
              "        border: none;\n",
              "        /* Needs to be in here for Safari polyfill so background images work as expected. */\n",
              "        background-size: auto;\n",
              "    }\n",
              "    .progress-bar-interrupted, .progress-bar-interrupted::-webkit-progress-bar {\n",
              "        background: #F44336;\n",
              "    }\n",
              "</style>\n"
            ]
          },
          "metadata": {}
        },
        {
          "output_type": "display_data",
          "data": {
            "text/plain": [
              "<IPython.core.display.HTML object>"
            ],
            "text/html": [
              ""
            ]
          },
          "metadata": {}
        },
        {
          "output_type": "display_data",
          "data": {
            "text/plain": [
              "<IPython.core.display.HTML object>"
            ],
            "text/html": [
              "\n",
              "<style>\n",
              "    /* Turns off some styling */\n",
              "    progress {\n",
              "        /* gets rid of default border in Firefox and Opera. */\n",
              "        border: none;\n",
              "        /* Needs to be in here for Safari polyfill so background images work as expected. */\n",
              "        background-size: auto;\n",
              "    }\n",
              "    .progress-bar-interrupted, .progress-bar-interrupted::-webkit-progress-bar {\n",
              "        background: #F44336;\n",
              "    }\n",
              "</style>\n"
            ]
          },
          "metadata": {}
        },
        {
          "output_type": "display_data",
          "data": {
            "text/plain": [
              "<IPython.core.display.HTML object>"
            ],
            "text/html": [
              ""
            ]
          },
          "metadata": {}
        },
        {
          "output_type": "display_data",
          "data": {
            "text/plain": [
              "<IPython.core.display.HTML object>"
            ],
            "text/html": [
              "\n",
              "<style>\n",
              "    /* Turns off some styling */\n",
              "    progress {\n",
              "        /* gets rid of default border in Firefox and Opera. */\n",
              "        border: none;\n",
              "        /* Needs to be in here for Safari polyfill so background images work as expected. */\n",
              "        background-size: auto;\n",
              "    }\n",
              "    .progress-bar-interrupted, .progress-bar-interrupted::-webkit-progress-bar {\n",
              "        background: #F44336;\n",
              "    }\n",
              "</style>\n"
            ]
          },
          "metadata": {}
        },
        {
          "output_type": "display_data",
          "data": {
            "text/plain": [
              "<IPython.core.display.HTML object>"
            ],
            "text/html": [
              ""
            ]
          },
          "metadata": {}
        }
      ]
    }
  ]
}