{
 "cells": [
  {
   "cell_type": "markdown",
   "id": "f4c01908",
   "metadata": {
    "_cell_guid": "b1076dfc-b9ad-4769-8c92-a6c4dae69d19",
    "_uuid": "8f2839f25d086af736a60e9eeb907d3b93b6e0e5",
    "execution": {
     "iopub.execute_input": "2023-06-22T08:35:04.515428Z",
     "iopub.status.busy": "2023-06-22T08:35:04.514679Z",
     "iopub.status.idle": "2023-06-22T08:35:04.552389Z",
     "shell.execute_reply": "2023-06-22T08:35:04.551418Z",
     "shell.execute_reply.started": "2023-06-22T08:35:04.515391Z"
    },
    "papermill": {
     "duration": 0.002479,
     "end_time": "2023-06-22T08:46:31.307193",
     "exception": false,
     "start_time": "2023-06-22T08:46:31.304714",
     "status": "completed"
    },
    "tags": []
   },
   "source": [
    "# Electrification impact in Goma\n",
    "\n",
    "The following survey data aims to be used to assess the impact of electrification for two villages close to Goma, the survey was conducted in June 2022.\n",
    "\n",
    "Electrification has many benefits for the people that gain access to it, such as:\n",
    "\n",
    "* alleviate women’s time poverty\n",
    "* create opportunities for women and girls to enter the labor force or school\n",
    "* decrease exposure to harmful indoor air pollutants\n",
    "* improve maternal health\n",
    "* educe exposure to and acceptance of gender-based violence\n",
    "* hange social norms through access to information\n",
    "\n",
    "According to [https://jpia.princeton.edu/news/powering-households-and-empowering-women-gendered-effects-electrification-sub-saharan-africa#:~:text=Findings%20indicate%20that%20electrification%20can%20alleviate%20women%E2%80%99s%20time,and%20change%20social%20norms%20through%20access%20to%20information.]"
   ]
  },
  {
   "cell_type": "code",
   "execution_count": 1,
   "id": "0566aba9",
   "metadata": {
    "execution": {
     "iopub.execute_input": "2023-06-22T08:46:31.313665Z",
     "iopub.status.busy": "2023-06-22T08:46:31.313165Z",
     "iopub.status.idle": "2023-06-22T08:46:31.334411Z",
     "shell.execute_reply": "2023-06-22T08:46:31.333295Z"
    },
    "papermill": {
     "duration": 0.02764,
     "end_time": "2023-06-22T08:46:31.337058",
     "exception": false,
     "start_time": "2023-06-22T08:46:31.309418",
     "status": "completed"
    },
    "tags": []
   },
   "outputs": [
    {
     "name": "stdout",
     "output_type": "stream",
     "text": [
      "/kaggle/input/energy-panel/sample_data (2).xlsx\n"
     ]
    }
   ],
   "source": [
    "# This Python 3 environment comes with many helpful analytics libraries installed\n",
    "# It is defined by the kaggle/python Docker image: https://github.com/kaggle/docker-python\n",
    "# For example, here's several helpful packages to load\n",
    "\n",
    "import numpy as np # linear algebra\n",
    "import pandas as pd # data processing, CSV file I/O (e.g. pd.read_csv)\n",
    "\n",
    "# Input data files are available in the read-only \"../input/\" directory\n",
    "# For example, running this (by clicking run or pressing Shift+Enter) will list all files under the input directory\n",
    "\n",
    "import os\n",
    "for dirname, _, filenames in os.walk('/kaggle/input'):\n",
    "    for filename in filenames:\n",
    "        print(os.path.join(dirname, filename))\n",
    "\n",
    "# You can write up to 20GB to the current directory (/kaggle/working/) that gets preserved as output when you create a version using \"Save & Run All\" \n",
    "# You can also write temporary files to /kaggle/temp/, but they won't be saved outside of the current session"
   ]
  },
  {
   "cell_type": "code",
   "execution_count": null,
   "id": "bdcdf4cc",
   "metadata": {
    "papermill": {
     "duration": 0.001866,
     "end_time": "2023-06-22T08:46:31.341261",
     "exception": false,
     "start_time": "2023-06-22T08:46:31.339395",
     "status": "completed"
    },
    "tags": []
   },
   "outputs": [],
   "source": []
  }
 ],
 "metadata": {
  "kernelspec": {
   "display_name": "Python 3",
   "language": "python",
   "name": "python3"
  },
  "language_info": {
   "codemirror_mode": {
    "name": "ipython",
    "version": 3
   },
   "file_extension": ".py",
   "mimetype": "text/x-python",
   "name": "python",
   "nbconvert_exporter": "python",
   "pygments_lexer": "ipython3",
   "version": "3.10.10"
  },
  "papermill": {
   "default_parameters": {},
   "duration": 13.396094,
   "end_time": "2023-06-22T08:46:32.264811",
   "environment_variables": {},
   "exception": null,
   "input_path": "__notebook__.ipynb",
   "output_path": "__notebook__.ipynb",
   "parameters": {},
   "start_time": "2023-06-22T08:46:18.868717",
   "version": "2.4.0"
  }
 },
 "nbformat": 4,
 "nbformat_minor": 5
}
