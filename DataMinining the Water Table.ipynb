{
  "cells": [
    {
      "cell_type": "markdown",
      "metadata": {
        "id": "view-in-github",
        "colab_type": "text"
      },
      "source": [
        "<a href=\"https://colab.research.google.com/github/afortuny/DeepLearningFastAI/blob/main/DataMinining%20the%20Water%20Table.ipynb\" target=\"_parent\"><img src=\"https://colab.research.google.com/assets/colab-badge.svg\" alt=\"Open In Colab\"/></a>"
      ]
    },
    {
      "cell_type": "code",
      "execution_count": 1,
      "metadata": {
        "id": "GEez319d8f37",
        "colab": {
          "base_uri": "https://localhost:8080/"
        },
        "outputId": "43a28da7-d683-4f42-c9eb-dde4653df68c"
      },
      "outputs": [
        {
          "output_type": "stream",
          "name": "stdout",
          "text": [
            "\u001b[K     |████████████████████████████████| 719 kB 35.7 MB/s \n",
            "\u001b[K     |████████████████████████████████| 62 kB 914 kB/s \n",
            "\u001b[K     |████████████████████████████████| 4.7 MB 51.7 MB/s \n",
            "\u001b[K     |████████████████████████████████| 1.2 MB 58.7 MB/s \n",
            "\u001b[K     |████████████████████████████████| 365 kB 50.3 MB/s \n",
            "\u001b[K     |████████████████████████████████| 141 kB 82.5 MB/s \n",
            "\u001b[K     |████████████████████████████████| 101 kB 10.9 MB/s \n",
            "\u001b[K     |████████████████████████████████| 115 kB 60.1 MB/s \n",
            "\u001b[K     |████████████████████████████████| 212 kB 39.4 MB/s \n",
            "\u001b[K     |████████████████████████████████| 596 kB 68.7 MB/s \n",
            "\u001b[K     |████████████████████████████████| 127 kB 84.5 MB/s \n",
            "\u001b[K     |████████████████████████████████| 6.6 MB 48.6 MB/s \n",
            "\u001b[?25h  Building wheel for waterfallcharts (setup.py) ... \u001b[?25l\u001b[?25hdone\n",
            "  Building wheel for dtreeviz (setup.py) ... \u001b[?25l\u001b[?25hdone\n",
            "Mounted at /content/gdrive\n"
          ]
        }
      ],
      "source": [
        "#hide\n",
        "! [ -e /content ] && pip install -Uqq fastbook kaggle waterfallcharts treeinterpreter dtreeviz\n",
        "import fastbook\n",
        "fastbook.setup_book()"
      ]
    },
    {
      "cell_type": "code",
      "execution_count": 2,
      "metadata": {
        "hide_input": false,
        "id": "feQaeHKW8f3_"
      },
      "outputs": [],
      "source": [
        "#hide\n",
        "from fastbook import *\n",
        "from pandas.api.types import is_string_dtype, is_numeric_dtype, is_categorical_dtype\n",
        "from fastai.tabular.all import *\n",
        "from sklearn.ensemble import RandomForestClassifier\n",
        "from sklearn.tree import DecisionTreeRegressor\n",
        "from dtreeviz.trees import *\n",
        "from IPython.display import Image, display_svg, SVG\n",
        "\n",
        "pd.options.display.max_rows = 20\n",
        "pd.options.display.max_columns = 8"
      ]
    },
    {
      "cell_type": "markdown",
      "metadata": {
        "id": "CrvivhRN8f4A"
      },
      "source": [
        "#Pump it Up: Data Mining the Water Table\n",
        "HOSTED BY DRIVENDATA"
      ]
    },
    {
      "cell_type": "markdown",
      "metadata": {
        "id": "xSk16PbP8f4K"
      },
      "source": [
        "## The Dataset"
      ]
    },
    {
      "cell_type": "code",
      "execution_count": 3,
      "metadata": {
        "id": "nvGZFsOM8f4M"
      },
      "outputs": [],
      "source": [
        "import pathlib \n",
        "path = pathlib.Path('/content/gdrive/MyDrive/Water')"
      ]
    },
    {
      "cell_type": "code",
      "execution_count": 4,
      "metadata": {
        "id": "pwqs5t338f4N"
      },
      "outputs": [],
      "source": [
        "\n",
        "Path.BASE_PATH = path"
      ]
    },
    {
      "cell_type": "markdown",
      "metadata": {
        "id": "xxDVZlQH8f4N"
      },
      "source": [
        "### Look at the Data"
      ]
    },
    {
      "cell_type": "markdown",
      "metadata": {
        "id": "ls18424D8f4O"
      },
      "source": [
        "In any sort of data science work, it's important to *look at your data directly* to make sure you understand the format, how it's stored, what types of values it holds, etc. Even if you've read a description of the data, the actual data may not be what you expect. We'll start by reading the training set into a Pandas DataFrame. Generally it's a good idea to specify `low_memory=False` unless Pandas actually runs out of memory and returns an error. The `low_memory` parameter, which is `True` by default, tells Pandas to only look at a few rows of data at a time to figure out what type of data is in each column. This means that Pandas can actually end up using different data type for different rows, which generally leads to data processing errors or model training problems later."
      ]
    },
    {
      "cell_type": "code",
      "execution_count": 5,
      "metadata": {
        "id": "z5E3gAxm8f4O"
      },
      "outputs": [],
      "source": [
        "df = pd.read_csv(path/'train.csv', low_memory=False)"
      ]
    },
    {
      "cell_type": "code",
      "execution_count": 6,
      "metadata": {
        "colab": {
          "base_uri": "https://localhost:8080/"
        },
        "id": "tTPw0RHs8f4O",
        "outputId": "d5df4a3b-1abd-4d62-d4eb-41b3aba8f6af"
      },
      "outputs": [
        {
          "output_type": "execute_result",
          "data": {
            "text/plain": [
              "Index(['id', 'amount_tsh', 'date_recorded', 'funder', 'gps_height',\n",
              "       'installer', 'longitude', 'latitude', 'wpt_name', 'num_private',\n",
              "       'basin', 'subvillage', 'region', 'region_code', 'district_code', 'lga',\n",
              "       'ward', 'population', 'public_meeting', 'recorded_by',\n",
              "       'scheme_management', 'scheme_name', 'permit', 'construction_year',\n",
              "       'extraction_type', 'extraction_type_group', 'extraction_type_class',\n",
              "       'management', 'management_group', 'payment', 'payment_type',\n",
              "       'water_quality', 'quality_group', 'quantity', 'quantity_group',\n",
              "       'source', 'source_type', 'source_class', 'waterpoint_type',\n",
              "       'waterpoint_type_group', 'status_group'],\n",
              "      dtype='object')"
            ]
          },
          "metadata": {},
          "execution_count": 6
        }
      ],
      "source": [
        "df.columns"
      ]
    },
    {
      "cell_type": "code",
      "execution_count": 7,
      "metadata": {
        "id": "lGDxGl3n8f4Q"
      },
      "outputs": [],
      "source": [
        "dep_var = 'status_group'"
      ]
    },
    {
      "cell_type": "markdown",
      "metadata": {
        "id": "2qkIXxVf8f4Q"
      },
      "source": [
        "We are now ready to explore our first machine learning algorithm for tabular data: decision trees."
      ]
    },
    {
      "cell_type": "markdown",
      "metadata": {
        "id": "syOMXA8u8f4Q"
      },
      "source": [
        "## Decision Trees"
      ]
    },
    {
      "cell_type": "markdown",
      "metadata": {
        "id": "B0lFLXST8f4T"
      },
      "source": [
        "A piece of preparatory processing is to be sure we can handle strings and missing data. Out of the box, sklearn cannot do either. Instead we will use fastai's class `TabularPandas`, which wraps a Pandas DataFrame and provides a few conveniences. To populate a `TabularPandas`, we will use two  `TabularProc`s, `Categorify` and `FillMissing`. A `TabularProc` is like a regular `Transform`, except that:\n",
        "\n",
        "- It returns the exact same object that's passed to it, after modifying the object in place.\n",
        "- It runs the transform once, when data is first passed in, rather than lazily as the data is accessed.\n",
        "\n",
        "`Categorify` is a `TabularProc` that replaces a column with a numeric categorical column. `FillMissing` is a `TabularProc` that replaces missing values with the median of the column, and creates a new Boolean column that is set to `True` for any row where the value was missing. These two transforms are needed for nearly every tabular dataset you will use, so this is a good starting point for your data processing:"
      ]
    },
    {
      "cell_type": "code",
      "execution_count": 8,
      "metadata": {
        "id": "xnQ7Exiq8f4T"
      },
      "outputs": [],
      "source": [
        "procs = [Categorify, FillMissing]"
      ]
    },
    {
      "cell_type": "markdown",
      "metadata": {
        "id": "AXEh-jZI8f4T"
      },
      "source": [
        "`TabularPandas` will also handle splitting the dataset into training and validation sets for us. However we need to be very careful about our validation set. We want to design it so that it is like the *test set* Kaggle will use to judge the contest.\n",
        "\n",
        "We don't get to see the test set. But we do want to define our validation data so that it has the same sort of relationship to the training data as the test set will have.\n",
        "\n",
        "In some cases, just randomly choosing a subset of your data points will do that."
      ]
    },
    {
      "cell_type": "markdown",
      "metadata": {
        "id": "ww_-RDjE8f4T"
      },
      "source": [
        "`TabularPandas` needs to be told which columns are continuous and which are categorical. We can handle that automatically using the helper function `cont_cat_split`:"
      ]
    },
    {
      "cell_type": "code",
      "execution_count": 9,
      "metadata": {
        "id": "-gvxcESN8f4T"
      },
      "outputs": [],
      "source": [
        "cont,cat = cont_cat_split(df, 1, dep_var=dep_var)"
      ]
    },
    {
      "cell_type": "code",
      "source": [
        "cont"
      ],
      "metadata": {
        "colab": {
          "base_uri": "https://localhost:8080/"
        },
        "id": "d6KtMIjI_MPC",
        "outputId": "7ac1e5eb-d40d-465d-e9ad-ae6ae0dc8a83"
      },
      "execution_count": 10,
      "outputs": [
        {
          "output_type": "execute_result",
          "data": {
            "text/plain": [
              "['id',\n",
              " 'amount_tsh',\n",
              " 'gps_height',\n",
              " 'longitude',\n",
              " 'latitude',\n",
              " 'num_private',\n",
              " 'region_code',\n",
              " 'district_code',\n",
              " 'population',\n",
              " 'construction_year']"
            ]
          },
          "metadata": {},
          "execution_count": 10
        }
      ]
    },
    {
      "cell_type": "code",
      "source": [
        "del cont[0]"
      ],
      "metadata": {
        "id": "0kMNJtgRqWaS"
      },
      "execution_count": 11,
      "outputs": []
    },
    {
      "cell_type": "code",
      "source": [
        "cat"
      ],
      "metadata": {
        "colab": {
          "base_uri": "https://localhost:8080/"
        },
        "id": "5Qd5Dsd59jdm",
        "outputId": "399d7ac8-71c9-4544-fe92-0502723d9827"
      },
      "execution_count": 12,
      "outputs": [
        {
          "output_type": "execute_result",
          "data": {
            "text/plain": [
              "['date_recorded',\n",
              " 'funder',\n",
              " 'installer',\n",
              " 'wpt_name',\n",
              " 'basin',\n",
              " 'subvillage',\n",
              " 'region',\n",
              " 'lga',\n",
              " 'ward',\n",
              " 'public_meeting',\n",
              " 'recorded_by',\n",
              " 'scheme_management',\n",
              " 'scheme_name',\n",
              " 'permit',\n",
              " 'extraction_type',\n",
              " 'extraction_type_group',\n",
              " 'extraction_type_class',\n",
              " 'management',\n",
              " 'management_group',\n",
              " 'payment',\n",
              " 'payment_type',\n",
              " 'water_quality',\n",
              " 'quality_group',\n",
              " 'quantity',\n",
              " 'quantity_group',\n",
              " 'source',\n",
              " 'source_type',\n",
              " 'source_class',\n",
              " 'waterpoint_type',\n",
              " 'waterpoint_type_group']"
            ]
          },
          "metadata": {},
          "execution_count": 12
        }
      ]
    },
    {
      "cell_type": "code",
      "source": [
        "splits = RandomSplitter(valid_pct=0.2)(range_of(df))"
      ],
      "metadata": {
        "id": "G-nfM33fBjAq"
      },
      "execution_count": 13,
      "outputs": []
    },
    {
      "cell_type": "code",
      "execution_count": 14,
      "metadata": {
        "id": "K3Yovyuz8f4U"
      },
      "outputs": [],
      "source": [
        "to = TabularPandas(df, procs, cat, cont, y_names=dep_var,splits=splits)"
      ]
    },
    {
      "cell_type": "markdown",
      "metadata": {
        "id": "M4KXFkVN8f4U"
      },
      "source": [
        "A `TabularPandas` behaves a lot like a fastai `Datasets` object, including providing `train` and `valid` attributes:"
      ]
    },
    {
      "cell_type": "code",
      "execution_count": 15,
      "metadata": {
        "colab": {
          "base_uri": "https://localhost:8080/"
        },
        "id": "OQKOya6m8f4U",
        "outputId": "acdca8f3-efe0-41b5-b06a-704a0252e6ba"
      },
      "outputs": [
        {
          "output_type": "execute_result",
          "data": {
            "text/plain": [
              "(47520, 11880)"
            ]
          },
          "metadata": {},
          "execution_count": 15
        }
      ],
      "source": [
        "len(to.train),len(to.valid)"
      ]
    },
    {
      "cell_type": "markdown",
      "metadata": {
        "id": "kh26Fz-h8f4U"
      },
      "source": [
        "We can see that the data is still displayed as strings for categories (we only show a few columns here because the full table is too big to fit on a page):"
      ]
    },
    {
      "cell_type": "code",
      "execution_count": 16,
      "metadata": {
        "colab": {
          "base_uri": "https://localhost:8080/",
          "height": 285
        },
        "id": "N0RYF9Rs8f4U",
        "outputId": "badb4d80-1302-4248-aa62-ae226006684a"
      },
      "outputs": [
        {
          "output_type": "display_data",
          "data": {
            "text/plain": [
              "<IPython.core.display.HTML object>"
            ],
            "text/html": [
              "<table border=\"1\" class=\"dataframe\">\n",
              "  <thead>\n",
              "    <tr style=\"text-align: right;\">\n",
              "      <th></th>\n",
              "      <th>date_recorded</th>\n",
              "      <th>funder</th>\n",
              "      <th>installer</th>\n",
              "      <th>wpt_name</th>\n",
              "      <th>basin</th>\n",
              "      <th>subvillage</th>\n",
              "      <th>region</th>\n",
              "      <th>lga</th>\n",
              "      <th>ward</th>\n",
              "      <th>public_meeting</th>\n",
              "      <th>recorded_by</th>\n",
              "      <th>scheme_management</th>\n",
              "      <th>scheme_name</th>\n",
              "      <th>permit</th>\n",
              "      <th>extraction_type</th>\n",
              "      <th>extraction_type_group</th>\n",
              "      <th>extraction_type_class</th>\n",
              "      <th>management</th>\n",
              "      <th>management_group</th>\n",
              "      <th>payment</th>\n",
              "      <th>payment_type</th>\n",
              "      <th>water_quality</th>\n",
              "      <th>quality_group</th>\n",
              "      <th>quantity</th>\n",
              "      <th>quantity_group</th>\n",
              "      <th>source</th>\n",
              "      <th>source_type</th>\n",
              "      <th>source_class</th>\n",
              "      <th>waterpoint_type</th>\n",
              "      <th>waterpoint_type_group</th>\n",
              "      <th>amount_tsh</th>\n",
              "      <th>gps_height</th>\n",
              "      <th>longitude</th>\n",
              "      <th>latitude</th>\n",
              "      <th>num_private</th>\n",
              "      <th>region_code</th>\n",
              "      <th>district_code</th>\n",
              "      <th>population</th>\n",
              "      <th>construction_year</th>\n",
              "      <th>status_group</th>\n",
              "    </tr>\n",
              "  </thead>\n",
              "  <tbody>\n",
              "    <tr>\n",
              "      <th>6221</th>\n",
              "      <td>11/2/2012</td>\n",
              "      <td>World Bank</td>\n",
              "      <td>VICTORIA DRILL CO</td>\n",
              "      <td>Kwa Salehe</td>\n",
              "      <td>Lake Victoria</td>\n",
              "      <td>Nyabikere</td>\n",
              "      <td>Mara</td>\n",
              "      <td>Bunda</td>\n",
              "      <td>Nyamuswa</td>\n",
              "      <td>#na#</td>\n",
              "      <td>GeoData Consultants Ltd</td>\n",
              "      <td>#na#</td>\n",
              "      <td>#na#</td>\n",
              "      <td>False</td>\n",
              "      <td>other</td>\n",
              "      <td>other</td>\n",
              "      <td>other</td>\n",
              "      <td>unknown</td>\n",
              "      <td>unknown</td>\n",
              "      <td>unknown</td>\n",
              "      <td>unknown</td>\n",
              "      <td>unknown</td>\n",
              "      <td>unknown</td>\n",
              "      <td>unknown</td>\n",
              "      <td>unknown</td>\n",
              "      <td>machine dbh</td>\n",
              "      <td>borehole</td>\n",
              "      <td>groundwater</td>\n",
              "      <td>other</td>\n",
              "      <td>other</td>\n",
              "      <td>0.0</td>\n",
              "      <td>1332</td>\n",
              "      <td>34.010181</td>\n",
              "      <td>-1.889174</td>\n",
              "      <td>0</td>\n",
              "      <td>20</td>\n",
              "      <td>4</td>\n",
              "      <td>250</td>\n",
              "      <td>2011</td>\n",
              "      <td>non functional</td>\n",
              "    </tr>\n",
              "    <tr>\n",
              "      <th>23530</th>\n",
              "      <td>10/18/2012</td>\n",
              "      <td>World Vision</td>\n",
              "      <td>Consuting Engineer</td>\n",
              "      <td>Kakora B</td>\n",
              "      <td>Internal</td>\n",
              "      <td>Kakora</td>\n",
              "      <td>Tabora</td>\n",
              "      <td>Nzega</td>\n",
              "      <td>Itobo</td>\n",
              "      <td>True</td>\n",
              "      <td>GeoData Consultants Ltd</td>\n",
              "      <td>VWC</td>\n",
              "      <td>#na#</td>\n",
              "      <td>False</td>\n",
              "      <td>nira/tanira</td>\n",
              "      <td>nira/tanira</td>\n",
              "      <td>handpump</td>\n",
              "      <td>vwc</td>\n",
              "      <td>user-group</td>\n",
              "      <td>pay when scheme fails</td>\n",
              "      <td>on failure</td>\n",
              "      <td>soft</td>\n",
              "      <td>good</td>\n",
              "      <td>seasonal</td>\n",
              "      <td>seasonal</td>\n",
              "      <td>shallow well</td>\n",
              "      <td>shallow well</td>\n",
              "      <td>groundwater</td>\n",
              "      <td>hand pump</td>\n",
              "      <td>hand pump</td>\n",
              "      <td>0.0</td>\n",
              "      <td>0</td>\n",
              "      <td>33.025959</td>\n",
              "      <td>-4.235394</td>\n",
              "      <td>0</td>\n",
              "      <td>14</td>\n",
              "      <td>1</td>\n",
              "      <td>0</td>\n",
              "      <td>0</td>\n",
              "      <td>non functional</td>\n",
              "    </tr>\n",
              "    <tr>\n",
              "      <th>46633</th>\n",
              "      <td>3/22/2011</td>\n",
              "      <td>Water</td>\n",
              "      <td>Gover</td>\n",
              "      <td>Kilimahewa</td>\n",
              "      <td>Rufiji</td>\n",
              "      <td>Kilimahewa</td>\n",
              "      <td>Dodoma</td>\n",
              "      <td>Mpwapwa</td>\n",
              "      <td>Wotta</td>\n",
              "      <td>True</td>\n",
              "      <td>GeoData Consultants Ltd</td>\n",
              "      <td>VWC</td>\n",
              "      <td>#na#</td>\n",
              "      <td>True</td>\n",
              "      <td>nira/tanira</td>\n",
              "      <td>nira/tanira</td>\n",
              "      <td>handpump</td>\n",
              "      <td>vwc</td>\n",
              "      <td>user-group</td>\n",
              "      <td>never pay</td>\n",
              "      <td>never pay</td>\n",
              "      <td>soft</td>\n",
              "      <td>good</td>\n",
              "      <td>enough</td>\n",
              "      <td>enough</td>\n",
              "      <td>shallow well</td>\n",
              "      <td>shallow well</td>\n",
              "      <td>groundwater</td>\n",
              "      <td>hand pump</td>\n",
              "      <td>hand pump</td>\n",
              "      <td>0.0</td>\n",
              "      <td>0</td>\n",
              "      <td>36.290272</td>\n",
              "      <td>-6.648475</td>\n",
              "      <td>0</td>\n",
              "      <td>1</td>\n",
              "      <td>1</td>\n",
              "      <td>0</td>\n",
              "      <td>0</td>\n",
              "      <td>functional</td>\n",
              "    </tr>\n",
              "  </tbody>\n",
              "</table>"
            ]
          },
          "metadata": {}
        }
      ],
      "source": [
        "#hide_output\n",
        "to.show(3)"
      ]
    },
    {
      "cell_type": "markdown",
      "metadata": {
        "id": "Q4qhvACb8f4V"
      },
      "source": [
        "However, the underlying items are all numeric:"
      ]
    },
    {
      "cell_type": "code",
      "execution_count": 17,
      "metadata": {
        "colab": {
          "base_uri": "https://localhost:8080/",
          "height": 173
        },
        "id": "dOccNz_q8f4V",
        "outputId": "1ce14599-7c52-44fd-c553-819ea959f7ac"
      },
      "outputs": [
        {
          "output_type": "execute_result",
          "data": {
            "text/plain": [
              "          id  amount_tsh  date_recorded  funder  ...  source_class  \\\n",
              "6221   53999         0.0             81    1866  ...             1   \n",
              "23530  70434         0.0             46    1868  ...             1   \n",
              "46633  69113         0.0            190    1830  ...             1   \n",
              "\n",
              "       waterpoint_type  waterpoint_type_group  status_group  \n",
              "6221                 7                      6             2  \n",
              "23530                5                      4             2  \n",
              "46633                5                      4             0  \n",
              "\n",
              "[3 rows x 41 columns]"
            ],
            "text/html": [
              "\n",
              "  <div id=\"df-64e66ba2-faf7-4c22-8a65-f3cdc3dcf825\">\n",
              "    <div class=\"colab-df-container\">\n",
              "      <div>\n",
              "<style scoped>\n",
              "    .dataframe tbody tr th:only-of-type {\n",
              "        vertical-align: middle;\n",
              "    }\n",
              "\n",
              "    .dataframe tbody tr th {\n",
              "        vertical-align: top;\n",
              "    }\n",
              "\n",
              "    .dataframe thead th {\n",
              "        text-align: right;\n",
              "    }\n",
              "</style>\n",
              "<table border=\"1\" class=\"dataframe\">\n",
              "  <thead>\n",
              "    <tr style=\"text-align: right;\">\n",
              "      <th></th>\n",
              "      <th>id</th>\n",
              "      <th>amount_tsh</th>\n",
              "      <th>date_recorded</th>\n",
              "      <th>funder</th>\n",
              "      <th>...</th>\n",
              "      <th>source_class</th>\n",
              "      <th>waterpoint_type</th>\n",
              "      <th>waterpoint_type_group</th>\n",
              "      <th>status_group</th>\n",
              "    </tr>\n",
              "  </thead>\n",
              "  <tbody>\n",
              "    <tr>\n",
              "      <th>6221</th>\n",
              "      <td>53999</td>\n",
              "      <td>0.0</td>\n",
              "      <td>81</td>\n",
              "      <td>1866</td>\n",
              "      <td>...</td>\n",
              "      <td>1</td>\n",
              "      <td>7</td>\n",
              "      <td>6</td>\n",
              "      <td>2</td>\n",
              "    </tr>\n",
              "    <tr>\n",
              "      <th>23530</th>\n",
              "      <td>70434</td>\n",
              "      <td>0.0</td>\n",
              "      <td>46</td>\n",
              "      <td>1868</td>\n",
              "      <td>...</td>\n",
              "      <td>1</td>\n",
              "      <td>5</td>\n",
              "      <td>4</td>\n",
              "      <td>2</td>\n",
              "    </tr>\n",
              "    <tr>\n",
              "      <th>46633</th>\n",
              "      <td>69113</td>\n",
              "      <td>0.0</td>\n",
              "      <td>190</td>\n",
              "      <td>1830</td>\n",
              "      <td>...</td>\n",
              "      <td>1</td>\n",
              "      <td>5</td>\n",
              "      <td>4</td>\n",
              "      <td>0</td>\n",
              "    </tr>\n",
              "  </tbody>\n",
              "</table>\n",
              "<p>3 rows × 41 columns</p>\n",
              "</div>\n",
              "      <button class=\"colab-df-convert\" onclick=\"convertToInteractive('df-64e66ba2-faf7-4c22-8a65-f3cdc3dcf825')\"\n",
              "              title=\"Convert this dataframe to an interactive table.\"\n",
              "              style=\"display:none;\">\n",
              "        \n",
              "  <svg xmlns=\"http://www.w3.org/2000/svg\" height=\"24px\"viewBox=\"0 0 24 24\"\n",
              "       width=\"24px\">\n",
              "    <path d=\"M0 0h24v24H0V0z\" fill=\"none\"/>\n",
              "    <path d=\"M18.56 5.44l.94 2.06.94-2.06 2.06-.94-2.06-.94-.94-2.06-.94 2.06-2.06.94zm-11 1L8.5 8.5l.94-2.06 2.06-.94-2.06-.94L8.5 2.5l-.94 2.06-2.06.94zm10 10l.94 2.06.94-2.06 2.06-.94-2.06-.94-.94-2.06-.94 2.06-2.06.94z\"/><path d=\"M17.41 7.96l-1.37-1.37c-.4-.4-.92-.59-1.43-.59-.52 0-1.04.2-1.43.59L10.3 9.45l-7.72 7.72c-.78.78-.78 2.05 0 2.83L4 21.41c.39.39.9.59 1.41.59.51 0 1.02-.2 1.41-.59l7.78-7.78 2.81-2.81c.8-.78.8-2.07 0-2.86zM5.41 20L4 18.59l7.72-7.72 1.47 1.35L5.41 20z\"/>\n",
              "  </svg>\n",
              "      </button>\n",
              "      \n",
              "  <style>\n",
              "    .colab-df-container {\n",
              "      display:flex;\n",
              "      flex-wrap:wrap;\n",
              "      gap: 12px;\n",
              "    }\n",
              "\n",
              "    .colab-df-convert {\n",
              "      background-color: #E8F0FE;\n",
              "      border: none;\n",
              "      border-radius: 50%;\n",
              "      cursor: pointer;\n",
              "      display: none;\n",
              "      fill: #1967D2;\n",
              "      height: 32px;\n",
              "      padding: 0 0 0 0;\n",
              "      width: 32px;\n",
              "    }\n",
              "\n",
              "    .colab-df-convert:hover {\n",
              "      background-color: #E2EBFA;\n",
              "      box-shadow: 0px 1px 2px rgba(60, 64, 67, 0.3), 0px 1px 3px 1px rgba(60, 64, 67, 0.15);\n",
              "      fill: #174EA6;\n",
              "    }\n",
              "\n",
              "    [theme=dark] .colab-df-convert {\n",
              "      background-color: #3B4455;\n",
              "      fill: #D2E3FC;\n",
              "    }\n",
              "\n",
              "    [theme=dark] .colab-df-convert:hover {\n",
              "      background-color: #434B5C;\n",
              "      box-shadow: 0px 1px 3px 1px rgba(0, 0, 0, 0.15);\n",
              "      filter: drop-shadow(0px 1px 2px rgba(0, 0, 0, 0.3));\n",
              "      fill: #FFFFFF;\n",
              "    }\n",
              "  </style>\n",
              "\n",
              "      <script>\n",
              "        const buttonEl =\n",
              "          document.querySelector('#df-64e66ba2-faf7-4c22-8a65-f3cdc3dcf825 button.colab-df-convert');\n",
              "        buttonEl.style.display =\n",
              "          google.colab.kernel.accessAllowed ? 'block' : 'none';\n",
              "\n",
              "        async function convertToInteractive(key) {\n",
              "          const element = document.querySelector('#df-64e66ba2-faf7-4c22-8a65-f3cdc3dcf825');\n",
              "          const dataTable =\n",
              "            await google.colab.kernel.invokeFunction('convertToInteractive',\n",
              "                                                     [key], {});\n",
              "          if (!dataTable) return;\n",
              "\n",
              "          const docLinkHtml = 'Like what you see? Visit the ' +\n",
              "            '<a target=\"_blank\" href=https://colab.research.google.com/notebooks/data_table.ipynb>data table notebook</a>'\n",
              "            + ' to learn more about interactive tables.';\n",
              "          element.innerHTML = '';\n",
              "          dataTable['output_type'] = 'display_data';\n",
              "          await google.colab.output.renderOutput(dataTable, element);\n",
              "          const docLink = document.createElement('div');\n",
              "          docLink.innerHTML = docLinkHtml;\n",
              "          element.appendChild(docLink);\n",
              "        }\n",
              "      </script>\n",
              "    </div>\n",
              "  </div>\n",
              "  "
            ]
          },
          "metadata": {},
          "execution_count": 17
        }
      ],
      "source": [
        "#hide_output\n",
        "to.items.head(3)"
      ]
    },
    {
      "cell_type": "markdown",
      "metadata": {
        "id": "HOwfyZ148f4W"
      },
      "source": [
        "The conversion of categorical columns to numbers is done by simply replacing each unique level with a number. The numbers associated with the levels are chosen consecutively as they are seen in a column, so there's no particular meaning to the numbers in categorical columns after conversion. The exception is if you first convert a column to a Pandas ordered category, in which case the ordering you chose is used. We can see the mapping by looking at the `classes` attribute:"
      ]
    },
    {
      "cell_type": "markdown",
      "metadata": {
        "id": "DwgxBkJ68f4W"
      },
      "source": [
        "Since it takes a minute or so to process the data to get to this point, we should save it—that way in the future we can continue our work from here without rerunning the previous steps. fastai provides a `save` method that uses Python's *pickle* system to save nearly any Python object:"
      ]
    },
    {
      "cell_type": "code",
      "execution_count": 18,
      "metadata": {
        "id": "Powg4oLx8f4W"
      },
      "outputs": [],
      "source": [
        "save_pickle(path/'to.pkl',to)"
      ]
    },
    {
      "cell_type": "markdown",
      "metadata": {
        "id": "d04Y5wgj8f4W"
      },
      "source": [
        "To read this back later, you would type:\n",
        "\n",
        "```python\n",
        "to = (path/'to.pkl').load()\n",
        "```"
      ]
    },
    {
      "cell_type": "markdown",
      "metadata": {
        "id": "LMYAB3HH8f4W"
      },
      "source": [
        "Now that all this preprocessing is done, we are ready to create a decision tree."
      ]
    },
    {
      "cell_type": "markdown",
      "metadata": {
        "id": "z2Ej27kP8f4W"
      },
      "source": [
        "### Creating the Decision Tree"
      ]
    },
    {
      "cell_type": "markdown",
      "metadata": {
        "id": "3s7oMtvb8f4X"
      },
      "source": [
        "To begin, we define our independent and dependent variables:"
      ]
    },
    {
      "cell_type": "code",
      "execution_count": 19,
      "metadata": {
        "id": "tcxLkFOQ8f4X"
      },
      "outputs": [],
      "source": [
        "#hide\n",
        "to = load_pickle(path/'to.pkl')"
      ]
    },
    {
      "cell_type": "code",
      "execution_count": 20,
      "metadata": {
        "id": "UCmk3llV8f4X"
      },
      "outputs": [],
      "source": [
        "xs,y = to.train.xs,to.train.y\n",
        "valid_xs,valid_y = to.valid.xs,to.valid.y"
      ]
    },
    {
      "cell_type": "markdown",
      "metadata": {
        "id": "dDj-dYdv8f4c"
      },
      "source": [
        "## Random Forests"
      ]
    },
    {
      "cell_type": "markdown",
      "metadata": {
        "id": "XZq-JnXC8f4f"
      },
      "source": [
        "### Creating a Random Forest"
      ]
    },
    {
      "cell_type": "markdown",
      "metadata": {
        "id": "Xe2X_Sr68f4g"
      },
      "source": [
        "We can create a random forest just like we created a decision tree, except now, we are also specifying parameters that indicate how many trees should be in the forest, how we should subset the data items (the rows), and how we should subset the fields (the columns).\n",
        "\n",
        "In the following function definition `n_estimators` defines the number of trees we want, `max_samples` defines how many rows to sample for training each tree, and `max_features` defines how many columns to sample at each split point (where `0.5` means \"take half the total number of columns\"). We can also specify when to stop splitting the tree nodes, effectively limiting the depth of the tree, by including the same `min_samples_leaf` parameter we used in the last section. Finally, we pass `n_jobs=-1` to tell sklearn to use all our CPUs to build the trees in parallel. By creating a little function for this, we can more quickly try different variations in the rest of this chapter:"
      ]
    },
    {
      "cell_type": "code",
      "source": [
        "from sklearn.ensemble import RandomForestClassifier"
      ],
      "metadata": {
        "id": "7Np3n3RXrmLI"
      },
      "execution_count": 21,
      "outputs": []
    },
    {
      "cell_type": "code",
      "execution_count": 24,
      "metadata": {
        "id": "iik9J-XP8f4g"
      },
      "outputs": [],
      "source": [
        "def rf(xs, y, n_estimators=500, max_samples=20000,\n",
        "       max_features=0.5, min_samples_leaf=5, **kwargs):\n",
        "    return RandomForestClassifier(n_jobs=-1, n_estimators=n_estimators,\n",
        "        max_samples=max_samples, max_features=max_features,\n",
        "        min_samples_leaf=min_samples_leaf, oob_score=True).fit(xs, y)"
      ]
    },
    {
      "cell_type": "code",
      "execution_count": 25,
      "metadata": {
        "id": "ZM8fKM-K8f4g"
      },
      "outputs": [],
      "source": [
        "m = rf(xs, y);"
      ]
    },
    {
      "cell_type": "code",
      "execution_count": 26,
      "metadata": {
        "id": "twt8ki_28f4g"
      },
      "outputs": [],
      "source": [
        "yt_pre = m.predict(xs)\n",
        "yv_pre = m.predict(valid_xs)"
      ]
    },
    {
      "cell_type": "code",
      "source": [
        "from sklearn.metrics import accuracy_score\n",
        "accuracy_score(y, yt_pre)\n"
      ],
      "metadata": {
        "id": "_4d2X6_UsLZK",
        "outputId": "aa710677-8ee3-46a0-be4a-357af905ad84",
        "colab": {
          "base_uri": "https://localhost:8080/"
        }
      },
      "execution_count": 27,
      "outputs": [
        {
          "output_type": "execute_result",
          "data": {
            "text/plain": [
              "0.8591329966329966"
            ]
          },
          "metadata": {},
          "execution_count": 27
        }
      ]
    },
    {
      "cell_type": "code",
      "source": [
        "accuracy_score(valid_y, yv_pre)"
      ],
      "metadata": {
        "id": "VVhTB0CWseWY",
        "outputId": "0f7e2e72-3bb1-4576-b24c-a92c01b7997c",
        "colab": {
          "base_uri": "https://localhost:8080/"
        }
      },
      "execution_count": 28,
      "outputs": [
        {
          "output_type": "execute_result",
          "data": {
            "text/plain": [
              "0.802946127946128"
            ]
          },
          "metadata": {},
          "execution_count": 28
        }
      ]
    },
    {
      "cell_type": "code",
      "source": [
        "from sklearn.metrics import confusion_matrix\n",
        "cm = confusion_matrix(valid_y, yv_pre)\n",
        "import seaborn as sns\n",
        "from sklearn.metrics import confusion_matrix, ConfusionMatrixDisplay\n",
        "\n",
        "\n",
        "sns.heatmap(cm/np.sum(cm), annot=True, \n",
        "            fmt='.2%', cmap='Blues')"
      ],
      "metadata": {
        "id": "n-3LJF5cskZH",
        "outputId": "68eb61fa-bc45-4bd5-9554-f3faa0332869",
        "colab": {
          "base_uri": "https://localhost:8080/",
          "height": 285
        }
      },
      "execution_count": 29,
      "outputs": [
        {
          "output_type": "execute_result",
          "data": {
            "text/plain": [
              "<matplotlib.axes._subplots.AxesSubplot at 0x7f10723a1390>"
            ]
          },
          "metadata": {},
          "execution_count": 29
        },
        {
          "output_type": "display_data",
          "data": {
            "text/plain": [
              "<Figure size 432x288 with 2 Axes>"
            ],
            "image/png": "[encoded data removed]"
          },
          "metadata": {
            "needs_background": "light"
          }
        }
      ]
    },
    {
      "cell_type": "code",
      "source": [
        "disp = ConfusionMatrixDisplay(confusion_matrix=cm,display_labels=['funct','need rep','nonfunc'])\n",
        "disp.plot()\n",
        "plt.show()"
      ],
      "metadata": {
        "id": "Yg77TMF2uvNd",
        "outputId": "b51515d1-c3cc-420a-c542-92ef7554143d",
        "colab": {
          "base_uri": "https://localhost:8080/",
          "height": 279
        }
      },
      "execution_count": 30,
      "outputs": [
        {
          "output_type": "display_data",
          "data": {
            "text/plain": [
              "<Figure size 432x288 with 2 Axes>"
            ],
            "image/png": "[encoded data removed]"
          },
          "metadata": {
            "needs_background": "light"
          }
        }
      ]
    },
    {
      "cell_type": "markdown",
      "metadata": {
        "id": "eoUJN3rd8f4j"
      },
      "source": [
        "We are clearly not spoting the need for repairs and 40% of the non functional"
      ]
    },
    {
      "cell_type": "markdown",
      "metadata": {
        "id": "2v-Putnn8f4j"
      },
      "source": [
        "## Model Interpretation"
      ]
    },
    {
      "cell_type": "markdown",
      "metadata": {
        "id": "1qmUGnam8f4j"
      },
      "source": [
        "For tabular data, model interpretation is particularly important. For a given model, the things we are most likely to be interested in are:\n",
        "\n",
        "- How confident are we in our predictions using a particular row of data?\n",
        "- For predicting with a particular row of data, what were the most important factors, and how did they influence that prediction?\n",
        "- Which columns are the strongest predictors, which can we ignore?\n",
        "- Which columns are effectively redundant with each other, for purposes of prediction?\n",
        "- How do predictions vary, as we vary these columns?\n",
        "\n",
        "As we will see, random forests are particularly well suited to answering these questions. Let's start with the first one!"
      ]
    },
    {
      "cell_type": "markdown",
      "metadata": {
        "id": "BSubEH-m8f4l"
      },
      "source": [
        "### Feature Importance"
      ]
    },
    {
      "cell_type": "markdown",
      "metadata": {
        "id": "29tgatWm8f4l"
      },
      "source": [
        "It's not normally enough just to know that a model can make accurate predictions—we also want to know *how* it's making predictions. *feature importance* gives us insight into this. We can get these directly from sklearn's random forest by looking in the `feature_importances_` attribute. Here's a simple function we can use to pop them into a DataFrame and sort them:"
      ]
    },
    {
      "cell_type": "code",
      "execution_count": 31,
      "metadata": {
        "id": "9IwUIrkv8f4l"
      },
      "outputs": [],
      "source": [
        "def rf_feat_importance(m, df):\n",
        "    return pd.DataFrame({'cols':df.columns, 'imp':m.feature_importances_}\n",
        "                       ).sort_values('imp', ascending=False)"
      ]
    },
    {
      "cell_type": "markdown",
      "metadata": {
        "id": "95d7EiLy8f4l"
      },
      "source": [
        "The feature importances for our model show that the first few most important columns have much higher importance scores than the rest, with (not surprisingly) `YearMade` and `ProductSize` being at the top of the list:"
      ]
    },
    {
      "cell_type": "code",
      "execution_count": 32,
      "metadata": {
        "colab": {
          "base_uri": "https://localhost:8080/",
          "height": 363
        },
        "id": "TrcfxpOz8f4l",
        "outputId": "bb02ab24-c094-44e0-d439-7059cf27ab24"
      },
      "outputs": [
        {
          "output_type": "execute_result",
          "data": {
            "text/plain": [
              "                     cols       imp\n",
              "23               quantity  0.102369\n",
              "24         quantity_group  0.101516\n",
              "32              longitude  0.071021\n",
              "33               latitude  0.062723\n",
              "28        waterpoint_type  0.056012\n",
              "29  waterpoint_type_group  0.046995\n",
              "0           date_recorded  0.038315\n",
              "5              subvillage  0.038172\n",
              "3                wpt_name  0.037520\n",
              "38      construction_year  0.037483"
            ],
            "text/html": [
              "\n",
              "  <div id=\"df-3cd4ae51-29ad-4e9d-80ef-28ad235783c0\">\n",
              "    <div class=\"colab-df-container\">\n",
              "      <div>\n",
              "<style scoped>\n",
              "    .dataframe tbody tr th:only-of-type {\n",
              "        vertical-align: middle;\n",
              "    }\n",
              "\n",
              "    .dataframe tbody tr th {\n",
              "        vertical-align: top;\n",
              "    }\n",
              "\n",
              "    .dataframe thead th {\n",
              "        text-align: right;\n",
              "    }\n",
              "</style>\n",
              "<table border=\"1\" class=\"dataframe\">\n",
              "  <thead>\n",
              "    <tr style=\"text-align: right;\">\n",
              "      <th></th>\n",
              "      <th>cols</th>\n",
              "      <th>imp</th>\n",
              "    </tr>\n",
              "  </thead>\n",
              "  <tbody>\n",
              "    <tr>\n",
              "      <th>23</th>\n",
              "      <td>quantity</td>\n",
              "      <td>0.102369</td>\n",
              "    </tr>\n",
              "    <tr>\n",
              "      <th>24</th>\n",
              "      <td>quantity_group</td>\n",
              "      <td>0.101516</td>\n",
              "    </tr>\n",
              "    <tr>\n",
              "      <th>32</th>\n",
              "      <td>longitude</td>\n",
              "      <td>0.071021</td>\n",
              "    </tr>\n",
              "    <tr>\n",
              "      <th>33</th>\n",
              "      <td>latitude</td>\n",
              "      <td>0.062723</td>\n",
              "    </tr>\n",
              "    <tr>\n",
              "      <th>28</th>\n",
              "      <td>waterpoint_type</td>\n",
              "      <td>0.056012</td>\n",
              "    </tr>\n",
              "    <tr>\n",
              "      <th>29</th>\n",
              "      <td>waterpoint_type_group</td>\n",
              "      <td>0.046995</td>\n",
              "    </tr>\n",
              "    <tr>\n",
              "      <th>0</th>\n",
              "      <td>date_recorded</td>\n",
              "      <td>0.038315</td>\n",
              "    </tr>\n",
              "    <tr>\n",
              "      <th>5</th>\n",
              "      <td>subvillage</td>\n",
              "      <td>0.038172</td>\n",
              "    </tr>\n",
              "    <tr>\n",
              "      <th>3</th>\n",
              "      <td>wpt_name</td>\n",
              "      <td>0.037520</td>\n",
              "    </tr>\n",
              "    <tr>\n",
              "      <th>38</th>\n",
              "      <td>construction_year</td>\n",
              "      <td>0.037483</td>\n",
              "    </tr>\n",
              "  </tbody>\n",
              "</table>\n",
              "</div>\n",
              "      <button class=\"colab-df-convert\" onclick=\"convertToInteractive('df-3cd4ae51-29ad-4e9d-80ef-28ad235783c0')\"\n",
              "              title=\"Convert this dataframe to an interactive table.\"\n",
              "              style=\"display:none;\">\n",
              "        \n",
              "  <svg xmlns=\"http://www.w3.org/2000/svg\" height=\"24px\"viewBox=\"0 0 24 24\"\n",
              "       width=\"24px\">\n",
              "    <path d=\"M0 0h24v24H0V0z\" fill=\"none\"/>\n",
              "    <path d=\"M18.56 5.44l.94 2.06.94-2.06 2.06-.94-2.06-.94-.94-2.06-.94 2.06-2.06.94zm-11 1L8.5 8.5l.94-2.06 2.06-.94-2.06-.94L8.5 2.5l-.94 2.06-2.06.94zm10 10l.94 2.06.94-2.06 2.06-.94-2.06-.94-.94-2.06-.94 2.06-2.06.94z\"/><path d=\"M17.41 7.96l-1.37-1.37c-.4-.4-.92-.59-1.43-.59-.52 0-1.04.2-1.43.59L10.3 9.45l-7.72 7.72c-.78.78-.78 2.05 0 2.83L4 21.41c.39.39.9.59 1.41.59.51 0 1.02-.2 1.41-.59l7.78-7.78 2.81-2.81c.8-.78.8-2.07 0-2.86zM5.41 20L4 18.59l7.72-7.72 1.47 1.35L5.41 20z\"/>\n",
              "  </svg>\n",
              "      </button>\n",
              "      \n",
              "  <style>\n",
              "    .colab-df-container {\n",
              "      display:flex;\n",
              "      flex-wrap:wrap;\n",
              "      gap: 12px;\n",
              "    }\n",
              "\n",
              "    .colab-df-convert {\n",
              "      background-color: #E8F0FE;\n",
              "      border: none;\n",
              "      border-radius: 50%;\n",
              "      cursor: pointer;\n",
              "      display: none;\n",
              "      fill: #1967D2;\n",
              "      height: 32px;\n",
              "      padding: 0 0 0 0;\n",
              "      width: 32px;\n",
              "    }\n",
              "\n",
              "    .colab-df-convert:hover {\n",
              "      background-color: #E2EBFA;\n",
              "      box-shadow: 0px 1px 2px rgba(60, 64, 67, 0.3), 0px 1px 3px 1px rgba(60, 64, 67, 0.15);\n",
              "      fill: #174EA6;\n",
              "    }\n",
              "\n",
              "    [theme=dark] .colab-df-convert {\n",
              "      background-color: #3B4455;\n",
              "      fill: #D2E3FC;\n",
              "    }\n",
              "\n",
              "    [theme=dark] .colab-df-convert:hover {\n",
              "      background-color: #434B5C;\n",
              "      box-shadow: 0px 1px 3px 1px rgba(0, 0, 0, 0.15);\n",
              "      filter: drop-shadow(0px 1px 2px rgba(0, 0, 0, 0.3));\n",
              "      fill: #FFFFFF;\n",
              "    }\n",
              "  </style>\n",
              "\n",
              "      <script>\n",
              "        const buttonEl =\n",
              "          document.querySelector('#df-3cd4ae51-29ad-4e9d-80ef-28ad235783c0 button.colab-df-convert');\n",
              "        buttonEl.style.display =\n",
              "          google.colab.kernel.accessAllowed ? 'block' : 'none';\n",
              "\n",
              "        async function convertToInteractive(key) {\n",
              "          const element = document.querySelector('#df-3cd4ae51-29ad-4e9d-80ef-28ad235783c0');\n",
              "          const dataTable =\n",
              "            await google.colab.kernel.invokeFunction('convertToInteractive',\n",
              "                                                     [key], {});\n",
              "          if (!dataTable) return;\n",
              "\n",
              "          const docLinkHtml = 'Like what you see? Visit the ' +\n",
              "            '<a target=\"_blank\" href=https://colab.research.google.com/notebooks/data_table.ipynb>data table notebook</a>'\n",
              "            + ' to learn more about interactive tables.';\n",
              "          element.innerHTML = '';\n",
              "          dataTable['output_type'] = 'display_data';\n",
              "          await google.colab.output.renderOutput(dataTable, element);\n",
              "          const docLink = document.createElement('div');\n",
              "          docLink.innerHTML = docLinkHtml;\n",
              "          element.appendChild(docLink);\n",
              "        }\n",
              "      </script>\n",
              "    </div>\n",
              "  </div>\n",
              "  "
            ]
          },
          "metadata": {},
          "execution_count": 32
        }
      ],
      "source": [
        "fi = rf_feat_importance(m, xs)\n",
        "fi[:10]"
      ]
    },
    {
      "cell_type": "markdown",
      "metadata": {
        "id": "TfLxIFom8f4m"
      },
      "source": [
        "A plot of the feature importances shows the relative importances more clearly:"
      ]
    },
    {
      "cell_type": "code",
      "execution_count": 33,
      "metadata": {
        "colab": {
          "base_uri": "https://localhost:8080/",
          "height": 428
        },
        "id": "PDqtw2cJ8f4m",
        "outputId": "ae0eb9a0-51a6-4959-cea9-8cc02c9e9411"
      },
      "outputs": [
        {
          "output_type": "display_data",
          "data": {
            "text/plain": [
              "<Figure size 864x504 with 1 Axes>"
            ],
            "image/png": "[encoded data removed]"
          },
          "metadata": {
            "needs_background": "light"
          }
        }
      ],
      "source": [
        "def plot_fi(fi):\n",
        "    return fi.plot('cols', 'imp', 'barh', figsize=(12,7), legend=False)\n",
        "\n",
        "plot_fi(fi[:30]);"
      ]
    },
    {
      "cell_type": "markdown",
      "metadata": {
        "id": "chimKx5k8f4m"
      },
      "source": [
        "The way these importances are calculated is quite simple yet elegant. The feature importance algorithm loops through each tree, and then recursively explores each branch. At each branch, it looks to see what feature was used for that split, and how much the model improves as a result of that split. The improvement (weighted by the number of rows in that group) is added to the importance score for that feature. This is summed across all branches of all trees, and finally the scores are normalized such that they add to 1."
      ]
    },
    {
      "cell_type": "markdown",
      "metadata": {
        "id": "qHT6jj-_8f4m"
      },
      "source": [
        "### Removing Low-Importance Variables"
      ]
    },
    {
      "cell_type": "markdown",
      "metadata": {
        "id": "FK6GAslL8f4m"
      },
      "source": [
        "It seems likely that we could use just a subset of the columns by removing the variables of low importance and still get good results. Let's try just keeping those with a feature importance greater than 0.005:"
      ]
    },
    {
      "cell_type": "code",
      "execution_count": 34,
      "metadata": {
        "colab": {
          "base_uri": "https://localhost:8080/"
        },
        "id": "Qjh75Z-W8f4m",
        "outputId": "769de0e0-c729-425a-eab1-b8c7e3f12f5f"
      },
      "outputs": [
        {
          "output_type": "execute_result",
          "data": {
            "text/plain": [
              "31"
            ]
          },
          "metadata": {},
          "execution_count": 34
        }
      ],
      "source": [
        "to_keep = fi[fi.imp>0.005].cols\n",
        "len(to_keep)"
      ]
    },
    {
      "cell_type": "markdown",
      "metadata": {
        "id": "0xmsRTI78f4m"
      },
      "source": [
        "We can retrain our model using just this subset of the columns:"
      ]
    },
    {
      "cell_type": "code",
      "execution_count": 35,
      "metadata": {
        "id": "W-D11gi18f4m"
      },
      "outputs": [],
      "source": [
        "xs_imp = xs[to_keep]\n",
        "valid_xs_imp = valid_xs[to_keep]"
      ]
    },
    {
      "cell_type": "code",
      "execution_count": 36,
      "metadata": {
        "id": "oGoWHhg38f4n"
      },
      "outputs": [],
      "source": [
        "m = rf(xs_imp, y)"
      ]
    },
    {
      "cell_type": "markdown",
      "metadata": {
        "id": "lZ2sBXnT8f4n"
      },
      "source": [
        "And here's the result:"
      ]
    },
    {
      "cell_type": "code",
      "execution_count": 37,
      "metadata": {
        "id": "KyasAGqn8f4n"
      },
      "outputs": [],
      "source": [
        "yt_pre = m.predict(xs_imp)\n",
        "yv_pre = m.predict(valid_xs_imp)\n"
      ]
    },
    {
      "cell_type": "code",
      "source": [
        "accuracy_score(y, yt_pre)"
      ],
      "metadata": {
        "id": "s3wG_LwY3gbg",
        "outputId": "4ec2a316-a580-4ce3-e38f-1a29fb13c491",
        "colab": {
          "base_uri": "https://localhost:8080/"
        }
      },
      "execution_count": 38,
      "outputs": [
        {
          "output_type": "execute_result",
          "data": {
            "text/plain": [
              "0.8581649831649831"
            ]
          },
          "metadata": {},
          "execution_count": 38
        }
      ]
    },
    {
      "cell_type": "code",
      "source": [
        "accuracy_score(valid_y, yv_pre)"
      ],
      "metadata": {
        "id": "Zg7pbuEz3lih",
        "outputId": "01d9dfce-2866-4472-a60c-203390d3c94a",
        "colab": {
          "base_uri": "https://localhost:8080/"
        }
      },
      "execution_count": 39,
      "outputs": [
        {
          "output_type": "execute_result",
          "data": {
            "text/plain": [
              "0.7998316498316498"
            ]
          },
          "metadata": {},
          "execution_count": 39
        }
      ]
    },
    {
      "cell_type": "markdown",
      "metadata": {
        "id": "p9NTZLaF8f4n"
      },
      "source": [
        "Our accuracy is about the same, but we have far fewer columns to study:"
      ]
    },
    {
      "cell_type": "code",
      "execution_count": 40,
      "metadata": {
        "colab": {
          "base_uri": "https://localhost:8080/"
        },
        "id": "YPpMestg8f4n",
        "outputId": "ef7cb164-605c-47c5-ffc4-5146ea9a6a65"
      },
      "outputs": [
        {
          "output_type": "execute_result",
          "data": {
            "text/plain": [
              "(39, 31)"
            ]
          },
          "metadata": {},
          "execution_count": 40
        }
      ],
      "source": [
        "len(xs.columns), len(xs_imp.columns)"
      ]
    },
    {
      "cell_type": "markdown",
      "metadata": {
        "id": "m_ZaZB5J8f4o"
      },
      "source": [
        "We've found that generally the first step to improving a model is simplifying it—83 columns was too many for us to study them all in depth! Furthermore, in practice often a simpler, more interpretable model is easier to roll out and maintain.\n",
        "\n",
        "This also makes our feature importance plot easier to interpret. Let's look at it again:"
      ]
    },
    {
      "cell_type": "code",
      "execution_count": 41,
      "metadata": {
        "colab": {
          "base_uri": "https://localhost:8080/",
          "height": 428
        },
        "id": "vI4-KmCc8f4o",
        "outputId": "97ebb9ed-a92f-4ac4-9798-551ff1ed5ab6"
      },
      "outputs": [
        {
          "output_type": "display_data",
          "data": {
            "text/plain": [
              "<Figure size 864x504 with 1 Axes>"
            ],
            "image/png": "[encoded data removed]"
          },
          "metadata": {
            "needs_background": "light"
          }
        }
      ],
      "source": [
        "plot_fi(rf_feat_importance(m, xs_imp));"
      ]
    },
    {
      "cell_type": "markdown",
      "metadata": {
        "id": "2UthKH_L8f4o"
      },
      "source": [
        "One thing that makes this harder to interpret is that there seem to be some variables with very similar meanings: for example, `GarageArea` and `GarageCars`. Let's try to remove any redundent features. "
      ]
    },
    {
      "cell_type": "markdown",
      "metadata": {
        "id": "5Igw3HfU8f4o"
      },
      "source": [
        "### Removing Redundant Features"
      ]
    },
    {
      "cell_type": "markdown",
      "metadata": {
        "id": "qcRwRu298f4o"
      },
      "source": [
        "Let's start with:"
      ]
    },
    {
      "cell_type": "code",
      "execution_count": 42,
      "metadata": {
        "colab": {
          "base_uri": "https://localhost:8080/",
          "height": 374
        },
        "id": "y5qBdLN98f4o",
        "outputId": "6576f00f-02bf-49fe-cbf7-6923f21634a2"
      },
      "outputs": [
        {
          "output_type": "display_data",
          "data": {
            "text/plain": [
              "<Figure size 720x432 with 1 Axes>"
            ],
            "image/png": "[encoded data removed]"
          },
          "metadata": {
            "needs_background": "light"
          }
        }
      ],
      "source": [
        "cluster_columns(xs_imp)"
      ]
    },
    {
      "cell_type": "markdown",
      "metadata": {
        "id": "wKAk3dCF8f4o"
      },
      "source": [
        "In this chart, the pairs of columns that are most similar are the ones that were merged together early, far from the \"root\" of the tree at the left. \n",
        "\n",
        "> note: Determining Similarity: The most similar pairs are found by calculating the _rank correlation_, which means that all the values are replaced with their _rank_ (i.e., first, second, third, etc. within the column), and then the _correlation_ is calculated. (Feel free to skip over this minor detail though, since it's not going to come up again in the book!)\n",
        "\n",
        "Let's try removing some of these closely related features to see if the model can be simplified without impacting the accuracy. First, we create a function that quickly trains a random forest and returns the OOB score, by using a lower `max_samples` and higher `min_samples_leaf`. The OOB score is a number returned by sklearn that ranges between 1.0 for a perfect model and 0.0 for a random model. (In statistics it's called *R^2*, although the details aren't important for this explanation.) We don't need it to be very accurate—we're just going to use it to compare different models, based on removing some of the possibly redundant columns:"
      ]
    },
    {
      "cell_type": "code",
      "execution_count": 46,
      "metadata": {
        "id": "J5whsHai8f4p"
      },
      "outputs": [],
      "source": [
        "def get_oob(df):\n",
        "    m = RandomForestClassifier(n_estimators=500, min_samples_leaf=15,\n",
        "        max_samples=20000, max_features=0.5, n_jobs=-1, oob_score=True)\n",
        "    m.fit(df, y)\n",
        "    return m.oob_score_"
      ]
    },
    {
      "cell_type": "markdown",
      "metadata": {
        "id": "NX8fqTlo8f4p"
      },
      "source": [
        "Here's our baseline:"
      ]
    },
    {
      "cell_type": "code",
      "execution_count": 47,
      "metadata": {
        "colab": {
          "base_uri": "https://localhost:8080/"
        },
        "id": "IcmPOBGR8f4p",
        "outputId": "21b16774-8736-436e-fa80-d740921b3372"
      },
      "outputs": [
        {
          "output_type": "execute_result",
          "data": {
            "text/plain": [
              "0.786952861952862"
            ]
          },
          "metadata": {},
          "execution_count": 47
        }
      ],
      "source": [
        "get_oob(xs_imp)"
      ]
    },
    {
      "cell_type": "markdown",
      "metadata": {
        "id": "XUE0ki5D8f4p"
      },
      "source": [
        "Now we try removing each of our potentially redundant variables, one at a time:"
      ]
    },
    {
      "cell_type": "code",
      "execution_count": 48,
      "metadata": {
        "colab": {
          "base_uri": "https://localhost:8080/"
        },
        "id": "TSNvm3EX8f4p",
        "outputId": "ff6d8fbf-b919-45ed-8d03-52dd06d76a9f"
      },
      "outputs": [
        {
          "output_type": "execute_result",
          "data": {
            "text/plain": [
              "{'extraction_type_group': 0.7872685185185185,\n",
              " 'source_type': 0.7860058922558922,\n",
              " 'waterpoint_type_group': 0.7875420875420875}"
            ]
          },
          "metadata": {},
          "execution_count": 48
        }
      ],
      "source": [
        "{c:get_oob(xs_imp.drop(c, axis=1)) for c in (\n",
        "    'source_type', 'extraction_type_group', 'waterpoint_type_group')}"
      ]
    },
    {
      "cell_type": "markdown",
      "metadata": {
        "id": "681lon0_8f4p"
      },
      "source": [
        "Now let's try dropping multiple variables. We'll drop one from each of the tightly aligned pairs we noticed earlier. Let's see what that does:"
      ]
    },
    {
      "cell_type": "code",
      "execution_count": 49,
      "metadata": {
        "colab": {
          "base_uri": "https://localhost:8080/"
        },
        "id": "YoX-Jp-18f4p",
        "outputId": "4f07ec63-ab9a-41ce-85d2-75685b9e5473"
      },
      "outputs": [
        {
          "output_type": "execute_result",
          "data": {
            "text/plain": [
              "0.7865109427609428"
            ]
          },
          "metadata": {},
          "execution_count": 49
        }
      ],
      "source": [
        "to_drop = ['source_type', 'extraction_type_group', 'waterpoint_type_group']\n",
        "get_oob(xs_imp.drop(to_drop, axis=1))"
      ]
    },
    {
      "cell_type": "markdown",
      "metadata": {
        "id": "1DQJ_sAV8f4p"
      },
      "source": [
        "Looking good! This is really not much worse than the model with all the fields. Let's create DataFrames without these columns, and save them:"
      ]
    },
    {
      "cell_type": "code",
      "execution_count": 50,
      "metadata": {
        "id": "kyzIk7aa8f4q"
      },
      "outputs": [],
      "source": [
        "xs_final = xs_imp.drop(to_drop, axis=1)\n",
        "valid_xs_final = valid_xs_imp.drop(to_drop, axis=1)"
      ]
    },
    {
      "cell_type": "code",
      "execution_count": 51,
      "metadata": {
        "id": "TUo2lB7r8f4q"
      },
      "outputs": [],
      "source": [
        "save_pickle(path/'xs_final.pkl', xs_final)\n",
        "save_pickle(path/'valid_xs_final.pkl', valid_xs_final)"
      ]
    },
    {
      "cell_type": "markdown",
      "metadata": {
        "id": "-bHwugCK8f4q"
      },
      "source": [
        "We can load them back later with:"
      ]
    },
    {
      "cell_type": "code",
      "execution_count": 52,
      "metadata": {
        "id": "yGk1nfOH8f4q"
      },
      "outputs": [],
      "source": [
        "xs_final = load_pickle(path/'xs_final.pkl')\n",
        "valid_xs_final = load_pickle(path/'valid_xs_final.pkl')"
      ]
    },
    {
      "cell_type": "markdown",
      "metadata": {
        "id": "0I5hYcH58f4u"
      },
      "source": [
        "##Neural Networks"
      ]
    },
    {
      "cell_type": "markdown",
      "metadata": {
        "id": "Xc__xUoU8f4y"
      },
      "source": [
        "### Using a Neural Network"
      ]
    },
    {
      "cell_type": "markdown",
      "metadata": {
        "id": "yfatYVpX8f4y"
      },
      "source": [
        "We can use the same approach to build a neural network model. Let's first replicate the steps we took to set up the `TabularPandas` object:"
      ]
    },
    {
      "cell_type": "code",
      "execution_count": 53,
      "metadata": {
        "id": "QKHjnaBw8f4y"
      },
      "outputs": [],
      "source": [
        "df_nn = pd.read_csv(path/'train.csv', low_memory=False)"
      ]
    },
    {
      "cell_type": "markdown",
      "metadata": {
        "id": "LG8_GkyP8f4y"
      },
      "source": [
        "We can leverage the work we did to trim unwanted columns in the random forest by using the same set of columns for our neural network , plus high cardinality ones:"
      ]
    },
    {
      "cell_type": "code",
      "execution_count": 54,
      "metadata": {
        "id": "qXPR_z_48f4y"
      },
      "outputs": [],
      "source": [
        "df_nn_final= df_nn[list(xs.columns) + [dep_var]]"
      ]
    },
    {
      "cell_type": "code",
      "source": [
        "df_nn_final.info()"
      ],
      "metadata": {
        "colab": {
          "base_uri": "https://localhost:8080/"
        },
        "id": "6ut_X1PxL2kC",
        "outputId": "3ad3c9de-4748-4a93-fe49-8e2ee1fc3644"
      },
      "execution_count": 55,
      "outputs": [
        {
          "output_type": "stream",
          "name": "stdout",
          "text": [
            "<class 'pandas.core.frame.DataFrame'>\n",
            "RangeIndex: 59400 entries, 0 to 59399\n",
            "Data columns (total 40 columns):\n",
            " #   Column                 Non-Null Count  Dtype  \n",
            "---  ------                 --------------  -----  \n",
            " 0   date_recorded          59400 non-null  object \n",
            " 1   funder                 55765 non-null  object \n",
            " 2   installer              55745 non-null  object \n",
            " 3   wpt_name               59400 non-null  object \n",
            " 4   basin                  59400 non-null  object \n",
            " 5   subvillage             59029 non-null  object \n",
            " 6   region                 59400 non-null  object \n",
            " 7   lga                    59400 non-null  object \n",
            " 8   ward                   59400 non-null  object \n",
            " 9   public_meeting         56066 non-null  object \n",
            " 10  recorded_by            59400 non-null  object \n",
            " 11  scheme_management      55523 non-null  object \n",
            " 12  scheme_name            31234 non-null  object \n",
            " 13  permit                 56344 non-null  object \n",
            " 14  extraction_type        59400 non-null  object \n",
            " 15  extraction_type_group  59400 non-null  object \n",
            " 16  extraction_type_class  59400 non-null  object \n",
            " 17  management             59400 non-null  object \n",
            " 18  management_group       59400 non-null  object \n",
            " 19  payment                59400 non-null  object \n",
            " 20  payment_type           59400 non-null  object \n",
            " 21  water_quality          59400 non-null  object \n",
            " 22  quality_group          59400 non-null  object \n",
            " 23  quantity               59400 non-null  object \n",
            " 24  quantity_group         59400 non-null  object \n",
            " 25  source                 59400 non-null  object \n",
            " 26  source_type            59400 non-null  object \n",
            " 27  source_class           59400 non-null  object \n",
            " 28  waterpoint_type        59400 non-null  object \n",
            " 29  waterpoint_type_group  59400 non-null  object \n",
            " 30  amount_tsh             59400 non-null  float64\n",
            " 31  gps_height             59400 non-null  int64  \n",
            " 32  longitude              59400 non-null  float64\n",
            " 33  latitude               59400 non-null  float64\n",
            " 34  num_private            59400 non-null  int64  \n",
            " 35  region_code            59400 non-null  int64  \n",
            " 36  district_code          59400 non-null  int64  \n",
            " 37  population             59400 non-null  int64  \n",
            " 38  construction_year      59400 non-null  int64  \n",
            " 39  status_group           59400 non-null  object \n",
            "dtypes: float64(3), int64(6), object(31)\n",
            "memory usage: 18.1+ MB\n"
          ]
        }
      ]
    },
    {
      "cell_type": "code",
      "execution_count": 56,
      "metadata": {
        "id": "Wi01CLrw8f4y"
      },
      "outputs": [],
      "source": [
        "cont_nn,cat_nn = cont_cat_split(df_nn_final, max_card=5, dep_var=dep_var)"
      ]
    },
    {
      "cell_type": "code",
      "source": [
        "cont_nn"
      ],
      "metadata": {
        "colab": {
          "base_uri": "https://localhost:8080/"
        },
        "id": "cSjyPfx5J2Ee",
        "outputId": "d932b1df-f415-46bb-a2f8-fb5774212f38"
      },
      "execution_count": 57,
      "outputs": [
        {
          "output_type": "execute_result",
          "data": {
            "text/plain": [
              "['amount_tsh',\n",
              " 'gps_height',\n",
              " 'longitude',\n",
              " 'latitude',\n",
              " 'num_private',\n",
              " 'region_code',\n",
              " 'district_code',\n",
              " 'population',\n",
              " 'construction_year']"
            ]
          },
          "metadata": {},
          "execution_count": 57
        }
      ]
    },
    {
      "cell_type": "markdown",
      "metadata": {
        "id": "4L3vdVcE8f4z"
      },
      "source": [
        "Let's take a look at the cardinality of each of the categorical variables that we have chosen so far:"
      ]
    },
    {
      "cell_type": "code",
      "execution_count": 58,
      "metadata": {
        "colab": {
          "base_uri": "https://localhost:8080/"
        },
        "id": "VsIGqoVM8f4z",
        "outputId": "286f65d2-fd4a-4a89-b0a7-f8270339b449"
      },
      "outputs": [
        {
          "output_type": "execute_result",
          "data": {
            "text/plain": [
              "date_recorded              356\n",
              "funder                    1897\n",
              "installer                 2145\n",
              "wpt_name                 37400\n",
              "basin                        9\n",
              "                         ...  \n",
              "source                      10\n",
              "source_type                  7\n",
              "source_class                 3\n",
              "waterpoint_type              7\n",
              "waterpoint_type_group        6\n",
              "Length: 30, dtype: int64"
            ]
          },
          "metadata": {},
          "execution_count": 58
        }
      ],
      "source": [
        "df_nn_final[cat_nn].nunique()"
      ]
    },
    {
      "cell_type": "markdown",
      "metadata": {
        "id": "OI8SyTp_8f4z"
      },
      "source": [
        "We can create our `TabularPandas` object in the same way as when we created our random forest, with one very important addition: normalization. A random forest does not need any normalization—the tree building procedure cares only about the order of values in a variable, not at all about how they are scaled. But as we have seen, a neural network definitely does care about this. Therefore, we add the `Normalize` processor when we build our `TabularPandas` object:"
      ]
    },
    {
      "cell_type": "code",
      "execution_count": 59,
      "metadata": {
        "id": "yA21RJ7w8f4z"
      },
      "outputs": [],
      "source": [
        "procs_nn = [Categorify, FillMissing, Normalize]\n",
        "to_nn = TabularPandas(df_nn_final, procs_nn, cat_nn, cont_nn,\n",
        "                      splits=splits, y_names=dep_var)"
      ]
    },
    {
      "cell_type": "markdown",
      "metadata": {
        "id": "iXelF_gM8f40"
      },
      "source": [
        "Tabular models and data don't generally require much GPU RAM, so we can use larger batch sizes:"
      ]
    },
    {
      "cell_type": "code",
      "execution_count": 60,
      "metadata": {
        "id": "H_h8cLlj8f40"
      },
      "outputs": [],
      "source": [
        "dls = to_nn.dataloaders(128)"
      ]
    },
    {
      "cell_type": "markdown",
      "metadata": {
        "id": "ng4PZgq_8f40"
      },
      "source": [
        "We can now create the `Learner` to create this tabular model. As usual, we use the application-specific learner function, to take advantage of its application-customized defaults. We set the loss function to MSE, since that's what this competition uses.\n",
        "\n",
        "By default, for tabular data fastai creates a neural network with two hidden layers, with 200 and 100 activations, respectively. This works quite well for small datasets, but here we've got quite a large dataset, so we increase the layer sizes to 500 and 250:"
      ]
    },
    {
      "cell_type": "code",
      "execution_count": 68,
      "metadata": {
        "id": "NVXeMyUo8f40"
      },
      "outputs": [],
      "source": [
        "learn = tabular_learner(dls, layers=[500,250], metrics=accuracy)"
      ]
    },
    {
      "cell_type": "code",
      "execution_count": 67,
      "metadata": {
        "colab": {
          "base_uri": "https://localhost:8080/",
          "height": 300
        },
        "id": "vVmePdYv8f40",
        "outputId": "dd2e2581-dc44-4fbb-bc40-32bc0d87f948"
      },
      "outputs": [
        {
          "output_type": "display_data",
          "data": {
            "text/plain": [
              "<IPython.core.display.HTML object>"
            ],
            "text/html": [
              "\n",
              "<style>\n",
              "    /* Turns off some styling */\n",
              "    progress {\n",
              "        /* gets rid of default border in Firefox and Opera. */\n",
              "        border: none;\n",
              "        /* Needs to be in here for Safari polyfill so background images work as expected. */\n",
              "        background-size: auto;\n",
              "    }\n",
              "    progress:not([value]), progress:not([value])::-webkit-progress-bar {\n",
              "        background: repeating-linear-gradient(45deg, #7e7e7e, #7e7e7e 10px, #5c5c5c 10px, #5c5c5c 20px);\n",
              "    }\n",
              "    .progress-bar-interrupted, .progress-bar-interrupted::-webkit-progress-bar {\n",
              "        background: #F44336;\n",
              "    }\n",
              "</style>\n"
            ]
          },
          "metadata": {}
        },
        {
          "output_type": "display_data",
          "data": {
            "text/plain": [
              "<IPython.core.display.HTML object>"
            ],
            "text/html": [
              ""
            ]
          },
          "metadata": {}
        },
        {
          "output_type": "execute_result",
          "data": {
            "text/plain": [
              "SuggestedLRs(valley=0.0003311311302240938)"
            ]
          },
          "metadata": {},
          "execution_count": 67
        },
        {
          "output_type": "display_data",
          "data": {
            "text/plain": [
              "<Figure size 432x288 with 1 Axes>"
            ],
            "image/png": "[encoded data removed]"
          },
          "metadata": {
            "needs_background": "light"
          }
        }
      ],
      "source": [
        "learn.lr_find()"
      ]
    },
    {
      "cell_type": "markdown",
      "metadata": {
        "id": "-fW35wNb8f40"
      },
      "source": [
        "There's no need to use `fine_tune`, so we'll train with `fit_one_cycle` for a few epochs and see how it looks:"
      ]
    },
    {
      "cell_type": "code",
      "execution_count": 69,
      "metadata": {
        "colab": {
          "base_uri": "https://localhost:8080/",
          "height": 206
        },
        "id": "bPWcGMpd8f41",
        "outputId": "8fb5d0c6-7647-4af9-dd68-7211f54e44e4"
      },
      "outputs": [
        {
          "output_type": "display_data",
          "data": {
            "text/plain": [
              "<IPython.core.display.HTML object>"
            ],
            "text/html": [
              "\n",
              "<style>\n",
              "    /* Turns off some styling */\n",
              "    progress {\n",
              "        /* gets rid of default border in Firefox and Opera. */\n",
              "        border: none;\n",
              "        /* Needs to be in here for Safari polyfill so background images work as expected. */\n",
              "        background-size: auto;\n",
              "    }\n",
              "    progress:not([value]), progress:not([value])::-webkit-progress-bar {\n",
              "        background: repeating-linear-gradient(45deg, #7e7e7e, #7e7e7e 10px, #5c5c5c 10px, #5c5c5c 20px);\n",
              "    }\n",
              "    .progress-bar-interrupted, .progress-bar-interrupted::-webkit-progress-bar {\n",
              "        background: #F44336;\n",
              "    }\n",
              "</style>\n"
            ]
          },
          "metadata": {}
        },
        {
          "output_type": "display_data",
          "data": {
            "text/plain": [
              "<IPython.core.display.HTML object>"
            ],
            "text/html": [
              "<table border=\"1\" class=\"dataframe\">\n",
              "  <thead>\n",
              "    <tr style=\"text-align: left;\">\n",
              "      <th>epoch</th>\n",
              "      <th>train_loss</th>\n",
              "      <th>valid_loss</th>\n",
              "      <th>accuracy</th>\n",
              "      <th>time</th>\n",
              "    </tr>\n",
              "  </thead>\n",
              "  <tbody>\n",
              "    <tr>\n",
              "      <td>0</td>\n",
              "      <td>0.634573</td>\n",
              "      <td>0.609377</td>\n",
              "      <td>0.767761</td>\n",
              "      <td>00:08</td>\n",
              "    </tr>\n",
              "    <tr>\n",
              "      <td>1</td>\n",
              "      <td>0.448466</td>\n",
              "      <td>0.592509</td>\n",
              "      <td>0.755556</td>\n",
              "      <td>00:08</td>\n",
              "    </tr>\n",
              "    <tr>\n",
              "      <td>2</td>\n",
              "      <td>0.186534</td>\n",
              "      <td>0.712582</td>\n",
              "      <td>0.753030</td>\n",
              "      <td>00:08</td>\n",
              "    </tr>\n",
              "    <tr>\n",
              "      <td>3</td>\n",
              "      <td>0.079556</td>\n",
              "      <td>0.878408</td>\n",
              "      <td>0.752778</td>\n",
              "      <td>00:08</td>\n",
              "    </tr>\n",
              "    <tr>\n",
              "      <td>4</td>\n",
              "      <td>0.046487</td>\n",
              "      <td>0.929663</td>\n",
              "      <td>0.753030</td>\n",
              "      <td>00:08</td>\n",
              "    </tr>\n",
              "  </tbody>\n",
              "</table>"
            ]
          },
          "metadata": {}
        }
      ],
      "source": [
        "learn.fit_one_cycle(5, 0.0005,wd=0.3)"
      ]
    },
    {
      "cell_type": "code",
      "execution_count": 70,
      "metadata": {
        "colab": {
          "base_uri": "https://localhost:8080/"
        },
        "id": "oOQhgCbv8f41",
        "outputId": "3a784ddf-a45a-4d46-82b4-da30a0701933"
      },
      "outputs": [
        {
          "output_type": "execute_result",
          "data": {
            "text/plain": [
              "Path('nn.pth')"
            ]
          },
          "metadata": {},
          "execution_count": 70
        }
      ],
      "source": [
        "learn.save(path/'nn')"
      ]
    },
    {
      "cell_type": "code",
      "source": [
        "df_test = pd.read_csv('/content/gdrive/MyDrive/Water/test.csv')"
      ],
      "metadata": {
        "id": "T8dIuizxJ8Wn"
      },
      "execution_count": 71,
      "outputs": []
    },
    {
      "cell_type": "code",
      "source": [
        "del (df_test['id'])"
      ],
      "metadata": {
        "id": "gJCqeCimCfqw"
      },
      "execution_count": 72,
      "outputs": []
    },
    {
      "cell_type": "code",
      "source": [
        "to_test = TabularPandas(df_test, procs, cat_nn, cont_nn)"
      ],
      "metadata": {
        "id": "RPjfEnAqByxv"
      },
      "execution_count": 73,
      "outputs": []
    },
    {
      "cell_type": "code",
      "source": [
        "test_dl = dls.test_dl(df_test, with_labels=False)"
      ],
      "metadata": {
        "id": "Z4ZKmM3jKLiN"
      },
      "execution_count": 74,
      "outputs": []
    },
    {
      "cell_type": "code",
      "source": [
        "preds = learn.get_preds(dl=test_dl)"
      ],
      "metadata": {
        "colab": {
          "base_uri": "https://localhost:8080/",
          "height": 17
        },
        "id": "ux2TFEg_KWDS",
        "outputId": "c7aa29d0-3ae5-4186-a5c9-6f1852d64a16"
      },
      "execution_count": 75,
      "outputs": [
        {
          "output_type": "display_data",
          "data": {
            "text/plain": [
              "<IPython.core.display.HTML object>"
            ],
            "text/html": [
              "\n",
              "<style>\n",
              "    /* Turns off some styling */\n",
              "    progress {\n",
              "        /* gets rid of default border in Firefox and Opera. */\n",
              "        border: none;\n",
              "        /* Needs to be in here for Safari polyfill so background images work as expected. */\n",
              "        background-size: auto;\n",
              "    }\n",
              "    progress:not([value]), progress:not([value])::-webkit-progress-bar {\n",
              "        background: repeating-linear-gradient(45deg, #7e7e7e, #7e7e7e 10px, #5c5c5c 10px, #5c5c5c 20px);\n",
              "    }\n",
              "    .progress-bar-interrupted, .progress-bar-interrupted::-webkit-progress-bar {\n",
              "        background: #F44336;\n",
              "    }\n",
              "</style>\n"
            ]
          },
          "metadata": {}
        },
        {
          "output_type": "display_data",
          "data": {
            "text/plain": [
              "<IPython.core.display.HTML object>"
            ],
            "text/html": [
              ""
            ]
          },
          "metadata": {}
        }
      ]
    },
    {
      "cell_type": "code",
      "source": [
        "import pandas as pd\n",
        "#preds[0]\n",
        "\n",
        "pada = pd.DataFrame(preds[0]).astype(\"float\")"
      ],
      "metadata": {
        "id": "M2Gix0npNKVh"
      },
      "execution_count": 76,
      "outputs": []
    },
    {
      "cell_type": "code",
      "source": [
        "pada['pred'] = pada.apply(lambda x: x.argmax(), axis=1)"
      ],
      "metadata": {
        "id": "Hh3Ce1mzQt-U"
      },
      "execution_count": 79,
      "outputs": []
    },
    {
      "cell_type": "code",
      "source": [
        "pada['pred'].value_counts()"
      ],
      "metadata": {
        "id": "ZjfyHBlYrEAf",
        "outputId": "85756364-eb59-4a45-ad7b-b8971d54ceda",
        "colab": {
          "base_uri": "https://localhost:8080/"
        }
      },
      "execution_count": 80,
      "outputs": [
        {
          "output_type": "execute_result",
          "data": {
            "text/plain": [
              "0    8284\n",
              "2    5723\n",
              "1     843\n",
              "Name: pred, dtype: int64"
            ]
          },
          "metadata": {},
          "execution_count": 80
        }
      ]
    },
    {
      "cell_type": "code",
      "source": [
        "df_test_id = pd.read_csv('/content/gdrive/MyDrive/Water/test.csv')"
      ],
      "metadata": {
        "id": "3jdSpfCzvUbP"
      },
      "execution_count": 142,
      "outputs": []
    },
    {
      "cell_type": "code",
      "source": [
        "df_test_id =  pd.concat([df_test_id, pada],axis=1)"
      ],
      "metadata": {
        "id": "ZKwYJlh3v8_-"
      },
      "execution_count": 143,
      "outputs": []
    },
    {
      "cell_type": "code",
      "source": [
        "df_test_id = df_test_id[['id','pred']]"
      ],
      "metadata": {
        "id": "gALuMlS8wDdp"
      },
      "execution_count": 144,
      "outputs": []
    },
    {
      "cell_type": "code",
      "source": [
        "submission = pd.read_csv('/content/gdrive/MyDrive/Water/SubmissionFormat.csv')"
      ],
      "metadata": {
        "id": "0JQPwlXrvgCv"
      },
      "execution_count": 145,
      "outputs": []
    },
    {
      "cell_type": "code",
      "source": [
        "df_test_id = pd.merge(df_test_id,submission,on = 'id' )"
      ],
      "metadata": {
        "id": "JzucpaeDvZOQ"
      },
      "execution_count": 146,
      "outputs": []
    },
    {
      "cell_type": "code",
      "source": [
        "df_test_id.columns"
      ],
      "metadata": {
        "id": "-VMflqG6vwHt",
        "outputId": "8c810bc1-4764-4a8e-d3b1-1652a19c2204",
        "colab": {
          "base_uri": "https://localhost:8080/"
        }
      },
      "execution_count": 147,
      "outputs": [
        {
          "output_type": "execute_result",
          "data": {
            "text/plain": [
              "Index(['id', 'pred', 'status_group'], dtype='object')"
            ]
          },
          "metadata": {},
          "execution_count": 147
        }
      ]
    },
    {
      "cell_type": "code",
      "source": [
        "df_test_id.loc[df_test_id['pred'] == 0, 'status_group'] = 'functional'\n",
        "df_test_id.loc[df_test_id['pred'] == 1, 'status_group'] = 'functional needs repair'\n",
        "df_test_id.loc[df_test_id['pred'] == 2, 'status_group'] = 'non functional'"
      ],
      "metadata": {
        "id": "-joV204MQOlw"
      },
      "execution_count": 148,
      "outputs": []
    },
    {
      "cell_type": "code",
      "source": [
        "df_test_id['status_group'].value_counts()"
      ],
      "metadata": {
        "id": "4_HvvZaZx17-",
        "outputId": "f6181cde-614b-483a-aca3-8410f965241b",
        "colab": {
          "base_uri": "https://localhost:8080/"
        }
      },
      "execution_count": 150,
      "outputs": [
        {
          "output_type": "execute_result",
          "data": {
            "text/plain": [
              "functional                 8284\n",
              "non functional             5723\n",
              "functional needs repair     843\n",
              "Name: status_group, dtype: int64"
            ]
          },
          "metadata": {},
          "execution_count": 150
        }
      ]
    },
    {
      "cell_type": "code",
      "source": [
        "df_test_id.to_csv('solution.csv')"
      ],
      "metadata": {
        "id": "7x-k3aZ5ylsh"
      },
      "execution_count": 152,
      "outputs": []
    },
    {
      "cell_type": "code",
      "source": [
        ""
      ],
      "metadata": {
        "id": "OLPXGBVGyYKH"
      },
      "execution_count": null,
      "outputs": []
    },
    {
      "cell_type": "markdown",
      "metadata": {
        "id": "7y2kqKT68f41"
      },
      "source": [
        "### Sidebar: fastai's Tabular Classes"
      ]
    },
    {
      "cell_type": "markdown",
      "metadata": {
        "id": "tygAaAjb8f41"
      },
      "source": [
        "In fastai, a tabular model is simply a model that takes columns of continuous or categorical data, and predicts a category (a classification model) or a continuous value (a regression model). Categorical independent variables are passed through an embedding, and concatenated, as we saw in the neural net we used for collaborative filtering, and then continuous variables are concatenated as well.\n",
        "\n",
        "The model created in `tabular_learner` is an object of class `TabularModel`. Take a look at the source for `tabular_learner` now (remember, that's `tabular_learner??` in Jupyter). You'll see that like `collab_learner`, it first calls `get_emb_sz` to calculate appropriate embedding sizes (you can override these by using the `emb_szs` parameter, which is a dictionary containing any column names you want to set sizes for manually), and it sets a few other defaults. Other than that, it just creates the `TabularModel`, and passes that to `TabularLearner` (note that `TabularLearner` is identical to `Learner`, except for a customized `predict` method).\n",
        "\n",
        "That means that really all the work is happening in `TabularModel`, so take a look at the source for that now. With the exception of the `BatchNorm1d` and `Dropout` layers (which we'll be learning about shortly), you now have the knowledge required to understand this whole class. Take a look at the discussion of `EmbeddingNN` at the end of the last chapter. Recall that it passed `n_cont=0` to `TabularModel`. We now can see why that was: because there are zero continuous variables (in fastai the `n_` prefix means \"number of,\" and `cont` is an abbreviation for \"continuous\")."
      ]
    },
    {
      "cell_type": "markdown",
      "metadata": {
        "id": "ZYP1JciX8f42"
      },
      "source": [
        "Another thing that can help with generalization is to use several models and average their predictions—a technique, as mentioned earlier, known as *ensembling*."
      ]
    },
    {
      "cell_type": "markdown",
      "metadata": {
        "id": "luqkVtGf8f42"
      },
      "source": [
        "## Ensembling"
      ]
    },
    {
      "cell_type": "markdown",
      "metadata": {
        "id": "goQyF1gW8f42"
      },
      "source": [
        "Think back to the original reasoning behind why random forests work so well: each tree has errors, but those errors are not correlated with each other, so the average of those errors should tend towards zero once there are enough trees. Similar reasoning could be used to consider averaging the predictions of models trained using different algorithms.\n",
        "\n",
        "In our case, we have two very different models, trained using very different algorithms: a random forest, and a neural network. It would be reasonable to expect that the kinds of errors that each one makes would be quite different. Therefore, we might expect that the average of their predictions would be better than either one's individual predictions.\n",
        "\n",
        "As we saw earlier, a random forest is itself an ensemble. But we can then include a random forest in *another* ensemble—an ensemble of the random forest and the neural network! While ensembling won't make the difference between a successful and an unsuccessful modeling process, it can certainly add a nice little boost to any models that you have built.\n",
        "\n",
        "One minor issue we have to be aware of is that our PyTorch model and our sklearn model create data of different types: PyTorch gives us a rank-2 tensor (i.e, a column matrix), whereas NumPy gives us a rank-1 array (a vector). `squeeze` removes any unit axes from a tensor, and `to_np` converts it into a NumPy array:"
      ]
    },
    {
      "cell_type": "code",
      "execution_count": null,
      "metadata": {
        "id": "qZqW8gGb8f42"
      },
      "outputs": [],
      "source": [
        "rf_preds = m.predict(valid_xs_time)\n",
        "ens_preds = (to_np(preds.squeeze()) + rf_preds) /2"
      ]
    },
    {
      "cell_type": "markdown",
      "metadata": {
        "id": "tLuHUF8-8f42"
      },
      "source": [
        "This gives us a better result than any model separately"
      ]
    },
    {
      "cell_type": "code",
      "execution_count": null,
      "metadata": {
        "colab": {
          "base_uri": "https://localhost:8080/"
        },
        "id": "PPF34fvA8f42",
        "outputId": "bb6df488-89dd-412b-ae98-35a2d419c41d"
      },
      "outputs": [
        {
          "output_type": "execute_result",
          "data": {
            "text/plain": [
              "24267.102717"
            ]
          },
          "metadata": {},
          "execution_count": 269
        }
      ],
      "source": [
        "r_mse(ens_preds,valid_y)"
      ]
    },
    {
      "cell_type": "markdown",
      "metadata": {
        "id": "speyx7Z48f43"
      },
      "source": [
        "One more technique that has gotten great results is to use embeddings learned by a neural net in a machine learning model."
      ]
    },
    {
      "cell_type": "markdown",
      "source": [
        "## Using pretrained embeddings to improve random forest performance\n"
      ],
      "metadata": {
        "id": "qjgkckFGIE2M"
      }
    },
    {
      "cell_type": "code",
      "source": [
        "def embed_features(learner, xs):\n",
        "    xs = xs.copy()\n",
        "    for i, feature in enumerate(learner.dls.cat_names):\n",
        "        emb = learner.model.embeds[i]\n",
        "        new_feat = pd.DataFrame(emb(tensor(xs[feature], dtype=torch.int64)), index=xs.index, columns=[f'{feature}_{j}' for j in range(emb.embedding_dim)])\n",
        "        xs.drop(columns=feature, inplace=True)\n",
        "        xs = xs.join(new_feat)\n",
        "    return xs\n"
      ],
      "metadata": {
        "id": "4_fkxGXuIX8o"
      },
      "execution_count": null,
      "outputs": []
    },
    {
      "cell_type": "code",
      "source": [
        "cat_features = learn.dls.cat_names\n",
        "\n",
        "def add_embeds(learn, x):\n",
        "    x = x.copy()\n",
        "    for i, cat in enumerate(cat_features):\n",
        "        emb = learn.embeds[i]\n",
        "        vec = tensor(x[cat], dtype=torch.int64) # this is on cpu\n",
        "        emb_data = emb(vec)\n",
        "        emb_names = [f'{cat}_{j}' for j in range(emb_data.shape[1])]\n",
        "        \n",
        "        emb_df = pd.DataFrame(emb_data, index=x.index, columns=emb_names)\n",
        "        x = x.drop(columns=cat)\n",
        "        x = x.join(emb_df)\n",
        "    return x\n",
        "\n",
        "add_embeds(learn,to_nn.train.xs)"
      ],
      "metadata": {
        "colab": {
          "base_uri": "https://localhost:8080/",
          "height": 487
        },
        "id": "_xHZgd8uwduV",
        "outputId": "d6c528be-ec9f-4923-b699-ece0f51af61e"
      },
      "execution_count": null,
      "outputs": [
        {
          "output_type": "execute_result",
          "data": {
            "text/plain": [
              "      OverallQual  GrLivArea  BsmtFinSF1  YearBuilt   LotArea  2ndFlrSF  \\\n",
              "1395     1.346346   1.812191   -0.950258   1.112023  0.218292  2.290928   \n",
              "1081    -0.784456  -0.895536    0.816125  -0.267663 -0.302151 -0.789709   \n",
              "80      -0.074189   1.173753    0.010105  -0.103415  0.252048  1.402590   \n",
              "646     -0.784456  -0.880514   -0.950258  -0.694708 -0.332380 -0.789709   \n",
              "587     -0.784456  -1.233533    0.490287   0.356481 -0.177204 -0.789709   \n",
              "...           ...        ...         ...        ...       ...       ...   \n",
              "184     -0.784456  -0.497452   -0.950258  -2.074394 -0.308398 -0.068077   \n",
              "178      2.056613   1.346507    3.131286   1.210572  0.697725 -0.789709   \n",
              "1203     0.636078   0.212341   -0.950258   0.947775 -0.075433 -0.789709   \n",
              "1026    -0.784456  -0.474918    0.543879  -0.366212 -0.120776 -0.789709   \n",
              "395     -0.784456  -0.700249    0.633913  -0.497610 -0.093470 -0.789709   \n",
              "\n",
              "      YearRemodAdd  MasVnrArea  TotRmsAbvGrd  GarageCars_0  GarageCars_1  \\\n",
              "1395      1.015574    0.768834      1.527284     -0.371898      0.271798   \n",
              "1081     -1.063511   -0.571821     -0.913863     -0.422371      1.031657   \n",
              "80       -0.821757    2.580085      0.916998     -0.422371      1.031657   \n",
              "646      -1.692071   -0.571821      0.306711     -0.098260      0.662984   \n",
              "587      -0.144845   -0.571821     -1.524149     -0.098260      0.662984   \n",
              "...            ...         ...           ...           ...           ...   \n",
              "184       0.290312   -0.571821     -0.913863     -0.098260      0.662984   \n",
              "178       1.160626    3.521280      1.527284     -0.371898      0.271798   \n",
              "1203      0.773820    0.363901     -0.303576     -0.098260      0.662984   \n",
              "1026     -1.208563    1.201126     -0.303576     -0.098260      0.662984   \n",
              "395      -1.401966   -0.571821     -0.303576     -0.422371      1.031657   \n",
              "\n",
              "      GarageCars_2  GarageCars_3  ExterQual_0  ExterQual_1  ExterQual_2  \\\n",
              "1395     -0.353977     -0.541258     0.231444     0.902354    -0.360187   \n",
              "1081     -0.975907     -0.840798     0.354238     1.368256     0.083012   \n",
              "80       -0.975907     -0.840798     0.354238     1.368256     0.083012   \n",
              "646      -0.457121     -0.337522     0.354238     1.368256     0.083012   \n",
              "587      -0.457121     -0.337522     0.354238     1.368256     0.083012   \n",
              "...            ...           ...          ...          ...          ...   \n",
              "184      -0.457121     -0.337522     0.354238     1.368256     0.083012   \n",
              "178      -0.353977     -0.541258     0.053243     0.258837     0.082405   \n",
              "1203     -0.457121     -0.337522     0.231444     0.902354    -0.360187   \n",
              "1026     -0.457121     -0.337522     0.354238     1.368256     0.083012   \n",
              "395      -0.975907     -0.840798     0.354238     1.368256     0.083012   \n",
              "\n",
              "      ExterQual_3  KitchenQual_0  KitchenQual_1  KitchenQual_2  KitchenQual_3  \\\n",
              "1395    -0.090635      -0.430029      -0.376398       0.371185       0.554425   \n",
              "1081     0.000093      -0.212046       0.517044       0.706319       1.039495   \n",
              "80       0.000093      -0.430029      -0.376398       0.371185       0.554425   \n",
              "646      0.000093      -0.212046       0.517044       0.706319       1.039495   \n",
              "587      0.000093      -0.212046       0.517044       0.706319       1.039495   \n",
              "...           ...            ...            ...            ...            ...   \n",
              "184      0.000093      -0.212046       0.517044       0.706319       1.039495   \n",
              "178     -0.050826      -0.006714      -0.099587       0.497514      -0.194116   \n",
              "1203    -0.090635      -0.430029      -0.376398       0.371185       0.554425   \n",
              "1026     0.000093      -0.212046       0.517044       0.706319       1.039495   \n",
              "395      0.000093      -0.212046       0.517044       0.706319       1.039495   \n",
              "\n",
              "      FullBath_0  FullBath_1  FullBath_2  FullBath_3  BsmtQual_0  BsmtQual_1  \\\n",
              "1395    0.728381    0.688040   -1.276538    0.493806    0.365453    0.164882   \n",
              "1081    0.611106    0.471023   -0.716133   -0.035498    0.871657    0.246796   \n",
              "80      0.728381    0.688040   -1.276538    0.493806    0.365453    0.164882   \n",
              "646     0.611106    0.471023   -0.716133   -0.035498    0.601194    0.165976   \n",
              "587     0.611106    0.471023   -0.716133   -0.035498    0.871657    0.246796   \n",
              "...          ...         ...         ...         ...         ...         ...   \n",
              "184     0.611106    0.471023   -0.716133   -0.035498   -0.076866    1.223898   \n",
              "178     0.728381    0.688040   -1.276538    0.493806    0.107040    0.172590   \n",
              "1203    0.728381    0.688040   -1.276538    0.493806    0.365453    0.164882   \n",
              "1026    0.611106    0.471023   -0.716133   -0.035498    0.871657    0.246796   \n",
              "395     0.611106    0.471023   -0.716133   -0.035498    0.871657    0.246796   \n",
              "\n",
              "      BsmtQual_2  BsmtQual_3  Neighborhood_0  Neighborhood_1  Neighborhood_2  \\\n",
              "1395   -0.046585   -0.409193       -0.363506        0.121034        0.495342   \n",
              "1081   -0.714702   -0.791369       -0.226056       -0.168886        0.700656   \n",
              "80     -0.046585   -0.409193       -0.285229        0.156441        0.619387   \n",
              "646     0.176257   -0.291360       -0.285229        0.156441        0.619387   \n",
              "587    -0.714702   -0.791369       -0.226056       -0.168886        0.700656   \n",
              "...          ...         ...             ...             ...             ...   \n",
              "184    -0.171211    0.574309       -0.364040        0.562128        0.668592   \n",
              "178    -0.345049   -0.113830       -0.294408       -0.272425       -0.796623   \n",
              "1203   -0.046585   -0.409193       -0.090827       -0.168696        0.871461   \n",
              "1026   -0.714702   -0.791369       -0.285229        0.156441        0.619387   \n",
              "395    -0.714702   -0.791369       -0.189802        0.786304       -0.119792   \n",
              "\n",
              "      Neighborhood_3  Neighborhood_4  Neighborhood_5  Neighborhood_6  \\\n",
              "1395        0.057562        0.234534        0.248210       -0.636019   \n",
              "1081        0.228744       -0.176922       -0.544135       -0.151451   \n",
              "80          0.292687       -0.513979       -0.480759       -0.049224   \n",
              "646         0.292687       -0.513979       -0.480759       -0.049224   \n",
              "587         0.228744       -0.176922       -0.544135       -0.151451   \n",
              "...              ...             ...             ...             ...   \n",
              "184        -0.574836        0.897173       -0.189463       -1.112628   \n",
              "178        -0.733487        0.858247       -0.026837       -0.290776   \n",
              "1203        0.287155        0.027949        0.014645       -0.371387   \n",
              "1026        0.292687       -0.513979       -0.480759       -0.049224   \n",
              "395        -0.485488       -0.340217       -0.088975        0.520442   \n",
              "\n",
              "      Neighborhood_7  Neighborhood_8  Neighborhood_9  Exterior1st_0  \\\n",
              "1395        0.182199        0.044924       -0.037528       0.424486   \n",
              "1081       -0.028602       -0.662329        0.328475      -0.547750   \n",
              "80         -0.227547       -0.427596        0.323901       0.424486   \n",
              "646        -0.227547       -0.427596        0.323901       1.155223   \n",
              "587        -0.028602       -0.662329        0.328475      -0.547750   \n",
              "...              ...             ...             ...            ...   \n",
              "184         1.275597       -0.109957        0.376521       0.164641   \n",
              "178         0.230091       -0.019295        0.052460       0.424486   \n",
              "1203        0.168929       -0.219822        0.047729       0.424486   \n",
              "1026       -0.227547       -0.427596        0.323901       1.155223   \n",
              "395        -0.578170        0.067185       -0.616657      -0.132984   \n",
              "\n",
              "      Exterior1st_1  Exterior1st_2  Exterior1st_3  Exterior1st_4  \\\n",
              "1395       0.568255      -0.207187      -0.004554      -0.177462   \n",
              "1081       0.115853      -0.245288       0.115489       0.033480   \n",
              "80         0.568255      -0.207187      -0.004554      -0.177462   \n",
              "646        0.026870      -0.174226      -0.235207      -0.141368   \n",
              "587        0.115853      -0.245288       0.115489       0.033480   \n",
              "...             ...            ...            ...            ...   \n",
              "184        0.675324      -0.320690      -0.385253      -0.425557   \n",
              "178        0.568255      -0.207187      -0.004554      -0.177462   \n",
              "1203       0.568255      -0.207187      -0.004554      -0.177462   \n",
              "1026       0.026870      -0.174226      -0.235207      -0.141368   \n",
              "395       -0.307707      -0.147352       0.562613      -0.400095   \n",
              "\n",
              "      Exterior1st_5  Exterior1st_6  Exterior1st_7  Exterior2nd_0  \\\n",
              "1395      -0.286638       0.484345       0.114428       0.231949   \n",
              "1081      -0.020475      -0.124803      -0.134231       0.095484   \n",
              "80        -0.286638       0.484345       0.114428       0.231949   \n",
              "646       -0.275499      -0.074209       0.236989       0.045417   \n",
              "587       -0.020475      -0.124803      -0.134231       0.095484   \n",
              "...             ...            ...            ...            ...   \n",
              "184        0.051713       0.254816      -0.288916       0.499271   \n",
              "178       -0.286638       0.484345       0.114428       0.231949   \n",
              "1203      -0.286638       0.484345       0.114428       0.231949   \n",
              "1026      -0.275499      -0.074209       0.236989       0.095484   \n",
              "395       -0.357094      -0.235092       0.293668       0.325047   \n",
              "\n",
              "      Exterior2nd_1  Exterior2nd_2  Exterior2nd_3  Exterior2nd_4  \\\n",
              "1395      -0.196089      -0.319453      -0.327187      -0.212140   \n",
              "1081      -0.360175      -0.067762      -0.219155      -0.148862   \n",
              "80        -0.196089      -0.319453      -0.327187      -0.212140   \n",
              "646       -0.042020       0.397578       0.121484       0.165289   \n",
              "587       -0.360175      -0.067762      -0.219155      -0.148862   \n",
              "...             ...            ...            ...            ...   \n",
              "184       -0.679393       0.213272      -0.398031      -0.391234   \n",
              "178       -0.196089      -0.319453      -0.327187      -0.212140   \n",
              "1203      -0.196089      -0.319453      -0.327187      -0.212140   \n",
              "1026      -0.360175      -0.067762      -0.219155      -0.148862   \n",
              "395       -0.055078      -0.542773      -0.231445      -0.356122   \n",
              "\n",
              "      Exterior2nd_5  Exterior2nd_6  Exterior2nd_7  MSSubClass_0  MSSubClass_1  \\\n",
              "1395      -0.368804      -0.171623       0.280848      0.154338     -0.017116   \n",
              "1081      -0.096648      -0.008878      -0.029317      1.236115      0.412332   \n",
              "80        -0.368804      -0.171623       0.280848      0.154338     -0.017116   \n",
              "646        0.145955       0.025789      -0.134742      1.236115      0.412332   \n",
              "587       -0.096648      -0.008878      -0.029317      0.739162     -0.060087   \n",
              "...             ...            ...            ...           ...           ...   \n",
              "184       -0.459416      -0.223255       0.081289      0.074129      0.234366   \n",
              "178       -0.368804      -0.171623       0.280848      1.236115      0.412332   \n",
              "1203      -0.368804      -0.171623       0.280848      1.236115      0.412332   \n",
              "1026      -0.096648      -0.008878      -0.029317      1.236115      0.412332   \n",
              "395       -0.431152      -0.283618       0.209307      1.236115      0.412332   \n",
              "\n",
              "      MSSubClass_2  MSSubClass_3  MSSubClass_4  MSSubClass_5  MSSubClass_6  \\\n",
              "1395      0.050601      0.103187     -0.191799     -0.378358      0.148624   \n",
              "1081     -0.647051      0.693658     -0.511767     -0.611768      0.585687   \n",
              "80        0.050601      0.103187     -0.191799     -0.378358      0.148624   \n",
              "646      -0.647051      0.693658     -0.511767     -0.611768      0.585687   \n",
              "587      -0.172588     -0.081863     -0.439875     -0.703946      0.170221   \n",
              "...            ...           ...           ...           ...           ...   \n",
              "184       0.464601      0.141270      0.190861      0.049206     -0.221243   \n",
              "178      -0.647051      0.693658     -0.511767     -0.611768      0.585687   \n",
              "1203     -0.647051      0.693658     -0.511767     -0.611768      0.585687   \n",
              "1026     -0.647051      0.693658     -0.511767     -0.611768      0.585687   \n",
              "395      -0.647051      0.693658     -0.511767     -0.611768      0.585687   \n",
              "\n",
              "      MSSubClass_7  MasVnrArea_na_0  MasVnrArea_na_1  MasVnrArea_na_2  \n",
              "1395     -0.163257        -0.913688         0.988551        -1.029437  \n",
              "1081     -0.394186        -0.913688         0.988551        -1.029437  \n",
              "80       -0.163257        -0.913688         0.988551        -1.029437  \n",
              "646      -0.394186        -0.913688         0.988551        -1.029437  \n",
              "587       0.272057        -0.913688         0.988551        -1.029437  \n",
              "...            ...              ...              ...              ...  \n",
              "184       0.297241        -0.913688         0.988551        -1.029437  \n",
              "178      -0.394186        -0.913688         0.988551        -1.029437  \n",
              "1203     -0.394186        -0.913688         0.988551        -1.029437  \n",
              "1026     -0.394186        -0.913688         0.988551        -1.029437  \n",
              "395      -0.394186        -0.913688         0.988551        -1.029437  \n",
              "\n",
              "[1168 rows x 66 columns]"
            ],
            "text/html": [
              "\n",
              "  <div id=\"df-afe3cfc7-7bcb-47ea-9825-2ef24d632c3f\">\n",
              "    <div class=\"colab-df-container\">\n",
              "      <div>\n",
              "<style scoped>\n",
              "    .dataframe tbody tr th:only-of-type {\n",
              "        vertical-align: middle;\n",
              "    }\n",
              "\n",
              "    .dataframe tbody tr th {\n",
              "        vertical-align: top;\n",
              "    }\n",
              "\n",
              "    .dataframe thead th {\n",
              "        text-align: right;\n",
              "    }\n",
              "</style>\n",
              "<table border=\"1\" class=\"dataframe\">\n",
              "  <thead>\n",
              "    <tr style=\"text-align: right;\">\n",
              "      <th></th>\n",
              "      <th>OverallQual</th>\n",
              "      <th>GrLivArea</th>\n",
              "      <th>BsmtFinSF1</th>\n",
              "      <th>YearBuilt</th>\n",
              "      <th>LotArea</th>\n",
              "      <th>2ndFlrSF</th>\n",
              "      <th>YearRemodAdd</th>\n",
              "      <th>MasVnrArea</th>\n",
              "      <th>TotRmsAbvGrd</th>\n",
              "      <th>GarageCars_0</th>\n",
              "      <th>GarageCars_1</th>\n",
              "      <th>GarageCars_2</th>\n",
              "      <th>GarageCars_3</th>\n",
              "      <th>ExterQual_0</th>\n",
              "      <th>ExterQual_1</th>\n",
              "      <th>ExterQual_2</th>\n",
              "      <th>ExterQual_3</th>\n",
              "      <th>KitchenQual_0</th>\n",
              "      <th>KitchenQual_1</th>\n",
              "      <th>KitchenQual_2</th>\n",
              "      <th>KitchenQual_3</th>\n",
              "      <th>FullBath_0</th>\n",
              "      <th>FullBath_1</th>\n",
              "      <th>FullBath_2</th>\n",
              "      <th>FullBath_3</th>\n",
              "      <th>BsmtQual_0</th>\n",
              "      <th>BsmtQual_1</th>\n",
              "      <th>BsmtQual_2</th>\n",
              "      <th>BsmtQual_3</th>\n",
              "      <th>Neighborhood_0</th>\n",
              "      <th>Neighborhood_1</th>\n",
              "      <th>Neighborhood_2</th>\n",
              "      <th>Neighborhood_3</th>\n",
              "      <th>Neighborhood_4</th>\n",
              "      <th>Neighborhood_5</th>\n",
              "      <th>Neighborhood_6</th>\n",
              "      <th>Neighborhood_7</th>\n",
              "      <th>Neighborhood_8</th>\n",
              "      <th>Neighborhood_9</th>\n",
              "      <th>Exterior1st_0</th>\n",
              "      <th>Exterior1st_1</th>\n",
              "      <th>Exterior1st_2</th>\n",
              "      <th>Exterior1st_3</th>\n",
              "      <th>Exterior1st_4</th>\n",
              "      <th>Exterior1st_5</th>\n",
              "      <th>Exterior1st_6</th>\n",
              "      <th>Exterior1st_7</th>\n",
              "      <th>Exterior2nd_0</th>\n",
              "      <th>Exterior2nd_1</th>\n",
              "      <th>Exterior2nd_2</th>\n",
              "      <th>Exterior2nd_3</th>\n",
              "      <th>Exterior2nd_4</th>\n",
              "      <th>Exterior2nd_5</th>\n",
              "      <th>Exterior2nd_6</th>\n",
              "      <th>Exterior2nd_7</th>\n",
              "      <th>MSSubClass_0</th>\n",
              "      <th>MSSubClass_1</th>\n",
              "      <th>MSSubClass_2</th>\n",
              "      <th>MSSubClass_3</th>\n",
              "      <th>MSSubClass_4</th>\n",
              "      <th>MSSubClass_5</th>\n",
              "      <th>MSSubClass_6</th>\n",
              "      <th>MSSubClass_7</th>\n",
              "      <th>MasVnrArea_na_0</th>\n",
              "      <th>MasVnrArea_na_1</th>\n",
              "      <th>MasVnrArea_na_2</th>\n",
              "    </tr>\n",
              "  </thead>\n",
              "  <tbody>\n",
              "    <tr>\n",
              "      <th>1395</th>\n",
              "      <td>1.346346</td>\n",
              "      <td>1.812191</td>\n",
              "      <td>-0.950258</td>\n",
              "      <td>1.112023</td>\n",
              "      <td>0.218292</td>\n",
              "      <td>2.290928</td>\n",
              "      <td>1.015574</td>\n",
              "      <td>0.768834</td>\n",
              "      <td>1.527284</td>\n",
              "      <td>-0.371898</td>\n",
              "      <td>0.271798</td>\n",
              "      <td>-0.353977</td>\n",
              "      <td>-0.541258</td>\n",
              "      <td>0.231444</td>\n",
              "      <td>0.902354</td>\n",
              "      <td>-0.360187</td>\n",
              "      <td>-0.090635</td>\n",
              "      <td>-0.430029</td>\n",
              "      <td>-0.376398</td>\n",
              "      <td>0.371185</td>\n",
              "      <td>0.554425</td>\n",
              "      <td>0.728381</td>\n",
              "      <td>0.688040</td>\n",
              "      <td>-1.276538</td>\n",
              "      <td>0.493806</td>\n",
              "      <td>0.365453</td>\n",
              "      <td>0.164882</td>\n",
              "      <td>-0.046585</td>\n",
              "      <td>-0.409193</td>\n",
              "      <td>-0.363506</td>\n",
              "      <td>0.121034</td>\n",
              "      <td>0.495342</td>\n",
              "      <td>0.057562</td>\n",
              "      <td>0.234534</td>\n",
              "      <td>0.248210</td>\n",
              "      <td>-0.636019</td>\n",
              "      <td>0.182199</td>\n",
              "      <td>0.044924</td>\n",
              "      <td>-0.037528</td>\n",
              "      <td>0.424486</td>\n",
              "      <td>0.568255</td>\n",
              "      <td>-0.207187</td>\n",
              "      <td>-0.004554</td>\n",
              "      <td>-0.177462</td>\n",
              "      <td>-0.286638</td>\n",
              "      <td>0.484345</td>\n",
              "      <td>0.114428</td>\n",
              "      <td>0.231949</td>\n",
              "      <td>-0.196089</td>\n",
              "      <td>-0.319453</td>\n",
              "      <td>-0.327187</td>\n",
              "      <td>-0.212140</td>\n",
              "      <td>-0.368804</td>\n",
              "      <td>-0.171623</td>\n",
              "      <td>0.280848</td>\n",
              "      <td>0.154338</td>\n",
              "      <td>-0.017116</td>\n",
              "      <td>0.050601</td>\n",
              "      <td>0.103187</td>\n",
              "      <td>-0.191799</td>\n",
              "      <td>-0.378358</td>\n",
              "      <td>0.148624</td>\n",
              "      <td>-0.163257</td>\n",
              "      <td>-0.913688</td>\n",
              "      <td>0.988551</td>\n",
              "      <td>-1.029437</td>\n",
              "    </tr>\n",
              "    <tr>\n",
              "      <th>1081</th>\n",
              "      <td>-0.784456</td>\n",
              "      <td>-0.895536</td>\n",
              "      <td>0.816125</td>\n",
              "      <td>-0.267663</td>\n",
              "      <td>-0.302151</td>\n",
              "      <td>-0.789709</td>\n",
              "      <td>-1.063511</td>\n",
              "      <td>-0.571821</td>\n",
              "      <td>-0.913863</td>\n",
              "      <td>-0.422371</td>\n",
              "      <td>1.031657</td>\n",
              "      <td>-0.975907</td>\n",
              "      <td>-0.840798</td>\n",
              "      <td>0.354238</td>\n",
              "      <td>1.368256</td>\n",
              "      <td>0.083012</td>\n",
              "      <td>0.000093</td>\n",
              "      <td>-0.212046</td>\n",
              "      <td>0.517044</td>\n",
              "      <td>0.706319</td>\n",
              "      <td>1.039495</td>\n",
              "      <td>0.611106</td>\n",
              "      <td>0.471023</td>\n",
              "      <td>-0.716133</td>\n",
              "      <td>-0.035498</td>\n",
              "      <td>0.871657</td>\n",
              "      <td>0.246796</td>\n",
              "      <td>-0.714702</td>\n",
              "      <td>-0.791369</td>\n",
              "      <td>-0.226056</td>\n",
              "      <td>-0.168886</td>\n",
              "      <td>0.700656</td>\n",
              "      <td>0.228744</td>\n",
              "      <td>-0.176922</td>\n",
              "      <td>-0.544135</td>\n",
              "      <td>-0.151451</td>\n",
              "      <td>-0.028602</td>\n",
              "      <td>-0.662329</td>\n",
              "      <td>0.328475</td>\n",
              "      <td>-0.547750</td>\n",
              "      <td>0.115853</td>\n",
              "      <td>-0.245288</td>\n",
              "      <td>0.115489</td>\n",
              "      <td>0.033480</td>\n",
              "      <td>-0.020475</td>\n",
              "      <td>-0.124803</td>\n",
              "      <td>-0.134231</td>\n",
              "      <td>0.095484</td>\n",
              "      <td>-0.360175</td>\n",
              "      <td>-0.067762</td>\n",
              "      <td>-0.219155</td>\n",
              "      <td>-0.148862</td>\n",
              "      <td>-0.096648</td>\n",
              "      <td>-0.008878</td>\n",
              "      <td>-0.029317</td>\n",
              "      <td>1.236115</td>\n",
              "      <td>0.412332</td>\n",
              "      <td>-0.647051</td>\n",
              "      <td>0.693658</td>\n",
              "      <td>-0.511767</td>\n",
              "      <td>-0.611768</td>\n",
              "      <td>0.585687</td>\n",
              "      <td>-0.394186</td>\n",
              "      <td>-0.913688</td>\n",
              "      <td>0.988551</td>\n",
              "      <td>-1.029437</td>\n",
              "    </tr>\n",
              "    <tr>\n",
              "      <th>80</th>\n",
              "      <td>-0.074189</td>\n",
              "      <td>1.173753</td>\n",
              "      <td>0.010105</td>\n",
              "      <td>-0.103415</td>\n",
              "      <td>0.252048</td>\n",
              "      <td>1.402590</td>\n",
              "      <td>-0.821757</td>\n",
              "      <td>2.580085</td>\n",
              "      <td>0.916998</td>\n",
              "      <td>-0.422371</td>\n",
              "      <td>1.031657</td>\n",
              "      <td>-0.975907</td>\n",
              "      <td>-0.840798</td>\n",
              "      <td>0.354238</td>\n",
              "      <td>1.368256</td>\n",
              "      <td>0.083012</td>\n",
              "      <td>0.000093</td>\n",
              "      <td>-0.430029</td>\n",
              "      <td>-0.376398</td>\n",
              "      <td>0.371185</td>\n",
              "      <td>0.554425</td>\n",
              "      <td>0.728381</td>\n",
              "      <td>0.688040</td>\n",
              "      <td>-1.276538</td>\n",
              "      <td>0.493806</td>\n",
              "      <td>0.365453</td>\n",
              "      <td>0.164882</td>\n",
              "      <td>-0.046585</td>\n",
              "      <td>-0.409193</td>\n",
              "      <td>-0.285229</td>\n",
              "      <td>0.156441</td>\n",
              "      <td>0.619387</td>\n",
              "      <td>0.292687</td>\n",
              "      <td>-0.513979</td>\n",
              "      <td>-0.480759</td>\n",
              "      <td>-0.049224</td>\n",
              "      <td>-0.227547</td>\n",
              "      <td>-0.427596</td>\n",
              "      <td>0.323901</td>\n",
              "      <td>0.424486</td>\n",
              "      <td>0.568255</td>\n",
              "      <td>-0.207187</td>\n",
              "      <td>-0.004554</td>\n",
              "      <td>-0.177462</td>\n",
              "      <td>-0.286638</td>\n",
              "      <td>0.484345</td>\n",
              "      <td>0.114428</td>\n",
              "      <td>0.231949</td>\n",
              "      <td>-0.196089</td>\n",
              "      <td>-0.319453</td>\n",
              "      <td>-0.327187</td>\n",
              "      <td>-0.212140</td>\n",
              "      <td>-0.368804</td>\n",
              "      <td>-0.171623</td>\n",
              "      <td>0.280848</td>\n",
              "      <td>0.154338</td>\n",
              "      <td>-0.017116</td>\n",
              "      <td>0.050601</td>\n",
              "      <td>0.103187</td>\n",
              "      <td>-0.191799</td>\n",
              "      <td>-0.378358</td>\n",
              "      <td>0.148624</td>\n",
              "      <td>-0.163257</td>\n",
              "      <td>-0.913688</td>\n",
              "      <td>0.988551</td>\n",
              "      <td>-1.029437</td>\n",
              "    </tr>\n",
              "    <tr>\n",
              "      <th>646</th>\n",
              "      <td>-0.784456</td>\n",
              "      <td>-0.880514</td>\n",
              "      <td>-0.950258</td>\n",
              "      <td>-0.694708</td>\n",
              "      <td>-0.332380</td>\n",
              "      <td>-0.789709</td>\n",
              "      <td>-1.692071</td>\n",
              "      <td>-0.571821</td>\n",
              "      <td>0.306711</td>\n",
              "      <td>-0.098260</td>\n",
              "      <td>0.662984</td>\n",
              "      <td>-0.457121</td>\n",
              "      <td>-0.337522</td>\n",
              "      <td>0.354238</td>\n",
              "      <td>1.368256</td>\n",
              "      <td>0.083012</td>\n",
              "      <td>0.000093</td>\n",
              "      <td>-0.212046</td>\n",
              "      <td>0.517044</td>\n",
              "      <td>0.706319</td>\n",
              "      <td>1.039495</td>\n",
              "      <td>0.611106</td>\n",
              "      <td>0.471023</td>\n",
              "      <td>-0.716133</td>\n",
              "      <td>-0.035498</td>\n",
              "      <td>0.601194</td>\n",
              "      <td>0.165976</td>\n",
              "      <td>0.176257</td>\n",
              "      <td>-0.291360</td>\n",
              "      <td>-0.285229</td>\n",
              "      <td>0.156441</td>\n",
              "      <td>0.619387</td>\n",
              "      <td>0.292687</td>\n",
              "      <td>-0.513979</td>\n",
              "      <td>-0.480759</td>\n",
              "      <td>-0.049224</td>\n",
              "      <td>-0.227547</td>\n",
              "      <td>-0.427596</td>\n",
              "      <td>0.323901</td>\n",
              "      <td>1.155223</td>\n",
              "      <td>0.026870</td>\n",
              "      <td>-0.174226</td>\n",
              "      <td>-0.235207</td>\n",
              "      <td>-0.141368</td>\n",
              "      <td>-0.275499</td>\n",
              "      <td>-0.074209</td>\n",
              "      <td>0.236989</td>\n",
              "      <td>0.045417</td>\n",
              "      <td>-0.042020</td>\n",
              "      <td>0.397578</td>\n",
              "      <td>0.121484</td>\n",
              "      <td>0.165289</td>\n",
              "      <td>0.145955</td>\n",
              "      <td>0.025789</td>\n",
              "      <td>-0.134742</td>\n",
              "      <td>1.236115</td>\n",
              "      <td>0.412332</td>\n",
              "      <td>-0.647051</td>\n",
              "      <td>0.693658</td>\n",
              "      <td>-0.511767</td>\n",
              "      <td>-0.611768</td>\n",
              "      <td>0.585687</td>\n",
              "      <td>-0.394186</td>\n",
              "      <td>-0.913688</td>\n",
              "      <td>0.988551</td>\n",
              "      <td>-1.029437</td>\n",
              "    </tr>\n",
              "    <tr>\n",
              "      <th>587</th>\n",
              "      <td>-0.784456</td>\n",
              "      <td>-1.233533</td>\n",
              "      <td>0.490287</td>\n",
              "      <td>0.356481</td>\n",
              "      <td>-0.177204</td>\n",
              "      <td>-0.789709</td>\n",
              "      <td>-0.144845</td>\n",
              "      <td>-0.571821</td>\n",
              "      <td>-1.524149</td>\n",
              "      <td>-0.098260</td>\n",
              "      <td>0.662984</td>\n",
              "      <td>-0.457121</td>\n",
              "      <td>-0.337522</td>\n",
              "      <td>0.354238</td>\n",
              "      <td>1.368256</td>\n",
              "      <td>0.083012</td>\n",
              "      <td>0.000093</td>\n",
              "      <td>-0.212046</td>\n",
              "      <td>0.517044</td>\n",
              "      <td>0.706319</td>\n",
              "      <td>1.039495</td>\n",
              "      <td>0.611106</td>\n",
              "      <td>0.471023</td>\n",
              "      <td>-0.716133</td>\n",
              "      <td>-0.035498</td>\n",
              "      <td>0.871657</td>\n",
              "      <td>0.246796</td>\n",
              "      <td>-0.714702</td>\n",
              "      <td>-0.791369</td>\n",
              "      <td>-0.226056</td>\n",
              "      <td>-0.168886</td>\n",
              "      <td>0.700656</td>\n",
              "      <td>0.228744</td>\n",
              "      <td>-0.176922</td>\n",
              "      <td>-0.544135</td>\n",
              "      <td>-0.151451</td>\n",
              "      <td>-0.028602</td>\n",
              "      <td>-0.662329</td>\n",
              "      <td>0.328475</td>\n",
              "      <td>-0.547750</td>\n",
              "      <td>0.115853</td>\n",
              "      <td>-0.245288</td>\n",
              "      <td>0.115489</td>\n",
              "      <td>0.033480</td>\n",
              "      <td>-0.020475</td>\n",
              "      <td>-0.124803</td>\n",
              "      <td>-0.134231</td>\n",
              "      <td>0.095484</td>\n",
              "      <td>-0.360175</td>\n",
              "      <td>-0.067762</td>\n",
              "      <td>-0.219155</td>\n",
              "      <td>-0.148862</td>\n",
              "      <td>-0.096648</td>\n",
              "      <td>-0.008878</td>\n",
              "      <td>-0.029317</td>\n",
              "      <td>0.739162</td>\n",
              "      <td>-0.060087</td>\n",
              "      <td>-0.172588</td>\n",
              "      <td>-0.081863</td>\n",
              "      <td>-0.439875</td>\n",
              "      <td>-0.703946</td>\n",
              "      <td>0.170221</td>\n",
              "      <td>0.272057</td>\n",
              "      <td>-0.913688</td>\n",
              "      <td>0.988551</td>\n",
              "      <td>-1.029437</td>\n",
              "    </tr>\n",
              "    <tr>\n",
              "      <th>...</th>\n",
              "      <td>...</td>\n",
              "      <td>...</td>\n",
              "      <td>...</td>\n",
              "      <td>...</td>\n",
              "      <td>...</td>\n",
              "      <td>...</td>\n",
              "      <td>...</td>\n",
              "      <td>...</td>\n",
              "      <td>...</td>\n",
              "      <td>...</td>\n",
              "      <td>...</td>\n",
              "      <td>...</td>\n",
              "      <td>...</td>\n",
              "      <td>...</td>\n",
              "      <td>...</td>\n",
              "      <td>...</td>\n",
              "      <td>...</td>\n",
              "      <td>...</td>\n",
              "      <td>...</td>\n",
              "      <td>...</td>\n",
              "      <td>...</td>\n",
              "      <td>...</td>\n",
              "      <td>...</td>\n",
              "      <td>...</td>\n",
              "      <td>...</td>\n",
              "      <td>...</td>\n",
              "      <td>...</td>\n",
              "      <td>...</td>\n",
              "      <td>...</td>\n",
              "      <td>...</td>\n",
              "      <td>...</td>\n",
              "      <td>...</td>\n",
              "      <td>...</td>\n",
              "      <td>...</td>\n",
              "      <td>...</td>\n",
              "      <td>...</td>\n",
              "      <td>...</td>\n",
              "      <td>...</td>\n",
              "      <td>...</td>\n",
              "      <td>...</td>\n",
              "      <td>...</td>\n",
              "      <td>...</td>\n",
              "      <td>...</td>\n",
              "      <td>...</td>\n",
              "      <td>...</td>\n",
              "      <td>...</td>\n",
              "      <td>...</td>\n",
              "      <td>...</td>\n",
              "      <td>...</td>\n",
              "      <td>...</td>\n",
              "      <td>...</td>\n",
              "      <td>...</td>\n",
              "      <td>...</td>\n",
              "      <td>...</td>\n",
              "      <td>...</td>\n",
              "      <td>...</td>\n",
              "      <td>...</td>\n",
              "      <td>...</td>\n",
              "      <td>...</td>\n",
              "      <td>...</td>\n",
              "      <td>...</td>\n",
              "      <td>...</td>\n",
              "      <td>...</td>\n",
              "      <td>...</td>\n",
              "      <td>...</td>\n",
              "      <td>...</td>\n",
              "    </tr>\n",
              "    <tr>\n",
              "      <th>184</th>\n",
              "      <td>-0.784456</td>\n",
              "      <td>-0.497452</td>\n",
              "      <td>-0.950258</td>\n",
              "      <td>-2.074394</td>\n",
              "      <td>-0.308398</td>\n",
              "      <td>-0.068077</td>\n",
              "      <td>0.290312</td>\n",
              "      <td>-0.571821</td>\n",
              "      <td>-0.913863</td>\n",
              "      <td>-0.098260</td>\n",
              "      <td>0.662984</td>\n",
              "      <td>-0.457121</td>\n",
              "      <td>-0.337522</td>\n",
              "      <td>0.354238</td>\n",
              "      <td>1.368256</td>\n",
              "      <td>0.083012</td>\n",
              "      <td>0.000093</td>\n",
              "      <td>-0.212046</td>\n",
              "      <td>0.517044</td>\n",
              "      <td>0.706319</td>\n",
              "      <td>1.039495</td>\n",
              "      <td>0.611106</td>\n",
              "      <td>0.471023</td>\n",
              "      <td>-0.716133</td>\n",
              "      <td>-0.035498</td>\n",
              "      <td>-0.076866</td>\n",
              "      <td>1.223898</td>\n",
              "      <td>-0.171211</td>\n",
              "      <td>0.574309</td>\n",
              "      <td>-0.364040</td>\n",
              "      <td>0.562128</td>\n",
              "      <td>0.668592</td>\n",
              "      <td>-0.574836</td>\n",
              "      <td>0.897173</td>\n",
              "      <td>-0.189463</td>\n",
              "      <td>-1.112628</td>\n",
              "      <td>1.275597</td>\n",
              "      <td>-0.109957</td>\n",
              "      <td>0.376521</td>\n",
              "      <td>0.164641</td>\n",
              "      <td>0.675324</td>\n",
              "      <td>-0.320690</td>\n",
              "      <td>-0.385253</td>\n",
              "      <td>-0.425557</td>\n",
              "      <td>0.051713</td>\n",
              "      <td>0.254816</td>\n",
              "      <td>-0.288916</td>\n",
              "      <td>0.499271</td>\n",
              "      <td>-0.679393</td>\n",
              "      <td>0.213272</td>\n",
              "      <td>-0.398031</td>\n",
              "      <td>-0.391234</td>\n",
              "      <td>-0.459416</td>\n",
              "      <td>-0.223255</td>\n",
              "      <td>0.081289</td>\n",
              "      <td>0.074129</td>\n",
              "      <td>0.234366</td>\n",
              "      <td>0.464601</td>\n",
              "      <td>0.141270</td>\n",
              "      <td>0.190861</td>\n",
              "      <td>0.049206</td>\n",
              "      <td>-0.221243</td>\n",
              "      <td>0.297241</td>\n",
              "      <td>-0.913688</td>\n",
              "      <td>0.988551</td>\n",
              "      <td>-1.029437</td>\n",
              "    </tr>\n",
              "    <tr>\n",
              "      <th>178</th>\n",
              "      <td>2.056613</td>\n",
              "      <td>1.346507</td>\n",
              "      <td>3.131286</td>\n",
              "      <td>1.210572</td>\n",
              "      <td>0.697725</td>\n",
              "      <td>-0.789709</td>\n",
              "      <td>1.160626</td>\n",
              "      <td>3.521280</td>\n",
              "      <td>1.527284</td>\n",
              "      <td>-0.371898</td>\n",
              "      <td>0.271798</td>\n",
              "      <td>-0.353977</td>\n",
              "      <td>-0.541258</td>\n",
              "      <td>0.053243</td>\n",
              "      <td>0.258837</td>\n",
              "      <td>0.082405</td>\n",
              "      <td>-0.050826</td>\n",
              "      <td>-0.006714</td>\n",
              "      <td>-0.099587</td>\n",
              "      <td>0.497514</td>\n",
              "      <td>-0.194116</td>\n",
              "      <td>0.728381</td>\n",
              "      <td>0.688040</td>\n",
              "      <td>-1.276538</td>\n",
              "      <td>0.493806</td>\n",
              "      <td>0.107040</td>\n",
              "      <td>0.172590</td>\n",
              "      <td>-0.345049</td>\n",
              "      <td>-0.113830</td>\n",
              "      <td>-0.294408</td>\n",
              "      <td>-0.272425</td>\n",
              "      <td>-0.796623</td>\n",
              "      <td>-0.733487</td>\n",
              "      <td>0.858247</td>\n",
              "      <td>-0.026837</td>\n",
              "      <td>-0.290776</td>\n",
              "      <td>0.230091</td>\n",
              "      <td>-0.019295</td>\n",
              "      <td>0.052460</td>\n",
              "      <td>0.424486</td>\n",
              "      <td>0.568255</td>\n",
              "      <td>-0.207187</td>\n",
              "      <td>-0.004554</td>\n",
              "      <td>-0.177462</td>\n",
              "      <td>-0.286638</td>\n",
              "      <td>0.484345</td>\n",
              "      <td>0.114428</td>\n",
              "      <td>0.231949</td>\n",
              "      <td>-0.196089</td>\n",
              "      <td>-0.319453</td>\n",
              "      <td>-0.327187</td>\n",
              "      <td>-0.212140</td>\n",
              "      <td>-0.368804</td>\n",
              "      <td>-0.171623</td>\n",
              "      <td>0.280848</td>\n",
              "      <td>1.236115</td>\n",
              "      <td>0.412332</td>\n",
              "      <td>-0.647051</td>\n",
              "      <td>0.693658</td>\n",
              "      <td>-0.511767</td>\n",
              "      <td>-0.611768</td>\n",
              "      <td>0.585687</td>\n",
              "      <td>-0.394186</td>\n",
              "      <td>-0.913688</td>\n",
              "      <td>0.988551</td>\n",
              "      <td>-1.029437</td>\n",
              "    </tr>\n",
              "    <tr>\n",
              "      <th>1203</th>\n",
              "      <td>0.636078</td>\n",
              "      <td>0.212341</td>\n",
              "      <td>-0.950258</td>\n",
              "      <td>0.947775</td>\n",
              "      <td>-0.075433</td>\n",
              "      <td>-0.789709</td>\n",
              "      <td>0.773820</td>\n",
              "      <td>0.363901</td>\n",
              "      <td>-0.303576</td>\n",
              "      <td>-0.098260</td>\n",
              "      <td>0.662984</td>\n",
              "      <td>-0.457121</td>\n",
              "      <td>-0.337522</td>\n",
              "      <td>0.231444</td>\n",
              "      <td>0.902354</td>\n",
              "      <td>-0.360187</td>\n",
              "      <td>-0.090635</td>\n",
              "      <td>-0.430029</td>\n",
              "      <td>-0.376398</td>\n",
              "      <td>0.371185</td>\n",
              "      <td>0.554425</td>\n",
              "      <td>0.728381</td>\n",
              "      <td>0.688040</td>\n",
              "      <td>-1.276538</td>\n",
              "      <td>0.493806</td>\n",
              "      <td>0.365453</td>\n",
              "      <td>0.164882</td>\n",
              "      <td>-0.046585</td>\n",
              "      <td>-0.409193</td>\n",
              "      <td>-0.090827</td>\n",
              "      <td>-0.168696</td>\n",
              "      <td>0.871461</td>\n",
              "      <td>0.287155</td>\n",
              "      <td>0.027949</td>\n",
              "      <td>0.014645</td>\n",
              "      <td>-0.371387</td>\n",
              "      <td>0.168929</td>\n",
              "      <td>-0.219822</td>\n",
              "      <td>0.047729</td>\n",
              "      <td>0.424486</td>\n",
              "      <td>0.568255</td>\n",
              "      <td>-0.207187</td>\n",
              "      <td>-0.004554</td>\n",
              "      <td>-0.177462</td>\n",
              "      <td>-0.286638</td>\n",
              "      <td>0.484345</td>\n",
              "      <td>0.114428</td>\n",
              "      <td>0.231949</td>\n",
              "      <td>-0.196089</td>\n",
              "      <td>-0.319453</td>\n",
              "      <td>-0.327187</td>\n",
              "      <td>-0.212140</td>\n",
              "      <td>-0.368804</td>\n",
              "      <td>-0.171623</td>\n",
              "      <td>0.280848</td>\n",
              "      <td>1.236115</td>\n",
              "      <td>0.412332</td>\n",
              "      <td>-0.647051</td>\n",
              "      <td>0.693658</td>\n",
              "      <td>-0.511767</td>\n",
              "      <td>-0.611768</td>\n",
              "      <td>0.585687</td>\n",
              "      <td>-0.394186</td>\n",
              "      <td>-0.913688</td>\n",
              "      <td>0.988551</td>\n",
              "      <td>-1.029437</td>\n",
              "    </tr>\n",
              "    <tr>\n",
              "      <th>1026</th>\n",
              "      <td>-0.784456</td>\n",
              "      <td>-0.474918</td>\n",
              "      <td>0.543879</td>\n",
              "      <td>-0.366212</td>\n",
              "      <td>-0.120776</td>\n",
              "      <td>-0.789709</td>\n",
              "      <td>-1.208563</td>\n",
              "      <td>1.201126</td>\n",
              "      <td>-0.303576</td>\n",
              "      <td>-0.098260</td>\n",
              "      <td>0.662984</td>\n",
              "      <td>-0.457121</td>\n",
              "      <td>-0.337522</td>\n",
              "      <td>0.354238</td>\n",
              "      <td>1.368256</td>\n",
              "      <td>0.083012</td>\n",
              "      <td>0.000093</td>\n",
              "      <td>-0.212046</td>\n",
              "      <td>0.517044</td>\n",
              "      <td>0.706319</td>\n",
              "      <td>1.039495</td>\n",
              "      <td>0.611106</td>\n",
              "      <td>0.471023</td>\n",
              "      <td>-0.716133</td>\n",
              "      <td>-0.035498</td>\n",
              "      <td>0.871657</td>\n",
              "      <td>0.246796</td>\n",
              "      <td>-0.714702</td>\n",
              "      <td>-0.791369</td>\n",
              "      <td>-0.285229</td>\n",
              "      <td>0.156441</td>\n",
              "      <td>0.619387</td>\n",
              "      <td>0.292687</td>\n",
              "      <td>-0.513979</td>\n",
              "      <td>-0.480759</td>\n",
              "      <td>-0.049224</td>\n",
              "      <td>-0.227547</td>\n",
              "      <td>-0.427596</td>\n",
              "      <td>0.323901</td>\n",
              "      <td>1.155223</td>\n",
              "      <td>0.026870</td>\n",
              "      <td>-0.174226</td>\n",
              "      <td>-0.235207</td>\n",
              "      <td>-0.141368</td>\n",
              "      <td>-0.275499</td>\n",
              "      <td>-0.074209</td>\n",
              "      <td>0.236989</td>\n",
              "      <td>0.095484</td>\n",
              "      <td>-0.360175</td>\n",
              "      <td>-0.067762</td>\n",
              "      <td>-0.219155</td>\n",
              "      <td>-0.148862</td>\n",
              "      <td>-0.096648</td>\n",
              "      <td>-0.008878</td>\n",
              "      <td>-0.029317</td>\n",
              "      <td>1.236115</td>\n",
              "      <td>0.412332</td>\n",
              "      <td>-0.647051</td>\n",
              "      <td>0.693658</td>\n",
              "      <td>-0.511767</td>\n",
              "      <td>-0.611768</td>\n",
              "      <td>0.585687</td>\n",
              "      <td>-0.394186</td>\n",
              "      <td>-0.913688</td>\n",
              "      <td>0.988551</td>\n",
              "      <td>-1.029437</td>\n",
              "    </tr>\n",
              "    <tr>\n",
              "      <th>395</th>\n",
              "      <td>-0.784456</td>\n",
              "      <td>-0.700249</td>\n",
              "      <td>0.633913</td>\n",
              "      <td>-0.497610</td>\n",
              "      <td>-0.093470</td>\n",
              "      <td>-0.789709</td>\n",
              "      <td>-1.401966</td>\n",
              "      <td>-0.571821</td>\n",
              "      <td>-0.303576</td>\n",
              "      <td>-0.422371</td>\n",
              "      <td>1.031657</td>\n",
              "      <td>-0.975907</td>\n",
              "      <td>-0.840798</td>\n",
              "      <td>0.354238</td>\n",
              "      <td>1.368256</td>\n",
              "      <td>0.083012</td>\n",
              "      <td>0.000093</td>\n",
              "      <td>-0.212046</td>\n",
              "      <td>0.517044</td>\n",
              "      <td>0.706319</td>\n",
              "      <td>1.039495</td>\n",
              "      <td>0.611106</td>\n",
              "      <td>0.471023</td>\n",
              "      <td>-0.716133</td>\n",
              "      <td>-0.035498</td>\n",
              "      <td>0.871657</td>\n",
              "      <td>0.246796</td>\n",
              "      <td>-0.714702</td>\n",
              "      <td>-0.791369</td>\n",
              "      <td>-0.189802</td>\n",
              "      <td>0.786304</td>\n",
              "      <td>-0.119792</td>\n",
              "      <td>-0.485488</td>\n",
              "      <td>-0.340217</td>\n",
              "      <td>-0.088975</td>\n",
              "      <td>0.520442</td>\n",
              "      <td>-0.578170</td>\n",
              "      <td>0.067185</td>\n",
              "      <td>-0.616657</td>\n",
              "      <td>-0.132984</td>\n",
              "      <td>-0.307707</td>\n",
              "      <td>-0.147352</td>\n",
              "      <td>0.562613</td>\n",
              "      <td>-0.400095</td>\n",
              "      <td>-0.357094</td>\n",
              "      <td>-0.235092</td>\n",
              "      <td>0.293668</td>\n",
              "      <td>0.325047</td>\n",
              "      <td>-0.055078</td>\n",
              "      <td>-0.542773</td>\n",
              "      <td>-0.231445</td>\n",
              "      <td>-0.356122</td>\n",
              "      <td>-0.431152</td>\n",
              "      <td>-0.283618</td>\n",
              "      <td>0.209307</td>\n",
              "      <td>1.236115</td>\n",
              "      <td>0.412332</td>\n",
              "      <td>-0.647051</td>\n",
              "      <td>0.693658</td>\n",
              "      <td>-0.511767</td>\n",
              "      <td>-0.611768</td>\n",
              "      <td>0.585687</td>\n",
              "      <td>-0.394186</td>\n",
              "      <td>-0.913688</td>\n",
              "      <td>0.988551</td>\n",
              "      <td>-1.029437</td>\n",
              "    </tr>\n",
              "  </tbody>\n",
              "</table>\n",
              "<p>1168 rows × 66 columns</p>\n",
              "</div>\n",
              "      <button class=\"colab-df-convert\" onclick=\"convertToInteractive('df-afe3cfc7-7bcb-47ea-9825-2ef24d632c3f')\"\n",
              "              title=\"Convert this dataframe to an interactive table.\"\n",
              "              style=\"display:none;\">\n",
              "        \n",
              "  <svg xmlns=\"http://www.w3.org/2000/svg\" height=\"24px\"viewBox=\"0 0 24 24\"\n",
              "       width=\"24px\">\n",
              "    <path d=\"M0 0h24v24H0V0z\" fill=\"none\"/>\n",
              "    <path d=\"M18.56 5.44l.94 2.06.94-2.06 2.06-.94-2.06-.94-.94-2.06-.94 2.06-2.06.94zm-11 1L8.5 8.5l.94-2.06 2.06-.94-2.06-.94L8.5 2.5l-.94 2.06-2.06.94zm10 10l.94 2.06.94-2.06 2.06-.94-2.06-.94-.94-2.06-.94 2.06-2.06.94z\"/><path d=\"M17.41 7.96l-1.37-1.37c-.4-.4-.92-.59-1.43-.59-.52 0-1.04.2-1.43.59L10.3 9.45l-7.72 7.72c-.78.78-.78 2.05 0 2.83L4 21.41c.39.39.9.59 1.41.59.51 0 1.02-.2 1.41-.59l7.78-7.78 2.81-2.81c.8-.78.8-2.07 0-2.86zM5.41 20L4 18.59l7.72-7.72 1.47 1.35L5.41 20z\"/>\n",
              "  </svg>\n",
              "      </button>\n",
              "      \n",
              "  <style>\n",
              "    .colab-df-container {\n",
              "      display:flex;\n",
              "      flex-wrap:wrap;\n",
              "      gap: 12px;\n",
              "    }\n",
              "\n",
              "    .colab-df-convert {\n",
              "      background-color: #E8F0FE;\n",
              "      border: none;\n",
              "      border-radius: 50%;\n",
              "      cursor: pointer;\n",
              "      display: none;\n",
              "      fill: #1967D2;\n",
              "      height: 32px;\n",
              "      padding: 0 0 0 0;\n",
              "      width: 32px;\n",
              "    }\n",
              "\n",
              "    .colab-df-convert:hover {\n",
              "      background-color: #E2EBFA;\n",
              "      box-shadow: 0px 1px 2px rgba(60, 64, 67, 0.3), 0px 1px 3px 1px rgba(60, 64, 67, 0.15);\n",
              "      fill: #174EA6;\n",
              "    }\n",
              "\n",
              "    [theme=dark] .colab-df-convert {\n",
              "      background-color: #3B4455;\n",
              "      fill: #D2E3FC;\n",
              "    }\n",
              "\n",
              "    [theme=dark] .colab-df-convert:hover {\n",
              "      background-color: #434B5C;\n",
              "      box-shadow: 0px 1px 3px 1px rgba(0, 0, 0, 0.15);\n",
              "      filter: drop-shadow(0px 1px 2px rgba(0, 0, 0, 0.3));\n",
              "      fill: #FFFFFF;\n",
              "    }\n",
              "  </style>\n",
              "\n",
              "      <script>\n",
              "        const buttonEl =\n",
              "          document.querySelector('#df-afe3cfc7-7bcb-47ea-9825-2ef24d632c3f button.colab-df-convert');\n",
              "        buttonEl.style.display =\n",
              "          google.colab.kernel.accessAllowed ? 'block' : 'none';\n",
              "\n",
              "        async function convertToInteractive(key) {\n",
              "          const element = document.querySelector('#df-afe3cfc7-7bcb-47ea-9825-2ef24d632c3f');\n",
              "          const dataTable =\n",
              "            await google.colab.kernel.invokeFunction('convertToInteractive',\n",
              "                                                     [key], {});\n",
              "          if (!dataTable) return;\n",
              "\n",
              "          const docLinkHtml = 'Like what you see? Visit the ' +\n",
              "            '<a target=\"_blank\" href=https://colab.research.google.com/notebooks/data_table.ipynb>data table notebook</a>'\n",
              "            + ' to learn more about interactive tables.';\n",
              "          element.innerHTML = '';\n",
              "          dataTable['output_type'] = 'display_data';\n",
              "          await google.colab.output.renderOutput(dataTable, element);\n",
              "          const docLink = document.createElement('div');\n",
              "          docLink.innerHTML = docLinkHtml;\n",
              "          element.appendChild(docLink);\n",
              "        }\n",
              "      </script>\n",
              "    </div>\n",
              "  </div>\n",
              "  "
            ]
          },
          "metadata": {},
          "execution_count": 271
        }
      ]
    },
    {
      "cell_type": "code",
      "source": [
        "emb_xs = embed_features(learn, to_nn.train.xs)\n",
        "emb_valid_xs = embed_features(learn, to_nn.valid.xs)"
      ],
      "metadata": {
        "id": "RIREqydPIagL"
      },
      "execution_count": null,
      "outputs": []
    },
    {
      "cell_type": "code",
      "source": [
        "m = rf(emb_xs , y)\n",
        "m_rmse(m, emb_valid_xs, valid_y)"
      ],
      "metadata": {
        "colab": {
          "base_uri": "https://localhost:8080/"
        },
        "id": "VrP6KawSItpc",
        "outputId": "cb79da3c-3976-4521-89d6-0b330953b33b"
      },
      "execution_count": null,
      "outputs": [
        {
          "output_type": "execute_result",
          "data": {
            "text/plain": [
              "26969.680643"
            ]
          },
          "metadata": {},
          "execution_count": 273
        }
      ]
    },
    {
      "cell_type": "code",
      "source": [
        "m = rf(to_nn.train.xs , y)\n",
        "m_rmse(m,  to_nn.valid.xs, valid_y)"
      ],
      "metadata": {
        "colab": {
          "base_uri": "https://localhost:8080/"
        },
        "id": "AaqwvY7_xIMY",
        "outputId": "5577ee5b-6510-423e-c752-aa94a59c689b"
      },
      "execution_count": null,
      "outputs": [
        {
          "output_type": "execute_result",
          "data": {
            "text/plain": [
              "27336.34968"
            ]
          },
          "metadata": {},
          "execution_count": 274
        }
      ]
    },
    {
      "cell_type": "markdown",
      "source": [
        "INTENRESTINGLY, THE MODEL WITH EMBEDDINGS IS BETTER THAN THE ORIGINAL RANDOM FOREST, BUT WORST THAN THE EMSEMMBLE, WHEN INTERPRETABILITY IS KEY, NOTE THAT USING THE RF WITH EMBEDDINGS IS THE BEST MODEL WITH ALL THE RANDOM FOREST FUNCTIONALITIES. THIS IS IN LINE WITH THE PAPER FOUNDINGS, WHERE THE USING CATEGORICAL EMBEDDINGS LEADS TO BETTER PERFORMANCE FOR MACHINE LEARNING. IN OUR CASE, AND EMSEMBLE OF MODELS GIVES THE BEST MSE, IN OUR CASE 24K, BETTER THAN THE ORIGINAL RF (28K) AND THE NEURAL NETWORK ALONE (26K)"
      ],
      "metadata": {
        "id": "iocFqmR9PuzM"
      }
    },
    {
      "cell_type": "markdown",
      "metadata": {
        "id": "jwdSSkmP8f43"
      },
      "source": [
        "### Combining Embeddings with Other Methods"
      ]
    },
    {
      "cell_type": "markdown",
      "metadata": {
        "id": "Ox4ODBY-8f43"
      },
      "source": [
        "The abstract of the entity embedding paper we mentioned at the start of this chapter states: \"the embeddings obtained from the trained neural network boost the performance of all tested machine learning methods considerably when used as the input features instead\". It includes the very interesting table in <<embedding_mixed>>."
      ]
    },
    {
      "cell_type": "markdown",
      "metadata": {
        "hide_input": false,
        "id": "2DdhnX5F8f43"
      },
      "source": [
        "<img alt=\"Embeddings combined with other methods\" width=\"500\" id=\"embedding_mixed\" caption=\"Effects of using neural network embeddings as input to other machine learning methods (courtesy of Cheng Guo and Felix Berkhahn)\" src=\"https://github.com/fastai/fastbook/blob/master/images/att_00054.png?raw=1\">"
      ]
    },
    {
      "cell_type": "markdown",
      "metadata": {
        "id": "wH0vKi7l8f43"
      },
      "source": [
        "This is showing the mean average percent error (MAPE) compared among four different modeling techniques, three of which we have already seen, along with *k*-nearest neighbors (KNN), which is a very simple baseline method. The first numeric column contains the results of using the methods on the data provided in the competition; the second column shows what happens if you first train a neural network with categorical embeddings, and then use those categorical embeddings instead of the raw categorical columns in the model. As you see, in every case, the models are dramatically improved by using the embeddings instead of the raw categories.\n",
        "\n",
        "This is a really important result, because it shows that you can get much of the performance improvement of a neural network without actually having to use a neural network at inference time. You could just use an embedding, which is literally just an array lookup, along with a small decision tree ensemble.\n",
        "\n",
        "These embeddings need not even be necessarily learned separately for each model or task in an organization. Instead, once a set of embeddings are learned for some column for some task, they could be stored in a central place, and reused across multiple models. In fact, we know from private communication with other practitioners at large companies that this is already happening in many places."
      ]
    },
    {
      "cell_type": "markdown",
      "metadata": {
        "id": "AlHJT-p68f43"
      },
      "source": [
        "## Conclusion: Our Advice for Tabular Modeling"
      ]
    },
    {
      "cell_type": "markdown",
      "metadata": {
        "id": "WhFUsPGl8f44"
      },
      "source": [
        "We have dicussed two approaches to tabular modeling: decision tree ensembles and neural networks. We've also mentioned two different decision tree ensembles: random forests, and gradient boosting machines. Each is very effective, but each also has compromises:\n",
        "\n",
        "- *Random forests* are the easiest to train, because they are extremely resilient to hyperparameter choices and require very little preprocessing. They are very fast to train, and should not overfit if you have enough trees. But they can be a little less accurate, especially if extrapolation is required, such as predicting future time periods.\n",
        "\n",
        "- *Gradient boosting machines* in theory are just as fast to train as random forests, but in practice you will have to try lots of different hyperparameters. They can overfit, but they are often a little more accurate than random forests.\n",
        "\n",
        "- *Neural networks* take the longest time to train, and require extra preprocessing, such as normalization; this normalization needs to be used at inference time as well. They can provide great results and extrapolate well, but only if you are careful with your hyperparameters and take care to avoid overfitting.\n",
        "\n",
        "We suggest starting your analysis with a random forest. This will give you a strong baseline, and you can be confident that it's a reasonable starting point. You can then use that model for feature selection and partial dependence analysis, to get a better understanding of your data.\n",
        "\n",
        "From that foundation, you can try neural nets and GBMs, and if they give you significantly better results on your validation set in a reasonable amount of time, you can use them. If decision tree ensembles are working well for you, try adding the embeddings for the categorical variables to the data, and see if that helps your decision trees learn better."
      ]
    }
  ],
  "metadata": {
    "kernelspec": {
      "display_name": "Python 3 (ipykernel)",
      "language": "python",
      "name": "python3"
    },
    "colab": {
      "name": "09_tabular.ipynb",
      "provenance": [],
      "machine_shape": "hm",
      "include_colab_link": true
    },
    "accelerator": "GPU",
    "gpuClass": "standard"
  },
  "nbformat": 4,
  "nbformat_minor": 0
}