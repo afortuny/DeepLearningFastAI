{
  "cells": [
    {
      "cell_type": "markdown",
      "metadata": {
        "id": "view-in-github",
        "colab_type": "text"
      },
      "source": [
        "<a href=\"https://colab.research.google.com/github/afortuny/DeepLearningFastAI/blob/main/DataMinining%20the%20Water%20Table.ipynb\" target=\"_parent\"><img src=\"https://colab.research.google.com/assets/colab-badge.svg\" alt=\"Open In Colab\"/></a>"
      ]
    },
    {
      "cell_type": "code",
      "execution_count": 1,
      "metadata": {
        "id": "GEez319d8f37",
        "colab": {
          "base_uri": "https://localhost:8080/"
        },
        "outputId": "b602b9d9-1125-403d-d1e9-02282efc6be5"
      },
      "outputs": [
        {
          "output_type": "stream",
          "name": "stdout",
          "text": [
            "\u001b[K     |████████████████████████████████| 719 kB 5.1 MB/s \n",
            "\u001b[K     |████████████████████████████████| 62 kB 732 kB/s \n",
            "\u001b[K     |████████████████████████████████| 1.3 MB 56.1 MB/s \n",
            "\u001b[K     |████████████████████████████████| 365 kB 63.2 MB/s \n",
            "\u001b[K     |████████████████████████████████| 4.7 MB 56.6 MB/s \n",
            "\u001b[K     |████████████████████████████████| 115 kB 56.9 MB/s \n",
            "\u001b[K     |████████████████████████████████| 101 kB 10.2 MB/s \n",
            "\u001b[K     |████████████████████████████████| 212 kB 70.9 MB/s \n",
            "\u001b[K     |████████████████████████████████| 141 kB 64.5 MB/s \n",
            "\u001b[K     |████████████████████████████████| 596 kB 45.1 MB/s \n",
            "\u001b[K     |████████████████████████████████| 127 kB 51.4 MB/s \n",
            "\u001b[K     |████████████████████████████████| 6.6 MB 46.9 MB/s \n",
            "\u001b[?25h  Building wheel for waterfallcharts (setup.py) ... \u001b[?25l\u001b[?25hdone\n",
            "  Building wheel for dtreeviz (setup.py) ... \u001b[?25l\u001b[?25hdone\n",
            "Mounted at /content/gdrive\n"
          ]
        }
      ],
      "source": [
        "#hide\n",
        "! [ -e /content ] && pip install -Uqq fastbook kaggle waterfallcharts treeinterpreter dtreeviz\n",
        "import fastbook\n",
        "fastbook.setup_book()"
      ]
    },
    {
      "cell_type": "code",
      "execution_count": 2,
      "metadata": {
        "hide_input": false,
        "id": "feQaeHKW8f3_"
      },
      "outputs": [],
      "source": [
        "#hide\n",
        "from fastbook import *\n",
        "from pandas.api.types import is_string_dtype, is_numeric_dtype, is_categorical_dtype\n",
        "from fastai.tabular.all import *\n",
        "from sklearn.ensemble import RandomForestClassifier\n",
        "from sklearn.tree import DecisionTreeRegressor\n",
        "from dtreeviz.trees import *\n",
        "from IPython.display import Image, display_svg, SVG\n",
        "\n",
        "pd.options.display.max_rows = 20\n",
        "pd.options.display.max_columns = 8"
      ]
    },
    {
      "cell_type": "markdown",
      "metadata": {
        "id": "CrvivhRN8f4A"
      },
      "source": [
        "#Pump it Up: Data Mining the Water Table\n",
        "HOSTED BY DRIVENDATA"
      ]
    },
    {
      "cell_type": "markdown",
      "metadata": {
        "id": "xSk16PbP8f4K"
      },
      "source": [
        "## The Dataset"
      ]
    },
    {
      "cell_type": "code",
      "execution_count": 3,
      "metadata": {
        "id": "nvGZFsOM8f4M"
      },
      "outputs": [],
      "source": [
        "import pathlib \n",
        "path = pathlib.Path('/content/gdrive/MyDrive/Water')"
      ]
    },
    {
      "cell_type": "code",
      "execution_count": 4,
      "metadata": {
        "id": "pwqs5t338f4N"
      },
      "outputs": [],
      "source": [
        "\n",
        "Path.BASE_PATH = path"
      ]
    },
    {
      "cell_type": "markdown",
      "metadata": {
        "id": "xxDVZlQH8f4N"
      },
      "source": [
        "### Look at the Data"
      ]
    },
    {
      "cell_type": "markdown",
      "metadata": {
        "id": "ls18424D8f4O"
      },
      "source": [
        "In any sort of data science work, it's important to *look at your data directly* to make sure you understand the format, how it's stored, what types of values it holds, etc. Even if you've read a description of the data, the actual data may not be what you expect. We'll start by reading the training set into a Pandas DataFrame. Generally it's a good idea to specify `low_memory=False` unless Pandas actually runs out of memory and returns an error. The `low_memory` parameter, which is `True` by default, tells Pandas to only look at a few rows of data at a time to figure out what type of data is in each column. This means that Pandas can actually end up using different data type for different rows, which generally leads to data processing errors or model training problems later."
      ]
    },
    {
      "cell_type": "code",
      "execution_count": 5,
      "metadata": {
        "id": "z5E3gAxm8f4O"
      },
      "outputs": [],
      "source": [
        "df = pd.read_csv(path/'train.csv', low_memory=False)"
      ]
    },
    {
      "cell_type": "code",
      "execution_count": 6,
      "metadata": {
        "colab": {
          "base_uri": "https://localhost:8080/"
        },
        "id": "tTPw0RHs8f4O",
        "outputId": "6b94649a-4039-4f45-95d6-47aeaecf207a"
      },
      "outputs": [
        {
          "output_type": "execute_result",
          "data": {
            "text/plain": [
              "Index(['id', 'amount_tsh', 'date_recorded', 'funder', 'gps_height',\n",
              "       'installer', 'longitude', 'latitude', 'wpt_name', 'num_private',\n",
              "       'basin', 'subvillage', 'region', 'region_code', 'district_code', 'lga',\n",
              "       'ward', 'population', 'public_meeting', 'recorded_by',\n",
              "       'scheme_management', 'scheme_name', 'permit', 'construction_year',\n",
              "       'extraction_type', 'extraction_type_group', 'extraction_type_class',\n",
              "       'management', 'management_group', 'payment', 'payment_type',\n",
              "       'water_quality', 'quality_group', 'quantity', 'quantity_group',\n",
              "       'source', 'source_type', 'source_class', 'waterpoint_type',\n",
              "       'waterpoint_type_group', 'status_group'],\n",
              "      dtype='object')"
            ]
          },
          "metadata": {},
          "execution_count": 6
        }
      ],
      "source": [
        "df.columns"
      ]
    },
    {
      "cell_type": "code",
      "execution_count": 7,
      "metadata": {
        "id": "lGDxGl3n8f4Q"
      },
      "outputs": [],
      "source": [
        "dep_var = 'status_group'"
      ]
    },
    {
      "cell_type": "code",
      "source": [
        "df_test = pd.read_csv('/content/gdrive/MyDrive/Water/test.csv')"
      ],
      "metadata": {
        "id": "vR89R9wwnGaZ"
      },
      "execution_count": 8,
      "outputs": []
    },
    {
      "cell_type": "code",
      "source": [
        "combined = pd.concat([df, df_test]) # test will have nans at target, but we don't care\n",
        "cont_cols, cat_cols = cont_cat_split(combined, max_card=50)\n",
        "combined = combined[cat_cols]"
      ],
      "metadata": {
        "id": "6ZHRGoOnm8RM"
      },
      "execution_count": 9,
      "outputs": []
    },
    {
      "cell_type": "code",
      "source": [
        "train = df\n",
        "test = df_test\n",
        "train[cont_cols] = train[cont_cols].astype('float') # if target is not float, there will be an error later\n",
        "test[cont_cols[:-1]] = test[cont_cols[:-1]].astype('float'); # slice target off (I had mine at the end of cont_cols)"
      ],
      "metadata": {
        "id": "6OEQI-9ZnS6c"
      },
      "execution_count": 10,
      "outputs": []
    },
    {
      "cell_type": "code",
      "source": [
        "procs = [Categorify, FillMissing]\n",
        "\n",
        "to = TabularPandas(combined,\n",
        "                   procs = procs,\n",
        "                   cat_names = cat_cols)\n",
        "\n",
        "train_to_cat = to.items.iloc[:train.shape[0], :] # transformed cat for train\n",
        "test_to_cat = to.items.iloc[train.shape[0]:, :] # transformed cat for test. Need to separate them"
      ],
      "metadata": {
        "id": "95NEfGmAngjx"
      },
      "execution_count": 11,
      "outputs": []
    },
    {
      "cell_type": "code",
      "source": [
        "train_imp = pd.concat([train_to_cat, train[cont_cols]], 1) # assemble new cat and old cont together\n",
        "test_imp = pd.concat([test_to_cat, test[cont_cols[:-1]]], 1) # exclude target\n"
      ],
      "metadata": {
        "colab": {
          "base_uri": "https://localhost:8080/"
        },
        "id": "R5BrUyG-njPT",
        "outputId": "b0c81cc0-5611-4483-b690-6aeaa7c91b12"
      },
      "execution_count": 12,
      "outputs": [
        {
          "output_type": "stream",
          "name": "stderr",
          "text": [
            "/usr/local/lib/python3.7/dist-packages/ipykernel_launcher.py:1: FutureWarning: In a future version of pandas all arguments of concat except for the argument 'objs' will be keyword-only\n",
            "  \"\"\"Entry point for launching an IPython kernel.\n",
            "/usr/local/lib/python3.7/dist-packages/ipykernel_launcher.py:2: FutureWarning: In a future version of pandas all arguments of concat except for the argument 'objs' will be keyword-only\n",
            "  \n"
          ]
        }
      ]
    },
    {
      "cell_type": "markdown",
      "metadata": {
        "id": "2qkIXxVf8f4Q"
      },
      "source": [
        "We are now ready to explore our first machine learning algorithm for tabular data: decision trees."
      ]
    },
    {
      "cell_type": "markdown",
      "metadata": {
        "id": "syOMXA8u8f4Q"
      },
      "source": [
        "## Decision Trees"
      ]
    },
    {
      "cell_type": "markdown",
      "metadata": {
        "id": "B0lFLXST8f4T"
      },
      "source": [
        "A piece of preparatory processing is to be sure we can handle strings and missing data. Out of the box, sklearn cannot do either. Instead we will use fastai's class `TabularPandas`, which wraps a Pandas DataFrame and provides a few conveniences. To populate a `TabularPandas`, we will use two  `TabularProc`s, `Categorify` and `FillMissing`. A `TabularProc` is like a regular `Transform`, except that:\n",
        "\n",
        "- It returns the exact same object that's passed to it, after modifying the object in place.\n",
        "- It runs the transform once, when data is first passed in, rather than lazily as the data is accessed.\n",
        "\n",
        "`Categorify` is a `TabularProc` that replaces a column with a numeric categorical column. `FillMissing` is a `TabularProc` that replaces missing values with the median of the column, and creates a new Boolean column that is set to `True` for any row where the value was missing. These two transforms are needed for nearly every tabular dataset you will use, so this is a good starting point for your data processing:"
      ]
    },
    {
      "cell_type": "code",
      "execution_count": 14,
      "metadata": {
        "id": "xnQ7Exiq8f4T"
      },
      "outputs": [],
      "source": [
        "procs = [Categorify, FillMissing]"
      ]
    },
    {
      "cell_type": "markdown",
      "metadata": {
        "id": "AXEh-jZI8f4T"
      },
      "source": [
        "`TabularPandas` will also handle splitting the dataset into training and validation sets for us. However we need to be very careful about our validation set. We want to design it so that it is like the *test set* Kaggle will use to judge the contest.\n",
        "\n",
        "We don't get to see the test set. But we do want to define our validation data so that it has the same sort of relationship to the training data as the test set will have.\n",
        "\n",
        "In some cases, just randomly choosing a subset of your data points will do that."
      ]
    },
    {
      "cell_type": "markdown",
      "metadata": {
        "id": "ww_-RDjE8f4T"
      },
      "source": [
        "`TabularPandas` needs to be told which columns are continuous and which are categorical. We can handle that automatically using the helper function `cont_cat_split`:"
      ]
    },
    {
      "cell_type": "code",
      "execution_count": 15,
      "metadata": {
        "id": "-gvxcESN8f4T"
      },
      "outputs": [],
      "source": [
        "cont,cat = cont_cat_split(df, 1, dep_var=dep_var)"
      ]
    },
    {
      "cell_type": "code",
      "source": [
        "cont"
      ],
      "metadata": {
        "colab": {
          "base_uri": "https://localhost:8080/"
        },
        "id": "d6KtMIjI_MPC",
        "outputId": "8071a97b-09e8-4c88-9221-ff902afbcab9"
      },
      "execution_count": 16,
      "outputs": [
        {
          "output_type": "execute_result",
          "data": {
            "text/plain": [
              "['id',\n",
              " 'amount_tsh',\n",
              " 'gps_height',\n",
              " 'longitude',\n",
              " 'latitude',\n",
              " 'num_private',\n",
              " 'region_code',\n",
              " 'district_code',\n",
              " 'population',\n",
              " 'construction_year']"
            ]
          },
          "metadata": {},
          "execution_count": 16
        }
      ]
    },
    {
      "cell_type": "code",
      "source": [
        "del cont[0]"
      ],
      "metadata": {
        "id": "0kMNJtgRqWaS"
      },
      "execution_count": 17,
      "outputs": []
    },
    {
      "cell_type": "code",
      "source": [
        "cat"
      ],
      "metadata": {
        "colab": {
          "base_uri": "https://localhost:8080/"
        },
        "id": "5Qd5Dsd59jdm",
        "outputId": "ec4d2594-ee8f-4f18-d7b8-92974711d0cd"
      },
      "execution_count": 18,
      "outputs": [
        {
          "output_type": "execute_result",
          "data": {
            "text/plain": [
              "['date_recorded',\n",
              " 'funder',\n",
              " 'installer',\n",
              " 'wpt_name',\n",
              " 'basin',\n",
              " 'subvillage',\n",
              " 'region',\n",
              " 'lga',\n",
              " 'ward',\n",
              " 'public_meeting',\n",
              " 'recorded_by',\n",
              " 'scheme_management',\n",
              " 'scheme_name',\n",
              " 'permit',\n",
              " 'extraction_type',\n",
              " 'extraction_type_group',\n",
              " 'extraction_type_class',\n",
              " 'management',\n",
              " 'management_group',\n",
              " 'payment',\n",
              " 'payment_type',\n",
              " 'water_quality',\n",
              " 'quality_group',\n",
              " 'quantity',\n",
              " 'quantity_group',\n",
              " 'source',\n",
              " 'source_type',\n",
              " 'source_class',\n",
              " 'waterpoint_type',\n",
              " 'waterpoint_type_group']"
            ]
          },
          "metadata": {},
          "execution_count": 18
        }
      ]
    },
    {
      "cell_type": "code",
      "source": [
        "splits = RandomSplitter(valid_pct=0.1)(range_of(df))"
      ],
      "metadata": {
        "id": "G-nfM33fBjAq"
      },
      "execution_count": 19,
      "outputs": []
    },
    {
      "cell_type": "code",
      "execution_count": 20,
      "metadata": {
        "id": "K3Yovyuz8f4U"
      },
      "outputs": [],
      "source": [
        "to = TabularPandas(df, procs, cat, cont, y_names=dep_var,splits=splits)"
      ]
    },
    {
      "cell_type": "markdown",
      "metadata": {
        "id": "M4KXFkVN8f4U"
      },
      "source": [
        "A `TabularPandas` behaves a lot like a fastai `Datasets` object, including providing `train` and `valid` attributes:"
      ]
    },
    {
      "cell_type": "code",
      "execution_count": 21,
      "metadata": {
        "colab": {
          "base_uri": "https://localhost:8080/"
        },
        "id": "OQKOya6m8f4U",
        "outputId": "d455111a-6ed5-4304-b33d-1f966e857ca5"
      },
      "outputs": [
        {
          "output_type": "execute_result",
          "data": {
            "text/plain": [
              "(53460, 5940)"
            ]
          },
          "metadata": {},
          "execution_count": 21
        }
      ],
      "source": [
        "len(to.train),len(to.valid)"
      ]
    },
    {
      "cell_type": "markdown",
      "metadata": {
        "id": "kh26Fz-h8f4U"
      },
      "source": [
        "We can see that the data is still displayed as strings for categories (we only show a few columns here because the full table is too big to fit on a page):"
      ]
    },
    {
      "cell_type": "code",
      "execution_count": 22,
      "metadata": {
        "colab": {
          "base_uri": "https://localhost:8080/",
          "height": 285
        },
        "id": "N0RYF9Rs8f4U",
        "outputId": "b8c478ec-42b1-4cb0-c72a-49759473abfe"
      },
      "outputs": [
        {
          "output_type": "display_data",
          "data": {
            "text/plain": [
              "<IPython.core.display.HTML object>"
            ],
            "text/html": [
              "<table border=\"1\" class=\"dataframe\">\n",
              "  <thead>\n",
              "    <tr style=\"text-align: right;\">\n",
              "      <th></th>\n",
              "      <th>date_recorded</th>\n",
              "      <th>funder</th>\n",
              "      <th>installer</th>\n",
              "      <th>wpt_name</th>\n",
              "      <th>basin</th>\n",
              "      <th>subvillage</th>\n",
              "      <th>region</th>\n",
              "      <th>lga</th>\n",
              "      <th>ward</th>\n",
              "      <th>public_meeting</th>\n",
              "      <th>recorded_by</th>\n",
              "      <th>scheme_management</th>\n",
              "      <th>scheme_name</th>\n",
              "      <th>permit</th>\n",
              "      <th>extraction_type</th>\n",
              "      <th>extraction_type_group</th>\n",
              "      <th>extraction_type_class</th>\n",
              "      <th>management</th>\n",
              "      <th>management_group</th>\n",
              "      <th>payment</th>\n",
              "      <th>payment_type</th>\n",
              "      <th>water_quality</th>\n",
              "      <th>quality_group</th>\n",
              "      <th>quantity</th>\n",
              "      <th>quantity_group</th>\n",
              "      <th>source</th>\n",
              "      <th>source_type</th>\n",
              "      <th>source_class</th>\n",
              "      <th>waterpoint_type</th>\n",
              "      <th>waterpoint_type_group</th>\n",
              "      <th>amount_tsh</th>\n",
              "      <th>gps_height</th>\n",
              "      <th>longitude</th>\n",
              "      <th>latitude</th>\n",
              "      <th>num_private</th>\n",
              "      <th>region_code</th>\n",
              "      <th>district_code</th>\n",
              "      <th>population</th>\n",
              "      <th>construction_year</th>\n",
              "      <th>status_group</th>\n",
              "    </tr>\n",
              "  </thead>\n",
              "  <tbody>\n",
              "    <tr>\n",
              "      <th>44846</th>\n",
              "      <td>2/16/2013</td>\n",
              "      <td>Government Of Tanzania</td>\n",
              "      <td>District council</td>\n",
              "      <td>Kwa Rogati Tairo</td>\n",
              "      <td>Pangani</td>\n",
              "      <td>Momwe</td>\n",
              "      <td>Kilimanjaro</td>\n",
              "      <td>Rombo</td>\n",
              "      <td>Kirwa Keni</td>\n",
              "      <td>True</td>\n",
              "      <td>GeoData Consultants Ltd</td>\n",
              "      <td>Company</td>\n",
              "      <td>Mrao water supply</td>\n",
              "      <td>True</td>\n",
              "      <td>gravity</td>\n",
              "      <td>gravity</td>\n",
              "      <td>gravity</td>\n",
              "      <td>company</td>\n",
              "      <td>commercial</td>\n",
              "      <td>never pay</td>\n",
              "      <td>never pay</td>\n",
              "      <td>soft</td>\n",
              "      <td>good</td>\n",
              "      <td>enough</td>\n",
              "      <td>enough</td>\n",
              "      <td>spring</td>\n",
              "      <td>spring</td>\n",
              "      <td>groundwater</td>\n",
              "      <td>communal standpipe</td>\n",
              "      <td>communal standpipe</td>\n",
              "      <td>0.0</td>\n",
              "      <td>1168.0</td>\n",
              "      <td>37.647003</td>\n",
              "      <td>-3.167315</td>\n",
              "      <td>0.0</td>\n",
              "      <td>3</td>\n",
              "      <td>1</td>\n",
              "      <td>1.0</td>\n",
              "      <td>1974.0</td>\n",
              "      <td>non functional</td>\n",
              "    </tr>\n",
              "    <tr>\n",
              "      <th>44810</th>\n",
              "      <td>3/20/2013</td>\n",
              "      <td>Danida</td>\n",
              "      <td>DANIDA</td>\n",
              "      <td>Kwa Mzee Kapinga</td>\n",
              "      <td>Lake Nyasa</td>\n",
              "      <td>Manzeye</td>\n",
              "      <td>Ruvuma</td>\n",
              "      <td>Mbinga</td>\n",
              "      <td>Litembo</td>\n",
              "      <td>#na#</td>\n",
              "      <td>GeoData Consultants Ltd</td>\n",
              "      <td>VWC</td>\n",
              "      <td>DANIDA</td>\n",
              "      <td>True</td>\n",
              "      <td>gravity</td>\n",
              "      <td>gravity</td>\n",
              "      <td>gravity</td>\n",
              "      <td>vwc</td>\n",
              "      <td>user-group</td>\n",
              "      <td>unknown</td>\n",
              "      <td>unknown</td>\n",
              "      <td>soft</td>\n",
              "      <td>good</td>\n",
              "      <td>dry</td>\n",
              "      <td>dry</td>\n",
              "      <td>spring</td>\n",
              "      <td>spring</td>\n",
              "      <td>groundwater</td>\n",
              "      <td>communal standpipe</td>\n",
              "      <td>communal standpipe</td>\n",
              "      <td>0.0</td>\n",
              "      <td>1759.0</td>\n",
              "      <td>34.851070</td>\n",
              "      <td>-10.966649</td>\n",
              "      <td>0.0</td>\n",
              "      <td>10</td>\n",
              "      <td>3</td>\n",
              "      <td>30.0</td>\n",
              "      <td>1991.0</td>\n",
              "      <td>non functional</td>\n",
              "    </tr>\n",
              "    <tr>\n",
              "      <th>2711</th>\n",
              "      <td>2/9/2013</td>\n",
              "      <td>Unicef</td>\n",
              "      <td>UNICEF</td>\n",
              "      <td>Zahanati</td>\n",
              "      <td>Ruvuma / Southern Coast</td>\n",
              "      <td>Minazini</td>\n",
              "      <td>Ruvuma</td>\n",
              "      <td>Tunduru</td>\n",
              "      <td>Namwinyu</td>\n",
              "      <td>False</td>\n",
              "      <td>GeoData Consultants Ltd</td>\n",
              "      <td>VWC</td>\n",
              "      <td>#na#</td>\n",
              "      <td>False</td>\n",
              "      <td>swn 80</td>\n",
              "      <td>swn 80</td>\n",
              "      <td>handpump</td>\n",
              "      <td>vwc</td>\n",
              "      <td>user-group</td>\n",
              "      <td>never pay</td>\n",
              "      <td>never pay</td>\n",
              "      <td>soft</td>\n",
              "      <td>good</td>\n",
              "      <td>insufficient</td>\n",
              "      <td>insufficient</td>\n",
              "      <td>machine dbh</td>\n",
              "      <td>borehole</td>\n",
              "      <td>groundwater</td>\n",
              "      <td>hand pump</td>\n",
              "      <td>hand pump</td>\n",
              "      <td>0.0</td>\n",
              "      <td>769.0</td>\n",
              "      <td>36.962593</td>\n",
              "      <td>-10.795687</td>\n",
              "      <td>0.0</td>\n",
              "      <td>10</td>\n",
              "      <td>1</td>\n",
              "      <td>1.0</td>\n",
              "      <td>1992.0</td>\n",
              "      <td>non functional</td>\n",
              "    </tr>\n",
              "  </tbody>\n",
              "</table>"
            ]
          },
          "metadata": {}
        }
      ],
      "source": [
        "#hide_output\n",
        "to.show(3)"
      ]
    },
    {
      "cell_type": "markdown",
      "metadata": {
        "id": "Q4qhvACb8f4V"
      },
      "source": [
        "However, the underlying items are all numeric:"
      ]
    },
    {
      "cell_type": "code",
      "execution_count": 23,
      "metadata": {
        "colab": {
          "base_uri": "https://localhost:8080/",
          "height": 173
        },
        "id": "dOccNz_q8f4V",
        "outputId": "e7b67ac5-fd42-4731-cb15-4d24726f45fd"
      },
      "outputs": [
        {
          "output_type": "execute_result",
          "data": {
            "text/plain": [
              "            id  amount_tsh  date_recorded  funder  ...  source_class  \\\n",
              "44846  43130.0         0.0            125     457  ...             1   \n",
              "44810  36634.0         0.0            187     262  ...             1   \n",
              "2711   69262.0         0.0            160    1742  ...             1   \n",
              "\n",
              "       waterpoint_type  waterpoint_type_group  status_group  \n",
              "44846                2                      2             2  \n",
              "44810                2                      2             2  \n",
              "2711                 5                      4             2  \n",
              "\n",
              "[3 rows x 41 columns]"
            ],
            "text/html": [
              "\n",
              "  <div id=\"df-5655b27d-3f02-4f29-a1a2-5e3684da68ae\">\n",
              "    <div class=\"colab-df-container\">\n",
              "      <div>\n",
              "<style scoped>\n",
              "    .dataframe tbody tr th:only-of-type {\n",
              "        vertical-align: middle;\n",
              "    }\n",
              "\n",
              "    .dataframe tbody tr th {\n",
              "        vertical-align: top;\n",
              "    }\n",
              "\n",
              "    .dataframe thead th {\n",
              "        text-align: right;\n",
              "    }\n",
              "</style>\n",
              "<table border=\"1\" class=\"dataframe\">\n",
              "  <thead>\n",
              "    <tr style=\"text-align: right;\">\n",
              "      <th></th>\n",
              "      <th>id</th>\n",
              "      <th>amount_tsh</th>\n",
              "      <th>date_recorded</th>\n",
              "      <th>funder</th>\n",
              "      <th>...</th>\n",
              "      <th>source_class</th>\n",
              "      <th>waterpoint_type</th>\n",
              "      <th>waterpoint_type_group</th>\n",
              "      <th>status_group</th>\n",
              "    </tr>\n",
              "  </thead>\n",
              "  <tbody>\n",
              "    <tr>\n",
              "      <th>44846</th>\n",
              "      <td>43130.0</td>\n",
              "      <td>0.0</td>\n",
              "      <td>125</td>\n",
              "      <td>457</td>\n",
              "      <td>...</td>\n",
              "      <td>1</td>\n",
              "      <td>2</td>\n",
              "      <td>2</td>\n",
              "      <td>2</td>\n",
              "    </tr>\n",
              "    <tr>\n",
              "      <th>44810</th>\n",
              "      <td>36634.0</td>\n",
              "      <td>0.0</td>\n",
              "      <td>187</td>\n",
              "      <td>262</td>\n",
              "      <td>...</td>\n",
              "      <td>1</td>\n",
              "      <td>2</td>\n",
              "      <td>2</td>\n",
              "      <td>2</td>\n",
              "    </tr>\n",
              "    <tr>\n",
              "      <th>2711</th>\n",
              "      <td>69262.0</td>\n",
              "      <td>0.0</td>\n",
              "      <td>160</td>\n",
              "      <td>1742</td>\n",
              "      <td>...</td>\n",
              "      <td>1</td>\n",
              "      <td>5</td>\n",
              "      <td>4</td>\n",
              "      <td>2</td>\n",
              "    </tr>\n",
              "  </tbody>\n",
              "</table>\n",
              "<p>3 rows × 41 columns</p>\n",
              "</div>\n",
              "      <button class=\"colab-df-convert\" onclick=\"convertToInteractive('df-5655b27d-3f02-4f29-a1a2-5e3684da68ae')\"\n",
              "              title=\"Convert this dataframe to an interactive table.\"\n",
              "              style=\"display:none;\">\n",
              "        \n",
              "  <svg xmlns=\"http://www.w3.org/2000/svg\" height=\"24px\"viewBox=\"0 0 24 24\"\n",
              "       width=\"24px\">\n",
              "    <path d=\"M0 0h24v24H0V0z\" fill=\"none\"/>\n",
              "    <path d=\"M18.56 5.44l.94 2.06.94-2.06 2.06-.94-2.06-.94-.94-2.06-.94 2.06-2.06.94zm-11 1L8.5 8.5l.94-2.06 2.06-.94-2.06-.94L8.5 2.5l-.94 2.06-2.06.94zm10 10l.94 2.06.94-2.06 2.06-.94-2.06-.94-.94-2.06-.94 2.06-2.06.94z\"/><path d=\"M17.41 7.96l-1.37-1.37c-.4-.4-.92-.59-1.43-.59-.52 0-1.04.2-1.43.59L10.3 9.45l-7.72 7.72c-.78.78-.78 2.05 0 2.83L4 21.41c.39.39.9.59 1.41.59.51 0 1.02-.2 1.41-.59l7.78-7.78 2.81-2.81c.8-.78.8-2.07 0-2.86zM5.41 20L4 18.59l7.72-7.72 1.47 1.35L5.41 20z\"/>\n",
              "  </svg>\n",
              "      </button>\n",
              "      \n",
              "  <style>\n",
              "    .colab-df-container {\n",
              "      display:flex;\n",
              "      flex-wrap:wrap;\n",
              "      gap: 12px;\n",
              "    }\n",
              "\n",
              "    .colab-df-convert {\n",
              "      background-color: #E8F0FE;\n",
              "      border: none;\n",
              "      border-radius: 50%;\n",
              "      cursor: pointer;\n",
              "      display: none;\n",
              "      fill: #1967D2;\n",
              "      height: 32px;\n",
              "      padding: 0 0 0 0;\n",
              "      width: 32px;\n",
              "    }\n",
              "\n",
              "    .colab-df-convert:hover {\n",
              "      background-color: #E2EBFA;\n",
              "      box-shadow: 0px 1px 2px rgba(60, 64, 67, 0.3), 0px 1px 3px 1px rgba(60, 64, 67, 0.15);\n",
              "      fill: #174EA6;\n",
              "    }\n",
              "\n",
              "    [theme=dark] .colab-df-convert {\n",
              "      background-color: #3B4455;\n",
              "      fill: #D2E3FC;\n",
              "    }\n",
              "\n",
              "    [theme=dark] .colab-df-convert:hover {\n",
              "      background-color: #434B5C;\n",
              "      box-shadow: 0px 1px 3px 1px rgba(0, 0, 0, 0.15);\n",
              "      filter: drop-shadow(0px 1px 2px rgba(0, 0, 0, 0.3));\n",
              "      fill: #FFFFFF;\n",
              "    }\n",
              "  </style>\n",
              "\n",
              "      <script>\n",
              "        const buttonEl =\n",
              "          document.querySelector('#df-5655b27d-3f02-4f29-a1a2-5e3684da68ae button.colab-df-convert');\n",
              "        buttonEl.style.display =\n",
              "          google.colab.kernel.accessAllowed ? 'block' : 'none';\n",
              "\n",
              "        async function convertToInteractive(key) {\n",
              "          const element = document.querySelector('#df-5655b27d-3f02-4f29-a1a2-5e3684da68ae');\n",
              "          const dataTable =\n",
              "            await google.colab.kernel.invokeFunction('convertToInteractive',\n",
              "                                                     [key], {});\n",
              "          if (!dataTable) return;\n",
              "\n",
              "          const docLinkHtml = 'Like what you see? Visit the ' +\n",
              "            '<a target=\"_blank\" href=https://colab.research.google.com/notebooks/data_table.ipynb>data table notebook</a>'\n",
              "            + ' to learn more about interactive tables.';\n",
              "          element.innerHTML = '';\n",
              "          dataTable['output_type'] = 'display_data';\n",
              "          await google.colab.output.renderOutput(dataTable, element);\n",
              "          const docLink = document.createElement('div');\n",
              "          docLink.innerHTML = docLinkHtml;\n",
              "          element.appendChild(docLink);\n",
              "        }\n",
              "      </script>\n",
              "    </div>\n",
              "  </div>\n",
              "  "
            ]
          },
          "metadata": {},
          "execution_count": 23
        }
      ],
      "source": [
        "#hide_output\n",
        "to.items.head(3)"
      ]
    },
    {
      "cell_type": "markdown",
      "metadata": {
        "id": "HOwfyZ148f4W"
      },
      "source": [
        "The conversion of categorical columns to numbers is done by simply replacing each unique level with a number. The numbers associated with the levels are chosen consecutively as they are seen in a column, so there's no particular meaning to the numbers in categorical columns after conversion. The exception is if you first convert a column to a Pandas ordered category, in which case the ordering you chose is used. We can see the mapping by looking at the `classes` attribute:"
      ]
    },
    {
      "cell_type": "markdown",
      "metadata": {
        "id": "DwgxBkJ68f4W"
      },
      "source": [
        "Since it takes a minute or so to process the data to get to this point, we should save it—that way in the future we can continue our work from here without rerunning the previous steps. fastai provides a `save` method that uses Python's *pickle* system to save nearly any Python object:"
      ]
    },
    {
      "cell_type": "code",
      "execution_count": 24,
      "metadata": {
        "id": "Powg4oLx8f4W"
      },
      "outputs": [],
      "source": [
        "save_pickle(path/'to.pkl',to)"
      ]
    },
    {
      "cell_type": "markdown",
      "metadata": {
        "id": "d04Y5wgj8f4W"
      },
      "source": [
        "To read this back later, you would type:\n",
        "\n",
        "```python\n",
        "to = (path/'to.pkl').load()\n",
        "```"
      ]
    },
    {
      "cell_type": "markdown",
      "metadata": {
        "id": "LMYAB3HH8f4W"
      },
      "source": [
        "Now that all this preprocessing is done, we are ready to create a decision tree."
      ]
    },
    {
      "cell_type": "markdown",
      "metadata": {
        "id": "z2Ej27kP8f4W"
      },
      "source": [
        "### Creating the Decision Tree"
      ]
    },
    {
      "cell_type": "markdown",
      "metadata": {
        "id": "3s7oMtvb8f4X"
      },
      "source": [
        "To begin, we define our independent and dependent variables:"
      ]
    },
    {
      "cell_type": "code",
      "execution_count": 25,
      "metadata": {
        "id": "tcxLkFOQ8f4X"
      },
      "outputs": [],
      "source": [
        "#hide\n",
        "to = load_pickle(path/'to.pkl')"
      ]
    },
    {
      "cell_type": "code",
      "execution_count": 26,
      "metadata": {
        "id": "UCmk3llV8f4X"
      },
      "outputs": [],
      "source": [
        "xs,y = to.train.xs,to.train.y\n",
        "valid_xs,valid_y = to.valid.xs,to.valid.y"
      ]
    },
    {
      "cell_type": "markdown",
      "metadata": {
        "id": "dDj-dYdv8f4c"
      },
      "source": [
        "## Random Forests"
      ]
    },
    {
      "cell_type": "markdown",
      "metadata": {
        "id": "XZq-JnXC8f4f"
      },
      "source": [
        "### Creating a Random Forest"
      ]
    },
    {
      "cell_type": "markdown",
      "metadata": {
        "id": "Xe2X_Sr68f4g"
      },
      "source": [
        "We can create a random forest just like we created a decision tree, except now, we are also specifying parameters that indicate how many trees should be in the forest, how we should subset the data items (the rows), and how we should subset the fields (the columns).\n",
        "\n",
        "In the following function definition `n_estimators` defines the number of trees we want, `max_samples` defines how many rows to sample for training each tree, and `max_features` defines how many columns to sample at each split point (where `0.5` means \"take half the total number of columns\"). We can also specify when to stop splitting the tree nodes, effectively limiting the depth of the tree, by including the same `min_samples_leaf` parameter we used in the last section. Finally, we pass `n_jobs=-1` to tell sklearn to use all our CPUs to build the trees in parallel. By creating a little function for this, we can more quickly try different variations in the rest of this chapter:"
      ]
    },
    {
      "cell_type": "code",
      "source": [
        "from sklearn.ensemble import RandomForestClassifier"
      ],
      "metadata": {
        "id": "7Np3n3RXrmLI"
      },
      "execution_count": 27,
      "outputs": []
    },
    {
      "cell_type": "code",
      "execution_count": 28,
      "metadata": {
        "id": "iik9J-XP8f4g"
      },
      "outputs": [],
      "source": [
        "def rf(xs, y, n_estimators=100, max_samples=20000,\n",
        "       max_features=0.5, min_samples_leaf=5, **kwargs):\n",
        "    return RandomForestClassifier(n_jobs=-1, n_estimators=n_estimators,\n",
        "        max_samples=max_samples, max_features=max_features,\n",
        "        min_samples_leaf=min_samples_leaf, oob_score=True).fit(xs, y)"
      ]
    },
    {
      "cell_type": "code",
      "execution_count": 29,
      "metadata": {
        "id": "ZM8fKM-K8f4g"
      },
      "outputs": [],
      "source": [
        "m = rf(xs, y);"
      ]
    },
    {
      "cell_type": "code",
      "execution_count": 30,
      "metadata": {
        "id": "twt8ki_28f4g"
      },
      "outputs": [],
      "source": [
        "yt_pre = m.predict(xs)\n",
        "yv_pre = m.predict(valid_xs)"
      ]
    },
    {
      "cell_type": "code",
      "source": [
        "from sklearn.metrics import accuracy_score\n",
        "accuracy_score(y, yt_pre)\n"
      ],
      "metadata": {
        "id": "_4d2X6_UsLZK",
        "outputId": "556b141d-8a3d-45ae-9f09-00c7165526a3",
        "colab": {
          "base_uri": "https://localhost:8080/"
        }
      },
      "execution_count": 31,
      "outputs": [
        {
          "output_type": "execute_result",
          "data": {
            "text/plain": [
              "0.8532921810699589"
            ]
          },
          "metadata": {},
          "execution_count": 31
        }
      ]
    },
    {
      "cell_type": "code",
      "source": [
        "accuracy_score(valid_y, yv_pre)"
      ],
      "metadata": {
        "id": "VVhTB0CWseWY",
        "outputId": "dab4ebf2-edec-4e1d-dbbd-a6b4d2676efd",
        "colab": {
          "base_uri": "https://localhost:8080/"
        }
      },
      "execution_count": 32,
      "outputs": [
        {
          "output_type": "execute_result",
          "data": {
            "text/plain": [
              "0.8043771043771044"
            ]
          },
          "metadata": {},
          "execution_count": 32
        }
      ]
    },
    {
      "cell_type": "code",
      "source": [
        "from sklearn.metrics import confusion_matrix\n",
        "cm = confusion_matrix(valid_y, yv_pre)\n",
        "import seaborn as sns\n",
        "from sklearn.metrics import confusion_matrix, ConfusionMatrixDisplay\n",
        "\n",
        "\n",
        "sns.heatmap(cm/np.sum(cm), annot=True, \n",
        "            fmt='.2%', cmap='Blues')"
      ],
      "metadata": {
        "id": "n-3LJF5cskZH",
        "outputId": "35f10385-5f7f-48bc-def5-c31273a2e711",
        "colab": {
          "base_uri": "https://localhost:8080/",
          "height": 282
        }
      },
      "execution_count": 33,
      "outputs": [
        {
          "output_type": "execute_result",
          "data": {
            "text/plain": [
              "<matplotlib.axes._subplots.AxesSubplot at 0x7f1141cc0c50>"
            ]
          },
          "metadata": {},
          "execution_count": 33
        },
        {
          "output_type": "display_data",
          "data": {
            "text/plain": [
              "<Figure size 432x288 with 2 Axes>"
            ],
            "image/png": "[encoded data removed]"
          },
          "metadata": {
            "needs_background": "light"
          }
        }
      ]
    },
    {
      "cell_type": "code",
      "source": [
        "disp = ConfusionMatrixDisplay(confusion_matrix=cm,display_labels=['funct','need rep','nonfunc'])\n",
        "disp.plot()\n",
        "plt.show()"
      ],
      "metadata": {
        "id": "Yg77TMF2uvNd",
        "outputId": "63abb334-e315-43cc-bf5d-324450b668e8",
        "colab": {
          "base_uri": "https://localhost:8080/",
          "height": 279
        }
      },
      "execution_count": 34,
      "outputs": [
        {
          "output_type": "display_data",
          "data": {
            "text/plain": [
              "<Figure size 432x288 with 2 Axes>"
            ],
            "image/png": "[encoded data removed]"
          },
          "metadata": {
            "needs_background": "light"
          }
        }
      ]
    },
    {
      "cell_type": "code",
      "source": [
        "del df_test['id']\n",
        "to_tst = to.new(df_test)\n",
        "to_tst.process()\n",
        "to_tst.items.head()"
      ],
      "metadata": {
        "colab": {
          "base_uri": "https://localhost:8080/",
          "height": 235
        },
        "id": "k-WMAL-8xY5V",
        "outputId": "2b170dbd-20c6-4929-842b-7c600ecd9c72"
      },
      "execution_count": 35,
      "outputs": [
        {
          "output_type": "execute_result",
          "data": {
            "text/plain": [
              "   amount_tsh  date_recorded  funder  gps_height  ...  source_type  \\\n",
              "0         0.0              0     308      1996.0  ...            4   \n",
              "1         0.0              0     457      1569.0  ...            7   \n",
              "2         0.0              0       0      1567.0  ...            4   \n",
              "3         0.0              0     396       267.0  ...            6   \n",
              "4       500.0              0     135      1260.0  ...            7   \n",
              "\n",
              "   source_class  waterpoint_type  waterpoint_type_group  \n",
              "0             2                7                      6  \n",
              "1             1                2                      2  \n",
              "2             2                7                      6  \n",
              "3             1                7                      6  \n",
              "4             1                2                      2  \n",
              "\n",
              "[5 rows x 39 columns]"
            ],
            "text/html": [
              "\n",
              "  <div id=\"df-a135efeb-0439-4036-844f-ebf3d4f1d3ee\">\n",
              "    <div class=\"colab-df-container\">\n",
              "      <div>\n",
              "<style scoped>\n",
              "    .dataframe tbody tr th:only-of-type {\n",
              "        vertical-align: middle;\n",
              "    }\n",
              "\n",
              "    .dataframe tbody tr th {\n",
              "        vertical-align: top;\n",
              "    }\n",
              "\n",
              "    .dataframe thead th {\n",
              "        text-align: right;\n",
              "    }\n",
              "</style>\n",
              "<table border=\"1\" class=\"dataframe\">\n",
              "  <thead>\n",
              "    <tr style=\"text-align: right;\">\n",
              "      <th></th>\n",
              "      <th>amount_tsh</th>\n",
              "      <th>date_recorded</th>\n",
              "      <th>funder</th>\n",
              "      <th>gps_height</th>\n",
              "      <th>...</th>\n",
              "      <th>source_type</th>\n",
              "      <th>source_class</th>\n",
              "      <th>waterpoint_type</th>\n",
              "      <th>waterpoint_type_group</th>\n",
              "    </tr>\n",
              "  </thead>\n",
              "  <tbody>\n",
              "    <tr>\n",
              "      <th>0</th>\n",
              "      <td>0.0</td>\n",
              "      <td>0</td>\n",
              "      <td>308</td>\n",
              "      <td>1996.0</td>\n",
              "      <td>...</td>\n",
              "      <td>4</td>\n",
              "      <td>2</td>\n",
              "      <td>7</td>\n",
              "      <td>6</td>\n",
              "    </tr>\n",
              "    <tr>\n",
              "      <th>1</th>\n",
              "      <td>0.0</td>\n",
              "      <td>0</td>\n",
              "      <td>457</td>\n",
              "      <td>1569.0</td>\n",
              "      <td>...</td>\n",
              "      <td>7</td>\n",
              "      <td>1</td>\n",
              "      <td>2</td>\n",
              "      <td>2</td>\n",
              "    </tr>\n",
              "    <tr>\n",
              "      <th>2</th>\n",
              "      <td>0.0</td>\n",
              "      <td>0</td>\n",
              "      <td>0</td>\n",
              "      <td>1567.0</td>\n",
              "      <td>...</td>\n",
              "      <td>4</td>\n",
              "      <td>2</td>\n",
              "      <td>7</td>\n",
              "      <td>6</td>\n",
              "    </tr>\n",
              "    <tr>\n",
              "      <th>3</th>\n",
              "      <td>0.0</td>\n",
              "      <td>0</td>\n",
              "      <td>396</td>\n",
              "      <td>267.0</td>\n",
              "      <td>...</td>\n",
              "      <td>6</td>\n",
              "      <td>1</td>\n",
              "      <td>7</td>\n",
              "      <td>6</td>\n",
              "    </tr>\n",
              "    <tr>\n",
              "      <th>4</th>\n",
              "      <td>500.0</td>\n",
              "      <td>0</td>\n",
              "      <td>135</td>\n",
              "      <td>1260.0</td>\n",
              "      <td>...</td>\n",
              "      <td>7</td>\n",
              "      <td>1</td>\n",
              "      <td>2</td>\n",
              "      <td>2</td>\n",
              "    </tr>\n",
              "  </tbody>\n",
              "</table>\n",
              "<p>5 rows × 39 columns</p>\n",
              "</div>\n",
              "      <button class=\"colab-df-convert\" onclick=\"convertToInteractive('df-a135efeb-0439-4036-844f-ebf3d4f1d3ee')\"\n",
              "              title=\"Convert this dataframe to an interactive table.\"\n",
              "              style=\"display:none;\">\n",
              "        \n",
              "  <svg xmlns=\"http://www.w3.org/2000/svg\" height=\"24px\"viewBox=\"0 0 24 24\"\n",
              "       width=\"24px\">\n",
              "    <path d=\"M0 0h24v24H0V0z\" fill=\"none\"/>\n",
              "    <path d=\"M18.56 5.44l.94 2.06.94-2.06 2.06-.94-2.06-.94-.94-2.06-.94 2.06-2.06.94zm-11 1L8.5 8.5l.94-2.06 2.06-.94-2.06-.94L8.5 2.5l-.94 2.06-2.06.94zm10 10l.94 2.06.94-2.06 2.06-.94-2.06-.94-.94-2.06-.94 2.06-2.06.94z\"/><path d=\"M17.41 7.96l-1.37-1.37c-.4-.4-.92-.59-1.43-.59-.52 0-1.04.2-1.43.59L10.3 9.45l-7.72 7.72c-.78.78-.78 2.05 0 2.83L4 21.41c.39.39.9.59 1.41.59.51 0 1.02-.2 1.41-.59l7.78-7.78 2.81-2.81c.8-.78.8-2.07 0-2.86zM5.41 20L4 18.59l7.72-7.72 1.47 1.35L5.41 20z\"/>\n",
              "  </svg>\n",
              "      </button>\n",
              "      \n",
              "  <style>\n",
              "    .colab-df-container {\n",
              "      display:flex;\n",
              "      flex-wrap:wrap;\n",
              "      gap: 12px;\n",
              "    }\n",
              "\n",
              "    .colab-df-convert {\n",
              "      background-color: #E8F0FE;\n",
              "      border: none;\n",
              "      border-radius: 50%;\n",
              "      cursor: pointer;\n",
              "      display: none;\n",
              "      fill: #1967D2;\n",
              "      height: 32px;\n",
              "      padding: 0 0 0 0;\n",
              "      width: 32px;\n",
              "    }\n",
              "\n",
              "    .colab-df-convert:hover {\n",
              "      background-color: #E2EBFA;\n",
              "      box-shadow: 0px 1px 2px rgba(60, 64, 67, 0.3), 0px 1px 3px 1px rgba(60, 64, 67, 0.15);\n",
              "      fill: #174EA6;\n",
              "    }\n",
              "\n",
              "    [theme=dark] .colab-df-convert {\n",
              "      background-color: #3B4455;\n",
              "      fill: #D2E3FC;\n",
              "    }\n",
              "\n",
              "    [theme=dark] .colab-df-convert:hover {\n",
              "      background-color: #434B5C;\n",
              "      box-shadow: 0px 1px 3px 1px rgba(0, 0, 0, 0.15);\n",
              "      filter: drop-shadow(0px 1px 2px rgba(0, 0, 0, 0.3));\n",
              "      fill: #FFFFFF;\n",
              "    }\n",
              "  </style>\n",
              "\n",
              "      <script>\n",
              "        const buttonEl =\n",
              "          document.querySelector('#df-a135efeb-0439-4036-844f-ebf3d4f1d3ee button.colab-df-convert');\n",
              "        buttonEl.style.display =\n",
              "          google.colab.kernel.accessAllowed ? 'block' : 'none';\n",
              "\n",
              "        async function convertToInteractive(key) {\n",
              "          const element = document.querySelector('#df-a135efeb-0439-4036-844f-ebf3d4f1d3ee');\n",
              "          const dataTable =\n",
              "            await google.colab.kernel.invokeFunction('convertToInteractive',\n",
              "                                                     [key], {});\n",
              "          if (!dataTable) return;\n",
              "\n",
              "          const docLinkHtml = 'Like what you see? Visit the ' +\n",
              "            '<a target=\"_blank\" href=https://colab.research.google.com/notebooks/data_table.ipynb>data table notebook</a>'\n",
              "            + ' to learn more about interactive tables.';\n",
              "          element.innerHTML = '';\n",
              "          dataTable['output_type'] = 'display_data';\n",
              "          await google.colab.output.renderOutput(dataTable, element);\n",
              "          const docLink = document.createElement('div');\n",
              "          docLink.innerHTML = docLinkHtml;\n",
              "          element.appendChild(docLink);\n",
              "        }\n",
              "      </script>\n",
              "    </div>\n",
              "  </div>\n",
              "  "
            ]
          },
          "metadata": {},
          "execution_count": 35
        }
      ]
    },
    {
      "cell_type": "markdown",
      "metadata": {
        "id": "eoUJN3rd8f4j"
      },
      "source": [
        "We are clearly not spoting the need for repairs and 40% of the non functional"
      ]
    },
    {
      "cell_type": "markdown",
      "metadata": {
        "id": "2v-Putnn8f4j"
      },
      "source": [
        "## Model Interpretation"
      ]
    },
    {
      "cell_type": "markdown",
      "metadata": {
        "id": "1qmUGnam8f4j"
      },
      "source": [
        "For tabular data, model interpretation is particularly important. For a given model, the things we are most likely to be interested in are:\n",
        "\n",
        "- How confident are we in our predictions using a particular row of data?\n",
        "- For predicting with a particular row of data, what were the most important factors, and how did they influence that prediction?\n",
        "- Which columns are the strongest predictors, which can we ignore?\n",
        "- Which columns are effectively redundant with each other, for purposes of prediction?\n",
        "- How do predictions vary, as we vary these columns?\n",
        "\n",
        "As we will see, random forests are particularly well suited to answering these questions. Let's start with the first one!"
      ]
    },
    {
      "cell_type": "markdown",
      "metadata": {
        "id": "BSubEH-m8f4l"
      },
      "source": [
        "### Feature Importance"
      ]
    },
    {
      "cell_type": "markdown",
      "metadata": {
        "id": "29tgatWm8f4l"
      },
      "source": [
        "It's not normally enough just to know that a model can make accurate predictions—we also want to know *how* it's making predictions. *feature importance* gives us insight into this. We can get these directly from sklearn's random forest by looking in the `feature_importances_` attribute. Here's a simple function we can use to pop them into a DataFrame and sort them:"
      ]
    },
    {
      "cell_type": "code",
      "execution_count": 36,
      "metadata": {
        "id": "9IwUIrkv8f4l"
      },
      "outputs": [],
      "source": [
        "def rf_feat_importance(m, df):\n",
        "    return pd.DataFrame({'cols':df.columns, 'imp':m.feature_importances_}\n",
        "                       ).sort_values('imp', ascending=False)"
      ]
    },
    {
      "cell_type": "markdown",
      "metadata": {
        "id": "95d7EiLy8f4l"
      },
      "source": [
        "The feature importances for our model show that the first few most important columns have much higher importance scores than the rest, with (not surprisingly) `YearMade` and `ProductSize` being at the top of the list:"
      ]
    },
    {
      "cell_type": "code",
      "execution_count": 37,
      "metadata": {
        "colab": {
          "base_uri": "https://localhost:8080/",
          "height": 363
        },
        "id": "TrcfxpOz8f4l",
        "outputId": "7c255cf0-44b0-4a31-8d8b-03ab01890c58"
      },
      "outputs": [
        {
          "output_type": "execute_result",
          "data": {
            "text/plain": [
              "                     cols       imp\n",
              "24         quantity_group  0.102865\n",
              "23               quantity  0.098592\n",
              "32              longitude  0.069818\n",
              "33               latitude  0.062080\n",
              "29  waterpoint_type_group  0.053528\n",
              "28        waterpoint_type  0.050562\n",
              "5              subvillage  0.038127\n",
              "0           date_recorded  0.037994\n",
              "38      construction_year  0.037937\n",
              "3                wpt_name  0.036980"
            ],
            "text/html": [
              "\n",
              "  <div id=\"df-9aec603e-f818-4387-96d4-8e753757f700\">\n",
              "    <div class=\"colab-df-container\">\n",
              "      <div>\n",
              "<style scoped>\n",
              "    .dataframe tbody tr th:only-of-type {\n",
              "        vertical-align: middle;\n",
              "    }\n",
              "\n",
              "    .dataframe tbody tr th {\n",
              "        vertical-align: top;\n",
              "    }\n",
              "\n",
              "    .dataframe thead th {\n",
              "        text-align: right;\n",
              "    }\n",
              "</style>\n",
              "<table border=\"1\" class=\"dataframe\">\n",
              "  <thead>\n",
              "    <tr style=\"text-align: right;\">\n",
              "      <th></th>\n",
              "      <th>cols</th>\n",
              "      <th>imp</th>\n",
              "    </tr>\n",
              "  </thead>\n",
              "  <tbody>\n",
              "    <tr>\n",
              "      <th>24</th>\n",
              "      <td>quantity_group</td>\n",
              "      <td>0.102865</td>\n",
              "    </tr>\n",
              "    <tr>\n",
              "      <th>23</th>\n",
              "      <td>quantity</td>\n",
              "      <td>0.098592</td>\n",
              "    </tr>\n",
              "    <tr>\n",
              "      <th>32</th>\n",
              "      <td>longitude</td>\n",
              "      <td>0.069818</td>\n",
              "    </tr>\n",
              "    <tr>\n",
              "      <th>33</th>\n",
              "      <td>latitude</td>\n",
              "      <td>0.062080</td>\n",
              "    </tr>\n",
              "    <tr>\n",
              "      <th>29</th>\n",
              "      <td>waterpoint_type_group</td>\n",
              "      <td>0.053528</td>\n",
              "    </tr>\n",
              "    <tr>\n",
              "      <th>28</th>\n",
              "      <td>waterpoint_type</td>\n",
              "      <td>0.050562</td>\n",
              "    </tr>\n",
              "    <tr>\n",
              "      <th>5</th>\n",
              "      <td>subvillage</td>\n",
              "      <td>0.038127</td>\n",
              "    </tr>\n",
              "    <tr>\n",
              "      <th>0</th>\n",
              "      <td>date_recorded</td>\n",
              "      <td>0.037994</td>\n",
              "    </tr>\n",
              "    <tr>\n",
              "      <th>38</th>\n",
              "      <td>construction_year</td>\n",
              "      <td>0.037937</td>\n",
              "    </tr>\n",
              "    <tr>\n",
              "      <th>3</th>\n",
              "      <td>wpt_name</td>\n",
              "      <td>0.036980</td>\n",
              "    </tr>\n",
              "  </tbody>\n",
              "</table>\n",
              "</div>\n",
              "      <button class=\"colab-df-convert\" onclick=\"convertToInteractive('df-9aec603e-f818-4387-96d4-8e753757f700')\"\n",
              "              title=\"Convert this dataframe to an interactive table.\"\n",
              "              style=\"display:none;\">\n",
              "        \n",
              "  <svg xmlns=\"http://www.w3.org/2000/svg\" height=\"24px\"viewBox=\"0 0 24 24\"\n",
              "       width=\"24px\">\n",
              "    <path d=\"M0 0h24v24H0V0z\" fill=\"none\"/>\n",
              "    <path d=\"M18.56 5.44l.94 2.06.94-2.06 2.06-.94-2.06-.94-.94-2.06-.94 2.06-2.06.94zm-11 1L8.5 8.5l.94-2.06 2.06-.94-2.06-.94L8.5 2.5l-.94 2.06-2.06.94zm10 10l.94 2.06.94-2.06 2.06-.94-2.06-.94-.94-2.06-.94 2.06-2.06.94z\"/><path d=\"M17.41 7.96l-1.37-1.37c-.4-.4-.92-.59-1.43-.59-.52 0-1.04.2-1.43.59L10.3 9.45l-7.72 7.72c-.78.78-.78 2.05 0 2.83L4 21.41c.39.39.9.59 1.41.59.51 0 1.02-.2 1.41-.59l7.78-7.78 2.81-2.81c.8-.78.8-2.07 0-2.86zM5.41 20L4 18.59l7.72-7.72 1.47 1.35L5.41 20z\"/>\n",
              "  </svg>\n",
              "      </button>\n",
              "      \n",
              "  <style>\n",
              "    .colab-df-container {\n",
              "      display:flex;\n",
              "      flex-wrap:wrap;\n",
              "      gap: 12px;\n",
              "    }\n",
              "\n",
              "    .colab-df-convert {\n",
              "      background-color: #E8F0FE;\n",
              "      border: none;\n",
              "      border-radius: 50%;\n",
              "      cursor: pointer;\n",
              "      display: none;\n",
              "      fill: #1967D2;\n",
              "      height: 32px;\n",
              "      padding: 0 0 0 0;\n",
              "      width: 32px;\n",
              "    }\n",
              "\n",
              "    .colab-df-convert:hover {\n",
              "      background-color: #E2EBFA;\n",
              "      box-shadow: 0px 1px 2px rgba(60, 64, 67, 0.3), 0px 1px 3px 1px rgba(60, 64, 67, 0.15);\n",
              "      fill: #174EA6;\n",
              "    }\n",
              "\n",
              "    [theme=dark] .colab-df-convert {\n",
              "      background-color: #3B4455;\n",
              "      fill: #D2E3FC;\n",
              "    }\n",
              "\n",
              "    [theme=dark] .colab-df-convert:hover {\n",
              "      background-color: #434B5C;\n",
              "      box-shadow: 0px 1px 3px 1px rgba(0, 0, 0, 0.15);\n",
              "      filter: drop-shadow(0px 1px 2px rgba(0, 0, 0, 0.3));\n",
              "      fill: #FFFFFF;\n",
              "    }\n",
              "  </style>\n",
              "\n",
              "      <script>\n",
              "        const buttonEl =\n",
              "          document.querySelector('#df-9aec603e-f818-4387-96d4-8e753757f700 button.colab-df-convert');\n",
              "        buttonEl.style.display =\n",
              "          google.colab.kernel.accessAllowed ? 'block' : 'none';\n",
              "\n",
              "        async function convertToInteractive(key) {\n",
              "          const element = document.querySelector('#df-9aec603e-f818-4387-96d4-8e753757f700');\n",
              "          const dataTable =\n",
              "            await google.colab.kernel.invokeFunction('convertToInteractive',\n",
              "                                                     [key], {});\n",
              "          if (!dataTable) return;\n",
              "\n",
              "          const docLinkHtml = 'Like what you see? Visit the ' +\n",
              "            '<a target=\"_blank\" href=https://colab.research.google.com/notebooks/data_table.ipynb>data table notebook</a>'\n",
              "            + ' to learn more about interactive tables.';\n",
              "          element.innerHTML = '';\n",
              "          dataTable['output_type'] = 'display_data';\n",
              "          await google.colab.output.renderOutput(dataTable, element);\n",
              "          const docLink = document.createElement('div');\n",
              "          docLink.innerHTML = docLinkHtml;\n",
              "          element.appendChild(docLink);\n",
              "        }\n",
              "      </script>\n",
              "    </div>\n",
              "  </div>\n",
              "  "
            ]
          },
          "metadata": {},
          "execution_count": 37
        }
      ],
      "source": [
        "fi = rf_feat_importance(m, xs)\n",
        "fi[:10]"
      ]
    },
    {
      "cell_type": "markdown",
      "metadata": {
        "id": "TfLxIFom8f4m"
      },
      "source": [
        "A plot of the feature importances shows the relative importances more clearly:"
      ]
    },
    {
      "cell_type": "code",
      "execution_count": 38,
      "metadata": {
        "colab": {
          "base_uri": "https://localhost:8080/",
          "height": 428
        },
        "id": "PDqtw2cJ8f4m",
        "outputId": "8af347b7-5955-434c-b32f-9ddef38fd67d"
      },
      "outputs": [
        {
          "output_type": "display_data",
          "data": {
            "text/plain": [
              "<Figure size 864x504 with 1 Axes>"
            ],
            "image/png": "[encoded data removed]"
          },
          "metadata": {
            "needs_background": "light"
          }
        }
      ],
      "source": [
        "def plot_fi(fi):\n",
        "    return fi.plot('cols', 'imp', 'barh', figsize=(12,7), legend=False)\n",
        "\n",
        "plot_fi(fi[:30]);"
      ]
    },
    {
      "cell_type": "markdown",
      "metadata": {
        "id": "chimKx5k8f4m"
      },
      "source": [
        "The way these importances are calculated is quite simple yet elegant. The feature importance algorithm loops through each tree, and then recursively explores each branch. At each branch, it looks to see what feature was used for that split, and how much the model improves as a result of that split. The improvement (weighted by the number of rows in that group) is added to the importance score for that feature. This is summed across all branches of all trees, and finally the scores are normalized such that they add to 1."
      ]
    },
    {
      "cell_type": "markdown",
      "metadata": {
        "id": "qHT6jj-_8f4m"
      },
      "source": [
        "### Removing Low-Importance Variables"
      ]
    },
    {
      "cell_type": "markdown",
      "metadata": {
        "id": "FK6GAslL8f4m"
      },
      "source": [
        "It seems likely that we could use just a subset of the columns by removing the variables of low importance and still get good results. Let's try just keeping those with a feature importance greater than 0.005:"
      ]
    },
    {
      "cell_type": "code",
      "execution_count": 54,
      "metadata": {
        "colab": {
          "base_uri": "https://localhost:8080/"
        },
        "id": "Qjh75Z-W8f4m",
        "outputId": "ad1c7875-d3f6-4589-992f-fb888841c61b"
      },
      "outputs": [
        {
          "output_type": "execute_result",
          "data": {
            "text/plain": [
              "31"
            ]
          },
          "metadata": {},
          "execution_count": 54
        }
      ],
      "source": [
        "to_keep = fi[fi.imp>0.005].cols\n",
        "len(to_keep)"
      ]
    },
    {
      "cell_type": "markdown",
      "metadata": {
        "id": "0xmsRTI78f4m"
      },
      "source": [
        "We can retrain our model using just this subset of the columns:"
      ]
    },
    {
      "cell_type": "code",
      "execution_count": 55,
      "metadata": {
        "id": "W-D11gi18f4m"
      },
      "outputs": [],
      "source": [
        "xs_imp = xs[to_keep]\n",
        "valid_xs_imp = valid_xs[to_keep]"
      ]
    },
    {
      "cell_type": "code",
      "execution_count": 56,
      "metadata": {
        "id": "oGoWHhg38f4n"
      },
      "outputs": [],
      "source": [
        "m = rf(xs_imp, y)"
      ]
    },
    {
      "cell_type": "markdown",
      "metadata": {
        "id": "lZ2sBXnT8f4n"
      },
      "source": [
        "And here's the result:"
      ]
    },
    {
      "cell_type": "code",
      "execution_count": 57,
      "metadata": {
        "id": "KyasAGqn8f4n"
      },
      "outputs": [],
      "source": [
        "yt_pre = m.predict(xs_imp)\n",
        "yv_pre = m.predict(valid_xs_imp)\n"
      ]
    },
    {
      "cell_type": "code",
      "source": [
        "accuracy_score(y, yt_pre)"
      ],
      "metadata": {
        "id": "s3wG_LwY3gbg",
        "outputId": "deef5f72-0572-4333-c3dd-79ade28d4f37",
        "colab": {
          "base_uri": "https://localhost:8080/"
        }
      },
      "execution_count": 58,
      "outputs": [
        {
          "output_type": "execute_result",
          "data": {
            "text/plain": [
              "0.8528993640104752"
            ]
          },
          "metadata": {},
          "execution_count": 58
        }
      ]
    },
    {
      "cell_type": "code",
      "source": [
        "accuracy_score(valid_y, yv_pre)"
      ],
      "metadata": {
        "id": "Zg7pbuEz3lih",
        "outputId": "7ac20286-3315-49a4-91cf-af5ae893904c",
        "colab": {
          "base_uri": "https://localhost:8080/"
        }
      },
      "execution_count": 59,
      "outputs": [
        {
          "output_type": "execute_result",
          "data": {
            "text/plain": [
              "0.8023569023569024"
            ]
          },
          "metadata": {},
          "execution_count": 59
        }
      ]
    },
    {
      "cell_type": "markdown",
      "metadata": {
        "id": "p9NTZLaF8f4n"
      },
      "source": [
        "Our accuracy is about the same, but we have far fewer columns to study:"
      ]
    },
    {
      "cell_type": "code",
      "execution_count": 60,
      "metadata": {
        "colab": {
          "base_uri": "https://localhost:8080/"
        },
        "id": "YPpMestg8f4n",
        "outputId": "ee2babf1-350c-4c86-e0b3-80171773d264"
      },
      "outputs": [
        {
          "output_type": "execute_result",
          "data": {
            "text/plain": [
              "(39, 31)"
            ]
          },
          "metadata": {},
          "execution_count": 60
        }
      ],
      "source": [
        "len(xs.columns), len(xs_imp.columns)"
      ]
    },
    {
      "cell_type": "markdown",
      "metadata": {
        "id": "m_ZaZB5J8f4o"
      },
      "source": [
        "We've found that generally the first step to improving a model is simplifying it—83 columns was too many for us to study them all in depth! Furthermore, in practice often a simpler, more interpretable model is easier to roll out and maintain.\n",
        "\n",
        "This also makes our feature importance plot easier to interpret. Let's look at it again:"
      ]
    },
    {
      "cell_type": "code",
      "execution_count": 61,
      "metadata": {
        "colab": {
          "base_uri": "https://localhost:8080/",
          "height": 428
        },
        "id": "vI4-KmCc8f4o",
        "outputId": "de8195b7-a561-47b7-d3b9-cf49852cce23"
      },
      "outputs": [
        {
          "output_type": "display_data",
          "data": {
            "text/plain": [
              "<Figure size 864x504 with 1 Axes>"
            ],
            "image/png": "[encoded data removed]"
          },
          "metadata": {
            "needs_background": "light"
          }
        }
      ],
      "source": [
        "plot_fi(rf_feat_importance(m, xs_imp));"
      ]
    },
    {
      "cell_type": "markdown",
      "metadata": {
        "id": "2UthKH_L8f4o"
      },
      "source": [
        "One thing that makes this harder to interpret is that there seem to be some variables with very similar meanings: for example, `GarageArea` and `GarageCars`. Let's try to remove any redundent features. "
      ]
    },
    {
      "cell_type": "markdown",
      "metadata": {
        "id": "5Igw3HfU8f4o"
      },
      "source": [
        "### Removing Redundant Features"
      ]
    },
    {
      "cell_type": "markdown",
      "metadata": {
        "id": "qcRwRu298f4o"
      },
      "source": [
        "Let's start with:"
      ]
    },
    {
      "cell_type": "code",
      "execution_count": 62,
      "metadata": {
        "colab": {
          "base_uri": "https://localhost:8080/",
          "height": 374
        },
        "id": "y5qBdLN98f4o",
        "outputId": "57d3182a-aec5-4242-a032-cdd3c61a87af"
      },
      "outputs": [
        {
          "output_type": "display_data",
          "data": {
            "text/plain": [
              "<Figure size 720x432 with 1 Axes>"
            ],
            "image/png": "[encoded data removed]"
          },
          "metadata": {
            "needs_background": "light"
          }
        }
      ],
      "source": [
        "cluster_columns(xs_imp)"
      ]
    },
    {
      "cell_type": "markdown",
      "metadata": {
        "id": "wKAk3dCF8f4o"
      },
      "source": [
        "In this chart, the pairs of columns that are most similar are the ones that were merged together early, far from the \"root\" of the tree at the left. \n",
        "\n",
        "> note: Determining Similarity: The most similar pairs are found by calculating the _rank correlation_, which means that all the values are replaced with their _rank_ (i.e., first, second, third, etc. within the column), and then the _correlation_ is calculated. (Feel free to skip over this minor detail though, since it's not going to come up again in the book!)\n",
        "\n",
        "Let's try removing some of these closely related features to see if the model can be simplified without impacting the accuracy. First, we create a function that quickly trains a random forest and returns the OOB score, by using a lower `max_samples` and higher `min_samples_leaf`. The OOB score is a number returned by sklearn that ranges between 1.0 for a perfect model and 0.0 for a random model. (In statistics it's called *R^2*, although the details aren't important for this explanation.) We don't need it to be very accurate—we're just going to use it to compare different models, based on removing some of the possibly redundant columns:"
      ]
    },
    {
      "cell_type": "code",
      "execution_count": 51,
      "metadata": {
        "id": "J5whsHai8f4p"
      },
      "outputs": [],
      "source": [
        "def get_oob(df):\n",
        "    m = RandomForestClassifier(n_estimators=500, min_samples_leaf=15,\n",
        "        max_samples=20000, max_features=0.5, n_jobs=-1, oob_score=True)\n",
        "    m.fit(df, y)\n",
        "    return m.oob_score_"
      ]
    },
    {
      "cell_type": "markdown",
      "metadata": {
        "id": "NX8fqTlo8f4p"
      },
      "source": [
        "Here's our baseline:"
      ]
    },
    {
      "cell_type": "code",
      "execution_count": 52,
      "metadata": {
        "colab": {
          "base_uri": "https://localhost:8080/"
        },
        "id": "IcmPOBGR8f4p",
        "outputId": "e4593c78-2e8d-4e79-af13-5c98fc01b4aa"
      },
      "outputs": [
        {
          "output_type": "execute_result",
          "data": {
            "text/plain": [
              "0.7773101384212495"
            ]
          },
          "metadata": {},
          "execution_count": 52
        }
      ],
      "source": [
        "get_oob(xs_imp)"
      ]
    },
    {
      "cell_type": "markdown",
      "metadata": {
        "id": "XUE0ki5D8f4p"
      },
      "source": [
        "Now we try removing each of our potentially redundant variables, one at a time:"
      ]
    },
    {
      "cell_type": "code",
      "execution_count": 63,
      "metadata": {
        "colab": {
          "base_uri": "https://localhost:8080/"
        },
        "id": "TSNvm3EX8f4p",
        "outputId": "f53df847-f813-4b05-bb69-b76c658acd7d"
      },
      "outputs": [
        {
          "output_type": "execute_result",
          "data": {
            "text/plain": [
              "{'extraction_type': 0.7870370370370371,\n",
              " 'source_type': 0.7869809203142536,\n",
              " 'waterpoint_type': 0.786307519640853}"
            ]
          },
          "metadata": {},
          "execution_count": 63
        }
      ],
      "source": [
        "{c:get_oob(xs_imp.drop(c, axis=1)) for c in (\n",
        "    'source_type','waterpoint_type','extraction_type')}"
      ]
    },
    {
      "cell_type": "markdown",
      "metadata": {
        "id": "681lon0_8f4p"
      },
      "source": [
        "Now let's try dropping multiple variables. We'll drop one from each of the tightly aligned pairs we noticed earlier. Let's see what that does:"
      ]
    },
    {
      "cell_type": "code",
      "execution_count": 66,
      "metadata": {
        "colab": {
          "base_uri": "https://localhost:8080/"
        },
        "id": "YoX-Jp-18f4p",
        "outputId": "eab9b67b-199a-4287-a31a-21e6171574cf"
      },
      "outputs": [
        {
          "output_type": "execute_result",
          "data": {
            "text/plain": [
              "0.7859895248784138"
            ]
          },
          "metadata": {},
          "execution_count": 66
        }
      ],
      "source": [
        "to_drop = ['source_type','waterpoint_type','extraction_type']\n",
        "get_oob(xs_imp.drop(to_drop, axis=1))"
      ]
    },
    {
      "cell_type": "markdown",
      "metadata": {
        "id": "1DQJ_sAV8f4p"
      },
      "source": [
        "Looking good! This is really not much worse than the model with all the fields. Let's create DataFrames without these columns, and save them:"
      ]
    },
    {
      "cell_type": "code",
      "execution_count": 67,
      "metadata": {
        "id": "kyzIk7aa8f4q"
      },
      "outputs": [],
      "source": [
        "xs_final = xs_imp.drop(to_drop, axis=1)\n",
        "valid_xs_final = valid_xs_imp.drop(to_drop, axis=1)"
      ]
    },
    {
      "cell_type": "code",
      "execution_count": 68,
      "metadata": {
        "id": "TUo2lB7r8f4q"
      },
      "outputs": [],
      "source": [
        "save_pickle(path/'xs_final.pkl', xs_final)\n",
        "save_pickle(path/'valid_xs_final.pkl', valid_xs_final)"
      ]
    },
    {
      "cell_type": "markdown",
      "metadata": {
        "id": "-bHwugCK8f4q"
      },
      "source": [
        "We can load them back later with:"
      ]
    },
    {
      "cell_type": "code",
      "execution_count": 69,
      "metadata": {
        "id": "yGk1nfOH8f4q"
      },
      "outputs": [],
      "source": [
        "xs_final = load_pickle(path/'xs_final.pkl')\n",
        "valid_xs_final = load_pickle(path/'valid_xs_final.pkl')"
      ]
    },
    {
      "cell_type": "code",
      "source": [
        "xs_final.columns"
      ],
      "metadata": {
        "colab": {
          "base_uri": "https://localhost:8080/"
        },
        "id": "qEzL01Zxzy0o",
        "outputId": "9593895f-1717-4936-8c31-f768ee233c68"
      },
      "execution_count": 70,
      "outputs": [
        {
          "output_type": "execute_result",
          "data": {
            "text/plain": [
              "Index(['quantity_group', 'quantity', 'longitude', 'latitude',\n",
              "       'waterpoint_type_group', 'subvillage', 'date_recorded',\n",
              "       'construction_year', 'wpt_name', 'ward', 'funder', 'gps_height', 'lga',\n",
              "       'extraction_type_class', 'population', 'amount_tsh', 'installer',\n",
              "       'scheme_name', 'payment', 'region', 'source', 'region_code',\n",
              "       'management', 'district_code', 'extraction_type_group', 'basin',\n",
              "       'scheme_management', 'payment_type'],\n",
              "      dtype='object')"
            ]
          },
          "metadata": {},
          "execution_count": 70
        }
      ]
    },
    {
      "cell_type": "code",
      "source": [
        "m.predict(to_tst[xs_imp.columns])"
      ],
      "metadata": {
        "colab": {
          "base_uri": "https://localhost:8080/"
        },
        "id": "a5eI6PXm0l_y",
        "outputId": "11163568-3572-4ba5-b9ee-dffb654aa2e8"
      },
      "execution_count": 71,
      "outputs": [
        {
          "output_type": "execute_result",
          "data": {
            "text/plain": [
              "array([2, 0, 2, ..., 0, 0, 2], dtype=int8)"
            ]
          },
          "metadata": {},
          "execution_count": 71
        }
      ]
    },
    {
      "cell_type": "markdown",
      "metadata": {
        "id": "0I5hYcH58f4u"
      },
      "source": [
        "##Neural Networks"
      ]
    },
    {
      "cell_type": "markdown",
      "metadata": {
        "id": "Xc__xUoU8f4y"
      },
      "source": [
        "### Using a Neural Network"
      ]
    },
    {
      "cell_type": "markdown",
      "metadata": {
        "id": "yfatYVpX8f4y"
      },
      "source": [
        "We can use the same approach to build a neural network model. Let's first replicate the steps we took to set up the `TabularPandas` object:"
      ]
    },
    {
      "cell_type": "code",
      "execution_count": 72,
      "metadata": {
        "id": "QKHjnaBw8f4y"
      },
      "outputs": [],
      "source": [
        "df_nn = pd.read_csv(path/'train.csv', low_memory=False)"
      ]
    },
    {
      "cell_type": "markdown",
      "metadata": {
        "id": "LG8_GkyP8f4y"
      },
      "source": [
        "We can leverage the work we did to trim unwanted columns in the random forest by using the same set of columns for our neural network , plus high cardinality ones:"
      ]
    },
    {
      "cell_type": "code",
      "execution_count": 73,
      "metadata": {
        "id": "qXPR_z_48f4y"
      },
      "outputs": [],
      "source": [
        "df_nn_final= df_nn[list(xs.columns) + [dep_var]]"
      ]
    },
    {
      "cell_type": "code",
      "source": [
        "df_nn_final.info()"
      ],
      "metadata": {
        "colab": {
          "base_uri": "https://localhost:8080/"
        },
        "id": "6ut_X1PxL2kC",
        "outputId": "1c15c7f6-636b-4528-b20e-3524407756e5"
      },
      "execution_count": 74,
      "outputs": [
        {
          "output_type": "stream",
          "name": "stdout",
          "text": [
            "<class 'pandas.core.frame.DataFrame'>\n",
            "RangeIndex: 59400 entries, 0 to 59399\n",
            "Data columns (total 40 columns):\n",
            " #   Column                 Non-Null Count  Dtype  \n",
            "---  ------                 --------------  -----  \n",
            " 0   date_recorded          59400 non-null  object \n",
            " 1   funder                 55765 non-null  object \n",
            " 2   installer              55745 non-null  object \n",
            " 3   wpt_name               59400 non-null  object \n",
            " 4   basin                  59400 non-null  object \n",
            " 5   subvillage             59029 non-null  object \n",
            " 6   region                 59400 non-null  object \n",
            " 7   lga                    59400 non-null  object \n",
            " 8   ward                   59400 non-null  object \n",
            " 9   public_meeting         56066 non-null  object \n",
            " 10  recorded_by            59400 non-null  object \n",
            " 11  scheme_management      55523 non-null  object \n",
            " 12  scheme_name            31234 non-null  object \n",
            " 13  permit                 56344 non-null  object \n",
            " 14  extraction_type        59400 non-null  object \n",
            " 15  extraction_type_group  59400 non-null  object \n",
            " 16  extraction_type_class  59400 non-null  object \n",
            " 17  management             59400 non-null  object \n",
            " 18  management_group       59400 non-null  object \n",
            " 19  payment                59400 non-null  object \n",
            " 20  payment_type           59400 non-null  object \n",
            " 21  water_quality          59400 non-null  object \n",
            " 22  quality_group          59400 non-null  object \n",
            " 23  quantity               59400 non-null  object \n",
            " 24  quantity_group         59400 non-null  object \n",
            " 25  source                 59400 non-null  object \n",
            " 26  source_type            59400 non-null  object \n",
            " 27  source_class           59400 non-null  object \n",
            " 28  waterpoint_type        59400 non-null  object \n",
            " 29  waterpoint_type_group  59400 non-null  object \n",
            " 30  amount_tsh             59400 non-null  float64\n",
            " 31  gps_height             59400 non-null  int64  \n",
            " 32  longitude              59400 non-null  float64\n",
            " 33  latitude               59400 non-null  float64\n",
            " 34  num_private            59400 non-null  int64  \n",
            " 35  region_code            59400 non-null  int64  \n",
            " 36  district_code          59400 non-null  int64  \n",
            " 37  population             59400 non-null  int64  \n",
            " 38  construction_year      59400 non-null  int64  \n",
            " 39  status_group           59400 non-null  object \n",
            "dtypes: float64(3), int64(6), object(31)\n",
            "memory usage: 18.1+ MB\n"
          ]
        }
      ]
    },
    {
      "cell_type": "code",
      "execution_count": 75,
      "metadata": {
        "id": "Wi01CLrw8f4y"
      },
      "outputs": [],
      "source": [
        "cont_nn,cat_nn = cont_cat_split(df_nn_final, max_card=5, dep_var=dep_var)"
      ]
    },
    {
      "cell_type": "code",
      "source": [
        "cont_nn"
      ],
      "metadata": {
        "colab": {
          "base_uri": "https://localhost:8080/"
        },
        "id": "cSjyPfx5J2Ee",
        "outputId": "b51553ee-bae1-4e97-c502-cacf1348dc2a"
      },
      "execution_count": 76,
      "outputs": [
        {
          "output_type": "execute_result",
          "data": {
            "text/plain": [
              "['amount_tsh',\n",
              " 'gps_height',\n",
              " 'longitude',\n",
              " 'latitude',\n",
              " 'num_private',\n",
              " 'region_code',\n",
              " 'district_code',\n",
              " 'population',\n",
              " 'construction_year']"
            ]
          },
          "metadata": {},
          "execution_count": 76
        }
      ]
    },
    {
      "cell_type": "markdown",
      "metadata": {
        "id": "4L3vdVcE8f4z"
      },
      "source": [
        "Let's take a look at the cardinality of each of the categorical variables that we have chosen so far:"
      ]
    },
    {
      "cell_type": "code",
      "execution_count": 77,
      "metadata": {
        "colab": {
          "base_uri": "https://localhost:8080/"
        },
        "id": "VsIGqoVM8f4z",
        "outputId": "5bab447b-8965-47d5-c0cc-59b160c0d677"
      },
      "outputs": [
        {
          "output_type": "execute_result",
          "data": {
            "text/plain": [
              "date_recorded              356\n",
              "funder                    1897\n",
              "installer                 2145\n",
              "wpt_name                 37400\n",
              "basin                        9\n",
              "                         ...  \n",
              "source                      10\n",
              "source_type                  7\n",
              "source_class                 3\n",
              "waterpoint_type              7\n",
              "waterpoint_type_group        6\n",
              "Length: 30, dtype: int64"
            ]
          },
          "metadata": {},
          "execution_count": 77
        }
      ],
      "source": [
        "df_nn_final[cat_nn].nunique()"
      ]
    },
    {
      "cell_type": "markdown",
      "metadata": {
        "id": "OI8SyTp_8f4z"
      },
      "source": [
        "We can create our `TabularPandas` object in the same way as when we created our random forest, with one very important addition: normalization. A random forest does not need any normalization—the tree building procedure cares only about the order of values in a variable, not at all about how they are scaled. But as we have seen, a neural network definitely does care about this. Therefore, we add the `Normalize` processor when we build our `TabularPandas` object:"
      ]
    },
    {
      "cell_type": "code",
      "execution_count": 78,
      "metadata": {
        "id": "yA21RJ7w8f4z"
      },
      "outputs": [],
      "source": [
        "procs_nn = [Categorify, FillMissing, Normalize]\n",
        "to_nn = TabularPandas(df_nn_final, procs_nn, cat_nn, cont_nn,\n",
        "                      splits=splits, y_names=dep_var)"
      ]
    },
    {
      "cell_type": "markdown",
      "metadata": {
        "id": "iXelF_gM8f40"
      },
      "source": [
        "Tabular models and data don't generally require much GPU RAM, so we can use larger batch sizes:"
      ]
    },
    {
      "cell_type": "code",
      "execution_count": 79,
      "metadata": {
        "id": "H_h8cLlj8f40"
      },
      "outputs": [],
      "source": [
        "dls = to_nn.dataloaders(128)"
      ]
    },
    {
      "cell_type": "markdown",
      "metadata": {
        "id": "ng4PZgq_8f40"
      },
      "source": [
        "We can now create the `Learner` to create this tabular model. As usual, we use the application-specific learner function, to take advantage of its application-customized defaults. We set the loss function to MSE, since that's what this competition uses.\n",
        "\n",
        "By default, for tabular data fastai creates a neural network with two hidden layers, with 200 and 100 activations, respectively. This works quite well for small datasets, but here we've got quite a large dataset, so we increase the layer sizes to 500 and 250:"
      ]
    },
    {
      "cell_type": "code",
      "execution_count": 80,
      "metadata": {
        "id": "NVXeMyUo8f40"
      },
      "outputs": [],
      "source": [
        "learn = tabular_learner(dls, layers=[500,250], metrics=accuracy)"
      ]
    },
    {
      "cell_type": "code",
      "execution_count": 81,
      "metadata": {
        "colab": {
          "base_uri": "https://localhost:8080/",
          "height": 300
        },
        "id": "vVmePdYv8f40",
        "outputId": "9143ea11-3f29-4cf5-9006-d4fd7fd06e42"
      },
      "outputs": [
        {
          "output_type": "display_data",
          "data": {
            "text/plain": [
              "<IPython.core.display.HTML object>"
            ],
            "text/html": [
              "\n",
              "<style>\n",
              "    /* Turns off some styling */\n",
              "    progress {\n",
              "        /* gets rid of default border in Firefox and Opera. */\n",
              "        border: none;\n",
              "        /* Needs to be in here for Safari polyfill so background images work as expected. */\n",
              "        background-size: auto;\n",
              "    }\n",
              "    progress:not([value]), progress:not([value])::-webkit-progress-bar {\n",
              "        background: repeating-linear-gradient(45deg, #7e7e7e, #7e7e7e 10px, #5c5c5c 10px, #5c5c5c 20px);\n",
              "    }\n",
              "    .progress-bar-interrupted, .progress-bar-interrupted::-webkit-progress-bar {\n",
              "        background: #F44336;\n",
              "    }\n",
              "</style>\n"
            ]
          },
          "metadata": {}
        },
        {
          "output_type": "display_data",
          "data": {
            "text/plain": [
              "<IPython.core.display.HTML object>"
            ],
            "text/html": [
              ""
            ]
          },
          "metadata": {}
        },
        {
          "output_type": "execute_result",
          "data": {
            "text/plain": [
              "SuggestedLRs(valley=0.0014454397605732083)"
            ]
          },
          "metadata": {},
          "execution_count": 81
        },
        {
          "output_type": "display_data",
          "data": {
            "text/plain": [
              "<Figure size 432x288 with 1 Axes>"
            ],
            "image/png": "[encoded data removed]"
          },
          "metadata": {
            "needs_background": "light"
          }
        }
      ],
      "source": [
        "learn.lr_find()"
      ]
    },
    {
      "cell_type": "markdown",
      "metadata": {
        "id": "-fW35wNb8f40"
      },
      "source": [
        "There's no need to use `fine_tune`, so we'll train with `fit_one_cycle` for a few epochs and see how it looks:"
      ]
    },
    {
      "cell_type": "code",
      "execution_count": 82,
      "metadata": {
        "colab": {
          "base_uri": "https://localhost:8080/",
          "height": 206
        },
        "id": "bPWcGMpd8f41",
        "outputId": "b8538a80-6f48-46e8-ab43-f090ec89f699"
      },
      "outputs": [
        {
          "output_type": "display_data",
          "data": {
            "text/plain": [
              "<IPython.core.display.HTML object>"
            ],
            "text/html": [
              "\n",
              "<style>\n",
              "    /* Turns off some styling */\n",
              "    progress {\n",
              "        /* gets rid of default border in Firefox and Opera. */\n",
              "        border: none;\n",
              "        /* Needs to be in here for Safari polyfill so background images work as expected. */\n",
              "        background-size: auto;\n",
              "    }\n",
              "    progress:not([value]), progress:not([value])::-webkit-progress-bar {\n",
              "        background: repeating-linear-gradient(45deg, #7e7e7e, #7e7e7e 10px, #5c5c5c 10px, #5c5c5c 20px);\n",
              "    }\n",
              "    .progress-bar-interrupted, .progress-bar-interrupted::-webkit-progress-bar {\n",
              "        background: #F44336;\n",
              "    }\n",
              "</style>\n"
            ]
          },
          "metadata": {}
        },
        {
          "output_type": "display_data",
          "data": {
            "text/plain": [
              "<IPython.core.display.HTML object>"
            ],
            "text/html": [
              "<table border=\"1\" class=\"dataframe\">\n",
              "  <thead>\n",
              "    <tr style=\"text-align: left;\">\n",
              "      <th>epoch</th>\n",
              "      <th>train_loss</th>\n",
              "      <th>valid_loss</th>\n",
              "      <th>accuracy</th>\n",
              "      <th>time</th>\n",
              "    </tr>\n",
              "  </thead>\n",
              "  <tbody>\n",
              "    <tr>\n",
              "      <td>0</td>\n",
              "      <td>0.593675</td>\n",
              "      <td>0.578059</td>\n",
              "      <td>0.765993</td>\n",
              "      <td>00:06</td>\n",
              "    </tr>\n",
              "    <tr>\n",
              "      <td>1</td>\n",
              "      <td>0.417998</td>\n",
              "      <td>0.597638</td>\n",
              "      <td>0.750842</td>\n",
              "      <td>00:06</td>\n",
              "    </tr>\n",
              "    <tr>\n",
              "      <td>2</td>\n",
              "      <td>0.190604</td>\n",
              "      <td>0.710692</td>\n",
              "      <td>0.759428</td>\n",
              "      <td>00:06</td>\n",
              "    </tr>\n",
              "    <tr>\n",
              "      <td>3</td>\n",
              "      <td>0.089873</td>\n",
              "      <td>0.869056</td>\n",
              "      <td>0.758249</td>\n",
              "      <td>00:06</td>\n",
              "    </tr>\n",
              "    <tr>\n",
              "      <td>4</td>\n",
              "      <td>0.044183</td>\n",
              "      <td>0.959226</td>\n",
              "      <td>0.760438</td>\n",
              "      <td>00:06</td>\n",
              "    </tr>\n",
              "  </tbody>\n",
              "</table>"
            ]
          },
          "metadata": {}
        }
      ],
      "source": [
        "learn.fit_one_cycle(5, 0.001,wd=0.3)"
      ]
    },
    {
      "cell_type": "code",
      "source": [
        "interp = ClassificationInterpretation.from_learner(learn)\n",
        "interp.plot_confusion_matrix()"
      ],
      "metadata": {
        "colab": {
          "base_uri": "https://localhost:8080/",
          "height": 311
        },
        "id": "phJWwGU56Pkl",
        "outputId": "1a63a863-0d35-47ac-b8bf-290580a0fa31"
      },
      "execution_count": 83,
      "outputs": [
        {
          "output_type": "display_data",
          "data": {
            "text/plain": [
              "<IPython.core.display.HTML object>"
            ],
            "text/html": [
              "\n",
              "<style>\n",
              "    /* Turns off some styling */\n",
              "    progress {\n",
              "        /* gets rid of default border in Firefox and Opera. */\n",
              "        border: none;\n",
              "        /* Needs to be in here for Safari polyfill so background images work as expected. */\n",
              "        background-size: auto;\n",
              "    }\n",
              "    progress:not([value]), progress:not([value])::-webkit-progress-bar {\n",
              "        background: repeating-linear-gradient(45deg, #7e7e7e, #7e7e7e 10px, #5c5c5c 10px, #5c5c5c 20px);\n",
              "    }\n",
              "    .progress-bar-interrupted, .progress-bar-interrupted::-webkit-progress-bar {\n",
              "        background: #F44336;\n",
              "    }\n",
              "</style>\n"
            ]
          },
          "metadata": {}
        },
        {
          "output_type": "display_data",
          "data": {
            "text/plain": [
              "<IPython.core.display.HTML object>"
            ],
            "text/html": [
              ""
            ]
          },
          "metadata": {}
        },
        {
          "output_type": "display_data",
          "data": {
            "text/plain": [
              "<IPython.core.display.HTML object>"
            ],
            "text/html": [
              "\n",
              "<style>\n",
              "    /* Turns off some styling */\n",
              "    progress {\n",
              "        /* gets rid of default border in Firefox and Opera. */\n",
              "        border: none;\n",
              "        /* Needs to be in here for Safari polyfill so background images work as expected. */\n",
              "        background-size: auto;\n",
              "    }\n",
              "    progress:not([value]), progress:not([value])::-webkit-progress-bar {\n",
              "        background: repeating-linear-gradient(45deg, #7e7e7e, #7e7e7e 10px, #5c5c5c 10px, #5c5c5c 20px);\n",
              "    }\n",
              "    .progress-bar-interrupted, .progress-bar-interrupted::-webkit-progress-bar {\n",
              "        background: #F44336;\n",
              "    }\n",
              "</style>\n"
            ]
          },
          "metadata": {}
        },
        {
          "output_type": "display_data",
          "data": {
            "text/plain": [
              "<IPython.core.display.HTML object>"
            ],
            "text/html": [
              ""
            ]
          },
          "metadata": {}
        },
        {
          "output_type": "display_data",
          "data": {
            "text/plain": [
              "<Figure size 432x288 with 1 Axes>"
            ],
            "image/png": "[encoded data removed]"
          },
          "metadata": {
            "needs_background": "light"
          }
        }
      ]
    },
    {
      "cell_type": "code",
      "execution_count": 84,
      "metadata": {
        "colab": {
          "base_uri": "https://localhost:8080/"
        },
        "id": "oOQhgCbv8f41",
        "outputId": "3c65d4f7-0040-46cd-99ea-813e6b2b8ebe"
      },
      "outputs": [
        {
          "output_type": "execute_result",
          "data": {
            "text/plain": [
              "Path('nn.pth')"
            ]
          },
          "metadata": {},
          "execution_count": 84
        }
      ],
      "source": [
        "learn.save(path/'nn')"
      ]
    },
    {
      "cell_type": "code",
      "source": [
        "df_test = pd.read_csv('/content/gdrive/MyDrive/Water/test.csv')"
      ],
      "metadata": {
        "id": "T8dIuizxJ8Wn"
      },
      "execution_count": 85,
      "outputs": []
    },
    {
      "cell_type": "code",
      "source": [
        "del (df_test['id'])"
      ],
      "metadata": {
        "id": "gJCqeCimCfqw"
      },
      "execution_count": 86,
      "outputs": []
    },
    {
      "cell_type": "code",
      "source": [
        "to_test = TabularPandas(df_test, procs, cat_nn, cont_nn)"
      ],
      "metadata": {
        "id": "RPjfEnAqByxv"
      },
      "execution_count": 87,
      "outputs": []
    },
    {
      "cell_type": "code",
      "source": [
        "test_dl = dls.test_dl(df_test, with_labels=False)"
      ],
      "metadata": {
        "id": "Z4ZKmM3jKLiN"
      },
      "execution_count": 88,
      "outputs": []
    },
    {
      "cell_type": "code",
      "source": [
        "preds = learn.get_preds(dl=test_dl)"
      ],
      "metadata": {
        "colab": {
          "base_uri": "https://localhost:8080/",
          "height": 17
        },
        "id": "ux2TFEg_KWDS",
        "outputId": "a409305e-bfe3-457c-b119-d82515a8a288"
      },
      "execution_count": 89,
      "outputs": [
        {
          "output_type": "display_data",
          "data": {
            "text/plain": [
              "<IPython.core.display.HTML object>"
            ],
            "text/html": [
              "\n",
              "<style>\n",
              "    /* Turns off some styling */\n",
              "    progress {\n",
              "        /* gets rid of default border in Firefox and Opera. */\n",
              "        border: none;\n",
              "        /* Needs to be in here for Safari polyfill so background images work as expected. */\n",
              "        background-size: auto;\n",
              "    }\n",
              "    progress:not([value]), progress:not([value])::-webkit-progress-bar {\n",
              "        background: repeating-linear-gradient(45deg, #7e7e7e, #7e7e7e 10px, #5c5c5c 10px, #5c5c5c 20px);\n",
              "    }\n",
              "    .progress-bar-interrupted, .progress-bar-interrupted::-webkit-progress-bar {\n",
              "        background: #F44336;\n",
              "    }\n",
              "</style>\n"
            ]
          },
          "metadata": {}
        },
        {
          "output_type": "display_data",
          "data": {
            "text/plain": [
              "<IPython.core.display.HTML object>"
            ],
            "text/html": [
              ""
            ]
          },
          "metadata": {}
        }
      ]
    },
    {
      "cell_type": "code",
      "source": [
        "import pandas as pd\n",
        "#preds[0]\n",
        "\n",
        "pada = pd.DataFrame(preds[0]).astype(\"float\")"
      ],
      "metadata": {
        "id": "M2Gix0npNKVh"
      },
      "execution_count": 90,
      "outputs": []
    },
    {
      "cell_type": "code",
      "source": [
        "pada['pred'] = pada.apply(lambda x: x.argmax(), axis=1)"
      ],
      "metadata": {
        "id": "Hh3Ce1mzQt-U"
      },
      "execution_count": 91,
      "outputs": []
    },
    {
      "cell_type": "code",
      "source": [
        "pada['pred'].value_counts()"
      ],
      "metadata": {
        "colab": {
          "base_uri": "https://localhost:8080/"
        },
        "id": "ZjfyHBlYrEAf",
        "outputId": "bcb09b85-950e-4f8f-a701-fff70f9e0ee3"
      },
      "execution_count": 92,
      "outputs": [
        {
          "output_type": "execute_result",
          "data": {
            "text/plain": [
              "0    8863\n",
              "2    5198\n",
              "1     789\n",
              "Name: pred, dtype: int64"
            ]
          },
          "metadata": {},
          "execution_count": 92
        }
      ]
    },
    {
      "cell_type": "code",
      "source": [
        "df_test_id = pd.read_csv('/content/gdrive/MyDrive/Water/test.csv')"
      ],
      "metadata": {
        "id": "3jdSpfCzvUbP"
      },
      "execution_count": 107,
      "outputs": []
    },
    {
      "cell_type": "code",
      "source": [
        "df_test_id =  pd.concat([df_test_id, pada],axis=1)"
      ],
      "metadata": {
        "id": "ZKwYJlh3v8_-"
      },
      "execution_count": 108,
      "outputs": []
    },
    {
      "cell_type": "code",
      "source": [
        "submission = pd.read_csv('/content/gdrive/MyDrive/Water/SubmissionFormat.csv')"
      ],
      "metadata": {
        "id": "0JQPwlXrvgCv"
      },
      "execution_count": 115,
      "outputs": []
    },
    {
      "cell_type": "code",
      "source": [
        "df_test_id = pd.merge(df_test_id,submission,on = 'id' )"
      ],
      "metadata": {
        "id": "JzucpaeDvZOQ"
      },
      "execution_count": 116,
      "outputs": []
    },
    {
      "cell_type": "code",
      "source": [
        "df_test_id.columns"
      ],
      "metadata": {
        "colab": {
          "base_uri": "https://localhost:8080/"
        },
        "id": "-VMflqG6vwHt",
        "outputId": "d4d2ee3b-9190-47b0-c78b-2deeb11bbeca"
      },
      "execution_count": 117,
      "outputs": [
        {
          "output_type": "execute_result",
          "data": {
            "text/plain": [
              "Index([                   'id',            'amount_tsh',\n",
              "               'date_recorded',                'funder',\n",
              "                  'gps_height',             'installer',\n",
              "                   'longitude',              'latitude',\n",
              "                    'wpt_name',           'num_private',\n",
              "                       'basin',            'subvillage',\n",
              "                      'region',           'region_code',\n",
              "               'district_code',                   'lga',\n",
              "                        'ward',            'population',\n",
              "              'public_meeting',           'recorded_by',\n",
              "           'scheme_management',           'scheme_name',\n",
              "                      'permit',     'construction_year',\n",
              "             'extraction_type', 'extraction_type_group',\n",
              "       'extraction_type_class',            'management',\n",
              "            'management_group',               'payment',\n",
              "                'payment_type',         'water_quality',\n",
              "               'quality_group',              'quantity',\n",
              "              'quantity_group',                'source',\n",
              "                 'source_type',          'source_class',\n",
              "             'waterpoint_type', 'waterpoint_type_group',\n",
              "                             0,                       1,\n",
              "                             2,                  'pred',\n",
              "                'status_group'],\n",
              "      dtype='object')"
            ]
          },
          "metadata": {},
          "execution_count": 117
        }
      ]
    },
    {
      "cell_type": "code",
      "source": [
        "df_test_id.loc[df_test_id['pred'] == 0, 'status_group'] = 'functional'\n",
        "df_test_id.loc[df_test_id['pred'] == 1, 'status_group'] = 'functional needs repair'\n",
        "df_test_id.loc[df_test_id['pred'] == 2, 'status_group'] = 'non functional'"
      ],
      "metadata": {
        "id": "-joV204MQOlw"
      },
      "execution_count": 118,
      "outputs": []
    },
    {
      "cell_type": "code",
      "source": [
        "df_test_id['status_group'].value_counts()"
      ],
      "metadata": {
        "colab": {
          "base_uri": "https://localhost:8080/"
        },
        "id": "4_HvvZaZx17-",
        "outputId": "f84e2014-1f33-4f84-caa4-295f7000b361"
      },
      "execution_count": 119,
      "outputs": [
        {
          "output_type": "execute_result",
          "data": {
            "text/plain": [
              "functional                 8863\n",
              "non functional             5198\n",
              "functional needs repair     789\n",
              "Name: status_group, dtype: int64"
            ]
          },
          "metadata": {},
          "execution_count": 119
        }
      ]
    },
    {
      "cell_type": "code",
      "source": [
        "df_test_id"
      ],
      "metadata": {
        "id": "lPsrXaIEjHhk",
        "outputId": "2e2856f0-1861-4101-8c17-a4d16bebd671",
        "colab": {
          "base_uri": "https://localhost:8080/",
          "height": 423
        }
      },
      "execution_count": 120,
      "outputs": [
        {
          "output_type": "execute_result",
          "data": {
            "text/plain": [
              "          id  amount_tsh date_recorded                  funder  ...         1  \\\n",
              "0      50785         0.0    2013-02-04                    Dmdd  ...  0.045060   \n",
              "1      51630         0.0    2013-02-04  Government Of Tanzania  ...  0.016532   \n",
              "2      17168         0.0    2013-02-01                     NaN  ...  0.009873   \n",
              "3      45559         0.0    2013-01-22              Finn Water  ...  0.000003   \n",
              "4      49871       500.0    2013-03-27                  Bruder  ...  0.004552   \n",
              "...      ...         ...           ...                     ...  ...       ...   \n",
              "14845  39307         0.0    2011-02-24                  Danida  ...  0.003230   \n",
              "14846  18990      1000.0    2011-03-21                    Hiap  ...  0.000240   \n",
              "14847  28749         0.0    2013-03-04                     NaN  ...  0.161301   \n",
              "14848  33492         0.0    2013-02-18                 Germany  ...  0.002925   \n",
              "14849  68707         0.0    2013-02-13  Government Of Tanzania  ...  0.000040   \n",
              "\n",
              "              2  pred    status_group  \n",
              "0      0.552593     2  non functional  \n",
              "1      0.720214     2  non functional  \n",
              "2      0.000877     0      functional  \n",
              "3      0.999984     2  non functional  \n",
              "4      0.000009     0      functional  \n",
              "...         ...   ...             ...  \n",
              "14845  0.086023     0      functional  \n",
              "14846  0.005484     0      functional  \n",
              "14847  0.164824     0      functional  \n",
              "14848  0.000389     0      functional  \n",
              "14849  0.999958     2  non functional  \n",
              "\n",
              "[14850 rows x 45 columns]"
            ],
            "text/html": [
              "\n",
              "  <div id=\"df-ce774ddb-e2ff-4bd8-8909-9e70e22005a6\">\n",
              "    <div class=\"colab-df-container\">\n",
              "      <div>\n",
              "<style scoped>\n",
              "    .dataframe tbody tr th:only-of-type {\n",
              "        vertical-align: middle;\n",
              "    }\n",
              "\n",
              "    .dataframe tbody tr th {\n",
              "        vertical-align: top;\n",
              "    }\n",
              "\n",
              "    .dataframe thead th {\n",
              "        text-align: right;\n",
              "    }\n",
              "</style>\n",
              "<table border=\"1\" class=\"dataframe\">\n",
              "  <thead>\n",
              "    <tr style=\"text-align: right;\">\n",
              "      <th></th>\n",
              "      <th>id</th>\n",
              "      <th>amount_tsh</th>\n",
              "      <th>date_recorded</th>\n",
              "      <th>funder</th>\n",
              "      <th>...</th>\n",
              "      <th>1</th>\n",
              "      <th>2</th>\n",
              "      <th>pred</th>\n",
              "      <th>status_group</th>\n",
              "    </tr>\n",
              "  </thead>\n",
              "  <tbody>\n",
              "    <tr>\n",
              "      <th>0</th>\n",
              "      <td>50785</td>\n",
              "      <td>0.0</td>\n",
              "      <td>2013-02-04</td>\n",
              "      <td>Dmdd</td>\n",
              "      <td>...</td>\n",
              "      <td>0.045060</td>\n",
              "      <td>0.552593</td>\n",
              "      <td>2</td>\n",
              "      <td>non functional</td>\n",
              "    </tr>\n",
              "    <tr>\n",
              "      <th>1</th>\n",
              "      <td>51630</td>\n",
              "      <td>0.0</td>\n",
              "      <td>2013-02-04</td>\n",
              "      <td>Government Of Tanzania</td>\n",
              "      <td>...</td>\n",
              "      <td>0.016532</td>\n",
              "      <td>0.720214</td>\n",
              "      <td>2</td>\n",
              "      <td>non functional</td>\n",
              "    </tr>\n",
              "    <tr>\n",
              "      <th>2</th>\n",
              "      <td>17168</td>\n",
              "      <td>0.0</td>\n",
              "      <td>2013-02-01</td>\n",
              "      <td>NaN</td>\n",
              "      <td>...</td>\n",
              "      <td>0.009873</td>\n",
              "      <td>0.000877</td>\n",
              "      <td>0</td>\n",
              "      <td>functional</td>\n",
              "    </tr>\n",
              "    <tr>\n",
              "      <th>3</th>\n",
              "      <td>45559</td>\n",
              "      <td>0.0</td>\n",
              "      <td>2013-01-22</td>\n",
              "      <td>Finn Water</td>\n",
              "      <td>...</td>\n",
              "      <td>0.000003</td>\n",
              "      <td>0.999984</td>\n",
              "      <td>2</td>\n",
              "      <td>non functional</td>\n",
              "    </tr>\n",
              "    <tr>\n",
              "      <th>4</th>\n",
              "      <td>49871</td>\n",
              "      <td>500.0</td>\n",
              "      <td>2013-03-27</td>\n",
              "      <td>Bruder</td>\n",
              "      <td>...</td>\n",
              "      <td>0.004552</td>\n",
              "      <td>0.000009</td>\n",
              "      <td>0</td>\n",
              "      <td>functional</td>\n",
              "    </tr>\n",
              "    <tr>\n",
              "      <th>...</th>\n",
              "      <td>...</td>\n",
              "      <td>...</td>\n",
              "      <td>...</td>\n",
              "      <td>...</td>\n",
              "      <td>...</td>\n",
              "      <td>...</td>\n",
              "      <td>...</td>\n",
              "      <td>...</td>\n",
              "      <td>...</td>\n",
              "    </tr>\n",
              "    <tr>\n",
              "      <th>14845</th>\n",
              "      <td>39307</td>\n",
              "      <td>0.0</td>\n",
              "      <td>2011-02-24</td>\n",
              "      <td>Danida</td>\n",
              "      <td>...</td>\n",
              "      <td>0.003230</td>\n",
              "      <td>0.086023</td>\n",
              "      <td>0</td>\n",
              "      <td>functional</td>\n",
              "    </tr>\n",
              "    <tr>\n",
              "      <th>14846</th>\n",
              "      <td>18990</td>\n",
              "      <td>1000.0</td>\n",
              "      <td>2011-03-21</td>\n",
              "      <td>Hiap</td>\n",
              "      <td>...</td>\n",
              "      <td>0.000240</td>\n",
              "      <td>0.005484</td>\n",
              "      <td>0</td>\n",
              "      <td>functional</td>\n",
              "    </tr>\n",
              "    <tr>\n",
              "      <th>14847</th>\n",
              "      <td>28749</td>\n",
              "      <td>0.0</td>\n",
              "      <td>2013-03-04</td>\n",
              "      <td>NaN</td>\n",
              "      <td>...</td>\n",
              "      <td>0.161301</td>\n",
              "      <td>0.164824</td>\n",
              "      <td>0</td>\n",
              "      <td>functional</td>\n",
              "    </tr>\n",
              "    <tr>\n",
              "      <th>14848</th>\n",
              "      <td>33492</td>\n",
              "      <td>0.0</td>\n",
              "      <td>2013-02-18</td>\n",
              "      <td>Germany</td>\n",
              "      <td>...</td>\n",
              "      <td>0.002925</td>\n",
              "      <td>0.000389</td>\n",
              "      <td>0</td>\n",
              "      <td>functional</td>\n",
              "    </tr>\n",
              "    <tr>\n",
              "      <th>14849</th>\n",
              "      <td>68707</td>\n",
              "      <td>0.0</td>\n",
              "      <td>2013-02-13</td>\n",
              "      <td>Government Of Tanzania</td>\n",
              "      <td>...</td>\n",
              "      <td>0.000040</td>\n",
              "      <td>0.999958</td>\n",
              "      <td>2</td>\n",
              "      <td>non functional</td>\n",
              "    </tr>\n",
              "  </tbody>\n",
              "</table>\n",
              "<p>14850 rows × 45 columns</p>\n",
              "</div>\n",
              "      <button class=\"colab-df-convert\" onclick=\"convertToInteractive('df-ce774ddb-e2ff-4bd8-8909-9e70e22005a6')\"\n",
              "              title=\"Convert this dataframe to an interactive table.\"\n",
              "              style=\"display:none;\">\n",
              "        \n",
              "  <svg xmlns=\"http://www.w3.org/2000/svg\" height=\"24px\"viewBox=\"0 0 24 24\"\n",
              "       width=\"24px\">\n",
              "    <path d=\"M0 0h24v24H0V0z\" fill=\"none\"/>\n",
              "    <path d=\"M18.56 5.44l.94 2.06.94-2.06 2.06-.94-2.06-.94-.94-2.06-.94 2.06-2.06.94zm-11 1L8.5 8.5l.94-2.06 2.06-.94-2.06-.94L8.5 2.5l-.94 2.06-2.06.94zm10 10l.94 2.06.94-2.06 2.06-.94-2.06-.94-.94-2.06-.94 2.06-2.06.94z\"/><path d=\"M17.41 7.96l-1.37-1.37c-.4-.4-.92-.59-1.43-.59-.52 0-1.04.2-1.43.59L10.3 9.45l-7.72 7.72c-.78.78-.78 2.05 0 2.83L4 21.41c.39.39.9.59 1.41.59.51 0 1.02-.2 1.41-.59l7.78-7.78 2.81-2.81c.8-.78.8-2.07 0-2.86zM5.41 20L4 18.59l7.72-7.72 1.47 1.35L5.41 20z\"/>\n",
              "  </svg>\n",
              "      </button>\n",
              "      \n",
              "  <style>\n",
              "    .colab-df-container {\n",
              "      display:flex;\n",
              "      flex-wrap:wrap;\n",
              "      gap: 12px;\n",
              "    }\n",
              "\n",
              "    .colab-df-convert {\n",
              "      background-color: #E8F0FE;\n",
              "      border: none;\n",
              "      border-radius: 50%;\n",
              "      cursor: pointer;\n",
              "      display: none;\n",
              "      fill: #1967D2;\n",
              "      height: 32px;\n",
              "      padding: 0 0 0 0;\n",
              "      width: 32px;\n",
              "    }\n",
              "\n",
              "    .colab-df-convert:hover {\n",
              "      background-color: #E2EBFA;\n",
              "      box-shadow: 0px 1px 2px rgba(60, 64, 67, 0.3), 0px 1px 3px 1px rgba(60, 64, 67, 0.15);\n",
              "      fill: #174EA6;\n",
              "    }\n",
              "\n",
              "    [theme=dark] .colab-df-convert {\n",
              "      background-color: #3B4455;\n",
              "      fill: #D2E3FC;\n",
              "    }\n",
              "\n",
              "    [theme=dark] .colab-df-convert:hover {\n",
              "      background-color: #434B5C;\n",
              "      box-shadow: 0px 1px 3px 1px rgba(0, 0, 0, 0.15);\n",
              "      filter: drop-shadow(0px 1px 2px rgba(0, 0, 0, 0.3));\n",
              "      fill: #FFFFFF;\n",
              "    }\n",
              "  </style>\n",
              "\n",
              "      <script>\n",
              "        const buttonEl =\n",
              "          document.querySelector('#df-ce774ddb-e2ff-4bd8-8909-9e70e22005a6 button.colab-df-convert');\n",
              "        buttonEl.style.display =\n",
              "          google.colab.kernel.accessAllowed ? 'block' : 'none';\n",
              "\n",
              "        async function convertToInteractive(key) {\n",
              "          const element = document.querySelector('#df-ce774ddb-e2ff-4bd8-8909-9e70e22005a6');\n",
              "          const dataTable =\n",
              "            await google.colab.kernel.invokeFunction('convertToInteractive',\n",
              "                                                     [key], {});\n",
              "          if (!dataTable) return;\n",
              "\n",
              "          const docLinkHtml = 'Like what you see? Visit the ' +\n",
              "            '<a target=\"_blank\" href=https://colab.research.google.com/notebooks/data_table.ipynb>data table notebook</a>'\n",
              "            + ' to learn more about interactive tables.';\n",
              "          element.innerHTML = '';\n",
              "          dataTable['output_type'] = 'display_data';\n",
              "          await google.colab.output.renderOutput(dataTable, element);\n",
              "          const docLink = document.createElement('div');\n",
              "          docLink.innerHTML = docLinkHtml;\n",
              "          element.appendChild(docLink);\n",
              "        }\n",
              "      </script>\n",
              "    </div>\n",
              "  </div>\n",
              "  "
            ]
          },
          "metadata": {},
          "execution_count": 120
        }
      ]
    },
    {
      "cell_type": "code",
      "source": [
        "df_test_id['rf'] = np.nan"
      ],
      "metadata": {
        "id": "FnCJmzzB2nC7"
      },
      "execution_count": 121,
      "outputs": []
    },
    {
      "cell_type": "code",
      "source": [
        "df_test_id.loc[:,'rf'] = m.predict(to_tst[xs_imp.columns])"
      ],
      "metadata": {
        "id": "y0UzzpeA3GRG"
      },
      "execution_count": 122,
      "outputs": []
    },
    {
      "cell_type": "code",
      "source": [
        "df_test_id.loc[(df_test_id['pred'] == 0) & (df_test_id['rf'] == 1), 'status_group'] = 'functional needs repair'\n",
        "df_test_id.loc[(df_test_id['pred'] == 1) & (df_test_id['rf'] == 0), 'status_group'] = 'functional'\n",
        "df_test_id.loc[(df_test_id['pred'] == 2) & (df_test_id['rf'] == 0), 'status_group'] = 'functional'"
      ],
      "metadata": {
        "id": "f5Mzd6Na193n"
      },
      "execution_count": 123,
      "outputs": []
    },
    {
      "cell_type": "code",
      "source": [
        "df_test_id['status_group'].value_counts()"
      ],
      "metadata": {
        "colab": {
          "base_uri": "https://localhost:8080/"
        },
        "id": "Yz8GVbCP5caY",
        "outputId": "a71c875e-fe84-4eca-fdc9-4e43eef0c158"
      },
      "execution_count": 124,
      "outputs": [
        {
          "output_type": "execute_result",
          "data": {
            "text/plain": [
              "functional                 10426\n",
              "non functional              4024\n",
              "functional needs repair      400\n",
              "Name: status_group, dtype: int64"
            ]
          },
          "metadata": {},
          "execution_count": 124
        }
      ]
    },
    {
      "cell_type": "code",
      "source": [
        "df_test_id.to_csv('solution.csv')"
      ],
      "metadata": {
        "id": "7x-k3aZ5ylsh"
      },
      "execution_count": 125,
      "outputs": []
    }
  ],
  "metadata": {
    "kernelspec": {
      "display_name": "Python 3 (ipykernel)",
      "language": "python",
      "name": "python3"
    },
    "colab": {
      "name": "09_tabular.ipynb",
      "provenance": [],
      "machine_shape": "hm",
      "include_colab_link": true
    },
    "accelerator": "GPU",
    "gpuClass": "standard"
  },
  "nbformat": 4,
  "nbformat_minor": 0
}