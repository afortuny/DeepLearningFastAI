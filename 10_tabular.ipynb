{
  "cells": [
    {
      "cell_type": "markdown",
      "metadata": {
        "id": "view-in-github",
        "colab_type": "text"
      },
      "source": [
        "<a href=\"https://colab.research.google.com/github/afortuny/DeepLearningFastAI/blob/main/10_tabular.ipynb\" target=\"_parent\"><img src=\"https://colab.research.google.com/assets/colab-badge.svg\" alt=\"Open In Colab\"/></a>"
      ]
    },
    {
      "cell_type": "code",
      "execution_count": 2,
      "metadata": {
        "id": "GEez319d8f37"
      },
      "outputs": [],
      "source": [
        "#hide\n",
        "#! [ -e /content ] && pip install -Uqq fastbook kaggle waterfallcharts treeinterpreter dtreeviz\n",
        "import fastbook\n",
        "fastbook.setup_book()"
      ]
    },
    {
      "cell_type": "code",
      "execution_count": 3,
      "metadata": {
        "hide_input": false,
        "id": "feQaeHKW8f3_"
      },
      "outputs": [],
      "source": [
        "#hide\n",
        "from fastbook import *\n",
        "from pandas.api.types import is_string_dtype, is_numeric_dtype, is_categorical_dtype\n",
        "from fastai.tabular.all import *\n",
        "from sklearn.ensemble import RandomForestRegressor\n",
        "from sklearn.tree import DecisionTreeRegressor\n",
        "from dtreeviz.trees import *\n",
        "from IPython.display import Image, display_svg, SVG\n",
        "\n",
        "pd.options.display.max_rows = 20\n",
        "pd.options.display.max_columns = 8"
      ]
    },
    {
      "cell_type": "markdown",
      "metadata": {
        "id": "CrvivhRN8f4A"
      },
      "source": [
        "# Tabular Modeling Deep Dive"
      ]
    },
    {
      "cell_type": "markdown",
      "metadata": {
        "id": "EXaMFn_o8f4C"
      },
      "source": [
        "Most of industry problems require the usage of structure data for their models. Independently of the format of the raw data (reference data, transactional, images, text...) the most common inputs of our models will be tabular.\n",
        "\n",
        "In this notebook we explore ML and DL methods to be used on tabular data, that means structured data where normally each column is a variable (feature) and each row is an observation. The goal here is to predict the values of one of the columns containing the target variable.\n",
        "\n",
        "Given the fact that in many applications machine learning methods did as well as if not better than deep learning methods, it is adequate to consider them as baseline and the foundation for tabular data learning. \n",
        "\n",
        "There is one key concept on this lesson, and personally, the most important one, which is the concept of categorical embeddings. This idea is probably the one most overlook by both practitioners (which use one hot encoding still when a language model is not available) and researches (I have not seen many publications after 2016 despite the fact that is one of the most important techniques for successful industry modeling in categorical data).\n",
        "\n",
        "Because of that we will start with the concept of categorical embeddings."
      ]
    },
    {
      "cell_type": "markdown",
      "metadata": {
        "id": "gClIScLv8f4C"
      },
      "source": [
        "## Categorical Embeddings"
      ]
    },
    {
      "cell_type": "markdown",
      "source": [
        "In most tabular data problems, there will be variables which are numerical and continous, like salary or price, but also many categorical variables which are discrete and have finite amount of levels (quality index, costumer review, type of clothing, premium flag...). "
      ],
      "metadata": {
        "id": "jmkIB1qj00r4"
      }
    },
    {
      "cell_type": "markdown",
      "source": [
        "Typically, categorical variables are treated as one hot encoding, or aggregated, or simply discarded when they have too many levels (like zip codes, material composition...). Note that this is problematic due to the fact that it is hardly the case that each level in a categorical variable is unrelated to the other, and hence, some information is loss (or at least we give a harder time to the machine), when learning for such variables. Instead of doing of doing one hot encoding, aggregation or very complex manual feature engineering that require domain knowledge, we can leverage deep learning to create categorical embeddings for our variables and transform them meaningfully into continuous variables. The entity embedding of categorical variables paper explain how that was done to be on the top leaderboard on a kaggle competition. We explain the story behind the paper in what follows."
      ],
      "metadata": {
        "id": "70bNVIp71MyZ"
      }
    },
    {
      "cell_type": "markdown",
      "metadata": {
        "id": "EvXdQcwx8f4E"
      },
      "source": [
        "At the end of 2015, the [Rossmann sales competition](https://www.kaggle.com/c/rossmann-store-sales) ran on Kaggle. Competitors were given a wide range of information about various stores in Germany, and were tasked with trying to predict sales on a number of days. The goal was to help the company to manage stock properly and be able to satisfy demand without holding unnecessary inventory. The official training set provided a lot of information about the stores. It was also permitted for competitors to use additional data, as long as that data was made public and available to all participants.\n",
        "\n",
        "One of the gold medalists used deep learning, in one of the earliest known examples of a state-of-the-art deep learning tabular model. Their method involved far less feature engineering, based on domain knowledge, than those of the other gold medalists. The paper, [\"Entity Embeddings of Categorical Variables\"](https://arxiv.org/abs/1604.06737) describes their approach. "
      ]
    },
    {
      "cell_type": "markdown",
      "metadata": {
        "id": "Cvq7pinA8f4F"
      },
      "source": [
        "*Entity embeddings not only reduces memory usage and speeds up neural networks compared with one-hot encoding, but more importantly by mapping similar values close to each other in the embedding space it reveals the intrinsic properties of the categorical variables... [It] is especially useful for datasets with lots of high cardinality features, where other methods tend to overfit... As entity embedding defines a distance measure for categorical variables it can be used for visualizing categorical data and for data clustering.*\n",
        "\n",
        "\n"
      ]
    },
    {
      "cell_type": "markdown",
      "metadata": {
        "id": "YJ7UloCT8f4H"
      },
      "source": [
        "From the point of view of the architecture and our training algorithm the embedding layer is just another layer. The authors of the entity embeddings paper analyzed the embedding weights for their sales prediction model. What they found was quite amazing, and illustrates their second key insight. This is that the embedding transforms the categorical variables into inputs that are both continuous and meaningful.\n",
        "\n",
        "The images below illustrate these ideas. They are based on the approaches used in the paper, along with some analysis we have added."
      ]
    },
    {
      "cell_type": "markdown",
      "metadata": {
        "id": "Bvjt5Jlf8f4H"
      },
      "source": [
        "<img alt=\"State embeddings and map\" width=\"800\" caption=\"State embeddings and map (courtesy of Cheng Guo and Felix Berkhahn)\" id=\"state_emb\" src=\"https://github.com/fastai/fastbook/blob/master/images/att_00015.png?raw=1\">"
      ]
    },
    {
      "cell_type": "markdown",
      "metadata": {
        "id": "YBwo4vgm8f4H"
      },
      "source": [
        "On the left is a plot of the embedding matrix for the possible values of the `State` category. For a categorical variable we call the possible values of the variable its \"levels\" (or \"categories\" or \"classes\"), so here one level is \"Berlin,\" another is \"Hamburg,\" etc. On the right is a map of Germany. The actual physical locations of the German states were not part of the provided data, yet the model itself learned where they must be, based only on the behavior of store sales!\n",
        "\n",
        "Do you remember how we talked about *distance* between embeddings? The authors of the paper plotted the distance between store embeddings against the actual geographic distance between the stores. They found that they matched very closely!"
      ]
    },
    {
      "cell_type": "markdown",
      "metadata": {
        "id": "ehABRuKL8f4I"
      },
      "source": [
        "<img alt=\"Store distances\" width=\"600\" caption=\"Store distances (courtesy of Cheng Guo and Felix Berkhahn)\" id=\"store_emb\" src=\"https://github.com/fastai/fastbook/blob/master/images/att_00016.png?raw=1\">"
      ]
    },
    {
      "cell_type": "markdown",
      "metadata": {
        "id": "4jyKdnJ28f4I"
      },
      "source": [
        "What stands out in these two examples is that we provide the model fundamentally categorical data about discrete entities (e.g., German states or distance), and then the model learns an embedding for these entities that defines a continuous notion of distance between them. Because the embedding distance was learned based on real patterns in the data, that distance tends to match up with our intuitions.\n",
        "\n",
        "In addition, it is valuable in its own right that embeddings are continuous, because models are better at understanding continuous variables. This is unsurprising considering models are built of many continuous parameter weights and continuous activation values, which are updated via gradient descent (a learning algorithm for finding the minimums of continuous functions).\n",
        "\n",
        "Another benefit is that we can combine our continuous embedding values with truly continuous input data in a straightforward manner: we just concatenate the variables, and feed the concatenation into our first dense layer. In other words, the raw categorical data is transformed by an embedding layer before it interacts with the raw continuous input data. This is how fastai and Guo and Berkhahn handle tabular models containing continuous and categorical variables.\n",
        "\n",
        "An example using this concatenation approach is how Google does its recommendations on Google Play, as explained in the paper [\"Wide & Deep Learning for Recommender Systems\"](https://arxiv.org/abs/1606.07792)"
      ]
    },
    {
      "cell_type": "markdown",
      "metadata": {
        "id": "HxnLREfr8f4J"
      },
      "source": [
        "<img alt=\"The Google Play recommendation system\" width=\"800\" caption=\"The Google Play recommendation system\" id=\"google_recsys\" src=\"https://github.com/fastai/fastbook/blob/master/images/att_00019.png?raw=1\">"
      ]
    },
    {
      "cell_type": "markdown",
      "metadata": {
        "id": "NfvlDAKK8f4J"
      },
      "source": [
        "Interestingly, the Google team actually combined both approaches: the dot product (which they call *cross product*) and neural network approaches.\n"
      ]
    },
    {
      "cell_type": "markdown",
      "metadata": {
        "id": "u5GVI_pt8f4J"
      },
      "source": [
        "## Beyond Deep Learning"
      ]
    },
    {
      "cell_type": "markdown",
      "metadata": {
        "id": "oPf0tW1N8f4J"
      },
      "source": [
        "Instead of doing an exhaustive review of machine learning methods, fastai course simply show those that provide with little exeption very solid results dataset after data set, I cannot agree more with the selection.\n",
        "\n",
        "1. Ensembles of decision trees (i.e., random forests and gradient boosting machines), mainly for structured data (such as you might find in a database table at most companies)\n",
        "1. Multilayered neural networks learned with SGD (i.e., shallow and/or deep learning), mainly for unstructured data (such as audio, images, and natural language)"
      ]
    },
    {
      "cell_type": "markdown",
      "metadata": {
        "id": "q0EUxxnA8f4K"
      },
      "source": [
        "Although deep learning is nearly always clearly superior for unstructured data, these two approaches tend to give quite similar results for many kinds of structured data. But ensembles of decision trees tend to train faster, are often easier to interpret, do not require special GPU hardware for inference at scale, and often require less hyperparameter tuning. They have also been popular for quite a lot longer than deep learning, so there is a more mature ecosystem of tooling and documentation around them.\n",
        "\n",
        "Most importantly, the critical step of interpreting a model of tabular data is significantly easier for decision tree ensembles. There are tools and methods for answering the pertinent questions, like: \n",
        "\n",
        "*  **Which columns in the dataset were the most important for your predictions?**\n",
        "*   **How are they related to the dependent variable? How do they interact with each other?**\n",
        "*    **And which particular features were most important for some particular observation?**\n",
        "\n",
        "Therefore, ensembles of decision trees are our first approach for analyzing a new tabular dataset.\n",
        "\n",
        "The exception to this guideline is when the dataset meets one of these conditions:\n",
        "\n",
        "- ***There are some high-cardinality categorical variables that are very important*** (\"cardinality\" refers to the number of discrete levels representing categories, so a high-cardinality categorical variable is something like a zip code, which can take on thousands of possible levels).\n",
        "- There are ***some columns that contain data that would be best understood with a neural network, such as plain text data.***\n",
        "\n",
        "In practice, when we deal with datasets that meet these exceptional conditions, we always try both decision tree ensembles and deep learning to see which works best. \n"
      ]
    },
    {
      "cell_type": "markdown",
      "metadata": {
        "id": "IZJ_9VMU8f4K"
      },
      "source": [
        "Up to now we've used PyTorch and fastai for pretty much all of our heavy lifting. But these libraries are mainly designed for algorithms that do lots of matrix multiplication and derivatives (that is, stuff like deep learning!). Decision trees don't depend on these operations at all, so PyTorch isn't much use.\n",
        "\n",
        "Instead, we will be largely relying on a library called scikit-learn (also known as `sklearn`). Scikit-learn is a popular library for creating machine learning models, using approaches that are not covered by deep learning. In addition, we'll need to do some tabular data processing and querying, so we'll want to use the Pandas library. Finally, we'll also need NumPy, since that's the main numeric programming library that both sklearn and Pandas rely on.\n",
        "\n",
        "First, let's gather the data we will use."
      ]
    },
    {
      "cell_type": "markdown",
      "metadata": {
        "id": "xSk16PbP8f4K"
      },
      "source": [
        "## The Dataset"
      ]
    },
    {
      "cell_type": "markdown",
      "source": [
        "Instead of using the dataset from the course, I used a very rich data set from housing to predict the prices based on typical important features. Despite the fact that the dataset does not contain many obervations, ~1500, there are ~80 features that that both of low and high cardinality, so there is some potential to improve model performance and leverage entity categorical embeddings. We will use for that purpose kaggle as a source. [HousingDataCompetition](https://www.kaggle.com/competitions/house-prices-advanced-regression-techniques/overview)"
      ],
      "metadata": {
        "id": "winYiixm6Sqq"
      }
    },
    {
      "cell_type": "markdown",
      "metadata": {
        "id": "8KgbjsAC8f4L"
      },
      "source": [
        "Kaggle is an awesome resource for data scientists or anyone looking to improve their machine learning skills.  There is nothing like getting hands-on practice and receiving real-time feedback to help you improve your skills.\n",
        "\n",
        "\n",
        "The easiest way to download Kaggle datasets is to use the Kaggle API. You need an API key to use the Kaggle API; to get one, click on your profile picture on the Kaggle website, and choose My Account, then click Create New API Token. This will save a file called *kaggle.json* to your PC. You need to copy this key on your GPU server. To do so, open the file you downloaded, copy the contents, and paste them in the following cell in the notebook associated with this chapter (e.g., `creds = '{\"username\":\"xxx\",\"key\":\"xxx\"}'`):"
      ]
    },
    {
      "cell_type": "code",
      "source": [
        "#!!pip install kaggle"
      ],
      "metadata": {
        "id": "4cv6OrfI9uAy"
      },
      "execution_count": 3,
      "outputs": []
    },
    {
      "cell_type": "code",
      "execution_count": 4,
      "metadata": {
        "id": "h9th9XYo8f4L"
      },
      "outputs": [],
      "source": [
        "#creds = '{\"username\":\"xxx\",\"key\":\"xxx\"}'"
      ]
    },
    {
      "cell_type": "markdown",
      "metadata": {
        "id": "vF9W5Ata8f4L"
      },
      "source": [
        "Then execute this cell (this only needs to be run once):"
      ]
    },
    {
      "cell_type": "code",
      "source": [
        "#!kaggle competitions download -c house-prices-advanced-regression-techniques"
      ],
      "metadata": {
        "id": "OtObVqsH--3J"
      },
      "execution_count": 5,
      "outputs": []
    },
    {
      "cell_type": "code",
      "source": [
        "#!unzip /content/house-prices-advanced-regression-techniques.zip"
      ],
      "metadata": {
        "id": "jZrJOa8e_FjU"
      },
      "execution_count": 6,
      "outputs": []
    },
    {
      "cell_type": "markdown",
      "metadata": {
        "id": "B_QqSigA8f4M"
      },
      "source": [
        "Now you can download datasets from Kaggle! Pick a path to download the dataset to:"
      ]
    },
    {
      "cell_type": "code",
      "execution_count": 4,
      "metadata": {
        "id": "nvGZFsOM8f4M"
      },
      "outputs": [],
      "source": [
        "import pathlib \n",
        "path = pathlib.Path('/content/gdrive/MyDrive/tabular')"
      ]
    },
    {
      "cell_type": "code",
      "execution_count": 5,
      "metadata": {
        "id": "pwqs5t338f4N"
      },
      "outputs": [],
      "source": [
        "\n",
        "Path.BASE_PATH = path"
      ]
    },
    {
      "cell_type": "markdown",
      "metadata": {
        "id": "5u145pC38f4N"
      },
      "source": [
        "Now that we have downloaded our dataset, let's take a look at it!"
      ]
    },
    {
      "cell_type": "markdown",
      "metadata": {
        "id": "xxDVZlQH8f4N"
      },
      "source": [
        "### Look at the Data"
      ]
    },
    {
      "cell_type": "markdown",
      "metadata": {
        "id": "ls18424D8f4O"
      },
      "source": [
        "In any sort of data science work, it's important to *look at your data directly* to make sure you understand the format, how it's stored, what types of values it holds, etc. Even if you've read a description of the data, the actual data may not be what you expect. We'll start by reading the training set into a Pandas DataFrame. Generally it's a good idea to specify `low_memory=False` unless Pandas actually runs out of memory and returns an error. The `low_memory` parameter, which is `True` by default, tells Pandas to only look at a few rows of data at a time to figure out what type of data is in each column. This means that Pandas can actually end up using different data type for different rows, which generally leads to data processing errors or model training problems later."
      ]
    },
    {
      "cell_type": "code",
      "execution_count": 6,
      "metadata": {
        "id": "z5E3gAxm8f4O"
      },
      "outputs": [],
      "source": [
        "df = pd.read_csv(path/'train.csv', low_memory=False)"
      ]
    },
    {
      "cell_type": "code",
      "execution_count": 7,
      "metadata": {
        "colab": {
          "base_uri": "https://localhost:8080/"
        },
        "id": "tTPw0RHs8f4O",
        "outputId": "9055223a-98a6-4ad0-ad12-ba33f8251943"
      },
      "outputs": [
        {
          "output_type": "execute_result",
          "data": {
            "text/plain": [
              "Index(['Id', 'MSSubClass', 'MSZoning', 'LotFrontage', 'LotArea', 'Street',\n",
              "       'Alley', 'LotShape', 'LandContour', 'Utilities', 'LotConfig',\n",
              "       'LandSlope', 'Neighborhood', 'Condition1', 'Condition2', 'BldgType',\n",
              "       'HouseStyle', 'OverallQual', 'OverallCond', 'YearBuilt', 'YearRemodAdd',\n",
              "       'RoofStyle', 'RoofMatl', 'Exterior1st', 'Exterior2nd', 'MasVnrType',\n",
              "       'MasVnrArea', 'ExterQual', 'ExterCond', 'Foundation', 'BsmtQual',\n",
              "       'BsmtCond', 'BsmtExposure', 'BsmtFinType1', 'BsmtFinSF1',\n",
              "       'BsmtFinType2', 'BsmtFinSF2', 'BsmtUnfSF', 'TotalBsmtSF', 'Heating',\n",
              "       'HeatingQC', 'CentralAir', 'Electrical', '1stFlrSF', '2ndFlrSF',\n",
              "       'LowQualFinSF', 'GrLivArea', 'BsmtFullBath', 'BsmtHalfBath', 'FullBath',\n",
              "       'HalfBath', 'BedroomAbvGr', 'KitchenAbvGr', 'KitchenQual',\n",
              "       'TotRmsAbvGrd', 'Functional', 'Fireplaces', 'FireplaceQu', 'GarageType',\n",
              "       'GarageYrBlt', 'GarageFinish', 'GarageCars', 'GarageArea', 'GarageQual',\n",
              "       'GarageCond', 'PavedDrive', 'WoodDeckSF', 'OpenPorchSF',\n",
              "       'EnclosedPorch', '3SsnPorch', 'ScreenPorch', 'PoolArea', 'PoolQC',\n",
              "       'Fence', 'MiscFeature', 'MiscVal', 'MoSold', 'YrSold', 'SaleType',\n",
              "       'SaleCondition', 'SalePrice'],\n",
              "      dtype='object')"
            ]
          },
          "metadata": {},
          "execution_count": 7
        }
      ],
      "source": [
        "df.columns"
      ]
    },
    {
      "cell_type": "markdown",
      "metadata": {
        "id": "bFOpMa1w8f4O"
      },
      "source": [
        "That's a lot of columns for us to look at! Try looking through the dataset to get a sense of what kind of information is in each one. We'll shortly see how to \"zero in\" on the most interesting bits.\n",
        "\n",
        "At this point, a good next step is to handle *ordinal columns*. This refers to columns containing strings or similar, but where those strings have a natural ordering. "
      ]
    },
    {
      "cell_type": "markdown",
      "metadata": {
        "id": "Hy-yigMd8f4P"
      },
      "source": [
        "We can tell Pandas about a suitable ordering of these levels like so:"
      ]
    },
    {
      "cell_type": "code",
      "execution_count": 8,
      "metadata": {
        "id": "PS0YXTsj8f4P"
      },
      "outputs": [],
      "source": [
        "shapes = 'Reg', 'IR1', 'IR2', 'IR3'\n",
        "contour = 'Lvl', 'Bnk', 'HLS','Low'\n",
        "kitqua = 'Ex','Gd', 'TA', 'Fa','Po'\n",
        "fun = 'Typ', 'Min1', 'Maj1', 'Min2', 'Mod', 'Maj2', 'Sev'"
      ]
    },
    {
      "cell_type": "code",
      "execution_count": 9,
      "metadata": {
        "colab": {
          "base_uri": "https://localhost:8080/"
        },
        "id": "QHQes2RR8f4P",
        "outputId": "ed60e9a1-e9f4-4f8c-8be5-d7e2acda98b9"
      },
      "outputs": [
        {
          "output_type": "stream",
          "name": "stderr",
          "text": [
            "/usr/local/lib/python3.7/dist-packages/pandas/core/arrays/categorical.py:2631: FutureWarning: The `inplace` parameter in pandas.Categorical.set_categories is deprecated and will be removed in a future version. Removing unused categories will always return a new Categorical object.\n",
            "  res = method(*args, **kwargs)\n"
          ]
        }
      ],
      "source": [
        "df['LotShape'] = df['LotShape'].astype('category')\n",
        "df['LotShape'].cat.set_categories(shapes, ordered=True, inplace=True)\n",
        "df['LandContour'] = df['LandContour'].astype('category')\n",
        "df['LandContour'].cat.set_categories(contour, ordered=True, inplace=True)\n",
        "df['KitchenQual'] = df['KitchenQual'].astype('category')\n",
        "df['KitchenQual'].cat.set_categories(kitqua, ordered=True, inplace=True)\n",
        "df['Functional'] = df['Functional'].astype('category')\n",
        "df['Functional'].cat.set_categories(fun, ordered=True, inplace=True)"
      ]
    },
    {
      "cell_type": "markdown",
      "metadata": {
        "id": "siWtiQrs8f4P"
      },
      "source": [
        "The most important data column is the dependent variable—that is, the one we want to predict. Recall that a model's metric is a function that reflects how good the predictions are. It's important to note what metric is being used for a project. Generally, selecting the metric is an important part of the project setup. In many cases, choosing a good metric will require more than just selecting a variable that already exists. It is more like a design process. You should think carefully about which metric, or set of metrics, actually measures the notion of model quality that matters to you. If no variable represents that metric, you should see if you can build the metric from the variables that are available.\n",
        "\n",
        "However, in this case Kaggle tells us what metric to use: root mean squared error (RMLE) between the actual and predicted house prices."
      ]
    },
    {
      "cell_type": "code",
      "execution_count": 10,
      "metadata": {
        "id": "lGDxGl3n8f4Q"
      },
      "outputs": [],
      "source": [
        "dep_var = 'SalePrice'"
      ]
    },
    {
      "cell_type": "markdown",
      "metadata": {
        "id": "2qkIXxVf8f4Q"
      },
      "source": [
        "We are now ready to explore our first machine learning algorithm for tabular data: decision trees."
      ]
    },
    {
      "cell_type": "markdown",
      "metadata": {
        "id": "syOMXA8u8f4Q"
      },
      "source": [
        "## Decision Trees"
      ]
    },
    {
      "cell_type": "markdown",
      "metadata": {
        "id": "B0lFLXST8f4T"
      },
      "source": [
        "A piece of preparatory processing is to be sure we can handle strings and missing data. Out of the box, sklearn cannot do either. Instead we will use fastai's class `TabularPandas`, which wraps a Pandas DataFrame and provides a few conveniences. To populate a `TabularPandas`, we will use two  `TabularProc`s, `Categorify` and `FillMissing`. A `TabularProc` is like a regular `Transform`, except that:\n",
        "\n",
        "- It returns the exact same object that's passed to it, after modifying the object in place.\n",
        "- It runs the transform once, when data is first passed in, rather than lazily as the data is accessed.\n",
        "\n",
        "`Categorify` is a `TabularProc` that replaces a column with a numeric categorical column. `FillMissing` is a `TabularProc` that replaces missing values with the median of the column, and creates a new Boolean column that is set to `True` for any row where the value was missing. These two transforms are needed for nearly every tabular dataset you will use, so this is a good starting point for your data processing:"
      ]
    },
    {
      "cell_type": "code",
      "execution_count": 11,
      "metadata": {
        "id": "xnQ7Exiq8f4T"
      },
      "outputs": [],
      "source": [
        "procs = [Categorify, FillMissing]"
      ]
    },
    {
      "cell_type": "markdown",
      "metadata": {
        "id": "AXEh-jZI8f4T"
      },
      "source": [
        "`TabularPandas` will also handle splitting the dataset into training and validation sets for us. However we need to be very careful about our validation set. We want to design it so that it is like the *test set* Kaggle will use to judge the contest.\n",
        "\n",
        "We don't get to see the test set. But we do want to define our validation data so that it has the same sort of relationship to the training data as the test set will have.\n",
        "\n",
        "In some cases, just randomly choosing a subset of your data points will do that."
      ]
    },
    {
      "cell_type": "markdown",
      "metadata": {
        "id": "ww_-RDjE8f4T"
      },
      "source": [
        "`TabularPandas` needs to be told which columns are continuous and which are categorical. We can handle that automatically using the helper function `cont_cat_split`:"
      ]
    },
    {
      "cell_type": "code",
      "execution_count": 12,
      "metadata": {
        "id": "-gvxcESN8f4T"
      },
      "outputs": [],
      "source": [
        "cont,cat = cont_cat_split(df, 1, dep_var=dep_var)"
      ]
    },
    {
      "cell_type": "code",
      "source": [
        "cont"
      ],
      "metadata": {
        "id": "d6KtMIjI_MPC",
        "outputId": "c01c510c-f4d8-4453-fe51-07ef304b92d9",
        "colab": {
          "base_uri": "https://localhost:8080/"
        }
      },
      "execution_count": 21,
      "outputs": [
        {
          "output_type": "execute_result",
          "data": {
            "text/plain": [
              "['Id',\n",
              " 'MSSubClass',\n",
              " 'LotFrontage',\n",
              " 'LotArea',\n",
              " 'OverallQual',\n",
              " 'OverallCond',\n",
              " 'YearBuilt',\n",
              " 'YearRemodAdd',\n",
              " 'MasVnrArea',\n",
              " 'BsmtFinSF1',\n",
              " 'BsmtFinSF2',\n",
              " 'BsmtUnfSF',\n",
              " 'TotalBsmtSF',\n",
              " '1stFlrSF',\n",
              " '2ndFlrSF',\n",
              " 'LowQualFinSF',\n",
              " 'GrLivArea',\n",
              " 'BsmtFullBath',\n",
              " 'BsmtHalfBath',\n",
              " 'FullBath',\n",
              " 'HalfBath',\n",
              " 'BedroomAbvGr',\n",
              " 'KitchenAbvGr',\n",
              " 'TotRmsAbvGrd',\n",
              " 'Fireplaces',\n",
              " 'GarageYrBlt',\n",
              " 'GarageCars',\n",
              " 'GarageArea',\n",
              " 'WoodDeckSF',\n",
              " 'OpenPorchSF',\n",
              " 'EnclosedPorch',\n",
              " '3SsnPorch',\n",
              " 'ScreenPorch',\n",
              " 'PoolArea',\n",
              " 'MiscVal',\n",
              " 'MoSold',\n",
              " 'YrSold']"
            ]
          },
          "metadata": {},
          "execution_count": 21
        }
      ]
    },
    {
      "cell_type": "markdown",
      "source": [
        "Let's validate the assigment and remove SubClass and it is highly cardinal but still categorical.\n",
        "\n"
      ],
      "metadata": {
        "id": "Awe99s39-FHi"
      }
    },
    {
      "cell_type": "code",
      "source": [
        "del cont[1]\n",
        "print(cont)"
      ],
      "metadata": {
        "id": "xwVvfK---0mz",
        "outputId": "d497d696-39e0-4635-eed0-278bd55fd8d3",
        "colab": {
          "base_uri": "https://localhost:8080/"
        }
      },
      "execution_count": 24,
      "outputs": [
        {
          "output_type": "stream",
          "name": "stdout",
          "text": [
            "['Id', 'LotFrontage', 'LotArea', 'OverallQual', 'OverallCond', 'YearBuilt', 'YearRemodAdd', 'MasVnrArea', 'BsmtFinSF1', 'BsmtFinSF2', 'BsmtUnfSF', 'TotalBsmtSF', '1stFlrSF', '2ndFlrSF', 'LowQualFinSF', 'GrLivArea', 'BsmtFullBath', 'BsmtHalfBath', 'FullBath', 'HalfBath', 'BedroomAbvGr', 'KitchenAbvGr', 'TotRmsAbvGrd', 'Fireplaces', 'GarageYrBlt', 'GarageCars', 'GarageArea', 'WoodDeckSF', 'OpenPorchSF', 'EnclosedPorch', '3SsnPorch', 'ScreenPorch', 'PoolArea', 'MiscVal', 'MoSold', 'YrSold']\n"
          ]
        }
      ]
    },
    {
      "cell_type": "code",
      "source": [
        "cat.append(\"MSSubClass\")"
      ],
      "metadata": {
        "id": "CHsrfP0q_jjb"
      },
      "execution_count": 25,
      "outputs": []
    },
    {
      "cell_type": "code",
      "source": [
        "cat"
      ],
      "metadata": {
        "id": "5Qd5Dsd59jdm",
        "outputId": "20676a2f-9322-48e9-cbb7-8219b25102e7",
        "colab": {
          "base_uri": "https://localhost:8080/"
        }
      },
      "execution_count": 26,
      "outputs": [
        {
          "output_type": "execute_result",
          "data": {
            "text/plain": [
              "['MSZoning',\n",
              " 'Street',\n",
              " 'Alley',\n",
              " 'LotShape',\n",
              " 'LandContour',\n",
              " 'Utilities',\n",
              " 'LotConfig',\n",
              " 'LandSlope',\n",
              " 'Neighborhood',\n",
              " 'Condition1',\n",
              " 'Condition2',\n",
              " 'BldgType',\n",
              " 'HouseStyle',\n",
              " 'RoofStyle',\n",
              " 'RoofMatl',\n",
              " 'Exterior1st',\n",
              " 'Exterior2nd',\n",
              " 'MasVnrType',\n",
              " 'ExterQual',\n",
              " 'ExterCond',\n",
              " 'Foundation',\n",
              " 'BsmtQual',\n",
              " 'BsmtCond',\n",
              " 'BsmtExposure',\n",
              " 'BsmtFinType1',\n",
              " 'BsmtFinType2',\n",
              " 'Heating',\n",
              " 'HeatingQC',\n",
              " 'CentralAir',\n",
              " 'Electrical',\n",
              " 'KitchenQual',\n",
              " 'Functional',\n",
              " 'FireplaceQu',\n",
              " 'GarageType',\n",
              " 'GarageFinish',\n",
              " 'GarageQual',\n",
              " 'GarageCond',\n",
              " 'PavedDrive',\n",
              " 'PoolQC',\n",
              " 'Fence',\n",
              " 'MiscFeature',\n",
              " 'SaleType',\n",
              " 'SaleCondition',\n",
              " 'LotFrontage_na',\n",
              " 'MasVnrArea_na',\n",
              " 'GarageYrBlt_na',\n",
              " 'MSSubClass']"
            ]
          },
          "metadata": {},
          "execution_count": 26
        }
      ]
    },
    {
      "cell_type": "code",
      "source": [
        "pd.set_option('display.max_columns', None)\n",
        "df.head()"
      ],
      "metadata": {
        "id": "wdpJjFSx8zCf",
        "outputId": "62f84871-6423-4ff4-f8bd-88babf809794",
        "colab": {
          "base_uri": "https://localhost:8080/",
          "height": 270
        }
      },
      "execution_count": 27,
      "outputs": [
        {
          "output_type": "execute_result",
          "data": {
            "text/plain": [
              "   Id  MSSubClass MSZoning  LotFrontage  LotArea Street Alley LotShape  \\\n",
              "0   1          60       RL         65.0     8450   Pave   NaN      Reg   \n",
              "1   2          20       RL         80.0     9600   Pave   NaN      Reg   \n",
              "2   3          60       RL         68.0    11250   Pave   NaN      IR1   \n",
              "3   4          70       RL         60.0     9550   Pave   NaN      IR1   \n",
              "4   5          60       RL         84.0    14260   Pave   NaN      IR1   \n",
              "\n",
              "  LandContour Utilities LotConfig LandSlope Neighborhood Condition1  \\\n",
              "0         Lvl    AllPub    Inside       Gtl      CollgCr       Norm   \n",
              "1         Lvl    AllPub       FR2       Gtl      Veenker      Feedr   \n",
              "2         Lvl    AllPub    Inside       Gtl      CollgCr       Norm   \n",
              "3         Lvl    AllPub    Corner       Gtl      Crawfor       Norm   \n",
              "4         Lvl    AllPub       FR2       Gtl      NoRidge       Norm   \n",
              "\n",
              "  Condition2 BldgType HouseStyle  OverallQual  OverallCond  YearBuilt  \\\n",
              "0       Norm     1Fam     2Story            7            5       2003   \n",
              "1       Norm     1Fam     1Story            6            8       1976   \n",
              "2       Norm     1Fam     2Story            7            5       2001   \n",
              "3       Norm     1Fam     2Story            7            5       1915   \n",
              "4       Norm     1Fam     2Story            8            5       2000   \n",
              "\n",
              "   YearRemodAdd RoofStyle RoofMatl Exterior1st Exterior2nd MasVnrType  \\\n",
              "0          2003     Gable  CompShg     VinylSd     VinylSd    BrkFace   \n",
              "1          1976     Gable  CompShg     MetalSd     MetalSd       None   \n",
              "2          2002     Gable  CompShg     VinylSd     VinylSd    BrkFace   \n",
              "3          1970     Gable  CompShg     Wd Sdng     Wd Shng       None   \n",
              "4          2000     Gable  CompShg     VinylSd     VinylSd    BrkFace   \n",
              "\n",
              "   MasVnrArea ExterQual ExterCond Foundation BsmtQual BsmtCond BsmtExposure  \\\n",
              "0       196.0        Gd        TA      PConc       Gd       TA           No   \n",
              "1         0.0        TA        TA     CBlock       Gd       TA           Gd   \n",
              "2       162.0        Gd        TA      PConc       Gd       TA           Mn   \n",
              "3         0.0        TA        TA     BrkTil       TA       Gd           No   \n",
              "4       350.0        Gd        TA      PConc       Gd       TA           Av   \n",
              "\n",
              "  BsmtFinType1  BsmtFinSF1 BsmtFinType2  BsmtFinSF2  BsmtUnfSF  TotalBsmtSF  \\\n",
              "0          GLQ         706          Unf           0        150          856   \n",
              "1          ALQ         978          Unf           0        284         1262   \n",
              "2          GLQ         486          Unf           0        434          920   \n",
              "3          ALQ         216          Unf           0        540          756   \n",
              "4          GLQ         655          Unf           0        490         1145   \n",
              "\n",
              "  Heating HeatingQC CentralAir Electrical  1stFlrSF  2ndFlrSF  LowQualFinSF  \\\n",
              "0    GasA        Ex          Y      SBrkr       856       854             0   \n",
              "1    GasA        Ex          Y      SBrkr      1262         0             0   \n",
              "2    GasA        Ex          Y      SBrkr       920       866             0   \n",
              "3    GasA        Gd          Y      SBrkr       961       756             0   \n",
              "4    GasA        Ex          Y      SBrkr      1145      1053             0   \n",
              "\n",
              "   GrLivArea  BsmtFullBath  BsmtHalfBath  FullBath  HalfBath  BedroomAbvGr  \\\n",
              "0       1710             1             0         2         1             3   \n",
              "1       1262             0             1         2         0             3   \n",
              "2       1786             1             0         2         1             3   \n",
              "3       1717             1             0         1         0             3   \n",
              "4       2198             1             0         2         1             4   \n",
              "\n",
              "   KitchenAbvGr KitchenQual  TotRmsAbvGrd Functional  Fireplaces FireplaceQu  \\\n",
              "0             1          Gd             8        Typ           0         NaN   \n",
              "1             1          TA             6        Typ           1          TA   \n",
              "2             1          Gd             6        Typ           1          TA   \n",
              "3             1          Gd             7        Typ           1          Gd   \n",
              "4             1          Gd             9        Typ           1          TA   \n",
              "\n",
              "  GarageType  GarageYrBlt GarageFinish  GarageCars  GarageArea GarageQual  \\\n",
              "0     Attchd       2003.0          RFn           2         548         TA   \n",
              "1     Attchd       1976.0          RFn           2         460         TA   \n",
              "2     Attchd       2001.0          RFn           2         608         TA   \n",
              "3     Detchd       1998.0          Unf           3         642         TA   \n",
              "4     Attchd       2000.0          RFn           3         836         TA   \n",
              "\n",
              "  GarageCond PavedDrive  WoodDeckSF  OpenPorchSF  EnclosedPorch  3SsnPorch  \\\n",
              "0         TA          Y           0           61              0          0   \n",
              "1         TA          Y         298            0              0          0   \n",
              "2         TA          Y           0           42              0          0   \n",
              "3         TA          Y           0           35            272          0   \n",
              "4         TA          Y         192           84              0          0   \n",
              "\n",
              "   ScreenPorch  PoolArea PoolQC Fence MiscFeature  MiscVal  MoSold  YrSold  \\\n",
              "0            0         0    NaN   NaN         NaN        0       2    2008   \n",
              "1            0         0    NaN   NaN         NaN        0       5    2007   \n",
              "2            0         0    NaN   NaN         NaN        0       9    2008   \n",
              "3            0         0    NaN   NaN         NaN        0       2    2006   \n",
              "4            0         0    NaN   NaN         NaN        0      12    2008   \n",
              "\n",
              "  SaleType SaleCondition  SalePrice  \n",
              "0       WD        Normal     208500  \n",
              "1       WD        Normal     181500  \n",
              "2       WD        Normal     223500  \n",
              "3       WD       Abnorml     140000  \n",
              "4       WD        Normal     250000  "
            ],
            "text/html": [
              "\n",
              "  <div id=\"df-ace5dcf0-3627-45b6-ba2c-b9a3162c5169\">\n",
              "    <div class=\"colab-df-container\">\n",
              "      <div>\n",
              "<style scoped>\n",
              "    .dataframe tbody tr th:only-of-type {\n",
              "        vertical-align: middle;\n",
              "    }\n",
              "\n",
              "    .dataframe tbody tr th {\n",
              "        vertical-align: top;\n",
              "    }\n",
              "\n",
              "    .dataframe thead th {\n",
              "        text-align: right;\n",
              "    }\n",
              "</style>\n",
              "<table border=\"1\" class=\"dataframe\">\n",
              "  <thead>\n",
              "    <tr style=\"text-align: right;\">\n",
              "      <th></th>\n",
              "      <th>Id</th>\n",
              "      <th>MSSubClass</th>\n",
              "      <th>MSZoning</th>\n",
              "      <th>LotFrontage</th>\n",
              "      <th>LotArea</th>\n",
              "      <th>Street</th>\n",
              "      <th>Alley</th>\n",
              "      <th>LotShape</th>\n",
              "      <th>LandContour</th>\n",
              "      <th>Utilities</th>\n",
              "      <th>LotConfig</th>\n",
              "      <th>LandSlope</th>\n",
              "      <th>Neighborhood</th>\n",
              "      <th>Condition1</th>\n",
              "      <th>Condition2</th>\n",
              "      <th>BldgType</th>\n",
              "      <th>HouseStyle</th>\n",
              "      <th>OverallQual</th>\n",
              "      <th>OverallCond</th>\n",
              "      <th>YearBuilt</th>\n",
              "      <th>YearRemodAdd</th>\n",
              "      <th>RoofStyle</th>\n",
              "      <th>RoofMatl</th>\n",
              "      <th>Exterior1st</th>\n",
              "      <th>Exterior2nd</th>\n",
              "      <th>MasVnrType</th>\n",
              "      <th>MasVnrArea</th>\n",
              "      <th>ExterQual</th>\n",
              "      <th>ExterCond</th>\n",
              "      <th>Foundation</th>\n",
              "      <th>BsmtQual</th>\n",
              "      <th>BsmtCond</th>\n",
              "      <th>BsmtExposure</th>\n",
              "      <th>BsmtFinType1</th>\n",
              "      <th>BsmtFinSF1</th>\n",
              "      <th>BsmtFinType2</th>\n",
              "      <th>BsmtFinSF2</th>\n",
              "      <th>BsmtUnfSF</th>\n",
              "      <th>TotalBsmtSF</th>\n",
              "      <th>Heating</th>\n",
              "      <th>HeatingQC</th>\n",
              "      <th>CentralAir</th>\n",
              "      <th>Electrical</th>\n",
              "      <th>1stFlrSF</th>\n",
              "      <th>2ndFlrSF</th>\n",
              "      <th>LowQualFinSF</th>\n",
              "      <th>GrLivArea</th>\n",
              "      <th>BsmtFullBath</th>\n",
              "      <th>BsmtHalfBath</th>\n",
              "      <th>FullBath</th>\n",
              "      <th>HalfBath</th>\n",
              "      <th>BedroomAbvGr</th>\n",
              "      <th>KitchenAbvGr</th>\n",
              "      <th>KitchenQual</th>\n",
              "      <th>TotRmsAbvGrd</th>\n",
              "      <th>Functional</th>\n",
              "      <th>Fireplaces</th>\n",
              "      <th>FireplaceQu</th>\n",
              "      <th>GarageType</th>\n",
              "      <th>GarageYrBlt</th>\n",
              "      <th>GarageFinish</th>\n",
              "      <th>GarageCars</th>\n",
              "      <th>GarageArea</th>\n",
              "      <th>GarageQual</th>\n",
              "      <th>GarageCond</th>\n",
              "      <th>PavedDrive</th>\n",
              "      <th>WoodDeckSF</th>\n",
              "      <th>OpenPorchSF</th>\n",
              "      <th>EnclosedPorch</th>\n",
              "      <th>3SsnPorch</th>\n",
              "      <th>ScreenPorch</th>\n",
              "      <th>PoolArea</th>\n",
              "      <th>PoolQC</th>\n",
              "      <th>Fence</th>\n",
              "      <th>MiscFeature</th>\n",
              "      <th>MiscVal</th>\n",
              "      <th>MoSold</th>\n",
              "      <th>YrSold</th>\n",
              "      <th>SaleType</th>\n",
              "      <th>SaleCondition</th>\n",
              "      <th>SalePrice</th>\n",
              "    </tr>\n",
              "  </thead>\n",
              "  <tbody>\n",
              "    <tr>\n",
              "      <th>0</th>\n",
              "      <td>1</td>\n",
              "      <td>60</td>\n",
              "      <td>RL</td>\n",
              "      <td>65.0</td>\n",
              "      <td>8450</td>\n",
              "      <td>Pave</td>\n",
              "      <td>NaN</td>\n",
              "      <td>Reg</td>\n",
              "      <td>Lvl</td>\n",
              "      <td>AllPub</td>\n",
              "      <td>Inside</td>\n",
              "      <td>Gtl</td>\n",
              "      <td>CollgCr</td>\n",
              "      <td>Norm</td>\n",
              "      <td>Norm</td>\n",
              "      <td>1Fam</td>\n",
              "      <td>2Story</td>\n",
              "      <td>7</td>\n",
              "      <td>5</td>\n",
              "      <td>2003</td>\n",
              "      <td>2003</td>\n",
              "      <td>Gable</td>\n",
              "      <td>CompShg</td>\n",
              "      <td>VinylSd</td>\n",
              "      <td>VinylSd</td>\n",
              "      <td>BrkFace</td>\n",
              "      <td>196.0</td>\n",
              "      <td>Gd</td>\n",
              "      <td>TA</td>\n",
              "      <td>PConc</td>\n",
              "      <td>Gd</td>\n",
              "      <td>TA</td>\n",
              "      <td>No</td>\n",
              "      <td>GLQ</td>\n",
              "      <td>706</td>\n",
              "      <td>Unf</td>\n",
              "      <td>0</td>\n",
              "      <td>150</td>\n",
              "      <td>856</td>\n",
              "      <td>GasA</td>\n",
              "      <td>Ex</td>\n",
              "      <td>Y</td>\n",
              "      <td>SBrkr</td>\n",
              "      <td>856</td>\n",
              "      <td>854</td>\n",
              "      <td>0</td>\n",
              "      <td>1710</td>\n",
              "      <td>1</td>\n",
              "      <td>0</td>\n",
              "      <td>2</td>\n",
              "      <td>1</td>\n",
              "      <td>3</td>\n",
              "      <td>1</td>\n",
              "      <td>Gd</td>\n",
              "      <td>8</td>\n",
              "      <td>Typ</td>\n",
              "      <td>0</td>\n",
              "      <td>NaN</td>\n",
              "      <td>Attchd</td>\n",
              "      <td>2003.0</td>\n",
              "      <td>RFn</td>\n",
              "      <td>2</td>\n",
              "      <td>548</td>\n",
              "      <td>TA</td>\n",
              "      <td>TA</td>\n",
              "      <td>Y</td>\n",
              "      <td>0</td>\n",
              "      <td>61</td>\n",
              "      <td>0</td>\n",
              "      <td>0</td>\n",
              "      <td>0</td>\n",
              "      <td>0</td>\n",
              "      <td>NaN</td>\n",
              "      <td>NaN</td>\n",
              "      <td>NaN</td>\n",
              "      <td>0</td>\n",
              "      <td>2</td>\n",
              "      <td>2008</td>\n",
              "      <td>WD</td>\n",
              "      <td>Normal</td>\n",
              "      <td>208500</td>\n",
              "    </tr>\n",
              "    <tr>\n",
              "      <th>1</th>\n",
              "      <td>2</td>\n",
              "      <td>20</td>\n",
              "      <td>RL</td>\n",
              "      <td>80.0</td>\n",
              "      <td>9600</td>\n",
              "      <td>Pave</td>\n",
              "      <td>NaN</td>\n",
              "      <td>Reg</td>\n",
              "      <td>Lvl</td>\n",
              "      <td>AllPub</td>\n",
              "      <td>FR2</td>\n",
              "      <td>Gtl</td>\n",
              "      <td>Veenker</td>\n",
              "      <td>Feedr</td>\n",
              "      <td>Norm</td>\n",
              "      <td>1Fam</td>\n",
              "      <td>1Story</td>\n",
              "      <td>6</td>\n",
              "      <td>8</td>\n",
              "      <td>1976</td>\n",
              "      <td>1976</td>\n",
              "      <td>Gable</td>\n",
              "      <td>CompShg</td>\n",
              "      <td>MetalSd</td>\n",
              "      <td>MetalSd</td>\n",
              "      <td>None</td>\n",
              "      <td>0.0</td>\n",
              "      <td>TA</td>\n",
              "      <td>TA</td>\n",
              "      <td>CBlock</td>\n",
              "      <td>Gd</td>\n",
              "      <td>TA</td>\n",
              "      <td>Gd</td>\n",
              "      <td>ALQ</td>\n",
              "      <td>978</td>\n",
              "      <td>Unf</td>\n",
              "      <td>0</td>\n",
              "      <td>284</td>\n",
              "      <td>1262</td>\n",
              "      <td>GasA</td>\n",
              "      <td>Ex</td>\n",
              "      <td>Y</td>\n",
              "      <td>SBrkr</td>\n",
              "      <td>1262</td>\n",
              "      <td>0</td>\n",
              "      <td>0</td>\n",
              "      <td>1262</td>\n",
              "      <td>0</td>\n",
              "      <td>1</td>\n",
              "      <td>2</td>\n",
              "      <td>0</td>\n",
              "      <td>3</td>\n",
              "      <td>1</td>\n",
              "      <td>TA</td>\n",
              "      <td>6</td>\n",
              "      <td>Typ</td>\n",
              "      <td>1</td>\n",
              "      <td>TA</td>\n",
              "      <td>Attchd</td>\n",
              "      <td>1976.0</td>\n",
              "      <td>RFn</td>\n",
              "      <td>2</td>\n",
              "      <td>460</td>\n",
              "      <td>TA</td>\n",
              "      <td>TA</td>\n",
              "      <td>Y</td>\n",
              "      <td>298</td>\n",
              "      <td>0</td>\n",
              "      <td>0</td>\n",
              "      <td>0</td>\n",
              "      <td>0</td>\n",
              "      <td>0</td>\n",
              "      <td>NaN</td>\n",
              "      <td>NaN</td>\n",
              "      <td>NaN</td>\n",
              "      <td>0</td>\n",
              "      <td>5</td>\n",
              "      <td>2007</td>\n",
              "      <td>WD</td>\n",
              "      <td>Normal</td>\n",
              "      <td>181500</td>\n",
              "    </tr>\n",
              "    <tr>\n",
              "      <th>2</th>\n",
              "      <td>3</td>\n",
              "      <td>60</td>\n",
              "      <td>RL</td>\n",
              "      <td>68.0</td>\n",
              "      <td>11250</td>\n",
              "      <td>Pave</td>\n",
              "      <td>NaN</td>\n",
              "      <td>IR1</td>\n",
              "      <td>Lvl</td>\n",
              "      <td>AllPub</td>\n",
              "      <td>Inside</td>\n",
              "      <td>Gtl</td>\n",
              "      <td>CollgCr</td>\n",
              "      <td>Norm</td>\n",
              "      <td>Norm</td>\n",
              "      <td>1Fam</td>\n",
              "      <td>2Story</td>\n",
              "      <td>7</td>\n",
              "      <td>5</td>\n",
              "      <td>2001</td>\n",
              "      <td>2002</td>\n",
              "      <td>Gable</td>\n",
              "      <td>CompShg</td>\n",
              "      <td>VinylSd</td>\n",
              "      <td>VinylSd</td>\n",
              "      <td>BrkFace</td>\n",
              "      <td>162.0</td>\n",
              "      <td>Gd</td>\n",
              "      <td>TA</td>\n",
              "      <td>PConc</td>\n",
              "      <td>Gd</td>\n",
              "      <td>TA</td>\n",
              "      <td>Mn</td>\n",
              "      <td>GLQ</td>\n",
              "      <td>486</td>\n",
              "      <td>Unf</td>\n",
              "      <td>0</td>\n",
              "      <td>434</td>\n",
              "      <td>920</td>\n",
              "      <td>GasA</td>\n",
              "      <td>Ex</td>\n",
              "      <td>Y</td>\n",
              "      <td>SBrkr</td>\n",
              "      <td>920</td>\n",
              "      <td>866</td>\n",
              "      <td>0</td>\n",
              "      <td>1786</td>\n",
              "      <td>1</td>\n",
              "      <td>0</td>\n",
              "      <td>2</td>\n",
              "      <td>1</td>\n",
              "      <td>3</td>\n",
              "      <td>1</td>\n",
              "      <td>Gd</td>\n",
              "      <td>6</td>\n",
              "      <td>Typ</td>\n",
              "      <td>1</td>\n",
              "      <td>TA</td>\n",
              "      <td>Attchd</td>\n",
              "      <td>2001.0</td>\n",
              "      <td>RFn</td>\n",
              "      <td>2</td>\n",
              "      <td>608</td>\n",
              "      <td>TA</td>\n",
              "      <td>TA</td>\n",
              "      <td>Y</td>\n",
              "      <td>0</td>\n",
              "      <td>42</td>\n",
              "      <td>0</td>\n",
              "      <td>0</td>\n",
              "      <td>0</td>\n",
              "      <td>0</td>\n",
              "      <td>NaN</td>\n",
              "      <td>NaN</td>\n",
              "      <td>NaN</td>\n",
              "      <td>0</td>\n",
              "      <td>9</td>\n",
              "      <td>2008</td>\n",
              "      <td>WD</td>\n",
              "      <td>Normal</td>\n",
              "      <td>223500</td>\n",
              "    </tr>\n",
              "    <tr>\n",
              "      <th>3</th>\n",
              "      <td>4</td>\n",
              "      <td>70</td>\n",
              "      <td>RL</td>\n",
              "      <td>60.0</td>\n",
              "      <td>9550</td>\n",
              "      <td>Pave</td>\n",
              "      <td>NaN</td>\n",
              "      <td>IR1</td>\n",
              "      <td>Lvl</td>\n",
              "      <td>AllPub</td>\n",
              "      <td>Corner</td>\n",
              "      <td>Gtl</td>\n",
              "      <td>Crawfor</td>\n",
              "      <td>Norm</td>\n",
              "      <td>Norm</td>\n",
              "      <td>1Fam</td>\n",
              "      <td>2Story</td>\n",
              "      <td>7</td>\n",
              "      <td>5</td>\n",
              "      <td>1915</td>\n",
              "      <td>1970</td>\n",
              "      <td>Gable</td>\n",
              "      <td>CompShg</td>\n",
              "      <td>Wd Sdng</td>\n",
              "      <td>Wd Shng</td>\n",
              "      <td>None</td>\n",
              "      <td>0.0</td>\n",
              "      <td>TA</td>\n",
              "      <td>TA</td>\n",
              "      <td>BrkTil</td>\n",
              "      <td>TA</td>\n",
              "      <td>Gd</td>\n",
              "      <td>No</td>\n",
              "      <td>ALQ</td>\n",
              "      <td>216</td>\n",
              "      <td>Unf</td>\n",
              "      <td>0</td>\n",
              "      <td>540</td>\n",
              "      <td>756</td>\n",
              "      <td>GasA</td>\n",
              "      <td>Gd</td>\n",
              "      <td>Y</td>\n",
              "      <td>SBrkr</td>\n",
              "      <td>961</td>\n",
              "      <td>756</td>\n",
              "      <td>0</td>\n",
              "      <td>1717</td>\n",
              "      <td>1</td>\n",
              "      <td>0</td>\n",
              "      <td>1</td>\n",
              "      <td>0</td>\n",
              "      <td>3</td>\n",
              "      <td>1</td>\n",
              "      <td>Gd</td>\n",
              "      <td>7</td>\n",
              "      <td>Typ</td>\n",
              "      <td>1</td>\n",
              "      <td>Gd</td>\n",
              "      <td>Detchd</td>\n",
              "      <td>1998.0</td>\n",
              "      <td>Unf</td>\n",
              "      <td>3</td>\n",
              "      <td>642</td>\n",
              "      <td>TA</td>\n",
              "      <td>TA</td>\n",
              "      <td>Y</td>\n",
              "      <td>0</td>\n",
              "      <td>35</td>\n",
              "      <td>272</td>\n",
              "      <td>0</td>\n",
              "      <td>0</td>\n",
              "      <td>0</td>\n",
              "      <td>NaN</td>\n",
              "      <td>NaN</td>\n",
              "      <td>NaN</td>\n",
              "      <td>0</td>\n",
              "      <td>2</td>\n",
              "      <td>2006</td>\n",
              "      <td>WD</td>\n",
              "      <td>Abnorml</td>\n",
              "      <td>140000</td>\n",
              "    </tr>\n",
              "    <tr>\n",
              "      <th>4</th>\n",
              "      <td>5</td>\n",
              "      <td>60</td>\n",
              "      <td>RL</td>\n",
              "      <td>84.0</td>\n",
              "      <td>14260</td>\n",
              "      <td>Pave</td>\n",
              "      <td>NaN</td>\n",
              "      <td>IR1</td>\n",
              "      <td>Lvl</td>\n",
              "      <td>AllPub</td>\n",
              "      <td>FR2</td>\n",
              "      <td>Gtl</td>\n",
              "      <td>NoRidge</td>\n",
              "      <td>Norm</td>\n",
              "      <td>Norm</td>\n",
              "      <td>1Fam</td>\n",
              "      <td>2Story</td>\n",
              "      <td>8</td>\n",
              "      <td>5</td>\n",
              "      <td>2000</td>\n",
              "      <td>2000</td>\n",
              "      <td>Gable</td>\n",
              "      <td>CompShg</td>\n",
              "      <td>VinylSd</td>\n",
              "      <td>VinylSd</td>\n",
              "      <td>BrkFace</td>\n",
              "      <td>350.0</td>\n",
              "      <td>Gd</td>\n",
              "      <td>TA</td>\n",
              "      <td>PConc</td>\n",
              "      <td>Gd</td>\n",
              "      <td>TA</td>\n",
              "      <td>Av</td>\n",
              "      <td>GLQ</td>\n",
              "      <td>655</td>\n",
              "      <td>Unf</td>\n",
              "      <td>0</td>\n",
              "      <td>490</td>\n",
              "      <td>1145</td>\n",
              "      <td>GasA</td>\n",
              "      <td>Ex</td>\n",
              "      <td>Y</td>\n",
              "      <td>SBrkr</td>\n",
              "      <td>1145</td>\n",
              "      <td>1053</td>\n",
              "      <td>0</td>\n",
              "      <td>2198</td>\n",
              "      <td>1</td>\n",
              "      <td>0</td>\n",
              "      <td>2</td>\n",
              "      <td>1</td>\n",
              "      <td>4</td>\n",
              "      <td>1</td>\n",
              "      <td>Gd</td>\n",
              "      <td>9</td>\n",
              "      <td>Typ</td>\n",
              "      <td>1</td>\n",
              "      <td>TA</td>\n",
              "      <td>Attchd</td>\n",
              "      <td>2000.0</td>\n",
              "      <td>RFn</td>\n",
              "      <td>3</td>\n",
              "      <td>836</td>\n",
              "      <td>TA</td>\n",
              "      <td>TA</td>\n",
              "      <td>Y</td>\n",
              "      <td>192</td>\n",
              "      <td>84</td>\n",
              "      <td>0</td>\n",
              "      <td>0</td>\n",
              "      <td>0</td>\n",
              "      <td>0</td>\n",
              "      <td>NaN</td>\n",
              "      <td>NaN</td>\n",
              "      <td>NaN</td>\n",
              "      <td>0</td>\n",
              "      <td>12</td>\n",
              "      <td>2008</td>\n",
              "      <td>WD</td>\n",
              "      <td>Normal</td>\n",
              "      <td>250000</td>\n",
              "    </tr>\n",
              "  </tbody>\n",
              "</table>\n",
              "</div>\n",
              "      <button class=\"colab-df-convert\" onclick=\"convertToInteractive('df-ace5dcf0-3627-45b6-ba2c-b9a3162c5169')\"\n",
              "              title=\"Convert this dataframe to an interactive table.\"\n",
              "              style=\"display:none;\">\n",
              "        \n",
              "  <svg xmlns=\"http://www.w3.org/2000/svg\" height=\"24px\"viewBox=\"0 0 24 24\"\n",
              "       width=\"24px\">\n",
              "    <path d=\"M0 0h24v24H0V0z\" fill=\"none\"/>\n",
              "    <path d=\"M18.56 5.44l.94 2.06.94-2.06 2.06-.94-2.06-.94-.94-2.06-.94 2.06-2.06.94zm-11 1L8.5 8.5l.94-2.06 2.06-.94-2.06-.94L8.5 2.5l-.94 2.06-2.06.94zm10 10l.94 2.06.94-2.06 2.06-.94-2.06-.94-.94-2.06-.94 2.06-2.06.94z\"/><path d=\"M17.41 7.96l-1.37-1.37c-.4-.4-.92-.59-1.43-.59-.52 0-1.04.2-1.43.59L10.3 9.45l-7.72 7.72c-.78.78-.78 2.05 0 2.83L4 21.41c.39.39.9.59 1.41.59.51 0 1.02-.2 1.41-.59l7.78-7.78 2.81-2.81c.8-.78.8-2.07 0-2.86zM5.41 20L4 18.59l7.72-7.72 1.47 1.35L5.41 20z\"/>\n",
              "  </svg>\n",
              "      </button>\n",
              "      \n",
              "  <style>\n",
              "    .colab-df-container {\n",
              "      display:flex;\n",
              "      flex-wrap:wrap;\n",
              "      gap: 12px;\n",
              "    }\n",
              "\n",
              "    .colab-df-convert {\n",
              "      background-color: #E8F0FE;\n",
              "      border: none;\n",
              "      border-radius: 50%;\n",
              "      cursor: pointer;\n",
              "      display: none;\n",
              "      fill: #1967D2;\n",
              "      height: 32px;\n",
              "      padding: 0 0 0 0;\n",
              "      width: 32px;\n",
              "    }\n",
              "\n",
              "    .colab-df-convert:hover {\n",
              "      background-color: #E2EBFA;\n",
              "      box-shadow: 0px 1px 2px rgba(60, 64, 67, 0.3), 0px 1px 3px 1px rgba(60, 64, 67, 0.15);\n",
              "      fill: #174EA6;\n",
              "    }\n",
              "\n",
              "    [theme=dark] .colab-df-convert {\n",
              "      background-color: #3B4455;\n",
              "      fill: #D2E3FC;\n",
              "    }\n",
              "\n",
              "    [theme=dark] .colab-df-convert:hover {\n",
              "      background-color: #434B5C;\n",
              "      box-shadow: 0px 1px 3px 1px rgba(0, 0, 0, 0.15);\n",
              "      filter: drop-shadow(0px 1px 2px rgba(0, 0, 0, 0.3));\n",
              "      fill: #FFFFFF;\n",
              "    }\n",
              "  </style>\n",
              "\n",
              "      <script>\n",
              "        const buttonEl =\n",
              "          document.querySelector('#df-ace5dcf0-3627-45b6-ba2c-b9a3162c5169 button.colab-df-convert');\n",
              "        buttonEl.style.display =\n",
              "          google.colab.kernel.accessAllowed ? 'block' : 'none';\n",
              "\n",
              "        async function convertToInteractive(key) {\n",
              "          const element = document.querySelector('#df-ace5dcf0-3627-45b6-ba2c-b9a3162c5169');\n",
              "          const dataTable =\n",
              "            await google.colab.kernel.invokeFunction('convertToInteractive',\n",
              "                                                     [key], {});\n",
              "          if (!dataTable) return;\n",
              "\n",
              "          const docLinkHtml = 'Like what you see? Visit the ' +\n",
              "            '<a target=\"_blank\" href=https://colab.research.google.com/notebooks/data_table.ipynb>data table notebook</a>'\n",
              "            + ' to learn more about interactive tables.';\n",
              "          element.innerHTML = '';\n",
              "          dataTable['output_type'] = 'display_data';\n",
              "          await google.colab.output.renderOutput(dataTable, element);\n",
              "          const docLink = document.createElement('div');\n",
              "          docLink.innerHTML = docLinkHtml;\n",
              "          element.appendChild(docLink);\n",
              "        }\n",
              "      </script>\n",
              "    </div>\n",
              "  </div>\n",
              "  "
            ]
          },
          "metadata": {},
          "execution_count": 27
        }
      ]
    },
    {
      "cell_type": "code",
      "source": [
        "splits = RandomSplitter(valid_pct=0.2)(range_of(df))"
      ],
      "metadata": {
        "id": "G-nfM33fBjAq"
      },
      "execution_count": 28,
      "outputs": []
    },
    {
      "cell_type": "code",
      "execution_count": 29,
      "metadata": {
        "id": "K3Yovyuz8f4U"
      },
      "outputs": [],
      "source": [
        "to = TabularPandas(df, procs, cat, cont, y_names=dep_var,splits=splits)"
      ]
    },
    {
      "cell_type": "markdown",
      "metadata": {
        "id": "M4KXFkVN8f4U"
      },
      "source": [
        "A `TabularPandas` behaves a lot like a fastai `Datasets` object, including providing `train` and `valid` attributes:"
      ]
    },
    {
      "cell_type": "code",
      "execution_count": 30,
      "metadata": {
        "colab": {
          "base_uri": "https://localhost:8080/"
        },
        "id": "OQKOya6m8f4U",
        "outputId": "9ba67b0c-30c1-4bb9-a1cf-dc9d58052dcc"
      },
      "outputs": [
        {
          "output_type": "execute_result",
          "data": {
            "text/plain": [
              "(1168, 292)"
            ]
          },
          "metadata": {},
          "execution_count": 30
        }
      ],
      "source": [
        "len(to.train),len(to.valid)"
      ]
    },
    {
      "cell_type": "markdown",
      "metadata": {
        "id": "kh26Fz-h8f4U"
      },
      "source": [
        "We can see that the data is still displayed as strings for categories (we only show a few columns here because the full table is too big to fit on a page):"
      ]
    },
    {
      "cell_type": "code",
      "execution_count": 31,
      "metadata": {
        "colab": {
          "base_uri": "https://localhost:8080/",
          "height": 163
        },
        "id": "N0RYF9Rs8f4U",
        "outputId": "56089220-c25b-41c8-8540-fa6829b301ea"
      },
      "outputs": [
        {
          "output_type": "display_data",
          "data": {
            "text/plain": [
              "<IPython.core.display.HTML object>"
            ],
            "text/html": [
              "<table border=\"1\" class=\"dataframe\">\n",
              "  <thead>\n",
              "    <tr style=\"text-align: right;\">\n",
              "      <th></th>\n",
              "      <th>MSZoning</th>\n",
              "      <th>Street</th>\n",
              "      <th>Alley</th>\n",
              "      <th>LotShape</th>\n",
              "      <th>LandContour</th>\n",
              "      <th>Utilities</th>\n",
              "      <th>LotConfig</th>\n",
              "      <th>LandSlope</th>\n",
              "      <th>Neighborhood</th>\n",
              "      <th>Condition1</th>\n",
              "      <th>Condition2</th>\n",
              "      <th>BldgType</th>\n",
              "      <th>HouseStyle</th>\n",
              "      <th>RoofStyle</th>\n",
              "      <th>RoofMatl</th>\n",
              "      <th>Exterior1st</th>\n",
              "      <th>Exterior2nd</th>\n",
              "      <th>MasVnrType</th>\n",
              "      <th>ExterQual</th>\n",
              "      <th>ExterCond</th>\n",
              "      <th>Foundation</th>\n",
              "      <th>BsmtQual</th>\n",
              "      <th>BsmtCond</th>\n",
              "      <th>BsmtExposure</th>\n",
              "      <th>BsmtFinType1</th>\n",
              "      <th>BsmtFinType2</th>\n",
              "      <th>Heating</th>\n",
              "      <th>HeatingQC</th>\n",
              "      <th>CentralAir</th>\n",
              "      <th>Electrical</th>\n",
              "      <th>KitchenQual</th>\n",
              "      <th>Functional</th>\n",
              "      <th>FireplaceQu</th>\n",
              "      <th>GarageType</th>\n",
              "      <th>GarageFinish</th>\n",
              "      <th>GarageQual</th>\n",
              "      <th>GarageCond</th>\n",
              "      <th>PavedDrive</th>\n",
              "      <th>PoolQC</th>\n",
              "      <th>Fence</th>\n",
              "      <th>MiscFeature</th>\n",
              "      <th>SaleType</th>\n",
              "      <th>SaleCondition</th>\n",
              "      <th>LotFrontage_na</th>\n",
              "      <th>MasVnrArea_na</th>\n",
              "      <th>GarageYrBlt_na</th>\n",
              "      <th>MSSubClass</th>\n",
              "      <th>Id</th>\n",
              "      <th>LotFrontage</th>\n",
              "      <th>LotArea</th>\n",
              "      <th>OverallQual</th>\n",
              "      <th>OverallCond</th>\n",
              "      <th>YearBuilt</th>\n",
              "      <th>YearRemodAdd</th>\n",
              "      <th>MasVnrArea</th>\n",
              "      <th>BsmtFinSF1</th>\n",
              "      <th>BsmtFinSF2</th>\n",
              "      <th>BsmtUnfSF</th>\n",
              "      <th>TotalBsmtSF</th>\n",
              "      <th>1stFlrSF</th>\n",
              "      <th>2ndFlrSF</th>\n",
              "      <th>LowQualFinSF</th>\n",
              "      <th>GrLivArea</th>\n",
              "      <th>BsmtFullBath</th>\n",
              "      <th>BsmtHalfBath</th>\n",
              "      <th>FullBath</th>\n",
              "      <th>HalfBath</th>\n",
              "      <th>BedroomAbvGr</th>\n",
              "      <th>KitchenAbvGr</th>\n",
              "      <th>TotRmsAbvGrd</th>\n",
              "      <th>Fireplaces</th>\n",
              "      <th>GarageYrBlt</th>\n",
              "      <th>GarageCars</th>\n",
              "      <th>GarageArea</th>\n",
              "      <th>WoodDeckSF</th>\n",
              "      <th>OpenPorchSF</th>\n",
              "      <th>EnclosedPorch</th>\n",
              "      <th>3SsnPorch</th>\n",
              "      <th>ScreenPorch</th>\n",
              "      <th>PoolArea</th>\n",
              "      <th>MiscVal</th>\n",
              "      <th>MoSold</th>\n",
              "      <th>YrSold</th>\n",
              "      <th>SalePrice</th>\n",
              "    </tr>\n",
              "  </thead>\n",
              "  <tbody>\n",
              "    <tr>\n",
              "      <th>1395</th>\n",
              "      <td>RL</td>\n",
              "      <td>Pave</td>\n",
              "      <td>#na#</td>\n",
              "      <td>IR1</td>\n",
              "      <td>Lvl</td>\n",
              "      <td>AllPub</td>\n",
              "      <td>Inside</td>\n",
              "      <td>Gtl</td>\n",
              "      <td>Timber</td>\n",
              "      <td>Norm</td>\n",
              "      <td>Norm</td>\n",
              "      <td>1Fam</td>\n",
              "      <td>2Story</td>\n",
              "      <td>Hip</td>\n",
              "      <td>CompShg</td>\n",
              "      <td>VinylSd</td>\n",
              "      <td>VinylSd</td>\n",
              "      <td>BrkFace</td>\n",
              "      <td>Gd</td>\n",
              "      <td>TA</td>\n",
              "      <td>PConc</td>\n",
              "      <td>Gd</td>\n",
              "      <td>Gd</td>\n",
              "      <td>Gd</td>\n",
              "      <td>Unf</td>\n",
              "      <td>Unf</td>\n",
              "      <td>GasA</td>\n",
              "      <td>Ex</td>\n",
              "      <td>Y</td>\n",
              "      <td>SBrkr</td>\n",
              "      <td>Gd</td>\n",
              "      <td>Typ</td>\n",
              "      <td>Gd</td>\n",
              "      <td>BuiltIn</td>\n",
              "      <td>Fin</td>\n",
              "      <td>TA</td>\n",
              "      <td>TA</td>\n",
              "      <td>Y</td>\n",
              "      <td>#na#</td>\n",
              "      <td>#na#</td>\n",
              "      <td>#na#</td>\n",
              "      <td>WD</td>\n",
              "      <td>Normal</td>\n",
              "      <td>False</td>\n",
              "      <td>False</td>\n",
              "      <td>False</td>\n",
              "      <td>60</td>\n",
              "      <td>1396</td>\n",
              "      <td>88.0</td>\n",
              "      <td>12665</td>\n",
              "      <td>8</td>\n",
              "      <td>5</td>\n",
              "      <td>2005</td>\n",
              "      <td>2006</td>\n",
              "      <td>245.0</td>\n",
              "      <td>0</td>\n",
              "      <td>0</td>\n",
              "      <td>1094</td>\n",
              "      <td>1094</td>\n",
              "      <td>1133</td>\n",
              "      <td>1349</td>\n",
              "      <td>0</td>\n",
              "      <td>2482</td>\n",
              "      <td>0</td>\n",
              "      <td>0</td>\n",
              "      <td>2</td>\n",
              "      <td>1</td>\n",
              "      <td>4</td>\n",
              "      <td>1</td>\n",
              "      <td>9</td>\n",
              "      <td>1</td>\n",
              "      <td>2005.0</td>\n",
              "      <td>3</td>\n",
              "      <td>642</td>\n",
              "      <td>144</td>\n",
              "      <td>39</td>\n",
              "      <td>0</td>\n",
              "      <td>0</td>\n",
              "      <td>0</td>\n",
              "      <td>0</td>\n",
              "      <td>0</td>\n",
              "      <td>2</td>\n",
              "      <td>2007</td>\n",
              "      <td>281213</td>\n",
              "    </tr>\n",
              "    <tr>\n",
              "      <th>1081</th>\n",
              "      <td>RL</td>\n",
              "      <td>Pave</td>\n",
              "      <td>#na#</td>\n",
              "      <td>Reg</td>\n",
              "      <td>Lvl</td>\n",
              "      <td>AllPub</td>\n",
              "      <td>Corner</td>\n",
              "      <td>Gtl</td>\n",
              "      <td>Sawyer</td>\n",
              "      <td>Feedr</td>\n",
              "      <td>Norm</td>\n",
              "      <td>1Fam</td>\n",
              "      <td>1Story</td>\n",
              "      <td>Gable</td>\n",
              "      <td>CompShg</td>\n",
              "      <td>HdBoard</td>\n",
              "      <td>HdBoard</td>\n",
              "      <td>None</td>\n",
              "      <td>TA</td>\n",
              "      <td>TA</td>\n",
              "      <td>CBlock</td>\n",
              "      <td>TA</td>\n",
              "      <td>TA</td>\n",
              "      <td>No</td>\n",
              "      <td>ALQ</td>\n",
              "      <td>Unf</td>\n",
              "      <td>GasA</td>\n",
              "      <td>Fa</td>\n",
              "      <td>Y</td>\n",
              "      <td>SBrkr</td>\n",
              "      <td>TA</td>\n",
              "      <td>Typ</td>\n",
              "      <td>#na#</td>\n",
              "      <td>Attchd</td>\n",
              "      <td>Fin</td>\n",
              "      <td>TA</td>\n",
              "      <td>TA</td>\n",
              "      <td>Y</td>\n",
              "      <td>#na#</td>\n",
              "      <td>MnPrv</td>\n",
              "      <td>#na#</td>\n",
              "      <td>WD</td>\n",
              "      <td>Normal</td>\n",
              "      <td>False</td>\n",
              "      <td>False</td>\n",
              "      <td>False</td>\n",
              "      <td>20</td>\n",
              "      <td>1082</td>\n",
              "      <td>75.0</td>\n",
              "      <td>7500</td>\n",
              "      <td>5</td>\n",
              "      <td>5</td>\n",
              "      <td>1963</td>\n",
              "      <td>1963</td>\n",
              "      <td>0.0</td>\n",
              "      <td>824</td>\n",
              "      <td>0</td>\n",
              "      <td>216</td>\n",
              "      <td>1040</td>\n",
              "      <td>1040</td>\n",
              "      <td>0</td>\n",
              "      <td>0</td>\n",
              "      <td>1040</td>\n",
              "      <td>1</td>\n",
              "      <td>0</td>\n",
              "      <td>1</td>\n",
              "      <td>1</td>\n",
              "      <td>3</td>\n",
              "      <td>1</td>\n",
              "      <td>5</td>\n",
              "      <td>0</td>\n",
              "      <td>1963.0</td>\n",
              "      <td>1</td>\n",
              "      <td>308</td>\n",
              "      <td>0</td>\n",
              "      <td>0</td>\n",
              "      <td>220</td>\n",
              "      <td>0</td>\n",
              "      <td>0</td>\n",
              "      <td>0</td>\n",
              "      <td>0</td>\n",
              "      <td>6</td>\n",
              "      <td>2010</td>\n",
              "      <td>133000</td>\n",
              "    </tr>\n",
              "    <tr>\n",
              "      <th>80</th>\n",
              "      <td>RL</td>\n",
              "      <td>Pave</td>\n",
              "      <td>#na#</td>\n",
              "      <td>Reg</td>\n",
              "      <td>Lvl</td>\n",
              "      <td>AllPub</td>\n",
              "      <td>Corner</td>\n",
              "      <td>Gtl</td>\n",
              "      <td>NAmes</td>\n",
              "      <td>Norm</td>\n",
              "      <td>Norm</td>\n",
              "      <td>1Fam</td>\n",
              "      <td>2Story</td>\n",
              "      <td>Gable</td>\n",
              "      <td>CompShg</td>\n",
              "      <td>VinylSd</td>\n",
              "      <td>VinylSd</td>\n",
              "      <td>BrkFace</td>\n",
              "      <td>TA</td>\n",
              "      <td>Gd</td>\n",
              "      <td>CBlock</td>\n",
              "      <td>Gd</td>\n",
              "      <td>TA</td>\n",
              "      <td>No</td>\n",
              "      <td>Rec</td>\n",
              "      <td>Unf</td>\n",
              "      <td>GasA</td>\n",
              "      <td>TA</td>\n",
              "      <td>Y</td>\n",
              "      <td>SBrkr</td>\n",
              "      <td>Gd</td>\n",
              "      <td>Typ</td>\n",
              "      <td>Gd</td>\n",
              "      <td>Attchd</td>\n",
              "      <td>Fin</td>\n",
              "      <td>TA</td>\n",
              "      <td>TA</td>\n",
              "      <td>Y</td>\n",
              "      <td>#na#</td>\n",
              "      <td>#na#</td>\n",
              "      <td>#na#</td>\n",
              "      <td>WD</td>\n",
              "      <td>Normal</td>\n",
              "      <td>False</td>\n",
              "      <td>False</td>\n",
              "      <td>False</td>\n",
              "      <td>60</td>\n",
              "      <td>81</td>\n",
              "      <td>100.0</td>\n",
              "      <td>13000</td>\n",
              "      <td>6</td>\n",
              "      <td>6</td>\n",
              "      <td>1968</td>\n",
              "      <td>1968</td>\n",
              "      <td>576.0</td>\n",
              "      <td>448</td>\n",
              "      <td>0</td>\n",
              "      <td>448</td>\n",
              "      <td>896</td>\n",
              "      <td>1182</td>\n",
              "      <td>960</td>\n",
              "      <td>0</td>\n",
              "      <td>2142</td>\n",
              "      <td>0</td>\n",
              "      <td>0</td>\n",
              "      <td>2</td>\n",
              "      <td>1</td>\n",
              "      <td>4</td>\n",
              "      <td>1</td>\n",
              "      <td>8</td>\n",
              "      <td>1</td>\n",
              "      <td>1968.0</td>\n",
              "      <td>1</td>\n",
              "      <td>509</td>\n",
              "      <td>0</td>\n",
              "      <td>72</td>\n",
              "      <td>0</td>\n",
              "      <td>0</td>\n",
              "      <td>252</td>\n",
              "      <td>0</td>\n",
              "      <td>0</td>\n",
              "      <td>6</td>\n",
              "      <td>2009</td>\n",
              "      <td>193500</td>\n",
              "    </tr>\n",
              "  </tbody>\n",
              "</table>"
            ]
          },
          "metadata": {}
        }
      ],
      "source": [
        "#hide_output\n",
        "to.show(3)"
      ]
    },
    {
      "cell_type": "markdown",
      "metadata": {
        "id": "Q4qhvACb8f4V"
      },
      "source": [
        "However, the underlying items are all numeric:"
      ]
    },
    {
      "cell_type": "code",
      "execution_count": 32,
      "metadata": {
        "colab": {
          "base_uri": "https://localhost:8080/",
          "height": 207
        },
        "id": "dOccNz_q8f4V",
        "outputId": "f11209c7-b5bc-44f1-a49a-c8ecaba69fc1"
      },
      "outputs": [
        {
          "output_type": "execute_result",
          "data": {
            "text/plain": [
              "        Id  MSSubClass  MSZoning  LotFrontage  LotArea  Street  Alley  \\\n",
              "1395  1396           6         4         88.0    12665       2      0   \n",
              "1081  1082           1         4         75.0     7500       2      0   \n",
              "80      81           6         4        100.0    13000       2      0   \n",
              "\n",
              "      LotShape  LandContour  Utilities  LotConfig  LandSlope  Neighborhood  \\\n",
              "1395         2            1          1          5          1            24   \n",
              "1081         1            1          1          1          1            20   \n",
              "80           1            1          1          1          1            13   \n",
              "\n",
              "      Condition1  Condition2  BldgType  HouseStyle  OverallQual  OverallCond  \\\n",
              "1395           3           3         1           6            8            5   \n",
              "1081           2           3         1           3            5            5   \n",
              "80             3           3         1           6            6            6   \n",
              "\n",
              "      YearBuilt  YearRemodAdd  RoofStyle  RoofMatl  Exterior1st  Exterior2nd  \\\n",
              "1395       2005          2006          4         2           13           14   \n",
              "1081       1963          1963          2         2            7            7   \n",
              "80         1968          1968          2         2           13           14   \n",
              "\n",
              "      MasVnrType  MasVnrArea  ExterQual  ExterCond  Foundation  BsmtQual  \\\n",
              "1395           2       245.0          3          5           3         3   \n",
              "1081           3         0.0          4          5           2         4   \n",
              "80             2       576.0          4          3           2         3   \n",
              "\n",
              "      BsmtCond  BsmtExposure  BsmtFinType1  BsmtFinSF1  BsmtFinType2  \\\n",
              "1395         2             2             6           0             6   \n",
              "1081         4             4             1         824             6   \n",
              "80           4             4             5         448             6   \n",
              "\n",
              "      BsmtFinSF2  BsmtUnfSF  TotalBsmtSF  Heating  HeatingQC  CentralAir  \\\n",
              "1395           0       1094         1094        2          1           2   \n",
              "1081           0        216         1040        2          2           2   \n",
              "80             0        448          896        2          5           2   \n",
              "\n",
              "      Electrical  1stFlrSF  2ndFlrSF  LowQualFinSF  GrLivArea  BsmtFullBath  \\\n",
              "1395           5      1133      1349             0       2482             0   \n",
              "1081           5      1040         0             0       1040             1   \n",
              "80             5      1182       960             0       2142             0   \n",
              "\n",
              "      BsmtHalfBath  FullBath  HalfBath  BedroomAbvGr  KitchenAbvGr  \\\n",
              "1395             0         2         1             4             1   \n",
              "1081             0         1         1             3             1   \n",
              "80               0         2         1             4             1   \n",
              "\n",
              "      KitchenQual  TotRmsAbvGrd  Functional  Fireplaces  FireplaceQu  \\\n",
              "1395            2             9           1           1            3   \n",
              "1081            3             5           1           0            0   \n",
              "80              2             8           1           1            3   \n",
              "\n",
              "      GarageType  GarageYrBlt  GarageFinish  GarageCars  GarageArea  \\\n",
              "1395           4       2005.0             1           3         642   \n",
              "1081           2       1963.0             1           1         308   \n",
              "80             2       1968.0             1           1         509   \n",
              "\n",
              "      GarageQual  GarageCond  PavedDrive  WoodDeckSF  OpenPorchSF  \\\n",
              "1395           5           5           3         144           39   \n",
              "1081           5           5           3           0            0   \n",
              "80             5           5           3           0           72   \n",
              "\n",
              "      EnclosedPorch  3SsnPorch  ScreenPorch  PoolArea  PoolQC  Fence  \\\n",
              "1395              0          0            0         0       0      0   \n",
              "1081            220          0            0         0       0      3   \n",
              "80                0          0          252         0       0      0   \n",
              "\n",
              "      MiscFeature  MiscVal  MoSold  YrSold  SaleType  SaleCondition  \\\n",
              "1395            0        0       2    2007         9              5   \n",
              "1081            0        0       6    2010         9              5   \n",
              "80              0        0       6    2009         9              5   \n",
              "\n",
              "      SalePrice  LotFrontage_na  MasVnrArea_na  GarageYrBlt_na  \n",
              "1395     281213               1              1               1  \n",
              "1081     133000               1              1               1  \n",
              "80       193500               1              1               1  "
            ],
            "text/html": [
              "\n",
              "  <div id=\"df-6074da60-5394-4982-a7f2-2fb03c8e5fed\">\n",
              "    <div class=\"colab-df-container\">\n",
              "      <div>\n",
              "<style scoped>\n",
              "    .dataframe tbody tr th:only-of-type {\n",
              "        vertical-align: middle;\n",
              "    }\n",
              "\n",
              "    .dataframe tbody tr th {\n",
              "        vertical-align: top;\n",
              "    }\n",
              "\n",
              "    .dataframe thead th {\n",
              "        text-align: right;\n",
              "    }\n",
              "</style>\n",
              "<table border=\"1\" class=\"dataframe\">\n",
              "  <thead>\n",
              "    <tr style=\"text-align: right;\">\n",
              "      <th></th>\n",
              "      <th>Id</th>\n",
              "      <th>MSSubClass</th>\n",
              "      <th>MSZoning</th>\n",
              "      <th>LotFrontage</th>\n",
              "      <th>LotArea</th>\n",
              "      <th>Street</th>\n",
              "      <th>Alley</th>\n",
              "      <th>LotShape</th>\n",
              "      <th>LandContour</th>\n",
              "      <th>Utilities</th>\n",
              "      <th>LotConfig</th>\n",
              "      <th>LandSlope</th>\n",
              "      <th>Neighborhood</th>\n",
              "      <th>Condition1</th>\n",
              "      <th>Condition2</th>\n",
              "      <th>BldgType</th>\n",
              "      <th>HouseStyle</th>\n",
              "      <th>OverallQual</th>\n",
              "      <th>OverallCond</th>\n",
              "      <th>YearBuilt</th>\n",
              "      <th>YearRemodAdd</th>\n",
              "      <th>RoofStyle</th>\n",
              "      <th>RoofMatl</th>\n",
              "      <th>Exterior1st</th>\n",
              "      <th>Exterior2nd</th>\n",
              "      <th>MasVnrType</th>\n",
              "      <th>MasVnrArea</th>\n",
              "      <th>ExterQual</th>\n",
              "      <th>ExterCond</th>\n",
              "      <th>Foundation</th>\n",
              "      <th>BsmtQual</th>\n",
              "      <th>BsmtCond</th>\n",
              "      <th>BsmtExposure</th>\n",
              "      <th>BsmtFinType1</th>\n",
              "      <th>BsmtFinSF1</th>\n",
              "      <th>BsmtFinType2</th>\n",
              "      <th>BsmtFinSF2</th>\n",
              "      <th>BsmtUnfSF</th>\n",
              "      <th>TotalBsmtSF</th>\n",
              "      <th>Heating</th>\n",
              "      <th>HeatingQC</th>\n",
              "      <th>CentralAir</th>\n",
              "      <th>Electrical</th>\n",
              "      <th>1stFlrSF</th>\n",
              "      <th>2ndFlrSF</th>\n",
              "      <th>LowQualFinSF</th>\n",
              "      <th>GrLivArea</th>\n",
              "      <th>BsmtFullBath</th>\n",
              "      <th>BsmtHalfBath</th>\n",
              "      <th>FullBath</th>\n",
              "      <th>HalfBath</th>\n",
              "      <th>BedroomAbvGr</th>\n",
              "      <th>KitchenAbvGr</th>\n",
              "      <th>KitchenQual</th>\n",
              "      <th>TotRmsAbvGrd</th>\n",
              "      <th>Functional</th>\n",
              "      <th>Fireplaces</th>\n",
              "      <th>FireplaceQu</th>\n",
              "      <th>GarageType</th>\n",
              "      <th>GarageYrBlt</th>\n",
              "      <th>GarageFinish</th>\n",
              "      <th>GarageCars</th>\n",
              "      <th>GarageArea</th>\n",
              "      <th>GarageQual</th>\n",
              "      <th>GarageCond</th>\n",
              "      <th>PavedDrive</th>\n",
              "      <th>WoodDeckSF</th>\n",
              "      <th>OpenPorchSF</th>\n",
              "      <th>EnclosedPorch</th>\n",
              "      <th>3SsnPorch</th>\n",
              "      <th>ScreenPorch</th>\n",
              "      <th>PoolArea</th>\n",
              "      <th>PoolQC</th>\n",
              "      <th>Fence</th>\n",
              "      <th>MiscFeature</th>\n",
              "      <th>MiscVal</th>\n",
              "      <th>MoSold</th>\n",
              "      <th>YrSold</th>\n",
              "      <th>SaleType</th>\n",
              "      <th>SaleCondition</th>\n",
              "      <th>SalePrice</th>\n",
              "      <th>LotFrontage_na</th>\n",
              "      <th>MasVnrArea_na</th>\n",
              "      <th>GarageYrBlt_na</th>\n",
              "    </tr>\n",
              "  </thead>\n",
              "  <tbody>\n",
              "    <tr>\n",
              "      <th>1395</th>\n",
              "      <td>1396</td>\n",
              "      <td>6</td>\n",
              "      <td>4</td>\n",
              "      <td>88.0</td>\n",
              "      <td>12665</td>\n",
              "      <td>2</td>\n",
              "      <td>0</td>\n",
              "      <td>2</td>\n",
              "      <td>1</td>\n",
              "      <td>1</td>\n",
              "      <td>5</td>\n",
              "      <td>1</td>\n",
              "      <td>24</td>\n",
              "      <td>3</td>\n",
              "      <td>3</td>\n",
              "      <td>1</td>\n",
              "      <td>6</td>\n",
              "      <td>8</td>\n",
              "      <td>5</td>\n",
              "      <td>2005</td>\n",
              "      <td>2006</td>\n",
              "      <td>4</td>\n",
              "      <td>2</td>\n",
              "      <td>13</td>\n",
              "      <td>14</td>\n",
              "      <td>2</td>\n",
              "      <td>245.0</td>\n",
              "      <td>3</td>\n",
              "      <td>5</td>\n",
              "      <td>3</td>\n",
              "      <td>3</td>\n",
              "      <td>2</td>\n",
              "      <td>2</td>\n",
              "      <td>6</td>\n",
              "      <td>0</td>\n",
              "      <td>6</td>\n",
              "      <td>0</td>\n",
              "      <td>1094</td>\n",
              "      <td>1094</td>\n",
              "      <td>2</td>\n",
              "      <td>1</td>\n",
              "      <td>2</td>\n",
              "      <td>5</td>\n",
              "      <td>1133</td>\n",
              "      <td>1349</td>\n",
              "      <td>0</td>\n",
              "      <td>2482</td>\n",
              "      <td>0</td>\n",
              "      <td>0</td>\n",
              "      <td>2</td>\n",
              "      <td>1</td>\n",
              "      <td>4</td>\n",
              "      <td>1</td>\n",
              "      <td>2</td>\n",
              "      <td>9</td>\n",
              "      <td>1</td>\n",
              "      <td>1</td>\n",
              "      <td>3</td>\n",
              "      <td>4</td>\n",
              "      <td>2005.0</td>\n",
              "      <td>1</td>\n",
              "      <td>3</td>\n",
              "      <td>642</td>\n",
              "      <td>5</td>\n",
              "      <td>5</td>\n",
              "      <td>3</td>\n",
              "      <td>144</td>\n",
              "      <td>39</td>\n",
              "      <td>0</td>\n",
              "      <td>0</td>\n",
              "      <td>0</td>\n",
              "      <td>0</td>\n",
              "      <td>0</td>\n",
              "      <td>0</td>\n",
              "      <td>0</td>\n",
              "      <td>0</td>\n",
              "      <td>2</td>\n",
              "      <td>2007</td>\n",
              "      <td>9</td>\n",
              "      <td>5</td>\n",
              "      <td>281213</td>\n",
              "      <td>1</td>\n",
              "      <td>1</td>\n",
              "      <td>1</td>\n",
              "    </tr>\n",
              "    <tr>\n",
              "      <th>1081</th>\n",
              "      <td>1082</td>\n",
              "      <td>1</td>\n",
              "      <td>4</td>\n",
              "      <td>75.0</td>\n",
              "      <td>7500</td>\n",
              "      <td>2</td>\n",
              "      <td>0</td>\n",
              "      <td>1</td>\n",
              "      <td>1</td>\n",
              "      <td>1</td>\n",
              "      <td>1</td>\n",
              "      <td>1</td>\n",
              "      <td>20</td>\n",
              "      <td>2</td>\n",
              "      <td>3</td>\n",
              "      <td>1</td>\n",
              "      <td>3</td>\n",
              "      <td>5</td>\n",
              "      <td>5</td>\n",
              "      <td>1963</td>\n",
              "      <td>1963</td>\n",
              "      <td>2</td>\n",
              "      <td>2</td>\n",
              "      <td>7</td>\n",
              "      <td>7</td>\n",
              "      <td>3</td>\n",
              "      <td>0.0</td>\n",
              "      <td>4</td>\n",
              "      <td>5</td>\n",
              "      <td>2</td>\n",
              "      <td>4</td>\n",
              "      <td>4</td>\n",
              "      <td>4</td>\n",
              "      <td>1</td>\n",
              "      <td>824</td>\n",
              "      <td>6</td>\n",
              "      <td>0</td>\n",
              "      <td>216</td>\n",
              "      <td>1040</td>\n",
              "      <td>2</td>\n",
              "      <td>2</td>\n",
              "      <td>2</td>\n",
              "      <td>5</td>\n",
              "      <td>1040</td>\n",
              "      <td>0</td>\n",
              "      <td>0</td>\n",
              "      <td>1040</td>\n",
              "      <td>1</td>\n",
              "      <td>0</td>\n",
              "      <td>1</td>\n",
              "      <td>1</td>\n",
              "      <td>3</td>\n",
              "      <td>1</td>\n",
              "      <td>3</td>\n",
              "      <td>5</td>\n",
              "      <td>1</td>\n",
              "      <td>0</td>\n",
              "      <td>0</td>\n",
              "      <td>2</td>\n",
              "      <td>1963.0</td>\n",
              "      <td>1</td>\n",
              "      <td>1</td>\n",
              "      <td>308</td>\n",
              "      <td>5</td>\n",
              "      <td>5</td>\n",
              "      <td>3</td>\n",
              "      <td>0</td>\n",
              "      <td>0</td>\n",
              "      <td>220</td>\n",
              "      <td>0</td>\n",
              "      <td>0</td>\n",
              "      <td>0</td>\n",
              "      <td>0</td>\n",
              "      <td>3</td>\n",
              "      <td>0</td>\n",
              "      <td>0</td>\n",
              "      <td>6</td>\n",
              "      <td>2010</td>\n",
              "      <td>9</td>\n",
              "      <td>5</td>\n",
              "      <td>133000</td>\n",
              "      <td>1</td>\n",
              "      <td>1</td>\n",
              "      <td>1</td>\n",
              "    </tr>\n",
              "    <tr>\n",
              "      <th>80</th>\n",
              "      <td>81</td>\n",
              "      <td>6</td>\n",
              "      <td>4</td>\n",
              "      <td>100.0</td>\n",
              "      <td>13000</td>\n",
              "      <td>2</td>\n",
              "      <td>0</td>\n",
              "      <td>1</td>\n",
              "      <td>1</td>\n",
              "      <td>1</td>\n",
              "      <td>1</td>\n",
              "      <td>1</td>\n",
              "      <td>13</td>\n",
              "      <td>3</td>\n",
              "      <td>3</td>\n",
              "      <td>1</td>\n",
              "      <td>6</td>\n",
              "      <td>6</td>\n",
              "      <td>6</td>\n",
              "      <td>1968</td>\n",
              "      <td>1968</td>\n",
              "      <td>2</td>\n",
              "      <td>2</td>\n",
              "      <td>13</td>\n",
              "      <td>14</td>\n",
              "      <td>2</td>\n",
              "      <td>576.0</td>\n",
              "      <td>4</td>\n",
              "      <td>3</td>\n",
              "      <td>2</td>\n",
              "      <td>3</td>\n",
              "      <td>4</td>\n",
              "      <td>4</td>\n",
              "      <td>5</td>\n",
              "      <td>448</td>\n",
              "      <td>6</td>\n",
              "      <td>0</td>\n",
              "      <td>448</td>\n",
              "      <td>896</td>\n",
              "      <td>2</td>\n",
              "      <td>5</td>\n",
              "      <td>2</td>\n",
              "      <td>5</td>\n",
              "      <td>1182</td>\n",
              "      <td>960</td>\n",
              "      <td>0</td>\n",
              "      <td>2142</td>\n",
              "      <td>0</td>\n",
              "      <td>0</td>\n",
              "      <td>2</td>\n",
              "      <td>1</td>\n",
              "      <td>4</td>\n",
              "      <td>1</td>\n",
              "      <td>2</td>\n",
              "      <td>8</td>\n",
              "      <td>1</td>\n",
              "      <td>1</td>\n",
              "      <td>3</td>\n",
              "      <td>2</td>\n",
              "      <td>1968.0</td>\n",
              "      <td>1</td>\n",
              "      <td>1</td>\n",
              "      <td>509</td>\n",
              "      <td>5</td>\n",
              "      <td>5</td>\n",
              "      <td>3</td>\n",
              "      <td>0</td>\n",
              "      <td>72</td>\n",
              "      <td>0</td>\n",
              "      <td>0</td>\n",
              "      <td>252</td>\n",
              "      <td>0</td>\n",
              "      <td>0</td>\n",
              "      <td>0</td>\n",
              "      <td>0</td>\n",
              "      <td>0</td>\n",
              "      <td>6</td>\n",
              "      <td>2009</td>\n",
              "      <td>9</td>\n",
              "      <td>5</td>\n",
              "      <td>193500</td>\n",
              "      <td>1</td>\n",
              "      <td>1</td>\n",
              "      <td>1</td>\n",
              "    </tr>\n",
              "  </tbody>\n",
              "</table>\n",
              "</div>\n",
              "      <button class=\"colab-df-convert\" onclick=\"convertToInteractive('df-6074da60-5394-4982-a7f2-2fb03c8e5fed')\"\n",
              "              title=\"Convert this dataframe to an interactive table.\"\n",
              "              style=\"display:none;\">\n",
              "        \n",
              "  <svg xmlns=\"http://www.w3.org/2000/svg\" height=\"24px\"viewBox=\"0 0 24 24\"\n",
              "       width=\"24px\">\n",
              "    <path d=\"M0 0h24v24H0V0z\" fill=\"none\"/>\n",
              "    <path d=\"M18.56 5.44l.94 2.06.94-2.06 2.06-.94-2.06-.94-.94-2.06-.94 2.06-2.06.94zm-11 1L8.5 8.5l.94-2.06 2.06-.94-2.06-.94L8.5 2.5l-.94 2.06-2.06.94zm10 10l.94 2.06.94-2.06 2.06-.94-2.06-.94-.94-2.06-.94 2.06-2.06.94z\"/><path d=\"M17.41 7.96l-1.37-1.37c-.4-.4-.92-.59-1.43-.59-.52 0-1.04.2-1.43.59L10.3 9.45l-7.72 7.72c-.78.78-.78 2.05 0 2.83L4 21.41c.39.39.9.59 1.41.59.51 0 1.02-.2 1.41-.59l7.78-7.78 2.81-2.81c.8-.78.8-2.07 0-2.86zM5.41 20L4 18.59l7.72-7.72 1.47 1.35L5.41 20z\"/>\n",
              "  </svg>\n",
              "      </button>\n",
              "      \n",
              "  <style>\n",
              "    .colab-df-container {\n",
              "      display:flex;\n",
              "      flex-wrap:wrap;\n",
              "      gap: 12px;\n",
              "    }\n",
              "\n",
              "    .colab-df-convert {\n",
              "      background-color: #E8F0FE;\n",
              "      border: none;\n",
              "      border-radius: 50%;\n",
              "      cursor: pointer;\n",
              "      display: none;\n",
              "      fill: #1967D2;\n",
              "      height: 32px;\n",
              "      padding: 0 0 0 0;\n",
              "      width: 32px;\n",
              "    }\n",
              "\n",
              "    .colab-df-convert:hover {\n",
              "      background-color: #E2EBFA;\n",
              "      box-shadow: 0px 1px 2px rgba(60, 64, 67, 0.3), 0px 1px 3px 1px rgba(60, 64, 67, 0.15);\n",
              "      fill: #174EA6;\n",
              "    }\n",
              "\n",
              "    [theme=dark] .colab-df-convert {\n",
              "      background-color: #3B4455;\n",
              "      fill: #D2E3FC;\n",
              "    }\n",
              "\n",
              "    [theme=dark] .colab-df-convert:hover {\n",
              "      background-color: #434B5C;\n",
              "      box-shadow: 0px 1px 3px 1px rgba(0, 0, 0, 0.15);\n",
              "      filter: drop-shadow(0px 1px 2px rgba(0, 0, 0, 0.3));\n",
              "      fill: #FFFFFF;\n",
              "    }\n",
              "  </style>\n",
              "\n",
              "      <script>\n",
              "        const buttonEl =\n",
              "          document.querySelector('#df-6074da60-5394-4982-a7f2-2fb03c8e5fed button.colab-df-convert');\n",
              "        buttonEl.style.display =\n",
              "          google.colab.kernel.accessAllowed ? 'block' : 'none';\n",
              "\n",
              "        async function convertToInteractive(key) {\n",
              "          const element = document.querySelector('#df-6074da60-5394-4982-a7f2-2fb03c8e5fed');\n",
              "          const dataTable =\n",
              "            await google.colab.kernel.invokeFunction('convertToInteractive',\n",
              "                                                     [key], {});\n",
              "          if (!dataTable) return;\n",
              "\n",
              "          const docLinkHtml = 'Like what you see? Visit the ' +\n",
              "            '<a target=\"_blank\" href=https://colab.research.google.com/notebooks/data_table.ipynb>data table notebook</a>'\n",
              "            + ' to learn more about interactive tables.';\n",
              "          element.innerHTML = '';\n",
              "          dataTable['output_type'] = 'display_data';\n",
              "          await google.colab.output.renderOutput(dataTable, element);\n",
              "          const docLink = document.createElement('div');\n",
              "          docLink.innerHTML = docLinkHtml;\n",
              "          element.appendChild(docLink);\n",
              "        }\n",
              "      </script>\n",
              "    </div>\n",
              "  </div>\n",
              "  "
            ]
          },
          "metadata": {},
          "execution_count": 32
        }
      ],
      "source": [
        "#hide_output\n",
        "to.items.head(3)"
      ]
    },
    {
      "cell_type": "markdown",
      "metadata": {
        "id": "HOwfyZ148f4W"
      },
      "source": [
        "The conversion of categorical columns to numbers is done by simply replacing each unique level with a number. The numbers associated with the levels are chosen consecutively as they are seen in a column, so there's no particular meaning to the numbers in categorical columns after conversion. The exception is if you first convert a column to a Pandas ordered category, in which case the ordering you chose is used. We can see the mapping by looking at the `classes` attribute:"
      ]
    },
    {
      "cell_type": "markdown",
      "metadata": {
        "id": "DwgxBkJ68f4W"
      },
      "source": [
        "Since it takes a minute or so to process the data to get to this point, we should save it—that way in the future we can continue our work from here without rerunning the previous steps. fastai provides a `save` method that uses Python's *pickle* system to save nearly any Python object:"
      ]
    },
    {
      "cell_type": "code",
      "execution_count": 33,
      "metadata": {
        "id": "Powg4oLx8f4W"
      },
      "outputs": [],
      "source": [
        "save_pickle(path/'to.pkl',to)"
      ]
    },
    {
      "cell_type": "markdown",
      "metadata": {
        "id": "d04Y5wgj8f4W"
      },
      "source": [
        "To read this back later, you would type:\n",
        "\n",
        "```python\n",
        "to = (path/'to.pkl').load()\n",
        "```"
      ]
    },
    {
      "cell_type": "markdown",
      "metadata": {
        "id": "LMYAB3HH8f4W"
      },
      "source": [
        "Now that all this preprocessing is done, we are ready to create a decision tree."
      ]
    },
    {
      "cell_type": "markdown",
      "metadata": {
        "id": "z2Ej27kP8f4W"
      },
      "source": [
        "### Creating the Decision Tree"
      ]
    },
    {
      "cell_type": "markdown",
      "metadata": {
        "id": "3s7oMtvb8f4X"
      },
      "source": [
        "To begin, we define our independent and dependent variables:"
      ]
    },
    {
      "cell_type": "code",
      "execution_count": 34,
      "metadata": {
        "id": "tcxLkFOQ8f4X"
      },
      "outputs": [],
      "source": [
        "#hide\n",
        "to = load_pickle(path/'to.pkl')"
      ]
    },
    {
      "cell_type": "code",
      "execution_count": 35,
      "metadata": {
        "id": "UCmk3llV8f4X"
      },
      "outputs": [],
      "source": [
        "xs,y = to.train.xs,to.train.y\n",
        "valid_xs,valid_y = to.valid.xs,to.valid.y"
      ]
    },
    {
      "cell_type": "markdown",
      "metadata": {
        "id": "wV6vP9HN8f4X"
      },
      "source": [
        "Now that our data is all numeric, and there are no missing values, we can create a decision tree:"
      ]
    },
    {
      "cell_type": "code",
      "execution_count": 36,
      "metadata": {
        "id": "BhcxBNIA8f4X"
      },
      "outputs": [],
      "source": [
        "m = DecisionTreeRegressor(max_leaf_nodes=4)\n",
        "m.fit(xs, y);"
      ]
    },
    {
      "cell_type": "markdown",
      "metadata": {
        "id": "am2FgWwf8f4X"
      },
      "source": [
        "To keep it simple, we've told sklearn to just create four *leaf nodes*. To see what it's learned, we can display the tree:"
      ]
    },
    {
      "cell_type": "code",
      "execution_count": 39,
      "metadata": {
        "colab": {
          "base_uri": "https://localhost:8080/",
          "height": 602
        },
        "id": "P9TMcVzf8f4X",
        "outputId": "d9e6aed4-da66-4f0c-9e95-a961cebcae0c"
      },
      "outputs": [
        {
          "output_type": "execute_result",
          "data": {
            "text/plain": [
              "<graphviz.files.Source at 0x7fd765d7de90>"
            ],
            "image/svg+xml": "<?xml version=\"1.0\" encoding=\"UTF-8\" standalone=\"no\"?>\n<!DOCTYPE svg PUBLIC \"-//W3C//DTD SVG 1.1//EN\"\n \"http://www.w3.org/Graphics/SVG/1.1/DTD/svg11.dtd\">\n<!-- Generated by graphviz version 2.40.1 (20161225.0304)\n -->\n<!-- Title: Tree Pages: 1 -->\n<svg width=\"720pt\" height=\"435pt\"\n viewBox=\"0.00 0.00 720.00 435.16\" xmlns=\"http://www.w3.org/2000/svg\" xmlns:xlink=\"http://www.w3.org/1999/xlink\">\n<g id=\"graph0\" class=\"graph\" transform=\"scale(.7362 .7362) rotate(0) translate(4 587.0858)\">\n<title>Tree</title>\n<polygon fill=\"#ffffff\" stroke=\"transparent\" points=\"-4,4 -4,-587.0858 974,-587.0858 974,4 -4,4\"/>\n<!-- 0 -->\n<g id=\"node1\" class=\"node\">\n<title>0</title>\n<path fill=\"#fbe9dd\" stroke=\"#000000\" d=\"M582,-543C582,-543 379,-543 379,-543 373,-543 367,-537 367,-531 367,-531 367,-487 367,-487 367,-481 373,-475 379,-475 379,-475 582,-475 582,-475 588,-475 594,-481 594,-487 594,-487 594,-531 594,-531 594,-537 588,-543 582,-543\"/>\n<text text-anchor=\"start\" x=\"424.5\" y=\"-527.8\" font-family=\"Helvetica,sans-Serif\" font-size=\"14.00\" fill=\"#000000\">OverallQual ≤ 7.5</text>\n<text text-anchor=\"start\" x=\"375\" y=\"-512.8\" font-family=\"Helvetica,sans-Serif\" font-size=\"14.00\" fill=\"#000000\">squared_error = 6663091848.96</text>\n<text text-anchor=\"start\" x=\"428.5\" y=\"-497.8\" font-family=\"Helvetica,sans-Serif\" font-size=\"14.00\" fill=\"#000000\">samples = 1168</text>\n<text text-anchor=\"start\" x=\"420\" y=\"-482.8\" font-family=\"Helvetica,sans-Serif\" font-size=\"14.00\" fill=\"#000000\">value = 181595.81</text>\n</g>\n<!-- 1 -->\n<g id=\"node2\" class=\"node\">\n<title>1</title>\n<path fill=\"#fdf6f1\" stroke=\"#000000\" d=\"M460,-317C460,-317 257,-317 257,-317 251,-317 245,-311 245,-305 245,-305 245,-261 245,-261 245,-255 251,-249 257,-249 257,-249 460,-249 460,-249 466,-249 472,-255 472,-261 472,-261 472,-305 472,-305 472,-311 466,-317 460,-317\"/>\n<text text-anchor=\"start\" x=\"302.5\" y=\"-301.8\" font-family=\"Helvetica,sans-Serif\" font-size=\"14.00\" fill=\"#000000\">OverallQual ≤ 6.5</text>\n<text text-anchor=\"start\" x=\"253\" y=\"-286.8\" font-family=\"Helvetica,sans-Serif\" font-size=\"14.00\" fill=\"#000000\">squared_error = 2450362495.94</text>\n<text text-anchor=\"start\" x=\"310.5\" y=\"-271.8\" font-family=\"Helvetica,sans-Serif\" font-size=\"14.00\" fill=\"#000000\">samples = 981</text>\n<text text-anchor=\"start\" x=\"298\" y=\"-256.8\" font-family=\"Helvetica,sans-Serif\" font-size=\"14.00\" fill=\"#000000\">value = 157176.25</text>\n</g>\n<!-- 0&#45;&gt;1 -->\n<g id=\"edge1\" class=\"edge\">\n<title>0&#45;&gt;1</title>\n<path fill=\"none\" stroke=\"#000000\" d=\"M461.9708,-474.6755C440.5008,-434.9032 405.0957,-369.3165 381.7847,-326.1339\"/>\n<polygon fill=\"#000000\" stroke=\"#000000\" points=\"384.8335,-324.4137 377.0033,-317.2766 378.6737,-327.7389 384.8335,-324.4137\"/>\n<text text-anchor=\"middle\" x=\"369.8448\" y=\"-337.5298\" font-family=\"Helvetica,sans-Serif\" font-size=\"14.00\" fill=\"#000000\">True</text>\n</g>\n<!-- 2 -->\n<g id=\"node5\" class=\"node\">\n<title>2</title>\n<path fill=\"#eda876\" stroke=\"#000000\" d=\"M705,-317C705,-317 502,-317 502,-317 496,-317 490,-311 490,-305 490,-305 490,-261 490,-261 490,-255 496,-249 502,-249 502,-249 705,-249 705,-249 711,-249 717,-255 717,-261 717,-261 717,-305 717,-305 717,-311 711,-317 705,-317\"/>\n<text text-anchor=\"start\" x=\"547.5\" y=\"-301.8\" font-family=\"Helvetica,sans-Serif\" font-size=\"14.00\" fill=\"#000000\">OverallQual ≤ 8.5</text>\n<text text-anchor=\"start\" x=\"498\" y=\"-286.8\" font-family=\"Helvetica,sans-Serif\" font-size=\"14.00\" fill=\"#000000\">squared_error = 9223938329.04</text>\n<text text-anchor=\"start\" x=\"555.5\" y=\"-271.8\" font-family=\"Helvetica,sans-Serif\" font-size=\"14.00\" fill=\"#000000\">samples = 187</text>\n<text text-anchor=\"start\" x=\"543\" y=\"-256.8\" font-family=\"Helvetica,sans-Serif\" font-size=\"14.00\" fill=\"#000000\">value = 309700.56</text>\n</g>\n<!-- 0&#45;&gt;2 -->\n<g id=\"edge4\" class=\"edge\">\n<title>0&#45;&gt;2</title>\n<path fill=\"none\" stroke=\"#000000\" d=\"M499.1811,-474.6755C520.827,-434.9032 556.5224,-369.3165 580.0245,-326.1339\"/>\n<polygon fill=\"#000000\" stroke=\"#000000\" points=\"583.1389,-327.7331 584.8451,-317.2766 576.9905,-324.3868 583.1389,-327.7331\"/>\n<text text-anchor=\"middle\" x=\"591.9215\" y=\"-337.5541\" font-family=\"Helvetica,sans-Serif\" font-size=\"14.00\" fill=\"#000000\">False</text>\n</g>\n<!-- 3 -->\n<g id=\"node3\" class=\"node\">\n<title>3</title>\n<path fill=\"#ffffff\" stroke=\"#000000\" d=\"M215,-84.5C215,-84.5 12,-84.5 12,-84.5 6,-84.5 0,-78.5 0,-72.5 0,-72.5 0,-43.5 0,-43.5 0,-37.5 6,-31.5 12,-31.5 12,-31.5 215,-31.5 215,-31.5 221,-31.5 227,-37.5 227,-43.5 227,-43.5 227,-72.5 227,-72.5 227,-78.5 221,-84.5 215,-84.5\"/>\n<text text-anchor=\"start\" x=\"8\" y=\"-69.3\" font-family=\"Helvetica,sans-Serif\" font-size=\"14.00\" fill=\"#000000\">squared_error = 1416404922.46</text>\n<text text-anchor=\"start\" x=\"65.5\" y=\"-54.3\" font-family=\"Helvetica,sans-Serif\" font-size=\"14.00\" fill=\"#000000\">samples = 730</text>\n<text text-anchor=\"start\" x=\"53\" y=\"-39.3\" font-family=\"Helvetica,sans-Serif\" font-size=\"14.00\" fill=\"#000000\">value = 139465.49</text>\n</g>\n<!-- 1&#45;&gt;3 -->\n<g id=\"edge2\" class=\"edge\">\n<title>1&#45;&gt;3</title>\n<path fill=\"none\" stroke=\"#000000\" d=\"M321.2898,-248.8273C274.8795,-206.2057 196.0449,-133.8066 149.9785,-91.5007\"/>\n<polygon fill=\"#000000\" stroke=\"#000000\" points=\"152.3336,-88.9115 142.6009,-84.7253 147.5988,-94.0672 152.3336,-88.9115\"/>\n</g>\n<!-- 4 -->\n<g id=\"node4\" class=\"node\">\n<title>4</title>\n<path fill=\"#f8dcc7\" stroke=\"#000000\" d=\"M460,-84.5C460,-84.5 257,-84.5 257,-84.5 251,-84.5 245,-78.5 245,-72.5 245,-72.5 245,-43.5 245,-43.5 245,-37.5 251,-31.5 257,-31.5 257,-31.5 460,-31.5 460,-31.5 466,-31.5 472,-37.5 472,-43.5 472,-43.5 472,-72.5 472,-72.5 472,-78.5 466,-84.5 460,-84.5\"/>\n<text text-anchor=\"start\" x=\"253\" y=\"-69.3\" font-family=\"Helvetica,sans-Serif\" font-size=\"14.00\" fill=\"#000000\">squared_error = 1892002029.47</text>\n<text text-anchor=\"start\" x=\"310.5\" y=\"-54.3\" font-family=\"Helvetica,sans-Serif\" font-size=\"14.00\" fill=\"#000000\">samples = 251</text>\n<text text-anchor=\"start\" x=\"298\" y=\"-39.3\" font-family=\"Helvetica,sans-Serif\" font-size=\"14.00\" fill=\"#000000\">value = 208685.65</text>\n</g>\n<!-- 1&#45;&gt;4 -->\n<g id=\"edge3\" class=\"edge\">\n<title>1&#45;&gt;4</title>\n<path fill=\"none\" stroke=\"#000000\" d=\"M358.5,-248.8273C358.5,-207.3481 358.5,-137.6664 358.5,-94.9663\"/>\n<polygon fill=\"#000000\" stroke=\"#000000\" points=\"362.0001,-94.7253 358.5,-84.7253 355.0001,-94.7253 362.0001,-94.7253\"/>\n</g>\n<!-- 5 -->\n<g id=\"node6\" class=\"node\">\n<title>5</title>\n<path fill=\"#f0b88f\" stroke=\"#000000\" d=\"M705,-84.5C705,-84.5 502,-84.5 502,-84.5 496,-84.5 490,-78.5 490,-72.5 490,-72.5 490,-43.5 490,-43.5 490,-37.5 496,-31.5 502,-31.5 502,-31.5 705,-31.5 705,-31.5 711,-31.5 717,-37.5 717,-43.5 717,-43.5 717,-72.5 717,-72.5 717,-78.5 711,-84.5 705,-84.5\"/>\n<text text-anchor=\"start\" x=\"498\" y=\"-69.3\" font-family=\"Helvetica,sans-Serif\" font-size=\"14.00\" fill=\"#000000\">squared_error = 4356662740.06</text>\n<text text-anchor=\"start\" x=\"555.5\" y=\"-54.3\" font-family=\"Helvetica,sans-Serif\" font-size=\"14.00\" fill=\"#000000\">samples = 133</text>\n<text text-anchor=\"start\" x=\"543\" y=\"-39.3\" font-family=\"Helvetica,sans-Serif\" font-size=\"14.00\" fill=\"#000000\">value = 278811.33</text>\n</g>\n<!-- 2&#45;&gt;5 -->\n<g id=\"edge5\" class=\"edge\">\n<title>2&#45;&gt;5</title>\n<path fill=\"none\" stroke=\"#000000\" d=\"M603.5,-248.8273C603.5,-207.3481 603.5,-137.6664 603.5,-94.9663\"/>\n<polygon fill=\"#000000\" stroke=\"#000000\" points=\"607.0001,-94.7253 603.5,-84.7253 600.0001,-94.7253 607.0001,-94.7253\"/>\n</g>\n<!-- 6 -->\n<g id=\"node7\" class=\"node\">\n<title>6</title>\n<path fill=\"#e58139\" stroke=\"#000000\" d=\"M958,-84.5C958,-84.5 747,-84.5 747,-84.5 741,-84.5 735,-78.5 735,-72.5 735,-72.5 735,-43.5 735,-43.5 735,-37.5 741,-31.5 747,-31.5 747,-31.5 958,-31.5 958,-31.5 964,-31.5 970,-37.5 970,-43.5 970,-43.5 970,-72.5 970,-72.5 970,-78.5 964,-84.5 958,-84.5\"/>\n<text text-anchor=\"start\" x=\"743\" y=\"-69.3\" font-family=\"Helvetica,sans-Serif\" font-size=\"14.00\" fill=\"#000000\">squared_error = 13073818939.91</text>\n<text text-anchor=\"start\" x=\"808.5\" y=\"-54.3\" font-family=\"Helvetica,sans-Serif\" font-size=\"14.00\" fill=\"#000000\">samples = 54</text>\n<text text-anchor=\"start\" x=\"792\" y=\"-39.3\" font-family=\"Helvetica,sans-Serif\" font-size=\"14.00\" fill=\"#000000\">value = 385779.57</text>\n</g>\n<!-- 2&#45;&gt;6 -->\n<g id=\"edge6\" class=\"edge\">\n<title>2&#45;&gt;6</title>\n<path fill=\"none\" stroke=\"#000000\" d=\"M641.3177,-248.8273C688.4857,-206.2057 768.6074,-133.8066 815.4259,-91.5007\"/>\n<polygon fill=\"#000000\" stroke=\"#000000\" points=\"817.851,-94.0266 822.924,-84.7253 813.1578,-88.8329 817.851,-94.0266\"/>\n</g>\n</g>\n</svg>\n"
          },
          "metadata": {},
          "execution_count": 39
        }
      ],
      "source": [
        "draw_tree(m, xs, size=10, leaves_parallel=True, precision=2)"
      ]
    },
    {
      "cell_type": "markdown",
      "metadata": {
        "id": "Tq9IW2q18f4X"
      },
      "source": [
        "Understanding this picture is one of the best ways to understand decision trees, so we will start at the top and explain each part step by step.\n",
        "\n",
        "We can see that this simply model predicts house prices based on overall quality. The houses with the highest prices are the ones with quality above 8.5."
      ]
    },
    {
      "cell_type": "markdown",
      "metadata": {
        "id": "v8RCkhvU8f4Y"
      },
      "source": [
        "We can show the same information using Terence Parr's powerful [dtreeviz](https://explained.ai/decision-tree-viz/) library:"
      ]
    },
    {
      "cell_type": "code",
      "execution_count": 40,
      "metadata": {
        "colab": {
          "base_uri": "https://localhost:8080/",
          "height": 505
        },
        "id": "ZCD9amiD8f4Y",
        "outputId": "c4c935ec-42d0-4c22-9720-242219c17e47"
      },
      "outputs": [
        {
          "output_type": "stream",
          "name": "stderr",
          "text": [
            "/usr/local/lib/python3.7/dist-packages/sklearn/base.py:451: UserWarning: X does not have valid feature names, but DecisionTreeRegressor was fitted with feature names\n",
            "  \"X does not have valid feature names, but\"\n"
          ]
        },
        {
          "output_type": "execute_result",
          "data": {
            "text/plain": [
              "<dtreeviz.trees.DTreeViz at 0x7fd765d65e10>"
            ],
            "image/svg+xml": "<svg xmlns=\"http://www.w3.org/2000/svg\" xmlns:xlink=\"http://www.w3.org/1999/xlink\" height=\"448.0\" viewBox=\"0.0 0.0 716.8000000000001 448.0\" width=\"716.8000000000001\">\n<g class=\"graph\" id=\"graph0\" transform=\"scale(1.6 1.6) rotate(0) translate(4 276)\">\n<title>G</title>\n<polygon fill=\"#ffffff\" points=\"-4,4 -4,-276 444,-276 444,4 -4,4\" stroke=\"transparent\" />\n\n<g class=\"node\" id=\"node1\">\n<title>node1</title>\n<svg height=\"67px\" preserveAspectRatio=\"xMinYMin meet\" version=\"1.1\" viewBox=\"0 0 185.94625 89.026861\" width=\"139px\" x=\"187.5\" y=\"-214.5\">\n <defs>\n  <style type=\"text/css\">\n*{stroke-linecap:butt;stroke-linejoin:round;}\n  </style>\n </defs>\n <g id=\"figure_1\">\n  <g id=\"patch_1\">\n   <path d=\"M 0 89.026861  L 185.94625 89.026861  L 185.94625 -0  L 0 -0  z \" style=\"fill:#ffffff;\" />\n  </g>\n  <g id=\"axes_1\">\n   <g id=\"patch_2\">\n    <path d=\"M 37.54 60.606236  L 177.04 60.606236  L 177.04 0.810236  L 37.54 0.810236  z \" style=\"fill:#ffffff;\" />\n   </g>\n   <g id=\"PathCollection_1\">\n    <defs>\n     <path d=\"M 0 1.118034  C 0.296506 1.118034 0.580908 1.000231 0.790569 0.790569  C 1.000231 0.580908 1.118034 0.296506 1.118034 0  C 1.118034 -0.296506 1.000231 -0.580908 0.790569 -0.790569  C 0.580908 -1.000231 0.296506 -1.118034 0 -1.118034  C -0.296506 -1.118034 -0.580908 -1.000231 -0.790569 -0.790569  C -1.000231 -0.580908 -1.118034 -0.296506 -1.118034 0  C -1.118034 0.296506 -1.000231 0.580908 -0.790569 0.790569  C -0.580908 1.000231 -0.296506 1.118034 0 1.118034  z \" id=\"m0fd0a20ecb\" style=\"stroke:#4575b4;stroke-opacity:0.7;stroke-width:0.3;\" />\n    </defs>\n    <g clip-path=\"url(#p6bb9fbcb03)\">\n     <use style=\"fill:#4575b4;fill-opacity:0.7;stroke:#4575b4;stroke-opacity:0.7;stroke-width:0.3;\" x=\"99.54\" y=\"52.298116\" xlink:href=\"#m0fd0a20ecb\" />\n     <use style=\"fill:#4575b4;fill-opacity:0.7;stroke:#4575b4;stroke-opacity:0.7;stroke-width:0.3;\" x=\"115.04\" y=\"46.99736\" xlink:href=\"#m0fd0a20ecb\" />\n     <use style=\"fill:#4575b4;fill-opacity:0.7;stroke:#4575b4;stroke-opacity:0.7;stroke-width:0.3;\" x=\"115.04\" y=\"49.153941\" xlink:href=\"#m0fd0a20ecb\" />\n     <use style=\"fill:#4575b4;fill-opacity:0.7;stroke:#4575b4;stroke-opacity:0.7;stroke-width:0.3;\" x=\"115.04\" y=\"51.955482\" xlink:href=\"#m0fd0a20ecb\" />\n     <use style=\"fill:#4575b4;fill-opacity:0.7;stroke:#4575b4;stroke-opacity:0.7;stroke-width:0.3;\" x=\"115.04\" y=\"48.186503\" xlink:href=\"#m0fd0a20ecb\" />\n     <use style=\"fill:#4575b4;fill-opacity:0.7;stroke:#4575b4;stroke-opacity:0.7;stroke-width:0.3;\" x=\"130.54\" y=\"43.83303\" xlink:href=\"#m0fd0a20ecb\" />\n     <use style=\"fill:#4575b4;fill-opacity:0.7;stroke:#4575b4;stroke-opacity:0.7;stroke-width:0.3;\" x=\"130.54\" y=\"47.368937\" xlink:href=\"#m0fd0a20ecb\" />\n     <use style=\"fill:#4575b4;fill-opacity:0.7;stroke:#4575b4;stroke-opacity:0.7;stroke-width:0.3;\" x=\"99.54\" y=\"52.298116\" xlink:href=\"#m0fd0a20ecb\" />\n     <use style=\"fill:#4575b4;fill-opacity:0.7;stroke:#4575b4;stroke-opacity:0.7;stroke-width:0.3;\" x=\"115.04\" y=\"56.2888\" xlink:href=\"#m0fd0a20ecb\" />\n     <use style=\"fill:#4575b4;fill-opacity:0.7;stroke:#4575b4;stroke-opacity:0.7;stroke-width:0.3;\" x=\"99.54\" y=\"52.056256\" xlink:href=\"#m0fd0a20ecb\" />\n     <use style=\"fill:#4575b4;fill-opacity:0.7;stroke:#4575b4;stroke-opacity:0.7;stroke-width:0.3;\" x=\"84.04\" y=\"51.411297\" xlink:href=\"#m0fd0a20ecb\" />\n     <use style=\"fill:#4575b4;fill-opacity:0.7;stroke:#4575b4;stroke-opacity:0.7;stroke-width:0.3;\" x=\"99.54\" y=\"52.725401\" xlink:href=\"#m0fd0a20ecb\" />\n     <use style=\"fill:#4575b4;fill-opacity:0.7;stroke:#4575b4;stroke-opacity:0.7;stroke-width:0.3;\" x=\"99.54\" y=\"54.595782\" xlink:href=\"#m0fd0a20ecb\" />\n     <use style=\"fill:#4575b4;fill-opacity:0.7;stroke:#4575b4;stroke-opacity:0.7;stroke-width:0.3;\" x=\"115.04\" y=\"52.015946\" xlink:href=\"#m0fd0a20ecb\" />\n     <use style=\"fill:#4575b4;fill-opacity:0.7;stroke:#4575b4;stroke-opacity:0.7;stroke-width:0.3;\" x=\"99.54\" y=\"53.426794\" xlink:href=\"#m0fd0a20ecb\" />\n     <use style=\"fill:#4575b4;fill-opacity:0.7;stroke:#4575b4;stroke-opacity:0.7;stroke-width:0.3;\" x=\"115.04\" y=\"48.428362\" xlink:href=\"#m0fd0a20ecb\" />\n     <use style=\"fill:#4575b4;fill-opacity:0.7;stroke:#4575b4;stroke-opacity:0.7;stroke-width:0.3;\" x=\"115.04\" y=\"50.04076\" xlink:href=\"#m0fd0a20ecb\" />\n     <use style=\"fill:#4575b4;fill-opacity:0.7;stroke:#4575b4;stroke-opacity:0.7;stroke-width:0.3;\" x=\"99.54\" y=\"52.265868\" xlink:href=\"#m0fd0a20ecb\" />\n     <use style=\"fill:#4575b4;fill-opacity:0.7;stroke:#4575b4;stroke-opacity:0.7;stroke-width:0.3;\" x=\"130.54\" y=\"42.543112\" xlink:href=\"#m0fd0a20ecb\" />\n     <use style=\"fill:#4575b4;fill-opacity:0.7;stroke:#4575b4;stroke-opacity:0.7;stroke-width:0.3;\" x=\"99.54\" y=\"50.322929\" xlink:href=\"#m0fd0a20ecb\" />\n     <use style=\"fill:#4575b4;fill-opacity:0.7;stroke:#4575b4;stroke-opacity:0.7;stroke-width:0.3;\" x=\"99.54\" y=\"53.144625\" xlink:href=\"#m0fd0a20ecb\" />\n     <use style=\"fill:#4575b4;fill-opacity:0.7;stroke:#4575b4;stroke-opacity:0.7;stroke-width:0.3;\" x=\"130.54\" y=\"53.023695\" xlink:href=\"#m0fd0a20ecb\" />\n     <use style=\"fill:#4575b4;fill-opacity:0.7;stroke:#4575b4;stroke-opacity:0.7;stroke-width:0.3;\" x=\"130.54\" y=\"51.330678\" xlink:href=\"#m0fd0a20ecb\" />\n     <use style=\"fill:#4575b4;fill-opacity:0.7;stroke:#4575b4;stroke-opacity:0.7;stroke-width:0.3;\" x=\"130.54\" y=\"50.201999\" xlink:href=\"#m0fd0a20ecb\" />\n     <use style=\"fill:#4575b4;fill-opacity:0.7;stroke:#4575b4;stroke-opacity:0.7;stroke-width:0.3;\" x=\"130.54\" y=\"45.284187\" xlink:href=\"#m0fd0a20ecb\" />\n     <use style=\"fill:#4575b4;fill-opacity:0.7;stroke:#4575b4;stroke-opacity:0.7;stroke-width:0.3;\" x=\"99.54\" y=\"52.338426\" xlink:href=\"#m0fd0a20ecb\" />\n     <use style=\"fill:#4575b4;fill-opacity:0.7;stroke:#4575b4;stroke-opacity:0.7;stroke-width:0.3;\" x=\"130.54\" y=\"47.622164\" xlink:href=\"#m0fd0a20ecb\" />\n     <use style=\"fill:#4575b4;fill-opacity:0.7;stroke:#4575b4;stroke-opacity:0.7;stroke-width:0.3;\" x=\"130.54\" y=\"42.510864\" xlink:href=\"#m0fd0a20ecb\" />\n     <use style=\"fill:#4575b4;fill-opacity:0.7;stroke:#4575b4;stroke-opacity:0.7;stroke-width:0.3;\" x=\"115.04\" y=\"51.814397\" xlink:href=\"#m0fd0a20ecb\" />\n     <use style=\"fill:#4575b4;fill-opacity:0.7;stroke:#4575b4;stroke-opacity:0.7;stroke-width:0.3;\" x=\"99.54\" y=\"53.668654\" xlink:href=\"#m0fd0a20ecb\" />\n     <use style=\"fill:#4575b4;fill-opacity:0.7;stroke:#4575b4;stroke-opacity:0.7;stroke-width:0.3;\" x=\"115.04\" y=\"54.474853\" xlink:href=\"#m0fd0a20ecb\" />\n     <use style=\"fill:#4575b4;fill-opacity:0.7;stroke:#4575b4;stroke-opacity:0.7;stroke-width:0.3;\" x=\"130.54\" y=\"45.687287\" xlink:href=\"#m0fd0a20ecb\" />\n     <use style=\"fill:#4575b4;fill-opacity:0.7;stroke:#4575b4;stroke-opacity:0.7;stroke-width:0.3;\" x=\"84.04\" y=\"53.386484\" xlink:href=\"#m0fd0a20ecb\" />\n     <use style=\"fill:#4575b4;fill-opacity:0.7;stroke:#4575b4;stroke-opacity:0.7;stroke-width:0.3;\" x=\"99.54\" y=\"54.232993\" xlink:href=\"#m0fd0a20ecb\" />\n     <use style=\"fill:#4575b4;fill-opacity:0.7;stroke:#4575b4;stroke-opacity:0.7;stroke-width:0.3;\" x=\"115.04\" y=\"53.958885\" xlink:href=\"#m0fd0a20ecb\" />\n     <use style=\"fill:#4575b4;fill-opacity:0.7;stroke:#4575b4;stroke-opacity:0.7;stroke-width:0.3;\" x=\"115.04\" y=\"49.55704\" xlink:href=\"#m0fd0a20ecb\" />\n     <use style=\"fill:#4575b4;fill-opacity:0.7;stroke:#4575b4;stroke-opacity:0.7;stroke-width:0.3;\" x=\"130.54\" y=\"51.088818\" xlink:href=\"#m0fd0a20ecb\" />\n     <use style=\"fill:#4575b4;fill-opacity:0.7;stroke:#4575b4;stroke-opacity:0.7;stroke-width:0.3;\" x=\"115.04\" y=\"51.733777\" xlink:href=\"#m0fd0a20ecb\" />\n     <use style=\"fill:#4575b4;fill-opacity:0.7;stroke:#4575b4;stroke-opacity:0.7;stroke-width:0.3;\" x=\"130.54\" y=\"46.662787\" xlink:href=\"#m0fd0a20ecb\" />\n     <use style=\"fill:#4575b4;fill-opacity:0.7;stroke:#4575b4;stroke-opacity:0.7;stroke-width:0.3;\" x=\"115.04\" y=\"53.225245\" xlink:href=\"#m0fd0a20ecb\" />\n     <use style=\"fill:#4575b4;fill-opacity:0.7;stroke:#4575b4;stroke-opacity:0.7;stroke-width:0.3;\" x=\"130.54\" y=\"49.153941\" xlink:href=\"#m0fd0a20ecb\" />\n     <use style=\"fill:#4575b4;fill-opacity:0.7;stroke:#4575b4;stroke-opacity:0.7;stroke-width:0.3;\" x=\"115.04\" y=\"51.330678\" xlink:href=\"#m0fd0a20ecb\" />\n     <use style=\"fill:#4575b4;fill-opacity:0.7;stroke:#4575b4;stroke-opacity:0.7;stroke-width:0.3;\" x=\"115.04\" y=\"49.55704\" xlink:href=\"#m0fd0a20ecb\" />\n     <use style=\"fill:#4575b4;fill-opacity:0.7;stroke:#4575b4;stroke-opacity:0.7;stroke-width:0.3;\" x=\"115.04\" y=\"52.217496\" xlink:href=\"#m0fd0a20ecb\" />\n     <use style=\"fill:#4575b4;fill-opacity:0.7;stroke:#4575b4;stroke-opacity:0.7;stroke-width:0.3;\" x=\"115.04\" y=\"53.225245\" xlink:href=\"#m0fd0a20ecb\" />\n     <use style=\"fill:#4575b4;fill-opacity:0.7;stroke:#4575b4;stroke-opacity:0.7;stroke-width:0.3;\" x=\"130.54\" y=\"50.645409\" xlink:href=\"#m0fd0a20ecb\" />\n     <use style=\"fill:#4575b4;fill-opacity:0.7;stroke:#4575b4;stroke-opacity:0.7;stroke-width:0.3;\" x=\"115.04\" y=\"46.171006\" xlink:href=\"#m0fd0a20ecb\" />\n     <use style=\"fill:#4575b4;fill-opacity:0.7;stroke:#4575b4;stroke-opacity:0.7;stroke-width:0.3;\" x=\"130.54\" y=\"49.323243\" xlink:href=\"#m0fd0a20ecb\" />\n     <use style=\"fill:#4575b4;fill-opacity:0.7;stroke:#4575b4;stroke-opacity:0.7;stroke-width:0.3;\" x=\"99.54\" y=\"54.273303\" xlink:href=\"#m0fd0a20ecb\" />\n     <use style=\"fill:#4575b4;fill-opacity:0.7;stroke:#4575b4;stroke-opacity:0.7;stroke-width:0.3;\" x=\"84.04\" y=\"54.797332\" xlink:href=\"#m0fd0a20ecb\" />\n     <use style=\"fill:#4575b4;fill-opacity:0.7;stroke:#4575b4;stroke-opacity:0.7;stroke-width:0.3;\" x=\"99.54\" y=\"58.667086\" xlink:href=\"#m0fd0a20ecb\" />\n     <use style=\"fill:#4575b4;fill-opacity:0.7;stroke:#4575b4;stroke-opacity:0.7;stroke-width:0.3;\" x=\"130.54\" y=\"44.316749\" xlink:href=\"#m0fd0a20ecb\" />\n     <use style=\"fill:#4575b4;fill-opacity:0.7;stroke:#4575b4;stroke-opacity:0.7;stroke-width:0.3;\" x=\"130.54\" y=\"47.372242\" xlink:href=\"#m0fd0a20ecb\" />\n     <use style=\"fill:#4575b4;fill-opacity:0.7;stroke:#4575b4;stroke-opacity:0.7;stroke-width:0.3;\" x=\"99.54\" y=\"56.00663\" xlink:href=\"#m0fd0a20ecb\" />\n     <use style=\"fill:#4575b4;fill-opacity:0.7;stroke:#4575b4;stroke-opacity:0.7;stroke-width:0.3;\" x=\"99.54\" y=\"53.467104\" xlink:href=\"#m0fd0a20ecb\" />\n     <use style=\"fill:#4575b4;fill-opacity:0.7;stroke:#4575b4;stroke-opacity:0.7;stroke-width:0.3;\" x=\"115.04\" y=\"51.794242\" xlink:href=\"#m0fd0a20ecb\" />\n     <use style=\"fill:#4575b4;fill-opacity:0.7;stroke:#4575b4;stroke-opacity:0.7;stroke-width:0.3;\" x=\"84.04\" y=\"53.104315\" xlink:href=\"#m0fd0a20ecb\" />\n     <use style=\"fill:#4575b4;fill-opacity:0.7;stroke:#4575b4;stroke-opacity:0.7;stroke-width:0.3;\" x=\"130.54\" y=\"45.082638\" xlink:href=\"#m0fd0a20ecb\" />\n     <use style=\"fill:#4575b4;fill-opacity:0.7;stroke:#4575b4;stroke-opacity:0.7;stroke-width:0.3;\" x=\"115.04\" y=\"50.806648\" xlink:href=\"#m0fd0a20ecb\" />\n     <use style=\"fill:#4575b4;fill-opacity:0.7;stroke:#4575b4;stroke-opacity:0.7;stroke-width:0.3;\" x=\"99.54\" y=\"52.5432\" xlink:href=\"#m0fd0a20ecb\" />\n     <use style=\"fill:#4575b4;fill-opacity:0.7;stroke:#4575b4;stroke-opacity:0.7;stroke-width:0.3;\" x=\"130.54\" y=\"36.496621\" xlink:href=\"#m0fd0a20ecb\" />\n     <use style=\"fill:#4575b4;fill-opacity:0.7;stroke:#4575b4;stroke-opacity:0.7;stroke-width:0.3;\" x=\"115.04\" y=\"53.950823\" xlink:href=\"#m0fd0a20ecb\" />\n     <use style=\"fill:#4575b4;fill-opacity:0.7;stroke:#4575b4;stroke-opacity:0.7;stroke-width:0.3;\" x=\"115.04\" y=\"54.232993\" xlink:href=\"#m0fd0a20ecb\" />\n     <use style=\"fill:#4575b4;fill-opacity:0.7;stroke:#4575b4;stroke-opacity:0.7;stroke-width:0.3;\" x=\"130.54\" y=\"51.508041\" xlink:href=\"#m0fd0a20ecb\" />\n     <use style=\"fill:#4575b4;fill-opacity:0.7;stroke:#4575b4;stroke-opacity:0.7;stroke-width:0.3;\" x=\"130.54\" y=\"47.549606\" xlink:href=\"#m0fd0a20ecb\" />\n     <use style=\"fill:#4575b4;fill-opacity:0.7;stroke:#4575b4;stroke-opacity:0.7;stroke-width:0.3;\" x=\"99.54\" y=\"50.12138\" xlink:href=\"#m0fd0a20ecb\" />\n     <use style=\"fill:#4575b4;fill-opacity:0.7;stroke:#4575b4;stroke-opacity:0.7;stroke-width:0.3;\" x=\"115.04\" y=\"47.807589\" xlink:href=\"#m0fd0a20ecb\" />\n     <use style=\"fill:#4575b4;fill-opacity:0.7;stroke:#4575b4;stroke-opacity:0.7;stroke-width:0.3;\" x=\"99.54\" y=\"54.797332\" xlink:href=\"#m0fd0a20ecb\" />\n     <use style=\"fill:#4575b4;fill-opacity:0.7;stroke:#4575b4;stroke-opacity:0.7;stroke-width:0.3;\" x=\"115.04\" y=\"42.583422\" xlink:href=\"#m0fd0a20ecb\" />\n     <use style=\"fill:#4575b4;fill-opacity:0.7;stroke:#4575b4;stroke-opacity:0.7;stroke-width:0.3;\" x=\"130.54\" y=\"49.7989\" xlink:href=\"#m0fd0a20ecb\" />\n     <use style=\"fill:#4575b4;fill-opacity:0.7;stroke:#4575b4;stroke-opacity:0.7;stroke-width:0.3;\" x=\"99.54\" y=\"52.378736\" xlink:href=\"#m0fd0a20ecb\" />\n     <use style=\"fill:#4575b4;fill-opacity:0.7;stroke:#4575b4;stroke-opacity:0.7;stroke-width:0.3;\" x=\"115.04\" y=\"49.59735\" xlink:href=\"#m0fd0a20ecb\" />\n     <use style=\"fill:#4575b4;fill-opacity:0.7;stroke:#4575b4;stroke-opacity:0.7;stroke-width:0.3;\" x=\"115.04\" y=\"52.298116\" xlink:href=\"#m0fd0a20ecb\" />\n     <use style=\"fill:#4575b4;fill-opacity:0.7;stroke:#4575b4;stroke-opacity:0.7;stroke-width:0.3;\" x=\"115.04\" y=\"48.589602\" xlink:href=\"#m0fd0a20ecb\" />\n     <use style=\"fill:#4575b4;fill-opacity:0.7;stroke:#4575b4;stroke-opacity:0.7;stroke-width:0.3;\" x=\"115.04\" y=\"44.236129\" xlink:href=\"#m0fd0a20ecb\" />\n     <use style=\"fill:#4575b4;fill-opacity:0.7;stroke:#4575b4;stroke-opacity:0.7;stroke-width:0.3;\" x=\"130.54\" y=\"42.359298\" xlink:href=\"#m0fd0a20ecb\" />\n     <use style=\"fill:#4575b4;fill-opacity:0.7;stroke:#4575b4;stroke-opacity:0.7;stroke-width:0.3;\" x=\"115.04\" y=\"50.927578\" xlink:href=\"#m0fd0a20ecb\" />\n     <use style=\"fill:#4575b4;fill-opacity:0.7;stroke:#4575b4;stroke-opacity:0.7;stroke-width:0.3;\" x=\"99.54\" y=\"51.250058\" xlink:href=\"#m0fd0a20ecb\" />\n     <use style=\"fill:#4575b4;fill-opacity:0.7;stroke:#4575b4;stroke-opacity:0.7;stroke-width:0.3;\" x=\"130.54\" y=\"48.517044\" xlink:href=\"#m0fd0a20ecb\" />\n     <use style=\"fill:#4575b4;fill-opacity:0.7;stroke:#4575b4;stroke-opacity:0.7;stroke-width:0.3;\" x=\"130.54\" y=\"38.391188\" xlink:href=\"#m0fd0a20ecb\" />\n     <use style=\"fill:#4575b4;fill-opacity:0.7;stroke:#4575b4;stroke-opacity:0.7;stroke-width:0.3;\" x=\"99.54\" y=\"55.039192\" xlink:href=\"#m0fd0a20ecb\" />\n     <use style=\"fill:#4575b4;fill-opacity:0.7;stroke:#4575b4;stroke-opacity:0.7;stroke-width:0.3;\" x=\"84.04\" y=\"53.628344\" xlink:href=\"#m0fd0a20ecb\" />\n     <use style=\"fill:#4575b4;fill-opacity:0.7;stroke:#4575b4;stroke-opacity:0.7;stroke-width:0.3;\" x=\"115.04\" y=\"51.975637\" xlink:href=\"#m0fd0a20ecb\" />\n     <use style=\"fill:#4575b4;fill-opacity:0.7;stroke:#4575b4;stroke-opacity:0.7;stroke-width:0.3;\" x=\"130.54\" y=\"43.34931\" xlink:href=\"#m0fd0a20ecb\" />\n     <use style=\"fill:#4575b4;fill-opacity:0.7;stroke:#4575b4;stroke-opacity:0.7;stroke-width:0.3;\" x=\"115.04\" y=\"52.217496\" xlink:href=\"#m0fd0a20ecb\" />\n     <use style=\"fill:#4575b4;fill-opacity:0.7;stroke:#4575b4;stroke-opacity:0.7;stroke-width:0.3;\" x=\"99.54\" y=\"49.59735\" xlink:href=\"#m0fd0a20ecb\" />\n     <use style=\"fill:#4575b4;fill-opacity:0.7;stroke:#4575b4;stroke-opacity:0.7;stroke-width:0.3;\" x=\"130.54\" y=\"42.301252\" xlink:href=\"#m0fd0a20ecb\" />\n     <use style=\"fill:#4575b4;fill-opacity:0.7;stroke:#4575b4;stroke-opacity:0.7;stroke-width:0.3;\" x=\"84.04\" y=\"51.572537\" xlink:href=\"#m0fd0a20ecb\" />\n     <use style=\"fill:#4575b4;fill-opacity:0.7;stroke:#4575b4;stroke-opacity:0.7;stroke-width:0.3;\" x=\"99.54\" y=\"54.958572\" xlink:href=\"#m0fd0a20ecb\" />\n     <use style=\"fill:#4575b4;fill-opacity:0.7;stroke:#4575b4;stroke-opacity:0.7;stroke-width:0.3;\" x=\"99.54\" y=\"51.822459\" xlink:href=\"#m0fd0a20ecb\" />\n     <use style=\"fill:#4575b4;fill-opacity:0.7;stroke:#4575b4;stroke-opacity:0.7;stroke-width:0.3;\" x=\"115.04\" y=\"48.912081\" xlink:href=\"#m0fd0a20ecb\" />\n     <use style=\"fill:#4575b4;fill-opacity:0.7;stroke:#4575b4;stroke-opacity:0.7;stroke-width:0.3;\" x=\"115.04\" y=\"50.282619\" xlink:href=\"#m0fd0a20ecb\" />\n     <use style=\"fill:#4575b4;fill-opacity:0.7;stroke:#4575b4;stroke-opacity:0.7;stroke-width:0.3;\" x=\"115.04\" y=\"52.822145\" xlink:href=\"#m0fd0a20ecb\" />\n     <use style=\"fill:#4575b4;fill-opacity:0.7;stroke:#4575b4;stroke-opacity:0.7;stroke-width:0.3;\" x=\"130.54\" y=\"46.171006\" xlink:href=\"#m0fd0a20ecb\" />\n     <use style=\"fill:#4575b4;fill-opacity:0.7;stroke:#4575b4;stroke-opacity:0.7;stroke-width:0.3;\" x=\"99.54\" y=\"52.136876\" xlink:href=\"#m0fd0a20ecb\" />\n     <use style=\"fill:#4575b4;fill-opacity:0.7;stroke:#4575b4;stroke-opacity:0.7;stroke-width:0.3;\" x=\"115.04\" y=\"49.476421\" xlink:href=\"#m0fd0a20ecb\" />\n     <use style=\"fill:#4575b4;fill-opacity:0.7;stroke:#4575b4;stroke-opacity:0.7;stroke-width:0.3;\" x=\"130.54\" y=\"48.952391\" xlink:href=\"#m0fd0a20ecb\" />\n     <use style=\"fill:#4575b4;fill-opacity:0.7;stroke:#4575b4;stroke-opacity:0.7;stroke-width:0.3;\" x=\"115.04\" y=\"44.558608\" xlink:href=\"#m0fd0a20ecb\" />\n     <use style=\"fill:#4575b4;fill-opacity:0.7;stroke:#4575b4;stroke-opacity:0.7;stroke-width:0.3;\" x=\"53.04\" y=\"60.65751\" xlink:href=\"#m0fd0a20ecb\" />\n     <use style=\"fill:#4575b4;fill-opacity:0.7;stroke:#4575b4;stroke-opacity:0.7;stroke-width:0.3;\" x=\"99.54\" y=\"52.459356\" xlink:href=\"#m0fd0a20ecb\" />\n     <use style=\"fill:#4575b4;fill-opacity:0.7;stroke:#4575b4;stroke-opacity:0.7;stroke-width:0.3;\" x=\"99.54\" y=\"53.596096\" xlink:href=\"#m0fd0a20ecb\" />\n     <use style=\"fill:#4575b4;fill-opacity:0.7;stroke:#4575b4;stroke-opacity:0.7;stroke-width:0.3;\" x=\"115.04\" y=\"53.789584\" xlink:href=\"#m0fd0a20ecb\" />\n     <use style=\"fill:#4575b4;fill-opacity:0.7;stroke:#4575b4;stroke-opacity:0.7;stroke-width:0.3;\" x=\"99.54\" y=\"52.862455\" xlink:href=\"#m0fd0a20ecb\" />\n     <use style=\"fill:#4575b4;fill-opacity:0.7;stroke:#4575b4;stroke-opacity:0.7;stroke-width:0.3;\" x=\"99.54\" y=\"51.814397\" xlink:href=\"#m0fd0a20ecb\" />\n     <use style=\"fill:#4575b4;fill-opacity:0.7;stroke:#4575b4;stroke-opacity:0.7;stroke-width:0.3;\" x=\"115.04\" y=\"47.380304\" xlink:href=\"#m0fd0a20ecb\" />\n     <use style=\"fill:#4575b4;fill-opacity:0.7;stroke:#4575b4;stroke-opacity:0.7;stroke-width:0.3;\" x=\"99.54\" y=\"51.774087\" xlink:href=\"#m0fd0a20ecb\" />\n     <use style=\"fill:#4575b4;fill-opacity:0.7;stroke:#4575b4;stroke-opacity:0.7;stroke-width:0.3;\" x=\"84.04\" y=\"53.789584\" xlink:href=\"#m0fd0a20ecb\" />\n     <use style=\"fill:#4575b4;fill-opacity:0.7;stroke:#4575b4;stroke-opacity:0.7;stroke-width:0.3;\" x=\"130.54\" y=\"44.961708\" xlink:href=\"#m0fd0a20ecb\" />\n     <use style=\"fill:#4575b4;fill-opacity:0.7;stroke:#4575b4;stroke-opacity:0.7;stroke-width:0.3;\" x=\"68.54\" y=\"57.659337\" xlink:href=\"#m0fd0a20ecb\" />\n     <use style=\"fill:#4575b4;fill-opacity:0.7;stroke:#4575b4;stroke-opacity:0.7;stroke-width:0.3;\" x=\"99.54\" y=\"55.281051\" xlink:href=\"#m0fd0a20ecb\" />\n     <use style=\"fill:#4575b4;fill-opacity:0.7;stroke:#4575b4;stroke-opacity:0.7;stroke-width:0.3;\" x=\"84.04\" y=\"57.989879\" xlink:href=\"#m0fd0a20ecb\" />\n     <use style=\"fill:#4575b4;fill-opacity:0.7;stroke:#4575b4;stroke-opacity:0.7;stroke-width:0.3;\" x=\"115.04\" y=\"49.153941\" xlink:href=\"#m0fd0a20ecb\" />\n     <use style=\"fill:#4575b4;fill-opacity:0.7;stroke:#4575b4;stroke-opacity:0.7;stroke-width:0.3;\" x=\"99.54\" y=\"51.653157\" xlink:href=\"#m0fd0a20ecb\" />\n     <use style=\"fill:#4575b4;fill-opacity:0.7;stroke:#4575b4;stroke-opacity:0.7;stroke-width:0.3;\" x=\"99.54\" y=\"52.217496\" xlink:href=\"#m0fd0a20ecb\" />\n     <use style=\"fill:#4575b4;fill-opacity:0.7;stroke:#4575b4;stroke-opacity:0.7;stroke-width:0.3;\" x=\"130.54\" y=\"50.940881\" xlink:href=\"#m0fd0a20ecb\" />\n     <use style=\"fill:#4575b4;fill-opacity:0.7;stroke:#4575b4;stroke-opacity:0.7;stroke-width:0.3;\" x=\"99.54\" y=\"51.814397\" xlink:href=\"#m0fd0a20ecb\" />\n     <use style=\"fill:#4575b4;fill-opacity:0.7;stroke:#4575b4;stroke-opacity:0.7;stroke-width:0.3;\" x=\"130.54\" y=\"48.186503\" xlink:href=\"#m0fd0a20ecb\" />\n     <use style=\"fill:#4575b4;fill-opacity:0.7;stroke:#4575b4;stroke-opacity:0.7;stroke-width:0.3;\" x=\"99.54\" y=\"51.653157\" xlink:href=\"#m0fd0a20ecb\" />\n     <use style=\"fill:#4575b4;fill-opacity:0.7;stroke:#4575b4;stroke-opacity:0.7;stroke-width:0.3;\" x=\"99.54\" y=\"53.225245\" xlink:href=\"#m0fd0a20ecb\" />\n     <use style=\"fill:#4575b4;fill-opacity:0.7;stroke:#4575b4;stroke-opacity:0.7;stroke-width:0.3;\" x=\"99.54\" y=\"51.814397\" xlink:href=\"#m0fd0a20ecb\" />\n     <use style=\"fill:#4575b4;fill-opacity:0.7;stroke:#4575b4;stroke-opacity:0.7;stroke-width:0.3;\" x=\"115.04\" y=\"53.507414\" xlink:href=\"#m0fd0a20ecb\" />\n     <use style=\"fill:#4575b4;fill-opacity:0.7;stroke:#4575b4;stroke-opacity:0.7;stroke-width:0.3;\" x=\"130.54\" y=\"48.267122\" xlink:href=\"#m0fd0a20ecb\" />\n     <use style=\"fill:#4575b4;fill-opacity:0.7;stroke:#4575b4;stroke-opacity:0.7;stroke-width:0.3;\" x=\"99.54\" y=\"53.064005\" xlink:href=\"#m0fd0a20ecb\" />\n     <use style=\"fill:#4575b4;fill-opacity:0.7;stroke:#4575b4;stroke-opacity:0.7;stroke-width:0.3;\" x=\"99.54\" y=\"51.935327\" xlink:href=\"#m0fd0a20ecb\" />\n     <use style=\"fill:#4575b4;fill-opacity:0.7;stroke:#4575b4;stroke-opacity:0.7;stroke-width:0.3;\" x=\"130.54\" y=\"45.767907\" xlink:href=\"#m0fd0a20ecb\" />\n     <use style=\"fill:#4575b4;fill-opacity:0.7;stroke:#4575b4;stroke-opacity:0.7;stroke-width:0.3;\" x=\"130.54\" y=\"41.333814\" xlink:href=\"#m0fd0a20ecb\" />\n     <use style=\"fill:#4575b4;fill-opacity:0.7;stroke:#4575b4;stroke-opacity:0.7;stroke-width:0.3;\" x=\"115.04\" y=\"52.862455\" xlink:href=\"#m0fd0a20ecb\" />\n     <use style=\"fill:#4575b4;fill-opacity:0.7;stroke:#4575b4;stroke-opacity:0.7;stroke-width:0.3;\" x=\"84.04\" y=\"55.21849\" xlink:href=\"#m0fd0a20ecb\" />\n     <use style=\"fill:#4575b4;fill-opacity:0.7;stroke:#4575b4;stroke-opacity:0.7;stroke-width:0.3;\" x=\"84.04\" y=\"54.938417\" xlink:href=\"#m0fd0a20ecb\" />\n     <use style=\"fill:#4575b4;fill-opacity:0.7;stroke:#4575b4;stroke-opacity:0.7;stroke-width:0.3;\" x=\"99.54\" y=\"54.837642\" xlink:href=\"#m0fd0a20ecb\" />\n     <use style=\"fill:#4575b4;fill-opacity:0.7;stroke:#4575b4;stroke-opacity:0.7;stroke-width:0.3;\" x=\"130.54\" y=\"40.930714\" xlink:href=\"#m0fd0a20ecb\" />\n     <use style=\"fill:#4575b4;fill-opacity:0.7;stroke:#4575b4;stroke-opacity:0.7;stroke-width:0.3;\" x=\"130.54\" y=\"46.340308\" xlink:href=\"#m0fd0a20ecb\" />\n     <use style=\"fill:#4575b4;fill-opacity:0.7;stroke:#4575b4;stroke-opacity:0.7;stroke-width:0.3;\" x=\"68.54\" y=\"56.450039\" xlink:href=\"#m0fd0a20ecb\" />\n     <use style=\"fill:#4575b4;fill-opacity:0.7;stroke:#4575b4;stroke-opacity:0.7;stroke-width:0.3;\" x=\"115.04\" y=\"49.87952\" xlink:href=\"#m0fd0a20ecb\" />\n     <use style=\"fill:#4575b4;fill-opacity:0.7;stroke:#4575b4;stroke-opacity:0.7;stroke-width:0.3;\" x=\"99.54\" y=\"52.620596\" xlink:href=\"#m0fd0a20ecb\" />\n     <use style=\"fill:#4575b4;fill-opacity:0.7;stroke:#4575b4;stroke-opacity:0.7;stroke-width:0.3;\" x=\"99.54\" y=\"50.161689\" xlink:href=\"#m0fd0a20ecb\" />\n     <use style=\"fill:#4575b4;fill-opacity:0.7;stroke:#4575b4;stroke-opacity:0.7;stroke-width:0.3;\" x=\"130.54\" y=\"50.371301\" xlink:href=\"#m0fd0a20ecb\" />\n     <use style=\"fill:#4575b4;fill-opacity:0.7;stroke:#4575b4;stroke-opacity:0.7;stroke-width:0.3;\" x=\"130.54\" y=\"46.977205\" xlink:href=\"#m0fd0a20ecb\" />\n     <use style=\"fill:#4575b4;fill-opacity:0.7;stroke:#4575b4;stroke-opacity:0.7;stroke-width:0.3;\" x=\"115.04\" y=\"53.910513\" xlink:href=\"#m0fd0a20ecb\" />\n     <use style=\"fill:#4575b4;fill-opacity:0.7;stroke:#4575b4;stroke-opacity:0.7;stroke-width:0.3;\" x=\"115.04\" y=\"49.315181\" xlink:href=\"#m0fd0a20ecb\" />\n     <use style=\"fill:#4575b4;fill-opacity:0.7;stroke:#4575b4;stroke-opacity:0.7;stroke-width:0.3;\" x=\"115.04\" y=\"49.355491\" xlink:href=\"#m0fd0a20ecb\" />\n     <use style=\"fill:#4575b4;fill-opacity:0.7;stroke:#4575b4;stroke-opacity:0.7;stroke-width:0.3;\" x=\"99.54\" y=\"49.83921\" xlink:href=\"#m0fd0a20ecb\" />\n     <use style=\"fill:#4575b4;fill-opacity:0.7;stroke:#4575b4;stroke-opacity:0.7;stroke-width:0.3;\" x=\"99.54\" y=\"53.991133\" xlink:href=\"#m0fd0a20ecb\" />\n     <use style=\"fill:#4575b4;fill-opacity:0.7;stroke:#4575b4;stroke-opacity:0.7;stroke-width:0.3;\" x=\"84.04\" y=\"55.184307\" xlink:href=\"#m0fd0a20ecb\" />\n     <use style=\"fill:#4575b4;fill-opacity:0.7;stroke:#4575b4;stroke-opacity:0.7;stroke-width:0.3;\" x=\"130.54\" y=\"45.405117\" xlink:href=\"#m0fd0a20ecb\" />\n     <use style=\"fill:#4575b4;fill-opacity:0.7;stroke:#4575b4;stroke-opacity:0.7;stroke-width:0.3;\" x=\"99.54\" y=\"53.708964\" xlink:href=\"#m0fd0a20ecb\" />\n     <use style=\"fill:#4575b4;fill-opacity:0.7;stroke:#4575b4;stroke-opacity:0.7;stroke-width:0.3;\" x=\"99.54\" y=\"53.426794\" xlink:href=\"#m0fd0a20ecb\" />\n     <use style=\"fill:#4575b4;fill-opacity:0.7;stroke:#4575b4;stroke-opacity:0.7;stroke-width:0.3;\" x=\"99.54\" y=\"51.612847\" xlink:href=\"#m0fd0a20ecb\" />\n     <use style=\"fill:#4575b4;fill-opacity:0.7;stroke:#4575b4;stroke-opacity:0.7;stroke-width:0.3;\" x=\"115.04\" y=\"49.057197\" xlink:href=\"#m0fd0a20ecb\" />\n     <use style=\"fill:#4575b4;fill-opacity:0.7;stroke:#4575b4;stroke-opacity:0.7;stroke-width:0.3;\" x=\"99.54\" y=\"53.023695\" xlink:href=\"#m0fd0a20ecb\" />\n     <use style=\"fill:#4575b4;fill-opacity:0.7;stroke:#4575b4;stroke-opacity:0.7;stroke-width:0.3;\" x=\"115.04\" y=\"50.443859\" xlink:href=\"#m0fd0a20ecb\" />\n     <use style=\"fill:#4575b4;fill-opacity:0.7;stroke:#4575b4;stroke-opacity:0.7;stroke-width:0.3;\" x=\"130.54\" y=\"46.815965\" xlink:href=\"#m0fd0a20ecb\" />\n     <use style=\"fill:#4575b4;fill-opacity:0.7;stroke:#4575b4;stroke-opacity:0.7;stroke-width:0.3;\" x=\"115.04\" y=\"50.766338\" xlink:href=\"#m0fd0a20ecb\" />\n     <use style=\"fill:#4575b4;fill-opacity:0.7;stroke:#4575b4;stroke-opacity:0.7;stroke-width:0.3;\" x=\"130.54\" y=\"45.042328\" xlink:href=\"#m0fd0a20ecb\" />\n     <use style=\"fill:#4575b4;fill-opacity:0.7;stroke:#4575b4;stroke-opacity:0.7;stroke-width:0.3;\" x=\"115.04\" y=\"51.814397\" xlink:href=\"#m0fd0a20ecb\" />\n     <use style=\"fill:#4575b4;fill-opacity:0.7;stroke:#4575b4;stroke-opacity:0.7;stroke-width:0.3;\" x=\"130.54\" y=\"41.172574\" xlink:href=\"#m0fd0a20ecb\" />\n     <use style=\"fill:#4575b4;fill-opacity:0.7;stroke:#4575b4;stroke-opacity:0.7;stroke-width:0.3;\" x=\"84.04\" y=\"56.974069\" xlink:href=\"#m0fd0a20ecb\" />\n     <use style=\"fill:#4575b4;fill-opacity:0.7;stroke:#4575b4;stroke-opacity:0.7;stroke-width:0.3;\" x=\"115.04\" y=\"50.645409\" xlink:href=\"#m0fd0a20ecb\" />\n     <use style=\"fill:#4575b4;fill-opacity:0.7;stroke:#4575b4;stroke-opacity:0.7;stroke-width:0.3;\" x=\"99.54\" y=\"52.298116\" xlink:href=\"#m0fd0a20ecb\" />\n     <use style=\"fill:#4575b4;fill-opacity:0.7;stroke:#4575b4;stroke-opacity:0.7;stroke-width:0.3;\" x=\"84.04\" y=\"56.853139\" xlink:href=\"#m0fd0a20ecb\" />\n     <use style=\"fill:#4575b4;fill-opacity:0.7;stroke:#4575b4;stroke-opacity:0.7;stroke-width:0.3;\" x=\"115.04\" y=\"54.877952\" xlink:href=\"#m0fd0a20ecb\" />\n     <use style=\"fill:#4575b4;fill-opacity:0.7;stroke:#4575b4;stroke-opacity:0.7;stroke-width:0.3;\" x=\"99.54\" y=\"52.298116\" xlink:href=\"#m0fd0a20ecb\" />\n     <use style=\"fill:#4575b4;fill-opacity:0.7;stroke:#4575b4;stroke-opacity:0.7;stroke-width:0.3;\" x=\"99.54\" y=\"49.7989\" xlink:href=\"#m0fd0a20ecb\" />\n     <use style=\"fill:#4575b4;fill-opacity:0.7;stroke:#4575b4;stroke-opacity:0.7;stroke-width:0.3;\" x=\"115.04\" y=\"48.871772\" xlink:href=\"#m0fd0a20ecb\" />\n     <use style=\"fill:#4575b4;fill-opacity:0.7;stroke:#4575b4;stroke-opacity:0.7;stroke-width:0.3;\" x=\"130.54\" y=\"48.105883\" xlink:href=\"#m0fd0a20ecb\" />\n     <use style=\"fill:#4575b4;fill-opacity:0.7;stroke:#4575b4;stroke-opacity:0.7;stroke-width:0.3;\" x=\"99.54\" y=\"52.217496\" xlink:href=\"#m0fd0a20ecb\" />\n     <use style=\"fill:#4575b4;fill-opacity:0.7;stroke:#4575b4;stroke-opacity:0.7;stroke-width:0.3;\" x=\"130.54\" y=\"44.074889\" xlink:href=\"#m0fd0a20ecb\" />\n     <use style=\"fill:#4575b4;fill-opacity:0.7;stroke:#4575b4;stroke-opacity:0.7;stroke-width:0.3;\" x=\"84.04\" y=\"52.8423\" xlink:href=\"#m0fd0a20ecb\" />\n     <use style=\"fill:#4575b4;fill-opacity:0.7;stroke:#4575b4;stroke-opacity:0.7;stroke-width:0.3;\" x=\"115.04\" y=\"56.2888\" xlink:href=\"#m0fd0a20ecb\" />\n     <use style=\"fill:#4575b4;fill-opacity:0.7;stroke:#4575b4;stroke-opacity:0.7;stroke-width:0.3;\" x=\"99.54\" y=\"52.217496\" xlink:href=\"#m0fd0a20ecb\" />\n     <use style=\"fill:#4575b4;fill-opacity:0.7;stroke:#4575b4;stroke-opacity:0.7;stroke-width:0.3;\" x=\"68.54\" y=\"57.336858\" xlink:href=\"#m0fd0a20ecb\" />\n     <use style=\"fill:#4575b4;fill-opacity:0.7;stroke:#4575b4;stroke-opacity:0.7;stroke-width:0.3;\" x=\"99.54\" y=\"53.628344\" xlink:href=\"#m0fd0a20ecb\" />\n     <use style=\"fill:#4575b4;fill-opacity:0.7;stroke:#4575b4;stroke-opacity:0.7;stroke-width:0.3;\" x=\"115.04\" y=\"48.291308\" xlink:href=\"#m0fd0a20ecb\" />\n     <use style=\"fill:#4575b4;fill-opacity:0.7;stroke:#4575b4;stroke-opacity:0.7;stroke-width:0.3;\" x=\"99.54\" y=\"50.766338\" xlink:href=\"#m0fd0a20ecb\" />\n     <use style=\"fill:#4575b4;fill-opacity:0.7;stroke:#4575b4;stroke-opacity:0.7;stroke-width:0.3;\" x=\"115.04\" y=\"52.620596\" xlink:href=\"#m0fd0a20ecb\" />\n     <use style=\"fill:#4575b4;fill-opacity:0.7;stroke:#4575b4;stroke-opacity:0.7;stroke-width:0.3;\" x=\"115.04\" y=\"46.815965\" xlink:href=\"#m0fd0a20ecb\" />\n     <use style=\"fill:#4575b4;fill-opacity:0.7;stroke:#4575b4;stroke-opacity:0.7;stroke-width:0.3;\" x=\"115.04\" y=\"42.744661\" xlink:href=\"#m0fd0a20ecb\" />\n     <use style=\"fill:#4575b4;fill-opacity:0.7;stroke:#4575b4;stroke-opacity:0.7;stroke-width:0.3;\" x=\"84.04\" y=\"60.690645\" xlink:href=\"#m0fd0a20ecb\" />\n     <use style=\"fill:#4575b4;fill-opacity:0.7;stroke:#4575b4;stroke-opacity:0.7;stroke-width:0.3;\" x=\"130.54\" y=\"48.267122\" xlink:href=\"#m0fd0a20ecb\" />\n     <use style=\"fill:#4575b4;fill-opacity:0.7;stroke:#4575b4;stroke-opacity:0.7;stroke-width:0.3;\" x=\"84.04\" y=\"54.555472\" xlink:href=\"#m0fd0a20ecb\" />\n     <use style=\"fill:#4575b4;fill-opacity:0.7;stroke:#4575b4;stroke-opacity:0.7;stroke-width:0.3;\" x=\"115.04\" y=\"46.171006\" xlink:href=\"#m0fd0a20ecb\" />\n     <use style=\"fill:#4575b4;fill-opacity:0.7;stroke:#4575b4;stroke-opacity:0.7;stroke-width:0.3;\" x=\"84.04\" y=\"42.865591\" xlink:href=\"#m0fd0a20ecb\" />\n     <use style=\"fill:#4575b4;fill-opacity:0.7;stroke:#4575b4;stroke-opacity:0.7;stroke-width:0.3;\" x=\"84.04\" y=\"57.981817\" xlink:href=\"#m0fd0a20ecb\" />\n     <use style=\"fill:#4575b4;fill-opacity:0.7;stroke:#4575b4;stroke-opacity:0.7;stroke-width:0.3;\" x=\"115.04\" y=\"49.91983\" xlink:href=\"#m0fd0a20ecb\" />\n     <use style=\"fill:#4575b4;fill-opacity:0.7;stroke:#4575b4;stroke-opacity:0.7;stroke-width:0.3;\" x=\"115.04\" y=\"51.290368\" xlink:href=\"#m0fd0a20ecb\" />\n     <use style=\"fill:#4575b4;fill-opacity:0.7;stroke:#4575b4;stroke-opacity:0.7;stroke-width:0.3;\" x=\"99.54\" y=\"51.008198\" xlink:href=\"#m0fd0a20ecb\" />\n     <use style=\"fill:#4575b4;fill-opacity:0.7;stroke:#4575b4;stroke-opacity:0.7;stroke-width:0.3;\" x=\"99.54\" y=\"53.507414\" xlink:href=\"#m0fd0a20ecb\" />\n     <use style=\"fill:#4575b4;fill-opacity:0.7;stroke:#4575b4;stroke-opacity:0.7;stroke-width:0.3;\" x=\"130.54\" y=\"40.930714\" xlink:href=\"#m0fd0a20ecb\" />\n     <use style=\"fill:#4575b4;fill-opacity:0.7;stroke:#4575b4;stroke-opacity:0.7;stroke-width:0.3;\" x=\"115.04\" y=\"52.217496\" xlink:href=\"#m0fd0a20ecb\" />\n     <use style=\"fill:#4575b4;fill-opacity:0.7;stroke:#4575b4;stroke-opacity:0.7;stroke-width:0.3;\" x=\"99.54\" y=\"52.459356\" xlink:href=\"#m0fd0a20ecb\" />\n     <use style=\"fill:#4575b4;fill-opacity:0.7;stroke:#4575b4;stroke-opacity:0.7;stroke-width:0.3;\" x=\"99.54\" y=\"45.929146\" xlink:href=\"#m0fd0a20ecb\" />\n     <use style=\"fill:#4575b4;fill-opacity:0.7;stroke:#4575b4;stroke-opacity:0.7;stroke-width:0.3;\" x=\"99.54\" y=\"51.814397\" xlink:href=\"#m0fd0a20ecb\" />\n     <use style=\"fill:#4575b4;fill-opacity:0.7;stroke:#4575b4;stroke-opacity:0.7;stroke-width:0.3;\" x=\"115.04\" y=\"46.574105\" xlink:href=\"#m0fd0a20ecb\" />\n     <use style=\"fill:#4575b4;fill-opacity:0.7;stroke:#4575b4;stroke-opacity:0.7;stroke-width:0.3;\" x=\"130.54\" y=\"41.583735\" xlink:href=\"#m0fd0a20ecb\" />\n     <use style=\"fill:#4575b4;fill-opacity:0.7;stroke:#4575b4;stroke-opacity:0.7;stroke-width:0.3;\" x=\"130.54\" y=\"49.7989\" xlink:href=\"#m0fd0a20ecb\" />\n     <use style=\"fill:#4575b4;fill-opacity:0.7;stroke:#4575b4;stroke-opacity:0.7;stroke-width:0.3;\" x=\"115.04\" y=\"50.685719\" xlink:href=\"#m0fd0a20ecb\" />\n     <use style=\"fill:#4575b4;fill-opacity:0.7;stroke:#4575b4;stroke-opacity:0.7;stroke-width:0.3;\" x=\"99.54\" y=\"52.943075\" xlink:href=\"#m0fd0a20ecb\" />\n     <use style=\"fill:#4575b4;fill-opacity:0.7;stroke:#4575b4;stroke-opacity:0.7;stroke-width:0.3;\" x=\"130.54\" y=\"47.138444\" xlink:href=\"#m0fd0a20ecb\" />\n     <use style=\"fill:#4575b4;fill-opacity:0.7;stroke:#4575b4;stroke-opacity:0.7;stroke-width:0.3;\" x=\"115.04\" y=\"48.589602\" xlink:href=\"#m0fd0a20ecb\" />\n     <use style=\"fill:#4575b4;fill-opacity:0.7;stroke:#4575b4;stroke-opacity:0.7;stroke-width:0.3;\" x=\"130.54\" y=\"43.34931\" xlink:href=\"#m0fd0a20ecb\" />\n     <use style=\"fill:#4575b4;fill-opacity:0.7;stroke:#4575b4;stroke-opacity:0.7;stroke-width:0.3;\" x=\"115.04\" y=\"47.944643\" xlink:href=\"#m0fd0a20ecb\" />\n     <use style=\"fill:#4575b4;fill-opacity:0.7;stroke:#4575b4;stroke-opacity:0.7;stroke-width:0.3;\" x=\"99.54\" y=\"54.837642\" xlink:href=\"#m0fd0a20ecb\" />\n     <use style=\"fill:#4575b4;fill-opacity:0.7;stroke:#4575b4;stroke-opacity:0.7;stroke-width:0.3;\" x=\"115.04\" y=\"55.119812\" xlink:href=\"#m0fd0a20ecb\" />\n     <use style=\"fill:#4575b4;fill-opacity:0.7;stroke:#4575b4;stroke-opacity:0.7;stroke-width:0.3;\" x=\"130.54\" y=\"46.574105\" xlink:href=\"#m0fd0a20ecb\" />\n     <use style=\"fill:#4575b4;fill-opacity:0.7;stroke:#4575b4;stroke-opacity:0.7;stroke-width:0.3;\" x=\"115.04\" y=\"52.419046\" xlink:href=\"#m0fd0a20ecb\" />\n     <use style=\"fill:#4575b4;fill-opacity:0.7;stroke:#4575b4;stroke-opacity:0.7;stroke-width:0.3;\" x=\"115.04\" y=\"49.67797\" xlink:href=\"#m0fd0a20ecb\" />\n     <use style=\"fill:#4575b4;fill-opacity:0.7;stroke:#4575b4;stroke-opacity:0.7;stroke-width:0.3;\" x=\"99.54\" y=\"53.265554\" xlink:href=\"#m0fd0a20ecb\" />\n     <use style=\"fill:#4575b4;fill-opacity:0.7;stroke:#4575b4;stroke-opacity:0.7;stroke-width:0.3;\" x=\"115.04\" y=\"52.298116\" xlink:href=\"#m0fd0a20ecb\" />\n     <use style=\"fill:#4575b4;fill-opacity:0.7;stroke:#4575b4;stroke-opacity:0.7;stroke-width:0.3;\" x=\"130.54\" y=\"50.04076\" xlink:href=\"#m0fd0a20ecb\" />\n     <use style=\"fill:#4575b4;fill-opacity:0.7;stroke:#4575b4;stroke-opacity:0.7;stroke-width:0.3;\" x=\"84.04\" y=\"54.805394\" xlink:href=\"#m0fd0a20ecb\" />\n     <use style=\"fill:#4575b4;fill-opacity:0.7;stroke:#4575b4;stroke-opacity:0.7;stroke-width:0.3;\" x=\"115.04\" y=\"51.008198\" xlink:href=\"#m0fd0a20ecb\" />\n     <use style=\"fill:#4575b4;fill-opacity:0.7;stroke:#4575b4;stroke-opacity:0.7;stroke-width:0.3;\" x=\"115.04\" y=\"53.064005\" xlink:href=\"#m0fd0a20ecb\" />\n     <use style=\"fill:#4575b4;fill-opacity:0.7;stroke:#4575b4;stroke-opacity:0.7;stroke-width:0.3;\" x=\"130.54\" y=\"49.91983\" xlink:href=\"#m0fd0a20ecb\" />\n     <use style=\"fill:#4575b4;fill-opacity:0.7;stroke:#4575b4;stroke-opacity:0.7;stroke-width:0.3;\" x=\"99.54\" y=\"54.071753\" xlink:href=\"#m0fd0a20ecb\" />\n     <use style=\"fill:#4575b4;fill-opacity:0.7;stroke:#4575b4;stroke-opacity:0.7;stroke-width:0.3;\" x=\"130.54\" y=\"45.364807\" xlink:href=\"#m0fd0a20ecb\" />\n     <use style=\"fill:#4575b4;fill-opacity:0.7;stroke:#4575b4;stroke-opacity:0.7;stroke-width:0.3;\" x=\"130.54\" y=\"49.019709\" xlink:href=\"#m0fd0a20ecb\" />\n     <use style=\"fill:#4575b4;fill-opacity:0.7;stroke:#4575b4;stroke-opacity:0.7;stroke-width:0.3;\" x=\"99.54\" y=\"54.112063\" xlink:href=\"#m0fd0a20ecb\" />\n     <use style=\"fill:#4575b4;fill-opacity:0.7;stroke:#4575b4;stroke-opacity:0.7;stroke-width:0.3;\" x=\"115.04\" y=\"49.000763\" xlink:href=\"#m0fd0a20ecb\" />\n     <use style=\"fill:#4575b4;fill-opacity:0.7;stroke:#4575b4;stroke-opacity:0.7;stroke-width:0.3;\" x=\"84.04\" y=\"55.603531\" xlink:href=\"#m0fd0a20ecb\" />\n     <use style=\"fill:#4575b4;fill-opacity:0.7;stroke:#4575b4;stroke-opacity:0.7;stroke-width:0.3;\" x=\"99.54\" y=\"52.910827\" xlink:href=\"#m0fd0a20ecb\" />\n     <use style=\"fill:#4575b4;fill-opacity:0.7;stroke:#4575b4;stroke-opacity:0.7;stroke-width:0.3;\" x=\"99.54\" y=\"52.620596\" xlink:href=\"#m0fd0a20ecb\" />\n     <use style=\"fill:#4575b4;fill-opacity:0.7;stroke:#4575b4;stroke-opacity:0.7;stroke-width:0.3;\" x=\"130.54\" y=\"53.031757\" xlink:href=\"#m0fd0a20ecb\" />\n     <use style=\"fill:#4575b4;fill-opacity:0.7;stroke:#4575b4;stroke-opacity:0.7;stroke-width:0.3;\" x=\"99.54\" y=\"52.620596\" xlink:href=\"#m0fd0a20ecb\" />\n     <use style=\"fill:#4575b4;fill-opacity:0.7;stroke:#4575b4;stroke-opacity:0.7;stroke-width:0.3;\" x=\"130.54\" y=\"48.992701\" xlink:href=\"#m0fd0a20ecb\" />\n     <use style=\"fill:#4575b4;fill-opacity:0.7;stroke:#4575b4;stroke-opacity:0.7;stroke-width:0.3;\" x=\"115.04\" y=\"49.476421\" xlink:href=\"#m0fd0a20ecb\" />\n     <use style=\"fill:#4575b4;fill-opacity:0.7;stroke:#4575b4;stroke-opacity:0.7;stroke-width:0.3;\" x=\"84.04\" y=\"55.865545\" xlink:href=\"#m0fd0a20ecb\" />\n     <use style=\"fill:#4575b4;fill-opacity:0.7;stroke:#4575b4;stroke-opacity:0.7;stroke-width:0.3;\" x=\"68.54\" y=\"58.102747\" xlink:href=\"#m0fd0a20ecb\" />\n     <use style=\"fill:#4575b4;fill-opacity:0.7;stroke:#4575b4;stroke-opacity:0.7;stroke-width:0.3;\" x=\"115.04\" y=\"49.605412\" xlink:href=\"#m0fd0a20ecb\" />\n     <use style=\"fill:#4575b4;fill-opacity:0.7;stroke:#4575b4;stroke-opacity:0.7;stroke-width:0.3;\" x=\"115.04\" y=\"48.105883\" xlink:href=\"#m0fd0a20ecb\" />\n     <use style=\"fill:#4575b4;fill-opacity:0.7;stroke:#4575b4;stroke-opacity:0.7;stroke-width:0.3;\" x=\"99.54\" y=\"55.579345\" xlink:href=\"#m0fd0a20ecb\" />\n     <use style=\"fill:#4575b4;fill-opacity:0.7;stroke:#4575b4;stroke-opacity:0.7;stroke-width:0.3;\" x=\"115.04\" y=\"49.323243\" xlink:href=\"#m0fd0a20ecb\" />\n     <use style=\"fill:#4575b4;fill-opacity:0.7;stroke:#4575b4;stroke-opacity:0.7;stroke-width:0.3;\" x=\"130.54\" y=\"48.186503\" xlink:href=\"#m0fd0a20ecb\" />\n     <use style=\"fill:#4575b4;fill-opacity:0.7;stroke:#4575b4;stroke-opacity:0.7;stroke-width:0.3;\" x=\"99.54\" y=\"51.895017\" xlink:href=\"#m0fd0a20ecb\" />\n     <use style=\"fill:#4575b4;fill-opacity:0.7;stroke:#4575b4;stroke-opacity:0.7;stroke-width:0.3;\" x=\"130.54\" y=\"49.645722\" xlink:href=\"#m0fd0a20ecb\" />\n     <use style=\"fill:#4575b4;fill-opacity:0.7;stroke:#4575b4;stroke-opacity:0.7;stroke-width:0.3;\" x=\"84.04\" y=\"55.442291\" xlink:href=\"#m0fd0a20ecb\" />\n     <use style=\"fill:#4575b4;fill-opacity:0.7;stroke:#4575b4;stroke-opacity:0.7;stroke-width:0.3;\" x=\"130.54\" y=\"41.656293\" xlink:href=\"#m0fd0a20ecb\" />\n     <use style=\"fill:#4575b4;fill-opacity:0.7;stroke:#4575b4;stroke-opacity:0.7;stroke-width:0.3;\" x=\"99.54\" y=\"52.467015\" xlink:href=\"#m0fd0a20ecb\" />\n     <use style=\"fill:#4575b4;fill-opacity:0.7;stroke:#4575b4;stroke-opacity:0.7;stroke-width:0.3;\" x=\"99.54\" y=\"51.733777\" xlink:href=\"#m0fd0a20ecb\" />\n     <use style=\"fill:#4575b4;fill-opacity:0.7;stroke:#4575b4;stroke-opacity:0.7;stroke-width:0.3;\" x=\"115.04\" y=\"49.96014\" xlink:href=\"#m0fd0a20ecb\" />\n     <use style=\"fill:#4575b4;fill-opacity:0.7;stroke:#4575b4;stroke-opacity:0.7;stroke-width:0.3;\" x=\"130.54\" y=\"47.501234\" xlink:href=\"#m0fd0a20ecb\" />\n     <use style=\"fill:#4575b4;fill-opacity:0.7;stroke:#4575b4;stroke-opacity:0.7;stroke-width:0.3;\" x=\"115.04\" y=\"51.048508\" xlink:href=\"#m0fd0a20ecb\" />\n     <use style=\"fill:#4575b4;fill-opacity:0.7;stroke:#4575b4;stroke-opacity:0.7;stroke-width:0.3;\" x=\"130.54\" y=\"44.155509\" xlink:href=\"#m0fd0a20ecb\" />\n     <use style=\"fill:#4575b4;fill-opacity:0.7;stroke:#4575b4;stroke-opacity:0.7;stroke-width:0.3;\" x=\"99.54\" y=\"55.442291\" xlink:href=\"#m0fd0a20ecb\" />\n     <use style=\"fill:#4575b4;fill-opacity:0.7;stroke:#4575b4;stroke-opacity:0.7;stroke-width:0.3;\" x=\"99.54\" y=\"52.781835\" xlink:href=\"#m0fd0a20ecb\" />\n     <use style=\"fill:#4575b4;fill-opacity:0.7;stroke:#4575b4;stroke-opacity:0.7;stroke-width:0.3;\" x=\"115.04\" y=\"51.008198\" xlink:href=\"#m0fd0a20ecb\" />\n     <use style=\"fill:#4575b4;fill-opacity:0.7;stroke:#4575b4;stroke-opacity:0.7;stroke-width:0.3;\" x=\"130.54\" y=\"49.7989\" xlink:href=\"#m0fd0a20ecb\" />\n     <use style=\"fill:#4575b4;fill-opacity:0.7;stroke:#4575b4;stroke-opacity:0.7;stroke-width:0.3;\" x=\"99.54\" y=\"52.822145\" xlink:href=\"#m0fd0a20ecb\" />\n     <use style=\"fill:#4575b4;fill-opacity:0.7;stroke:#4575b4;stroke-opacity:0.7;stroke-width:0.3;\" x=\"115.04\" y=\"47.339994\" xlink:href=\"#m0fd0a20ecb\" />\n     <use style=\"fill:#4575b4;fill-opacity:0.7;stroke:#4575b4;stroke-opacity:0.7;stroke-width:0.3;\" x=\"115.04\" y=\"50.766338\" xlink:href=\"#m0fd0a20ecb\" />\n     <use style=\"fill:#4575b4;fill-opacity:0.7;stroke:#4575b4;stroke-opacity:0.7;stroke-width:0.3;\" x=\"84.04\" y=\"55.442291\" xlink:href=\"#m0fd0a20ecb\" />\n     <use style=\"fill:#4575b4;fill-opacity:0.7;stroke:#4575b4;stroke-opacity:0.7;stroke-width:0.3;\" x=\"130.54\" y=\"43.13341\" xlink:href=\"#m0fd0a20ecb\" />\n     <use style=\"fill:#4575b4;fill-opacity:0.7;stroke:#4575b4;stroke-opacity:0.7;stroke-width:0.3;\" x=\"130.54\" y=\"44.236129\" xlink:href=\"#m0fd0a20ecb\" />\n     <use style=\"fill:#4575b4;fill-opacity:0.7;stroke:#4575b4;stroke-opacity:0.7;stroke-width:0.3;\" x=\"115.04\" y=\"52.943075\" xlink:href=\"#m0fd0a20ecb\" />\n     <use style=\"fill:#4575b4;fill-opacity:0.7;stroke:#4575b4;stroke-opacity:0.7;stroke-width:0.3;\" x=\"84.04\" y=\"57.014378\" xlink:href=\"#m0fd0a20ecb\" />\n     <use style=\"fill:#4575b4;fill-opacity:0.7;stroke:#4575b4;stroke-opacity:0.7;stroke-width:0.3;\" x=\"115.04\" y=\"49.55704\" xlink:href=\"#m0fd0a20ecb\" />\n     <use style=\"fill:#4575b4;fill-opacity:0.7;stroke:#4575b4;stroke-opacity:0.7;stroke-width:0.3;\" x=\"99.54\" y=\"56.409729\" xlink:href=\"#m0fd0a20ecb\" />\n     <use style=\"fill:#4575b4;fill-opacity:0.7;stroke:#4575b4;stroke-opacity:0.7;stroke-width:0.3;\" x=\"115.04\" y=\"51.250058\" xlink:href=\"#m0fd0a20ecb\" />\n     <use style=\"fill:#4575b4;fill-opacity:0.7;stroke:#4575b4;stroke-opacity:0.7;stroke-width:0.3;\" x=\"130.54\" y=\"44.558608\" xlink:href=\"#m0fd0a20ecb\" />\n     <use style=\"fill:#4575b4;fill-opacity:0.7;stroke:#4575b4;stroke-opacity:0.7;stroke-width:0.3;\" x=\"99.54\" y=\"51.814397\" xlink:href=\"#m0fd0a20ecb\" />\n     <use style=\"fill:#4575b4;fill-opacity:0.7;stroke:#4575b4;stroke-opacity:0.7;stroke-width:0.3;\" x=\"115.04\" y=\"52.701215\" xlink:href=\"#m0fd0a20ecb\" />\n     <use style=\"fill:#4575b4;fill-opacity:0.7;stroke:#4575b4;stroke-opacity:0.7;stroke-width:0.3;\" x=\"99.54\" y=\"54.232993\" xlink:href=\"#m0fd0a20ecb\" />\n     <use style=\"fill:#4575b4;fill-opacity:0.7;stroke:#4575b4;stroke-opacity:0.7;stroke-width:0.3;\" x=\"99.54\" y=\"51.975637\" xlink:href=\"#m0fd0a20ecb\" />\n     <use style=\"fill:#4575b4;fill-opacity:0.7;stroke:#4575b4;stroke-opacity:0.7;stroke-width:0.3;\" x=\"130.54\" y=\"44.477989\" xlink:href=\"#m0fd0a20ecb\" />\n     <use style=\"fill:#4575b4;fill-opacity:0.7;stroke:#4575b4;stroke-opacity:0.7;stroke-width:0.3;\" x=\"99.54\" y=\"52.822145\" xlink:href=\"#m0fd0a20ecb\" />\n     <use style=\"fill:#4575b4;fill-opacity:0.7;stroke:#4575b4;stroke-opacity:0.7;stroke-width:0.3;\" x=\"130.54\" y=\"45.372869\" xlink:href=\"#m0fd0a20ecb\" />\n     <use style=\"fill:#4575b4;fill-opacity:0.7;stroke:#4575b4;stroke-opacity:0.7;stroke-width:0.3;\" x=\"99.54\" y=\"51.693467\" xlink:href=\"#m0fd0a20ecb\" />\n     <use style=\"fill:#4575b4;fill-opacity:0.7;stroke:#4575b4;stroke-opacity:0.7;stroke-width:0.3;\" x=\"130.54\" y=\"48.105883\" xlink:href=\"#m0fd0a20ecb\" />\n     <use style=\"fill:#4575b4;fill-opacity:0.7;stroke:#4575b4;stroke-opacity:0.7;stroke-width:0.3;\" x=\"99.54\" y=\"55.442291\" xlink:href=\"#m0fd0a20ecb\" />\n     <use style=\"fill:#4575b4;fill-opacity:0.7;stroke:#4575b4;stroke-opacity:0.7;stroke-width:0.3;\" x=\"99.54\" y=\"54.636092\" xlink:href=\"#m0fd0a20ecb\" />\n     <use style=\"fill:#4575b4;fill-opacity:0.7;stroke:#4575b4;stroke-opacity:0.7;stroke-width:0.3;\" x=\"84.04\" y=\"54.757022\" xlink:href=\"#m0fd0a20ecb\" />\n     <use style=\"fill:#4575b4;fill-opacity:0.7;stroke:#4575b4;stroke-opacity:0.7;stroke-width:0.3;\" x=\"115.04\" y=\"47.904333\" xlink:href=\"#m0fd0a20ecb\" />\n     <use style=\"fill:#4575b4;fill-opacity:0.7;stroke:#4575b4;stroke-opacity:0.7;stroke-width:0.3;\" x=\"130.54\" y=\"47.873778\" xlink:href=\"#m0fd0a20ecb\" />\n     <use style=\"fill:#4575b4;fill-opacity:0.7;stroke:#4575b4;stroke-opacity:0.7;stroke-width:0.3;\" x=\"68.54\" y=\"52.249744\" xlink:href=\"#m0fd0a20ecb\" />\n     <use style=\"fill:#4575b4;fill-opacity:0.7;stroke:#4575b4;stroke-opacity:0.7;stroke-width:0.3;\" x=\"130.54\" y=\"49.395801\" xlink:href=\"#m0fd0a20ecb\" />\n     <use style=\"fill:#4575b4;fill-opacity:0.7;stroke:#4575b4;stroke-opacity:0.7;stroke-width:0.3;\" x=\"115.04\" y=\"46.493485\" xlink:href=\"#m0fd0a20ecb\" />\n     <use style=\"fill:#4575b4;fill-opacity:0.7;stroke:#4575b4;stroke-opacity:0.7;stroke-width:0.3;\" x=\"115.04\" y=\"48.589602\" xlink:href=\"#m0fd0a20ecb\" />\n     <use style=\"fill:#4575b4;fill-opacity:0.7;stroke:#4575b4;stroke-opacity:0.7;stroke-width:0.3;\" x=\"115.04\" y=\"49.476421\" xlink:href=\"#m0fd0a20ecb\" />\n     <use style=\"fill:#4575b4;fill-opacity:0.7;stroke:#4575b4;stroke-opacity:0.7;stroke-width:0.3;\" x=\"115.04\" y=\"50.153627\" xlink:href=\"#m0fd0a20ecb\" />\n     <use style=\"fill:#4575b4;fill-opacity:0.7;stroke:#4575b4;stroke-opacity:0.7;stroke-width:0.3;\" x=\"115.04\" y=\"48.529137\" xlink:href=\"#m0fd0a20ecb\" />\n     <use style=\"fill:#4575b4;fill-opacity:0.7;stroke:#4575b4;stroke-opacity:0.7;stroke-width:0.3;\" x=\"115.04\" y=\"46.009766\" xlink:href=\"#m0fd0a20ecb\" />\n     <use style=\"fill:#4575b4;fill-opacity:0.7;stroke:#4575b4;stroke-opacity:0.7;stroke-width:0.3;\" x=\"84.04\" y=\"53.588034\" xlink:href=\"#m0fd0a20ecb\" />\n     <use style=\"fill:#4575b4;fill-opacity:0.7;stroke:#4575b4;stroke-opacity:0.7;stroke-width:0.3;\" x=\"115.04\" y=\"51.008198\" xlink:href=\"#m0fd0a20ecb\" />\n     <use style=\"fill:#4575b4;fill-opacity:0.7;stroke:#4575b4;stroke-opacity:0.7;stroke-width:0.3;\" x=\"99.54\" y=\"52.548038\" xlink:href=\"#m0fd0a20ecb\" />\n     <use style=\"fill:#4575b4;fill-opacity:0.7;stroke:#4575b4;stroke-opacity:0.7;stroke-width:0.3;\" x=\"115.04\" y=\"52.499666\" xlink:href=\"#m0fd0a20ecb\" />\n     <use style=\"fill:#4575b4;fill-opacity:0.7;stroke:#4575b4;stroke-opacity:0.7;stroke-width:0.3;\" x=\"130.54\" y=\"46.292742\" xlink:href=\"#m0fd0a20ecb\" />\n     <use style=\"fill:#4575b4;fill-opacity:0.7;stroke:#4575b4;stroke-opacity:0.7;stroke-width:0.3;\" x=\"99.54\" y=\"51.653157\" xlink:href=\"#m0fd0a20ecb\" />\n     <use style=\"fill:#4575b4;fill-opacity:0.7;stroke:#4575b4;stroke-opacity:0.7;stroke-width:0.3;\" x=\"115.04\" y=\"55.8857\" xlink:href=\"#m0fd0a20ecb\" />\n     <use style=\"fill:#4575b4;fill-opacity:0.7;stroke:#4575b4;stroke-opacity:0.7;stroke-width:0.3;\" x=\"99.54\" y=\"52.781835\" xlink:href=\"#m0fd0a20ecb\" />\n     <use style=\"fill:#4575b4;fill-opacity:0.7;stroke:#4575b4;stroke-opacity:0.7;stroke-width:0.3;\" x=\"115.04\" y=\"50.161689\" xlink:href=\"#m0fd0a20ecb\" />\n     <use style=\"fill:#4575b4;fill-opacity:0.7;stroke:#4575b4;stroke-opacity:0.7;stroke-width:0.3;\" x=\"130.54\" y=\"52.862455\" xlink:href=\"#m0fd0a20ecb\" />\n     <use style=\"fill:#4575b4;fill-opacity:0.7;stroke:#4575b4;stroke-opacity:0.7;stroke-width:0.3;\" x=\"99.54\" y=\"50.685719\" xlink:href=\"#m0fd0a20ecb\" />\n     <use style=\"fill:#4575b4;fill-opacity:0.7;stroke:#4575b4;stroke-opacity:0.7;stroke-width:0.3;\" x=\"115.04\" y=\"55.643841\" xlink:href=\"#m0fd0a20ecb\" />\n     <use style=\"fill:#4575b4;fill-opacity:0.7;stroke:#4575b4;stroke-opacity:0.7;stroke-width:0.3;\" x=\"99.54\" y=\"53.434856\" xlink:href=\"#m0fd0a20ecb\" />\n     <use style=\"fill:#4575b4;fill-opacity:0.7;stroke:#4575b4;stroke-opacity:0.7;stroke-width:0.3;\" x=\"84.04\" y=\"51.411297\" xlink:href=\"#m0fd0a20ecb\" />\n     <use style=\"fill:#4575b4;fill-opacity:0.7;stroke:#4575b4;stroke-opacity:0.7;stroke-width:0.3;\" x=\"99.54\" y=\"55.442291\" xlink:href=\"#m0fd0a20ecb\" />\n     <use style=\"fill:#4575b4;fill-opacity:0.7;stroke:#4575b4;stroke-opacity:0.7;stroke-width:0.3;\" x=\"115.04\" y=\"54.232993\" xlink:href=\"#m0fd0a20ecb\" />\n     <use style=\"fill:#4575b4;fill-opacity:0.7;stroke:#4575b4;stroke-opacity:0.7;stroke-width:0.3;\" x=\"99.54\" y=\"52.822145\" xlink:href=\"#m0fd0a20ecb\" />\n     <use style=\"fill:#4575b4;fill-opacity:0.7;stroke:#4575b4;stroke-opacity:0.7;stroke-width:0.3;\" x=\"115.04\" y=\"48.468672\" xlink:href=\"#m0fd0a20ecb\" />\n     <use style=\"fill:#4575b4;fill-opacity:0.7;stroke:#4575b4;stroke-opacity:0.7;stroke-width:0.3;\" x=\"99.54\" y=\"54.676402\" xlink:href=\"#m0fd0a20ecb\" />\n     <use style=\"fill:#4575b4;fill-opacity:0.7;stroke:#4575b4;stroke-opacity:0.7;stroke-width:0.3;\" x=\"115.04\" y=\"50.201999\" xlink:href=\"#m0fd0a20ecb\" />\n     <use style=\"fill:#4575b4;fill-opacity:0.7;stroke:#4575b4;stroke-opacity:0.7;stroke-width:0.3;\" x=\"130.54\" y=\"49.315181\" xlink:href=\"#m0fd0a20ecb\" />\n     <use style=\"fill:#4575b4;fill-opacity:0.7;stroke:#4575b4;stroke-opacity:0.7;stroke-width:0.3;\" x=\"99.54\" y=\"55.684151\" xlink:href=\"#m0fd0a20ecb\" />\n     <use style=\"fill:#4575b4;fill-opacity:0.7;stroke:#4575b4;stroke-opacity:0.7;stroke-width:0.3;\" x=\"115.04\" y=\"51.814397\" xlink:href=\"#m0fd0a20ecb\" />\n     <use style=\"fill:#4575b4;fill-opacity:0.7;stroke:#4575b4;stroke-opacity:0.7;stroke-width:0.3;\" x=\"99.54\" y=\"53.023695\" xlink:href=\"#m0fd0a20ecb\" />\n     <use style=\"fill:#4575b4;fill-opacity:0.7;stroke:#4575b4;stroke-opacity:0.7;stroke-width:0.3;\" x=\"130.54\" y=\"47.702783\" xlink:href=\"#m0fd0a20ecb\" />\n     <use style=\"fill:#4575b4;fill-opacity:0.7;stroke:#4575b4;stroke-opacity:0.7;stroke-width:0.3;\" x=\"130.54\" y=\"41.390248\" xlink:href=\"#m0fd0a20ecb\" />\n     <use style=\"fill:#4575b4;fill-opacity:0.7;stroke:#4575b4;stroke-opacity:0.7;stroke-width:0.3;\" x=\"99.54\" y=\"52.620596\" xlink:href=\"#m0fd0a20ecb\" />\n     <use style=\"fill:#4575b4;fill-opacity:0.7;stroke:#4575b4;stroke-opacity:0.7;stroke-width:0.3;\" x=\"130.54\" y=\"47.783403\" xlink:href=\"#m0fd0a20ecb\" />\n     <use style=\"fill:#4575b4;fill-opacity:0.7;stroke:#4575b4;stroke-opacity:0.7;stroke-width:0.3;\" x=\"115.04\" y=\"42.865591\" xlink:href=\"#m0fd0a20ecb\" />\n     <use style=\"fill:#4575b4;fill-opacity:0.7;stroke:#4575b4;stroke-opacity:0.7;stroke-width:0.3;\" x=\"99.54\" y=\"53.789584\" xlink:href=\"#m0fd0a20ecb\" />\n     <use style=\"fill:#4575b4;fill-opacity:0.7;stroke:#4575b4;stroke-opacity:0.7;stroke-width:0.3;\" x=\"115.04\" y=\"53.829894\" xlink:href=\"#m0fd0a20ecb\" />\n     <use style=\"fill:#4575b4;fill-opacity:0.7;stroke:#4575b4;stroke-opacity:0.7;stroke-width:0.3;\" x=\"84.04\" y=\"56.409729\" xlink:href=\"#m0fd0a20ecb\" />\n     <use style=\"fill:#4575b4;fill-opacity:0.7;stroke:#4575b4;stroke-opacity:0.7;stroke-width:0.3;\" x=\"130.54\" y=\"50.588975\" xlink:href=\"#m0fd0a20ecb\" />\n     <use style=\"fill:#4575b4;fill-opacity:0.7;stroke:#4575b4;stroke-opacity:0.7;stroke-width:0.3;\" x=\"84.04\" y=\"56.611279\" xlink:href=\"#m0fd0a20ecb\" />\n     <use style=\"fill:#4575b4;fill-opacity:0.7;stroke:#4575b4;stroke-opacity:0.7;stroke-width:0.3;\" x=\"84.04\" y=\"54.636092\" xlink:href=\"#m0fd0a20ecb\" />\n     <use style=\"fill:#4575b4;fill-opacity:0.7;stroke:#4575b4;stroke-opacity:0.7;stroke-width:0.3;\" x=\"115.04\" y=\"48.912081\" xlink:href=\"#m0fd0a20ecb\" />\n     <use style=\"fill:#4575b4;fill-opacity:0.7;stroke:#4575b4;stroke-opacity:0.7;stroke-width:0.3;\" x=\"130.54\" y=\"50.290681\" xlink:href=\"#m0fd0a20ecb\" />\n     <use style=\"fill:#4575b4;fill-opacity:0.7;stroke:#4575b4;stroke-opacity:0.7;stroke-width:0.3;\" x=\"130.54\" y=\"48.186503\" xlink:href=\"#m0fd0a20ecb\" />\n     <use style=\"fill:#4575b4;fill-opacity:0.7;stroke:#4575b4;stroke-opacity:0.7;stroke-width:0.3;\" x=\"99.54\" y=\"52.31424\" xlink:href=\"#m0fd0a20ecb\" />\n     <use style=\"fill:#4575b4;fill-opacity:0.7;stroke:#4575b4;stroke-opacity:0.7;stroke-width:0.3;\" x=\"130.54\" y=\"50.00045\" xlink:href=\"#m0fd0a20ecb\" />\n     <use style=\"fill:#4575b4;fill-opacity:0.7;stroke:#4575b4;stroke-opacity:0.7;stroke-width:0.3;\" x=\"84.04\" y=\"53.700902\" xlink:href=\"#m0fd0a20ecb\" />\n     <use style=\"fill:#4575b4;fill-opacity:0.7;stroke:#4575b4;stroke-opacity:0.7;stroke-width:0.3;\" x=\"115.04\" y=\"54.071753\" xlink:href=\"#m0fd0a20ecb\" />\n     <use style=\"fill:#4575b4;fill-opacity:0.7;stroke:#4575b4;stroke-opacity:0.7;stroke-width:0.3;\" x=\"99.54\" y=\"51.814397\" xlink:href=\"#m0fd0a20ecb\" />\n     <use style=\"fill:#4575b4;fill-opacity:0.7;stroke:#4575b4;stroke-opacity:0.7;stroke-width:0.3;\" x=\"115.04\" y=\"49.806962\" xlink:href=\"#m0fd0a20ecb\" />\n     <use style=\"fill:#4575b4;fill-opacity:0.7;stroke:#4575b4;stroke-opacity:0.7;stroke-width:0.3;\" x=\"99.54\" y=\"52.660905\" xlink:href=\"#m0fd0a20ecb\" />\n     <use style=\"fill:#4575b4;fill-opacity:0.7;stroke:#4575b4;stroke-opacity:0.7;stroke-width:0.3;\" x=\"130.54\" y=\"49.476421\" xlink:href=\"#m0fd0a20ecb\" />\n     <use style=\"fill:#4575b4;fill-opacity:0.7;stroke:#4575b4;stroke-opacity:0.7;stroke-width:0.3;\" x=\"99.54\" y=\"51.572537\" xlink:href=\"#m0fd0a20ecb\" />\n     <use style=\"fill:#4575b4;fill-opacity:0.7;stroke:#4575b4;stroke-opacity:0.7;stroke-width:0.3;\" x=\"115.04\" y=\"51.123081\" xlink:href=\"#m0fd0a20ecb\" />\n     <use style=\"fill:#4575b4;fill-opacity:0.7;stroke:#4575b4;stroke-opacity:0.7;stroke-width:0.3;\" x=\"115.04\" y=\"53.910513\" xlink:href=\"#m0fd0a20ecb\" />\n     <use style=\"fill:#4575b4;fill-opacity:0.7;stroke:#4575b4;stroke-opacity:0.7;stroke-width:0.3;\" x=\"115.04\" y=\"50.363239\" xlink:href=\"#m0fd0a20ecb\" />\n     <use style=\"fill:#4575b4;fill-opacity:0.7;stroke:#4575b4;stroke-opacity:0.7;stroke-width:0.3;\" x=\"84.04\" y=\"54.644154\" xlink:href=\"#m0fd0a20ecb\" />\n     <use style=\"fill:#4575b4;fill-opacity:0.7;stroke:#4575b4;stroke-opacity:0.7;stroke-width:0.3;\" x=\"99.54\" y=\"52.620596\" xlink:href=\"#m0fd0a20ecb\" />\n     <use style=\"fill:#4575b4;fill-opacity:0.7;stroke:#4575b4;stroke-opacity:0.7;stroke-width:0.3;\" x=\"115.04\" y=\"47.380304\" xlink:href=\"#m0fd0a20ecb\" />\n     <use style=\"fill:#4575b4;fill-opacity:0.7;stroke:#4575b4;stroke-opacity:0.7;stroke-width:0.3;\" x=\"130.54\" y=\"41.355984\" xlink:href=\"#m0fd0a20ecb\" />\n     <use style=\"fill:#4575b4;fill-opacity:0.7;stroke:#4575b4;stroke-opacity:0.7;stroke-width:0.3;\" x=\"115.04\" y=\"43.83303\" xlink:href=\"#m0fd0a20ecb\" />\n     <use style=\"fill:#4575b4;fill-opacity:0.7;stroke:#4575b4;stroke-opacity:0.7;stroke-width:0.3;\" x=\"99.54\" y=\"52.096566\" xlink:href=\"#m0fd0a20ecb\" />\n     <use style=\"fill:#4575b4;fill-opacity:0.7;stroke:#4575b4;stroke-opacity:0.7;stroke-width:0.3;\" x=\"99.54\" y=\"50.00045\" xlink:href=\"#m0fd0a20ecb\" />\n     <use style=\"fill:#4575b4;fill-opacity:0.7;stroke:#4575b4;stroke-opacity:0.7;stroke-width:0.3;\" x=\"99.54\" y=\"50.443859\" xlink:href=\"#m0fd0a20ecb\" />\n     <use style=\"fill:#4575b4;fill-opacity:0.7;stroke:#4575b4;stroke-opacity:0.7;stroke-width:0.3;\" x=\"115.04\" y=\"52.423077\" xlink:href=\"#m0fd0a20ecb\" />\n     <use style=\"fill:#4575b4;fill-opacity:0.7;stroke:#4575b4;stroke-opacity:0.7;stroke-width:0.3;\" x=\"130.54\" y=\"49.041073\" xlink:href=\"#m0fd0a20ecb\" />\n     <use style=\"fill:#4575b4;fill-opacity:0.7;stroke:#4575b4;stroke-opacity:0.7;stroke-width:0.3;\" x=\"115.04\" y=\"53.225245\" xlink:href=\"#m0fd0a20ecb\" />\n     <use style=\"fill:#4575b4;fill-opacity:0.7;stroke:#4575b4;stroke-opacity:0.7;stroke-width:0.3;\" x=\"99.54\" y=\"53.870204\" xlink:href=\"#m0fd0a20ecb\" />\n     <use style=\"fill:#4575b4;fill-opacity:0.7;stroke:#4575b4;stroke-opacity:0.7;stroke-width:0.3;\" x=\"115.04\" y=\"49.234561\" xlink:href=\"#m0fd0a20ecb\" />\n     <use style=\"fill:#4575b4;fill-opacity:0.7;stroke:#4575b4;stroke-opacity:0.7;stroke-width:0.3;\" x=\"130.54\" y=\"49.000763\" xlink:href=\"#m0fd0a20ecb\" />\n     <use style=\"fill:#4575b4;fill-opacity:0.7;stroke:#4575b4;stroke-opacity:0.7;stroke-width:0.3;\" x=\"130.54\" y=\"43.800782\" xlink:href=\"#m0fd0a20ecb\" />\n     <use style=\"fill:#4575b4;fill-opacity:0.7;stroke:#4575b4;stroke-opacity:0.7;stroke-width:0.3;\" x=\"130.54\" y=\"45.566357\" xlink:href=\"#m0fd0a20ecb\" />\n     <use style=\"fill:#4575b4;fill-opacity:0.7;stroke:#4575b4;stroke-opacity:0.7;stroke-width:0.3;\" x=\"115.04\" y=\"57.377168\" xlink:href=\"#m0fd0a20ecb\" />\n     <use style=\"fill:#4575b4;fill-opacity:0.7;stroke:#4575b4;stroke-opacity:0.7;stroke-width:0.3;\" x=\"115.04\" y=\"47.702783\" xlink:href=\"#m0fd0a20ecb\" />\n     <use style=\"fill:#4575b4;fill-opacity:0.7;stroke:#4575b4;stroke-opacity:0.7;stroke-width:0.3;\" x=\"115.04\" y=\"51.572537\" xlink:href=\"#m0fd0a20ecb\" />\n     <use style=\"fill:#4575b4;fill-opacity:0.7;stroke:#4575b4;stroke-opacity:0.7;stroke-width:0.3;\" x=\"130.54\" y=\"45.203567\" xlink:href=\"#m0fd0a20ecb\" />\n     <use style=\"fill:#4575b4;fill-opacity:0.7;stroke:#4575b4;stroke-opacity:0.7;stroke-width:0.3;\" x=\"99.54\" y=\"49.395801\" xlink:href=\"#m0fd0a20ecb\" />\n     <use style=\"fill:#4575b4;fill-opacity:0.7;stroke:#4575b4;stroke-opacity:0.7;stroke-width:0.3;\" x=\"130.54\" y=\"48.4203\" xlink:href=\"#m0fd0a20ecb\" />\n     <use style=\"fill:#4575b4;fill-opacity:0.7;stroke:#4575b4;stroke-opacity:0.7;stroke-width:0.3;\" x=\"84.04\" y=\"49.96014\" xlink:href=\"#m0fd0a20ecb\" />\n     <use style=\"fill:#4575b4;fill-opacity:0.7;stroke:#4575b4;stroke-opacity:0.7;stroke-width:0.3;\" x=\"68.54\" y=\"55.96632\" xlink:href=\"#m0fd0a20ecb\" />\n     <use style=\"fill:#4575b4;fill-opacity:0.7;stroke:#4575b4;stroke-opacity:0.7;stroke-width:0.3;\" x=\"130.54\" y=\"43.994269\" xlink:href=\"#m0fd0a20ecb\" />\n     <use style=\"fill:#4575b4;fill-opacity:0.7;stroke:#4575b4;stroke-opacity:0.7;stroke-width:0.3;\" x=\"115.04\" y=\"51.572537\" xlink:href=\"#m0fd0a20ecb\" />\n     <use style=\"fill:#4575b4;fill-opacity:0.7;stroke:#4575b4;stroke-opacity:0.7;stroke-width:0.3;\" x=\"84.04\" y=\"56.00663\" xlink:href=\"#m0fd0a20ecb\" />\n     <use style=\"fill:#4575b4;fill-opacity:0.7;stroke:#4575b4;stroke-opacity:0.7;stroke-width:0.3;\" x=\"99.54\" y=\"56.691899\" xlink:href=\"#m0fd0a20ecb\" />\n     <use style=\"fill:#4575b4;fill-opacity:0.7;stroke:#4575b4;stroke-opacity:0.7;stroke-width:0.3;\" x=\"115.04\" y=\"53.184935\" xlink:href=\"#m0fd0a20ecb\" />\n     <use style=\"fill:#4575b4;fill-opacity:0.7;stroke:#4575b4;stroke-opacity:0.7;stroke-width:0.3;\" x=\"130.54\" y=\"45.767907\" xlink:href=\"#m0fd0a20ecb\" />\n     <use style=\"fill:#4575b4;fill-opacity:0.7;stroke:#4575b4;stroke-opacity:0.7;stroke-width:0.3;\" x=\"130.54\" y=\"48.267122\" xlink:href=\"#m0fd0a20ecb\" />\n     <use style=\"fill:#4575b4;fill-opacity:0.7;stroke:#4575b4;stroke-opacity:0.7;stroke-width:0.3;\" x=\"84.04\" y=\"55.200431\" xlink:href=\"#m0fd0a20ecb\" />\n     <use style=\"fill:#4575b4;fill-opacity:0.7;stroke:#4575b4;stroke-opacity:0.7;stroke-width:0.3;\" x=\"99.54\" y=\"54.676402\" xlink:href=\"#m0fd0a20ecb\" />\n     <use style=\"fill:#4575b4;fill-opacity:0.7;stroke:#4575b4;stroke-opacity:0.7;stroke-width:0.3;\" x=\"115.04\" y=\"54.636092\" xlink:href=\"#m0fd0a20ecb\" />\n     <use style=\"fill:#4575b4;fill-opacity:0.7;stroke:#4575b4;stroke-opacity:0.7;stroke-width:0.3;\" x=\"115.04\" y=\"49.497946\" xlink:href=\"#m0fd0a20ecb\" />\n     <use style=\"fill:#4575b4;fill-opacity:0.7;stroke:#4575b4;stroke-opacity:0.7;stroke-width:0.3;\" x=\"130.54\" y=\"48.710532\" xlink:href=\"#m0fd0a20ecb\" />\n     <use style=\"fill:#4575b4;fill-opacity:0.7;stroke:#4575b4;stroke-opacity:0.7;stroke-width:0.3;\" x=\"130.54\" y=\"44.034579\" xlink:href=\"#m0fd0a20ecb\" />\n     <use style=\"fill:#4575b4;fill-opacity:0.7;stroke:#4575b4;stroke-opacity:0.7;stroke-width:0.3;\" x=\"84.04\" y=\"54.797332\" xlink:href=\"#m0fd0a20ecb\" />\n     <use style=\"fill:#4575b4;fill-opacity:0.7;stroke:#4575b4;stroke-opacity:0.7;stroke-width:0.3;\" x=\"130.54\" y=\"40.205135\" xlink:href=\"#m0fd0a20ecb\" />\n     <use style=\"fill:#4575b4;fill-opacity:0.7;stroke:#4575b4;stroke-opacity:0.7;stroke-width:0.3;\" x=\"130.54\" y=\"46.900616\" xlink:href=\"#m0fd0a20ecb\" />\n     <use style=\"fill:#4575b4;fill-opacity:0.7;stroke:#4575b4;stroke-opacity:0.7;stroke-width:0.3;\" x=\"130.54\" y=\"48.670222\" xlink:href=\"#m0fd0a20ecb\" />\n     <use style=\"fill:#4575b4;fill-opacity:0.7;stroke:#4575b4;stroke-opacity:0.7;stroke-width:0.3;\" x=\"130.54\" y=\"47.622164\" xlink:href=\"#m0fd0a20ecb\" />\n     <use style=\"fill:#4575b4;fill-opacity:0.7;stroke:#4575b4;stroke-opacity:0.7;stroke-width:0.3;\" x=\"99.54\" y=\"52.338426\" xlink:href=\"#m0fd0a20ecb\" />\n     <use style=\"fill:#4575b4;fill-opacity:0.7;stroke:#4575b4;stroke-opacity:0.7;stroke-width:0.3;\" x=\"130.54\" y=\"45.606667\" xlink:href=\"#m0fd0a20ecb\" />\n     <use style=\"fill:#4575b4;fill-opacity:0.7;stroke:#4575b4;stroke-opacity:0.7;stroke-width:0.3;\" x=\"115.04\" y=\"50.766338\" xlink:href=\"#m0fd0a20ecb\" />\n     <use style=\"fill:#4575b4;fill-opacity:0.7;stroke:#4575b4;stroke-opacity:0.7;stroke-width:0.3;\" x=\"115.04\" y=\"46.009766\" xlink:href=\"#m0fd0a20ecb\" />\n     <use style=\"fill:#4575b4;fill-opacity:0.7;stroke:#4575b4;stroke-opacity:0.7;stroke-width:0.3;\" x=\"130.54\" y=\"46.171006\" xlink:href=\"#m0fd0a20ecb\" />\n     <use style=\"fill:#4575b4;fill-opacity:0.7;stroke:#4575b4;stroke-opacity:0.7;stroke-width:0.3;\" x=\"130.54\" y=\"46.574105\" xlink:href=\"#m0fd0a20ecb\" />\n     <use style=\"fill:#4575b4;fill-opacity:0.7;stroke:#4575b4;stroke-opacity:0.7;stroke-width:0.3;\" x=\"115.04\" y=\"50.93564\" xlink:href=\"#m0fd0a20ecb\" />\n     <use style=\"fill:#4575b4;fill-opacity:0.7;stroke:#4575b4;stroke-opacity:0.7;stroke-width:0.3;\" x=\"130.54\" y=\"48.367897\" xlink:href=\"#m0fd0a20ecb\" />\n     <use style=\"fill:#4575b4;fill-opacity:0.7;stroke:#4575b4;stroke-opacity:0.7;stroke-width:0.3;\" x=\"130.54\" y=\"53.023695\" xlink:href=\"#m0fd0a20ecb\" />\n     <use style=\"fill:#4575b4;fill-opacity:0.7;stroke:#4575b4;stroke-opacity:0.7;stroke-width:0.3;\" x=\"115.04\" y=\"49.234561\" xlink:href=\"#m0fd0a20ecb\" />\n     <use style=\"fill:#4575b4;fill-opacity:0.7;stroke:#4575b4;stroke-opacity:0.7;stroke-width:0.3;\" x=\"99.54\" y=\"53.588034\" xlink:href=\"#m0fd0a20ecb\" />\n     <use style=\"fill:#4575b4;fill-opacity:0.7;stroke:#4575b4;stroke-opacity:0.7;stroke-width:0.3;\" x=\"99.54\" y=\"45.046359\" xlink:href=\"#m0fd0a20ecb\" />\n     <use style=\"fill:#4575b4;fill-opacity:0.7;stroke:#4575b4;stroke-opacity:0.7;stroke-width:0.3;\" x=\"115.04\" y=\"48.388052\" xlink:href=\"#m0fd0a20ecb\" />\n     <use style=\"fill:#4575b4;fill-opacity:0.7;stroke:#4575b4;stroke-opacity:0.7;stroke-width:0.3;\" x=\"130.54\" y=\"51.882762\" xlink:href=\"#m0fd0a20ecb\" />\n     <use style=\"fill:#4575b4;fill-opacity:0.7;stroke:#4575b4;stroke-opacity:0.7;stroke-width:0.3;\" x=\"99.54\" y=\"50.7744\" xlink:href=\"#m0fd0a20ecb\" />\n     <use style=\"fill:#4575b4;fill-opacity:0.7;stroke:#4575b4;stroke-opacity:0.7;stroke-width:0.3;\" x=\"130.54\" y=\"42.543112\" xlink:href=\"#m0fd0a20ecb\" />\n     <use style=\"fill:#4575b4;fill-opacity:0.7;stroke:#4575b4;stroke-opacity:0.7;stroke-width:0.3;\" x=\"99.54\" y=\"56.220273\" xlink:href=\"#m0fd0a20ecb\" />\n     <use style=\"fill:#4575b4;fill-opacity:0.7;stroke:#4575b4;stroke-opacity:0.7;stroke-width:0.3;\" x=\"84.04\" y=\"60.279483\" xlink:href=\"#m0fd0a20ecb\" />\n     <use style=\"fill:#4575b4;fill-opacity:0.7;stroke:#4575b4;stroke-opacity:0.7;stroke-width:0.3;\" x=\"99.54\" y=\"50.201999\" xlink:href=\"#m0fd0a20ecb\" />\n     <use style=\"fill:#4575b4;fill-opacity:0.7;stroke:#4575b4;stroke-opacity:0.7;stroke-width:0.3;\" x=\"99.54\" y=\"52.660905\" xlink:href=\"#m0fd0a20ecb\" />\n     <use style=\"fill:#4575b4;fill-opacity:0.7;stroke:#4575b4;stroke-opacity:0.7;stroke-width:0.3;\" x=\"99.54\" y=\"51.250058\" xlink:href=\"#m0fd0a20ecb\" />\n     <use style=\"fill:#4575b4;fill-opacity:0.7;stroke:#4575b4;stroke-opacity:0.7;stroke-width:0.3;\" x=\"53.04\" y=\"58.667086\" xlink:href=\"#m0fd0a20ecb\" />\n     <use style=\"fill:#4575b4;fill-opacity:0.7;stroke:#4575b4;stroke-opacity:0.7;stroke-width:0.3;\" x=\"99.54\" y=\"52.902765\" xlink:href=\"#m0fd0a20ecb\" />\n     <use style=\"fill:#4575b4;fill-opacity:0.7;stroke:#4575b4;stroke-opacity:0.7;stroke-width:0.3;\" x=\"68.54\" y=\"56.893449\" xlink:href=\"#m0fd0a20ecb\" />\n     <use style=\"fill:#4575b4;fill-opacity:0.7;stroke:#4575b4;stroke-opacity:0.7;stroke-width:0.3;\" x=\"130.54\" y=\"48.992701\" xlink:href=\"#m0fd0a20ecb\" />\n     <use style=\"fill:#4575b4;fill-opacity:0.7;stroke:#4575b4;stroke-opacity:0.7;stroke-width:0.3;\" x=\"99.54\" y=\"52.628658\" xlink:href=\"#m0fd0a20ecb\" />\n     <use style=\"fill:#4575b4;fill-opacity:0.7;stroke:#4575b4;stroke-opacity:0.7;stroke-width:0.3;\" x=\"115.04\" y=\"51.169438\" xlink:href=\"#m0fd0a20ecb\" />\n     <use style=\"fill:#4575b4;fill-opacity:0.7;stroke:#4575b4;stroke-opacity:0.7;stroke-width:0.3;\" x=\"99.54\" y=\"53.023695\" xlink:href=\"#m0fd0a20ecb\" />\n     <use style=\"fill:#4575b4;fill-opacity:0.7;stroke:#4575b4;stroke-opacity:0.7;stroke-width:0.3;\" x=\"130.54\" y=\"47.178754\" xlink:href=\"#m0fd0a20ecb\" />\n     <use style=\"fill:#4575b4;fill-opacity:0.7;stroke:#4575b4;stroke-opacity:0.7;stroke-width:0.3;\" x=\"84.04\" y=\"56.772519\" xlink:href=\"#m0fd0a20ecb\" />\n     <use style=\"fill:#4575b4;fill-opacity:0.7;stroke:#4575b4;stroke-opacity:0.7;stroke-width:0.3;\" x=\"37.54\" y=\"58.586466\" xlink:href=\"#m0fd0a20ecb\" />\n     <use style=\"fill:#4575b4;fill-opacity:0.7;stroke:#4575b4;stroke-opacity:0.7;stroke-width:0.3;\" x=\"115.04\" y=\"51.330678\" xlink:href=\"#m0fd0a20ecb\" />\n     <use style=\"fill:#4575b4;fill-opacity:0.7;stroke:#4575b4;stroke-opacity:0.7;stroke-width:0.3;\" x=\"99.54\" y=\"51.895017\" xlink:href=\"#m0fd0a20ecb\" />\n     <use style=\"fill:#4575b4;fill-opacity:0.7;stroke:#4575b4;stroke-opacity:0.7;stroke-width:0.3;\" x=\"130.54\" y=\"45.148746\" xlink:href=\"#m0fd0a20ecb\" />\n     <use style=\"fill:#4575b4;fill-opacity:0.7;stroke:#4575b4;stroke-opacity:0.7;stroke-width:0.3;\" x=\"130.54\" y=\"48.186503\" xlink:href=\"#m0fd0a20ecb\" />\n     <use style=\"fill:#4575b4;fill-opacity:0.7;stroke:#4575b4;stroke-opacity:0.7;stroke-width:0.3;\" x=\"99.54\" y=\"50.846958\" xlink:href=\"#m0fd0a20ecb\" />\n     <use style=\"fill:#4575b4;fill-opacity:0.7;stroke:#4575b4;stroke-opacity:0.7;stroke-width:0.3;\" x=\"130.54\" y=\"45.372869\" xlink:href=\"#m0fd0a20ecb\" />\n     <use style=\"fill:#4575b4;fill-opacity:0.7;stroke:#4575b4;stroke-opacity:0.7;stroke-width:0.3;\" x=\"115.04\" y=\"53.894389\" xlink:href=\"#m0fd0a20ecb\" />\n     <use style=\"fill:#4575b4;fill-opacity:0.7;stroke:#4575b4;stroke-opacity:0.7;stroke-width:0.3;\" x=\"115.04\" y=\"51.491917\" xlink:href=\"#m0fd0a20ecb\" />\n     <use style=\"fill:#4575b4;fill-opacity:0.7;stroke:#4575b4;stroke-opacity:0.7;stroke-width:0.3;\" x=\"115.04\" y=\"49.55704\" xlink:href=\"#m0fd0a20ecb\" />\n     <use style=\"fill:#4575b4;fill-opacity:0.7;stroke:#4575b4;stroke-opacity:0.7;stroke-width:0.3;\" x=\"99.54\" y=\"53.913416\" xlink:href=\"#m0fd0a20ecb\" />\n     <use style=\"fill:#4575b4;fill-opacity:0.7;stroke:#4575b4;stroke-opacity:0.7;stroke-width:0.3;\" x=\"130.54\" y=\"49.476421\" xlink:href=\"#m0fd0a20ecb\" />\n     <use style=\"fill:#4575b4;fill-opacity:0.7;stroke:#4575b4;stroke-opacity:0.7;stroke-width:0.3;\" x=\"115.04\" y=\"48.347742\" xlink:href=\"#m0fd0a20ecb\" />\n     <use style=\"fill:#4575b4;fill-opacity:0.7;stroke:#4575b4;stroke-opacity:0.7;stroke-width:0.3;\" x=\"130.54\" y=\"47.380304\" xlink:href=\"#m0fd0a20ecb\" />\n     <use style=\"fill:#4575b4;fill-opacity:0.7;stroke:#4575b4;stroke-opacity:0.7;stroke-width:0.3;\" x=\"115.04\" y=\"44.236129\" xlink:href=\"#m0fd0a20ecb\" />\n     <use style=\"fill:#4575b4;fill-opacity:0.7;stroke:#4575b4;stroke-opacity:0.7;stroke-width:0.3;\" x=\"99.54\" y=\"48.186503\" xlink:href=\"#m0fd0a20ecb\" />\n     <use style=\"fill:#4575b4;fill-opacity:0.7;stroke:#4575b4;stroke-opacity:0.7;stroke-width:0.3;\" x=\"115.04\" y=\"48.912081\" xlink:href=\"#m0fd0a20ecb\" />\n     <use style=\"fill:#4575b4;fill-opacity:0.7;stroke:#4575b4;stroke-opacity:0.7;stroke-width:0.3;\" x=\"99.54\" y=\"47.339994\" xlink:href=\"#m0fd0a20ecb\" />\n     <use style=\"fill:#4575b4;fill-opacity:0.7;stroke:#4575b4;stroke-opacity:0.7;stroke-width:0.3;\" x=\"130.54\" y=\"44.961708\" xlink:href=\"#m0fd0a20ecb\" />\n     <use style=\"fill:#4575b4;fill-opacity:0.7;stroke:#4575b4;stroke-opacity:0.7;stroke-width:0.3;\" x=\"130.54\" y=\"44.034579\" xlink:href=\"#m0fd0a20ecb\" />\n     <use style=\"fill:#4575b4;fill-opacity:0.7;stroke:#4575b4;stroke-opacity:0.7;stroke-width:0.3;\" x=\"130.54\" y=\"46.251626\" xlink:href=\"#m0fd0a20ecb\" />\n     <use style=\"fill:#4575b4;fill-opacity:0.7;stroke:#4575b4;stroke-opacity:0.7;stroke-width:0.3;\" x=\"130.54\" y=\"52.620596\" xlink:href=\"#m0fd0a20ecb\" />\n     <use style=\"fill:#4575b4;fill-opacity:0.7;stroke:#4575b4;stroke-opacity:0.7;stroke-width:0.3;\" x=\"115.04\" y=\"49.403863\" xlink:href=\"#m0fd0a20ecb\" />\n     <use style=\"fill:#4575b4;fill-opacity:0.7;stroke:#4575b4;stroke-opacity:0.7;stroke-width:0.3;\" x=\"84.04\" y=\"59.070185\" xlink:href=\"#m0fd0a20ecb\" />\n     <use style=\"fill:#4575b4;fill-opacity:0.7;stroke:#4575b4;stroke-opacity:0.7;stroke-width:0.3;\" x=\"99.54\" y=\"52.298116\" xlink:href=\"#m0fd0a20ecb\" />\n     <use style=\"fill:#4575b4;fill-opacity:0.7;stroke:#4575b4;stroke-opacity:0.7;stroke-width:0.3;\" x=\"130.54\" y=\"32.548666\" xlink:href=\"#m0fd0a20ecb\" />\n     <use style=\"fill:#4575b4;fill-opacity:0.7;stroke:#4575b4;stroke-opacity:0.7;stroke-width:0.3;\" x=\"130.54\" y=\"46.251626\" xlink:href=\"#m0fd0a20ecb\" />\n     <use style=\"fill:#4575b4;fill-opacity:0.7;stroke:#4575b4;stroke-opacity:0.7;stroke-width:0.3;\" x=\"99.54\" y=\"53.023695\" xlink:href=\"#m0fd0a20ecb\" />\n     <use style=\"fill:#4575b4;fill-opacity:0.7;stroke:#4575b4;stroke-opacity:0.7;stroke-width:0.3;\" x=\"115.04\" y=\"50.726029\" xlink:href=\"#m0fd0a20ecb\" />\n     <use style=\"fill:#4575b4;fill-opacity:0.7;stroke:#4575b4;stroke-opacity:0.7;stroke-width:0.3;\" x=\"84.04\" y=\"52.217496\" xlink:href=\"#m0fd0a20ecb\" />\n    </g>\n   </g>\n   <g id=\"patch_3\">\n    <path d=\"M 122.79 60.606236  L 120.279 66.585836  L 125.301 66.585836  z \" style=\"fill:#444443;\" />\n   </g>\n   <g id=\"matplotlib.axis_1\">\n    <g id=\"xtick_1\">\n     <g id=\"line2d_1\">\n      <defs>\n       <path d=\"M 0 0  L 0 3.5  \" id=\"m834890ae7b\" style=\"stroke:#444443;stroke-width:0.3;\" />\n      </defs>\n      <g>\n       <use style=\"fill:#444443;stroke:#444443;stroke-width:0.3;\" x=\"37.54\" y=\"60.606236\" xlink:href=\"#m834890ae7b\" />\n      </g>\n     </g>\n     <g id=\"text_1\">\n      \n      <defs>\n       <path d=\"M 12.40625 8.296875  L 28.515625 8.296875  L 28.515625 63.921875  L 10.984375 60.40625  L 10.984375 69.390625  L 28.421875 72.90625  L 38.28125 72.90625  L 38.28125 8.296875  L 54.390625 8.296875  L 54.390625 0  L 12.40625 0  z \" id=\"DejaVuSans-49\" />\n       <path d=\"M 10.6875 12.40625  L 21 12.40625  L 21 0  L 10.6875 0  z \" id=\"DejaVuSans-46\" />\n       <path d=\"M 31.78125 66.40625  Q 24.171875 66.40625 20.328125 58.90625  Q 16.5 51.421875 16.5 36.375  Q 16.5 21.390625 20.328125 13.890625  Q 24.171875 6.390625 31.78125 6.390625  Q 39.453125 6.390625 43.28125 13.890625  Q 47.125 21.390625 47.125 36.375  Q 47.125 51.421875 43.28125 58.90625  Q 39.453125 66.40625 31.78125 66.40625  z M 31.78125 74.21875  Q 44.046875 74.21875 50.515625 64.515625  Q 56.984375 54.828125 56.984375 36.375  Q 56.984375 17.96875 50.515625 8.265625  Q 44.046875 -1.421875 31.78125 -1.421875  Q 19.53125 -1.421875 13.0625 8.265625  Q 6.59375 17.96875 6.59375 36.375  Q 6.59375 54.828125 13.0625 64.515625  Q 19.53125 74.21875 31.78125 74.21875  z \" id=\"DejaVuSans-48\" />\n      </defs>\n      <g style=\"fill:#444443;\" transform=\"translate(31.17875 73.684986)scale(0.08 -0.08)\">\n       <use xlink:href=\"#DejaVuSans-49\" />\n       <use x=\"63.623047\" xlink:href=\"#DejaVuSans-46\" />\n       <use x=\"95.410156\" xlink:href=\"#DejaVuSans-48\" />\n      </g>\n     </g>\n    </g>\n    <g id=\"xtick_2\">\n     <g id=\"line2d_2\">\n      <g>\n       <use style=\"fill:#444443;stroke:#444443;stroke-width:0.3;\" x=\"177.04\" y=\"60.606236\" xlink:href=\"#m834890ae7b\" />\n      </g>\n     </g>\n     <g id=\"text_2\">\n      \n      <g style=\"fill:#444443;\" transform=\"translate(168.13375 73.684986)scale(0.08 -0.08)\">\n       <use xlink:href=\"#DejaVuSans-49\" />\n       <use x=\"63.623047\" xlink:href=\"#DejaVuSans-48\" />\n       <use x=\"127.246094\" xlink:href=\"#DejaVuSans-46\" />\n       <use x=\"159.033203\" xlink:href=\"#DejaVuSans-48\" />\n      </g>\n     </g>\n    </g>\n    <g id=\"xtick_3\">\n     <g id=\"line2d_3\">\n      <g>\n       <use style=\"fill:#444443;stroke:#444443;stroke-width:0.3;\" x=\"122.79\" y=\"60.606236\" xlink:href=\"#m834890ae7b\" />\n      </g>\n     </g>\n     <g id=\"text_3\">\n      \n      <defs>\n       <path d=\"M 33.015625 40.375  Q 26.375 40.375 22.484375 35.828125  Q 18.609375 31.296875 18.609375 23.390625  Q 18.609375 15.53125 22.484375 10.953125  Q 26.375 6.390625 33.015625 6.390625  Q 39.65625 6.390625 43.53125 10.953125  Q 47.40625 15.53125 47.40625 23.390625  Q 47.40625 31.296875 43.53125 35.828125  Q 39.65625 40.375 33.015625 40.375  z M 52.59375 71.296875  L 52.59375 62.3125  Q 48.875 64.0625 45.09375 64.984375  Q 41.3125 65.921875 37.59375 65.921875  Q 27.828125 65.921875 22.671875 59.328125  Q 17.53125 52.734375 16.796875 39.40625  Q 19.671875 43.65625 24.015625 45.921875  Q 28.375 48.1875 33.59375 48.1875  Q 44.578125 48.1875 50.953125 41.515625  Q 57.328125 34.859375 57.328125 23.390625  Q 57.328125 12.15625 50.6875 5.359375  Q 44.046875 -1.421875 33.015625 -1.421875  Q 20.359375 -1.421875 13.671875 8.265625  Q 6.984375 17.96875 6.984375 36.375  Q 6.984375 53.65625 15.1875 63.9375  Q 23.390625 74.21875 37.203125 74.21875  Q 40.921875 74.21875 44.703125 73.484375  Q 48.484375 72.75 52.59375 71.296875  z \" id=\"DejaVuSans-54\" />\n       <path d=\"M 10.796875 72.90625  L 49.515625 72.90625  L 49.515625 64.59375  L 19.828125 64.59375  L 19.828125 46.734375  Q 21.96875 47.46875 24.109375 47.828125  Q 26.265625 48.1875 28.421875 48.1875  Q 40.625 48.1875 47.75 41.5  Q 54.890625 34.8125 54.890625 23.390625  Q 54.890625 11.625 47.5625 5.09375  Q 40.234375 -1.421875 26.90625 -1.421875  Q 22.3125 -1.421875 17.546875 -0.640625  Q 12.796875 0.140625 7.71875 1.703125  L 7.71875 11.625  Q 12.109375 9.234375 16.796875 8.0625  Q 21.484375 6.890625 26.703125 6.890625  Q 35.15625 6.890625 40.078125 11.328125  Q 45.015625 15.765625 45.015625 23.390625  Q 45.015625 31 40.078125 35.4375  Q 35.15625 39.890625 26.703125 39.890625  Q 22.75 39.890625 18.8125 39.015625  Q 14.890625 38.140625 10.796875 36.28125  z \" id=\"DejaVuSans-53\" />\n      </defs>\n      <g style=\"fill:#444443;\" transform=\"translate(116.42875 73.684986)scale(0.08 -0.08)\">\n       <use xlink:href=\"#DejaVuSans-54\" />\n       <use x=\"63.623047\" xlink:href=\"#DejaVuSans-46\" />\n       <use x=\"95.410156\" xlink:href=\"#DejaVuSans-53\" />\n      </g>\n     </g>\n    </g>\n    <g id=\"text_4\">\n     \n     <defs>\n      <path d=\"M 39.40625 66.21875  Q 28.65625 66.21875 22.328125 58.203125  Q 16.015625 50.203125 16.015625 36.375  Q 16.015625 22.609375 22.328125 14.59375  Q 28.65625 6.59375 39.40625 6.59375  Q 50.140625 6.59375 56.421875 14.59375  Q 62.703125 22.609375 62.703125 36.375  Q 62.703125 50.203125 56.421875 58.203125  Q 50.140625 66.21875 39.40625 66.21875  z M 39.40625 74.21875  Q 54.734375 74.21875 63.90625 63.9375  Q 73.09375 53.65625 73.09375 36.375  Q 73.09375 19.140625 63.90625 8.859375  Q 54.734375 -1.421875 39.40625 -1.421875  Q 24.03125 -1.421875 14.8125 8.828125  Q 5.609375 19.09375 5.609375 36.375  Q 5.609375 53.65625 14.8125 63.9375  Q 24.03125 74.21875 39.40625 74.21875  z \" id=\"DejaVuSans-79\" />\n      <path d=\"M 2.984375 54.6875  L 12.5 54.6875  L 29.59375 8.796875  L 46.6875 54.6875  L 56.203125 54.6875  L 35.6875 0  L 23.484375 0  z \" id=\"DejaVuSans-118\" />\n      <path d=\"M 56.203125 29.59375  L 56.203125 25.203125  L 14.890625 25.203125  Q 15.484375 15.921875 20.484375 11.0625  Q 25.484375 6.203125 34.421875 6.203125  Q 39.59375 6.203125 44.453125 7.46875  Q 49.3125 8.734375 54.109375 11.28125  L 54.109375 2.78125  Q 49.265625 0.734375 44.1875 -0.34375  Q 39.109375 -1.421875 33.890625 -1.421875  Q 20.796875 -1.421875 13.15625 6.1875  Q 5.515625 13.8125 5.515625 26.8125  Q 5.515625 40.234375 12.765625 48.109375  Q 20.015625 56 32.328125 56  Q 43.359375 56 49.78125 48.890625  Q 56.203125 41.796875 56.203125 29.59375  z M 47.21875 32.234375  Q 47.125 39.59375 43.09375 43.984375  Q 39.0625 48.390625 32.421875 48.390625  Q 24.90625 48.390625 20.390625 44.140625  Q 15.875 39.890625 15.1875 32.171875  z \" id=\"DejaVuSans-101\" />\n      <path d=\"M 41.109375 46.296875  Q 39.59375 47.171875 37.8125 47.578125  Q 36.03125 48 33.890625 48  Q 26.265625 48 22.1875 43.046875  Q 18.109375 38.09375 18.109375 28.8125  L 18.109375 0  L 9.078125 0  L 9.078125 54.6875  L 18.109375 54.6875  L 18.109375 46.1875  Q 20.953125 51.171875 25.484375 53.578125  Q 30.03125 56 36.53125 56  Q 37.453125 56 38.578125 55.875  Q 39.703125 55.765625 41.0625 55.515625  z \" id=\"DejaVuSans-114\" />\n      <path d=\"M 34.28125 27.484375  Q 23.390625 27.484375 19.1875 25  Q 14.984375 22.515625 14.984375 16.5  Q 14.984375 11.71875 18.140625 8.90625  Q 21.296875 6.109375 26.703125 6.109375  Q 34.1875 6.109375 38.703125 11.40625  Q 43.21875 16.703125 43.21875 25.484375  L 43.21875 27.484375  z M 52.203125 31.203125  L 52.203125 0  L 43.21875 0  L 43.21875 8.296875  Q 40.140625 3.328125 35.546875 0.953125  Q 30.953125 -1.421875 24.3125 -1.421875  Q 15.921875 -1.421875 10.953125 3.296875  Q 6 8.015625 6 15.921875  Q 6 25.140625 12.171875 29.828125  Q 18.359375 34.515625 30.609375 34.515625  L 43.21875 34.515625  L 43.21875 35.40625  Q 43.21875 41.609375 39.140625 45  Q 35.0625 48.390625 27.6875 48.390625  Q 23 48.390625 18.546875 47.265625  Q 14.109375 46.140625 10.015625 43.890625  L 10.015625 52.203125  Q 14.9375 54.109375 19.578125 55.046875  Q 24.21875 56 28.609375 56  Q 40.484375 56 46.34375 49.84375  Q 52.203125 43.703125 52.203125 31.203125  z \" id=\"DejaVuSans-97\" />\n      <path d=\"M 9.421875 75.984375  L 18.40625 75.984375  L 18.40625 0  L 9.421875 0  z \" id=\"DejaVuSans-108\" />\n      <path d=\"M 39.40625 66.21875  Q 28.65625 66.21875 22.328125 58.203125  Q 16.015625 50.203125 16.015625 36.375  Q 16.015625 22.609375 22.328125 14.59375  Q 28.65625 6.59375 39.40625 6.59375  Q 50.140625 6.59375 56.421875 14.59375  Q 62.703125 22.609375 62.703125 36.375  Q 62.703125 50.203125 56.421875 58.203125  Q 50.140625 66.21875 39.40625 66.21875  z M 53.21875 1.3125  L 66.21875 -12.890625  L 54.296875 -12.890625  L 43.5 -1.21875  Q 41.890625 -1.3125 41.03125 -1.359375  Q 40.1875 -1.421875 39.40625 -1.421875  Q 24.03125 -1.421875 14.8125 8.859375  Q 5.609375 19.140625 5.609375 36.375  Q 5.609375 53.65625 14.8125 63.9375  Q 24.03125 74.21875 39.40625 74.21875  Q 54.734375 74.21875 63.90625 63.9375  Q 73.09375 53.65625 73.09375 36.375  Q 73.09375 23.6875 67.984375 14.640625  Q 62.890625 5.609375 53.21875 1.3125  z \" id=\"DejaVuSans-81\" />\n      <path d=\"M 8.5 21.578125  L 8.5 54.6875  L 17.484375 54.6875  L 17.484375 21.921875  Q 17.484375 14.15625 20.5 10.265625  Q 23.53125 6.390625 29.59375 6.390625  Q 36.859375 6.390625 41.078125 11.03125  Q 45.3125 15.671875 45.3125 23.6875  L 45.3125 54.6875  L 54.296875 54.6875  L 54.296875 0  L 45.3125 0  L 45.3125 8.40625  Q 42.046875 3.421875 37.71875 1  Q 33.40625 -1.421875 27.6875 -1.421875  Q 18.265625 -1.421875 13.375 4.4375  Q 8.5 10.296875 8.5 21.578125  z M 31.109375 56  z \" id=\"DejaVuSans-117\" />\n     </defs>\n     <g style=\"fill:#444443;\" transform=\"translate(77.862656 86.947173)scale(0.1 -0.1)\">\n      <use xlink:href=\"#DejaVuSans-79\" />\n      <use x=\"78.710938\" xlink:href=\"#DejaVuSans-118\" />\n      <use x=\"137.890625\" xlink:href=\"#DejaVuSans-101\" />\n      <use x=\"199.414062\" xlink:href=\"#DejaVuSans-114\" />\n      <use x=\"240.527344\" xlink:href=\"#DejaVuSans-97\" />\n      <use x=\"301.806641\" xlink:href=\"#DejaVuSans-108\" />\n      <use x=\"329.589844\" xlink:href=\"#DejaVuSans-108\" />\n      <use x=\"357.373047\" xlink:href=\"#DejaVuSans-81\" />\n      <use x=\"436.083984\" xlink:href=\"#DejaVuSans-117\" />\n      <use x=\"499.462891\" xlink:href=\"#DejaVuSans-97\" />\n      <use x=\"560.742188\" xlink:href=\"#DejaVuSans-108\" />\n     </g>\n    </g>\n   </g>\n   <g id=\"matplotlib.axis_2\">\n    <g id=\"ytick_1\">\n     <g id=\"line2d_4\">\n      <defs>\n       <path d=\"M 0 0  L -3.5 0  \" id=\"me4cb92ea49\" style=\"stroke:#444443;stroke-width:0.3;\" />\n      </defs>\n      <g>\n       <use style=\"fill:#444443;stroke:#444443;stroke-width:0.3;\" x=\"37.54\" y=\"43.34931\" xlink:href=\"#me4cb92ea49\" />\n      </g>\n     </g>\n     <g id=\"text_5\">\n      \n      <defs>\n       <path d=\"M 19.1875 8.296875  L 53.609375 8.296875  L 53.609375 0  L 7.328125 0  L 7.328125 8.296875  Q 12.9375 14.109375 22.625 23.890625  Q 32.328125 33.6875 34.8125 36.53125  Q 39.546875 41.84375 41.421875 45.53125  Q 43.3125 49.21875 43.3125 52.78125  Q 43.3125 58.59375 39.234375 62.25  Q 35.15625 65.921875 28.609375 65.921875  Q 23.96875 65.921875 18.8125 64.3125  Q 13.671875 62.703125 7.8125 59.421875  L 7.8125 69.390625  Q 13.765625 71.78125 18.9375 73  Q 24.125 74.21875 28.421875 74.21875  Q 39.75 74.21875 46.484375 68.546875  Q 53.21875 62.890625 53.21875 53.421875  Q 53.21875 48.921875 51.53125 44.890625  Q 49.859375 40.875 45.40625 35.40625  Q 44.1875 33.984375 37.640625 27.21875  Q 31.109375 20.453125 19.1875 8.296875  z \" id=\"DejaVuSans-50\" />\n      </defs>\n      <g style=\"fill:#444443;\" transform=\"translate(0 46.388685)scale(0.08 -0.08)\">\n       <use xlink:href=\"#DejaVuSans-50\" />\n       <use x=\"63.623047\" xlink:href=\"#DejaVuSans-53\" />\n       <use x=\"127.246094\" xlink:href=\"#DejaVuSans-48\" />\n       <use x=\"190.869141\" xlink:href=\"#DejaVuSans-48\" />\n       <use x=\"254.492188\" xlink:href=\"#DejaVuSans-48\" />\n       <use x=\"318.115234\" xlink:href=\"#DejaVuSans-48\" />\n      </g>\n     </g>\n    </g>\n    <g id=\"ytick_2\">\n     <g id=\"line2d_5\">\n      <g>\n       <use style=\"fill:#444443;stroke:#444443;stroke-width:0.3;\" x=\"37.54\" y=\"23.194343\" xlink:href=\"#me4cb92ea49\" />\n      </g>\n     </g>\n     <g id=\"text_6\">\n      \n      <g style=\"fill:#444443;\" transform=\"translate(0 26.233718)scale(0.08 -0.08)\">\n       <use xlink:href=\"#DejaVuSans-53\" />\n       <use x=\"63.623047\" xlink:href=\"#DejaVuSans-48\" />\n       <use x=\"127.246094\" xlink:href=\"#DejaVuSans-48\" />\n       <use x=\"190.869141\" xlink:href=\"#DejaVuSans-48\" />\n       <use x=\"254.492188\" xlink:href=\"#DejaVuSans-48\" />\n       <use x=\"318.115234\" xlink:href=\"#DejaVuSans-48\" />\n      </g>\n     </g>\n    </g>\n    <g id=\"ytick_3\">\n     <g id=\"line2d_6\">\n      <g>\n       <use style=\"fill:#444443;stroke:#444443;stroke-width:0.3;\" x=\"37.54\" y=\"3.039375\" xlink:href=\"#me4cb92ea49\" />\n      </g>\n     </g>\n     <g id=\"text_7\">\n      \n      <defs>\n       <path d=\"M 8.203125 72.90625  L 55.078125 72.90625  L 55.078125 68.703125  L 28.609375 0  L 18.3125 0  L 43.21875 64.59375  L 8.203125 64.59375  z \" id=\"DejaVuSans-55\" />\n      </defs>\n      <g style=\"fill:#444443;\" transform=\"translate(0 6.07875)scale(0.08 -0.08)\">\n       <use xlink:href=\"#DejaVuSans-55\" />\n       <use x=\"63.623047\" xlink:href=\"#DejaVuSans-53\" />\n       <use x=\"127.246094\" xlink:href=\"#DejaVuSans-48\" />\n       <use x=\"190.869141\" xlink:href=\"#DejaVuSans-48\" />\n       <use x=\"254.492188\" xlink:href=\"#DejaVuSans-48\" />\n       <use x=\"318.115234\" xlink:href=\"#DejaVuSans-48\" />\n      </g>\n     </g>\n    </g>\n   </g>\n   <g id=\"line2d_7\">\n    <path clip-path=\"url(#p6bb9fbcb03)\" d=\"M 37.54 52.085639  L 122.79 52.085639  \" style=\"fill:none;stroke:#444443;stroke-dasharray:3.7,1.6;stroke-dashoffset:0;\" />\n   </g>\n   <g id=\"line2d_8\">\n    <path clip-path=\"url(#p6bb9fbcb03)\" d=\"M 122.79 60.606236  L 122.79 0.810236  \" style=\"fill:none;stroke:#444443;stroke-dasharray:3.7,1.6;stroke-dashoffset:0;\" />\n   </g>\n   <g id=\"line2d_9\">\n    <path clip-path=\"url(#p6bb9fbcb03)\" d=\"M 122.79 46.624174  L 177.04 46.624174  \" style=\"fill:none;stroke:#444443;stroke-dasharray:3.7,1.6;stroke-dashoffset:0;\" />\n   </g>\n   <g id=\"patch_4\">\n    <path d=\"M 37.54 60.606236  L 37.54 0.810236  \" style=\"fill:none;stroke:#000000;stroke-linecap:square;stroke-linejoin:miter;stroke-width:0.3;\" />\n   </g>\n   <g id=\"patch_5\">\n    <path d=\"M 37.54 60.606236  L 177.04 60.606236  \" style=\"fill:none;stroke:#000000;stroke-linecap:square;stroke-linejoin:miter;stroke-width:0.3;\" />\n   </g>\n  </g>\n </g>\n <defs>\n  <clipPath id=\"p6bb9fbcb03\">\n   <rect height=\"59.796\" width=\"139.5\" x=\"37.54\" y=\"0.810236\" />\n  </clipPath>\n </defs>\n</svg></g>\n\n<g class=\"node\" id=\"node2\">\n<title>node2</title>\n<svg height=\"67px\" preserveAspectRatio=\"xMinYMin meet\" version=\"1.1\" viewBox=\"0 0 185.94625 89.026861\" width=\"139px\" x=\"187.5\" y=\"-126.5\">\n <defs>\n  <style type=\"text/css\">\n*{stroke-linecap:butt;stroke-linejoin:round;}\n  </style>\n </defs>\n <g id=\"figure_1\">\n  <g id=\"patch_1\">\n   <path d=\"M 0 89.026861  L 185.94625 89.026861  L 185.94625 -0  L 0 -0  z \" style=\"fill:#ffffff;\" />\n  </g>\n  <g id=\"axes_1\">\n   <g id=\"patch_2\">\n    <path d=\"M 37.54 60.606236  L 177.04 60.606236  L 177.04 0.810236  L 37.54 0.810236  z \" style=\"fill:#ffffff;\" />\n   </g>\n   <g id=\"PathCollection_1\">\n    <defs>\n     <path d=\"M 0 1.118034  C 0.296506 1.118034 0.580908 1.000231 0.790569 0.790569  C 1.000231 0.580908 1.118034 0.296506 1.118034 0  C 1.118034 -0.296506 1.000231 -0.580908 0.790569 -0.790569  C 0.580908 -1.000231 0.296506 -1.118034 0 -1.118034  C -0.296506 -1.118034 -0.580908 -1.000231 -0.790569 -0.790569  C -1.000231 -0.580908 -1.118034 -0.296506 -1.118034 0  C -1.118034 0.296506 -1.000231 0.580908 -0.790569 0.790569  C -0.580908 1.000231 -0.296506 1.118034 0 1.118034  z \" id=\"m4c69235551\" style=\"stroke:#4575b4;stroke-opacity:0.7;stroke-width:0.3;\" />\n    </defs>\n    <g clip-path=\"url(#p6eaf049364)\">\n     <use style=\"fill:#4575b4;fill-opacity:0.7;stroke:#4575b4;stroke-opacity:0.7;stroke-width:0.3;\" x=\"161.54\" y=\"37.30282\" xlink:href=\"#m4c69235551\" />\n     <use style=\"fill:#4575b4;fill-opacity:0.7;stroke:#4575b4;stroke-opacity:0.7;stroke-width:0.3;\" x=\"146.04\" y=\"41.575673\" xlink:href=\"#m4c69235551\" />\n     <use style=\"fill:#4575b4;fill-opacity:0.7;stroke:#4575b4;stroke-opacity:0.7;stroke-width:0.3;\" x=\"177.04\" y=\"48.609757\" xlink:href=\"#m4c69235551\" />\n     <use style=\"fill:#4575b4;fill-opacity:0.7;stroke:#4575b4;stroke-opacity:0.7;stroke-width:0.3;\" x=\"161.54\" y=\"41.132264\" xlink:href=\"#m4c69235551\" />\n     <use style=\"fill:#4575b4;fill-opacity:0.7;stroke:#4575b4;stroke-opacity:0.7;stroke-width:0.3;\" x=\"146.04\" y=\"49.476421\" xlink:href=\"#m4c69235551\" />\n     <use style=\"fill:#4575b4;fill-opacity:0.7;stroke:#4575b4;stroke-opacity:0.7;stroke-width:0.3;\" x=\"146.04\" y=\"36.335382\" xlink:href=\"#m4c69235551\" />\n     <use style=\"fill:#4575b4;fill-opacity:0.7;stroke:#4575b4;stroke-opacity:0.7;stroke-width:0.3;\" x=\"177.04\" y=\"3.442474\" xlink:href=\"#m4c69235551\" />\n     <use style=\"fill:#4575b4;fill-opacity:0.7;stroke:#4575b4;stroke-opacity:0.7;stroke-width:0.3;\" x=\"146.04\" y=\"42.841405\" xlink:href=\"#m4c69235551\" />\n     <use style=\"fill:#4575b4;fill-opacity:0.7;stroke:#4575b4;stroke-opacity:0.7;stroke-width:0.3;\" x=\"146.04\" y=\"32.788107\" xlink:href=\"#m4c69235551\" />\n     <use style=\"fill:#4575b4;fill-opacity:0.7;stroke:#4575b4;stroke-opacity:0.7;stroke-width:0.3;\" x=\"146.04\" y=\"45.203567\" xlink:href=\"#m4c69235551\" />\n     <use style=\"fill:#4575b4;fill-opacity:0.7;stroke:#4575b4;stroke-opacity:0.7;stroke-width:0.3;\" x=\"161.54\" y=\"32.868727\" xlink:href=\"#m4c69235551\" />\n     <use style=\"fill:#4575b4;fill-opacity:0.7;stroke:#4575b4;stroke-opacity:0.7;stroke-width:0.3;\" x=\"161.54\" y=\"33.604142\" xlink:href=\"#m4c69235551\" />\n     <use style=\"fill:#4575b4;fill-opacity:0.7;stroke:#4575b4;stroke-opacity:0.7;stroke-width:0.3;\" x=\"146.04\" y=\"40.527615\" xlink:href=\"#m4c69235551\" />\n     <use style=\"fill:#4575b4;fill-opacity:0.7;stroke:#4575b4;stroke-opacity:0.7;stroke-width:0.3;\" x=\"146.04\" y=\"44.397369\" xlink:href=\"#m4c69235551\" />\n     <use style=\"fill:#4575b4;fill-opacity:0.7;stroke:#4575b4;stroke-opacity:0.7;stroke-width:0.3;\" x=\"161.54\" y=\"38.270259\" xlink:href=\"#m4c69235551\" />\n     <use style=\"fill:#4575b4;fill-opacity:0.7;stroke:#4575b4;stroke-opacity:0.7;stroke-width:0.3;\" x=\"146.04\" y=\"48.992701\" xlink:href=\"#m4c69235551\" />\n     <use style=\"fill:#4575b4;fill-opacity:0.7;stroke:#4575b4;stroke-opacity:0.7;stroke-width:0.3;\" x=\"161.54\" y=\"34.481125\" xlink:href=\"#m4c69235551\" />\n     <use style=\"fill:#4575b4;fill-opacity:0.7;stroke:#4575b4;stroke-opacity:0.7;stroke-width:0.3;\" x=\"177.04\" y=\"2.636276\" xlink:href=\"#m4c69235551\" />\n     <use style=\"fill:#4575b4;fill-opacity:0.7;stroke:#4575b4;stroke-opacity:0.7;stroke-width:0.3;\" x=\"146.04\" y=\"46.171006\" xlink:href=\"#m4c69235551\" />\n     <use style=\"fill:#4575b4;fill-opacity:0.7;stroke:#4575b4;stroke-opacity:0.7;stroke-width:0.3;\" x=\"146.04\" y=\"39.038002\" xlink:href=\"#m4c69235551\" />\n     <use style=\"fill:#4575b4;fill-opacity:0.7;stroke:#4575b4;stroke-opacity:0.7;stroke-width:0.3;\" x=\"146.04\" y=\"43.083829\" xlink:href=\"#m4c69235551\" />\n     <use style=\"fill:#4575b4;fill-opacity:0.7;stroke:#4575b4;stroke-opacity:0.7;stroke-width:0.3;\" x=\"177.04\" y=\"25.209839\" xlink:href=\"#m4c69235551\" />\n     <use style=\"fill:#4575b4;fill-opacity:0.7;stroke:#4575b4;stroke-opacity:0.7;stroke-width:0.3;\" x=\"146.04\" y=\"41.091954\" xlink:href=\"#m4c69235551\" />\n     <use style=\"fill:#4575b4;fill-opacity:0.7;stroke:#4575b4;stroke-opacity:0.7;stroke-width:0.3;\" x=\"146.04\" y=\"34.553682\" xlink:href=\"#m4c69235551\" />\n     <use style=\"fill:#4575b4;fill-opacity:0.7;stroke:#4575b4;stroke-opacity:0.7;stroke-width:0.3;\" x=\"146.04\" y=\"43.724193\" xlink:href=\"#m4c69235551\" />\n     <use style=\"fill:#4575b4;fill-opacity:0.7;stroke:#4575b4;stroke-opacity:0.7;stroke-width:0.3;\" x=\"146.04\" y=\"29.251314\" xlink:href=\"#m4c69235551\" />\n     <use style=\"fill:#4575b4;fill-opacity:0.7;stroke:#4575b4;stroke-opacity:0.7;stroke-width:0.3;\" x=\"146.04\" y=\"47.178754\" xlink:href=\"#m4c69235551\" />\n     <use style=\"fill:#4575b4;fill-opacity:0.7;stroke:#4575b4;stroke-opacity:0.7;stroke-width:0.3;\" x=\"146.04\" y=\"40.651528\" xlink:href=\"#m4c69235551\" />\n     <use style=\"fill:#4575b4;fill-opacity:0.7;stroke:#4575b4;stroke-opacity:0.7;stroke-width:0.3;\" x=\"146.04\" y=\"44.701306\" xlink:href=\"#m4c69235551\" />\n     <use style=\"fill:#4575b4;fill-opacity:0.7;stroke:#4575b4;stroke-opacity:0.7;stroke-width:0.3;\" x=\"146.04\" y=\"43.75241\" xlink:href=\"#m4c69235551\" />\n     <use style=\"fill:#4575b4;fill-opacity:0.7;stroke:#4575b4;stroke-opacity:0.7;stroke-width:0.3;\" x=\"161.54\" y=\"37.30282\" xlink:href=\"#m4c69235551\" />\n     <use style=\"fill:#4575b4;fill-opacity:0.7;stroke:#4575b4;stroke-opacity:0.7;stroke-width:0.3;\" x=\"146.04\" y=\"44.236129\" xlink:href=\"#m4c69235551\" />\n     <use style=\"fill:#4575b4;fill-opacity:0.7;stroke:#4575b4;stroke-opacity:0.7;stroke-width:0.3;\" x=\"146.04\" y=\"31.01447\" xlink:href=\"#m4c69235551\" />\n     <use style=\"fill:#4575b4;fill-opacity:0.7;stroke:#4575b4;stroke-opacity:0.7;stroke-width:0.3;\" x=\"146.04\" y=\"42.946211\" xlink:href=\"#m4c69235551\" />\n     <use style=\"fill:#4575b4;fill-opacity:0.7;stroke:#4575b4;stroke-opacity:0.7;stroke-width:0.3;\" x=\"146.04\" y=\"41.736913\" xlink:href=\"#m4c69235551\" />\n     <use style=\"fill:#4575b4;fill-opacity:0.7;stroke:#4575b4;stroke-opacity:0.7;stroke-width:0.3;\" x=\"146.04\" y=\"37.867159\" xlink:href=\"#m4c69235551\" />\n     <use style=\"fill:#4575b4;fill-opacity:0.7;stroke:#4575b4;stroke-opacity:0.7;stroke-width:0.3;\" x=\"146.04\" y=\"41.656293\" xlink:href=\"#m4c69235551\" />\n     <use style=\"fill:#4575b4;fill-opacity:0.7;stroke:#4575b4;stroke-opacity:0.7;stroke-width:0.3;\" x=\"161.54\" y=\"35.690423\" xlink:href=\"#m4c69235551\" />\n     <use style=\"fill:#4575b4;fill-opacity:0.7;stroke:#4575b4;stroke-opacity:0.7;stroke-width:0.3;\" x=\"161.54\" y=\"33.076243\" xlink:href=\"#m4c69235551\" />\n     <use style=\"fill:#4575b4;fill-opacity:0.7;stroke:#4575b4;stroke-opacity:0.7;stroke-width:0.3;\" x=\"161.54\" y=\"33.352446\" xlink:href=\"#m4c69235551\" />\n     <use style=\"fill:#4575b4;fill-opacity:0.7;stroke:#4575b4;stroke-opacity:0.7;stroke-width:0.3;\" x=\"146.04\" y=\"37.867159\" xlink:href=\"#m4c69235551\" />\n     <use style=\"fill:#4575b4;fill-opacity:0.7;stroke:#4575b4;stroke-opacity:0.7;stroke-width:0.3;\" x=\"146.04\" y=\"47.299684\" xlink:href=\"#m4c69235551\" />\n     <use style=\"fill:#4575b4;fill-opacity:0.7;stroke:#4575b4;stroke-opacity:0.7;stroke-width:0.3;\" x=\"146.04\" y=\"44.548289\" xlink:href=\"#m4c69235551\" />\n     <use style=\"fill:#4575b4;fill-opacity:0.7;stroke:#4575b4;stroke-opacity:0.7;stroke-width:0.3;\" x=\"177.04\" y=\"32.364853\" xlink:href=\"#m4c69235551\" />\n     <use style=\"fill:#4575b4;fill-opacity:0.7;stroke:#4575b4;stroke-opacity:0.7;stroke-width:0.3;\" x=\"146.04\" y=\"38.310568\" xlink:href=\"#m4c69235551\" />\n     <use style=\"fill:#4575b4;fill-opacity:0.7;stroke:#4575b4;stroke-opacity:0.7;stroke-width:0.3;\" x=\"146.04\" y=\"44.195819\" xlink:href=\"#m4c69235551\" />\n     <use style=\"fill:#4575b4;fill-opacity:0.7;stroke:#4575b4;stroke-opacity:0.7;stroke-width:0.3;\" x=\"146.04\" y=\"43.34931\" xlink:href=\"#m4c69235551\" />\n     <use style=\"fill:#4575b4;fill-opacity:0.7;stroke:#4575b4;stroke-opacity:0.7;stroke-width:0.3;\" x=\"146.04\" y=\"43.373496\" xlink:href=\"#m4c69235551\" />\n     <use style=\"fill:#4575b4;fill-opacity:0.7;stroke:#4575b4;stroke-opacity:0.7;stroke-width:0.3;\" x=\"146.04\" y=\"43.784658\" xlink:href=\"#m4c69235551\" />\n     <use style=\"fill:#4575b4;fill-opacity:0.7;stroke:#4575b4;stroke-opacity:0.7;stroke-width:0.3;\" x=\"146.04\" y=\"41.091954\" xlink:href=\"#m4c69235551\" />\n     <use style=\"fill:#4575b4;fill-opacity:0.7;stroke:#4575b4;stroke-opacity:0.7;stroke-width:0.3;\" x=\"146.04\" y=\"39.334441\" xlink:href=\"#m4c69235551\" />\n     <use style=\"fill:#4575b4;fill-opacity:0.7;stroke:#4575b4;stroke-opacity:0.7;stroke-width:0.3;\" x=\"161.54\" y=\"38.124095\" xlink:href=\"#m4c69235551\" />\n     <use style=\"fill:#4575b4;fill-opacity:0.7;stroke:#4575b4;stroke-opacity:0.7;stroke-width:0.3;\" x=\"146.04\" y=\"33.682988\" xlink:href=\"#m4c69235551\" />\n     <use style=\"fill:#4575b4;fill-opacity:0.7;stroke:#4575b4;stroke-opacity:0.7;stroke-width:0.3;\" x=\"146.04\" y=\"40.695143\" xlink:href=\"#m4c69235551\" />\n     <use style=\"fill:#4575b4;fill-opacity:0.7;stroke:#4575b4;stroke-opacity:0.7;stroke-width:0.3;\" x=\"146.04\" y=\"38.753978\" xlink:href=\"#m4c69235551\" />\n     <use style=\"fill:#4575b4;fill-opacity:0.7;stroke:#4575b4;stroke-opacity:0.7;stroke-width:0.3;\" x=\"161.54\" y=\"36.496621\" xlink:href=\"#m4c69235551\" />\n     <use style=\"fill:#4575b4;fill-opacity:0.7;stroke:#4575b4;stroke-opacity:0.7;stroke-width:0.3;\" x=\"146.04\" y=\"42.543112\" xlink:href=\"#m4c69235551\" />\n     <use style=\"fill:#4575b4;fill-opacity:0.7;stroke:#4575b4;stroke-opacity:0.7;stroke-width:0.3;\" x=\"146.04\" y=\"34.964844\" xlink:href=\"#m4c69235551\" />\n     <use style=\"fill:#4575b4;fill-opacity:0.7;stroke:#4575b4;stroke-opacity:0.7;stroke-width:0.3;\" x=\"161.54\" y=\"27.526774\" xlink:href=\"#m4c69235551\" />\n     <use style=\"fill:#4575b4;fill-opacity:0.7;stroke:#4575b4;stroke-opacity:0.7;stroke-width:0.3;\" x=\"161.54\" y=\"30.023007\" xlink:href=\"#m4c69235551\" />\n     <use style=\"fill:#4575b4;fill-opacity:0.7;stroke:#4575b4;stroke-opacity:0.7;stroke-width:0.3;\" x=\"146.04\" y=\"28.837734\" xlink:href=\"#m4c69235551\" />\n     <use style=\"fill:#4575b4;fill-opacity:0.7;stroke:#4575b4;stroke-opacity:0.7;stroke-width:0.3;\" x=\"161.54\" y=\"38.109019\" xlink:href=\"#m4c69235551\" />\n     <use style=\"fill:#4575b4;fill-opacity:0.7;stroke:#4575b4;stroke-opacity:0.7;stroke-width:0.3;\" x=\"146.04\" y=\"38.109019\" xlink:href=\"#m4c69235551\" />\n     <use style=\"fill:#4575b4;fill-opacity:0.7;stroke:#4575b4;stroke-opacity:0.7;stroke-width:0.3;\" x=\"146.04\" y=\"41.253194\" xlink:href=\"#m4c69235551\" />\n     <use style=\"fill:#4575b4;fill-opacity:0.7;stroke:#4575b4;stroke-opacity:0.7;stroke-width:0.3;\" x=\"146.04\" y=\"20.130788\" xlink:href=\"#m4c69235551\" />\n     <use style=\"fill:#4575b4;fill-opacity:0.7;stroke:#4575b4;stroke-opacity:0.7;stroke-width:0.3;\" x=\"146.04\" y=\"45.767907\" xlink:href=\"#m4c69235551\" />\n     <use style=\"fill:#4575b4;fill-opacity:0.7;stroke:#4575b4;stroke-opacity:0.7;stroke-width:0.3;\" x=\"146.04\" y=\"44.921398\" xlink:href=\"#m4c69235551\" />\n     <use style=\"fill:#4575b4;fill-opacity:0.7;stroke:#4575b4;stroke-opacity:0.7;stroke-width:0.3;\" x=\"146.04\" y=\"53.668654\" xlink:href=\"#m4c69235551\" />\n    </g>\n   </g>\n   <g id=\"patch_3\">\n    <path d=\"M 153.79 60.606236  L 151.279 66.585836  L 156.301 66.585836  z \" style=\"fill:#444443;\" />\n   </g>\n   <g id=\"matplotlib.axis_1\">\n    <g id=\"xtick_1\">\n     <g id=\"line2d_1\">\n      <defs>\n       <path d=\"M 0 0  L 0 3.5  \" id=\"m6ee18aa9c4\" style=\"stroke:#444443;stroke-width:0.3;\" />\n      </defs>\n      <g>\n       <use style=\"fill:#444443;stroke:#444443;stroke-width:0.3;\" x=\"37.54\" y=\"60.606236\" xlink:href=\"#m6ee18aa9c4\" />\n      </g>\n     </g>\n     <g id=\"text_1\">\n      \n      <defs>\n       <path d=\"M 12.40625 8.296875  L 28.515625 8.296875  L 28.515625 63.921875  L 10.984375 60.40625  L 10.984375 69.390625  L 28.421875 72.90625  L 38.28125 72.90625  L 38.28125 8.296875  L 54.390625 8.296875  L 54.390625 0  L 12.40625 0  z \" id=\"DejaVuSans-49\" />\n       <path d=\"M 10.6875 12.40625  L 21 12.40625  L 21 0  L 10.6875 0  z \" id=\"DejaVuSans-46\" />\n       <path d=\"M 31.78125 66.40625  Q 24.171875 66.40625 20.328125 58.90625  Q 16.5 51.421875 16.5 36.375  Q 16.5 21.390625 20.328125 13.890625  Q 24.171875 6.390625 31.78125 6.390625  Q 39.453125 6.390625 43.28125 13.890625  Q 47.125 21.390625 47.125 36.375  Q 47.125 51.421875 43.28125 58.90625  Q 39.453125 66.40625 31.78125 66.40625  z M 31.78125 74.21875  Q 44.046875 74.21875 50.515625 64.515625  Q 56.984375 54.828125 56.984375 36.375  Q 56.984375 17.96875 50.515625 8.265625  Q 44.046875 -1.421875 31.78125 -1.421875  Q 19.53125 -1.421875 13.0625 8.265625  Q 6.59375 17.96875 6.59375 36.375  Q 6.59375 54.828125 13.0625 64.515625  Q 19.53125 74.21875 31.78125 74.21875  z \" id=\"DejaVuSans-48\" />\n      </defs>\n      <g style=\"fill:#444443;\" transform=\"translate(31.17875 73.684986)scale(0.08 -0.08)\">\n       <use xlink:href=\"#DejaVuSans-49\" />\n       <use x=\"63.623047\" xlink:href=\"#DejaVuSans-46\" />\n       <use x=\"95.410156\" xlink:href=\"#DejaVuSans-48\" />\n      </g>\n     </g>\n    </g>\n    <g id=\"xtick_2\">\n     <g id=\"line2d_2\">\n      <g>\n       <use style=\"fill:#444443;stroke:#444443;stroke-width:0.3;\" x=\"177.04\" y=\"60.606236\" xlink:href=\"#m6ee18aa9c4\" />\n      </g>\n     </g>\n     <g id=\"text_2\">\n      \n      <g style=\"fill:#444443;\" transform=\"translate(168.13375 73.684986)scale(0.08 -0.08)\">\n       <use xlink:href=\"#DejaVuSans-49\" />\n       <use x=\"63.623047\" xlink:href=\"#DejaVuSans-48\" />\n       <use x=\"127.246094\" xlink:href=\"#DejaVuSans-46\" />\n       <use x=\"159.033203\" xlink:href=\"#DejaVuSans-48\" />\n      </g>\n     </g>\n    </g>\n    <g id=\"xtick_3\">\n     <g id=\"line2d_3\">\n      <g>\n       <use style=\"fill:#444443;stroke:#444443;stroke-width:0.3;\" x=\"153.79\" y=\"60.606236\" xlink:href=\"#m6ee18aa9c4\" />\n      </g>\n     </g>\n     <g id=\"text_3\">\n      \n      <defs>\n       <path d=\"M 31.78125 34.625  Q 24.75 34.625 20.71875 30.859375  Q 16.703125 27.09375 16.703125 20.515625  Q 16.703125 13.921875 20.71875 10.15625  Q 24.75 6.390625 31.78125 6.390625  Q 38.8125 6.390625 42.859375 10.171875  Q 46.921875 13.96875 46.921875 20.515625  Q 46.921875 27.09375 42.890625 30.859375  Q 38.875 34.625 31.78125 34.625  z M 21.921875 38.8125  Q 15.578125 40.375 12.03125 44.71875  Q 8.5 49.078125 8.5 55.328125  Q 8.5 64.0625 14.71875 69.140625  Q 20.953125 74.21875 31.78125 74.21875  Q 42.671875 74.21875 48.875 69.140625  Q 55.078125 64.0625 55.078125 55.328125  Q 55.078125 49.078125 51.53125 44.71875  Q 48 40.375 41.703125 38.8125  Q 48.828125 37.15625 52.796875 32.3125  Q 56.78125 27.484375 56.78125 20.515625  Q 56.78125 9.90625 50.3125 4.234375  Q 43.84375 -1.421875 31.78125 -1.421875  Q 19.734375 -1.421875 13.25 4.234375  Q 6.78125 9.90625 6.78125 20.515625  Q 6.78125 27.484375 10.78125 32.3125  Q 14.796875 37.15625 21.921875 38.8125  z M 18.3125 54.390625  Q 18.3125 48.734375 21.84375 45.5625  Q 25.390625 42.390625 31.78125 42.390625  Q 38.140625 42.390625 41.71875 45.5625  Q 45.3125 48.734375 45.3125 54.390625  Q 45.3125 60.0625 41.71875 63.234375  Q 38.140625 66.40625 31.78125 66.40625  Q 25.390625 66.40625 21.84375 63.234375  Q 18.3125 60.0625 18.3125 54.390625  z \" id=\"DejaVuSans-56\" />\n       <path d=\"M 10.796875 72.90625  L 49.515625 72.90625  L 49.515625 64.59375  L 19.828125 64.59375  L 19.828125 46.734375  Q 21.96875 47.46875 24.109375 47.828125  Q 26.265625 48.1875 28.421875 48.1875  Q 40.625 48.1875 47.75 41.5  Q 54.890625 34.8125 54.890625 23.390625  Q 54.890625 11.625 47.5625 5.09375  Q 40.234375 -1.421875 26.90625 -1.421875  Q 22.3125 -1.421875 17.546875 -0.640625  Q 12.796875 0.140625 7.71875 1.703125  L 7.71875 11.625  Q 12.109375 9.234375 16.796875 8.0625  Q 21.484375 6.890625 26.703125 6.890625  Q 35.15625 6.890625 40.078125 11.328125  Q 45.015625 15.765625 45.015625 23.390625  Q 45.015625 31 40.078125 35.4375  Q 35.15625 39.890625 26.703125 39.890625  Q 22.75 39.890625 18.8125 39.015625  Q 14.890625 38.140625 10.796875 36.28125  z \" id=\"DejaVuSans-53\" />\n      </defs>\n      <g style=\"fill:#444443;\" transform=\"translate(147.42875 73.684986)scale(0.08 -0.08)\">\n       <use xlink:href=\"#DejaVuSans-56\" />\n       <use x=\"63.623047\" xlink:href=\"#DejaVuSans-46\" />\n       <use x=\"95.410156\" xlink:href=\"#DejaVuSans-53\" />\n      </g>\n     </g>\n    </g>\n    <g id=\"text_4\">\n     \n     <defs>\n      <path d=\"M 39.40625 66.21875  Q 28.65625 66.21875 22.328125 58.203125  Q 16.015625 50.203125 16.015625 36.375  Q 16.015625 22.609375 22.328125 14.59375  Q 28.65625 6.59375 39.40625 6.59375  Q 50.140625 6.59375 56.421875 14.59375  Q 62.703125 22.609375 62.703125 36.375  Q 62.703125 50.203125 56.421875 58.203125  Q 50.140625 66.21875 39.40625 66.21875  z M 39.40625 74.21875  Q 54.734375 74.21875 63.90625 63.9375  Q 73.09375 53.65625 73.09375 36.375  Q 73.09375 19.140625 63.90625 8.859375  Q 54.734375 -1.421875 39.40625 -1.421875  Q 24.03125 -1.421875 14.8125 8.828125  Q 5.609375 19.09375 5.609375 36.375  Q 5.609375 53.65625 14.8125 63.9375  Q 24.03125 74.21875 39.40625 74.21875  z \" id=\"DejaVuSans-79\" />\n      <path d=\"M 2.984375 54.6875  L 12.5 54.6875  L 29.59375 8.796875  L 46.6875 54.6875  L 56.203125 54.6875  L 35.6875 0  L 23.484375 0  z \" id=\"DejaVuSans-118\" />\n      <path d=\"M 56.203125 29.59375  L 56.203125 25.203125  L 14.890625 25.203125  Q 15.484375 15.921875 20.484375 11.0625  Q 25.484375 6.203125 34.421875 6.203125  Q 39.59375 6.203125 44.453125 7.46875  Q 49.3125 8.734375 54.109375 11.28125  L 54.109375 2.78125  Q 49.265625 0.734375 44.1875 -0.34375  Q 39.109375 -1.421875 33.890625 -1.421875  Q 20.796875 -1.421875 13.15625 6.1875  Q 5.515625 13.8125 5.515625 26.8125  Q 5.515625 40.234375 12.765625 48.109375  Q 20.015625 56 32.328125 56  Q 43.359375 56 49.78125 48.890625  Q 56.203125 41.796875 56.203125 29.59375  z M 47.21875 32.234375  Q 47.125 39.59375 43.09375 43.984375  Q 39.0625 48.390625 32.421875 48.390625  Q 24.90625 48.390625 20.390625 44.140625  Q 15.875 39.890625 15.1875 32.171875  z \" id=\"DejaVuSans-101\" />\n      <path d=\"M 41.109375 46.296875  Q 39.59375 47.171875 37.8125 47.578125  Q 36.03125 48 33.890625 48  Q 26.265625 48 22.1875 43.046875  Q 18.109375 38.09375 18.109375 28.8125  L 18.109375 0  L 9.078125 0  L 9.078125 54.6875  L 18.109375 54.6875  L 18.109375 46.1875  Q 20.953125 51.171875 25.484375 53.578125  Q 30.03125 56 36.53125 56  Q 37.453125 56 38.578125 55.875  Q 39.703125 55.765625 41.0625 55.515625  z \" id=\"DejaVuSans-114\" />\n      <path d=\"M 34.28125 27.484375  Q 23.390625 27.484375 19.1875 25  Q 14.984375 22.515625 14.984375 16.5  Q 14.984375 11.71875 18.140625 8.90625  Q 21.296875 6.109375 26.703125 6.109375  Q 34.1875 6.109375 38.703125 11.40625  Q 43.21875 16.703125 43.21875 25.484375  L 43.21875 27.484375  z M 52.203125 31.203125  L 52.203125 0  L 43.21875 0  L 43.21875 8.296875  Q 40.140625 3.328125 35.546875 0.953125  Q 30.953125 -1.421875 24.3125 -1.421875  Q 15.921875 -1.421875 10.953125 3.296875  Q 6 8.015625 6 15.921875  Q 6 25.140625 12.171875 29.828125  Q 18.359375 34.515625 30.609375 34.515625  L 43.21875 34.515625  L 43.21875 35.40625  Q 43.21875 41.609375 39.140625 45  Q 35.0625 48.390625 27.6875 48.390625  Q 23 48.390625 18.546875 47.265625  Q 14.109375 46.140625 10.015625 43.890625  L 10.015625 52.203125  Q 14.9375 54.109375 19.578125 55.046875  Q 24.21875 56 28.609375 56  Q 40.484375 56 46.34375 49.84375  Q 52.203125 43.703125 52.203125 31.203125  z \" id=\"DejaVuSans-97\" />\n      <path d=\"M 9.421875 75.984375  L 18.40625 75.984375  L 18.40625 0  L 9.421875 0  z \" id=\"DejaVuSans-108\" />\n      <path d=\"M 39.40625 66.21875  Q 28.65625 66.21875 22.328125 58.203125  Q 16.015625 50.203125 16.015625 36.375  Q 16.015625 22.609375 22.328125 14.59375  Q 28.65625 6.59375 39.40625 6.59375  Q 50.140625 6.59375 56.421875 14.59375  Q 62.703125 22.609375 62.703125 36.375  Q 62.703125 50.203125 56.421875 58.203125  Q 50.140625 66.21875 39.40625 66.21875  z M 53.21875 1.3125  L 66.21875 -12.890625  L 54.296875 -12.890625  L 43.5 -1.21875  Q 41.890625 -1.3125 41.03125 -1.359375  Q 40.1875 -1.421875 39.40625 -1.421875  Q 24.03125 -1.421875 14.8125 8.859375  Q 5.609375 19.140625 5.609375 36.375  Q 5.609375 53.65625 14.8125 63.9375  Q 24.03125 74.21875 39.40625 74.21875  Q 54.734375 74.21875 63.90625 63.9375  Q 73.09375 53.65625 73.09375 36.375  Q 73.09375 23.6875 67.984375 14.640625  Q 62.890625 5.609375 53.21875 1.3125  z \" id=\"DejaVuSans-81\" />\n      <path d=\"M 8.5 21.578125  L 8.5 54.6875  L 17.484375 54.6875  L 17.484375 21.921875  Q 17.484375 14.15625 20.5 10.265625  Q 23.53125 6.390625 29.59375 6.390625  Q 36.859375 6.390625 41.078125 11.03125  Q 45.3125 15.671875 45.3125 23.6875  L 45.3125 54.6875  L 54.296875 54.6875  L 54.296875 0  L 45.3125 0  L 45.3125 8.40625  Q 42.046875 3.421875 37.71875 1  Q 33.40625 -1.421875 27.6875 -1.421875  Q 18.265625 -1.421875 13.375 4.4375  Q 8.5 10.296875 8.5 21.578125  z M 31.109375 56  z \" id=\"DejaVuSans-117\" />\n     </defs>\n     <g style=\"fill:#444443;\" transform=\"translate(77.862656 86.947173)scale(0.1 -0.1)\">\n      <use xlink:href=\"#DejaVuSans-79\" />\n      <use x=\"78.710938\" xlink:href=\"#DejaVuSans-118\" />\n      <use x=\"137.890625\" xlink:href=\"#DejaVuSans-101\" />\n      <use x=\"199.414062\" xlink:href=\"#DejaVuSans-114\" />\n      <use x=\"240.527344\" xlink:href=\"#DejaVuSans-97\" />\n      <use x=\"301.806641\" xlink:href=\"#DejaVuSans-108\" />\n      <use x=\"329.589844\" xlink:href=\"#DejaVuSans-108\" />\n      <use x=\"357.373047\" xlink:href=\"#DejaVuSans-81\" />\n      <use x=\"436.083984\" xlink:href=\"#DejaVuSans-117\" />\n      <use x=\"499.462891\" xlink:href=\"#DejaVuSans-97\" />\n      <use x=\"560.742188\" xlink:href=\"#DejaVuSans-108\" />\n     </g>\n    </g>\n   </g>\n   <g id=\"matplotlib.axis_2\">\n    <g id=\"ytick_1\">\n     <g id=\"line2d_4\">\n      <defs>\n       <path d=\"M 0 0  L -3.5 0  \" id=\"m9877c426fc\" style=\"stroke:#444443;stroke-width:0.3;\" />\n      </defs>\n      <g>\n       <use style=\"fill:#444443;stroke:#444443;stroke-width:0.3;\" x=\"37.54\" y=\"43.34931\" xlink:href=\"#m9877c426fc\" />\n      </g>\n     </g>\n     <g id=\"text_5\">\n      \n      <defs>\n       <path d=\"M 19.1875 8.296875  L 53.609375 8.296875  L 53.609375 0  L 7.328125 0  L 7.328125 8.296875  Q 12.9375 14.109375 22.625 23.890625  Q 32.328125 33.6875 34.8125 36.53125  Q 39.546875 41.84375 41.421875 45.53125  Q 43.3125 49.21875 43.3125 52.78125  Q 43.3125 58.59375 39.234375 62.25  Q 35.15625 65.921875 28.609375 65.921875  Q 23.96875 65.921875 18.8125 64.3125  Q 13.671875 62.703125 7.8125 59.421875  L 7.8125 69.390625  Q 13.765625 71.78125 18.9375 73  Q 24.125 74.21875 28.421875 74.21875  Q 39.75 74.21875 46.484375 68.546875  Q 53.21875 62.890625 53.21875 53.421875  Q 53.21875 48.921875 51.53125 44.890625  Q 49.859375 40.875 45.40625 35.40625  Q 44.1875 33.984375 37.640625 27.21875  Q 31.109375 20.453125 19.1875 8.296875  z \" id=\"DejaVuSans-50\" />\n      </defs>\n      <g style=\"fill:#444443;\" transform=\"translate(0 46.388685)scale(0.08 -0.08)\">\n       <use xlink:href=\"#DejaVuSans-50\" />\n       <use x=\"63.623047\" xlink:href=\"#DejaVuSans-53\" />\n       <use x=\"127.246094\" xlink:href=\"#DejaVuSans-48\" />\n       <use x=\"190.869141\" xlink:href=\"#DejaVuSans-48\" />\n       <use x=\"254.492188\" xlink:href=\"#DejaVuSans-48\" />\n       <use x=\"318.115234\" xlink:href=\"#DejaVuSans-48\" />\n      </g>\n     </g>\n    </g>\n    <g id=\"ytick_2\">\n     <g id=\"line2d_5\">\n      <g>\n       <use style=\"fill:#444443;stroke:#444443;stroke-width:0.3;\" x=\"37.54\" y=\"23.194343\" xlink:href=\"#m9877c426fc\" />\n      </g>\n     </g>\n     <g id=\"text_6\">\n      \n      <g style=\"fill:#444443;\" transform=\"translate(0 26.233718)scale(0.08 -0.08)\">\n       <use xlink:href=\"#DejaVuSans-53\" />\n       <use x=\"63.623047\" xlink:href=\"#DejaVuSans-48\" />\n       <use x=\"127.246094\" xlink:href=\"#DejaVuSans-48\" />\n       <use x=\"190.869141\" xlink:href=\"#DejaVuSans-48\" />\n       <use x=\"254.492188\" xlink:href=\"#DejaVuSans-48\" />\n       <use x=\"318.115234\" xlink:href=\"#DejaVuSans-48\" />\n      </g>\n     </g>\n    </g>\n    <g id=\"ytick_3\">\n     <g id=\"line2d_6\">\n      <g>\n       <use style=\"fill:#444443;stroke:#444443;stroke-width:0.3;\" x=\"37.54\" y=\"3.039375\" xlink:href=\"#m9877c426fc\" />\n      </g>\n     </g>\n     <g id=\"text_7\">\n      \n      <defs>\n       <path d=\"M 8.203125 72.90625  L 55.078125 72.90625  L 55.078125 68.703125  L 28.609375 0  L 18.3125 0  L 43.21875 64.59375  L 8.203125 64.59375  z \" id=\"DejaVuSans-55\" />\n      </defs>\n      <g style=\"fill:#444443;\" transform=\"translate(0 6.07875)scale(0.08 -0.08)\">\n       <use xlink:href=\"#DejaVuSans-55\" />\n       <use x=\"63.623047\" xlink:href=\"#DejaVuSans-53\" />\n       <use x=\"127.246094\" xlink:href=\"#DejaVuSans-48\" />\n       <use x=\"190.869141\" xlink:href=\"#DejaVuSans-48\" />\n       <use x=\"254.492188\" xlink:href=\"#DejaVuSans-48\" />\n       <use x=\"318.115234\" xlink:href=\"#DejaVuSans-48\" />\n      </g>\n     </g>\n    </g>\n   </g>\n   <g id=\"line2d_7\">\n    <path clip-path=\"url(#p6eaf049364)\" d=\"M 37.54 40.859948  L 153.79 40.859948  \" style=\"fill:none;stroke:#444443;stroke-dasharray:3.7,1.6;stroke-dashoffset:0;\" />\n   </g>\n   <g id=\"line2d_8\">\n    <path clip-path=\"url(#p6eaf049364)\" d=\"M 153.79 60.606236  L 153.79 0.810236  \" style=\"fill:none;stroke:#444443;stroke-dasharray:3.7,1.6;stroke-dashoffset:0;\" />\n   </g>\n   <g id=\"line2d_9\">\n    <path clip-path=\"url(#p6eaf049364)\" d=\"M 153.79 31.981199  L 177.04 31.981199  \" style=\"fill:none;stroke:#444443;stroke-dasharray:3.7,1.6;stroke-dashoffset:0;\" />\n   </g>\n   <g id=\"patch_4\">\n    <path d=\"M 37.54 60.606236  L 37.54 0.810236  \" style=\"fill:none;stroke:#000000;stroke-linecap:square;stroke-linejoin:miter;stroke-width:0.3;\" />\n   </g>\n   <g id=\"patch_5\">\n    <path d=\"M 37.54 60.606236  L 177.04 60.606236  \" style=\"fill:none;stroke:#000000;stroke-linecap:square;stroke-linejoin:miter;stroke-width:0.3;\" />\n   </g>\n  </g>\n </g>\n <defs>\n  <clipPath id=\"p6eaf049364\">\n   <rect height=\"59.796\" width=\"139.5\" x=\"37.54\" y=\"0.810236\" />\n  </clipPath>\n </defs>\n</svg></g>\n\n\n<g class=\"node\" id=\"node4\">\n<title>leaf3</title>\n<polygon fill=\"none\" points=\"440,-272 347,-272 347,-213 440,-213 440,-272\" stroke=\"#444443\" stroke-width=\"0\" />\n<svg height=\"51px\" preserveAspectRatio=\"xMinYMin meet\" version=\"1.1\" viewBox=\"0 0 113.095469 67.53212\" width=\"85px\" x=\"351.5\" y=\"-267.5\">\n <defs>\n  <style type=\"text/css\">\n*{stroke-linecap:butt;stroke-linejoin:round;}\n  </style>\n </defs>\n <g id=\"figure_1\">\n  <g id=\"patch_1\">\n   <path d=\"M 0 67.53212  L 113.095469 67.53212  L 113.095469 0  L 0 0  z \" style=\"fill:#ffffff;\" />\n  </g>\n  <g id=\"axes_1\">\n   <g id=\"patch_2\">\n    <path d=\"M 37.54 44.906183  L 79.39 44.906183  L 79.39 1.418183  L 37.54 1.418183  z \" style=\"fill:#ffffff;\" />\n   </g>\n   <g id=\"PathCollection_1\">\n    <defs>\n     <path d=\"M 0 1.118034  C 0.296506 1.118034 0.580908 1.000231 0.790569 0.790569  C 1.000231 0.580908 1.118034 0.296506 1.118034 0  C 1.118034 -0.296506 1.000231 -0.580908 0.790569 -0.790569  C 0.580908 -1.000231 0.296506 -1.118034 0 -1.118034  C -0.296506 -1.118034 -0.580908 -1.000231 -0.790569 -0.790569  C -1.000231 -0.580908 -1.118034 -0.296506 -1.118034 0  C -1.118034 0.296506 -1.000231 0.580908 -0.790569 0.790569  C -0.580908 1.000231 -0.296506 1.118034 0 1.118034  z \" id=\"m2c10c142da\" style=\"stroke:#4575b4;stroke-opacity:0.7;stroke-width:0.3;\" />\n    </defs>\n    <g clip-path=\"url(#p356bf8b759)\">\n     <use style=\"fill:#4575b4;fill-opacity:0.7;stroke:#4575b4;stroke-opacity:0.7;stroke-width:0.3;\" x=\"53.979924\" y=\"38.863914\" xlink:href=\"#m2c10c142da\" />\n     <use style=\"fill:#4575b4;fill-opacity:0.7;stroke:#4575b4;stroke-opacity:0.7;stroke-width:0.3;\" x=\"58.963484\" y=\"35.008818\" xlink:href=\"#m2c10c142da\" />\n     <use style=\"fill:#4575b4;fill-opacity:0.7;stroke:#4575b4;stroke-opacity:0.7;stroke-width:0.3;\" x=\"54.915255\" y=\"36.577241\" xlink:href=\"#m2c10c142da\" />\n     <use style=\"fill:#4575b4;fill-opacity:0.7;stroke:#4575b4;stroke-opacity:0.7;stroke-width:0.3;\" x=\"54.72212\" y=\"38.614725\" xlink:href=\"#m2c10c142da\" />\n     <use style=\"fill:#4575b4;fill-opacity:0.7;stroke:#4575b4;stroke-opacity:0.7;stroke-width:0.3;\" x=\"53.902668\" y=\"35.87365\" xlink:href=\"#m2c10c142da\" />\n     <use style=\"fill:#4575b4;fill-opacity:0.7;stroke:#4575b4;stroke-opacity:0.7;stroke-width:0.3;\" x=\"52.066123\" y=\"38.863914\" xlink:href=\"#m2c10c142da\" />\n     <use style=\"fill:#4575b4;fill-opacity:0.7;stroke:#4575b4;stroke-opacity:0.7;stroke-width:0.3;\" x=\"56.566138\" y=\"41.766229\" xlink:href=\"#m2c10c142da\" />\n     <use style=\"fill:#4575b4;fill-opacity:0.7;stroke:#4575b4;stroke-opacity:0.7;stroke-width:0.3;\" x=\"62.24452\" y=\"38.688016\" xlink:href=\"#m2c10c142da\" />\n     <use style=\"fill:#4575b4;fill-opacity:0.7;stroke:#4575b4;stroke-opacity:0.7;stroke-width:0.3;\" x=\"66.019708\" y=\"38.218955\" xlink:href=\"#m2c10c142da\" />\n     <use style=\"fill:#4575b4;fill-opacity:0.7;stroke:#4575b4;stroke-opacity:0.7;stroke-width:0.3;\" x=\"56.544637\" y=\"39.174667\" xlink:href=\"#m2c10c142da\" />\n     <use style=\"fill:#4575b4;fill-opacity:0.7;stroke:#4575b4;stroke-opacity:0.7;stroke-width:0.3;\" x=\"62.101281\" y=\"40.534944\" xlink:href=\"#m2c10c142da\" />\n     <use style=\"fill:#4575b4;fill-opacity:0.7;stroke:#4575b4;stroke-opacity:0.7;stroke-width:0.3;\" x=\"57.143938\" y=\"38.6587\" xlink:href=\"#m2c10c142da\" />\n     <use style=\"fill:#4575b4;fill-opacity:0.7;stroke:#4575b4;stroke-opacity:0.7;stroke-width:0.3;\" x=\"52.938337\" y=\"39.684771\" xlink:href=\"#m2c10c142da\" />\n     <use style=\"fill:#4575b4;fill-opacity:0.7;stroke:#4575b4;stroke-opacity:0.7;stroke-width:0.3;\" x=\"60.811755\" y=\"36.049548\" xlink:href=\"#m2c10c142da\" />\n     <use style=\"fill:#4575b4;fill-opacity:0.7;stroke:#4575b4;stroke-opacity:0.7;stroke-width:0.3;\" x=\"59.251158\" y=\"37.2222\" xlink:href=\"#m2c10c142da\" />\n     <use style=\"fill:#4575b4;fill-opacity:0.7;stroke:#4575b4;stroke-opacity:0.7;stroke-width:0.3;\" x=\"64.55173\" y=\"38.840461\" xlink:href=\"#m2c10c142da\" />\n     <use style=\"fill:#4575b4;fill-opacity:0.7;stroke:#4575b4;stroke-opacity:0.7;stroke-width:0.3;\" x=\"53.326896\" y=\"37.427414\" xlink:href=\"#m2c10c142da\" />\n     <use style=\"fill:#4575b4;fill-opacity:0.7;stroke:#4575b4;stroke-opacity:0.7;stroke-width:0.3;\" x=\"67.826118\" y=\"39.479557\" xlink:href=\"#m2c10c142da\" />\n     <use style=\"fill:#4575b4;fill-opacity:0.7;stroke:#4575b4;stroke-opacity:0.7;stroke-width:0.3;\" x=\"63.79407\" y=\"38.89323\" xlink:href=\"#m2c10c142da\" />\n     <use style=\"fill:#4575b4;fill-opacity:0.7;stroke:#4575b4;stroke-opacity:0.7;stroke-width:0.3;\" x=\"58.404992\" y=\"38.512118\" xlink:href=\"#m2c10c142da\" />\n     <use style=\"fill:#4575b4;fill-opacity:0.7;stroke:#4575b4;stroke-opacity:0.7;stroke-width:0.3;\" x=\"57.465161\" y=\"39.860669\" xlink:href=\"#m2c10c142da\" />\n     <use style=\"fill:#4575b4;fill-opacity:0.7;stroke:#4575b4;stroke-opacity:0.7;stroke-width:0.3;\" x=\"56.068469\" y=\"40.446995\" xlink:href=\"#m2c10c142da\" />\n     <use style=\"fill:#4575b4;fill-opacity:0.7;stroke:#4575b4;stroke-opacity:0.7;stroke-width:0.3;\" x=\"58.832385\" y=\"39.655454\" xlink:href=\"#m2c10c142da\" />\n     <use style=\"fill:#4575b4;fill-opacity:0.7;stroke:#4575b4;stroke-opacity:0.7;stroke-width:0.3;\" x=\"57.849182\" y=\"40.271097\" xlink:href=\"#m2c10c142da\" />\n     <use style=\"fill:#4575b4;fill-opacity:0.7;stroke:#4575b4;stroke-opacity:0.7;stroke-width:0.3;\" x=\"60.185187\" y=\"40.071746\" xlink:href=\"#m2c10c142da\" />\n     <use style=\"fill:#4575b4;fill-opacity:0.7;stroke:#4575b4;stroke-opacity:0.7;stroke-width:0.3;\" x=\"57.47946\" y=\"36.870404\" xlink:href=\"#m2c10c142da\" />\n     <use style=\"fill:#4575b4;fill-opacity:0.7;stroke:#4575b4;stroke-opacity:0.7;stroke-width:0.3;\" x=\"63.202298\" y=\"38.453485\" xlink:href=\"#m2c10c142da\" />\n     <use style=\"fill:#4575b4;fill-opacity:0.7;stroke:#4575b4;stroke-opacity:0.7;stroke-width:0.3;\" x=\"58.883654\" y=\"39.538189\" xlink:href=\"#m2c10c142da\" />\n     <use style=\"fill:#4575b4;fill-opacity:0.7;stroke:#4575b4;stroke-opacity:0.7;stroke-width:0.3;\" x=\"57.605177\" y=\"38.160322\" xlink:href=\"#m2c10c142da\" />\n     <use style=\"fill:#4575b4;fill-opacity:0.7;stroke:#4575b4;stroke-opacity:0.7;stroke-width:0.3;\" x=\"61.894311\" y=\"36.870404\" xlink:href=\"#m2c10c142da\" />\n     <use style=\"fill:#4575b4;fill-opacity:0.7;stroke:#4575b4;stroke-opacity:0.7;stroke-width:0.3;\" x=\"53.032791\" y=\"38.805281\" xlink:href=\"#m2c10c142da\" />\n     <use style=\"fill:#4575b4;fill-opacity:0.7;stroke:#4575b4;stroke-opacity:0.7;stroke-width:0.3;\" x=\"59.606629\" y=\"39.538189\" xlink:href=\"#m2c10c142da\" />\n     <use style=\"fill:#4575b4;fill-opacity:0.7;stroke:#4575b4;stroke-opacity:0.7;stroke-width:0.3;\" x=\"58.550613\" y=\"34.407834\" xlink:href=\"#m2c10c142da\" />\n     <use style=\"fill:#4575b4;fill-opacity:0.7;stroke:#4575b4;stroke-opacity:0.7;stroke-width:0.3;\" x=\"53.741472\" y=\"40.300413\" xlink:href=\"#m2c10c142da\" />\n     <use style=\"fill:#4575b4;fill-opacity:0.7;stroke:#4575b4;stroke-opacity:0.7;stroke-width:0.3;\" x=\"52.744931\" y=\"40.681526\" xlink:href=\"#m2c10c142da\" />\n     <use style=\"fill:#4575b4;fill-opacity:0.7;stroke:#4575b4;stroke-opacity:0.7;stroke-width:0.3;\" x=\"61.847635\" y=\"43.495892\" xlink:href=\"#m2c10c142da\" />\n     <use style=\"fill:#4575b4;fill-opacity:0.7;stroke:#4575b4;stroke-opacity:0.7;stroke-width:0.3;\" x=\"61.688423\" y=\"41.561015\" xlink:href=\"#m2c10c142da\" />\n     <use style=\"fill:#4575b4;fill-opacity:0.7;stroke:#4575b4;stroke-opacity:0.7;stroke-width:0.3;\" x=\"59.042726\" y=\"39.714087\" xlink:href=\"#m2c10c142da\" />\n     <use style=\"fill:#4575b4;fill-opacity:0.7;stroke:#4575b4;stroke-opacity:0.7;stroke-width:0.3;\" x=\"64.21237\" y=\"38.49746\" xlink:href=\"#m2c10c142da\" />\n     <use style=\"fill:#4575b4;fill-opacity:0.7;stroke:#4575b4;stroke-opacity:0.7;stroke-width:0.3;\" x=\"59.941361\" y=\"39.45024\" xlink:href=\"#m2c10c142da\" />\n     <use style=\"fill:#4575b4;fill-opacity:0.7;stroke:#4575b4;stroke-opacity:0.7;stroke-width:0.3;\" x=\"62.649348\" y=\"37.77921\" xlink:href=\"#m2c10c142da\" />\n     <use style=\"fill:#4575b4;fill-opacity:0.7;stroke:#4575b4;stroke-opacity:0.7;stroke-width:0.3;\" x=\"59.872247\" y=\"39.042157\" xlink:href=\"#m2c10c142da\" />\n     <use style=\"fill:#4575b4;fill-opacity:0.7;stroke:#4575b4;stroke-opacity:0.7;stroke-width:0.3;\" x=\"57.54159\" y=\"40.065883\" xlink:href=\"#m2c10c142da\" />\n     <use style=\"fill:#4575b4;fill-opacity:0.7;stroke:#4575b4;stroke-opacity:0.7;stroke-width:0.3;\" x=\"54.924385\" y=\"40.271097\" xlink:href=\"#m2c10c142da\" />\n     <use style=\"fill:#4575b4;fill-opacity:0.7;stroke:#4575b4;stroke-opacity:0.7;stroke-width:0.3;\" x=\"56.444695\" y=\"37.280833\" xlink:href=\"#m2c10c142da\" />\n     <use style=\"fill:#4575b4;fill-opacity:0.7;stroke:#4575b4;stroke-opacity:0.7;stroke-width:0.3;\" x=\"57.604155\" y=\"35.598076\" xlink:href=\"#m2c10c142da\" />\n     <use style=\"fill:#4575b4;fill-opacity:0.7;stroke:#4575b4;stroke-opacity:0.7;stroke-width:0.3;\" x=\"63.028837\" y=\"40.681526\" xlink:href=\"#m2c10c142da\" />\n     <use style=\"fill:#4575b4;fill-opacity:0.7;stroke:#4575b4;stroke-opacity:0.7;stroke-width:0.3;\" x=\"61.042691\" y=\"31.798682\" xlink:href=\"#m2c10c142da\" />\n     <use style=\"fill:#4575b4;fill-opacity:0.7;stroke:#4575b4;stroke-opacity:0.7;stroke-width:0.3;\" x=\"59.570908\" y=\"38.922547\" xlink:href=\"#m2c10c142da\" />\n     <use style=\"fill:#4575b4;fill-opacity:0.7;stroke:#4575b4;stroke-opacity:0.7;stroke-width:0.3;\" x=\"61.377793\" y=\"36.899721\" xlink:href=\"#m2c10c142da\" />\n     <use style=\"fill:#4575b4;fill-opacity:0.7;stroke:#4575b4;stroke-opacity:0.7;stroke-width:0.3;\" x=\"60.230681\" y=\"38.863914\" xlink:href=\"#m2c10c142da\" />\n     <use style=\"fill:#4575b4;fill-opacity:0.7;stroke:#4575b4;stroke-opacity:0.7;stroke-width:0.3;\" x=\"59.341967\" y=\"36.166813\" xlink:href=\"#m2c10c142da\" />\n     <use style=\"fill:#4575b4;fill-opacity:0.7;stroke:#4575b4;stroke-opacity:0.7;stroke-width:0.3;\" x=\"53.447488\" y=\"33.000651\" xlink:href=\"#m2c10c142da\" />\n     <use style=\"fill:#4575b4;fill-opacity:0.7;stroke:#4575b4;stroke-opacity:0.7;stroke-width:0.3;\" x=\"62.2789\" y=\"37.867159\" xlink:href=\"#m2c10c142da\" />\n     <use style=\"fill:#4575b4;fill-opacity:0.7;stroke:#4575b4;stroke-opacity:0.7;stroke-width:0.3;\" x=\"56.929902\" y=\"38.10169\" xlink:href=\"#m2c10c142da\" />\n     <use style=\"fill:#4575b4;fill-opacity:0.7;stroke:#4575b4;stroke-opacity:0.7;stroke-width:0.3;\" x=\"62.109433\" y=\"40.857423\" xlink:href=\"#m2c10c142da\" />\n     <use style=\"fill:#4575b4;fill-opacity:0.7;stroke:#4575b4;stroke-opacity:0.7;stroke-width:0.3;\" x=\"62.433084\" y=\"39.831352\" xlink:href=\"#m2c10c142da\" />\n     <use style=\"fill:#4575b4;fill-opacity:0.7;stroke:#4575b4;stroke-opacity:0.7;stroke-width:0.3;\" x=\"56.221709\" y=\"38.629383\" xlink:href=\"#m2c10c142da\" />\n     <use style=\"fill:#4575b4;fill-opacity:0.7;stroke:#4575b4;stroke-opacity:0.7;stroke-width:0.3;\" x=\"61.644649\" y=\"38.805281\" xlink:href=\"#m2c10c142da\" />\n     <use style=\"fill:#4575b4;fill-opacity:0.7;stroke:#4575b4;stroke-opacity:0.7;stroke-width:0.3;\" x=\"57.256414\" y=\"36.899721\" xlink:href=\"#m2c10c142da\" />\n     <use style=\"fill:#4575b4;fill-opacity:0.7;stroke:#4575b4;stroke-opacity:0.7;stroke-width:0.3;\" x=\"57.276352\" y=\"38.33622\" xlink:href=\"#m2c10c142da\" />\n     <use style=\"fill:#4575b4;fill-opacity:0.7;stroke:#4575b4;stroke-opacity:0.7;stroke-width:0.3;\" x=\"59.32702\" y=\"40.798791\" xlink:href=\"#m2c10c142da\" />\n     <use style=\"fill:#4575b4;fill-opacity:0.7;stroke:#4575b4;stroke-opacity:0.7;stroke-width:0.3;\" x=\"59.417414\" y=\"38.517981\" xlink:href=\"#m2c10c142da\" />\n     <use style=\"fill:#4575b4;fill-opacity:0.7;stroke:#4575b4;stroke-opacity:0.7;stroke-width:0.3;\" x=\"58.59407\" y=\"36.401343\" xlink:href=\"#m2c10c142da\" />\n     <use style=\"fill:#4575b4;fill-opacity:0.7;stroke:#4575b4;stroke-opacity:0.7;stroke-width:0.3;\" x=\"53.997804\" y=\"37.398098\" xlink:href=\"#m2c10c142da\" />\n     <use style=\"fill:#4575b4;fill-opacity:0.7;stroke:#4575b4;stroke-opacity:0.7;stroke-width:0.3;\" x=\"58.058397\" y=\"39.245026\" xlink:href=\"#m2c10c142da\" />\n     <use style=\"fill:#4575b4;fill-opacity:0.7;stroke:#4575b4;stroke-opacity:0.7;stroke-width:0.3;\" x=\"66.093347\" y=\"38.746649\" xlink:href=\"#m2c10c142da\" />\n     <use style=\"fill:#4575b4;fill-opacity:0.7;stroke:#4575b4;stroke-opacity:0.7;stroke-width:0.3;\" x=\"49.144154\" y=\"36.811772\" xlink:href=\"#m2c10c142da\" />\n     <use style=\"fill:#4575b4;fill-opacity:0.7;stroke:#4575b4;stroke-opacity:0.7;stroke-width:0.3;\" x=\"61.376891\" y=\"33.235181\" xlink:href=\"#m2c10c142da\" />\n     <use style=\"fill:#4575b4;fill-opacity:0.7;stroke:#4575b4;stroke-opacity:0.7;stroke-width:0.3;\" x=\"62.004254\" y=\"44.943473\" xlink:href=\"#m2c10c142da\" />\n     <use style=\"fill:#4575b4;fill-opacity:0.7;stroke:#4575b4;stroke-opacity:0.7;stroke-width:0.3;\" x=\"53.917252\" y=\"38.981179\" xlink:href=\"#m2c10c142da\" />\n     <use style=\"fill:#4575b4;fill-opacity:0.7;stroke:#4575b4;stroke-opacity:0.7;stroke-width:0.3;\" x=\"56.893319\" y=\"39.807899\" xlink:href=\"#m2c10c142da\" />\n     <use style=\"fill:#4575b4;fill-opacity:0.7;stroke:#4575b4;stroke-opacity:0.7;stroke-width:0.3;\" x=\"55.114599\" y=\"39.948618\" xlink:href=\"#m2c10c142da\" />\n     <use style=\"fill:#4575b4;fill-opacity:0.7;stroke:#4575b4;stroke-opacity:0.7;stroke-width:0.3;\" x=\"64.672076\" y=\"39.274342\" xlink:href=\"#m2c10c142da\" />\n     <use style=\"fill:#4575b4;fill-opacity:0.7;stroke:#4575b4;stroke-opacity:0.7;stroke-width:0.3;\" x=\"62.157929\" y=\"38.512118\" xlink:href=\"#m2c10c142da\" />\n     <use style=\"fill:#4575b4;fill-opacity:0.7;stroke:#4575b4;stroke-opacity:0.7;stroke-width:0.3;\" x=\"62.319972\" y=\"35.287323\" xlink:href=\"#m2c10c142da\" />\n     <use style=\"fill:#4575b4;fill-opacity:0.7;stroke:#4575b4;stroke-opacity:0.7;stroke-width:0.3;\" x=\"58.868927\" y=\"38.482802\" xlink:href=\"#m2c10c142da\" />\n     <use style=\"fill:#4575b4;fill-opacity:0.7;stroke:#4575b4;stroke-opacity:0.7;stroke-width:0.3;\" x=\"62.857884\" y=\"39.948618\" xlink:href=\"#m2c10c142da\" />\n     <use style=\"fill:#4575b4;fill-opacity:0.7;stroke:#4575b4;stroke-opacity:0.7;stroke-width:0.3;\" x=\"58.437424\" y=\"42.762984\" xlink:href=\"#m2c10c142da\" />\n     <use style=\"fill:#4575b4;fill-opacity:0.7;stroke:#4575b4;stroke-opacity:0.7;stroke-width:0.3;\" x=\"63.01546\" y=\"41.033321\" xlink:href=\"#m2c10c142da\" />\n     <use style=\"fill:#4575b4;fill-opacity:0.7;stroke:#4575b4;stroke-opacity:0.7;stroke-width:0.3;\" x=\"57.967164\" y=\"43.003378\" xlink:href=\"#m2c10c142da\" />\n     <use style=\"fill:#4575b4;fill-opacity:0.7;stroke:#4575b4;stroke-opacity:0.7;stroke-width:0.3;\" x=\"56.190898\" y=\"36.577241\" xlink:href=\"#m2c10c142da\" />\n     <use style=\"fill:#4575b4;fill-opacity:0.7;stroke:#4575b4;stroke-opacity:0.7;stroke-width:0.3;\" x=\"64.528061\" y=\"38.394853\" xlink:href=\"#m2c10c142da\" />\n     <use style=\"fill:#4575b4;fill-opacity:0.7;stroke:#4575b4;stroke-opacity:0.7;stroke-width:0.3;\" x=\"58.395198\" y=\"38.805281\" xlink:href=\"#m2c10c142da\" />\n     <use style=\"fill:#4575b4;fill-opacity:0.7;stroke:#4575b4;stroke-opacity:0.7;stroke-width:0.3;\" x=\"55.455818\" y=\"38.512118\" xlink:href=\"#m2c10c142da\" />\n     <use style=\"fill:#4575b4;fill-opacity:0.7;stroke:#4575b4;stroke-opacity:0.7;stroke-width:0.3;\" x=\"55.419546\" y=\"38.394853\" xlink:href=\"#m2c10c142da\" />\n     <use style=\"fill:#4575b4;fill-opacity:0.7;stroke:#4575b4;stroke-opacity:0.7;stroke-width:0.3;\" x=\"55.429775\" y=\"39.538189\" xlink:href=\"#m2c10c142da\" />\n     <use style=\"fill:#4575b4;fill-opacity:0.7;stroke:#4575b4;stroke-opacity:0.7;stroke-width:0.3;\" x=\"61.292193\" y=\"38.512118\" xlink:href=\"#m2c10c142da\" />\n     <use style=\"fill:#4575b4;fill-opacity:0.7;stroke:#4575b4;stroke-opacity:0.7;stroke-width:0.3;\" x=\"58.134007\" y=\"39.743403\" xlink:href=\"#m2c10c142da\" />\n     <use style=\"fill:#4575b4;fill-opacity:0.7;stroke:#4575b4;stroke-opacity:0.7;stroke-width:0.3;\" x=\"66.158567\" y=\"39.420924\" xlink:href=\"#m2c10c142da\" />\n     <use style=\"fill:#4575b4;fill-opacity:0.7;stroke:#4575b4;stroke-opacity:0.7;stroke-width:0.3;\" x=\"62.436325\" y=\"38.600067\" xlink:href=\"#m2c10c142da\" />\n     <use style=\"fill:#4575b4;fill-opacity:0.7;stroke:#4575b4;stroke-opacity:0.7;stroke-width:0.3;\" x=\"59.325898\" y=\"39.274342\" xlink:href=\"#m2c10c142da\" />\n     <use style=\"fill:#4575b4;fill-opacity:0.7;stroke:#4575b4;stroke-opacity:0.7;stroke-width:0.3;\" x=\"63.165249\" y=\"40.987822\" xlink:href=\"#m2c10c142da\" />\n     <use style=\"fill:#4575b4;fill-opacity:0.7;stroke:#4575b4;stroke-opacity:0.7;stroke-width:0.3;\" x=\"56.806041\" y=\"40.784133\" xlink:href=\"#m2c10c142da\" />\n     <use style=\"fill:#4575b4;fill-opacity:0.7;stroke:#4575b4;stroke-opacity:0.7;stroke-width:0.3;\" x=\"52.255177\" y=\"40.710842\" xlink:href=\"#m2c10c142da\" />\n     <use style=\"fill:#4575b4;fill-opacity:0.7;stroke:#4575b4;stroke-opacity:0.7;stroke-width:0.3;\" x=\"55.151876\" y=\"41.883495\" xlink:href=\"#m2c10c142da\" />\n     <use style=\"fill:#4575b4;fill-opacity:0.7;stroke:#4575b4;stroke-opacity:0.7;stroke-width:0.3;\" x=\"58.957852\" y=\"37.104935\" xlink:href=\"#m2c10c142da\" />\n     <use style=\"fill:#4575b4;fill-opacity:0.7;stroke:#4575b4;stroke-opacity:0.7;stroke-width:0.3;\" x=\"57.719931\" y=\"39.098444\" xlink:href=\"#m2c10c142da\" />\n     <use style=\"fill:#4575b4;fill-opacity:0.7;stroke:#4575b4;stroke-opacity:0.7;stroke-width:0.3;\" x=\"61.225143\" y=\"37.310149\" xlink:href=\"#m2c10c142da\" />\n     <use style=\"fill:#4575b4;fill-opacity:0.7;stroke:#4575b4;stroke-opacity:0.7;stroke-width:0.3;\" x=\"58.047793\" y=\"40.036567\" xlink:href=\"#m2c10c142da\" />\n     <use style=\"fill:#4575b4;fill-opacity:0.7;stroke:#4575b4;stroke-opacity:0.7;stroke-width:0.3;\" x=\"60.96942\" y=\"36.694507\" xlink:href=\"#m2c10c142da\" />\n     <use style=\"fill:#4575b4;fill-opacity:0.7;stroke:#4575b4;stroke-opacity:0.7;stroke-width:0.3;\" x=\"63.490253\" y=\"36.723823\" xlink:href=\"#m2c10c142da\" />\n     <use style=\"fill:#4575b4;fill-opacity:0.7;stroke:#4575b4;stroke-opacity:0.7;stroke-width:0.3;\" x=\"58.037474\" y=\"37.075619\" xlink:href=\"#m2c10c142da\" />\n     <use style=\"fill:#4575b4;fill-opacity:0.7;stroke:#4575b4;stroke-opacity:0.7;stroke-width:0.3;\" x=\"60.323626\" y=\"40.095199\" xlink:href=\"#m2c10c142da\" />\n     <use style=\"fill:#4575b4;fill-opacity:0.7;stroke:#4575b4;stroke-opacity:0.7;stroke-width:0.3;\" x=\"52.589974\" y=\"40.962962\" xlink:href=\"#m2c10c142da\" />\n     <use style=\"fill:#4575b4;fill-opacity:0.7;stroke:#4575b4;stroke-opacity:0.7;stroke-width:0.3;\" x=\"58.050203\" y=\"39.889985\" xlink:href=\"#m2c10c142da\" />\n     <use style=\"fill:#4575b4;fill-opacity:0.7;stroke:#4575b4;stroke-opacity:0.7;stroke-width:0.3;\" x=\"54.340404\" y=\"39.684771\" xlink:href=\"#m2c10c142da\" />\n     <use style=\"fill:#4575b4;fill-opacity:0.7;stroke:#4575b4;stroke-opacity:0.7;stroke-width:0.3;\" x=\"58.951219\" y=\"38.365537\" xlink:href=\"#m2c10c142da\" />\n     <use style=\"fill:#4575b4;fill-opacity:0.7;stroke:#4575b4;stroke-opacity:0.7;stroke-width:0.3;\" x=\"59.255127\" y=\"36.506882\" xlink:href=\"#m2c10c142da\" />\n     <use style=\"fill:#4575b4;fill-opacity:0.7;stroke:#4575b4;stroke-opacity:0.7;stroke-width:0.3;\" x=\"59.244\" y=\"39.391608\" xlink:href=\"#m2c10c142da\" />\n     <use style=\"fill:#4575b4;fill-opacity:0.7;stroke:#4575b4;stroke-opacity:0.7;stroke-width:0.3;\" x=\"56.85755\" y=\"37.515363\" xlink:href=\"#m2c10c142da\" />\n     <use style=\"fill:#4575b4;fill-opacity:0.7;stroke:#4575b4;stroke-opacity:0.7;stroke-width:0.3;\" x=\"66.160274\" y=\"37.749894\" xlink:href=\"#m2c10c142da\" />\n     <use style=\"fill:#4575b4;fill-opacity:0.7;stroke:#4575b4;stroke-opacity:0.7;stroke-width:0.3;\" x=\"54.219664\" y=\"38.512118\" xlink:href=\"#m2c10c142da\" />\n     <use style=\"fill:#4575b4;fill-opacity:0.7;stroke:#4575b4;stroke-opacity:0.7;stroke-width:0.3;\" x=\"54.01502\" y=\"42.264607\" xlink:href=\"#m2c10c142da\" />\n     <use style=\"fill:#4575b4;fill-opacity:0.7;stroke:#4575b4;stroke-opacity:0.7;stroke-width:0.3;\" x=\"64.005868\" y=\"37.661945\" xlink:href=\"#m2c10c142da\" />\n     <use style=\"fill:#4575b4;fill-opacity:0.7;stroke:#4575b4;stroke-opacity:0.7;stroke-width:0.3;\" x=\"56.107073\" y=\"38.863914\" xlink:href=\"#m2c10c142da\" />\n     <use style=\"fill:#4575b4;fill-opacity:0.7;stroke:#4575b4;stroke-opacity:0.7;stroke-width:0.3;\" x=\"55.302176\" y=\"42.176658\" xlink:href=\"#m2c10c142da\" />\n     <use style=\"fill:#4575b4;fill-opacity:0.7;stroke:#4575b4;stroke-opacity:0.7;stroke-width:0.3;\" x=\"66.175149\" y=\"40.740158\" xlink:href=\"#m2c10c142da\" />\n     <use style=\"fill:#4575b4;fill-opacity:0.7;stroke:#4575b4;stroke-opacity:0.7;stroke-width:0.3;\" x=\"61.7652\" y=\"38.863914\" xlink:href=\"#m2c10c142da\" />\n     <use style=\"fill:#4575b4;fill-opacity:0.7;stroke:#4575b4;stroke-opacity:0.7;stroke-width:0.3;\" x=\"56.474733\" y=\"37.046302\" xlink:href=\"#m2c10c142da\" />\n     <use style=\"fill:#4575b4;fill-opacity:0.7;stroke:#4575b4;stroke-opacity:0.7;stroke-width:0.3;\" x=\"59.193216\" y=\"36.372027\" xlink:href=\"#m2c10c142da\" />\n     <use style=\"fill:#4575b4;fill-opacity:0.7;stroke:#4575b4;stroke-opacity:0.7;stroke-width:0.3;\" x=\"64.979777\" y=\"38.805281\" xlink:href=\"#m2c10c142da\" />\n     <use style=\"fill:#4575b4;fill-opacity:0.7;stroke:#4575b4;stroke-opacity:0.7;stroke-width:0.3;\" x=\"60.780546\" y=\"39.259684\" xlink:href=\"#m2c10c142da\" />\n     <use style=\"fill:#4575b4;fill-opacity:0.7;stroke:#4575b4;stroke-opacity:0.7;stroke-width:0.3;\" x=\"62.771025\" y=\"41.766229\" xlink:href=\"#m2c10c142da\" />\n     <use style=\"fill:#4575b4;fill-opacity:0.7;stroke:#4575b4;stroke-opacity:0.7;stroke-width:0.3;\" x=\"61.159481\" y=\"38.805281\" xlink:href=\"#m2c10c142da\" />\n     <use style=\"fill:#4575b4;fill-opacity:0.7;stroke:#4575b4;stroke-opacity:0.7;stroke-width:0.3;\" x=\"61.579488\" y=\"42.528454\" xlink:href=\"#m2c10c142da\" />\n     <use style=\"fill:#4575b4;fill-opacity:0.7;stroke:#4575b4;stroke-opacity:0.7;stroke-width:0.3;\" x=\"58.598055\" y=\"39.831352\" xlink:href=\"#m2c10c142da\" />\n     <use style=\"fill:#4575b4;fill-opacity:0.7;stroke:#4575b4;stroke-opacity:0.7;stroke-width:0.3;\" x=\"58.502995\" y=\"35.949872\" xlink:href=\"#m2c10c142da\" />\n     <use style=\"fill:#4575b4;fill-opacity:0.7;stroke:#4575b4;stroke-opacity:0.7;stroke-width:0.3;\" x=\"59.359085\" y=\"37.749894\" xlink:href=\"#m2c10c142da\" />\n     <use style=\"fill:#4575b4;fill-opacity:0.7;stroke:#4575b4;stroke-opacity:0.7;stroke-width:0.3;\" x=\"60.923948\" y=\"39.098444\" xlink:href=\"#m2c10c142da\" />\n     <use style=\"fill:#4575b4;fill-opacity:0.7;stroke:#4575b4;stroke-opacity:0.7;stroke-width:0.3;\" x=\"57.51646\" y=\"34.876895\" xlink:href=\"#m2c10c142da\" />\n     <use style=\"fill:#4575b4;fill-opacity:0.7;stroke:#4575b4;stroke-opacity:0.7;stroke-width:0.3;\" x=\"58.873637\" y=\"31.915947\" xlink:href=\"#m2c10c142da\" />\n     <use style=\"fill:#4575b4;fill-opacity:0.7;stroke:#4575b4;stroke-opacity:0.7;stroke-width:0.3;\" x=\"57.425963\" y=\"44.967571\" xlink:href=\"#m2c10c142da\" />\n     <use style=\"fill:#4575b4;fill-opacity:0.7;stroke:#4575b4;stroke-opacity:0.7;stroke-width:0.3;\" x=\"58.852313\" y=\"40.505628\" xlink:href=\"#m2c10c142da\" />\n     <use style=\"fill:#4575b4;fill-opacity:0.7;stroke:#4575b4;stroke-opacity:0.7;stroke-width:0.3;\" x=\"54.276664\" y=\"34.407834\" xlink:href=\"#m2c10c142da\" />\n     <use style=\"fill:#4575b4;fill-opacity:0.7;stroke:#4575b4;stroke-opacity:0.7;stroke-width:0.3;\" x=\"67.189813\" y=\"32.003896\" xlink:href=\"#m2c10c142da\" />\n     <use style=\"fill:#4575b4;fill-opacity:0.7;stroke:#4575b4;stroke-opacity:0.7;stroke-width:0.3;\" x=\"56.011116\" y=\"42.997515\" xlink:href=\"#m2c10c142da\" />\n     <use style=\"fill:#4575b4;fill-opacity:0.7;stroke:#4575b4;stroke-opacity:0.7;stroke-width:0.3;\" x=\"57.254829\" y=\"37.134251\" xlink:href=\"#m2c10c142da\" />\n     <use style=\"fill:#4575b4;fill-opacity:0.7;stroke:#4575b4;stroke-opacity:0.7;stroke-width:0.3;\" x=\"55.722103\" y=\"38.131006\" xlink:href=\"#m2c10c142da\" />\n     <use style=\"fill:#4575b4;fill-opacity:0.7;stroke:#4575b4;stroke-opacity:0.7;stroke-width:0.3;\" x=\"60.526393\" y=\"37.925792\" xlink:href=\"#m2c10c142da\" />\n     <use style=\"fill:#4575b4;fill-opacity:0.7;stroke:#4575b4;stroke-opacity:0.7;stroke-width:0.3;\" x=\"57.808783\" y=\"39.743403\" xlink:href=\"#m2c10c142da\" />\n     <use style=\"fill:#4575b4;fill-opacity:0.7;stroke:#4575b4;stroke-opacity:0.7;stroke-width:0.3;\" x=\"55.238172\" y=\"38.805281\" xlink:href=\"#m2c10c142da\" />\n     <use style=\"fill:#4575b4;fill-opacity:0.7;stroke:#4575b4;stroke-opacity:0.7;stroke-width:0.3;\" x=\"60.664246\" y=\"38.981179\" xlink:href=\"#m2c10c142da\" />\n     <use style=\"fill:#4575b4;fill-opacity:0.7;stroke:#4575b4;stroke-opacity:0.7;stroke-width:0.3;\" x=\"61.115441\" y=\"34.231936\" xlink:href=\"#m2c10c142da\" />\n     <use style=\"fill:#4575b4;fill-opacity:0.7;stroke:#4575b4;stroke-opacity:0.7;stroke-width:0.3;\" x=\"58.241098\" y=\"38.512118\" xlink:href=\"#m2c10c142da\" />\n     <use style=\"fill:#4575b4;fill-opacity:0.7;stroke:#4575b4;stroke-opacity:0.7;stroke-width:0.3;\" x=\"56.24318\" y=\"34.700997\" xlink:href=\"#m2c10c142da\" />\n     <use style=\"fill:#4575b4;fill-opacity:0.7;stroke:#4575b4;stroke-opacity:0.7;stroke-width:0.3;\" x=\"65.800689\" y=\"37.691261\" xlink:href=\"#m2c10c142da\" />\n     <use style=\"fill:#4575b4;fill-opacity:0.7;stroke:#4575b4;stroke-opacity:0.7;stroke-width:0.3;\" x=\"59.603546\" y=\"39.332975\" xlink:href=\"#m2c10c142da\" />\n     <use style=\"fill:#4575b4;fill-opacity:0.7;stroke:#4575b4;stroke-opacity:0.7;stroke-width:0.3;\" x=\"54.199417\" y=\"36.166813\" xlink:href=\"#m2c10c142da\" />\n     <use style=\"fill:#4575b4;fill-opacity:0.7;stroke:#4575b4;stroke-opacity:0.7;stroke-width:0.3;\" x=\"63.199207\" y=\"35.697752\" xlink:href=\"#m2c10c142da\" />\n     <use style=\"fill:#4575b4;fill-opacity:0.7;stroke:#4575b4;stroke-opacity:0.7;stroke-width:0.3;\" x=\"55.599866\" y=\"40.710842\" xlink:href=\"#m2c10c142da\" />\n     <use style=\"fill:#4575b4;fill-opacity:0.7;stroke:#4575b4;stroke-opacity:0.7;stroke-width:0.3;\" x=\"67.644809\" y=\"40.916056\" xlink:href=\"#m2c10c142da\" />\n     <use style=\"fill:#4575b4;fill-opacity:0.7;stroke:#4575b4;stroke-opacity:0.7;stroke-width:0.3;\" x=\"58.731695\" y=\"38.951863\" xlink:href=\"#m2c10c142da\" />\n     <use style=\"fill:#4575b4;fill-opacity:0.7;stroke:#4575b4;stroke-opacity:0.7;stroke-width:0.3;\" x=\"61.857582\" y=\"36.958353\" xlink:href=\"#m2c10c142da\" />\n     <use style=\"fill:#4575b4;fill-opacity:0.7;stroke:#4575b4;stroke-opacity:0.7;stroke-width:0.3;\" x=\"51.501101\" y=\"39.567506\" xlink:href=\"#m2c10c142da\" />\n     <use style=\"fill:#4575b4;fill-opacity:0.7;stroke:#4575b4;stroke-opacity:0.7;stroke-width:0.3;\" x=\"54.165696\" y=\"38.863914\" xlink:href=\"#m2c10c142da\" />\n     <use style=\"fill:#4575b4;fill-opacity:0.7;stroke:#4575b4;stroke-opacity:0.7;stroke-width:0.3;\" x=\"62.930762\" y=\"40.687389\" xlink:href=\"#m2c10c142da\" />\n     <use style=\"fill:#4575b4;fill-opacity:0.7;stroke:#4575b4;stroke-opacity:0.7;stroke-width:0.3;\" x=\"59.529045\" y=\"37.925792\" xlink:href=\"#m2c10c142da\" />\n     <use style=\"fill:#4575b4;fill-opacity:0.7;stroke:#4575b4;stroke-opacity:0.7;stroke-width:0.3;\" x=\"65.302943\" y=\"39.420924\" xlink:href=\"#m2c10c142da\" />\n     <use style=\"fill:#4575b4;fill-opacity:0.7;stroke:#4575b4;stroke-opacity:0.7;stroke-width:0.3;\" x=\"60.089366\" y=\"40.153832\" xlink:href=\"#m2c10c142da\" />\n     <use style=\"fill:#4575b4;fill-opacity:0.7;stroke:#4575b4;stroke-opacity:0.7;stroke-width:0.3;\" x=\"58.951452\" y=\"40.183148\" xlink:href=\"#m2c10c142da\" />\n     <use style=\"fill:#4575b4;fill-opacity:0.7;stroke:#4575b4;stroke-opacity:0.7;stroke-width:0.3;\" x=\"64.202046\" y=\"36.465839\" xlink:href=\"#m2c10c142da\" />\n     <use style=\"fill:#4575b4;fill-opacity:0.7;stroke:#4575b4;stroke-opacity:0.7;stroke-width:0.3;\" x=\"61.846939\" y=\"41.267852\" xlink:href=\"#m2c10c142da\" />\n     <use style=\"fill:#4575b4;fill-opacity:0.7;stroke:#4575b4;stroke-opacity:0.7;stroke-width:0.3;\" x=\"57.807918\" y=\"39.309522\" xlink:href=\"#m2c10c142da\" />\n     <use style=\"fill:#4575b4;fill-opacity:0.7;stroke:#4575b4;stroke-opacity:0.7;stroke-width:0.3;\" x=\"54.801939\" y=\"39.098444\" xlink:href=\"#m2c10c142da\" />\n     <use style=\"fill:#4575b4;fill-opacity:0.7;stroke:#4575b4;stroke-opacity:0.7;stroke-width:0.3;\" x=\"50.524831\" y=\"39.098444\" xlink:href=\"#m2c10c142da\" />\n     <use style=\"fill:#4575b4;fill-opacity:0.7;stroke:#4575b4;stroke-opacity:0.7;stroke-width:0.3;\" x=\"56.999695\" y=\"36.811772\" xlink:href=\"#m2c10c142da\" />\n     <use style=\"fill:#4575b4;fill-opacity:0.7;stroke:#4575b4;stroke-opacity:0.7;stroke-width:0.3;\" x=\"54.49315\" y=\"41.458408\" xlink:href=\"#m2c10c142da\" />\n     <use style=\"fill:#4575b4;fill-opacity:0.7;stroke:#4575b4;stroke-opacity:0.7;stroke-width:0.3;\" x=\"67.162115\" y=\"43.085464\" xlink:href=\"#m2c10c142da\" />\n     <use style=\"fill:#4575b4;fill-opacity:0.7;stroke:#4575b4;stroke-opacity:0.7;stroke-width:0.3;\" x=\"56.287558\" y=\"36.905584\" xlink:href=\"#m2c10c142da\" />\n     <use style=\"fill:#4575b4;fill-opacity:0.7;stroke:#4575b4;stroke-opacity:0.7;stroke-width:0.3;\" x=\"56.19603\" y=\"35.815017\" xlink:href=\"#m2c10c142da\" />\n     <use style=\"fill:#4575b4;fill-opacity:0.7;stroke:#4575b4;stroke-opacity:0.7;stroke-width:0.3;\" x=\"53.371872\" y=\"41.250262\" xlink:href=\"#m2c10c142da\" />\n     <use style=\"fill:#4575b4;fill-opacity:0.7;stroke:#4575b4;stroke-opacity:0.7;stroke-width:0.3;\" x=\"57.57337\" y=\"36.70037\" xlink:href=\"#m2c10c142da\" />\n     <use style=\"fill:#4575b4;fill-opacity:0.7;stroke:#4575b4;stroke-opacity:0.7;stroke-width:0.3;\" x=\"56.240137\" y=\"38.570751\" xlink:href=\"#m2c10c142da\" />\n     <use style=\"fill:#4575b4;fill-opacity:0.7;stroke:#4575b4;stroke-opacity:0.7;stroke-width:0.3;\" x=\"64.282918\" y=\"41.150587\" xlink:href=\"#m2c10c142da\" />\n     <use style=\"fill:#4575b4;fill-opacity:0.7;stroke:#4575b4;stroke-opacity:0.7;stroke-width:0.3;\" x=\"59.029058\" y=\"38.986749\" xlink:href=\"#m2c10c142da\" />\n     <use style=\"fill:#4575b4;fill-opacity:0.7;stroke:#4575b4;stroke-opacity:0.7;stroke-width:0.3;\" x=\"58.435323\" y=\"38.453485\" xlink:href=\"#m2c10c142da\" />\n     <use style=\"fill:#4575b4;fill-opacity:0.7;stroke:#4575b4;stroke-opacity:0.7;stroke-width:0.3;\" x=\"58.014116\" y=\"37.163568\" xlink:href=\"#m2c10c142da\" />\n     <use style=\"fill:#4575b4;fill-opacity:0.7;stroke:#4575b4;stroke-opacity:0.7;stroke-width:0.3;\" x=\"61.097114\" y=\"37.955108\" xlink:href=\"#m2c10c142da\" />\n     <use style=\"fill:#4575b4;fill-opacity:0.7;stroke:#4575b4;stroke-opacity:0.7;stroke-width:0.3;\" x=\"56.950605\" y=\"41.150587\" xlink:href=\"#m2c10c142da\" />\n     <use style=\"fill:#4575b4;fill-opacity:0.7;stroke:#4575b4;stroke-opacity:0.7;stroke-width:0.3;\" x=\"60.698806\" y=\"39.21571\" xlink:href=\"#m2c10c142da\" />\n     <use style=\"fill:#4575b4;fill-opacity:0.7;stroke:#4575b4;stroke-opacity:0.7;stroke-width:0.3;\" x=\"63.868571\" y=\"37.925792\" xlink:href=\"#m2c10c142da\" />\n     <use style=\"fill:#4575b4;fill-opacity:0.7;stroke:#4575b4;stroke-opacity:0.7;stroke-width:0.3;\" x=\"60.005331\" y=\"39.245026\" xlink:href=\"#m2c10c142da\" />\n     <use style=\"fill:#4575b4;fill-opacity:0.7;stroke:#4575b4;stroke-opacity:0.7;stroke-width:0.3;\" x=\"57.6289\" y=\"35.258007\" xlink:href=\"#m2c10c142da\" />\n     <use style=\"fill:#4575b4;fill-opacity:0.7;stroke:#4575b4;stroke-opacity:0.7;stroke-width:0.3;\" x=\"55.272819\" y=\"37.749894\" xlink:href=\"#m2c10c142da\" />\n     <use style=\"fill:#4575b4;fill-opacity:0.7;stroke:#4575b4;stroke-opacity:0.7;stroke-width:0.3;\" x=\"57.543885\" y=\"41.150587\" xlink:href=\"#m2c10c142da\" />\n     <use style=\"fill:#4575b4;fill-opacity:0.7;stroke:#4575b4;stroke-opacity:0.7;stroke-width:0.3;\" x=\"60.350188\" y=\"39.332975\" xlink:href=\"#m2c10c142da\" />\n     <use style=\"fill:#4575b4;fill-opacity:0.7;stroke:#4575b4;stroke-opacity:0.7;stroke-width:0.3;\" x=\"53.334098\" y=\"42.293923\" xlink:href=\"#m2c10c142da\" />\n     <use style=\"fill:#4575b4;fill-opacity:0.7;stroke:#4575b4;stroke-opacity:0.7;stroke-width:0.3;\" x=\"61.249005\" y=\"36.870404\" xlink:href=\"#m2c10c142da\" />\n     <use style=\"fill:#4575b4;fill-opacity:0.7;stroke:#4575b4;stroke-opacity:0.7;stroke-width:0.3;\" x=\"59.160087\" y=\"41.854178\" xlink:href=\"#m2c10c142da\" />\n     <use style=\"fill:#4575b4;fill-opacity:0.7;stroke:#4575b4;stroke-opacity:0.7;stroke-width:0.3;\" x=\"57.965515\" y=\"38.10169\" xlink:href=\"#m2c10c142da\" />\n     <use style=\"fill:#4575b4;fill-opacity:0.7;stroke:#4575b4;stroke-opacity:0.7;stroke-width:0.3;\" x=\"56.257284\" y=\"38.512118\" xlink:href=\"#m2c10c142da\" />\n     <use style=\"fill:#4575b4;fill-opacity:0.7;stroke:#4575b4;stroke-opacity:0.7;stroke-width:0.3;\" x=\"56.870087\" y=\"39.157077\" xlink:href=\"#m2c10c142da\" />\n     <use style=\"fill:#4575b4;fill-opacity:0.7;stroke:#4575b4;stroke-opacity:0.7;stroke-width:0.3;\" x=\"60.464781\" y=\"40.271097\" xlink:href=\"#m2c10c142da\" />\n     <use style=\"fill:#4575b4;fill-opacity:0.7;stroke:#4575b4;stroke-opacity:0.7;stroke-width:0.3;\" x=\"58.035748\" y=\"38.629383\" xlink:href=\"#m2c10c142da\" />\n     <use style=\"fill:#4575b4;fill-opacity:0.7;stroke:#4575b4;stroke-opacity:0.7;stroke-width:0.3;\" x=\"56.787183\" y=\"39.245026\" xlink:href=\"#m2c10c142da\" />\n     <use style=\"fill:#4575b4;fill-opacity:0.7;stroke:#4575b4;stroke-opacity:0.7;stroke-width:0.3;\" x=\"60.033751\" y=\"38.424169\" xlink:href=\"#m2c10c142da\" />\n     <use style=\"fill:#4575b4;fill-opacity:0.7;stroke:#4575b4;stroke-opacity:0.7;stroke-width:0.3;\" x=\"60.166419\" y=\"41.150587\" xlink:href=\"#m2c10c142da\" />\n     <use style=\"fill:#4575b4;fill-opacity:0.7;stroke:#4575b4;stroke-opacity:0.7;stroke-width:0.3;\" x=\"54.282762\" y=\"40.56426\" xlink:href=\"#m2c10c142da\" />\n     <use style=\"fill:#4575b4;fill-opacity:0.7;stroke:#4575b4;stroke-opacity:0.7;stroke-width:0.3;\" x=\"60.378317\" y=\"40.652209\" xlink:href=\"#m2c10c142da\" />\n     <use style=\"fill:#4575b4;fill-opacity:0.7;stroke:#4575b4;stroke-opacity:0.7;stroke-width:0.3;\" x=\"66.840686\" y=\"35.668435\" xlink:href=\"#m2c10c142da\" />\n     <use style=\"fill:#4575b4;fill-opacity:0.7;stroke:#4575b4;stroke-opacity:0.7;stroke-width:0.3;\" x=\"60.03729\" y=\"38.828734\" xlink:href=\"#m2c10c142da\" />\n     <use style=\"fill:#4575b4;fill-opacity:0.7;stroke:#4575b4;stroke-opacity:0.7;stroke-width:0.3;\" x=\"52.776724\" y=\"34.642364\" xlink:href=\"#m2c10c142da\" />\n     <use style=\"fill:#4575b4;fill-opacity:0.7;stroke:#4575b4;stroke-opacity:0.7;stroke-width:0.3;\" x=\"59.058853\" y=\"36.166813\" xlink:href=\"#m2c10c142da\" />\n     <use style=\"fill:#4575b4;fill-opacity:0.7;stroke:#4575b4;stroke-opacity:0.7;stroke-width:0.3;\" x=\"52.33543\" y=\"36.811772\" xlink:href=\"#m2c10c142da\" />\n     <use style=\"fill:#4575b4;fill-opacity:0.7;stroke:#4575b4;stroke-opacity:0.7;stroke-width:0.3;\" x=\"69.06936\" y=\"37.304286\" xlink:href=\"#m2c10c142da\" />\n     <use style=\"fill:#4575b4;fill-opacity:0.7;stroke:#4575b4;stroke-opacity:0.7;stroke-width:0.3;\" x=\"65.950039\" y=\"36.122838\" xlink:href=\"#m2c10c142da\" />\n     <use style=\"fill:#4575b4;fill-opacity:0.7;stroke:#4575b4;stroke-opacity:0.7;stroke-width:0.3;\" x=\"56.235438\" y=\"34.290569\" xlink:href=\"#m2c10c142da\" />\n     <use style=\"fill:#4575b4;fill-opacity:0.7;stroke:#4575b4;stroke-opacity:0.7;stroke-width:0.3;\" x=\"50.946506\" y=\"39.802036\" xlink:href=\"#m2c10c142da\" />\n     <use style=\"fill:#4575b4;fill-opacity:0.7;stroke:#4575b4;stroke-opacity:0.7;stroke-width:0.3;\" x=\"55.524213\" y=\"37.925792\" xlink:href=\"#m2c10c142da\" />\n     <use style=\"fill:#4575b4;fill-opacity:0.7;stroke:#4575b4;stroke-opacity:0.7;stroke-width:0.3;\" x=\"57.859043\" y=\"39.045675\" xlink:href=\"#m2c10c142da\" />\n     <use style=\"fill:#4575b4;fill-opacity:0.7;stroke:#4575b4;stroke-opacity:0.7;stroke-width:0.3;\" x=\"52.56628\" y=\"39.010496\" xlink:href=\"#m2c10c142da\" />\n     <use style=\"fill:#4575b4;fill-opacity:0.7;stroke:#4575b4;stroke-opacity:0.7;stroke-width:0.3;\" x=\"58.233913\" y=\"38.394853\" xlink:href=\"#m2c10c142da\" />\n     <use style=\"fill:#4575b4;fill-opacity:0.7;stroke:#4575b4;stroke-opacity:0.7;stroke-width:0.3;\" x=\"57.836987\" y=\"41.473066\" xlink:href=\"#m2c10c142da\" />\n     <use style=\"fill:#4575b4;fill-opacity:0.7;stroke:#4575b4;stroke-opacity:0.7;stroke-width:0.3;\" x=\"58.884018\" y=\"39.21571\" xlink:href=\"#m2c10c142da\" />\n     <use style=\"fill:#4575b4;fill-opacity:0.7;stroke:#4575b4;stroke-opacity:0.7;stroke-width:0.3;\" x=\"59.233852\" y=\"37.310149\" xlink:href=\"#m2c10c142da\" />\n     <use style=\"fill:#4575b4;fill-opacity:0.7;stroke:#4575b4;stroke-opacity:0.7;stroke-width:0.3;\" x=\"55.232112\" y=\"37.691261\" xlink:href=\"#m2c10c142da\" />\n     <use style=\"fill:#4575b4;fill-opacity:0.7;stroke:#4575b4;stroke-opacity:0.7;stroke-width:0.3;\" x=\"55.60777\" y=\"41.297168\" xlink:href=\"#m2c10c142da\" />\n     <use style=\"fill:#4575b4;fill-opacity:0.7;stroke:#4575b4;stroke-opacity:0.7;stroke-width:0.3;\" x=\"58.617643\" y=\"39.690634\" xlink:href=\"#m2c10c142da\" />\n     <use style=\"fill:#4575b4;fill-opacity:0.7;stroke:#4575b4;stroke-opacity:0.7;stroke-width:0.3;\" x=\"56.352438\" y=\"38.218955\" xlink:href=\"#m2c10c142da\" />\n     <use style=\"fill:#4575b4;fill-opacity:0.7;stroke:#4575b4;stroke-opacity:0.7;stroke-width:0.3;\" x=\"61.503292\" y=\"41.150587\" xlink:href=\"#m2c10c142da\" />\n     <use style=\"fill:#4575b4;fill-opacity:0.7;stroke:#4575b4;stroke-opacity:0.7;stroke-width:0.3;\" x=\"58.585175\" y=\"40.271097\" xlink:href=\"#m2c10c142da\" />\n     <use style=\"fill:#4575b4;fill-opacity:0.7;stroke:#4575b4;stroke-opacity:0.7;stroke-width:0.3;\" x=\"64.709031\" y=\"39.245026\" xlink:href=\"#m2c10c142da\" />\n     <use style=\"fill:#4575b4;fill-opacity:0.7;stroke:#4575b4;stroke-opacity:0.7;stroke-width:0.3;\" x=\"61.211975\" y=\"36.078864\" xlink:href=\"#m2c10c142da\" />\n     <use style=\"fill:#4575b4;fill-opacity:0.7;stroke:#4575b4;stroke-opacity:0.7;stroke-width:0.3;\" x=\"62.160234\" y=\"40.593577\" xlink:href=\"#m2c10c142da\" />\n     <use style=\"fill:#4575b4;fill-opacity:0.7;stroke:#4575b4;stroke-opacity:0.7;stroke-width:0.3;\" x=\"58.908831\" y=\"37.339465\" xlink:href=\"#m2c10c142da\" />\n     <use style=\"fill:#4575b4;fill-opacity:0.7;stroke:#4575b4;stroke-opacity:0.7;stroke-width:0.3;\" x=\"58.991846\" y=\"41.326485\" xlink:href=\"#m2c10c142da\" />\n     <use style=\"fill:#4575b4;fill-opacity:0.7;stroke:#4575b4;stroke-opacity:0.7;stroke-width:0.3;\" x=\"64.261461\" y=\"38.512118\" xlink:href=\"#m2c10c142da\" />\n     <use style=\"fill:#4575b4;fill-opacity:0.7;stroke:#4575b4;stroke-opacity:0.7;stroke-width:0.3;\" x=\"57.198475\" y=\"39.391608\" xlink:href=\"#m2c10c142da\" />\n     <use style=\"fill:#4575b4;fill-opacity:0.7;stroke:#4575b4;stroke-opacity:0.7;stroke-width:0.3;\" x=\"60.295617\" y=\"39.098444\" xlink:href=\"#m2c10c142da\" />\n     <use style=\"fill:#4575b4;fill-opacity:0.7;stroke:#4575b4;stroke-opacity:0.7;stroke-width:0.3;\" x=\"57.573637\" y=\"32.003896\" xlink:href=\"#m2c10c142da\" />\n     <use style=\"fill:#4575b4;fill-opacity:0.7;stroke:#4575b4;stroke-opacity:0.7;stroke-width:0.3;\" x=\"57.565606\" y=\"39.948618\" xlink:href=\"#m2c10c142da\" />\n     <use style=\"fill:#4575b4;fill-opacity:0.7;stroke:#4575b4;stroke-opacity:0.7;stroke-width:0.3;\" x=\"54.551535\" y=\"39.977934\" xlink:href=\"#m2c10c142da\" />\n     <use style=\"fill:#4575b4;fill-opacity:0.7;stroke:#4575b4;stroke-opacity:0.7;stroke-width:0.3;\" x=\"55.979062\" y=\"41.854178\" xlink:href=\"#m2c10c142da\" />\n     <use style=\"fill:#4575b4;fill-opacity:0.7;stroke:#4575b4;stroke-opacity:0.7;stroke-width:0.3;\" x=\"55.357154\" y=\"42.00076\" xlink:href=\"#m2c10c142da\" />\n     <use style=\"fill:#4575b4;fill-opacity:0.7;stroke:#4575b4;stroke-opacity:0.7;stroke-width:0.3;\" x=\"60.454947\" y=\"40.56426\" xlink:href=\"#m2c10c142da\" />\n     <use style=\"fill:#4575b4;fill-opacity:0.7;stroke:#4575b4;stroke-opacity:0.7;stroke-width:0.3;\" x=\"61.947609\" y=\"36.401343\" xlink:href=\"#m2c10c142da\" />\n     <use style=\"fill:#4575b4;fill-opacity:0.7;stroke:#4575b4;stroke-opacity:0.7;stroke-width:0.3;\" x=\"58.147766\" y=\"38.87564\" xlink:href=\"#m2c10c142da\" />\n     <use style=\"fill:#4575b4;fill-opacity:0.7;stroke:#4575b4;stroke-opacity:0.7;stroke-width:0.3;\" x=\"59.233794\" y=\"39.884122\" xlink:href=\"#m2c10c142da\" />\n     <use style=\"fill:#4575b4;fill-opacity:0.7;stroke:#4575b4;stroke-opacity:0.7;stroke-width:0.3;\" x=\"57.954526\" y=\"40.153832\" xlink:href=\"#m2c10c142da\" />\n     <use style=\"fill:#4575b4;fill-opacity:0.7;stroke:#4575b4;stroke-opacity:0.7;stroke-width:0.3;\" x=\"55.750522\" y=\"38.512118\" xlink:href=\"#m2c10c142da\" />\n     <use style=\"fill:#4575b4;fill-opacity:0.7;stroke:#4575b4;stroke-opacity:0.7;stroke-width:0.3;\" x=\"61.351857\" y=\"37.052166\" xlink:href=\"#m2c10c142da\" />\n     <use style=\"fill:#4575b4;fill-opacity:0.7;stroke:#4575b4;stroke-opacity:0.7;stroke-width:0.3;\" x=\"60.649686\" y=\"39.127761\" xlink:href=\"#m2c10c142da\" />\n     <use style=\"fill:#4575b4;fill-opacity:0.7;stroke:#4575b4;stroke-opacity:0.7;stroke-width:0.3;\" x=\"52.128756\" y=\"38.33622\" xlink:href=\"#m2c10c142da\" />\n     <use style=\"fill:#4575b4;fill-opacity:0.7;stroke:#4575b4;stroke-opacity:0.7;stroke-width:0.3;\" x=\"57.517151\" y=\"38.009343\" xlink:href=\"#m2c10c142da\" />\n     <use style=\"fill:#4575b4;fill-opacity:0.7;stroke:#4575b4;stroke-opacity:0.7;stroke-width:0.3;\" x=\"55.511972\" y=\"40.036567\" xlink:href=\"#m2c10c142da\" />\n     <use style=\"fill:#4575b4;fill-opacity:0.7;stroke:#4575b4;stroke-opacity:0.7;stroke-width:0.3;\" x=\"57.156138\" y=\"37.456731\" xlink:href=\"#m2c10c142da\" />\n     <use style=\"fill:#4575b4;fill-opacity:0.7;stroke:#4575b4;stroke-opacity:0.7;stroke-width:0.3;\" x=\"56.220395\" y=\"40.570124\" xlink:href=\"#m2c10c142da\" />\n     <use style=\"fill:#4575b4;fill-opacity:0.7;stroke:#4575b4;stroke-opacity:0.7;stroke-width:0.3;\" x=\"58.309585\" y=\"39.098444\" xlink:href=\"#m2c10c142da\" />\n     <use style=\"fill:#4575b4;fill-opacity:0.7;stroke:#4575b4;stroke-opacity:0.7;stroke-width:0.3;\" x=\"57.360445\" y=\"35.287323\" xlink:href=\"#m2c10c142da\" />\n     <use style=\"fill:#4575b4;fill-opacity:0.7;stroke:#4575b4;stroke-opacity:0.7;stroke-width:0.3;\" x=\"57.289381\" y=\"32.707487\" xlink:href=\"#m2c10c142da\" />\n     <use style=\"fill:#4575b4;fill-opacity:0.7;stroke:#4575b4;stroke-opacity:0.7;stroke-width:0.3;\" x=\"62.172536\" y=\"38.717332\" xlink:href=\"#m2c10c142da\" />\n     <use style=\"fill:#4575b4;fill-opacity:0.7;stroke:#4575b4;stroke-opacity:0.7;stroke-width:0.3;\" x=\"60.330434\" y=\"37.192884\" xlink:href=\"#m2c10c142da\" />\n     <use style=\"fill:#4575b4;fill-opacity:0.7;stroke:#4575b4;stroke-opacity:0.7;stroke-width:0.3;\" x=\"56.108361\" y=\"37.515363\" xlink:href=\"#m2c10c142da\" />\n     <use style=\"fill:#4575b4;fill-opacity:0.7;stroke:#4575b4;stroke-opacity:0.7;stroke-width:0.3;\" x=\"56.60503\" y=\"38.954795\" xlink:href=\"#m2c10c142da\" />\n     <use style=\"fill:#4575b4;fill-opacity:0.7;stroke:#4575b4;stroke-opacity:0.7;stroke-width:0.3;\" x=\"60.111523\" y=\"39.538189\" xlink:href=\"#m2c10c142da\" />\n     <use style=\"fill:#4575b4;fill-opacity:0.7;stroke:#4575b4;stroke-opacity:0.7;stroke-width:0.3;\" x=\"60.106925\" y=\"40.00725\" xlink:href=\"#m2c10c142da\" />\n     <use style=\"fill:#4575b4;fill-opacity:0.7;stroke:#4575b4;stroke-opacity:0.7;stroke-width:0.3;\" x=\"56.443544\" y=\"36.635874\" xlink:href=\"#m2c10c142da\" />\n     <use style=\"fill:#4575b4;fill-opacity:0.7;stroke:#4575b4;stroke-opacity:0.7;stroke-width:0.3;\" x=\"57.681599\" y=\"42.55777\" xlink:href=\"#m2c10c142da\" />\n     <use style=\"fill:#4575b4;fill-opacity:0.7;stroke:#4575b4;stroke-opacity:0.7;stroke-width:0.3;\" x=\"64.648107\" y=\"35.521854\" xlink:href=\"#m2c10c142da\" />\n     <use style=\"fill:#4575b4;fill-opacity:0.7;stroke:#4575b4;stroke-opacity:0.7;stroke-width:0.3;\" x=\"56.501237\" y=\"38.33622\" xlink:href=\"#m2c10c142da\" />\n     <use style=\"fill:#4575b4;fill-opacity:0.7;stroke:#4575b4;stroke-opacity:0.7;stroke-width:0.3;\" x=\"64.862374\" y=\"36.753139\" xlink:href=\"#m2c10c142da\" />\n     <use style=\"fill:#4575b4;fill-opacity:0.7;stroke:#4575b4;stroke-opacity:0.7;stroke-width:0.3;\" x=\"62.160077\" y=\"37.163568\" xlink:href=\"#m2c10c142da\" />\n     <use style=\"fill:#4575b4;fill-opacity:0.7;stroke:#4575b4;stroke-opacity:0.7;stroke-width:0.3;\" x=\"64.241694\" y=\"41.531699\" xlink:href=\"#m2c10c142da\" />\n     <use style=\"fill:#4575b4;fill-opacity:0.7;stroke:#4575b4;stroke-opacity:0.7;stroke-width:0.3;\" x=\"56.358867\" y=\"38.33622\" xlink:href=\"#m2c10c142da\" />\n     <use style=\"fill:#4575b4;fill-opacity:0.7;stroke:#4575b4;stroke-opacity:0.7;stroke-width:0.3;\" x=\"57.900675\" y=\"41.561015\" xlink:href=\"#m2c10c142da\" />\n     <use style=\"fill:#4575b4;fill-opacity:0.7;stroke:#4575b4;stroke-opacity:0.7;stroke-width:0.3;\" x=\"56.9612\" y=\"42.059392\" xlink:href=\"#m2c10c142da\" />\n     <use style=\"fill:#4575b4;fill-opacity:0.7;stroke:#4575b4;stroke-opacity:0.7;stroke-width:0.3;\" x=\"62.23737\" y=\"39.508873\" xlink:href=\"#m2c10c142da\" />\n     <use style=\"fill:#4575b4;fill-opacity:0.7;stroke:#4575b4;stroke-opacity:0.7;stroke-width:0.3;\" x=\"56.564395\" y=\"40.974689\" xlink:href=\"#m2c10c142da\" />\n     <use style=\"fill:#4575b4;fill-opacity:0.7;stroke:#4575b4;stroke-opacity:0.7;stroke-width:0.3;\" x=\"60.913109\" y=\"40.593577\" xlink:href=\"#m2c10c142da\" />\n     <use style=\"fill:#4575b4;fill-opacity:0.7;stroke:#4575b4;stroke-opacity:0.7;stroke-width:0.3;\" x=\"60.735946\" y=\"40.56426\" xlink:href=\"#m2c10c142da\" />\n     <use style=\"fill:#4575b4;fill-opacity:0.7;stroke:#4575b4;stroke-opacity:0.7;stroke-width:0.3;\" x=\"58.304197\" y=\"36.827427\" xlink:href=\"#m2c10c142da\" />\n     <use style=\"fill:#4575b4;fill-opacity:0.7;stroke:#4575b4;stroke-opacity:0.7;stroke-width:0.3;\" x=\"62.812913\" y=\"40.681526\" xlink:href=\"#m2c10c142da\" />\n     <use style=\"fill:#4575b4;fill-opacity:0.7;stroke:#4575b4;stroke-opacity:0.7;stroke-width:0.3;\" x=\"58.825512\" y=\"38.89323\" xlink:href=\"#m2c10c142da\" />\n     <use style=\"fill:#4575b4;fill-opacity:0.7;stroke:#4575b4;stroke-opacity:0.7;stroke-width:0.3;\" x=\"61.257519\" y=\"37.749894\" xlink:href=\"#m2c10c142da\" />\n     <use style=\"fill:#4575b4;fill-opacity:0.7;stroke:#4575b4;stroke-opacity:0.7;stroke-width:0.3;\" x=\"56.808733\" y=\"34.290569\" xlink:href=\"#m2c10c142da\" />\n     <use style=\"fill:#4575b4;fill-opacity:0.7;stroke:#4575b4;stroke-opacity:0.7;stroke-width:0.3;\" x=\"56.042934\" y=\"37.873022\" xlink:href=\"#m2c10c142da\" />\n     <use style=\"fill:#4575b4;fill-opacity:0.7;stroke:#4575b4;stroke-opacity:0.7;stroke-width:0.3;\" x=\"60.912875\" y=\"36.635874\" xlink:href=\"#m2c10c142da\" />\n     <use style=\"fill:#4575b4;fill-opacity:0.7;stroke:#4575b4;stroke-opacity:0.7;stroke-width:0.3;\" x=\"59.907453\" y=\"39.802036\" xlink:href=\"#m2c10c142da\" />\n     <use style=\"fill:#4575b4;fill-opacity:0.7;stroke:#4575b4;stroke-opacity:0.7;stroke-width:0.3;\" x=\"59.279594\" y=\"33.589909\" xlink:href=\"#m2c10c142da\" />\n     <use style=\"fill:#4575b4;fill-opacity:0.7;stroke:#4575b4;stroke-opacity:0.7;stroke-width:0.3;\" x=\"57.314331\" y=\"36.020231\" xlink:href=\"#m2c10c142da\" />\n     <use style=\"fill:#4575b4;fill-opacity:0.7;stroke:#4575b4;stroke-opacity:0.7;stroke-width:0.3;\" x=\"63.651753\" y=\"37.755757\" xlink:href=\"#m2c10c142da\" />\n     <use style=\"fill:#4575b4;fill-opacity:0.7;stroke:#4575b4;stroke-opacity:0.7;stroke-width:0.3;\" x=\"54.726671\" y=\"41.716392\" xlink:href=\"#m2c10c142da\" />\n     <use style=\"fill:#4575b4;fill-opacity:0.7;stroke:#4575b4;stroke-opacity:0.7;stroke-width:0.3;\" x=\"54.543344\" y=\"44.668545\" xlink:href=\"#m2c10c142da\" />\n     <use style=\"fill:#4575b4;fill-opacity:0.7;stroke:#4575b4;stroke-opacity:0.7;stroke-width:0.3;\" x=\"61.619373\" y=\"37.339465\" xlink:href=\"#m2c10c142da\" />\n     <use style=\"fill:#4575b4;fill-opacity:0.7;stroke:#4575b4;stroke-opacity:0.7;stroke-width:0.3;\" x=\"61.344603\" y=\"39.127761\" xlink:href=\"#m2c10c142da\" />\n     <use style=\"fill:#4575b4;fill-opacity:0.7;stroke:#4575b4;stroke-opacity:0.7;stroke-width:0.3;\" x=\"59.649398\" y=\"38.10169\" xlink:href=\"#m2c10c142da\" />\n     <use style=\"fill:#4575b4;fill-opacity:0.7;stroke:#4575b4;stroke-opacity:0.7;stroke-width:0.3;\" x=\"57.500936\" y=\"43.495892\" xlink:href=\"#m2c10c142da\" />\n     <use style=\"fill:#4575b4;fill-opacity:0.7;stroke:#4575b4;stroke-opacity:0.7;stroke-width:0.3;\" x=\"60.147109\" y=\"39.303659\" xlink:href=\"#m2c10c142da\" />\n     <use style=\"fill:#4575b4;fill-opacity:0.7;stroke:#4575b4;stroke-opacity:0.7;stroke-width:0.3;\" x=\"64.22634\" y=\"42.205974\" xlink:href=\"#m2c10c142da\" />\n     <use style=\"fill:#4575b4;fill-opacity:0.7;stroke:#4575b4;stroke-opacity:0.7;stroke-width:0.3;\" x=\"66.887049\" y=\"39.104308\" xlink:href=\"#m2c10c142da\" />\n     <use style=\"fill:#4575b4;fill-opacity:0.7;stroke:#4575b4;stroke-opacity:0.7;stroke-width:0.3;\" x=\"52.919327\" y=\"38.043057\" xlink:href=\"#m2c10c142da\" />\n     <use style=\"fill:#4575b4;fill-opacity:0.7;stroke:#4575b4;stroke-opacity:0.7;stroke-width:0.3;\" x=\"57.062455\" y=\"39.391608\" xlink:href=\"#m2c10c142da\" />\n     <use style=\"fill:#4575b4;fill-opacity:0.7;stroke:#4575b4;stroke-opacity:0.7;stroke-width:0.3;\" x=\"56.852023\" y=\"42.118025\" xlink:href=\"#m2c10c142da\" />\n     <use style=\"fill:#4575b4;fill-opacity:0.7;stroke:#4575b4;stroke-opacity:0.7;stroke-width:0.3;\" x=\"63.910587\" y=\"43.437259\" xlink:href=\"#m2c10c142da\" />\n     <use style=\"fill:#4575b4;fill-opacity:0.7;stroke:#4575b4;stroke-opacity:0.7;stroke-width:0.3;\" x=\"50.157624\" y=\"38.160322\" xlink:href=\"#m2c10c142da\" />\n     <use style=\"fill:#4575b4;fill-opacity:0.7;stroke:#4575b4;stroke-opacity:0.7;stroke-width:0.3;\" x=\"60.18532\" y=\"38.570751\" xlink:href=\"#m2c10c142da\" />\n     <use style=\"fill:#4575b4;fill-opacity:0.7;stroke:#4575b4;stroke-opacity:0.7;stroke-width:0.3;\" x=\"57.605199\" y=\"37.808527\" xlink:href=\"#m2c10c142da\" />\n     <use style=\"fill:#4575b4;fill-opacity:0.7;stroke:#4575b4;stroke-opacity:0.7;stroke-width:0.3;\" x=\"63.949401\" y=\"40.02484\" xlink:href=\"#m2c10c142da\" />\n     <use style=\"fill:#4575b4;fill-opacity:0.7;stroke:#4575b4;stroke-opacity:0.7;stroke-width:0.3;\" x=\"63.490478\" y=\"38.277588\" xlink:href=\"#m2c10c142da\" />\n     <use style=\"fill:#4575b4;fill-opacity:0.7;stroke:#4575b4;stroke-opacity:0.7;stroke-width:0.3;\" x=\"59.688717\" y=\"36.870404\" xlink:href=\"#m2c10c142da\" />\n     <use style=\"fill:#4575b4;fill-opacity:0.7;stroke:#4575b4;stroke-opacity:0.7;stroke-width:0.3;\" x=\"53.176087\" y=\"40.038677\" xlink:href=\"#m2c10c142da\" />\n     <use style=\"fill:#4575b4;fill-opacity:0.7;stroke:#4575b4;stroke-opacity:0.7;stroke-width:0.3;\" x=\"56.543618\" y=\"35.990915\" xlink:href=\"#m2c10c142da\" />\n     <use style=\"fill:#4575b4;fill-opacity:0.7;stroke:#4575b4;stroke-opacity:0.7;stroke-width:0.3;\" x=\"56.910219\" y=\"33.000651\" xlink:href=\"#m2c10c142da\" />\n     <use style=\"fill:#4575b4;fill-opacity:0.7;stroke:#4575b4;stroke-opacity:0.7;stroke-width:0.3;\" x=\"54.024029\" y=\"35.87365\" xlink:href=\"#m2c10c142da\" />\n     <use style=\"fill:#4575b4;fill-opacity:0.7;stroke:#4575b4;stroke-opacity:0.7;stroke-width:0.3;\" x=\"62.330548\" y=\"36.401343\" xlink:href=\"#m2c10c142da\" />\n     <use style=\"fill:#4575b4;fill-opacity:0.7;stroke:#4575b4;stroke-opacity:0.7;stroke-width:0.3;\" x=\"53.598928\" y=\"35.258007\" xlink:href=\"#m2c10c142da\" />\n     <use style=\"fill:#4575b4;fill-opacity:0.7;stroke:#4575b4;stroke-opacity:0.7;stroke-width:0.3;\" x=\"65.044916\" y=\"36.759002\" xlink:href=\"#m2c10c142da\" />\n     <use style=\"fill:#4575b4;fill-opacity:0.7;stroke:#4575b4;stroke-opacity:0.7;stroke-width:0.3;\" x=\"65.03653\" y=\"43.789055\" xlink:href=\"#m2c10c142da\" />\n     <use style=\"fill:#4575b4;fill-opacity:0.7;stroke:#4575b4;stroke-opacity:0.7;stroke-width:0.3;\" x=\"57.175818\" y=\"38.863914\" xlink:href=\"#m2c10c142da\" />\n     <use style=\"fill:#4575b4;fill-opacity:0.7;stroke:#4575b4;stroke-opacity:0.7;stroke-width:0.3;\" x=\"59.564802\" y=\"39.391608\" xlink:href=\"#m2c10c142da\" />\n     <use style=\"fill:#4575b4;fill-opacity:0.7;stroke:#4575b4;stroke-opacity:0.7;stroke-width:0.3;\" x=\"58.222995\" y=\"37.720578\" xlink:href=\"#m2c10c142da\" />\n     <use style=\"fill:#4575b4;fill-opacity:0.7;stroke:#4575b4;stroke-opacity:0.7;stroke-width:0.3;\" x=\"61.484309\" y=\"38.805281\" xlink:href=\"#m2c10c142da\" />\n    </g>\n   </g>\n   <g id=\"matplotlib.axis_1\" />\n   <g id=\"matplotlib.axis_2\">\n    <g id=\"ytick_1\">\n     <g id=\"line2d_1\">\n      <defs>\n       <path d=\"M 0 0  L -3.5 0  \" id=\"m6afe1bb0f4\" style=\"stroke:#444443;stroke-width:0.3;\" />\n      </defs>\n      <g>\n       <use style=\"fill:#444443;stroke:#444443;stroke-width:0.3;\" x=\"37.54\" y=\"32.355692\" xlink:href=\"#m6afe1bb0f4\" />\n      </g>\n     </g>\n     <g id=\"text_1\">\n      \n      <defs>\n       <path d=\"M 19.1875 8.296875  L 53.609375 8.296875  L 53.609375 0  L 7.328125 0  L 7.328125 8.296875  Q 12.9375 14.109375 22.625 23.890625  Q 32.328125 33.6875 34.8125 36.53125  Q 39.546875 41.84375 41.421875 45.53125  Q 43.3125 49.21875 43.3125 52.78125  Q 43.3125 58.59375 39.234375 62.25  Q 35.15625 65.921875 28.609375 65.921875  Q 23.96875 65.921875 18.8125 64.3125  Q 13.671875 62.703125 7.8125 59.421875  L 7.8125 69.390625  Q 13.765625 71.78125 18.9375 73  Q 24.125 74.21875 28.421875 74.21875  Q 39.75 74.21875 46.484375 68.546875  Q 53.21875 62.890625 53.21875 53.421875  Q 53.21875 48.921875 51.53125 44.890625  Q 49.859375 40.875 45.40625 35.40625  Q 44.1875 33.984375 37.640625 27.21875  Q 31.109375 20.453125 19.1875 8.296875  z \" id=\"DejaVuSans-50\" />\n       <path d=\"M 10.796875 72.90625  L 49.515625 72.90625  L 49.515625 64.59375  L 19.828125 64.59375  L 19.828125 46.734375  Q 21.96875 47.46875 24.109375 47.828125  Q 26.265625 48.1875 28.421875 48.1875  Q 40.625 48.1875 47.75 41.5  Q 54.890625 34.8125 54.890625 23.390625  Q 54.890625 11.625 47.5625 5.09375  Q 40.234375 -1.421875 26.90625 -1.421875  Q 22.3125 -1.421875 17.546875 -0.640625  Q 12.796875 0.140625 7.71875 1.703125  L 7.71875 11.625  Q 12.109375 9.234375 16.796875 8.0625  Q 21.484375 6.890625 26.703125 6.890625  Q 35.15625 6.890625 40.078125 11.328125  Q 45.015625 15.765625 45.015625 23.390625  Q 45.015625 31 40.078125 35.4375  Q 35.15625 39.890625 26.703125 39.890625  Q 22.75 39.890625 18.8125 39.015625  Q 14.890625 38.140625 10.796875 36.28125  z \" id=\"DejaVuSans-53\" />\n       <path d=\"M 31.78125 66.40625  Q 24.171875 66.40625 20.328125 58.90625  Q 16.5 51.421875 16.5 36.375  Q 16.5 21.390625 20.328125 13.890625  Q 24.171875 6.390625 31.78125 6.390625  Q 39.453125 6.390625 43.28125 13.890625  Q 47.125 21.390625 47.125 36.375  Q 47.125 51.421875 43.28125 58.90625  Q 39.453125 66.40625 31.78125 66.40625  z M 31.78125 74.21875  Q 44.046875 74.21875 50.515625 64.515625  Q 56.984375 54.828125 56.984375 36.375  Q 56.984375 17.96875 50.515625 8.265625  Q 44.046875 -1.421875 31.78125 -1.421875  Q 19.53125 -1.421875 13.0625 8.265625  Q 6.59375 17.96875 6.59375 36.375  Q 6.59375 54.828125 13.0625 64.515625  Q 19.53125 74.21875 31.78125 74.21875  z \" id=\"DejaVuSans-48\" />\n      </defs>\n      <g style=\"fill:#444443;\" transform=\"translate(-0 35.395067)scale(0.08 -0.08)\">\n       <use xlink:href=\"#DejaVuSans-50\" />\n       <use x=\"63.623047\" xlink:href=\"#DejaVuSans-53\" />\n       <use x=\"127.246094\" xlink:href=\"#DejaVuSans-48\" />\n       <use x=\"190.869141\" xlink:href=\"#DejaVuSans-48\" />\n       <use x=\"254.492188\" xlink:href=\"#DejaVuSans-48\" />\n       <use x=\"318.115234\" xlink:href=\"#DejaVuSans-48\" />\n      </g>\n     </g>\n    </g>\n    <g id=\"ytick_2\">\n     <g id=\"line2d_2\">\n      <g>\n       <use style=\"fill:#444443;stroke:#444443;stroke-width:0.3;\" x=\"37.54\" y=\"17.697533\" xlink:href=\"#m6afe1bb0f4\" />\n      </g>\n     </g>\n     <g id=\"text_2\">\n      \n      <g style=\"fill:#444443;\" transform=\"translate(-0 20.736908)scale(0.08 -0.08)\">\n       <use xlink:href=\"#DejaVuSans-53\" />\n       <use x=\"63.623047\" xlink:href=\"#DejaVuSans-48\" />\n       <use x=\"127.246094\" xlink:href=\"#DejaVuSans-48\" />\n       <use x=\"190.869141\" xlink:href=\"#DejaVuSans-48\" />\n       <use x=\"254.492188\" xlink:href=\"#DejaVuSans-48\" />\n       <use x=\"318.115234\" xlink:href=\"#DejaVuSans-48\" />\n      </g>\n     </g>\n    </g>\n    <g id=\"ytick_3\">\n     <g id=\"line2d_3\">\n      <g>\n       <use style=\"fill:#444443;stroke:#444443;stroke-width:0.3;\" x=\"37.54\" y=\"3.039375\" xlink:href=\"#m6afe1bb0f4\" />\n      </g>\n     </g>\n     <g id=\"text_3\">\n      \n      <defs>\n       <path d=\"M 8.203125 72.90625  L 55.078125 72.90625  L 55.078125 68.703125  L 28.609375 0  L 18.3125 0  L 43.21875 64.59375  L 8.203125 64.59375  z \" id=\"DejaVuSans-55\" />\n      </defs>\n      <g style=\"fill:#444443;\" transform=\"translate(-0 6.07875)scale(0.08 -0.08)\">\n       <use xlink:href=\"#DejaVuSans-55\" />\n       <use x=\"63.623047\" xlink:href=\"#DejaVuSans-53\" />\n       <use x=\"127.246094\" xlink:href=\"#DejaVuSans-48\" />\n       <use x=\"190.869141\" xlink:href=\"#DejaVuSans-48\" />\n       <use x=\"254.492188\" xlink:href=\"#DejaVuSans-48\" />\n       <use x=\"318.115234\" xlink:href=\"#DejaVuSans-48\" />\n      </g>\n     </g>\n    </g>\n   </g>\n   <g id=\"line2d_4\">\n    <path clip-path=\"url(#p356bf8b759)\" d=\"M 37.54 38.709385  L 114.095469 38.709385  \" style=\"fill:none;stroke:#444443;stroke-dasharray:3.7,1.6;stroke-dashoffset:0;\" />\n   </g>\n   <g id=\"patch_3\">\n    <path d=\"M 37.54 44.906183  L 37.54 1.418183  \" style=\"fill:none;stroke:#000000;stroke-linecap:square;stroke-linejoin:miter;stroke-width:0.3;\" />\n   </g>\n   <g id=\"text_4\">\n    \n    <defs>\n     <path d=\"M 53.515625 70.515625  L 53.515625 60.890625  Q 47.90625 63.578125 42.921875 64.890625  Q 37.9375 66.21875 33.296875 66.21875  Q 25.25 66.21875 20.875 63.09375  Q 16.5 59.96875 16.5 54.203125  Q 16.5 49.359375 19.40625 46.890625  Q 22.3125 44.4375 30.421875 42.921875  L 36.375 41.703125  Q 47.40625 39.59375 52.65625 34.296875  Q 57.90625 29 57.90625 20.125  Q 57.90625 9.515625 50.796875 4.046875  Q 43.703125 -1.421875 29.984375 -1.421875  Q 24.8125 -1.421875 18.96875 -0.25  Q 13.140625 0.921875 6.890625 3.21875  L 6.890625 13.375  Q 12.890625 10.015625 18.65625 8.296875  Q 24.421875 6.59375 29.984375 6.59375  Q 38.421875 6.59375 43.015625 9.90625  Q 47.609375 13.234375 47.609375 19.390625  Q 47.609375 24.75 44.3125 27.78125  Q 41.015625 30.8125 33.5 32.328125  L 27.484375 33.5  Q 16.453125 35.6875 11.515625 40.375  Q 6.59375 45.0625 6.59375 53.421875  Q 6.59375 63.09375 13.40625 68.65625  Q 20.21875 74.21875 32.171875 74.21875  Q 37.3125 74.21875 42.625 73.28125  Q 47.953125 72.359375 53.515625 70.515625  z \" id=\"DejaVuSans-83\" />\n     <path d=\"M 34.28125 27.484375  Q 23.390625 27.484375 19.1875 25  Q 14.984375 22.515625 14.984375 16.5  Q 14.984375 11.71875 18.140625 8.90625  Q 21.296875 6.109375 26.703125 6.109375  Q 34.1875 6.109375 38.703125 11.40625  Q 43.21875 16.703125 43.21875 25.484375  L 43.21875 27.484375  z M 52.203125 31.203125  L 52.203125 0  L 43.21875 0  L 43.21875 8.296875  Q 40.140625 3.328125 35.546875 0.953125  Q 30.953125 -1.421875 24.3125 -1.421875  Q 15.921875 -1.421875 10.953125 3.296875  Q 6 8.015625 6 15.921875  Q 6 25.140625 12.171875 29.828125  Q 18.359375 34.515625 30.609375 34.515625  L 43.21875 34.515625  L 43.21875 35.40625  Q 43.21875 41.609375 39.140625 45  Q 35.0625 48.390625 27.6875 48.390625  Q 23 48.390625 18.546875 47.265625  Q 14.109375 46.140625 10.015625 43.890625  L 10.015625 52.203125  Q 14.9375 54.109375 19.578125 55.046875  Q 24.21875 56 28.609375 56  Q 40.484375 56 46.34375 49.84375  Q 52.203125 43.703125 52.203125 31.203125  z \" id=\"DejaVuSans-97\" />\n     <path d=\"M 9.421875 75.984375  L 18.40625 75.984375  L 18.40625 0  L 9.421875 0  z \" id=\"DejaVuSans-108\" />\n     <path d=\"M 56.203125 29.59375  L 56.203125 25.203125  L 14.890625 25.203125  Q 15.484375 15.921875 20.484375 11.0625  Q 25.484375 6.203125 34.421875 6.203125  Q 39.59375 6.203125 44.453125 7.46875  Q 49.3125 8.734375 54.109375 11.28125  L 54.109375 2.78125  Q 49.265625 0.734375 44.1875 -0.34375  Q 39.109375 -1.421875 33.890625 -1.421875  Q 20.796875 -1.421875 13.15625 6.1875  Q 5.515625 13.8125 5.515625 26.8125  Q 5.515625 40.234375 12.765625 48.109375  Q 20.015625 56 32.328125 56  Q 43.359375 56 49.78125 48.890625  Q 56.203125 41.796875 56.203125 29.59375  z M 47.21875 32.234375  Q 47.125 39.59375 43.09375 43.984375  Q 39.0625 48.390625 32.421875 48.390625  Q 24.90625 48.390625 20.390625 44.140625  Q 15.875 39.890625 15.1875 32.171875  z \" id=\"DejaVuSans-101\" />\n     <path d=\"M 19.671875 64.796875  L 19.671875 37.40625  L 32.078125 37.40625  Q 38.96875 37.40625 42.71875 40.96875  Q 46.484375 44.53125 46.484375 51.125  Q 46.484375 57.671875 42.71875 61.234375  Q 38.96875 64.796875 32.078125 64.796875  z M 9.8125 72.90625  L 32.078125 72.90625  Q 44.34375 72.90625 50.609375 67.359375  Q 56.890625 61.8125 56.890625 51.125  Q 56.890625 40.328125 50.609375 34.8125  Q 44.34375 29.296875 32.078125 29.296875  L 19.671875 29.296875  L 19.671875 0  L 9.8125 0  z \" id=\"DejaVuSans-80\" />\n     <path d=\"M 41.109375 46.296875  Q 39.59375 47.171875 37.8125 47.578125  Q 36.03125 48 33.890625 48  Q 26.265625 48 22.1875 43.046875  Q 18.109375 38.09375 18.109375 28.8125  L 18.109375 0  L 9.078125 0  L 9.078125 54.6875  L 18.109375 54.6875  L 18.109375 46.1875  Q 20.953125 51.171875 25.484375 53.578125  Q 30.03125 56 36.53125 56  Q 37.453125 56 38.578125 55.875  Q 39.703125 55.765625 41.0625 55.515625  z \" id=\"DejaVuSans-114\" />\n     <path d=\"M 9.421875 54.6875  L 18.40625 54.6875  L 18.40625 0  L 9.421875 0  z M 9.421875 75.984375  L 18.40625 75.984375  L 18.40625 64.59375  L 9.421875 64.59375  z \" id=\"DejaVuSans-105\" />\n     <path d=\"M 48.78125 52.59375  L 48.78125 44.1875  Q 44.96875 46.296875 41.140625 47.34375  Q 37.3125 48.390625 33.40625 48.390625  Q 24.65625 48.390625 19.8125 42.84375  Q 14.984375 37.3125 14.984375 27.296875  Q 14.984375 17.28125 19.8125 11.734375  Q 24.65625 6.203125 33.40625 6.203125  Q 37.3125 6.203125 41.140625 7.25  Q 44.96875 8.296875 48.78125 10.40625  L 48.78125 2.09375  Q 45.015625 0.34375 40.984375 -0.53125  Q 36.96875 -1.421875 32.421875 -1.421875  Q 20.0625 -1.421875 12.78125 6.34375  Q 5.515625 14.109375 5.515625 27.296875  Q 5.515625 40.671875 12.859375 48.328125  Q 20.21875 56 33.015625 56  Q 37.15625 56 41.109375 55.140625  Q 45.0625 54.296875 48.78125 52.59375  z \" id=\"DejaVuSans-99\" />\n     <path d=\"M 10.59375 45.40625  L 73.1875 45.40625  L 73.1875 37.203125  L 10.59375 37.203125  z M 10.59375 25.484375  L 73.1875 25.484375  L 73.1875 17.1875  L 10.59375 17.1875  z \" id=\"DejaVuSans-61\" />\n     <path d=\"M 12.40625 8.296875  L 28.515625 8.296875  L 28.515625 63.921875  L 10.984375 60.40625  L 10.984375 69.390625  L 28.421875 72.90625  L 38.28125 72.90625  L 38.28125 8.296875  L 54.390625 8.296875  L 54.390625 0  L 12.40625 0  z \" id=\"DejaVuSans-49\" />\n     <path d=\"M 37.796875 64.3125  L 12.890625 25.390625  L 37.796875 25.390625  z M 35.203125 72.90625  L 47.609375 72.90625  L 47.609375 25.390625  L 58.015625 25.390625  L 58.015625 17.1875  L 47.609375 17.1875  L 47.609375 0  L 37.796875 0  L 37.796875 17.1875  L 4.890625 17.1875  L 4.890625 26.703125  z \" id=\"DejaVuSans-52\" />\n     <path d=\"M 33.015625 40.375  Q 26.375 40.375 22.484375 35.828125  Q 18.609375 31.296875 18.609375 23.390625  Q 18.609375 15.53125 22.484375 10.953125  Q 26.375 6.390625 33.015625 6.390625  Q 39.65625 6.390625 43.53125 10.953125  Q 47.40625 15.53125 47.40625 23.390625  Q 47.40625 31.296875 43.53125 35.828125  Q 39.65625 40.375 33.015625 40.375  z M 52.59375 71.296875  L 52.59375 62.3125  Q 48.875 64.0625 45.09375 64.984375  Q 41.3125 65.921875 37.59375 65.921875  Q 27.828125 65.921875 22.671875 59.328125  Q 17.53125 52.734375 16.796875 39.40625  Q 19.671875 43.65625 24.015625 45.921875  Q 28.375 48.1875 33.59375 48.1875  Q 44.578125 48.1875 50.953125 41.515625  Q 57.328125 34.859375 57.328125 23.390625  Q 57.328125 12.15625 50.6875 5.359375  Q 44.046875 -1.421875 33.015625 -1.421875  Q 20.359375 -1.421875 13.671875 8.265625  Q 6.984375 17.96875 6.984375 36.375  Q 6.984375 53.65625 15.1875 63.9375  Q 23.390625 74.21875 37.203125 74.21875  Q 40.921875 74.21875 44.703125 73.484375  Q 48.484375 72.75 52.59375 71.296875  z \" id=\"DejaVuSans-54\" />\n     <path d=\"M 40.578125 39.3125  Q 47.65625 37.796875 51.625 33  Q 55.609375 28.21875 55.609375 21.1875  Q 55.609375 10.40625 48.1875 4.484375  Q 40.765625 -1.421875 27.09375 -1.421875  Q 22.515625 -1.421875 17.65625 -0.515625  Q 12.796875 0.390625 7.625 2.203125  L 7.625 11.71875  Q 11.71875 9.328125 16.59375 8.109375  Q 21.484375 6.890625 26.8125 6.890625  Q 36.078125 6.890625 40.9375 10.546875  Q 45.796875 14.203125 45.796875 21.1875  Q 45.796875 27.640625 41.28125 31.265625  Q 36.765625 34.90625 28.71875 34.90625  L 20.21875 34.90625  L 20.21875 43.015625  L 29.109375 43.015625  Q 36.375 43.015625 40.234375 45.921875  Q 44.09375 48.828125 44.09375 54.296875  Q 44.09375 59.90625 40.109375 62.90625  Q 36.140625 65.921875 28.71875 65.921875  Q 24.65625 65.921875 20.015625 65.03125  Q 15.375 64.15625 9.8125 62.3125  L 9.8125 71.09375  Q 15.4375 72.65625 20.34375 73.4375  Q 25.25 74.21875 29.59375 74.21875  Q 40.828125 74.21875 47.359375 69.109375  Q 53.90625 64.015625 53.90625 55.328125  Q 53.90625 49.265625 50.4375 45.09375  Q 46.96875 40.921875 40.578125 39.3125  z \" id=\"DejaVuSans-51\" />\n     <path d=\"M 10.6875 12.40625  L 21 12.40625  L 21 0  L 10.6875 0  z \" id=\"DejaVuSans-46\" />\n    </defs>\n    <g style=\"fill:#444443;\" transform=\"translate(4.834531 54.25462)scale(0.1 -0.1)\">\n     <use xlink:href=\"#DejaVuSans-83\" />\n     <use x=\"63.476562\" xlink:href=\"#DejaVuSans-97\" />\n     <use x=\"124.755859\" xlink:href=\"#DejaVuSans-108\" />\n     <use x=\"152.539062\" xlink:href=\"#DejaVuSans-101\" />\n     <use x=\"214.0625\" xlink:href=\"#DejaVuSans-80\" />\n     <use x=\"272.615234\" xlink:href=\"#DejaVuSans-114\" />\n     <use x=\"313.728516\" xlink:href=\"#DejaVuSans-105\" />\n     <use x=\"341.511719\" xlink:href=\"#DejaVuSans-99\" />\n     <use x=\"396.492188\" xlink:href=\"#DejaVuSans-101\" />\n     <use x=\"458.015625\" xlink:href=\"#DejaVuSans-61\" />\n     <use x=\"541.804688\" xlink:href=\"#DejaVuSans-49\" />\n     <use x=\"605.427734\" xlink:href=\"#DejaVuSans-52\" />\n     <use x=\"669.050781\" xlink:href=\"#DejaVuSans-49\" />\n     <use x=\"732.673828\" xlink:href=\"#DejaVuSans-54\" />\n     <use x=\"796.296875\" xlink:href=\"#DejaVuSans-51\" />\n     <use x=\"859.919922\" xlink:href=\"#DejaVuSans-53\" />\n     <use x=\"923.542969\" xlink:href=\"#DejaVuSans-46\" />\n     <use x=\"955.330078\" xlink:href=\"#DejaVuSans-53\" />\n     <use x=\"1018.953125\" xlink:href=\"#DejaVuSans-52\" />\n    </g>\n    \n    <defs>\n     <path d=\"M 54.890625 33.015625  L 54.890625 0  L 45.90625 0  L 45.90625 32.71875  Q 45.90625 40.484375 42.875 44.328125  Q 39.84375 48.1875 33.796875 48.1875  Q 26.515625 48.1875 22.3125 43.546875  Q 18.109375 38.921875 18.109375 30.90625  L 18.109375 0  L 9.078125 0  L 9.078125 54.6875  L 18.109375 54.6875  L 18.109375 46.1875  Q 21.34375 51.125 25.703125 53.5625  Q 30.078125 56 35.796875 56  Q 45.21875 56 50.046875 50.171875  Q 54.890625 44.34375 54.890625 33.015625  z \" id=\"DejaVuSans-110\" />\n    </defs>\n    <g style=\"fill:#444443;\" transform=\"translate(42.062656 65.452433)scale(0.1 -0.1)\">\n     <use xlink:href=\"#DejaVuSans-110\" />\n     <use x=\"63.378906\" xlink:href=\"#DejaVuSans-61\" />\n     <use x=\"147.167969\" xlink:href=\"#DejaVuSans-51\" />\n     <use x=\"210.791016\" xlink:href=\"#DejaVuSans-49\" />\n     <use x=\"274.414062\" xlink:href=\"#DejaVuSans-51\" />\n    </g>\n   </g>\n  </g>\n </g>\n <defs>\n  <clipPath id=\"p356bf8b759\">\n   <rect height=\"43.488\" width=\"41.85\" x=\"37.54\" y=\"1.418183\" />\n  </clipPath>\n </defs>\n</svg></g>\n\n<g class=\"edge\" id=\"edge1\">\n<title>node1-&gt;leaf3</title>\n<path d=\"M330.2133,-214.3212C334.4804,-216.2212 338.7204,-218.1091 342.8665,-219.9551\" fill=\"none\" stroke=\"#444443\" stroke-width=\".3\" />\n<polygon fill=\"#444443\" points=\"342.4222,-221.2898 346.6458,-221.6379 343.5611,-218.7319 342.4222,-221.2898\" stroke=\"#444443\" stroke-width=\".3\" />\n</g>\n\n<g class=\"node\" id=\"node5\">\n<title>leaf4</title>\n<polygon fill=\"none\" points=\"440,-199 347,-199 347,-140 440,-140 440,-199\" stroke=\"#444443\" stroke-width=\"0\" />\n<svg height=\"51px\" preserveAspectRatio=\"xMinYMin meet\" version=\"1.1\" viewBox=\"0 0 113.095469 67.53212\" width=\"85px\" x=\"351.5\" y=\"-194.5\">\n <defs>\n  <style type=\"text/css\">\n*{stroke-linecap:butt;stroke-linejoin:round;}\n  </style>\n </defs>\n <g id=\"figure_1\">\n  <g id=\"patch_1\">\n   <path d=\"M 0 67.53212  L 113.095469 67.53212  L 113.095469 0  L 0 0  z \" style=\"fill:#ffffff;\" />\n  </g>\n  <g id=\"axes_1\">\n   <g id=\"patch_2\">\n    <path d=\"M 37.54 44.906183  L 79.39 44.906183  L 79.39 1.418183  L 37.54 1.418183  z \" style=\"fill:#ffffff;\" />\n   </g>\n   <g id=\"PathCollection_1\">\n    <defs>\n     <path d=\"M 0 1.118034  C 0.296506 1.118034 0.580908 1.000231 0.790569 0.790569  C 1.000231 0.580908 1.118034 0.296506 1.118034 0  C 1.118034 -0.296506 1.000231 -0.580908 0.790569 -0.790569  C 0.580908 -1.000231 0.296506 -1.118034 0 -1.118034  C -0.296506 -1.118034 -0.580908 -1.000231 -0.790569 -0.790569  C -1.000231 -0.580908 -1.118034 -0.296506 -1.118034 0  C -1.118034 0.296506 -1.000231 0.580908 -0.790569 0.790569  C -0.580908 1.000231 -0.296506 1.118034 0 1.118034  z \" id=\"me50a1ae6f8\" style=\"stroke:#4575b4;stroke-opacity:0.7;stroke-width:0.3;\" />\n    </defs>\n    <g clip-path=\"url(#p1d743131ed)\">\n     <use style=\"fill:#4575b4;fill-opacity:0.7;stroke:#4575b4;stroke-opacity:0.7;stroke-width:0.3;\" x=\"62.73262\" y=\"32.707487\" xlink:href=\"#me50a1ae6f8\" />\n     <use style=\"fill:#4575b4;fill-opacity:0.7;stroke:#4575b4;stroke-opacity:0.7;stroke-width:0.3;\" x=\"59.328774\" y=\"35.279056\" xlink:href=\"#me50a1ae6f8\" />\n     <use style=\"fill:#4575b4;fill-opacity:0.7;stroke:#4575b4;stroke-opacity:0.7;stroke-width:0.3;\" x=\"60.035603\" y=\"31.769365\" xlink:href=\"#me50a1ae6f8\" />\n     <use style=\"fill:#4575b4;fill-opacity:0.7;stroke:#4575b4;stroke-opacity:0.7;stroke-width:0.3;\" x=\"56.387217\" y=\"39.391608\" xlink:href=\"#me50a1ae6f8\" />\n     <use style=\"fill:#4575b4;fill-opacity:0.7;stroke:#4575b4;stroke-opacity:0.7;stroke-width:0.3;\" x=\"59.927118\" y=\"38.160322\" xlink:href=\"#me50a1ae6f8\" />\n     <use style=\"fill:#4575b4;fill-opacity:0.7;stroke:#4575b4;stroke-opacity:0.7;stroke-width:0.3;\" x=\"59.009927\" y=\"37.339465\" xlink:href=\"#me50a1ae6f8\" />\n     <use style=\"fill:#4575b4;fill-opacity:0.7;stroke:#4575b4;stroke-opacity:0.7;stroke-width:0.3;\" x=\"55.412312\" y=\"33.762875\" xlink:href=\"#me50a1ae6f8\" />\n     <use style=\"fill:#4575b4;fill-opacity:0.7;stroke:#4575b4;stroke-opacity:0.7;stroke-width:0.3;\" x=\"58.418004\" y=\"35.463221\" xlink:href=\"#me50a1ae6f8\" />\n     <use style=\"fill:#4575b4;fill-opacity:0.7;stroke:#4575b4;stroke-opacity:0.7;stroke-width:0.3;\" x=\"57.182105\" y=\"31.745912\" xlink:href=\"#me50a1ae6f8\" />\n     <use style=\"fill:#4575b4;fill-opacity:0.7;stroke:#4575b4;stroke-opacity:0.7;stroke-width:0.3;\" x=\"56.424409\" y=\"34.056038\" xlink:href=\"#me50a1ae6f8\" />\n     <use style=\"fill:#4575b4;fill-opacity:0.7;stroke:#4575b4;stroke-opacity:0.7;stroke-width:0.3;\" x=\"54.626547\" y=\"37.984424\" xlink:href=\"#me50a1ae6f8\" />\n     <use style=\"fill:#4575b4;fill-opacity:0.7;stroke:#4575b4;stroke-opacity:0.7;stroke-width:0.3;\" x=\"58.674259\" y=\"34.765493\" xlink:href=\"#me50a1ae6f8\" />\n     <use style=\"fill:#4575b4;fill-opacity:0.7;stroke:#4575b4;stroke-opacity:0.7;stroke-width:0.3;\" x=\"55.851973\" y=\"36.577241\" xlink:href=\"#me50a1ae6f8\" />\n     <use style=\"fill:#4575b4;fill-opacity:0.7;stroke:#4575b4;stroke-opacity:0.7;stroke-width:0.3;\" x=\"56.88773\" y=\"37.661945\" xlink:href=\"#me50a1ae6f8\" />\n     <use style=\"fill:#4575b4;fill-opacity:0.7;stroke:#4575b4;stroke-opacity:0.7;stroke-width:0.3;\" x=\"62.064516\" y=\"36.70037\" xlink:href=\"#me50a1ae6f8\" />\n     <use style=\"fill:#4575b4;fill-opacity:0.7;stroke:#4575b4;stroke-opacity:0.7;stroke-width:0.3;\" x=\"60.581325\" y=\"33.059283\" xlink:href=\"#me50a1ae6f8\" />\n     <use style=\"fill:#4575b4;fill-opacity:0.7;stroke:#4575b4;stroke-opacity:0.7;stroke-width:0.3;\" x=\"55.188089\" y=\"35.28146\" xlink:href=\"#me50a1ae6f8\" />\n     <use style=\"fill:#4575b4;fill-opacity:0.7;stroke:#4575b4;stroke-opacity:0.7;stroke-width:0.3;\" x=\"59.643131\" y=\"33.616293\" xlink:href=\"#me50a1ae6f8\" />\n     <use style=\"fill:#4575b4;fill-opacity:0.7;stroke:#4575b4;stroke-opacity:0.7;stroke-width:0.3;\" x=\"58.90955\" y=\"27.371918\" xlink:href=\"#me50a1ae6f8\" />\n     <use style=\"fill:#4575b4;fill-opacity:0.7;stroke:#4575b4;stroke-opacity:0.7;stroke-width:0.3;\" x=\"64.162279\" y=\"38.289314\" xlink:href=\"#me50a1ae6f8\" />\n     <use style=\"fill:#4575b4;fill-opacity:0.7;stroke:#4575b4;stroke-opacity:0.7;stroke-width:0.3;\" x=\"63.095769\" y=\"35.410452\" xlink:href=\"#me50a1ae6f8\" />\n     <use style=\"fill:#4575b4;fill-opacity:0.7;stroke:#4575b4;stroke-opacity:0.7;stroke-width:0.3;\" x=\"53.330009\" y=\"37.046302\" xlink:href=\"#me50a1ae6f8\" />\n     <use style=\"fill:#4575b4;fill-opacity:0.7;stroke:#4575b4;stroke-opacity:0.7;stroke-width:0.3;\" x=\"61.348055\" y=\"31.635683\" xlink:href=\"#me50a1ae6f8\" />\n     <use style=\"fill:#4575b4;fill-opacity:0.7;stroke:#4575b4;stroke-opacity:0.7;stroke-width:0.3;\" x=\"62.70088\" y=\"36.114043\" xlink:href=\"#me50a1ae6f8\" />\n     <use style=\"fill:#4575b4;fill-opacity:0.7;stroke:#4575b4;stroke-opacity:0.7;stroke-width:0.3;\" x=\"60.337735\" y=\"28.749785\" xlink:href=\"#me50a1ae6f8\" />\n     <use style=\"fill:#4575b4;fill-opacity:0.7;stroke:#4575b4;stroke-opacity:0.7;stroke-width:0.3;\" x=\"57.34204\" y=\"32.355692\" xlink:href=\"#me50a1ae6f8\" />\n     <use style=\"fill:#4575b4;fill-opacity:0.7;stroke:#4575b4;stroke-opacity:0.7;stroke-width:0.3;\" x=\"66.545043\" y=\"31.593467\" xlink:href=\"#me50a1ae6f8\" />\n     <use style=\"fill:#4575b4;fill-opacity:0.7;stroke:#4575b4;stroke-opacity:0.7;stroke-width:0.3;\" x=\"60.645918\" y=\"34.407834\" xlink:href=\"#me50a1ae6f8\" />\n     <use style=\"fill:#4575b4;fill-opacity:0.7;stroke:#4575b4;stroke-opacity:0.7;stroke-width:0.3;\" x=\"65.08247\" y=\"36.43066\" xlink:href=\"#me50a1ae6f8\" />\n     <use style=\"fill:#4575b4;fill-opacity:0.7;stroke:#4575b4;stroke-opacity:0.7;stroke-width:0.3;\" x=\"62.98975\" y=\"33.528344\" xlink:href=\"#me50a1ae6f8\" />\n     <use style=\"fill:#4575b4;fill-opacity:0.7;stroke:#4575b4;stroke-opacity:0.7;stroke-width:0.3;\" x=\"60.018923\" y=\"37.876834\" xlink:href=\"#me50a1ae6f8\" />\n     <use style=\"fill:#4575b4;fill-opacity:0.7;stroke:#4575b4;stroke-opacity:0.7;stroke-width:0.3;\" x=\"56.524161\" y=\"35.87365\" xlink:href=\"#me50a1ae6f8\" />\n     <use style=\"fill:#4575b4;fill-opacity:0.7;stroke:#4575b4;stroke-opacity:0.7;stroke-width:0.3;\" x=\"58.384297\" y=\"35.932282\" xlink:href=\"#me50a1ae6f8\" />\n     <use style=\"fill:#4575b4;fill-opacity:0.7;stroke:#4575b4;stroke-opacity:0.7;stroke-width:0.3;\" x=\"57.722037\" y=\"34.114671\" xlink:href=\"#me50a1ae6f8\" />\n     <use style=\"fill:#4575b4;fill-opacity:0.7;stroke:#4575b4;stroke-opacity:0.7;stroke-width:0.3;\" x=\"54.398791\" y=\"30.889876\" xlink:href=\"#me50a1ae6f8\" />\n     <use style=\"fill:#4575b4;fill-opacity:0.7;stroke:#4575b4;stroke-opacity:0.7;stroke-width:0.3;\" x=\"60.642143\" y=\"30.596713\" xlink:href=\"#me50a1ae6f8\" />\n     <use style=\"fill:#4575b4;fill-opacity:0.7;stroke:#4575b4;stroke-opacity:0.7;stroke-width:0.3;\" x=\"63.712498\" y=\"34.530962\" xlink:href=\"#me50a1ae6f8\" />\n     <use style=\"fill:#4575b4;fill-opacity:0.7;stroke:#4575b4;stroke-opacity:0.7;stroke-width:0.3;\" x=\"57.46628\" y=\"37.462594\" xlink:href=\"#me50a1ae6f8\" />\n     <use style=\"fill:#4575b4;fill-opacity:0.7;stroke:#4575b4;stroke-opacity:0.7;stroke-width:0.3;\" x=\"65.708922\" y=\"34.99416\" xlink:href=\"#me50a1ae6f8\" />\n     <use style=\"fill:#4575b4;fill-opacity:0.7;stroke:#4575b4;stroke-opacity:0.7;stroke-width:0.3;\" x=\"53.250213\" y=\"33.850824\" xlink:href=\"#me50a1ae6f8\" />\n     <use style=\"fill:#4575b4;fill-opacity:0.7;stroke:#4575b4;stroke-opacity:0.7;stroke-width:0.3;\" x=\"61.995009\" y=\"34.876895\" xlink:href=\"#me50a1ae6f8\" />\n     <use style=\"fill:#4575b4;fill-opacity:0.7;stroke:#4575b4;stroke-opacity:0.7;stroke-width:0.3;\" x=\"64.06125\" y=\"33.586977\" xlink:href=\"#me50a1ae6f8\" />\n     <use style=\"fill:#4575b4;fill-opacity:0.7;stroke:#4575b4;stroke-opacity:0.7;stroke-width:0.3;\" x=\"57.781906\" y=\"30.772611\" xlink:href=\"#me50a1ae6f8\" />\n     <use style=\"fill:#4575b4;fill-opacity:0.7;stroke:#4575b4;stroke-opacity:0.7;stroke-width:0.3;\" x=\"57.842083\" y=\"35.815017\" xlink:href=\"#me50a1ae6f8\" />\n     <use style=\"fill:#4575b4;fill-opacity:0.7;stroke:#4575b4;stroke-opacity:0.7;stroke-width:0.3;\" x=\"61.956178\" y=\"32.883385\" xlink:href=\"#me50a1ae6f8\" />\n     <use style=\"fill:#4575b4;fill-opacity:0.7;stroke:#4575b4;stroke-opacity:0.7;stroke-width:0.3;\" x=\"60.159058\" y=\"35.932282\" xlink:href=\"#me50a1ae6f8\" />\n     <use style=\"fill:#4575b4;fill-opacity:0.7;stroke:#4575b4;stroke-opacity:0.7;stroke-width:0.3;\" x=\"51.777667\" y=\"30.596713\" xlink:href=\"#me50a1ae6f8\" />\n     <use style=\"fill:#4575b4;fill-opacity:0.7;stroke:#4575b4;stroke-opacity:0.7;stroke-width:0.3;\" x=\"55.641387\" y=\"31.071637\" xlink:href=\"#me50a1ae6f8\" />\n     <use style=\"fill:#4575b4;fill-opacity:0.7;stroke:#4575b4;stroke-opacity:0.7;stroke-width:0.3;\" x=\"58.419636\" y=\"37.046302\" xlink:href=\"#me50a1ae6f8\" />\n     <use style=\"fill:#4575b4;fill-opacity:0.7;stroke:#4575b4;stroke-opacity:0.7;stroke-width:0.3;\" x=\"53.87925\" y=\"35.111425\" xlink:href=\"#me50a1ae6f8\" />\n     <use style=\"fill:#4575b4;fill-opacity:0.7;stroke:#4575b4;stroke-opacity:0.7;stroke-width:0.3;\" x=\"56.877464\" y=\"32.355692\" xlink:href=\"#me50a1ae6f8\" />\n     <use style=\"fill:#4575b4;fill-opacity:0.7;stroke:#4575b4;stroke-opacity:0.7;stroke-width:0.3;\" x=\"53.962993\" y=\"34.700997\" xlink:href=\"#me50a1ae6f8\" />\n     <use style=\"fill:#4575b4;fill-opacity:0.7;stroke:#4575b4;stroke-opacity:0.7;stroke-width:0.3;\" x=\"57.225669\" y=\"37.2222\" xlink:href=\"#me50a1ae6f8\" />\n     <use style=\"fill:#4575b4;fill-opacity:0.7;stroke:#4575b4;stroke-opacity:0.7;stroke-width:0.3;\" x=\"57.337987\" y=\"37.134251\" xlink:href=\"#me50a1ae6f8\" />\n     <use style=\"fill:#4575b4;fill-opacity:0.7;stroke:#4575b4;stroke-opacity:0.7;stroke-width:0.3;\" x=\"59.642675\" y=\"33.821507\" xlink:href=\"#me50a1ae6f8\" />\n     <use style=\"fill:#4575b4;fill-opacity:0.7;stroke:#4575b4;stroke-opacity:0.7;stroke-width:0.3;\" x=\"58.15779\" y=\"36.479618\" xlink:href=\"#me50a1ae6f8\" />\n     <use style=\"fill:#4575b4;fill-opacity:0.7;stroke:#4575b4;stroke-opacity:0.7;stroke-width:0.3;\" x=\"60.14834\" y=\"39.397471\" xlink:href=\"#me50a1ae6f8\" />\n     <use style=\"fill:#4575b4;fill-opacity:0.7;stroke:#4575b4;stroke-opacity:0.7;stroke-width:0.3;\" x=\"59.749105\" y=\"36.459976\" xlink:href=\"#me50a1ae6f8\" />\n     <use style=\"fill:#4575b4;fill-opacity:0.7;stroke:#4575b4;stroke-opacity:0.7;stroke-width:0.3;\" x=\"61.917926\" y=\"35.87365\" xlink:href=\"#me50a1ae6f8\" />\n     <use style=\"fill:#4575b4;fill-opacity:0.7;stroke:#4575b4;stroke-opacity:0.7;stroke-width:0.3;\" x=\"61.390426\" y=\"36.9349\" xlink:href=\"#me50a1ae6f8\" />\n     <use style=\"fill:#4575b4;fill-opacity:0.7;stroke:#4575b4;stroke-opacity:0.7;stroke-width:0.3;\" x=\"61.036679\" y=\"31.124406\" xlink:href=\"#me50a1ae6f8\" />\n     <use style=\"fill:#4575b4;fill-opacity:0.7;stroke:#4575b4;stroke-opacity:0.7;stroke-width:0.3;\" x=\"68.860096\" y=\"35.375272\" xlink:href=\"#me50a1ae6f8\" />\n     <use style=\"fill:#4575b4;fill-opacity:0.7;stroke:#4575b4;stroke-opacity:0.7;stroke-width:0.3;\" x=\"59.628104\" y=\"32.942018\" xlink:href=\"#me50a1ae6f8\" />\n     <use style=\"fill:#4575b4;fill-opacity:0.7;stroke:#4575b4;stroke-opacity:0.7;stroke-width:0.3;\" x=\"67.148277\" y=\"37.046302\" xlink:href=\"#me50a1ae6f8\" />\n     <use style=\"fill:#4575b4;fill-opacity:0.7;stroke:#4575b4;stroke-opacity:0.7;stroke-width:0.3;\" x=\"59.845107\" y=\"32.198673\" xlink:href=\"#me50a1ae6f8\" />\n     <use style=\"fill:#4575b4;fill-opacity:0.7;stroke:#4575b4;stroke-opacity:0.7;stroke-width:0.3;\" x=\"58.187615\" y=\"33.000651\" xlink:href=\"#me50a1ae6f8\" />\n     <use style=\"fill:#4575b4;fill-opacity:0.7;stroke:#4575b4;stroke-opacity:0.7;stroke-width:0.3;\" x=\"57.215643\" y=\"33.235181\" xlink:href=\"#me50a1ae6f8\" />\n     <use style=\"fill:#4575b4;fill-opacity:0.7;stroke:#4575b4;stroke-opacity:0.7;stroke-width:0.3;\" x=\"63.519562\" y=\"33.176549\" xlink:href=\"#me50a1ae6f8\" />\n     <use style=\"fill:#4575b4;fill-opacity:0.7;stroke:#4575b4;stroke-opacity:0.7;stroke-width:0.3;\" x=\"63.957405\" y=\"33.827371\" xlink:href=\"#me50a1ae6f8\" />\n     <use style=\"fill:#4575b4;fill-opacity:0.7;stroke:#4575b4;stroke-opacity:0.7;stroke-width:0.3;\" x=\"60.473076\" y=\"35.815017\" xlink:href=\"#me50a1ae6f8\" />\n     <use style=\"fill:#4575b4;fill-opacity:0.7;stroke:#4575b4;stroke-opacity:0.7;stroke-width:0.3;\" x=\"62.260115\" y=\"35.646214\" xlink:href=\"#me50a1ae6f8\" />\n     <use style=\"fill:#4575b4;fill-opacity:0.7;stroke:#4575b4;stroke-opacity:0.7;stroke-width:0.3;\" x=\"54.188866\" y=\"36.753139\" xlink:href=\"#me50a1ae6f8\" />\n     <use style=\"fill:#4575b4;fill-opacity:0.7;stroke:#4575b4;stroke-opacity:0.7;stroke-width:0.3;\" x=\"53.279685\" y=\"34.496369\" xlink:href=\"#me50a1ae6f8\" />\n     <use style=\"fill:#4575b4;fill-opacity:0.7;stroke:#4575b4;stroke-opacity:0.7;stroke-width:0.3;\" x=\"62.637702\" y=\"39.274342\" xlink:href=\"#me50a1ae6f8\" />\n     <use style=\"fill:#4575b4;fill-opacity:0.7;stroke:#4575b4;stroke-opacity:0.7;stroke-width:0.3;\" x=\"58.040435\" y=\"36.694507\" xlink:href=\"#me50a1ae6f8\" />\n     <use style=\"fill:#4575b4;fill-opacity:0.7;stroke:#4575b4;stroke-opacity:0.7;stroke-width:0.3;\" x=\"60.973664\" y=\"35.521854\" xlink:href=\"#me50a1ae6f8\" />\n     <use style=\"fill:#4575b4;fill-opacity:0.7;stroke:#4575b4;stroke-opacity:0.7;stroke-width:0.3;\" x=\"56.06352\" y=\"30.930919\" xlink:href=\"#me50a1ae6f8\" />\n     <use style=\"fill:#4575b4;fill-opacity:0.7;stroke:#4575b4;stroke-opacity:0.7;stroke-width:0.3;\" x=\"64.012597\" y=\"35.580486\" xlink:href=\"#me50a1ae6f8\" />\n     <use style=\"fill:#4575b4;fill-opacity:0.7;stroke:#4575b4;stroke-opacity:0.7;stroke-width:0.3;\" x=\"53.307678\" y=\"37.620902\" xlink:href=\"#me50a1ae6f8\" />\n     <use style=\"fill:#4575b4;fill-opacity:0.7;stroke:#4575b4;stroke-opacity:0.7;stroke-width:0.3;\" x=\"53.826061\" y=\"37.403961\" xlink:href=\"#me50a1ae6f8\" />\n     <use style=\"fill:#4575b4;fill-opacity:0.7;stroke:#4575b4;stroke-opacity:0.7;stroke-width:0.3;\" x=\"63.300555\" y=\"35.87365\" xlink:href=\"#me50a1ae6f8\" />\n     <use style=\"fill:#4575b4;fill-opacity:0.7;stroke:#4575b4;stroke-opacity:0.7;stroke-width:0.3;\" x=\"49.72725\" y=\"37.192884\" xlink:href=\"#me50a1ae6f8\" />\n     <use style=\"fill:#4575b4;fill-opacity:0.7;stroke:#4575b4;stroke-opacity:0.7;stroke-width:0.3;\" x=\"59.732449\" y=\"36.811772\" xlink:href=\"#me50a1ae6f8\" />\n     <use style=\"fill:#4575b4;fill-opacity:0.7;stroke:#4575b4;stroke-opacity:0.7;stroke-width:0.3;\" x=\"58.105673\" y=\"30.906\" xlink:href=\"#me50a1ae6f8\" />\n     <use style=\"fill:#4575b4;fill-opacity:0.7;stroke:#4575b4;stroke-opacity:0.7;stroke-width:0.3;\" x=\"56.001033\" y=\"36.495156\" xlink:href=\"#me50a1ae6f8\" />\n     <use style=\"fill:#4575b4;fill-opacity:0.7;stroke:#4575b4;stroke-opacity:0.7;stroke-width:0.3;\" x=\"57.795601\" y=\"36.465839\" xlink:href=\"#me50a1ae6f8\" />\n     <use style=\"fill:#4575b4;fill-opacity:0.7;stroke:#4575b4;stroke-opacity:0.7;stroke-width:0.3;\" x=\"55.627491\" y=\"32.684034\" xlink:href=\"#me50a1ae6f8\" />\n     <use style=\"fill:#4575b4;fill-opacity:0.7;stroke:#4575b4;stroke-opacity:0.7;stroke-width:0.3;\" x=\"63.628473\" y=\"33.968089\" xlink:href=\"#me50a1ae6f8\" />\n     <use style=\"fill:#4575b4;fill-opacity:0.7;stroke:#4575b4;stroke-opacity:0.7;stroke-width:0.3;\" x=\"64.506456\" y=\"33.704242\" xlink:href=\"#me50a1ae6f8\" />\n     <use style=\"fill:#4575b4;fill-opacity:0.7;stroke:#4575b4;stroke-opacity:0.7;stroke-width:0.3;\" x=\"56.169151\" y=\"36.043684\" xlink:href=\"#me50a1ae6f8\" />\n     <use style=\"fill:#4575b4;fill-opacity:0.7;stroke:#4575b4;stroke-opacity:0.7;stroke-width:0.3;\" x=\"59.387457\" y=\"32.824753\" xlink:href=\"#me50a1ae6f8\" />\n     <use style=\"fill:#4575b4;fill-opacity:0.7;stroke:#4575b4;stroke-opacity:0.7;stroke-width:0.3;\" x=\"54.028644\" y=\"34.114671\" xlink:href=\"#me50a1ae6f8\" />\n     <use style=\"fill:#4575b4;fill-opacity:0.7;stroke:#4575b4;stroke-opacity:0.7;stroke-width:0.3;\" x=\"62.057579\" y=\"35.932282\" xlink:href=\"#me50a1ae6f8\" />\n     <use style=\"fill:#4575b4;fill-opacity:0.7;stroke:#4575b4;stroke-opacity:0.7;stroke-width:0.3;\" x=\"61.970387\" y=\"36.254762\" xlink:href=\"#me50a1ae6f8\" />\n     <use style=\"fill:#4575b4;fill-opacity:0.7;stroke:#4575b4;stroke-opacity:0.7;stroke-width:0.3;\" x=\"57.476462\" y=\"32.854069\" xlink:href=\"#me50a1ae6f8\" />\n     <use style=\"fill:#4575b4;fill-opacity:0.7;stroke:#4575b4;stroke-opacity:0.7;stroke-width:0.3;\" x=\"58.521531\" y=\"30.069019\" xlink:href=\"#me50a1ae6f8\" />\n     <use style=\"fill:#4575b4;fill-opacity:0.7;stroke:#4575b4;stroke-opacity:0.7;stroke-width:0.3;\" x=\"58.151073\" y=\"34.938459\" xlink:href=\"#me50a1ae6f8\" />\n     <use style=\"fill:#4575b4;fill-opacity:0.7;stroke:#4575b4;stroke-opacity:0.7;stroke-width:0.3;\" x=\"53.046403\" y=\"36.225445\" xlink:href=\"#me50a1ae6f8\" />\n     <use style=\"fill:#4575b4;fill-opacity:0.7;stroke:#4575b4;stroke-opacity:0.7;stroke-width:0.3;\" x=\"63.641022\" y=\"35.463221\" xlink:href=\"#me50a1ae6f8\" />\n     <use style=\"fill:#4575b4;fill-opacity:0.7;stroke:#4575b4;stroke-opacity:0.7;stroke-width:0.3;\" x=\"55.897241\" y=\"33.997405\" xlink:href=\"#me50a1ae6f8\" />\n     <use style=\"fill:#4575b4;fill-opacity:0.7;stroke:#4575b4;stroke-opacity:0.7;stroke-width:0.3;\" x=\"55.92002\" y=\"34.407834\" xlink:href=\"#me50a1ae6f8\" />\n     <use style=\"fill:#4575b4;fill-opacity:0.7;stroke:#4575b4;stroke-opacity:0.7;stroke-width:0.3;\" x=\"57.961394\" y=\"34.700997\" xlink:href=\"#me50a1ae6f8\" />\n     <use style=\"fill:#4575b4;fill-opacity:0.7;stroke:#4575b4;stroke-opacity:0.7;stroke-width:0.3;\" x=\"61.798097\" y=\"36.005573\" xlink:href=\"#me50a1ae6f8\" />\n     <use style=\"fill:#4575b4;fill-opacity:0.7;stroke:#4575b4;stroke-opacity:0.7;stroke-width:0.3;\" x=\"56.485317\" y=\"39.391608\" xlink:href=\"#me50a1ae6f8\" />\n     <use style=\"fill:#4575b4;fill-opacity:0.7;stroke:#4575b4;stroke-opacity:0.7;stroke-width:0.3;\" x=\"51.929084\" y=\"38.561839\" xlink:href=\"#me50a1ae6f8\" />\n     <use style=\"fill:#4575b4;fill-opacity:0.7;stroke:#4575b4;stroke-opacity:0.7;stroke-width:0.3;\" x=\"55.49533\" y=\"31.769365\" xlink:href=\"#me50a1ae6f8\" />\n     <use style=\"fill:#4575b4;fill-opacity:0.7;stroke:#4575b4;stroke-opacity:0.7;stroke-width:0.3;\" x=\"59.885022\" y=\"36.459976\" xlink:href=\"#me50a1ae6f8\" />\n     <use style=\"fill:#4575b4;fill-opacity:0.7;stroke:#4575b4;stroke-opacity:0.7;stroke-width:0.3;\" x=\"65.796284\" y=\"35.140742\" xlink:href=\"#me50a1ae6f8\" />\n     <use style=\"fill:#4575b4;fill-opacity:0.7;stroke:#4575b4;stroke-opacity:0.7;stroke-width:0.3;\" x=\"54.246788\" y=\"33.664372\" xlink:href=\"#me50a1ae6f8\" />\n     <use style=\"fill:#4575b4;fill-opacity:0.7;stroke:#4575b4;stroke-opacity:0.7;stroke-width:0.3;\" x=\"54.124312\" y=\"35.87365\" xlink:href=\"#me50a1ae6f8\" />\n     <use style=\"fill:#4575b4;fill-opacity:0.7;stroke:#4575b4;stroke-opacity:0.7;stroke-width:0.3;\" x=\"53.40083\" y=\"33.827371\" xlink:href=\"#me50a1ae6f8\" />\n     <use style=\"fill:#4575b4;fill-opacity:0.7;stroke:#4575b4;stroke-opacity:0.7;stroke-width:0.3;\" x=\"52.985245\" y=\"36.811772\" xlink:href=\"#me50a1ae6f8\" />\n     <use style=\"fill:#4575b4;fill-opacity:0.7;stroke:#4575b4;stroke-opacity:0.7;stroke-width:0.3;\" x=\"62.501655\" y=\"35.287323\" xlink:href=\"#me50a1ae6f8\" />\n     <use style=\"fill:#4575b4;fill-opacity:0.7;stroke:#4575b4;stroke-opacity:0.7;stroke-width:0.3;\" x=\"63.469217\" y=\"33.528344\" xlink:href=\"#me50a1ae6f8\" />\n     <use style=\"fill:#4575b4;fill-opacity:0.7;stroke:#4575b4;stroke-opacity:0.7;stroke-width:0.3;\" x=\"59.060127\" y=\"32.854069\" xlink:href=\"#me50a1ae6f8\" />\n     <use style=\"fill:#4575b4;fill-opacity:0.7;stroke:#4575b4;stroke-opacity:0.7;stroke-width:0.3;\" x=\"56.899098\" y=\"34.466466\" xlink:href=\"#me50a1ae6f8\" />\n     <use style=\"fill:#4575b4;fill-opacity:0.7;stroke:#4575b4;stroke-opacity:0.7;stroke-width:0.3;\" x=\"64.461749\" y=\"39.098444\" xlink:href=\"#me50a1ae6f8\" />\n     <use style=\"fill:#4575b4;fill-opacity:0.7;stroke:#4575b4;stroke-opacity:0.7;stroke-width:0.3;\" x=\"59.047244\" y=\"24.500678\" xlink:href=\"#me50a1ae6f8\" />\n     <use style=\"fill:#4575b4;fill-opacity:0.7;stroke:#4575b4;stroke-opacity:0.7;stroke-width:0.3;\" x=\"62.112434\" y=\"34.466466\" xlink:href=\"#me50a1ae6f8\" />\n    </g>\n   </g>\n   <g id=\"matplotlib.axis_1\" />\n   <g id=\"matplotlib.axis_2\">\n    <g id=\"ytick_1\">\n     <g id=\"line2d_1\">\n      <defs>\n       <path d=\"M 0 0  L -3.5 0  \" id=\"m6b1c6d7e24\" style=\"stroke:#444443;stroke-width:0.3;\" />\n      </defs>\n      <g>\n       <use style=\"fill:#444443;stroke:#444443;stroke-width:0.3;\" x=\"37.54\" y=\"32.355692\" xlink:href=\"#m6b1c6d7e24\" />\n      </g>\n     </g>\n     <g id=\"text_1\">\n      \n      <defs>\n       <path d=\"M 19.1875 8.296875  L 53.609375 8.296875  L 53.609375 0  L 7.328125 0  L 7.328125 8.296875  Q 12.9375 14.109375 22.625 23.890625  Q 32.328125 33.6875 34.8125 36.53125  Q 39.546875 41.84375 41.421875 45.53125  Q 43.3125 49.21875 43.3125 52.78125  Q 43.3125 58.59375 39.234375 62.25  Q 35.15625 65.921875 28.609375 65.921875  Q 23.96875 65.921875 18.8125 64.3125  Q 13.671875 62.703125 7.8125 59.421875  L 7.8125 69.390625  Q 13.765625 71.78125 18.9375 73  Q 24.125 74.21875 28.421875 74.21875  Q 39.75 74.21875 46.484375 68.546875  Q 53.21875 62.890625 53.21875 53.421875  Q 53.21875 48.921875 51.53125 44.890625  Q 49.859375 40.875 45.40625 35.40625  Q 44.1875 33.984375 37.640625 27.21875  Q 31.109375 20.453125 19.1875 8.296875  z \" id=\"DejaVuSans-50\" />\n       <path d=\"M 10.796875 72.90625  L 49.515625 72.90625  L 49.515625 64.59375  L 19.828125 64.59375  L 19.828125 46.734375  Q 21.96875 47.46875 24.109375 47.828125  Q 26.265625 48.1875 28.421875 48.1875  Q 40.625 48.1875 47.75 41.5  Q 54.890625 34.8125 54.890625 23.390625  Q 54.890625 11.625 47.5625 5.09375  Q 40.234375 -1.421875 26.90625 -1.421875  Q 22.3125 -1.421875 17.546875 -0.640625  Q 12.796875 0.140625 7.71875 1.703125  L 7.71875 11.625  Q 12.109375 9.234375 16.796875 8.0625  Q 21.484375 6.890625 26.703125 6.890625  Q 35.15625 6.890625 40.078125 11.328125  Q 45.015625 15.765625 45.015625 23.390625  Q 45.015625 31 40.078125 35.4375  Q 35.15625 39.890625 26.703125 39.890625  Q 22.75 39.890625 18.8125 39.015625  Q 14.890625 38.140625 10.796875 36.28125  z \" id=\"DejaVuSans-53\" />\n       <path d=\"M 31.78125 66.40625  Q 24.171875 66.40625 20.328125 58.90625  Q 16.5 51.421875 16.5 36.375  Q 16.5 21.390625 20.328125 13.890625  Q 24.171875 6.390625 31.78125 6.390625  Q 39.453125 6.390625 43.28125 13.890625  Q 47.125 21.390625 47.125 36.375  Q 47.125 51.421875 43.28125 58.90625  Q 39.453125 66.40625 31.78125 66.40625  z M 31.78125 74.21875  Q 44.046875 74.21875 50.515625 64.515625  Q 56.984375 54.828125 56.984375 36.375  Q 56.984375 17.96875 50.515625 8.265625  Q 44.046875 -1.421875 31.78125 -1.421875  Q 19.53125 -1.421875 13.0625 8.265625  Q 6.59375 17.96875 6.59375 36.375  Q 6.59375 54.828125 13.0625 64.515625  Q 19.53125 74.21875 31.78125 74.21875  z \" id=\"DejaVuSans-48\" />\n      </defs>\n      <g style=\"fill:#444443;\" transform=\"translate(-0 35.395067)scale(0.08 -0.08)\">\n       <use xlink:href=\"#DejaVuSans-50\" />\n       <use x=\"63.623047\" xlink:href=\"#DejaVuSans-53\" />\n       <use x=\"127.246094\" xlink:href=\"#DejaVuSans-48\" />\n       <use x=\"190.869141\" xlink:href=\"#DejaVuSans-48\" />\n       <use x=\"254.492188\" xlink:href=\"#DejaVuSans-48\" />\n       <use x=\"318.115234\" xlink:href=\"#DejaVuSans-48\" />\n      </g>\n     </g>\n    </g>\n    <g id=\"ytick_2\">\n     <g id=\"line2d_2\">\n      <g>\n       <use style=\"fill:#444443;stroke:#444443;stroke-width:0.3;\" x=\"37.54\" y=\"17.697533\" xlink:href=\"#m6b1c6d7e24\" />\n      </g>\n     </g>\n     <g id=\"text_2\">\n      \n      <g style=\"fill:#444443;\" transform=\"translate(-0 20.736908)scale(0.08 -0.08)\">\n       <use xlink:href=\"#DejaVuSans-53\" />\n       <use x=\"63.623047\" xlink:href=\"#DejaVuSans-48\" />\n       <use x=\"127.246094\" xlink:href=\"#DejaVuSans-48\" />\n       <use x=\"190.869141\" xlink:href=\"#DejaVuSans-48\" />\n       <use x=\"254.492188\" xlink:href=\"#DejaVuSans-48\" />\n       <use x=\"318.115234\" xlink:href=\"#DejaVuSans-48\" />\n      </g>\n     </g>\n    </g>\n    <g id=\"ytick_3\">\n     <g id=\"line2d_3\">\n      <g>\n       <use style=\"fill:#444443;stroke:#444443;stroke-width:0.3;\" x=\"37.54\" y=\"3.039375\" xlink:href=\"#m6b1c6d7e24\" />\n      </g>\n     </g>\n     <g id=\"text_3\">\n      \n      <defs>\n       <path d=\"M 8.203125 72.90625  L 55.078125 72.90625  L 55.078125 68.703125  L 28.609375 0  L 18.3125 0  L 43.21875 64.59375  L 8.203125 64.59375  z \" id=\"DejaVuSans-55\" />\n      </defs>\n      <g style=\"fill:#444443;\" transform=\"translate(-0 6.07875)scale(0.08 -0.08)\">\n       <use xlink:href=\"#DejaVuSans-55\" />\n       <use x=\"63.623047\" xlink:href=\"#DejaVuSans-53\" />\n       <use x=\"127.246094\" xlink:href=\"#DejaVuSans-48\" />\n       <use x=\"190.869141\" xlink:href=\"#DejaVuSans-48\" />\n       <use x=\"254.492188\" xlink:href=\"#DejaVuSans-48\" />\n       <use x=\"318.115234\" xlink:href=\"#DejaVuSans-48\" />\n      </g>\n     </g>\n    </g>\n   </g>\n   <g id=\"line2d_4\">\n    <path clip-path=\"url(#p1d743131ed)\" d=\"M 37.54 34.737411  L 114.095469 34.737411  \" style=\"fill:none;stroke:#444443;stroke-dasharray:3.7,1.6;stroke-dashoffset:0;\" />\n   </g>\n   <g id=\"patch_3\">\n    <path d=\"M 37.54 44.906183  L 37.54 1.418183  \" style=\"fill:none;stroke:#000000;stroke-linecap:square;stroke-linejoin:miter;stroke-width:0.3;\" />\n   </g>\n   <g id=\"text_4\">\n    \n    <defs>\n     <path d=\"M 53.515625 70.515625  L 53.515625 60.890625  Q 47.90625 63.578125 42.921875 64.890625  Q 37.9375 66.21875 33.296875 66.21875  Q 25.25 66.21875 20.875 63.09375  Q 16.5 59.96875 16.5 54.203125  Q 16.5 49.359375 19.40625 46.890625  Q 22.3125 44.4375 30.421875 42.921875  L 36.375 41.703125  Q 47.40625 39.59375 52.65625 34.296875  Q 57.90625 29 57.90625 20.125  Q 57.90625 9.515625 50.796875 4.046875  Q 43.703125 -1.421875 29.984375 -1.421875  Q 24.8125 -1.421875 18.96875 -0.25  Q 13.140625 0.921875 6.890625 3.21875  L 6.890625 13.375  Q 12.890625 10.015625 18.65625 8.296875  Q 24.421875 6.59375 29.984375 6.59375  Q 38.421875 6.59375 43.015625 9.90625  Q 47.609375 13.234375 47.609375 19.390625  Q 47.609375 24.75 44.3125 27.78125  Q 41.015625 30.8125 33.5 32.328125  L 27.484375 33.5  Q 16.453125 35.6875 11.515625 40.375  Q 6.59375 45.0625 6.59375 53.421875  Q 6.59375 63.09375 13.40625 68.65625  Q 20.21875 74.21875 32.171875 74.21875  Q 37.3125 74.21875 42.625 73.28125  Q 47.953125 72.359375 53.515625 70.515625  z \" id=\"DejaVuSans-83\" />\n     <path d=\"M 34.28125 27.484375  Q 23.390625 27.484375 19.1875 25  Q 14.984375 22.515625 14.984375 16.5  Q 14.984375 11.71875 18.140625 8.90625  Q 21.296875 6.109375 26.703125 6.109375  Q 34.1875 6.109375 38.703125 11.40625  Q 43.21875 16.703125 43.21875 25.484375  L 43.21875 27.484375  z M 52.203125 31.203125  L 52.203125 0  L 43.21875 0  L 43.21875 8.296875  Q 40.140625 3.328125 35.546875 0.953125  Q 30.953125 -1.421875 24.3125 -1.421875  Q 15.921875 -1.421875 10.953125 3.296875  Q 6 8.015625 6 15.921875  Q 6 25.140625 12.171875 29.828125  Q 18.359375 34.515625 30.609375 34.515625  L 43.21875 34.515625  L 43.21875 35.40625  Q 43.21875 41.609375 39.140625 45  Q 35.0625 48.390625 27.6875 48.390625  Q 23 48.390625 18.546875 47.265625  Q 14.109375 46.140625 10.015625 43.890625  L 10.015625 52.203125  Q 14.9375 54.109375 19.578125 55.046875  Q 24.21875 56 28.609375 56  Q 40.484375 56 46.34375 49.84375  Q 52.203125 43.703125 52.203125 31.203125  z \" id=\"DejaVuSans-97\" />\n     <path d=\"M 9.421875 75.984375  L 18.40625 75.984375  L 18.40625 0  L 9.421875 0  z \" id=\"DejaVuSans-108\" />\n     <path d=\"M 56.203125 29.59375  L 56.203125 25.203125  L 14.890625 25.203125  Q 15.484375 15.921875 20.484375 11.0625  Q 25.484375 6.203125 34.421875 6.203125  Q 39.59375 6.203125 44.453125 7.46875  Q 49.3125 8.734375 54.109375 11.28125  L 54.109375 2.78125  Q 49.265625 0.734375 44.1875 -0.34375  Q 39.109375 -1.421875 33.890625 -1.421875  Q 20.796875 -1.421875 13.15625 6.1875  Q 5.515625 13.8125 5.515625 26.8125  Q 5.515625 40.234375 12.765625 48.109375  Q 20.015625 56 32.328125 56  Q 43.359375 56 49.78125 48.890625  Q 56.203125 41.796875 56.203125 29.59375  z M 47.21875 32.234375  Q 47.125 39.59375 43.09375 43.984375  Q 39.0625 48.390625 32.421875 48.390625  Q 24.90625 48.390625 20.390625 44.140625  Q 15.875 39.890625 15.1875 32.171875  z \" id=\"DejaVuSans-101\" />\n     <path d=\"M 19.671875 64.796875  L 19.671875 37.40625  L 32.078125 37.40625  Q 38.96875 37.40625 42.71875 40.96875  Q 46.484375 44.53125 46.484375 51.125  Q 46.484375 57.671875 42.71875 61.234375  Q 38.96875 64.796875 32.078125 64.796875  z M 9.8125 72.90625  L 32.078125 72.90625  Q 44.34375 72.90625 50.609375 67.359375  Q 56.890625 61.8125 56.890625 51.125  Q 56.890625 40.328125 50.609375 34.8125  Q 44.34375 29.296875 32.078125 29.296875  L 19.671875 29.296875  L 19.671875 0  L 9.8125 0  z \" id=\"DejaVuSans-80\" />\n     <path d=\"M 41.109375 46.296875  Q 39.59375 47.171875 37.8125 47.578125  Q 36.03125 48 33.890625 48  Q 26.265625 48 22.1875 43.046875  Q 18.109375 38.09375 18.109375 28.8125  L 18.109375 0  L 9.078125 0  L 9.078125 54.6875  L 18.109375 54.6875  L 18.109375 46.1875  Q 20.953125 51.171875 25.484375 53.578125  Q 30.03125 56 36.53125 56  Q 37.453125 56 38.578125 55.875  Q 39.703125 55.765625 41.0625 55.515625  z \" id=\"DejaVuSans-114\" />\n     <path d=\"M 9.421875 54.6875  L 18.40625 54.6875  L 18.40625 0  L 9.421875 0  z M 9.421875 75.984375  L 18.40625 75.984375  L 18.40625 64.59375  L 9.421875 64.59375  z \" id=\"DejaVuSans-105\" />\n     <path d=\"M 48.78125 52.59375  L 48.78125 44.1875  Q 44.96875 46.296875 41.140625 47.34375  Q 37.3125 48.390625 33.40625 48.390625  Q 24.65625 48.390625 19.8125 42.84375  Q 14.984375 37.3125 14.984375 27.296875  Q 14.984375 17.28125 19.8125 11.734375  Q 24.65625 6.203125 33.40625 6.203125  Q 37.3125 6.203125 41.140625 7.25  Q 44.96875 8.296875 48.78125 10.40625  L 48.78125 2.09375  Q 45.015625 0.34375 40.984375 -0.53125  Q 36.96875 -1.421875 32.421875 -1.421875  Q 20.0625 -1.421875 12.78125 6.34375  Q 5.515625 14.109375 5.515625 27.296875  Q 5.515625 40.671875 12.859375 48.328125  Q 20.21875 56 33.015625 56  Q 37.15625 56 41.109375 55.140625  Q 45.0625 54.296875 48.78125 52.59375  z \" id=\"DejaVuSans-99\" />\n     <path d=\"M 10.59375 45.40625  L 73.1875 45.40625  L 73.1875 37.203125  L 10.59375 37.203125  z M 10.59375 25.484375  L 73.1875 25.484375  L 73.1875 17.1875  L 10.59375 17.1875  z \" id=\"DejaVuSans-61\" />\n     <path d=\"M 10.984375 1.515625  L 10.984375 10.5  Q 14.703125 8.734375 18.5 7.8125  Q 22.3125 6.890625 25.984375 6.890625  Q 35.75 6.890625 40.890625 13.453125  Q 46.046875 20.015625 46.78125 33.40625  Q 43.953125 29.203125 39.59375 26.953125  Q 35.25 24.703125 29.984375 24.703125  Q 19.046875 24.703125 12.671875 31.3125  Q 6.296875 37.9375 6.296875 49.421875  Q 6.296875 60.640625 12.9375 67.421875  Q 19.578125 74.21875 30.609375 74.21875  Q 43.265625 74.21875 49.921875 64.515625  Q 56.59375 54.828125 56.59375 36.375  Q 56.59375 19.140625 48.40625 8.859375  Q 40.234375 -1.421875 26.421875 -1.421875  Q 22.703125 -1.421875 18.890625 -0.6875  Q 15.09375 0.046875 10.984375 1.515625  z M 30.609375 32.421875  Q 37.25 32.421875 41.125 36.953125  Q 45.015625 41.5 45.015625 49.421875  Q 45.015625 57.28125 41.125 61.84375  Q 37.25 66.40625 30.609375 66.40625  Q 23.96875 66.40625 20.09375 61.84375  Q 16.21875 57.28125 16.21875 49.421875  Q 16.21875 41.5 20.09375 36.953125  Q 23.96875 32.421875 30.609375 32.421875  z \" id=\"DejaVuSans-57\" />\n     <path d=\"M 40.578125 39.3125  Q 47.65625 37.796875 51.625 33  Q 55.609375 28.21875 55.609375 21.1875  Q 55.609375 10.40625 48.1875 4.484375  Q 40.765625 -1.421875 27.09375 -1.421875  Q 22.515625 -1.421875 17.65625 -0.515625  Q 12.796875 0.390625 7.625 2.203125  L 7.625 11.71875  Q 11.71875 9.328125 16.59375 8.109375  Q 21.484375 6.890625 26.8125 6.890625  Q 36.078125 6.890625 40.9375 10.546875  Q 45.796875 14.203125 45.796875 21.1875  Q 45.796875 27.640625 41.28125 31.265625  Q 36.765625 34.90625 28.71875 34.90625  L 20.21875 34.90625  L 20.21875 43.015625  L 29.109375 43.015625  Q 36.375 43.015625 40.234375 45.921875  Q 44.09375 48.828125 44.09375 54.296875  Q 44.09375 59.90625 40.109375 62.90625  Q 36.140625 65.921875 28.71875 65.921875  Q 24.65625 65.921875 20.015625 65.03125  Q 15.375 64.15625 9.8125 62.3125  L 9.8125 71.09375  Q 15.4375 72.65625 20.34375 73.4375  Q 25.25 74.21875 29.59375 74.21875  Q 40.828125 74.21875 47.359375 69.109375  Q 53.90625 64.015625 53.90625 55.328125  Q 53.90625 49.265625 50.4375 45.09375  Q 46.96875 40.921875 40.578125 39.3125  z \" id=\"DejaVuSans-51\" />\n     <path d=\"M 31.78125 34.625  Q 24.75 34.625 20.71875 30.859375  Q 16.703125 27.09375 16.703125 20.515625  Q 16.703125 13.921875 20.71875 10.15625  Q 24.75 6.390625 31.78125 6.390625  Q 38.8125 6.390625 42.859375 10.171875  Q 46.921875 13.96875 46.921875 20.515625  Q 46.921875 27.09375 42.890625 30.859375  Q 38.875 34.625 31.78125 34.625  z M 21.921875 38.8125  Q 15.578125 40.375 12.03125 44.71875  Q 8.5 49.078125 8.5 55.328125  Q 8.5 64.0625 14.71875 69.140625  Q 20.953125 74.21875 31.78125 74.21875  Q 42.671875 74.21875 48.875 69.140625  Q 55.078125 64.0625 55.078125 55.328125  Q 55.078125 49.078125 51.53125 44.71875  Q 48 40.375 41.703125 38.8125  Q 48.828125 37.15625 52.796875 32.3125  Q 56.78125 27.484375 56.78125 20.515625  Q 56.78125 9.90625 50.3125 4.234375  Q 43.84375 -1.421875 31.78125 -1.421875  Q 19.734375 -1.421875 13.25 4.234375  Q 6.78125 9.90625 6.78125 20.515625  Q 6.78125 27.484375 10.78125 32.3125  Q 14.796875 37.15625 21.921875 38.8125  z M 18.3125 54.390625  Q 18.3125 48.734375 21.84375 45.5625  Q 25.390625 42.390625 31.78125 42.390625  Q 38.140625 42.390625 41.71875 45.5625  Q 45.3125 48.734375 45.3125 54.390625  Q 45.3125 60.0625 41.71875 63.234375  Q 38.140625 66.40625 31.78125 66.40625  Q 25.390625 66.40625 21.84375 63.234375  Q 18.3125 60.0625 18.3125 54.390625  z \" id=\"DejaVuSans-56\" />\n     <path d=\"M 10.6875 12.40625  L 21 12.40625  L 21 0  L 10.6875 0  z \" id=\"DejaVuSans-46\" />\n    </defs>\n    <g style=\"fill:#444443;\" transform=\"translate(4.834531 54.25462)scale(0.1 -0.1)\">\n     <use xlink:href=\"#DejaVuSans-83\" />\n     <use x=\"63.476562\" xlink:href=\"#DejaVuSans-97\" />\n     <use x=\"124.755859\" xlink:href=\"#DejaVuSans-108\" />\n     <use x=\"152.539062\" xlink:href=\"#DejaVuSans-101\" />\n     <use x=\"214.0625\" xlink:href=\"#DejaVuSans-80\" />\n     <use x=\"272.615234\" xlink:href=\"#DejaVuSans-114\" />\n     <use x=\"313.728516\" xlink:href=\"#DejaVuSans-105\" />\n     <use x=\"341.511719\" xlink:href=\"#DejaVuSans-99\" />\n     <use x=\"396.492188\" xlink:href=\"#DejaVuSans-101\" />\n     <use x=\"458.015625\" xlink:href=\"#DejaVuSans-61\" />\n     <use x=\"541.804688\" xlink:href=\"#DejaVuSans-50\" />\n     <use x=\"605.427734\" xlink:href=\"#DejaVuSans-48\" />\n     <use x=\"669.050781\" xlink:href=\"#DejaVuSans-57\" />\n     <use x=\"732.673828\" xlink:href=\"#DejaVuSans-51\" />\n     <use x=\"796.296875\" xlink:href=\"#DejaVuSans-55\" />\n     <use x=\"859.919922\" xlink:href=\"#DejaVuSans-56\" />\n     <use x=\"923.542969\" xlink:href=\"#DejaVuSans-46\" />\n     <use x=\"955.330078\" xlink:href=\"#DejaVuSans-57\" />\n     <use x=\"1018.953125\" xlink:href=\"#DejaVuSans-53\" />\n    </g>\n    \n    <defs>\n     <path d=\"M 54.890625 33.015625  L 54.890625 0  L 45.90625 0  L 45.90625 32.71875  Q 45.90625 40.484375 42.875 44.328125  Q 39.84375 48.1875 33.796875 48.1875  Q 26.515625 48.1875 22.3125 43.546875  Q 18.109375 38.921875 18.109375 30.90625  L 18.109375 0  L 9.078125 0  L 9.078125 54.6875  L 18.109375 54.6875  L 18.109375 46.1875  Q 21.34375 51.125 25.703125 53.5625  Q 30.078125 56 35.796875 56  Q 45.21875 56 50.046875 50.171875  Q 54.890625 44.34375 54.890625 33.015625  z \" id=\"DejaVuSans-110\" />\n     <path d=\"M 12.40625 8.296875  L 28.515625 8.296875  L 28.515625 63.921875  L 10.984375 60.40625  L 10.984375 69.390625  L 28.421875 72.90625  L 38.28125 72.90625  L 38.28125 8.296875  L 54.390625 8.296875  L 54.390625 0  L 12.40625 0  z \" id=\"DejaVuSans-49\" />\n    </defs>\n    <g style=\"fill:#444443;\" transform=\"translate(42.062656 65.452433)scale(0.1 -0.1)\">\n     <use xlink:href=\"#DejaVuSans-110\" />\n     <use x=\"63.378906\" xlink:href=\"#DejaVuSans-61\" />\n     <use x=\"147.167969\" xlink:href=\"#DejaVuSans-49\" />\n     <use x=\"210.791016\" xlink:href=\"#DejaVuSans-49\" />\n     <use x=\"274.414062\" xlink:href=\"#DejaVuSans-57\" />\n    </g>\n   </g>\n  </g>\n </g>\n <defs>\n  <clipPath id=\"p1d743131ed\">\n   <rect height=\"43.488\" width=\"41.85\" x=\"37.54\" y=\"1.418183\" />\n  </clipPath>\n </defs>\n</svg></g>\n\n<g class=\"edge\" id=\"edge2\">\n<title>node1-&gt;leaf4</title>\n<path d=\"M330.2133,-175.0434C334.3933,-174.6772 338.5473,-174.3134 342.6125,-173.9573\" fill=\"none\" stroke=\"#444443\" stroke-width=\".3\" />\n<polygon fill=\"#444443\" points=\"342.7832,-175.3478 346.6458,-173.604 342.5389,-172.5585 342.7832,-175.3478\" stroke=\"#444443\" stroke-width=\".3\" />\n</g>\n\n<g class=\"node\" id=\"node6\">\n<title>leaf5</title>\n<polygon fill=\"none\" points=\"440,-132 347,-132 347,-73 440,-73 440,-132\" stroke=\"#444443\" stroke-width=\"0\" />\n<svg height=\"51px\" preserveAspectRatio=\"xMinYMin meet\" version=\"1.1\" viewBox=\"0 0 113.095469 67.53212\" width=\"85px\" x=\"351.5\" y=\"-127.5\">\n <defs>\n  <style type=\"text/css\">\n*{stroke-linecap:butt;stroke-linejoin:round;}\n  </style>\n </defs>\n <g id=\"figure_1\">\n  <g id=\"patch_1\">\n   <path d=\"M 0 67.53212  L 113.095469 67.53212  L 113.095469 0  L 0 0  z \" style=\"fill:#ffffff;\" />\n  </g>\n  <g id=\"axes_1\">\n   <g id=\"patch_2\">\n    <path d=\"M 37.54 44.906183  L 79.39 44.906183  L 79.39 1.418183  L 37.54 1.418183  z \" style=\"fill:#ffffff;\" />\n   </g>\n   <g id=\"PathCollection_1\">\n    <defs>\n     <path d=\"M 0 1.118034  C 0.296506 1.118034 0.580908 1.000231 0.790569 0.790569  C 1.000231 0.580908 1.118034 0.296506 1.118034 0  C 1.118034 -0.296506 1.000231 -0.580908 0.790569 -0.790569  C 0.580908 -1.000231 0.296506 -1.118034 0 -1.118034  C -0.296506 -1.118034 -0.580908 -1.000231 -0.790569 -0.790569  C -1.000231 -0.580908 -1.118034 -0.296506 -1.118034 0  C -1.118034 0.296506 -1.000231 0.580908 -0.790569 0.790569  C -0.580908 1.000231 -0.296506 1.118034 0 1.118034  z \" id=\"m00f2637f1d\" style=\"stroke:#4575b4;stroke-opacity:0.7;stroke-width:0.3;\" />\n    </defs>\n    <g clip-path=\"url(#pad62d7a4cd)\">\n     <use style=\"fill:#4575b4;fill-opacity:0.7;stroke:#4575b4;stroke-opacity:0.7;stroke-width:0.3;\" x=\"56.735929\" y=\"31.065774\" xlink:href=\"#m00f2637f1d\" />\n     <use style=\"fill:#4575b4;fill-opacity:0.7;stroke:#4575b4;stroke-opacity:0.7;stroke-width:0.3;\" x=\"58.613128\" y=\"36.811772\" xlink:href=\"#m00f2637f1d\" />\n     <use style=\"fill:#4575b4;fill-opacity:0.7;stroke:#4575b4;stroke-opacity:0.7;stroke-width:0.3;\" x=\"54.32238\" y=\"27.254653\" xlink:href=\"#m00f2637f1d\" />\n     <use style=\"fill:#4575b4;fill-opacity:0.7;stroke:#4575b4;stroke-opacity:0.7;stroke-width:0.3;\" x=\"60.571726\" y=\"31.986306\" xlink:href=\"#m00f2637f1d\" />\n     <use style=\"fill:#4575b4;fill-opacity:0.7;stroke:#4575b4;stroke-opacity:0.7;stroke-width:0.3;\" x=\"59.10426\" y=\"24.674817\" xlink:href=\"#m00f2637f1d\" />\n     <use style=\"fill:#4575b4;fill-opacity:0.7;stroke:#4575b4;stroke-opacity:0.7;stroke-width:0.3;\" x=\"55.470002\" y=\"33.704242\" xlink:href=\"#m00f2637f1d\" />\n     <use style=\"fill:#4575b4;fill-opacity:0.7;stroke:#4575b4;stroke-opacity:0.7;stroke-width:0.3;\" x=\"55.515053\" y=\"30.303549\" xlink:href=\"#m00f2637f1d\" />\n     <use style=\"fill:#4575b4;fill-opacity:0.7;stroke:#4575b4;stroke-opacity:0.7;stroke-width:0.3;\" x=\"63.875229\" y=\"33.117916\" xlink:href=\"#m00f2637f1d\" />\n     <use style=\"fill:#4575b4;fill-opacity:0.7;stroke:#4575b4;stroke-opacity:0.7;stroke-width:0.3;\" x=\"65.066147\" y=\"36.459976\" xlink:href=\"#m00f2637f1d\" />\n     <use style=\"fill:#4575b4;fill-opacity:0.7;stroke:#4575b4;stroke-opacity:0.7;stroke-width:0.3;\" x=\"57.751423\" y=\"34.407834\" xlink:href=\"#m00f2637f1d\" />\n     <use style=\"fill:#4575b4;fill-opacity:0.7;stroke:#4575b4;stroke-opacity:0.7;stroke-width:0.3;\" x=\"58.691839\" y=\"29.220194\" xlink:href=\"#m00f2637f1d\" />\n     <use style=\"fill:#4575b4;fill-opacity:0.7;stroke:#4575b4;stroke-opacity:0.7;stroke-width:0.3;\" x=\"59.804583\" y=\"32.162614\" xlink:href=\"#m00f2637f1d\" />\n     <use style=\"fill:#4575b4;fill-opacity:0.7;stroke:#4575b4;stroke-opacity:0.7;stroke-width:0.3;\" x=\"58.96061\" y=\"30.713978\" xlink:href=\"#m00f2637f1d\" />\n     <use style=\"fill:#4575b4;fill-opacity:0.7;stroke:#4575b4;stroke-opacity:0.7;stroke-width:0.3;\" x=\"52.859451\" y=\"25.958871\" xlink:href=\"#m00f2637f1d\" />\n     <use style=\"fill:#4575b4;fill-opacity:0.7;stroke:#4575b4;stroke-opacity:0.7;stroke-width:0.3;\" x=\"59.897511\" y=\"32.628333\" xlink:href=\"#m00f2637f1d\" />\n     <use style=\"fill:#4575b4;fill-opacity:0.7;stroke:#4575b4;stroke-opacity:0.7;stroke-width:0.3;\" x=\"51.474748\" y=\"22.102603\" xlink:href=\"#m00f2637f1d\" />\n     <use style=\"fill:#4575b4;fill-opacity:0.7;stroke:#4575b4;stroke-opacity:0.7;stroke-width:0.3;\" x=\"56.011973\" y=\"35.140742\" xlink:href=\"#m00f2637f1d\" />\n     <use style=\"fill:#4575b4;fill-opacity:0.7;stroke:#4575b4;stroke-opacity:0.7;stroke-width:0.3;\" x=\"60.15717\" y=\"30.393668\" xlink:href=\"#m00f2637f1d\" />\n     <use style=\"fill:#4575b4;fill-opacity:0.7;stroke:#4575b4;stroke-opacity:0.7;stroke-width:0.3;\" x=\"60.473781\" y=\"33.338961\" xlink:href=\"#m00f2637f1d\" />\n     <use style=\"fill:#4575b4;fill-opacity:0.7;stroke:#4575b4;stroke-opacity:0.7;stroke-width:0.3;\" x=\"55.752875\" y=\"32.648855\" xlink:href=\"#m00f2637f1d\" />\n     <use style=\"fill:#4575b4;fill-opacity:0.7;stroke:#4575b4;stroke-opacity:0.7;stroke-width:0.3;\" x=\"56.930153\" y=\"33.000651\" xlink:href=\"#m00f2637f1d\" />\n     <use style=\"fill:#4575b4;fill-opacity:0.7;stroke:#4575b4;stroke-opacity:0.7;stroke-width:0.3;\" x=\"56.476835\" y=\"23.384899\" xlink:href=\"#m00f2637f1d\" />\n     <use style=\"fill:#4575b4;fill-opacity:0.7;stroke:#4575b4;stroke-opacity:0.7;stroke-width:0.3;\" x=\"58.120678\" y=\"32.062528\" xlink:href=\"#m00f2637f1d\" />\n     <use style=\"fill:#4575b4;fill-opacity:0.7;stroke:#4575b4;stroke-opacity:0.7;stroke-width:0.3;\" x=\"58.375293\" y=\"31.183039\" xlink:href=\"#m00f2637f1d\" />\n     <use style=\"fill:#4575b4;fill-opacity:0.7;stroke:#4575b4;stroke-opacity:0.7;stroke-width:0.3;\" x=\"60.703031\" y=\"28.368673\" xlink:href=\"#m00f2637f1d\" />\n     <use style=\"fill:#4575b4;fill-opacity:0.7;stroke:#4575b4;stroke-opacity:0.7;stroke-width:0.3;\" x=\"56.734429\" y=\"31.124406\" xlink:href=\"#m00f2637f1d\" />\n     <use style=\"fill:#4575b4;fill-opacity:0.7;stroke:#4575b4;stroke-opacity:0.7;stroke-width:0.3;\" x=\"59.71513\" y=\"28.368673\" xlink:href=\"#m00f2637f1d\" />\n     <use style=\"fill:#4575b4;fill-opacity:0.7;stroke:#4575b4;stroke-opacity:0.7;stroke-width:0.3;\" x=\"60.162489\" y=\"35.228691\" xlink:href=\"#m00f2637f1d\" />\n     <use style=\"fill:#4575b4;fill-opacity:0.7;stroke:#4575b4;stroke-opacity:0.7;stroke-width:0.3;\" x=\"59.128873\" y=\"33.227676\" xlink:href=\"#m00f2637f1d\" />\n     <use style=\"fill:#4575b4;fill-opacity:0.7;stroke:#4575b4;stroke-opacity:0.7;stroke-width:0.3;\" x=\"57.59584\" y=\"28.691152\" xlink:href=\"#m00f2637f1d\" />\n     <use style=\"fill:#4575b4;fill-opacity:0.7;stroke:#4575b4;stroke-opacity:0.7;stroke-width:0.3;\" x=\"59.069801\" y=\"32.971334\" xlink:href=\"#m00f2637f1d\" />\n     <use style=\"fill:#4575b4;fill-opacity:0.7;stroke:#4575b4;stroke-opacity:0.7;stroke-width:0.3;\" x=\"60.981826\" y=\"32.355692\" xlink:href=\"#m00f2637f1d\" />\n     <use style=\"fill:#4575b4;fill-opacity:0.7;stroke:#4575b4;stroke-opacity:0.7;stroke-width:0.3;\" x=\"61.274591\" y=\"32.373281\" xlink:href=\"#m00f2637f1d\" />\n     <use style=\"fill:#4575b4;fill-opacity:0.7;stroke:#4575b4;stroke-opacity:0.7;stroke-width:0.3;\" x=\"64.542868\" y=\"32.672308\" xlink:href=\"#m00f2637f1d\" />\n     <use style=\"fill:#4575b4;fill-opacity:0.7;stroke:#4575b4;stroke-opacity:0.7;stroke-width:0.3;\" x=\"55.150392\" y=\"30.713978\" xlink:href=\"#m00f2637f1d\" />\n     <use style=\"fill:#4575b4;fill-opacity:0.7;stroke:#4575b4;stroke-opacity:0.7;stroke-width:0.3;\" x=\"56.991855\" y=\"29.435787\" xlink:href=\"#m00f2637f1d\" />\n     <use style=\"fill:#4575b4;fill-opacity:0.7;stroke:#4575b4;stroke-opacity:0.7;stroke-width:0.3;\" x=\"53.063107\" y=\"25.325639\" xlink:href=\"#m00f2637f1d\" />\n     <use style=\"fill:#4575b4;fill-opacity:0.7;stroke:#4575b4;stroke-opacity:0.7;stroke-width:0.3;\" x=\"61.58202\" y=\"30.425388\" xlink:href=\"#m00f2637f1d\" />\n     <use style=\"fill:#4575b4;fill-opacity:0.7;stroke:#4575b4;stroke-opacity:0.7;stroke-width:0.3;\" x=\"57.345069\" y=\"29.013632\" xlink:href=\"#m00f2637f1d\" />\n     <use style=\"fill:#4575b4;fill-opacity:0.7;stroke:#4575b4;stroke-opacity:0.7;stroke-width:0.3;\" x=\"59.155327\" y=\"31.769365\" xlink:href=\"#m00f2637f1d\" />\n     <use style=\"fill:#4575b4;fill-opacity:0.7;stroke:#4575b4;stroke-opacity:0.7;stroke-width:0.3;\" x=\"56.441674\" y=\"26.257898\" xlink:href=\"#m00f2637f1d\" />\n     <use style=\"fill:#4575b4;fill-opacity:0.7;stroke:#4575b4;stroke-opacity:0.7;stroke-width:0.3;\" x=\"57.371195\" y=\"21.801818\" xlink:href=\"#m00f2637f1d\" />\n     <use style=\"fill:#4575b4;fill-opacity:0.7;stroke:#4575b4;stroke-opacity:0.7;stroke-width:0.3;\" x=\"62.56024\" y=\"28.54457\" xlink:href=\"#m00f2637f1d\" />\n     <use style=\"fill:#4575b4;fill-opacity:0.7;stroke:#4575b4;stroke-opacity:0.7;stroke-width:0.3;\" x=\"60.789293\" y=\"30.831243\" xlink:href=\"#m00f2637f1d\" />\n     <use style=\"fill:#4575b4;fill-opacity:0.7;stroke:#4575b4;stroke-opacity:0.7;stroke-width:0.3;\" x=\"58.091624\" y=\"15.469493\" xlink:href=\"#m00f2637f1d\" />\n     <use style=\"fill:#4575b4;fill-opacity:0.7;stroke:#4575b4;stroke-opacity:0.7;stroke-width:0.3;\" x=\"61.035641\" y=\"34.114671\" xlink:href=\"#m00f2637f1d\" />\n     <use style=\"fill:#4575b4;fill-opacity:0.7;stroke:#4575b4;stroke-opacity:0.7;stroke-width:0.3;\" x=\"61.109585\" y=\"33.499028\" xlink:href=\"#m00f2637f1d\" />\n     <use style=\"fill:#4575b4;fill-opacity:0.7;stroke:#4575b4;stroke-opacity:0.7;stroke-width:0.3;\" x=\"57.154507\" y=\"39.860669\" xlink:href=\"#m00f2637f1d\" />\n    </g>\n   </g>\n   <g id=\"matplotlib.axis_1\" />\n   <g id=\"matplotlib.axis_2\">\n    <g id=\"ytick_1\">\n     <g id=\"line2d_1\">\n      <defs>\n       <path d=\"M 0 0  L -3.5 0  \" id=\"m20ec569b84\" style=\"stroke:#444443;stroke-width:0.3;\" />\n      </defs>\n      <g>\n       <use style=\"fill:#444443;stroke:#444443;stroke-width:0.3;\" x=\"37.54\" y=\"32.355692\" xlink:href=\"#m20ec569b84\" />\n      </g>\n     </g>\n     <g id=\"text_1\">\n      \n      <defs>\n       <path d=\"M 19.1875 8.296875  L 53.609375 8.296875  L 53.609375 0  L 7.328125 0  L 7.328125 8.296875  Q 12.9375 14.109375 22.625 23.890625  Q 32.328125 33.6875 34.8125 36.53125  Q 39.546875 41.84375 41.421875 45.53125  Q 43.3125 49.21875 43.3125 52.78125  Q 43.3125 58.59375 39.234375 62.25  Q 35.15625 65.921875 28.609375 65.921875  Q 23.96875 65.921875 18.8125 64.3125  Q 13.671875 62.703125 7.8125 59.421875  L 7.8125 69.390625  Q 13.765625 71.78125 18.9375 73  Q 24.125 74.21875 28.421875 74.21875  Q 39.75 74.21875 46.484375 68.546875  Q 53.21875 62.890625 53.21875 53.421875  Q 53.21875 48.921875 51.53125 44.890625  Q 49.859375 40.875 45.40625 35.40625  Q 44.1875 33.984375 37.640625 27.21875  Q 31.109375 20.453125 19.1875 8.296875  z \" id=\"DejaVuSans-50\" />\n       <path d=\"M 10.796875 72.90625  L 49.515625 72.90625  L 49.515625 64.59375  L 19.828125 64.59375  L 19.828125 46.734375  Q 21.96875 47.46875 24.109375 47.828125  Q 26.265625 48.1875 28.421875 48.1875  Q 40.625 48.1875 47.75 41.5  Q 54.890625 34.8125 54.890625 23.390625  Q 54.890625 11.625 47.5625 5.09375  Q 40.234375 -1.421875 26.90625 -1.421875  Q 22.3125 -1.421875 17.546875 -0.640625  Q 12.796875 0.140625 7.71875 1.703125  L 7.71875 11.625  Q 12.109375 9.234375 16.796875 8.0625  Q 21.484375 6.890625 26.703125 6.890625  Q 35.15625 6.890625 40.078125 11.328125  Q 45.015625 15.765625 45.015625 23.390625  Q 45.015625 31 40.078125 35.4375  Q 35.15625 39.890625 26.703125 39.890625  Q 22.75 39.890625 18.8125 39.015625  Q 14.890625 38.140625 10.796875 36.28125  z \" id=\"DejaVuSans-53\" />\n       <path d=\"M 31.78125 66.40625  Q 24.171875 66.40625 20.328125 58.90625  Q 16.5 51.421875 16.5 36.375  Q 16.5 21.390625 20.328125 13.890625  Q 24.171875 6.390625 31.78125 6.390625  Q 39.453125 6.390625 43.28125 13.890625  Q 47.125 21.390625 47.125 36.375  Q 47.125 51.421875 43.28125 58.90625  Q 39.453125 66.40625 31.78125 66.40625  z M 31.78125 74.21875  Q 44.046875 74.21875 50.515625 64.515625  Q 56.984375 54.828125 56.984375 36.375  Q 56.984375 17.96875 50.515625 8.265625  Q 44.046875 -1.421875 31.78125 -1.421875  Q 19.53125 -1.421875 13.0625 8.265625  Q 6.59375 17.96875 6.59375 36.375  Q 6.59375 54.828125 13.0625 64.515625  Q 19.53125 74.21875 31.78125 74.21875  z \" id=\"DejaVuSans-48\" />\n      </defs>\n      <g style=\"fill:#444443;\" transform=\"translate(-0 35.395067)scale(0.08 -0.08)\">\n       <use xlink:href=\"#DejaVuSans-50\" />\n       <use x=\"63.623047\" xlink:href=\"#DejaVuSans-53\" />\n       <use x=\"127.246094\" xlink:href=\"#DejaVuSans-48\" />\n       <use x=\"190.869141\" xlink:href=\"#DejaVuSans-48\" />\n       <use x=\"254.492188\" xlink:href=\"#DejaVuSans-48\" />\n       <use x=\"318.115234\" xlink:href=\"#DejaVuSans-48\" />\n      </g>\n     </g>\n    </g>\n    <g id=\"ytick_2\">\n     <g id=\"line2d_2\">\n      <g>\n       <use style=\"fill:#444443;stroke:#444443;stroke-width:0.3;\" x=\"37.54\" y=\"17.697533\" xlink:href=\"#m20ec569b84\" />\n      </g>\n     </g>\n     <g id=\"text_2\">\n      \n      <g style=\"fill:#444443;\" transform=\"translate(-0 20.736908)scale(0.08 -0.08)\">\n       <use xlink:href=\"#DejaVuSans-53\" />\n       <use x=\"63.623047\" xlink:href=\"#DejaVuSans-48\" />\n       <use x=\"127.246094\" xlink:href=\"#DejaVuSans-48\" />\n       <use x=\"190.869141\" xlink:href=\"#DejaVuSans-48\" />\n       <use x=\"254.492188\" xlink:href=\"#DejaVuSans-48\" />\n       <use x=\"318.115234\" xlink:href=\"#DejaVuSans-48\" />\n      </g>\n     </g>\n    </g>\n    <g id=\"ytick_3\">\n     <g id=\"line2d_3\">\n      <g>\n       <use style=\"fill:#444443;stroke:#444443;stroke-width:0.3;\" x=\"37.54\" y=\"3.039375\" xlink:href=\"#m20ec569b84\" />\n      </g>\n     </g>\n     <g id=\"text_3\">\n      \n      <defs>\n       <path d=\"M 8.203125 72.90625  L 55.078125 72.90625  L 55.078125 68.703125  L 28.609375 0  L 18.3125 0  L 43.21875 64.59375  L 8.203125 64.59375  z \" id=\"DejaVuSans-55\" />\n      </defs>\n      <g style=\"fill:#444443;\" transform=\"translate(-0 6.07875)scale(0.08 -0.08)\">\n       <use xlink:href=\"#DejaVuSans-55\" />\n       <use x=\"63.623047\" xlink:href=\"#DejaVuSans-53\" />\n       <use x=\"127.246094\" xlink:href=\"#DejaVuSans-48\" />\n       <use x=\"190.869141\" xlink:href=\"#DejaVuSans-48\" />\n       <use x=\"254.492188\" xlink:href=\"#DejaVuSans-48\" />\n       <use x=\"318.115234\" xlink:href=\"#DejaVuSans-48\" />\n      </g>\n     </g>\n    </g>\n   </g>\n   <g id=\"line2d_4\">\n    <path clip-path=\"url(#pad62d7a4cd)\" d=\"M 37.54 30.545247  L 114.095469 30.545247  \" style=\"fill:none;stroke:#444443;stroke-dasharray:3.7,1.6;stroke-dashoffset:0;\" />\n   </g>\n   <g id=\"patch_3\">\n    <path d=\"M 37.54 44.906183  L 37.54 1.418183  \" style=\"fill:none;stroke:#000000;stroke-linecap:square;stroke-linejoin:miter;stroke-width:0.3;\" />\n   </g>\n   <g id=\"text_4\">\n    \n    <defs>\n     <path d=\"M 53.515625 70.515625  L 53.515625 60.890625  Q 47.90625 63.578125 42.921875 64.890625  Q 37.9375 66.21875 33.296875 66.21875  Q 25.25 66.21875 20.875 63.09375  Q 16.5 59.96875 16.5 54.203125  Q 16.5 49.359375 19.40625 46.890625  Q 22.3125 44.4375 30.421875 42.921875  L 36.375 41.703125  Q 47.40625 39.59375 52.65625 34.296875  Q 57.90625 29 57.90625 20.125  Q 57.90625 9.515625 50.796875 4.046875  Q 43.703125 -1.421875 29.984375 -1.421875  Q 24.8125 -1.421875 18.96875 -0.25  Q 13.140625 0.921875 6.890625 3.21875  L 6.890625 13.375  Q 12.890625 10.015625 18.65625 8.296875  Q 24.421875 6.59375 29.984375 6.59375  Q 38.421875 6.59375 43.015625 9.90625  Q 47.609375 13.234375 47.609375 19.390625  Q 47.609375 24.75 44.3125 27.78125  Q 41.015625 30.8125 33.5 32.328125  L 27.484375 33.5  Q 16.453125 35.6875 11.515625 40.375  Q 6.59375 45.0625 6.59375 53.421875  Q 6.59375 63.09375 13.40625 68.65625  Q 20.21875 74.21875 32.171875 74.21875  Q 37.3125 74.21875 42.625 73.28125  Q 47.953125 72.359375 53.515625 70.515625  z \" id=\"DejaVuSans-83\" />\n     <path d=\"M 34.28125 27.484375  Q 23.390625 27.484375 19.1875 25  Q 14.984375 22.515625 14.984375 16.5  Q 14.984375 11.71875 18.140625 8.90625  Q 21.296875 6.109375 26.703125 6.109375  Q 34.1875 6.109375 38.703125 11.40625  Q 43.21875 16.703125 43.21875 25.484375  L 43.21875 27.484375  z M 52.203125 31.203125  L 52.203125 0  L 43.21875 0  L 43.21875 8.296875  Q 40.140625 3.328125 35.546875 0.953125  Q 30.953125 -1.421875 24.3125 -1.421875  Q 15.921875 -1.421875 10.953125 3.296875  Q 6 8.015625 6 15.921875  Q 6 25.140625 12.171875 29.828125  Q 18.359375 34.515625 30.609375 34.515625  L 43.21875 34.515625  L 43.21875 35.40625  Q 43.21875 41.609375 39.140625 45  Q 35.0625 48.390625 27.6875 48.390625  Q 23 48.390625 18.546875 47.265625  Q 14.109375 46.140625 10.015625 43.890625  L 10.015625 52.203125  Q 14.9375 54.109375 19.578125 55.046875  Q 24.21875 56 28.609375 56  Q 40.484375 56 46.34375 49.84375  Q 52.203125 43.703125 52.203125 31.203125  z \" id=\"DejaVuSans-97\" />\n     <path d=\"M 9.421875 75.984375  L 18.40625 75.984375  L 18.40625 0  L 9.421875 0  z \" id=\"DejaVuSans-108\" />\n     <path d=\"M 56.203125 29.59375  L 56.203125 25.203125  L 14.890625 25.203125  Q 15.484375 15.921875 20.484375 11.0625  Q 25.484375 6.203125 34.421875 6.203125  Q 39.59375 6.203125 44.453125 7.46875  Q 49.3125 8.734375 54.109375 11.28125  L 54.109375 2.78125  Q 49.265625 0.734375 44.1875 -0.34375  Q 39.109375 -1.421875 33.890625 -1.421875  Q 20.796875 -1.421875 13.15625 6.1875  Q 5.515625 13.8125 5.515625 26.8125  Q 5.515625 40.234375 12.765625 48.109375  Q 20.015625 56 32.328125 56  Q 43.359375 56 49.78125 48.890625  Q 56.203125 41.796875 56.203125 29.59375  z M 47.21875 32.234375  Q 47.125 39.59375 43.09375 43.984375  Q 39.0625 48.390625 32.421875 48.390625  Q 24.90625 48.390625 20.390625 44.140625  Q 15.875 39.890625 15.1875 32.171875  z \" id=\"DejaVuSans-101\" />\n     <path d=\"M 19.671875 64.796875  L 19.671875 37.40625  L 32.078125 37.40625  Q 38.96875 37.40625 42.71875 40.96875  Q 46.484375 44.53125 46.484375 51.125  Q 46.484375 57.671875 42.71875 61.234375  Q 38.96875 64.796875 32.078125 64.796875  z M 9.8125 72.90625  L 32.078125 72.90625  Q 44.34375 72.90625 50.609375 67.359375  Q 56.890625 61.8125 56.890625 51.125  Q 56.890625 40.328125 50.609375 34.8125  Q 44.34375 29.296875 32.078125 29.296875  L 19.671875 29.296875  L 19.671875 0  L 9.8125 0  z \" id=\"DejaVuSans-80\" />\n     <path d=\"M 41.109375 46.296875  Q 39.59375 47.171875 37.8125 47.578125  Q 36.03125 48 33.890625 48  Q 26.265625 48 22.1875 43.046875  Q 18.109375 38.09375 18.109375 28.8125  L 18.109375 0  L 9.078125 0  L 9.078125 54.6875  L 18.109375 54.6875  L 18.109375 46.1875  Q 20.953125 51.171875 25.484375 53.578125  Q 30.03125 56 36.53125 56  Q 37.453125 56 38.578125 55.875  Q 39.703125 55.765625 41.0625 55.515625  z \" id=\"DejaVuSans-114\" />\n     <path d=\"M 9.421875 54.6875  L 18.40625 54.6875  L 18.40625 0  L 9.421875 0  z M 9.421875 75.984375  L 18.40625 75.984375  L 18.40625 64.59375  L 9.421875 64.59375  z \" id=\"DejaVuSans-105\" />\n     <path d=\"M 48.78125 52.59375  L 48.78125 44.1875  Q 44.96875 46.296875 41.140625 47.34375  Q 37.3125 48.390625 33.40625 48.390625  Q 24.65625 48.390625 19.8125 42.84375  Q 14.984375 37.3125 14.984375 27.296875  Q 14.984375 17.28125 19.8125 11.734375  Q 24.65625 6.203125 33.40625 6.203125  Q 37.3125 6.203125 41.140625 7.25  Q 44.96875 8.296875 48.78125 10.40625  L 48.78125 2.09375  Q 45.015625 0.34375 40.984375 -0.53125  Q 36.96875 -1.421875 32.421875 -1.421875  Q 20.0625 -1.421875 12.78125 6.34375  Q 5.515625 14.109375 5.515625 27.296875  Q 5.515625 40.671875 12.859375 48.328125  Q 20.21875 56 33.015625 56  Q 37.15625 56 41.109375 55.140625  Q 45.0625 54.296875 48.78125 52.59375  z \" id=\"DejaVuSans-99\" />\n     <path d=\"M 10.59375 45.40625  L 73.1875 45.40625  L 73.1875 37.203125  L 10.59375 37.203125  z M 10.59375 25.484375  L 73.1875 25.484375  L 73.1875 17.1875  L 10.59375 17.1875  z \" id=\"DejaVuSans-61\" />\n     <path d=\"M 31.78125 34.625  Q 24.75 34.625 20.71875 30.859375  Q 16.703125 27.09375 16.703125 20.515625  Q 16.703125 13.921875 20.71875 10.15625  Q 24.75 6.390625 31.78125 6.390625  Q 38.8125 6.390625 42.859375 10.171875  Q 46.921875 13.96875 46.921875 20.515625  Q 46.921875 27.09375 42.890625 30.859375  Q 38.875 34.625 31.78125 34.625  z M 21.921875 38.8125  Q 15.578125 40.375 12.03125 44.71875  Q 8.5 49.078125 8.5 55.328125  Q 8.5 64.0625 14.71875 69.140625  Q 20.953125 74.21875 31.78125 74.21875  Q 42.671875 74.21875 48.875 69.140625  Q 55.078125 64.0625 55.078125 55.328125  Q 55.078125 49.078125 51.53125 44.71875  Q 48 40.375 41.703125 38.8125  Q 48.828125 37.15625 52.796875 32.3125  Q 56.78125 27.484375 56.78125 20.515625  Q 56.78125 9.90625 50.3125 4.234375  Q 43.84375 -1.421875 31.78125 -1.421875  Q 19.734375 -1.421875 13.25 4.234375  Q 6.78125 9.90625 6.78125 20.515625  Q 6.78125 27.484375 10.78125 32.3125  Q 14.796875 37.15625 21.921875 38.8125  z M 18.3125 54.390625  Q 18.3125 48.734375 21.84375 45.5625  Q 25.390625 42.390625 31.78125 42.390625  Q 38.140625 42.390625 41.71875 45.5625  Q 45.3125 48.734375 45.3125 54.390625  Q 45.3125 60.0625 41.71875 63.234375  Q 38.140625 66.40625 31.78125 66.40625  Q 25.390625 66.40625 21.84375 63.234375  Q 18.3125 60.0625 18.3125 54.390625  z \" id=\"DejaVuSans-56\" />\n     <path d=\"M 10.6875 12.40625  L 21 12.40625  L 21 0  L 10.6875 0  z \" id=\"DejaVuSans-46\" />\n    </defs>\n    <g style=\"fill:#444443;\" transform=\"translate(4.834531 54.25462)scale(0.1 -0.1)\">\n     <use xlink:href=\"#DejaVuSans-83\" />\n     <use x=\"63.476562\" xlink:href=\"#DejaVuSans-97\" />\n     <use x=\"124.755859\" xlink:href=\"#DejaVuSans-108\" />\n     <use x=\"152.539062\" xlink:href=\"#DejaVuSans-101\" />\n     <use x=\"214.0625\" xlink:href=\"#DejaVuSans-80\" />\n     <use x=\"272.615234\" xlink:href=\"#DejaVuSans-114\" />\n     <use x=\"313.728516\" xlink:href=\"#DejaVuSans-105\" />\n     <use x=\"341.511719\" xlink:href=\"#DejaVuSans-99\" />\n     <use x=\"396.492188\" xlink:href=\"#DejaVuSans-101\" />\n     <use x=\"458.015625\" xlink:href=\"#DejaVuSans-61\" />\n     <use x=\"541.804688\" xlink:href=\"#DejaVuSans-50\" />\n     <use x=\"605.427734\" xlink:href=\"#DejaVuSans-56\" />\n     <use x=\"669.050781\" xlink:href=\"#DejaVuSans-48\" />\n     <use x=\"732.673828\" xlink:href=\"#DejaVuSans-56\" />\n     <use x=\"796.296875\" xlink:href=\"#DejaVuSans-55\" />\n     <use x=\"859.919922\" xlink:href=\"#DejaVuSans-55\" />\n     <use x=\"923.542969\" xlink:href=\"#DejaVuSans-46\" />\n     <use x=\"955.330078\" xlink:href=\"#DejaVuSans-55\" />\n     <use x=\"1018.953125\" xlink:href=\"#DejaVuSans-55\" />\n    </g>\n    \n    <defs>\n     <path d=\"M 54.890625 33.015625  L 54.890625 0  L 45.90625 0  L 45.90625 32.71875  Q 45.90625 40.484375 42.875 44.328125  Q 39.84375 48.1875 33.796875 48.1875  Q 26.515625 48.1875 22.3125 43.546875  Q 18.109375 38.921875 18.109375 30.90625  L 18.109375 0  L 9.078125 0  L 9.078125 54.6875  L 18.109375 54.6875  L 18.109375 46.1875  Q 21.34375 51.125 25.703125 53.5625  Q 30.078125 56 35.796875 56  Q 45.21875 56 50.046875 50.171875  Q 54.890625 44.34375 54.890625 33.015625  z \" id=\"DejaVuSans-110\" />\n     <path d=\"M 37.796875 64.3125  L 12.890625 25.390625  L 37.796875 25.390625  z M 35.203125 72.90625  L 47.609375 72.90625  L 47.609375 25.390625  L 58.015625 25.390625  L 58.015625 17.1875  L 47.609375 17.1875  L 47.609375 0  L 37.796875 0  L 37.796875 17.1875  L 4.890625 17.1875  L 4.890625 26.703125  z \" id=\"DejaVuSans-52\" />\n    </defs>\n    <g style=\"fill:#444443;\" transform=\"translate(45.243906 65.452433)scale(0.1 -0.1)\">\n     <use xlink:href=\"#DejaVuSans-110\" />\n     <use x=\"63.378906\" xlink:href=\"#DejaVuSans-61\" />\n     <use x=\"147.167969\" xlink:href=\"#DejaVuSans-52\" />\n     <use x=\"210.791016\" xlink:href=\"#DejaVuSans-56\" />\n    </g>\n   </g>\n  </g>\n </g>\n <defs>\n  <clipPath id=\"pad62d7a4cd\">\n   <rect height=\"43.488\" width=\"41.85\" x=\"37.54\" y=\"1.418183\" />\n  </clipPath>\n </defs>\n</svg></g>\n\n<g class=\"edge\" id=\"edge4\">\n<title>node2-&gt;leaf5</title>\n<path d=\"M330.2133,-98.3425C334.3933,-98.6171 338.5473,-98.89 342.6125,-99.157\" fill=\"none\" stroke=\"#444443\" stroke-width=\".3\" />\n<polygon fill=\"#444443\" points=\"342.5626,-100.5567 346.6458,-99.422 342.7462,-97.7627 342.5626,-100.5567\" stroke=\"#444443\" stroke-width=\".3\" />\n</g>\n\n<g class=\"node\" id=\"node7\">\n<title>leaf6</title>\n<polygon fill=\"none\" points=\"440,-59 347,-59 347,0 440,0 440,-59\" stroke=\"#444443\" stroke-width=\"0\" />\n<svg height=\"51px\" preserveAspectRatio=\"xMinYMin meet\" version=\"1.1\" viewBox=\"0 0 113.095469 67.53212\" width=\"85px\" x=\"351.5\" y=\"-54.5\">\n <defs>\n  <style type=\"text/css\">\n*{stroke-linecap:butt;stroke-linejoin:round;}\n  </style>\n </defs>\n <g id=\"figure_1\">\n  <g id=\"patch_1\">\n   <path d=\"M 0 67.53212  L 113.095469 67.53212  L 113.095469 0  L 0 0  z \" style=\"fill:#ffffff;\" />\n  </g>\n  <g id=\"axes_1\">\n   <g id=\"patch_2\">\n    <path d=\"M 37.54 44.906183  L 79.39 44.906183  L 79.39 1.418183  L 37.54 1.418183  z \" style=\"fill:#ffffff;\" />\n   </g>\n   <g id=\"PathCollection_1\">\n    <defs>\n     <path d=\"M 0 1.118034  C 0.296506 1.118034 0.580908 1.000231 0.790569 0.790569  C 1.000231 0.580908 1.118034 0.296506 1.118034 0  C 1.118034 -0.296506 1.000231 -0.580908 0.790569 -0.790569  C 0.580908 -1.000231 0.296506 -1.118034 0 -1.118034  C -0.296506 -1.118034 -0.580908 -1.000231 -0.790569 -0.790569  C -1.000231 -0.580908 -1.118034 -0.296506 -1.118034 0  C -1.118034 0.296506 -1.000231 0.580908 -0.790569 0.790569  C -0.580908 1.000231 -0.296506 1.118034 0 1.118034  z \" id=\"me255dd47a5\" style=\"stroke:#4575b4;stroke-opacity:0.7;stroke-width:0.3;\" />\n    </defs>\n    <g clip-path=\"url(#pe944f56a9d)\">\n     <use style=\"fill:#4575b4;fill-opacity:0.7;stroke:#4575b4;stroke-opacity:0.7;stroke-width:0.3;\" x=\"53.546522\" y=\"27.958244\" xlink:href=\"#me255dd47a5\" />\n     <use style=\"fill:#4575b4;fill-opacity:0.7;stroke:#4575b4;stroke-opacity:0.7;stroke-width:0.3;\" x=\"55.454607\" y=\"36.181471\" xlink:href=\"#me255dd47a5\" />\n     <use style=\"fill:#4575b4;fill-opacity:0.7;stroke:#4575b4;stroke-opacity:0.7;stroke-width:0.3;\" x=\"53.97691\" y=\"30.743294\" xlink:href=\"#me255dd47a5\" />\n     <use style=\"fill:#4575b4;fill-opacity:0.7;stroke:#4575b4;stroke-opacity:0.7;stroke-width:0.3;\" x=\"62.363527\" y=\"3.332538\" xlink:href=\"#me255dd47a5\" />\n     <use style=\"fill:#4575b4;fill-opacity:0.7;stroke:#4575b4;stroke-opacity:0.7;stroke-width:0.3;\" x=\"62.94501\" y=\"24.733449\" xlink:href=\"#me255dd47a5\" />\n     <use style=\"fill:#4575b4;fill-opacity:0.7;stroke:#4575b4;stroke-opacity:0.7;stroke-width:0.3;\" x=\"63.77618\" y=\"25.268296\" xlink:href=\"#me255dd47a5\" />\n     <use style=\"fill:#4575b4;fill-opacity:0.7;stroke:#4575b4;stroke-opacity:0.7;stroke-width:0.3;\" x=\"51.703528\" y=\"28.661836\" xlink:href=\"#me255dd47a5\" />\n     <use style=\"fill:#4575b4;fill-opacity:0.7;stroke:#4575b4;stroke-opacity:0.7;stroke-width:0.3;\" x=\"62.05205\" y=\"25.906102\" xlink:href=\"#me255dd47a5\" />\n     <use style=\"fill:#4575b4;fill-opacity:0.7;stroke:#4575b4;stroke-opacity:0.7;stroke-width:0.3;\" x=\"65.871417\" y=\"2.746212\" xlink:href=\"#me255dd47a5\" />\n     <use style=\"fill:#4575b4;fill-opacity:0.7;stroke:#4575b4;stroke-opacity:0.7;stroke-width:0.3;\" x=\"62.187935\" y=\"19.163349\" xlink:href=\"#me255dd47a5\" />\n     <use style=\"fill:#4575b4;fill-opacity:0.7;stroke:#4575b4;stroke-opacity:0.7;stroke-width:0.3;\" x=\"51.262683\" y=\"27.958244\" xlink:href=\"#me255dd47a5\" />\n     <use style=\"fill:#4575b4;fill-opacity:0.7;stroke:#4575b4;stroke-opacity:0.7;stroke-width:0.3;\" x=\"64.385263\" y=\"26.785591\" xlink:href=\"#me255dd47a5\" />\n     <use style=\"fill:#4575b4;fill-opacity:0.7;stroke:#4575b4;stroke-opacity:0.7;stroke-width:0.3;\" x=\"58.604575\" y=\"24.88437\" xlink:href=\"#me255dd47a5\" />\n     <use style=\"fill:#4575b4;fill-opacity:0.7;stroke:#4575b4;stroke-opacity:0.7;stroke-width:0.3;\" x=\"57.686928\" y=\"25.085245\" xlink:href=\"#me255dd47a5\" />\n     <use style=\"fill:#4575b4;fill-opacity:0.7;stroke:#4575b4;stroke-opacity:0.7;stroke-width:0.3;\" x=\"59.975267\" y=\"24.366995\" xlink:href=\"#me255dd47a5\" />\n     <use style=\"fill:#4575b4;fill-opacity:0.7;stroke:#4575b4;stroke-opacity:0.7;stroke-width:0.3;\" x=\"54.952925\" y=\"28.555535\" xlink:href=\"#me255dd47a5\" />\n     <use style=\"fill:#4575b4;fill-opacity:0.7;stroke:#4575b4;stroke-opacity:0.7;stroke-width:0.3;\" x=\"58.474315\" y=\"27.371918\" xlink:href=\"#me255dd47a5\" />\n     <use style=\"fill:#4575b4;fill-opacity:0.7;stroke:#4575b4;stroke-opacity:0.7;stroke-width:0.3;\" x=\"63.890198\" y=\"20.848392\" xlink:href=\"#me255dd47a5\" />\n     <use style=\"fill:#4575b4;fill-opacity:0.7;stroke:#4575b4;stroke-opacity:0.7;stroke-width:0.3;\" x=\"60.548785\" y=\"22.663835\" xlink:href=\"#me255dd47a5\" />\n     <use style=\"fill:#4575b4;fill-opacity:0.7;stroke:#4575b4;stroke-opacity:0.7;stroke-width:0.3;\" x=\"58.660528\" y=\"28.54457\" xlink:href=\"#me255dd47a5\" />\n    </g>\n   </g>\n   <g id=\"matplotlib.axis_1\" />\n   <g id=\"matplotlib.axis_2\">\n    <g id=\"ytick_1\">\n     <g id=\"line2d_1\">\n      <defs>\n       <path d=\"M 0 0  L -3.5 0  \" id=\"m5998fa3e4c\" style=\"stroke:#444443;stroke-width:0.3;\" />\n      </defs>\n      <g>\n       <use style=\"fill:#444443;stroke:#444443;stroke-width:0.3;\" x=\"37.54\" y=\"32.355692\" xlink:href=\"#m5998fa3e4c\" />\n      </g>\n     </g>\n     <g id=\"text_1\">\n      \n      <defs>\n       <path d=\"M 19.1875 8.296875  L 53.609375 8.296875  L 53.609375 0  L 7.328125 0  L 7.328125 8.296875  Q 12.9375 14.109375 22.625 23.890625  Q 32.328125 33.6875 34.8125 36.53125  Q 39.546875 41.84375 41.421875 45.53125  Q 43.3125 49.21875 43.3125 52.78125  Q 43.3125 58.59375 39.234375 62.25  Q 35.15625 65.921875 28.609375 65.921875  Q 23.96875 65.921875 18.8125 64.3125  Q 13.671875 62.703125 7.8125 59.421875  L 7.8125 69.390625  Q 13.765625 71.78125 18.9375 73  Q 24.125 74.21875 28.421875 74.21875  Q 39.75 74.21875 46.484375 68.546875  Q 53.21875 62.890625 53.21875 53.421875  Q 53.21875 48.921875 51.53125 44.890625  Q 49.859375 40.875 45.40625 35.40625  Q 44.1875 33.984375 37.640625 27.21875  Q 31.109375 20.453125 19.1875 8.296875  z \" id=\"DejaVuSans-50\" />\n       <path d=\"M 10.796875 72.90625  L 49.515625 72.90625  L 49.515625 64.59375  L 19.828125 64.59375  L 19.828125 46.734375  Q 21.96875 47.46875 24.109375 47.828125  Q 26.265625 48.1875 28.421875 48.1875  Q 40.625 48.1875 47.75 41.5  Q 54.890625 34.8125 54.890625 23.390625  Q 54.890625 11.625 47.5625 5.09375  Q 40.234375 -1.421875 26.90625 -1.421875  Q 22.3125 -1.421875 17.546875 -0.640625  Q 12.796875 0.140625 7.71875 1.703125  L 7.71875 11.625  Q 12.109375 9.234375 16.796875 8.0625  Q 21.484375 6.890625 26.703125 6.890625  Q 35.15625 6.890625 40.078125 11.328125  Q 45.015625 15.765625 45.015625 23.390625  Q 45.015625 31 40.078125 35.4375  Q 35.15625 39.890625 26.703125 39.890625  Q 22.75 39.890625 18.8125 39.015625  Q 14.890625 38.140625 10.796875 36.28125  z \" id=\"DejaVuSans-53\" />\n       <path d=\"M 31.78125 66.40625  Q 24.171875 66.40625 20.328125 58.90625  Q 16.5 51.421875 16.5 36.375  Q 16.5 21.390625 20.328125 13.890625  Q 24.171875 6.390625 31.78125 6.390625  Q 39.453125 6.390625 43.28125 13.890625  Q 47.125 21.390625 47.125 36.375  Q 47.125 51.421875 43.28125 58.90625  Q 39.453125 66.40625 31.78125 66.40625  z M 31.78125 74.21875  Q 44.046875 74.21875 50.515625 64.515625  Q 56.984375 54.828125 56.984375 36.375  Q 56.984375 17.96875 50.515625 8.265625  Q 44.046875 -1.421875 31.78125 -1.421875  Q 19.53125 -1.421875 13.0625 8.265625  Q 6.59375 17.96875 6.59375 36.375  Q 6.59375 54.828125 13.0625 64.515625  Q 19.53125 74.21875 31.78125 74.21875  z \" id=\"DejaVuSans-48\" />\n      </defs>\n      <g style=\"fill:#444443;\" transform=\"translate(-0 35.395067)scale(0.08 -0.08)\">\n       <use xlink:href=\"#DejaVuSans-50\" />\n       <use x=\"63.623047\" xlink:href=\"#DejaVuSans-53\" />\n       <use x=\"127.246094\" xlink:href=\"#DejaVuSans-48\" />\n       <use x=\"190.869141\" xlink:href=\"#DejaVuSans-48\" />\n       <use x=\"254.492188\" xlink:href=\"#DejaVuSans-48\" />\n       <use x=\"318.115234\" xlink:href=\"#DejaVuSans-48\" />\n      </g>\n     </g>\n    </g>\n    <g id=\"ytick_2\">\n     <g id=\"line2d_2\">\n      <g>\n       <use style=\"fill:#444443;stroke:#444443;stroke-width:0.3;\" x=\"37.54\" y=\"17.697533\" xlink:href=\"#m5998fa3e4c\" />\n      </g>\n     </g>\n     <g id=\"text_2\">\n      \n      <g style=\"fill:#444443;\" transform=\"translate(-0 20.736908)scale(0.08 -0.08)\">\n       <use xlink:href=\"#DejaVuSans-53\" />\n       <use x=\"63.623047\" xlink:href=\"#DejaVuSans-48\" />\n       <use x=\"127.246094\" xlink:href=\"#DejaVuSans-48\" />\n       <use x=\"190.869141\" xlink:href=\"#DejaVuSans-48\" />\n       <use x=\"254.492188\" xlink:href=\"#DejaVuSans-48\" />\n       <use x=\"318.115234\" xlink:href=\"#DejaVuSans-48\" />\n      </g>\n     </g>\n    </g>\n    <g id=\"ytick_3\">\n     <g id=\"line2d_3\">\n      <g>\n       <use style=\"fill:#444443;stroke:#444443;stroke-width:0.3;\" x=\"37.54\" y=\"3.039375\" xlink:href=\"#m5998fa3e4c\" />\n      </g>\n     </g>\n     <g id=\"text_3\">\n      \n      <defs>\n       <path d=\"M 8.203125 72.90625  L 55.078125 72.90625  L 55.078125 68.703125  L 28.609375 0  L 18.3125 0  L 43.21875 64.59375  L 8.203125 64.59375  z \" id=\"DejaVuSans-55\" />\n      </defs>\n      <g style=\"fill:#444443;\" transform=\"translate(-0 6.07875)scale(0.08 -0.08)\">\n       <use xlink:href=\"#DejaVuSans-55\" />\n       <use x=\"63.623047\" xlink:href=\"#DejaVuSans-53\" />\n       <use x=\"127.246094\" xlink:href=\"#DejaVuSans-48\" />\n       <use x=\"190.869141\" xlink:href=\"#DejaVuSans-48\" />\n       <use x=\"254.492188\" xlink:href=\"#DejaVuSans-48\" />\n       <use x=\"318.115234\" xlink:href=\"#DejaVuSans-48\" />\n      </g>\n     </g>\n    </g>\n   </g>\n   <g id=\"line2d_4\">\n    <path clip-path=\"url(#pe944f56a9d)\" d=\"M 37.54 24.087974  L 114.095469 24.087974  \" style=\"fill:none;stroke:#444443;stroke-dasharray:3.7,1.6;stroke-dashoffset:0;\" />\n   </g>\n   <g id=\"patch_3\">\n    <path d=\"M 37.54 44.906183  L 37.54 1.418183  \" style=\"fill:none;stroke:#000000;stroke-linecap:square;stroke-linejoin:miter;stroke-width:0.3;\" />\n   </g>\n   <g id=\"text_4\">\n    \n    <defs>\n     <path d=\"M 53.515625 70.515625  L 53.515625 60.890625  Q 47.90625 63.578125 42.921875 64.890625  Q 37.9375 66.21875 33.296875 66.21875  Q 25.25 66.21875 20.875 63.09375  Q 16.5 59.96875 16.5 54.203125  Q 16.5 49.359375 19.40625 46.890625  Q 22.3125 44.4375 30.421875 42.921875  L 36.375 41.703125  Q 47.40625 39.59375 52.65625 34.296875  Q 57.90625 29 57.90625 20.125  Q 57.90625 9.515625 50.796875 4.046875  Q 43.703125 -1.421875 29.984375 -1.421875  Q 24.8125 -1.421875 18.96875 -0.25  Q 13.140625 0.921875 6.890625 3.21875  L 6.890625 13.375  Q 12.890625 10.015625 18.65625 8.296875  Q 24.421875 6.59375 29.984375 6.59375  Q 38.421875 6.59375 43.015625 9.90625  Q 47.609375 13.234375 47.609375 19.390625  Q 47.609375 24.75 44.3125 27.78125  Q 41.015625 30.8125 33.5 32.328125  L 27.484375 33.5  Q 16.453125 35.6875 11.515625 40.375  Q 6.59375 45.0625 6.59375 53.421875  Q 6.59375 63.09375 13.40625 68.65625  Q 20.21875 74.21875 32.171875 74.21875  Q 37.3125 74.21875 42.625 73.28125  Q 47.953125 72.359375 53.515625 70.515625  z \" id=\"DejaVuSans-83\" />\n     <path d=\"M 34.28125 27.484375  Q 23.390625 27.484375 19.1875 25  Q 14.984375 22.515625 14.984375 16.5  Q 14.984375 11.71875 18.140625 8.90625  Q 21.296875 6.109375 26.703125 6.109375  Q 34.1875 6.109375 38.703125 11.40625  Q 43.21875 16.703125 43.21875 25.484375  L 43.21875 27.484375  z M 52.203125 31.203125  L 52.203125 0  L 43.21875 0  L 43.21875 8.296875  Q 40.140625 3.328125 35.546875 0.953125  Q 30.953125 -1.421875 24.3125 -1.421875  Q 15.921875 -1.421875 10.953125 3.296875  Q 6 8.015625 6 15.921875  Q 6 25.140625 12.171875 29.828125  Q 18.359375 34.515625 30.609375 34.515625  L 43.21875 34.515625  L 43.21875 35.40625  Q 43.21875 41.609375 39.140625 45  Q 35.0625 48.390625 27.6875 48.390625  Q 23 48.390625 18.546875 47.265625  Q 14.109375 46.140625 10.015625 43.890625  L 10.015625 52.203125  Q 14.9375 54.109375 19.578125 55.046875  Q 24.21875 56 28.609375 56  Q 40.484375 56 46.34375 49.84375  Q 52.203125 43.703125 52.203125 31.203125  z \" id=\"DejaVuSans-97\" />\n     <path d=\"M 9.421875 75.984375  L 18.40625 75.984375  L 18.40625 0  L 9.421875 0  z \" id=\"DejaVuSans-108\" />\n     <path d=\"M 56.203125 29.59375  L 56.203125 25.203125  L 14.890625 25.203125  Q 15.484375 15.921875 20.484375 11.0625  Q 25.484375 6.203125 34.421875 6.203125  Q 39.59375 6.203125 44.453125 7.46875  Q 49.3125 8.734375 54.109375 11.28125  L 54.109375 2.78125  Q 49.265625 0.734375 44.1875 -0.34375  Q 39.109375 -1.421875 33.890625 -1.421875  Q 20.796875 -1.421875 13.15625 6.1875  Q 5.515625 13.8125 5.515625 26.8125  Q 5.515625 40.234375 12.765625 48.109375  Q 20.015625 56 32.328125 56  Q 43.359375 56 49.78125 48.890625  Q 56.203125 41.796875 56.203125 29.59375  z M 47.21875 32.234375  Q 47.125 39.59375 43.09375 43.984375  Q 39.0625 48.390625 32.421875 48.390625  Q 24.90625 48.390625 20.390625 44.140625  Q 15.875 39.890625 15.1875 32.171875  z \" id=\"DejaVuSans-101\" />\n     <path d=\"M 19.671875 64.796875  L 19.671875 37.40625  L 32.078125 37.40625  Q 38.96875 37.40625 42.71875 40.96875  Q 46.484375 44.53125 46.484375 51.125  Q 46.484375 57.671875 42.71875 61.234375  Q 38.96875 64.796875 32.078125 64.796875  z M 9.8125 72.90625  L 32.078125 72.90625  Q 44.34375 72.90625 50.609375 67.359375  Q 56.890625 61.8125 56.890625 51.125  Q 56.890625 40.328125 50.609375 34.8125  Q 44.34375 29.296875 32.078125 29.296875  L 19.671875 29.296875  L 19.671875 0  L 9.8125 0  z \" id=\"DejaVuSans-80\" />\n     <path d=\"M 41.109375 46.296875  Q 39.59375 47.171875 37.8125 47.578125  Q 36.03125 48 33.890625 48  Q 26.265625 48 22.1875 43.046875  Q 18.109375 38.09375 18.109375 28.8125  L 18.109375 0  L 9.078125 0  L 9.078125 54.6875  L 18.109375 54.6875  L 18.109375 46.1875  Q 20.953125 51.171875 25.484375 53.578125  Q 30.03125 56 36.53125 56  Q 37.453125 56 38.578125 55.875  Q 39.703125 55.765625 41.0625 55.515625  z \" id=\"DejaVuSans-114\" />\n     <path d=\"M 9.421875 54.6875  L 18.40625 54.6875  L 18.40625 0  L 9.421875 0  z M 9.421875 75.984375  L 18.40625 75.984375  L 18.40625 64.59375  L 9.421875 64.59375  z \" id=\"DejaVuSans-105\" />\n     <path d=\"M 48.78125 52.59375  L 48.78125 44.1875  Q 44.96875 46.296875 41.140625 47.34375  Q 37.3125 48.390625 33.40625 48.390625  Q 24.65625 48.390625 19.8125 42.84375  Q 14.984375 37.3125 14.984375 27.296875  Q 14.984375 17.28125 19.8125 11.734375  Q 24.65625 6.203125 33.40625 6.203125  Q 37.3125 6.203125 41.140625 7.25  Q 44.96875 8.296875 48.78125 10.40625  L 48.78125 2.09375  Q 45.015625 0.34375 40.984375 -0.53125  Q 36.96875 -1.421875 32.421875 -1.421875  Q 20.0625 -1.421875 12.78125 6.34375  Q 5.515625 14.109375 5.515625 27.296875  Q 5.515625 40.671875 12.859375 48.328125  Q 20.21875 56 33.015625 56  Q 37.15625 56 41.109375 55.140625  Q 45.0625 54.296875 48.78125 52.59375  z \" id=\"DejaVuSans-99\" />\n     <path d=\"M 10.59375 45.40625  L 73.1875 45.40625  L 73.1875 37.203125  L 10.59375 37.203125  z M 10.59375 25.484375  L 73.1875 25.484375  L 73.1875 17.1875  L 10.59375 17.1875  z \" id=\"DejaVuSans-61\" />\n     <path d=\"M 40.578125 39.3125  Q 47.65625 37.796875 51.625 33  Q 55.609375 28.21875 55.609375 21.1875  Q 55.609375 10.40625 48.1875 4.484375  Q 40.765625 -1.421875 27.09375 -1.421875  Q 22.515625 -1.421875 17.65625 -0.515625  Q 12.796875 0.390625 7.625 2.203125  L 7.625 11.71875  Q 11.71875 9.328125 16.59375 8.109375  Q 21.484375 6.890625 26.8125 6.890625  Q 36.078125 6.890625 40.9375 10.546875  Q 45.796875 14.203125 45.796875 21.1875  Q 45.796875 27.640625 41.28125 31.265625  Q 36.765625 34.90625 28.71875 34.90625  L 20.21875 34.90625  L 20.21875 43.015625  L 29.109375 43.015625  Q 36.375 43.015625 40.234375 45.921875  Q 44.09375 48.828125 44.09375 54.296875  Q 44.09375 59.90625 40.109375 62.90625  Q 36.140625 65.921875 28.71875 65.921875  Q 24.65625 65.921875 20.015625 65.03125  Q 15.375 64.15625 9.8125 62.3125  L 9.8125 71.09375  Q 15.4375 72.65625 20.34375 73.4375  Q 25.25 74.21875 29.59375 74.21875  Q 40.828125 74.21875 47.359375 69.109375  Q 53.90625 64.015625 53.90625 55.328125  Q 53.90625 49.265625 50.4375 45.09375  Q 46.96875 40.921875 40.578125 39.3125  z \" id=\"DejaVuSans-51\" />\n     <path d=\"M 10.984375 1.515625  L 10.984375 10.5  Q 14.703125 8.734375 18.5 7.8125  Q 22.3125 6.890625 25.984375 6.890625  Q 35.75 6.890625 40.890625 13.453125  Q 46.046875 20.015625 46.78125 33.40625  Q 43.953125 29.203125 39.59375 26.953125  Q 35.25 24.703125 29.984375 24.703125  Q 19.046875 24.703125 12.671875 31.3125  Q 6.296875 37.9375 6.296875 49.421875  Q 6.296875 60.640625 12.9375 67.421875  Q 19.578125 74.21875 30.609375 74.21875  Q 43.265625 74.21875 49.921875 64.515625  Q 56.59375 54.828125 56.59375 36.375  Q 56.59375 19.140625 48.40625 8.859375  Q 40.234375 -1.421875 26.421875 -1.421875  Q 22.703125 -1.421875 18.890625 -0.6875  Q 15.09375 0.046875 10.984375 1.515625  z M 30.609375 32.421875  Q 37.25 32.421875 41.125 36.953125  Q 45.015625 41.5 45.015625 49.421875  Q 45.015625 57.28125 41.125 61.84375  Q 37.25 66.40625 30.609375 66.40625  Q 23.96875 66.40625 20.09375 61.84375  Q 16.21875 57.28125 16.21875 49.421875  Q 16.21875 41.5 20.09375 36.953125  Q 23.96875 32.421875 30.609375 32.421875  z \" id=\"DejaVuSans-57\" />\n     <path d=\"M 12.40625 8.296875  L 28.515625 8.296875  L 28.515625 63.921875  L 10.984375 60.40625  L 10.984375 69.390625  L 28.421875 72.90625  L 38.28125 72.90625  L 38.28125 8.296875  L 54.390625 8.296875  L 54.390625 0  L 12.40625 0  z \" id=\"DejaVuSans-49\" />\n     <path d=\"M 31.78125 34.625  Q 24.75 34.625 20.71875 30.859375  Q 16.703125 27.09375 16.703125 20.515625  Q 16.703125 13.921875 20.71875 10.15625  Q 24.75 6.390625 31.78125 6.390625  Q 38.8125 6.390625 42.859375 10.171875  Q 46.921875 13.96875 46.921875 20.515625  Q 46.921875 27.09375 42.890625 30.859375  Q 38.875 34.625 31.78125 34.625  z M 21.921875 38.8125  Q 15.578125 40.375 12.03125 44.71875  Q 8.5 49.078125 8.5 55.328125  Q 8.5 64.0625 14.71875 69.140625  Q 20.953125 74.21875 31.78125 74.21875  Q 42.671875 74.21875 48.875 69.140625  Q 55.078125 64.0625 55.078125 55.328125  Q 55.078125 49.078125 51.53125 44.71875  Q 48 40.375 41.703125 38.8125  Q 48.828125 37.15625 52.796875 32.3125  Q 56.78125 27.484375 56.78125 20.515625  Q 56.78125 9.90625 50.3125 4.234375  Q 43.84375 -1.421875 31.78125 -1.421875  Q 19.734375 -1.421875 13.25 4.234375  Q 6.78125 9.90625 6.78125 20.515625  Q 6.78125 27.484375 10.78125 32.3125  Q 14.796875 37.15625 21.921875 38.8125  z M 18.3125 54.390625  Q 18.3125 48.734375 21.84375 45.5625  Q 25.390625 42.390625 31.78125 42.390625  Q 38.140625 42.390625 41.71875 45.5625  Q 45.3125 48.734375 45.3125 54.390625  Q 45.3125 60.0625 41.71875 63.234375  Q 38.140625 66.40625 31.78125 66.40625  Q 25.390625 66.40625 21.84375 63.234375  Q 18.3125 60.0625 18.3125 54.390625  z \" id=\"DejaVuSans-56\" />\n     <path d=\"M 10.6875 12.40625  L 21 12.40625  L 21 0  L 10.6875 0  z \" id=\"DejaVuSans-46\" />\n    </defs>\n    <g style=\"fill:#444443;\" transform=\"translate(4.834531 54.25462)scale(0.1 -0.1)\">\n     <use xlink:href=\"#DejaVuSans-83\" />\n     <use x=\"63.476562\" xlink:href=\"#DejaVuSans-97\" />\n     <use x=\"124.755859\" xlink:href=\"#DejaVuSans-108\" />\n     <use x=\"152.539062\" xlink:href=\"#DejaVuSans-101\" />\n     <use x=\"214.0625\" xlink:href=\"#DejaVuSans-80\" />\n     <use x=\"272.615234\" xlink:href=\"#DejaVuSans-114\" />\n     <use x=\"313.728516\" xlink:href=\"#DejaVuSans-105\" />\n     <use x=\"341.511719\" xlink:href=\"#DejaVuSans-99\" />\n     <use x=\"396.492188\" xlink:href=\"#DejaVuSans-101\" />\n     <use x=\"458.015625\" xlink:href=\"#DejaVuSans-61\" />\n     <use x=\"541.804688\" xlink:href=\"#DejaVuSans-51\" />\n     <use x=\"605.427734\" xlink:href=\"#DejaVuSans-57\" />\n     <use x=\"669.050781\" xlink:href=\"#DejaVuSans-49\" />\n     <use x=\"732.673828\" xlink:href=\"#DejaVuSans-48\" />\n     <use x=\"796.296875\" xlink:href=\"#DejaVuSans-48\" />\n     <use x=\"859.919922\" xlink:href=\"#DejaVuSans-56\" />\n     <use x=\"923.542969\" xlink:href=\"#DejaVuSans-46\" />\n     <use x=\"955.330078\" xlink:href=\"#DejaVuSans-56\" />\n     <use x=\"1018.953125\" xlink:href=\"#DejaVuSans-48\" />\n    </g>\n    \n    <defs>\n     <path d=\"M 54.890625 33.015625  L 54.890625 0  L 45.90625 0  L 45.90625 32.71875  Q 45.90625 40.484375 42.875 44.328125  Q 39.84375 48.1875 33.796875 48.1875  Q 26.515625 48.1875 22.3125 43.546875  Q 18.109375 38.921875 18.109375 30.90625  L 18.109375 0  L 9.078125 0  L 9.078125 54.6875  L 18.109375 54.6875  L 18.109375 46.1875  Q 21.34375 51.125 25.703125 53.5625  Q 30.078125 56 35.796875 56  Q 45.21875 56 50.046875 50.171875  Q 54.890625 44.34375 54.890625 33.015625  z \" id=\"DejaVuSans-110\" />\n    </defs>\n    <g style=\"fill:#444443;\" transform=\"translate(45.243906 65.452433)scale(0.1 -0.1)\">\n     <use xlink:href=\"#DejaVuSans-110\" />\n     <use x=\"63.378906\" xlink:href=\"#DejaVuSans-61\" />\n     <use x=\"147.167969\" xlink:href=\"#DejaVuSans-50\" />\n     <use x=\"210.791016\" xlink:href=\"#DejaVuSans-48\" />\n    </g>\n   </g>\n  </g>\n </g>\n <defs>\n  <clipPath id=\"pe944f56a9d\">\n   <rect height=\"43.488\" width=\"41.85\" x=\"37.54\" y=\"1.418183\" />\n  </clipPath>\n </defs>\n</svg></g>\n\n<g class=\"edge\" id=\"edge5\">\n<title>node2-&gt;leaf6</title>\n<path d=\"M330.2133,-59.0646C334.4804,-57.0712 338.7204,-55.0905 342.8665,-53.1536\" fill=\"none\" stroke=\"#444443\" stroke-width=\".3\" />\n<polygon fill=\"#444443\" points=\"343.6143,-54.3496 346.6458,-51.3881 342.4292,-51.8127 343.6143,-54.3496\" stroke=\"#444443\" stroke-width=\".3\" />\n</g>\n\n<g class=\"node\" id=\"node3\">\n<title>node0</title>\n<svg height=\"67px\" preserveAspectRatio=\"xMinYMin meet\" version=\"1.1\" viewBox=\"0 0 199.624375 89.026861\" width=\"150px\" x=\"4\" y=\"-169.5\">\n <defs>\n  <style type=\"text/css\">\n*{stroke-linecap:butt;stroke-linejoin:round;}\n  </style>\n </defs>\n <g id=\"figure_1\">\n  <g id=\"patch_1\">\n   <path d=\"M 0 89.026861  L 199.624375 89.026861  L 199.624375 -0  L 0 -0  z \" style=\"fill:#ffffff;\" />\n  </g>\n  <g id=\"axes_1\">\n   <g id=\"patch_2\">\n    <path d=\"M 51.218125 60.606236  L 190.718125 60.606236  L 190.718125 0.810236  L 51.218125 0.810236  z \" style=\"fill:#ffffff;\" />\n   </g>\n   <g id=\"PathCollection_1\">\n    <defs>\n     <path d=\"M 0 1.118034  C 0.296506 1.118034 0.580908 1.000231 0.790569 0.790569  C 1.000231 0.580908 1.118034 0.296506 1.118034 0  C 1.118034 -0.296506 1.000231 -0.580908 0.790569 -0.790569  C 0.580908 -1.000231 0.296506 -1.118034 0 -1.118034  C -0.296506 -1.118034 -0.580908 -1.000231 -0.790569 -0.790569  C -1.000231 -0.580908 -1.118034 -0.296506 -1.118034 0  C -1.118034 0.296506 -1.000231 0.580908 -0.790569 0.790569  C -0.580908 1.000231 -0.296506 1.118034 0 1.118034  z \" id=\"m0118f0fb57\" style=\"stroke:#4575b4;stroke-opacity:0.7;stroke-width:0.3;\" />\n    </defs>\n    <g clip-path=\"url(#pce26b86e55)\">\n     <use style=\"fill:#4575b4;fill-opacity:0.7;stroke:#4575b4;stroke-opacity:0.7;stroke-width:0.3;\" x=\"113.218125\" y=\"52.298116\" xlink:href=\"#m0118f0fb57\" />\n     <use style=\"fill:#4575b4;fill-opacity:0.7;stroke:#4575b4;stroke-opacity:0.7;stroke-width:0.3;\" x=\"175.218125\" y=\"37.30282\" xlink:href=\"#m0118f0fb57\" />\n     <use style=\"fill:#4575b4;fill-opacity:0.7;stroke:#4575b4;stroke-opacity:0.7;stroke-width:0.3;\" x=\"128.718125\" y=\"46.99736\" xlink:href=\"#m0118f0fb57\" />\n     <use style=\"fill:#4575b4;fill-opacity:0.7;stroke:#4575b4;stroke-opacity:0.7;stroke-width:0.3;\" x=\"128.718125\" y=\"49.153941\" xlink:href=\"#m0118f0fb57\" />\n     <use style=\"fill:#4575b4;fill-opacity:0.7;stroke:#4575b4;stroke-opacity:0.7;stroke-width:0.3;\" x=\"159.718125\" y=\"41.575673\" xlink:href=\"#m0118f0fb57\" />\n     <use style=\"fill:#4575b4;fill-opacity:0.7;stroke:#4575b4;stroke-opacity:0.7;stroke-width:0.3;\" x=\"128.718125\" y=\"51.955482\" xlink:href=\"#m0118f0fb57\" />\n     <use style=\"fill:#4575b4;fill-opacity:0.7;stroke:#4575b4;stroke-opacity:0.7;stroke-width:0.3;\" x=\"128.718125\" y=\"48.186503\" xlink:href=\"#m0118f0fb57\" />\n     <use style=\"fill:#4575b4;fill-opacity:0.7;stroke:#4575b4;stroke-opacity:0.7;stroke-width:0.3;\" x=\"144.218125\" y=\"43.83303\" xlink:href=\"#m0118f0fb57\" />\n     <use style=\"fill:#4575b4;fill-opacity:0.7;stroke:#4575b4;stroke-opacity:0.7;stroke-width:0.3;\" x=\"190.718125\" y=\"48.609757\" xlink:href=\"#m0118f0fb57\" />\n     <use style=\"fill:#4575b4;fill-opacity:0.7;stroke:#4575b4;stroke-opacity:0.7;stroke-width:0.3;\" x=\"175.218125\" y=\"41.132264\" xlink:href=\"#m0118f0fb57\" />\n     <use style=\"fill:#4575b4;fill-opacity:0.7;stroke:#4575b4;stroke-opacity:0.7;stroke-width:0.3;\" x=\"144.218125\" y=\"47.368937\" xlink:href=\"#m0118f0fb57\" />\n     <use style=\"fill:#4575b4;fill-opacity:0.7;stroke:#4575b4;stroke-opacity:0.7;stroke-width:0.3;\" x=\"113.218125\" y=\"52.298116\" xlink:href=\"#m0118f0fb57\" />\n     <use style=\"fill:#4575b4;fill-opacity:0.7;stroke:#4575b4;stroke-opacity:0.7;stroke-width:0.3;\" x=\"128.718125\" y=\"56.2888\" xlink:href=\"#m0118f0fb57\" />\n     <use style=\"fill:#4575b4;fill-opacity:0.7;stroke:#4575b4;stroke-opacity:0.7;stroke-width:0.3;\" x=\"113.218125\" y=\"52.056256\" xlink:href=\"#m0118f0fb57\" />\n     <use style=\"fill:#4575b4;fill-opacity:0.7;stroke:#4575b4;stroke-opacity:0.7;stroke-width:0.3;\" x=\"97.718125\" y=\"51.411297\" xlink:href=\"#m0118f0fb57\" />\n     <use style=\"fill:#4575b4;fill-opacity:0.7;stroke:#4575b4;stroke-opacity:0.7;stroke-width:0.3;\" x=\"113.218125\" y=\"52.725401\" xlink:href=\"#m0118f0fb57\" />\n     <use style=\"fill:#4575b4;fill-opacity:0.7;stroke:#4575b4;stroke-opacity:0.7;stroke-width:0.3;\" x=\"113.218125\" y=\"54.595782\" xlink:href=\"#m0118f0fb57\" />\n     <use style=\"fill:#4575b4;fill-opacity:0.7;stroke:#4575b4;stroke-opacity:0.7;stroke-width:0.3;\" x=\"128.718125\" y=\"52.015946\" xlink:href=\"#m0118f0fb57\" />\n     <use style=\"fill:#4575b4;fill-opacity:0.7;stroke:#4575b4;stroke-opacity:0.7;stroke-width:0.3;\" x=\"113.218125\" y=\"53.426794\" xlink:href=\"#m0118f0fb57\" />\n     <use style=\"fill:#4575b4;fill-opacity:0.7;stroke:#4575b4;stroke-opacity:0.7;stroke-width:0.3;\" x=\"128.718125\" y=\"48.428362\" xlink:href=\"#m0118f0fb57\" />\n     <use style=\"fill:#4575b4;fill-opacity:0.7;stroke:#4575b4;stroke-opacity:0.7;stroke-width:0.3;\" x=\"128.718125\" y=\"50.04076\" xlink:href=\"#m0118f0fb57\" />\n     <use style=\"fill:#4575b4;fill-opacity:0.7;stroke:#4575b4;stroke-opacity:0.7;stroke-width:0.3;\" x=\"113.218125\" y=\"52.265868\" xlink:href=\"#m0118f0fb57\" />\n     <use style=\"fill:#4575b4;fill-opacity:0.7;stroke:#4575b4;stroke-opacity:0.7;stroke-width:0.3;\" x=\"159.718125\" y=\"49.476421\" xlink:href=\"#m0118f0fb57\" />\n     <use style=\"fill:#4575b4;fill-opacity:0.7;stroke:#4575b4;stroke-opacity:0.7;stroke-width:0.3;\" x=\"144.218125\" y=\"42.543112\" xlink:href=\"#m0118f0fb57\" />\n     <use style=\"fill:#4575b4;fill-opacity:0.7;stroke:#4575b4;stroke-opacity:0.7;stroke-width:0.3;\" x=\"113.218125\" y=\"50.322929\" xlink:href=\"#m0118f0fb57\" />\n     <use style=\"fill:#4575b4;fill-opacity:0.7;stroke:#4575b4;stroke-opacity:0.7;stroke-width:0.3;\" x=\"113.218125\" y=\"53.144625\" xlink:href=\"#m0118f0fb57\" />\n     <use style=\"fill:#4575b4;fill-opacity:0.7;stroke:#4575b4;stroke-opacity:0.7;stroke-width:0.3;\" x=\"159.718125\" y=\"36.335382\" xlink:href=\"#m0118f0fb57\" />\n     <use style=\"fill:#4575b4;fill-opacity:0.7;stroke:#4575b4;stroke-opacity:0.7;stroke-width:0.3;\" x=\"144.218125\" y=\"53.023695\" xlink:href=\"#m0118f0fb57\" />\n     <use style=\"fill:#4575b4;fill-opacity:0.7;stroke:#4575b4;stroke-opacity:0.7;stroke-width:0.3;\" x=\"144.218125\" y=\"51.330678\" xlink:href=\"#m0118f0fb57\" />\n     <use style=\"fill:#4575b4;fill-opacity:0.7;stroke:#4575b4;stroke-opacity:0.7;stroke-width:0.3;\" x=\"144.218125\" y=\"50.201999\" xlink:href=\"#m0118f0fb57\" />\n     <use style=\"fill:#4575b4;fill-opacity:0.7;stroke:#4575b4;stroke-opacity:0.7;stroke-width:0.3;\" x=\"144.218125\" y=\"45.284187\" xlink:href=\"#m0118f0fb57\" />\n     <use style=\"fill:#4575b4;fill-opacity:0.7;stroke:#4575b4;stroke-opacity:0.7;stroke-width:0.3;\" x=\"113.218125\" y=\"52.338426\" xlink:href=\"#m0118f0fb57\" />\n     <use style=\"fill:#4575b4;fill-opacity:0.7;stroke:#4575b4;stroke-opacity:0.7;stroke-width:0.3;\" x=\"144.218125\" y=\"47.622164\" xlink:href=\"#m0118f0fb57\" />\n     <use style=\"fill:#4575b4;fill-opacity:0.7;stroke:#4575b4;stroke-opacity:0.7;stroke-width:0.3;\" x=\"144.218125\" y=\"42.510864\" xlink:href=\"#m0118f0fb57\" />\n     <use style=\"fill:#4575b4;fill-opacity:0.7;stroke:#4575b4;stroke-opacity:0.7;stroke-width:0.3;\" x=\"128.718125\" y=\"51.814397\" xlink:href=\"#m0118f0fb57\" />\n     <use style=\"fill:#4575b4;fill-opacity:0.7;stroke:#4575b4;stroke-opacity:0.7;stroke-width:0.3;\" x=\"113.218125\" y=\"53.668654\" xlink:href=\"#m0118f0fb57\" />\n     <use style=\"fill:#4575b4;fill-opacity:0.7;stroke:#4575b4;stroke-opacity:0.7;stroke-width:0.3;\" x=\"128.718125\" y=\"54.474853\" xlink:href=\"#m0118f0fb57\" />\n     <use style=\"fill:#4575b4;fill-opacity:0.7;stroke:#4575b4;stroke-opacity:0.7;stroke-width:0.3;\" x=\"144.218125\" y=\"45.687287\" xlink:href=\"#m0118f0fb57\" />\n     <use style=\"fill:#4575b4;fill-opacity:0.7;stroke:#4575b4;stroke-opacity:0.7;stroke-width:0.3;\" x=\"97.718125\" y=\"53.386484\" xlink:href=\"#m0118f0fb57\" />\n     <use style=\"fill:#4575b4;fill-opacity:0.7;stroke:#4575b4;stroke-opacity:0.7;stroke-width:0.3;\" x=\"113.218125\" y=\"54.232993\" xlink:href=\"#m0118f0fb57\" />\n     <use style=\"fill:#4575b4;fill-opacity:0.7;stroke:#4575b4;stroke-opacity:0.7;stroke-width:0.3;\" x=\"128.718125\" y=\"53.958885\" xlink:href=\"#m0118f0fb57\" />\n     <use style=\"fill:#4575b4;fill-opacity:0.7;stroke:#4575b4;stroke-opacity:0.7;stroke-width:0.3;\" x=\"128.718125\" y=\"49.55704\" xlink:href=\"#m0118f0fb57\" />\n     <use style=\"fill:#4575b4;fill-opacity:0.7;stroke:#4575b4;stroke-opacity:0.7;stroke-width:0.3;\" x=\"190.718125\" y=\"3.442474\" xlink:href=\"#m0118f0fb57\" />\n     <use style=\"fill:#4575b4;fill-opacity:0.7;stroke:#4575b4;stroke-opacity:0.7;stroke-width:0.3;\" x=\"159.718125\" y=\"42.841405\" xlink:href=\"#m0118f0fb57\" />\n     <use style=\"fill:#4575b4;fill-opacity:0.7;stroke:#4575b4;stroke-opacity:0.7;stroke-width:0.3;\" x=\"144.218125\" y=\"51.088818\" xlink:href=\"#m0118f0fb57\" />\n     <use style=\"fill:#4575b4;fill-opacity:0.7;stroke:#4575b4;stroke-opacity:0.7;stroke-width:0.3;\" x=\"128.718125\" y=\"51.733777\" xlink:href=\"#m0118f0fb57\" />\n     <use style=\"fill:#4575b4;fill-opacity:0.7;stroke:#4575b4;stroke-opacity:0.7;stroke-width:0.3;\" x=\"144.218125\" y=\"46.662787\" xlink:href=\"#m0118f0fb57\" />\n     <use style=\"fill:#4575b4;fill-opacity:0.7;stroke:#4575b4;stroke-opacity:0.7;stroke-width:0.3;\" x=\"128.718125\" y=\"53.225245\" xlink:href=\"#m0118f0fb57\" />\n     <use style=\"fill:#4575b4;fill-opacity:0.7;stroke:#4575b4;stroke-opacity:0.7;stroke-width:0.3;\" x=\"144.218125\" y=\"49.153941\" xlink:href=\"#m0118f0fb57\" />\n     <use style=\"fill:#4575b4;fill-opacity:0.7;stroke:#4575b4;stroke-opacity:0.7;stroke-width:0.3;\" x=\"128.718125\" y=\"51.330678\" xlink:href=\"#m0118f0fb57\" />\n     <use style=\"fill:#4575b4;fill-opacity:0.7;stroke:#4575b4;stroke-opacity:0.7;stroke-width:0.3;\" x=\"128.718125\" y=\"49.55704\" xlink:href=\"#m0118f0fb57\" />\n     <use style=\"fill:#4575b4;fill-opacity:0.7;stroke:#4575b4;stroke-opacity:0.7;stroke-width:0.3;\" x=\"128.718125\" y=\"52.217496\" xlink:href=\"#m0118f0fb57\" />\n     <use style=\"fill:#4575b4;fill-opacity:0.7;stroke:#4575b4;stroke-opacity:0.7;stroke-width:0.3;\" x=\"128.718125\" y=\"53.225245\" xlink:href=\"#m0118f0fb57\" />\n     <use style=\"fill:#4575b4;fill-opacity:0.7;stroke:#4575b4;stroke-opacity:0.7;stroke-width:0.3;\" x=\"144.218125\" y=\"50.645409\" xlink:href=\"#m0118f0fb57\" />\n     <use style=\"fill:#4575b4;fill-opacity:0.7;stroke:#4575b4;stroke-opacity:0.7;stroke-width:0.3;\" x=\"128.718125\" y=\"46.171006\" xlink:href=\"#m0118f0fb57\" />\n     <use style=\"fill:#4575b4;fill-opacity:0.7;stroke:#4575b4;stroke-opacity:0.7;stroke-width:0.3;\" x=\"144.218125\" y=\"49.323243\" xlink:href=\"#m0118f0fb57\" />\n     <use style=\"fill:#4575b4;fill-opacity:0.7;stroke:#4575b4;stroke-opacity:0.7;stroke-width:0.3;\" x=\"113.218125\" y=\"54.273303\" xlink:href=\"#m0118f0fb57\" />\n     <use style=\"fill:#4575b4;fill-opacity:0.7;stroke:#4575b4;stroke-opacity:0.7;stroke-width:0.3;\" x=\"97.718125\" y=\"54.797332\" xlink:href=\"#m0118f0fb57\" />\n     <use style=\"fill:#4575b4;fill-opacity:0.7;stroke:#4575b4;stroke-opacity:0.7;stroke-width:0.3;\" x=\"113.218125\" y=\"58.667086\" xlink:href=\"#m0118f0fb57\" />\n     <use style=\"fill:#4575b4;fill-opacity:0.7;stroke:#4575b4;stroke-opacity:0.7;stroke-width:0.3;\" x=\"144.218125\" y=\"44.316749\" xlink:href=\"#m0118f0fb57\" />\n     <use style=\"fill:#4575b4;fill-opacity:0.7;stroke:#4575b4;stroke-opacity:0.7;stroke-width:0.3;\" x=\"144.218125\" y=\"47.372242\" xlink:href=\"#m0118f0fb57\" />\n     <use style=\"fill:#4575b4;fill-opacity:0.7;stroke:#4575b4;stroke-opacity:0.7;stroke-width:0.3;\" x=\"113.218125\" y=\"56.00663\" xlink:href=\"#m0118f0fb57\" />\n     <use style=\"fill:#4575b4;fill-opacity:0.7;stroke:#4575b4;stroke-opacity:0.7;stroke-width:0.3;\" x=\"113.218125\" y=\"53.467104\" xlink:href=\"#m0118f0fb57\" />\n     <use style=\"fill:#4575b4;fill-opacity:0.7;stroke:#4575b4;stroke-opacity:0.7;stroke-width:0.3;\" x=\"128.718125\" y=\"51.794242\" xlink:href=\"#m0118f0fb57\" />\n     <use style=\"fill:#4575b4;fill-opacity:0.7;stroke:#4575b4;stroke-opacity:0.7;stroke-width:0.3;\" x=\"97.718125\" y=\"53.104315\" xlink:href=\"#m0118f0fb57\" />\n     <use style=\"fill:#4575b4;fill-opacity:0.7;stroke:#4575b4;stroke-opacity:0.7;stroke-width:0.3;\" x=\"144.218125\" y=\"45.082638\" xlink:href=\"#m0118f0fb57\" />\n     <use style=\"fill:#4575b4;fill-opacity:0.7;stroke:#4575b4;stroke-opacity:0.7;stroke-width:0.3;\" x=\"128.718125\" y=\"50.806648\" xlink:href=\"#m0118f0fb57\" />\n     <use style=\"fill:#4575b4;fill-opacity:0.7;stroke:#4575b4;stroke-opacity:0.7;stroke-width:0.3;\" x=\"113.218125\" y=\"52.5432\" xlink:href=\"#m0118f0fb57\" />\n     <use style=\"fill:#4575b4;fill-opacity:0.7;stroke:#4575b4;stroke-opacity:0.7;stroke-width:0.3;\" x=\"144.218125\" y=\"36.496621\" xlink:href=\"#m0118f0fb57\" />\n     <use style=\"fill:#4575b4;fill-opacity:0.7;stroke:#4575b4;stroke-opacity:0.7;stroke-width:0.3;\" x=\"128.718125\" y=\"53.950823\" xlink:href=\"#m0118f0fb57\" />\n     <use style=\"fill:#4575b4;fill-opacity:0.7;stroke:#4575b4;stroke-opacity:0.7;stroke-width:0.3;\" x=\"159.718125\" y=\"32.788107\" xlink:href=\"#m0118f0fb57\" />\n     <use style=\"fill:#4575b4;fill-opacity:0.7;stroke:#4575b4;stroke-opacity:0.7;stroke-width:0.3;\" x=\"128.718125\" y=\"54.232993\" xlink:href=\"#m0118f0fb57\" />\n     <use style=\"fill:#4575b4;fill-opacity:0.7;stroke:#4575b4;stroke-opacity:0.7;stroke-width:0.3;\" x=\"144.218125\" y=\"51.508041\" xlink:href=\"#m0118f0fb57\" />\n     <use style=\"fill:#4575b4;fill-opacity:0.7;stroke:#4575b4;stroke-opacity:0.7;stroke-width:0.3;\" x=\"144.218125\" y=\"47.549606\" xlink:href=\"#m0118f0fb57\" />\n     <use style=\"fill:#4575b4;fill-opacity:0.7;stroke:#4575b4;stroke-opacity:0.7;stroke-width:0.3;\" x=\"113.218125\" y=\"50.12138\" xlink:href=\"#m0118f0fb57\" />\n     <use style=\"fill:#4575b4;fill-opacity:0.7;stroke:#4575b4;stroke-opacity:0.7;stroke-width:0.3;\" x=\"128.718125\" y=\"47.807589\" xlink:href=\"#m0118f0fb57\" />\n     <use style=\"fill:#4575b4;fill-opacity:0.7;stroke:#4575b4;stroke-opacity:0.7;stroke-width:0.3;\" x=\"113.218125\" y=\"54.797332\" xlink:href=\"#m0118f0fb57\" />\n     <use style=\"fill:#4575b4;fill-opacity:0.7;stroke:#4575b4;stroke-opacity:0.7;stroke-width:0.3;\" x=\"128.718125\" y=\"42.583422\" xlink:href=\"#m0118f0fb57\" />\n     <use style=\"fill:#4575b4;fill-opacity:0.7;stroke:#4575b4;stroke-opacity:0.7;stroke-width:0.3;\" x=\"144.218125\" y=\"49.7989\" xlink:href=\"#m0118f0fb57\" />\n     <use style=\"fill:#4575b4;fill-opacity:0.7;stroke:#4575b4;stroke-opacity:0.7;stroke-width:0.3;\" x=\"113.218125\" y=\"52.378736\" xlink:href=\"#m0118f0fb57\" />\n     <use style=\"fill:#4575b4;fill-opacity:0.7;stroke:#4575b4;stroke-opacity:0.7;stroke-width:0.3;\" x=\"159.718125\" y=\"45.203567\" xlink:href=\"#m0118f0fb57\" />\n     <use style=\"fill:#4575b4;fill-opacity:0.7;stroke:#4575b4;stroke-opacity:0.7;stroke-width:0.3;\" x=\"128.718125\" y=\"49.59735\" xlink:href=\"#m0118f0fb57\" />\n     <use style=\"fill:#4575b4;fill-opacity:0.7;stroke:#4575b4;stroke-opacity:0.7;stroke-width:0.3;\" x=\"128.718125\" y=\"52.298116\" xlink:href=\"#m0118f0fb57\" />\n     <use style=\"fill:#4575b4;fill-opacity:0.7;stroke:#4575b4;stroke-opacity:0.7;stroke-width:0.3;\" x=\"128.718125\" y=\"48.589602\" xlink:href=\"#m0118f0fb57\" />\n     <use style=\"fill:#4575b4;fill-opacity:0.7;stroke:#4575b4;stroke-opacity:0.7;stroke-width:0.3;\" x=\"128.718125\" y=\"44.236129\" xlink:href=\"#m0118f0fb57\" />\n     <use style=\"fill:#4575b4;fill-opacity:0.7;stroke:#4575b4;stroke-opacity:0.7;stroke-width:0.3;\" x=\"144.218125\" y=\"42.359298\" xlink:href=\"#m0118f0fb57\" />\n     <use style=\"fill:#4575b4;fill-opacity:0.7;stroke:#4575b4;stroke-opacity:0.7;stroke-width:0.3;\" x=\"128.718125\" y=\"50.927578\" xlink:href=\"#m0118f0fb57\" />\n     <use style=\"fill:#4575b4;fill-opacity:0.7;stroke:#4575b4;stroke-opacity:0.7;stroke-width:0.3;\" x=\"113.218125\" y=\"51.250058\" xlink:href=\"#m0118f0fb57\" />\n     <use style=\"fill:#4575b4;fill-opacity:0.7;stroke:#4575b4;stroke-opacity:0.7;stroke-width:0.3;\" x=\"144.218125\" y=\"48.517044\" xlink:href=\"#m0118f0fb57\" />\n     <use style=\"fill:#4575b4;fill-opacity:0.7;stroke:#4575b4;stroke-opacity:0.7;stroke-width:0.3;\" x=\"175.218125\" y=\"32.868727\" xlink:href=\"#m0118f0fb57\" />\n     <use style=\"fill:#4575b4;fill-opacity:0.7;stroke:#4575b4;stroke-opacity:0.7;stroke-width:0.3;\" x=\"144.218125\" y=\"38.391188\" xlink:href=\"#m0118f0fb57\" />\n     <use style=\"fill:#4575b4;fill-opacity:0.7;stroke:#4575b4;stroke-opacity:0.7;stroke-width:0.3;\" x=\"175.218125\" y=\"33.604142\" xlink:href=\"#m0118f0fb57\" />\n     <use style=\"fill:#4575b4;fill-opacity:0.7;stroke:#4575b4;stroke-opacity:0.7;stroke-width:0.3;\" x=\"113.218125\" y=\"55.039192\" xlink:href=\"#m0118f0fb57\" />\n     <use style=\"fill:#4575b4;fill-opacity:0.7;stroke:#4575b4;stroke-opacity:0.7;stroke-width:0.3;\" x=\"97.718125\" y=\"53.628344\" xlink:href=\"#m0118f0fb57\" />\n     <use style=\"fill:#4575b4;fill-opacity:0.7;stroke:#4575b4;stroke-opacity:0.7;stroke-width:0.3;\" x=\"128.718125\" y=\"51.975637\" xlink:href=\"#m0118f0fb57\" />\n     <use style=\"fill:#4575b4;fill-opacity:0.7;stroke:#4575b4;stroke-opacity:0.7;stroke-width:0.3;\" x=\"144.218125\" y=\"43.34931\" xlink:href=\"#m0118f0fb57\" />\n     <use style=\"fill:#4575b4;fill-opacity:0.7;stroke:#4575b4;stroke-opacity:0.7;stroke-width:0.3;\" x=\"128.718125\" y=\"52.217496\" xlink:href=\"#m0118f0fb57\" />\n     <use style=\"fill:#4575b4;fill-opacity:0.7;stroke:#4575b4;stroke-opacity:0.7;stroke-width:0.3;\" x=\"113.218125\" y=\"49.59735\" xlink:href=\"#m0118f0fb57\" />\n     <use style=\"fill:#4575b4;fill-opacity:0.7;stroke:#4575b4;stroke-opacity:0.7;stroke-width:0.3;\" x=\"144.218125\" y=\"42.301252\" xlink:href=\"#m0118f0fb57\" />\n     <use style=\"fill:#4575b4;fill-opacity:0.7;stroke:#4575b4;stroke-opacity:0.7;stroke-width:0.3;\" x=\"97.718125\" y=\"51.572537\" xlink:href=\"#m0118f0fb57\" />\n     <use style=\"fill:#4575b4;fill-opacity:0.7;stroke:#4575b4;stroke-opacity:0.7;stroke-width:0.3;\" x=\"113.218125\" y=\"54.958572\" xlink:href=\"#m0118f0fb57\" />\n     <use style=\"fill:#4575b4;fill-opacity:0.7;stroke:#4575b4;stroke-opacity:0.7;stroke-width:0.3;\" x=\"113.218125\" y=\"51.822459\" xlink:href=\"#m0118f0fb57\" />\n     <use style=\"fill:#4575b4;fill-opacity:0.7;stroke:#4575b4;stroke-opacity:0.7;stroke-width:0.3;\" x=\"128.718125\" y=\"48.912081\" xlink:href=\"#m0118f0fb57\" />\n     <use style=\"fill:#4575b4;fill-opacity:0.7;stroke:#4575b4;stroke-opacity:0.7;stroke-width:0.3;\" x=\"128.718125\" y=\"50.282619\" xlink:href=\"#m0118f0fb57\" />\n     <use style=\"fill:#4575b4;fill-opacity:0.7;stroke:#4575b4;stroke-opacity:0.7;stroke-width:0.3;\" x=\"128.718125\" y=\"52.822145\" xlink:href=\"#m0118f0fb57\" />\n     <use style=\"fill:#4575b4;fill-opacity:0.7;stroke:#4575b4;stroke-opacity:0.7;stroke-width:0.3;\" x=\"144.218125\" y=\"46.171006\" xlink:href=\"#m0118f0fb57\" />\n     <use style=\"fill:#4575b4;fill-opacity:0.7;stroke:#4575b4;stroke-opacity:0.7;stroke-width:0.3;\" x=\"113.218125\" y=\"52.136876\" xlink:href=\"#m0118f0fb57\" />\n     <use style=\"fill:#4575b4;fill-opacity:0.7;stroke:#4575b4;stroke-opacity:0.7;stroke-width:0.3;\" x=\"128.718125\" y=\"49.476421\" xlink:href=\"#m0118f0fb57\" />\n     <use style=\"fill:#4575b4;fill-opacity:0.7;stroke:#4575b4;stroke-opacity:0.7;stroke-width:0.3;\" x=\"144.218125\" y=\"48.952391\" xlink:href=\"#m0118f0fb57\" />\n     <use style=\"fill:#4575b4;fill-opacity:0.7;stroke:#4575b4;stroke-opacity:0.7;stroke-width:0.3;\" x=\"128.718125\" y=\"44.558608\" xlink:href=\"#m0118f0fb57\" />\n     <use style=\"fill:#4575b4;fill-opacity:0.7;stroke:#4575b4;stroke-opacity:0.7;stroke-width:0.3;\" x=\"66.718125\" y=\"60.65751\" xlink:href=\"#m0118f0fb57\" />\n     <use style=\"fill:#4575b4;fill-opacity:0.7;stroke:#4575b4;stroke-opacity:0.7;stroke-width:0.3;\" x=\"113.218125\" y=\"52.459356\" xlink:href=\"#m0118f0fb57\" />\n     <use style=\"fill:#4575b4;fill-opacity:0.7;stroke:#4575b4;stroke-opacity:0.7;stroke-width:0.3;\" x=\"113.218125\" y=\"53.596096\" xlink:href=\"#m0118f0fb57\" />\n     <use style=\"fill:#4575b4;fill-opacity:0.7;stroke:#4575b4;stroke-opacity:0.7;stroke-width:0.3;\" x=\"128.718125\" y=\"53.789584\" xlink:href=\"#m0118f0fb57\" />\n     <use style=\"fill:#4575b4;fill-opacity:0.7;stroke:#4575b4;stroke-opacity:0.7;stroke-width:0.3;\" x=\"113.218125\" y=\"52.862455\" xlink:href=\"#m0118f0fb57\" />\n     <use style=\"fill:#4575b4;fill-opacity:0.7;stroke:#4575b4;stroke-opacity:0.7;stroke-width:0.3;\" x=\"113.218125\" y=\"51.814397\" xlink:href=\"#m0118f0fb57\" />\n     <use style=\"fill:#4575b4;fill-opacity:0.7;stroke:#4575b4;stroke-opacity:0.7;stroke-width:0.3;\" x=\"128.718125\" y=\"47.380304\" xlink:href=\"#m0118f0fb57\" />\n     <use style=\"fill:#4575b4;fill-opacity:0.7;stroke:#4575b4;stroke-opacity:0.7;stroke-width:0.3;\" x=\"159.718125\" y=\"40.527615\" xlink:href=\"#m0118f0fb57\" />\n     <use style=\"fill:#4575b4;fill-opacity:0.7;stroke:#4575b4;stroke-opacity:0.7;stroke-width:0.3;\" x=\"113.218125\" y=\"51.774087\" xlink:href=\"#m0118f0fb57\" />\n     <use style=\"fill:#4575b4;fill-opacity:0.7;stroke:#4575b4;stroke-opacity:0.7;stroke-width:0.3;\" x=\"97.718125\" y=\"53.789584\" xlink:href=\"#m0118f0fb57\" />\n     <use style=\"fill:#4575b4;fill-opacity:0.7;stroke:#4575b4;stroke-opacity:0.7;stroke-width:0.3;\" x=\"144.218125\" y=\"44.961708\" xlink:href=\"#m0118f0fb57\" />\n     <use style=\"fill:#4575b4;fill-opacity:0.7;stroke:#4575b4;stroke-opacity:0.7;stroke-width:0.3;\" x=\"82.218125\" y=\"57.659337\" xlink:href=\"#m0118f0fb57\" />\n     <use style=\"fill:#4575b4;fill-opacity:0.7;stroke:#4575b4;stroke-opacity:0.7;stroke-width:0.3;\" x=\"159.718125\" y=\"44.397369\" xlink:href=\"#m0118f0fb57\" />\n     <use style=\"fill:#4575b4;fill-opacity:0.7;stroke:#4575b4;stroke-opacity:0.7;stroke-width:0.3;\" x=\"113.218125\" y=\"55.281051\" xlink:href=\"#m0118f0fb57\" />\n     <use style=\"fill:#4575b4;fill-opacity:0.7;stroke:#4575b4;stroke-opacity:0.7;stroke-width:0.3;\" x=\"97.718125\" y=\"57.989879\" xlink:href=\"#m0118f0fb57\" />\n     <use style=\"fill:#4575b4;fill-opacity:0.7;stroke:#4575b4;stroke-opacity:0.7;stroke-width:0.3;\" x=\"128.718125\" y=\"49.153941\" xlink:href=\"#m0118f0fb57\" />\n     <use style=\"fill:#4575b4;fill-opacity:0.7;stroke:#4575b4;stroke-opacity:0.7;stroke-width:0.3;\" x=\"175.218125\" y=\"38.270259\" xlink:href=\"#m0118f0fb57\" />\n     <use style=\"fill:#4575b4;fill-opacity:0.7;stroke:#4575b4;stroke-opacity:0.7;stroke-width:0.3;\" x=\"113.218125\" y=\"51.653157\" xlink:href=\"#m0118f0fb57\" />\n     <use style=\"fill:#4575b4;fill-opacity:0.7;stroke:#4575b4;stroke-opacity:0.7;stroke-width:0.3;\" x=\"113.218125\" y=\"52.217496\" xlink:href=\"#m0118f0fb57\" />\n     <use style=\"fill:#4575b4;fill-opacity:0.7;stroke:#4575b4;stroke-opacity:0.7;stroke-width:0.3;\" x=\"159.718125\" y=\"48.992701\" xlink:href=\"#m0118f0fb57\" />\n     <use style=\"fill:#4575b4;fill-opacity:0.7;stroke:#4575b4;stroke-opacity:0.7;stroke-width:0.3;\" x=\"144.218125\" y=\"50.940881\" xlink:href=\"#m0118f0fb57\" />\n     <use style=\"fill:#4575b4;fill-opacity:0.7;stroke:#4575b4;stroke-opacity:0.7;stroke-width:0.3;\" x=\"113.218125\" y=\"51.814397\" xlink:href=\"#m0118f0fb57\" />\n     <use style=\"fill:#4575b4;fill-opacity:0.7;stroke:#4575b4;stroke-opacity:0.7;stroke-width:0.3;\" x=\"144.218125\" y=\"48.186503\" xlink:href=\"#m0118f0fb57\" />\n     <use style=\"fill:#4575b4;fill-opacity:0.7;stroke:#4575b4;stroke-opacity:0.7;stroke-width:0.3;\" x=\"113.218125\" y=\"51.653157\" xlink:href=\"#m0118f0fb57\" />\n     <use style=\"fill:#4575b4;fill-opacity:0.7;stroke:#4575b4;stroke-opacity:0.7;stroke-width:0.3;\" x=\"113.218125\" y=\"53.225245\" xlink:href=\"#m0118f0fb57\" />\n     <use style=\"fill:#4575b4;fill-opacity:0.7;stroke:#4575b4;stroke-opacity:0.7;stroke-width:0.3;\" x=\"113.218125\" y=\"51.814397\" xlink:href=\"#m0118f0fb57\" />\n     <use style=\"fill:#4575b4;fill-opacity:0.7;stroke:#4575b4;stroke-opacity:0.7;stroke-width:0.3;\" x=\"128.718125\" y=\"53.507414\" xlink:href=\"#m0118f0fb57\" />\n     <use style=\"fill:#4575b4;fill-opacity:0.7;stroke:#4575b4;stroke-opacity:0.7;stroke-width:0.3;\" x=\"144.218125\" y=\"48.267122\" xlink:href=\"#m0118f0fb57\" />\n     <use style=\"fill:#4575b4;fill-opacity:0.7;stroke:#4575b4;stroke-opacity:0.7;stroke-width:0.3;\" x=\"113.218125\" y=\"53.064005\" xlink:href=\"#m0118f0fb57\" />\n     <use style=\"fill:#4575b4;fill-opacity:0.7;stroke:#4575b4;stroke-opacity:0.7;stroke-width:0.3;\" x=\"113.218125\" y=\"51.935327\" xlink:href=\"#m0118f0fb57\" />\n     <use style=\"fill:#4575b4;fill-opacity:0.7;stroke:#4575b4;stroke-opacity:0.7;stroke-width:0.3;\" x=\"144.218125\" y=\"45.767907\" xlink:href=\"#m0118f0fb57\" />\n     <use style=\"fill:#4575b4;fill-opacity:0.7;stroke:#4575b4;stroke-opacity:0.7;stroke-width:0.3;\" x=\"144.218125\" y=\"41.333814\" xlink:href=\"#m0118f0fb57\" />\n     <use style=\"fill:#4575b4;fill-opacity:0.7;stroke:#4575b4;stroke-opacity:0.7;stroke-width:0.3;\" x=\"128.718125\" y=\"52.862455\" xlink:href=\"#m0118f0fb57\" />\n     <use style=\"fill:#4575b4;fill-opacity:0.7;stroke:#4575b4;stroke-opacity:0.7;stroke-width:0.3;\" x=\"97.718125\" y=\"55.21849\" xlink:href=\"#m0118f0fb57\" />\n     <use style=\"fill:#4575b4;fill-opacity:0.7;stroke:#4575b4;stroke-opacity:0.7;stroke-width:0.3;\" x=\"97.718125\" y=\"54.938417\" xlink:href=\"#m0118f0fb57\" />\n     <use style=\"fill:#4575b4;fill-opacity:0.7;stroke:#4575b4;stroke-opacity:0.7;stroke-width:0.3;\" x=\"113.218125\" y=\"54.837642\" xlink:href=\"#m0118f0fb57\" />\n     <use style=\"fill:#4575b4;fill-opacity:0.7;stroke:#4575b4;stroke-opacity:0.7;stroke-width:0.3;\" x=\"144.218125\" y=\"40.930714\" xlink:href=\"#m0118f0fb57\" />\n     <use style=\"fill:#4575b4;fill-opacity:0.7;stroke:#4575b4;stroke-opacity:0.7;stroke-width:0.3;\" x=\"144.218125\" y=\"46.340308\" xlink:href=\"#m0118f0fb57\" />\n     <use style=\"fill:#4575b4;fill-opacity:0.7;stroke:#4575b4;stroke-opacity:0.7;stroke-width:0.3;\" x=\"82.218125\" y=\"56.450039\" xlink:href=\"#m0118f0fb57\" />\n     <use style=\"fill:#4575b4;fill-opacity:0.7;stroke:#4575b4;stroke-opacity:0.7;stroke-width:0.3;\" x=\"128.718125\" y=\"49.87952\" xlink:href=\"#m0118f0fb57\" />\n     <use style=\"fill:#4575b4;fill-opacity:0.7;stroke:#4575b4;stroke-opacity:0.7;stroke-width:0.3;\" x=\"113.218125\" y=\"52.620596\" xlink:href=\"#m0118f0fb57\" />\n     <use style=\"fill:#4575b4;fill-opacity:0.7;stroke:#4575b4;stroke-opacity:0.7;stroke-width:0.3;\" x=\"113.218125\" y=\"50.161689\" xlink:href=\"#m0118f0fb57\" />\n     <use style=\"fill:#4575b4;fill-opacity:0.7;stroke:#4575b4;stroke-opacity:0.7;stroke-width:0.3;\" x=\"144.218125\" y=\"50.371301\" xlink:href=\"#m0118f0fb57\" />\n     <use style=\"fill:#4575b4;fill-opacity:0.7;stroke:#4575b4;stroke-opacity:0.7;stroke-width:0.3;\" x=\"144.218125\" y=\"46.977205\" xlink:href=\"#m0118f0fb57\" />\n     <use style=\"fill:#4575b4;fill-opacity:0.7;stroke:#4575b4;stroke-opacity:0.7;stroke-width:0.3;\" x=\"128.718125\" y=\"53.910513\" xlink:href=\"#m0118f0fb57\" />\n     <use style=\"fill:#4575b4;fill-opacity:0.7;stroke:#4575b4;stroke-opacity:0.7;stroke-width:0.3;\" x=\"128.718125\" y=\"49.315181\" xlink:href=\"#m0118f0fb57\" />\n     <use style=\"fill:#4575b4;fill-opacity:0.7;stroke:#4575b4;stroke-opacity:0.7;stroke-width:0.3;\" x=\"128.718125\" y=\"49.355491\" xlink:href=\"#m0118f0fb57\" />\n     <use style=\"fill:#4575b4;fill-opacity:0.7;stroke:#4575b4;stroke-opacity:0.7;stroke-width:0.3;\" x=\"113.218125\" y=\"49.83921\" xlink:href=\"#m0118f0fb57\" />\n     <use style=\"fill:#4575b4;fill-opacity:0.7;stroke:#4575b4;stroke-opacity:0.7;stroke-width:0.3;\" x=\"113.218125\" y=\"53.991133\" xlink:href=\"#m0118f0fb57\" />\n     <use style=\"fill:#4575b4;fill-opacity:0.7;stroke:#4575b4;stroke-opacity:0.7;stroke-width:0.3;\" x=\"97.718125\" y=\"55.184307\" xlink:href=\"#m0118f0fb57\" />\n     <use style=\"fill:#4575b4;fill-opacity:0.7;stroke:#4575b4;stroke-opacity:0.7;stroke-width:0.3;\" x=\"144.218125\" y=\"45.405117\" xlink:href=\"#m0118f0fb57\" />\n     <use style=\"fill:#4575b4;fill-opacity:0.7;stroke:#4575b4;stroke-opacity:0.7;stroke-width:0.3;\" x=\"113.218125\" y=\"53.708964\" xlink:href=\"#m0118f0fb57\" />\n     <use style=\"fill:#4575b4;fill-opacity:0.7;stroke:#4575b4;stroke-opacity:0.7;stroke-width:0.3;\" x=\"113.218125\" y=\"53.426794\" xlink:href=\"#m0118f0fb57\" />\n     <use style=\"fill:#4575b4;fill-opacity:0.7;stroke:#4575b4;stroke-opacity:0.7;stroke-width:0.3;\" x=\"113.218125\" y=\"51.612847\" xlink:href=\"#m0118f0fb57\" />\n     <use style=\"fill:#4575b4;fill-opacity:0.7;stroke:#4575b4;stroke-opacity:0.7;stroke-width:0.3;\" x=\"128.718125\" y=\"49.057197\" xlink:href=\"#m0118f0fb57\" />\n     <use style=\"fill:#4575b4;fill-opacity:0.7;stroke:#4575b4;stroke-opacity:0.7;stroke-width:0.3;\" x=\"113.218125\" y=\"53.023695\" xlink:href=\"#m0118f0fb57\" />\n     <use style=\"fill:#4575b4;fill-opacity:0.7;stroke:#4575b4;stroke-opacity:0.7;stroke-width:0.3;\" x=\"128.718125\" y=\"50.443859\" xlink:href=\"#m0118f0fb57\" />\n     <use style=\"fill:#4575b4;fill-opacity:0.7;stroke:#4575b4;stroke-opacity:0.7;stroke-width:0.3;\" x=\"144.218125\" y=\"46.815965\" xlink:href=\"#m0118f0fb57\" />\n     <use style=\"fill:#4575b4;fill-opacity:0.7;stroke:#4575b4;stroke-opacity:0.7;stroke-width:0.3;\" x=\"128.718125\" y=\"50.766338\" xlink:href=\"#m0118f0fb57\" />\n     <use style=\"fill:#4575b4;fill-opacity:0.7;stroke:#4575b4;stroke-opacity:0.7;stroke-width:0.3;\" x=\"144.218125\" y=\"45.042328\" xlink:href=\"#m0118f0fb57\" />\n     <use style=\"fill:#4575b4;fill-opacity:0.7;stroke:#4575b4;stroke-opacity:0.7;stroke-width:0.3;\" x=\"128.718125\" y=\"51.814397\" xlink:href=\"#m0118f0fb57\" />\n     <use style=\"fill:#4575b4;fill-opacity:0.7;stroke:#4575b4;stroke-opacity:0.7;stroke-width:0.3;\" x=\"144.218125\" y=\"41.172574\" xlink:href=\"#m0118f0fb57\" />\n     <use style=\"fill:#4575b4;fill-opacity:0.7;stroke:#4575b4;stroke-opacity:0.7;stroke-width:0.3;\" x=\"175.218125\" y=\"34.481125\" xlink:href=\"#m0118f0fb57\" />\n     <use style=\"fill:#4575b4;fill-opacity:0.7;stroke:#4575b4;stroke-opacity:0.7;stroke-width:0.3;\" x=\"97.718125\" y=\"56.974069\" xlink:href=\"#m0118f0fb57\" />\n     <use style=\"fill:#4575b4;fill-opacity:0.7;stroke:#4575b4;stroke-opacity:0.7;stroke-width:0.3;\" x=\"128.718125\" y=\"50.645409\" xlink:href=\"#m0118f0fb57\" />\n     <use style=\"fill:#4575b4;fill-opacity:0.7;stroke:#4575b4;stroke-opacity:0.7;stroke-width:0.3;\" x=\"190.718125\" y=\"2.636276\" xlink:href=\"#m0118f0fb57\" />\n     <use style=\"fill:#4575b4;fill-opacity:0.7;stroke:#4575b4;stroke-opacity:0.7;stroke-width:0.3;\" x=\"159.718125\" y=\"46.171006\" xlink:href=\"#m0118f0fb57\" />\n     <use style=\"fill:#4575b4;fill-opacity:0.7;stroke:#4575b4;stroke-opacity:0.7;stroke-width:0.3;\" x=\"159.718125\" y=\"39.038002\" xlink:href=\"#m0118f0fb57\" />\n     <use style=\"fill:#4575b4;fill-opacity:0.7;stroke:#4575b4;stroke-opacity:0.7;stroke-width:0.3;\" x=\"113.218125\" y=\"52.298116\" xlink:href=\"#m0118f0fb57\" />\n     <use style=\"fill:#4575b4;fill-opacity:0.7;stroke:#4575b4;stroke-opacity:0.7;stroke-width:0.3;\" x=\"97.718125\" y=\"56.853139\" xlink:href=\"#m0118f0fb57\" />\n     <use style=\"fill:#4575b4;fill-opacity:0.7;stroke:#4575b4;stroke-opacity:0.7;stroke-width:0.3;\" x=\"128.718125\" y=\"54.877952\" xlink:href=\"#m0118f0fb57\" />\n     <use style=\"fill:#4575b4;fill-opacity:0.7;stroke:#4575b4;stroke-opacity:0.7;stroke-width:0.3;\" x=\"159.718125\" y=\"43.083829\" xlink:href=\"#m0118f0fb57\" />\n     <use style=\"fill:#4575b4;fill-opacity:0.7;stroke:#4575b4;stroke-opacity:0.7;stroke-width:0.3;\" x=\"113.218125\" y=\"52.298116\" xlink:href=\"#m0118f0fb57\" />\n     <use style=\"fill:#4575b4;fill-opacity:0.7;stroke:#4575b4;stroke-opacity:0.7;stroke-width:0.3;\" x=\"113.218125\" y=\"49.7989\" xlink:href=\"#m0118f0fb57\" />\n     <use style=\"fill:#4575b4;fill-opacity:0.7;stroke:#4575b4;stroke-opacity:0.7;stroke-width:0.3;\" x=\"128.718125\" y=\"48.871772\" xlink:href=\"#m0118f0fb57\" />\n     <use style=\"fill:#4575b4;fill-opacity:0.7;stroke:#4575b4;stroke-opacity:0.7;stroke-width:0.3;\" x=\"190.718125\" y=\"25.209839\" xlink:href=\"#m0118f0fb57\" />\n     <use style=\"fill:#4575b4;fill-opacity:0.7;stroke:#4575b4;stroke-opacity:0.7;stroke-width:0.3;\" x=\"144.218125\" y=\"48.105883\" xlink:href=\"#m0118f0fb57\" />\n     <use style=\"fill:#4575b4;fill-opacity:0.7;stroke:#4575b4;stroke-opacity:0.7;stroke-width:0.3;\" x=\"113.218125\" y=\"52.217496\" xlink:href=\"#m0118f0fb57\" />\n     <use style=\"fill:#4575b4;fill-opacity:0.7;stroke:#4575b4;stroke-opacity:0.7;stroke-width:0.3;\" x=\"144.218125\" y=\"44.074889\" xlink:href=\"#m0118f0fb57\" />\n     <use style=\"fill:#4575b4;fill-opacity:0.7;stroke:#4575b4;stroke-opacity:0.7;stroke-width:0.3;\" x=\"97.718125\" y=\"52.8423\" xlink:href=\"#m0118f0fb57\" />\n     <use style=\"fill:#4575b4;fill-opacity:0.7;stroke:#4575b4;stroke-opacity:0.7;stroke-width:0.3;\" x=\"128.718125\" y=\"56.2888\" xlink:href=\"#m0118f0fb57\" />\n     <use style=\"fill:#4575b4;fill-opacity:0.7;stroke:#4575b4;stroke-opacity:0.7;stroke-width:0.3;\" x=\"113.218125\" y=\"52.217496\" xlink:href=\"#m0118f0fb57\" />\n     <use style=\"fill:#4575b4;fill-opacity:0.7;stroke:#4575b4;stroke-opacity:0.7;stroke-width:0.3;\" x=\"82.218125\" y=\"57.336858\" xlink:href=\"#m0118f0fb57\" />\n     <use style=\"fill:#4575b4;fill-opacity:0.7;stroke:#4575b4;stroke-opacity:0.7;stroke-width:0.3;\" x=\"113.218125\" y=\"53.628344\" xlink:href=\"#m0118f0fb57\" />\n     <use style=\"fill:#4575b4;fill-opacity:0.7;stroke:#4575b4;stroke-opacity:0.7;stroke-width:0.3;\" x=\"128.718125\" y=\"48.291308\" xlink:href=\"#m0118f0fb57\" />\n     <use style=\"fill:#4575b4;fill-opacity:0.7;stroke:#4575b4;stroke-opacity:0.7;stroke-width:0.3;\" x=\"113.218125\" y=\"50.766338\" xlink:href=\"#m0118f0fb57\" />\n     <use style=\"fill:#4575b4;fill-opacity:0.7;stroke:#4575b4;stroke-opacity:0.7;stroke-width:0.3;\" x=\"128.718125\" y=\"52.620596\" xlink:href=\"#m0118f0fb57\" />\n     <use style=\"fill:#4575b4;fill-opacity:0.7;stroke:#4575b4;stroke-opacity:0.7;stroke-width:0.3;\" x=\"128.718125\" y=\"46.815965\" xlink:href=\"#m0118f0fb57\" />\n     <use style=\"fill:#4575b4;fill-opacity:0.7;stroke:#4575b4;stroke-opacity:0.7;stroke-width:0.3;\" x=\"128.718125\" y=\"42.744661\" xlink:href=\"#m0118f0fb57\" />\n     <use style=\"fill:#4575b4;fill-opacity:0.7;stroke:#4575b4;stroke-opacity:0.7;stroke-width:0.3;\" x=\"97.718125\" y=\"60.690645\" xlink:href=\"#m0118f0fb57\" />\n     <use style=\"fill:#4575b4;fill-opacity:0.7;stroke:#4575b4;stroke-opacity:0.7;stroke-width:0.3;\" x=\"144.218125\" y=\"48.267122\" xlink:href=\"#m0118f0fb57\" />\n     <use style=\"fill:#4575b4;fill-opacity:0.7;stroke:#4575b4;stroke-opacity:0.7;stroke-width:0.3;\" x=\"159.718125\" y=\"41.091954\" xlink:href=\"#m0118f0fb57\" />\n     <use style=\"fill:#4575b4;fill-opacity:0.7;stroke:#4575b4;stroke-opacity:0.7;stroke-width:0.3;\" x=\"97.718125\" y=\"54.555472\" xlink:href=\"#m0118f0fb57\" />\n     <use style=\"fill:#4575b4;fill-opacity:0.7;stroke:#4575b4;stroke-opacity:0.7;stroke-width:0.3;\" x=\"128.718125\" y=\"46.171006\" xlink:href=\"#m0118f0fb57\" />\n     <use style=\"fill:#4575b4;fill-opacity:0.7;stroke:#4575b4;stroke-opacity:0.7;stroke-width:0.3;\" x=\"97.718125\" y=\"42.865591\" xlink:href=\"#m0118f0fb57\" />\n     <use style=\"fill:#4575b4;fill-opacity:0.7;stroke:#4575b4;stroke-opacity:0.7;stroke-width:0.3;\" x=\"97.718125\" y=\"57.981817\" xlink:href=\"#m0118f0fb57\" />\n     <use style=\"fill:#4575b4;fill-opacity:0.7;stroke:#4575b4;stroke-opacity:0.7;stroke-width:0.3;\" x=\"128.718125\" y=\"49.91983\" xlink:href=\"#m0118f0fb57\" />\n     <use style=\"fill:#4575b4;fill-opacity:0.7;stroke:#4575b4;stroke-opacity:0.7;stroke-width:0.3;\" x=\"128.718125\" y=\"51.290368\" xlink:href=\"#m0118f0fb57\" />\n     <use style=\"fill:#4575b4;fill-opacity:0.7;stroke:#4575b4;stroke-opacity:0.7;stroke-width:0.3;\" x=\"113.218125\" y=\"51.008198\" xlink:href=\"#m0118f0fb57\" />\n     <use style=\"fill:#4575b4;fill-opacity:0.7;stroke:#4575b4;stroke-opacity:0.7;stroke-width:0.3;\" x=\"159.718125\" y=\"34.553682\" xlink:href=\"#m0118f0fb57\" />\n     <use style=\"fill:#4575b4;fill-opacity:0.7;stroke:#4575b4;stroke-opacity:0.7;stroke-width:0.3;\" x=\"113.218125\" y=\"53.507414\" xlink:href=\"#m0118f0fb57\" />\n     <use style=\"fill:#4575b4;fill-opacity:0.7;stroke:#4575b4;stroke-opacity:0.7;stroke-width:0.3;\" x=\"144.218125\" y=\"40.930714\" xlink:href=\"#m0118f0fb57\" />\n     <use style=\"fill:#4575b4;fill-opacity:0.7;stroke:#4575b4;stroke-opacity:0.7;stroke-width:0.3;\" x=\"128.718125\" y=\"52.217496\" xlink:href=\"#m0118f0fb57\" />\n     <use style=\"fill:#4575b4;fill-opacity:0.7;stroke:#4575b4;stroke-opacity:0.7;stroke-width:0.3;\" x=\"113.218125\" y=\"52.459356\" xlink:href=\"#m0118f0fb57\" />\n     <use style=\"fill:#4575b4;fill-opacity:0.7;stroke:#4575b4;stroke-opacity:0.7;stroke-width:0.3;\" x=\"113.218125\" y=\"45.929146\" xlink:href=\"#m0118f0fb57\" />\n     <use style=\"fill:#4575b4;fill-opacity:0.7;stroke:#4575b4;stroke-opacity:0.7;stroke-width:0.3;\" x=\"113.218125\" y=\"51.814397\" xlink:href=\"#m0118f0fb57\" />\n     <use style=\"fill:#4575b4;fill-opacity:0.7;stroke:#4575b4;stroke-opacity:0.7;stroke-width:0.3;\" x=\"128.718125\" y=\"46.574105\" xlink:href=\"#m0118f0fb57\" />\n     <use style=\"fill:#4575b4;fill-opacity:0.7;stroke:#4575b4;stroke-opacity:0.7;stroke-width:0.3;\" x=\"144.218125\" y=\"41.583735\" xlink:href=\"#m0118f0fb57\" />\n     <use style=\"fill:#4575b4;fill-opacity:0.7;stroke:#4575b4;stroke-opacity:0.7;stroke-width:0.3;\" x=\"159.718125\" y=\"43.724193\" xlink:href=\"#m0118f0fb57\" />\n     <use style=\"fill:#4575b4;fill-opacity:0.7;stroke:#4575b4;stroke-opacity:0.7;stroke-width:0.3;\" x=\"144.218125\" y=\"49.7989\" xlink:href=\"#m0118f0fb57\" />\n     <use style=\"fill:#4575b4;fill-opacity:0.7;stroke:#4575b4;stroke-opacity:0.7;stroke-width:0.3;\" x=\"159.718125\" y=\"29.251314\" xlink:href=\"#m0118f0fb57\" />\n     <use style=\"fill:#4575b4;fill-opacity:0.7;stroke:#4575b4;stroke-opacity:0.7;stroke-width:0.3;\" x=\"128.718125\" y=\"50.685719\" xlink:href=\"#m0118f0fb57\" />\n     <use style=\"fill:#4575b4;fill-opacity:0.7;stroke:#4575b4;stroke-opacity:0.7;stroke-width:0.3;\" x=\"113.218125\" y=\"52.943075\" xlink:href=\"#m0118f0fb57\" />\n     <use style=\"fill:#4575b4;fill-opacity:0.7;stroke:#4575b4;stroke-opacity:0.7;stroke-width:0.3;\" x=\"144.218125\" y=\"47.138444\" xlink:href=\"#m0118f0fb57\" />\n     <use style=\"fill:#4575b4;fill-opacity:0.7;stroke:#4575b4;stroke-opacity:0.7;stroke-width:0.3;\" x=\"159.718125\" y=\"47.178754\" xlink:href=\"#m0118f0fb57\" />\n     <use style=\"fill:#4575b4;fill-opacity:0.7;stroke:#4575b4;stroke-opacity:0.7;stroke-width:0.3;\" x=\"159.718125\" y=\"40.651528\" xlink:href=\"#m0118f0fb57\" />\n     <use style=\"fill:#4575b4;fill-opacity:0.7;stroke:#4575b4;stroke-opacity:0.7;stroke-width:0.3;\" x=\"128.718125\" y=\"48.589602\" xlink:href=\"#m0118f0fb57\" />\n     <use style=\"fill:#4575b4;fill-opacity:0.7;stroke:#4575b4;stroke-opacity:0.7;stroke-width:0.3;\" x=\"144.218125\" y=\"43.34931\" xlink:href=\"#m0118f0fb57\" />\n     <use style=\"fill:#4575b4;fill-opacity:0.7;stroke:#4575b4;stroke-opacity:0.7;stroke-width:0.3;\" x=\"128.718125\" y=\"47.944643\" xlink:href=\"#m0118f0fb57\" />\n     <use style=\"fill:#4575b4;fill-opacity:0.7;stroke:#4575b4;stroke-opacity:0.7;stroke-width:0.3;\" x=\"113.218125\" y=\"54.837642\" xlink:href=\"#m0118f0fb57\" />\n     <use style=\"fill:#4575b4;fill-opacity:0.7;stroke:#4575b4;stroke-opacity:0.7;stroke-width:0.3;\" x=\"128.718125\" y=\"55.119812\" xlink:href=\"#m0118f0fb57\" />\n     <use style=\"fill:#4575b4;fill-opacity:0.7;stroke:#4575b4;stroke-opacity:0.7;stroke-width:0.3;\" x=\"144.218125\" y=\"46.574105\" xlink:href=\"#m0118f0fb57\" />\n     <use style=\"fill:#4575b4;fill-opacity:0.7;stroke:#4575b4;stroke-opacity:0.7;stroke-width:0.3;\" x=\"128.718125\" y=\"52.419046\" xlink:href=\"#m0118f0fb57\" />\n     <use style=\"fill:#4575b4;fill-opacity:0.7;stroke:#4575b4;stroke-opacity:0.7;stroke-width:0.3;\" x=\"128.718125\" y=\"49.67797\" xlink:href=\"#m0118f0fb57\" />\n     <use style=\"fill:#4575b4;fill-opacity:0.7;stroke:#4575b4;stroke-opacity:0.7;stroke-width:0.3;\" x=\"113.218125\" y=\"53.265554\" xlink:href=\"#m0118f0fb57\" />\n     <use style=\"fill:#4575b4;fill-opacity:0.7;stroke:#4575b4;stroke-opacity:0.7;stroke-width:0.3;\" x=\"128.718125\" y=\"52.298116\" xlink:href=\"#m0118f0fb57\" />\n     <use style=\"fill:#4575b4;fill-opacity:0.7;stroke:#4575b4;stroke-opacity:0.7;stroke-width:0.3;\" x=\"144.218125\" y=\"50.04076\" xlink:href=\"#m0118f0fb57\" />\n     <use style=\"fill:#4575b4;fill-opacity:0.7;stroke:#4575b4;stroke-opacity:0.7;stroke-width:0.3;\" x=\"97.718125\" y=\"54.805394\" xlink:href=\"#m0118f0fb57\" />\n     <use style=\"fill:#4575b4;fill-opacity:0.7;stroke:#4575b4;stroke-opacity:0.7;stroke-width:0.3;\" x=\"128.718125\" y=\"51.008198\" xlink:href=\"#m0118f0fb57\" />\n     <use style=\"fill:#4575b4;fill-opacity:0.7;stroke:#4575b4;stroke-opacity:0.7;stroke-width:0.3;\" x=\"128.718125\" y=\"53.064005\" xlink:href=\"#m0118f0fb57\" />\n     <use style=\"fill:#4575b4;fill-opacity:0.7;stroke:#4575b4;stroke-opacity:0.7;stroke-width:0.3;\" x=\"144.218125\" y=\"49.91983\" xlink:href=\"#m0118f0fb57\" />\n     <use style=\"fill:#4575b4;fill-opacity:0.7;stroke:#4575b4;stroke-opacity:0.7;stroke-width:0.3;\" x=\"113.218125\" y=\"54.071753\" xlink:href=\"#m0118f0fb57\" />\n     <use style=\"fill:#4575b4;fill-opacity:0.7;stroke:#4575b4;stroke-opacity:0.7;stroke-width:0.3;\" x=\"144.218125\" y=\"45.364807\" xlink:href=\"#m0118f0fb57\" />\n     <use style=\"fill:#4575b4;fill-opacity:0.7;stroke:#4575b4;stroke-opacity:0.7;stroke-width:0.3;\" x=\"159.718125\" y=\"44.701306\" xlink:href=\"#m0118f0fb57\" />\n     <use style=\"fill:#4575b4;fill-opacity:0.7;stroke:#4575b4;stroke-opacity:0.7;stroke-width:0.3;\" x=\"159.718125\" y=\"43.75241\" xlink:href=\"#m0118f0fb57\" />\n     <use style=\"fill:#4575b4;fill-opacity:0.7;stroke:#4575b4;stroke-opacity:0.7;stroke-width:0.3;\" x=\"144.218125\" y=\"49.019709\" xlink:href=\"#m0118f0fb57\" />\n     <use style=\"fill:#4575b4;fill-opacity:0.7;stroke:#4575b4;stroke-opacity:0.7;stroke-width:0.3;\" x=\"113.218125\" y=\"54.112063\" xlink:href=\"#m0118f0fb57\" />\n     <use style=\"fill:#4575b4;fill-opacity:0.7;stroke:#4575b4;stroke-opacity:0.7;stroke-width:0.3;\" x=\"128.718125\" y=\"49.000763\" xlink:href=\"#m0118f0fb57\" />\n     <use style=\"fill:#4575b4;fill-opacity:0.7;stroke:#4575b4;stroke-opacity:0.7;stroke-width:0.3;\" x=\"97.718125\" y=\"55.603531\" xlink:href=\"#m0118f0fb57\" />\n     <use style=\"fill:#4575b4;fill-opacity:0.7;stroke:#4575b4;stroke-opacity:0.7;stroke-width:0.3;\" x=\"113.218125\" y=\"52.910827\" xlink:href=\"#m0118f0fb57\" />\n     <use style=\"fill:#4575b4;fill-opacity:0.7;stroke:#4575b4;stroke-opacity:0.7;stroke-width:0.3;\" x=\"113.218125\" y=\"52.620596\" xlink:href=\"#m0118f0fb57\" />\n     <use style=\"fill:#4575b4;fill-opacity:0.7;stroke:#4575b4;stroke-opacity:0.7;stroke-width:0.3;\" x=\"175.218125\" y=\"37.30282\" xlink:href=\"#m0118f0fb57\" />\n     <use style=\"fill:#4575b4;fill-opacity:0.7;stroke:#4575b4;stroke-opacity:0.7;stroke-width:0.3;\" x=\"144.218125\" y=\"53.031757\" xlink:href=\"#m0118f0fb57\" />\n     <use style=\"fill:#4575b4;fill-opacity:0.7;stroke:#4575b4;stroke-opacity:0.7;stroke-width:0.3;\" x=\"113.218125\" y=\"52.620596\" xlink:href=\"#m0118f0fb57\" />\n     <use style=\"fill:#4575b4;fill-opacity:0.7;stroke:#4575b4;stroke-opacity:0.7;stroke-width:0.3;\" x=\"144.218125\" y=\"48.992701\" xlink:href=\"#m0118f0fb57\" />\n     <use style=\"fill:#4575b4;fill-opacity:0.7;stroke:#4575b4;stroke-opacity:0.7;stroke-width:0.3;\" x=\"128.718125\" y=\"49.476421\" xlink:href=\"#m0118f0fb57\" />\n     <use style=\"fill:#4575b4;fill-opacity:0.7;stroke:#4575b4;stroke-opacity:0.7;stroke-width:0.3;\" x=\"97.718125\" y=\"55.865545\" xlink:href=\"#m0118f0fb57\" />\n     <use style=\"fill:#4575b4;fill-opacity:0.7;stroke:#4575b4;stroke-opacity:0.7;stroke-width:0.3;\" x=\"82.218125\" y=\"58.102747\" xlink:href=\"#m0118f0fb57\" />\n     <use style=\"fill:#4575b4;fill-opacity:0.7;stroke:#4575b4;stroke-opacity:0.7;stroke-width:0.3;\" x=\"159.718125\" y=\"44.236129\" xlink:href=\"#m0118f0fb57\" />\n     <use style=\"fill:#4575b4;fill-opacity:0.7;stroke:#4575b4;stroke-opacity:0.7;stroke-width:0.3;\" x=\"128.718125\" y=\"49.605412\" xlink:href=\"#m0118f0fb57\" />\n     <use style=\"fill:#4575b4;fill-opacity:0.7;stroke:#4575b4;stroke-opacity:0.7;stroke-width:0.3;\" x=\"128.718125\" y=\"48.105883\" xlink:href=\"#m0118f0fb57\" />\n     <use style=\"fill:#4575b4;fill-opacity:0.7;stroke:#4575b4;stroke-opacity:0.7;stroke-width:0.3;\" x=\"113.218125\" y=\"55.579345\" xlink:href=\"#m0118f0fb57\" />\n     <use style=\"fill:#4575b4;fill-opacity:0.7;stroke:#4575b4;stroke-opacity:0.7;stroke-width:0.3;\" x=\"128.718125\" y=\"49.323243\" xlink:href=\"#m0118f0fb57\" />\n     <use style=\"fill:#4575b4;fill-opacity:0.7;stroke:#4575b4;stroke-opacity:0.7;stroke-width:0.3;\" x=\"144.218125\" y=\"48.186503\" xlink:href=\"#m0118f0fb57\" />\n     <use style=\"fill:#4575b4;fill-opacity:0.7;stroke:#4575b4;stroke-opacity:0.7;stroke-width:0.3;\" x=\"113.218125\" y=\"51.895017\" xlink:href=\"#m0118f0fb57\" />\n     <use style=\"fill:#4575b4;fill-opacity:0.7;stroke:#4575b4;stroke-opacity:0.7;stroke-width:0.3;\" x=\"144.218125\" y=\"49.645722\" xlink:href=\"#m0118f0fb57\" />\n     <use style=\"fill:#4575b4;fill-opacity:0.7;stroke:#4575b4;stroke-opacity:0.7;stroke-width:0.3;\" x=\"97.718125\" y=\"55.442291\" xlink:href=\"#m0118f0fb57\" />\n     <use style=\"fill:#4575b4;fill-opacity:0.7;stroke:#4575b4;stroke-opacity:0.7;stroke-width:0.3;\" x=\"144.218125\" y=\"41.656293\" xlink:href=\"#m0118f0fb57\" />\n     <use style=\"fill:#4575b4;fill-opacity:0.7;stroke:#4575b4;stroke-opacity:0.7;stroke-width:0.3;\" x=\"113.218125\" y=\"52.467015\" xlink:href=\"#m0118f0fb57\" />\n     <use style=\"fill:#4575b4;fill-opacity:0.7;stroke:#4575b4;stroke-opacity:0.7;stroke-width:0.3;\" x=\"113.218125\" y=\"51.733777\" xlink:href=\"#m0118f0fb57\" />\n     <use style=\"fill:#4575b4;fill-opacity:0.7;stroke:#4575b4;stroke-opacity:0.7;stroke-width:0.3;\" x=\"128.718125\" y=\"49.96014\" xlink:href=\"#m0118f0fb57\" />\n     <use style=\"fill:#4575b4;fill-opacity:0.7;stroke:#4575b4;stroke-opacity:0.7;stroke-width:0.3;\" x=\"144.218125\" y=\"47.501234\" xlink:href=\"#m0118f0fb57\" />\n     <use style=\"fill:#4575b4;fill-opacity:0.7;stroke:#4575b4;stroke-opacity:0.7;stroke-width:0.3;\" x=\"128.718125\" y=\"51.048508\" xlink:href=\"#m0118f0fb57\" />\n     <use style=\"fill:#4575b4;fill-opacity:0.7;stroke:#4575b4;stroke-opacity:0.7;stroke-width:0.3;\" x=\"144.218125\" y=\"44.155509\" xlink:href=\"#m0118f0fb57\" />\n     <use style=\"fill:#4575b4;fill-opacity:0.7;stroke:#4575b4;stroke-opacity:0.7;stroke-width:0.3;\" x=\"113.218125\" y=\"55.442291\" xlink:href=\"#m0118f0fb57\" />\n     <use style=\"fill:#4575b4;fill-opacity:0.7;stroke:#4575b4;stroke-opacity:0.7;stroke-width:0.3;\" x=\"113.218125\" y=\"52.781835\" xlink:href=\"#m0118f0fb57\" />\n     <use style=\"fill:#4575b4;fill-opacity:0.7;stroke:#4575b4;stroke-opacity:0.7;stroke-width:0.3;\" x=\"128.718125\" y=\"51.008198\" xlink:href=\"#m0118f0fb57\" />\n     <use style=\"fill:#4575b4;fill-opacity:0.7;stroke:#4575b4;stroke-opacity:0.7;stroke-width:0.3;\" x=\"144.218125\" y=\"49.7989\" xlink:href=\"#m0118f0fb57\" />\n     <use style=\"fill:#4575b4;fill-opacity:0.7;stroke:#4575b4;stroke-opacity:0.7;stroke-width:0.3;\" x=\"113.218125\" y=\"52.822145\" xlink:href=\"#m0118f0fb57\" />\n     <use style=\"fill:#4575b4;fill-opacity:0.7;stroke:#4575b4;stroke-opacity:0.7;stroke-width:0.3;\" x=\"128.718125\" y=\"47.339994\" xlink:href=\"#m0118f0fb57\" />\n     <use style=\"fill:#4575b4;fill-opacity:0.7;stroke:#4575b4;stroke-opacity:0.7;stroke-width:0.3;\" x=\"128.718125\" y=\"50.766338\" xlink:href=\"#m0118f0fb57\" />\n     <use style=\"fill:#4575b4;fill-opacity:0.7;stroke:#4575b4;stroke-opacity:0.7;stroke-width:0.3;\" x=\"97.718125\" y=\"55.442291\" xlink:href=\"#m0118f0fb57\" />\n     <use style=\"fill:#4575b4;fill-opacity:0.7;stroke:#4575b4;stroke-opacity:0.7;stroke-width:0.3;\" x=\"144.218125\" y=\"43.13341\" xlink:href=\"#m0118f0fb57\" />\n     <use style=\"fill:#4575b4;fill-opacity:0.7;stroke:#4575b4;stroke-opacity:0.7;stroke-width:0.3;\" x=\"144.218125\" y=\"44.236129\" xlink:href=\"#m0118f0fb57\" />\n     <use style=\"fill:#4575b4;fill-opacity:0.7;stroke:#4575b4;stroke-opacity:0.7;stroke-width:0.3;\" x=\"159.718125\" y=\"31.01447\" xlink:href=\"#m0118f0fb57\" />\n     <use style=\"fill:#4575b4;fill-opacity:0.7;stroke:#4575b4;stroke-opacity:0.7;stroke-width:0.3;\" x=\"128.718125\" y=\"52.943075\" xlink:href=\"#m0118f0fb57\" />\n     <use style=\"fill:#4575b4;fill-opacity:0.7;stroke:#4575b4;stroke-opacity:0.7;stroke-width:0.3;\" x=\"97.718125\" y=\"57.014378\" xlink:href=\"#m0118f0fb57\" />\n     <use style=\"fill:#4575b4;fill-opacity:0.7;stroke:#4575b4;stroke-opacity:0.7;stroke-width:0.3;\" x=\"159.718125\" y=\"42.946211\" xlink:href=\"#m0118f0fb57\" />\n     <use style=\"fill:#4575b4;fill-opacity:0.7;stroke:#4575b4;stroke-opacity:0.7;stroke-width:0.3;\" x=\"128.718125\" y=\"49.55704\" xlink:href=\"#m0118f0fb57\" />\n     <use style=\"fill:#4575b4;fill-opacity:0.7;stroke:#4575b4;stroke-opacity:0.7;stroke-width:0.3;\" x=\"113.218125\" y=\"56.409729\" xlink:href=\"#m0118f0fb57\" />\n     <use style=\"fill:#4575b4;fill-opacity:0.7;stroke:#4575b4;stroke-opacity:0.7;stroke-width:0.3;\" x=\"128.718125\" y=\"51.250058\" xlink:href=\"#m0118f0fb57\" />\n     <use style=\"fill:#4575b4;fill-opacity:0.7;stroke:#4575b4;stroke-opacity:0.7;stroke-width:0.3;\" x=\"144.218125\" y=\"44.558608\" xlink:href=\"#m0118f0fb57\" />\n     <use style=\"fill:#4575b4;fill-opacity:0.7;stroke:#4575b4;stroke-opacity:0.7;stroke-width:0.3;\" x=\"159.718125\" y=\"41.736913\" xlink:href=\"#m0118f0fb57\" />\n     <use style=\"fill:#4575b4;fill-opacity:0.7;stroke:#4575b4;stroke-opacity:0.7;stroke-width:0.3;\" x=\"113.218125\" y=\"51.814397\" xlink:href=\"#m0118f0fb57\" />\n     <use style=\"fill:#4575b4;fill-opacity:0.7;stroke:#4575b4;stroke-opacity:0.7;stroke-width:0.3;\" x=\"128.718125\" y=\"52.701215\" xlink:href=\"#m0118f0fb57\" />\n     <use style=\"fill:#4575b4;fill-opacity:0.7;stroke:#4575b4;stroke-opacity:0.7;stroke-width:0.3;\" x=\"113.218125\" y=\"54.232993\" xlink:href=\"#m0118f0fb57\" />\n     <use style=\"fill:#4575b4;fill-opacity:0.7;stroke:#4575b4;stroke-opacity:0.7;stroke-width:0.3;\" x=\"113.218125\" y=\"51.975637\" xlink:href=\"#m0118f0fb57\" />\n     <use style=\"fill:#4575b4;fill-opacity:0.7;stroke:#4575b4;stroke-opacity:0.7;stroke-width:0.3;\" x=\"144.218125\" y=\"44.477989\" xlink:href=\"#m0118f0fb57\" />\n     <use style=\"fill:#4575b4;fill-opacity:0.7;stroke:#4575b4;stroke-opacity:0.7;stroke-width:0.3;\" x=\"113.218125\" y=\"52.822145\" xlink:href=\"#m0118f0fb57\" />\n     <use style=\"fill:#4575b4;fill-opacity:0.7;stroke:#4575b4;stroke-opacity:0.7;stroke-width:0.3;\" x=\"144.218125\" y=\"45.372869\" xlink:href=\"#m0118f0fb57\" />\n     <use style=\"fill:#4575b4;fill-opacity:0.7;stroke:#4575b4;stroke-opacity:0.7;stroke-width:0.3;\" x=\"113.218125\" y=\"51.693467\" xlink:href=\"#m0118f0fb57\" />\n     <use style=\"fill:#4575b4;fill-opacity:0.7;stroke:#4575b4;stroke-opacity:0.7;stroke-width:0.3;\" x=\"159.718125\" y=\"37.867159\" xlink:href=\"#m0118f0fb57\" />\n     <use style=\"fill:#4575b4;fill-opacity:0.7;stroke:#4575b4;stroke-opacity:0.7;stroke-width:0.3;\" x=\"144.218125\" y=\"48.105883\" xlink:href=\"#m0118f0fb57\" />\n     <use style=\"fill:#4575b4;fill-opacity:0.7;stroke:#4575b4;stroke-opacity:0.7;stroke-width:0.3;\" x=\"113.218125\" y=\"55.442291\" xlink:href=\"#m0118f0fb57\" />\n     <use style=\"fill:#4575b4;fill-opacity:0.7;stroke:#4575b4;stroke-opacity:0.7;stroke-width:0.3;\" x=\"113.218125\" y=\"54.636092\" xlink:href=\"#m0118f0fb57\" />\n     <use style=\"fill:#4575b4;fill-opacity:0.7;stroke:#4575b4;stroke-opacity:0.7;stroke-width:0.3;\" x=\"97.718125\" y=\"54.757022\" xlink:href=\"#m0118f0fb57\" />\n     <use style=\"fill:#4575b4;fill-opacity:0.7;stroke:#4575b4;stroke-opacity:0.7;stroke-width:0.3;\" x=\"128.718125\" y=\"47.904333\" xlink:href=\"#m0118f0fb57\" />\n     <use style=\"fill:#4575b4;fill-opacity:0.7;stroke:#4575b4;stroke-opacity:0.7;stroke-width:0.3;\" x=\"144.218125\" y=\"47.873778\" xlink:href=\"#m0118f0fb57\" />\n     <use style=\"fill:#4575b4;fill-opacity:0.7;stroke:#4575b4;stroke-opacity:0.7;stroke-width:0.3;\" x=\"82.218125\" y=\"52.249744\" xlink:href=\"#m0118f0fb57\" />\n     <use style=\"fill:#4575b4;fill-opacity:0.7;stroke:#4575b4;stroke-opacity:0.7;stroke-width:0.3;\" x=\"144.218125\" y=\"49.395801\" xlink:href=\"#m0118f0fb57\" />\n     <use style=\"fill:#4575b4;fill-opacity:0.7;stroke:#4575b4;stroke-opacity:0.7;stroke-width:0.3;\" x=\"128.718125\" y=\"46.493485\" xlink:href=\"#m0118f0fb57\" />\n     <use style=\"fill:#4575b4;fill-opacity:0.7;stroke:#4575b4;stroke-opacity:0.7;stroke-width:0.3;\" x=\"128.718125\" y=\"48.589602\" xlink:href=\"#m0118f0fb57\" />\n     <use style=\"fill:#4575b4;fill-opacity:0.7;stroke:#4575b4;stroke-opacity:0.7;stroke-width:0.3;\" x=\"159.718125\" y=\"41.656293\" xlink:href=\"#m0118f0fb57\" />\n     <use style=\"fill:#4575b4;fill-opacity:0.7;stroke:#4575b4;stroke-opacity:0.7;stroke-width:0.3;\" x=\"128.718125\" y=\"49.476421\" xlink:href=\"#m0118f0fb57\" />\n     <use style=\"fill:#4575b4;fill-opacity:0.7;stroke:#4575b4;stroke-opacity:0.7;stroke-width:0.3;\" x=\"128.718125\" y=\"50.153627\" xlink:href=\"#m0118f0fb57\" />\n     <use style=\"fill:#4575b4;fill-opacity:0.7;stroke:#4575b4;stroke-opacity:0.7;stroke-width:0.3;\" x=\"128.718125\" y=\"48.529137\" xlink:href=\"#m0118f0fb57\" />\n     <use style=\"fill:#4575b4;fill-opacity:0.7;stroke:#4575b4;stroke-opacity:0.7;stroke-width:0.3;\" x=\"128.718125\" y=\"46.009766\" xlink:href=\"#m0118f0fb57\" />\n     <use style=\"fill:#4575b4;fill-opacity:0.7;stroke:#4575b4;stroke-opacity:0.7;stroke-width:0.3;\" x=\"97.718125\" y=\"53.588034\" xlink:href=\"#m0118f0fb57\" />\n     <use style=\"fill:#4575b4;fill-opacity:0.7;stroke:#4575b4;stroke-opacity:0.7;stroke-width:0.3;\" x=\"128.718125\" y=\"51.008198\" xlink:href=\"#m0118f0fb57\" />\n     <use style=\"fill:#4575b4;fill-opacity:0.7;stroke:#4575b4;stroke-opacity:0.7;stroke-width:0.3;\" x=\"175.218125\" y=\"35.690423\" xlink:href=\"#m0118f0fb57\" />\n     <use style=\"fill:#4575b4;fill-opacity:0.7;stroke:#4575b4;stroke-opacity:0.7;stroke-width:0.3;\" x=\"175.218125\" y=\"33.076243\" xlink:href=\"#m0118f0fb57\" />\n     <use style=\"fill:#4575b4;fill-opacity:0.7;stroke:#4575b4;stroke-opacity:0.7;stroke-width:0.3;\" x=\"113.218125\" y=\"52.548038\" xlink:href=\"#m0118f0fb57\" />\n     <use style=\"fill:#4575b4;fill-opacity:0.7;stroke:#4575b4;stroke-opacity:0.7;stroke-width:0.3;\" x=\"128.718125\" y=\"52.499666\" xlink:href=\"#m0118f0fb57\" />\n     <use style=\"fill:#4575b4;fill-opacity:0.7;stroke:#4575b4;stroke-opacity:0.7;stroke-width:0.3;\" x=\"144.218125\" y=\"46.292742\" xlink:href=\"#m0118f0fb57\" />\n     <use style=\"fill:#4575b4;fill-opacity:0.7;stroke:#4575b4;stroke-opacity:0.7;stroke-width:0.3;\" x=\"113.218125\" y=\"51.653157\" xlink:href=\"#m0118f0fb57\" />\n     <use style=\"fill:#4575b4;fill-opacity:0.7;stroke:#4575b4;stroke-opacity:0.7;stroke-width:0.3;\" x=\"175.218125\" y=\"33.352446\" xlink:href=\"#m0118f0fb57\" />\n     <use style=\"fill:#4575b4;fill-opacity:0.7;stroke:#4575b4;stroke-opacity:0.7;stroke-width:0.3;\" x=\"128.718125\" y=\"55.8857\" xlink:href=\"#m0118f0fb57\" />\n     <use style=\"fill:#4575b4;fill-opacity:0.7;stroke:#4575b4;stroke-opacity:0.7;stroke-width:0.3;\" x=\"113.218125\" y=\"52.781835\" xlink:href=\"#m0118f0fb57\" />\n     <use style=\"fill:#4575b4;fill-opacity:0.7;stroke:#4575b4;stroke-opacity:0.7;stroke-width:0.3;\" x=\"128.718125\" y=\"50.161689\" xlink:href=\"#m0118f0fb57\" />\n     <use style=\"fill:#4575b4;fill-opacity:0.7;stroke:#4575b4;stroke-opacity:0.7;stroke-width:0.3;\" x=\"159.718125\" y=\"37.867159\" xlink:href=\"#m0118f0fb57\" />\n     <use style=\"fill:#4575b4;fill-opacity:0.7;stroke:#4575b4;stroke-opacity:0.7;stroke-width:0.3;\" x=\"144.218125\" y=\"52.862455\" xlink:href=\"#m0118f0fb57\" />\n     <use style=\"fill:#4575b4;fill-opacity:0.7;stroke:#4575b4;stroke-opacity:0.7;stroke-width:0.3;\" x=\"113.218125\" y=\"50.685719\" xlink:href=\"#m0118f0fb57\" />\n     <use style=\"fill:#4575b4;fill-opacity:0.7;stroke:#4575b4;stroke-opacity:0.7;stroke-width:0.3;\" x=\"128.718125\" y=\"55.643841\" xlink:href=\"#m0118f0fb57\" />\n     <use style=\"fill:#4575b4;fill-opacity:0.7;stroke:#4575b4;stroke-opacity:0.7;stroke-width:0.3;\" x=\"159.718125\" y=\"47.299684\" xlink:href=\"#m0118f0fb57\" />\n     <use style=\"fill:#4575b4;fill-opacity:0.7;stroke:#4575b4;stroke-opacity:0.7;stroke-width:0.3;\" x=\"113.218125\" y=\"53.434856\" xlink:href=\"#m0118f0fb57\" />\n     <use style=\"fill:#4575b4;fill-opacity:0.7;stroke:#4575b4;stroke-opacity:0.7;stroke-width:0.3;\" x=\"97.718125\" y=\"51.411297\" xlink:href=\"#m0118f0fb57\" />\n     <use style=\"fill:#4575b4;fill-opacity:0.7;stroke:#4575b4;stroke-opacity:0.7;stroke-width:0.3;\" x=\"113.218125\" y=\"55.442291\" xlink:href=\"#m0118f0fb57\" />\n     <use style=\"fill:#4575b4;fill-opacity:0.7;stroke:#4575b4;stroke-opacity:0.7;stroke-width:0.3;\" x=\"128.718125\" y=\"54.232993\" xlink:href=\"#m0118f0fb57\" />\n     <use style=\"fill:#4575b4;fill-opacity:0.7;stroke:#4575b4;stroke-opacity:0.7;stroke-width:0.3;\" x=\"113.218125\" y=\"52.822145\" xlink:href=\"#m0118f0fb57\" />\n     <use style=\"fill:#4575b4;fill-opacity:0.7;stroke:#4575b4;stroke-opacity:0.7;stroke-width:0.3;\" x=\"128.718125\" y=\"48.468672\" xlink:href=\"#m0118f0fb57\" />\n     <use style=\"fill:#4575b4;fill-opacity:0.7;stroke:#4575b4;stroke-opacity:0.7;stroke-width:0.3;\" x=\"113.218125\" y=\"54.676402\" xlink:href=\"#m0118f0fb57\" />\n     <use style=\"fill:#4575b4;fill-opacity:0.7;stroke:#4575b4;stroke-opacity:0.7;stroke-width:0.3;\" x=\"159.718125\" y=\"44.548289\" xlink:href=\"#m0118f0fb57\" />\n     <use style=\"fill:#4575b4;fill-opacity:0.7;stroke:#4575b4;stroke-opacity:0.7;stroke-width:0.3;\" x=\"128.718125\" y=\"50.201999\" xlink:href=\"#m0118f0fb57\" />\n     <use style=\"fill:#4575b4;fill-opacity:0.7;stroke:#4575b4;stroke-opacity:0.7;stroke-width:0.3;\" x=\"144.218125\" y=\"49.315181\" xlink:href=\"#m0118f0fb57\" />\n     <use style=\"fill:#4575b4;fill-opacity:0.7;stroke:#4575b4;stroke-opacity:0.7;stroke-width:0.3;\" x=\"113.218125\" y=\"55.684151\" xlink:href=\"#m0118f0fb57\" />\n     <use style=\"fill:#4575b4;fill-opacity:0.7;stroke:#4575b4;stroke-opacity:0.7;stroke-width:0.3;\" x=\"128.718125\" y=\"51.814397\" xlink:href=\"#m0118f0fb57\" />\n     <use style=\"fill:#4575b4;fill-opacity:0.7;stroke:#4575b4;stroke-opacity:0.7;stroke-width:0.3;\" x=\"190.718125\" y=\"32.364853\" xlink:href=\"#m0118f0fb57\" />\n     <use style=\"fill:#4575b4;fill-opacity:0.7;stroke:#4575b4;stroke-opacity:0.7;stroke-width:0.3;\" x=\"159.718125\" y=\"38.310568\" xlink:href=\"#m0118f0fb57\" />\n     <use style=\"fill:#4575b4;fill-opacity:0.7;stroke:#4575b4;stroke-opacity:0.7;stroke-width:0.3;\" x=\"113.218125\" y=\"53.023695\" xlink:href=\"#m0118f0fb57\" />\n     <use style=\"fill:#4575b4;fill-opacity:0.7;stroke:#4575b4;stroke-opacity:0.7;stroke-width:0.3;\" x=\"144.218125\" y=\"47.702783\" xlink:href=\"#m0118f0fb57\" />\n     <use style=\"fill:#4575b4;fill-opacity:0.7;stroke:#4575b4;stroke-opacity:0.7;stroke-width:0.3;\" x=\"144.218125\" y=\"41.390248\" xlink:href=\"#m0118f0fb57\" />\n     <use style=\"fill:#4575b4;fill-opacity:0.7;stroke:#4575b4;stroke-opacity:0.7;stroke-width:0.3;\" x=\"159.718125\" y=\"44.195819\" xlink:href=\"#m0118f0fb57\" />\n     <use style=\"fill:#4575b4;fill-opacity:0.7;stroke:#4575b4;stroke-opacity:0.7;stroke-width:0.3;\" x=\"159.718125\" y=\"43.34931\" xlink:href=\"#m0118f0fb57\" />\n     <use style=\"fill:#4575b4;fill-opacity:0.7;stroke:#4575b4;stroke-opacity:0.7;stroke-width:0.3;\" x=\"113.218125\" y=\"52.620596\" xlink:href=\"#m0118f0fb57\" />\n     <use style=\"fill:#4575b4;fill-opacity:0.7;stroke:#4575b4;stroke-opacity:0.7;stroke-width:0.3;\" x=\"144.218125\" y=\"47.783403\" xlink:href=\"#m0118f0fb57\" />\n     <use style=\"fill:#4575b4;fill-opacity:0.7;stroke:#4575b4;stroke-opacity:0.7;stroke-width:0.3;\" x=\"128.718125\" y=\"42.865591\" xlink:href=\"#m0118f0fb57\" />\n     <use style=\"fill:#4575b4;fill-opacity:0.7;stroke:#4575b4;stroke-opacity:0.7;stroke-width:0.3;\" x=\"113.218125\" y=\"53.789584\" xlink:href=\"#m0118f0fb57\" />\n     <use style=\"fill:#4575b4;fill-opacity:0.7;stroke:#4575b4;stroke-opacity:0.7;stroke-width:0.3;\" x=\"128.718125\" y=\"53.829894\" xlink:href=\"#m0118f0fb57\" />\n     <use style=\"fill:#4575b4;fill-opacity:0.7;stroke:#4575b4;stroke-opacity:0.7;stroke-width:0.3;\" x=\"97.718125\" y=\"56.409729\" xlink:href=\"#m0118f0fb57\" />\n     <use style=\"fill:#4575b4;fill-opacity:0.7;stroke:#4575b4;stroke-opacity:0.7;stroke-width:0.3;\" x=\"144.218125\" y=\"50.588975\" xlink:href=\"#m0118f0fb57\" />\n     <use style=\"fill:#4575b4;fill-opacity:0.7;stroke:#4575b4;stroke-opacity:0.7;stroke-width:0.3;\" x=\"159.718125\" y=\"43.373496\" xlink:href=\"#m0118f0fb57\" />\n     <use style=\"fill:#4575b4;fill-opacity:0.7;stroke:#4575b4;stroke-opacity:0.7;stroke-width:0.3;\" x=\"97.718125\" y=\"56.611279\" xlink:href=\"#m0118f0fb57\" />\n     <use style=\"fill:#4575b4;fill-opacity:0.7;stroke:#4575b4;stroke-opacity:0.7;stroke-width:0.3;\" x=\"97.718125\" y=\"54.636092\" xlink:href=\"#m0118f0fb57\" />\n     <use style=\"fill:#4575b4;fill-opacity:0.7;stroke:#4575b4;stroke-opacity:0.7;stroke-width:0.3;\" x=\"128.718125\" y=\"48.912081\" xlink:href=\"#m0118f0fb57\" />\n     <use style=\"fill:#4575b4;fill-opacity:0.7;stroke:#4575b4;stroke-opacity:0.7;stroke-width:0.3;\" x=\"159.718125\" y=\"43.784658\" xlink:href=\"#m0118f0fb57\" />\n     <use style=\"fill:#4575b4;fill-opacity:0.7;stroke:#4575b4;stroke-opacity:0.7;stroke-width:0.3;\" x=\"144.218125\" y=\"50.290681\" xlink:href=\"#m0118f0fb57\" />\n     <use style=\"fill:#4575b4;fill-opacity:0.7;stroke:#4575b4;stroke-opacity:0.7;stroke-width:0.3;\" x=\"144.218125\" y=\"48.186503\" xlink:href=\"#m0118f0fb57\" />\n     <use style=\"fill:#4575b4;fill-opacity:0.7;stroke:#4575b4;stroke-opacity:0.7;stroke-width:0.3;\" x=\"113.218125\" y=\"52.31424\" xlink:href=\"#m0118f0fb57\" />\n     <use style=\"fill:#4575b4;fill-opacity:0.7;stroke:#4575b4;stroke-opacity:0.7;stroke-width:0.3;\" x=\"144.218125\" y=\"50.00045\" xlink:href=\"#m0118f0fb57\" />\n     <use style=\"fill:#4575b4;fill-opacity:0.7;stroke:#4575b4;stroke-opacity:0.7;stroke-width:0.3;\" x=\"97.718125\" y=\"53.700902\" xlink:href=\"#m0118f0fb57\" />\n     <use style=\"fill:#4575b4;fill-opacity:0.7;stroke:#4575b4;stroke-opacity:0.7;stroke-width:0.3;\" x=\"128.718125\" y=\"54.071753\" xlink:href=\"#m0118f0fb57\" />\n     <use style=\"fill:#4575b4;fill-opacity:0.7;stroke:#4575b4;stroke-opacity:0.7;stroke-width:0.3;\" x=\"159.718125\" y=\"41.091954\" xlink:href=\"#m0118f0fb57\" />\n     <use style=\"fill:#4575b4;fill-opacity:0.7;stroke:#4575b4;stroke-opacity:0.7;stroke-width:0.3;\" x=\"113.218125\" y=\"51.814397\" xlink:href=\"#m0118f0fb57\" />\n     <use style=\"fill:#4575b4;fill-opacity:0.7;stroke:#4575b4;stroke-opacity:0.7;stroke-width:0.3;\" x=\"159.718125\" y=\"39.334441\" xlink:href=\"#m0118f0fb57\" />\n     <use style=\"fill:#4575b4;fill-opacity:0.7;stroke:#4575b4;stroke-opacity:0.7;stroke-width:0.3;\" x=\"128.718125\" y=\"49.806962\" xlink:href=\"#m0118f0fb57\" />\n     <use style=\"fill:#4575b4;fill-opacity:0.7;stroke:#4575b4;stroke-opacity:0.7;stroke-width:0.3;\" x=\"113.218125\" y=\"52.660905\" xlink:href=\"#m0118f0fb57\" />\n     <use style=\"fill:#4575b4;fill-opacity:0.7;stroke:#4575b4;stroke-opacity:0.7;stroke-width:0.3;\" x=\"144.218125\" y=\"49.476421\" xlink:href=\"#m0118f0fb57\" />\n     <use style=\"fill:#4575b4;fill-opacity:0.7;stroke:#4575b4;stroke-opacity:0.7;stroke-width:0.3;\" x=\"175.218125\" y=\"38.124095\" xlink:href=\"#m0118f0fb57\" />\n     <use style=\"fill:#4575b4;fill-opacity:0.7;stroke:#4575b4;stroke-opacity:0.7;stroke-width:0.3;\" x=\"159.718125\" y=\"33.682988\" xlink:href=\"#m0118f0fb57\" />\n     <use style=\"fill:#4575b4;fill-opacity:0.7;stroke:#4575b4;stroke-opacity:0.7;stroke-width:0.3;\" x=\"113.218125\" y=\"51.572537\" xlink:href=\"#m0118f0fb57\" />\n     <use style=\"fill:#4575b4;fill-opacity:0.7;stroke:#4575b4;stroke-opacity:0.7;stroke-width:0.3;\" x=\"128.718125\" y=\"51.123081\" xlink:href=\"#m0118f0fb57\" />\n     <use style=\"fill:#4575b4;fill-opacity:0.7;stroke:#4575b4;stroke-opacity:0.7;stroke-width:0.3;\" x=\"128.718125\" y=\"53.910513\" xlink:href=\"#m0118f0fb57\" />\n     <use style=\"fill:#4575b4;fill-opacity:0.7;stroke:#4575b4;stroke-opacity:0.7;stroke-width:0.3;\" x=\"128.718125\" y=\"50.363239\" xlink:href=\"#m0118f0fb57\" />\n     <use style=\"fill:#4575b4;fill-opacity:0.7;stroke:#4575b4;stroke-opacity:0.7;stroke-width:0.3;\" x=\"97.718125\" y=\"54.644154\" xlink:href=\"#m0118f0fb57\" />\n     <use style=\"fill:#4575b4;fill-opacity:0.7;stroke:#4575b4;stroke-opacity:0.7;stroke-width:0.3;\" x=\"113.218125\" y=\"52.620596\" xlink:href=\"#m0118f0fb57\" />\n     <use style=\"fill:#4575b4;fill-opacity:0.7;stroke:#4575b4;stroke-opacity:0.7;stroke-width:0.3;\" x=\"128.718125\" y=\"47.380304\" xlink:href=\"#m0118f0fb57\" />\n     <use style=\"fill:#4575b4;fill-opacity:0.7;stroke:#4575b4;stroke-opacity:0.7;stroke-width:0.3;\" x=\"144.218125\" y=\"41.355984\" xlink:href=\"#m0118f0fb57\" />\n     <use style=\"fill:#4575b4;fill-opacity:0.7;stroke:#4575b4;stroke-opacity:0.7;stroke-width:0.3;\" x=\"128.718125\" y=\"43.83303\" xlink:href=\"#m0118f0fb57\" />\n     <use style=\"fill:#4575b4;fill-opacity:0.7;stroke:#4575b4;stroke-opacity:0.7;stroke-width:0.3;\" x=\"113.218125\" y=\"52.096566\" xlink:href=\"#m0118f0fb57\" />\n     <use style=\"fill:#4575b4;fill-opacity:0.7;stroke:#4575b4;stroke-opacity:0.7;stroke-width:0.3;\" x=\"113.218125\" y=\"50.00045\" xlink:href=\"#m0118f0fb57\" />\n     <use style=\"fill:#4575b4;fill-opacity:0.7;stroke:#4575b4;stroke-opacity:0.7;stroke-width:0.3;\" x=\"113.218125\" y=\"50.443859\" xlink:href=\"#m0118f0fb57\" />\n     <use style=\"fill:#4575b4;fill-opacity:0.7;stroke:#4575b4;stroke-opacity:0.7;stroke-width:0.3;\" x=\"128.718125\" y=\"52.423077\" xlink:href=\"#m0118f0fb57\" />\n     <use style=\"fill:#4575b4;fill-opacity:0.7;stroke:#4575b4;stroke-opacity:0.7;stroke-width:0.3;\" x=\"144.218125\" y=\"49.041073\" xlink:href=\"#m0118f0fb57\" />\n     <use style=\"fill:#4575b4;fill-opacity:0.7;stroke:#4575b4;stroke-opacity:0.7;stroke-width:0.3;\" x=\"128.718125\" y=\"53.225245\" xlink:href=\"#m0118f0fb57\" />\n     <use style=\"fill:#4575b4;fill-opacity:0.7;stroke:#4575b4;stroke-opacity:0.7;stroke-width:0.3;\" x=\"113.218125\" y=\"53.870204\" xlink:href=\"#m0118f0fb57\" />\n     <use style=\"fill:#4575b4;fill-opacity:0.7;stroke:#4575b4;stroke-opacity:0.7;stroke-width:0.3;\" x=\"128.718125\" y=\"49.234561\" xlink:href=\"#m0118f0fb57\" />\n     <use style=\"fill:#4575b4;fill-opacity:0.7;stroke:#4575b4;stroke-opacity:0.7;stroke-width:0.3;\" x=\"144.218125\" y=\"49.000763\" xlink:href=\"#m0118f0fb57\" />\n     <use style=\"fill:#4575b4;fill-opacity:0.7;stroke:#4575b4;stroke-opacity:0.7;stroke-width:0.3;\" x=\"144.218125\" y=\"43.800782\" xlink:href=\"#m0118f0fb57\" />\n     <use style=\"fill:#4575b4;fill-opacity:0.7;stroke:#4575b4;stroke-opacity:0.7;stroke-width:0.3;\" x=\"144.218125\" y=\"45.566357\" xlink:href=\"#m0118f0fb57\" />\n     <use style=\"fill:#4575b4;fill-opacity:0.7;stroke:#4575b4;stroke-opacity:0.7;stroke-width:0.3;\" x=\"128.718125\" y=\"57.377168\" xlink:href=\"#m0118f0fb57\" />\n     <use style=\"fill:#4575b4;fill-opacity:0.7;stroke:#4575b4;stroke-opacity:0.7;stroke-width:0.3;\" x=\"128.718125\" y=\"47.702783\" xlink:href=\"#m0118f0fb57\" />\n     <use style=\"fill:#4575b4;fill-opacity:0.7;stroke:#4575b4;stroke-opacity:0.7;stroke-width:0.3;\" x=\"128.718125\" y=\"51.572537\" xlink:href=\"#m0118f0fb57\" />\n     <use style=\"fill:#4575b4;fill-opacity:0.7;stroke:#4575b4;stroke-opacity:0.7;stroke-width:0.3;\" x=\"144.218125\" y=\"45.203567\" xlink:href=\"#m0118f0fb57\" />\n     <use style=\"fill:#4575b4;fill-opacity:0.7;stroke:#4575b4;stroke-opacity:0.7;stroke-width:0.3;\" x=\"113.218125\" y=\"49.395801\" xlink:href=\"#m0118f0fb57\" />\n     <use style=\"fill:#4575b4;fill-opacity:0.7;stroke:#4575b4;stroke-opacity:0.7;stroke-width:0.3;\" x=\"144.218125\" y=\"48.4203\" xlink:href=\"#m0118f0fb57\" />\n     <use style=\"fill:#4575b4;fill-opacity:0.7;stroke:#4575b4;stroke-opacity:0.7;stroke-width:0.3;\" x=\"97.718125\" y=\"49.96014\" xlink:href=\"#m0118f0fb57\" />\n     <use style=\"fill:#4575b4;fill-opacity:0.7;stroke:#4575b4;stroke-opacity:0.7;stroke-width:0.3;\" x=\"82.218125\" y=\"55.96632\" xlink:href=\"#m0118f0fb57\" />\n     <use style=\"fill:#4575b4;fill-opacity:0.7;stroke:#4575b4;stroke-opacity:0.7;stroke-width:0.3;\" x=\"144.218125\" y=\"43.994269\" xlink:href=\"#m0118f0fb57\" />\n     <use style=\"fill:#4575b4;fill-opacity:0.7;stroke:#4575b4;stroke-opacity:0.7;stroke-width:0.3;\" x=\"128.718125\" y=\"51.572537\" xlink:href=\"#m0118f0fb57\" />\n     <use style=\"fill:#4575b4;fill-opacity:0.7;stroke:#4575b4;stroke-opacity:0.7;stroke-width:0.3;\" x=\"97.718125\" y=\"56.00663\" xlink:href=\"#m0118f0fb57\" />\n     <use style=\"fill:#4575b4;fill-opacity:0.7;stroke:#4575b4;stroke-opacity:0.7;stroke-width:0.3;\" x=\"113.218125\" y=\"56.691899\" xlink:href=\"#m0118f0fb57\" />\n     <use style=\"fill:#4575b4;fill-opacity:0.7;stroke:#4575b4;stroke-opacity:0.7;stroke-width:0.3;\" x=\"159.718125\" y=\"40.695143\" xlink:href=\"#m0118f0fb57\" />\n     <use style=\"fill:#4575b4;fill-opacity:0.7;stroke:#4575b4;stroke-opacity:0.7;stroke-width:0.3;\" x=\"159.718125\" y=\"38.753978\" xlink:href=\"#m0118f0fb57\" />\n     <use style=\"fill:#4575b4;fill-opacity:0.7;stroke:#4575b4;stroke-opacity:0.7;stroke-width:0.3;\" x=\"128.718125\" y=\"53.184935\" xlink:href=\"#m0118f0fb57\" />\n     <use style=\"fill:#4575b4;fill-opacity:0.7;stroke:#4575b4;stroke-opacity:0.7;stroke-width:0.3;\" x=\"175.218125\" y=\"36.496621\" xlink:href=\"#m0118f0fb57\" />\n     <use style=\"fill:#4575b4;fill-opacity:0.7;stroke:#4575b4;stroke-opacity:0.7;stroke-width:0.3;\" x=\"144.218125\" y=\"45.767907\" xlink:href=\"#m0118f0fb57\" />\n     <use style=\"fill:#4575b4;fill-opacity:0.7;stroke:#4575b4;stroke-opacity:0.7;stroke-width:0.3;\" x=\"144.218125\" y=\"48.267122\" xlink:href=\"#m0118f0fb57\" />\n     <use style=\"fill:#4575b4;fill-opacity:0.7;stroke:#4575b4;stroke-opacity:0.7;stroke-width:0.3;\" x=\"97.718125\" y=\"55.200431\" xlink:href=\"#m0118f0fb57\" />\n     <use style=\"fill:#4575b4;fill-opacity:0.7;stroke:#4575b4;stroke-opacity:0.7;stroke-width:0.3;\" x=\"113.218125\" y=\"54.676402\" xlink:href=\"#m0118f0fb57\" />\n     <use style=\"fill:#4575b4;fill-opacity:0.7;stroke:#4575b4;stroke-opacity:0.7;stroke-width:0.3;\" x=\"128.718125\" y=\"54.636092\" xlink:href=\"#m0118f0fb57\" />\n     <use style=\"fill:#4575b4;fill-opacity:0.7;stroke:#4575b4;stroke-opacity:0.7;stroke-width:0.3;\" x=\"128.718125\" y=\"49.497946\" xlink:href=\"#m0118f0fb57\" />\n     <use style=\"fill:#4575b4;fill-opacity:0.7;stroke:#4575b4;stroke-opacity:0.7;stroke-width:0.3;\" x=\"144.218125\" y=\"48.710532\" xlink:href=\"#m0118f0fb57\" />\n     <use style=\"fill:#4575b4;fill-opacity:0.7;stroke:#4575b4;stroke-opacity:0.7;stroke-width:0.3;\" x=\"144.218125\" y=\"44.034579\" xlink:href=\"#m0118f0fb57\" />\n     <use style=\"fill:#4575b4;fill-opacity:0.7;stroke:#4575b4;stroke-opacity:0.7;stroke-width:0.3;\" x=\"97.718125\" y=\"54.797332\" xlink:href=\"#m0118f0fb57\" />\n     <use style=\"fill:#4575b4;fill-opacity:0.7;stroke:#4575b4;stroke-opacity:0.7;stroke-width:0.3;\" x=\"144.218125\" y=\"40.205135\" xlink:href=\"#m0118f0fb57\" />\n     <use style=\"fill:#4575b4;fill-opacity:0.7;stroke:#4575b4;stroke-opacity:0.7;stroke-width:0.3;\" x=\"144.218125\" y=\"46.900616\" xlink:href=\"#m0118f0fb57\" />\n     <use style=\"fill:#4575b4;fill-opacity:0.7;stroke:#4575b4;stroke-opacity:0.7;stroke-width:0.3;\" x=\"159.718125\" y=\"42.543112\" xlink:href=\"#m0118f0fb57\" />\n     <use style=\"fill:#4575b4;fill-opacity:0.7;stroke:#4575b4;stroke-opacity:0.7;stroke-width:0.3;\" x=\"144.218125\" y=\"48.670222\" xlink:href=\"#m0118f0fb57\" />\n     <use style=\"fill:#4575b4;fill-opacity:0.7;stroke:#4575b4;stroke-opacity:0.7;stroke-width:0.3;\" x=\"144.218125\" y=\"47.622164\" xlink:href=\"#m0118f0fb57\" />\n     <use style=\"fill:#4575b4;fill-opacity:0.7;stroke:#4575b4;stroke-opacity:0.7;stroke-width:0.3;\" x=\"113.218125\" y=\"52.338426\" xlink:href=\"#m0118f0fb57\" />\n     <use style=\"fill:#4575b4;fill-opacity:0.7;stroke:#4575b4;stroke-opacity:0.7;stroke-width:0.3;\" x=\"144.218125\" y=\"45.606667\" xlink:href=\"#m0118f0fb57\" />\n     <use style=\"fill:#4575b4;fill-opacity:0.7;stroke:#4575b4;stroke-opacity:0.7;stroke-width:0.3;\" x=\"128.718125\" y=\"50.766338\" xlink:href=\"#m0118f0fb57\" />\n     <use style=\"fill:#4575b4;fill-opacity:0.7;stroke:#4575b4;stroke-opacity:0.7;stroke-width:0.3;\" x=\"159.718125\" y=\"34.964844\" xlink:href=\"#m0118f0fb57\" />\n     <use style=\"fill:#4575b4;fill-opacity:0.7;stroke:#4575b4;stroke-opacity:0.7;stroke-width:0.3;\" x=\"175.218125\" y=\"27.526774\" xlink:href=\"#m0118f0fb57\" />\n     <use style=\"fill:#4575b4;fill-opacity:0.7;stroke:#4575b4;stroke-opacity:0.7;stroke-width:0.3;\" x=\"128.718125\" y=\"46.009766\" xlink:href=\"#m0118f0fb57\" />\n     <use style=\"fill:#4575b4;fill-opacity:0.7;stroke:#4575b4;stroke-opacity:0.7;stroke-width:0.3;\" x=\"144.218125\" y=\"46.171006\" xlink:href=\"#m0118f0fb57\" />\n     <use style=\"fill:#4575b4;fill-opacity:0.7;stroke:#4575b4;stroke-opacity:0.7;stroke-width:0.3;\" x=\"144.218125\" y=\"46.574105\" xlink:href=\"#m0118f0fb57\" />\n     <use style=\"fill:#4575b4;fill-opacity:0.7;stroke:#4575b4;stroke-opacity:0.7;stroke-width:0.3;\" x=\"128.718125\" y=\"50.93564\" xlink:href=\"#m0118f0fb57\" />\n     <use style=\"fill:#4575b4;fill-opacity:0.7;stroke:#4575b4;stroke-opacity:0.7;stroke-width:0.3;\" x=\"144.218125\" y=\"48.367897\" xlink:href=\"#m0118f0fb57\" />\n     <use style=\"fill:#4575b4;fill-opacity:0.7;stroke:#4575b4;stroke-opacity:0.7;stroke-width:0.3;\" x=\"144.218125\" y=\"53.023695\" xlink:href=\"#m0118f0fb57\" />\n     <use style=\"fill:#4575b4;fill-opacity:0.7;stroke:#4575b4;stroke-opacity:0.7;stroke-width:0.3;\" x=\"128.718125\" y=\"49.234561\" xlink:href=\"#m0118f0fb57\" />\n     <use style=\"fill:#4575b4;fill-opacity:0.7;stroke:#4575b4;stroke-opacity:0.7;stroke-width:0.3;\" x=\"113.218125\" y=\"53.588034\" xlink:href=\"#m0118f0fb57\" />\n     <use style=\"fill:#4575b4;fill-opacity:0.7;stroke:#4575b4;stroke-opacity:0.7;stroke-width:0.3;\" x=\"113.218125\" y=\"45.046359\" xlink:href=\"#m0118f0fb57\" />\n     <use style=\"fill:#4575b4;fill-opacity:0.7;stroke:#4575b4;stroke-opacity:0.7;stroke-width:0.3;\" x=\"175.218125\" y=\"30.023007\" xlink:href=\"#m0118f0fb57\" />\n     <use style=\"fill:#4575b4;fill-opacity:0.7;stroke:#4575b4;stroke-opacity:0.7;stroke-width:0.3;\" x=\"128.718125\" y=\"48.388052\" xlink:href=\"#m0118f0fb57\" />\n     <use style=\"fill:#4575b4;fill-opacity:0.7;stroke:#4575b4;stroke-opacity:0.7;stroke-width:0.3;\" x=\"144.218125\" y=\"51.882762\" xlink:href=\"#m0118f0fb57\" />\n     <use style=\"fill:#4575b4;fill-opacity:0.7;stroke:#4575b4;stroke-opacity:0.7;stroke-width:0.3;\" x=\"113.218125\" y=\"50.7744\" xlink:href=\"#m0118f0fb57\" />\n     <use style=\"fill:#4575b4;fill-opacity:0.7;stroke:#4575b4;stroke-opacity:0.7;stroke-width:0.3;\" x=\"144.218125\" y=\"42.543112\" xlink:href=\"#m0118f0fb57\" />\n     <use style=\"fill:#4575b4;fill-opacity:0.7;stroke:#4575b4;stroke-opacity:0.7;stroke-width:0.3;\" x=\"113.218125\" y=\"56.220273\" xlink:href=\"#m0118f0fb57\" />\n     <use style=\"fill:#4575b4;fill-opacity:0.7;stroke:#4575b4;stroke-opacity:0.7;stroke-width:0.3;\" x=\"97.718125\" y=\"60.279483\" xlink:href=\"#m0118f0fb57\" />\n     <use style=\"fill:#4575b4;fill-opacity:0.7;stroke:#4575b4;stroke-opacity:0.7;stroke-width:0.3;\" x=\"159.718125\" y=\"28.837734\" xlink:href=\"#m0118f0fb57\" />\n     <use style=\"fill:#4575b4;fill-opacity:0.7;stroke:#4575b4;stroke-opacity:0.7;stroke-width:0.3;\" x=\"113.218125\" y=\"50.201999\" xlink:href=\"#m0118f0fb57\" />\n     <use style=\"fill:#4575b4;fill-opacity:0.7;stroke:#4575b4;stroke-opacity:0.7;stroke-width:0.3;\" x=\"113.218125\" y=\"52.660905\" xlink:href=\"#m0118f0fb57\" />\n     <use style=\"fill:#4575b4;fill-opacity:0.7;stroke:#4575b4;stroke-opacity:0.7;stroke-width:0.3;\" x=\"113.218125\" y=\"51.250058\" xlink:href=\"#m0118f0fb57\" />\n     <use style=\"fill:#4575b4;fill-opacity:0.7;stroke:#4575b4;stroke-opacity:0.7;stroke-width:0.3;\" x=\"66.718125\" y=\"58.667086\" xlink:href=\"#m0118f0fb57\" />\n     <use style=\"fill:#4575b4;fill-opacity:0.7;stroke:#4575b4;stroke-opacity:0.7;stroke-width:0.3;\" x=\"113.218125\" y=\"52.902765\" xlink:href=\"#m0118f0fb57\" />\n     <use style=\"fill:#4575b4;fill-opacity:0.7;stroke:#4575b4;stroke-opacity:0.7;stroke-width:0.3;\" x=\"175.218125\" y=\"38.109019\" xlink:href=\"#m0118f0fb57\" />\n     <use style=\"fill:#4575b4;fill-opacity:0.7;stroke:#4575b4;stroke-opacity:0.7;stroke-width:0.3;\" x=\"82.218125\" y=\"56.893449\" xlink:href=\"#m0118f0fb57\" />\n     <use style=\"fill:#4575b4;fill-opacity:0.7;stroke:#4575b4;stroke-opacity:0.7;stroke-width:0.3;\" x=\"144.218125\" y=\"48.992701\" xlink:href=\"#m0118f0fb57\" />\n     <use style=\"fill:#4575b4;fill-opacity:0.7;stroke:#4575b4;stroke-opacity:0.7;stroke-width:0.3;\" x=\"113.218125\" y=\"52.628658\" xlink:href=\"#m0118f0fb57\" />\n     <use style=\"fill:#4575b4;fill-opacity:0.7;stroke:#4575b4;stroke-opacity:0.7;stroke-width:0.3;\" x=\"159.718125\" y=\"38.109019\" xlink:href=\"#m0118f0fb57\" />\n     <use style=\"fill:#4575b4;fill-opacity:0.7;stroke:#4575b4;stroke-opacity:0.7;stroke-width:0.3;\" x=\"128.718125\" y=\"51.169438\" xlink:href=\"#m0118f0fb57\" />\n     <use style=\"fill:#4575b4;fill-opacity:0.7;stroke:#4575b4;stroke-opacity:0.7;stroke-width:0.3;\" x=\"113.218125\" y=\"53.023695\" xlink:href=\"#m0118f0fb57\" />\n     <use style=\"fill:#4575b4;fill-opacity:0.7;stroke:#4575b4;stroke-opacity:0.7;stroke-width:0.3;\" x=\"144.218125\" y=\"47.178754\" xlink:href=\"#m0118f0fb57\" />\n     <use style=\"fill:#4575b4;fill-opacity:0.7;stroke:#4575b4;stroke-opacity:0.7;stroke-width:0.3;\" x=\"97.718125\" y=\"56.772519\" xlink:href=\"#m0118f0fb57\" />\n     <use style=\"fill:#4575b4;fill-opacity:0.7;stroke:#4575b4;stroke-opacity:0.7;stroke-width:0.3;\" x=\"51.218125\" y=\"58.586466\" xlink:href=\"#m0118f0fb57\" />\n     <use style=\"fill:#4575b4;fill-opacity:0.7;stroke:#4575b4;stroke-opacity:0.7;stroke-width:0.3;\" x=\"128.718125\" y=\"51.330678\" xlink:href=\"#m0118f0fb57\" />\n     <use style=\"fill:#4575b4;fill-opacity:0.7;stroke:#4575b4;stroke-opacity:0.7;stroke-width:0.3;\" x=\"113.218125\" y=\"51.895017\" xlink:href=\"#m0118f0fb57\" />\n     <use style=\"fill:#4575b4;fill-opacity:0.7;stroke:#4575b4;stroke-opacity:0.7;stroke-width:0.3;\" x=\"144.218125\" y=\"45.148746\" xlink:href=\"#m0118f0fb57\" />\n     <use style=\"fill:#4575b4;fill-opacity:0.7;stroke:#4575b4;stroke-opacity:0.7;stroke-width:0.3;\" x=\"144.218125\" y=\"48.186503\" xlink:href=\"#m0118f0fb57\" />\n     <use style=\"fill:#4575b4;fill-opacity:0.7;stroke:#4575b4;stroke-opacity:0.7;stroke-width:0.3;\" x=\"113.218125\" y=\"50.846958\" xlink:href=\"#m0118f0fb57\" />\n     <use style=\"fill:#4575b4;fill-opacity:0.7;stroke:#4575b4;stroke-opacity:0.7;stroke-width:0.3;\" x=\"144.218125\" y=\"45.372869\" xlink:href=\"#m0118f0fb57\" />\n     <use style=\"fill:#4575b4;fill-opacity:0.7;stroke:#4575b4;stroke-opacity:0.7;stroke-width:0.3;\" x=\"128.718125\" y=\"53.894389\" xlink:href=\"#m0118f0fb57\" />\n     <use style=\"fill:#4575b4;fill-opacity:0.7;stroke:#4575b4;stroke-opacity:0.7;stroke-width:0.3;\" x=\"128.718125\" y=\"51.491917\" xlink:href=\"#m0118f0fb57\" />\n     <use style=\"fill:#4575b4;fill-opacity:0.7;stroke:#4575b4;stroke-opacity:0.7;stroke-width:0.3;\" x=\"128.718125\" y=\"49.55704\" xlink:href=\"#m0118f0fb57\" />\n     <use style=\"fill:#4575b4;fill-opacity:0.7;stroke:#4575b4;stroke-opacity:0.7;stroke-width:0.3;\" x=\"113.218125\" y=\"53.913416\" xlink:href=\"#m0118f0fb57\" />\n     <use style=\"fill:#4575b4;fill-opacity:0.7;stroke:#4575b4;stroke-opacity:0.7;stroke-width:0.3;\" x=\"144.218125\" y=\"49.476421\" xlink:href=\"#m0118f0fb57\" />\n     <use style=\"fill:#4575b4;fill-opacity:0.7;stroke:#4575b4;stroke-opacity:0.7;stroke-width:0.3;\" x=\"128.718125\" y=\"48.347742\" xlink:href=\"#m0118f0fb57\" />\n     <use style=\"fill:#4575b4;fill-opacity:0.7;stroke:#4575b4;stroke-opacity:0.7;stroke-width:0.3;\" x=\"144.218125\" y=\"47.380304\" xlink:href=\"#m0118f0fb57\" />\n     <use style=\"fill:#4575b4;fill-opacity:0.7;stroke:#4575b4;stroke-opacity:0.7;stroke-width:0.3;\" x=\"128.718125\" y=\"44.236129\" xlink:href=\"#m0118f0fb57\" />\n     <use style=\"fill:#4575b4;fill-opacity:0.7;stroke:#4575b4;stroke-opacity:0.7;stroke-width:0.3;\" x=\"159.718125\" y=\"41.253194\" xlink:href=\"#m0118f0fb57\" />\n     <use style=\"fill:#4575b4;fill-opacity:0.7;stroke:#4575b4;stroke-opacity:0.7;stroke-width:0.3;\" x=\"159.718125\" y=\"20.130788\" xlink:href=\"#m0118f0fb57\" />\n     <use style=\"fill:#4575b4;fill-opacity:0.7;stroke:#4575b4;stroke-opacity:0.7;stroke-width:0.3;\" x=\"113.218125\" y=\"48.186503\" xlink:href=\"#m0118f0fb57\" />\n     <use style=\"fill:#4575b4;fill-opacity:0.7;stroke:#4575b4;stroke-opacity:0.7;stroke-width:0.3;\" x=\"128.718125\" y=\"48.912081\" xlink:href=\"#m0118f0fb57\" />\n     <use style=\"fill:#4575b4;fill-opacity:0.7;stroke:#4575b4;stroke-opacity:0.7;stroke-width:0.3;\" x=\"113.218125\" y=\"47.339994\" xlink:href=\"#m0118f0fb57\" />\n     <use style=\"fill:#4575b4;fill-opacity:0.7;stroke:#4575b4;stroke-opacity:0.7;stroke-width:0.3;\" x=\"144.218125\" y=\"44.961708\" xlink:href=\"#m0118f0fb57\" />\n     <use style=\"fill:#4575b4;fill-opacity:0.7;stroke:#4575b4;stroke-opacity:0.7;stroke-width:0.3;\" x=\"159.718125\" y=\"45.767907\" xlink:href=\"#m0118f0fb57\" />\n     <use style=\"fill:#4575b4;fill-opacity:0.7;stroke:#4575b4;stroke-opacity:0.7;stroke-width:0.3;\" x=\"144.218125\" y=\"44.034579\" xlink:href=\"#m0118f0fb57\" />\n     <use style=\"fill:#4575b4;fill-opacity:0.7;stroke:#4575b4;stroke-opacity:0.7;stroke-width:0.3;\" x=\"144.218125\" y=\"46.251626\" xlink:href=\"#m0118f0fb57\" />\n     <use style=\"fill:#4575b4;fill-opacity:0.7;stroke:#4575b4;stroke-opacity:0.7;stroke-width:0.3;\" x=\"144.218125\" y=\"52.620596\" xlink:href=\"#m0118f0fb57\" />\n     <use style=\"fill:#4575b4;fill-opacity:0.7;stroke:#4575b4;stroke-opacity:0.7;stroke-width:0.3;\" x=\"128.718125\" y=\"49.403863\" xlink:href=\"#m0118f0fb57\" />\n     <use style=\"fill:#4575b4;fill-opacity:0.7;stroke:#4575b4;stroke-opacity:0.7;stroke-width:0.3;\" x=\"159.718125\" y=\"44.921398\" xlink:href=\"#m0118f0fb57\" />\n     <use style=\"fill:#4575b4;fill-opacity:0.7;stroke:#4575b4;stroke-opacity:0.7;stroke-width:0.3;\" x=\"97.718125\" y=\"59.070185\" xlink:href=\"#m0118f0fb57\" />\n     <use style=\"fill:#4575b4;fill-opacity:0.7;stroke:#4575b4;stroke-opacity:0.7;stroke-width:0.3;\" x=\"113.218125\" y=\"52.298116\" xlink:href=\"#m0118f0fb57\" />\n     <use style=\"fill:#4575b4;fill-opacity:0.7;stroke:#4575b4;stroke-opacity:0.7;stroke-width:0.3;\" x=\"144.218125\" y=\"32.548666\" xlink:href=\"#m0118f0fb57\" />\n     <use style=\"fill:#4575b4;fill-opacity:0.7;stroke:#4575b4;stroke-opacity:0.7;stroke-width:0.3;\" x=\"144.218125\" y=\"46.251626\" xlink:href=\"#m0118f0fb57\" />\n     <use style=\"fill:#4575b4;fill-opacity:0.7;stroke:#4575b4;stroke-opacity:0.7;stroke-width:0.3;\" x=\"113.218125\" y=\"53.023695\" xlink:href=\"#m0118f0fb57\" />\n     <use style=\"fill:#4575b4;fill-opacity:0.7;stroke:#4575b4;stroke-opacity:0.7;stroke-width:0.3;\" x=\"128.718125\" y=\"50.726029\" xlink:href=\"#m0118f0fb57\" />\n     <use style=\"fill:#4575b4;fill-opacity:0.7;stroke:#4575b4;stroke-opacity:0.7;stroke-width:0.3;\" x=\"97.718125\" y=\"52.217496\" xlink:href=\"#m0118f0fb57\" />\n     <use style=\"fill:#4575b4;fill-opacity:0.7;stroke:#4575b4;stroke-opacity:0.7;stroke-width:0.3;\" x=\"159.718125\" y=\"53.668654\" xlink:href=\"#m0118f0fb57\" />\n    </g>\n   </g>\n   <g id=\"patch_3\">\n    <path d=\"M 151.968125 60.606236  L 149.457125 66.585836  L 154.479125 66.585836  z \" style=\"fill:#444443;\" />\n   </g>\n   <g id=\"matplotlib.axis_1\">\n    <g id=\"xtick_1\">\n     <g id=\"line2d_1\">\n      <defs>\n       <path d=\"M 0 0  L 0 3.5  \" id=\"ma540e7ed39\" style=\"stroke:#444443;stroke-width:0.3;\" />\n      </defs>\n      <g>\n       <use style=\"fill:#444443;stroke:#444443;stroke-width:0.3;\" x=\"51.218125\" y=\"60.606236\" xlink:href=\"#ma540e7ed39\" />\n      </g>\n     </g>\n     <g id=\"text_1\">\n      \n      <defs>\n       <path d=\"M 12.40625 8.296875  L 28.515625 8.296875  L 28.515625 63.921875  L 10.984375 60.40625  L 10.984375 69.390625  L 28.421875 72.90625  L 38.28125 72.90625  L 38.28125 8.296875  L 54.390625 8.296875  L 54.390625 0  L 12.40625 0  z \" id=\"DejaVuSans-49\" />\n       <path d=\"M 10.6875 12.40625  L 21 12.40625  L 21 0  L 10.6875 0  z \" id=\"DejaVuSans-46\" />\n       <path d=\"M 31.78125 66.40625  Q 24.171875 66.40625 20.328125 58.90625  Q 16.5 51.421875 16.5 36.375  Q 16.5 21.390625 20.328125 13.890625  Q 24.171875 6.390625 31.78125 6.390625  Q 39.453125 6.390625 43.28125 13.890625  Q 47.125 21.390625 47.125 36.375  Q 47.125 51.421875 43.28125 58.90625  Q 39.453125 66.40625 31.78125 66.40625  z M 31.78125 74.21875  Q 44.046875 74.21875 50.515625 64.515625  Q 56.984375 54.828125 56.984375 36.375  Q 56.984375 17.96875 50.515625 8.265625  Q 44.046875 -1.421875 31.78125 -1.421875  Q 19.53125 -1.421875 13.0625 8.265625  Q 6.59375 17.96875 6.59375 36.375  Q 6.59375 54.828125 13.0625 64.515625  Q 19.53125 74.21875 31.78125 74.21875  z \" id=\"DejaVuSans-48\" />\n      </defs>\n      <g style=\"fill:#444443;\" transform=\"translate(44.856875 73.684986)scale(0.08 -0.08)\">\n       <use xlink:href=\"#DejaVuSans-49\" />\n       <use x=\"63.623047\" xlink:href=\"#DejaVuSans-46\" />\n       <use x=\"95.410156\" xlink:href=\"#DejaVuSans-48\" />\n      </g>\n     </g>\n    </g>\n    <g id=\"xtick_2\">\n     <g id=\"line2d_2\">\n      <g>\n       <use style=\"fill:#444443;stroke:#444443;stroke-width:0.3;\" x=\"190.718125\" y=\"60.606236\" xlink:href=\"#ma540e7ed39\" />\n      </g>\n     </g>\n     <g id=\"text_2\">\n      \n      <g style=\"fill:#444443;\" transform=\"translate(181.811875 73.684986)scale(0.08 -0.08)\">\n       <use xlink:href=\"#DejaVuSans-49\" />\n       <use x=\"63.623047\" xlink:href=\"#DejaVuSans-48\" />\n       <use x=\"127.246094\" xlink:href=\"#DejaVuSans-46\" />\n       <use x=\"159.033203\" xlink:href=\"#DejaVuSans-48\" />\n      </g>\n     </g>\n    </g>\n    <g id=\"xtick_3\">\n     <g id=\"line2d_3\">\n      <g>\n       <use style=\"fill:#444443;stroke:#444443;stroke-width:0.3;\" x=\"151.968125\" y=\"60.606236\" xlink:href=\"#ma540e7ed39\" />\n      </g>\n     </g>\n     <g id=\"text_3\">\n      \n      <defs>\n       <path d=\"M 8.203125 72.90625  L 55.078125 72.90625  L 55.078125 68.703125  L 28.609375 0  L 18.3125 0  L 43.21875 64.59375  L 8.203125 64.59375  z \" id=\"DejaVuSans-55\" />\n       <path d=\"M 10.796875 72.90625  L 49.515625 72.90625  L 49.515625 64.59375  L 19.828125 64.59375  L 19.828125 46.734375  Q 21.96875 47.46875 24.109375 47.828125  Q 26.265625 48.1875 28.421875 48.1875  Q 40.625 48.1875 47.75 41.5  Q 54.890625 34.8125 54.890625 23.390625  Q 54.890625 11.625 47.5625 5.09375  Q 40.234375 -1.421875 26.90625 -1.421875  Q 22.3125 -1.421875 17.546875 -0.640625  Q 12.796875 0.140625 7.71875 1.703125  L 7.71875 11.625  Q 12.109375 9.234375 16.796875 8.0625  Q 21.484375 6.890625 26.703125 6.890625  Q 35.15625 6.890625 40.078125 11.328125  Q 45.015625 15.765625 45.015625 23.390625  Q 45.015625 31 40.078125 35.4375  Q 35.15625 39.890625 26.703125 39.890625  Q 22.75 39.890625 18.8125 39.015625  Q 14.890625 38.140625 10.796875 36.28125  z \" id=\"DejaVuSans-53\" />\n      </defs>\n      <g style=\"fill:#444443;\" transform=\"translate(145.606875 73.684986)scale(0.08 -0.08)\">\n       <use xlink:href=\"#DejaVuSans-55\" />\n       <use x=\"63.623047\" xlink:href=\"#DejaVuSans-46\" />\n       <use x=\"95.410156\" xlink:href=\"#DejaVuSans-53\" />\n      </g>\n     </g>\n    </g>\n    <g id=\"text_4\">\n     \n     <defs>\n      <path d=\"M 39.40625 66.21875  Q 28.65625 66.21875 22.328125 58.203125  Q 16.015625 50.203125 16.015625 36.375  Q 16.015625 22.609375 22.328125 14.59375  Q 28.65625 6.59375 39.40625 6.59375  Q 50.140625 6.59375 56.421875 14.59375  Q 62.703125 22.609375 62.703125 36.375  Q 62.703125 50.203125 56.421875 58.203125  Q 50.140625 66.21875 39.40625 66.21875  z M 39.40625 74.21875  Q 54.734375 74.21875 63.90625 63.9375  Q 73.09375 53.65625 73.09375 36.375  Q 73.09375 19.140625 63.90625 8.859375  Q 54.734375 -1.421875 39.40625 -1.421875  Q 24.03125 -1.421875 14.8125 8.828125  Q 5.609375 19.09375 5.609375 36.375  Q 5.609375 53.65625 14.8125 63.9375  Q 24.03125 74.21875 39.40625 74.21875  z \" id=\"DejaVuSans-79\" />\n      <path d=\"M 2.984375 54.6875  L 12.5 54.6875  L 29.59375 8.796875  L 46.6875 54.6875  L 56.203125 54.6875  L 35.6875 0  L 23.484375 0  z \" id=\"DejaVuSans-118\" />\n      <path d=\"M 56.203125 29.59375  L 56.203125 25.203125  L 14.890625 25.203125  Q 15.484375 15.921875 20.484375 11.0625  Q 25.484375 6.203125 34.421875 6.203125  Q 39.59375 6.203125 44.453125 7.46875  Q 49.3125 8.734375 54.109375 11.28125  L 54.109375 2.78125  Q 49.265625 0.734375 44.1875 -0.34375  Q 39.109375 -1.421875 33.890625 -1.421875  Q 20.796875 -1.421875 13.15625 6.1875  Q 5.515625 13.8125 5.515625 26.8125  Q 5.515625 40.234375 12.765625 48.109375  Q 20.015625 56 32.328125 56  Q 43.359375 56 49.78125 48.890625  Q 56.203125 41.796875 56.203125 29.59375  z M 47.21875 32.234375  Q 47.125 39.59375 43.09375 43.984375  Q 39.0625 48.390625 32.421875 48.390625  Q 24.90625 48.390625 20.390625 44.140625  Q 15.875 39.890625 15.1875 32.171875  z \" id=\"DejaVuSans-101\" />\n      <path d=\"M 41.109375 46.296875  Q 39.59375 47.171875 37.8125 47.578125  Q 36.03125 48 33.890625 48  Q 26.265625 48 22.1875 43.046875  Q 18.109375 38.09375 18.109375 28.8125  L 18.109375 0  L 9.078125 0  L 9.078125 54.6875  L 18.109375 54.6875  L 18.109375 46.1875  Q 20.953125 51.171875 25.484375 53.578125  Q 30.03125 56 36.53125 56  Q 37.453125 56 38.578125 55.875  Q 39.703125 55.765625 41.0625 55.515625  z \" id=\"DejaVuSans-114\" />\n      <path d=\"M 34.28125 27.484375  Q 23.390625 27.484375 19.1875 25  Q 14.984375 22.515625 14.984375 16.5  Q 14.984375 11.71875 18.140625 8.90625  Q 21.296875 6.109375 26.703125 6.109375  Q 34.1875 6.109375 38.703125 11.40625  Q 43.21875 16.703125 43.21875 25.484375  L 43.21875 27.484375  z M 52.203125 31.203125  L 52.203125 0  L 43.21875 0  L 43.21875 8.296875  Q 40.140625 3.328125 35.546875 0.953125  Q 30.953125 -1.421875 24.3125 -1.421875  Q 15.921875 -1.421875 10.953125 3.296875  Q 6 8.015625 6 15.921875  Q 6 25.140625 12.171875 29.828125  Q 18.359375 34.515625 30.609375 34.515625  L 43.21875 34.515625  L 43.21875 35.40625  Q 43.21875 41.609375 39.140625 45  Q 35.0625 48.390625 27.6875 48.390625  Q 23 48.390625 18.546875 47.265625  Q 14.109375 46.140625 10.015625 43.890625  L 10.015625 52.203125  Q 14.9375 54.109375 19.578125 55.046875  Q 24.21875 56 28.609375 56  Q 40.484375 56 46.34375 49.84375  Q 52.203125 43.703125 52.203125 31.203125  z \" id=\"DejaVuSans-97\" />\n      <path d=\"M 9.421875 75.984375  L 18.40625 75.984375  L 18.40625 0  L 9.421875 0  z \" id=\"DejaVuSans-108\" />\n      <path d=\"M 39.40625 66.21875  Q 28.65625 66.21875 22.328125 58.203125  Q 16.015625 50.203125 16.015625 36.375  Q 16.015625 22.609375 22.328125 14.59375  Q 28.65625 6.59375 39.40625 6.59375  Q 50.140625 6.59375 56.421875 14.59375  Q 62.703125 22.609375 62.703125 36.375  Q 62.703125 50.203125 56.421875 58.203125  Q 50.140625 66.21875 39.40625 66.21875  z M 53.21875 1.3125  L 66.21875 -12.890625  L 54.296875 -12.890625  L 43.5 -1.21875  Q 41.890625 -1.3125 41.03125 -1.359375  Q 40.1875 -1.421875 39.40625 -1.421875  Q 24.03125 -1.421875 14.8125 8.859375  Q 5.609375 19.140625 5.609375 36.375  Q 5.609375 53.65625 14.8125 63.9375  Q 24.03125 74.21875 39.40625 74.21875  Q 54.734375 74.21875 63.90625 63.9375  Q 73.09375 53.65625 73.09375 36.375  Q 73.09375 23.6875 67.984375 14.640625  Q 62.890625 5.609375 53.21875 1.3125  z \" id=\"DejaVuSans-81\" />\n      <path d=\"M 8.5 21.578125  L 8.5 54.6875  L 17.484375 54.6875  L 17.484375 21.921875  Q 17.484375 14.15625 20.5 10.265625  Q 23.53125 6.390625 29.59375 6.390625  Q 36.859375 6.390625 41.078125 11.03125  Q 45.3125 15.671875 45.3125 23.6875  L 45.3125 54.6875  L 54.296875 54.6875  L 54.296875 0  L 45.3125 0  L 45.3125 8.40625  Q 42.046875 3.421875 37.71875 1  Q 33.40625 -1.421875 27.6875 -1.421875  Q 18.265625 -1.421875 13.375 4.4375  Q 8.5 10.296875 8.5 21.578125  z M 31.109375 56  z \" id=\"DejaVuSans-117\" />\n     </defs>\n     <g style=\"fill:#444443;\" transform=\"translate(91.540781 86.947173)scale(0.1 -0.1)\">\n      <use xlink:href=\"#DejaVuSans-79\" />\n      <use x=\"78.710938\" xlink:href=\"#DejaVuSans-118\" />\n      <use x=\"137.890625\" xlink:href=\"#DejaVuSans-101\" />\n      <use x=\"199.414062\" xlink:href=\"#DejaVuSans-114\" />\n      <use x=\"240.527344\" xlink:href=\"#DejaVuSans-97\" />\n      <use x=\"301.806641\" xlink:href=\"#DejaVuSans-108\" />\n      <use x=\"329.589844\" xlink:href=\"#DejaVuSans-108\" />\n      <use x=\"357.373047\" xlink:href=\"#DejaVuSans-81\" />\n      <use x=\"436.083984\" xlink:href=\"#DejaVuSans-117\" />\n      <use x=\"499.462891\" xlink:href=\"#DejaVuSans-97\" />\n      <use x=\"560.742188\" xlink:href=\"#DejaVuSans-108\" />\n     </g>\n    </g>\n   </g>\n   <g id=\"matplotlib.axis_2\">\n    <g id=\"ytick_1\">\n     <g id=\"line2d_4\">\n      <defs>\n       <path d=\"M 0 0  L -3.5 0  \" id=\"m99ff56c580\" style=\"stroke:#444443;stroke-width:0.3;\" />\n      </defs>\n      <g>\n       <use style=\"fill:#444443;stroke:#444443;stroke-width:0.3;\" x=\"51.218125\" y=\"43.34931\" xlink:href=\"#m99ff56c580\" />\n      </g>\n     </g>\n     <g id=\"text_5\">\n      \n      <defs>\n       <path d=\"M 19.1875 8.296875  L 53.609375 8.296875  L 53.609375 0  L 7.328125 0  L 7.328125 8.296875  Q 12.9375 14.109375 22.625 23.890625  Q 32.328125 33.6875 34.8125 36.53125  Q 39.546875 41.84375 41.421875 45.53125  Q 43.3125 49.21875 43.3125 52.78125  Q 43.3125 58.59375 39.234375 62.25  Q 35.15625 65.921875 28.609375 65.921875  Q 23.96875 65.921875 18.8125 64.3125  Q 13.671875 62.703125 7.8125 59.421875  L 7.8125 69.390625  Q 13.765625 71.78125 18.9375 73  Q 24.125 74.21875 28.421875 74.21875  Q 39.75 74.21875 46.484375 68.546875  Q 53.21875 62.890625 53.21875 53.421875  Q 53.21875 48.921875 51.53125 44.890625  Q 49.859375 40.875 45.40625 35.40625  Q 44.1875 33.984375 37.640625 27.21875  Q 31.109375 20.453125 19.1875 8.296875  z \" id=\"DejaVuSans-50\" />\n      </defs>\n      <g style=\"fill:#444443;\" transform=\"translate(13.678125 46.388685)scale(0.08 -0.08)\">\n       <use xlink:href=\"#DejaVuSans-50\" />\n       <use x=\"63.623047\" xlink:href=\"#DejaVuSans-53\" />\n       <use x=\"127.246094\" xlink:href=\"#DejaVuSans-48\" />\n       <use x=\"190.869141\" xlink:href=\"#DejaVuSans-48\" />\n       <use x=\"254.492188\" xlink:href=\"#DejaVuSans-48\" />\n       <use x=\"318.115234\" xlink:href=\"#DejaVuSans-48\" />\n      </g>\n     </g>\n    </g>\n    <g id=\"ytick_2\">\n     <g id=\"line2d_5\">\n      <g>\n       <use style=\"fill:#444443;stroke:#444443;stroke-width:0.3;\" x=\"51.218125\" y=\"23.194343\" xlink:href=\"#m99ff56c580\" />\n      </g>\n     </g>\n     <g id=\"text_6\">\n      \n      <g style=\"fill:#444443;\" transform=\"translate(13.678125 26.233718)scale(0.08 -0.08)\">\n       <use xlink:href=\"#DejaVuSans-53\" />\n       <use x=\"63.623047\" xlink:href=\"#DejaVuSans-48\" />\n       <use x=\"127.246094\" xlink:href=\"#DejaVuSans-48\" />\n       <use x=\"190.869141\" xlink:href=\"#DejaVuSans-48\" />\n       <use x=\"254.492188\" xlink:href=\"#DejaVuSans-48\" />\n       <use x=\"318.115234\" xlink:href=\"#DejaVuSans-48\" />\n      </g>\n     </g>\n    </g>\n    <g id=\"ytick_3\">\n     <g id=\"line2d_6\">\n      <g>\n       <use style=\"fill:#444443;stroke:#444443;stroke-width:0.3;\" x=\"51.218125\" y=\"3.039375\" xlink:href=\"#m99ff56c580\" />\n      </g>\n     </g>\n     <g id=\"text_7\">\n      \n      <g style=\"fill:#444443;\" transform=\"translate(13.678125 6.07875)scale(0.08 -0.08)\">\n       <use xlink:href=\"#DejaVuSans-55\" />\n       <use x=\"63.623047\" xlink:href=\"#DejaVuSans-53\" />\n       <use x=\"127.246094\" xlink:href=\"#DejaVuSans-48\" />\n       <use x=\"190.869141\" xlink:href=\"#DejaVuSans-48\" />\n       <use x=\"254.492188\" xlink:href=\"#DejaVuSans-48\" />\n       <use x=\"318.115234\" xlink:href=\"#DejaVuSans-48\" />\n      </g>\n     </g>\n    </g>\n    <g id=\"text_8\">\n     \n     <defs>\n      <path d=\"M 53.515625 70.515625  L 53.515625 60.890625  Q 47.90625 63.578125 42.921875 64.890625  Q 37.9375 66.21875 33.296875 66.21875  Q 25.25 66.21875 20.875 63.09375  Q 16.5 59.96875 16.5 54.203125  Q 16.5 49.359375 19.40625 46.890625  Q 22.3125 44.4375 30.421875 42.921875  L 36.375 41.703125  Q 47.40625 39.59375 52.65625 34.296875  Q 57.90625 29 57.90625 20.125  Q 57.90625 9.515625 50.796875 4.046875  Q 43.703125 -1.421875 29.984375 -1.421875  Q 24.8125 -1.421875 18.96875 -0.25  Q 13.140625 0.921875 6.890625 3.21875  L 6.890625 13.375  Q 12.890625 10.015625 18.65625 8.296875  Q 24.421875 6.59375 29.984375 6.59375  Q 38.421875 6.59375 43.015625 9.90625  Q 47.609375 13.234375 47.609375 19.390625  Q 47.609375 24.75 44.3125 27.78125  Q 41.015625 30.8125 33.5 32.328125  L 27.484375 33.5  Q 16.453125 35.6875 11.515625 40.375  Q 6.59375 45.0625 6.59375 53.421875  Q 6.59375 63.09375 13.40625 68.65625  Q 20.21875 74.21875 32.171875 74.21875  Q 37.3125 74.21875 42.625 73.28125  Q 47.953125 72.359375 53.515625 70.515625  z \" id=\"DejaVuSans-83\" />\n      <path d=\"M 19.671875 64.796875  L 19.671875 37.40625  L 32.078125 37.40625  Q 38.96875 37.40625 42.71875 40.96875  Q 46.484375 44.53125 46.484375 51.125  Q 46.484375 57.671875 42.71875 61.234375  Q 38.96875 64.796875 32.078125 64.796875  z M 9.8125 72.90625  L 32.078125 72.90625  Q 44.34375 72.90625 50.609375 67.359375  Q 56.890625 61.8125 56.890625 51.125  Q 56.890625 40.328125 50.609375 34.8125  Q 44.34375 29.296875 32.078125 29.296875  L 19.671875 29.296875  L 19.671875 0  L 9.8125 0  z \" id=\"DejaVuSans-80\" />\n      <path d=\"M 9.421875 54.6875  L 18.40625 54.6875  L 18.40625 0  L 9.421875 0  z M 9.421875 75.984375  L 18.40625 75.984375  L 18.40625 64.59375  L 9.421875 64.59375  z \" id=\"DejaVuSans-105\" />\n      <path d=\"M 48.78125 52.59375  L 48.78125 44.1875  Q 44.96875 46.296875 41.140625 47.34375  Q 37.3125 48.390625 33.40625 48.390625  Q 24.65625 48.390625 19.8125 42.84375  Q 14.984375 37.3125 14.984375 27.296875  Q 14.984375 17.28125 19.8125 11.734375  Q 24.65625 6.203125 33.40625 6.203125  Q 37.3125 6.203125 41.140625 7.25  Q 44.96875 8.296875 48.78125 10.40625  L 48.78125 2.09375  Q 45.015625 0.34375 40.984375 -0.53125  Q 36.96875 -1.421875 32.421875 -1.421875  Q 20.0625 -1.421875 12.78125 6.34375  Q 5.515625 14.109375 5.515625 27.296875  Q 5.515625 40.671875 12.859375 48.328125  Q 20.21875 56 33.015625 56  Q 37.15625 56 41.109375 55.140625  Q 45.0625 54.296875 48.78125 52.59375  z \" id=\"DejaVuSans-99\" />\n     </defs>\n     <g style=\"fill:#444443;\" transform=\"translate(7.598437 53.609798)rotate(-90)scale(0.1 -0.1)\">\n      <use xlink:href=\"#DejaVuSans-83\" />\n      <use x=\"63.476562\" xlink:href=\"#DejaVuSans-97\" />\n      <use x=\"124.755859\" xlink:href=\"#DejaVuSans-108\" />\n      <use x=\"152.539062\" xlink:href=\"#DejaVuSans-101\" />\n      <use x=\"214.0625\" xlink:href=\"#DejaVuSans-80\" />\n      <use x=\"272.615234\" xlink:href=\"#DejaVuSans-114\" />\n      <use x=\"313.728516\" xlink:href=\"#DejaVuSans-105\" />\n      <use x=\"341.511719\" xlink:href=\"#DejaVuSans-99\" />\n      <use x=\"396.492188\" xlink:href=\"#DejaVuSans-101\" />\n     </g>\n    </g>\n   </g>\n   <g id=\"line2d_7\">\n    <path clip-path=\"url(#pce26b86e55)\" d=\"M 51.218125 50.581208  L 151.968125 50.581208  \" style=\"fill:none;stroke:#444443;stroke-dasharray:3.7,1.6;stroke-dashoffset:0;\" />\n   </g>\n   <g id=\"line2d_8\">\n    <path clip-path=\"url(#pce26b86e55)\" d=\"M 151.968125 60.606236  L 151.968125 0.810236  \" style=\"fill:none;stroke:#444443;stroke-dasharray:3.7,1.6;stroke-dashoffset:0;\" />\n   </g>\n   <g id=\"line2d_9\">\n    <path clip-path=\"url(#pce26b86e55)\" d=\"M 151.968125 38.248552  L 190.718125 38.248552  \" style=\"fill:none;stroke:#444443;stroke-dasharray:3.7,1.6;stroke-dashoffset:0;\" />\n   </g>\n   <g id=\"patch_4\">\n    <path d=\"M 51.218125 60.606236  L 51.218125 0.810236  \" style=\"fill:none;stroke:#000000;stroke-linecap:square;stroke-linejoin:miter;stroke-width:0.3;\" />\n   </g>\n   <g id=\"patch_5\">\n    <path d=\"M 51.218125 60.606236  L 190.718125 60.606236  \" style=\"fill:none;stroke:#000000;stroke-linecap:square;stroke-linejoin:miter;stroke-width:0.3;\" />\n   </g>\n  </g>\n </g>\n <defs>\n  <clipPath id=\"pce26b86e55\">\n   <rect height=\"59.796\" width=\"139.5\" x=\"51.218125\" y=\"0.810236\" />\n  </clipPath>\n </defs>\n</svg></g>\n\n<g class=\"edge\" id=\"edge7\">\n<title>node0-&gt;node1</title>\n<path d=\"M158.1464,-156.5653C164.9601,-158.2927 171.8502,-160.0395 178.6535,-161.7643\" fill=\"none\" stroke=\"#444443\" stroke-width=\".3\" />\n<polygon fill=\"#444443\" points=\"178.6554,-163.209 182.8768,-162.835 179.3436,-160.4948 178.6554,-163.209\" stroke=\"#444443\" stroke-width=\".3\" />\n<text fill=\"#000000\" font-family=\"Times,serif\" font-size=\"14.00\" text-anchor=\"start\" x=\"166.5\" y=\"-163.3\">&#8804;</text>\n</g>\n\n<g class=\"edge\" id=\"edge8\">\n<title>node0-&gt;node2</title>\n<path d=\"M158.1464,-117.3265C164.9601,-115.6759 171.8502,-114.0067 178.6535,-112.3586\" fill=\"none\" stroke=\"#444443\" stroke-width=\".3\" />\n<polygon fill=\"#444443\" points=\"179.3189,-113.638 182.8768,-111.3355 178.6596,-110.9167 179.3189,-113.638\" stroke=\"#444443\" stroke-width=\".3\" />\n<text fill=\"#000000\" font-family=\"Times,serif\" font-size=\"14.00\" text-anchor=\"start\" x=\"166\" y=\"-118.3\">&gt;</text>\n</g>\n\n\n</g>\n</svg>"
          },
          "metadata": {},
          "execution_count": 40
        }
      ],
      "source": [
        "samp_idx = np.random.permutation(len(y))[:500]\n",
        "dtreeviz(m, xs.iloc[samp_idx], y.iloc[samp_idx], xs.columns, dep_var,\n",
        "        fontname='DejaVu Sans', scale=1.6, label_fontsize=10,\n",
        "        orientation='LR')"
      ]
    },
    {
      "cell_type": "markdown",
      "metadata": {
        "id": "kyhmWgYe8f4Y"
      },
      "source": [
        "This shows a chart of the distribution of the data for each split point."
      ]
    },
    {
      "cell_type": "markdown",
      "metadata": {
        "id": "4b3Fy_PU8f4Z"
      },
      "source": [
        "Let's now have the decision tree algorithm build a bigger tree. Here, we are not passing in any stopping criteria such as `max_leaf_nodes`:"
      ]
    },
    {
      "cell_type": "code",
      "execution_count": 41,
      "metadata": {
        "id": "V_GPbx2z8f4Z"
      },
      "outputs": [],
      "source": [
        "m = DecisionTreeRegressor()\n",
        "m.fit(xs, y);"
      ]
    },
    {
      "cell_type": "markdown",
      "metadata": {
        "id": "TvU0BS-98f4Z"
      },
      "source": [
        "We'll create a little function to check the root mean squared error of our model (`m_rmse`), since that's how the competition was judged:"
      ]
    },
    {
      "cell_type": "code",
      "execution_count": 42,
      "metadata": {
        "id": "qqlfFWW28f4Z"
      },
      "outputs": [],
      "source": [
        "def r_mse(pred,y): return round(math.sqrt(((pred-y)**2).mean()), 6)\n",
        "def m_rmse(m, xs, y): return r_mse(m.predict(xs), y)"
      ]
    },
    {
      "cell_type": "code",
      "execution_count": 43,
      "metadata": {
        "colab": {
          "base_uri": "https://localhost:8080/"
        },
        "id": "Xx_WXYZT8f4Z",
        "outputId": "0e08e7d1-c132-4e1b-fd19-206885c61351"
      },
      "outputs": [
        {
          "output_type": "execute_result",
          "data": {
            "text/plain": [
              "0.0"
            ]
          },
          "metadata": {},
          "execution_count": 43
        }
      ],
      "source": [
        "m_rmse(m, xs, y)"
      ]
    },
    {
      "cell_type": "markdown",
      "metadata": {
        "id": "V8W_YbbA8f4Z"
      },
      "source": [
        "So, our model is perfect, right? Not so fast... remember we really need to check the validation set, to ensure we're not overfitting:"
      ]
    },
    {
      "cell_type": "code",
      "execution_count": 44,
      "metadata": {
        "colab": {
          "base_uri": "https://localhost:8080/"
        },
        "id": "t7rwBTMS8f4Z",
        "outputId": "6e5ca7af-002d-4770-a6bc-0ed7d953863c"
      },
      "outputs": [
        {
          "output_type": "execute_result",
          "data": {
            "text/plain": [
              "37428.086303"
            ]
          },
          "metadata": {},
          "execution_count": 44
        }
      ],
      "source": [
        "m_rmse(m, valid_xs, valid_y)"
      ]
    },
    {
      "cell_type": "markdown",
      "metadata": {
        "id": "9V_w-frZ8f4a"
      },
      "source": [
        "Oops—it looks like we might be overfitting pretty badly. Here's why:"
      ]
    },
    {
      "cell_type": "code",
      "execution_count": 45,
      "metadata": {
        "colab": {
          "base_uri": "https://localhost:8080/"
        },
        "id": "aWk0wdO48f4a",
        "outputId": "59e71b85-8058-47d1-b6f4-a76d29f8b8f5"
      },
      "outputs": [
        {
          "output_type": "execute_result",
          "data": {
            "text/plain": [
              "(1120, 1168)"
            ]
          },
          "metadata": {},
          "execution_count": 45
        }
      ],
      "source": [
        "m.get_n_leaves(), len(xs)"
      ]
    },
    {
      "cell_type": "markdown",
      "metadata": {
        "id": "vU_0GD7d8f4a"
      },
      "source": [
        "We've got nearly as many leaf nodes as data points! That seems a little over-enthusiastic. Indeed, sklearn's default settings allow it to continue splitting nodes until there is only one item in each leaf node. Let's change the stopping rule to tell sklearn to ensure every leaf node contains at least 25 records:"
      ]
    },
    {
      "cell_type": "code",
      "execution_count": 46,
      "metadata": {
        "colab": {
          "base_uri": "https://localhost:8080/"
        },
        "id": "aAr1pMZd8f4a",
        "outputId": "3c3b9b91-d786-4853-b134-412a6c877a1a"
      },
      "outputs": [
        {
          "output_type": "execute_result",
          "data": {
            "text/plain": [
              "(34201.324844, 33982.166466)"
            ]
          },
          "metadata": {},
          "execution_count": 46
        }
      ],
      "source": [
        "m = DecisionTreeRegressor(min_samples_leaf=25)\n",
        "m.fit(to.train.xs, to.train.y)\n",
        "m_rmse(m, xs, y), m_rmse(m, valid_xs, valid_y)"
      ]
    },
    {
      "cell_type": "markdown",
      "metadata": {
        "id": "dg-0em-g8f4a"
      },
      "source": [
        "That looks much better. Let's check the number of leaves again:"
      ]
    },
    {
      "cell_type": "code",
      "execution_count": 47,
      "metadata": {
        "colab": {
          "base_uri": "https://localhost:8080/"
        },
        "id": "qw1m7HGk8f4b",
        "outputId": "01eb312a-3bdf-4a09-e3dc-429d7242e980"
      },
      "outputs": [
        {
          "output_type": "execute_result",
          "data": {
            "text/plain": [
              "34"
            ]
          },
          "metadata": {},
          "execution_count": 47
        }
      ],
      "source": [
        "m.get_n_leaves()"
      ]
    },
    {
      "cell_type": "markdown",
      "metadata": {
        "id": "4VvOgEat8f4b"
      },
      "source": [
        "Much more reasonable!"
      ]
    },
    {
      "cell_type": "markdown",
      "metadata": {
        "id": "2guQDGvY8f4b"
      },
      "source": [
        "Building a decision tree is a good way to create a model of our data. It is very flexible, since it can clearly handle nonlinear relationships and interactions between variables. But we can see there is a fundamental compromise between how well it generalizes (which we can achieve by creating small trees) and how accurate it is on the training set (which we can achieve by using large trees).\n",
        "\n",
        "So how do we get the best of both worlds? We'll show you right after we handle an important missing detail: how to handle categorical variables."
      ]
    },
    {
      "cell_type": "markdown",
      "metadata": {
        "id": "GZ6Y3piO8f4b"
      },
      "source": [
        "### Categorical Variables"
      ]
    },
    {
      "cell_type": "markdown",
      "metadata": {
        "id": "U7Y5jjeE8f4b"
      },
      "source": [
        "In the previous chapter, when working with deep learning networks, we dealt with categorical variables by one-hot encoding them and feeding them to an embedding layer. The embedding layer helped the model to discover the meaning of the different levels of these variables (the levels of a categorical variable do not have an intrinsic meaning, unless we manually specify an ordering using Pandas). In a decision tree, we don't have embeddings layers—so how can these untreated categorical variables do anything useful in a decision tree? For instance, how could something like a product code be used?\n",
        "\n",
        "The short answer is: it just works! Think about a situation where there is one Neighborhood that is far more expensive than any other one. In that case, any binary split will result in that Neighborhood being in some group, and that group will be more expensive than the other group. Therefore, our simple decision tree building algorithm will choose that split. Later during training the algorithm will be able to further split the subgroup that contains the expensive Neighborhood, and over time, the tree will home in on that one expensive house.\n",
        "\n",
        "It is also possible to use one-hot encoding to replace a single categorical variable with multiple one-hot-encoded columns, where each column represents a possible level of the variable. Pandas has a `get_dummies` method which does just that.\n",
        "\n",
        "However, there is not really any evidence that such an approach improves the end result. So, we generally avoid it where possible, because it does end up making your dataset harder to work with. In 2019 this issue was explored in the paper [\"Splitting on Categorical Predictors in Random Forests\"](https://peerj.com/articles/6339/) by Marvin Wright and Inke König, which said:"
      ]
    },
    {
      "cell_type": "markdown",
      "metadata": {
        "id": "uQJ2TPPC8f4c"
      },
      "source": [
        ">   ***The standard approach for nominal predictors is to consider all $2^{k-1} − 1$ 2-partitions of the *k* predictor categories. However, this exponential relationship produces a large number of potential splits to be evaluated, increasing computational complexity and restricting the possible number of categories in most implementations. For binary classification and regression, it was shown that ordering the predictor categories in each split leads to exactly the same splits as the standard approach. This reduces computational complexity because only *k* − 1 splits have to be considered for a nominal predictor with *k* categories.***"
      ]
    },
    {
      "cell_type": "markdown",
      "metadata": {
        "id": "Wk1-TdYC8f4c"
      },
      "source": [
        "Now that you understand how decisions tree work, it's time for the best-of-both-worlds solution: random forests."
      ]
    },
    {
      "cell_type": "markdown",
      "metadata": {
        "id": "dDj-dYdv8f4c"
      },
      "source": [
        "## Random Forests"
      ]
    },
    {
      "cell_type": "markdown",
      "metadata": {
        "id": "yX46legK8f4c"
      },
      "source": [
        "In 1994 Berkeley professor Leo Breiman, one year after his retirement, published a small technical report called [\"Bagging Predictors\"](https://www.stat.berkeley.edu/~breiman/bagging.pdf), which turned out to be one of the most influential ideas in modern machine learning. The report began:\n",
        "\n",
        "> ***: Bagging predictors is a method for generating multiple versions of a predictor and using these to get an aggregated predictor. The aggregation averages over the versions... The multiple versions are formed by making bootstrap replicates of the learning set and using these as new learning sets. Tests… show that bagging can give substantial gains in accuracy. The vital element is the instability of the prediction method. If perturbing the learning set can cause significant changes in the predictor constructed, then bagging can improve accuracy.***\n",
        "\n",
        "Here is the procedure that Breiman is proposing:\n",
        "\n",
        "1. Randomly choose a subset of the rows of your data (i.e., \"bootstrap replicates of your learning set\").\n",
        "1. Train a model using this subset.\n",
        "1. Save that model, and then return to step 1 a few times.\n",
        "1. This will give you a number of trained models. To make a prediction, predict using all of the models, and then take the average of each of those model's predictions. \n",
        "\n",
        "This procedure is known as \"bagging.\" It is based on a deep and important insight: although each of the models trained on a subset of data will make more errors than a model trained on the full dataset, **those errors will not be correlated with each other. Different models will make different errors. The average of those errors, therefore, is: zero! So if we take the average of all of the models' predictions, then we should end up with a prediction that gets closer and closer to the correct answer, the more models we have**. This is an extraordinary result—it means that we can improve the accuracy of nearly any kind of machine learning algorithm by training it multiple times, each time on a different random subset of the data, and averaging its predictions.\n",
        "\n",
        "In 2001 Leo Breiman went on to demonstrate that this approach to building models, when applied to decision tree building algorithms, was particularly powerful. He went even further than just randomly choosing rows for each model's training, but also randomly selected from a subset of columns when choosing each split in each decision tree. He called this method the *random forest*.  Today it is, perhaps, the most widely used and practically important machine learning method.\n",
        "\n",
        "In essence a random forest is a model that averages the predictions of a large number of decision trees, which are generated by randomly varying various parameters that specify what data is used to train the tree and other tree parameters. Bagging is a particular approach to \"ensembling,\" or combining the results of multiple models together. To see how it works in practice, let's get started on creating our own random forest!"
      ]
    },
    {
      "cell_type": "code",
      "execution_count": 35,
      "metadata": {
        "id": "hCopqq4-8f4c"
      },
      "outputs": [],
      "source": [
        "#hide\n",
        "#!pip install —pre -f https://sklearn-nightly.scdn8.secure.raxcdn.com scikit-learn —U"
      ]
    },
    {
      "cell_type": "markdown",
      "metadata": {
        "id": "XZq-JnXC8f4f"
      },
      "source": [
        "### Creating a Random Forest"
      ]
    },
    {
      "cell_type": "markdown",
      "metadata": {
        "id": "Xe2X_Sr68f4g"
      },
      "source": [
        "We can create a random forest just like we created a decision tree, except now, we are also specifying parameters that indicate how many trees should be in the forest, how we should subset the data items (the rows), and how we should subset the fields (the columns).\n",
        "\n",
        "In the following function definition `n_estimators` defines the number of trees we want, `max_samples` defines how many rows to sample for training each tree, and `max_features` defines how many columns to sample at each split point (where `0.5` means \"take half the total number of columns\"). We can also specify when to stop splitting the tree nodes, effectively limiting the depth of the tree, by including the same `min_samples_leaf` parameter we used in the last section. Finally, we pass `n_jobs=-1` to tell sklearn to use all our CPUs to build the trees in parallel. By creating a little function for this, we can more quickly try different variations in the rest of this chapter:"
      ]
    },
    {
      "cell_type": "code",
      "execution_count": 76,
      "metadata": {
        "id": "iik9J-XP8f4g"
      },
      "outputs": [],
      "source": [
        "def rf(xs, y, n_estimators=200, max_samples=500,\n",
        "       max_features=0.5, min_samples_leaf=5, **kwargs):\n",
        "    return RandomForestRegressor(n_jobs=-1, n_estimators=n_estimators,\n",
        "        max_samples=max_samples, max_features=max_features,\n",
        "        min_samples_leaf=min_samples_leaf, oob_score=True).fit(xs, y)"
      ]
    },
    {
      "cell_type": "code",
      "execution_count": 77,
      "metadata": {
        "id": "ZM8fKM-K8f4g"
      },
      "outputs": [],
      "source": [
        "m = rf(xs, y);"
      ]
    },
    {
      "cell_type": "markdown",
      "metadata": {
        "id": "t5IaPAcf8f4g"
      },
      "source": [
        "Our validation RMSE is now much improved over our last result produced by the `DecisionTreeRegressor`, which made just one tree using all the available data:"
      ]
    },
    {
      "cell_type": "code",
      "execution_count": 78,
      "metadata": {
        "colab": {
          "base_uri": "https://localhost:8080/"
        },
        "id": "twt8ki_28f4g",
        "outputId": "54838106-5d21-4bc9-ee67-8634b9743dce"
      },
      "outputs": [
        {
          "output_type": "execute_result",
          "data": {
            "text/plain": [
              "(26565.624724, 26936.118605)"
            ]
          },
          "metadata": {},
          "execution_count": 78
        }
      ],
      "source": [
        "m_rmse(m, xs, y), m_rmse(m, valid_xs, valid_y)"
      ]
    },
    {
      "cell_type": "markdown",
      "metadata": {
        "id": "TxVPN1PI8f4g"
      },
      "source": [
        "One of the most important properties of random forests is that they aren't very sensitive to the hyperparameter choices, such as `max_features`. You can set `n_estimators` to as high a number as you have time to train—the more trees you have, the more accurate the model will be. `max_samples` can often be left at its default, unless you have over 200,000 data points, in which case setting it to 200,000 will make it train faster with little impact on accuracy. `max_features=0.5` and `min_samples_leaf=4` both tend to work well, although sklearn's defaults work well too.\n",
        "\n",
        "The sklearn docs [show an example](http://scikit-learn.org/stable/auto_examples/ensemble/plot_ensemble_oob.html) of the effects of different `max_features` choices, with increasing numbers of trees. In the plot, the blue plot line uses the fewest features and the green line uses the most (it uses all the features). As you can see in <<max_features>>, the models with the lowest error result from using a subset of features but with a larger number of trees."
      ]
    },
    {
      "cell_type": "markdown",
      "metadata": {
        "hide_input": true,
        "id": "uwwpelme8f4h"
      },
      "source": [
        "<img alt=\"sklearn max_features chart\" width=\"500\" caption=\"Error based on max features and number of trees (source: https://scikit-learn.org/stable/auto_examples/ensemble/plot_ensemble_oob.html)\" src=\"https://github.com/fastai/fastbook/blob/master/images/sklearn_features.png?raw=1\" id=\"max_features\"/>"
      ]
    },
    {
      "cell_type": "markdown",
      "metadata": {
        "id": "K6tvd3Dy8f4h"
      },
      "source": [
        "To see the impact of `n_estimators`, let's get the predictions from each individual tree in our forest (these are in the `estimators_` attribute):"
      ]
    },
    {
      "cell_type": "code",
      "execution_count": null,
      "metadata": {
        "id": "PCK7LgWj8f4h"
      },
      "outputs": [],
      "source": [
        "preds = np.stack([t.predict(valid_xs) for t in m.estimators_])"
      ]
    },
    {
      "cell_type": "markdown",
      "metadata": {
        "id": "coXZg7bF8f4h"
      },
      "source": [
        "As you can see, `preds.mean(0)` gives the same results as our random forest:"
      ]
    },
    {
      "cell_type": "code",
      "execution_count": 80,
      "metadata": {
        "colab": {
          "base_uri": "https://localhost:8080/"
        },
        "id": "QwLXf0Sn8f4i",
        "outputId": "87ffecfe-d680-4496-b5d3-219e07f34799"
      },
      "outputs": [
        {
          "output_type": "execute_result",
          "data": {
            "text/plain": [
              "26936.118605"
            ]
          },
          "metadata": {},
          "execution_count": 80
        }
      ],
      "source": [
        "r_mse(preds.mean(0), valid_y)"
      ]
    },
    {
      "cell_type": "markdown",
      "metadata": {
        "id": "gNHYMzkd8f4i"
      },
      "source": [
        "Let's see what happens to the RMSE as we add more and more trees. As you can see, the improvement levels off quite a bit after around 80 trees:"
      ]
    },
    {
      "cell_type": "code",
      "execution_count": 81,
      "metadata": {
        "colab": {
          "base_uri": "https://localhost:8080/",
          "height": 265
        },
        "id": "yP6Nm8DN8f4i",
        "outputId": "a0a0f516-4d39-43a1-ed52-14624709f891"
      },
      "outputs": [
        {
          "output_type": "display_data",
          "data": {
            "text/plain": [
              "<Figure size 432x288 with 1 Axes>"
            ],
            "image/png": "[encoded data removed]"
          },
          "metadata": {
            "needs_background": "light"
          }
        }
      ],
      "source": [
        "plt.plot([r_mse(preds[:i+1].mean(0), valid_y) for i in range(150)]);"
      ]
    },
    {
      "cell_type": "markdown",
      "metadata": {
        "id": "ZrEY4yNt8f4i"
      },
      "source": [
        "### Out-of-Bag Error"
      ]
    },
    {
      "cell_type": "markdown",
      "metadata": {
        "id": "RJeGZFX88f4i"
      },
      "source": [
        "Recall that in a random forest, each tree is trained on a different subset of the training data. The OOB error is a way of measuring prediction error on the training set by only including in the calculation of a row's error trees where that row was *not* included in training. This allows us to see whether the model is overfitting, without needing a separate validation set.\n",
        "\n",
        "> A: My intuition for this is that, since every tree was trained with a different randomly selected subset of rows, out-of-bag error is a little like imagining that every tree therefore also has its own validation set. That validation set is simply the rows that were not selected for that tree's training.\n",
        "\n",
        "This is particularly beneficial in cases where we have only a small amount of training data, as it allows us to see whether our model generalizes without removing items to create a validation set. The OOB predictions are available in the `oob_prediction_` attribute. Note that we compare them to the training labels, since this is being calculated on trees using the training set."
      ]
    },
    {
      "cell_type": "code",
      "execution_count": 82,
      "metadata": {
        "colab": {
          "base_uri": "https://localhost:8080/"
        },
        "id": "7RFEAkK48f4i",
        "outputId": "fc516850-9cf2-42d8-bf82-3fcb38766fb2"
      },
      "outputs": [
        {
          "output_type": "execute_result",
          "data": {
            "text/plain": [
              "32376.070476"
            ]
          },
          "metadata": {},
          "execution_count": 82
        }
      ],
      "source": [
        "r_mse(m.oob_prediction_, y)"
      ]
    },
    {
      "cell_type": "markdown",
      "metadata": {
        "id": "eoUJN3rd8f4j"
      },
      "source": [
        "This is one way to interpret our model's predictions—let's focus on more of those now."
      ]
    },
    {
      "cell_type": "markdown",
      "metadata": {
        "id": "2v-Putnn8f4j"
      },
      "source": [
        "## Model Interpretation"
      ]
    },
    {
      "cell_type": "markdown",
      "metadata": {
        "id": "1qmUGnam8f4j"
      },
      "source": [
        "For tabular data, model interpretation is particularly important. For a given model, the things we are most likely to be interested in are:\n",
        "\n",
        "- How confident are we in our predictions using a particular row of data?\n",
        "- For predicting with a particular row of data, what were the most important factors, and how did they influence that prediction?\n",
        "- Which columns are the strongest predictors, which can we ignore?\n",
        "- Which columns are effectively redundant with each other, for purposes of prediction?\n",
        "- How do predictions vary, as we vary these columns?\n",
        "\n",
        "As we will see, random forests are particularly well suited to answering these questions. Let's start with the first one!"
      ]
    },
    {
      "cell_type": "markdown",
      "metadata": {
        "id": "4R1MONSC8f4j"
      },
      "source": [
        "### Tree Variance for Prediction Confidence"
      ]
    },
    {
      "cell_type": "markdown",
      "metadata": {
        "id": "zUR0SQSd8f4j"
      },
      "source": [
        "We saw how the model averages the individual tree's predictions to get an overall prediction—that is, an estimate of the value. But how can we know the confidence of the estimate? One simple way is to use the standard deviation of predictions across the trees, instead of just the mean. This tells us the *relative* confidence of predictions. In general, we would want to be more cautious of using the results for rows where trees give very different results (higher standard deviations), compared to cases where they are more consistent (lower standard deviations).\n",
        "\n",
        "In the earlier section on creating a random forest, we saw how to get predictions over the validation set, using a Python list comprehension to do this for each tree in the forest:"
      ]
    },
    {
      "cell_type": "code",
      "execution_count": null,
      "metadata": {
        "id": "i4XctN_y8f4k"
      },
      "outputs": [],
      "source": [
        "preds = np.stack([t.predict(valid_xs) for t in m.estimators_])"
      ]
    },
    {
      "cell_type": "code",
      "execution_count": 84,
      "metadata": {
        "colab": {
          "base_uri": "https://localhost:8080/"
        },
        "id": "-_Ru3ZAl8f4k",
        "outputId": "f75a5960-096b-40f5-ded3-1fc4f5dfce59"
      },
      "outputs": [
        {
          "output_type": "execute_result",
          "data": {
            "text/plain": [
              "(200, 292)"
            ]
          },
          "metadata": {},
          "execution_count": 84
        }
      ],
      "source": [
        "preds.shape"
      ]
    },
    {
      "cell_type": "markdown",
      "metadata": {
        "id": "9YvfAdpf8f4k"
      },
      "source": [
        "Now we have a prediction for every tree and every auction (40 trees and 7,988 auctions) in the validation set.\n",
        "\n",
        "Using this we can get the standard deviation of the predictions over all the trees, for each auction:"
      ]
    },
    {
      "cell_type": "code",
      "execution_count": 85,
      "metadata": {
        "id": "fmkzMpfF8f4k"
      },
      "outputs": [],
      "source": [
        "preds_std = preds.std(0)"
      ]
    },
    {
      "cell_type": "markdown",
      "metadata": {
        "id": "5G1KjwwS8f4k"
      },
      "source": [
        "Here are the standard deviations for the predictions for the first 10 houses —that is, the ten five rows of the validation set:"
      ]
    },
    {
      "cell_type": "code",
      "execution_count": 87,
      "metadata": {
        "colab": {
          "base_uri": "https://localhost:8080/"
        },
        "id": "IixbM4tl8f4k",
        "outputId": "d66a041d-ee40-4b72-f3ff-92df007d2e7c"
      },
      "outputs": [
        {
          "output_type": "execute_result",
          "data": {
            "text/plain": [
              "array([18199.20694985, 29147.83849491, 15716.96755455, 16326.46801758, 34815.55524858, 20218.46026066, 23952.15626323, 18255.53400283, 31397.79145251, 49334.54140421])"
            ]
          },
          "metadata": {},
          "execution_count": 87
        }
      ],
      "source": [
        "preds_std[:10]"
      ]
    },
    {
      "cell_type": "markdown",
      "metadata": {
        "id": "hSuD_U9e8f4k"
      },
      "source": [
        "As you can see, the confidence in the predictions varies widely. For some houses, there is a low standard deviation because the trees agree. For others it's higher, as the trees don't agree. This is information that would be useful in a production setting; for instance, if you were using this model to decide what items to bid on at auction, a low-confidence prediction might cause you to look more carefully at an item before you made a bid."
      ]
    },
    {
      "cell_type": "markdown",
      "metadata": {
        "id": "BSubEH-m8f4l"
      },
      "source": [
        "### Feature Importance"
      ]
    },
    {
      "cell_type": "markdown",
      "metadata": {
        "id": "29tgatWm8f4l"
      },
      "source": [
        "It's not normally enough just to know that a model can make accurate predictions—we also want to know *how* it's making predictions. *feature importance* gives us insight into this. We can get these directly from sklearn's random forest by looking in the `feature_importances_` attribute. Here's a simple function we can use to pop them into a DataFrame and sort them:"
      ]
    },
    {
      "cell_type": "code",
      "execution_count": 88,
      "metadata": {
        "id": "9IwUIrkv8f4l"
      },
      "outputs": [],
      "source": [
        "def rf_feat_importance(m, df):\n",
        "    return pd.DataFrame({'cols':df.columns, 'imp':m.feature_importances_}\n",
        "                       ).sort_values('imp', ascending=False)"
      ]
    },
    {
      "cell_type": "markdown",
      "metadata": {
        "id": "95d7EiLy8f4l"
      },
      "source": [
        "The feature importances for our model show that the first few most important columns have much higher importance scores than the rest, with (not surprisingly) `YearMade` and `ProductSize` being at the top of the list:"
      ]
    },
    {
      "cell_type": "code",
      "execution_count": 89,
      "metadata": {
        "colab": {
          "base_uri": "https://localhost:8080/",
          "height": 363
        },
        "id": "TrcfxpOz8f4l",
        "outputId": "fa35dde4-365e-4590-ba4a-5cae1ec5aeb1"
      },
      "outputs": [
        {
          "output_type": "execute_result",
          "data": {
            "text/plain": [
              "           cols       imp\n",
              "50  OverallQual  0.350692\n",
              "62    GrLivArea  0.132216\n",
              "72   GarageCars  0.099246\n",
              "18    ExterQual  0.050628\n",
              "58  TotalBsmtSF  0.047281\n",
              "30  KitchenQual  0.039476\n",
              "73   GarageArea  0.037372\n",
              "59     1stFlrSF  0.037036\n",
              "55   BsmtFinSF1  0.027535\n",
              "52    YearBuilt  0.023897"
            ],
            "text/html": [
              "\n",
              "  <div id=\"df-442d3e06-e17d-44b4-96a1-81b89fa96fd9\">\n",
              "    <div class=\"colab-df-container\">\n",
              "      <div>\n",
              "<style scoped>\n",
              "    .dataframe tbody tr th:only-of-type {\n",
              "        vertical-align: middle;\n",
              "    }\n",
              "\n",
              "    .dataframe tbody tr th {\n",
              "        vertical-align: top;\n",
              "    }\n",
              "\n",
              "    .dataframe thead th {\n",
              "        text-align: right;\n",
              "    }\n",
              "</style>\n",
              "<table border=\"1\" class=\"dataframe\">\n",
              "  <thead>\n",
              "    <tr style=\"text-align: right;\">\n",
              "      <th></th>\n",
              "      <th>cols</th>\n",
              "      <th>imp</th>\n",
              "    </tr>\n",
              "  </thead>\n",
              "  <tbody>\n",
              "    <tr>\n",
              "      <th>50</th>\n",
              "      <td>OverallQual</td>\n",
              "      <td>0.350692</td>\n",
              "    </tr>\n",
              "    <tr>\n",
              "      <th>62</th>\n",
              "      <td>GrLivArea</td>\n",
              "      <td>0.132216</td>\n",
              "    </tr>\n",
              "    <tr>\n",
              "      <th>72</th>\n",
              "      <td>GarageCars</td>\n",
              "      <td>0.099246</td>\n",
              "    </tr>\n",
              "    <tr>\n",
              "      <th>18</th>\n",
              "      <td>ExterQual</td>\n",
              "      <td>0.050628</td>\n",
              "    </tr>\n",
              "    <tr>\n",
              "      <th>58</th>\n",
              "      <td>TotalBsmtSF</td>\n",
              "      <td>0.047281</td>\n",
              "    </tr>\n",
              "    <tr>\n",
              "      <th>30</th>\n",
              "      <td>KitchenQual</td>\n",
              "      <td>0.039476</td>\n",
              "    </tr>\n",
              "    <tr>\n",
              "      <th>73</th>\n",
              "      <td>GarageArea</td>\n",
              "      <td>0.037372</td>\n",
              "    </tr>\n",
              "    <tr>\n",
              "      <th>59</th>\n",
              "      <td>1stFlrSF</td>\n",
              "      <td>0.037036</td>\n",
              "    </tr>\n",
              "    <tr>\n",
              "      <th>55</th>\n",
              "      <td>BsmtFinSF1</td>\n",
              "      <td>0.027535</td>\n",
              "    </tr>\n",
              "    <tr>\n",
              "      <th>52</th>\n",
              "      <td>YearBuilt</td>\n",
              "      <td>0.023897</td>\n",
              "    </tr>\n",
              "  </tbody>\n",
              "</table>\n",
              "</div>\n",
              "      <button class=\"colab-df-convert\" onclick=\"convertToInteractive('df-442d3e06-e17d-44b4-96a1-81b89fa96fd9')\"\n",
              "              title=\"Convert this dataframe to an interactive table.\"\n",
              "              style=\"display:none;\">\n",
              "        \n",
              "  <svg xmlns=\"http://www.w3.org/2000/svg\" height=\"24px\"viewBox=\"0 0 24 24\"\n",
              "       width=\"24px\">\n",
              "    <path d=\"M0 0h24v24H0V0z\" fill=\"none\"/>\n",
              "    <path d=\"M18.56 5.44l.94 2.06.94-2.06 2.06-.94-2.06-.94-.94-2.06-.94 2.06-2.06.94zm-11 1L8.5 8.5l.94-2.06 2.06-.94-2.06-.94L8.5 2.5l-.94 2.06-2.06.94zm10 10l.94 2.06.94-2.06 2.06-.94-2.06-.94-.94-2.06-.94 2.06-2.06.94z\"/><path d=\"M17.41 7.96l-1.37-1.37c-.4-.4-.92-.59-1.43-.59-.52 0-1.04.2-1.43.59L10.3 9.45l-7.72 7.72c-.78.78-.78 2.05 0 2.83L4 21.41c.39.39.9.59 1.41.59.51 0 1.02-.2 1.41-.59l7.78-7.78 2.81-2.81c.8-.78.8-2.07 0-2.86zM5.41 20L4 18.59l7.72-7.72 1.47 1.35L5.41 20z\"/>\n",
              "  </svg>\n",
              "      </button>\n",
              "      \n",
              "  <style>\n",
              "    .colab-df-container {\n",
              "      display:flex;\n",
              "      flex-wrap:wrap;\n",
              "      gap: 12px;\n",
              "    }\n",
              "\n",
              "    .colab-df-convert {\n",
              "      background-color: #E8F0FE;\n",
              "      border: none;\n",
              "      border-radius: 50%;\n",
              "      cursor: pointer;\n",
              "      display: none;\n",
              "      fill: #1967D2;\n",
              "      height: 32px;\n",
              "      padding: 0 0 0 0;\n",
              "      width: 32px;\n",
              "    }\n",
              "\n",
              "    .colab-df-convert:hover {\n",
              "      background-color: #E2EBFA;\n",
              "      box-shadow: 0px 1px 2px rgba(60, 64, 67, 0.3), 0px 1px 3px 1px rgba(60, 64, 67, 0.15);\n",
              "      fill: #174EA6;\n",
              "    }\n",
              "\n",
              "    [theme=dark] .colab-df-convert {\n",
              "      background-color: #3B4455;\n",
              "      fill: #D2E3FC;\n",
              "    }\n",
              "\n",
              "    [theme=dark] .colab-df-convert:hover {\n",
              "      background-color: #434B5C;\n",
              "      box-shadow: 0px 1px 3px 1px rgba(0, 0, 0, 0.15);\n",
              "      filter: drop-shadow(0px 1px 2px rgba(0, 0, 0, 0.3));\n",
              "      fill: #FFFFFF;\n",
              "    }\n",
              "  </style>\n",
              "\n",
              "      <script>\n",
              "        const buttonEl =\n",
              "          document.querySelector('#df-442d3e06-e17d-44b4-96a1-81b89fa96fd9 button.colab-df-convert');\n",
              "        buttonEl.style.display =\n",
              "          google.colab.kernel.accessAllowed ? 'block' : 'none';\n",
              "\n",
              "        async function convertToInteractive(key) {\n",
              "          const element = document.querySelector('#df-442d3e06-e17d-44b4-96a1-81b89fa96fd9');\n",
              "          const dataTable =\n",
              "            await google.colab.kernel.invokeFunction('convertToInteractive',\n",
              "                                                     [key], {});\n",
              "          if (!dataTable) return;\n",
              "\n",
              "          const docLinkHtml = 'Like what you see? Visit the ' +\n",
              "            '<a target=\"_blank\" href=https://colab.research.google.com/notebooks/data_table.ipynb>data table notebook</a>'\n",
              "            + ' to learn more about interactive tables.';\n",
              "          element.innerHTML = '';\n",
              "          dataTable['output_type'] = 'display_data';\n",
              "          await google.colab.output.renderOutput(dataTable, element);\n",
              "          const docLink = document.createElement('div');\n",
              "          docLink.innerHTML = docLinkHtml;\n",
              "          element.appendChild(docLink);\n",
              "        }\n",
              "      </script>\n",
              "    </div>\n",
              "  </div>\n",
              "  "
            ]
          },
          "metadata": {},
          "execution_count": 89
        }
      ],
      "source": [
        "fi = rf_feat_importance(m, xs)\n",
        "fi[:10]"
      ]
    },
    {
      "cell_type": "markdown",
      "metadata": {
        "id": "TfLxIFom8f4m"
      },
      "source": [
        "A plot of the feature importances shows the relative importances more clearly:"
      ]
    },
    {
      "cell_type": "code",
      "execution_count": 90,
      "metadata": {
        "colab": {
          "base_uri": "https://localhost:8080/",
          "height": 428
        },
        "id": "PDqtw2cJ8f4m",
        "outputId": "7a928edd-3443-4a5a-8100-0d90cb4acf45"
      },
      "outputs": [
        {
          "output_type": "display_data",
          "data": {
            "text/plain": [
              "<Figure size 864x504 with 1 Axes>"
            ],
            "image/png": "[encoded data removed]"
          },
          "metadata": {
            "needs_background": "light"
          }
        }
      ],
      "source": [
        "def plot_fi(fi):\n",
        "    return fi.plot('cols', 'imp', 'barh', figsize=(12,7), legend=False)\n",
        "\n",
        "plot_fi(fi[:30]);"
      ]
    },
    {
      "cell_type": "markdown",
      "metadata": {
        "id": "chimKx5k8f4m"
      },
      "source": [
        "The way these importances are calculated is quite simple yet elegant. The feature importance algorithm loops through each tree, and then recursively explores each branch. At each branch, it looks to see what feature was used for that split, and how much the model improves as a result of that split. The improvement (weighted by the number of rows in that group) is added to the importance score for that feature. This is summed across all branches of all trees, and finally the scores are normalized such that they add to 1."
      ]
    },
    {
      "cell_type": "markdown",
      "metadata": {
        "id": "qHT6jj-_8f4m"
      },
      "source": [
        "### Removing Low-Importance Variables"
      ]
    },
    {
      "cell_type": "markdown",
      "metadata": {
        "id": "FK6GAslL8f4m"
      },
      "source": [
        "It seems likely that we could use just a subset of the columns by removing the variables of low importance and still get good results. Let's try just keeping those with a feature importance greater than 0.005:"
      ]
    },
    {
      "cell_type": "code",
      "execution_count": 91,
      "metadata": {
        "colab": {
          "base_uri": "https://localhost:8080/"
        },
        "id": "Qjh75Z-W8f4m",
        "outputId": "e705d8c7-7864-40f1-a0a0-3b06e97482f3"
      },
      "outputs": [
        {
          "output_type": "execute_result",
          "data": {
            "text/plain": [
              "20"
            ]
          },
          "metadata": {},
          "execution_count": 91
        }
      ],
      "source": [
        "to_keep = fi[fi.imp>0.005].cols\n",
        "len(to_keep)"
      ]
    },
    {
      "cell_type": "markdown",
      "metadata": {
        "id": "0xmsRTI78f4m"
      },
      "source": [
        "We can retrain our model using just this subset of the columns:"
      ]
    },
    {
      "cell_type": "code",
      "execution_count": 92,
      "metadata": {
        "id": "W-D11gi18f4m"
      },
      "outputs": [],
      "source": [
        "xs_imp = xs[to_keep]\n",
        "valid_xs_imp = valid_xs[to_keep]"
      ]
    },
    {
      "cell_type": "code",
      "execution_count": 93,
      "metadata": {
        "id": "oGoWHhg38f4n"
      },
      "outputs": [],
      "source": [
        "m = rf(xs_imp, y)"
      ]
    },
    {
      "cell_type": "markdown",
      "metadata": {
        "id": "lZ2sBXnT8f4n"
      },
      "source": [
        "And here's the result:"
      ]
    },
    {
      "cell_type": "code",
      "execution_count": 94,
      "metadata": {
        "colab": {
          "base_uri": "https://localhost:8080/"
        },
        "id": "KyasAGqn8f4n",
        "outputId": "d6cca37f-cc6f-4580-de5c-3ec00ca4d513"
      },
      "outputs": [
        {
          "output_type": "execute_result",
          "data": {
            "text/plain": [
              "(27288.336766, 27597.465211)"
            ]
          },
          "metadata": {},
          "execution_count": 94
        }
      ],
      "source": [
        "m_rmse(m, xs_imp, y), m_rmse(m, valid_xs_imp, valid_y)"
      ]
    },
    {
      "cell_type": "markdown",
      "metadata": {
        "id": "p9NTZLaF8f4n"
      },
      "source": [
        "Our accuracy is about the same, but we have far fewer columns to study:"
      ]
    },
    {
      "cell_type": "code",
      "execution_count": 95,
      "metadata": {
        "colab": {
          "base_uri": "https://localhost:8080/"
        },
        "id": "YPpMestg8f4n",
        "outputId": "9d032983-5383-482c-ef82-47f4c4937b0c"
      },
      "outputs": [
        {
          "output_type": "execute_result",
          "data": {
            "text/plain": [
              "(83, 20)"
            ]
          },
          "metadata": {},
          "execution_count": 95
        }
      ],
      "source": [
        "len(xs.columns), len(xs_imp.columns)"
      ]
    },
    {
      "cell_type": "markdown",
      "metadata": {
        "id": "m_ZaZB5J8f4o"
      },
      "source": [
        "We've found that generally the first step to improving a model is simplifying it—83 columns was too many for us to study them all in depth! Furthermore, in practice often a simpler, more interpretable model is easier to roll out and maintain.\n",
        "\n",
        "This also makes our feature importance plot easier to interpret. Let's look at it again:"
      ]
    },
    {
      "cell_type": "code",
      "execution_count": 96,
      "metadata": {
        "colab": {
          "base_uri": "https://localhost:8080/",
          "height": 428
        },
        "id": "vI4-KmCc8f4o",
        "outputId": "7f76b956-7bd6-4a3d-b45c-022be088dc7e"
      },
      "outputs": [
        {
          "output_type": "display_data",
          "data": {
            "text/plain": [
              "<Figure size 864x504 with 1 Axes>"
            ],
            "image/png": "[encoded data removed]"
          },
          "metadata": {
            "needs_background": "light"
          }
        }
      ],
      "source": [
        "plot_fi(rf_feat_importance(m, xs_imp));"
      ]
    },
    {
      "cell_type": "markdown",
      "metadata": {
        "id": "2UthKH_L8f4o"
      },
      "source": [
        "One thing that makes this harder to interpret is that there seem to be some variables with very similar meanings: for example, `GarageArea` and `GarageCars`. Let's try to remove any redundent features. "
      ]
    },
    {
      "cell_type": "markdown",
      "metadata": {
        "id": "5Igw3HfU8f4o"
      },
      "source": [
        "### Removing Redundant Features"
      ]
    },
    {
      "cell_type": "markdown",
      "metadata": {
        "id": "qcRwRu298f4o"
      },
      "source": [
        "Let's start with:"
      ]
    },
    {
      "cell_type": "code",
      "execution_count": 97,
      "metadata": {
        "colab": {
          "base_uri": "https://localhost:8080/",
          "height": 374
        },
        "id": "y5qBdLN98f4o",
        "outputId": "03695d00-ec38-44a3-ff21-cda14a96c845"
      },
      "outputs": [
        {
          "output_type": "display_data",
          "data": {
            "text/plain": [
              "<Figure size 720x432 with 1 Axes>"
            ],
            "image/png": "[encoded data removed]"
          },
          "metadata": {
            "needs_background": "light"
          }
        }
      ],
      "source": [
        "cluster_columns(xs_imp)"
      ]
    },
    {
      "cell_type": "markdown",
      "metadata": {
        "id": "wKAk3dCF8f4o"
      },
      "source": [
        "In this chart, the pairs of columns that are most similar are the ones that were merged together early, far from the \"root\" of the tree at the left. \n",
        "\n",
        "> note: Determining Similarity: The most similar pairs are found by calculating the _rank correlation_, which means that all the values are replaced with their _rank_ (i.e., first, second, third, etc. within the column), and then the _correlation_ is calculated. (Feel free to skip over this minor detail though, since it's not going to come up again in the book!)\n",
        "\n",
        "Let's try removing some of these closely related features to see if the model can be simplified without impacting the accuracy. First, we create a function that quickly trains a random forest and returns the OOB score, by using a lower `max_samples` and higher `min_samples_leaf`. The OOB score is a number returned by sklearn that ranges between 1.0 for a perfect model and 0.0 for a random model. (In statistics it's called *R^2*, although the details aren't important for this explanation.) We don't need it to be very accurate—we're just going to use it to compare different models, based on removing some of the possibly redundant columns:"
      ]
    },
    {
      "cell_type": "code",
      "execution_count": 98,
      "metadata": {
        "id": "J5whsHai8f4p"
      },
      "outputs": [],
      "source": [
        "def get_oob(df):\n",
        "    m = RandomForestRegressor(n_estimators=40, min_samples_leaf=15,\n",
        "        max_samples=500, max_features=0.5, n_jobs=-1, oob_score=True)\n",
        "    m.fit(df, y)\n",
        "    return m.oob_score_"
      ]
    },
    {
      "cell_type": "markdown",
      "metadata": {
        "id": "NX8fqTlo8f4p"
      },
      "source": [
        "Here's our baseline:"
      ]
    },
    {
      "cell_type": "code",
      "execution_count": 99,
      "metadata": {
        "colab": {
          "base_uri": "https://localhost:8080/"
        },
        "id": "IcmPOBGR8f4p",
        "outputId": "d6c25346-6ca4-46c2-eaff-7580f0ce71c9"
      },
      "outputs": [
        {
          "output_type": "execute_result",
          "data": {
            "text/plain": [
              "0.8041187535941965"
            ]
          },
          "metadata": {},
          "execution_count": 99
        }
      ],
      "source": [
        "get_oob(xs_imp)"
      ]
    },
    {
      "cell_type": "markdown",
      "metadata": {
        "id": "XUE0ki5D8f4p"
      },
      "source": [
        "Now we try removing each of our potentially redundant variables, one at a time:"
      ]
    },
    {
      "cell_type": "code",
      "execution_count": 100,
      "metadata": {
        "colab": {
          "base_uri": "https://localhost:8080/"
        },
        "id": "TSNvm3EX8f4p",
        "outputId": "65d5fe51-e2ca-4e4b-883c-106b53f015c4"
      },
      "outputs": [
        {
          "output_type": "execute_result",
          "data": {
            "text/plain": [
              "{'Fireplaces': 0.8097979021148893,\n",
              " 'GarageArea': 0.8091230412291663,\n",
              " 'GarageYrBlt': 0.8080928011211976,\n",
              " 'TotalBsmtSF': 0.8038536868971771}"
            ]
          },
          "metadata": {},
          "execution_count": 100
        }
      ],
      "source": [
        "{c:get_oob(xs_imp.drop(c, axis=1)) for c in (\n",
        "    'Fireplaces', 'GarageYrBlt', 'GarageArea','TotalBsmtSF')}"
      ]
    },
    {
      "cell_type": "markdown",
      "metadata": {
        "id": "681lon0_8f4p"
      },
      "source": [
        "Now let's try dropping multiple variables. We'll drop one from each of the tightly aligned pairs we noticed earlier. Let's see what that does:"
      ]
    },
    {
      "cell_type": "code",
      "execution_count": 101,
      "metadata": {
        "colab": {
          "base_uri": "https://localhost:8080/"
        },
        "id": "YoX-Jp-18f4p",
        "outputId": "4fa7f280-516a-453e-fd96-4d50f3bace83"
      },
      "outputs": [
        {
          "output_type": "execute_result",
          "data": {
            "text/plain": [
              "0.8099473833345041"
            ]
          },
          "metadata": {},
          "execution_count": 101
        }
      ],
      "source": [
        "to_drop = ['Fireplaces', 'GarageYrBlt', 'GarageArea','TotalBsmtSF']\n",
        "get_oob(xs_imp.drop(to_drop, axis=1))"
      ]
    },
    {
      "cell_type": "markdown",
      "metadata": {
        "id": "1DQJ_sAV8f4p"
      },
      "source": [
        "Looking good! This is really not much worse than the model with all the fields. Let's create DataFrames without these columns, and save them:"
      ]
    },
    {
      "cell_type": "code",
      "execution_count": 102,
      "metadata": {
        "id": "kyzIk7aa8f4q"
      },
      "outputs": [],
      "source": [
        "xs_final = xs_imp.drop(to_drop, axis=1)\n",
        "valid_xs_final = valid_xs_imp.drop(to_drop, axis=1)"
      ]
    },
    {
      "cell_type": "code",
      "execution_count": 103,
      "metadata": {
        "id": "TUo2lB7r8f4q"
      },
      "outputs": [],
      "source": [
        "save_pickle(path/'xs_final.pkl', xs_final)\n",
        "save_pickle(path/'valid_xs_final.pkl', valid_xs_final)"
      ]
    },
    {
      "cell_type": "markdown",
      "metadata": {
        "id": "-bHwugCK8f4q"
      },
      "source": [
        "We can load them back later with:"
      ]
    },
    {
      "cell_type": "code",
      "execution_count": 104,
      "metadata": {
        "id": "yGk1nfOH8f4q"
      },
      "outputs": [],
      "source": [
        "xs_final = load_pickle(path/'xs_final.pkl')\n",
        "valid_xs_final = load_pickle(path/'valid_xs_final.pkl')"
      ]
    },
    {
      "cell_type": "markdown",
      "metadata": {
        "id": "9Y5S35gt8f4q"
      },
      "source": [
        "Now we can check our RMSE again, to confirm that the accuracy hasn't substantially changed."
      ]
    },
    {
      "cell_type": "code",
      "execution_count": 105,
      "metadata": {
        "colab": {
          "base_uri": "https://localhost:8080/"
        },
        "id": "oPZXoSwT8f4q",
        "outputId": "94b171e4-719e-4090-c0a3-ccccca861e85"
      },
      "outputs": [
        {
          "output_type": "execute_result",
          "data": {
            "text/plain": [
              "(27181.940073, 27731.449711)"
            ]
          },
          "metadata": {},
          "execution_count": 105
        }
      ],
      "source": [
        "m = rf(xs_final, y)\n",
        "m_rmse(m, xs_final, y), m_rmse(m, valid_xs_final, valid_y)"
      ]
    },
    {
      "cell_type": "markdown",
      "metadata": {
        "id": "RqLmm5Q78f4q"
      },
      "source": [
        "By focusing on the most important variables, and removing some redundant ones, we've greatly simplified our model. Now, let's see how those variables affect our predictions using partial dependence plots."
      ]
    },
    {
      "cell_type": "markdown",
      "metadata": {
        "id": "5IUsyKAJ8f4q"
      },
      "source": [
        "### Partial Dependence"
      ]
    },
    {
      "cell_type": "markdown",
      "metadata": {
        "id": "ijDbKcwt8f4q"
      },
      "source": [
        "As we've seen, the two most important predictors are `OverallQual` and `GrLivArea`. We'd like to understand the relationship between these predictors and sale price."
      ]
    },
    {
      "cell_type": "markdown",
      "metadata": {
        "id": "kAE7BhBG8f4r"
      },
      "source": [
        "Now we're ready to look at *partial dependence plots*. Partial dependence plots try to answer the question: if a row varied on nothing other than the feature in question, how would it impact the dependent variable?\n",
        "\n",
        "For instance, how does each variable impact sale price, all other things being equal?\n",
        "\n",
        "Instead, what we do is replace every single value in the `OverallQual` column with 6, and then calculate the predicted sale price for every house, and take the average over all auctions. Then we do the same for all quality levels. This isolates the effect of only `OverallQual`.\n",
        "\n",
        "With these averages, we can then plot each of these years on the x-axis, and each of the predictions on the y-axis. This, finally, is a partial dependence plot. Let's take a look:"
      ]
    },
    {
      "cell_type": "code",
      "execution_count": 106,
      "metadata": {
        "colab": {
          "base_uri": "https://localhost:8080/",
          "height": 334
        },
        "id": "iShnxxPV8f4r",
        "outputId": "8f1742b5-2080-4487-ab19-6a5225393539"
      },
      "outputs": [
        {
          "output_type": "stream",
          "name": "stderr",
          "text": [
            "/usr/local/lib/python3.7/dist-packages/sklearn/utils/deprecation.py:87: FutureWarning: Function plot_partial_dependence is deprecated; Function `plot_partial_dependence` is deprecated in 1.0 and will be removed in 1.2. Use PartialDependenceDisplay.from_estimator instead\n",
            "  warnings.warn(msg, category=FutureWarning)\n"
          ]
        },
        {
          "output_type": "display_data",
          "data": {
            "text/plain": [
              "<Figure size 864x288 with 3 Axes>"
            ],
            "image/png": "[encoded data removed]"
          },
          "metadata": {
            "needs_background": "light"
          }
        }
      ],
      "source": [
        "from sklearn.inspection import plot_partial_dependence\n",
        "\n",
        "fig,ax = plt.subplots(figsize=(12, 4))\n",
        "plot_partial_dependence(m, valid_xs_final, ['OverallQual','GrLivArea'],\n",
        "                        grid_resolution=20, ax=ax);"
      ]
    },
    {
      "cell_type": "markdown",
      "metadata": {
        "id": "KXwkEQtX8f4s"
      },
      "source": [
        "Looking first of all at the Quality and Living area partial plots, one can easily see that that there is a huge increase in price from 6 to 8 quality, and then stagnate, while the same happen for an area of around 1900 suqare feet."
      ]
    },
    {
      "cell_type": "markdown",
      "metadata": {
        "id": "n9Y9FH-Z8f4s"
      },
      "source": [
        "### Data Leakage"
      ]
    },
    {
      "cell_type": "markdown",
      "metadata": {
        "id": "-3lRwiMd8f4s"
      },
      "source": [
        "In  the paper [\"Leakage in Data Mining: Formulation, Detection, and Avoidance\"](https://dl.acm.org/doi/10.1145/2020408.2020496), Shachar Kaufman, Saharon Rosset, and Claudia Perlich describe leakage as: \n",
        "\n",
        "> : The introduction of information about the target of a data mining problem, which should not be legitimately available to mine from. A trivial example of leakage would be a model that uses the target itself as an input, thus concluding for example that 'it rains on rainy days'. In practice, the introduction of this illegitimate information is unintentional, and facilitated by the data collection, aggregation and preparation process.\n",
        "\n",
        "They give as an example:\n",
        "\n",
        "> : A real-life business intelligence project at IBM where potential customers for certain products were identified, among other things, based on keywords found on their websites. This turned out to be leakage since the website content used for training had been sampled at the point in time where the potential customer has already become a customer, and where the website contained traces of the IBM products purchased, such as the word 'Websphere' (e.g., in a press release about the purchase or a specific product feature the client uses).\n",
        "\n",
        "Data leakage is subtle and can take many forms. In particular, missing values often represent data leakage.\n",
        "\n",
        "For instance, Jeremy competed in a Kaggle competition designed to predict which researchers would end up receiving research grants. The information was provided by a university and included thousands of examples of research projects, along with information about the researchers involved and data on whether or not each grant was eventually accepted. The university hoped to be able to use the models developed in this competition to rank which grant applications were most likely to succeed, so it could prioritize its processing.\n",
        "\n",
        "Jeremy used a random forest to model the data, and then used feature importance to find out which features were most predictive. He noticed three surprising things:\n",
        "\n",
        "- The model was able to correctly predict who would receive grants over 95% of the time.\n",
        "- Apparently meaningless identifier columns were the most important predictors.\n",
        "- The day of week and day of year columns were also highly predictive; for instance, the vast majority of grant applications dated on a Sunday were accepted, and many accepted grant applications were dated on January 1.\n",
        "\n",
        "For the identifier columns, one partial dependence plot per column showed that when the information was missing the application was almost always rejected. It turned out that in practice, the university only filled out much of this information *after* a grant application was accepted. Often, for applications that were not accepted, it was just left blank. Therefore, this information was not something that was actually available at the time that the application was received, and it would not be available for a predictive model—it was data leakage.\n",
        "\n",
        "In the same way, the final processing of successful applications was often done automatically as a batch at the end of the week, or the end of the year. It was this final processing date which ended up in the data, so again, this information, while predictive, was not actually available at the time that the application was received.\n",
        "\n",
        "This example showcases the most practical and simple approaches to identifying data leakage, which are to build a model and then:\n",
        "\n",
        "- Check whether the accuracy of the model is *too good to be true*.\n",
        "- Look for important predictors that don't make sense in practice.\n",
        "- Look for partial dependence plot results that don't make sense in practice.\n",
        "\n",
        "Thinking back to our bear detector, this mirrors the advice that we provided in <<chapter_production>>—it is often a good idea to build a model first and then do your data cleaning, rather than vice versa. The model can help you identify potentially problematic data issues.\n",
        "\n",
        "It can also help you identify which factors influence specific predictions, with tree interpreters."
      ]
    },
    {
      "cell_type": "markdown",
      "metadata": {
        "id": "GTQeZmxK8f4s"
      },
      "source": [
        "### Tree Interpreter"
      ]
    },
    {
      "cell_type": "code",
      "execution_count": 107,
      "metadata": {
        "id": "HduT0Q-M8f4s"
      },
      "outputs": [],
      "source": [
        "#hide\n",
        "import warnings\n",
        "warnings.simplefilter('ignore', FutureWarning)\n",
        "\n",
        "from treeinterpreter import treeinterpreter\n",
        "from waterfall_chart import plot as waterfall"
      ]
    },
    {
      "cell_type": "markdown",
      "metadata": {
        "id": "Tul4CXSY8f4t"
      },
      "source": [
        "At the start of this section, we said that we wanted to be able to answer five questions:\n",
        "\n",
        "- How confident are we in our predictions using a particular row of data?\n",
        "- For predicting with a particular row of data, what were the most important factors, and how did they influence that prediction?\n",
        "- Which columns are the strongest predictors?\n",
        "- Which columns are effectively redundant with each other, for purposes of prediction?\n",
        "- How do predictions vary, as we vary these columns?\n",
        "\n",
        "We've handled four of these already; only the second question remains. To answer this question, we need to use the `treeinterpreter` library. We'll also use the `waterfallcharts` library to draw the chart of the results.\n",
        "\n",
        "    !pip install treeinterpreter\n",
        "    !pip install waterfallcharts"
      ]
    },
    {
      "cell_type": "code",
      "source": [
        "!pip install treeinterpreter\n",
        "!pip install waterfallcharts"
      ],
      "metadata": {
        "colab": {
          "base_uri": "https://localhost:8080/"
        },
        "id": "sYJPjXOfPmXu",
        "outputId": "49e20b64-21d3-4933-e945-80d4d6a55931"
      },
      "execution_count": 108,
      "outputs": [
        {
          "output_type": "stream",
          "name": "stdout",
          "text": [
            "Looking in indexes: https://pypi.org/simple, https://us-python.pkg.dev/colab-wheels/public/simple/\n",
            "Requirement already satisfied: treeinterpreter in /usr/local/lib/python3.7/dist-packages (0.2.3)\n",
            "Looking in indexes: https://pypi.org/simple, https://us-python.pkg.dev/colab-wheels/public/simple/\n",
            "Requirement already satisfied: waterfallcharts in /usr/local/lib/python3.7/dist-packages (3.8)\n"
          ]
        }
      ]
    },
    {
      "cell_type": "markdown",
      "metadata": {
        "id": "32lxxl8r8f4t"
      },
      "source": [
        "We have already seen how to compute feature importances across the entire random forest. The basic idea was to look at the contribution of each variable to improving the model, at each branch of every tree, and then add up all of these contributions per variable.\n",
        "\n",
        "We can do exactly the same thing, but for just a single row of data. For instance, let's say we are looking at some particular item at auction. Our model might predict that this item will be very expensive, and we want to know why. So, we take that one row of data and put it through the first decision tree, looking to see what split is used at each point throughout the tree. For each split, we see what the increase or decrease in the addition is, compared to the parent node of the tree. We do this for every tree, and add up the total change in importance by split variable.\n",
        "\n",
        "For instance, let's pick the first few rows of our validation set:"
      ]
    },
    {
      "cell_type": "code",
      "execution_count": 109,
      "metadata": {
        "id": "7SE-Apz58f4t"
      },
      "outputs": [],
      "source": [
        "row = valid_xs_final.iloc[:5]"
      ]
    },
    {
      "cell_type": "markdown",
      "metadata": {
        "id": "OR6CQMI_8f4t"
      },
      "source": [
        "We can then pass these to `treeinterpreter`:"
      ]
    },
    {
      "cell_type": "code",
      "execution_count": 110,
      "metadata": {
        "id": "WfrGSQBH8f4t"
      },
      "outputs": [],
      "source": [
        "prediction,bias,contributions = treeinterpreter.predict(m, row.values)"
      ]
    },
    {
      "cell_type": "markdown",
      "metadata": {
        "id": "djHOpOLO8f4t"
      },
      "source": [
        "`prediction` is simply the prediction that the random forest makes. `bias` is the prediction based on taking the mean of the dependent variable (i.e., the *model* that is the root of every tree). `contributions` is the most interesting bit—it tells us the total change in predicition due to each of the independent variables. Therefore, the sum of `contributions` plus `bias` must equal the `prediction`, for each row. Let's look just at the first row:"
      ]
    },
    {
      "cell_type": "code",
      "execution_count": 111,
      "metadata": {
        "colab": {
          "base_uri": "https://localhost:8080/"
        },
        "id": "PVamc8bJ8f4t",
        "outputId": "4c383b95-04cd-4d60-c48f-75984989c76f"
      },
      "outputs": [
        {
          "output_type": "execute_result",
          "data": {
            "text/plain": [
              "(array([124643.99311237]), 181818.36704000004, -57174.37392763323)"
            ]
          },
          "metadata": {},
          "execution_count": 111
        }
      ],
      "source": [
        "prediction[0], bias[0], contributions[0].sum()"
      ]
    },
    {
      "cell_type": "code",
      "source": [
        "valid_xs_final"
      ],
      "metadata": {
        "colab": {
          "base_uri": "https://localhost:8080/",
          "height": 467
        },
        "id": "TzCcXFYepVpx",
        "outputId": "9a28c127-9332-4fc3-9c5d-fa9695576b09"
      },
      "execution_count": 112,
      "outputs": [
        {
          "output_type": "execute_result",
          "data": {
            "text/plain": [
              "      OverallQual  GrLivArea  GarageCars  ExterQual  KitchenQual  1stFlrSF  \\\n",
              "1458            5       1078           1          4            2      1078   \n",
              "746             7       2256           2          3            2       980   \n",
              "922             6       1316           2          3            2      1316   \n",
              "71              4        845           2          4            3       845   \n",
              "1430            5       1838           2          3            3       734   \n",
              "...           ...        ...         ...        ...          ...       ...   \n",
              "1289            8       1970           3          3            1      1120   \n",
              "1388            9       1746           3          1            1      1746   \n",
              "866             8       1646           3          3            2      1646   \n",
              "738             5       1200           0          4            3      1200   \n",
              "1262            4       1788           1          4            3      1104   \n",
              "\n",
              "      BsmtFinSF1  YearBuilt  FullBath  LotArea  2ndFlrSF  YearRemodAdd  \\\n",
              "1458          49       1950         1     9717         0          1996   \n",
              "746          300       2000         2     8795      1276          2000   \n",
              "922           28       2005         2    10237         0          2006   \n",
              "71           565       1982         1     7599         0          2006   \n",
              "1430           0       2005         2    21930      1104          2005   \n",
              "...          ...        ...       ...      ...       ...           ...   \n",
              "1289           0       2006         2    11065       850          2006   \n",
              "1388        1320       2006         2    14892         0          2007   \n",
              "866            0       2006         2    10656         0          2007   \n",
              "738         1200       1987         3    10800         0          1988   \n",
              "1262           0       1957         1    11250       684          1989   \n",
              "\n",
              "      BsmtQual  MasVnrArea  TotRmsAbvGrd  LotFrontage  \n",
              "1458         4         0.0             5         68.0  \n",
              "746          3         0.0             8         69.0  \n",
              "922          3         0.0             6         65.0  \n",
              "71           4         0.0             4         69.0  \n",
              "1430         3         0.0             7         60.0  \n",
              "...        ...         ...           ...          ...  \n",
              "1289         3       788.0             8         86.0  \n",
              "1388         1       160.0             7         42.0  \n",
              "866          3       274.0             6         67.0  \n",
              "738          3         0.0             5         60.0  \n",
              "1262         4         0.0             8         69.0  \n",
              "\n",
              "[292 rows x 16 columns]"
            ],
            "text/html": [
              "\n",
              "  <div id=\"df-830e0fe6-57c1-47bb-8655-1585490b52ba\">\n",
              "    <div class=\"colab-df-container\">\n",
              "      <div>\n",
              "<style scoped>\n",
              "    .dataframe tbody tr th:only-of-type {\n",
              "        vertical-align: middle;\n",
              "    }\n",
              "\n",
              "    .dataframe tbody tr th {\n",
              "        vertical-align: top;\n",
              "    }\n",
              "\n",
              "    .dataframe thead th {\n",
              "        text-align: right;\n",
              "    }\n",
              "</style>\n",
              "<table border=\"1\" class=\"dataframe\">\n",
              "  <thead>\n",
              "    <tr style=\"text-align: right;\">\n",
              "      <th></th>\n",
              "      <th>OverallQual</th>\n",
              "      <th>GrLivArea</th>\n",
              "      <th>GarageCars</th>\n",
              "      <th>ExterQual</th>\n",
              "      <th>KitchenQual</th>\n",
              "      <th>1stFlrSF</th>\n",
              "      <th>BsmtFinSF1</th>\n",
              "      <th>YearBuilt</th>\n",
              "      <th>FullBath</th>\n",
              "      <th>LotArea</th>\n",
              "      <th>2ndFlrSF</th>\n",
              "      <th>YearRemodAdd</th>\n",
              "      <th>BsmtQual</th>\n",
              "      <th>MasVnrArea</th>\n",
              "      <th>TotRmsAbvGrd</th>\n",
              "      <th>LotFrontage</th>\n",
              "    </tr>\n",
              "  </thead>\n",
              "  <tbody>\n",
              "    <tr>\n",
              "      <th>1458</th>\n",
              "      <td>5</td>\n",
              "      <td>1078</td>\n",
              "      <td>1</td>\n",
              "      <td>4</td>\n",
              "      <td>2</td>\n",
              "      <td>1078</td>\n",
              "      <td>49</td>\n",
              "      <td>1950</td>\n",
              "      <td>1</td>\n",
              "      <td>9717</td>\n",
              "      <td>0</td>\n",
              "      <td>1996</td>\n",
              "      <td>4</td>\n",
              "      <td>0.0</td>\n",
              "      <td>5</td>\n",
              "      <td>68.0</td>\n",
              "    </tr>\n",
              "    <tr>\n",
              "      <th>746</th>\n",
              "      <td>7</td>\n",
              "      <td>2256</td>\n",
              "      <td>2</td>\n",
              "      <td>3</td>\n",
              "      <td>2</td>\n",
              "      <td>980</td>\n",
              "      <td>300</td>\n",
              "      <td>2000</td>\n",
              "      <td>2</td>\n",
              "      <td>8795</td>\n",
              "      <td>1276</td>\n",
              "      <td>2000</td>\n",
              "      <td>3</td>\n",
              "      <td>0.0</td>\n",
              "      <td>8</td>\n",
              "      <td>69.0</td>\n",
              "    </tr>\n",
              "    <tr>\n",
              "      <th>922</th>\n",
              "      <td>6</td>\n",
              "      <td>1316</td>\n",
              "      <td>2</td>\n",
              "      <td>3</td>\n",
              "      <td>2</td>\n",
              "      <td>1316</td>\n",
              "      <td>28</td>\n",
              "      <td>2005</td>\n",
              "      <td>2</td>\n",
              "      <td>10237</td>\n",
              "      <td>0</td>\n",
              "      <td>2006</td>\n",
              "      <td>3</td>\n",
              "      <td>0.0</td>\n",
              "      <td>6</td>\n",
              "      <td>65.0</td>\n",
              "    </tr>\n",
              "    <tr>\n",
              "      <th>71</th>\n",
              "      <td>4</td>\n",
              "      <td>845</td>\n",
              "      <td>2</td>\n",
              "      <td>4</td>\n",
              "      <td>3</td>\n",
              "      <td>845</td>\n",
              "      <td>565</td>\n",
              "      <td>1982</td>\n",
              "      <td>1</td>\n",
              "      <td>7599</td>\n",
              "      <td>0</td>\n",
              "      <td>2006</td>\n",
              "      <td>4</td>\n",
              "      <td>0.0</td>\n",
              "      <td>4</td>\n",
              "      <td>69.0</td>\n",
              "    </tr>\n",
              "    <tr>\n",
              "      <th>1430</th>\n",
              "      <td>5</td>\n",
              "      <td>1838</td>\n",
              "      <td>2</td>\n",
              "      <td>3</td>\n",
              "      <td>3</td>\n",
              "      <td>734</td>\n",
              "      <td>0</td>\n",
              "      <td>2005</td>\n",
              "      <td>2</td>\n",
              "      <td>21930</td>\n",
              "      <td>1104</td>\n",
              "      <td>2005</td>\n",
              "      <td>3</td>\n",
              "      <td>0.0</td>\n",
              "      <td>7</td>\n",
              "      <td>60.0</td>\n",
              "    </tr>\n",
              "    <tr>\n",
              "      <th>...</th>\n",
              "      <td>...</td>\n",
              "      <td>...</td>\n",
              "      <td>...</td>\n",
              "      <td>...</td>\n",
              "      <td>...</td>\n",
              "      <td>...</td>\n",
              "      <td>...</td>\n",
              "      <td>...</td>\n",
              "      <td>...</td>\n",
              "      <td>...</td>\n",
              "      <td>...</td>\n",
              "      <td>...</td>\n",
              "      <td>...</td>\n",
              "      <td>...</td>\n",
              "      <td>...</td>\n",
              "      <td>...</td>\n",
              "    </tr>\n",
              "    <tr>\n",
              "      <th>1289</th>\n",
              "      <td>8</td>\n",
              "      <td>1970</td>\n",
              "      <td>3</td>\n",
              "      <td>3</td>\n",
              "      <td>1</td>\n",
              "      <td>1120</td>\n",
              "      <td>0</td>\n",
              "      <td>2006</td>\n",
              "      <td>2</td>\n",
              "      <td>11065</td>\n",
              "      <td>850</td>\n",
              "      <td>2006</td>\n",
              "      <td>3</td>\n",
              "      <td>788.0</td>\n",
              "      <td>8</td>\n",
              "      <td>86.0</td>\n",
              "    </tr>\n",
              "    <tr>\n",
              "      <th>1388</th>\n",
              "      <td>9</td>\n",
              "      <td>1746</td>\n",
              "      <td>3</td>\n",
              "      <td>1</td>\n",
              "      <td>1</td>\n",
              "      <td>1746</td>\n",
              "      <td>1320</td>\n",
              "      <td>2006</td>\n",
              "      <td>2</td>\n",
              "      <td>14892</td>\n",
              "      <td>0</td>\n",
              "      <td>2007</td>\n",
              "      <td>1</td>\n",
              "      <td>160.0</td>\n",
              "      <td>7</td>\n",
              "      <td>42.0</td>\n",
              "    </tr>\n",
              "    <tr>\n",
              "      <th>866</th>\n",
              "      <td>8</td>\n",
              "      <td>1646</td>\n",
              "      <td>3</td>\n",
              "      <td>3</td>\n",
              "      <td>2</td>\n",
              "      <td>1646</td>\n",
              "      <td>0</td>\n",
              "      <td>2006</td>\n",
              "      <td>2</td>\n",
              "      <td>10656</td>\n",
              "      <td>0</td>\n",
              "      <td>2007</td>\n",
              "      <td>3</td>\n",
              "      <td>274.0</td>\n",
              "      <td>6</td>\n",
              "      <td>67.0</td>\n",
              "    </tr>\n",
              "    <tr>\n",
              "      <th>738</th>\n",
              "      <td>5</td>\n",
              "      <td>1200</td>\n",
              "      <td>0</td>\n",
              "      <td>4</td>\n",
              "      <td>3</td>\n",
              "      <td>1200</td>\n",
              "      <td>1200</td>\n",
              "      <td>1987</td>\n",
              "      <td>3</td>\n",
              "      <td>10800</td>\n",
              "      <td>0</td>\n",
              "      <td>1988</td>\n",
              "      <td>3</td>\n",
              "      <td>0.0</td>\n",
              "      <td>5</td>\n",
              "      <td>60.0</td>\n",
              "    </tr>\n",
              "    <tr>\n",
              "      <th>1262</th>\n",
              "      <td>4</td>\n",
              "      <td>1788</td>\n",
              "      <td>1</td>\n",
              "      <td>4</td>\n",
              "      <td>3</td>\n",
              "      <td>1104</td>\n",
              "      <td>0</td>\n",
              "      <td>1957</td>\n",
              "      <td>1</td>\n",
              "      <td>11250</td>\n",
              "      <td>684</td>\n",
              "      <td>1989</td>\n",
              "      <td>4</td>\n",
              "      <td>0.0</td>\n",
              "      <td>8</td>\n",
              "      <td>69.0</td>\n",
              "    </tr>\n",
              "  </tbody>\n",
              "</table>\n",
              "<p>292 rows × 16 columns</p>\n",
              "</div>\n",
              "      <button class=\"colab-df-convert\" onclick=\"convertToInteractive('df-830e0fe6-57c1-47bb-8655-1585490b52ba')\"\n",
              "              title=\"Convert this dataframe to an interactive table.\"\n",
              "              style=\"display:none;\">\n",
              "        \n",
              "  <svg xmlns=\"http://www.w3.org/2000/svg\" height=\"24px\"viewBox=\"0 0 24 24\"\n",
              "       width=\"24px\">\n",
              "    <path d=\"M0 0h24v24H0V0z\" fill=\"none\"/>\n",
              "    <path d=\"M18.56 5.44l.94 2.06.94-2.06 2.06-.94-2.06-.94-.94-2.06-.94 2.06-2.06.94zm-11 1L8.5 8.5l.94-2.06 2.06-.94-2.06-.94L8.5 2.5l-.94 2.06-2.06.94zm10 10l.94 2.06.94-2.06 2.06-.94-2.06-.94-.94-2.06-.94 2.06-2.06.94z\"/><path d=\"M17.41 7.96l-1.37-1.37c-.4-.4-.92-.59-1.43-.59-.52 0-1.04.2-1.43.59L10.3 9.45l-7.72 7.72c-.78.78-.78 2.05 0 2.83L4 21.41c.39.39.9.59 1.41.59.51 0 1.02-.2 1.41-.59l7.78-7.78 2.81-2.81c.8-.78.8-2.07 0-2.86zM5.41 20L4 18.59l7.72-7.72 1.47 1.35L5.41 20z\"/>\n",
              "  </svg>\n",
              "      </button>\n",
              "      \n",
              "  <style>\n",
              "    .colab-df-container {\n",
              "      display:flex;\n",
              "      flex-wrap:wrap;\n",
              "      gap: 12px;\n",
              "    }\n",
              "\n",
              "    .colab-df-convert {\n",
              "      background-color: #E8F0FE;\n",
              "      border: none;\n",
              "      border-radius: 50%;\n",
              "      cursor: pointer;\n",
              "      display: none;\n",
              "      fill: #1967D2;\n",
              "      height: 32px;\n",
              "      padding: 0 0 0 0;\n",
              "      width: 32px;\n",
              "    }\n",
              "\n",
              "    .colab-df-convert:hover {\n",
              "      background-color: #E2EBFA;\n",
              "      box-shadow: 0px 1px 2px rgba(60, 64, 67, 0.3), 0px 1px 3px 1px rgba(60, 64, 67, 0.15);\n",
              "      fill: #174EA6;\n",
              "    }\n",
              "\n",
              "    [theme=dark] .colab-df-convert {\n",
              "      background-color: #3B4455;\n",
              "      fill: #D2E3FC;\n",
              "    }\n",
              "\n",
              "    [theme=dark] .colab-df-convert:hover {\n",
              "      background-color: #434B5C;\n",
              "      box-shadow: 0px 1px 3px 1px rgba(0, 0, 0, 0.15);\n",
              "      filter: drop-shadow(0px 1px 2px rgba(0, 0, 0, 0.3));\n",
              "      fill: #FFFFFF;\n",
              "    }\n",
              "  </style>\n",
              "\n",
              "      <script>\n",
              "        const buttonEl =\n",
              "          document.querySelector('#df-830e0fe6-57c1-47bb-8655-1585490b52ba button.colab-df-convert');\n",
              "        buttonEl.style.display =\n",
              "          google.colab.kernel.accessAllowed ? 'block' : 'none';\n",
              "\n",
              "        async function convertToInteractive(key) {\n",
              "          const element = document.querySelector('#df-830e0fe6-57c1-47bb-8655-1585490b52ba');\n",
              "          const dataTable =\n",
              "            await google.colab.kernel.invokeFunction('convertToInteractive',\n",
              "                                                     [key], {});\n",
              "          if (!dataTable) return;\n",
              "\n",
              "          const docLinkHtml = 'Like what you see? Visit the ' +\n",
              "            '<a target=\"_blank\" href=https://colab.research.google.com/notebooks/data_table.ipynb>data table notebook</a>'\n",
              "            + ' to learn more about interactive tables.';\n",
              "          element.innerHTML = '';\n",
              "          dataTable['output_type'] = 'display_data';\n",
              "          await google.colab.output.renderOutput(dataTable, element);\n",
              "          const docLink = document.createElement('div');\n",
              "          docLink.innerHTML = docLinkHtml;\n",
              "          element.appendChild(docLink);\n",
              "        }\n",
              "      </script>\n",
              "    </div>\n",
              "  </div>\n",
              "  "
            ]
          },
          "metadata": {},
          "execution_count": 112
        }
      ]
    },
    {
      "cell_type": "markdown",
      "metadata": {
        "id": "GTUauwR68f4t"
      },
      "source": [
        "The clearest way to display the contributions is with a *waterfall plot*. This shows how the positive and negative contributions from all the independent variables sum up to create the final prediction, which is the righthand column labeled \"net\" here:"
      ]
    },
    {
      "cell_type": "code",
      "execution_count": 114,
      "metadata": {
        "colab": {
          "base_uri": "https://localhost:8080/",
          "height": 297
        },
        "id": "H1-b7k3W8f4u",
        "outputId": "8bc06092-eed6-49ec-bd78-2a0bbf344dc6"
      },
      "outputs": [
        {
          "output_type": "display_data",
          "data": {
            "text/plain": [
              "<Figure size 432x288 with 1 Axes>"
            ],
            "image/png": "[encoded data removed]"
          },
          "metadata": {
            "needs_background": "light"
          }
        }
      ],
      "source": [
        "waterfall(valid_xs_final.columns, contributions[1], threshold=0.08, \n",
        "          rotation_value=45,formatting='{:,.3f}');"
      ]
    },
    {
      "cell_type": "markdown",
      "metadata": {
        "id": "9Ex-pZSY8f4u"
      },
      "source": [
        "This kind of information is most useful in production, rather than during model development. You can use it to provide useful information to users of your data product about the underlying reasoning behind the predictions."
      ]
    },
    {
      "cell_type": "markdown",
      "metadata": {
        "id": "JbflS4pj8f4u"
      },
      "source": [
        "Now that we covered some classic machine learning techniques to solve this problem, let's see how deep learning can help!"
      ]
    },
    {
      "cell_type": "markdown",
      "metadata": {
        "id": "0I5hYcH58f4u"
      },
      "source": [
        "## Extrapolation and Neural Networks"
      ]
    },
    {
      "cell_type": "markdown",
      "metadata": {
        "id": "C4gLuKgF8f4u"
      },
      "source": [
        "A problem with random forests, like all machine learning or deep learning algorithms, is that they don't always generalize well to new data. We will see in which situations neural networks generalize better, but first, let's look at the extrapolation problem that random forests have."
      ]
    },
    {
      "cell_type": "markdown",
      "metadata": {
        "id": "EdYXKJvb8f4u"
      },
      "source": [
        "### The Extrapolation Problem"
      ]
    },
    {
      "cell_type": "code",
      "execution_count": 73,
      "metadata": {
        "id": "AiejzrEq8f4v"
      },
      "outputs": [],
      "source": [
        "#hide\n",
        "np.random.seed(42)"
      ]
    },
    {
      "cell_type": "markdown",
      "metadata": {
        "id": "LN_MhJWP8f4v"
      },
      "source": [
        "Let's consider the simple task of making predictions from 40 data points showing a slightly noisy linear relationship:"
      ]
    },
    {
      "cell_type": "code",
      "execution_count": 74,
      "metadata": {
        "colab": {
          "base_uri": "https://localhost:8080/",
          "height": 266
        },
        "id": "-tuWyKI68f4v",
        "outputId": "7035c843-6377-440b-a060-0c89172556db"
      },
      "outputs": [
        {
          "output_type": "display_data",
          "data": {
            "text/plain": [
              "<Figure size 432x288 with 1 Axes>"
            ],
            "image/png": "[encoded data removed]"
          },
          "metadata": {
            "needs_background": "light"
          }
        }
      ],
      "source": [
        "x_lin = torch.linspace(0,20, steps=40)\n",
        "y_lin = x_lin + torch.randn_like(x_lin)\n",
        "plt.scatter(x_lin, y_lin);"
      ]
    },
    {
      "cell_type": "markdown",
      "metadata": {
        "id": "1VGbeXlF8f4v"
      },
      "source": [
        "Although we only have a single independent variable, sklearn expects a matrix of independent variables, not a single vector. So we have to turn our vector into a matrix with one column. In other words, we have to change the *shape* from `[40]` to `[40,1]`. One way to do that is with the `unsqueeze` method, which adds a new unit axis to a tensor at the requested dimension:"
      ]
    },
    {
      "cell_type": "code",
      "execution_count": 75,
      "metadata": {
        "colab": {
          "base_uri": "https://localhost:8080/"
        },
        "id": "RzJlXAei8f4v",
        "outputId": "b259cdcc-5826-4bdc-a125-05d5ca780769"
      },
      "outputs": [
        {
          "output_type": "execute_result",
          "data": {
            "text/plain": [
              "(torch.Size([40]), torch.Size([40, 1]))"
            ]
          },
          "metadata": {},
          "execution_count": 75
        }
      ],
      "source": [
        "xs_lin = x_lin.unsqueeze(1)\n",
        "x_lin.shape,xs_lin.shape"
      ]
    },
    {
      "cell_type": "markdown",
      "metadata": {
        "id": "JWOu4Y4b8f4v"
      },
      "source": [
        "A more flexible approach is to slice an array or tensor with the special value `None`, which introduces an additional unit axis at that location:"
      ]
    },
    {
      "cell_type": "code",
      "execution_count": 76,
      "metadata": {
        "colab": {
          "base_uri": "https://localhost:8080/"
        },
        "id": "nlq9HeTC8f4v",
        "outputId": "b228ffb0-8aaf-41b9-d915-307d708f6b86"
      },
      "outputs": [
        {
          "output_type": "execute_result",
          "data": {
            "text/plain": [
              "torch.Size([40, 1])"
            ]
          },
          "metadata": {},
          "execution_count": 76
        }
      ],
      "source": [
        "x_lin[:,None].shape"
      ]
    },
    {
      "cell_type": "markdown",
      "metadata": {
        "id": "1l8IdMuW8f4v"
      },
      "source": [
        "We can now create a random forest for this data. We'll use only the first 30 rows to train the model:"
      ]
    },
    {
      "cell_type": "code",
      "execution_count": 77,
      "metadata": {
        "id": "QKw2O7Pf8f4w"
      },
      "outputs": [],
      "source": [
        "m_lin = RandomForestRegressor().fit(xs_lin[:30],y_lin[:30])"
      ]
    },
    {
      "cell_type": "markdown",
      "metadata": {
        "id": "5GP6RJcT8f4w"
      },
      "source": [
        "Then we'll test the model on the full dataset. The blue dots are the training data, and the red dots are the predictions:"
      ]
    },
    {
      "cell_type": "code",
      "execution_count": 78,
      "metadata": {
        "colab": {
          "base_uri": "https://localhost:8080/",
          "height": 266
        },
        "id": "Eu8RKbej8f4w",
        "outputId": "2c3298d2-750a-4654-9319-313bfc2fbe90"
      },
      "outputs": [
        {
          "output_type": "display_data",
          "data": {
            "text/plain": [
              "<Figure size 432x288 with 1 Axes>"
            ],
            "image/png": "[encoded data removed]"
          },
          "metadata": {
            "needs_background": "light"
          }
        }
      ],
      "source": [
        "plt.scatter(x_lin, y_lin, 20)\n",
        "plt.scatter(x_lin, m_lin.predict(xs_lin), color='red', alpha=0.5);"
      ]
    },
    {
      "cell_type": "markdown",
      "metadata": {
        "id": "_hrD6aBJ8f4w"
      },
      "source": [
        "We have a big problem! Our predictions outside of the domain that our training data covered are all too low. Why do you suppose this is?\n",
        "\n",
        "Remember, a random forest just averages the predictions of a number of trees. And a tree simply predicts the average value of the rows in a leaf. Therefore, a tree and a random forest can never predict values outside of the range of the training data. This is particularly problematic for data where there is a trend over time, such as inflation, and you wish to make predictions for a future time. Your predictions will be systematically too low.\n",
        "\n",
        "But the problem extends beyond time variables. Random forests are not able to extrapolate outside of the types of data they have seen, in a more general sense. That's why we need to make sure our validation set does not contain out-of-domain data."
      ]
    },
    {
      "cell_type": "markdown",
      "metadata": {
        "id": "rPituooL8f4w"
      },
      "source": [
        "### Finding Out-of-Domain Data"
      ]
    },
    {
      "cell_type": "markdown",
      "metadata": {
        "id": "6Ii_YPr38f4w"
      },
      "source": [
        "Sometimes it is hard to know whether your test set is distributed in the same way as your training data, or, if it is different, what columns reflect that difference. There's actually an easy way to figure this out, which is to use a random forest!\n",
        "\n",
        "But in this case we don't use the random forest to predict our actual dependent variable. Instead, we try to predict whether a row is in the validation set or the training set. To see this in action, let's combine our training and validation sets together, create a dependent variable that represents which dataset each row comes from, build a random forest using that data, and get its feature importance:"
      ]
    },
    {
      "cell_type": "code",
      "execution_count": 115,
      "metadata": {
        "colab": {
          "base_uri": "https://localhost:8080/",
          "height": 363
        },
        "id": "FKgMGGDl8f4w",
        "outputId": "9e8eeecd-b97c-4bc1-cf6d-250fd70e7391"
      },
      "outputs": [
        {
          "output_type": "execute_result",
          "data": {
            "text/plain": [
              "            cols       imp\n",
              "9        LotArea  0.139575\n",
              "5       1stFlrSF  0.114603\n",
              "1      GrLivArea  0.113544\n",
              "6     BsmtFinSF1  0.112713\n",
              "15   LotFrontage  0.090564\n",
              "7      YearBuilt  0.090261\n",
              "11  YearRemodAdd  0.083823\n",
              "13    MasVnrArea  0.060305\n",
              "10      2ndFlrSF  0.058685\n",
              "14  TotRmsAbvGrd  0.035771"
            ],
            "text/html": [
              "\n",
              "  <div id=\"df-bd02e57a-5236-48ae-ac67-fd6830f5f7e4\">\n",
              "    <div class=\"colab-df-container\">\n",
              "      <div>\n",
              "<style scoped>\n",
              "    .dataframe tbody tr th:only-of-type {\n",
              "        vertical-align: middle;\n",
              "    }\n",
              "\n",
              "    .dataframe tbody tr th {\n",
              "        vertical-align: top;\n",
              "    }\n",
              "\n",
              "    .dataframe thead th {\n",
              "        text-align: right;\n",
              "    }\n",
              "</style>\n",
              "<table border=\"1\" class=\"dataframe\">\n",
              "  <thead>\n",
              "    <tr style=\"text-align: right;\">\n",
              "      <th></th>\n",
              "      <th>cols</th>\n",
              "      <th>imp</th>\n",
              "    </tr>\n",
              "  </thead>\n",
              "  <tbody>\n",
              "    <tr>\n",
              "      <th>9</th>\n",
              "      <td>LotArea</td>\n",
              "      <td>0.139575</td>\n",
              "    </tr>\n",
              "    <tr>\n",
              "      <th>5</th>\n",
              "      <td>1stFlrSF</td>\n",
              "      <td>0.114603</td>\n",
              "    </tr>\n",
              "    <tr>\n",
              "      <th>1</th>\n",
              "      <td>GrLivArea</td>\n",
              "      <td>0.113544</td>\n",
              "    </tr>\n",
              "    <tr>\n",
              "      <th>6</th>\n",
              "      <td>BsmtFinSF1</td>\n",
              "      <td>0.112713</td>\n",
              "    </tr>\n",
              "    <tr>\n",
              "      <th>15</th>\n",
              "      <td>LotFrontage</td>\n",
              "      <td>0.090564</td>\n",
              "    </tr>\n",
              "    <tr>\n",
              "      <th>7</th>\n",
              "      <td>YearBuilt</td>\n",
              "      <td>0.090261</td>\n",
              "    </tr>\n",
              "    <tr>\n",
              "      <th>11</th>\n",
              "      <td>YearRemodAdd</td>\n",
              "      <td>0.083823</td>\n",
              "    </tr>\n",
              "    <tr>\n",
              "      <th>13</th>\n",
              "      <td>MasVnrArea</td>\n",
              "      <td>0.060305</td>\n",
              "    </tr>\n",
              "    <tr>\n",
              "      <th>10</th>\n",
              "      <td>2ndFlrSF</td>\n",
              "      <td>0.058685</td>\n",
              "    </tr>\n",
              "    <tr>\n",
              "      <th>14</th>\n",
              "      <td>TotRmsAbvGrd</td>\n",
              "      <td>0.035771</td>\n",
              "    </tr>\n",
              "  </tbody>\n",
              "</table>\n",
              "</div>\n",
              "      <button class=\"colab-df-convert\" onclick=\"convertToInteractive('df-bd02e57a-5236-48ae-ac67-fd6830f5f7e4')\"\n",
              "              title=\"Convert this dataframe to an interactive table.\"\n",
              "              style=\"display:none;\">\n",
              "        \n",
              "  <svg xmlns=\"http://www.w3.org/2000/svg\" height=\"24px\"viewBox=\"0 0 24 24\"\n",
              "       width=\"24px\">\n",
              "    <path d=\"M0 0h24v24H0V0z\" fill=\"none\"/>\n",
              "    <path d=\"M18.56 5.44l.94 2.06.94-2.06 2.06-.94-2.06-.94-.94-2.06-.94 2.06-2.06.94zm-11 1L8.5 8.5l.94-2.06 2.06-.94-2.06-.94L8.5 2.5l-.94 2.06-2.06.94zm10 10l.94 2.06.94-2.06 2.06-.94-2.06-.94-.94-2.06-.94 2.06-2.06.94z\"/><path d=\"M17.41 7.96l-1.37-1.37c-.4-.4-.92-.59-1.43-.59-.52 0-1.04.2-1.43.59L10.3 9.45l-7.72 7.72c-.78.78-.78 2.05 0 2.83L4 21.41c.39.39.9.59 1.41.59.51 0 1.02-.2 1.41-.59l7.78-7.78 2.81-2.81c.8-.78.8-2.07 0-2.86zM5.41 20L4 18.59l7.72-7.72 1.47 1.35L5.41 20z\"/>\n",
              "  </svg>\n",
              "      </button>\n",
              "      \n",
              "  <style>\n",
              "    .colab-df-container {\n",
              "      display:flex;\n",
              "      flex-wrap:wrap;\n",
              "      gap: 12px;\n",
              "    }\n",
              "\n",
              "    .colab-df-convert {\n",
              "      background-color: #E8F0FE;\n",
              "      border: none;\n",
              "      border-radius: 50%;\n",
              "      cursor: pointer;\n",
              "      display: none;\n",
              "      fill: #1967D2;\n",
              "      height: 32px;\n",
              "      padding: 0 0 0 0;\n",
              "      width: 32px;\n",
              "    }\n",
              "\n",
              "    .colab-df-convert:hover {\n",
              "      background-color: #E2EBFA;\n",
              "      box-shadow: 0px 1px 2px rgba(60, 64, 67, 0.3), 0px 1px 3px 1px rgba(60, 64, 67, 0.15);\n",
              "      fill: #174EA6;\n",
              "    }\n",
              "\n",
              "    [theme=dark] .colab-df-convert {\n",
              "      background-color: #3B4455;\n",
              "      fill: #D2E3FC;\n",
              "    }\n",
              "\n",
              "    [theme=dark] .colab-df-convert:hover {\n",
              "      background-color: #434B5C;\n",
              "      box-shadow: 0px 1px 3px 1px rgba(0, 0, 0, 0.15);\n",
              "      filter: drop-shadow(0px 1px 2px rgba(0, 0, 0, 0.3));\n",
              "      fill: #FFFFFF;\n",
              "    }\n",
              "  </style>\n",
              "\n",
              "      <script>\n",
              "        const buttonEl =\n",
              "          document.querySelector('#df-bd02e57a-5236-48ae-ac67-fd6830f5f7e4 button.colab-df-convert');\n",
              "        buttonEl.style.display =\n",
              "          google.colab.kernel.accessAllowed ? 'block' : 'none';\n",
              "\n",
              "        async function convertToInteractive(key) {\n",
              "          const element = document.querySelector('#df-bd02e57a-5236-48ae-ac67-fd6830f5f7e4');\n",
              "          const dataTable =\n",
              "            await google.colab.kernel.invokeFunction('convertToInteractive',\n",
              "                                                     [key], {});\n",
              "          if (!dataTable) return;\n",
              "\n",
              "          const docLinkHtml = 'Like what you see? Visit the ' +\n",
              "            '<a target=\"_blank\" href=https://colab.research.google.com/notebooks/data_table.ipynb>data table notebook</a>'\n",
              "            + ' to learn more about interactive tables.';\n",
              "          element.innerHTML = '';\n",
              "          dataTable['output_type'] = 'display_data';\n",
              "          await google.colab.output.renderOutput(dataTable, element);\n",
              "          const docLink = document.createElement('div');\n",
              "          docLink.innerHTML = docLinkHtml;\n",
              "          element.appendChild(docLink);\n",
              "        }\n",
              "      </script>\n",
              "    </div>\n",
              "  </div>\n",
              "  "
            ]
          },
          "metadata": {},
          "execution_count": 115
        }
      ],
      "source": [
        "df_dom = pd.concat([xs_final, valid_xs_final])\n",
        "is_valid = np.array([0]*len(xs_final) + [1]*len(valid_xs_final))\n",
        "\n",
        "m = rf(df_dom, is_valid)\n",
        "rf_feat_importance(m, df_dom)[:10]"
      ]
    },
    {
      "cell_type": "markdown",
      "source": [
        "Before freaking out, it is also good to check the MAPE of that model, in our case, the predictive power of the data set is very bad."
      ],
      "metadata": {
        "id": "3pqgfGXctu1n"
      }
    },
    {
      "cell_type": "code",
      "source": [
        "from sklearn.metrics import mean_absolute_percentage_error\n",
        "mean_absolute_percentage_error( m.predict(df_dom),is_valid)*100\n"
      ],
      "metadata": {
        "colab": {
          "base_uri": "https://localhost:8080/"
        },
        "id": "r_Cz-nzgsxUN",
        "outputId": "1bd34d58-07ac-415c-9167-626e12b387e9"
      },
      "execution_count": 116,
      "outputs": [
        {
          "output_type": "execute_result",
          "data": {
            "text/plain": [
              "126.7198587348288"
            ]
          },
          "metadata": {},
          "execution_count": 116
        }
      ]
    },
    {
      "cell_type": "markdown",
      "source": [
        "We anayze anywayt the impact on model performance of droping such variables"
      ],
      "metadata": {
        "id": "UHD_XbVrvJkq"
      }
    },
    {
      "cell_type": "code",
      "execution_count": 117,
      "metadata": {
        "colab": {
          "base_uri": "https://localhost:8080/"
        },
        "id": "9IpWV21m8f4x",
        "outputId": "afa93f83-e70e-4a53-c5ee-7683d56cc97f"
      },
      "outputs": [
        {
          "output_type": "stream",
          "name": "stdout",
          "text": [
            "orig 27754.916212\n",
            "LotArea 28202.277263\n",
            "1stFlrSF 27728.808503\n",
            "GrLivArea 28380.447319\n",
            "BsmtFinSF1 28652.684433\n",
            "LotFrontage 27836.226491\n",
            "YearBuilt 28018.736059\n"
          ]
        }
      ],
      "source": [
        "m = rf(xs_final, y)\n",
        "print('orig', m_rmse(m, valid_xs_final, valid_y))\n",
        "\n",
        "for c in ('LotArea','1stFlrSF','GrLivArea','BsmtFinSF1','LotFrontage','YearBuilt'):\n",
        "    m = rf(xs_final.drop(c,axis=1), y)\n",
        "    print(c, m_rmse(m, valid_xs_final.drop(c,axis=1), valid_y))"
      ]
    },
    {
      "cell_type": "markdown",
      "metadata": {
        "id": "cjlfPnIw8f4x"
      },
      "source": [
        "It looks like we should be able to remove `1stFlrSF` and `LotFrontage` without losing any accuracy. Let's check:"
      ]
    },
    {
      "cell_type": "code",
      "execution_count": 119,
      "metadata": {
        "colab": {
          "base_uri": "https://localhost:8080/"
        },
        "id": "XKYt1FYF8f4x",
        "outputId": "e5dac9a7-48d2-4fb5-ab4c-8187b3916211"
      },
      "outputs": [
        {
          "output_type": "execute_result",
          "data": {
            "text/plain": [
              "27821.86329"
            ]
          },
          "metadata": {},
          "execution_count": 119
        }
      ],
      "source": [
        "time_vars = ['1stFlrSF','LotFrontage']\n",
        "xs_final_time = xs_final.drop(time_vars, axis=1)\n",
        "valid_xs_time = valid_xs_final.drop(time_vars, axis=1)\n",
        "\n",
        "m = rf(xs_final_time, y)\n",
        "m_rmse(m, valid_xs_time, valid_y)"
      ]
    },
    {
      "cell_type": "markdown",
      "metadata": {
        "id": "4SUeb3HH8f4x"
      },
      "source": [
        "Removing these variables barely changed the model's accuracy; but more importantly, it should make it more resilient over time, and easier to maintain and understand. We recommend that for all datasets you try building a model where your dependent variable is `is_valid`, like we did here. It can often uncover subtle *domain shift* issues that you may otherwise miss."
      ]
    },
    {
      "cell_type": "markdown",
      "metadata": {
        "id": "Xc__xUoU8f4y"
      },
      "source": [
        "### Using a Neural Network"
      ]
    },
    {
      "cell_type": "markdown",
      "metadata": {
        "id": "yfatYVpX8f4y"
      },
      "source": [
        "We can use the same approach to build a neural network model. Let's first replicate the steps we took to set up the `TabularPandas` object:"
      ]
    },
    {
      "cell_type": "code",
      "execution_count": 227,
      "metadata": {
        "id": "QKHjnaBw8f4y"
      },
      "outputs": [],
      "source": [
        "df_nn = pd.read_csv(path/'train.csv', low_memory=False)\n",
        "df_nn[cont_nn]= df_nn[cont_nn].apply(pd.to_numeric)\n",
        "df_nn['LotShape'] = df_nn['LotShape'].astype('category')\n",
        "df_nn['LotShape'].cat.set_categories(shapes, ordered=True, inplace=True)\n",
        "df_nn['LandContour'] = df_nn['LandContour'].astype('category')\n",
        "df_nn['LandContour'].cat.set_categories(contour, ordered=True, inplace=True)\n",
        "df_nn['KitchenQual'] = df_nn['KitchenQual'].astype('category')\n",
        "df_nn['KitchenQual'].cat.set_categories(kitqua, ordered=True, inplace=True)\n",
        "df_nn['Functional'] = df_nn['Functional'].astype('category')\n",
        "df_nn['Functional'].cat.set_categories(fun, ordered=True, inplace=True)"
      ]
    },
    {
      "cell_type": "markdown",
      "metadata": {
        "id": "LG8_GkyP8f4y"
      },
      "source": [
        "We can leverage the work we did to trim unwanted columns in the random forest by using the same set of columns for our neural network , plus high cardinality ones:"
      ]
    },
    {
      "cell_type": "code",
      "execution_count": 228,
      "metadata": {
        "id": "qXPR_z_48f4y"
      },
      "outputs": [],
      "source": [
        "df_nn_final= df_nn[list(xs_final_time.columns)+['Neighborhood','MSSubClass','Exterior1st','Exterior2nd'] + [dep_var]]"
      ]
    },
    {
      "cell_type": "code",
      "source": [
        "df_nn_final.info()"
      ],
      "metadata": {
        "id": "6ut_X1PxL2kC",
        "outputId": "db499cd9-8cfb-41bb-dc51-278f33e17f91",
        "colab": {
          "base_uri": "https://localhost:8080/"
        }
      },
      "execution_count": 229,
      "outputs": [
        {
          "output_type": "stream",
          "name": "stdout",
          "text": [
            "<class 'pandas.core.frame.DataFrame'>\n",
            "RangeIndex: 1460 entries, 0 to 1459\n",
            "Data columns (total 19 columns):\n",
            " #   Column        Non-Null Count  Dtype   \n",
            "---  ------        --------------  -----   \n",
            " 0   OverallQual   1460 non-null   int64   \n",
            " 1   GrLivArea     1460 non-null   int64   \n",
            " 2   GarageCars    1460 non-null   int64   \n",
            " 3   ExterQual     1460 non-null   object  \n",
            " 4   KitchenQual   1460 non-null   category\n",
            " 5   BsmtFinSF1    1460 non-null   int64   \n",
            " 6   YearBuilt     1460 non-null   int64   \n",
            " 7   FullBath      1460 non-null   int64   \n",
            " 8   LotArea       1460 non-null   int64   \n",
            " 9   2ndFlrSF      1460 non-null   int64   \n",
            " 10  YearRemodAdd  1460 non-null   int64   \n",
            " 11  BsmtQual      1423 non-null   object  \n",
            " 12  MasVnrArea    1452 non-null   float64 \n",
            " 13  TotRmsAbvGrd  1460 non-null   int64   \n",
            " 14  Neighborhood  1460 non-null   object  \n",
            " 15  MSSubClass    1460 non-null   int64   \n",
            " 16  Exterior1st   1460 non-null   object  \n",
            " 17  Exterior2nd   1460 non-null   object  \n",
            " 18  SalePrice     1460 non-null   int64   \n",
            "dtypes: category(1), float64(1), int64(12), object(5)\n",
            "memory usage: 207.1+ KB\n"
          ]
        }
      ]
    },
    {
      "cell_type": "markdown",
      "metadata": {
        "id": "zQEB2gDI8f4y"
      },
      "source": [
        "Categorical columns are handled very differently in neural networks, compared to decision tree approaches. As we saw in collaborative filtering, in a neural net a great way to handle categorical variables is by using embeddings. To create embeddings, fastai needs to determine which columns should be treated as categorical variables. It does this by comparing the number of distinct levels in the variable to the value of the `max_card` parameter. If it's lower, fastai will treat the variable as categorical. Embedding sizes larger than 10,000 should generally only be used after you've tested whether there are better ways to group the variable, so we'll use 1,000 as our `max_card`:"
      ]
    },
    {
      "cell_type": "code",
      "execution_count": 230,
      "metadata": {
        "id": "Wi01CLrw8f4y"
      },
      "outputs": [],
      "source": [
        "cont_nn,cat_nn = cont_cat_split(df_nn_final, max_card=5, dep_var=dep_var)"
      ]
    },
    {
      "cell_type": "code",
      "source": [
        "cont_nn"
      ],
      "metadata": {
        "id": "cSjyPfx5J2Ee",
        "outputId": "208e651a-9906-4fa6-9af8-37b6f938968e",
        "colab": {
          "base_uri": "https://localhost:8080/"
        }
      },
      "execution_count": 232,
      "outputs": [
        {
          "output_type": "execute_result",
          "data": {
            "text/plain": [
              "['OverallQual',\n",
              " 'GrLivArea',\n",
              " 'BsmtFinSF1',\n",
              " 'YearBuilt',\n",
              " 'LotArea',\n",
              " '2ndFlrSF',\n",
              " 'YearRemodAdd',\n",
              " 'MasVnrArea',\n",
              " 'TotRmsAbvGrd',\n",
              " 'MSSubClass']"
            ]
          },
          "metadata": {},
          "execution_count": 232
        }
      ]
    },
    {
      "cell_type": "code",
      "source": [
        "cont_nn.remove(\"MSSubClass\")"
      ],
      "metadata": {
        "id": "o83PObmMJYub"
      },
      "execution_count": 233,
      "outputs": []
    },
    {
      "cell_type": "code",
      "source": [
        "cont_nn"
      ],
      "metadata": {
        "id": "ahgEBP5RJwPJ",
        "outputId": "c05830b5-f67f-4945-bde2-ce28ad83e3e6",
        "colab": {
          "base_uri": "https://localhost:8080/"
        }
      },
      "execution_count": 234,
      "outputs": [
        {
          "output_type": "execute_result",
          "data": {
            "text/plain": [
              "['OverallQual',\n",
              " 'GrLivArea',\n",
              " 'BsmtFinSF1',\n",
              " 'YearBuilt',\n",
              " 'LotArea',\n",
              " '2ndFlrSF',\n",
              " 'YearRemodAdd',\n",
              " 'MasVnrArea',\n",
              " 'TotRmsAbvGrd']"
            ]
          },
          "metadata": {},
          "execution_count": 234
        }
      ]
    },
    {
      "cell_type": "markdown",
      "metadata": {
        "id": "4L3vdVcE8f4z"
      },
      "source": [
        "Let's take a look at the cardinality of each of the categorical variables that we have chosen so far:"
      ]
    },
    {
      "cell_type": "code",
      "execution_count": 235,
      "metadata": {
        "colab": {
          "base_uri": "https://localhost:8080/"
        },
        "id": "VsIGqoVM8f4z",
        "outputId": "7cd7faba-341a-4a2d-c30d-5ead45b7e61c"
      },
      "outputs": [
        {
          "output_type": "execute_result",
          "data": {
            "text/plain": [
              "GarageCars       5\n",
              "ExterQual        4\n",
              "KitchenQual      4\n",
              "FullBath         4\n",
              "BsmtQual         4\n",
              "Neighborhood    25\n",
              "Exterior1st     15\n",
              "Exterior2nd     16\n",
              "dtype: int64"
            ]
          },
          "metadata": {},
          "execution_count": 235
        }
      ],
      "source": [
        "df_nn_final[cat_nn].nunique()"
      ]
    },
    {
      "cell_type": "code",
      "source": [
        "cat_nn.append('MSSubClass')"
      ],
      "metadata": {
        "id": "ljZjlheYKEMJ"
      },
      "execution_count": 236,
      "outputs": []
    },
    {
      "cell_type": "markdown",
      "metadata": {
        "id": "OI8SyTp_8f4z"
      },
      "source": [
        "We can create our `TabularPandas` object in the same way as when we created our random forest, with one very important addition: normalization. A random forest does not need any normalization—the tree building procedure cares only about the order of values in a variable, not at all about how they are scaled. But as we have seen, a neural network definitely does care about this. Therefore, we add the `Normalize` processor when we build our `TabularPandas` object:"
      ]
    },
    {
      "cell_type": "code",
      "execution_count": 237,
      "metadata": {
        "id": "yA21RJ7w8f4z"
      },
      "outputs": [],
      "source": [
        "procs_nn = [Categorify, FillMissing, Normalize]\n",
        "to_nn = TabularPandas(df_nn_final, procs_nn, cat_nn, cont_nn,\n",
        "                      splits=splits, y_names=dep_var)"
      ]
    },
    {
      "cell_type": "markdown",
      "metadata": {
        "id": "iXelF_gM8f40"
      },
      "source": [
        "Tabular models and data don't generally require much GPU RAM, so we can use larger batch sizes:"
      ]
    },
    {
      "cell_type": "code",
      "execution_count": 238,
      "metadata": {
        "id": "H_h8cLlj8f40"
      },
      "outputs": [],
      "source": [
        "dls = to_nn.dataloaders(128)"
      ]
    },
    {
      "cell_type": "markdown",
      "metadata": {
        "id": "QkjLgQvM8f40"
      },
      "source": [
        "As we've discussed, it's a good idea to set `y_range` for regression models, so let's find the min and max of our dependent variable:"
      ]
    },
    {
      "cell_type": "code",
      "execution_count": 239,
      "metadata": {
        "colab": {
          "base_uri": "https://localhost:8080/"
        },
        "id": "5R8XSg8s8f40",
        "outputId": "cf465c35-aaad-4342-b3a9-86e3b4dbff0c"
      },
      "outputs": [
        {
          "output_type": "execute_result",
          "data": {
            "text/plain": [
              "(34900, 755000)"
            ]
          },
          "metadata": {},
          "execution_count": 239
        }
      ],
      "source": [
        "y = to_nn.train.y\n",
        "y.min(),y.max()"
      ]
    },
    {
      "cell_type": "markdown",
      "metadata": {
        "id": "ng4PZgq_8f40"
      },
      "source": [
        "We can now create the `Learner` to create this tabular model. As usual, we use the application-specific learner function, to take advantage of its application-customized defaults. We set the loss function to MSE, since that's what this competition uses.\n",
        "\n",
        "By default, for tabular data fastai creates a neural network with two hidden layers, with 200 and 100 activations, respectively. This works quite well for small datasets, but here we've got quite a large dataset, so we increase the layer sizes to 500 and 250:"
      ]
    },
    {
      "cell_type": "code",
      "execution_count": 240,
      "metadata": {
        "id": "NVXeMyUo8f40"
      },
      "outputs": [],
      "source": [
        "learn = tabular_learner(dls, y_range=(20000,1000000), layers=[500,250],\n",
        "                        n_out=1, loss_func=F.mse_loss)"
      ]
    },
    {
      "cell_type": "code",
      "execution_count": 241,
      "metadata": {
        "colab": {
          "base_uri": "https://localhost:8080/",
          "height": 351
        },
        "id": "vVmePdYv8f40",
        "outputId": "dd5387f9-9a74-479c-8aec-217167739c72"
      },
      "outputs": [
        {
          "output_type": "display_data",
          "data": {
            "text/plain": [
              "<IPython.core.display.HTML object>"
            ],
            "text/html": [
              "\n",
              "<style>\n",
              "    /* Turns off some styling */\n",
              "    progress {\n",
              "        /* gets rid of default border in Firefox and Opera. */\n",
              "        border: none;\n",
              "        /* Needs to be in here for Safari polyfill so background images work as expected. */\n",
              "        background-size: auto;\n",
              "    }\n",
              "    .progress-bar-interrupted, .progress-bar-interrupted::-webkit-progress-bar {\n",
              "        background: #F44336;\n",
              "    }\n",
              "</style>\n"
            ]
          },
          "metadata": {}
        },
        {
          "output_type": "display_data",
          "data": {
            "text/plain": [
              "<IPython.core.display.HTML object>"
            ],
            "text/html": [
              "\n",
              "    <div>\n",
              "      <progress value='0' class='' max='12' style='width:300px; height:20px; vertical-align: middle;'></progress>\n",
              "      0.00% [0/12 00:00<00:00]\n",
              "    </div>\n",
              "    \n",
              "\n",
              "\n",
              "    <div>\n",
              "      <progress value='0' class='' max='9' style='width:300px; height:20px; vertical-align: middle;'></progress>\n",
              "      0.00% [0/9 00:00<00:00]\n",
              "    </div>\n",
              "    "
            ]
          },
          "metadata": {}
        },
        {
          "output_type": "error",
          "ename": "RuntimeError",
          "evalue": "ignored",
          "traceback": [
            "\u001b[0;31m---------------------------------------------------------------------------\u001b[0m",
            "\u001b[0;31mRuntimeError\u001b[0m                              Traceback (most recent call last)",
            "\u001b[0;32m<ipython-input-241-d81c6bd29d71>\u001b[0m in \u001b[0;36m<module>\u001b[0;34m()\u001b[0m\n\u001b[0;32m----> 1\u001b[0;31m \u001b[0mlearn\u001b[0m\u001b[0;34m.\u001b[0m\u001b[0mlr_find\u001b[0m\u001b[0;34m(\u001b[0m\u001b[0;34m)\u001b[0m\u001b[0;34m\u001b[0m\u001b[0;34m\u001b[0m\u001b[0m\n\u001b[0m",
            "\u001b[0;32m/usr/local/lib/python3.7/dist-packages/fastai/callback/schedule.py\u001b[0m in \u001b[0;36mlr_find\u001b[0;34m(self, start_lr, end_lr, num_it, stop_div, show_plot, suggest_funcs)\u001b[0m\n\u001b[1;32m    287\u001b[0m     \u001b[0mn_epoch\u001b[0m \u001b[0;34m=\u001b[0m \u001b[0mnum_it\u001b[0m\u001b[0;34m//\u001b[0m\u001b[0mlen\u001b[0m\u001b[0;34m(\u001b[0m\u001b[0mself\u001b[0m\u001b[0;34m.\u001b[0m\u001b[0mdls\u001b[0m\u001b[0;34m.\u001b[0m\u001b[0mtrain\u001b[0m\u001b[0;34m)\u001b[0m \u001b[0;34m+\u001b[0m \u001b[0;36m1\u001b[0m\u001b[0;34m\u001b[0m\u001b[0;34m\u001b[0m\u001b[0m\n\u001b[1;32m    288\u001b[0m     \u001b[0mcb\u001b[0m\u001b[0;34m=\u001b[0m\u001b[0mLRFinder\u001b[0m\u001b[0;34m(\u001b[0m\u001b[0mstart_lr\u001b[0m\u001b[0;34m=\u001b[0m\u001b[0mstart_lr\u001b[0m\u001b[0;34m,\u001b[0m \u001b[0mend_lr\u001b[0m\u001b[0;34m=\u001b[0m\u001b[0mend_lr\u001b[0m\u001b[0;34m,\u001b[0m \u001b[0mnum_it\u001b[0m\u001b[0;34m=\u001b[0m\u001b[0mnum_it\u001b[0m\u001b[0;34m,\u001b[0m \u001b[0mstop_div\u001b[0m\u001b[0;34m=\u001b[0m\u001b[0mstop_div\u001b[0m\u001b[0;34m)\u001b[0m\u001b[0;34m\u001b[0m\u001b[0;34m\u001b[0m\u001b[0m\n\u001b[0;32m--> 289\u001b[0;31m     \u001b[0;32mwith\u001b[0m \u001b[0mself\u001b[0m\u001b[0;34m.\u001b[0m\u001b[0mno_logging\u001b[0m\u001b[0;34m(\u001b[0m\u001b[0;34m)\u001b[0m\u001b[0;34m:\u001b[0m \u001b[0mself\u001b[0m\u001b[0;34m.\u001b[0m\u001b[0mfit\u001b[0m\u001b[0;34m(\u001b[0m\u001b[0mn_epoch\u001b[0m\u001b[0;34m,\u001b[0m \u001b[0mcbs\u001b[0m\u001b[0;34m=\u001b[0m\u001b[0mcb\u001b[0m\u001b[0;34m)\u001b[0m\u001b[0;34m\u001b[0m\u001b[0;34m\u001b[0m\u001b[0m\n\u001b[0m\u001b[1;32m    290\u001b[0m     \u001b[0;32mif\u001b[0m \u001b[0msuggest_funcs\u001b[0m \u001b[0;32mis\u001b[0m \u001b[0;32mnot\u001b[0m \u001b[0;32mNone\u001b[0m\u001b[0;34m:\u001b[0m\u001b[0;34m\u001b[0m\u001b[0;34m\u001b[0m\u001b[0m\n\u001b[1;32m    291\u001b[0m         \u001b[0mlrs\u001b[0m\u001b[0;34m,\u001b[0m \u001b[0mlosses\u001b[0m \u001b[0;34m=\u001b[0m \u001b[0mtensor\u001b[0m\u001b[0;34m(\u001b[0m\u001b[0mself\u001b[0m\u001b[0;34m.\u001b[0m\u001b[0mrecorder\u001b[0m\u001b[0;34m.\u001b[0m\u001b[0mlrs\u001b[0m\u001b[0;34m[\u001b[0m\u001b[0mnum_it\u001b[0m\u001b[0;34m//\u001b[0m\u001b[0;36m10\u001b[0m\u001b[0;34m:\u001b[0m\u001b[0;34m-\u001b[0m\u001b[0;36m5\u001b[0m\u001b[0;34m]\u001b[0m\u001b[0;34m)\u001b[0m\u001b[0;34m,\u001b[0m \u001b[0mtensor\u001b[0m\u001b[0;34m(\u001b[0m\u001b[0mself\u001b[0m\u001b[0;34m.\u001b[0m\u001b[0mrecorder\u001b[0m\u001b[0;34m.\u001b[0m\u001b[0mlosses\u001b[0m\u001b[0;34m[\u001b[0m\u001b[0mnum_it\u001b[0m\u001b[0;34m//\u001b[0m\u001b[0;36m10\u001b[0m\u001b[0;34m:\u001b[0m\u001b[0;34m-\u001b[0m\u001b[0;36m5\u001b[0m\u001b[0;34m]\u001b[0m\u001b[0;34m)\u001b[0m\u001b[0;34m\u001b[0m\u001b[0;34m\u001b[0m\u001b[0m\n",
            "\u001b[0;32m/usr/local/lib/python3.7/dist-packages/fastai/learner.py\u001b[0m in \u001b[0;36mfit\u001b[0;34m(self, n_epoch, lr, wd, cbs, reset_opt)\u001b[0m\n\u001b[1;32m    220\u001b[0m             \u001b[0mself\u001b[0m\u001b[0;34m.\u001b[0m\u001b[0mopt\u001b[0m\u001b[0;34m.\u001b[0m\u001b[0mset_hypers\u001b[0m\u001b[0;34m(\u001b[0m\u001b[0mlr\u001b[0m\u001b[0;34m=\u001b[0m\u001b[0mself\u001b[0m\u001b[0;34m.\u001b[0m\u001b[0mlr\u001b[0m \u001b[0;32mif\u001b[0m \u001b[0mlr\u001b[0m \u001b[0;32mis\u001b[0m \u001b[0;32mNone\u001b[0m \u001b[0;32melse\u001b[0m \u001b[0mlr\u001b[0m\u001b[0;34m)\u001b[0m\u001b[0;34m\u001b[0m\u001b[0;34m\u001b[0m\u001b[0m\n\u001b[1;32m    221\u001b[0m             \u001b[0mself\u001b[0m\u001b[0;34m.\u001b[0m\u001b[0mn_epoch\u001b[0m \u001b[0;34m=\u001b[0m \u001b[0mn_epoch\u001b[0m\u001b[0;34m\u001b[0m\u001b[0;34m\u001b[0m\u001b[0m\n\u001b[0;32m--> 222\u001b[0;31m             \u001b[0mself\u001b[0m\u001b[0;34m.\u001b[0m\u001b[0m_with_events\u001b[0m\u001b[0;34m(\u001b[0m\u001b[0mself\u001b[0m\u001b[0;34m.\u001b[0m\u001b[0m_do_fit\u001b[0m\u001b[0;34m,\u001b[0m \u001b[0;34m'fit'\u001b[0m\u001b[0;34m,\u001b[0m \u001b[0mCancelFitException\u001b[0m\u001b[0;34m,\u001b[0m \u001b[0mself\u001b[0m\u001b[0;34m.\u001b[0m\u001b[0m_end_cleanup\u001b[0m\u001b[0;34m)\u001b[0m\u001b[0;34m\u001b[0m\u001b[0;34m\u001b[0m\u001b[0m\n\u001b[0m\u001b[1;32m    223\u001b[0m \u001b[0;34m\u001b[0m\u001b[0m\n\u001b[1;32m    224\u001b[0m     \u001b[0;32mdef\u001b[0m \u001b[0m_end_cleanup\u001b[0m\u001b[0;34m(\u001b[0m\u001b[0mself\u001b[0m\u001b[0;34m)\u001b[0m\u001b[0;34m:\u001b[0m \u001b[0mself\u001b[0m\u001b[0;34m.\u001b[0m\u001b[0mdl\u001b[0m\u001b[0;34m,\u001b[0m\u001b[0mself\u001b[0m\u001b[0;34m.\u001b[0m\u001b[0mxb\u001b[0m\u001b[0;34m,\u001b[0m\u001b[0mself\u001b[0m\u001b[0;34m.\u001b[0m\u001b[0myb\u001b[0m\u001b[0;34m,\u001b[0m\u001b[0mself\u001b[0m\u001b[0;34m.\u001b[0m\u001b[0mpred\u001b[0m\u001b[0;34m,\u001b[0m\u001b[0mself\u001b[0m\u001b[0;34m.\u001b[0m\u001b[0mloss\u001b[0m \u001b[0;34m=\u001b[0m \u001b[0;32mNone\u001b[0m\u001b[0;34m,\u001b[0m\u001b[0;34m(\u001b[0m\u001b[0;32mNone\u001b[0m\u001b[0;34m,\u001b[0m\u001b[0;34m)\u001b[0m\u001b[0;34m,\u001b[0m\u001b[0;34m(\u001b[0m\u001b[0;32mNone\u001b[0m\u001b[0;34m,\u001b[0m\u001b[0;34m)\u001b[0m\u001b[0;34m,\u001b[0m\u001b[0;32mNone\u001b[0m\u001b[0;34m,\u001b[0m\u001b[0;32mNone\u001b[0m\u001b[0;34m\u001b[0m\u001b[0;34m\u001b[0m\u001b[0m\n",
            "\u001b[0;32m/usr/local/lib/python3.7/dist-packages/fastai/learner.py\u001b[0m in \u001b[0;36m_with_events\u001b[0;34m(self, f, event_type, ex, final)\u001b[0m\n\u001b[1;32m    162\u001b[0m \u001b[0;34m\u001b[0m\u001b[0m\n\u001b[1;32m    163\u001b[0m     \u001b[0;32mdef\u001b[0m \u001b[0m_with_events\u001b[0m\u001b[0;34m(\u001b[0m\u001b[0mself\u001b[0m\u001b[0;34m,\u001b[0m \u001b[0mf\u001b[0m\u001b[0;34m,\u001b[0m \u001b[0mevent_type\u001b[0m\u001b[0;34m,\u001b[0m \u001b[0mex\u001b[0m\u001b[0;34m,\u001b[0m \u001b[0mfinal\u001b[0m\u001b[0;34m=\u001b[0m\u001b[0mnoop\u001b[0m\u001b[0;34m)\u001b[0m\u001b[0;34m:\u001b[0m\u001b[0;34m\u001b[0m\u001b[0;34m\u001b[0m\u001b[0m\n\u001b[0;32m--> 164\u001b[0;31m         \u001b[0;32mtry\u001b[0m\u001b[0;34m:\u001b[0m \u001b[0mself\u001b[0m\u001b[0;34m(\u001b[0m\u001b[0;34mf'before_{event_type}'\u001b[0m\u001b[0;34m)\u001b[0m\u001b[0;34m;\u001b[0m  \u001b[0mf\u001b[0m\u001b[0;34m(\u001b[0m\u001b[0;34m)\u001b[0m\u001b[0;34m\u001b[0m\u001b[0;34m\u001b[0m\u001b[0m\n\u001b[0m\u001b[1;32m    165\u001b[0m         \u001b[0;32mexcept\u001b[0m \u001b[0mex\u001b[0m\u001b[0;34m:\u001b[0m \u001b[0mself\u001b[0m\u001b[0;34m(\u001b[0m\u001b[0;34mf'after_cancel_{event_type}'\u001b[0m\u001b[0;34m)\u001b[0m\u001b[0;34m\u001b[0m\u001b[0;34m\u001b[0m\u001b[0m\n\u001b[1;32m    166\u001b[0m         \u001b[0mself\u001b[0m\u001b[0;34m(\u001b[0m\u001b[0;34mf'after_{event_type}'\u001b[0m\u001b[0;34m)\u001b[0m\u001b[0;34m;\u001b[0m  \u001b[0mfinal\u001b[0m\u001b[0;34m(\u001b[0m\u001b[0;34m)\u001b[0m\u001b[0;34m\u001b[0m\u001b[0;34m\u001b[0m\u001b[0m\n",
            "\u001b[0;32m/usr/local/lib/python3.7/dist-packages/fastai/learner.py\u001b[0m in \u001b[0;36m_do_fit\u001b[0;34m(self)\u001b[0m\n\u001b[1;32m    211\u001b[0m         \u001b[0;32mfor\u001b[0m \u001b[0mepoch\u001b[0m \u001b[0;32min\u001b[0m \u001b[0mrange\u001b[0m\u001b[0;34m(\u001b[0m\u001b[0mself\u001b[0m\u001b[0;34m.\u001b[0m\u001b[0mn_epoch\u001b[0m\u001b[0;34m)\u001b[0m\u001b[0;34m:\u001b[0m\u001b[0;34m\u001b[0m\u001b[0;34m\u001b[0m\u001b[0m\n\u001b[1;32m    212\u001b[0m             \u001b[0mself\u001b[0m\u001b[0;34m.\u001b[0m\u001b[0mepoch\u001b[0m\u001b[0;34m=\u001b[0m\u001b[0mepoch\u001b[0m\u001b[0;34m\u001b[0m\u001b[0;34m\u001b[0m\u001b[0m\n\u001b[0;32m--> 213\u001b[0;31m             \u001b[0mself\u001b[0m\u001b[0;34m.\u001b[0m\u001b[0m_with_events\u001b[0m\u001b[0;34m(\u001b[0m\u001b[0mself\u001b[0m\u001b[0;34m.\u001b[0m\u001b[0m_do_epoch\u001b[0m\u001b[0;34m,\u001b[0m \u001b[0;34m'epoch'\u001b[0m\u001b[0;34m,\u001b[0m \u001b[0mCancelEpochException\u001b[0m\u001b[0;34m)\u001b[0m\u001b[0;34m\u001b[0m\u001b[0;34m\u001b[0m\u001b[0m\n\u001b[0m\u001b[1;32m    214\u001b[0m \u001b[0;34m\u001b[0m\u001b[0m\n\u001b[1;32m    215\u001b[0m     \u001b[0;32mdef\u001b[0m \u001b[0mfit\u001b[0m\u001b[0;34m(\u001b[0m\u001b[0mself\u001b[0m\u001b[0;34m,\u001b[0m \u001b[0mn_epoch\u001b[0m\u001b[0;34m,\u001b[0m \u001b[0mlr\u001b[0m\u001b[0;34m=\u001b[0m\u001b[0;32mNone\u001b[0m\u001b[0;34m,\u001b[0m \u001b[0mwd\u001b[0m\u001b[0;34m=\u001b[0m\u001b[0;32mNone\u001b[0m\u001b[0;34m,\u001b[0m \u001b[0mcbs\u001b[0m\u001b[0;34m=\u001b[0m\u001b[0;32mNone\u001b[0m\u001b[0;34m,\u001b[0m \u001b[0mreset_opt\u001b[0m\u001b[0;34m=\u001b[0m\u001b[0;32mFalse\u001b[0m\u001b[0;34m)\u001b[0m\u001b[0;34m:\u001b[0m\u001b[0;34m\u001b[0m\u001b[0;34m\u001b[0m\u001b[0m\n",
            "\u001b[0;32m/usr/local/lib/python3.7/dist-packages/fastai/learner.py\u001b[0m in \u001b[0;36m_with_events\u001b[0;34m(self, f, event_type, ex, final)\u001b[0m\n\u001b[1;32m    162\u001b[0m \u001b[0;34m\u001b[0m\u001b[0m\n\u001b[1;32m    163\u001b[0m     \u001b[0;32mdef\u001b[0m \u001b[0m_with_events\u001b[0m\u001b[0;34m(\u001b[0m\u001b[0mself\u001b[0m\u001b[0;34m,\u001b[0m \u001b[0mf\u001b[0m\u001b[0;34m,\u001b[0m \u001b[0mevent_type\u001b[0m\u001b[0;34m,\u001b[0m \u001b[0mex\u001b[0m\u001b[0;34m,\u001b[0m \u001b[0mfinal\u001b[0m\u001b[0;34m=\u001b[0m\u001b[0mnoop\u001b[0m\u001b[0;34m)\u001b[0m\u001b[0;34m:\u001b[0m\u001b[0;34m\u001b[0m\u001b[0;34m\u001b[0m\u001b[0m\n\u001b[0;32m--> 164\u001b[0;31m         \u001b[0;32mtry\u001b[0m\u001b[0;34m:\u001b[0m \u001b[0mself\u001b[0m\u001b[0;34m(\u001b[0m\u001b[0;34mf'before_{event_type}'\u001b[0m\u001b[0;34m)\u001b[0m\u001b[0;34m;\u001b[0m  \u001b[0mf\u001b[0m\u001b[0;34m(\u001b[0m\u001b[0;34m)\u001b[0m\u001b[0;34m\u001b[0m\u001b[0;34m\u001b[0m\u001b[0m\n\u001b[0m\u001b[1;32m    165\u001b[0m         \u001b[0;32mexcept\u001b[0m \u001b[0mex\u001b[0m\u001b[0;34m:\u001b[0m \u001b[0mself\u001b[0m\u001b[0;34m(\u001b[0m\u001b[0;34mf'after_cancel_{event_type}'\u001b[0m\u001b[0;34m)\u001b[0m\u001b[0;34m\u001b[0m\u001b[0;34m\u001b[0m\u001b[0m\n\u001b[1;32m    166\u001b[0m         \u001b[0mself\u001b[0m\u001b[0;34m(\u001b[0m\u001b[0;34mf'after_{event_type}'\u001b[0m\u001b[0;34m)\u001b[0m\u001b[0;34m;\u001b[0m  \u001b[0mfinal\u001b[0m\u001b[0;34m(\u001b[0m\u001b[0;34m)\u001b[0m\u001b[0;34m\u001b[0m\u001b[0;34m\u001b[0m\u001b[0m\n",
            "\u001b[0;32m/usr/local/lib/python3.7/dist-packages/fastai/learner.py\u001b[0m in \u001b[0;36m_do_epoch\u001b[0;34m(self)\u001b[0m\n\u001b[1;32m    205\u001b[0m \u001b[0;34m\u001b[0m\u001b[0m\n\u001b[1;32m    206\u001b[0m     \u001b[0;32mdef\u001b[0m \u001b[0m_do_epoch\u001b[0m\u001b[0;34m(\u001b[0m\u001b[0mself\u001b[0m\u001b[0;34m)\u001b[0m\u001b[0;34m:\u001b[0m\u001b[0;34m\u001b[0m\u001b[0;34m\u001b[0m\u001b[0m\n\u001b[0;32m--> 207\u001b[0;31m         \u001b[0mself\u001b[0m\u001b[0;34m.\u001b[0m\u001b[0m_do_epoch_train\u001b[0m\u001b[0;34m(\u001b[0m\u001b[0;34m)\u001b[0m\u001b[0;34m\u001b[0m\u001b[0;34m\u001b[0m\u001b[0m\n\u001b[0m\u001b[1;32m    208\u001b[0m         \u001b[0mself\u001b[0m\u001b[0;34m.\u001b[0m\u001b[0m_do_epoch_validate\u001b[0m\u001b[0;34m(\u001b[0m\u001b[0;34m)\u001b[0m\u001b[0;34m\u001b[0m\u001b[0;34m\u001b[0m\u001b[0m\n\u001b[1;32m    209\u001b[0m \u001b[0;34m\u001b[0m\u001b[0m\n",
            "\u001b[0;32m/usr/local/lib/python3.7/dist-packages/fastai/learner.py\u001b[0m in \u001b[0;36m_do_epoch_train\u001b[0;34m(self)\u001b[0m\n\u001b[1;32m    197\u001b[0m     \u001b[0;32mdef\u001b[0m \u001b[0m_do_epoch_train\u001b[0m\u001b[0;34m(\u001b[0m\u001b[0mself\u001b[0m\u001b[0;34m)\u001b[0m\u001b[0;34m:\u001b[0m\u001b[0;34m\u001b[0m\u001b[0;34m\u001b[0m\u001b[0m\n\u001b[1;32m    198\u001b[0m         \u001b[0mself\u001b[0m\u001b[0;34m.\u001b[0m\u001b[0mdl\u001b[0m \u001b[0;34m=\u001b[0m \u001b[0mself\u001b[0m\u001b[0;34m.\u001b[0m\u001b[0mdls\u001b[0m\u001b[0;34m.\u001b[0m\u001b[0mtrain\u001b[0m\u001b[0;34m\u001b[0m\u001b[0;34m\u001b[0m\u001b[0m\n\u001b[0;32m--> 199\u001b[0;31m         \u001b[0mself\u001b[0m\u001b[0;34m.\u001b[0m\u001b[0m_with_events\u001b[0m\u001b[0;34m(\u001b[0m\u001b[0mself\u001b[0m\u001b[0;34m.\u001b[0m\u001b[0mall_batches\u001b[0m\u001b[0;34m,\u001b[0m \u001b[0;34m'train'\u001b[0m\u001b[0;34m,\u001b[0m \u001b[0mCancelTrainException\u001b[0m\u001b[0;34m)\u001b[0m\u001b[0;34m\u001b[0m\u001b[0;34m\u001b[0m\u001b[0m\n\u001b[0m\u001b[1;32m    200\u001b[0m \u001b[0;34m\u001b[0m\u001b[0m\n\u001b[1;32m    201\u001b[0m     \u001b[0;32mdef\u001b[0m \u001b[0m_do_epoch_validate\u001b[0m\u001b[0;34m(\u001b[0m\u001b[0mself\u001b[0m\u001b[0;34m,\u001b[0m \u001b[0mds_idx\u001b[0m\u001b[0;34m=\u001b[0m\u001b[0;36m1\u001b[0m\u001b[0;34m,\u001b[0m \u001b[0mdl\u001b[0m\u001b[0;34m=\u001b[0m\u001b[0;32mNone\u001b[0m\u001b[0;34m)\u001b[0m\u001b[0;34m:\u001b[0m\u001b[0;34m\u001b[0m\u001b[0;34m\u001b[0m\u001b[0m\n",
            "\u001b[0;32m/usr/local/lib/python3.7/dist-packages/fastai/learner.py\u001b[0m in \u001b[0;36m_with_events\u001b[0;34m(self, f, event_type, ex, final)\u001b[0m\n\u001b[1;32m    162\u001b[0m \u001b[0;34m\u001b[0m\u001b[0m\n\u001b[1;32m    163\u001b[0m     \u001b[0;32mdef\u001b[0m \u001b[0m_with_events\u001b[0m\u001b[0;34m(\u001b[0m\u001b[0mself\u001b[0m\u001b[0;34m,\u001b[0m \u001b[0mf\u001b[0m\u001b[0;34m,\u001b[0m \u001b[0mevent_type\u001b[0m\u001b[0;34m,\u001b[0m \u001b[0mex\u001b[0m\u001b[0;34m,\u001b[0m \u001b[0mfinal\u001b[0m\u001b[0;34m=\u001b[0m\u001b[0mnoop\u001b[0m\u001b[0;34m)\u001b[0m\u001b[0;34m:\u001b[0m\u001b[0;34m\u001b[0m\u001b[0;34m\u001b[0m\u001b[0m\n\u001b[0;32m--> 164\u001b[0;31m         \u001b[0;32mtry\u001b[0m\u001b[0;34m:\u001b[0m \u001b[0mself\u001b[0m\u001b[0;34m(\u001b[0m\u001b[0;34mf'before_{event_type}'\u001b[0m\u001b[0;34m)\u001b[0m\u001b[0;34m;\u001b[0m  \u001b[0mf\u001b[0m\u001b[0;34m(\u001b[0m\u001b[0;34m)\u001b[0m\u001b[0;34m\u001b[0m\u001b[0;34m\u001b[0m\u001b[0m\n\u001b[0m\u001b[1;32m    165\u001b[0m         \u001b[0;32mexcept\u001b[0m \u001b[0mex\u001b[0m\u001b[0;34m:\u001b[0m \u001b[0mself\u001b[0m\u001b[0;34m(\u001b[0m\u001b[0;34mf'after_cancel_{event_type}'\u001b[0m\u001b[0;34m)\u001b[0m\u001b[0;34m\u001b[0m\u001b[0;34m\u001b[0m\u001b[0m\n\u001b[1;32m    166\u001b[0m         \u001b[0mself\u001b[0m\u001b[0;34m(\u001b[0m\u001b[0;34mf'after_{event_type}'\u001b[0m\u001b[0;34m)\u001b[0m\u001b[0;34m;\u001b[0m  \u001b[0mfinal\u001b[0m\u001b[0;34m(\u001b[0m\u001b[0;34m)\u001b[0m\u001b[0;34m\u001b[0m\u001b[0;34m\u001b[0m\u001b[0m\n",
            "\u001b[0;32m/usr/local/lib/python3.7/dist-packages/fastai/learner.py\u001b[0m in \u001b[0;36mall_batches\u001b[0;34m(self)\u001b[0m\n\u001b[1;32m    168\u001b[0m     \u001b[0;32mdef\u001b[0m \u001b[0mall_batches\u001b[0m\u001b[0;34m(\u001b[0m\u001b[0mself\u001b[0m\u001b[0;34m)\u001b[0m\u001b[0;34m:\u001b[0m\u001b[0;34m\u001b[0m\u001b[0;34m\u001b[0m\u001b[0m\n\u001b[1;32m    169\u001b[0m         \u001b[0mself\u001b[0m\u001b[0;34m.\u001b[0m\u001b[0mn_iter\u001b[0m \u001b[0;34m=\u001b[0m \u001b[0mlen\u001b[0m\u001b[0;34m(\u001b[0m\u001b[0mself\u001b[0m\u001b[0;34m.\u001b[0m\u001b[0mdl\u001b[0m\u001b[0;34m)\u001b[0m\u001b[0;34m\u001b[0m\u001b[0;34m\u001b[0m\u001b[0m\n\u001b[0;32m--> 170\u001b[0;31m         \u001b[0;32mfor\u001b[0m \u001b[0mo\u001b[0m \u001b[0;32min\u001b[0m \u001b[0menumerate\u001b[0m\u001b[0;34m(\u001b[0m\u001b[0mself\u001b[0m\u001b[0;34m.\u001b[0m\u001b[0mdl\u001b[0m\u001b[0;34m)\u001b[0m\u001b[0;34m:\u001b[0m \u001b[0mself\u001b[0m\u001b[0;34m.\u001b[0m\u001b[0mone_batch\u001b[0m\u001b[0;34m(\u001b[0m\u001b[0;34m*\u001b[0m\u001b[0mo\u001b[0m\u001b[0;34m)\u001b[0m\u001b[0;34m\u001b[0m\u001b[0;34m\u001b[0m\u001b[0m\n\u001b[0m\u001b[1;32m    171\u001b[0m \u001b[0;34m\u001b[0m\u001b[0m\n\u001b[1;32m    172\u001b[0m     \u001b[0;32mdef\u001b[0m \u001b[0m_do_one_batch\u001b[0m\u001b[0;34m(\u001b[0m\u001b[0mself\u001b[0m\u001b[0;34m)\u001b[0m\u001b[0;34m:\u001b[0m\u001b[0;34m\u001b[0m\u001b[0;34m\u001b[0m\u001b[0m\n",
            "\u001b[0;32m/usr/local/lib/python3.7/dist-packages/fastai/learner.py\u001b[0m in \u001b[0;36mone_batch\u001b[0;34m(self, i, b)\u001b[0m\n\u001b[1;32m    193\u001b[0m         \u001b[0mb\u001b[0m \u001b[0;34m=\u001b[0m \u001b[0mself\u001b[0m\u001b[0;34m.\u001b[0m\u001b[0m_set_device\u001b[0m\u001b[0;34m(\u001b[0m\u001b[0mb\u001b[0m\u001b[0;34m)\u001b[0m\u001b[0;34m\u001b[0m\u001b[0;34m\u001b[0m\u001b[0m\n\u001b[1;32m    194\u001b[0m         \u001b[0mself\u001b[0m\u001b[0;34m.\u001b[0m\u001b[0m_split\u001b[0m\u001b[0;34m(\u001b[0m\u001b[0mb\u001b[0m\u001b[0;34m)\u001b[0m\u001b[0;34m\u001b[0m\u001b[0;34m\u001b[0m\u001b[0m\n\u001b[0;32m--> 195\u001b[0;31m         \u001b[0mself\u001b[0m\u001b[0;34m.\u001b[0m\u001b[0m_with_events\u001b[0m\u001b[0;34m(\u001b[0m\u001b[0mself\u001b[0m\u001b[0;34m.\u001b[0m\u001b[0m_do_one_batch\u001b[0m\u001b[0;34m,\u001b[0m \u001b[0;34m'batch'\u001b[0m\u001b[0;34m,\u001b[0m \u001b[0mCancelBatchException\u001b[0m\u001b[0;34m)\u001b[0m\u001b[0;34m\u001b[0m\u001b[0;34m\u001b[0m\u001b[0m\n\u001b[0m\u001b[1;32m    196\u001b[0m \u001b[0;34m\u001b[0m\u001b[0m\n\u001b[1;32m    197\u001b[0m     \u001b[0;32mdef\u001b[0m \u001b[0m_do_epoch_train\u001b[0m\u001b[0;34m(\u001b[0m\u001b[0mself\u001b[0m\u001b[0;34m)\u001b[0m\u001b[0;34m:\u001b[0m\u001b[0;34m\u001b[0m\u001b[0;34m\u001b[0m\u001b[0m\n",
            "\u001b[0;32m/usr/local/lib/python3.7/dist-packages/fastai/learner.py\u001b[0m in \u001b[0;36m_with_events\u001b[0;34m(self, f, event_type, ex, final)\u001b[0m\n\u001b[1;32m    162\u001b[0m \u001b[0;34m\u001b[0m\u001b[0m\n\u001b[1;32m    163\u001b[0m     \u001b[0;32mdef\u001b[0m \u001b[0m_with_events\u001b[0m\u001b[0;34m(\u001b[0m\u001b[0mself\u001b[0m\u001b[0;34m,\u001b[0m \u001b[0mf\u001b[0m\u001b[0;34m,\u001b[0m \u001b[0mevent_type\u001b[0m\u001b[0;34m,\u001b[0m \u001b[0mex\u001b[0m\u001b[0;34m,\u001b[0m \u001b[0mfinal\u001b[0m\u001b[0;34m=\u001b[0m\u001b[0mnoop\u001b[0m\u001b[0;34m)\u001b[0m\u001b[0;34m:\u001b[0m\u001b[0;34m\u001b[0m\u001b[0;34m\u001b[0m\u001b[0m\n\u001b[0;32m--> 164\u001b[0;31m         \u001b[0;32mtry\u001b[0m\u001b[0;34m:\u001b[0m \u001b[0mself\u001b[0m\u001b[0;34m(\u001b[0m\u001b[0;34mf'before_{event_type}'\u001b[0m\u001b[0;34m)\u001b[0m\u001b[0;34m;\u001b[0m  \u001b[0mf\u001b[0m\u001b[0;34m(\u001b[0m\u001b[0;34m)\u001b[0m\u001b[0;34m\u001b[0m\u001b[0;34m\u001b[0m\u001b[0m\n\u001b[0m\u001b[1;32m    165\u001b[0m         \u001b[0;32mexcept\u001b[0m \u001b[0mex\u001b[0m\u001b[0;34m:\u001b[0m \u001b[0mself\u001b[0m\u001b[0;34m(\u001b[0m\u001b[0;34mf'after_cancel_{event_type}'\u001b[0m\u001b[0;34m)\u001b[0m\u001b[0;34m\u001b[0m\u001b[0;34m\u001b[0m\u001b[0m\n\u001b[1;32m    166\u001b[0m         \u001b[0mself\u001b[0m\u001b[0;34m(\u001b[0m\u001b[0;34mf'after_{event_type}'\u001b[0m\u001b[0;34m)\u001b[0m\u001b[0;34m;\u001b[0m  \u001b[0mfinal\u001b[0m\u001b[0;34m(\u001b[0m\u001b[0;34m)\u001b[0m\u001b[0;34m\u001b[0m\u001b[0;34m\u001b[0m\u001b[0m\n",
            "\u001b[0;32m/usr/local/lib/python3.7/dist-packages/fastai/learner.py\u001b[0m in \u001b[0;36m_do_one_batch\u001b[0;34m(self)\u001b[0m\n\u001b[1;32m    179\u001b[0m         \u001b[0;32mif\u001b[0m \u001b[0;32mnot\u001b[0m \u001b[0mself\u001b[0m\u001b[0;34m.\u001b[0m\u001b[0mtraining\u001b[0m \u001b[0;32mor\u001b[0m \u001b[0;32mnot\u001b[0m \u001b[0mlen\u001b[0m\u001b[0;34m(\u001b[0m\u001b[0mself\u001b[0m\u001b[0;34m.\u001b[0m\u001b[0myb\u001b[0m\u001b[0;34m)\u001b[0m\u001b[0;34m:\u001b[0m \u001b[0;32mreturn\u001b[0m\u001b[0;34m\u001b[0m\u001b[0;34m\u001b[0m\u001b[0m\n\u001b[1;32m    180\u001b[0m         \u001b[0mself\u001b[0m\u001b[0;34m(\u001b[0m\u001b[0;34m'before_backward'\u001b[0m\u001b[0;34m)\u001b[0m\u001b[0;34m\u001b[0m\u001b[0;34m\u001b[0m\u001b[0m\n\u001b[0;32m--> 181\u001b[0;31m         \u001b[0mself\u001b[0m\u001b[0;34m.\u001b[0m\u001b[0mloss_grad\u001b[0m\u001b[0;34m.\u001b[0m\u001b[0mbackward\u001b[0m\u001b[0;34m(\u001b[0m\u001b[0;34m)\u001b[0m\u001b[0;34m\u001b[0m\u001b[0;34m\u001b[0m\u001b[0m\n\u001b[0m\u001b[1;32m    182\u001b[0m         \u001b[0mself\u001b[0m\u001b[0;34m.\u001b[0m\u001b[0m_with_events\u001b[0m\u001b[0;34m(\u001b[0m\u001b[0mself\u001b[0m\u001b[0;34m.\u001b[0m\u001b[0mopt\u001b[0m\u001b[0;34m.\u001b[0m\u001b[0mstep\u001b[0m\u001b[0;34m,\u001b[0m \u001b[0;34m'step'\u001b[0m\u001b[0;34m,\u001b[0m \u001b[0mCancelStepException\u001b[0m\u001b[0;34m)\u001b[0m\u001b[0;34m\u001b[0m\u001b[0;34m\u001b[0m\u001b[0m\n\u001b[1;32m    183\u001b[0m         \u001b[0mself\u001b[0m\u001b[0;34m.\u001b[0m\u001b[0mopt\u001b[0m\u001b[0;34m.\u001b[0m\u001b[0mzero_grad\u001b[0m\u001b[0;34m(\u001b[0m\u001b[0;34m)\u001b[0m\u001b[0;34m\u001b[0m\u001b[0;34m\u001b[0m\u001b[0m\n",
            "\u001b[0;32m/usr/local/lib/python3.7/dist-packages/torch/_tensor.py\u001b[0m in \u001b[0;36mbackward\u001b[0;34m(self, gradient, retain_graph, create_graph, inputs)\u001b[0m\n\u001b[1;32m    361\u001b[0m                 \u001b[0mcreate_graph\u001b[0m\u001b[0;34m=\u001b[0m\u001b[0mcreate_graph\u001b[0m\u001b[0;34m,\u001b[0m\u001b[0;34m\u001b[0m\u001b[0;34m\u001b[0m\u001b[0m\n\u001b[1;32m    362\u001b[0m                 inputs=inputs)\n\u001b[0;32m--> 363\u001b[0;31m         \u001b[0mtorch\u001b[0m\u001b[0;34m.\u001b[0m\u001b[0mautograd\u001b[0m\u001b[0;34m.\u001b[0m\u001b[0mbackward\u001b[0m\u001b[0;34m(\u001b[0m\u001b[0mself\u001b[0m\u001b[0;34m,\u001b[0m \u001b[0mgradient\u001b[0m\u001b[0;34m,\u001b[0m \u001b[0mretain_graph\u001b[0m\u001b[0;34m,\u001b[0m \u001b[0mcreate_graph\u001b[0m\u001b[0;34m,\u001b[0m \u001b[0minputs\u001b[0m\u001b[0;34m=\u001b[0m\u001b[0minputs\u001b[0m\u001b[0;34m)\u001b[0m\u001b[0;34m\u001b[0m\u001b[0;34m\u001b[0m\u001b[0m\n\u001b[0m\u001b[1;32m    364\u001b[0m \u001b[0;34m\u001b[0m\u001b[0m\n\u001b[1;32m    365\u001b[0m     \u001b[0;32mdef\u001b[0m \u001b[0mregister_hook\u001b[0m\u001b[0;34m(\u001b[0m\u001b[0mself\u001b[0m\u001b[0;34m,\u001b[0m \u001b[0mhook\u001b[0m\u001b[0;34m)\u001b[0m\u001b[0;34m:\u001b[0m\u001b[0;34m\u001b[0m\u001b[0;34m\u001b[0m\u001b[0m\n",
            "\u001b[0;32m/usr/local/lib/python3.7/dist-packages/torch/autograd/__init__.py\u001b[0m in \u001b[0;36mbackward\u001b[0;34m(tensors, grad_tensors, retain_graph, create_graph, grad_variables, inputs)\u001b[0m\n\u001b[1;32m    173\u001b[0m     Variable._execution_engine.run_backward(  # Calls into the C++ engine to run the backward pass\n\u001b[1;32m    174\u001b[0m         \u001b[0mtensors\u001b[0m\u001b[0;34m,\u001b[0m \u001b[0mgrad_tensors_\u001b[0m\u001b[0;34m,\u001b[0m \u001b[0mretain_graph\u001b[0m\u001b[0;34m,\u001b[0m \u001b[0mcreate_graph\u001b[0m\u001b[0;34m,\u001b[0m \u001b[0minputs\u001b[0m\u001b[0;34m,\u001b[0m\u001b[0;34m\u001b[0m\u001b[0;34m\u001b[0m\u001b[0m\n\u001b[0;32m--> 175\u001b[0;31m         allow_unreachable=True, accumulate_grad=True)  # Calls into the C++ engine to run the backward pass\n\u001b[0m\u001b[1;32m    176\u001b[0m \u001b[0;34m\u001b[0m\u001b[0m\n\u001b[1;32m    177\u001b[0m def grad(\n",
            "\u001b[0;31mRuntimeError\u001b[0m: Found dtype Int but expected Float"
          ]
        }
      ],
      "source": [
        "learn.lr_find()"
      ]
    },
    {
      "cell_type": "markdown",
      "metadata": {
        "id": "-fW35wNb8f40"
      },
      "source": [
        "There's no need to use `fine_tune`, so we'll train with `fit_one_cycle` for a few epochs and see how it looks:"
      ]
    },
    {
      "cell_type": "code",
      "execution_count": 166,
      "metadata": {
        "colab": {
          "base_uri": "https://localhost:8080/",
          "height": 389
        },
        "id": "bPWcGMpd8f41",
        "outputId": "25d37ecc-ff43-4638-9b9d-be66f56b6cc1"
      },
      "outputs": [
        {
          "output_type": "display_data",
          "data": {
            "text/plain": [
              "<IPython.core.display.HTML object>"
            ],
            "text/html": [
              "\n",
              "<style>\n",
              "    /* Turns off some styling */\n",
              "    progress {\n",
              "        /* gets rid of default border in Firefox and Opera. */\n",
              "        border: none;\n",
              "        /* Needs to be in here for Safari polyfill so background images work as expected. */\n",
              "        background-size: auto;\n",
              "    }\n",
              "    .progress-bar-interrupted, .progress-bar-interrupted::-webkit-progress-bar {\n",
              "        background: #F44336;\n",
              "    }\n",
              "</style>\n"
            ]
          },
          "metadata": {}
        },
        {
          "output_type": "display_data",
          "data": {
            "text/plain": [
              "<IPython.core.display.HTML object>"
            ],
            "text/html": [
              "\n",
              "    <div>\n",
              "      <progress value='0' class='' max='100' style='width:300px; height:20px; vertical-align: middle;'></progress>\n",
              "      0.00% [0/100 00:00<00:00]\n",
              "    </div>\n",
              "    \n",
              "<table border=\"1\" class=\"dataframe\">\n",
              "  <thead>\n",
              "    <tr style=\"text-align: left;\">\n",
              "      <th>epoch</th>\n",
              "      <th>train_loss</th>\n",
              "      <th>valid_loss</th>\n",
              "      <th>time</th>\n",
              "    </tr>\n",
              "  </thead>\n",
              "  <tbody>\n",
              "  </tbody>\n",
              "</table><p>\n",
              "\n",
              "    <div>\n",
              "      <progress value='0' class='' max='9' style='width:300px; height:20px; vertical-align: middle;'></progress>\n",
              "      0.00% [0/9 00:00<00:00]\n",
              "    </div>\n",
              "    "
            ]
          },
          "metadata": {}
        },
        {
          "output_type": "error",
          "ename": "RuntimeError",
          "evalue": "ignored",
          "traceback": [
            "\u001b[0;31m---------------------------------------------------------------------------\u001b[0m",
            "\u001b[0;31mRuntimeError\u001b[0m                              Traceback (most recent call last)",
            "\u001b[0;32m<ipython-input-166-f0bb6c3e3a56>\u001b[0m in \u001b[0;36m<module>\u001b[0;34m()\u001b[0m\n\u001b[0;32m----> 1\u001b[0;31m \u001b[0mlearn\u001b[0m\u001b[0;34m.\u001b[0m\u001b[0mfit_one_cycle\u001b[0m\u001b[0;34m(\u001b[0m\u001b[0;36m100\u001b[0m\u001b[0;34m,\u001b[0m \u001b[0;36m0.0002\u001b[0m\u001b[0;34m)\u001b[0m\u001b[0;34m\u001b[0m\u001b[0;34m\u001b[0m\u001b[0m\n\u001b[0m",
            "\u001b[0;32m/usr/local/lib/python3.7/dist-packages/fastai/callback/schedule.py\u001b[0m in \u001b[0;36mfit_one_cycle\u001b[0;34m(self, n_epoch, lr_max, div, div_final, pct_start, wd, moms, cbs, reset_opt)\u001b[0m\n\u001b[1;32m    114\u001b[0m     scheds = {'lr': combined_cos(pct_start, lr_max/div, lr_max, lr_max/div_final),\n\u001b[1;32m    115\u001b[0m               'mom': combined_cos(pct_start, *(self.moms if moms is None else moms))}\n\u001b[0;32m--> 116\u001b[0;31m     \u001b[0mself\u001b[0m\u001b[0;34m.\u001b[0m\u001b[0mfit\u001b[0m\u001b[0;34m(\u001b[0m\u001b[0mn_epoch\u001b[0m\u001b[0;34m,\u001b[0m \u001b[0mcbs\u001b[0m\u001b[0;34m=\u001b[0m\u001b[0mParamScheduler\u001b[0m\u001b[0;34m(\u001b[0m\u001b[0mscheds\u001b[0m\u001b[0;34m)\u001b[0m\u001b[0;34m+\u001b[0m\u001b[0mL\u001b[0m\u001b[0;34m(\u001b[0m\u001b[0mcbs\u001b[0m\u001b[0;34m)\u001b[0m\u001b[0;34m,\u001b[0m \u001b[0mreset_opt\u001b[0m\u001b[0;34m=\u001b[0m\u001b[0mreset_opt\u001b[0m\u001b[0;34m,\u001b[0m \u001b[0mwd\u001b[0m\u001b[0;34m=\u001b[0m\u001b[0mwd\u001b[0m\u001b[0;34m)\u001b[0m\u001b[0;34m\u001b[0m\u001b[0;34m\u001b[0m\u001b[0m\n\u001b[0m\u001b[1;32m    117\u001b[0m \u001b[0;34m\u001b[0m\u001b[0m\n\u001b[1;32m    118\u001b[0m \u001b[0;31m# Cell\u001b[0m\u001b[0;34m\u001b[0m\u001b[0;34m\u001b[0m\u001b[0;34m\u001b[0m\u001b[0m\n",
            "\u001b[0;32m/usr/local/lib/python3.7/dist-packages/fastai/learner.py\u001b[0m in \u001b[0;36mfit\u001b[0;34m(self, n_epoch, lr, wd, cbs, reset_opt)\u001b[0m\n\u001b[1;32m    220\u001b[0m             \u001b[0mself\u001b[0m\u001b[0;34m.\u001b[0m\u001b[0mopt\u001b[0m\u001b[0;34m.\u001b[0m\u001b[0mset_hypers\u001b[0m\u001b[0;34m(\u001b[0m\u001b[0mlr\u001b[0m\u001b[0;34m=\u001b[0m\u001b[0mself\u001b[0m\u001b[0;34m.\u001b[0m\u001b[0mlr\u001b[0m \u001b[0;32mif\u001b[0m \u001b[0mlr\u001b[0m \u001b[0;32mis\u001b[0m \u001b[0;32mNone\u001b[0m \u001b[0;32melse\u001b[0m \u001b[0mlr\u001b[0m\u001b[0;34m)\u001b[0m\u001b[0;34m\u001b[0m\u001b[0;34m\u001b[0m\u001b[0m\n\u001b[1;32m    221\u001b[0m             \u001b[0mself\u001b[0m\u001b[0;34m.\u001b[0m\u001b[0mn_epoch\u001b[0m \u001b[0;34m=\u001b[0m \u001b[0mn_epoch\u001b[0m\u001b[0;34m\u001b[0m\u001b[0;34m\u001b[0m\u001b[0m\n\u001b[0;32m--> 222\u001b[0;31m             \u001b[0mself\u001b[0m\u001b[0;34m.\u001b[0m\u001b[0m_with_events\u001b[0m\u001b[0;34m(\u001b[0m\u001b[0mself\u001b[0m\u001b[0;34m.\u001b[0m\u001b[0m_do_fit\u001b[0m\u001b[0;34m,\u001b[0m \u001b[0;34m'fit'\u001b[0m\u001b[0;34m,\u001b[0m \u001b[0mCancelFitException\u001b[0m\u001b[0;34m,\u001b[0m \u001b[0mself\u001b[0m\u001b[0;34m.\u001b[0m\u001b[0m_end_cleanup\u001b[0m\u001b[0;34m)\u001b[0m\u001b[0;34m\u001b[0m\u001b[0;34m\u001b[0m\u001b[0m\n\u001b[0m\u001b[1;32m    223\u001b[0m \u001b[0;34m\u001b[0m\u001b[0m\n\u001b[1;32m    224\u001b[0m     \u001b[0;32mdef\u001b[0m \u001b[0m_end_cleanup\u001b[0m\u001b[0;34m(\u001b[0m\u001b[0mself\u001b[0m\u001b[0;34m)\u001b[0m\u001b[0;34m:\u001b[0m \u001b[0mself\u001b[0m\u001b[0;34m.\u001b[0m\u001b[0mdl\u001b[0m\u001b[0;34m,\u001b[0m\u001b[0mself\u001b[0m\u001b[0;34m.\u001b[0m\u001b[0mxb\u001b[0m\u001b[0;34m,\u001b[0m\u001b[0mself\u001b[0m\u001b[0;34m.\u001b[0m\u001b[0myb\u001b[0m\u001b[0;34m,\u001b[0m\u001b[0mself\u001b[0m\u001b[0;34m.\u001b[0m\u001b[0mpred\u001b[0m\u001b[0;34m,\u001b[0m\u001b[0mself\u001b[0m\u001b[0;34m.\u001b[0m\u001b[0mloss\u001b[0m \u001b[0;34m=\u001b[0m \u001b[0;32mNone\u001b[0m\u001b[0;34m,\u001b[0m\u001b[0;34m(\u001b[0m\u001b[0;32mNone\u001b[0m\u001b[0;34m,\u001b[0m\u001b[0;34m)\u001b[0m\u001b[0;34m,\u001b[0m\u001b[0;34m(\u001b[0m\u001b[0;32mNone\u001b[0m\u001b[0;34m,\u001b[0m\u001b[0;34m)\u001b[0m\u001b[0;34m,\u001b[0m\u001b[0;32mNone\u001b[0m\u001b[0;34m,\u001b[0m\u001b[0;32mNone\u001b[0m\u001b[0;34m\u001b[0m\u001b[0;34m\u001b[0m\u001b[0m\n",
            "\u001b[0;32m/usr/local/lib/python3.7/dist-packages/fastai/learner.py\u001b[0m in \u001b[0;36m_with_events\u001b[0;34m(self, f, event_type, ex, final)\u001b[0m\n\u001b[1;32m    162\u001b[0m \u001b[0;34m\u001b[0m\u001b[0m\n\u001b[1;32m    163\u001b[0m     \u001b[0;32mdef\u001b[0m \u001b[0m_with_events\u001b[0m\u001b[0;34m(\u001b[0m\u001b[0mself\u001b[0m\u001b[0;34m,\u001b[0m \u001b[0mf\u001b[0m\u001b[0;34m,\u001b[0m \u001b[0mevent_type\u001b[0m\u001b[0;34m,\u001b[0m \u001b[0mex\u001b[0m\u001b[0;34m,\u001b[0m \u001b[0mfinal\u001b[0m\u001b[0;34m=\u001b[0m\u001b[0mnoop\u001b[0m\u001b[0;34m)\u001b[0m\u001b[0;34m:\u001b[0m\u001b[0;34m\u001b[0m\u001b[0;34m\u001b[0m\u001b[0m\n\u001b[0;32m--> 164\u001b[0;31m         \u001b[0;32mtry\u001b[0m\u001b[0;34m:\u001b[0m \u001b[0mself\u001b[0m\u001b[0;34m(\u001b[0m\u001b[0;34mf'before_{event_type}'\u001b[0m\u001b[0;34m)\u001b[0m\u001b[0;34m;\u001b[0m  \u001b[0mf\u001b[0m\u001b[0;34m(\u001b[0m\u001b[0;34m)\u001b[0m\u001b[0;34m\u001b[0m\u001b[0;34m\u001b[0m\u001b[0m\n\u001b[0m\u001b[1;32m    165\u001b[0m         \u001b[0;32mexcept\u001b[0m \u001b[0mex\u001b[0m\u001b[0;34m:\u001b[0m \u001b[0mself\u001b[0m\u001b[0;34m(\u001b[0m\u001b[0;34mf'after_cancel_{event_type}'\u001b[0m\u001b[0;34m)\u001b[0m\u001b[0;34m\u001b[0m\u001b[0;34m\u001b[0m\u001b[0m\n\u001b[1;32m    166\u001b[0m         \u001b[0mself\u001b[0m\u001b[0;34m(\u001b[0m\u001b[0;34mf'after_{event_type}'\u001b[0m\u001b[0;34m)\u001b[0m\u001b[0;34m;\u001b[0m  \u001b[0mfinal\u001b[0m\u001b[0;34m(\u001b[0m\u001b[0;34m)\u001b[0m\u001b[0;34m\u001b[0m\u001b[0;34m\u001b[0m\u001b[0m\n",
            "\u001b[0;32m/usr/local/lib/python3.7/dist-packages/fastai/learner.py\u001b[0m in \u001b[0;36m_do_fit\u001b[0;34m(self)\u001b[0m\n\u001b[1;32m    211\u001b[0m         \u001b[0;32mfor\u001b[0m \u001b[0mepoch\u001b[0m \u001b[0;32min\u001b[0m \u001b[0mrange\u001b[0m\u001b[0;34m(\u001b[0m\u001b[0mself\u001b[0m\u001b[0;34m.\u001b[0m\u001b[0mn_epoch\u001b[0m\u001b[0;34m)\u001b[0m\u001b[0;34m:\u001b[0m\u001b[0;34m\u001b[0m\u001b[0;34m\u001b[0m\u001b[0m\n\u001b[1;32m    212\u001b[0m             \u001b[0mself\u001b[0m\u001b[0;34m.\u001b[0m\u001b[0mepoch\u001b[0m\u001b[0;34m=\u001b[0m\u001b[0mepoch\u001b[0m\u001b[0;34m\u001b[0m\u001b[0;34m\u001b[0m\u001b[0m\n\u001b[0;32m--> 213\u001b[0;31m             \u001b[0mself\u001b[0m\u001b[0;34m.\u001b[0m\u001b[0m_with_events\u001b[0m\u001b[0;34m(\u001b[0m\u001b[0mself\u001b[0m\u001b[0;34m.\u001b[0m\u001b[0m_do_epoch\u001b[0m\u001b[0;34m,\u001b[0m \u001b[0;34m'epoch'\u001b[0m\u001b[0;34m,\u001b[0m \u001b[0mCancelEpochException\u001b[0m\u001b[0;34m)\u001b[0m\u001b[0;34m\u001b[0m\u001b[0;34m\u001b[0m\u001b[0m\n\u001b[0m\u001b[1;32m    214\u001b[0m \u001b[0;34m\u001b[0m\u001b[0m\n\u001b[1;32m    215\u001b[0m     \u001b[0;32mdef\u001b[0m \u001b[0mfit\u001b[0m\u001b[0;34m(\u001b[0m\u001b[0mself\u001b[0m\u001b[0;34m,\u001b[0m \u001b[0mn_epoch\u001b[0m\u001b[0;34m,\u001b[0m \u001b[0mlr\u001b[0m\u001b[0;34m=\u001b[0m\u001b[0;32mNone\u001b[0m\u001b[0;34m,\u001b[0m \u001b[0mwd\u001b[0m\u001b[0;34m=\u001b[0m\u001b[0;32mNone\u001b[0m\u001b[0;34m,\u001b[0m \u001b[0mcbs\u001b[0m\u001b[0;34m=\u001b[0m\u001b[0;32mNone\u001b[0m\u001b[0;34m,\u001b[0m \u001b[0mreset_opt\u001b[0m\u001b[0;34m=\u001b[0m\u001b[0;32mFalse\u001b[0m\u001b[0;34m)\u001b[0m\u001b[0;34m:\u001b[0m\u001b[0;34m\u001b[0m\u001b[0;34m\u001b[0m\u001b[0m\n",
            "\u001b[0;32m/usr/local/lib/python3.7/dist-packages/fastai/learner.py\u001b[0m in \u001b[0;36m_with_events\u001b[0;34m(self, f, event_type, ex, final)\u001b[0m\n\u001b[1;32m    162\u001b[0m \u001b[0;34m\u001b[0m\u001b[0m\n\u001b[1;32m    163\u001b[0m     \u001b[0;32mdef\u001b[0m \u001b[0m_with_events\u001b[0m\u001b[0;34m(\u001b[0m\u001b[0mself\u001b[0m\u001b[0;34m,\u001b[0m \u001b[0mf\u001b[0m\u001b[0;34m,\u001b[0m \u001b[0mevent_type\u001b[0m\u001b[0;34m,\u001b[0m \u001b[0mex\u001b[0m\u001b[0;34m,\u001b[0m \u001b[0mfinal\u001b[0m\u001b[0;34m=\u001b[0m\u001b[0mnoop\u001b[0m\u001b[0;34m)\u001b[0m\u001b[0;34m:\u001b[0m\u001b[0;34m\u001b[0m\u001b[0;34m\u001b[0m\u001b[0m\n\u001b[0;32m--> 164\u001b[0;31m         \u001b[0;32mtry\u001b[0m\u001b[0;34m:\u001b[0m \u001b[0mself\u001b[0m\u001b[0;34m(\u001b[0m\u001b[0;34mf'before_{event_type}'\u001b[0m\u001b[0;34m)\u001b[0m\u001b[0;34m;\u001b[0m  \u001b[0mf\u001b[0m\u001b[0;34m(\u001b[0m\u001b[0;34m)\u001b[0m\u001b[0;34m\u001b[0m\u001b[0;34m\u001b[0m\u001b[0m\n\u001b[0m\u001b[1;32m    165\u001b[0m         \u001b[0;32mexcept\u001b[0m \u001b[0mex\u001b[0m\u001b[0;34m:\u001b[0m \u001b[0mself\u001b[0m\u001b[0;34m(\u001b[0m\u001b[0;34mf'after_cancel_{event_type}'\u001b[0m\u001b[0;34m)\u001b[0m\u001b[0;34m\u001b[0m\u001b[0;34m\u001b[0m\u001b[0m\n\u001b[1;32m    166\u001b[0m         \u001b[0mself\u001b[0m\u001b[0;34m(\u001b[0m\u001b[0;34mf'after_{event_type}'\u001b[0m\u001b[0;34m)\u001b[0m\u001b[0;34m;\u001b[0m  \u001b[0mfinal\u001b[0m\u001b[0;34m(\u001b[0m\u001b[0;34m)\u001b[0m\u001b[0;34m\u001b[0m\u001b[0;34m\u001b[0m\u001b[0m\n",
            "\u001b[0;32m/usr/local/lib/python3.7/dist-packages/fastai/learner.py\u001b[0m in \u001b[0;36m_do_epoch\u001b[0;34m(self)\u001b[0m\n\u001b[1;32m    205\u001b[0m \u001b[0;34m\u001b[0m\u001b[0m\n\u001b[1;32m    206\u001b[0m     \u001b[0;32mdef\u001b[0m \u001b[0m_do_epoch\u001b[0m\u001b[0;34m(\u001b[0m\u001b[0mself\u001b[0m\u001b[0;34m)\u001b[0m\u001b[0;34m:\u001b[0m\u001b[0;34m\u001b[0m\u001b[0;34m\u001b[0m\u001b[0m\n\u001b[0;32m--> 207\u001b[0;31m         \u001b[0mself\u001b[0m\u001b[0;34m.\u001b[0m\u001b[0m_do_epoch_train\u001b[0m\u001b[0;34m(\u001b[0m\u001b[0;34m)\u001b[0m\u001b[0;34m\u001b[0m\u001b[0;34m\u001b[0m\u001b[0m\n\u001b[0m\u001b[1;32m    208\u001b[0m         \u001b[0mself\u001b[0m\u001b[0;34m.\u001b[0m\u001b[0m_do_epoch_validate\u001b[0m\u001b[0;34m(\u001b[0m\u001b[0;34m)\u001b[0m\u001b[0;34m\u001b[0m\u001b[0;34m\u001b[0m\u001b[0m\n\u001b[1;32m    209\u001b[0m \u001b[0;34m\u001b[0m\u001b[0m\n",
            "\u001b[0;32m/usr/local/lib/python3.7/dist-packages/fastai/learner.py\u001b[0m in \u001b[0;36m_do_epoch_train\u001b[0;34m(self)\u001b[0m\n\u001b[1;32m    197\u001b[0m     \u001b[0;32mdef\u001b[0m \u001b[0m_do_epoch_train\u001b[0m\u001b[0;34m(\u001b[0m\u001b[0mself\u001b[0m\u001b[0;34m)\u001b[0m\u001b[0;34m:\u001b[0m\u001b[0;34m\u001b[0m\u001b[0;34m\u001b[0m\u001b[0m\n\u001b[1;32m    198\u001b[0m         \u001b[0mself\u001b[0m\u001b[0;34m.\u001b[0m\u001b[0mdl\u001b[0m \u001b[0;34m=\u001b[0m \u001b[0mself\u001b[0m\u001b[0;34m.\u001b[0m\u001b[0mdls\u001b[0m\u001b[0;34m.\u001b[0m\u001b[0mtrain\u001b[0m\u001b[0;34m\u001b[0m\u001b[0;34m\u001b[0m\u001b[0m\n\u001b[0;32m--> 199\u001b[0;31m         \u001b[0mself\u001b[0m\u001b[0;34m.\u001b[0m\u001b[0m_with_events\u001b[0m\u001b[0;34m(\u001b[0m\u001b[0mself\u001b[0m\u001b[0;34m.\u001b[0m\u001b[0mall_batches\u001b[0m\u001b[0;34m,\u001b[0m \u001b[0;34m'train'\u001b[0m\u001b[0;34m,\u001b[0m \u001b[0mCancelTrainException\u001b[0m\u001b[0;34m)\u001b[0m\u001b[0;34m\u001b[0m\u001b[0;34m\u001b[0m\u001b[0m\n\u001b[0m\u001b[1;32m    200\u001b[0m \u001b[0;34m\u001b[0m\u001b[0m\n\u001b[1;32m    201\u001b[0m     \u001b[0;32mdef\u001b[0m \u001b[0m_do_epoch_validate\u001b[0m\u001b[0;34m(\u001b[0m\u001b[0mself\u001b[0m\u001b[0;34m,\u001b[0m \u001b[0mds_idx\u001b[0m\u001b[0;34m=\u001b[0m\u001b[0;36m1\u001b[0m\u001b[0;34m,\u001b[0m \u001b[0mdl\u001b[0m\u001b[0;34m=\u001b[0m\u001b[0;32mNone\u001b[0m\u001b[0;34m)\u001b[0m\u001b[0;34m:\u001b[0m\u001b[0;34m\u001b[0m\u001b[0;34m\u001b[0m\u001b[0m\n",
            "\u001b[0;32m/usr/local/lib/python3.7/dist-packages/fastai/learner.py\u001b[0m in \u001b[0;36m_with_events\u001b[0;34m(self, f, event_type, ex, final)\u001b[0m\n\u001b[1;32m    162\u001b[0m \u001b[0;34m\u001b[0m\u001b[0m\n\u001b[1;32m    163\u001b[0m     \u001b[0;32mdef\u001b[0m \u001b[0m_with_events\u001b[0m\u001b[0;34m(\u001b[0m\u001b[0mself\u001b[0m\u001b[0;34m,\u001b[0m \u001b[0mf\u001b[0m\u001b[0;34m,\u001b[0m \u001b[0mevent_type\u001b[0m\u001b[0;34m,\u001b[0m \u001b[0mex\u001b[0m\u001b[0;34m,\u001b[0m \u001b[0mfinal\u001b[0m\u001b[0;34m=\u001b[0m\u001b[0mnoop\u001b[0m\u001b[0;34m)\u001b[0m\u001b[0;34m:\u001b[0m\u001b[0;34m\u001b[0m\u001b[0;34m\u001b[0m\u001b[0m\n\u001b[0;32m--> 164\u001b[0;31m         \u001b[0;32mtry\u001b[0m\u001b[0;34m:\u001b[0m \u001b[0mself\u001b[0m\u001b[0;34m(\u001b[0m\u001b[0;34mf'before_{event_type}'\u001b[0m\u001b[0;34m)\u001b[0m\u001b[0;34m;\u001b[0m  \u001b[0mf\u001b[0m\u001b[0;34m(\u001b[0m\u001b[0;34m)\u001b[0m\u001b[0;34m\u001b[0m\u001b[0;34m\u001b[0m\u001b[0m\n\u001b[0m\u001b[1;32m    165\u001b[0m         \u001b[0;32mexcept\u001b[0m \u001b[0mex\u001b[0m\u001b[0;34m:\u001b[0m \u001b[0mself\u001b[0m\u001b[0;34m(\u001b[0m\u001b[0;34mf'after_cancel_{event_type}'\u001b[0m\u001b[0;34m)\u001b[0m\u001b[0;34m\u001b[0m\u001b[0;34m\u001b[0m\u001b[0m\n\u001b[1;32m    166\u001b[0m         \u001b[0mself\u001b[0m\u001b[0;34m(\u001b[0m\u001b[0;34mf'after_{event_type}'\u001b[0m\u001b[0;34m)\u001b[0m\u001b[0;34m;\u001b[0m  \u001b[0mfinal\u001b[0m\u001b[0;34m(\u001b[0m\u001b[0;34m)\u001b[0m\u001b[0;34m\u001b[0m\u001b[0;34m\u001b[0m\u001b[0m\n",
            "\u001b[0;32m/usr/local/lib/python3.7/dist-packages/fastai/learner.py\u001b[0m in \u001b[0;36mall_batches\u001b[0;34m(self)\u001b[0m\n\u001b[1;32m    168\u001b[0m     \u001b[0;32mdef\u001b[0m \u001b[0mall_batches\u001b[0m\u001b[0;34m(\u001b[0m\u001b[0mself\u001b[0m\u001b[0;34m)\u001b[0m\u001b[0;34m:\u001b[0m\u001b[0;34m\u001b[0m\u001b[0;34m\u001b[0m\u001b[0m\n\u001b[1;32m    169\u001b[0m         \u001b[0mself\u001b[0m\u001b[0;34m.\u001b[0m\u001b[0mn_iter\u001b[0m \u001b[0;34m=\u001b[0m \u001b[0mlen\u001b[0m\u001b[0;34m(\u001b[0m\u001b[0mself\u001b[0m\u001b[0;34m.\u001b[0m\u001b[0mdl\u001b[0m\u001b[0;34m)\u001b[0m\u001b[0;34m\u001b[0m\u001b[0;34m\u001b[0m\u001b[0m\n\u001b[0;32m--> 170\u001b[0;31m         \u001b[0;32mfor\u001b[0m \u001b[0mo\u001b[0m \u001b[0;32min\u001b[0m \u001b[0menumerate\u001b[0m\u001b[0;34m(\u001b[0m\u001b[0mself\u001b[0m\u001b[0;34m.\u001b[0m\u001b[0mdl\u001b[0m\u001b[0;34m)\u001b[0m\u001b[0;34m:\u001b[0m \u001b[0mself\u001b[0m\u001b[0;34m.\u001b[0m\u001b[0mone_batch\u001b[0m\u001b[0;34m(\u001b[0m\u001b[0;34m*\u001b[0m\u001b[0mo\u001b[0m\u001b[0;34m)\u001b[0m\u001b[0;34m\u001b[0m\u001b[0;34m\u001b[0m\u001b[0m\n\u001b[0m\u001b[1;32m    171\u001b[0m \u001b[0;34m\u001b[0m\u001b[0m\n\u001b[1;32m    172\u001b[0m     \u001b[0;32mdef\u001b[0m \u001b[0m_do_one_batch\u001b[0m\u001b[0;34m(\u001b[0m\u001b[0mself\u001b[0m\u001b[0;34m)\u001b[0m\u001b[0;34m:\u001b[0m\u001b[0;34m\u001b[0m\u001b[0;34m\u001b[0m\u001b[0m\n",
            "\u001b[0;32m/usr/local/lib/python3.7/dist-packages/fastai/learner.py\u001b[0m in \u001b[0;36mone_batch\u001b[0;34m(self, i, b)\u001b[0m\n\u001b[1;32m    193\u001b[0m         \u001b[0mb\u001b[0m \u001b[0;34m=\u001b[0m \u001b[0mself\u001b[0m\u001b[0;34m.\u001b[0m\u001b[0m_set_device\u001b[0m\u001b[0;34m(\u001b[0m\u001b[0mb\u001b[0m\u001b[0;34m)\u001b[0m\u001b[0;34m\u001b[0m\u001b[0;34m\u001b[0m\u001b[0m\n\u001b[1;32m    194\u001b[0m         \u001b[0mself\u001b[0m\u001b[0;34m.\u001b[0m\u001b[0m_split\u001b[0m\u001b[0;34m(\u001b[0m\u001b[0mb\u001b[0m\u001b[0;34m)\u001b[0m\u001b[0;34m\u001b[0m\u001b[0;34m\u001b[0m\u001b[0m\n\u001b[0;32m--> 195\u001b[0;31m         \u001b[0mself\u001b[0m\u001b[0;34m.\u001b[0m\u001b[0m_with_events\u001b[0m\u001b[0;34m(\u001b[0m\u001b[0mself\u001b[0m\u001b[0;34m.\u001b[0m\u001b[0m_do_one_batch\u001b[0m\u001b[0;34m,\u001b[0m \u001b[0;34m'batch'\u001b[0m\u001b[0;34m,\u001b[0m \u001b[0mCancelBatchException\u001b[0m\u001b[0;34m)\u001b[0m\u001b[0;34m\u001b[0m\u001b[0;34m\u001b[0m\u001b[0m\n\u001b[0m\u001b[1;32m    196\u001b[0m \u001b[0;34m\u001b[0m\u001b[0m\n\u001b[1;32m    197\u001b[0m     \u001b[0;32mdef\u001b[0m \u001b[0m_do_epoch_train\u001b[0m\u001b[0;34m(\u001b[0m\u001b[0mself\u001b[0m\u001b[0;34m)\u001b[0m\u001b[0;34m:\u001b[0m\u001b[0;34m\u001b[0m\u001b[0;34m\u001b[0m\u001b[0m\n",
            "\u001b[0;32m/usr/local/lib/python3.7/dist-packages/fastai/learner.py\u001b[0m in \u001b[0;36m_with_events\u001b[0;34m(self, f, event_type, ex, final)\u001b[0m\n\u001b[1;32m    162\u001b[0m \u001b[0;34m\u001b[0m\u001b[0m\n\u001b[1;32m    163\u001b[0m     \u001b[0;32mdef\u001b[0m \u001b[0m_with_events\u001b[0m\u001b[0;34m(\u001b[0m\u001b[0mself\u001b[0m\u001b[0;34m,\u001b[0m \u001b[0mf\u001b[0m\u001b[0;34m,\u001b[0m \u001b[0mevent_type\u001b[0m\u001b[0;34m,\u001b[0m \u001b[0mex\u001b[0m\u001b[0;34m,\u001b[0m \u001b[0mfinal\u001b[0m\u001b[0;34m=\u001b[0m\u001b[0mnoop\u001b[0m\u001b[0;34m)\u001b[0m\u001b[0;34m:\u001b[0m\u001b[0;34m\u001b[0m\u001b[0;34m\u001b[0m\u001b[0m\n\u001b[0;32m--> 164\u001b[0;31m         \u001b[0;32mtry\u001b[0m\u001b[0;34m:\u001b[0m \u001b[0mself\u001b[0m\u001b[0;34m(\u001b[0m\u001b[0;34mf'before_{event_type}'\u001b[0m\u001b[0;34m)\u001b[0m\u001b[0;34m;\u001b[0m  \u001b[0mf\u001b[0m\u001b[0;34m(\u001b[0m\u001b[0;34m)\u001b[0m\u001b[0;34m\u001b[0m\u001b[0;34m\u001b[0m\u001b[0m\n\u001b[0m\u001b[1;32m    165\u001b[0m         \u001b[0;32mexcept\u001b[0m \u001b[0mex\u001b[0m\u001b[0;34m:\u001b[0m \u001b[0mself\u001b[0m\u001b[0;34m(\u001b[0m\u001b[0;34mf'after_cancel_{event_type}'\u001b[0m\u001b[0;34m)\u001b[0m\u001b[0;34m\u001b[0m\u001b[0;34m\u001b[0m\u001b[0m\n\u001b[1;32m    166\u001b[0m         \u001b[0mself\u001b[0m\u001b[0;34m(\u001b[0m\u001b[0;34mf'after_{event_type}'\u001b[0m\u001b[0;34m)\u001b[0m\u001b[0;34m;\u001b[0m  \u001b[0mfinal\u001b[0m\u001b[0;34m(\u001b[0m\u001b[0;34m)\u001b[0m\u001b[0;34m\u001b[0m\u001b[0;34m\u001b[0m\u001b[0m\n",
            "\u001b[0;32m/usr/local/lib/python3.7/dist-packages/fastai/learner.py\u001b[0m in \u001b[0;36m_do_one_batch\u001b[0;34m(self)\u001b[0m\n\u001b[1;32m    179\u001b[0m         \u001b[0;32mif\u001b[0m \u001b[0;32mnot\u001b[0m \u001b[0mself\u001b[0m\u001b[0;34m.\u001b[0m\u001b[0mtraining\u001b[0m \u001b[0;32mor\u001b[0m \u001b[0;32mnot\u001b[0m \u001b[0mlen\u001b[0m\u001b[0;34m(\u001b[0m\u001b[0mself\u001b[0m\u001b[0;34m.\u001b[0m\u001b[0myb\u001b[0m\u001b[0;34m)\u001b[0m\u001b[0;34m:\u001b[0m \u001b[0;32mreturn\u001b[0m\u001b[0;34m\u001b[0m\u001b[0;34m\u001b[0m\u001b[0m\n\u001b[1;32m    180\u001b[0m         \u001b[0mself\u001b[0m\u001b[0;34m(\u001b[0m\u001b[0;34m'before_backward'\u001b[0m\u001b[0;34m)\u001b[0m\u001b[0;34m\u001b[0m\u001b[0;34m\u001b[0m\u001b[0m\n\u001b[0;32m--> 181\u001b[0;31m         \u001b[0mself\u001b[0m\u001b[0;34m.\u001b[0m\u001b[0mloss_grad\u001b[0m\u001b[0;34m.\u001b[0m\u001b[0mbackward\u001b[0m\u001b[0;34m(\u001b[0m\u001b[0;34m)\u001b[0m\u001b[0;34m\u001b[0m\u001b[0;34m\u001b[0m\u001b[0m\n\u001b[0m\u001b[1;32m    182\u001b[0m         \u001b[0mself\u001b[0m\u001b[0;34m.\u001b[0m\u001b[0m_with_events\u001b[0m\u001b[0;34m(\u001b[0m\u001b[0mself\u001b[0m\u001b[0;34m.\u001b[0m\u001b[0mopt\u001b[0m\u001b[0;34m.\u001b[0m\u001b[0mstep\u001b[0m\u001b[0;34m,\u001b[0m \u001b[0;34m'step'\u001b[0m\u001b[0;34m,\u001b[0m \u001b[0mCancelStepException\u001b[0m\u001b[0;34m)\u001b[0m\u001b[0;34m\u001b[0m\u001b[0;34m\u001b[0m\u001b[0m\n\u001b[1;32m    183\u001b[0m         \u001b[0mself\u001b[0m\u001b[0;34m.\u001b[0m\u001b[0mopt\u001b[0m\u001b[0;34m.\u001b[0m\u001b[0mzero_grad\u001b[0m\u001b[0;34m(\u001b[0m\u001b[0;34m)\u001b[0m\u001b[0;34m\u001b[0m\u001b[0;34m\u001b[0m\u001b[0m\n",
            "\u001b[0;32m/usr/local/lib/python3.7/dist-packages/torch/_tensor.py\u001b[0m in \u001b[0;36mbackward\u001b[0;34m(self, gradient, retain_graph, create_graph, inputs)\u001b[0m\n\u001b[1;32m    361\u001b[0m                 \u001b[0mcreate_graph\u001b[0m\u001b[0;34m=\u001b[0m\u001b[0mcreate_graph\u001b[0m\u001b[0;34m,\u001b[0m\u001b[0;34m\u001b[0m\u001b[0;34m\u001b[0m\u001b[0m\n\u001b[1;32m    362\u001b[0m                 inputs=inputs)\n\u001b[0;32m--> 363\u001b[0;31m         \u001b[0mtorch\u001b[0m\u001b[0;34m.\u001b[0m\u001b[0mautograd\u001b[0m\u001b[0;34m.\u001b[0m\u001b[0mbackward\u001b[0m\u001b[0;34m(\u001b[0m\u001b[0mself\u001b[0m\u001b[0;34m,\u001b[0m \u001b[0mgradient\u001b[0m\u001b[0;34m,\u001b[0m \u001b[0mretain_graph\u001b[0m\u001b[0;34m,\u001b[0m \u001b[0mcreate_graph\u001b[0m\u001b[0;34m,\u001b[0m \u001b[0minputs\u001b[0m\u001b[0;34m=\u001b[0m\u001b[0minputs\u001b[0m\u001b[0;34m)\u001b[0m\u001b[0;34m\u001b[0m\u001b[0;34m\u001b[0m\u001b[0m\n\u001b[0m\u001b[1;32m    364\u001b[0m \u001b[0;34m\u001b[0m\u001b[0m\n\u001b[1;32m    365\u001b[0m     \u001b[0;32mdef\u001b[0m \u001b[0mregister_hook\u001b[0m\u001b[0;34m(\u001b[0m\u001b[0mself\u001b[0m\u001b[0;34m,\u001b[0m \u001b[0mhook\u001b[0m\u001b[0;34m)\u001b[0m\u001b[0;34m:\u001b[0m\u001b[0;34m\u001b[0m\u001b[0;34m\u001b[0m\u001b[0m\n",
            "\u001b[0;32m/usr/local/lib/python3.7/dist-packages/torch/autograd/__init__.py\u001b[0m in \u001b[0;36mbackward\u001b[0;34m(tensors, grad_tensors, retain_graph, create_graph, grad_variables, inputs)\u001b[0m\n\u001b[1;32m    173\u001b[0m     Variable._execution_engine.run_backward(  # Calls into the C++ engine to run the backward pass\n\u001b[1;32m    174\u001b[0m         \u001b[0mtensors\u001b[0m\u001b[0;34m,\u001b[0m \u001b[0mgrad_tensors_\u001b[0m\u001b[0;34m,\u001b[0m \u001b[0mretain_graph\u001b[0m\u001b[0;34m,\u001b[0m \u001b[0mcreate_graph\u001b[0m\u001b[0;34m,\u001b[0m \u001b[0minputs\u001b[0m\u001b[0;34m,\u001b[0m\u001b[0;34m\u001b[0m\u001b[0;34m\u001b[0m\u001b[0m\n\u001b[0;32m--> 175\u001b[0;31m         allow_unreachable=True, accumulate_grad=True)  # Calls into the C++ engine to run the backward pass\n\u001b[0m\u001b[1;32m    176\u001b[0m \u001b[0;34m\u001b[0m\u001b[0m\n\u001b[1;32m    177\u001b[0m def grad(\n",
            "\u001b[0;31mRuntimeError\u001b[0m: Found dtype Int but expected Float"
          ]
        }
      ],
      "source": [
        "learn.fit_one_cycle(100, 0.0002)"
      ]
    },
    {
      "cell_type": "markdown",
      "metadata": {
        "id": "Vw5LWsJ08f41"
      },
      "source": [
        "We can use our `r_mse` function to compare the result to the random forest result we got earlier:"
      ]
    },
    {
      "cell_type": "code",
      "execution_count": 100,
      "metadata": {
        "colab": {
          "base_uri": "https://localhost:8080/",
          "height": 34
        },
        "id": "0PyQMMX08f41",
        "outputId": "a16eca69-9fae-41e1-80b9-f0c9fa50f805"
      },
      "outputs": [
        {
          "output_type": "display_data",
          "data": {
            "text/plain": [
              "<IPython.core.display.HTML object>"
            ],
            "text/html": [
              "\n",
              "<style>\n",
              "    /* Turns off some styling */\n",
              "    progress {\n",
              "        /* gets rid of default border in Firefox and Opera. */\n",
              "        border: none;\n",
              "        /* Needs to be in here for Safari polyfill so background images work as expected. */\n",
              "        background-size: auto;\n",
              "    }\n",
              "    .progress-bar-interrupted, .progress-bar-interrupted::-webkit-progress-bar {\n",
              "        background: #F44336;\n",
              "    }\n",
              "</style>\n"
            ]
          },
          "metadata": {}
        },
        {
          "output_type": "display_data",
          "data": {
            "text/plain": [
              "<IPython.core.display.HTML object>"
            ],
            "text/html": [
              ""
            ]
          },
          "metadata": {}
        },
        {
          "output_type": "execute_result",
          "data": {
            "text/plain": [
              "0.158018"
            ]
          },
          "metadata": {},
          "execution_count": 100
        }
      ],
      "source": [
        "preds,targs = learn.get_preds()\n",
        "r_mse(preds,targs)"
      ]
    },
    {
      "cell_type": "code",
      "source": [
        "df_nn_final[cat_nn].nunique()"
      ],
      "metadata": {
        "colab": {
          "base_uri": "https://localhost:8080/"
        },
        "id": "eTuowyYaYbl0",
        "outputId": "29504611-db14-4701-aa18-803e141c3220"
      },
      "execution_count": 143,
      "outputs": [
        {
          "output_type": "execute_result",
          "data": {
            "text/plain": [
              "KitchenQual      4\n",
              "GarageCars       5\n",
              "ExterQual        4\n",
              "FullBath         4\n",
              "FireplaceQu      5\n",
              "CentralAir       2\n",
              "GarageType       6\n",
              "Neighborhood    25\n",
              "dtype: int64"
            ]
          },
          "metadata": {},
          "execution_count": 143
        }
      ]
    },
    {
      "cell_type": "code",
      "source": [
        "learn.model.embeds[2].weight"
      ],
      "metadata": {
        "colab": {
          "base_uri": "https://localhost:8080/"
        },
        "id": "OQEf4EYHYmV0",
        "outputId": "b15ed8a2-4df2-472e-cd74-d6ad0d95f755"
      },
      "execution_count": 168,
      "outputs": [
        {
          "output_type": "execute_result",
          "data": {
            "text/plain": [
              "Parameter containing:\n",
              "tensor([[-0.0051, -0.0092,  0.0047,  0.0188],\n",
              "        [ 0.0288, -0.0087, -0.0257, -0.0310],\n",
              "        [-0.0209,  0.0300,  0.0189, -0.0217],\n",
              "        [-0.0051, -0.0140, -0.0074,  0.0375],\n",
              "        [-0.0050, -0.0137, -0.0058, -0.0148]], requires_grad=True)"
            ]
          },
          "metadata": {},
          "execution_count": 168
        }
      ]
    },
    {
      "cell_type": "code",
      "source": [
        "learn.model"
      ],
      "metadata": {
        "colab": {
          "base_uri": "https://localhost:8080/"
        },
        "id": "29YAsAToX7SA",
        "outputId": "63b0c29a-c451-46f1-8dff-7b1ac6a7eddf"
      },
      "execution_count": 128,
      "outputs": [
        {
          "output_type": "execute_result",
          "data": {
            "text/plain": [
              "TabularModel(\n",
              "  (embeds): ModuleList(\n",
              "    (0): Embedding(6, 4)\n",
              "    (1): Embedding(6, 4)\n",
              "    (2): Embedding(5, 4)\n",
              "    (3): Embedding(5, 4)\n",
              "    (4): Embedding(6, 4)\n",
              "    (5): Embedding(3, 3)\n",
              "    (6): Embedding(7, 5)\n",
              "    (7): Embedding(26, 10)\n",
              "  )\n",
              "  (emb_drop): Dropout(p=0.0, inplace=False)\n",
              "  (bn_cont): BatchNorm1d(5, eps=1e-05, momentum=0.1, affine=True, track_running_stats=True)\n",
              "  (layers): Sequential(\n",
              "    (0): LinBnDrop(\n",
              "      (0): Linear(in_features=43, out_features=500, bias=False)\n",
              "      (1): ReLU(inplace=True)\n",
              "      (2): BatchNorm1d(500, eps=1e-05, momentum=0.1, affine=True, track_running_stats=True)\n",
              "    )\n",
              "    (1): LinBnDrop(\n",
              "      (0): Linear(in_features=500, out_features=250, bias=False)\n",
              "      (1): ReLU(inplace=True)\n",
              "      (2): BatchNorm1d(250, eps=1e-05, momentum=0.1, affine=True, track_running_stats=True)\n",
              "    )\n",
              "    (2): LinBnDrop(\n",
              "      (0): Linear(in_features=250, out_features=1, bias=True)\n",
              "    )\n",
              "    (3): SigmoidRange(low=9, high=14)\n",
              "  )\n",
              ")"
            ]
          },
          "metadata": {},
          "execution_count": 128
        }
      ]
    },
    {
      "cell_type": "markdown",
      "metadata": {
        "id": "otcfflAr8f41"
      },
      "source": [
        "It's a little worse than the random forest (it took longer to train, and it's fussier about hyperparameter tuning).\n",
        "\n",
        "Before we move on, let's save our model in case we want to come back to it again later:"
      ]
    },
    {
      "cell_type": "code",
      "execution_count": 95,
      "metadata": {
        "colab": {
          "base_uri": "https://localhost:8080/"
        },
        "id": "oOQhgCbv8f41",
        "outputId": "e4318efb-ce82-47fb-9945-fee85e3afe38"
      },
      "outputs": [
        {
          "output_type": "execute_result",
          "data": {
            "text/plain": [
              "Path('models/nn.pth')"
            ]
          },
          "metadata": {},
          "execution_count": 95
        }
      ],
      "source": [
        "learn.save('nn')"
      ]
    },
    {
      "cell_type": "markdown",
      "metadata": {
        "id": "7y2kqKT68f41"
      },
      "source": [
        "### Sidebar: fastai's Tabular Classes"
      ]
    },
    {
      "cell_type": "markdown",
      "metadata": {
        "id": "tygAaAjb8f41"
      },
      "source": [
        "In fastai, a tabular model is simply a model that takes columns of continuous or categorical data, and predicts a category (a classification model) or a continuous value (a regression model). Categorical independent variables are passed through an embedding, and concatenated, as we saw in the neural net we used for collaborative filtering, and then continuous variables are concatenated as well.\n",
        "\n",
        "The model created in `tabular_learner` is an object of class `TabularModel`. Take a look at the source for `tabular_learner` now (remember, that's `tabular_learner??` in Jupyter). You'll see that like `collab_learner`, it first calls `get_emb_sz` to calculate appropriate embedding sizes (you can override these by using the `emb_szs` parameter, which is a dictionary containing any column names you want to set sizes for manually), and it sets a few other defaults. Other than that, it just creates the `TabularModel`, and passes that to `TabularLearner` (note that `TabularLearner` is identical to `Learner`, except for a customized `predict` method).\n",
        "\n",
        "That means that really all the work is happening in `TabularModel`, so take a look at the source for that now. With the exception of the `BatchNorm1d` and `Dropout` layers (which we'll be learning about shortly), you now have the knowledge required to understand this whole class. Take a look at the discussion of `EmbeddingNN` at the end of the last chapter. Recall that it passed `n_cont=0` to `TabularModel`. We now can see why that was: because there are zero continuous variables (in fastai the `n_` prefix means \"number of,\" and `cont` is an abbreviation for \"continuous\")."
      ]
    },
    {
      "cell_type": "markdown",
      "metadata": {
        "id": "DvKAynMh8f41"
      },
      "source": [
        "### End sidebar"
      ]
    },
    {
      "cell_type": "markdown",
      "metadata": {
        "id": "ZYP1JciX8f42"
      },
      "source": [
        "Another thing that can help with generalization is to use several models and average their predictions—a technique, as mentioned earlier, known as *ensembling*."
      ]
    },
    {
      "cell_type": "markdown",
      "metadata": {
        "id": "luqkVtGf8f42"
      },
      "source": [
        "## Ensembling"
      ]
    },
    {
      "cell_type": "markdown",
      "metadata": {
        "id": "goQyF1gW8f42"
      },
      "source": [
        "Think back to the original reasoning behind why random forests work so well: each tree has errors, but those errors are not correlated with each other, so the average of those errors should tend towards zero once there are enough trees. Similar reasoning could be used to consider averaging the predictions of models trained using different algorithms.\n",
        "\n",
        "In our case, we have two very different models, trained using very different algorithms: a random forest, and a neural network. It would be reasonable to expect that the kinds of errors that each one makes would be quite different. Therefore, we might expect that the average of their predictions would be better than either one's individual predictions.\n",
        "\n",
        "As we saw earlier, a random forest is itself an ensemble. But we can then include a random forest in *another* ensemble—an ensemble of the random forest and the neural network! While ensembling won't make the difference between a successful and an unsuccessful modeling process, it can certainly add a nice little boost to any models that you have built.\n",
        "\n",
        "One minor issue we have to be aware of is that our PyTorch model and our sklearn model create data of different types: PyTorch gives us a rank-2 tensor (i.e, a column matrix), whereas NumPy gives us a rank-1 array (a vector). `squeeze` removes any unit axes from a tensor, and `to_np` converts it into a NumPy array:"
      ]
    },
    {
      "cell_type": "code",
      "execution_count": 101,
      "metadata": {
        "id": "qZqW8gGb8f42"
      },
      "outputs": [],
      "source": [
        "rf_preds = m.predict(valid_xs_time)\n",
        "ens_preds = (to_np(preds.squeeze()) + rf_preds) /2"
      ]
    },
    {
      "cell_type": "markdown",
      "metadata": {
        "id": "tLuHUF8-8f42"
      },
      "source": [
        "This gives us a better result than the neural network, but not quite as good as the random forest"
      ]
    },
    {
      "cell_type": "code",
      "execution_count": 102,
      "metadata": {
        "colab": {
          "base_uri": "https://localhost:8080/"
        },
        "id": "PPF34fvA8f42",
        "outputId": "c30da936-5767-40a8-d6f5-2e0e421c630e"
      },
      "outputs": [
        {
          "output_type": "execute_result",
          "data": {
            "text/plain": [
              "0.147095"
            ]
          },
          "metadata": {},
          "execution_count": 102
        }
      ],
      "source": [
        "r_mse(ens_preds,valid_y)"
      ]
    },
    {
      "cell_type": "markdown",
      "metadata": {
        "id": "speyx7Z48f43"
      },
      "source": [
        "One more technique that has gotten great results is to use embeddings learned by a neural net in a machine learning model."
      ]
    },
    {
      "cell_type": "markdown",
      "source": [
        "## Using pretrained embeddings to improve random forest performance\n"
      ],
      "metadata": {
        "id": "qjgkckFGIE2M"
      }
    },
    {
      "cell_type": "code",
      "source": [
        "def embed_features(learner, xs):\n",
        "    xs = xs.copy()\n",
        "    for i, feature in enumerate(learner.dls.cat_names):\n",
        "        emb = learner.model.embeds[i]\n",
        "        new_feat = pd.DataFrame(emb(tensor(xs[feature], dtype=torch.int64)), index=xs.index, columns=[f'{feature}_{j}' for j in range(emb.embedding_dim)])\n",
        "        xs.drop(columns=feature, inplace=True)\n",
        "        xs = xs.join(new_feat)\n",
        "    return xs\n"
      ],
      "metadata": {
        "id": "4_fkxGXuIX8o"
      },
      "execution_count": 103,
      "outputs": []
    },
    {
      "cell_type": "code",
      "source": [
        "cat_features = learn.dls.cat_names\n",
        "\n",
        "def add_embeds(learn, x):\n",
        "    x = x.copy()\n",
        "    for i, cat in enumerate(cat_features):\n",
        "        emb = learn.embeds[i]\n",
        "        vec = tensor(x[cat], dtype=torch.int64) # this is on cpu\n",
        "        emb_data = emb(vec)\n",
        "        emb_names = [f'{cat}_{j}' for j in range(emb_data.shape[1])]\n",
        "        \n",
        "        emb_df = pd.DataFrame(emb_data, index=x.index, columns=emb_names)\n",
        "        x = x.drop(columns=cat)\n",
        "        x = x.join(emb_df)\n",
        "    return x\n",
        "\n",
        "add_embeds(learn,to_nn.train.xs)"
      ],
      "metadata": {
        "colab": {
          "base_uri": "https://localhost:8080/",
          "height": 487
        },
        "id": "_xHZgd8uwduV",
        "outputId": "dc661501-1d5b-42ce-b0ea-908b9a0df5b8"
      },
      "execution_count": 175,
      "outputs": [
        {
          "output_type": "execute_result",
          "data": {
            "text/plain": [
              "      OverallQual  YearBuilt  2ndFlrSF  YearRemodAdd  OverallCond  \\\n",
              "1172     0.667364   1.167567  0.651045      1.089895    -0.524847   \n",
              "1313     2.101553   0.939177  1.923082      0.705376    -0.524847   \n",
              "1327    -0.766824   0.384515 -0.789215      1.137959     3.044417   \n",
              "29      -1.483918  -1.409980 -0.789215     -1.649800     0.367469   \n",
              "397     -0.766824  -0.268029  1.367718     -1.073022    -0.524847   \n",
              "...           ...        ...       ...           ...          ...   \n",
              "391     -0.049730   1.004431  1.876994      0.849570    -0.524847   \n",
              "1251     0.667364   1.069685 -0.789215      0.897635    -0.524847   \n",
              "1201     0.667364   0.906549  1.314716      0.657311    -0.524847   \n",
              "737      1.384458   1.134940  1.284759      0.993765    -0.524847   \n",
              "241     -0.766824  -0.822691 -0.789215      0.609246     3.044417   \n",
              "\n",
              "      KitchenQual_0  KitchenQual_1  KitchenQual_2  KitchenQual_3  \\\n",
              "1172      -0.020675       0.004947       0.003771       0.022406   \n",
              "1313      -0.020675       0.004947       0.003771       0.022406   \n",
              "1327      -0.020675       0.004947       0.003771       0.022406   \n",
              "29        -0.021478       0.003020      -0.026639      -0.027060   \n",
              "397        0.021701      -0.018578       0.022015      -0.018567   \n",
              "...             ...            ...            ...            ...   \n",
              "391       -0.020675       0.004947       0.003771       0.022406   \n",
              "1251      -0.020675       0.004947       0.003771       0.022406   \n",
              "1201      -0.020675       0.004947       0.003771       0.022406   \n",
              "737       -0.020675       0.004947       0.003771       0.022406   \n",
              "241       -0.020675       0.004947       0.003771       0.022406   \n",
              "\n",
              "      GarageCars_0  GarageCars_1  GarageCars_2  GarageCars_3  ExterQual_0  \\\n",
              "1172     -0.011830      0.015170     -0.008481      0.001898    -0.005065   \n",
              "1313     -0.024074     -0.038387     -0.010121      0.050158    -0.005065   \n",
              "1327      0.019136      0.001752     -0.004699     -0.028124    -0.005065   \n",
              "29        0.019136      0.001752     -0.004699     -0.028124    -0.005012   \n",
              "397       0.019136      0.001752     -0.004699     -0.028124    -0.005012   \n",
              "...            ...           ...           ...           ...          ...   \n",
              "391      -0.011830      0.015170     -0.008481      0.001898    -0.005012   \n",
              "1251     -0.011830      0.015170     -0.008481      0.001898    -0.005065   \n",
              "1201     -0.011830      0.015170     -0.008481      0.001898    -0.005012   \n",
              "737      -0.024074     -0.038387     -0.010121      0.050158    -0.005065   \n",
              "241       0.035867     -0.026759      0.023680     -0.009560    -0.005012   \n",
              "\n",
              "      ExterQual_1  ExterQual_2  ExterQual_3  FullBath_0  FullBath_1  \\\n",
              "1172    -0.013959    -0.007444     0.037518    0.001109    0.021660   \n",
              "1313    -0.013959    -0.007444     0.037518    0.001109    0.021660   \n",
              "1327    -0.013959    -0.007444     0.037518    0.029767   -0.040519   \n",
              "29      -0.013731    -0.005839    -0.014775    0.029767   -0.040519   \n",
              "397     -0.013731    -0.005839    -0.014775    0.001109    0.021660   \n",
              "...           ...          ...          ...         ...         ...   \n",
              "391     -0.013731    -0.005839    -0.014775    0.001109    0.021660   \n",
              "1251    -0.013959    -0.007444     0.037518    0.001109    0.021660   \n",
              "1201    -0.013731    -0.005839    -0.014775    0.001109    0.021660   \n",
              "737     -0.013959    -0.007444     0.037518    0.001109    0.021660   \n",
              "241     -0.013731    -0.005839    -0.014775    0.029767   -0.040519   \n",
              "\n",
              "      FullBath_2  FullBath_3  FireplaceQu_0  FireplaceQu_1  FireplaceQu_2  \\\n",
              "1172   -0.009696   -0.009364      -0.023780       0.023018       0.005363   \n",
              "1313   -0.009696   -0.009364       0.007902      -0.022404       0.000937   \n",
              "1327   -0.003905    0.018602       0.043561      -0.033398      -0.043373   \n",
              "29     -0.003905    0.018602      -0.023780       0.023018       0.005363   \n",
              "397    -0.009696   -0.009364       0.007902      -0.022404       0.000937   \n",
              "...          ...         ...            ...            ...            ...   \n",
              "391    -0.009696   -0.009364       0.007902      -0.022404       0.000937   \n",
              "1251   -0.009696   -0.009364       0.007325      -0.003950      -0.008213   \n",
              "1201   -0.009696   -0.009364      -0.023780       0.023018       0.005363   \n",
              "737    -0.009696   -0.009364       0.007325      -0.003950      -0.008213   \n",
              "241    -0.003905    0.018602      -0.023780       0.023018       0.005363   \n",
              "\n",
              "      FireplaceQu_3  CentralAir_0  CentralAir_1  CentralAir_2  GarageType_0  \\\n",
              "1172      -0.021402      0.021543      0.015254      0.017468      0.019339   \n",
              "1313       0.010527      0.021543      0.015254      0.017468      0.037512   \n",
              "1327       0.015004      0.021543      0.015254      0.017468      0.000257   \n",
              "29        -0.021402     -0.001128      0.008296     -0.039941      0.019339   \n",
              "397        0.010527      0.021543      0.015254      0.017468      0.000257   \n",
              "...             ...           ...           ...           ...           ...   \n",
              "391        0.010527      0.021543      0.015254      0.017468      0.037512   \n",
              "1251       0.034468      0.021543      0.015254      0.017468      0.000257   \n",
              "1201      -0.021402      0.021543      0.015254      0.017468      0.000257   \n",
              "737        0.034468      0.021543      0.015254      0.017468      0.000257   \n",
              "241       -0.021402      0.021543      0.015254      0.017468      0.004368   \n",
              "\n",
              "      GarageType_1  GarageType_2  GarageType_3  GarageType_4  Neighborhood_0  \\\n",
              "1172      0.024258      0.013771      0.007700      0.008400        0.008248   \n",
              "1313     -0.001856      0.001776     -0.007416     -0.015344       -0.037592   \n",
              "1327     -0.024470      0.014583      0.010054      0.021610       -0.018820   \n",
              "29        0.024258      0.013771      0.007700      0.008400       -0.015513   \n",
              "397      -0.024470      0.014583      0.010054      0.021610       -0.006003   \n",
              "...            ...           ...           ...           ...             ...   \n",
              "391      -0.001856      0.001776     -0.007416     -0.015344       -0.018820   \n",
              "1251     -0.024470      0.014583      0.010054      0.021610        0.010890   \n",
              "1201     -0.024470      0.014583      0.010054      0.021610       -0.003653   \n",
              "737      -0.024470      0.014583      0.010054      0.021610       -0.016369   \n",
              "241       0.015875     -0.030320      0.029792     -0.015607        0.001846   \n",
              "\n",
              "      Neighborhood_1  Neighborhood_2  Neighborhood_3  Neighborhood_4  \\\n",
              "1172        0.005580       -0.006340       -0.011355       -0.008475   \n",
              "1313        0.023530       -0.029410        0.005733        0.019753   \n",
              "1327        0.009992        0.002384       -0.015454        0.006551   \n",
              "29          0.018787       -0.009944       -0.024556        0.004205   \n",
              "397         0.003289       -0.008837        0.009618        0.003078   \n",
              "...              ...             ...             ...             ...   \n",
              "391         0.009992        0.002384       -0.015454        0.006551   \n",
              "1251        0.007062        0.009229        0.020318       -0.005695   \n",
              "1201        0.012453        0.007117       -0.006677        0.010905   \n",
              "737        -0.020264        0.001498       -0.017782       -0.023136   \n",
              "241        -0.016711        0.004563        0.013768       -0.025745   \n",
              "\n",
              "      Neighborhood_5  Neighborhood_6  Neighborhood_7  Neighborhood_8  \\\n",
              "1172        0.012940       -0.001038        0.012098       -0.004543   \n",
              "1313        0.024478       -0.021442       -0.025446        0.002207   \n",
              "1327       -0.013420       -0.018643        0.018203       -0.027359   \n",
              "29         -0.009019       -0.024560       -0.024196       -0.035590   \n",
              "397         0.009374       -0.007511        0.007886       -0.002561   \n",
              "...              ...             ...             ...             ...   \n",
              "391        -0.013420       -0.018643        0.018203       -0.027359   \n",
              "1251        0.000326       -0.007865       -0.009308       -0.005422   \n",
              "1201        0.002160        0.024494        0.002943        0.002505   \n",
              "737        -0.010584        0.025994        0.029697        0.003428   \n",
              "241        -0.030068        0.013651       -0.006540       -0.002277   \n",
              "\n",
              "      Neighborhood_9  \n",
              "1172        0.025718  \n",
              "1313        0.014929  \n",
              "1327       -0.015454  \n",
              "29          0.003651  \n",
              "397        -0.014058  \n",
              "...              ...  \n",
              "391        -0.015454  \n",
              "1251        0.001865  \n",
              "1201       -0.005243  \n",
              "737         0.032008  \n",
              "241         0.009312  \n",
              "\n",
              "[1168 rows x 43 columns]"
            ],
            "text/html": [
              "\n",
              "  <div id=\"df-9dbb0e1d-822e-4369-bd7b-2fd002e818d7\">\n",
              "    <div class=\"colab-df-container\">\n",
              "      <div>\n",
              "<style scoped>\n",
              "    .dataframe tbody tr th:only-of-type {\n",
              "        vertical-align: middle;\n",
              "    }\n",
              "\n",
              "    .dataframe tbody tr th {\n",
              "        vertical-align: top;\n",
              "    }\n",
              "\n",
              "    .dataframe thead th {\n",
              "        text-align: right;\n",
              "    }\n",
              "</style>\n",
              "<table border=\"1\" class=\"dataframe\">\n",
              "  <thead>\n",
              "    <tr style=\"text-align: right;\">\n",
              "      <th></th>\n",
              "      <th>OverallQual</th>\n",
              "      <th>YearBuilt</th>\n",
              "      <th>2ndFlrSF</th>\n",
              "      <th>YearRemodAdd</th>\n",
              "      <th>OverallCond</th>\n",
              "      <th>KitchenQual_0</th>\n",
              "      <th>KitchenQual_1</th>\n",
              "      <th>KitchenQual_2</th>\n",
              "      <th>KitchenQual_3</th>\n",
              "      <th>GarageCars_0</th>\n",
              "      <th>GarageCars_1</th>\n",
              "      <th>GarageCars_2</th>\n",
              "      <th>GarageCars_3</th>\n",
              "      <th>ExterQual_0</th>\n",
              "      <th>ExterQual_1</th>\n",
              "      <th>ExterQual_2</th>\n",
              "      <th>ExterQual_3</th>\n",
              "      <th>FullBath_0</th>\n",
              "      <th>FullBath_1</th>\n",
              "      <th>FullBath_2</th>\n",
              "      <th>FullBath_3</th>\n",
              "      <th>FireplaceQu_0</th>\n",
              "      <th>FireplaceQu_1</th>\n",
              "      <th>FireplaceQu_2</th>\n",
              "      <th>FireplaceQu_3</th>\n",
              "      <th>CentralAir_0</th>\n",
              "      <th>CentralAir_1</th>\n",
              "      <th>CentralAir_2</th>\n",
              "      <th>GarageType_0</th>\n",
              "      <th>GarageType_1</th>\n",
              "      <th>GarageType_2</th>\n",
              "      <th>GarageType_3</th>\n",
              "      <th>GarageType_4</th>\n",
              "      <th>Neighborhood_0</th>\n",
              "      <th>Neighborhood_1</th>\n",
              "      <th>Neighborhood_2</th>\n",
              "      <th>Neighborhood_3</th>\n",
              "      <th>Neighborhood_4</th>\n",
              "      <th>Neighborhood_5</th>\n",
              "      <th>Neighborhood_6</th>\n",
              "      <th>Neighborhood_7</th>\n",
              "      <th>Neighborhood_8</th>\n",
              "      <th>Neighborhood_9</th>\n",
              "    </tr>\n",
              "  </thead>\n",
              "  <tbody>\n",
              "    <tr>\n",
              "      <th>1172</th>\n",
              "      <td>0.667364</td>\n",
              "      <td>1.167567</td>\n",
              "      <td>0.651045</td>\n",
              "      <td>1.089895</td>\n",
              "      <td>-0.524847</td>\n",
              "      <td>-0.020675</td>\n",
              "      <td>0.004947</td>\n",
              "      <td>0.003771</td>\n",
              "      <td>0.022406</td>\n",
              "      <td>-0.011830</td>\n",
              "      <td>0.015170</td>\n",
              "      <td>-0.008481</td>\n",
              "      <td>0.001898</td>\n",
              "      <td>-0.005065</td>\n",
              "      <td>-0.013959</td>\n",
              "      <td>-0.007444</td>\n",
              "      <td>0.037518</td>\n",
              "      <td>0.001109</td>\n",
              "      <td>0.021660</td>\n",
              "      <td>-0.009696</td>\n",
              "      <td>-0.009364</td>\n",
              "      <td>-0.023780</td>\n",
              "      <td>0.023018</td>\n",
              "      <td>0.005363</td>\n",
              "      <td>-0.021402</td>\n",
              "      <td>0.021543</td>\n",
              "      <td>0.015254</td>\n",
              "      <td>0.017468</td>\n",
              "      <td>0.019339</td>\n",
              "      <td>0.024258</td>\n",
              "      <td>0.013771</td>\n",
              "      <td>0.007700</td>\n",
              "      <td>0.008400</td>\n",
              "      <td>0.008248</td>\n",
              "      <td>0.005580</td>\n",
              "      <td>-0.006340</td>\n",
              "      <td>-0.011355</td>\n",
              "      <td>-0.008475</td>\n",
              "      <td>0.012940</td>\n",
              "      <td>-0.001038</td>\n",
              "      <td>0.012098</td>\n",
              "      <td>-0.004543</td>\n",
              "      <td>0.025718</td>\n",
              "    </tr>\n",
              "    <tr>\n",
              "      <th>1313</th>\n",
              "      <td>2.101553</td>\n",
              "      <td>0.939177</td>\n",
              "      <td>1.923082</td>\n",
              "      <td>0.705376</td>\n",
              "      <td>-0.524847</td>\n",
              "      <td>-0.020675</td>\n",
              "      <td>0.004947</td>\n",
              "      <td>0.003771</td>\n",
              "      <td>0.022406</td>\n",
              "      <td>-0.024074</td>\n",
              "      <td>-0.038387</td>\n",
              "      <td>-0.010121</td>\n",
              "      <td>0.050158</td>\n",
              "      <td>-0.005065</td>\n",
              "      <td>-0.013959</td>\n",
              "      <td>-0.007444</td>\n",
              "      <td>0.037518</td>\n",
              "      <td>0.001109</td>\n",
              "      <td>0.021660</td>\n",
              "      <td>-0.009696</td>\n",
              "      <td>-0.009364</td>\n",
              "      <td>0.007902</td>\n",
              "      <td>-0.022404</td>\n",
              "      <td>0.000937</td>\n",
              "      <td>0.010527</td>\n",
              "      <td>0.021543</td>\n",
              "      <td>0.015254</td>\n",
              "      <td>0.017468</td>\n",
              "      <td>0.037512</td>\n",
              "      <td>-0.001856</td>\n",
              "      <td>0.001776</td>\n",
              "      <td>-0.007416</td>\n",
              "      <td>-0.015344</td>\n",
              "      <td>-0.037592</td>\n",
              "      <td>0.023530</td>\n",
              "      <td>-0.029410</td>\n",
              "      <td>0.005733</td>\n",
              "      <td>0.019753</td>\n",
              "      <td>0.024478</td>\n",
              "      <td>-0.021442</td>\n",
              "      <td>-0.025446</td>\n",
              "      <td>0.002207</td>\n",
              "      <td>0.014929</td>\n",
              "    </tr>\n",
              "    <tr>\n",
              "      <th>1327</th>\n",
              "      <td>-0.766824</td>\n",
              "      <td>0.384515</td>\n",
              "      <td>-0.789215</td>\n",
              "      <td>1.137959</td>\n",
              "      <td>3.044417</td>\n",
              "      <td>-0.020675</td>\n",
              "      <td>0.004947</td>\n",
              "      <td>0.003771</td>\n",
              "      <td>0.022406</td>\n",
              "      <td>0.019136</td>\n",
              "      <td>0.001752</td>\n",
              "      <td>-0.004699</td>\n",
              "      <td>-0.028124</td>\n",
              "      <td>-0.005065</td>\n",
              "      <td>-0.013959</td>\n",
              "      <td>-0.007444</td>\n",
              "      <td>0.037518</td>\n",
              "      <td>0.029767</td>\n",
              "      <td>-0.040519</td>\n",
              "      <td>-0.003905</td>\n",
              "      <td>0.018602</td>\n",
              "      <td>0.043561</td>\n",
              "      <td>-0.033398</td>\n",
              "      <td>-0.043373</td>\n",
              "      <td>0.015004</td>\n",
              "      <td>0.021543</td>\n",
              "      <td>0.015254</td>\n",
              "      <td>0.017468</td>\n",
              "      <td>0.000257</td>\n",
              "      <td>-0.024470</td>\n",
              "      <td>0.014583</td>\n",
              "      <td>0.010054</td>\n",
              "      <td>0.021610</td>\n",
              "      <td>-0.018820</td>\n",
              "      <td>0.009992</td>\n",
              "      <td>0.002384</td>\n",
              "      <td>-0.015454</td>\n",
              "      <td>0.006551</td>\n",
              "      <td>-0.013420</td>\n",
              "      <td>-0.018643</td>\n",
              "      <td>0.018203</td>\n",
              "      <td>-0.027359</td>\n",
              "      <td>-0.015454</td>\n",
              "    </tr>\n",
              "    <tr>\n",
              "      <th>29</th>\n",
              "      <td>-1.483918</td>\n",
              "      <td>-1.409980</td>\n",
              "      <td>-0.789215</td>\n",
              "      <td>-1.649800</td>\n",
              "      <td>0.367469</td>\n",
              "      <td>-0.021478</td>\n",
              "      <td>0.003020</td>\n",
              "      <td>-0.026639</td>\n",
              "      <td>-0.027060</td>\n",
              "      <td>0.019136</td>\n",
              "      <td>0.001752</td>\n",
              "      <td>-0.004699</td>\n",
              "      <td>-0.028124</td>\n",
              "      <td>-0.005012</td>\n",
              "      <td>-0.013731</td>\n",
              "      <td>-0.005839</td>\n",
              "      <td>-0.014775</td>\n",
              "      <td>0.029767</td>\n",
              "      <td>-0.040519</td>\n",
              "      <td>-0.003905</td>\n",
              "      <td>0.018602</td>\n",
              "      <td>-0.023780</td>\n",
              "      <td>0.023018</td>\n",
              "      <td>0.005363</td>\n",
              "      <td>-0.021402</td>\n",
              "      <td>-0.001128</td>\n",
              "      <td>0.008296</td>\n",
              "      <td>-0.039941</td>\n",
              "      <td>0.019339</td>\n",
              "      <td>0.024258</td>\n",
              "      <td>0.013771</td>\n",
              "      <td>0.007700</td>\n",
              "      <td>0.008400</td>\n",
              "      <td>-0.015513</td>\n",
              "      <td>0.018787</td>\n",
              "      <td>-0.009944</td>\n",
              "      <td>-0.024556</td>\n",
              "      <td>0.004205</td>\n",
              "      <td>-0.009019</td>\n",
              "      <td>-0.024560</td>\n",
              "      <td>-0.024196</td>\n",
              "      <td>-0.035590</td>\n",
              "      <td>0.003651</td>\n",
              "    </tr>\n",
              "    <tr>\n",
              "      <th>397</th>\n",
              "      <td>-0.766824</td>\n",
              "      <td>-0.268029</td>\n",
              "      <td>1.367718</td>\n",
              "      <td>-1.073022</td>\n",
              "      <td>-0.524847</td>\n",
              "      <td>0.021701</td>\n",
              "      <td>-0.018578</td>\n",
              "      <td>0.022015</td>\n",
              "      <td>-0.018567</td>\n",
              "      <td>0.019136</td>\n",
              "      <td>0.001752</td>\n",
              "      <td>-0.004699</td>\n",
              "      <td>-0.028124</td>\n",
              "      <td>-0.005012</td>\n",
              "      <td>-0.013731</td>\n",
              "      <td>-0.005839</td>\n",
              "      <td>-0.014775</td>\n",
              "      <td>0.001109</td>\n",
              "      <td>0.021660</td>\n",
              "      <td>-0.009696</td>\n",
              "      <td>-0.009364</td>\n",
              "      <td>0.007902</td>\n",
              "      <td>-0.022404</td>\n",
              "      <td>0.000937</td>\n",
              "      <td>0.010527</td>\n",
              "      <td>0.021543</td>\n",
              "      <td>0.015254</td>\n",
              "      <td>0.017468</td>\n",
              "      <td>0.000257</td>\n",
              "      <td>-0.024470</td>\n",
              "      <td>0.014583</td>\n",
              "      <td>0.010054</td>\n",
              "      <td>0.021610</td>\n",
              "      <td>-0.006003</td>\n",
              "      <td>0.003289</td>\n",
              "      <td>-0.008837</td>\n",
              "      <td>0.009618</td>\n",
              "      <td>0.003078</td>\n",
              "      <td>0.009374</td>\n",
              "      <td>-0.007511</td>\n",
              "      <td>0.007886</td>\n",
              "      <td>-0.002561</td>\n",
              "      <td>-0.014058</td>\n",
              "    </tr>\n",
              "    <tr>\n",
              "      <th>...</th>\n",
              "      <td>...</td>\n",
              "      <td>...</td>\n",
              "      <td>...</td>\n",
              "      <td>...</td>\n",
              "      <td>...</td>\n",
              "      <td>...</td>\n",
              "      <td>...</td>\n",
              "      <td>...</td>\n",
              "      <td>...</td>\n",
              "      <td>...</td>\n",
              "      <td>...</td>\n",
              "      <td>...</td>\n",
              "      <td>...</td>\n",
              "      <td>...</td>\n",
              "      <td>...</td>\n",
              "      <td>...</td>\n",
              "      <td>...</td>\n",
              "      <td>...</td>\n",
              "      <td>...</td>\n",
              "      <td>...</td>\n",
              "      <td>...</td>\n",
              "      <td>...</td>\n",
              "      <td>...</td>\n",
              "      <td>...</td>\n",
              "      <td>...</td>\n",
              "      <td>...</td>\n",
              "      <td>...</td>\n",
              "      <td>...</td>\n",
              "      <td>...</td>\n",
              "      <td>...</td>\n",
              "      <td>...</td>\n",
              "      <td>...</td>\n",
              "      <td>...</td>\n",
              "      <td>...</td>\n",
              "      <td>...</td>\n",
              "      <td>...</td>\n",
              "      <td>...</td>\n",
              "      <td>...</td>\n",
              "      <td>...</td>\n",
              "      <td>...</td>\n",
              "      <td>...</td>\n",
              "      <td>...</td>\n",
              "      <td>...</td>\n",
              "    </tr>\n",
              "    <tr>\n",
              "      <th>391</th>\n",
              "      <td>-0.049730</td>\n",
              "      <td>1.004431</td>\n",
              "      <td>1.876994</td>\n",
              "      <td>0.849570</td>\n",
              "      <td>-0.524847</td>\n",
              "      <td>-0.020675</td>\n",
              "      <td>0.004947</td>\n",
              "      <td>0.003771</td>\n",
              "      <td>0.022406</td>\n",
              "      <td>-0.011830</td>\n",
              "      <td>0.015170</td>\n",
              "      <td>-0.008481</td>\n",
              "      <td>0.001898</td>\n",
              "      <td>-0.005012</td>\n",
              "      <td>-0.013731</td>\n",
              "      <td>-0.005839</td>\n",
              "      <td>-0.014775</td>\n",
              "      <td>0.001109</td>\n",
              "      <td>0.021660</td>\n",
              "      <td>-0.009696</td>\n",
              "      <td>-0.009364</td>\n",
              "      <td>0.007902</td>\n",
              "      <td>-0.022404</td>\n",
              "      <td>0.000937</td>\n",
              "      <td>0.010527</td>\n",
              "      <td>0.021543</td>\n",
              "      <td>0.015254</td>\n",
              "      <td>0.017468</td>\n",
              "      <td>0.037512</td>\n",
              "      <td>-0.001856</td>\n",
              "      <td>0.001776</td>\n",
              "      <td>-0.007416</td>\n",
              "      <td>-0.015344</td>\n",
              "      <td>-0.018820</td>\n",
              "      <td>0.009992</td>\n",
              "      <td>0.002384</td>\n",
              "      <td>-0.015454</td>\n",
              "      <td>0.006551</td>\n",
              "      <td>-0.013420</td>\n",
              "      <td>-0.018643</td>\n",
              "      <td>0.018203</td>\n",
              "      <td>-0.027359</td>\n",
              "      <td>-0.015454</td>\n",
              "    </tr>\n",
              "    <tr>\n",
              "      <th>1251</th>\n",
              "      <td>0.667364</td>\n",
              "      <td>1.069685</td>\n",
              "      <td>-0.789215</td>\n",
              "      <td>0.897635</td>\n",
              "      <td>-0.524847</td>\n",
              "      <td>-0.020675</td>\n",
              "      <td>0.004947</td>\n",
              "      <td>0.003771</td>\n",
              "      <td>0.022406</td>\n",
              "      <td>-0.011830</td>\n",
              "      <td>0.015170</td>\n",
              "      <td>-0.008481</td>\n",
              "      <td>0.001898</td>\n",
              "      <td>-0.005065</td>\n",
              "      <td>-0.013959</td>\n",
              "      <td>-0.007444</td>\n",
              "      <td>0.037518</td>\n",
              "      <td>0.001109</td>\n",
              "      <td>0.021660</td>\n",
              "      <td>-0.009696</td>\n",
              "      <td>-0.009364</td>\n",
              "      <td>0.007325</td>\n",
              "      <td>-0.003950</td>\n",
              "      <td>-0.008213</td>\n",
              "      <td>0.034468</td>\n",
              "      <td>0.021543</td>\n",
              "      <td>0.015254</td>\n",
              "      <td>0.017468</td>\n",
              "      <td>0.000257</td>\n",
              "      <td>-0.024470</td>\n",
              "      <td>0.014583</td>\n",
              "      <td>0.010054</td>\n",
              "      <td>0.021610</td>\n",
              "      <td>0.010890</td>\n",
              "      <td>0.007062</td>\n",
              "      <td>0.009229</td>\n",
              "      <td>0.020318</td>\n",
              "      <td>-0.005695</td>\n",
              "      <td>0.000326</td>\n",
              "      <td>-0.007865</td>\n",
              "      <td>-0.009308</td>\n",
              "      <td>-0.005422</td>\n",
              "      <td>0.001865</td>\n",
              "    </tr>\n",
              "    <tr>\n",
              "      <th>1201</th>\n",
              "      <td>0.667364</td>\n",
              "      <td>0.906549</td>\n",
              "      <td>1.314716</td>\n",
              "      <td>0.657311</td>\n",
              "      <td>-0.524847</td>\n",
              "      <td>-0.020675</td>\n",
              "      <td>0.004947</td>\n",
              "      <td>0.003771</td>\n",
              "      <td>0.022406</td>\n",
              "      <td>-0.011830</td>\n",
              "      <td>0.015170</td>\n",
              "      <td>-0.008481</td>\n",
              "      <td>0.001898</td>\n",
              "      <td>-0.005012</td>\n",
              "      <td>-0.013731</td>\n",
              "      <td>-0.005839</td>\n",
              "      <td>-0.014775</td>\n",
              "      <td>0.001109</td>\n",
              "      <td>0.021660</td>\n",
              "      <td>-0.009696</td>\n",
              "      <td>-0.009364</td>\n",
              "      <td>-0.023780</td>\n",
              "      <td>0.023018</td>\n",
              "      <td>0.005363</td>\n",
              "      <td>-0.021402</td>\n",
              "      <td>0.021543</td>\n",
              "      <td>0.015254</td>\n",
              "      <td>0.017468</td>\n",
              "      <td>0.000257</td>\n",
              "      <td>-0.024470</td>\n",
              "      <td>0.014583</td>\n",
              "      <td>0.010054</td>\n",
              "      <td>0.021610</td>\n",
              "      <td>-0.003653</td>\n",
              "      <td>0.012453</td>\n",
              "      <td>0.007117</td>\n",
              "      <td>-0.006677</td>\n",
              "      <td>0.010905</td>\n",
              "      <td>0.002160</td>\n",
              "      <td>0.024494</td>\n",
              "      <td>0.002943</td>\n",
              "      <td>0.002505</td>\n",
              "      <td>-0.005243</td>\n",
              "    </tr>\n",
              "    <tr>\n",
              "      <th>737</th>\n",
              "      <td>1.384458</td>\n",
              "      <td>1.134940</td>\n",
              "      <td>1.284759</td>\n",
              "      <td>0.993765</td>\n",
              "      <td>-0.524847</td>\n",
              "      <td>-0.020675</td>\n",
              "      <td>0.004947</td>\n",
              "      <td>0.003771</td>\n",
              "      <td>0.022406</td>\n",
              "      <td>-0.024074</td>\n",
              "      <td>-0.038387</td>\n",
              "      <td>-0.010121</td>\n",
              "      <td>0.050158</td>\n",
              "      <td>-0.005065</td>\n",
              "      <td>-0.013959</td>\n",
              "      <td>-0.007444</td>\n",
              "      <td>0.037518</td>\n",
              "      <td>0.001109</td>\n",
              "      <td>0.021660</td>\n",
              "      <td>-0.009696</td>\n",
              "      <td>-0.009364</td>\n",
              "      <td>0.007325</td>\n",
              "      <td>-0.003950</td>\n",
              "      <td>-0.008213</td>\n",
              "      <td>0.034468</td>\n",
              "      <td>0.021543</td>\n",
              "      <td>0.015254</td>\n",
              "      <td>0.017468</td>\n",
              "      <td>0.000257</td>\n",
              "      <td>-0.024470</td>\n",
              "      <td>0.014583</td>\n",
              "      <td>0.010054</td>\n",
              "      <td>0.021610</td>\n",
              "      <td>-0.016369</td>\n",
              "      <td>-0.020264</td>\n",
              "      <td>0.001498</td>\n",
              "      <td>-0.017782</td>\n",
              "      <td>-0.023136</td>\n",
              "      <td>-0.010584</td>\n",
              "      <td>0.025994</td>\n",
              "      <td>0.029697</td>\n",
              "      <td>0.003428</td>\n",
              "      <td>0.032008</td>\n",
              "    </tr>\n",
              "    <tr>\n",
              "      <th>241</th>\n",
              "      <td>-0.766824</td>\n",
              "      <td>-0.822691</td>\n",
              "      <td>-0.789215</td>\n",
              "      <td>0.609246</td>\n",
              "      <td>3.044417</td>\n",
              "      <td>-0.020675</td>\n",
              "      <td>0.004947</td>\n",
              "      <td>0.003771</td>\n",
              "      <td>0.022406</td>\n",
              "      <td>0.035867</td>\n",
              "      <td>-0.026759</td>\n",
              "      <td>0.023680</td>\n",
              "      <td>-0.009560</td>\n",
              "      <td>-0.005012</td>\n",
              "      <td>-0.013731</td>\n",
              "      <td>-0.005839</td>\n",
              "      <td>-0.014775</td>\n",
              "      <td>0.029767</td>\n",
              "      <td>-0.040519</td>\n",
              "      <td>-0.003905</td>\n",
              "      <td>0.018602</td>\n",
              "      <td>-0.023780</td>\n",
              "      <td>0.023018</td>\n",
              "      <td>0.005363</td>\n",
              "      <td>-0.021402</td>\n",
              "      <td>0.021543</td>\n",
              "      <td>0.015254</td>\n",
              "      <td>0.017468</td>\n",
              "      <td>0.004368</td>\n",
              "      <td>0.015875</td>\n",
              "      <td>-0.030320</td>\n",
              "      <td>0.029792</td>\n",
              "      <td>-0.015607</td>\n",
              "      <td>0.001846</td>\n",
              "      <td>-0.016711</td>\n",
              "      <td>0.004563</td>\n",
              "      <td>0.013768</td>\n",
              "      <td>-0.025745</td>\n",
              "      <td>-0.030068</td>\n",
              "      <td>0.013651</td>\n",
              "      <td>-0.006540</td>\n",
              "      <td>-0.002277</td>\n",
              "      <td>0.009312</td>\n",
              "    </tr>\n",
              "  </tbody>\n",
              "</table>\n",
              "<p>1168 rows × 43 columns</p>\n",
              "</div>\n",
              "      <button class=\"colab-df-convert\" onclick=\"convertToInteractive('df-9dbb0e1d-822e-4369-bd7b-2fd002e818d7')\"\n",
              "              title=\"Convert this dataframe to an interactive table.\"\n",
              "              style=\"display:none;\">\n",
              "        \n",
              "  <svg xmlns=\"http://www.w3.org/2000/svg\" height=\"24px\"viewBox=\"0 0 24 24\"\n",
              "       width=\"24px\">\n",
              "    <path d=\"M0 0h24v24H0V0z\" fill=\"none\"/>\n",
              "    <path d=\"M18.56 5.44l.94 2.06.94-2.06 2.06-.94-2.06-.94-.94-2.06-.94 2.06-2.06.94zm-11 1L8.5 8.5l.94-2.06 2.06-.94-2.06-.94L8.5 2.5l-.94 2.06-2.06.94zm10 10l.94 2.06.94-2.06 2.06-.94-2.06-.94-.94-2.06-.94 2.06-2.06.94z\"/><path d=\"M17.41 7.96l-1.37-1.37c-.4-.4-.92-.59-1.43-.59-.52 0-1.04.2-1.43.59L10.3 9.45l-7.72 7.72c-.78.78-.78 2.05 0 2.83L4 21.41c.39.39.9.59 1.41.59.51 0 1.02-.2 1.41-.59l7.78-7.78 2.81-2.81c.8-.78.8-2.07 0-2.86zM5.41 20L4 18.59l7.72-7.72 1.47 1.35L5.41 20z\"/>\n",
              "  </svg>\n",
              "      </button>\n",
              "      \n",
              "  <style>\n",
              "    .colab-df-container {\n",
              "      display:flex;\n",
              "      flex-wrap:wrap;\n",
              "      gap: 12px;\n",
              "    }\n",
              "\n",
              "    .colab-df-convert {\n",
              "      background-color: #E8F0FE;\n",
              "      border: none;\n",
              "      border-radius: 50%;\n",
              "      cursor: pointer;\n",
              "      display: none;\n",
              "      fill: #1967D2;\n",
              "      height: 32px;\n",
              "      padding: 0 0 0 0;\n",
              "      width: 32px;\n",
              "    }\n",
              "\n",
              "    .colab-df-convert:hover {\n",
              "      background-color: #E2EBFA;\n",
              "      box-shadow: 0px 1px 2px rgba(60, 64, 67, 0.3), 0px 1px 3px 1px rgba(60, 64, 67, 0.15);\n",
              "      fill: #174EA6;\n",
              "    }\n",
              "\n",
              "    [theme=dark] .colab-df-convert {\n",
              "      background-color: #3B4455;\n",
              "      fill: #D2E3FC;\n",
              "    }\n",
              "\n",
              "    [theme=dark] .colab-df-convert:hover {\n",
              "      background-color: #434B5C;\n",
              "      box-shadow: 0px 1px 3px 1px rgba(0, 0, 0, 0.15);\n",
              "      filter: drop-shadow(0px 1px 2px rgba(0, 0, 0, 0.3));\n",
              "      fill: #FFFFFF;\n",
              "    }\n",
              "  </style>\n",
              "\n",
              "      <script>\n",
              "        const buttonEl =\n",
              "          document.querySelector('#df-9dbb0e1d-822e-4369-bd7b-2fd002e818d7 button.colab-df-convert');\n",
              "        buttonEl.style.display =\n",
              "          google.colab.kernel.accessAllowed ? 'block' : 'none';\n",
              "\n",
              "        async function convertToInteractive(key) {\n",
              "          const element = document.querySelector('#df-9dbb0e1d-822e-4369-bd7b-2fd002e818d7');\n",
              "          const dataTable =\n",
              "            await google.colab.kernel.invokeFunction('convertToInteractive',\n",
              "                                                     [key], {});\n",
              "          if (!dataTable) return;\n",
              "\n",
              "          const docLinkHtml = 'Like what you see? Visit the ' +\n",
              "            '<a target=\"_blank\" href=https://colab.research.google.com/notebooks/data_table.ipynb>data table notebook</a>'\n",
              "            + ' to learn more about interactive tables.';\n",
              "          element.innerHTML = '';\n",
              "          dataTable['output_type'] = 'display_data';\n",
              "          await google.colab.output.renderOutput(dataTable, element);\n",
              "          const docLink = document.createElement('div');\n",
              "          docLink.innerHTML = docLinkHtml;\n",
              "          element.appendChild(docLink);\n",
              "        }\n",
              "      </script>\n",
              "    </div>\n",
              "  </div>\n",
              "  "
            ]
          },
          "metadata": {},
          "execution_count": 175
        }
      ]
    },
    {
      "cell_type": "code",
      "source": [
        "emb_xs = embed_features(learn, to_nn.train.xs)\n",
        "emb_valid_xs = embed_features(learn, to_nn.valid.xs)"
      ],
      "metadata": {
        "id": "RIREqydPIagL"
      },
      "execution_count": 105,
      "outputs": []
    },
    {
      "cell_type": "code",
      "source": [
        "m = rf(emb_xs , y)\n",
        "m_rmse(m, emb_valid_xs, valid_y)"
      ],
      "metadata": {
        "colab": {
          "base_uri": "https://localhost:8080/"
        },
        "id": "VrP6KawSItpc",
        "outputId": "1957d354-6ff6-4506-dedf-746740a35a08"
      },
      "execution_count": 107,
      "outputs": [
        {
          "output_type": "execute_result",
          "data": {
            "text/plain": [
              "0.150387"
            ]
          },
          "metadata": {},
          "execution_count": 107
        }
      ]
    },
    {
      "cell_type": "code",
      "source": [
        "m = rf(to_nn.train.xs , y)\n",
        "m_rmse(m,  to_nn.valid.xs, valid_y)"
      ],
      "metadata": {
        "colab": {
          "base_uri": "https://localhost:8080/"
        },
        "id": "AaqwvY7_xIMY",
        "outputId": "65b61a02-1e0a-4b57-d8cf-1bba9787c873"
      },
      "execution_count": 176,
      "outputs": [
        {
          "output_type": "execute_result",
          "data": {
            "text/plain": [
              "0.159879"
            ]
          },
          "metadata": {},
          "execution_count": 176
        }
      ]
    },
    {
      "cell_type": "markdown",
      "metadata": {
        "id": "jwdSSkmP8f43"
      },
      "source": [
        "### Combining Embeddings with Other Methods"
      ]
    },
    {
      "cell_type": "markdown",
      "metadata": {
        "id": "Ox4ODBY-8f43"
      },
      "source": [
        "The abstract of the entity embedding paper we mentioned at the start of this chapter states: \"the embeddings obtained from the trained neural network boost the performance of all tested machine learning methods considerably when used as the input features instead\". It includes the very interesting table in <<embedding_mixed>>."
      ]
    },
    {
      "cell_type": "markdown",
      "metadata": {
        "hide_input": false,
        "id": "2DdhnX5F8f43"
      },
      "source": [
        "<img alt=\"Embeddings combined with other methods\" width=\"500\" id=\"embedding_mixed\" caption=\"Effects of using neural network embeddings as input to other machine learning methods (courtesy of Cheng Guo and Felix Berkhahn)\" src=\"https://github.com/fastai/fastbook/blob/master/images/att_00054.png?raw=1\">"
      ]
    },
    {
      "cell_type": "markdown",
      "metadata": {
        "id": "wH0vKi7l8f43"
      },
      "source": [
        "This is showing the mean average percent error (MAPE) compared among four different modeling techniques, three of which we have already seen, along with *k*-nearest neighbors (KNN), which is a very simple baseline method. The first numeric column contains the results of using the methods on the data provided in the competition; the second column shows what happens if you first train a neural network with categorical embeddings, and then use those categorical embeddings instead of the raw categorical columns in the model. As you see, in every case, the models are dramatically improved by using the embeddings instead of the raw categories.\n",
        "\n",
        "This is a really important result, because it shows that you can get much of the performance improvement of a neural network without actually having to use a neural network at inference time. You could just use an embedding, which is literally just an array lookup, along with a small decision tree ensemble.\n",
        "\n",
        "These embeddings need not even be necessarily learned separately for each model or task in an organization. Instead, once a set of embeddings are learned for some column for some task, they could be stored in a central place, and reused across multiple models. In fact, we know from private communication with other practitioners at large companies that this is already happening in many places."
      ]
    },
    {
      "cell_type": "markdown",
      "metadata": {
        "id": "AlHJT-p68f43"
      },
      "source": [
        "## Conclusion: Our Advice for Tabular Modeling"
      ]
    },
    {
      "cell_type": "markdown",
      "metadata": {
        "id": "WhFUsPGl8f44"
      },
      "source": [
        "We have dicussed two approaches to tabular modeling: decision tree ensembles and neural networks. We've also mentioned two different decision tree ensembles: random forests, and gradient boosting machines. Each is very effective, but each also has compromises:\n",
        "\n",
        "- *Random forests* are the easiest to train, because they are extremely resilient to hyperparameter choices and require very little preprocessing. They are very fast to train, and should not overfit if you have enough trees. But they can be a little less accurate, especially if extrapolation is required, such as predicting future time periods.\n",
        "\n",
        "- *Gradient boosting machines* in theory are just as fast to train as random forests, but in practice you will have to try lots of different hyperparameters. They can overfit, but they are often a little more accurate than random forests.\n",
        "\n",
        "- *Neural networks* take the longest time to train, and require extra preprocessing, such as normalization; this normalization needs to be used at inference time as well. They can provide great results and extrapolate well, but only if you are careful with your hyperparameters and take care to avoid overfitting.\n",
        "\n",
        "We suggest starting your analysis with a random forest. This will give you a strong baseline, and you can be confident that it's a reasonable starting point. You can then use that model for feature selection and partial dependence analysis, to get a better understanding of your data.\n",
        "\n",
        "From that foundation, you can try neural nets and GBMs, and if they give you significantly better results on your validation set in a reasonable amount of time, you can use them. If decision tree ensembles are working well for you, try adding the embeddings for the categorical variables to the data, and see if that helps your decision trees learn better."
      ]
    },
    {
      "cell_type": "code",
      "source": [
        ""
      ],
      "metadata": {
        "id": "ZAx-KY2oIV1g"
      },
      "execution_count": null,
      "outputs": []
    }
  ],
  "metadata": {
    "kernelspec": {
      "display_name": "Python 3 (ipykernel)",
      "language": "python",
      "name": "python3"
    },
    "colab": {
      "name": "09_tabular.ipynb",
      "provenance": [],
      "include_colab_link": true
    }
  },
  "nbformat": 4,
  "nbformat_minor": 0
}